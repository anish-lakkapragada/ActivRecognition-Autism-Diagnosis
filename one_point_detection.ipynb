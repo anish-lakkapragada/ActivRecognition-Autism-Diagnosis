{
 "metadata": {
  "language_info": {
   "codemirror_mode": {
    "name": "ipython",
    "version": 3
   },
   "file_extension": ".py",
   "mimetype": "text/x-python",
   "name": "python",
   "nbconvert_exporter": "python",
   "pygments_lexer": "ipython3",
   "version": "3.8.3"
  },
  "orig_nbformat": 4,
  "kernelspec": {
   "name": "python3",
   "display_name": "Python 3.8.3 64-bit"
  },
  "interpreter": {
   "hash": "aee8b7b246df8f9039afb4144a1f6fd8d2ca17a180786b69acc140d282b71a49"
  }
 },
 "nbformat": 4,
 "nbformat_minor": 2,
 "cells": [
  {
   "cell_type": "markdown",
   "source": [
    "# We will try tracking the hands with just 1 landmark, which will be a 3 * 2 = 6 length vector for each time step. "
   ],
   "metadata": {}
  },
  {
   "cell_type": "code",
   "execution_count": 1,
   "source": [
    "import cv2, os \n",
    "import numpy as np "
   ],
   "outputs": [],
   "metadata": {}
  },
  {
   "cell_type": "code",
   "execution_count": 2,
   "source": [
    "import mediapipe as mp \n",
    "from PIL import Image as im \n",
    "import mediapipe as mp\n",
    "\n",
    "def hand_locations(frame, min_detection_confidence = 0.5, min_tracking_confidence = 0.5): \n",
    "    \"\"\"Only give the 0th landmark\"\"\"\n",
    "\n",
    "    hands = mp.solutions.hands.Hands(min_detection_confidence=min_detection_confidence, min_tracking_confidence=min_tracking_confidence)  \n",
    "    results = hands.process(frame.astype('uint8'))\n",
    "    X_locations = [0] * 2\n",
    "    Y_locations = [0] * 2\n",
    "    Z_locations = [0] * 2\n",
    "    if results.multi_hand_landmarks:\n",
    "        for hand, hand_landmark in enumerate(results.multi_hand_landmarks):\n",
    "            for i in range(0, 21):\n",
    "                landmark = hand_landmark.landmark[i]\n",
    "                X_locations[hand] = landmark.x\n",
    "                Y_locations[hand] = landmark.y\n",
    "                Z_locations[hand] = landmark.z\n",
    "                break # take only the first landmark\n",
    "            \n",
    "    hands.close()\n",
    "    return np.concatenate([X_locations, Y_locations, Z_locations]) "
   ],
   "outputs": [],
   "metadata": {}
  },
  {
   "cell_type": "code",
   "execution_count": 3,
   "source": [
    "\"\"\"read in all of the frames\"\"\"\n",
    "\n",
    "SECONDS_TO_DETECT = 2 # in seconds\n",
    "\n",
    "import os, cv2\n",
    "from tqdm import tqdm \n",
    "import numpy as np\n",
    "\n",
    "ARMFLAPPING_VIDEOS = []\n",
    "CONTROL_VIDEOS = []\n",
    "ARMFLAPPING_FPS = [] # store the FPS of all armflapping videos \n",
    "CONTROL_FPS = [] # store the FPS of all control videos \n",
    "for video_name in tqdm(os.listdir('behavior_data/manual_armflapping'), desc = \"armflapping_videos\"): \n",
    "    try: \n",
    "        cap = cv2.VideoCapture('behavior_data/manual_armflapping/' + video_name)  \n",
    "        frame_rate = cap.get(cv2.CAP_PROP_FPS)\n",
    "        if cap.get(cv2.CAP_PROP_FRAME_COUNT) / frame_rate < SECONDS_TO_DETECT: continue # too short! \n",
    "\n",
    "        FRAMES = [] # frames for this video \n",
    "\n",
    "        while cap.isOpened(): \n",
    "            _, image = cap.read() \n",
    "            if not _ : \n",
    "                break  \n",
    "            \n",
    "            image = cv2.cvtColor(image, cv2.COLOR_BGR2RGB) # convert to RGB. \n",
    "            FRAMES.append(image) \n",
    "        \n",
    "        ARMFLAPPING_VIDEOS.append(FRAMES)\n",
    "        ARMFLAPPING_FPS.append(frame_rate)\n",
    "    except Exception as e: \n",
    "        print(f\"failed on {video_name}\")\n",
    "\n",
    "for video_name in tqdm(os.listdir('behavior_data/manual_control'), desc = \"control_videos\"): \n",
    "    try: \n",
    "        cap = cv2.VideoCapture('behavior_data/manual_control/' + video_name)  \n",
    "        frame_rate = cap.get(cv2.CAP_PROP_FPS)\n",
    "        if cap.get(cv2.CAP_PROP_FRAME_COUNT) / frame_rate < SECONDS_TO_DETECT: continue # too short! \n",
    "\n",
    "        FRAMES = [] # frames for this video \n",
    "\n",
    "        while cap.isOpened(): \n",
    "            _, image = cap.read() \n",
    "            if not _ : \n",
    "                break \n",
    "            \n",
    "            image = cv2.cvtColor(image, cv2.COLOR_BGR2RGB) # convert to RGB. \n",
    "            FRAMES.append(image)\n",
    "        \n",
    "        CONTROL_VIDEOS.append(FRAMES)\n",
    "        CONTROL_FPS.append(frame_rate)\n",
    "    except Exception as e: \n",
    "        print(f\"failed on {video_name}\")\n",
    "    \n",
    "len(ARMFLAPPING_VIDEOS), len(CONTROL_VIDEOS)"
   ],
   "outputs": [
    {
     "output_type": "stream",
     "name": "stderr",
     "text": [
      "armflapping_videos:  11%|█▏        | 7/61 [00:00<00:04, 12.87it/s]"
     ]
    },
    {
     "output_type": "stream",
     "name": "stdout",
     "text": [
      "failed on .DS_Store\n"
     ]
    },
    {
     "output_type": "stream",
     "name": "stderr",
     "text": [
      "armflapping_videos: 100%|██████████| 61/61 [00:06<00:00,  9.11it/s]\n",
      "control_videos:  28%|██▊       | 11/40 [00:00<00:01, 16.48it/s]"
     ]
    },
    {
     "output_type": "stream",
     "name": "stdout",
     "text": [
      "failed on .DS_Store\n"
     ]
    },
    {
     "output_type": "stream",
     "name": "stderr",
     "text": [
      "control_videos: 100%|██████████| 40/40 [00:04<00:00,  8.46it/s]\n"
     ]
    },
    {
     "output_type": "execute_result",
     "data": {
      "text/plain": [
       "(60, 38)"
      ]
     },
     "metadata": {},
     "execution_count": 3
    }
   ],
   "metadata": {}
  },
  {
   "cell_type": "code",
   "execution_count": 4,
   "source": [
    "# get the locations of all of the videos \n",
    "\n",
    "ARMFLAPPING_LOCATIONS, CONTROL_LOCATIONS = [], []\n",
    "for FRAMES in tqdm(ARMFLAPPING_VIDEOS) :\n",
    "    locs = []\n",
    "    for frame in FRAMES: \n",
    "        locs.append(hand_locations(frame))\n",
    "    ARMFLAPPING_LOCATIONS.append(locs)\n",
    "\n",
    "for FRAMES in tqdm(CONTROL_VIDEOS):  \n",
    "    locs = []\n",
    "    for frame in FRAMES: \n",
    "        locs.append(hand_locations(frame))\n",
    "    CONTROL_LOCATIONS.append(locs)"
   ],
   "outputs": [
    {
     "output_type": "stream",
     "name": "stderr",
     "text": [
      "100%|██████████| 60/60 [03:32<00:00,  3.54s/it]\n",
      "100%|██████████| 38/38 [02:03<00:00,  3.24s/it]\n"
     ]
    }
   ],
   "metadata": {}
  },
  {
   "cell_type": "code",
   "execution_count": 5,
   "source": [
    "N = min([len(locs) for locs in [ARMFLAPPING_LOCATIONS, CONTROL_LOCATIONS]])\n",
    "ARMFLAPPING_LOCATIONS = ARMFLAPPING_LOCATIONS[:N]\n",
    "CONTROL_LOCATIONS = CONTROL_LOCATIONS[:N]\n",
    "ARMFLAPPING_LOCATIONS = np.array(ARMFLAPPING_LOCATIONS)\n",
    "CONTROL_LOCATIONS = np.array(CONTROL_LOCATIONS)\n",
    "\n",
    "# we can create a padding function in order to pad \n",
    "def pad(locations, maxlen = 90, padding = \"post\", truncating = \"post\"): \n",
    "    new_locations = locations.tolist() \n",
    "    empty_row = np.zeros((1, 6))\n",
    "    for i, video in tqdm(enumerate(new_locations)): \n",
    "        if len(video) < maxlen:  \n",
    "            for new_row in range(maxlen - len(video)): \n",
    "                if padding == \"post\": \n",
    "                    new_locations[i] = np.array(new_locations[i])\n",
    "                    new_locations[i] = np.concatenate([new_locations[i], empty_row])\n",
    "                if padding == \"pre\": \n",
    "                    new_locations[i] = np.array(new_locations[i])\n",
    "                    new_locations[i] = np.concatenate([empty_row, new_locations[i]])\n",
    "\n",
    "        if len(video) > maxlen: \n",
    "            if truncating == \"post\": \n",
    "                new_locations[i] = new_locations[i][:maxlen]\n",
    "            elif truncating == \"pre\": \n",
    "                new_locations[i] = new_locations[i][len(video) - maxlen : ]\n",
    "    return np.array(new_locations)\n",
    "\n",
    "padded_armflapping_locations = ARMFLAPPING_LOCATIONS\n",
    "padded_control_locations = CONTROL_LOCATIONS\n",
    "padded_armflapping_locations = pad(padded_armflapping_locations, maxlen = 90)\n",
    "padded_control_locations = pad(padded_control_locations, maxlen = 90)\n",
    "print(padded_control_locations.shape, padded_armflapping_locations.shape)\n",
    "assert padded_armflapping_locations.shape == padded_control_locations.shape "
   ],
   "outputs": [
    {
     "output_type": "stream",
     "name": "stderr",
     "text": [
      "<ipython-input-5-381331460c32>:4: VisibleDeprecationWarning: Creating an ndarray from ragged nested sequences (which is a list-or-tuple of lists-or-tuples-or ndarrays with different lengths or shapes) is deprecated. If you meant to do this, you must specify 'dtype=object' when creating the ndarray\n",
      "  ARMFLAPPING_LOCATIONS = np.array(ARMFLAPPING_LOCATIONS)\n",
      "<ipython-input-5-381331460c32>:5: VisibleDeprecationWarning: Creating an ndarray from ragged nested sequences (which is a list-or-tuple of lists-or-tuples-or ndarrays with different lengths or shapes) is deprecated. If you meant to do this, you must specify 'dtype=object' when creating the ndarray\n",
      "  CONTROL_LOCATIONS = np.array(CONTROL_LOCATIONS)\n",
      "38it [00:00, 20073.50it/s]\n",
      "38it [00:00, 31350.03it/s]"
     ]
    },
    {
     "output_type": "stream",
     "name": "stdout",
     "text": [
      "(38, 90, 6) (38, 90, 6)\n"
     ]
    },
    {
     "output_type": "stream",
     "name": "stderr",
     "text": [
      "\n"
     ]
    }
   ],
   "metadata": {}
  },
  {
   "cell_type": "code",
   "execution_count": 6,
   "source": [
    "from sklearn.model_selection import train_test_split\n",
    "\n",
    "def generate_data(ARMFLAPPING_LOCATIONS, CONTROL_LOCATIONS): \n",
    "    ARMFLAPPING_LABELS = np.ones(ARMFLAPPING_LOCATIONS.shape[0])\n",
    "    CONTROL_LABELS = np.zeros(CONTROL_LOCATIONS.shape[0])\n",
    "    \n",
    "    # concatenate \n",
    "    data = np.concatenate([ARMFLAPPING_LOCATIONS, CONTROL_LOCATIONS])\n",
    "    labels = np.concatenate([ARMFLAPPING_LABELS, CONTROL_LABELS])\n",
    "    \n",
    "    return data, labels \n",
    "X, y = generate_data(padded_armflapping_locations, padded_control_locations)"
   ],
   "outputs": [],
   "metadata": {}
  },
  {
   "cell_type": "code",
   "execution_count": 7,
   "source": [
    "#https://stackoverflow.com/questions/41908379/keras-plot-training-validation-and-test-set-accuracy\n",
    "import matplotlib.pyplot as plt \n",
    "def plot(history, show_pr = False, num = None): \n",
    "    \n",
    "    if num: \n",
    "        plt.plot(history.history['accuracy'], label = \"train_acc\")\n",
    "        plt.plot(history.history['val_accuracy'], label = \"val_acc\")\n",
    "        plt.title('model accuracy')\n",
    "        plt.ylabel('accuracy')\n",
    "        plt.xlabel('epoch')\n",
    "        plt.legend()\n",
    "        plt.show()\n",
    "\n",
    "        if show_pr: \n",
    "            plt.plot(history.history[f'precision_{num}'], label = \"train_precision\")\n",
    "            plt.plot(history.history[f'val_precision_{num}'], label = \"val_precision\")\n",
    "            plt.title('model precision')\n",
    "            plt.ylabel('precision')\n",
    "            plt.xlabel('epoch')\n",
    "            plt.legend()\n",
    "            plt.show()\n",
    "\n",
    "            plt.plot(history.history[f'recall_{num}'], label = \"train_recall\")\n",
    "            plt.plot(history.history[f'val_recall_{num}'], label = \"val_recall\")\n",
    "            plt.title('model recall')\n",
    "            plt.ylabel('recall')\n",
    "            plt.xlabel('epoch')\n",
    "            plt.legend()\n",
    "            plt.show()\n",
    "    else: \n",
    "        plt.plot(history.history['accuracy'], label = \"train_acc\")\n",
    "        plt.plot(history.history['val_accuracy'], label = \"val_acc\")\n",
    "        plt.title('model accuracy')\n",
    "        plt.ylabel('accuracy')\n",
    "        plt.xlabel('epoch')\n",
    "        plt.legend()\n",
    "        plt.show()\n",
    "\n",
    "        if show_pr: \n",
    "            plt.plot(history.history[f'precision'], label = \"train_precision\")\n",
    "            plt.plot(history.history[f'val_precision'], label = \"val_precision\")\n",
    "            plt.title('model precision')\n",
    "            plt.ylabel('precision')\n",
    "            plt.xlabel('epoch')\n",
    "            plt.legend()\n",
    "            plt.show()\n",
    "\n",
    "            plt.plot(history.history[f'recall'], label = \"train_recall\")\n",
    "            plt.plot(history.history[f'val_recall'], label = \"val_recall\")\n",
    "            plt.title('model recall')\n",
    "            plt.ylabel('recall')\n",
    "            plt.xlabel('epoch')\n",
    "            plt.legend()\n",
    "            plt.show()\n",
    "    # let's see whether it can detect me not doing anything \n",
    "\n",
    "def predict_on_video(model, path): \n",
    "    test_frames = []\n",
    "    import cv2 \n",
    "\n",
    "    cap = cv2.VideoCapture(path)\n",
    "\n",
    "    while True: \n",
    "        _, frame = cap.read() \n",
    "        if not _: break \n",
    "\n",
    "        frame = cv2.cvtColor(frame, cv2.COLOR_BGR2RGB)\n",
    "        frame = hand_locations(frame)\n",
    "\n",
    "        test_frames.append(frame)\n",
    "\n",
    "    test_frames = np.array([test_frames])\n",
    "    test_frames = pad(test_frames, maxlen = 90)\n",
    "    \n",
    "    return model.predict(np.array(test_frames))"
   ],
   "outputs": [],
   "metadata": {}
  },
  {
   "cell_type": "code",
   "execution_count": 8,
   "source": [
    "import random \n",
    "import tensorflow as tf \n",
    "tf.config.run_functions_eagerly(True)\n",
    "\n",
    "def _shift(X):\n",
    "        \n",
    "        X = tf.Variable(X, dtype = tf.float32)\n",
    "        \n",
    "        X_locations = X[:, :42] # [100, 42]\n",
    "        Y_locations = X[:, 42:84] # [100, 42]\n",
    "        Z_locations = X[:, 84:] # [100, 42]\n",
    "        \n",
    "        maximum = tf.math.reduce_max(Y_locations)\n",
    "        minimum = tf.math.reduce_min(Y_locations)\n",
    "        if maximum == 2: \n",
    "            # get the second highest \n",
    "            values, _ = tf.nn.top_k(tf.reshape(Y_locations, -1), tf.shape(tf.reshape(X_locations, -1))[0])\n",
    "            try: \n",
    "                values, _ = tf.unique(values)\n",
    "                maximum = values[1]\n",
    "            except Exception as e: \n",
    "                maximum = 0 \n",
    "            \n",
    "        can_move_up = 1 - maximum # the amount it can move up \n",
    "        can_move_down = minimum \n",
    "\n",
    "        if tf.random.uniform((1,)) > 0.5: \n",
    "            #print(\"up\")\n",
    "            # move up in this case \n",
    "            move_up = tf.random.uniform((1,), 0, can_move_up)\n",
    "            X[:, 42:84].assign(X[:,42:84] + move_up)\n",
    "\n",
    "        else: \n",
    "            move_down = tf.random.uniform((1,), 0, can_move_down)\n",
    "            X[:, 42:84].assign(X[:,42:84]-move_down)\n",
    "\n",
    "        maximum = tf.math.reduce_max(X_locations)\n",
    "        minimum = tf.math.reduce_min(X_locations)\n",
    "        \n",
    "        if maximum == 2: \n",
    "            values, _ = tf.nn.top_k(tf.reshape(X_locations, -1), tf.shape(tf.reshape(X_locations, -1))[0])\n",
    "            # create a set. \n",
    "            try: \n",
    "                values, _ = tf.unique(values)\n",
    "                maximum = values[1]\n",
    "            except Exception as e: \n",
    "                maximum = 0 \n",
    "            \n",
    "        can_move_right = 1 - maximum \n",
    "        can_move_left = minimum \n",
    "\n",
    "        if tf.random.uniform((1,)) > 0.5: \n",
    "            #print(\"right\")\n",
    "            # move right\n",
    "            move_right = tf.random.uniform((1,), 0, can_move_right)\n",
    "            X[:, :42].assign(X[:,:42]+move_right)\n",
    "        else: \n",
    "            # move left \n",
    "            move_left = tf.random.uniform((1,), 0, can_move_left)\n",
    "            X[:, :42].assign(X[:,:42]-move_left)\n",
    "\n",
    "        \n",
    "        maximum = tf.math.reduce_max(Z_locations)\n",
    "        minimum = tf.math.reduce_min(Z_locations)\n",
    "        if maximum == 2: \n",
    "            values, _ = tf.nn.top_k(tf.reshape(Z_locations, -1), tf.shape(tf.reshape(X_locations, -1))[0])\n",
    "            try: \n",
    "                values, _ = tf.unique(values)\n",
    "                maximum = values[1]\n",
    "            except Exception as e:  \n",
    "                maximum = 0 \n",
    "        \n",
    "        can_move_far = 1 - maximum \n",
    "        can_move_close = minimum \n",
    "\n",
    "        if tf.random.uniform((1,)) > 0.5: \n",
    "            # move right\n",
    "            move_far = tf.random.uniform((1,), 0, can_move_far)\n",
    "            X[:, 84:].assign(X[:,84:]+move_far)\n",
    "        else: \n",
    "            # move left \n",
    "            move_close = tf.random.uniform((1,), 0, can_move_close)\n",
    "            X[:, 84:].assign(X[:,84:]-move_close)\n",
    "\n",
    "        return X\n",
    "\n",
    "\n",
    "class Augmenter(tf.keras.layers.Layer): \n",
    "    def __init__(self): \n",
    "        super().__init__()\n",
    "        self.trainable = False \n",
    "        self._trainable_weights = [] \n",
    "        self._non_trainable_weights = []\n",
    "        \n",
    "    def call(self, X, training = True):\n",
    "        if training: \n",
    "            X =  tf.map_fn(_shift, X)\n",
    "            return X\n",
    "        else: \n",
    "            return X \n",
    "\n",
    "\n",
    "class TTAugmenter(tf.keras.layers.Layer): \n",
    "    def __init__(self): \n",
    "        super().__init__()\n",
    "        self.trainable = False \n",
    "        self._trainable_weights = [] \n",
    "        self._non_trainable_weights = []\n",
    "        \n",
    "    def call(self, X):\n",
    "        return tf.map_fn(_shift, X)\n",
    "        \n",
    "        "
   ],
   "outputs": [],
   "metadata": {}
  },
  {
   "cell_type": "code",
   "execution_count": 9,
   "source": [
    "model = tf.keras.models.Sequential([\n",
    "    Augmenter(), \n",
    "    tf.keras.layers.LSTM(64, return_sequences = False), \n",
    "    tf.keras.layers.Dense(1, activation = \"sigmoid\")\n",
    "])\n",
    "\n",
    "model.compile(loss = \"binary_crossentropy\", optimizer = \"Adam\", metrics = ['accuracy'])\n",
    "\n",
    "X_train, X_test, y_train, y_test = train_test_split(X, y, test_size = 0.2)\n",
    "\n",
    "history = model.fit(X_train, y_train, validation_data = (X_test, y_test), epochs = 100)\n",
    "\n",
    "plot(history)\n",
    "\n",
    "print(\"evaluation on training data w/o augs: \", model.evaluate(X_train, y_train))\n",
    "print('evaluation on testing data: ', model.evaluate(X_test, y_test))"
   ],
   "outputs": [
    {
     "output_type": "stream",
     "name": "stderr",
     "text": [
      "/Library/Frameworks/Python.framework/Versions/3.8/lib/python3.8/site-packages/tensorflow/python/data/ops/dataset_ops.py:3703: UserWarning: Even though the `tf.config.experimental_run_functions_eagerly` option is set, this option does not apply to tf.data functions. To force eager execution of tf.data functions, please use `tf.data.experimental.enable.debug_mode()`.\n",
      "  warnings.warn(\n"
     ]
    },
    {
     "output_type": "stream",
     "name": "stdout",
     "text": [
      "Epoch 1/100\n",
      "2/2 [==============================] - 1s 336ms/step - loss: 0.6988 - accuracy: 0.4667 - val_loss: 0.6969 - val_accuracy: 0.3750\n",
      "Epoch 2/100\n",
      "2/2 [==============================] - 1s 278ms/step - loss: 0.6929 - accuracy: 0.5167 - val_loss: 0.6993 - val_accuracy: 0.3750\n",
      "Epoch 3/100\n",
      "2/2 [==============================] - 1s 313ms/step - loss: 0.6889 - accuracy: 0.5167 - val_loss: 0.6982 - val_accuracy: 0.3750\n",
      "Epoch 4/100\n",
      "2/2 [==============================] - 1s 319ms/step - loss: 0.6805 - accuracy: 0.5333 - val_loss: 0.6973 - val_accuracy: 0.3750\n",
      "Epoch 5/100\n",
      "2/2 [==============================] - 1s 340ms/step - loss: 0.6762 - accuracy: 0.5333 - val_loss: 0.6969 - val_accuracy: 0.3750\n",
      "Epoch 6/100\n",
      "2/2 [==============================] - 1s 332ms/step - loss: 0.6749 - accuracy: 0.5333 - val_loss: 0.6956 - val_accuracy: 0.3750\n",
      "Epoch 7/100\n",
      "2/2 [==============================] - 1s 335ms/step - loss: 0.6723 - accuracy: 0.5333 - val_loss: 0.6913 - val_accuracy: 0.3750\n",
      "Epoch 8/100\n",
      "2/2 [==============================] - 1s 297ms/step - loss: 0.6672 - accuracy: 0.5333 - val_loss: 0.6844 - val_accuracy: 0.3750\n",
      "Epoch 9/100\n",
      "2/2 [==============================] - 1s 334ms/step - loss: 0.6774 - accuracy: 0.5333 - val_loss: 0.6745 - val_accuracy: 0.3750\n",
      "Epoch 10/100\n",
      "2/2 [==============================] - 1s 305ms/step - loss: 0.6683 - accuracy: 0.5500 - val_loss: 0.6628 - val_accuracy: 0.6250\n",
      "Epoch 11/100\n",
      "2/2 [==============================] - 1s 320ms/step - loss: 0.6557 - accuracy: 0.5333 - val_loss: 0.6526 - val_accuracy: 0.6875\n",
      "Epoch 12/100\n",
      "2/2 [==============================] - 1s 337ms/step - loss: 0.6790 - accuracy: 0.5333 - val_loss: 0.6443 - val_accuracy: 0.6875\n",
      "Epoch 13/100\n",
      "2/2 [==============================] - 1s 413ms/step - loss: 0.6289 - accuracy: 0.6833 - val_loss: 0.6381 - val_accuracy: 0.6875\n",
      "Epoch 14/100\n",
      "2/2 [==============================] - 1s 326ms/step - loss: 0.6495 - accuracy: 0.5500 - val_loss: 0.6302 - val_accuracy: 0.7500\n",
      "Epoch 15/100\n",
      "2/2 [==============================] - 1s 286ms/step - loss: 0.6495 - accuracy: 0.5667 - val_loss: 0.6244 - val_accuracy: 0.7500\n",
      "Epoch 16/100\n",
      "2/2 [==============================] - 1s 294ms/step - loss: 0.6619 - accuracy: 0.6000 - val_loss: 0.6223 - val_accuracy: 0.7500\n",
      "Epoch 17/100\n",
      "2/2 [==============================] - 1s 334ms/step - loss: 0.6488 - accuracy: 0.5833 - val_loss: 0.6199 - val_accuracy: 0.7500\n",
      "Epoch 18/100\n",
      "2/2 [==============================] - 1s 311ms/step - loss: 0.6359 - accuracy: 0.6333 - val_loss: 0.6153 - val_accuracy: 0.7500\n",
      "Epoch 19/100\n",
      "2/2 [==============================] - 1s 363ms/step - loss: 0.6408 - accuracy: 0.6333 - val_loss: 0.6119 - val_accuracy: 0.7500\n",
      "Epoch 20/100\n",
      "2/2 [==============================] - 1s 359ms/step - loss: 0.6346 - accuracy: 0.5500 - val_loss: 0.6142 - val_accuracy: 0.7500\n",
      "Epoch 21/100\n",
      "2/2 [==============================] - 1s 348ms/step - loss: 0.6175 - accuracy: 0.6500 - val_loss: 0.6113 - val_accuracy: 0.7500\n",
      "Epoch 22/100\n",
      "2/2 [==============================] - 1s 328ms/step - loss: 0.6386 - accuracy: 0.6167 - val_loss: 0.6063 - val_accuracy: 0.7500\n",
      "Epoch 23/100\n",
      "2/2 [==============================] - 1s 384ms/step - loss: 0.6305 - accuracy: 0.6000 - val_loss: 0.6035 - val_accuracy: 0.7500\n",
      "Epoch 24/100\n",
      "2/2 [==============================] - 1s 377ms/step - loss: 0.6318 - accuracy: 0.6000 - val_loss: 0.6086 - val_accuracy: 0.7500\n",
      "Epoch 25/100\n",
      "2/2 [==============================] - 1s 346ms/step - loss: 0.6432 - accuracy: 0.6000 - val_loss: 0.6149 - val_accuracy: 0.6875\n",
      "Epoch 26/100\n",
      "2/2 [==============================] - 1s 297ms/step - loss: 0.6279 - accuracy: 0.5833 - val_loss: 0.6073 - val_accuracy: 0.7500\n",
      "Epoch 27/100\n",
      "2/2 [==============================] - 1s 362ms/step - loss: 0.6350 - accuracy: 0.6167 - val_loss: 0.5595 - val_accuracy: 0.7500\n",
      "Epoch 28/100\n",
      "2/2 [==============================] - 1s 328ms/step - loss: 0.6145 - accuracy: 0.6167 - val_loss: 0.5561 - val_accuracy: 0.7500\n",
      "Epoch 29/100\n",
      "2/2 [==============================] - 1s 427ms/step - loss: 0.6382 - accuracy: 0.5667 - val_loss: 0.6137 - val_accuracy: 0.6875\n",
      "Epoch 30/100\n",
      "2/2 [==============================] - 1s 332ms/step - loss: 0.6347 - accuracy: 0.6333 - val_loss: 0.6277 - val_accuracy: 0.6875\n",
      "Epoch 31/100\n",
      "2/2 [==============================] - 1s 321ms/step - loss: 0.6697 - accuracy: 0.5833 - val_loss: 0.6345 - val_accuracy: 0.6250\n",
      "Epoch 32/100\n",
      "2/2 [==============================] - 1s 316ms/step - loss: 0.6809 - accuracy: 0.6000 - val_loss: 0.6381 - val_accuracy: 0.6250\n",
      "Epoch 33/100\n",
      "2/2 [==============================] - 1s 330ms/step - loss: 0.6825 - accuracy: 0.5333 - val_loss: 0.6405 - val_accuracy: 0.6250\n",
      "Epoch 34/100\n",
      "2/2 [==============================] - 1s 335ms/step - loss: 0.6848 - accuracy: 0.5667 - val_loss: 0.6421 - val_accuracy: 0.6250\n",
      "Epoch 35/100\n",
      "2/2 [==============================] - 1s 343ms/step - loss: 0.6854 - accuracy: 0.5333 - val_loss: 0.6433 - val_accuracy: 0.6250\n",
      "Epoch 36/100\n",
      "2/2 [==============================] - 1s 315ms/step - loss: 0.6799 - accuracy: 0.5500 - val_loss: 0.6442 - val_accuracy: 0.6250\n",
      "Epoch 37/100\n",
      "2/2 [==============================] - 1s 327ms/step - loss: 0.6793 - accuracy: 0.5833 - val_loss: 0.6452 - val_accuracy: 0.6250\n",
      "Epoch 38/100\n",
      "2/2 [==============================] - 1s 299ms/step - loss: 0.6759 - accuracy: 0.6000 - val_loss: 0.6459 - val_accuracy: 0.6250\n",
      "Epoch 39/100\n",
      "2/2 [==============================] - 1s 312ms/step - loss: 0.6749 - accuracy: 0.6167 - val_loss: 0.6467 - val_accuracy: 0.7500\n",
      "Epoch 40/100\n",
      "2/2 [==============================] - 1s 285ms/step - loss: 0.6732 - accuracy: 0.6500 - val_loss: 0.6474 - val_accuracy: 0.7500\n",
      "Epoch 41/100\n",
      "2/2 [==============================] - 1s 278ms/step - loss: 0.6655 - accuracy: 0.6500 - val_loss: 0.6482 - val_accuracy: 0.7500\n",
      "Epoch 42/100\n",
      "2/2 [==============================] - 1s 302ms/step - loss: 0.6701 - accuracy: 0.6667 - val_loss: 0.6486 - val_accuracy: 0.6875\n",
      "Epoch 43/100\n",
      "2/2 [==============================] - 1s 287ms/step - loss: 0.6718 - accuracy: 0.5667 - val_loss: 0.6490 - val_accuracy: 0.6875\n",
      "Epoch 44/100\n",
      "2/2 [==============================] - 1s 308ms/step - loss: 0.6592 - accuracy: 0.7167 - val_loss: 0.6488 - val_accuracy: 0.6875\n",
      "Epoch 45/100\n",
      "2/2 [==============================] - 1s 392ms/step - loss: 0.6605 - accuracy: 0.5833 - val_loss: 0.6479 - val_accuracy: 0.6875\n",
      "Epoch 46/100\n",
      "2/2 [==============================] - 1s 310ms/step - loss: 0.6606 - accuracy: 0.5667 - val_loss: 0.6470 - val_accuracy: 0.6875\n",
      "Epoch 47/100\n",
      "2/2 [==============================] - 1s 272ms/step - loss: 0.6506 - accuracy: 0.5167 - val_loss: 0.6450 - val_accuracy: 0.6875\n",
      "Epoch 48/100\n",
      "2/2 [==============================] - 1s 282ms/step - loss: 0.6454 - accuracy: 0.5333 - val_loss: 0.6424 - val_accuracy: 0.6875\n",
      "Epoch 49/100\n",
      "2/2 [==============================] - 1s 275ms/step - loss: 0.6502 - accuracy: 0.5500 - val_loss: 0.6386 - val_accuracy: 0.6875\n",
      "Epoch 50/100\n",
      "2/2 [==============================] - 1s 278ms/step - loss: 0.6439 - accuracy: 0.5667 - val_loss: 0.6347 - val_accuracy: 0.6250\n",
      "Epoch 51/100\n",
      "2/2 [==============================] - 1s 276ms/step - loss: 0.6482 - accuracy: 0.4667 - val_loss: 0.6293 - val_accuracy: 0.6250\n",
      "Epoch 52/100\n",
      "2/2 [==============================] - 1s 276ms/step - loss: 0.6456 - accuracy: 0.5667 - val_loss: 0.6233 - val_accuracy: 0.6250\n",
      "Epoch 53/100\n",
      "2/2 [==============================] - 1s 280ms/step - loss: 0.6579 - accuracy: 0.5500 - val_loss: 0.6166 - val_accuracy: 0.6250\n",
      "Epoch 54/100\n",
      "2/2 [==============================] - 1s 274ms/step - loss: 0.6296 - accuracy: 0.6000 - val_loss: 0.6105 - val_accuracy: 0.6875\n",
      "Epoch 55/100\n",
      "2/2 [==============================] - 1s 287ms/step - loss: 0.6382 - accuracy: 0.5833 - val_loss: 0.6044 - val_accuracy: 0.6250\n",
      "Epoch 56/100\n",
      "2/2 [==============================] - 1s 271ms/step - loss: 0.6248 - accuracy: 0.6333 - val_loss: 0.5985 - val_accuracy: 0.8125\n",
      "Epoch 57/100\n",
      "2/2 [==============================] - 1s 272ms/step - loss: 0.6293 - accuracy: 0.6667 - val_loss: 0.5936 - val_accuracy: 0.8125\n",
      "Epoch 58/100\n",
      "2/2 [==============================] - 1s 285ms/step - loss: 0.6343 - accuracy: 0.6167 - val_loss: 0.5886 - val_accuracy: 0.8125\n",
      "Epoch 59/100\n",
      "2/2 [==============================] - 1s 272ms/step - loss: 0.6303 - accuracy: 0.6000 - val_loss: 0.5859 - val_accuracy: 0.8125\n",
      "Epoch 60/100\n",
      "2/2 [==============================] - 1s 269ms/step - loss: 0.6151 - accuracy: 0.6333 - val_loss: 0.5850 - val_accuracy: 0.8125\n",
      "Epoch 61/100\n",
      "2/2 [==============================] - 1s 381ms/step - loss: 0.6124 - accuracy: 0.6500 - val_loss: 0.5836 - val_accuracy: 0.8125\n",
      "Epoch 62/100\n",
      "2/2 [==============================] - 1s 278ms/step - loss: 0.6192 - accuracy: 0.6833 - val_loss: 0.5825 - val_accuracy: 0.8125\n",
      "Epoch 63/100\n",
      "2/2 [==============================] - 1s 336ms/step - loss: 0.6165 - accuracy: 0.6333 - val_loss: 0.5805 - val_accuracy: 0.8125\n",
      "Epoch 64/100\n",
      "2/2 [==============================] - 1s 338ms/step - loss: 0.6192 - accuracy: 0.6000 - val_loss: 0.5775 - val_accuracy: 0.8125\n",
      "Epoch 65/100\n",
      "2/2 [==============================] - 1s 275ms/step - loss: 0.6207 - accuracy: 0.6167 - val_loss: 0.5757 - val_accuracy: 0.8125\n",
      "Epoch 66/100\n",
      "2/2 [==============================] - 1s 275ms/step - loss: 0.6104 - accuracy: 0.6667 - val_loss: 0.5733 - val_accuracy: 0.8125\n",
      "Epoch 67/100\n",
      "2/2 [==============================] - 1s 277ms/step - loss: 0.6093 - accuracy: 0.6833 - val_loss: 0.5748 - val_accuracy: 0.8125\n",
      "Epoch 68/100\n",
      "2/2 [==============================] - 1s 276ms/step - loss: 0.6128 - accuracy: 0.6500 - val_loss: 0.5783 - val_accuracy: 0.8125\n",
      "Epoch 69/100\n",
      "2/2 [==============================] - 1s 269ms/step - loss: 0.6119 - accuracy: 0.6167 - val_loss: 0.5652 - val_accuracy: 0.8125\n",
      "Epoch 70/100\n",
      "2/2 [==============================] - 1s 298ms/step - loss: 0.5988 - accuracy: 0.6500 - val_loss: 0.5458 - val_accuracy: 0.6875\n",
      "Epoch 71/100\n",
      "2/2 [==============================] - 1s 276ms/step - loss: 0.6084 - accuracy: 0.6000 - val_loss: 0.5424 - val_accuracy: 0.6875\n",
      "Epoch 72/100\n",
      "2/2 [==============================] - 1s 279ms/step - loss: 0.5908 - accuracy: 0.7000 - val_loss: 0.5686 - val_accuracy: 0.6875\n",
      "Epoch 73/100\n",
      "2/2 [==============================] - 1s 288ms/step - loss: 0.6156 - accuracy: 0.6500 - val_loss: 0.5686 - val_accuracy: 0.6875\n",
      "Epoch 74/100\n",
      "2/2 [==============================] - 1s 277ms/step - loss: 0.6034 - accuracy: 0.7000 - val_loss: 0.5692 - val_accuracy: 0.6875\n",
      "Epoch 75/100\n",
      "2/2 [==============================] - 1s 275ms/step - loss: 0.6185 - accuracy: 0.6167 - val_loss: 0.5709 - val_accuracy: 0.6875\n",
      "Epoch 76/100\n",
      "2/2 [==============================] - 1s 275ms/step - loss: 0.6101 - accuracy: 0.6833 - val_loss: 0.5639 - val_accuracy: 0.6875\n",
      "Epoch 77/100\n",
      "2/2 [==============================] - 1s 382ms/step - loss: 0.6068 - accuracy: 0.6333 - val_loss: 0.5637 - val_accuracy: 0.6250\n",
      "Epoch 78/100\n",
      "2/2 [==============================] - 1s 278ms/step - loss: 0.6082 - accuracy: 0.6000 - val_loss: 0.5363 - val_accuracy: 0.6250\n",
      "Epoch 79/100\n",
      "2/2 [==============================] - 1s 278ms/step - loss: 0.6065 - accuracy: 0.5833 - val_loss: 0.5325 - val_accuracy: 0.6250\n",
      "Epoch 80/100\n",
      "2/2 [==============================] - 1s 278ms/step - loss: 0.6019 - accuracy: 0.6667 - val_loss: 0.5341 - val_accuracy: 0.6250\n",
      "Epoch 81/100\n",
      "2/2 [==============================] - 1s 272ms/step - loss: 0.5800 - accuracy: 0.6667 - val_loss: 0.5346 - val_accuracy: 0.6250\n",
      "Epoch 82/100\n",
      "2/2 [==============================] - 1s 276ms/step - loss: 0.5930 - accuracy: 0.6500 - val_loss: 0.5327 - val_accuracy: 0.6250\n",
      "Epoch 83/100\n",
      "2/2 [==============================] - 1s 288ms/step - loss: 0.5868 - accuracy: 0.6500 - val_loss: 0.5322 - val_accuracy: 0.6250\n",
      "Epoch 84/100\n",
      "2/2 [==============================] - 1s 282ms/step - loss: 0.5773 - accuracy: 0.6500 - val_loss: 0.5326 - val_accuracy: 0.6250\n",
      "Epoch 85/100\n",
      "2/2 [==============================] - 1s 272ms/step - loss: 0.5880 - accuracy: 0.6833 - val_loss: 0.5335 - val_accuracy: 0.6875\n",
      "Epoch 86/100\n",
      "2/2 [==============================] - 1s 269ms/step - loss: 0.5850 - accuracy: 0.6667 - val_loss: 0.5344 - val_accuracy: 0.6875\n",
      "Epoch 87/100\n",
      "2/2 [==============================] - 1s 293ms/step - loss: 0.5789 - accuracy: 0.6833 - val_loss: 0.5359 - val_accuracy: 0.6875\n",
      "Epoch 88/100\n",
      "2/2 [==============================] - 1s 317ms/step - loss: 0.5682 - accuracy: 0.6667 - val_loss: 0.5404 - val_accuracy: 0.6875\n",
      "Epoch 89/100\n",
      "2/2 [==============================] - 1s 272ms/step - loss: 0.5842 - accuracy: 0.6500 - val_loss: 0.5331 - val_accuracy: 0.6875\n",
      "Epoch 90/100\n",
      "2/2 [==============================] - 1s 280ms/step - loss: 0.5959 - accuracy: 0.6167 - val_loss: 0.5310 - val_accuracy: 0.6875\n",
      "Epoch 91/100\n",
      "2/2 [==============================] - 1s 277ms/step - loss: 0.5907 - accuracy: 0.6000 - val_loss: 0.5307 - val_accuracy: 0.6875\n",
      "Epoch 92/100\n",
      "2/2 [==============================] - 1s 293ms/step - loss: 0.5891 - accuracy: 0.6500 - val_loss: 0.5403 - val_accuracy: 0.6875\n",
      "Epoch 93/100\n",
      "2/2 [==============================] - 1s 374ms/step - loss: 0.5931 - accuracy: 0.6500 - val_loss: 1.0739 - val_accuracy: 0.5625\n",
      "Epoch 94/100\n",
      "2/2 [==============================] - 1s 276ms/step - loss: 0.7285 - accuracy: 0.6167 - val_loss: 1.0555 - val_accuracy: 0.5625\n",
      "Epoch 95/100\n",
      "2/2 [==============================] - 1s 277ms/step - loss: 0.6304 - accuracy: 0.6500 - val_loss: 0.9917 - val_accuracy: 0.5625\n",
      "Epoch 96/100\n",
      "2/2 [==============================] - 1s 278ms/step - loss: 0.6130 - accuracy: 0.6500 - val_loss: 0.9184 - val_accuracy: 0.5625\n",
      "Epoch 97/100\n",
      "2/2 [==============================] - 1s 289ms/step - loss: 0.6228 - accuracy: 0.6333 - val_loss: 0.6723 - val_accuracy: 0.6250\n",
      "Epoch 98/100\n",
      "2/2 [==============================] - 1s 274ms/step - loss: 0.5733 - accuracy: 0.6500 - val_loss: 0.6454 - val_accuracy: 0.6250\n",
      "Epoch 99/100\n",
      "2/2 [==============================] - 1s 274ms/step - loss: 0.6108 - accuracy: 0.6500 - val_loss: 0.7539 - val_accuracy: 0.5625\n",
      "Epoch 100/100\n",
      "2/2 [==============================] - 1s 278ms/step - loss: 0.6051 - accuracy: 0.6500 - val_loss: 0.7473 - val_accuracy: 0.5625\n"
     ]
    },
    {
     "output_type": "display_data",
     "data": {
      "text/plain": [
       "<Figure size 432x288 with 1 Axes>"
      ],
      "image/png": "[encoded data removed]"
     },
     "metadata": {
      "needs_background": "light"
     }
    },
    {
     "output_type": "stream",
     "name": "stdout",
     "text": [
      "2/2 [==============================] - 0s 54ms/step - loss: 0.5917 - accuracy: 0.6500\n",
      "evaluation on training data w/o augs:  [0.5917279720306396, 0.6499999761581421]\n",
      "1/1 [==============================] - 0s 58ms/step - loss: 0.7473 - accuracy: 0.5625\n",
      "evaluation on testing data:  [0.7473346590995789, 0.5625]\n"
     ]
    }
   ],
   "metadata": {}
  },
  {
   "cell_type": "code",
   "execution_count": 10,
   "source": [
    "# high validation accuracy \n",
    "# but not high testing accuracy\n"
   ],
   "outputs": [],
   "metadata": {}
  },
  {
   "cell_type": "code",
   "execution_count": 11,
   "source": [
    "for video_name in os.listdir(\"behavior_data/shorter_armflapping\"): \n",
    "    if video_name == \".DS_Store\": continue\n",
    "    print(f\"for video {video_name} you get : \" , predict_on_video(model, \"behavior_data/shorter_armflapping/\" + video_name))"
   ],
   "outputs": [
    {
     "output_type": "stream",
     "name": "stderr",
     "text": [
      "1it [00:00, 19972.88it/s]\n"
     ]
    },
    {
     "output_type": "stream",
     "name": "stdout",
     "text": [
      "for video _75.mp4 you get :  [[0.10913846]]\n"
     ]
    },
    {
     "output_type": "stream",
     "name": "stderr",
     "text": [
      "1it [00:00, 3313.04it/s]\n"
     ]
    },
    {
     "output_type": "stream",
     "name": "stdout",
     "text": [
      "for video _61.mp4 you get :  [[0.46527064]]\n"
     ]
    },
    {
     "output_type": "stream",
     "name": "stderr",
     "text": [
      "1it [00:00, 18893.26it/s]\n"
     ]
    },
    {
     "output_type": "stream",
     "name": "stdout",
     "text": [
      "for video _49.mp4 you get :  [[0.57098794]]\n"
     ]
    },
    {
     "output_type": "stream",
     "name": "stderr",
     "text": [
      "1it [00:00, 20460.02it/s]\n"
     ]
    },
    {
     "output_type": "stream",
     "name": "stdout",
     "text": [
      "for video _48.mp4 you get :  [[0.5158095]]\n"
     ]
    },
    {
     "output_type": "stream",
     "name": "stderr",
     "text": [
      "1it [00:00, 22192.08it/s]\n"
     ]
    },
    {
     "output_type": "stream",
     "name": "stdout",
     "text": [
      "for video _60.mp4 you get :  [[0.49698985]]\n"
     ]
    },
    {
     "output_type": "stream",
     "name": "stderr",
     "text": [
      "1it [00:00, 22795.13it/s]\n"
     ]
    },
    {
     "output_type": "stream",
     "name": "stdout",
     "text": [
      "for video _74.mp4 you get :  [[0.10408074]]\n"
     ]
    },
    {
     "output_type": "stream",
     "name": "stderr",
     "text": [
      "1it [00:00, 4999.17it/s]\n"
     ]
    },
    {
     "output_type": "stream",
     "name": "stdout",
     "text": [
      "for video _76.mp4 you get :  [[0.5299541]]\n"
     ]
    },
    {
     "output_type": "stream",
     "name": "stderr",
     "text": [
      "1it [00:00, 20763.88it/s]\n"
     ]
    },
    {
     "output_type": "stream",
     "name": "stdout",
     "text": [
      "for video _89.mp4 you get :  [[0.54143274]]\n"
     ]
    },
    {
     "output_type": "stream",
     "name": "stderr",
     "text": [
      "1it [00:00, 18477.11it/s]\n"
     ]
    },
    {
     "output_type": "stream",
     "name": "stdout",
     "text": [
      "for video _88.mp4 you get :  [[0.5722669]]\n"
     ]
    },
    {
     "output_type": "stream",
     "name": "stderr",
     "text": [
      "1it [00:00, 2409.13it/s]\n"
     ]
    },
    {
     "output_type": "stream",
     "name": "stdout",
     "text": [
      "for video _77.mp4 you get :  [[0.4435098]]\n"
     ]
    },
    {
     "output_type": "stream",
     "name": "stderr",
     "text": [
      "1it [00:00, 1912.59it/s]\n"
     ]
    },
    {
     "output_type": "stream",
     "name": "stdout",
     "text": [
      "for video _63.mp4 you get :  [[0.37396872]]\n"
     ]
    },
    {
     "output_type": "stream",
     "name": "stderr",
     "text": [
      "1it [00:00, 2501.08it/s]\n"
     ]
    },
    {
     "output_type": "stream",
     "name": "stdout",
     "text": [
      "for video _67.mp4 you get :  [[0.38873085]]\n"
     ]
    },
    {
     "output_type": "stream",
     "name": "stderr",
     "text": [
      "1it [00:00, 2325.00it/s]\n"
     ]
    },
    {
     "output_type": "stream",
     "name": "stdout",
     "text": [
      "for video _73.mp4 you get :  [[0.35669005]]\n"
     ]
    },
    {
     "output_type": "stream",
     "name": "stderr",
     "text": [
      "1it [00:00, 20460.02it/s]\n"
     ]
    },
    {
     "output_type": "stream",
     "name": "stdout",
     "text": [
      "for video _98.mp4 you get :  [[0.5253968]]\n"
     ]
    },
    {
     "output_type": "stream",
     "name": "stderr",
     "text": [
      "1it [00:00, 20460.02it/s]\n"
     ]
    },
    {
     "output_type": "stream",
     "name": "stdout",
     "text": [
      "for video _99.mp4 you get :  [[0.5304952]]\n"
     ]
    },
    {
     "output_type": "stream",
     "name": "stderr",
     "text": [
      "1it [00:00, 19599.55it/s]\n"
     ]
    },
    {
     "output_type": "stream",
     "name": "stdout",
     "text": [
      "for video _72.mp4 you get :  [[0.5279027]]\n"
     ]
    },
    {
     "output_type": "stream",
     "name": "stderr",
     "text": [
      "1it [00:00, 5178.15it/s]\n"
     ]
    },
    {
     "output_type": "stream",
     "name": "stdout",
     "text": [
      "for video _66.mp4 you get :  [[0.5354068]]\n"
     ]
    },
    {
     "output_type": "stream",
     "name": "stderr",
     "text": [
      "1it [00:00, 19239.93it/s]\n"
     ]
    },
    {
     "output_type": "stream",
     "name": "stdout",
     "text": [
      "for video _64.mp4 you get :  [[0.46423805]]\n"
     ]
    },
    {
     "output_type": "stream",
     "name": "stderr",
     "text": [
      "1it [00:00, 20867.18it/s]\n"
     ]
    },
    {
     "output_type": "stream",
     "name": "stdout",
     "text": [
      "for video _65.mp4 you get :  [[0.1032123]]\n"
     ]
    },
    {
     "output_type": "stream",
     "name": "stderr",
     "text": [
      "1it [00:00, 2709.50it/s]\n"
     ]
    },
    {
     "output_type": "stream",
     "name": "stdout",
     "text": [
      "for video _71.mp4 you get :  [[0.45599824]]\n"
     ]
    },
    {
     "output_type": "stream",
     "name": "stderr",
     "text": [
      "1it [00:00, 18893.26it/s]\n"
     ]
    },
    {
     "output_type": "stream",
     "name": "stdout",
     "text": [
      "for video _1.mp4 you get :  [[0.5376679]]\n"
     ]
    },
    {
     "output_type": "stream",
     "name": "stderr",
     "text": [
      "1it [00:00, 14563.56it/s]\n"
     ]
    },
    {
     "output_type": "stream",
     "name": "stdout",
     "text": [
      "for video _104.mp4 you get :  [[0.543675]]\n"
     ]
    },
    {
     "output_type": "stream",
     "name": "stderr",
     "text": [
      "1it [00:00, 20262.34it/s]\n"
     ]
    },
    {
     "output_type": "stream",
     "name": "stdout",
     "text": [
      "for video _110.mp4 you get :  [[0.5469027]]\n"
     ]
    },
    {
     "output_type": "stream",
     "name": "stderr",
     "text": [
      "1it [00:00, 18893.26it/s]\n"
     ]
    },
    {
     "output_type": "stream",
     "name": "stdout",
     "text": [
      "for video _16.mp4 you get :  [[0.5096191]]\n"
     ]
    },
    {
     "output_type": "stream",
     "name": "stderr",
     "text": [
      "1it [00:00, 18477.11it/s]\n"
     ]
    },
    {
     "output_type": "stream",
     "name": "stdout",
     "text": [
      "for video _17.mp4 you get :  [[0.51502365]]\n"
     ]
    },
    {
     "output_type": "stream",
     "name": "stderr",
     "text": [
      "1it [00:00, 18157.16it/s]\n"
     ]
    },
    {
     "output_type": "stream",
     "name": "stdout",
     "text": [
      "for video _111.mp4 you get :  [[0.5452379]]\n"
     ]
    },
    {
     "output_type": "stream",
     "name": "stderr",
     "text": [
      "1it [00:00, 19972.88it/s]\n"
     ]
    },
    {
     "output_type": "stream",
     "name": "stdout",
     "text": [
      "for video _105.mp4 you get :  [[0.52796537]]\n"
     ]
    },
    {
     "output_type": "stream",
     "name": "stderr",
     "text": [
      "1it [00:00, 16912.52it/s]\n"
     ]
    },
    {
     "output_type": "stream",
     "name": "stdout",
     "text": [
      "for video _0.mp4 you get :  [[0.50863737]]\n"
     ]
    },
    {
     "output_type": "stream",
     "name": "stderr",
     "text": [
      "1it [00:00, 18893.26it/s]\n"
     ]
    },
    {
     "output_type": "stream",
     "name": "stdout",
     "text": [
      "for video _2.mp4 you get :  [[0.5839442]]\n"
     ]
    },
    {
     "output_type": "stream",
     "name": "stderr",
     "text": [
      "1it [00:00, 22310.13it/s]\n"
     ]
    },
    {
     "output_type": "stream",
     "name": "stdout",
     "text": [
      "for video _113.mp4 you get :  [[0.57018226]]\n"
     ]
    },
    {
     "output_type": "stream",
     "name": "stderr",
     "text": [
      "1it [00:00, 19239.93it/s]\n"
     ]
    },
    {
     "output_type": "stream",
     "name": "stdout",
     "text": [
      "for video _107.mp4 you get :  [[0.54143536]]\n"
     ]
    },
    {
     "output_type": "stream",
     "name": "stderr",
     "text": [
      "1it [00:00, 17848.10it/s]\n"
     ]
    },
    {
     "output_type": "stream",
     "name": "stdout",
     "text": [
      "for video _29.mp4 you get :  [[0.5315732]]\n"
     ]
    },
    {
     "output_type": "stream",
     "name": "stderr",
     "text": [
      "1it [00:00, 22671.91it/s]\n"
     ]
    },
    {
     "output_type": "stream",
     "name": "stdout",
     "text": [
      "for video _28.mp4 you get :  [[0.59188706]]\n"
     ]
    },
    {
     "output_type": "stream",
     "name": "stderr",
     "text": [
      "1it [00:00, 17189.77it/s]\n"
     ]
    },
    {
     "output_type": "stream",
     "name": "stdout",
     "text": [
      "for video _14.mp4 you get :  [[0.5602998]]\n"
     ]
    },
    {
     "output_type": "stream",
     "name": "stderr",
     "text": [
      "1it [00:00, 21290.88it/s]\n"
     ]
    },
    {
     "output_type": "stream",
     "name": "stdout",
     "text": [
      "for video _106.mp4 you get :  [[0.50967145]]\n"
     ]
    },
    {
     "output_type": "stream",
     "name": "stderr",
     "text": [
      "1it [00:00, 18893.26it/s]\n"
     ]
    },
    {
     "output_type": "stream",
     "name": "stdout",
     "text": [
      "for video _112.mp4 you get :  [[0.5087969]]\n"
     ]
    },
    {
     "output_type": "stream",
     "name": "stderr",
     "text": [
      "1it [00:00, 21732.15it/s]\n"
     ]
    },
    {
     "output_type": "stream",
     "name": "stdout",
     "text": [
      "for video _3.mp4 you get :  [[0.58448505]]\n"
     ]
    },
    {
     "output_type": "stream",
     "name": "stderr",
     "text": [
      "1it [00:00, 18893.26it/s]\n"
     ]
    },
    {
     "output_type": "stream",
     "name": "stdout",
     "text": [
      "for video _102.mp4 you get :  [[0.55971795]]\n"
     ]
    },
    {
     "output_type": "stream",
     "name": "stderr",
     "text": [
      "1it [00:00, 18477.11it/s]\n"
     ]
    },
    {
     "output_type": "stream",
     "name": "stdout",
     "text": [
      "for video _7.mp4 you get :  [[0.5149864]]\n"
     ]
    },
    {
     "output_type": "stream",
     "name": "stderr",
     "text": [
      "1it [00:00, 17924.38it/s]\n"
     ]
    },
    {
     "output_type": "stream",
     "name": "stdout",
     "text": [
      "for video _38.mp4 you get :  [[0.51541024]]\n"
     ]
    },
    {
     "output_type": "stream",
     "name": "stderr",
     "text": [
      "1it [00:00, 19239.93it/s]\n"
     ]
    },
    {
     "output_type": "stream",
     "name": "stdout",
     "text": [
      "for video _10.mp4 you get :  [[0.57218397]]\n"
     ]
    },
    {
     "output_type": "stream",
     "name": "stderr",
     "text": [
      "1it [00:00, 18157.16it/s]\n"
     ]
    },
    {
     "output_type": "stream",
     "name": "stdout",
     "text": [
      "for video _11.mp4 you get :  [[0.59960514]]\n"
     ]
    },
    {
     "output_type": "stream",
     "name": "stderr",
     "text": [
      "1it [00:00, 15363.75it/s]\n"
     ]
    },
    {
     "output_type": "stream",
     "name": "stdout",
     "text": [
      "for video _39.mp4 you get :  [[0.5136519]]\n"
     ]
    },
    {
     "output_type": "stream",
     "name": "stderr",
     "text": [
      "1it [00:00, 20460.02it/s]\n"
     ]
    },
    {
     "output_type": "stream",
     "name": "stdout",
     "text": [
      "for video _6.mp4 you get :  [[0.4937176]]\n"
     ]
    },
    {
     "output_type": "stream",
     "name": "stderr",
     "text": [
      "1it [00:00, 1470.65it/s]\n"
     ]
    },
    {
     "output_type": "stream",
     "name": "stdout",
     "text": [
      "for video _103.mp4 you get :  [[0.420565]]\n"
     ]
    },
    {
     "output_type": "stream",
     "name": "stderr",
     "text": [
      "1it [00:00, 19239.93it/s]\n"
     ]
    },
    {
     "output_type": "stream",
     "name": "stdout",
     "text": [
      "for video _101.mp4 you get :  [[0.51811343]]\n"
     ]
    },
    {
     "output_type": "stream",
     "name": "stderr",
     "text": [
      "1it [00:00, 16644.06it/s]\n"
     ]
    },
    {
     "output_type": "stream",
     "name": "stdout",
     "text": [
      "for video _115.mp4 you get :  [[0.53021324]]\n"
     ]
    },
    {
     "output_type": "stream",
     "name": "stderr",
     "text": [
      "1it [00:00, 13357.66it/s]\n"
     ]
    },
    {
     "output_type": "stream",
     "name": "stdout",
     "text": [
      "for video _4.mp4 you get :  [[0.5760237]]\n"
     ]
    },
    {
     "output_type": "stream",
     "name": "stderr",
     "text": [
      "1it [00:00, 1399.03it/s]\n"
     ]
    },
    {
     "output_type": "stream",
     "name": "stdout",
     "text": [
      "for video _13.mp4 you get :  [[0.43632385]]\n"
     ]
    },
    {
     "output_type": "stream",
     "name": "stderr",
     "text": [
      "1it [00:00, 2032.12it/s]\n"
     ]
    },
    {
     "output_type": "stream",
     "name": "stdout",
     "text": [
      "for video _12.mp4 you get :  [[0.3857831]]\n"
     ]
    },
    {
     "output_type": "stream",
     "name": "stderr",
     "text": [
      "1it [00:00, 15141.89it/s]\n"
     ]
    },
    {
     "output_type": "stream",
     "name": "stdout",
     "text": [
      "for video _5.mp4 you get :  [[0.56943905]]\n"
     ]
    },
    {
     "output_type": "stream",
     "name": "stderr",
     "text": [
      "1it [00:00, 18893.26it/s]\n"
     ]
    },
    {
     "output_type": "stream",
     "name": "stdout",
     "text": [
      "for video _114.mp4 you get :  [[0.46630272]]\n"
     ]
    },
    {
     "output_type": "stream",
     "name": "stderr",
     "text": [
      "1it [00:00, 18558.87it/s]\n"
     ]
    },
    {
     "output_type": "stream",
     "name": "stdout",
     "text": [
      "for video _100.mp4 you get :  [[0.5242681]]\n"
     ]
    },
    {
     "output_type": "stream",
     "name": "stderr",
     "text": [
      "1it [00:00, 2128.01it/s]\n"
     ]
    },
    {
     "output_type": "stream",
     "name": "stdout",
     "text": [
      "for video _8.mp4 you get :  [[0.43381855]]\n"
     ]
    },
    {
     "output_type": "stream",
     "name": "stderr",
     "text": [
      "1it [00:00, 2078.45it/s]\n"
     ]
    },
    {
     "output_type": "stream",
     "name": "stdout",
     "text": [
      "for video _37.mp4 you get :  [[0.37312973]]\n"
     ]
    },
    {
     "output_type": "stream",
     "name": "stderr",
     "text": [
      "1it [00:00, 937.27it/s]\n"
     ]
    },
    {
     "output_type": "stream",
     "name": "stdout",
     "text": [
      "for video _23.mp4 you get :  [[0.39357165]]\n"
     ]
    },
    {
     "output_type": "stream",
     "name": "stderr",
     "text": [
      "1it [00:00, 22795.13it/s]\n"
     ]
    },
    {
     "output_type": "stream",
     "name": "stdout",
     "text": [
      "for video _22.mp4 you get :  [[0.5292746]]\n"
     ]
    },
    {
     "output_type": "stream",
     "name": "stderr",
     "text": [
      "1it [00:00, 3358.13it/s]\n"
     ]
    },
    {
     "output_type": "stream",
     "name": "stdout",
     "text": [
      "for video _36.mp4 you get :  [[0.5072041]]\n"
     ]
    },
    {
     "output_type": "stream",
     "name": "stderr",
     "text": [
      "1it [00:00, 2398.12it/s]\n"
     ]
    },
    {
     "output_type": "stream",
     "name": "stdout",
     "text": [
      "for video _9.mp4 you get :  [[0.47316507]]\n"
     ]
    },
    {
     "output_type": "stream",
     "name": "stderr",
     "text": [
      "1it [00:00, 19599.55it/s]\n"
     ]
    },
    {
     "output_type": "stream",
     "name": "stdout",
     "text": [
      "for video _20.mp4 you get :  [[0.0759432]]\n"
     ]
    },
    {
     "output_type": "stream",
     "name": "stderr",
     "text": [
      "1it [00:00, 20360.70it/s]\n"
     ]
    },
    {
     "output_type": "stream",
     "name": "stdout",
     "text": [
      "for video _34.mp4 you get :  [[0.15366152]]\n"
     ]
    },
    {
     "output_type": "stream",
     "name": "stderr",
     "text": [
      "1it [00:00, 18157.16it/s]\n"
     ]
    },
    {
     "output_type": "stream",
     "name": "stdout",
     "text": [
      "for video _35.mp4 you get :  [[0.24429482]]\n"
     ]
    },
    {
     "output_type": "stream",
     "name": "stderr",
     "text": [
      "1it [00:00, 17848.10it/s]\n"
     ]
    },
    {
     "output_type": "stream",
     "name": "stdout",
     "text": [
      "for video _21.mp4 you get :  [[0.07825002]]\n"
     ]
    },
    {
     "output_type": "stream",
     "name": "stderr",
     "text": [
      "1it [00:00, 2403.61it/s]\n"
     ]
    },
    {
     "output_type": "stream",
     "name": "stdout",
     "text": [
      "for video _19.mp4 you get :  [[0.3887849]]\n"
     ]
    },
    {
     "output_type": "stream",
     "name": "stderr",
     "text": [
      "1it [00:00, 18236.10it/s]\n"
     ]
    },
    {
     "output_type": "stream",
     "name": "stdout",
     "text": [
      "for video _25.mp4 you get :  [[0.5716601]]\n"
     ]
    },
    {
     "output_type": "stream",
     "name": "stderr",
     "text": [
      "1it [00:00, 18157.16it/s]\n"
     ]
    },
    {
     "output_type": "stream",
     "name": "stdout",
     "text": [
      "for video _31.mp4 you get :  [[0.5027795]]\n"
     ]
    },
    {
     "output_type": "stream",
     "name": "stderr",
     "text": [
      "1it [00:00, 18157.16it/s]\n"
     ]
    },
    {
     "output_type": "stream",
     "name": "stdout",
     "text": [
      "for video _30.mp4 you get :  [[0.13082388]]\n"
     ]
    },
    {
     "output_type": "stream",
     "name": "stderr",
     "text": [
      "1it [00:00, 18558.87it/s]\n"
     ]
    },
    {
     "output_type": "stream",
     "name": "stdout",
     "text": [
      "for video _24.mp4 you get :  [[0.5450418]]\n"
     ]
    },
    {
     "output_type": "stream",
     "name": "stderr",
     "text": [
      "1it [00:00, 4419.71it/s]\n"
     ]
    },
    {
     "output_type": "stream",
     "name": "stdout",
     "text": [
      "for video _18.mp4 you get :  [[0.46888575]]\n"
     ]
    },
    {
     "output_type": "stream",
     "name": "stderr",
     "text": [
      "1it [00:00, 21732.15it/s]\n"
     ]
    },
    {
     "output_type": "stream",
     "name": "stdout",
     "text": [
      "for video _108.mp4 you get :  [[0.5498684]]\n"
     ]
    },
    {
     "output_type": "stream",
     "name": "stderr",
     "text": [
      "1it [00:00, 3775.25it/s]\n"
     ]
    },
    {
     "output_type": "stream",
     "name": "stdout",
     "text": [
      "for video _32.mp4 you get :  [[0.51278186]]\n"
     ]
    },
    {
     "output_type": "stream",
     "name": "stderr",
     "text": [
      "1it [00:00, 4350.94it/s]\n"
     ]
    },
    {
     "output_type": "stream",
     "name": "stdout",
     "text": [
      "for video _26.mp4 you get :  [[0.49513263]]\n"
     ]
    },
    {
     "output_type": "stream",
     "name": "stderr",
     "text": [
      "1it [00:00, 2132.34it/s]\n"
     ]
    },
    {
     "output_type": "stream",
     "name": "stdout",
     "text": [
      "for video _27.mp4 you get :  [[0.44607675]]\n"
     ]
    },
    {
     "output_type": "stream",
     "name": "stderr",
     "text": [
      "1it [00:00, 1769.75it/s]\n"
     ]
    },
    {
     "output_type": "stream",
     "name": "stdout",
     "text": [
      "for video _33.mp4 you get :  [[0.44311804]]\n"
     ]
    },
    {
     "output_type": "stream",
     "name": "stderr",
     "text": [
      "1it [00:00, 18893.26it/s]\n"
     ]
    },
    {
     "output_type": "stream",
     "name": "stdout",
     "text": [
      "for video _109.mp4 you get :  [[0.5568544]]\n"
     ]
    },
    {
     "output_type": "stream",
     "name": "stderr",
     "text": [
      "1it [00:00, 2046.00it/s]\n"
     ]
    },
    {
     "output_type": "stream",
     "name": "stdout",
     "text": [
      "for video _54.mp4 you get :  [[0.38770685]]\n"
     ]
    },
    {
     "output_type": "stream",
     "name": "stderr",
     "text": [
      "1it [00:00, 3390.71it/s]\n"
     ]
    },
    {
     "output_type": "stream",
     "name": "stdout",
     "text": [
      "for video _40.mp4 you get :  [[0.48645446]]\n"
     ]
    },
    {
     "output_type": "stream",
     "name": "stderr",
     "text": [
      "1it [00:00, 4165.15it/s]\n"
     ]
    },
    {
     "output_type": "stream",
     "name": "stdout",
     "text": [
      "for video _68.mp4 you get :  [[0.477009]]\n"
     ]
    },
    {
     "output_type": "stream",
     "name": "stderr",
     "text": [
      "1it [00:00, 17772.47it/s]\n"
     ]
    },
    {
     "output_type": "stream",
     "name": "stdout",
     "text": [
      "for video _97.mp4 you get :  [[0.5140295]]\n"
     ]
    },
    {
     "output_type": "stream",
     "name": "stderr",
     "text": [
      "1it [00:00, 17189.77it/s]\n"
     ]
    },
    {
     "output_type": "stream",
     "name": "stdout",
     "text": [
      "for video _83.mp4 you get :  [[0.08552867]]\n"
     ]
    },
    {
     "output_type": "stream",
     "name": "stderr",
     "text": [
      "1it [00:00, 16131.94it/s]\n"
     ]
    },
    {
     "output_type": "stream",
     "name": "stdout",
     "text": [
      "for video _82.mp4 you get :  [[0.6269958]]\n"
     ]
    },
    {
     "output_type": "stream",
     "name": "stderr",
     "text": [
      "1it [00:00, 17924.38it/s]\n"
     ]
    },
    {
     "output_type": "stream",
     "name": "stdout",
     "text": [
      "for video _96.mp4 you get :  [[0.55748594]]\n"
     ]
    },
    {
     "output_type": "stream",
     "name": "stderr",
     "text": [
      "1it [00:00, 1072.71it/s]\n"
     ]
    },
    {
     "output_type": "stream",
     "name": "stdout",
     "text": [
      "for video _41.mp4 you get :  [[0.30025232]]\n"
     ]
    },
    {
     "output_type": "stream",
     "name": "stderr",
     "text": [
      "1it [00:00, 1536.38it/s]\n"
     ]
    },
    {
     "output_type": "stream",
     "name": "stdout",
     "text": [
      "for video _55.mp4 you get :  [[0.35054827]]\n"
     ]
    },
    {
     "output_type": "stream",
     "name": "stderr",
     "text": [
      "1it [00:00, 2468.69it/s]\n"
     ]
    },
    {
     "output_type": "stream",
     "name": "stdout",
     "text": [
      "for video _43.mp4 you get :  [[0.4028133]]\n"
     ]
    },
    {
     "output_type": "stream",
     "name": "stderr",
     "text": [
      "1it [00:00, 2809.31it/s]\n"
     ]
    },
    {
     "output_type": "stream",
     "name": "stdout",
     "text": [
      "for video _80.mp4 you get :  [[0.5318231]]\n"
     ]
    },
    {
     "output_type": "stream",
     "name": "stderr",
     "text": [
      "1it [00:00, 14315.03it/s]\n"
     ]
    },
    {
     "output_type": "stream",
     "name": "stdout",
     "text": [
      "for video _94.mp4 you get :  [[0.53942364]]\n"
     ]
    },
    {
     "output_type": "stream",
     "name": "stderr",
     "text": [
      "1it [00:00, 19972.88it/s]\n"
     ]
    },
    {
     "output_type": "stream",
     "name": "stdout",
     "text": [
      "for video _95.mp4 you get :  [[0.59910333]]\n"
     ]
    },
    {
     "output_type": "stream",
     "name": "stderr",
     "text": [
      "1it [00:00, 2083.61it/s]\n"
     ]
    },
    {
     "output_type": "stream",
     "name": "stdout",
     "text": [
      "for video _81.mp4 you get :  [[0.4410587]]\n"
     ]
    },
    {
     "output_type": "stream",
     "name": "stderr",
     "text": [
      "1it [00:00, 2037.06it/s]\n"
     ]
    },
    {
     "output_type": "stream",
     "name": "stdout",
     "text": [
      "for video _42.mp4 you get :  [[0.50823635]]\n"
     ]
    },
    {
     "output_type": "stream",
     "name": "stderr",
     "text": [
      "1it [00:00, 1245.34it/s]\n"
     ]
    },
    {
     "output_type": "stream",
     "name": "stdout",
     "text": [
      "for video _46.mp4 you get :  [[0.39527777]]\n"
     ]
    },
    {
     "output_type": "stream",
     "name": "stderr",
     "text": [
      "1it [00:00, 2193.67it/s]\n"
     ]
    },
    {
     "output_type": "stream",
     "name": "stdout",
     "text": [
      "for video _52.mp4 you get :  [[0.5073665]]\n"
     ]
    },
    {
     "output_type": "stream",
     "name": "stderr",
     "text": [
      "1it [00:00, 19972.88it/s]\n"
     ]
    },
    {
     "output_type": "stream",
     "name": "stdout",
     "text": [
      "for video _85.mp4 you get :  [[0.44092232]]\n"
     ]
    },
    {
     "output_type": "stream",
     "name": "stderr",
     "text": [
      "1it [00:00, 2032.12it/s]\n"
     ]
    },
    {
     "output_type": "stream",
     "name": "stdout",
     "text": [
      "for video _91.mp4 you get :  [[0.4003163]]\n"
     ]
    },
    {
     "output_type": "stream",
     "name": "stderr",
     "text": [
      "1it [00:00, 20763.88it/s]\n"
     ]
    },
    {
     "output_type": "stream",
     "name": "stdout",
     "text": [
      "for video _90.mp4 you get :  [[0.5825698]]\n"
     ]
    },
    {
     "output_type": "stream",
     "name": "stderr",
     "text": [
      "1it [00:00, 14926.35it/s]\n"
     ]
    },
    {
     "output_type": "stream",
     "name": "stdout",
     "text": [
      "for video _84.mp4 you get :  [[0.5655873]]\n"
     ]
    },
    {
     "output_type": "stream",
     "name": "stderr",
     "text": [
      "1it [00:00, 16980.99it/s]\n"
     ]
    },
    {
     "output_type": "stream",
     "name": "stdout",
     "text": [
      "for video _53.mp4 you get :  [[0.5482504]]\n"
     ]
    },
    {
     "output_type": "stream",
     "name": "stderr",
     "text": [
      "1it [00:00, 1379.71it/s]\n"
     ]
    },
    {
     "output_type": "stream",
     "name": "stdout",
     "text": [
      "for video _47.mp4 you get :  [[0.07893607]]\n"
     ]
    },
    {
     "output_type": "stream",
     "name": "stderr",
     "text": [
      "1it [00:00, 18558.87it/s]\n"
     ]
    },
    {
     "output_type": "stream",
     "name": "stdout",
     "text": [
      "for video _51.mp4 you get :  [[0.55389154]]\n"
     ]
    },
    {
     "output_type": "stream",
     "name": "stderr",
     "text": [
      "1it [00:00, 1392.99it/s]\n"
     ]
    },
    {
     "output_type": "stream",
     "name": "stdout",
     "text": [
      "for video _45.mp4 you get :  [[0.44295594]]\n"
     ]
    },
    {
     "output_type": "stream",
     "name": "stderr",
     "text": [
      "1it [00:00, 2801.81it/s]\n"
     ]
    },
    {
     "output_type": "stream",
     "name": "stdout",
     "text": [
      "for video _92.mp4 you get :  [[0.44816923]]\n"
     ]
    },
    {
     "output_type": "stream",
     "name": "stderr",
     "text": [
      "1it [00:00, 3890.82it/s]\n"
     ]
    },
    {
     "output_type": "stream",
     "name": "stdout",
     "text": [
      "for video _86.mp4 you get :  [[0.40619785]]\n"
     ]
    },
    {
     "output_type": "stream",
     "name": "stderr",
     "text": [
      "1it [00:00, 3802.63it/s]\n"
     ]
    },
    {
     "output_type": "stream",
     "name": "stdout",
     "text": [
      "for video _87.mp4 you get :  [[0.40304312]]\n"
     ]
    },
    {
     "output_type": "stream",
     "name": "stderr",
     "text": [
      "1it [00:00, 1035.37it/s]\n"
     ]
    },
    {
     "output_type": "stream",
     "name": "stdout",
     "text": [
      "for video _93.mp4 you get :  [[0.46302724]]\n"
     ]
    },
    {
     "output_type": "stream",
     "name": "stderr",
     "text": [
      "1it [00:00, 3472.11it/s]\n"
     ]
    },
    {
     "output_type": "stream",
     "name": "stdout",
     "text": [
      "for video _44.mp4 you get :  [[0.51614267]]\n"
     ]
    },
    {
     "output_type": "stream",
     "name": "stderr",
     "text": [
      "1it [00:00, 18808.54it/s]\n"
     ]
    },
    {
     "output_type": "stream",
     "name": "stdout",
     "text": [
      "for video _50.mp4 you get :  [[0.49365678]]\n"
     ]
    },
    {
     "output_type": "stream",
     "name": "stderr",
     "text": [
      "1it [00:00, 4306.27it/s]"
     ]
    },
    {
     "output_type": "stream",
     "name": "stdout",
     "text": [
      "for video _78.mp4 you get :  [[0.53514683]]\n"
     ]
    },
    {
     "output_type": "stream",
     "name": "stderr",
     "text": [
      "\n"
     ]
    }
   ],
   "metadata": {}
  },
  {
   "cell_type": "code",
   "execution_count": null,
   "source": [],
   "outputs": [],
   "metadata": {}
  },
  {
   "cell_type": "code",
   "execution_count": null,
   "source": [],
   "outputs": [],
   "metadata": {}
  }
 ]
}