{
 "cells": [
  {
   "cell_type": "code",
   "execution_count": 1,
   "id": "83606a94",
   "metadata": {},
   "outputs": [],
   "source": [
    "import tensorflow as tf"
   ]
  },
  {
   "cell_type": "code",
   "execution_count": 2,
   "id": "1a606e50",
   "metadata": {},
   "outputs": [
    {
     "name": "stdout",
     "output_type": "stream",
     "text": [
      "wow\n"
     ]
    }
   ],
   "source": [
    "print(\"wow\")"
   ]
  },
  {
   "cell_type": "code",
   "execution_count": 5,
   "id": "0ad172a5",
   "metadata": {},
   "outputs": [],
   "source": [
    "X = 10000"
   ]
  },
  {
   "cell_type": "code",
   "execution_count": 6,
   "id": "affa989f",
   "metadata": {},
   "outputs": [
    {
     "data": {
      "text/plain": [
       "array([[ 0.01568024, -0.00811138, -0.98880547, ..., -1.02100442,\n",
       "        -0.1066766 ,  0.35661377],\n",
       "       [ 0.3785563 , -1.34622077,  0.03150171, ...,  0.03824111,\n",
       "        -0.01149678,  0.28044415],\n",
       "       [-0.01518018,  0.13672417,  0.43546701, ...,  0.142586  ,\n",
       "        -0.84970697,  0.30006969],\n",
       "       ...,\n",
       "       [-0.09792323,  1.24404603, -0.19363764, ..., -0.2302256 ,\n",
       "         0.01391657, -0.10810697],\n",
       "       [-0.9602002 , -0.28993467,  0.11527137, ...,  0.05827232,\n",
       "        -1.25200248, -1.75504253],\n",
       "       [ 1.16834936,  0.6315549 ,  1.00241651, ...,  0.39648691,\n",
       "         0.73888943,  0.06225431]])"
      ]
     },
     "execution_count": 6,
     "metadata": {},
     "output_type": "execute_result"
    }
   ],
   "source": [
    "import numpy as np\n",
    "np.random.randn(X, X) * np.random.randn(X, X)"
   ]
  },
  {
   "cell_type": "code",
   "execution_count": null,
   "id": "c34abacc",
   "metadata": {},
   "outputs": [],
   "source": [
    "#okay so why is my kern"
   ]
  }
 ],
 "metadata": {
  "kernelspec": {
   "display_name": "Python 3",
   "language": "python",
   "name": "python3"
  },
  "language_info": {
   "codemirror_mode": {
    "name": "ipython",
    "version": 3
   },
   "file_extension": ".py",
   "mimetype": "text/x-python",
   "name": "python",
   "nbconvert_exporter": "python",
   "pygments_lexer": "ipython3",
   "version": "3.8.3"
  }
 },
 "nbformat": 4,
 "nbformat_minor": 5
}
