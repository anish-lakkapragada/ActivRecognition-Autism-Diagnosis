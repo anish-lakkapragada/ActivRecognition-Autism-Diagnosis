{
 "cells": [
  {
   "cell_type": "markdown",
   "metadata": {},
   "source": [
    "# The first step is preprocessing. We use the [SSBD Dataset](https://rolandgoecke.net/research/datasets/ssbd/) in order to get the data for hand flapping and spinning. \n",
    "\n",
    "## The dataset does contain 75 URLs (although we'll ignore all headbanging videos) to youtube videos. All the data is nicely stored in XML files that I will read to get the youtube videos and also the time stamps of when the behavior (hand flapping or spinning) occurs. Then I will use pytube to download the youtube videos to .mp4 and moviepy to cut the .mp4 videos into the areas of interest. Finally, because some of those areas of interest clips are more than a few seconds long (which is all you need to detect spinning or headbanging) I will take those areas that are > 8 seconds and split them into many clips (that way we have more data.) Also in sections of the video where no behavior is used I will take them as videos as control data. "
   ]
  },
  {
   "cell_type": "code",
   "execution_count": null,
   "metadata": {
    "scrolled": false
   },
   "outputs": [],
   "source": [
    "# first change the directory over to ssbd release\n",
    "import os \n",
    "import xml.etree.ElementTree as ET"
   ]
  },
  {
   "cell_type": "code",
   "execution_count": null,
   "metadata": {
    "scrolled": false
   },
   "outputs": [],
   "source": [
    "# next step would be to get the hand flapping and spinning data \n",
    "\n",
    "tree = ET.parse(\"ssbd-release/Annotations/v_ArmFlapping_07.xml\")\n",
    "root = tree.getroot()\n",
    "for child in root:\n",
    "    # for each child in the root \n",
    "    if child.tag == \"url\":\n",
    "        print(child.text)\n",
    "    if child.tag == \"behaviours\":\n",
    "        for behavior in child: # go through each reported behavior \n",
    "            for tag in behavior: # tag is just the attribute of the behavior \n",
    "                if tag.tag == \"time\":\n",
    "                    print(tag.text)\n",
    "                if tag.tag == \"intensity\":\n",
    "                    print(tag.text)\n",
    "                if tag.tag == \"category\":\n",
    "                    print(tag.text)"
   ]
  },
  {
   "cell_type": "code",
   "execution_count": null,
   "metadata": {
    "scrolled": false
   },
   "outputs": [],
   "source": [
    "def convert_to_second(time : str) -> int:\n",
    "    # this will take in a time like \"0125\" or 1:25 and make it 85 (60 + 25)\n",
    "    overall_seconds = 0 \n",
    "    for i, time_char in enumerate(reversed(time)):\n",
    "        if i == 0:\n",
    "            overall_seconds += int(time_char)\n",
    "        if i == 1:\n",
    "            overall_seconds += int(time_char) * 10\n",
    "        if i == 2:\n",
    "            overall_seconds += int(time_char) * 60 \n",
    "        if i == 3:\n",
    "            overall_seconds += int(time_char) * 600 \n",
    "    return overall_seconds \n",
    "\n",
    "assert convert_to_second('2345') == 23 * 60 + 45  \n",
    "\n",
    "def consecutive(data, stepsize=1):\n",
    "    '''groups up elements in an array that are continous with each other (useful to create sections where none \n",
    "    of the behaviors are shown.)'''\n",
    "    return np.split(data, np.where(np.diff(data) != stepsize)[0]+1)"
   ]
  },
  {
   "cell_type": "code",
   "execution_count": null,
   "metadata": {
    "scrolled": false
   },
   "outputs": [],
   "source": [
    "from collections import defaultdict\n",
    "import math \n",
    "import numpy as np\n",
    "\n",
    "NUM_SECONDS_TO_RECOGNIZE = 8 # hypothesis: takes this many seconds seconds to recognize handflapping + spinning \n",
    "\n",
    "URLS_TO_DOWNLOAD = set() # contains all youtube videos to download \n",
    "links_to_times = {} # data will be stored here like {link : {'category' : [(start, end)], 'another cat' : [(start, end)]}\n",
    "\n",
    "\n",
    "for i, file_name in enumerate(os.listdir('ssbd-release/Annotations/')):\n",
    "    # parse this file \n",
    "    tree = ET.parse('ssbd-release/Annotations/' + file_name)\n",
    "    root = tree.getroot() \n",
    "    \n",
    "    # everything we need to store\n",
    "    URL = \"\"\n",
    "    \n",
    "    for child in root:\n",
    "        \n",
    "        if child.tag == \"url\":\n",
    "            URL = child.text # store URL\n",
    "            URLS_TO_DOWNLOAD.add(URL)\n",
    "            links_to_times[URL] = defaultdict(list) \n",
    "        \n",
    "        if child.tag == \"duration\":\n",
    "            duration = int(child.text[:-1])\n",
    "            all_times = list(range(duration))\n",
    "        \n",
    "        if child.tag == \"behaviours\": # this child has the list of behaviors \n",
    "            for reported_behavior in child: \n",
    "                for info in reported_behavior:\n",
    "                    # gather the start time, end time, and category for this youtube link \n",
    "                    if info.tag == \"time\":\n",
    "                        # the time will be start:end \n",
    "                        times = str(info.text) # contains the string \n",
    "                        if times.count(\":\"): \n",
    "                            divider_index = times.index(\":\")\n",
    "                        elif times.count(\"-\"):\n",
    "                            divider_index = times.index(\"-\")\n",
    "                        else:\n",
    "                            break # invalid then \n",
    "                        actual_start_time, actual_end_time = convert_to_second(times[:divider_index]), convert_to_second(times[divider_index + 1:])\n",
    "                        START_TIMES, END_TIMES = [], []\n",
    "                        times = np.array(range(actual_start_time, actual_end_time +1))\n",
    "                        for time in times:\n",
    "                            try:\n",
    "                                all_times.remove(time)\n",
    "                            except Exception as e:\n",
    "                                pass \n",
    "                        split_times = np.array_split(times, math.ceil(times.shape[0] / NUM_SECONDS_TO_RECOGNIZE))\n",
    "                        for time in split_times:\n",
    "                            START_TIMES.append(time[0])\n",
    "                            END_TIMES.append(time[-1])\n",
    "                    if info.tag == \"category\":\n",
    "                        # this is the label \n",
    "                        LABEL = info.text \n",
    "                \n",
    "                # create an entry for this reported behavior \n",
    "                for START_TIME, END_TIME in zip(START_TIMES, END_TIMES):\n",
    "                    links_to_times[URL][LABEL].append((START_TIME, END_TIME))\n",
    "                    \n",
    "            idle_times = consecutive(np.array(all_times))\n",
    "            num_contributed = 0 # each video can only give 4 control clips (because otherwise it takes WAY too long)\n",
    "            for control_times in idle_times:\n",
    "                if num_contributed >= 4: \n",
    "                    break \n",
    "                # times maybe > NUM_SECONDS_TO_RECOGNIZE so split if that is the case \n",
    "                if len(control_times) <= NUM_SECONDS_TO_RECOGNIZE:\n",
    "                    START_TIME, END_TIME = control_times[0], control_times[-1]\n",
    "                    links_to_times[URL]['control'].append((START_TIME, END_TIME))\n",
    "                    num_contributed += 1\n",
    "                else:\n",
    "                    # needs to be split \n",
    "                    control_times_split = np.array_split(control_times, math.ceil(len(control_times) / NUM_SECONDS_TO_RECOGNIZE))\n",
    "                    for control_time in control_times_split:  \n",
    "                        START_TIME, END_TIME = control_time[0], control_time[-1]\n",
    "                        links_to_times[URL]['control'].append((START_TIME, END_TIME))\n",
    "                        num_contributed += 1\n",
    "                        if num_contributed >= 4: \n",
    "                            break "
   ]
  },
  {
   "cell_type": "code",
   "execution_count": null,
   "metadata": {
    "scrolled": true
   },
   "outputs": [],
   "source": [
    "links_to_times"
   ]
  },
  {
   "cell_type": "code",
   "execution_count": null,
   "metadata": {
    "scrolled": false
   },
   "outputs": [],
   "source": [
    "# pickle this just incase \n",
    "import pickle \n",
    "with open(\"links_to_times.pkl\", 'wb') as f:\n",
    "    pickle.dump(links_to_times, f)"
   ]
  },
  {
   "cell_type": "code",
   "execution_count": null,
   "metadata": {
    "scrolled": true
   },
   "outputs": [],
   "source": [
    "import cv2\n",
    "import numpy as np\n",
    "from moviepy.video.io.VideoFileClip import VideoFileClip\n",
    "import pytube\n",
    "FPS = 30 \n",
    "i = 0 \n",
    "for vid, (url, category_times) in enumerate((links_to_times.items())): \n",
    "    print(f\"staring the {vid+1}th file\")\n",
    "    # download the video \n",
    "    print(url)\n",
    "    try: \n",
    "        print(\"This is url: \", url)\n",
    "        y = pytube.YouTube(url)\n",
    "        video = y.streams.get_highest_resolution()\n",
    "        video.download()\n",
    "    except Exception as e:\n",
    "        print(f\"annoying url: {url}\")\n",
    "        print(e)\n",
    "        continue \n",
    "        \n",
    "    for category, times in category_times.items(): \n",
    "        folder_path = \"behavior_data/\" + category + \"/\"\n",
    "        \n",
    "        for start_time, end_time in times:\n",
    "            try:\n",
    "                input_file = y.streams.get_highest_resolution().default_filename\n",
    "                output_file = folder_path + f\"{i}.mp4\"\n",
    "                print(os.listdir(folder_path))\n",
    "                if f\"{i}.mp4\" not in os.listdir(folder_path):\n",
    "                    print(\"adding file\")\n",
    "                    with VideoFileClip(input_file) as video:\n",
    "                        new = video.subclip(start_time, end_time)\n",
    "                        new.write_videofile(output_file, audio_codec='aac')\n",
    "                        i += 1 \n",
    "            except Exception as e:\n",
    "                print(f\"failed on {i}\")\n",
    "                i += 1 \n",
    "    os.remove(y.streams.get_highest_resolution().default_filename)"
   ]
  },
  {
   "cell_type": "markdown",
   "metadata": {},
   "source": [
    "# Directory Structure  \n",
    "\n",
    "## We have one folder inside of this AnishMachineLearning folder called \"behavior_data\" that has the \"armflapping\" and \"spinning\" folders. There all of the sliced .mp4 files with the behavior of interest are located. \n",
    "\n",
    "### We will process headbanging videos even if we are not going to use it because we still want it as a negative case for training the arm flapping & spinning. "
   ]
  },
  {
   "cell_type": "code",
   "execution_count": null,
   "metadata": {
    "scrolled": false
   },
   "outputs": [],
   "source": [
    "# for spinning it is just the hand positions that matter right?\n",
    "\n",
    "import cv2\n",
    "import mediapipe as mp \n",
    "import numpy as np\n",
    "mp_hands = mp.solutions.hands\n",
    "\n",
    "\n",
    "cap = cv2.VideoCapture(\"/Users/anish/Documents/Machine Learning Env/AnishMachineLearning/behavior_data/spinning/37.mp4\")\n",
    "#cap = cv2.VideoCapture(0)\n",
    "# Initiate holistic model\n",
    "\n",
    "#capcv2.VideoCapture(0)\n",
    "\n",
    "hands = mp_hands.Hands(min_detection_confidence = 0.5, min_tracking_confidence = 0.5)\n",
    "\n",
    "while cap.isOpened():\n",
    "    ret, image = cap.read() \n",
    "    if not ret:break \n",
    "\n",
    "    image = cv2.cvtColor(image, cv2.COLOR_BGR2RGB)\n",
    "    image.flags.writeable = False \n",
    "    results = hands.process(image)\n",
    "\n",
    "    image.flags.writeable = True\n",
    "    image = cv2.cvtColor(image, cv2.COLOR_RGB2BGR)\n",
    "    \n",
    "    height, width, _ = image.shape\n",
    "\n",
    "    white_image = np.zeros_like(image)\n",
    "    white_image.fill(255.0)\n",
    "    \n",
    "    #check for hand results \n",
    "    if results.multi_hand_landmarks:\n",
    "        for hand_landmark in results.multi_hand_landmarks:\n",
    "            for i in range(0, 21):\n",
    "                landmark = hand_landmark.landmark[i]\n",
    "                x = int(landmark.x * width)\n",
    "                y = int(landmark.y * height)\n",
    "                cv2.circle(white_image, (x, y), 5, (100, 100, 0), -1)\n",
    "\n",
    "    cv2.imshow(\"\", white_image)\n",
    "\n",
    "    if cv2.waitKey(1) == ord(\"q\"):\n",
    "        break \n",
    "\n",
    "cap.release() \n",
    "cv2.destroyAllWindows()"
   ]
  },
  {
   "cell_type": "code",
   "execution_count": null,
   "metadata": {
    "scrolled": false
   },
   "outputs": [],
   "source": [
    "list(range(21))"
   ]
  },
  {
   "cell_type": "markdown",
   "metadata": {},
   "source": [
    "# We can try using the y values for each of the hand flapping videos and graph them to see if there is a noticeable difference of the y-values (we'll use the mean of all y-values for all 21 hand landmarks and then graph them)."
   ]
  },
  {
   "cell_type": "code",
   "execution_count": null,
   "metadata": {
    "scrolled": false
   },
   "outputs": [],
   "source": [
    "import matplotlib.pyplot as plt\n",
    "import os , cv2\n",
    "import mediapipe as mp\n",
    "\n",
    "# first all hand flapping videos \n",
    "for hand_flap_video in os.listdir(\"behavior_data/armflapping\"):\n",
    "    video = \"behavior_data/armflapping/\" + hand_flap_video\n",
    "    cap = cv2.VideoCapture(video)\n",
    "    \n",
    "    hands = mp_hands.Hands(min_detection_confidence = 0.5, min_tracking_confidence = 0.5)\n",
    "    \n",
    "    all_YS = [] \n",
    "    \n",
    "    while cap.isOpened():\n",
    "        ret, image = cap.read() \n",
    "        if not ret:break \n",
    "\n",
    "        image = cv2.cvtColor(image, cv2.COLOR_BGR2RGB)\n",
    "        image.flags.writeable = False \n",
    "        results = hands.process(image)\n",
    "\n",
    "        image.flags.writeable = True\n",
    "        image = cv2.cvtColor(image, cv2.COLOR_RGB2BGR)\n",
    "\n",
    "        height, width, _ = image.shape\n",
    "\n",
    "        #check for hand results \n",
    "        y_s = []\n",
    "        \n",
    "        if results.multi_hand_landmarks:\n",
    "            for hand_landmark in results.multi_hand_landmarks:\n",
    "                for i in range(0, 21):\n",
    "                    landmark = hand_landmark.landmark[i]\n",
    "                    x = int(landmark.x * width)\n",
    "                    y = int(landmark.y * height)\n",
    "                    y_s.append(y)\n",
    "        \n",
    "        all_YS.append(np.mean(y_s))\n",
    "\n",
    "    plt.plot(range(len(all_YS)), all_YS, color = \"green\")\n",
    "    plt.show()"
   ]
  },
  {
   "cell_type": "code",
   "execution_count": null,
   "metadata": {
    "scrolled": false
   },
   "outputs": [],
   "source": [
    "# now for spinning \n",
    "\n",
    "import matplotlib.pyplot as plt\n",
    "import os \n",
    "\n",
    "# first all hand flapping videos \n",
    "for hand_flap_video in os.listdir(\"behavior_data/spinning\"):\n",
    "    video = \"behavior_data/spinning/\" + hand_flap_video\n",
    "    cap = cv2.VideoCapture(video)\n",
    "    \n",
    "    hands = mp_hands.Hands(min_detection_confidence = 0.5, min_tracking_confidence = 0.5)\n",
    "    \n",
    "    all_YS = [] \n",
    "    \n",
    "    while cap.isOpened():\n",
    "        ret, image = cap.read() \n",
    "        if not ret:break \n",
    "\n",
    "        image = cv2.cvtColor(image, cv2.COLOR_BGR2RGB)\n",
    "        image.flags.writeable = False \n",
    "        results = hands.process(image)\n",
    "\n",
    "        image.flags.writeable = True\n",
    "        image = cv2.cvtColor(image, cv2.COLOR_RGB2BGR)\n",
    "\n",
    "        height, width, _ = image.shape\n",
    "\n",
    "        #check for hand results \n",
    "        y_s = []\n",
    "        \n",
    "        if results.multi_hand_landmarks:\n",
    "            for hand_landmark in results.multi_hand_landmarks:\n",
    "                for i in range(0, 21):\n",
    "                    landmark = hand_landmark.landmark[i]\n",
    "                    x = int(landmark.x * width)\n",
    "                    y = int(landmark.y * height)\n",
    "                    y_s.append(y)\n",
    "        \n",
    "        all_YS.append(np.mean(y_s))\n",
    "\n",
    "    plt.plot(range(len(all_YS)), all_YS, color = \"green\")\n",
    "    plt.show()"
   ]
  },
  {
   "cell_type": "code",
   "execution_count": null,
   "metadata": {
    "scrolled": false
   },
   "outputs": [],
   "source": [
    "# next for headbanging \n",
    "\n",
    "# now for spinning \n",
    "\n",
    "import matplotlib.pyplot as plt\n",
    "import os \n",
    "\n",
    "# first all hand flapping videos \n",
    "for hand_flap_video in os.listdir(\"behavior_data/headbanging\"):\n",
    "    video = \"behavior_data/headbanging/\" + hand_flap_video\n",
    "    cap = cv2.VideoCapture(video)\n",
    "    \n",
    "    hands = mp_hands.Hands(min_detection_confidence = 0.5, min_tracking_confidence = 0.5)\n",
    "    \n",
    "    all_YS = [] \n",
    "    \n",
    "    while cap.isOpened():\n",
    "        ret, image = cap.read() \n",
    "        if not ret:break \n",
    "\n",
    "        image = cv2.cvtColor(image, cv2.COLOR_BGR2RGB)\n",
    "        image.flags.writeable = False \n",
    "        results = hands.process(image)\n",
    "\n",
    "        image.flags.writeable = True\n",
    "        image = cv2.cvtColor(image, cv2.COLOR_RGB2BGR)\n",
    "\n",
    "        height, width, _ = image.shape\n",
    "\n",
    "        #check for hand results \n",
    "        y_s = []\n",
    "        \n",
    "        if results.multi_hand_landmarks:\n",
    "            for hand_landmark in results.multi_hand_landmarks:\n",
    "                for i in range(0, 21):\n",
    "                    landmark = hand_landmark.landmark[i]\n",
    "                    x = int(landmark.x * width)\n",
    "                    y = int(landmark.y * height)\n",
    "                    y_s.append(y)\n",
    "        \n",
    "        all_YS.append(np.mean(y_s))\n",
    "\n",
    "    plt.plot(range(len(all_YS)), all_YS, color = \"green\")\n",
    "    plt.show()"
   ]
  },
  {
   "cell_type": "markdown",
   "metadata": {},
   "source": [
    "# First let's get the frames for every arm flapping and control video. If the number of frames is less than 100 frames we will not take it. "
   ]
  },
  {
   "cell_type": "code",
   "execution_count": 156,
   "metadata": {
    "scrolled": false
   },
   "outputs": [],
   "source": [
    "from PIL import Image as im \n",
    "import mediapipe as mp\n",
    "def hand_locations(frame, min_detection_confidence = 0.2, min_tracking_confidence = 0.2): \n",
    "    hands = mp.solutions.hands.Hands(min_detection_confidence=min_detection_confidence, min_tracking_confidence=min_tracking_confidence) # MAKE SURE THIS IS ALL GOOD \n",
    "    results = hands.process(frame.astype('uint8'))\n",
    "    X_locations = [0] * 42 # use 0 as default if the class is not there \n",
    "    Y_locations = [0] * 42 \n",
    "    Z_locations = [0] * 42\n",
    "    if results.multi_hand_landmarks:\n",
    "        for hand, hand_landmark in enumerate(results.multi_hand_landmarks):\n",
    "            for i in range(0, 21):\n",
    "                landmark = hand_landmark.landmark[i]\n",
    "                X_locations[i * (hand + 1)] = landmark.x\n",
    "                Y_locations[i * (hand + 1)] = landmark.y\n",
    "                Z_locations[i * (hand + 1)] = landmark.z\n",
    "    locations = np.concatenate([X_locations, Y_locations, Z_locations])\n",
    "    hands.close()\n",
    "    return locations "
   ]
  },
  {
   "cell_type": "code",
   "execution_count": 131,
   "metadata": {
    "scrolled": true
   },
   "outputs": [
    {
     "output_type": "stream",
     "name": "stdout",
     "text": [
      "on a new video!\n",
      "on a new video!\n",
      "on a new video!\n",
      "on a new video!\n",
      "on a new video!\n",
      "on a new video!\n",
      "on a new video!\n",
      "on a new video!\n",
      "on a new video!\n",
      "on a new video!\n",
      "on a new video!\n",
      "on a new video!\n",
      "on a new video!\n",
      "on a new video!\n",
      "on a new video!\n",
      "on a new video!\n",
      "on a new video!\n",
      "on a new video!\n",
      "on a new video!\n",
      "on a new video!\n",
      "on a new video!\n",
      "on a new video!\n",
      "on a new video!\n",
      "on a new video!\n",
      "on a new video!\n",
      "on a new video!\n",
      "on a new video!\n",
      "on a new video!\n"
     ]
    },
    {
     "output_type": "error",
     "ename": "KeyboardInterrupt",
     "evalue": "",
     "traceback": [
      "\u001b[0;31m---------------------------------------------------------------------------\u001b[0m",
      "\u001b[0;31mKeyboardInterrupt\u001b[0m                         Traceback (most recent call last)",
      "\u001b[0;32m<ipython-input-131-7cb0593d3f69>\u001b[0m in \u001b[0;36m<module>\u001b[0;34m\u001b[0m\n\u001b[1;32m     15\u001b[0m \u001b[0;34m\u001b[0m\u001b[0m\n\u001b[1;32m     16\u001b[0m         \u001b[0mimage\u001b[0m \u001b[0;34m=\u001b[0m \u001b[0mcv2\u001b[0m\u001b[0;34m.\u001b[0m\u001b[0mcvtColor\u001b[0m\u001b[0;34m(\u001b[0m\u001b[0mimage\u001b[0m\u001b[0;34m,\u001b[0m \u001b[0mcv2\u001b[0m\u001b[0;34m.\u001b[0m\u001b[0mCOLOR_BGR2RGB\u001b[0m\u001b[0;34m)\u001b[0m\u001b[0;34m\u001b[0m\u001b[0;34m\u001b[0m\u001b[0m\n\u001b[0;32m---> 17\u001b[0;31m         \u001b[0mlocs\u001b[0m \u001b[0;34m=\u001b[0m \u001b[0mhand_locations\u001b[0m\u001b[0;34m(\u001b[0m\u001b[0mimage\u001b[0m\u001b[0;34m)\u001b[0m\u001b[0;34m\u001b[0m\u001b[0;34m\u001b[0m\u001b[0m\n\u001b[0m\u001b[1;32m     18\u001b[0m \u001b[0;34m\u001b[0m\u001b[0m\n\u001b[1;32m     19\u001b[0m \u001b[0;34m\u001b[0m\u001b[0m\n",
      "\u001b[0;32m<ipython-input-130-b27d97af2404>\u001b[0m in \u001b[0;36mhand_locations\u001b[0;34m(frame, min_detection_confidence, min_tracking_confidence)\u001b[0m\n\u001b[1;32m      3\u001b[0m \u001b[0;32mdef\u001b[0m \u001b[0mhand_locations\u001b[0m\u001b[0;34m(\u001b[0m\u001b[0mframe\u001b[0m\u001b[0;34m,\u001b[0m \u001b[0mmin_detection_confidence\u001b[0m \u001b[0;34m=\u001b[0m \u001b[0;36m0.2\u001b[0m\u001b[0;34m,\u001b[0m \u001b[0mmin_tracking_confidence\u001b[0m \u001b[0;34m=\u001b[0m \u001b[0;36m0.2\u001b[0m\u001b[0;34m)\u001b[0m\u001b[0;34m:\u001b[0m\u001b[0;34m\u001b[0m\u001b[0;34m\u001b[0m\u001b[0m\n\u001b[1;32m      4\u001b[0m     \u001b[0mhands\u001b[0m \u001b[0;34m=\u001b[0m \u001b[0mmp\u001b[0m\u001b[0;34m.\u001b[0m\u001b[0msolutions\u001b[0m\u001b[0;34m.\u001b[0m\u001b[0mhands\u001b[0m\u001b[0;34m.\u001b[0m\u001b[0mHands\u001b[0m\u001b[0;34m(\u001b[0m\u001b[0mmin_detection_confidence\u001b[0m\u001b[0;34m=\u001b[0m\u001b[0mmin_detection_confidence\u001b[0m\u001b[0;34m,\u001b[0m \u001b[0mmin_tracking_confidence\u001b[0m\u001b[0;34m=\u001b[0m\u001b[0mmin_tracking_confidence\u001b[0m\u001b[0;34m)\u001b[0m \u001b[0;31m# MAKE SURE THIS IS ALL GOOD\u001b[0m\u001b[0;34m\u001b[0m\u001b[0;34m\u001b[0m\u001b[0m\n\u001b[0;32m----> 5\u001b[0;31m     \u001b[0mresults\u001b[0m \u001b[0;34m=\u001b[0m \u001b[0mhands\u001b[0m\u001b[0;34m.\u001b[0m\u001b[0mprocess\u001b[0m\u001b[0;34m(\u001b[0m\u001b[0mframe\u001b[0m\u001b[0;34m.\u001b[0m\u001b[0mastype\u001b[0m\u001b[0;34m(\u001b[0m\u001b[0;34m'uint8'\u001b[0m\u001b[0;34m)\u001b[0m\u001b[0;34m)\u001b[0m\u001b[0;34m\u001b[0m\u001b[0;34m\u001b[0m\u001b[0m\n\u001b[0m\u001b[1;32m      6\u001b[0m     \u001b[0mX_locations\u001b[0m \u001b[0;34m=\u001b[0m \u001b[0;34m[\u001b[0m\u001b[0;36m0\u001b[0m\u001b[0;34m]\u001b[0m \u001b[0;34m*\u001b[0m \u001b[0;36m42\u001b[0m\u001b[0;34m\u001b[0m\u001b[0;34m\u001b[0m\u001b[0m\n\u001b[1;32m      7\u001b[0m     \u001b[0mY_locations\u001b[0m \u001b[0;34m=\u001b[0m \u001b[0;34m[\u001b[0m\u001b[0;36m0\u001b[0m\u001b[0;34m]\u001b[0m \u001b[0;34m*\u001b[0m \u001b[0;36m42\u001b[0m\u001b[0;34m\u001b[0m\u001b[0;34m\u001b[0m\u001b[0m\n",
      "\u001b[0;32m/Library/Frameworks/Python.framework/Versions/3.8/lib/python3.8/site-packages/mediapipe/python/solutions/hands.py\u001b[0m in \u001b[0;36mprocess\u001b[0;34m(self, image)\u001b[0m\n\u001b[1;32m    162\u001b[0m     \"\"\"\n\u001b[1;32m    163\u001b[0m \u001b[0;34m\u001b[0m\u001b[0m\n\u001b[0;32m--> 164\u001b[0;31m     \u001b[0;32mreturn\u001b[0m \u001b[0msuper\u001b[0m\u001b[0;34m(\u001b[0m\u001b[0;34m)\u001b[0m\u001b[0;34m.\u001b[0m\u001b[0mprocess\u001b[0m\u001b[0;34m(\u001b[0m\u001b[0minput_data\u001b[0m\u001b[0;34m=\u001b[0m\u001b[0;34m{\u001b[0m\u001b[0;34m'image'\u001b[0m\u001b[0;34m:\u001b[0m \u001b[0mimage\u001b[0m\u001b[0;34m}\u001b[0m\u001b[0;34m)\u001b[0m\u001b[0;34m\u001b[0m\u001b[0;34m\u001b[0m\u001b[0m\n\u001b[0m",
      "\u001b[0;32m/Library/Frameworks/Python.framework/Versions/3.8/lib/python3.8/site-packages/mediapipe/python/solution_base.py\u001b[0m in \u001b[0;36mprocess\u001b[0;34m(self, input_data)\u001b[0m\n\u001b[1;32m    305\u001b[0m             f'type is not supported yet.')\n\u001b[1;32m    306\u001b[0m \u001b[0;34m\u001b[0m\u001b[0m\n\u001b[0;32m--> 307\u001b[0;31m     \u001b[0mself\u001b[0m\u001b[0;34m.\u001b[0m\u001b[0m_graph\u001b[0m\u001b[0;34m.\u001b[0m\u001b[0mwait_until_idle\u001b[0m\u001b[0;34m(\u001b[0m\u001b[0;34m)\u001b[0m\u001b[0;34m\u001b[0m\u001b[0;34m\u001b[0m\u001b[0m\n\u001b[0m\u001b[1;32m    308\u001b[0m     \u001b[0;31m# Create a NamedTuple object where the field names are mapping to the graph\u001b[0m\u001b[0;34m\u001b[0m\u001b[0;34m\u001b[0m\u001b[0;34m\u001b[0m\u001b[0m\n\u001b[1;32m    309\u001b[0m     \u001b[0;31m# output stream names.\u001b[0m\u001b[0;34m\u001b[0m\u001b[0;34m\u001b[0m\u001b[0;34m\u001b[0m\u001b[0m\n",
      "\u001b[0;31mKeyboardInterrupt\u001b[0m: "
     ]
    }
   ],
   "source": [
    "import os, cv2\n",
    "import numpy as np\n",
    "\n",
    "ARMFLAPPING_VIDEOS = []\n",
    "CONTROL_VIDEOS = []\n",
    "\n",
    "NUM_KEEP = 100\n",
    "\n",
    "for video_name in os.listdir('behavior_data/armflapping'): \n",
    "    cap = cv2.VideoCapture('behavior_data/armflapping/' + video_name)  \n",
    "    FRAMES = [] # frames for this video \n",
    "    while True: \n",
    "        _, image = cap.read() \n",
    "        if not _ : break \n",
    "        \n",
    "        image = cv2.cvtColor(image, cv2.COLOR_BGR2RGB)\n",
    "        locs = hand_locations(image)\n",
    "        \n",
    "\n",
    "        FRAMES.append(locs)\n",
    "    if len(FRAMES) >= NUM_KEEP and np.sum(np.array(FRAMES)) > 0: \n",
    "        # ignore any .DS_Store files\n",
    "        ARMFLAPPING_VIDEOS.append(np.array(FRAMES))\n",
    "    \n",
    "    print(\"on a new video!\")\n",
    "\n",
    "ARMFLAPPING_LABELS = np.ones(len(ARMFLAPPING_VIDEOS))\n",
    "\n",
    "for video_name in os.listdir('behavior_data/control'): \n",
    "    cap = cv2.VideoCapture('behavior_data/control/' + video_name)  \n",
    "    FRAMES = [] # frames for this video \n",
    "    while True: \n",
    "        _, image = cap.read() \n",
    "        if not _ : break \n",
    "        \n",
    "        image = cv2.cvtColor(image, cv2.COLOR_BGR2RGB)\n",
    "        \n",
    "        image = cv2.cvtColor(image, cv2.COLOR_BGR2RGB)\n",
    "        locs = hand_locations(image)\n",
    "                    \n",
    "        FRAMES.append(locs)\n",
    "        \n",
    "    if len(FRAMES) >= NUM_KEEP and np.sum(np.array(FRAMES)) > 0: \n",
    "        CONTROL_VIDEOS.append(np.array(FRAMES))\n",
    "    \n",
    "    print(\"continuing on\")\n",
    "\n",
    "CONTROL_LABELS = np.zeros(len(CONTROL_VIDEOS))"
   ]
  },
  {
   "cell_type": "code",
   "execution_count": null,
   "metadata": {
    "scrolled": false
   },
   "outputs": [],
   "source": [
    "#### shuffle and then balance the amount of videos\n",
    "print(len(CONTROL_VIDEOS), len(ARMFLAPPING_VIDEOS))\n",
    "amount_of_videos = min([len(CONTROL_VIDEOS), len(ARMFLAPPING_VIDEOS)])\n",
    "\n",
    "ARMFLAPPING_VIDEOS = np.array(ARMFLAPPING_VIDEOS, dtype = \"object\")\n",
    "CONTROL_VIDEOS = np.array(CONTROL_VIDEOS, dtype = \"object\")\n",
    "import numpy as np\n",
    "control_permutation = np.random.permutation(CONTROL_LABELS.shape[0])\n",
    "CONTROL_VIDEOS, CONTROL_LABELS = CONTROL_VIDEOS[control_permutation], CONTROL_LABELS[control_permutation]\n",
    "\n",
    "armflapping_permutation = np.random.permutation(ARMFLAPPING_LABELS.shape[0])\n",
    "ARMFLAPPING_VIDEOS, ARMFLAPPING_LABELS = ARMFLAPPING_VIDEOS[armflapping_permutation], ARMFLAPPING_LABELS[armflapping_permutation]\n",
    "\n",
    "ARMFLAPPING_VIDEOS, ARMFLAPPING_LABELS = ARMFLAPPING_VIDEOS[:amount_of_videos], ARMFLAPPING_LABELS[:amount_of_videos]\n",
    "CONTROL_VIDEOS, CONTROL_LABELS = CONTROL_VIDEOS[:amount_of_videos], CONTROL_LABELS[:amount_of_videos]"
   ]
  },
  {
   "cell_type": "code",
   "execution_count": null,
   "metadata": {
    "scrolled": false
   },
   "outputs": [],
   "source": [
    "assert len(ARMFLAPPING_VIDEOS) == len(CONTROL_VIDEOS)"
   ]
  },
  {
   "cell_type": "code",
   "execution_count": null,
   "metadata": {
    "scrolled": false
   },
   "outputs": [],
   "source": [
    "selected_armflapping_frames = [] # the dimensions of this will be (BS, 100, 84) \n",
    "selected_control_frames = [] \n",
    "\n",
    "for FRAMES in ARMFLAPPING_VIDEOS: \n",
    "    selected_armflapping_frames.append(FRAMES[:NUM_KEEP])\n",
    "\n",
    "for FRAMES in CONTROL_VIDEOS: \n",
    "    selected_control_frames.append(FRAMES[:NUM_KEEP])"
   ]
  },
  {
   "cell_type": "code",
   "execution_count": null,
   "metadata": {
    "scrolled": false
   },
   "outputs": [],
   "source": [
    "ARMFLAPPING_LOCATIONS = np.array(selected_armflapping_frames)\n",
    "CONTROL_LOCATIONS = np.array(selected_control_frames)"
   ]
  },
  {
   "cell_type": "code",
   "execution_count": null,
   "metadata": {
    "scrolled": false
   },
   "outputs": [],
   "source": [
    "# save these in a pickle file\n",
    "\n",
    "import pickle \n",
    "with open(\"armflapping_locations.pickle\", 'wb') as f: \n",
    "    pickle.dump(ARMFLAPPING_LOCATIONS, f)\n",
    "\n",
    "with open('control_locations.pickle', 'wb') as f: \n",
    "    pickle.dump(CONTROL_LOCATIONS, f)"
   ]
  },
  {
   "cell_type": "code",
   "execution_count": 1,
   "metadata": {
    "scrolled": false
   },
   "outputs": [],
   "source": [
    "# load them back in \n",
    "import numpy as np\n",
    "from numpy import ndarray \n",
    "import pickle \n",
    "\n",
    "with open(\"armflapping_locations.pickle\", 'rb') as f: \n",
    "    ARMFLAPPING_LOCATIONS = pickle.load(f)\n",
    "\n",
    "with open('control_locations.pickle', 'rb') as f: \n",
    "    CONTROL_LOCATIONS = pickle.load(f)"
   ]
  },
  {
   "source": [
    "# Now that we have the data for both classes, we'll concatenate it and start training (first with no augmentations.) "
   ],
   "cell_type": "markdown",
   "metadata": {}
  },
  {
   "cell_type": "code",
   "execution_count": 2,
   "metadata": {
    "scrolled": false
   },
   "outputs": [],
   "source": [
    "from sklearn.model_selection import train_test_split\n",
    "\n",
    "def generate_data(ARMFLAPPING_LOCATIONS, CONTROL_LOCATIONS, random_state = 42): \n",
    "    ARMFLAPPING_LABELS = np.ones(ARMFLAPPING_LOCATIONS.shape[0])\n",
    "    CONTROL_LABELS = np.zeros(CONTROL_LOCATIONS.shape[0])\n",
    "    \n",
    "    # concatenate \n",
    "    data = np.concatenate([ARMFLAPPING_LOCATIONS, CONTROL_LOCATIONS])\n",
    "    labels = np.concatenate([ARMFLAPPING_LABELS, CONTROL_LABELS])\n",
    "    \n",
    "    X_train, X_test, y_train, y_test = train_test_split(data, labels, random_state = random_state)\n",
    "    \n",
    "    return X_train, X_test, y_train, y_test \n",
    "\n",
    "X_train, X_test, y_train, y_test = generate_data(ARMFLAPPING_LOCATIONS, CONTROL_LOCATIONS)"
   ]
  },
  {
   "cell_type": "code",
   "execution_count": 149,
   "metadata": {
    "scrolled": false
   },
   "outputs": [],
   "source": [
    "# start training with a vanilla LSTM. \n",
    "import tensorflow as tf\n",
    "tf.config.run_functions_eagerly(True)\n",
    "\n",
    "model = tf.keras.models.Sequential([\n",
    "    tf.keras.layers.LSTM(64, return_sequences = True), \n",
    "    tf.keras.layers.LSTM(128, return_sequences = True), \n",
    "    tf.keras.layers.LSTM(256, return_sequences = False), \n",
    "    tf.keras.layers.Dense(128, activation = \"relu\"), \n",
    "    tf.keras.layers.Dense(1, activation = \"sigmoid\")\n",
    "])\n",
    "\n",
    "model.compile(loss = \"binary_crossentropy\", optimizer = \"Adam\", metrics = ['accuracy', tf.keras.metrics.Precision(), tf.keras.metrics.Recall()])"
   ]
  },
  {
   "cell_type": "code",
   "execution_count": 151,
   "metadata": {
    "scrolled": true,
    "tags": [
     "outputPrepend"
    ]
   },
   "outputs": [
    {
     "output_type": "stream",
     "name": "stdout",
     "text": [
      "val_precision_5: 0.8333 - val_recall_5: 0.7692\n",
      "Epoch 15/100\n",
      "3/3 [==============================] - 2s 625ms/step - loss: 0.6322 - accuracy: 0.7536 - precision_5: 0.7353 - recall_5: 0.7576 - val_loss: 0.7682 - val_accuracy: 0.5652 - val_precision_5: 0.5652 - val_recall_5: 1.0000\n",
      "Epoch 16/100\n",
      "3/3 [==============================] - 2s 593ms/step - loss: 0.8411 - accuracy: 0.4783 - precision_5: 0.4783 - recall_5: 1.0000 - val_loss: 0.6407 - val_accuracy: 0.6957 - val_precision_5: 0.8750 - val_recall_5: 0.5385\n",
      "Epoch 17/100\n",
      "3/3 [==============================] - 2s 749ms/step - loss: 0.6303 - accuracy: 0.7246 - precision_5: 0.9375 - recall_5: 0.4545 - val_loss: 0.6738 - val_accuracy: 0.6957 - val_precision_5: 0.8750 - val_recall_5: 0.5385\n",
      "Epoch 18/100\n",
      "3/3 [==============================] - 2s 601ms/step - loss: 0.5815 - accuracy: 0.7536 - precision_5: 0.8077 - recall_5: 0.6364 - val_loss: 0.5905 - val_accuracy: 0.6957 - val_precision_5: 0.7143 - val_recall_5: 0.7692\n",
      "Epoch 19/100\n",
      "3/3 [==============================] - 2s 609ms/step - loss: 0.5394 - accuracy: 0.7246 - precision_5: 0.7333 - recall_5: 0.6667 - val_loss: 0.5512 - val_accuracy: 0.6957 - val_precision_5: 0.7143 - val_recall_5: 0.7692\n",
      "Epoch 20/100\n",
      "3/3 [==============================] - 2s 636ms/step - loss: 0.5481 - accuracy: 0.7536 - precision_5: 0.7353 - recall_5: 0.7576 - val_loss: 0.5866 - val_accuracy: 0.5652 - val_precision_5: 0.5652 - val_recall_5: 1.0000\n",
      "Epoch 21/100\n",
      "3/3 [==============================] - 2s 660ms/step - loss: 0.6059 - accuracy: 0.5217 - precision_5: 0.5000 - recall_5: 1.0000 - val_loss: 0.5197 - val_accuracy: 0.7391 - val_precision_5: 0.8889 - val_recall_5: 0.6154\n",
      "Epoch 22/100\n",
      "3/3 [==============================] - 2s 618ms/step - loss: 0.5328 - accuracy: 0.7826 - precision_5: 0.9091 - recall_5: 0.6061 - val_loss: 0.5483 - val_accuracy: 0.7391 - val_precision_5: 0.8889 - val_recall_5: 0.6154\n",
      "Epoch 23/100\n",
      "3/3 [==============================] - 2s 594ms/step - loss: 0.5101 - accuracy: 0.7536 - precision_5: 0.9444 - recall_5: 0.5152 - val_loss: 0.6306 - val_accuracy: 0.6522 - val_precision_5: 0.8571 - val_recall_5: 0.4615\n",
      "Epoch 24/100\n",
      "3/3 [==============================] - 2s 595ms/step - loss: 0.5317 - accuracy: 0.7536 - precision_5: 0.9444 - recall_5: 0.5152 - val_loss: 0.5492 - val_accuracy: 0.7826 - val_precision_5: 0.9000 - val_recall_5: 0.6923\n",
      "Epoch 25/100\n",
      "3/3 [==============================] - 2s 610ms/step - loss: 0.4718 - accuracy: 0.8261 - precision_5: 0.9200 - recall_5: 0.6970 - val_loss: 0.5861 - val_accuracy: 0.6522 - val_precision_5: 0.6667 - val_recall_5: 0.7692\n",
      "Epoch 26/100\n",
      "3/3 [==============================] - 2s 766ms/step - loss: 0.4570 - accuracy: 0.8406 - precision_5: 0.8438 - recall_5: 0.8182 - val_loss: 0.7026 - val_accuracy: 0.6522 - val_precision_5: 0.6667 - val_recall_5: 0.7692\n",
      "Epoch 27/100\n",
      "3/3 [==============================] - 2s 589ms/step - loss: 0.3665 - accuracy: 0.8841 - precision_5: 0.9032 - recall_5: 0.8485 - val_loss: 0.5645 - val_accuracy: 0.7391 - val_precision_5: 0.8182 - val_recall_5: 0.6923\n",
      "Epoch 28/100\n",
      "3/3 [==============================] - 2s 586ms/step - loss: 0.4946 - accuracy: 0.7971 - precision_5: 0.8276 - recall_5: 0.7273 - val_loss: 0.6050 - val_accuracy: 0.7391 - val_precision_5: 0.8182 - val_recall_5: 0.6923\n",
      "Epoch 29/100\n",
      "3/3 [==============================] - 2s 616ms/step - loss: 0.4711 - accuracy: 0.7971 - precision_5: 0.8065 - recall_5: 0.7576 - val_loss: 0.6173 - val_accuracy: 0.7391 - val_precision_5: 0.7692 - val_recall_5: 0.7692\n",
      "Epoch 30/100\n",
      "3/3 [==============================] - 2s 588ms/step - loss: 0.3832 - accuracy: 0.8551 - precision_5: 0.9259 - recall_5: 0.7576 - val_loss: 0.6860 - val_accuracy: 0.6957 - val_precision_5: 0.8750 - val_recall_5: 0.5385\n",
      "Epoch 31/100\n",
      "3/3 [==============================] - 2s 593ms/step - loss: 0.4006 - accuracy: 0.8551 - precision_5: 0.9600 - recall_5: 0.7273 - val_loss: 0.6895 - val_accuracy: 0.6957 - val_precision_5: 0.8000 - val_recall_5: 0.6154\n",
      "Epoch 32/100\n",
      "3/3 [==============================] - 2s 603ms/step - loss: 0.3968 - accuracy: 0.8551 - precision_5: 0.9259 - recall_5: 0.7576 - val_loss: 0.6628 - val_accuracy: 0.7391 - val_precision_5: 0.8182 - val_recall_5: 0.6923\n",
      "Epoch 33/100\n",
      "3/3 [==============================] - 2s 590ms/step - loss: 0.3480 - accuracy: 0.8696 - precision_5: 0.9615 - recall_5: 0.7576 - val_loss: 0.5798 - val_accuracy: 0.6957 - val_precision_5: 0.8000 - val_recall_5: 0.6154\n",
      "Epoch 34/100\n",
      "3/3 [==============================] - 2s 596ms/step - loss: 0.3661 - accuracy: 0.8551 - precision_5: 0.9259 - recall_5: 0.7576 - val_loss: 0.7293 - val_accuracy: 0.6957 - val_precision_5: 0.8750 - val_recall_5: 0.5385\n",
      "Epoch 35/100\n",
      "3/3 [==============================] - 2s 746ms/step - loss: 0.5523 - accuracy: 0.7826 - precision_5: 0.9091 - recall_5: 0.6061 - val_loss: 0.7137 - val_accuracy: 0.6522 - val_precision_5: 1.0000 - val_recall_5: 0.3846\n",
      "Epoch 36/100\n",
      "3/3 [==============================] - 2s 593ms/step - loss: 0.5429 - accuracy: 0.7391 - precision_5: 0.8947 - recall_5: 0.5152 - val_loss: 0.5247 - val_accuracy: 0.6957 - val_precision_5: 0.8750 - val_recall_5: 0.5385\n",
      "Epoch 37/100\n",
      "3/3 [==============================] - 2s 592ms/step - loss: 0.5226 - accuracy: 0.7681 - precision_5: 0.7931 - recall_5: 0.6970 - val_loss: 0.5245 - val_accuracy: 0.7391 - val_precision_5: 0.8889 - val_recall_5: 0.6154\n",
      "Epoch 38/100\n",
      "3/3 [==============================] - 2s 594ms/step - loss: 0.5108 - accuracy: 0.7971 - precision_5: 0.8519 - recall_5: 0.6970 - val_loss: 0.5529 - val_accuracy: 0.6957 - val_precision_5: 0.8750 - val_recall_5: 0.5385\n",
      "Epoch 39/100\n",
      "3/3 [==============================] - 2s 597ms/step - loss: 0.4832 - accuracy: 0.7971 - precision_5: 0.9130 - recall_5: 0.6364 - val_loss: 0.5378 - val_accuracy: 0.6957 - val_precision_5: 0.8750 - val_recall_5: 0.5385\n",
      "Epoch 40/100\n",
      "3/3 [==============================] - 2s 591ms/step - loss: 0.4565 - accuracy: 0.7971 - precision_5: 0.9130 - recall_5: 0.6364 - val_loss: 0.5813 - val_accuracy: 0.6522 - val_precision_5: 0.8571 - val_recall_5: 0.4615\n",
      "Epoch 41/100\n",
      "3/3 [==============================] - 2s 592ms/step - loss: 0.4566 - accuracy: 0.8116 - precision_5: 0.8846 - recall_5: 0.6970 - val_loss: 0.5673 - val_accuracy: 0.6957 - val_precision_5: 0.8750 - val_recall_5: 0.5385\n",
      "Epoch 42/100\n",
      "3/3 [==============================] - 2s 588ms/step - loss: 0.4473 - accuracy: 0.8261 - precision_5: 0.8889 - recall_5: 0.7273 - val_loss: 0.6289 - val_accuracy: 0.6957 - val_precision_5: 0.8750 - val_recall_5: 0.5385\n",
      "Epoch 43/100\n",
      "3/3 [==============================] - 2s 582ms/step - loss: 0.4555 - accuracy: 0.8116 - precision_5: 0.9167 - recall_5: 0.6667 - val_loss: 0.6694 - val_accuracy: 0.6522 - val_precision_5: 0.8571 - val_recall_5: 0.4615\n",
      "Epoch 44/100\n",
      "3/3 [==============================] - 2s 750ms/step - loss: 0.4509 - accuracy: 0.8116 - precision_5: 0.9167 - recall_5: 0.6667 - val_loss: 0.6130 - val_accuracy: 0.6522 - val_precision_5: 0.7273 - val_recall_5: 0.6154\n",
      "Epoch 45/100\n",
      "3/3 [==============================] - 2s 594ms/step - loss: 0.4850 - accuracy: 0.7391 - precision_5: 0.6829 - recall_5: 0.8485 - val_loss: 0.6300 - val_accuracy: 0.7826 - val_precision_5: 0.7857 - val_recall_5: 0.8462\n",
      "Epoch 46/100\n",
      "3/3 [==============================] - 2s 604ms/step - loss: 0.4146 - accuracy: 0.8116 - precision_5: 0.7941 - recall_5: 0.8182 - val_loss: 0.9702 - val_accuracy: 0.6522 - val_precision_5: 0.7778 - val_recall_5: 0.5385\n",
      "Epoch 47/100\n",
      "3/3 [==============================] - 2s 589ms/step - loss: 0.4312 - accuracy: 0.8261 - precision_5: 0.9200 - recall_5: 0.6970 - val_loss: 1.0644 - val_accuracy: 0.6957 - val_precision_5: 0.8750 - val_recall_5: 0.5385\n",
      "Epoch 48/100\n",
      "3/3 [==============================] - 2s 599ms/step - loss: 0.4368 - accuracy: 0.8261 - precision_5: 0.9565 - recall_5: 0.6667 - val_loss: 0.8224 - val_accuracy: 0.6522 - val_precision_5: 0.7273 - val_recall_5: 0.6154\n",
      "Epoch 49/100\n",
      "3/3 [==============================] - 2s 593ms/step - loss: 0.4439 - accuracy: 0.8116 - precision_5: 0.8571 - recall_5: 0.7273 - val_loss: 0.8312 - val_accuracy: 0.6087 - val_precision_5: 0.7000 - val_recall_5: 0.5385\n",
      "Epoch 50/100\n",
      "3/3 [==============================] - 2s 592ms/step - loss: 0.3643 - accuracy: 0.8261 - precision_5: 0.8621 - recall_5: 0.7576 - val_loss: 0.8861 - val_accuracy: 0.5652 - val_precision_5: 0.6667 - val_recall_5: 0.4615\n",
      "Epoch 51/100\n",
      "3/3 [==============================] - 2s 588ms/step - loss: 0.3751 - accuracy: 0.8406 - precision_5: 0.9583 - recall_5: 0.6970 - val_loss: 0.8727 - val_accuracy: 0.6522 - val_precision_5: 0.7778 - val_recall_5: 0.5385\n",
      "Epoch 52/100\n",
      "3/3 [==============================] - 2s 590ms/step - loss: 0.3426 - accuracy: 0.8406 - precision_5: 0.9583 - recall_5: 0.6970 - val_loss: 0.8108 - val_accuracy: 0.6522 - val_precision_5: 0.7273 - val_recall_5: 0.6154\n",
      "Epoch 53/100\n",
      "3/3 [==============================] - 2s 745ms/step - loss: 0.3691 - accuracy: 0.8406 - precision_5: 0.8667 - recall_5: 0.7879 - val_loss: 0.8634 - val_accuracy: 0.6957 - val_precision_5: 0.7500 - val_recall_5: 0.6923\n",
      "Epoch 54/100\n",
      "3/3 [==============================] - 2s 596ms/step - loss: 0.5841 - accuracy: 0.7826 - precision_5: 0.8214 - recall_5: 0.6970 - val_loss: 1.0657 - val_accuracy: 0.6087 - val_precision_5: 1.0000 - val_recall_5: 0.3077\n",
      "Epoch 55/100\n",
      "3/3 [==============================] - 2s 591ms/step - loss: 0.8354 - accuracy: 0.6377 - precision_5: 1.0000 - recall_5: 0.2424 - val_loss: 1.1110 - val_accuracy: 0.4783 - val_precision_5: 1.0000 - val_recall_5: 0.0769\n",
      "Epoch 56/100\n",
      "3/3 [==============================] - 2s 586ms/step - loss: 0.7955 - accuracy: 0.5797 - precision_5: 1.0000 - recall_5: 0.1212 - val_loss: 0.6218 - val_accuracy: 0.8261 - val_precision_5: 0.9091 - val_recall_5: 0.7692\n",
      "Epoch 57/100\n",
      "3/3 [==============================] - 2s 598ms/step - loss: 0.6246 - accuracy: 0.6812 - precision_5: 0.6122 - recall_5: 0.9091 - val_loss: 0.7273 - val_accuracy: 0.5652 - val_precision_5: 0.5652 - val_recall_5: 1.0000\n",
      "Epoch 58/100\n",
      "3/3 [==============================] - 2s 591ms/step - loss: 0.7997 - accuracy: 0.4783 - precision_5: 0.4783 - recall_5: 1.0000 - val_loss: 0.6333 - val_accuracy: 0.5652 - val_precision_5: 0.5652 - val_recall_5: 1.0000\n",
      "Epoch 59/100\n",
      "3/3 [==============================] - 2s 592ms/step - loss: 0.6283 - accuracy: 0.6232 - precision_5: 0.5854 - recall_5: 0.7273 - val_loss: 0.7143 - val_accuracy: 0.4783 - val_precision_5: 1.0000 - val_recall_5: 0.0769\n",
      "Epoch 60/100\n",
      "3/3 [==============================] - 2s 598ms/step - loss: 0.6506 - accuracy: 0.6087 - precision_5: 1.0000 - recall_5: 0.1818 - val_loss: 0.7318 - val_accuracy: 0.4783 - val_precision_5: 1.0000 - val_recall_5: 0.0769\n",
      "Epoch 61/100\n",
      "3/3 [==============================] - 2s 591ms/step - loss: 0.6204 - accuracy: 0.6377 - precision_5: 1.0000 - recall_5: 0.2424 - val_loss: 0.6020 - val_accuracy: 0.9130 - val_precision_5: 0.9231 - val_recall_5: 0.9231\n",
      "Epoch 62/100\n",
      "3/3 [==============================] - 2s 764ms/step - loss: 0.6024 - accuracy: 0.6377 - precision_5: 0.5800 - recall_5: 0.8788 - val_loss: 0.5734 - val_accuracy: 0.5652 - val_precision_5: 0.5652 - val_recall_5: 1.0000\n",
      "Epoch 63/100\n",
      "3/3 [==============================] - 2s 605ms/step - loss: 0.5959 - accuracy: 0.6087 - precision_5: 0.5556 - recall_5: 0.9091 - val_loss: 0.5304 - val_accuracy: 0.8261 - val_precision_5: 0.9091 - val_recall_5: 0.7692\n",
      "Epoch 64/100\n",
      "3/3 [==============================] - 2s 592ms/step - loss: 0.5387 - accuracy: 0.7391 - precision_5: 0.8571 - recall_5: 0.5455 - val_loss: 0.5081 - val_accuracy: 0.7826 - val_precision_5: 0.9000 - val_recall_5: 0.6923\n",
      "Epoch 65/100\n",
      "3/3 [==============================] - 2s 584ms/step - loss: 0.4936 - accuracy: 0.7536 - precision_5: 0.8333 - recall_5: 0.6061 - val_loss: 0.5577 - val_accuracy: 0.6957 - val_precision_5: 0.6500 - val_recall_5: 1.0000\n",
      "Epoch 66/100\n",
      "3/3 [==============================] - 2s 594ms/step - loss: 0.5355 - accuracy: 0.6812 - precision_5: 0.6078 - recall_5: 0.9394 - val_loss: 0.3990 - val_accuracy: 0.8696 - val_precision_5: 0.8571 - val_recall_5: 0.9231\n",
      "Epoch 67/100\n",
      "3/3 [==============================] - 2s 593ms/step - loss: 0.4300 - accuracy: 0.7826 - precision_5: 0.7500 - recall_5: 0.8182 - val_loss: 0.4221 - val_accuracy: 0.8696 - val_precision_5: 0.9167 - val_recall_5: 0.8462\n",
      "Epoch 68/100\n",
      "3/3 [==============================] - 2s 585ms/step - loss: 0.4341 - accuracy: 0.7971 - precision_5: 0.9130 - recall_5: 0.6364 - val_loss: 0.5299 - val_accuracy: 0.6522 - val_precision_5: 0.8571 - val_recall_5: 0.4615\n",
      "Epoch 69/100\n",
      "3/3 [==============================] - 2s 592ms/step - loss: 0.4831 - accuracy: 0.7536 - precision_5: 0.9444 - recall_5: 0.5152 - val_loss: 0.4181 - val_accuracy: 0.8696 - val_precision_5: 0.9167 - val_recall_5: 0.8462\n",
      "Epoch 70/100\n",
      "3/3 [==============================] - 2s 591ms/step - loss: 0.4154 - accuracy: 0.7826 - precision_5: 0.7647 - recall_5: 0.7879 - val_loss: 0.4222 - val_accuracy: 0.8696 - val_precision_5: 0.8571 - val_recall_5: 0.9231\n",
      "Epoch 71/100\n",
      "3/3 [==============================] - 2s 755ms/step - loss: 0.3978 - accuracy: 0.8116 - precision_5: 0.8333 - recall_5: 0.7576 - val_loss: 0.4400 - val_accuracy: 0.7391 - val_precision_5: 0.8889 - val_recall_5: 0.6154\n",
      "Epoch 72/100\n",
      "3/3 [==============================] - 2s 593ms/step - loss: 0.4193 - accuracy: 0.7971 - precision_5: 0.8800 - recall_5: 0.6667 - val_loss: 0.3765 - val_accuracy: 0.8696 - val_precision_5: 0.8571 - val_recall_5: 0.9231\n",
      "Epoch 73/100\n",
      "3/3 [==============================] - 2s 594ms/step - loss: 0.3929 - accuracy: 0.7826 - precision_5: 0.7500 - recall_5: 0.8182 - val_loss: 0.4171 - val_accuracy: 0.7826 - val_precision_5: 0.7222 - val_recall_5: 1.0000\n",
      "Epoch 74/100\n",
      "3/3 [==============================] - 2s 592ms/step - loss: 0.4363 - accuracy: 0.7536 - precision_5: 0.6667 - recall_5: 0.9697 - val_loss: 0.4032 - val_accuracy: 0.7826 - val_precision_5: 0.7222 - val_recall_5: 1.0000\n",
      "Epoch 75/100\n",
      "3/3 [==============================] - 2s 589ms/step - loss: 0.3892 - accuracy: 0.8261 - precision_5: 0.8000 - recall_5: 0.8485 - val_loss: 0.4489 - val_accuracy: 0.7826 - val_precision_5: 0.9000 - val_recall_5: 0.6923\n",
      "Epoch 76/100\n",
      "3/3 [==============================] - 2s 591ms/step - loss: 0.4809 - accuracy: 0.7971 - precision_5: 0.9524 - recall_5: 0.6061 - val_loss: 0.4098 - val_accuracy: 0.8261 - val_precision_5: 0.9091 - val_recall_5: 0.7692\n",
      "Epoch 77/100\n",
      "3/3 [==============================] - 2s 613ms/step - loss: 0.4455 - accuracy: 0.7971 - precision_5: 0.7714 - recall_5: 0.8182 - val_loss: 0.4361 - val_accuracy: 0.7826 - val_precision_5: 0.7222 - val_recall_5: 1.0000\n",
      "Epoch 78/100\n",
      "3/3 [==============================] - 2s 681ms/step - loss: 0.3928 - accuracy: 0.8116 - precision_5: 0.7381 - recall_5: 0.9394 - val_loss: 0.3879 - val_accuracy: 0.8261 - val_precision_5: 0.7647 - val_recall_5: 1.0000\n",
      "Epoch 79/100\n",
      "3/3 [==============================] - 2s 597ms/step - loss: 0.4255 - accuracy: 0.7536 - precision_5: 0.7500 - recall_5: 0.7273 - val_loss: 0.4453 - val_accuracy: 0.7826 - val_precision_5: 0.9000 - val_recall_5: 0.6923\n",
      "Epoch 80/100\n",
      "3/3 [==============================] - 2s 768ms/step - loss: 0.4288 - accuracy: 0.7826 - precision_5: 0.9091 - recall_5: 0.6061 - val_loss: 0.4173 - val_accuracy: 0.8696 - val_precision_5: 0.9167 - val_recall_5: 0.8462\n",
      "Epoch 81/100\n",
      "3/3 [==============================] - 2s 627ms/step - loss: 0.3961 - accuracy: 0.8116 - precision_5: 0.8333 - recall_5: 0.7576 - val_loss: 0.4009 - val_accuracy: 0.8261 - val_precision_5: 0.7647 - val_recall_5: 1.0000\n",
      "Epoch 82/100\n",
      "3/3 [==============================] - 2s 582ms/step - loss: 0.3929 - accuracy: 0.8551 - precision_5: 0.8286 - recall_5: 0.8788 - val_loss: 0.3661 - val_accuracy: 0.8696 - val_precision_5: 0.8125 - val_recall_5: 1.0000\n",
      "Epoch 83/100\n",
      "3/3 [==============================] - 2s 620ms/step - loss: 0.4275 - accuracy: 0.8261 - precision_5: 0.8387 - recall_5: 0.7879 - val_loss: 0.3519 - val_accuracy: 0.9130 - val_precision_5: 0.8667 - val_recall_5: 1.0000\n",
      "Epoch 84/100\n",
      "3/3 [==============================] - 2s 596ms/step - loss: 0.3848 - accuracy: 0.8696 - precision_5: 0.8529 - recall_5: 0.8788 - val_loss: 0.4803 - val_accuracy: 0.8261 - val_precision_5: 0.7647 - val_recall_5: 1.0000\n",
      "Epoch 85/100\n",
      "3/3 [==============================] - 2s 631ms/step - loss: 0.4083 - accuracy: 0.8406 - precision_5: 0.7619 - recall_5: 0.9697 - val_loss: 0.6073 - val_accuracy: 0.7826 - val_precision_5: 0.9000 - val_recall_5: 0.6923\n",
      "Epoch 86/100\n",
      "3/3 [==============================] - 2s 609ms/step - loss: 0.5880 - accuracy: 0.7391 - precision_5: 0.8571 - recall_5: 0.5455 - val_loss: 0.7821 - val_accuracy: 0.6957 - val_precision_5: 1.0000 - val_recall_5: 0.4615\n",
      "Epoch 87/100\n",
      "3/3 [==============================] - 2s 624ms/step - loss: 0.6664 - accuracy: 0.7246 - precision_5: 0.9375 - recall_5: 0.4545 - val_loss: 0.6576 - val_accuracy: 0.6957 - val_precision_5: 1.0000 - val_recall_5: 0.4615\n",
      "Epoch 88/100\n",
      "3/3 [==============================] - 2s 580ms/step - loss: 0.5500 - accuracy: 0.7246 - precision_5: 0.9375 - recall_5: 0.4545 - val_loss: 0.5534 - val_accuracy: 0.6522 - val_precision_5: 0.8571 - val_recall_5: 0.4615\n",
      "Epoch 89/100\n",
      "3/3 [==============================] - 2s 733ms/step - loss: 0.5008 - accuracy: 0.7681 - precision_5: 0.9474 - recall_5: 0.5455 - val_loss: 0.5413 - val_accuracy: 0.7391 - val_precision_5: 0.8889 - val_recall_5: 0.6154\n",
      "Epoch 90/100\n",
      "3/3 [==============================] - 2s 589ms/step - loss: 0.5290 - accuracy: 0.7826 - precision_5: 0.8214 - recall_5: 0.6970 - val_loss: 0.5614 - val_accuracy: 0.8261 - val_precision_5: 0.8000 - val_recall_5: 0.9231\n",
      "Epoch 91/100\n",
      "3/3 [==============================] - 2s 580ms/step - loss: 0.5192 - accuracy: 0.7536 - precision_5: 0.7500 - recall_5: 0.7273 - val_loss: 0.5511 - val_accuracy: 0.7391 - val_precision_5: 0.8889 - val_recall_5: 0.6154\n",
      "Epoch 92/100\n",
      "3/3 [==============================] - 2s 582ms/step - loss: 0.4740 - accuracy: 0.8261 - precision_5: 0.9565 - recall_5: 0.6667 - val_loss: 0.5882 - val_accuracy: 0.6522 - val_precision_5: 0.8571 - val_recall_5: 0.4615\n",
      "Epoch 93/100\n",
      "3/3 [==============================] - 2s 586ms/step - loss: 0.4601 - accuracy: 0.8261 - precision_5: 0.9565 - recall_5: 0.6667 - val_loss: 0.6132 - val_accuracy: 0.6957 - val_precision_5: 0.8750 - val_recall_5: 0.5385\n",
      "Epoch 94/100\n",
      "3/3 [==============================] - 2s 585ms/step - loss: 0.4474 - accuracy: 0.8261 - precision_5: 0.9565 - recall_5: 0.6667 - val_loss: 0.5771 - val_accuracy: 0.7391 - val_precision_5: 0.8889 - val_recall_5: 0.6154\n",
      "Epoch 95/100\n",
      "3/3 [==============================] - 2s 582ms/step - loss: 0.4353 - accuracy: 0.8116 - precision_5: 0.9167 - recall_5: 0.6667 - val_loss: 0.5543 - val_accuracy: 0.7391 - val_precision_5: 0.8889 - val_recall_5: 0.6154\n",
      "Epoch 96/100\n",
      "3/3 [==============================] - 2s 578ms/step - loss: 0.4158 - accuracy: 0.7971 - precision_5: 0.8800 - recall_5: 0.6667 - val_loss: 0.5455 - val_accuracy: 0.7391 - val_precision_5: 0.8889 - val_recall_5: 0.6154\n",
      "Epoch 97/100\n",
      "3/3 [==============================] - 2s 578ms/step - loss: 0.4144 - accuracy: 0.8116 - precision_5: 0.9167 - recall_5: 0.6667 - val_loss: 0.5493 - val_accuracy: 0.7391 - val_precision_5: 0.8889 - val_recall_5: 0.6154\n",
      "Epoch 98/100\n",
      "3/3 [==============================] - 2s 752ms/step - loss: 0.4073 - accuracy: 0.8116 - precision_5: 0.9167 - recall_5: 0.6667 - val_loss: 0.5388 - val_accuracy: 0.7391 - val_precision_5: 0.8889 - val_recall_5: 0.6154\n",
      "Epoch 99/100\n",
      "3/3 [==============================] - 2s 584ms/step - loss: 0.3747 - accuracy: 0.8116 - precision_5: 0.8846 - recall_5: 0.6970 - val_loss: 0.5652 - val_accuracy: 0.8696 - val_precision_5: 0.8571 - val_recall_5: 0.9231\n",
      "Epoch 100/100\n",
      "3/3 [==============================] - 2s 584ms/step - loss: 0.4179 - accuracy: 0.7681 - precision_5: 0.7429 - recall_5: 0.7879 - val_loss: 0.5732 - val_accuracy: 0.8261 - val_precision_5: 0.8000 - val_recall_5: 0.9231\n"
     ]
    }
   ],
   "source": [
    "history = model.fit(X_train, y_train, epochs = 100, validation_data = (X_test, y_test))"
   ]
  },
  {
   "cell_type": "markdown",
   "metadata": {},
   "source": [
    "## We can also plot our results for a visualization of overfitting. And we need to get precision + recall. "
   ]
  },
  {
   "cell_type": "code",
   "execution_count": 17,
   "metadata": {
    "scrolled": false
   },
   "outputs": [
    {
     "output_type": "display_data",
     "data": {
      "text/plain": "<Figure size 432x288 with 1 Axes>",
      "image/svg+xml": "<?xml version=\"1.0\" encoding=\"utf-8\" standalone=\"no\"?>\n<!DOCTYPE svg PUBLIC \"-//W3C//DTD SVG 1.1//EN\"\n  \"http://www.w3.org/Graphics/SVG/1.1/DTD/svg11.dtd\">\n<svg height=\"277.314375pt\" version=\"1.1\" viewBox=\"0 0 385.78125 277.314375\" width=\"385.78125pt\" xmlns=\"http://www.w3.org/2000/svg\" xmlns:xlink=\"http://www.w3.org/1999/xlink\">\n <metadata>\n  <rdf:RDF xmlns:cc=\"http://creativecommons.org/ns#\" xmlns:dc=\"http://purl.org/dc/elements/1.1/\" xmlns:rdf=\"http://www.w3.org/1999/02/22-rdf-syntax-ns#\">\n   <cc:Work>\n    <dc:type rdf:resource=\"http://purl.org/dc/dcmitype/StillImage\"/>\n    <dc:date>2021-07-12T14:44:21.450312</dc:date>\n    <dc:format>image/svg+xml</dc:format>\n    <dc:creator>\n     <cc:Agent>\n      <dc:title>Matplotlib v3.4.1, https://matplotlib.org/</dc:title>\n     </cc:Agent>\n    </dc:creator>\n   </cc:Work>\n  </rdf:RDF>\n </metadata>\n <defs>\n  <style type=\"text/css\">*{stroke-linecap:butt;stroke-linejoin:round;}</style>\n </defs>\n <g id=\"figure_1\">\n  <g id=\"patch_1\">\n   <path d=\"M 0 277.314375 \nL 385.78125 277.314375 \nL 385.78125 0 \nL 0 0 \nz\n\" style=\"fill:none;\"/>\n  </g>\n  <g id=\"axes_1\">\n   <g id=\"patch_2\">\n    <path d=\"M 43.78125 239.758125 \nL 378.58125 239.758125 \nL 378.58125 22.318125 \nL 43.78125 22.318125 \nz\n\" style=\"fill:#ffffff;\"/>\n   </g>\n   <g id=\"matplotlib.axis_1\">\n    <g id=\"xtick_1\">\n     <g id=\"line2d_1\">\n      <defs>\n       <path d=\"M 0 0 \nL 0 3.5 \n\" id=\"m79a438c8db\" style=\"stroke:#000000;stroke-width:0.8;\"/>\n      </defs>\n      <g>\n       <use style=\"stroke:#000000;stroke-width:0.8;\" x=\"58.999432\" xlink:href=\"#m79a438c8db\" y=\"239.758125\"/>\n      </g>\n     </g>\n     <g id=\"text_1\">\n      <!-- 0 -->\n      <g transform=\"translate(55.818182 254.356562)scale(0.1 -0.1)\">\n       <defs>\n        <path d=\"M 2034 4250 \nQ 1547 4250 1301 3770 \nQ 1056 3291 1056 2328 \nQ 1056 1369 1301 889 \nQ 1547 409 2034 409 \nQ 2525 409 2770 889 \nQ 3016 1369 3016 2328 \nQ 3016 3291 2770 3770 \nQ 2525 4250 2034 4250 \nz\nM 2034 4750 \nQ 2819 4750 3233 4129 \nQ 3647 3509 3647 2328 \nQ 3647 1150 3233 529 \nQ 2819 -91 2034 -91 \nQ 1250 -91 836 529 \nQ 422 1150 422 2328 \nQ 422 3509 836 4129 \nQ 1250 4750 2034 4750 \nz\n\" id=\"DejaVuSans-30\" transform=\"scale(0.015625)\"/>\n       </defs>\n       <use xlink:href=\"#DejaVuSans-30\"/>\n      </g>\n     </g>\n    </g>\n    <g id=\"xtick_2\">\n     <g id=\"line2d_2\">\n      <g>\n       <use style=\"stroke:#000000;stroke-width:0.8;\" x=\"120.487035\" xlink:href=\"#m79a438c8db\" y=\"239.758125\"/>\n      </g>\n     </g>\n     <g id=\"text_2\">\n      <!-- 20 -->\n      <g transform=\"translate(114.124535 254.356562)scale(0.1 -0.1)\">\n       <defs>\n        <path d=\"M 1228 531 \nL 3431 531 \nL 3431 0 \nL 469 0 \nL 469 531 \nQ 828 903 1448 1529 \nQ 2069 2156 2228 2338 \nQ 2531 2678 2651 2914 \nQ 2772 3150 2772 3378 \nQ 2772 3750 2511 3984 \nQ 2250 4219 1831 4219 \nQ 1534 4219 1204 4116 \nQ 875 4013 500 3803 \nL 500 4441 \nQ 881 4594 1212 4672 \nQ 1544 4750 1819 4750 \nQ 2544 4750 2975 4387 \nQ 3406 4025 3406 3419 \nQ 3406 3131 3298 2873 \nQ 3191 2616 2906 2266 \nQ 2828 2175 2409 1742 \nQ 1991 1309 1228 531 \nz\n\" id=\"DejaVuSans-32\" transform=\"scale(0.015625)\"/>\n       </defs>\n       <use xlink:href=\"#DejaVuSans-32\"/>\n       <use x=\"63.623047\" xlink:href=\"#DejaVuSans-30\"/>\n      </g>\n     </g>\n    </g>\n    <g id=\"xtick_3\">\n     <g id=\"line2d_3\">\n      <g>\n       <use style=\"stroke:#000000;stroke-width:0.8;\" x=\"181.974638\" xlink:href=\"#m79a438c8db\" y=\"239.758125\"/>\n      </g>\n     </g>\n     <g id=\"text_3\">\n      <!-- 40 -->\n      <g transform=\"translate(175.612138 254.356562)scale(0.1 -0.1)\">\n       <defs>\n        <path d=\"M 2419 4116 \nL 825 1625 \nL 2419 1625 \nL 2419 4116 \nz\nM 2253 4666 \nL 3047 4666 \nL 3047 1625 \nL 3713 1625 \nL 3713 1100 \nL 3047 1100 \nL 3047 0 \nL 2419 0 \nL 2419 1100 \nL 313 1100 \nL 313 1709 \nL 2253 4666 \nz\n\" id=\"DejaVuSans-34\" transform=\"scale(0.015625)\"/>\n       </defs>\n       <use xlink:href=\"#DejaVuSans-34\"/>\n       <use x=\"63.623047\" xlink:href=\"#DejaVuSans-30\"/>\n      </g>\n     </g>\n    </g>\n    <g id=\"xtick_4\">\n     <g id=\"line2d_4\">\n      <g>\n       <use style=\"stroke:#000000;stroke-width:0.8;\" x=\"243.462242\" xlink:href=\"#m79a438c8db\" y=\"239.758125\"/>\n      </g>\n     </g>\n     <g id=\"text_4\">\n      <!-- 60 -->\n      <g transform=\"translate(237.099742 254.356562)scale(0.1 -0.1)\">\n       <defs>\n        <path d=\"M 2113 2584 \nQ 1688 2584 1439 2293 \nQ 1191 2003 1191 1497 \nQ 1191 994 1439 701 \nQ 1688 409 2113 409 \nQ 2538 409 2786 701 \nQ 3034 994 3034 1497 \nQ 3034 2003 2786 2293 \nQ 2538 2584 2113 2584 \nz\nM 3366 4563 \nL 3366 3988 \nQ 3128 4100 2886 4159 \nQ 2644 4219 2406 4219 \nQ 1781 4219 1451 3797 \nQ 1122 3375 1075 2522 \nQ 1259 2794 1537 2939 \nQ 1816 3084 2150 3084 \nQ 2853 3084 3261 2657 \nQ 3669 2231 3669 1497 \nQ 3669 778 3244 343 \nQ 2819 -91 2113 -91 \nQ 1303 -91 875 529 \nQ 447 1150 447 2328 \nQ 447 3434 972 4092 \nQ 1497 4750 2381 4750 \nQ 2619 4750 2861 4703 \nQ 3103 4656 3366 4563 \nz\n\" id=\"DejaVuSans-36\" transform=\"scale(0.015625)\"/>\n       </defs>\n       <use xlink:href=\"#DejaVuSans-36\"/>\n       <use x=\"63.623047\" xlink:href=\"#DejaVuSans-30\"/>\n      </g>\n     </g>\n    </g>\n    <g id=\"xtick_5\">\n     <g id=\"line2d_5\">\n      <g>\n       <use style=\"stroke:#000000;stroke-width:0.8;\" x=\"304.949845\" xlink:href=\"#m79a438c8db\" y=\"239.758125\"/>\n      </g>\n     </g>\n     <g id=\"text_5\">\n      <!-- 80 -->\n      <g transform=\"translate(298.587345 254.356562)scale(0.1 -0.1)\">\n       <defs>\n        <path d=\"M 2034 2216 \nQ 1584 2216 1326 1975 \nQ 1069 1734 1069 1313 \nQ 1069 891 1326 650 \nQ 1584 409 2034 409 \nQ 2484 409 2743 651 \nQ 3003 894 3003 1313 \nQ 3003 1734 2745 1975 \nQ 2488 2216 2034 2216 \nz\nM 1403 2484 \nQ 997 2584 770 2862 \nQ 544 3141 544 3541 \nQ 544 4100 942 4425 \nQ 1341 4750 2034 4750 \nQ 2731 4750 3128 4425 \nQ 3525 4100 3525 3541 \nQ 3525 3141 3298 2862 \nQ 3072 2584 2669 2484 \nQ 3125 2378 3379 2068 \nQ 3634 1759 3634 1313 \nQ 3634 634 3220 271 \nQ 2806 -91 2034 -91 \nQ 1263 -91 848 271 \nQ 434 634 434 1313 \nQ 434 1759 690 2068 \nQ 947 2378 1403 2484 \nz\nM 1172 3481 \nQ 1172 3119 1398 2916 \nQ 1625 2713 2034 2713 \nQ 2441 2713 2670 2916 \nQ 2900 3119 2900 3481 \nQ 2900 3844 2670 4047 \nQ 2441 4250 2034 4250 \nQ 1625 4250 1398 4047 \nQ 1172 3844 1172 3481 \nz\n\" id=\"DejaVuSans-38\" transform=\"scale(0.015625)\"/>\n       </defs>\n       <use xlink:href=\"#DejaVuSans-38\"/>\n       <use x=\"63.623047\" xlink:href=\"#DejaVuSans-30\"/>\n      </g>\n     </g>\n    </g>\n    <g id=\"xtick_6\">\n     <g id=\"line2d_6\">\n      <g>\n       <use style=\"stroke:#000000;stroke-width:0.8;\" x=\"366.437448\" xlink:href=\"#m79a438c8db\" y=\"239.758125\"/>\n      </g>\n     </g>\n     <g id=\"text_6\">\n      <!-- 100 -->\n      <g transform=\"translate(356.893698 254.356562)scale(0.1 -0.1)\">\n       <defs>\n        <path d=\"M 794 531 \nL 1825 531 \nL 1825 4091 \nL 703 3866 \nL 703 4441 \nL 1819 4666 \nL 2450 4666 \nL 2450 531 \nL 3481 531 \nL 3481 0 \nL 794 0 \nL 794 531 \nz\n\" id=\"DejaVuSans-31\" transform=\"scale(0.015625)\"/>\n       </defs>\n       <use xlink:href=\"#DejaVuSans-31\"/>\n       <use x=\"63.623047\" xlink:href=\"#DejaVuSans-30\"/>\n       <use x=\"127.246094\" xlink:href=\"#DejaVuSans-30\"/>\n      </g>\n     </g>\n    </g>\n    <g id=\"text_7\">\n     <!-- epoch -->\n     <g transform=\"translate(195.953125 268.034687)scale(0.1 -0.1)\">\n      <defs>\n       <path d=\"M 3597 1894 \nL 3597 1613 \nL 953 1613 \nQ 991 1019 1311 708 \nQ 1631 397 2203 397 \nQ 2534 397 2845 478 \nQ 3156 559 3463 722 \nL 3463 178 \nQ 3153 47 2828 -22 \nQ 2503 -91 2169 -91 \nQ 1331 -91 842 396 \nQ 353 884 353 1716 \nQ 353 2575 817 3079 \nQ 1281 3584 2069 3584 \nQ 2775 3584 3186 3129 \nQ 3597 2675 3597 1894 \nz\nM 3022 2063 \nQ 3016 2534 2758 2815 \nQ 2500 3097 2075 3097 \nQ 1594 3097 1305 2825 \nQ 1016 2553 972 2059 \nL 3022 2063 \nz\n\" id=\"DejaVuSans-65\" transform=\"scale(0.015625)\"/>\n       <path d=\"M 1159 525 \nL 1159 -1331 \nL 581 -1331 \nL 581 3500 \nL 1159 3500 \nL 1159 2969 \nQ 1341 3281 1617 3432 \nQ 1894 3584 2278 3584 \nQ 2916 3584 3314 3078 \nQ 3713 2572 3713 1747 \nQ 3713 922 3314 415 \nQ 2916 -91 2278 -91 \nQ 1894 -91 1617 61 \nQ 1341 213 1159 525 \nz\nM 3116 1747 \nQ 3116 2381 2855 2742 \nQ 2594 3103 2138 3103 \nQ 1681 3103 1420 2742 \nQ 1159 2381 1159 1747 \nQ 1159 1113 1420 752 \nQ 1681 391 2138 391 \nQ 2594 391 2855 752 \nQ 3116 1113 3116 1747 \nz\n\" id=\"DejaVuSans-70\" transform=\"scale(0.015625)\"/>\n       <path d=\"M 1959 3097 \nQ 1497 3097 1228 2736 \nQ 959 2375 959 1747 \nQ 959 1119 1226 758 \nQ 1494 397 1959 397 \nQ 2419 397 2687 759 \nQ 2956 1122 2956 1747 \nQ 2956 2369 2687 2733 \nQ 2419 3097 1959 3097 \nz\nM 1959 3584 \nQ 2709 3584 3137 3096 \nQ 3566 2609 3566 1747 \nQ 3566 888 3137 398 \nQ 2709 -91 1959 -91 \nQ 1206 -91 779 398 \nQ 353 888 353 1747 \nQ 353 2609 779 3096 \nQ 1206 3584 1959 3584 \nz\n\" id=\"DejaVuSans-6f\" transform=\"scale(0.015625)\"/>\n       <path d=\"M 3122 3366 \nL 3122 2828 \nQ 2878 2963 2633 3030 \nQ 2388 3097 2138 3097 \nQ 1578 3097 1268 2742 \nQ 959 2388 959 1747 \nQ 959 1106 1268 751 \nQ 1578 397 2138 397 \nQ 2388 397 2633 464 \nQ 2878 531 3122 666 \nL 3122 134 \nQ 2881 22 2623 -34 \nQ 2366 -91 2075 -91 \nQ 1284 -91 818 406 \nQ 353 903 353 1747 \nQ 353 2603 823 3093 \nQ 1294 3584 2113 3584 \nQ 2378 3584 2631 3529 \nQ 2884 3475 3122 3366 \nz\n\" id=\"DejaVuSans-63\" transform=\"scale(0.015625)\"/>\n       <path d=\"M 3513 2113 \nL 3513 0 \nL 2938 0 \nL 2938 2094 \nQ 2938 2591 2744 2837 \nQ 2550 3084 2163 3084 \nQ 1697 3084 1428 2787 \nQ 1159 2491 1159 1978 \nL 1159 0 \nL 581 0 \nL 581 4863 \nL 1159 4863 \nL 1159 2956 \nQ 1366 3272 1645 3428 \nQ 1925 3584 2291 3584 \nQ 2894 3584 3203 3211 \nQ 3513 2838 3513 2113 \nz\n\" id=\"DejaVuSans-68\" transform=\"scale(0.015625)\"/>\n      </defs>\n      <use xlink:href=\"#DejaVuSans-65\"/>\n      <use x=\"61.523438\" xlink:href=\"#DejaVuSans-70\"/>\n      <use x=\"125\" xlink:href=\"#DejaVuSans-6f\"/>\n      <use x=\"186.181641\" xlink:href=\"#DejaVuSans-63\"/>\n      <use x=\"241.162109\" xlink:href=\"#DejaVuSans-68\"/>\n     </g>\n    </g>\n   </g>\n   <g id=\"matplotlib.axis_2\">\n    <g id=\"ytick_1\">\n     <g id=\"line2d_7\">\n      <defs>\n       <path d=\"M 0 0 \nL -3.5 0 \n\" id=\"m65faa6344b\" style=\"stroke:#000000;stroke-width:0.8;\"/>\n      </defs>\n      <g>\n       <use style=\"stroke:#000000;stroke-width:0.8;\" x=\"43.78125\" xlink:href=\"#m65faa6344b\" y=\"220.309682\"/>\n      </g>\n     </g>\n     <g id=\"text_8\">\n      <!-- 0.5 -->\n      <g transform=\"translate(20.878125 224.108901)scale(0.1 -0.1)\">\n       <defs>\n        <path d=\"M 684 794 \nL 1344 794 \nL 1344 0 \nL 684 0 \nL 684 794 \nz\n\" id=\"DejaVuSans-2e\" transform=\"scale(0.015625)\"/>\n        <path d=\"M 691 4666 \nL 3169 4666 \nL 3169 4134 \nL 1269 4134 \nL 1269 2991 \nQ 1406 3038 1543 3061 \nQ 1681 3084 1819 3084 \nQ 2600 3084 3056 2656 \nQ 3513 2228 3513 1497 \nQ 3513 744 3044 326 \nQ 2575 -91 1722 -91 \nQ 1428 -91 1123 -41 \nQ 819 9 494 109 \nL 494 744 \nQ 775 591 1075 516 \nQ 1375 441 1709 441 \nQ 2250 441 2565 725 \nQ 2881 1009 2881 1497 \nQ 2881 1984 2565 2268 \nQ 2250 2553 1709 2553 \nQ 1456 2553 1204 2497 \nQ 953 2441 691 2322 \nL 691 4666 \nz\n\" id=\"DejaVuSans-35\" transform=\"scale(0.015625)\"/>\n       </defs>\n       <use xlink:href=\"#DejaVuSans-30\"/>\n       <use x=\"63.623047\" xlink:href=\"#DejaVuSans-2e\"/>\n       <use x=\"95.410156\" xlink:href=\"#DejaVuSans-35\"/>\n      </g>\n     </g>\n    </g>\n    <g id=\"ytick_2\">\n     <g id=\"line2d_8\">\n      <g>\n       <use style=\"stroke:#000000;stroke-width:0.8;\" x=\"43.78125\" xlink:href=\"#m65faa6344b\" y=\"176.31156\"/>\n      </g>\n     </g>\n     <g id=\"text_9\">\n      <!-- 0.6 -->\n      <g transform=\"translate(20.878125 180.110779)scale(0.1 -0.1)\">\n       <use xlink:href=\"#DejaVuSans-30\"/>\n       <use x=\"63.623047\" xlink:href=\"#DejaVuSans-2e\"/>\n       <use x=\"95.410156\" xlink:href=\"#DejaVuSans-36\"/>\n      </g>\n     </g>\n    </g>\n    <g id=\"ytick_3\">\n     <g id=\"line2d_9\">\n      <g>\n       <use style=\"stroke:#000000;stroke-width:0.8;\" x=\"43.78125\" xlink:href=\"#m65faa6344b\" y=\"132.313438\"/>\n      </g>\n     </g>\n     <g id=\"text_10\">\n      <!-- 0.7 -->\n      <g transform=\"translate(20.878125 136.112657)scale(0.1 -0.1)\">\n       <defs>\n        <path d=\"M 525 4666 \nL 3525 4666 \nL 3525 4397 \nL 1831 0 \nL 1172 0 \nL 2766 4134 \nL 525 4134 \nL 525 4666 \nz\n\" id=\"DejaVuSans-37\" transform=\"scale(0.015625)\"/>\n       </defs>\n       <use xlink:href=\"#DejaVuSans-30\"/>\n       <use x=\"63.623047\" xlink:href=\"#DejaVuSans-2e\"/>\n       <use x=\"95.410156\" xlink:href=\"#DejaVuSans-37\"/>\n      </g>\n     </g>\n    </g>\n    <g id=\"ytick_4\">\n     <g id=\"line2d_10\">\n      <g>\n       <use style=\"stroke:#000000;stroke-width:0.8;\" x=\"43.78125\" xlink:href=\"#m65faa6344b\" y=\"88.315316\"/>\n      </g>\n     </g>\n     <g id=\"text_11\">\n      <!-- 0.8 -->\n      <g transform=\"translate(20.878125 92.114535)scale(0.1 -0.1)\">\n       <use xlink:href=\"#DejaVuSans-30\"/>\n       <use x=\"63.623047\" xlink:href=\"#DejaVuSans-2e\"/>\n       <use x=\"95.410156\" xlink:href=\"#DejaVuSans-38\"/>\n      </g>\n     </g>\n    </g>\n    <g id=\"ytick_5\">\n     <g id=\"line2d_11\">\n      <g>\n       <use style=\"stroke:#000000;stroke-width:0.8;\" x=\"43.78125\" xlink:href=\"#m65faa6344b\" y=\"44.317194\"/>\n      </g>\n     </g>\n     <g id=\"text_12\">\n      <!-- 0.9 -->\n      <g transform=\"translate(20.878125 48.116413)scale(0.1 -0.1)\">\n       <defs>\n        <path d=\"M 703 97 \nL 703 672 \nQ 941 559 1184 500 \nQ 1428 441 1663 441 \nQ 2288 441 2617 861 \nQ 2947 1281 2994 2138 \nQ 2813 1869 2534 1725 \nQ 2256 1581 1919 1581 \nQ 1219 1581 811 2004 \nQ 403 2428 403 3163 \nQ 403 3881 828 4315 \nQ 1253 4750 1959 4750 \nQ 2769 4750 3195 4129 \nQ 3622 3509 3622 2328 \nQ 3622 1225 3098 567 \nQ 2575 -91 1691 -91 \nQ 1453 -91 1209 -44 \nQ 966 3 703 97 \nz\nM 1959 2075 \nQ 2384 2075 2632 2365 \nQ 2881 2656 2881 3163 \nQ 2881 3666 2632 3958 \nQ 2384 4250 1959 4250 \nQ 1534 4250 1286 3958 \nQ 1038 3666 1038 3163 \nQ 1038 2656 1286 2365 \nQ 1534 2075 1959 2075 \nz\n\" id=\"DejaVuSans-39\" transform=\"scale(0.015625)\"/>\n       </defs>\n       <use xlink:href=\"#DejaVuSans-30\"/>\n       <use x=\"63.623047\" xlink:href=\"#DejaVuSans-2e\"/>\n       <use x=\"95.410156\" xlink:href=\"#DejaVuSans-39\"/>\n      </g>\n     </g>\n    </g>\n    <g id=\"text_13\">\n     <!-- accuracy -->\n     <g transform=\"translate(14.798438 153.5975)rotate(-90)scale(0.1 -0.1)\">\n      <defs>\n       <path d=\"M 2194 1759 \nQ 1497 1759 1228 1600 \nQ 959 1441 959 1056 \nQ 959 750 1161 570 \nQ 1363 391 1709 391 \nQ 2188 391 2477 730 \nQ 2766 1069 2766 1631 \nL 2766 1759 \nL 2194 1759 \nz\nM 3341 1997 \nL 3341 0 \nL 2766 0 \nL 2766 531 \nQ 2569 213 2275 61 \nQ 1981 -91 1556 -91 \nQ 1019 -91 701 211 \nQ 384 513 384 1019 \nQ 384 1609 779 1909 \nQ 1175 2209 1959 2209 \nL 2766 2209 \nL 2766 2266 \nQ 2766 2663 2505 2880 \nQ 2244 3097 1772 3097 \nQ 1472 3097 1187 3025 \nQ 903 2953 641 2809 \nL 641 3341 \nQ 956 3463 1253 3523 \nQ 1550 3584 1831 3584 \nQ 2591 3584 2966 3190 \nQ 3341 2797 3341 1997 \nz\n\" id=\"DejaVuSans-61\" transform=\"scale(0.015625)\"/>\n       <path d=\"M 544 1381 \nL 544 3500 \nL 1119 3500 \nL 1119 1403 \nQ 1119 906 1312 657 \nQ 1506 409 1894 409 \nQ 2359 409 2629 706 \nQ 2900 1003 2900 1516 \nL 2900 3500 \nL 3475 3500 \nL 3475 0 \nL 2900 0 \nL 2900 538 \nQ 2691 219 2414 64 \nQ 2138 -91 1772 -91 \nQ 1169 -91 856 284 \nQ 544 659 544 1381 \nz\nM 1991 3584 \nL 1991 3584 \nz\n\" id=\"DejaVuSans-75\" transform=\"scale(0.015625)\"/>\n       <path d=\"M 2631 2963 \nQ 2534 3019 2420 3045 \nQ 2306 3072 2169 3072 \nQ 1681 3072 1420 2755 \nQ 1159 2438 1159 1844 \nL 1159 0 \nL 581 0 \nL 581 3500 \nL 1159 3500 \nL 1159 2956 \nQ 1341 3275 1631 3429 \nQ 1922 3584 2338 3584 \nQ 2397 3584 2469 3576 \nQ 2541 3569 2628 3553 \nL 2631 2963 \nz\n\" id=\"DejaVuSans-72\" transform=\"scale(0.015625)\"/>\n       <path d=\"M 2059 -325 \nQ 1816 -950 1584 -1140 \nQ 1353 -1331 966 -1331 \nL 506 -1331 \nL 506 -850 \nL 844 -850 \nQ 1081 -850 1212 -737 \nQ 1344 -625 1503 -206 \nL 1606 56 \nL 191 3500 \nL 800 3500 \nL 1894 763 \nL 2988 3500 \nL 3597 3500 \nL 2059 -325 \nz\n\" id=\"DejaVuSans-79\" transform=\"scale(0.015625)\"/>\n      </defs>\n      <use xlink:href=\"#DejaVuSans-61\"/>\n      <use x=\"61.279297\" xlink:href=\"#DejaVuSans-63\"/>\n      <use x=\"116.259766\" xlink:href=\"#DejaVuSans-63\"/>\n      <use x=\"171.240234\" xlink:href=\"#DejaVuSans-75\"/>\n      <use x=\"234.619141\" xlink:href=\"#DejaVuSans-72\"/>\n      <use x=\"275.732422\" xlink:href=\"#DejaVuSans-61\"/>\n      <use x=\"337.011719\" xlink:href=\"#DejaVuSans-63\"/>\n      <use x=\"391.992188\" xlink:href=\"#DejaVuSans-79\"/>\n     </g>\n    </g>\n   </g>\n   <g id=\"line2d_12\">\n    <path clip-path=\"url(#paed403b2bd)\" d=\"M 58.999432 229.874489 \nL 62.073812 134.226394 \nL 65.148192 108.720242 \nL 68.222572 102.343704 \nL 71.296952 121.473318 \nL 74.371333 83.214091 \nL 77.445713 108.720242 \nL 80.520093 108.720242 \nL 83.594473 83.214091 \nL 86.668853 76.837553 \nL 89.743233 70.461015 \nL 92.817614 70.461015 \nL 95.891994 83.214091 \nL 98.966374 76.837553 \nL 102.040754 83.214091 \nL 105.115134 108.720242 \nL 108.189514 115.09678 \nL 111.263895 95.967167 \nL 114.338275 95.967167 \nL 117.412655 102.343704 \nL 120.487035 95.967167 \nL 123.561415 70.461015 \nL 126.635795 83.214091 \nL 129.710176 102.343704 \nL 132.784556 108.720242 \nL 135.858936 95.967167 \nL 138.933316 95.967167 \nL 142.007696 89.590629 \nL 145.082076 89.590629 \nL 148.156457 95.967167 \nL 151.230837 89.590629 \nL 154.305217 89.590629 \nL 157.379597 95.967167 \nL 160.453977 89.590629 \nL 163.528357 64.084477 \nL 166.602738 83.214091 \nL 169.677118 70.461015 \nL 172.751498 102.343704 \nL 175.825878 70.461015 \nL 178.900258 89.590629 \nL 181.974638 83.214091 \nL 185.049019 83.214091 \nL 188.123399 83.214091 \nL 191.197779 83.214091 \nL 194.272159 83.214091 \nL 197.346539 70.461015 \nL 200.420919 70.461015 \nL 203.4953 64.084477 \nL 206.56968 76.837553 \nL 209.64406 57.707939 \nL 212.71844 76.837553 \nL 215.79282 57.707939 \nL 218.8672 57.707939 \nL 221.941581 64.084477 \nL 225.015961 64.084477 \nL 228.090341 70.461015 \nL 231.164721 70.461015 \nL 234.239101 76.837553 \nL 237.313481 57.707939 \nL 240.387862 32.201761 \nL 243.462242 89.590629 \nL 246.536622 57.707939 \nL 249.611002 134.226394 \nL 252.685382 121.473318 \nL 255.759762 102.343704 \nL 258.834143 83.214091 \nL 261.908523 89.590629 \nL 264.982903 76.837553 \nL 268.057283 64.084477 \nL 271.131663 89.590629 \nL 274.206043 76.837553 \nL 277.280424 83.214091 \nL 280.354804 76.837553 \nL 283.429184 83.214091 \nL 286.503564 70.461015 \nL 289.577944 64.084477 \nL 292.652324 76.837553 \nL 295.726705 70.461015 \nL 298.801085 57.707939 \nL 301.875465 44.954837 \nL 304.949845 57.707939 \nL 308.024225 57.707939 \nL 311.098605 57.707939 \nL 314.172986 64.084477 \nL 317.247366 57.707939 \nL 320.321746 51.331375 \nL 323.396126 76.837553 \nL 326.470506 70.461015 \nL 329.544886 70.461015 \nL 332.619267 70.461015 \nL 335.693647 57.707939 \nL 338.768027 64.084477 \nL 341.842407 57.707939 \nL 344.916787 57.707939 \nL 347.991167 51.331375 \nL 351.065548 57.707939 \nL 354.139928 64.084477 \nL 357.214308 51.331375 \nL 360.288688 89.590629 \nL 363.363068 57.707939 \n\" style=\"fill:none;stroke:#1f77b4;stroke-linecap:square;stroke-width:1.5;\"/>\n   </g>\n   <g id=\"line2d_13\">\n    <path clip-path=\"url(#paed403b2bd)\" d=\"M 58.999432 153.356008 \nL 62.073812 115.09678 \nL 65.148192 57.707939 \nL 68.222572 95.967167 \nL 71.296952 115.09678 \nL 74.371333 95.967167 \nL 77.445713 95.967167 \nL 80.520093 95.967167 \nL 83.594473 95.967167 \nL 86.668853 38.578299 \nL 89.743233 57.707939 \nL 92.817614 57.707939 \nL 95.891994 38.578299 \nL 98.966374 76.837553 \nL 102.040754 76.837553 \nL 105.115134 95.967167 \nL 108.189514 95.967167 \nL 111.263895 95.967167 \nL 114.338275 95.967167 \nL 117.412655 76.837553 \nL 120.487035 57.707939 \nL 123.561415 95.967167 \nL 126.635795 95.967167 \nL 129.710176 115.09678 \nL 132.784556 115.09678 \nL 135.858936 115.09678 \nL 138.933316 95.967167 \nL 142.007696 95.967167 \nL 145.082076 95.967167 \nL 148.156457 76.837553 \nL 151.230837 95.967167 \nL 154.305217 95.967167 \nL 157.379597 95.967167 \nL 160.453977 38.578299 \nL 163.528357 115.09678 \nL 166.602738 57.707939 \nL 169.677118 95.967167 \nL 172.751498 57.707939 \nL 175.825878 95.967167 \nL 178.900258 76.837553 \nL 181.974638 95.967167 \nL 185.049019 76.837553 \nL 188.123399 95.967167 \nL 191.197779 95.967167 \nL 194.272159 95.967167 \nL 197.346539 95.967167 \nL 200.420919 76.837553 \nL 203.4953 57.707939 \nL 206.56968 57.707939 \nL 209.64406 95.967167 \nL 212.71844 95.967167 \nL 215.79282 57.707939 \nL 218.8672 38.578299 \nL 221.941581 38.578299 \nL 225.015961 38.578299 \nL 228.090341 76.837553 \nL 231.164721 115.09678 \nL 234.239101 134.226394 \nL 237.313481 115.09678 \nL 240.387862 76.837553 \nL 243.462242 57.707939 \nL 246.536622 229.874489 \nL 249.611002 210.744875 \nL 252.685382 210.744875 \nL 255.759762 95.967167 \nL 258.834143 95.967167 \nL 261.908523 76.837553 \nL 264.982903 57.707939 \nL 268.057283 76.837553 \nL 271.131663 95.967167 \nL 274.206043 76.837553 \nL 277.280424 57.707939 \nL 280.354804 76.837553 \nL 283.429184 76.837553 \nL 286.503564 57.707939 \nL 289.577944 76.837553 \nL 292.652324 95.967167 \nL 295.726705 57.707939 \nL 298.801085 57.707939 \nL 301.875465 76.837553 \nL 304.949845 95.967167 \nL 308.024225 95.967167 \nL 311.098605 57.707939 \nL 314.172986 57.707939 \nL 317.247366 57.707939 \nL 320.321746 57.707939 \nL 323.396126 76.837553 \nL 326.470506 76.837553 \nL 329.544886 76.837553 \nL 332.619267 76.837553 \nL 335.693647 76.837553 \nL 338.768027 57.707939 \nL 341.842407 76.837553 \nL 344.916787 76.837553 \nL 347.991167 57.707939 \nL 351.065548 115.09678 \nL 354.139928 95.967167 \nL 357.214308 153.356008 \nL 360.288688 134.226394 \nL 363.363068 134.226394 \n\" style=\"fill:none;stroke:#ff7f0e;stroke-linecap:square;stroke-width:1.5;\"/>\n   </g>\n   <g id=\"patch_3\">\n    <path d=\"M 43.78125 239.758125 \nL 43.78125 22.318125 \n\" style=\"fill:none;stroke:#000000;stroke-linecap:square;stroke-linejoin:miter;stroke-width:0.8;\"/>\n   </g>\n   <g id=\"patch_4\">\n    <path d=\"M 378.58125 239.758125 \nL 378.58125 22.318125 \n\" style=\"fill:none;stroke:#000000;stroke-linecap:square;stroke-linejoin:miter;stroke-width:0.8;\"/>\n   </g>\n   <g id=\"patch_5\">\n    <path d=\"M 43.78125 239.758125 \nL 378.58125 239.758125 \n\" style=\"fill:none;stroke:#000000;stroke-linecap:square;stroke-linejoin:miter;stroke-width:0.8;\"/>\n   </g>\n   <g id=\"patch_6\">\n    <path d=\"M 43.78125 22.318125 \nL 378.58125 22.318125 \n\" style=\"fill:none;stroke:#000000;stroke-linecap:square;stroke-linejoin:miter;stroke-width:0.8;\"/>\n   </g>\n   <g id=\"text_14\">\n    <!-- model accuracy -->\n    <g transform=\"translate(163.519688 16.318125)scale(0.12 -0.12)\">\n     <defs>\n      <path d=\"M 3328 2828 \nQ 3544 3216 3844 3400 \nQ 4144 3584 4550 3584 \nQ 5097 3584 5394 3201 \nQ 5691 2819 5691 2113 \nL 5691 0 \nL 5113 0 \nL 5113 2094 \nQ 5113 2597 4934 2840 \nQ 4756 3084 4391 3084 \nQ 3944 3084 3684 2787 \nQ 3425 2491 3425 1978 \nL 3425 0 \nL 2847 0 \nL 2847 2094 \nQ 2847 2600 2669 2842 \nQ 2491 3084 2119 3084 \nQ 1678 3084 1418 2786 \nQ 1159 2488 1159 1978 \nL 1159 0 \nL 581 0 \nL 581 3500 \nL 1159 3500 \nL 1159 2956 \nQ 1356 3278 1631 3431 \nQ 1906 3584 2284 3584 \nQ 2666 3584 2933 3390 \nQ 3200 3197 3328 2828 \nz\n\" id=\"DejaVuSans-6d\" transform=\"scale(0.015625)\"/>\n      <path d=\"M 2906 2969 \nL 2906 4863 \nL 3481 4863 \nL 3481 0 \nL 2906 0 \nL 2906 525 \nQ 2725 213 2448 61 \nQ 2172 -91 1784 -91 \nQ 1150 -91 751 415 \nQ 353 922 353 1747 \nQ 353 2572 751 3078 \nQ 1150 3584 1784 3584 \nQ 2172 3584 2448 3432 \nQ 2725 3281 2906 2969 \nz\nM 947 1747 \nQ 947 1113 1208 752 \nQ 1469 391 1925 391 \nQ 2381 391 2643 752 \nQ 2906 1113 2906 1747 \nQ 2906 2381 2643 2742 \nQ 2381 3103 1925 3103 \nQ 1469 3103 1208 2742 \nQ 947 2381 947 1747 \nz\n\" id=\"DejaVuSans-64\" transform=\"scale(0.015625)\"/>\n      <path d=\"M 603 4863 \nL 1178 4863 \nL 1178 0 \nL 603 0 \nL 603 4863 \nz\n\" id=\"DejaVuSans-6c\" transform=\"scale(0.015625)\"/>\n      <path id=\"DejaVuSans-20\" transform=\"scale(0.015625)\"/>\n     </defs>\n     <use xlink:href=\"#DejaVuSans-6d\"/>\n     <use x=\"97.412109\" xlink:href=\"#DejaVuSans-6f\"/>\n     <use x=\"158.59375\" xlink:href=\"#DejaVuSans-64\"/>\n     <use x=\"222.070312\" xlink:href=\"#DejaVuSans-65\"/>\n     <use x=\"283.59375\" xlink:href=\"#DejaVuSans-6c\"/>\n     <use x=\"311.376953\" xlink:href=\"#DejaVuSans-20\"/>\n     <use x=\"343.164062\" xlink:href=\"#DejaVuSans-61\"/>\n     <use x=\"404.443359\" xlink:href=\"#DejaVuSans-63\"/>\n     <use x=\"459.423828\" xlink:href=\"#DejaVuSans-63\"/>\n     <use x=\"514.404297\" xlink:href=\"#DejaVuSans-75\"/>\n     <use x=\"577.783203\" xlink:href=\"#DejaVuSans-72\"/>\n     <use x=\"618.896484\" xlink:href=\"#DejaVuSans-61\"/>\n     <use x=\"680.175781\" xlink:href=\"#DejaVuSans-63\"/>\n     <use x=\"735.15625\" xlink:href=\"#DejaVuSans-79\"/>\n    </g>\n   </g>\n   <g id=\"legend_1\">\n    <g id=\"patch_7\">\n     <path d=\"M 294.18125 234.758125 \nL 371.58125 234.758125 \nQ 373.58125 234.758125 373.58125 232.758125 \nL 373.58125 203.845625 \nQ 373.58125 201.845625 371.58125 201.845625 \nL 294.18125 201.845625 \nQ 292.18125 201.845625 292.18125 203.845625 \nL 292.18125 232.758125 \nQ 292.18125 234.758125 294.18125 234.758125 \nz\n\" style=\"fill:#ffffff;opacity:0.8;stroke:#cccccc;stroke-linejoin:miter;\"/>\n    </g>\n    <g id=\"line2d_14\">\n     <path d=\"M 296.18125 209.944062 \nL 316.18125 209.944062 \n\" style=\"fill:none;stroke:#1f77b4;stroke-linecap:square;stroke-width:1.5;\"/>\n    </g>\n    <g id=\"line2d_15\"/>\n    <g id=\"text_15\">\n     <!-- train_acc -->\n     <g transform=\"translate(324.18125 213.444062)scale(0.1 -0.1)\">\n      <defs>\n       <path d=\"M 1172 4494 \nL 1172 3500 \nL 2356 3500 \nL 2356 3053 \nL 1172 3053 \nL 1172 1153 \nQ 1172 725 1289 603 \nQ 1406 481 1766 481 \nL 2356 481 \nL 2356 0 \nL 1766 0 \nQ 1100 0 847 248 \nQ 594 497 594 1153 \nL 594 3053 \nL 172 3053 \nL 172 3500 \nL 594 3500 \nL 594 4494 \nL 1172 4494 \nz\n\" id=\"DejaVuSans-74\" transform=\"scale(0.015625)\"/>\n       <path d=\"M 603 3500 \nL 1178 3500 \nL 1178 0 \nL 603 0 \nL 603 3500 \nz\nM 603 4863 \nL 1178 4863 \nL 1178 4134 \nL 603 4134 \nL 603 4863 \nz\n\" id=\"DejaVuSans-69\" transform=\"scale(0.015625)\"/>\n       <path d=\"M 3513 2113 \nL 3513 0 \nL 2938 0 \nL 2938 2094 \nQ 2938 2591 2744 2837 \nQ 2550 3084 2163 3084 \nQ 1697 3084 1428 2787 \nQ 1159 2491 1159 1978 \nL 1159 0 \nL 581 0 \nL 581 3500 \nL 1159 3500 \nL 1159 2956 \nQ 1366 3272 1645 3428 \nQ 1925 3584 2291 3584 \nQ 2894 3584 3203 3211 \nQ 3513 2838 3513 2113 \nz\n\" id=\"DejaVuSans-6e\" transform=\"scale(0.015625)\"/>\n       <path d=\"M 3263 -1063 \nL 3263 -1509 \nL -63 -1509 \nL -63 -1063 \nL 3263 -1063 \nz\n\" id=\"DejaVuSans-5f\" transform=\"scale(0.015625)\"/>\n      </defs>\n      <use xlink:href=\"#DejaVuSans-74\"/>\n      <use x=\"39.208984\" xlink:href=\"#DejaVuSans-72\"/>\n      <use x=\"80.322266\" xlink:href=\"#DejaVuSans-61\"/>\n      <use x=\"141.601562\" xlink:href=\"#DejaVuSans-69\"/>\n      <use x=\"169.384766\" xlink:href=\"#DejaVuSans-6e\"/>\n      <use x=\"232.763672\" xlink:href=\"#DejaVuSans-5f\"/>\n      <use x=\"282.763672\" xlink:href=\"#DejaVuSans-61\"/>\n      <use x=\"344.042969\" xlink:href=\"#DejaVuSans-63\"/>\n      <use x=\"399.023438\" xlink:href=\"#DejaVuSans-63\"/>\n     </g>\n    </g>\n    <g id=\"line2d_16\">\n     <path d=\"M 296.18125 224.900312 \nL 316.18125 224.900312 \n\" style=\"fill:none;stroke:#ff7f0e;stroke-linecap:square;stroke-width:1.5;\"/>\n    </g>\n    <g id=\"line2d_17\"/>\n    <g id=\"text_16\">\n     <!-- val_acc -->\n     <g transform=\"translate(324.18125 228.400312)scale(0.1 -0.1)\">\n      <defs>\n       <path d=\"M 191 3500 \nL 800 3500 \nL 1894 563 \nL 2988 3500 \nL 3597 3500 \nL 2284 0 \nL 1503 0 \nL 191 3500 \nz\n\" id=\"DejaVuSans-76\" transform=\"scale(0.015625)\"/>\n      </defs>\n      <use xlink:href=\"#DejaVuSans-76\"/>\n      <use x=\"59.179688\" xlink:href=\"#DejaVuSans-61\"/>\n      <use x=\"120.458984\" xlink:href=\"#DejaVuSans-6c\"/>\n      <use x=\"148.242188\" xlink:href=\"#DejaVuSans-5f\"/>\n      <use x=\"198.242188\" xlink:href=\"#DejaVuSans-61\"/>\n      <use x=\"259.521484\" xlink:href=\"#DejaVuSans-63\"/>\n      <use x=\"314.501953\" xlink:href=\"#DejaVuSans-63\"/>\n     </g>\n    </g>\n   </g>\n  </g>\n </g>\n <defs>\n  <clipPath id=\"paed403b2bd\">\n   <rect height=\"217.44\" width=\"334.8\" x=\"43.78125\" y=\"22.318125\"/>\n  </clipPath>\n </defs>\n</svg>\n",
      "image/png": "[encoded data removed]"
     },
     "metadata": {
      "needs_background": "light"
     }
    },
    {
     "output_type": "error",
     "ename": "KeyError",
     "evalue": "'precision_5'",
     "traceback": [
      "\u001b[0;31m---------------------------------------------------------------------------\u001b[0m",
      "\u001b[0;31mKeyError\u001b[0m                                  Traceback (most recent call last)",
      "\u001b[0;32m<ipython-input-17-bf8e562fba0a>\u001b[0m in \u001b[0;36m<module>\u001b[0;34m\u001b[0m\n\u001b[1;32m     52\u001b[0m         \u001b[0mplt\u001b[0m\u001b[0;34m.\u001b[0m\u001b[0mshow\u001b[0m\u001b[0;34m(\u001b[0m\u001b[0;34m)\u001b[0m\u001b[0;34m\u001b[0m\u001b[0;34m\u001b[0m\u001b[0m\n\u001b[1;32m     53\u001b[0m \u001b[0;34m\u001b[0m\u001b[0m\n\u001b[0;32m---> 54\u001b[0;31m \u001b[0mplot\u001b[0m\u001b[0;34m(\u001b[0m\u001b[0mhistory\u001b[0m\u001b[0;34m,\u001b[0m \u001b[0mnum\u001b[0m \u001b[0;34m=\u001b[0m \u001b[0;36m5\u001b[0m\u001b[0;34m)\u001b[0m\u001b[0;34m\u001b[0m\u001b[0;34m\u001b[0m\u001b[0m\n\u001b[0m",
      "\u001b[0;32m<ipython-input-17-bf8e562fba0a>\u001b[0m in \u001b[0;36mplot\u001b[0;34m(history, num)\u001b[0m\n\u001b[1;32m     12\u001b[0m         \u001b[0mplt\u001b[0m\u001b[0;34m.\u001b[0m\u001b[0mshow\u001b[0m\u001b[0;34m(\u001b[0m\u001b[0;34m)\u001b[0m\u001b[0;34m\u001b[0m\u001b[0;34m\u001b[0m\u001b[0m\n\u001b[1;32m     13\u001b[0m \u001b[0;34m\u001b[0m\u001b[0m\n\u001b[0;32m---> 14\u001b[0;31m         \u001b[0mplt\u001b[0m\u001b[0;34m.\u001b[0m\u001b[0mplot\u001b[0m\u001b[0;34m(\u001b[0m\u001b[0mhistory\u001b[0m\u001b[0;34m.\u001b[0m\u001b[0mhistory\u001b[0m\u001b[0;34m[\u001b[0m\u001b[0;34mf'precision_{num}'\u001b[0m\u001b[0;34m]\u001b[0m\u001b[0;34m,\u001b[0m \u001b[0mlabel\u001b[0m \u001b[0;34m=\u001b[0m \u001b[0;34m\"train_precision\"\u001b[0m\u001b[0;34m)\u001b[0m\u001b[0;34m\u001b[0m\u001b[0;34m\u001b[0m\u001b[0m\n\u001b[0m\u001b[1;32m     15\u001b[0m         \u001b[0mplt\u001b[0m\u001b[0;34m.\u001b[0m\u001b[0mplot\u001b[0m\u001b[0;34m(\u001b[0m\u001b[0mhistory\u001b[0m\u001b[0;34m.\u001b[0m\u001b[0mhistory\u001b[0m\u001b[0;34m[\u001b[0m\u001b[0;34mf'val_precision_{num}'\u001b[0m\u001b[0;34m]\u001b[0m\u001b[0;34m,\u001b[0m \u001b[0mlabel\u001b[0m \u001b[0;34m=\u001b[0m \u001b[0;34m\"val_precision\"\u001b[0m\u001b[0;34m)\u001b[0m\u001b[0;34m\u001b[0m\u001b[0;34m\u001b[0m\u001b[0m\n\u001b[1;32m     16\u001b[0m         \u001b[0mplt\u001b[0m\u001b[0;34m.\u001b[0m\u001b[0mtitle\u001b[0m\u001b[0;34m(\u001b[0m\u001b[0;34m'model precision'\u001b[0m\u001b[0;34m)\u001b[0m\u001b[0;34m\u001b[0m\u001b[0;34m\u001b[0m\u001b[0m\n",
      "\u001b[0;31mKeyError\u001b[0m: 'precision_5'"
     ]
    }
   ],
   "source": [
    "#https://stackoverflow.com/questions/41908379/keras-plot-training-validation-and-test-set-accuracy\n",
    "import matplotlib.pyplot as plt \n",
    "def plot(history, num = None): \n",
    "    \n",
    "    if num: \n",
    "        plt.plot(history.history['accuracy'], label = \"train_acc\")\n",
    "        plt.plot(history.history['val_accuracy'], label = \"val_acc\")\n",
    "        plt.title('model accuracy')\n",
    "        plt.ylabel('accuracy')\n",
    "        plt.xlabel('epoch')\n",
    "        plt.legend()\n",
    "        plt.show()\n",
    "\n",
    "        plt.plot(history.history[f'precision_{num}'], label = \"train_precision\")\n",
    "        plt.plot(history.history[f'val_precision_{num}'], label = \"val_precision\")\n",
    "        plt.title('model precision')\n",
    "        plt.ylabel('precision')\n",
    "        plt.xlabel('epoch')\n",
    "        plt.legend()\n",
    "        plt.show()\n",
    "\n",
    "        plt.plot(history.history[f'recall_{num}'], label = \"train_recall\")\n",
    "        plt.plot(history.history[f'val_recall_{num}'], label = \"val_recall\")\n",
    "        plt.title('model recall')\n",
    "        plt.ylabel('recall')\n",
    "        plt.xlabel('epoch')\n",
    "        plt.legend()\n",
    "        plt.show()\n",
    "    else: \n",
    "        plt.plot(history.history['accuracy'], label = \"train_acc\")\n",
    "        plt.plot(history.history['val_accuracy'], label = \"val_acc\")\n",
    "        plt.title('model accuracy')\n",
    "        plt.ylabel('accuracy')\n",
    "        plt.xlabel('epoch')\n",
    "        plt.legend()\n",
    "        plt.show()\n",
    "\n",
    "        plt.plot(history.history[f'precision'], label = \"train_precision\")\n",
    "        plt.plot(history.history[f'val_precision'], label = \"val_precision\")\n",
    "        plt.title('model precision')\n",
    "        plt.ylabel('precision')\n",
    "        plt.xlabel('epoch')\n",
    "        plt.legend()\n",
    "        plt.show()\n",
    "\n",
    "        plt.plot(history.history[f'recall'], label = \"train_recall\")\n",
    "        plt.plot(history.history[f'val_recall'], label = \"val_recall\")\n",
    "        plt.title('model recall')\n",
    "        plt.ylabel('recall')\n",
    "        plt.xlabel('epoch')\n",
    "        plt.legend()\n",
    "        plt.show()\n",
    "\n",
    "plot(history, num = 5)"
   ]
  },
  {
   "cell_type": "markdown",
   "metadata": {},
   "source": [
    "## Our uncalibrated approach with no augmentations get 82.6% accuracy and 84.6% on precision and recall. \n",
    "# Time to do add image augmentations!\n",
    "\n",
    "## Our model could also be struggling a bit because of: \n",
    "\n",
    "- not enough data (image augmentations can help) \n",
    "- too short data (meaning 100 frames isn't enough to detect) \n",
    "    - just make it second dependent \n",
    "- bad data (camera shaky / hands not seen in video) \n",
    "\n",
    "# First we will try solving the issue with the geometric augmentations. "
   ]
  },
  {
   "cell_type": "code",
   "execution_count": null,
   "metadata": {
    "scrolled": false
   },
   "outputs": [],
   "source": [
    "import tensorflow as tf\n",
    "#tf.compat.v1.enable_eager_execution()\n",
    "tf.config.run_functions_eagerly(True)"
   ]
  },
  {
   "cell_type": "code",
   "execution_count": null,
   "metadata": {
    "scrolled": false
   },
   "outputs": [],
   "source": [
    "import random \n",
    "\n",
    "def _shift(X):\n",
    "        \n",
    "        X = tf.Variable(X, dtype = tf.float32)\n",
    "        \n",
    "        X_locations = X[:, :42] # [100, 42]\n",
    "        Y_locations = X[:, 42:84] # [100, 42]\n",
    "        Z_locations = X[:, 84:] # [100, 42]\n",
    "        \n",
    "        maximum = tf.math.reduce_max(Y_locations)\n",
    "        minimum = tf.math.reduce_min(Y_locations)\n",
    "        if maximum == 2: \n",
    "            # get the second highest \n",
    "            values, _ = tf.nn.top_k(tf.reshape(Y_locations, -1), tf.shape(tf.reshape(X_locations, -1))[0])\n",
    "            try: \n",
    "                values, _ = tf.unique(values)\n",
    "                maximum = values[1]\n",
    "            except Exception as e: \n",
    "                maximum = 0 \n",
    "            \n",
    "        can_move_up = 1 - maximum # the amount it can move up \n",
    "        can_move_down = minimum \n",
    "\n",
    "        if tf.random.uniform((1,)) > 0.5: \n",
    "            #print(\"up\")\n",
    "            # move up in this case \n",
    "            move_up = tf.random.uniform((1,), 0, can_move_up)\n",
    "            X[:, 42:84].assign(X[:,42:84] + move_up)\n",
    "\n",
    "        else: \n",
    "            move_down = tf.random.uniform((1,), 0, can_move_down)\n",
    "            X[:, 42:84].assign(X[:,42:84]-move_down)\n",
    "\n",
    "        maximum = tf.math.reduce_max(X_locations)\n",
    "        minimum = tf.math.reduce_min(X_locations)\n",
    "        \n",
    "        if maximum == 2: \n",
    "            values, _ = tf.nn.top_k(tf.reshape(X_locations, -1), tf.shape(tf.reshape(X_locations, -1))[0])\n",
    "            # create a set. \n",
    "            try: \n",
    "                values, _ = tf.unique(values)\n",
    "                maximum = values[1]\n",
    "            except Exception as e: \n",
    "                maximum = 0 \n",
    "            \n",
    "        can_move_right = 1 - maximum \n",
    "        can_move_left = minimum \n",
    "\n",
    "        if tf.random.uniform((1,)) > 0.5: \n",
    "            #print(\"right\")\n",
    "            # move right\n",
    "            move_right = tf.random.uniform((1,), 0, can_move_right)\n",
    "            X[:, :42].assign(X[:,:42]+move_right)\n",
    "        else: \n",
    "            # move left \n",
    "            move_left = tf.random.uniform((1,), 0, can_move_left)\n",
    "            X[:, :42].assign(X[:,:42]-move_left)\n",
    "\n",
    "        \n",
    "        maximum = tf.math.reduce_max(Z_locations)\n",
    "        minimum = tf.math.reduce_min(Z_locations)\n",
    "        if maximum == 2: \n",
    "            values, _ = tf.nn.top_k(tf.reshape(Z_locations, -1), tf.shape(tf.reshape(X_locations, -1))[0])\n",
    "            try: \n",
    "                values, _ = tf.unique(values)\n",
    "                maximum = values[1]\n",
    "            except Exception as e:  \n",
    "                maximum = 0 \n",
    "        \n",
    "        can_move_far = 1 - maximum \n",
    "        can_move_close = minimum \n",
    "\n",
    "        if tf.random.uniform((1,)) > 0.5: \n",
    "            # move right\n",
    "            move_far = tf.random.uniform((1,), 0, can_move_far)\n",
    "            X[:, 84:].assign(X[:,84:]+move_far)\n",
    "        else: \n",
    "            # move left \n",
    "            move_close = tf.random.uniform((1,), 0, can_move_close)\n",
    "            X[:, 84:].assign(X[:,84:]-move_close)\n",
    "\n",
    "        return X \n",
    "        \n",
    "class Augmenter(tf.keras.layers.Layer): \n",
    "    def __init__(self): \n",
    "        super().__init__()\n",
    "        self.trainable = False \n",
    "        self._trainable_weights = [] \n",
    "        self._non_trainable_weights = []\n",
    "        \n",
    "    def call(self, X, training = True):\n",
    "        if training: \n",
    "            return tf.map_fn(_shift, X)\n",
    "        else: \n",
    "            return X "
   ]
  },
  {
   "cell_type": "markdown",
   "metadata": {},
   "source": [
    "## We'll probably want to first check to see if our image augmentations make sense. "
   ]
  },
  {
   "cell_type": "code",
   "execution_count": null,
   "metadata": {
    "scrolled": false
   },
   "outputs": [],
   "source": [
    "import cv2\n",
    "import matplotlib.pyplot as plt\n",
    "image = cv2.imread(\"hands.jpg\")\n",
    "image = cv2.cvtColor(image, cv2.COLOR_BGR2RGB)\n",
    "locations = hand_locations(image) \n",
    "\n",
    "def draw_on_image(image, locations): \n",
    "    X_locations, Y_locations = locations[:42], locations[42:84]\n",
    "    height, width, _ = image.shape\n",
    "\n",
    "    new_image = np.zeros_like(image)\n",
    "    for loc_x, loc_y in zip(X_locations, Y_locations): \n",
    "        if loc_x == 2 or loc_y == 2: continue \n",
    "        x = int(width * loc_x)\n",
    "        y = int(height * loc_y)\n",
    "        new_image = cv2.circle(new_image, (x, y), 5, (255, 0, 0), 10)\n",
    "    plt.imshow(new_image)\n",
    "    plt.show()\n",
    "\n",
    "draw_on_image(image, locations)"
   ]
  },
  {
   "cell_type": "code",
   "execution_count": null,
   "metadata": {
    "scrolled": true
   },
   "outputs": [],
   "source": [
    "augger = Augmenter() \n",
    "new_locs = np.array([locations for _ in range(100)])\n",
    "new_locs_aug = augger(np.array([new_locs]))[0]\n",
    "new_locs_aug = np.array(new_locs_aug)\n",
    "\n",
    "for _ in range(200): \n",
    "    new_locs_aug = _shift(new_locs)\n",
    "    for locations_aug in np.array(new_locs_aug): \n",
    "        draw_on_image(image, locations_aug)\n",
    "        break "
   ]
  },
  {
   "cell_type": "code",
   "execution_count": null,
   "metadata": {
    "scrolled": false
   },
   "outputs": [],
   "source": [
    "# training finally with an augmenter\n",
    "model = tf.keras.models.Sequential([\n",
    "    Augmenter(), \n",
    "    tf.keras.layers.LSTM(64, return_sequences = True), \n",
    "    tf.keras.layers.LSTM(128, return_sequences = True), \n",
    "    tf.keras.layers.LSTM(256, return_sequences = False), \n",
    "    tf.keras.layers.Dense(128, activation = \"relu\"), \n",
    "    tf.keras.layers.Dense(1, activation = \"sigmoid\")\n",
    "])\n",
    "\n",
    "model.compile(loss = \"binary_crossentropy\", optimizer = \"Adam\", metrics = ['accuracy'])"
   ]
  },
  {
   "cell_type": "code",
   "execution_count": null,
   "metadata": {
    "scrolled": true
   },
   "outputs": [],
   "source": [
    "history = model.fit(X_train, y_train, epochs = 200, validation_data = (X_test, y_test))"
   ]
  },
  {
   "cell_type": "code",
   "execution_count": null,
   "metadata": {
    "scrolled": false
   },
   "outputs": [],
   "source": [
    "plot(history)"
   ]
  },
  {
   "cell_type": "code",
   "execution_count": null,
   "metadata": {
    "scrolled": false
   },
   "outputs": [],
   "source": [
    "X_train_aug = _shift(X_train)"
   ]
  },
  {
   "cell_type": "code",
   "execution_count": null,
   "metadata": {
    "scrolled": false
   },
   "outputs": [],
   "source": [
    "X_train_aug"
   ]
  },
  {
   "cell_type": "markdown",
   "metadata": {},
   "source": [
    "one video has 30. fps\n",
    "another one has 25fps \n",
    "\n",
    "take first X seconds (2 - 3.5 seconds)\n",
    "\n",
    "predetermine seconds between each frame (0.1 seconds)\n",
    "\n",
    "100 seconds, 30 fp/s \n",
    "\n",
    "90 frames, 15 fp/ half second\n",
    "\n",
    "0th \n",
    "15th \n",
    "30th \n",
    "45th \n",
    "60th \n",
    "75th \n",
    "90th \n",
    "\n",
    "- make sure that the time in the video itself is also standardized \n",
    "- make sure that the time between frames is standardized \n",
    "\n",
    "\n",
    "NEXT STEPS FOR AUGMENTATION: \n",
    "- zoom augmentation\n",
    "- horizontal flip with coordinates over an axis? \n",
    "- rotation of points"
   ]
  },
  {
   "source": [
    "# We need to now make our data calibrated. This means we need to take a set amount of seconds from the video (number of frames depends on the video's FPS rate), instead of just take the first 100 frames (which could be 7 seconds for one video and 3 for another.) We also need to make sure that the distance between LSTM inputs is calibrated and the same regardless of FPS. "
   ],
   "cell_type": "markdown",
   "metadata": {}
  },
  {
   "cell_type": "code",
   "execution_count": 4,
   "metadata": {
    "scrolled": false
   },
   "outputs": [
    {
     "output_type": "stream",
     "name": "stderr",
     "text": [
      "armflapping_videos:  12%|█▏        | 9/78 [00:00<00:05, 12.69it/s]failed on .DS_Store\n",
      "armflapping_videos: 100%|██████████| 78/78 [00:06<00:00, 12.52it/s]\n",
      "control_videos:  22%|██▏       | 16/74 [00:00<00:04, 14.43it/s]failed on .DS_Store\n",
      "control_videos: 100%|██████████| 74/74 [00:07<00:00,  9.81it/s]\n"
     ]
    }
   ],
   "source": [
    "# time to actually do calibration. \n",
    "\n",
    "SECONDS_TO_DETECT = 3 # in seconds\n",
    "DISTANCE_BETWEEN_INPUTS = 0.01 # in seconds\n",
    "sampling = False \n",
    "\n",
    "import os, cv2\n",
    "from tqdm import tqdm \n",
    "import numpy as np\n",
    "\n",
    "ARMFLAPPING_VIDEOS = []\n",
    "CONTROL_VIDEOS = []\n",
    "ARMFLAPPING_FPS = [] # store the FPS of all armflapping videos \n",
    "CONTROL_FPS = [] # store the FPS of all control videos \n",
    "for video_name in tqdm(os.listdir('behavior_data/armflapping'), desc = \"armflapping_videos\"): \n",
    "    try: \n",
    "        cap = cv2.VideoCapture('behavior_data/armflapping/' + video_name)  \n",
    "        frame_rate = cap.get(cv2.CAP_PROP_FPS)\n",
    "        if cap.get(cv2.CAP_PROP_FRAME_COUNT) / frame_rate < SECONDS_TO_DETECT: continue # too short! \n",
    "\n",
    "        FRAMES = [] # frames for this video \n",
    "\n",
    "        while True: \n",
    "            _, image = cap.read() \n",
    "            if not _ : break \n",
    "            \n",
    "            image = cv2.cvtColor(image, cv2.COLOR_BGR2RGB) # convert to RGB. \n",
    "            FRAMES.append(image) \n",
    "        \n",
    "        ARMFLAPPING_VIDEOS.append(FRAMES)\n",
    "        ARMFLAPPING_FPS.append(frame_rate)\n",
    "    except Exception as e: \n",
    "        print(f\"failed on {video_name}\")\n",
    "\n",
    "for video_name in tqdm(os.listdir('behavior_data/control'), desc = \"control_videos\"): \n",
    "    try: \n",
    "        cap = cv2.VideoCapture('behavior_data/control/' + video_name)  \n",
    "        frame_rate = cap.get(cv2.CAP_PROP_FPS)\n",
    "        if cap.get(cv2.CAP_PROP_FRAME_COUNT) / frame_rate < SECONDS_TO_DETECT: continue # too short! \n",
    "\n",
    "        FRAMES = [] # frames for this video \n",
    "\n",
    "        while len(FRAMES) < frame_rate * SECONDS_TO_DETECT: \n",
    "            _, image = cap.read() \n",
    "            if not _ : break \n",
    "            \n",
    "            image = cv2.cvtColor(image, cv2.COLOR_BGR2RGB) # convert to RGB. \n",
    "            FRAMES.append(image)\n",
    "        \n",
    "        CONTROL_VIDEOS.append(FRAMES)\n",
    "        CONTROL_FPS.append(frame_rate)\n",
    "    except Exception as e: \n",
    "        print(f\"failed on {video_name}\")"
   ]
  },
  {
   "cell_type": "code",
   "execution_count": 267,
   "metadata": {},
   "outputs": [
    {
     "output_type": "stream",
     "name": "stdout",
     "text": [
      "mean is 25.48731884057971\n[29.68 30.   30.   29.68 30.   14.77 30.   14.77 30.   30.   29.68 14.77\n 30.   23.95 30.   29.97 30.   30.   23.95 30.   14.77 14.77 30.   23.95\n 30.   23.95 14.77 30.   23.95 23.95 14.77 23.95 23.95 14.77 30.   30.\n 14.77 23.95 15.   23.95 23.95 30.   23.95 30.   15.   23.95 15.   30.\n 23.95 23.95 19.92 30.   30.   30.   30.   23.95 23.95 30.   30.   23.95\n 29.68 14.77 29.99 14.77 29.68 29.68 29.68 29.68 29.68 29.99 29.99 29.68\n 29.68 29.68 29.68 29.68 29.68 19.96 24.12 30.   29.67 30.   24.12 29.68\n 29.99 30.   30.   30.   29.97 10.02 29.97 19.96 30.   30.   29.97 30.\n 30.   30.   15.   15.   29.92 15.   19.92 29.97 15.   29.97 29.97 30.\n 15.   23.98 15.   23.95 29.97 30.   15.   15.   29.97 29.97 23.95 15.\n 30.   30.   23.95 30.   30.   24.   19.92 23.95 23.95 19.92 23.98 30.\n 30.   30.   30.   29.97 10.02 29.99]\nfps at the 0.1 is 15.0\nfps at the 0.2 is 19.92\nfps at the 0.4 is 23.980000000000004\nfps at the 0.5 is 29.68\nfps at the 0.6 is 29.97\nfps at the 0.8 is 30.0\nfps at the 0.9 is 30.0\nfps at the 0.9999 is 30.0\n"
     ]
    }
   ],
   "source": [
    "# because all of the fps rates are different, we should figure out the average \n",
    "fps_rates = np.concatenate([ARMFLAPPING_FPS, CONTROL_FPS])\n",
    "print(f\"mean is {np.mean(fps_rates)}\")\n",
    "print(fps_rates)\n",
    "for percentile in [0.1, 0.2, 0.4, 0.5, 0.6, 0.8, 0.9, 0.9999]: \n",
    "    print(f\"fps at the {percentile} is {np.percentile(fps_rates, percentile * 100)}\")"
   ]
  },
  {
   "cell_type": "code",
   "execution_count": 5,
   "metadata": {},
   "outputs": [],
   "source": [
    "# we'll just use 24 as the average frame rate\n",
    "avg_frame_rate = 24 \n",
    "\n",
    "if sampling: \n",
    "    import math\n",
    "    ARMFLAPPING_FRAMES_NEEDED, CONTROL_FRAMES_NEEDED = [], [] \n",
    "    for i, (FRAMES, fps) in enumerate(zip(ARMFLAPPING_VIDEOS, ARMFLAPPING_FPS)):\n",
    "        fps_adj = fps * DISTANCE_BETWEEN_INPUTS\n",
    "        frames_needed_no_skip = SECONDS_TO_DETECT * fps \n",
    "        if frames_needed_no_skip % fps_adj == 0 : \n",
    "            ARMFLAPPING_FRAMES_NEEDED.append(frames_needed_no_skip / fps_adj)\n",
    "        else: \n",
    "            avg_fps_adj = avg_frame_rate * DISTANCE_BETWEEN_INPUTS \n",
    "            frames_needed_no_skip = SECONDS_TO_DETECT * fps \n",
    "            frames_needed = int(frames_needed_no_skip * avg_fps_adj / fps_adj)\n",
    "            if len(FRAMES) < frames_needed: \n",
    "                frames_needed = len(FRAMES)\n",
    "            ARMFLAPPING_FRAMES_NEEDED.append(frames_needed)\n",
    "\n",
    "    for i, (FRAMES, fps) in enumerate(zip(CONTROL_VIDEOS, CONTROL_FPS)):\n",
    "        fps_adj = fps * DISTANCE_BETWEEN_INPUTS\n",
    "        frames_needed_no_skip = SECONDS_TO_DETECT * fps \n",
    "        if frames_needed_no_skip % fps_adj == 0 : \n",
    "            CONTROL_FRAMES_NEEDED.append(frames_needed_no_skip / fps_adj)\n",
    "        else: \n",
    "            avg_fps_adj = avg_frame_rate * DISTANCE_BETWEEN_INPUTS \n",
    "            frames_needed_no_skip = SECONDS_TO_DETECT * fps \n",
    "            frames_needed = int(frames_needed_no_skip * avg_fps_adj / fps_adj)\n",
    "            if len(FRAMES) < frames_needed: \n",
    "                frames_needed = len(FRAMES)\n",
    "            CONTROL_FRAMES_NEEDED.append(frames_needed)\n",
    "\n",
    "    # the next step is to get all of those frames and pad as necessary \n",
    "    ARMFLAPPING_LOCATIONS, CONTROL_LOCATIONS = [], []\n",
    "\n",
    "    for FRAMES, frames_needed in zip(ARMFLAPPING_VIDEOS, ARMFLAPPING_FRAMES_NEEDED): \n",
    "        vid = FRAMES[:int(frames_needed)]\n",
    "        locs = []\n",
    "        for frame in vid: \n",
    "            locs.append(hand_locations(frame))\n",
    "        ARMFLAPPING_LOCATIONS.append(locs)\n",
    "\n",
    "    for FRAMES, frames_needed in zip(CONTROL_VIDEOS, CONTROL_FRAMES_NEEDED): \n",
    "        vid = FRAMES[:int(frames_needed)]\n",
    "        locs = []\n",
    "        for frame in vid: \n",
    "            locs.append(hand_locations(frame))\n",
    "        CONTROL_LOCATIONS.append(locs)"
   ]
  },
  {
   "cell_type": "code",
   "execution_count": 291,
   "metadata": {},
   "outputs": [],
   "source": [
    "if not sampling: \n",
    "    # then just get the locations \n",
    "    ARMFLAPPING_LOCATIONS, CONTROL_LOCATIONS = [], []\n",
    "    for FRAMES in ARMFLAPPING_VIDEOS: \n",
    "        locs = []\n",
    "        for frame in FRAMES: \n",
    "            locs.append(hand_locations(frame))\n",
    "        ARMFLAPPING_LOCATIONS.append(locs)\n",
    "    \n",
    "    for FRAMES in CONTROL_VIDEOS:  \n",
    "        locs = []\n",
    "        for frame in FRAMES: \n",
    "            locs.append(hand_locations(frame))\n",
    "        CONTROL_LOCATIONS.append(locs)"
   ]
  },
  {
   "cell_type": "code",
   "execution_count": 285,
   "metadata": {},
   "outputs": [
    {
     "output_type": "stream",
     "name": "stdout",
     "text": [
      "[60, 73, 90, 90, 90, 73, 90, 90, 90, 90, 90, 90, 31, 90, 60, 90, 90, 90, 90, 90, 90, 45, 45, 90, 45, 60, 90, 45, 90, 90, 90, 45, 72, 45, 72, 90, 90, 45, 45, 90, 90, 72, 45, 90, 90, 72, 90, 90, 72, 60, 72, 72, 60, 72, 90, 90, 90, 90, 90, 31, 90]\n[179, 180, 210, 208, 150, 104, 210, 89, 150, 150, 179, 60, 180, 120, 180, 120, 120, 180, 120, 210, 60, 45, 210, 120, 180, 96, 89, 180, 72, 96, 89, 96, 120, 60, 210, 210, 45, 168, 60, 144, 168, 150, 120, 120, 90, 96, 75, 120, 120, 120, 80, 210, 120, 210, 180, 120, 120, 210, 180, 144, 179, 104, 120, 104, 179, 179, 208, 179, 179, 120, 150, 179, 179, 179, 179, 179, 179]\n"
     ]
    }
   ],
   "source": [
    "print([len(_) for _ in CONTROL_LOCATIONS])\n",
    "print([len(_) for _ in ARMFLAPPING_LOCATIONS])"
   ]
  },
  {
   "cell_type": "code",
   "execution_count": 11,
   "metadata": {
    "tags": []
   },
   "outputs": [
    {
     "output_type": "stream",
     "name": "stdout",
     "text": [
      "(46, 90, 84) (46, 90, 84)\n"
     ]
    }
   ],
   "source": [
    "N = min([len(locs) for locs in [ARMFLAPPING_LOCATIONS, CONTROL_LOCATIONS]])\n",
    "ARMFLAPPING_LOCATIONS = ARMFLAPPING_LOCATIONS[:N]\n",
    "CONTROL_LOCATIONS = CONTROL_LOCATIONS[:N]\n",
    "\n",
    "# we can create a padding function in order to pad \n",
    "def pad(locations, maxlen = 90, padding = \"post\", truncating = \"post\"): \n",
    "    new_locations = locations.tolist() \n",
    "    empty_row = np.zeros((1, 126))\n",
    "    for i, video in enumerate(new_locations): \n",
    "        if len(video) < maxlen:  \n",
    "            for new_row in range(maxlen - len(video)): \n",
    "                if padding == \"post\": \n",
    "                    new_locations[i] = np.array(new_locations[i])\n",
    "                    new_locations[i] = np.concatenate([new_locations[i], empty_row])\n",
    "                if padding == \"pre\": \n",
    "                    new_locations[i] = np.array(new_locations[i])\n",
    "                    new_locations[i] = np.concatenate([empty_row, new_locations[i]])\n",
    "\n",
    "        if len(video) > maxlen: \n",
    "            if truncating == \"post\": \n",
    "                new_locations[i] = new_locations[i][:maxlen]\n",
    "            elif truncating == \"pre\": \n",
    "                new_locations[i] = new_locations[i][len(video) - maxlen : ]\n",
    "    return np.array(new_locations)\n",
    "\n",
    "padded_armflapping_locations = ARMFLAPPING_LOCATIONS\n",
    "padded_control_locations = CONTROL_LOCATIONS\n",
    "padded_armflapping_locations = pad(padded_armflapping_locations, maxlen = 90)\n",
    "padded_control_locations = pad(padded_control_locations, maxlen = 90)\n",
    "print(padded_control_locations.shape, padded_armflapping_locations.shape)\n",
    "assert padded_armflapping_locations.shape == padded_control_locations.shape "
   ]
  },
  {
   "cell_type": "code",
   "execution_count": 12,
   "metadata": {},
   "outputs": [],
   "source": [
    "X_train, X_test, y_train, y_test = generate_data(padded_armflapping_locations, padded_control_locations)"
   ]
  },
  {
   "cell_type": "code",
   "execution_count": 13,
   "metadata": {},
   "outputs": [],
   "source": [
    "# start training with a vanilla LSTM. \n",
    "import tensorflow as tf\n",
    "tf.config.run_functions_eagerly(True)\n",
    "\n",
    "model = tf.keras.models.Sequential([\n",
    "    tf.keras.layers.LSTM(64, return_sequences = True), \n",
    "    tf.keras.layers.LSTM(128, return_sequences = True), \n",
    "    tf.keras.layers.LSTM(256, return_sequences = False), \n",
    "    tf.keras.layers.Dense(128, activation = \"relu\"), \n",
    "    tf.keras.layers.Dense(1, activation = \"sigmoid\")\n",
    "])\n",
    "\n",
    "model.compile(loss = \"binary_crossentropy\", optimizer = tf.keras.optimizers.Adam(), metrics = ['accuracy', tf.keras.metrics.Precision(), tf.keras.metrics.Recall()])"
   ]
  },
  {
   "cell_type": "code",
   "execution_count": 14,
   "metadata": {
    "tags": [
     "outputPrepend"
    ]
   },
   "outputs": [
    {
     "output_type": "stream",
     "name": "stderr",
     "text": [
      "_accuracy: 0.8696 - val_precision: 0.8125 - val_recall: 1.0000\n",
      "Epoch 12/100\n",
      "3/3 [==============================] - 2s 533ms/step - loss: 0.4100 - accuracy: 0.8406 - precision: 0.8235 - recall: 0.8485 - val_loss: 0.3908 - val_accuracy: 0.8696 - val_precision: 0.9167 - val_recall: 0.8462\n",
      "Epoch 13/100\n",
      "3/3 [==============================] - 2s 533ms/step - loss: 0.4224 - accuracy: 0.8116 - precision: 0.8333 - recall: 0.7576 - val_loss: 0.3546 - val_accuracy: 0.9130 - val_precision: 0.9231 - val_recall: 0.9231\n",
      "Epoch 14/100\n",
      "3/3 [==============================] - 2s 528ms/step - loss: 0.4025 - accuracy: 0.8261 - precision: 0.8182 - recall: 0.8182 - val_loss: 0.3433 - val_accuracy: 0.8261 - val_precision: 0.7647 - val_recall: 1.0000\n",
      "Epoch 15/100\n",
      "3/3 [==============================] - 2s 563ms/step - loss: 0.4209 - accuracy: 0.8116 - precision: 0.7632 - recall: 0.8788 - val_loss: 0.3888 - val_accuracy: 0.8261 - val_precision: 0.7647 - val_recall: 1.0000\n",
      "Epoch 16/100\n",
      "3/3 [==============================] - 2s 599ms/step - loss: 0.4761 - accuracy: 0.7536 - precision: 0.6667 - recall: 0.9697 - val_loss: 0.4824 - val_accuracy: 0.7826 - val_precision: 0.7222 - val_recall: 1.0000\n",
      "Epoch 17/100\n",
      "3/3 [==============================] - 2s 538ms/step - loss: 0.5165 - accuracy: 0.7391 - precision: 0.6471 - recall: 1.0000 - val_loss: 0.4690 - val_accuracy: 0.7826 - val_precision: 0.7222 - val_recall: 1.0000\n",
      "Epoch 18/100\n",
      "3/3 [==============================] - 2s 533ms/step - loss: 0.4897 - accuracy: 0.7826 - precision: 0.6875 - recall: 1.0000 - val_loss: 0.4574 - val_accuracy: 0.7826 - val_precision: 0.7222 - val_recall: 1.0000\n",
      "Epoch 19/100\n",
      "3/3 [==============================] - 2s 534ms/step - loss: 0.4619 - accuracy: 0.7826 - precision: 0.7045 - recall: 0.9394 - val_loss: 0.4246 - val_accuracy: 0.7826 - val_precision: 0.7222 - val_recall: 1.0000\n",
      "Epoch 20/100\n",
      "3/3 [==============================] - 2s 534ms/step - loss: 0.4213 - accuracy: 0.7681 - precision: 0.6977 - recall: 0.9091 - val_loss: 0.3749 - val_accuracy: 0.8261 - val_precision: 0.7647 - val_recall: 1.0000\n",
      "Epoch 21/100\n",
      "3/3 [==============================] - 2s 605ms/step - loss: 0.3938 - accuracy: 0.7826 - precision: 0.7250 - recall: 0.8788 - val_loss: 0.3299 - val_accuracy: 0.8696 - val_precision: 0.8125 - val_recall: 1.0000\n",
      "Epoch 22/100\n",
      "3/3 [==============================] - 2s 531ms/step - loss: 0.3865 - accuracy: 0.8406 - precision: 0.8056 - recall: 0.8788 - val_loss: 0.3675 - val_accuracy: 0.7826 - val_precision: 0.7222 - val_recall: 1.0000\n",
      "Epoch 23/100\n",
      "3/3 [==============================] - 2s 533ms/step - loss: 0.3745 - accuracy: 0.8116 - precision: 0.7500 - recall: 0.9091 - val_loss: 0.3823 - val_accuracy: 0.7826 - val_precision: 0.7222 - val_recall: 1.0000\n",
      "Epoch 24/100\n",
      "3/3 [==============================] - 2s 534ms/step - loss: 0.4095 - accuracy: 0.7681 - precision: 0.6889 - recall: 0.9394 - val_loss: 0.4300 - val_accuracy: 0.7391 - val_precision: 0.6842 - val_recall: 1.0000\n",
      "Epoch 25/100\n",
      "3/3 [==============================] - 2s 535ms/step - loss: 0.4180 - accuracy: 0.7536 - precision: 0.6667 - recall: 0.9697 - val_loss: 0.4530 - val_accuracy: 0.7391 - val_precision: 0.6842 - val_recall: 1.0000\n",
      "Epoch 26/100\n",
      "3/3 [==============================] - 2s 528ms/step - loss: 0.4090 - accuracy: 0.7826 - precision: 0.6957 - recall: 0.9697 - val_loss: 0.4647 - val_accuracy: 0.7391 - val_precision: 0.6842 - val_recall: 1.0000\n",
      "Epoch 27/100\n",
      "3/3 [==============================] - 2s 543ms/step - loss: 0.3996 - accuracy: 0.7826 - precision: 0.7143 - recall: 0.9091 - val_loss: 0.4462 - val_accuracy: 0.7826 - val_precision: 0.7222 - val_recall: 1.0000\n",
      "Epoch 28/100\n",
      "3/3 [==============================] - 2s 557ms/step - loss: 0.3920 - accuracy: 0.7971 - precision: 0.7317 - recall: 0.9091 - val_loss: 0.4255 - val_accuracy: 0.7826 - val_precision: 0.7222 - val_recall: 1.0000\n",
      "Epoch 29/100\n",
      "3/3 [==============================] - 2s 541ms/step - loss: 0.3879 - accuracy: 0.7971 - precision: 0.7317 - recall: 0.9091 - val_loss: 0.4005 - val_accuracy: 0.7826 - val_precision: 0.7222 - val_recall: 1.0000\n",
      "Epoch 30/100\n",
      "3/3 [==============================] - 2s 549ms/step - loss: 0.3828 - accuracy: 0.7826 - precision: 0.7250 - recall: 0.8788 - val_loss: 0.3898 - val_accuracy: 0.8261 - val_precision: 0.7647 - val_recall: 1.0000\n",
      "Epoch 31/100\n",
      "3/3 [==============================] - 2s 535ms/step - loss: 0.3716 - accuracy: 0.7971 - precision: 0.7436 - recall: 0.8788 - val_loss: 0.3517 - val_accuracy: 0.7826 - val_precision: 0.7222 - val_recall: 1.0000\n",
      "Epoch 32/100\n",
      "3/3 [==============================] - 2s 530ms/step - loss: 0.3584 - accuracy: 0.7971 - precision: 0.7317 - recall: 0.9091 - val_loss: 0.3595 - val_accuracy: 0.7826 - val_precision: 0.7222 - val_recall: 1.0000\n",
      "Epoch 33/100\n",
      "3/3 [==============================] - 2s 543ms/step - loss: 0.3843 - accuracy: 0.7826 - precision: 0.7143 - recall: 0.9091 - val_loss: 0.3407 - val_accuracy: 0.7826 - val_precision: 0.7222 - val_recall: 1.0000\n",
      "Epoch 34/100\n",
      "3/3 [==============================] - 2s 542ms/step - loss: 0.3359 - accuracy: 0.7971 - precision: 0.7317 - recall: 0.9091 - val_loss: 0.3801 - val_accuracy: 0.9130 - val_precision: 0.9231 - val_recall: 0.9231\n",
      "Epoch 35/100\n",
      "3/3 [==============================] - 2s 554ms/step - loss: 0.3683 - accuracy: 0.8551 - precision: 0.8966 - recall: 0.7879 - val_loss: 0.4570 - val_accuracy: 0.7391 - val_precision: 0.8889 - val_recall: 0.6154\n",
      "Epoch 36/100\n",
      "3/3 [==============================] - 2s 540ms/step - loss: 0.3789 - accuracy: 0.8116 - precision: 0.8846 - recall: 0.6970 - val_loss: 0.3789 - val_accuracy: 0.8696 - val_precision: 0.8125 - val_recall: 1.0000\n",
      "Epoch 37/100\n",
      "3/3 [==============================] - 2s 554ms/step - loss: 0.3363 - accuracy: 0.8406 - precision: 0.7895 - recall: 0.9091 - val_loss: 0.5312 - val_accuracy: 0.7826 - val_precision: 0.7222 - val_recall: 1.0000\n",
      "Epoch 38/100\n",
      "3/3 [==============================] - 2s 540ms/step - loss: 0.5060 - accuracy: 0.7681 - precision: 0.6735 - recall: 1.0000 - val_loss: 0.3848 - val_accuracy: 0.8696 - val_precision: 0.8125 - val_recall: 1.0000\n",
      "Epoch 39/100\n",
      "3/3 [==============================] - 2s 540ms/step - loss: 0.3902 - accuracy: 0.8406 - precision: 0.8056 - recall: 0.8788 - val_loss: 0.4605 - val_accuracy: 0.7826 - val_precision: 0.8333 - val_recall: 0.7692\n",
      "Epoch 40/100\n",
      "3/3 [==============================] - 2s 630ms/step - loss: 0.3914 - accuracy: 0.7971 - precision: 0.8276 - recall: 0.7273 - val_loss: 0.4416 - val_accuracy: 0.8261 - val_precision: 0.8462 - val_recall: 0.8462\n",
      "Epoch 41/100\n",
      "3/3 [==============================] - 2s 553ms/step - loss: 0.3737 - accuracy: 0.8116 - precision: 0.8125 - recall: 0.7879 - val_loss: 0.3794 - val_accuracy: 0.7826 - val_precision: 0.7857 - val_recall: 0.8462\n",
      "Epoch 42/100\n",
      "3/3 [==============================] - 2s 552ms/step - loss: 0.3413 - accuracy: 0.8116 - precision: 0.7941 - recall: 0.8182 - val_loss: 0.3389 - val_accuracy: 0.8261 - val_precision: 0.8000 - val_recall: 0.9231\n",
      "Epoch 43/100\n",
      "3/3 [==============================] - 2s 554ms/step - loss: 0.3264 - accuracy: 0.8116 - precision: 0.7778 - recall: 0.8485 - val_loss: 0.3451 - val_accuracy: 0.7826 - val_precision: 0.7222 - val_recall: 1.0000\n",
      "Epoch 44/100\n",
      "3/3 [==============================] - 2s 610ms/step - loss: 0.3172 - accuracy: 0.8116 - precision: 0.7381 - recall: 0.9394 - val_loss: 0.3447 - val_accuracy: 0.7826 - val_precision: 0.7222 - val_recall: 1.0000\n",
      "Epoch 45/100\n",
      "3/3 [==============================] - 2s 670ms/step - loss: 0.3767 - accuracy: 0.8116 - precision: 0.7381 - recall: 0.9394 - val_loss: 0.3634 - val_accuracy: 0.7826 - val_precision: 0.7222 - val_recall: 1.0000\n",
      "Epoch 46/100\n",
      "3/3 [==============================] - 2s 571ms/step - loss: 0.3091 - accuracy: 0.8406 - precision: 0.7750 - recall: 0.9394 - val_loss: 0.3820 - val_accuracy: 0.7826 - val_precision: 0.7222 - val_recall: 1.0000\n",
      "Epoch 47/100\n",
      "3/3 [==============================] - 2s 540ms/step - loss: 0.3141 - accuracy: 0.8406 - precision: 0.8056 - recall: 0.8788 - val_loss: 0.3749 - val_accuracy: 0.8261 - val_precision: 0.8000 - val_recall: 0.9231\n",
      "Epoch 48/100\n",
      "3/3 [==============================] - 2s 584ms/step - loss: 0.3004 - accuracy: 0.8551 - precision: 0.8485 - recall: 0.8485 - val_loss: 0.3419 - val_accuracy: 0.8696 - val_precision: 0.8125 - val_recall: 1.0000\n",
      "Epoch 49/100\n",
      "3/3 [==============================] - 2s 542ms/step - loss: 0.2875 - accuracy: 0.8261 - precision: 0.8000 - recall: 0.8485 - val_loss: 0.3657 - val_accuracy: 0.8696 - val_precision: 0.8125 - val_recall: 1.0000\n",
      "Epoch 50/100\n",
      "3/3 [==============================] - 2s 600ms/step - loss: 0.2957 - accuracy: 0.8696 - precision: 0.8158 - recall: 0.9394 - val_loss: 0.3882 - val_accuracy: 0.7826 - val_precision: 0.7222 - val_recall: 1.0000\n",
      "Epoch 51/100\n",
      "3/3 [==============================] - 2s 546ms/step - loss: 0.3030 - accuracy: 0.8261 - precision: 0.7838 - recall: 0.8788 - val_loss: 0.3654 - val_accuracy: 0.7826 - val_precision: 0.7500 - val_recall: 0.9231\n",
      "Epoch 52/100\n",
      "3/3 [==============================] - 2s 541ms/step - loss: 0.2640 - accuracy: 0.8696 - precision: 0.8529 - recall: 0.8788 - val_loss: 0.3703 - val_accuracy: 0.8696 - val_precision: 0.8571 - val_recall: 0.9231\n",
      "Epoch 53/100\n",
      "3/3 [==============================] - 2s 598ms/step - loss: 0.2534 - accuracy: 0.8696 - precision: 0.9000 - recall: 0.8182 - val_loss: 0.3991 - val_accuracy: 0.9130 - val_precision: 0.8667 - val_recall: 1.0000\n",
      "Epoch 54/100\n",
      "3/3 [==============================] - 2s 534ms/step - loss: 0.2815 - accuracy: 0.8551 - precision: 0.8710 - recall: 0.8182 - val_loss: 0.4113 - val_accuracy: 0.9130 - val_precision: 0.8667 - val_recall: 1.0000\n",
      "Epoch 55/100\n",
      "3/3 [==============================] - 2s 527ms/step - loss: 0.2485 - accuracy: 0.8551 - precision: 0.8286 - recall: 0.8788 - val_loss: 0.3711 - val_accuracy: 0.9130 - val_precision: 0.8667 - val_recall: 1.0000\n",
      "Epoch 56/100\n",
      "3/3 [==============================] - 2s 595ms/step - loss: 0.5372 - accuracy: 0.8406 - precision: 0.8929 - recall: 0.7576 - val_loss: 0.3555 - val_accuracy: 0.8261 - val_precision: 0.8000 - val_recall: 0.9231\n",
      "Epoch 57/100\n",
      "3/3 [==============================] - 2s 549ms/step - loss: 0.2366 - accuracy: 0.8406 - precision: 0.8438 - recall: 0.8182 - val_loss: 0.3714 - val_accuracy: 0.7391 - val_precision: 0.8182 - val_recall: 0.6923\n",
      "Epoch 58/100\n",
      "3/3 [==============================] - 2s 559ms/step - loss: 0.2930 - accuracy: 0.8261 - precision: 0.8621 - recall: 0.7576 - val_loss: 0.3803 - val_accuracy: 0.6957 - val_precision: 0.7500 - val_recall: 0.6923\n",
      "Epoch 59/100\n",
      "3/3 [==============================] - 2s 641ms/step - loss: 0.2302 - accuracy: 0.8696 - precision: 0.9000 - recall: 0.8182 - val_loss: 0.4135 - val_accuracy: 0.7391 - val_precision: 0.7692 - val_recall: 0.7692\n",
      "Epoch 60/100\n",
      "3/3 [==============================] - 2s 542ms/step - loss: 0.1976 - accuracy: 0.9275 - precision: 1.0000 - recall: 0.8485 - val_loss: 0.9198 - val_accuracy: 0.8261 - val_precision: 0.7647 - val_recall: 1.0000\n",
      "Epoch 61/100\n",
      "3/3 [==============================] - 2s 565ms/step - loss: 1.0223 - accuracy: 0.7971 - precision: 0.7111 - recall: 0.9697 - val_loss: 0.4215 - val_accuracy: 0.8696 - val_precision: 0.8125 - val_recall: 1.0000\n",
      "Epoch 62/100\n",
      "3/3 [==============================] - 2s 545ms/step - loss: 0.3461 - accuracy: 0.8696 - precision: 0.9615 - recall: 0.7576 - val_loss: 0.7637 - val_accuracy: 0.4783 - val_precision: 1.0000 - val_recall: 0.0769\n",
      "Epoch 63/100\n",
      "3/3 [==============================] - 2s 538ms/step - loss: 0.6119 - accuracy: 0.6957 - precision: 1.0000 - recall: 0.3636 - val_loss: 0.6141 - val_accuracy: 0.5217 - val_precision: 1.0000 - val_recall: 0.1538\n",
      "Epoch 64/100\n",
      "3/3 [==============================] - 2s 611ms/step - loss: 0.4717 - accuracy: 0.7246 - precision: 1.0000 - recall: 0.4242 - val_loss: 0.5928 - val_accuracy: 0.5217 - val_precision: 0.6000 - val_recall: 0.4615\n",
      "Epoch 65/100\n",
      "3/3 [==============================] - 2s 540ms/step - loss: 0.4640 - accuracy: 0.7681 - precision: 0.8148 - recall: 0.6667 - val_loss: 0.5412 - val_accuracy: 0.7826 - val_precision: 0.7222 - val_recall: 1.0000\n",
      "Epoch 66/100\n",
      "3/3 [==============================] - 2s 564ms/step - loss: 0.4104 - accuracy: 0.8116 - precision: 0.7500 - recall: 0.9091 - val_loss: 0.4902 - val_accuracy: 0.7826 - val_precision: 0.7222 - val_recall: 1.0000\n",
      "Epoch 67/100\n",
      "3/3 [==============================] - 2s 540ms/step - loss: 0.3827 - accuracy: 0.7971 - precision: 0.7436 - recall: 0.8788 - val_loss: 0.4257 - val_accuracy: 0.8261 - val_precision: 0.8000 - val_recall: 0.9231\n",
      "Epoch 68/100\n",
      "3/3 [==============================] - 2s 558ms/step - loss: 0.3807 - accuracy: 0.8261 - precision: 0.7692 - recall: 0.9091 - val_loss: 0.4157 - val_accuracy: 0.8696 - val_precision: 0.9167 - val_recall: 0.8462\n",
      "Epoch 69/100\n",
      "3/3 [==============================] - 2s 612ms/step - loss: 0.3666 - accuracy: 0.8551 - precision: 0.8710 - recall: 0.8182 - val_loss: 0.4717 - val_accuracy: 0.8261 - val_precision: 0.8000 - val_recall: 0.9231\n",
      "Epoch 70/100\n",
      "3/3 [==============================] - 2s 537ms/step - loss: 0.3267 - accuracy: 0.7971 - precision: 0.7714 - recall: 0.8182 - val_loss: 0.4646 - val_accuracy: 0.7826 - val_precision: 0.7222 - val_recall: 1.0000\n",
      "Epoch 71/100\n",
      "3/3 [==============================] - 2s 535ms/step - loss: 0.3220 - accuracy: 0.8261 - precision: 0.7333 - recall: 1.0000 - val_loss: 0.4565 - val_accuracy: 0.8261 - val_precision: 0.8000 - val_recall: 0.9231\n",
      "Epoch 72/100\n",
      "3/3 [==============================] - 2s 578ms/step - loss: 0.3082 - accuracy: 0.8116 - precision: 0.7632 - recall: 0.8788 - val_loss: 0.4247 - val_accuracy: 0.8696 - val_precision: 0.8571 - val_recall: 0.9231\n",
      "Epoch 73/100\n",
      "3/3 [==============================] - 2s 564ms/step - loss: 0.3299 - accuracy: 0.8261 - precision: 0.7838 - recall: 0.8788 - val_loss: 0.4978 - val_accuracy: 0.8261 - val_precision: 0.8000 - val_recall: 0.9231\n",
      "Epoch 74/100\n",
      "3/3 [==============================] - 2s 543ms/step - loss: 0.4594 - accuracy: 0.8116 - precision: 0.7500 - recall: 0.9091 - val_loss: 0.3839 - val_accuracy: 0.8261 - val_precision: 0.8462 - val_recall: 0.8462\n",
      "Epoch 75/100\n",
      "3/3 [==============================] - 2s 559ms/step - loss: 0.3931 - accuracy: 0.8406 - precision: 0.8235 - recall: 0.8485 - val_loss: 0.3729 - val_accuracy: 0.8696 - val_precision: 0.8571 - val_recall: 0.9231\n",
      "Epoch 76/100\n",
      "3/3 [==============================] - 2s 678ms/step - loss: 0.3017 - accuracy: 0.8551 - precision: 0.8710 - recall: 0.8182 - val_loss: 0.4094 - val_accuracy: 0.8261 - val_precision: 0.7647 - val_recall: 1.0000\n",
      "Epoch 77/100\n",
      "3/3 [==============================] - 2s 592ms/step - loss: 0.3573 - accuracy: 0.8261 - precision: 0.7561 - recall: 0.9394 - val_loss: 0.4186 - val_accuracy: 0.7826 - val_precision: 0.7222 - val_recall: 1.0000\n",
      "Epoch 78/100\n",
      "3/3 [==============================] - 2s 631ms/step - loss: 0.3529 - accuracy: 0.8406 - precision: 0.8235 - recall: 0.8485 - val_loss: 0.4086 - val_accuracy: 0.8696 - val_precision: 0.8571 - val_recall: 0.9231\n",
      "Epoch 79/100\n",
      "3/3 [==============================] - 2s 541ms/step - loss: 0.3361 - accuracy: 0.8696 - precision: 0.9000 - recall: 0.8182 - val_loss: 0.3918 - val_accuracy: 0.8696 - val_precision: 0.9167 - val_recall: 0.8462\n",
      "Epoch 80/100\n",
      "3/3 [==============================] - 2s 623ms/step - loss: 0.3111 - accuracy: 0.8986 - precision: 0.9643 - recall: 0.8182 - val_loss: 0.3793 - val_accuracy: 0.8261 - val_precision: 0.9091 - val_recall: 0.7692\n",
      "Epoch 81/100\n",
      "3/3 [==============================] - 2s 599ms/step - loss: 0.2990 - accuracy: 0.8696 - precision: 0.9615 - recall: 0.7576 - val_loss: 0.4287 - val_accuracy: 0.7826 - val_precision: 0.9000 - val_recall: 0.6923\n",
      "Epoch 82/100\n",
      "3/3 [==============================] - 2s 563ms/step - loss: 0.3077 - accuracy: 0.8696 - precision: 0.9615 - recall: 0.7576 - val_loss: 0.4262 - val_accuracy: 0.7826 - val_precision: 0.9000 - val_recall: 0.6923\n",
      "Epoch 83/100\n",
      "3/3 [==============================] - 2s 652ms/step - loss: 0.3003 - accuracy: 0.8696 - precision: 0.9286 - recall: 0.7879 - val_loss: 0.3722 - val_accuracy: 0.8696 - val_precision: 0.9167 - val_recall: 0.8462\n",
      "Epoch 84/100\n",
      "3/3 [==============================] - 2s 565ms/step - loss: 0.2860 - accuracy: 0.8551 - precision: 0.8966 - recall: 0.7879 - val_loss: 0.3549 - val_accuracy: 0.8696 - val_precision: 0.8571 - val_recall: 0.9231\n",
      "Epoch 85/100\n",
      "3/3 [==============================] - 2s 627ms/step - loss: 0.2587 - accuracy: 0.8696 - precision: 0.9000 - recall: 0.8182 - val_loss: 0.3462 - val_accuracy: 0.8696 - val_precision: 0.8571 - val_recall: 0.9231\n",
      "Epoch 86/100\n",
      "3/3 [==============================] - 2s 555ms/step - loss: 0.2626 - accuracy: 0.8841 - precision: 0.9032 - recall: 0.8485 - val_loss: 0.3460 - val_accuracy: 0.8696 - val_precision: 0.8571 - val_recall: 0.9231\n",
      "Epoch 87/100\n",
      "3/3 [==============================] - 2s 568ms/step - loss: 0.3104 - accuracy: 0.8261 - precision: 0.8000 - recall: 0.8485 - val_loss: 0.3495 - val_accuracy: 0.8261 - val_precision: 0.8000 - val_recall: 0.9231\n",
      "Epoch 88/100\n",
      "3/3 [==============================] - 2s 614ms/step - loss: 0.2951 - accuracy: 0.8406 - precision: 0.8235 - recall: 0.8485 - val_loss: 0.3342 - val_accuracy: 0.8261 - val_precision: 0.8000 - val_recall: 0.9231\n",
      "Epoch 89/100\n",
      "3/3 [==============================] - 2s 548ms/step - loss: 0.2792 - accuracy: 0.8406 - precision: 0.8235 - recall: 0.8485 - val_loss: 0.3419 - val_accuracy: 0.8261 - val_precision: 0.8000 - val_recall: 0.9231\n",
      "Epoch 90/100\n",
      "3/3 [==============================] - 2s 567ms/step - loss: 0.2705 - accuracy: 0.8406 - precision: 0.8235 - recall: 0.8485 - val_loss: 0.3374 - val_accuracy: 0.8261 - val_precision: 0.8000 - val_recall: 0.9231\n",
      "Epoch 91/100\n",
      "3/3 [==============================] - 2s 564ms/step - loss: 0.2382 - accuracy: 0.8696 - precision: 0.8750 - recall: 0.8485 - val_loss: 0.3481 - val_accuracy: 0.8261 - val_precision: 0.8000 - val_recall: 0.9231\n",
      "Epoch 92/100\n",
      "3/3 [==============================] - 2s 577ms/step - loss: 0.2432 - accuracy: 0.8551 - precision: 0.8966 - recall: 0.7879 - val_loss: 0.3546 - val_accuracy: 0.8696 - val_precision: 0.8571 - val_recall: 0.9231\n",
      "Epoch 93/100\n",
      "3/3 [==============================] - 2s 611ms/step - loss: 0.2323 - accuracy: 0.8696 - precision: 0.9286 - recall: 0.7879 - val_loss: 0.3339 - val_accuracy: 0.8261 - val_precision: 0.8000 - val_recall: 0.9231\n",
      "Epoch 94/100\n",
      "3/3 [==============================] - 2s 556ms/step - loss: 0.2211 - accuracy: 0.8696 - precision: 0.8750 - recall: 0.8485 - val_loss: 0.3458 - val_accuracy: 0.8261 - val_precision: 0.8000 - val_recall: 0.9231\n",
      "Epoch 95/100\n",
      "3/3 [==============================] - 2s 572ms/step - loss: 0.2058 - accuracy: 0.8841 - precision: 0.9032 - recall: 0.8485 - val_loss: 0.3392 - val_accuracy: 0.8696 - val_precision: 0.8571 - val_recall: 0.9231\n",
      "Epoch 96/100\n",
      "3/3 [==============================] - 2s 552ms/step - loss: 0.3127 - accuracy: 0.8696 - precision: 0.9286 - recall: 0.7879 - val_loss: 0.3857 - val_accuracy: 0.7391 - val_precision: 0.7059 - val_recall: 0.9231\n",
      "Epoch 97/100\n",
      "3/3 [==============================] - 2s 541ms/step - loss: 0.2652 - accuracy: 0.8551 - precision: 0.8966 - recall: 0.7879 - val_loss: 0.4147 - val_accuracy: 0.7826 - val_precision: 0.7222 - val_recall: 1.0000\n",
      "Epoch 98/100\n",
      "3/3 [==============================] - 2s 602ms/step - loss: 0.2933 - accuracy: 0.8841 - precision: 0.8205 - recall: 0.9697 - val_loss: 0.4449 - val_accuracy: 0.6522 - val_precision: 0.6471 - val_recall: 0.8462\n",
      "Epoch 99/100\n",
      "3/3 [==============================] - 2s 539ms/step - loss: 0.3232 - accuracy: 0.7971 - precision: 0.7209 - recall: 0.9394 - val_loss: 0.4400 - val_accuracy: 0.6957 - val_precision: 0.6875 - val_recall: 0.8462\n",
      "Epoch 100/100\n",
      "3/3 [==============================] - 2s 534ms/step - loss: 0.2934 - accuracy: 0.8696 - precision: 0.8529 - recall: 0.8788 - val_loss: 0.4469 - val_accuracy: 0.6957 - val_precision: 0.7143 - val_recall: 0.7692\n"
     ]
    }
   ],
   "source": [
    "history = model.fit(X_train, y_train, epochs = 100, validation_data = (X_test, y_test))"
   ]
  },
  {
   "cell_type": "code",
   "execution_count": 18,
   "metadata": {},
   "outputs": [
    {
     "output_type": "display_data",
     "data": {
      "text/plain": "<Figure size 432x288 with 1 Axes>",
      "image/svg+xml": "<?xml version=\"1.0\" encoding=\"utf-8\" standalone=\"no\"?>\n<!DOCTYPE svg PUBLIC \"-//W3C//DTD SVG 1.1//EN\"\n  \"http://www.w3.org/Graphics/SVG/1.1/DTD/svg11.dtd\">\n<svg height=\"277.314375pt\" version=\"1.1\" viewBox=\"0 0 385.78125 277.314375\" width=\"385.78125pt\" xmlns=\"http://www.w3.org/2000/svg\" xmlns:xlink=\"http://www.w3.org/1999/xlink\">\n <metadata>\n  <rdf:RDF xmlns:cc=\"http://creativecommons.org/ns#\" xmlns:dc=\"http://purl.org/dc/elements/1.1/\" xmlns:rdf=\"http://www.w3.org/1999/02/22-rdf-syntax-ns#\">\n   <cc:Work>\n    <dc:type rdf:resource=\"http://purl.org/dc/dcmitype/StillImage\"/>\n    <dc:date>2021-07-12T14:44:29.984604</dc:date>\n    <dc:format>image/svg+xml</dc:format>\n    <dc:creator>\n     <cc:Agent>\n      <dc:title>Matplotlib v3.4.1, https://matplotlib.org/</dc:title>\n     </cc:Agent>\n    </dc:creator>\n   </cc:Work>\n  </rdf:RDF>\n </metadata>\n <defs>\n  <style type=\"text/css\">*{stroke-linecap:butt;stroke-linejoin:round;}</style>\n </defs>\n <g id=\"figure_1\">\n  <g id=\"patch_1\">\n   <path d=\"M 0 277.314375 \nL 385.78125 277.314375 \nL 385.78125 0 \nL 0 0 \nz\n\" style=\"fill:none;\"/>\n  </g>\n  <g id=\"axes_1\">\n   <g id=\"patch_2\">\n    <path d=\"M 43.78125 239.758125 \nL 378.58125 239.758125 \nL 378.58125 22.318125 \nL 43.78125 22.318125 \nz\n\" style=\"fill:#ffffff;\"/>\n   </g>\n   <g id=\"matplotlib.axis_1\">\n    <g id=\"xtick_1\">\n     <g id=\"line2d_1\">\n      <defs>\n       <path d=\"M 0 0 \nL 0 3.5 \n\" id=\"mee30db3269\" style=\"stroke:#000000;stroke-width:0.8;\"/>\n      </defs>\n      <g>\n       <use style=\"stroke:#000000;stroke-width:0.8;\" x=\"58.999432\" xlink:href=\"#mee30db3269\" y=\"239.758125\"/>\n      </g>\n     </g>\n     <g id=\"text_1\">\n      <!-- 0 -->\n      <g transform=\"translate(55.818182 254.356562)scale(0.1 -0.1)\">\n       <defs>\n        <path d=\"M 2034 4250 \nQ 1547 4250 1301 3770 \nQ 1056 3291 1056 2328 \nQ 1056 1369 1301 889 \nQ 1547 409 2034 409 \nQ 2525 409 2770 889 \nQ 3016 1369 3016 2328 \nQ 3016 3291 2770 3770 \nQ 2525 4250 2034 4250 \nz\nM 2034 4750 \nQ 2819 4750 3233 4129 \nQ 3647 3509 3647 2328 \nQ 3647 1150 3233 529 \nQ 2819 -91 2034 -91 \nQ 1250 -91 836 529 \nQ 422 1150 422 2328 \nQ 422 3509 836 4129 \nQ 1250 4750 2034 4750 \nz\n\" id=\"DejaVuSans-30\" transform=\"scale(0.015625)\"/>\n       </defs>\n       <use xlink:href=\"#DejaVuSans-30\"/>\n      </g>\n     </g>\n    </g>\n    <g id=\"xtick_2\">\n     <g id=\"line2d_2\">\n      <g>\n       <use style=\"stroke:#000000;stroke-width:0.8;\" x=\"120.487035\" xlink:href=\"#mee30db3269\" y=\"239.758125\"/>\n      </g>\n     </g>\n     <g id=\"text_2\">\n      <!-- 20 -->\n      <g transform=\"translate(114.124535 254.356562)scale(0.1 -0.1)\">\n       <defs>\n        <path d=\"M 1228 531 \nL 3431 531 \nL 3431 0 \nL 469 0 \nL 469 531 \nQ 828 903 1448 1529 \nQ 2069 2156 2228 2338 \nQ 2531 2678 2651 2914 \nQ 2772 3150 2772 3378 \nQ 2772 3750 2511 3984 \nQ 2250 4219 1831 4219 \nQ 1534 4219 1204 4116 \nQ 875 4013 500 3803 \nL 500 4441 \nQ 881 4594 1212 4672 \nQ 1544 4750 1819 4750 \nQ 2544 4750 2975 4387 \nQ 3406 4025 3406 3419 \nQ 3406 3131 3298 2873 \nQ 3191 2616 2906 2266 \nQ 2828 2175 2409 1742 \nQ 1991 1309 1228 531 \nz\n\" id=\"DejaVuSans-32\" transform=\"scale(0.015625)\"/>\n       </defs>\n       <use xlink:href=\"#DejaVuSans-32\"/>\n       <use x=\"63.623047\" xlink:href=\"#DejaVuSans-30\"/>\n      </g>\n     </g>\n    </g>\n    <g id=\"xtick_3\">\n     <g id=\"line2d_3\">\n      <g>\n       <use style=\"stroke:#000000;stroke-width:0.8;\" x=\"181.974638\" xlink:href=\"#mee30db3269\" y=\"239.758125\"/>\n      </g>\n     </g>\n     <g id=\"text_3\">\n      <!-- 40 -->\n      <g transform=\"translate(175.612138 254.356562)scale(0.1 -0.1)\">\n       <defs>\n        <path d=\"M 2419 4116 \nL 825 1625 \nL 2419 1625 \nL 2419 4116 \nz\nM 2253 4666 \nL 3047 4666 \nL 3047 1625 \nL 3713 1625 \nL 3713 1100 \nL 3047 1100 \nL 3047 0 \nL 2419 0 \nL 2419 1100 \nL 313 1100 \nL 313 1709 \nL 2253 4666 \nz\n\" id=\"DejaVuSans-34\" transform=\"scale(0.015625)\"/>\n       </defs>\n       <use xlink:href=\"#DejaVuSans-34\"/>\n       <use x=\"63.623047\" xlink:href=\"#DejaVuSans-30\"/>\n      </g>\n     </g>\n    </g>\n    <g id=\"xtick_4\">\n     <g id=\"line2d_4\">\n      <g>\n       <use style=\"stroke:#000000;stroke-width:0.8;\" x=\"243.462242\" xlink:href=\"#mee30db3269\" y=\"239.758125\"/>\n      </g>\n     </g>\n     <g id=\"text_4\">\n      <!-- 60 -->\n      <g transform=\"translate(237.099742 254.356562)scale(0.1 -0.1)\">\n       <defs>\n        <path d=\"M 2113 2584 \nQ 1688 2584 1439 2293 \nQ 1191 2003 1191 1497 \nQ 1191 994 1439 701 \nQ 1688 409 2113 409 \nQ 2538 409 2786 701 \nQ 3034 994 3034 1497 \nQ 3034 2003 2786 2293 \nQ 2538 2584 2113 2584 \nz\nM 3366 4563 \nL 3366 3988 \nQ 3128 4100 2886 4159 \nQ 2644 4219 2406 4219 \nQ 1781 4219 1451 3797 \nQ 1122 3375 1075 2522 \nQ 1259 2794 1537 2939 \nQ 1816 3084 2150 3084 \nQ 2853 3084 3261 2657 \nQ 3669 2231 3669 1497 \nQ 3669 778 3244 343 \nQ 2819 -91 2113 -91 \nQ 1303 -91 875 529 \nQ 447 1150 447 2328 \nQ 447 3434 972 4092 \nQ 1497 4750 2381 4750 \nQ 2619 4750 2861 4703 \nQ 3103 4656 3366 4563 \nz\n\" id=\"DejaVuSans-36\" transform=\"scale(0.015625)\"/>\n       </defs>\n       <use xlink:href=\"#DejaVuSans-36\"/>\n       <use x=\"63.623047\" xlink:href=\"#DejaVuSans-30\"/>\n      </g>\n     </g>\n    </g>\n    <g id=\"xtick_5\">\n     <g id=\"line2d_5\">\n      <g>\n       <use style=\"stroke:#000000;stroke-width:0.8;\" x=\"304.949845\" xlink:href=\"#mee30db3269\" y=\"239.758125\"/>\n      </g>\n     </g>\n     <g id=\"text_5\">\n      <!-- 80 -->\n      <g transform=\"translate(298.587345 254.356562)scale(0.1 -0.1)\">\n       <defs>\n        <path d=\"M 2034 2216 \nQ 1584 2216 1326 1975 \nQ 1069 1734 1069 1313 \nQ 1069 891 1326 650 \nQ 1584 409 2034 409 \nQ 2484 409 2743 651 \nQ 3003 894 3003 1313 \nQ 3003 1734 2745 1975 \nQ 2488 2216 2034 2216 \nz\nM 1403 2484 \nQ 997 2584 770 2862 \nQ 544 3141 544 3541 \nQ 544 4100 942 4425 \nQ 1341 4750 2034 4750 \nQ 2731 4750 3128 4425 \nQ 3525 4100 3525 3541 \nQ 3525 3141 3298 2862 \nQ 3072 2584 2669 2484 \nQ 3125 2378 3379 2068 \nQ 3634 1759 3634 1313 \nQ 3634 634 3220 271 \nQ 2806 -91 2034 -91 \nQ 1263 -91 848 271 \nQ 434 634 434 1313 \nQ 434 1759 690 2068 \nQ 947 2378 1403 2484 \nz\nM 1172 3481 \nQ 1172 3119 1398 2916 \nQ 1625 2713 2034 2713 \nQ 2441 2713 2670 2916 \nQ 2900 3119 2900 3481 \nQ 2900 3844 2670 4047 \nQ 2441 4250 2034 4250 \nQ 1625 4250 1398 4047 \nQ 1172 3844 1172 3481 \nz\n\" id=\"DejaVuSans-38\" transform=\"scale(0.015625)\"/>\n       </defs>\n       <use xlink:href=\"#DejaVuSans-38\"/>\n       <use x=\"63.623047\" xlink:href=\"#DejaVuSans-30\"/>\n      </g>\n     </g>\n    </g>\n    <g id=\"xtick_6\">\n     <g id=\"line2d_6\">\n      <g>\n       <use style=\"stroke:#000000;stroke-width:0.8;\" x=\"366.437448\" xlink:href=\"#mee30db3269\" y=\"239.758125\"/>\n      </g>\n     </g>\n     <g id=\"text_6\">\n      <!-- 100 -->\n      <g transform=\"translate(356.893698 254.356562)scale(0.1 -0.1)\">\n       <defs>\n        <path d=\"M 794 531 \nL 1825 531 \nL 1825 4091 \nL 703 3866 \nL 703 4441 \nL 1819 4666 \nL 2450 4666 \nL 2450 531 \nL 3481 531 \nL 3481 0 \nL 794 0 \nL 794 531 \nz\n\" id=\"DejaVuSans-31\" transform=\"scale(0.015625)\"/>\n       </defs>\n       <use xlink:href=\"#DejaVuSans-31\"/>\n       <use x=\"63.623047\" xlink:href=\"#DejaVuSans-30\"/>\n       <use x=\"127.246094\" xlink:href=\"#DejaVuSans-30\"/>\n      </g>\n     </g>\n    </g>\n    <g id=\"text_7\">\n     <!-- epoch -->\n     <g transform=\"translate(195.953125 268.034687)scale(0.1 -0.1)\">\n      <defs>\n       <path d=\"M 3597 1894 \nL 3597 1613 \nL 953 1613 \nQ 991 1019 1311 708 \nQ 1631 397 2203 397 \nQ 2534 397 2845 478 \nQ 3156 559 3463 722 \nL 3463 178 \nQ 3153 47 2828 -22 \nQ 2503 -91 2169 -91 \nQ 1331 -91 842 396 \nQ 353 884 353 1716 \nQ 353 2575 817 3079 \nQ 1281 3584 2069 3584 \nQ 2775 3584 3186 3129 \nQ 3597 2675 3597 1894 \nz\nM 3022 2063 \nQ 3016 2534 2758 2815 \nQ 2500 3097 2075 3097 \nQ 1594 3097 1305 2825 \nQ 1016 2553 972 2059 \nL 3022 2063 \nz\n\" id=\"DejaVuSans-65\" transform=\"scale(0.015625)\"/>\n       <path d=\"M 1159 525 \nL 1159 -1331 \nL 581 -1331 \nL 581 3500 \nL 1159 3500 \nL 1159 2969 \nQ 1341 3281 1617 3432 \nQ 1894 3584 2278 3584 \nQ 2916 3584 3314 3078 \nQ 3713 2572 3713 1747 \nQ 3713 922 3314 415 \nQ 2916 -91 2278 -91 \nQ 1894 -91 1617 61 \nQ 1341 213 1159 525 \nz\nM 3116 1747 \nQ 3116 2381 2855 2742 \nQ 2594 3103 2138 3103 \nQ 1681 3103 1420 2742 \nQ 1159 2381 1159 1747 \nQ 1159 1113 1420 752 \nQ 1681 391 2138 391 \nQ 2594 391 2855 752 \nQ 3116 1113 3116 1747 \nz\n\" id=\"DejaVuSans-70\" transform=\"scale(0.015625)\"/>\n       <path d=\"M 1959 3097 \nQ 1497 3097 1228 2736 \nQ 959 2375 959 1747 \nQ 959 1119 1226 758 \nQ 1494 397 1959 397 \nQ 2419 397 2687 759 \nQ 2956 1122 2956 1747 \nQ 2956 2369 2687 2733 \nQ 2419 3097 1959 3097 \nz\nM 1959 3584 \nQ 2709 3584 3137 3096 \nQ 3566 2609 3566 1747 \nQ 3566 888 3137 398 \nQ 2709 -91 1959 -91 \nQ 1206 -91 779 398 \nQ 353 888 353 1747 \nQ 353 2609 779 3096 \nQ 1206 3584 1959 3584 \nz\n\" id=\"DejaVuSans-6f\" transform=\"scale(0.015625)\"/>\n       <path d=\"M 3122 3366 \nL 3122 2828 \nQ 2878 2963 2633 3030 \nQ 2388 3097 2138 3097 \nQ 1578 3097 1268 2742 \nQ 959 2388 959 1747 \nQ 959 1106 1268 751 \nQ 1578 397 2138 397 \nQ 2388 397 2633 464 \nQ 2878 531 3122 666 \nL 3122 134 \nQ 2881 22 2623 -34 \nQ 2366 -91 2075 -91 \nQ 1284 -91 818 406 \nQ 353 903 353 1747 \nQ 353 2603 823 3093 \nQ 1294 3584 2113 3584 \nQ 2378 3584 2631 3529 \nQ 2884 3475 3122 3366 \nz\n\" id=\"DejaVuSans-63\" transform=\"scale(0.015625)\"/>\n       <path d=\"M 3513 2113 \nL 3513 0 \nL 2938 0 \nL 2938 2094 \nQ 2938 2591 2744 2837 \nQ 2550 3084 2163 3084 \nQ 1697 3084 1428 2787 \nQ 1159 2491 1159 1978 \nL 1159 0 \nL 581 0 \nL 581 4863 \nL 1159 4863 \nL 1159 2956 \nQ 1366 3272 1645 3428 \nQ 1925 3584 2291 3584 \nQ 2894 3584 3203 3211 \nQ 3513 2838 3513 2113 \nz\n\" id=\"DejaVuSans-68\" transform=\"scale(0.015625)\"/>\n      </defs>\n      <use xlink:href=\"#DejaVuSans-65\"/>\n      <use x=\"61.523438\" xlink:href=\"#DejaVuSans-70\"/>\n      <use x=\"125\" xlink:href=\"#DejaVuSans-6f\"/>\n      <use x=\"186.181641\" xlink:href=\"#DejaVuSans-63\"/>\n      <use x=\"241.162109\" xlink:href=\"#DejaVuSans-68\"/>\n     </g>\n    </g>\n   </g>\n   <g id=\"matplotlib.axis_2\">\n    <g id=\"ytick_1\">\n     <g id=\"line2d_7\">\n      <defs>\n       <path d=\"M 0 0 \nL -3.5 0 \n\" id=\"m8e906c4417\" style=\"stroke:#000000;stroke-width:0.8;\"/>\n      </defs>\n      <g>\n       <use style=\"stroke:#000000;stroke-width:0.8;\" x=\"43.78125\" xlink:href=\"#m8e906c4417\" y=\"220.309682\"/>\n      </g>\n     </g>\n     <g id=\"text_8\">\n      <!-- 0.5 -->\n      <g transform=\"translate(20.878125 224.108901)scale(0.1 -0.1)\">\n       <defs>\n        <path d=\"M 684 794 \nL 1344 794 \nL 1344 0 \nL 684 0 \nL 684 794 \nz\n\" id=\"DejaVuSans-2e\" transform=\"scale(0.015625)\"/>\n        <path d=\"M 691 4666 \nL 3169 4666 \nL 3169 4134 \nL 1269 4134 \nL 1269 2991 \nQ 1406 3038 1543 3061 \nQ 1681 3084 1819 3084 \nQ 2600 3084 3056 2656 \nQ 3513 2228 3513 1497 \nQ 3513 744 3044 326 \nQ 2575 -91 1722 -91 \nQ 1428 -91 1123 -41 \nQ 819 9 494 109 \nL 494 744 \nQ 775 591 1075 516 \nQ 1375 441 1709 441 \nQ 2250 441 2565 725 \nQ 2881 1009 2881 1497 \nQ 2881 1984 2565 2268 \nQ 2250 2553 1709 2553 \nQ 1456 2553 1204 2497 \nQ 953 2441 691 2322 \nL 691 4666 \nz\n\" id=\"DejaVuSans-35\" transform=\"scale(0.015625)\"/>\n       </defs>\n       <use xlink:href=\"#DejaVuSans-30\"/>\n       <use x=\"63.623047\" xlink:href=\"#DejaVuSans-2e\"/>\n       <use x=\"95.410156\" xlink:href=\"#DejaVuSans-35\"/>\n      </g>\n     </g>\n    </g>\n    <g id=\"ytick_2\">\n     <g id=\"line2d_8\">\n      <g>\n       <use style=\"stroke:#000000;stroke-width:0.8;\" x=\"43.78125\" xlink:href=\"#m8e906c4417\" y=\"176.31156\"/>\n      </g>\n     </g>\n     <g id=\"text_9\">\n      <!-- 0.6 -->\n      <g transform=\"translate(20.878125 180.110779)scale(0.1 -0.1)\">\n       <use xlink:href=\"#DejaVuSans-30\"/>\n       <use x=\"63.623047\" xlink:href=\"#DejaVuSans-2e\"/>\n       <use x=\"95.410156\" xlink:href=\"#DejaVuSans-36\"/>\n      </g>\n     </g>\n    </g>\n    <g id=\"ytick_3\">\n     <g id=\"line2d_9\">\n      <g>\n       <use style=\"stroke:#000000;stroke-width:0.8;\" x=\"43.78125\" xlink:href=\"#m8e906c4417\" y=\"132.313438\"/>\n      </g>\n     </g>\n     <g id=\"text_10\">\n      <!-- 0.7 -->\n      <g transform=\"translate(20.878125 136.112657)scale(0.1 -0.1)\">\n       <defs>\n        <path d=\"M 525 4666 \nL 3525 4666 \nL 3525 4397 \nL 1831 0 \nL 1172 0 \nL 2766 4134 \nL 525 4134 \nL 525 4666 \nz\n\" id=\"DejaVuSans-37\" transform=\"scale(0.015625)\"/>\n       </defs>\n       <use xlink:href=\"#DejaVuSans-30\"/>\n       <use x=\"63.623047\" xlink:href=\"#DejaVuSans-2e\"/>\n       <use x=\"95.410156\" xlink:href=\"#DejaVuSans-37\"/>\n      </g>\n     </g>\n    </g>\n    <g id=\"ytick_4\">\n     <g id=\"line2d_10\">\n      <g>\n       <use style=\"stroke:#000000;stroke-width:0.8;\" x=\"43.78125\" xlink:href=\"#m8e906c4417\" y=\"88.315316\"/>\n      </g>\n     </g>\n     <g id=\"text_11\">\n      <!-- 0.8 -->\n      <g transform=\"translate(20.878125 92.114535)scale(0.1 -0.1)\">\n       <use xlink:href=\"#DejaVuSans-30\"/>\n       <use x=\"63.623047\" xlink:href=\"#DejaVuSans-2e\"/>\n       <use x=\"95.410156\" xlink:href=\"#DejaVuSans-38\"/>\n      </g>\n     </g>\n    </g>\n    <g id=\"ytick_5\">\n     <g id=\"line2d_11\">\n      <g>\n       <use style=\"stroke:#000000;stroke-width:0.8;\" x=\"43.78125\" xlink:href=\"#m8e906c4417\" y=\"44.317194\"/>\n      </g>\n     </g>\n     <g id=\"text_12\">\n      <!-- 0.9 -->\n      <g transform=\"translate(20.878125 48.116413)scale(0.1 -0.1)\">\n       <defs>\n        <path d=\"M 703 97 \nL 703 672 \nQ 941 559 1184 500 \nQ 1428 441 1663 441 \nQ 2288 441 2617 861 \nQ 2947 1281 2994 2138 \nQ 2813 1869 2534 1725 \nQ 2256 1581 1919 1581 \nQ 1219 1581 811 2004 \nQ 403 2428 403 3163 \nQ 403 3881 828 4315 \nQ 1253 4750 1959 4750 \nQ 2769 4750 3195 4129 \nQ 3622 3509 3622 2328 \nQ 3622 1225 3098 567 \nQ 2575 -91 1691 -91 \nQ 1453 -91 1209 -44 \nQ 966 3 703 97 \nz\nM 1959 2075 \nQ 2384 2075 2632 2365 \nQ 2881 2656 2881 3163 \nQ 2881 3666 2632 3958 \nQ 2384 4250 1959 4250 \nQ 1534 4250 1286 3958 \nQ 1038 3666 1038 3163 \nQ 1038 2656 1286 2365 \nQ 1534 2075 1959 2075 \nz\n\" id=\"DejaVuSans-39\" transform=\"scale(0.015625)\"/>\n       </defs>\n       <use xlink:href=\"#DejaVuSans-30\"/>\n       <use x=\"63.623047\" xlink:href=\"#DejaVuSans-2e\"/>\n       <use x=\"95.410156\" xlink:href=\"#DejaVuSans-39\"/>\n      </g>\n     </g>\n    </g>\n    <g id=\"text_13\">\n     <!-- accuracy -->\n     <g transform=\"translate(14.798438 153.5975)rotate(-90)scale(0.1 -0.1)\">\n      <defs>\n       <path d=\"M 2194 1759 \nQ 1497 1759 1228 1600 \nQ 959 1441 959 1056 \nQ 959 750 1161 570 \nQ 1363 391 1709 391 \nQ 2188 391 2477 730 \nQ 2766 1069 2766 1631 \nL 2766 1759 \nL 2194 1759 \nz\nM 3341 1997 \nL 3341 0 \nL 2766 0 \nL 2766 531 \nQ 2569 213 2275 61 \nQ 1981 -91 1556 -91 \nQ 1019 -91 701 211 \nQ 384 513 384 1019 \nQ 384 1609 779 1909 \nQ 1175 2209 1959 2209 \nL 2766 2209 \nL 2766 2266 \nQ 2766 2663 2505 2880 \nQ 2244 3097 1772 3097 \nQ 1472 3097 1187 3025 \nQ 903 2953 641 2809 \nL 641 3341 \nQ 956 3463 1253 3523 \nQ 1550 3584 1831 3584 \nQ 2591 3584 2966 3190 \nQ 3341 2797 3341 1997 \nz\n\" id=\"DejaVuSans-61\" transform=\"scale(0.015625)\"/>\n       <path d=\"M 544 1381 \nL 544 3500 \nL 1119 3500 \nL 1119 1403 \nQ 1119 906 1312 657 \nQ 1506 409 1894 409 \nQ 2359 409 2629 706 \nQ 2900 1003 2900 1516 \nL 2900 3500 \nL 3475 3500 \nL 3475 0 \nL 2900 0 \nL 2900 538 \nQ 2691 219 2414 64 \nQ 2138 -91 1772 -91 \nQ 1169 -91 856 284 \nQ 544 659 544 1381 \nz\nM 1991 3584 \nL 1991 3584 \nz\n\" id=\"DejaVuSans-75\" transform=\"scale(0.015625)\"/>\n       <path d=\"M 2631 2963 \nQ 2534 3019 2420 3045 \nQ 2306 3072 2169 3072 \nQ 1681 3072 1420 2755 \nQ 1159 2438 1159 1844 \nL 1159 0 \nL 581 0 \nL 581 3500 \nL 1159 3500 \nL 1159 2956 \nQ 1341 3275 1631 3429 \nQ 1922 3584 2338 3584 \nQ 2397 3584 2469 3576 \nQ 2541 3569 2628 3553 \nL 2631 2963 \nz\n\" id=\"DejaVuSans-72\" transform=\"scale(0.015625)\"/>\n       <path d=\"M 2059 -325 \nQ 1816 -950 1584 -1140 \nQ 1353 -1331 966 -1331 \nL 506 -1331 \nL 506 -850 \nL 844 -850 \nQ 1081 -850 1212 -737 \nQ 1344 -625 1503 -206 \nL 1606 56 \nL 191 3500 \nL 800 3500 \nL 1894 763 \nL 2988 3500 \nL 3597 3500 \nL 2059 -325 \nz\n\" id=\"DejaVuSans-79\" transform=\"scale(0.015625)\"/>\n      </defs>\n      <use xlink:href=\"#DejaVuSans-61\"/>\n      <use x=\"61.279297\" xlink:href=\"#DejaVuSans-63\"/>\n      <use x=\"116.259766\" xlink:href=\"#DejaVuSans-63\"/>\n      <use x=\"171.240234\" xlink:href=\"#DejaVuSans-75\"/>\n      <use x=\"234.619141\" xlink:href=\"#DejaVuSans-72\"/>\n      <use x=\"275.732422\" xlink:href=\"#DejaVuSans-61\"/>\n      <use x=\"337.011719\" xlink:href=\"#DejaVuSans-63\"/>\n      <use x=\"391.992188\" xlink:href=\"#DejaVuSans-79\"/>\n     </g>\n    </g>\n   </g>\n   <g id=\"line2d_12\">\n    <path clip-path=\"url(#p1cee02ac2c)\" d=\"M 58.999432 229.874489 \nL 62.073812 134.226394 \nL 65.148192 108.720242 \nL 68.222572 102.343704 \nL 71.296952 121.473318 \nL 74.371333 83.214091 \nL 77.445713 108.720242 \nL 80.520093 108.720242 \nL 83.594473 83.214091 \nL 86.668853 76.837553 \nL 89.743233 70.461015 \nL 92.817614 70.461015 \nL 95.891994 83.214091 \nL 98.966374 76.837553 \nL 102.040754 83.214091 \nL 105.115134 108.720242 \nL 108.189514 115.09678 \nL 111.263895 95.967167 \nL 114.338275 95.967167 \nL 117.412655 102.343704 \nL 120.487035 95.967167 \nL 123.561415 70.461015 \nL 126.635795 83.214091 \nL 129.710176 102.343704 \nL 132.784556 108.720242 \nL 135.858936 95.967167 \nL 138.933316 95.967167 \nL 142.007696 89.590629 \nL 145.082076 89.590629 \nL 148.156457 95.967167 \nL 151.230837 89.590629 \nL 154.305217 89.590629 \nL 157.379597 95.967167 \nL 160.453977 89.590629 \nL 163.528357 64.084477 \nL 166.602738 83.214091 \nL 169.677118 70.461015 \nL 172.751498 102.343704 \nL 175.825878 70.461015 \nL 178.900258 89.590629 \nL 181.974638 83.214091 \nL 185.049019 83.214091 \nL 188.123399 83.214091 \nL 191.197779 83.214091 \nL 194.272159 83.214091 \nL 197.346539 70.461015 \nL 200.420919 70.461015 \nL 203.4953 64.084477 \nL 206.56968 76.837553 \nL 209.64406 57.707939 \nL 212.71844 76.837553 \nL 215.79282 57.707939 \nL 218.8672 57.707939 \nL 221.941581 64.084477 \nL 225.015961 64.084477 \nL 228.090341 70.461015 \nL 231.164721 70.461015 \nL 234.239101 76.837553 \nL 237.313481 57.707939 \nL 240.387862 32.201761 \nL 243.462242 89.590629 \nL 246.536622 57.707939 \nL 249.611002 134.226394 \nL 252.685382 121.473318 \nL 255.759762 102.343704 \nL 258.834143 83.214091 \nL 261.908523 89.590629 \nL 264.982903 76.837553 \nL 268.057283 64.084477 \nL 271.131663 89.590629 \nL 274.206043 76.837553 \nL 277.280424 83.214091 \nL 280.354804 76.837553 \nL 283.429184 83.214091 \nL 286.503564 70.461015 \nL 289.577944 64.084477 \nL 292.652324 76.837553 \nL 295.726705 70.461015 \nL 298.801085 57.707939 \nL 301.875465 44.954837 \nL 304.949845 57.707939 \nL 308.024225 57.707939 \nL 311.098605 57.707939 \nL 314.172986 64.084477 \nL 317.247366 57.707939 \nL 320.321746 51.331375 \nL 323.396126 76.837553 \nL 326.470506 70.461015 \nL 329.544886 70.461015 \nL 332.619267 70.461015 \nL 335.693647 57.707939 \nL 338.768027 64.084477 \nL 341.842407 57.707939 \nL 344.916787 57.707939 \nL 347.991167 51.331375 \nL 351.065548 57.707939 \nL 354.139928 64.084477 \nL 357.214308 51.331375 \nL 360.288688 89.590629 \nL 363.363068 57.707939 \n\" style=\"fill:none;stroke:#1f77b4;stroke-linecap:square;stroke-width:1.5;\"/>\n   </g>\n   <g id=\"line2d_13\">\n    <path clip-path=\"url(#p1cee02ac2c)\" d=\"M 58.999432 153.356008 \nL 62.073812 115.09678 \nL 65.148192 57.707939 \nL 68.222572 95.967167 \nL 71.296952 115.09678 \nL 74.371333 95.967167 \nL 77.445713 95.967167 \nL 80.520093 95.967167 \nL 83.594473 95.967167 \nL 86.668853 38.578299 \nL 89.743233 57.707939 \nL 92.817614 57.707939 \nL 95.891994 38.578299 \nL 98.966374 76.837553 \nL 102.040754 76.837553 \nL 105.115134 95.967167 \nL 108.189514 95.967167 \nL 111.263895 95.967167 \nL 114.338275 95.967167 \nL 117.412655 76.837553 \nL 120.487035 57.707939 \nL 123.561415 95.967167 \nL 126.635795 95.967167 \nL 129.710176 115.09678 \nL 132.784556 115.09678 \nL 135.858936 115.09678 \nL 138.933316 95.967167 \nL 142.007696 95.967167 \nL 145.082076 95.967167 \nL 148.156457 76.837553 \nL 151.230837 95.967167 \nL 154.305217 95.967167 \nL 157.379597 95.967167 \nL 160.453977 38.578299 \nL 163.528357 115.09678 \nL 166.602738 57.707939 \nL 169.677118 95.967167 \nL 172.751498 57.707939 \nL 175.825878 95.967167 \nL 178.900258 76.837553 \nL 181.974638 95.967167 \nL 185.049019 76.837553 \nL 188.123399 95.967167 \nL 191.197779 95.967167 \nL 194.272159 95.967167 \nL 197.346539 95.967167 \nL 200.420919 76.837553 \nL 203.4953 57.707939 \nL 206.56968 57.707939 \nL 209.64406 95.967167 \nL 212.71844 95.967167 \nL 215.79282 57.707939 \nL 218.8672 38.578299 \nL 221.941581 38.578299 \nL 225.015961 38.578299 \nL 228.090341 76.837553 \nL 231.164721 115.09678 \nL 234.239101 134.226394 \nL 237.313481 115.09678 \nL 240.387862 76.837553 \nL 243.462242 57.707939 \nL 246.536622 229.874489 \nL 249.611002 210.744875 \nL 252.685382 210.744875 \nL 255.759762 95.967167 \nL 258.834143 95.967167 \nL 261.908523 76.837553 \nL 264.982903 57.707939 \nL 268.057283 76.837553 \nL 271.131663 95.967167 \nL 274.206043 76.837553 \nL 277.280424 57.707939 \nL 280.354804 76.837553 \nL 283.429184 76.837553 \nL 286.503564 57.707939 \nL 289.577944 76.837553 \nL 292.652324 95.967167 \nL 295.726705 57.707939 \nL 298.801085 57.707939 \nL 301.875465 76.837553 \nL 304.949845 95.967167 \nL 308.024225 95.967167 \nL 311.098605 57.707939 \nL 314.172986 57.707939 \nL 317.247366 57.707939 \nL 320.321746 57.707939 \nL 323.396126 76.837553 \nL 326.470506 76.837553 \nL 329.544886 76.837553 \nL 332.619267 76.837553 \nL 335.693647 76.837553 \nL 338.768027 57.707939 \nL 341.842407 76.837553 \nL 344.916787 76.837553 \nL 347.991167 57.707939 \nL 351.065548 115.09678 \nL 354.139928 95.967167 \nL 357.214308 153.356008 \nL 360.288688 134.226394 \nL 363.363068 134.226394 \n\" style=\"fill:none;stroke:#ff7f0e;stroke-linecap:square;stroke-width:1.5;\"/>\n   </g>\n   <g id=\"patch_3\">\n    <path d=\"M 43.78125 239.758125 \nL 43.78125 22.318125 \n\" style=\"fill:none;stroke:#000000;stroke-linecap:square;stroke-linejoin:miter;stroke-width:0.8;\"/>\n   </g>\n   <g id=\"patch_4\">\n    <path d=\"M 378.58125 239.758125 \nL 378.58125 22.318125 \n\" style=\"fill:none;stroke:#000000;stroke-linecap:square;stroke-linejoin:miter;stroke-width:0.8;\"/>\n   </g>\n   <g id=\"patch_5\">\n    <path d=\"M 43.78125 239.758125 \nL 378.58125 239.758125 \n\" style=\"fill:none;stroke:#000000;stroke-linecap:square;stroke-linejoin:miter;stroke-width:0.8;\"/>\n   </g>\n   <g id=\"patch_6\">\n    <path d=\"M 43.78125 22.318125 \nL 378.58125 22.318125 \n\" style=\"fill:none;stroke:#000000;stroke-linecap:square;stroke-linejoin:miter;stroke-width:0.8;\"/>\n   </g>\n   <g id=\"text_14\">\n    <!-- model accuracy -->\n    <g transform=\"translate(163.519688 16.318125)scale(0.12 -0.12)\">\n     <defs>\n      <path d=\"M 3328 2828 \nQ 3544 3216 3844 3400 \nQ 4144 3584 4550 3584 \nQ 5097 3584 5394 3201 \nQ 5691 2819 5691 2113 \nL 5691 0 \nL 5113 0 \nL 5113 2094 \nQ 5113 2597 4934 2840 \nQ 4756 3084 4391 3084 \nQ 3944 3084 3684 2787 \nQ 3425 2491 3425 1978 \nL 3425 0 \nL 2847 0 \nL 2847 2094 \nQ 2847 2600 2669 2842 \nQ 2491 3084 2119 3084 \nQ 1678 3084 1418 2786 \nQ 1159 2488 1159 1978 \nL 1159 0 \nL 581 0 \nL 581 3500 \nL 1159 3500 \nL 1159 2956 \nQ 1356 3278 1631 3431 \nQ 1906 3584 2284 3584 \nQ 2666 3584 2933 3390 \nQ 3200 3197 3328 2828 \nz\n\" id=\"DejaVuSans-6d\" transform=\"scale(0.015625)\"/>\n      <path d=\"M 2906 2969 \nL 2906 4863 \nL 3481 4863 \nL 3481 0 \nL 2906 0 \nL 2906 525 \nQ 2725 213 2448 61 \nQ 2172 -91 1784 -91 \nQ 1150 -91 751 415 \nQ 353 922 353 1747 \nQ 353 2572 751 3078 \nQ 1150 3584 1784 3584 \nQ 2172 3584 2448 3432 \nQ 2725 3281 2906 2969 \nz\nM 947 1747 \nQ 947 1113 1208 752 \nQ 1469 391 1925 391 \nQ 2381 391 2643 752 \nQ 2906 1113 2906 1747 \nQ 2906 2381 2643 2742 \nQ 2381 3103 1925 3103 \nQ 1469 3103 1208 2742 \nQ 947 2381 947 1747 \nz\n\" id=\"DejaVuSans-64\" transform=\"scale(0.015625)\"/>\n      <path d=\"M 603 4863 \nL 1178 4863 \nL 1178 0 \nL 603 0 \nL 603 4863 \nz\n\" id=\"DejaVuSans-6c\" transform=\"scale(0.015625)\"/>\n      <path id=\"DejaVuSans-20\" transform=\"scale(0.015625)\"/>\n     </defs>\n     <use xlink:href=\"#DejaVuSans-6d\"/>\n     <use x=\"97.412109\" xlink:href=\"#DejaVuSans-6f\"/>\n     <use x=\"158.59375\" xlink:href=\"#DejaVuSans-64\"/>\n     <use x=\"222.070312\" xlink:href=\"#DejaVuSans-65\"/>\n     <use x=\"283.59375\" xlink:href=\"#DejaVuSans-6c\"/>\n     <use x=\"311.376953\" xlink:href=\"#DejaVuSans-20\"/>\n     <use x=\"343.164062\" xlink:href=\"#DejaVuSans-61\"/>\n     <use x=\"404.443359\" xlink:href=\"#DejaVuSans-63\"/>\n     <use x=\"459.423828\" xlink:href=\"#DejaVuSans-63\"/>\n     <use x=\"514.404297\" xlink:href=\"#DejaVuSans-75\"/>\n     <use x=\"577.783203\" xlink:href=\"#DejaVuSans-72\"/>\n     <use x=\"618.896484\" xlink:href=\"#DejaVuSans-61\"/>\n     <use x=\"680.175781\" xlink:href=\"#DejaVuSans-63\"/>\n     <use x=\"735.15625\" xlink:href=\"#DejaVuSans-79\"/>\n    </g>\n   </g>\n   <g id=\"legend_1\">\n    <g id=\"patch_7\">\n     <path d=\"M 294.18125 234.758125 \nL 371.58125 234.758125 \nQ 373.58125 234.758125 373.58125 232.758125 \nL 373.58125 203.845625 \nQ 373.58125 201.845625 371.58125 201.845625 \nL 294.18125 201.845625 \nQ 292.18125 201.845625 292.18125 203.845625 \nL 292.18125 232.758125 \nQ 292.18125 234.758125 294.18125 234.758125 \nz\n\" style=\"fill:#ffffff;opacity:0.8;stroke:#cccccc;stroke-linejoin:miter;\"/>\n    </g>\n    <g id=\"line2d_14\">\n     <path d=\"M 296.18125 209.944062 \nL 316.18125 209.944062 \n\" style=\"fill:none;stroke:#1f77b4;stroke-linecap:square;stroke-width:1.5;\"/>\n    </g>\n    <g id=\"line2d_15\"/>\n    <g id=\"text_15\">\n     <!-- train_acc -->\n     <g transform=\"translate(324.18125 213.444062)scale(0.1 -0.1)\">\n      <defs>\n       <path d=\"M 1172 4494 \nL 1172 3500 \nL 2356 3500 \nL 2356 3053 \nL 1172 3053 \nL 1172 1153 \nQ 1172 725 1289 603 \nQ 1406 481 1766 481 \nL 2356 481 \nL 2356 0 \nL 1766 0 \nQ 1100 0 847 248 \nQ 594 497 594 1153 \nL 594 3053 \nL 172 3053 \nL 172 3500 \nL 594 3500 \nL 594 4494 \nL 1172 4494 \nz\n\" id=\"DejaVuSans-74\" transform=\"scale(0.015625)\"/>\n       <path d=\"M 603 3500 \nL 1178 3500 \nL 1178 0 \nL 603 0 \nL 603 3500 \nz\nM 603 4863 \nL 1178 4863 \nL 1178 4134 \nL 603 4134 \nL 603 4863 \nz\n\" id=\"DejaVuSans-69\" transform=\"scale(0.015625)\"/>\n       <path d=\"M 3513 2113 \nL 3513 0 \nL 2938 0 \nL 2938 2094 \nQ 2938 2591 2744 2837 \nQ 2550 3084 2163 3084 \nQ 1697 3084 1428 2787 \nQ 1159 2491 1159 1978 \nL 1159 0 \nL 581 0 \nL 581 3500 \nL 1159 3500 \nL 1159 2956 \nQ 1366 3272 1645 3428 \nQ 1925 3584 2291 3584 \nQ 2894 3584 3203 3211 \nQ 3513 2838 3513 2113 \nz\n\" id=\"DejaVuSans-6e\" transform=\"scale(0.015625)\"/>\n       <path d=\"M 3263 -1063 \nL 3263 -1509 \nL -63 -1509 \nL -63 -1063 \nL 3263 -1063 \nz\n\" id=\"DejaVuSans-5f\" transform=\"scale(0.015625)\"/>\n      </defs>\n      <use xlink:href=\"#DejaVuSans-74\"/>\n      <use x=\"39.208984\" xlink:href=\"#DejaVuSans-72\"/>\n      <use x=\"80.322266\" xlink:href=\"#DejaVuSans-61\"/>\n      <use x=\"141.601562\" xlink:href=\"#DejaVuSans-69\"/>\n      <use x=\"169.384766\" xlink:href=\"#DejaVuSans-6e\"/>\n      <use x=\"232.763672\" xlink:href=\"#DejaVuSans-5f\"/>\n      <use x=\"282.763672\" xlink:href=\"#DejaVuSans-61\"/>\n      <use x=\"344.042969\" xlink:href=\"#DejaVuSans-63\"/>\n      <use x=\"399.023438\" xlink:href=\"#DejaVuSans-63\"/>\n     </g>\n    </g>\n    <g id=\"line2d_16\">\n     <path d=\"M 296.18125 224.900312 \nL 316.18125 224.900312 \n\" style=\"fill:none;stroke:#ff7f0e;stroke-linecap:square;stroke-width:1.5;\"/>\n    </g>\n    <g id=\"line2d_17\"/>\n    <g id=\"text_16\">\n     <!-- val_acc -->\n     <g transform=\"translate(324.18125 228.400312)scale(0.1 -0.1)\">\n      <defs>\n       <path d=\"M 191 3500 \nL 800 3500 \nL 1894 563 \nL 2988 3500 \nL 3597 3500 \nL 2284 0 \nL 1503 0 \nL 191 3500 \nz\n\" id=\"DejaVuSans-76\" transform=\"scale(0.015625)\"/>\n      </defs>\n      <use xlink:href=\"#DejaVuSans-76\"/>\n      <use x=\"59.179688\" xlink:href=\"#DejaVuSans-61\"/>\n      <use x=\"120.458984\" xlink:href=\"#DejaVuSans-6c\"/>\n      <use x=\"148.242188\" xlink:href=\"#DejaVuSans-5f\"/>\n      <use x=\"198.242188\" xlink:href=\"#DejaVuSans-61\"/>\n      <use x=\"259.521484\" xlink:href=\"#DejaVuSans-63\"/>\n      <use x=\"314.501953\" xlink:href=\"#DejaVuSans-63\"/>\n     </g>\n    </g>\n   </g>\n  </g>\n </g>\n <defs>\n  <clipPath id=\"p1cee02ac2c\">\n   <rect height=\"217.44\" width=\"334.8\" x=\"43.78125\" y=\"22.318125\"/>\n  </clipPath>\n </defs>\n</svg>\n",
      "image/png": "[encoded data removed]"
     },
     "metadata": {
      "needs_background": "light"
     }
    },
    {
     "output_type": "display_data",
     "data": {
      "text/plain": "<Figure size 432x288 with 1 Axes>",
      "image/svg+xml": "<?xml version=\"1.0\" encoding=\"utf-8\" standalone=\"no\"?>\n<!DOCTYPE svg PUBLIC \"-//W3C//DTD SVG 1.1//EN\"\n  \"http://www.w3.org/Graphics/SVG/1.1/DTD/svg11.dtd\">\n<svg height=\"277.314375pt\" version=\"1.1\" viewBox=\"0 0 385.78125 277.314375\" width=\"385.78125pt\" xmlns=\"http://www.w3.org/2000/svg\" xmlns:xlink=\"http://www.w3.org/1999/xlink\">\n <metadata>\n  <rdf:RDF xmlns:cc=\"http://creativecommons.org/ns#\" xmlns:dc=\"http://purl.org/dc/elements/1.1/\" xmlns:rdf=\"http://www.w3.org/1999/02/22-rdf-syntax-ns#\">\n   <cc:Work>\n    <dc:type rdf:resource=\"http://purl.org/dc/dcmitype/StillImage\"/>\n    <dc:date>2021-07-12T14:44:30.193027</dc:date>\n    <dc:format>image/svg+xml</dc:format>\n    <dc:creator>\n     <cc:Agent>\n      <dc:title>Matplotlib v3.4.1, https://matplotlib.org/</dc:title>\n     </cc:Agent>\n    </dc:creator>\n   </cc:Work>\n  </rdf:RDF>\n </metadata>\n <defs>\n  <style type=\"text/css\">*{stroke-linecap:butt;stroke-linejoin:round;}</style>\n </defs>\n <g id=\"figure_1\">\n  <g id=\"patch_1\">\n   <path d=\"M 0 277.314375 \nL 385.78125 277.314375 \nL 385.78125 0 \nL 0 0 \nz\n\" style=\"fill:none;\"/>\n  </g>\n  <g id=\"axes_1\">\n   <g id=\"patch_2\">\n    <path d=\"M 43.78125 239.758125 \nL 378.58125 239.758125 \nL 378.58125 22.318125 \nL 43.78125 22.318125 \nz\n\" style=\"fill:#ffffff;\"/>\n   </g>\n   <g id=\"matplotlib.axis_1\">\n    <g id=\"xtick_1\">\n     <g id=\"line2d_1\">\n      <defs>\n       <path d=\"M 0 0 \nL 0 3.5 \n\" id=\"mdf982afac7\" style=\"stroke:#000000;stroke-width:0.8;\"/>\n      </defs>\n      <g>\n       <use style=\"stroke:#000000;stroke-width:0.8;\" x=\"58.999432\" xlink:href=\"#mdf982afac7\" y=\"239.758125\"/>\n      </g>\n     </g>\n     <g id=\"text_1\">\n      <!-- 0 -->\n      <g transform=\"translate(55.818182 254.356562)scale(0.1 -0.1)\">\n       <defs>\n        <path d=\"M 2034 4250 \nQ 1547 4250 1301 3770 \nQ 1056 3291 1056 2328 \nQ 1056 1369 1301 889 \nQ 1547 409 2034 409 \nQ 2525 409 2770 889 \nQ 3016 1369 3016 2328 \nQ 3016 3291 2770 3770 \nQ 2525 4250 2034 4250 \nz\nM 2034 4750 \nQ 2819 4750 3233 4129 \nQ 3647 3509 3647 2328 \nQ 3647 1150 3233 529 \nQ 2819 -91 2034 -91 \nQ 1250 -91 836 529 \nQ 422 1150 422 2328 \nQ 422 3509 836 4129 \nQ 1250 4750 2034 4750 \nz\n\" id=\"DejaVuSans-30\" transform=\"scale(0.015625)\"/>\n       </defs>\n       <use xlink:href=\"#DejaVuSans-30\"/>\n      </g>\n     </g>\n    </g>\n    <g id=\"xtick_2\">\n     <g id=\"line2d_2\">\n      <g>\n       <use style=\"stroke:#000000;stroke-width:0.8;\" x=\"120.487035\" xlink:href=\"#mdf982afac7\" y=\"239.758125\"/>\n      </g>\n     </g>\n     <g id=\"text_2\">\n      <!-- 20 -->\n      <g transform=\"translate(114.124535 254.356562)scale(0.1 -0.1)\">\n       <defs>\n        <path d=\"M 1228 531 \nL 3431 531 \nL 3431 0 \nL 469 0 \nL 469 531 \nQ 828 903 1448 1529 \nQ 2069 2156 2228 2338 \nQ 2531 2678 2651 2914 \nQ 2772 3150 2772 3378 \nQ 2772 3750 2511 3984 \nQ 2250 4219 1831 4219 \nQ 1534 4219 1204 4116 \nQ 875 4013 500 3803 \nL 500 4441 \nQ 881 4594 1212 4672 \nQ 1544 4750 1819 4750 \nQ 2544 4750 2975 4387 \nQ 3406 4025 3406 3419 \nQ 3406 3131 3298 2873 \nQ 3191 2616 2906 2266 \nQ 2828 2175 2409 1742 \nQ 1991 1309 1228 531 \nz\n\" id=\"DejaVuSans-32\" transform=\"scale(0.015625)\"/>\n       </defs>\n       <use xlink:href=\"#DejaVuSans-32\"/>\n       <use x=\"63.623047\" xlink:href=\"#DejaVuSans-30\"/>\n      </g>\n     </g>\n    </g>\n    <g id=\"xtick_3\">\n     <g id=\"line2d_3\">\n      <g>\n       <use style=\"stroke:#000000;stroke-width:0.8;\" x=\"181.974638\" xlink:href=\"#mdf982afac7\" y=\"239.758125\"/>\n      </g>\n     </g>\n     <g id=\"text_3\">\n      <!-- 40 -->\n      <g transform=\"translate(175.612138 254.356562)scale(0.1 -0.1)\">\n       <defs>\n        <path d=\"M 2419 4116 \nL 825 1625 \nL 2419 1625 \nL 2419 4116 \nz\nM 2253 4666 \nL 3047 4666 \nL 3047 1625 \nL 3713 1625 \nL 3713 1100 \nL 3047 1100 \nL 3047 0 \nL 2419 0 \nL 2419 1100 \nL 313 1100 \nL 313 1709 \nL 2253 4666 \nz\n\" id=\"DejaVuSans-34\" transform=\"scale(0.015625)\"/>\n       </defs>\n       <use xlink:href=\"#DejaVuSans-34\"/>\n       <use x=\"63.623047\" xlink:href=\"#DejaVuSans-30\"/>\n      </g>\n     </g>\n    </g>\n    <g id=\"xtick_4\">\n     <g id=\"line2d_4\">\n      <g>\n       <use style=\"stroke:#000000;stroke-width:0.8;\" x=\"243.462242\" xlink:href=\"#mdf982afac7\" y=\"239.758125\"/>\n      </g>\n     </g>\n     <g id=\"text_4\">\n      <!-- 60 -->\n      <g transform=\"translate(237.099742 254.356562)scale(0.1 -0.1)\">\n       <defs>\n        <path d=\"M 2113 2584 \nQ 1688 2584 1439 2293 \nQ 1191 2003 1191 1497 \nQ 1191 994 1439 701 \nQ 1688 409 2113 409 \nQ 2538 409 2786 701 \nQ 3034 994 3034 1497 \nQ 3034 2003 2786 2293 \nQ 2538 2584 2113 2584 \nz\nM 3366 4563 \nL 3366 3988 \nQ 3128 4100 2886 4159 \nQ 2644 4219 2406 4219 \nQ 1781 4219 1451 3797 \nQ 1122 3375 1075 2522 \nQ 1259 2794 1537 2939 \nQ 1816 3084 2150 3084 \nQ 2853 3084 3261 2657 \nQ 3669 2231 3669 1497 \nQ 3669 778 3244 343 \nQ 2819 -91 2113 -91 \nQ 1303 -91 875 529 \nQ 447 1150 447 2328 \nQ 447 3434 972 4092 \nQ 1497 4750 2381 4750 \nQ 2619 4750 2861 4703 \nQ 3103 4656 3366 4563 \nz\n\" id=\"DejaVuSans-36\" transform=\"scale(0.015625)\"/>\n       </defs>\n       <use xlink:href=\"#DejaVuSans-36\"/>\n       <use x=\"63.623047\" xlink:href=\"#DejaVuSans-30\"/>\n      </g>\n     </g>\n    </g>\n    <g id=\"xtick_5\">\n     <g id=\"line2d_5\">\n      <g>\n       <use style=\"stroke:#000000;stroke-width:0.8;\" x=\"304.949845\" xlink:href=\"#mdf982afac7\" y=\"239.758125\"/>\n      </g>\n     </g>\n     <g id=\"text_5\">\n      <!-- 80 -->\n      <g transform=\"translate(298.587345 254.356562)scale(0.1 -0.1)\">\n       <defs>\n        <path d=\"M 2034 2216 \nQ 1584 2216 1326 1975 \nQ 1069 1734 1069 1313 \nQ 1069 891 1326 650 \nQ 1584 409 2034 409 \nQ 2484 409 2743 651 \nQ 3003 894 3003 1313 \nQ 3003 1734 2745 1975 \nQ 2488 2216 2034 2216 \nz\nM 1403 2484 \nQ 997 2584 770 2862 \nQ 544 3141 544 3541 \nQ 544 4100 942 4425 \nQ 1341 4750 2034 4750 \nQ 2731 4750 3128 4425 \nQ 3525 4100 3525 3541 \nQ 3525 3141 3298 2862 \nQ 3072 2584 2669 2484 \nQ 3125 2378 3379 2068 \nQ 3634 1759 3634 1313 \nQ 3634 634 3220 271 \nQ 2806 -91 2034 -91 \nQ 1263 -91 848 271 \nQ 434 634 434 1313 \nQ 434 1759 690 2068 \nQ 947 2378 1403 2484 \nz\nM 1172 3481 \nQ 1172 3119 1398 2916 \nQ 1625 2713 2034 2713 \nQ 2441 2713 2670 2916 \nQ 2900 3119 2900 3481 \nQ 2900 3844 2670 4047 \nQ 2441 4250 2034 4250 \nQ 1625 4250 1398 4047 \nQ 1172 3844 1172 3481 \nz\n\" id=\"DejaVuSans-38\" transform=\"scale(0.015625)\"/>\n       </defs>\n       <use xlink:href=\"#DejaVuSans-38\"/>\n       <use x=\"63.623047\" xlink:href=\"#DejaVuSans-30\"/>\n      </g>\n     </g>\n    </g>\n    <g id=\"xtick_6\">\n     <g id=\"line2d_6\">\n      <g>\n       <use style=\"stroke:#000000;stroke-width:0.8;\" x=\"366.437448\" xlink:href=\"#mdf982afac7\" y=\"239.758125\"/>\n      </g>\n     </g>\n     <g id=\"text_6\">\n      <!-- 100 -->\n      <g transform=\"translate(356.893698 254.356562)scale(0.1 -0.1)\">\n       <defs>\n        <path d=\"M 794 531 \nL 1825 531 \nL 1825 4091 \nL 703 3866 \nL 703 4441 \nL 1819 4666 \nL 2450 4666 \nL 2450 531 \nL 3481 531 \nL 3481 0 \nL 794 0 \nL 794 531 \nz\n\" id=\"DejaVuSans-31\" transform=\"scale(0.015625)\"/>\n       </defs>\n       <use xlink:href=\"#DejaVuSans-31\"/>\n       <use x=\"63.623047\" xlink:href=\"#DejaVuSans-30\"/>\n       <use x=\"127.246094\" xlink:href=\"#DejaVuSans-30\"/>\n      </g>\n     </g>\n    </g>\n    <g id=\"text_7\">\n     <!-- epoch -->\n     <g transform=\"translate(195.953125 268.034687)scale(0.1 -0.1)\">\n      <defs>\n       <path d=\"M 3597 1894 \nL 3597 1613 \nL 953 1613 \nQ 991 1019 1311 708 \nQ 1631 397 2203 397 \nQ 2534 397 2845 478 \nQ 3156 559 3463 722 \nL 3463 178 \nQ 3153 47 2828 -22 \nQ 2503 -91 2169 -91 \nQ 1331 -91 842 396 \nQ 353 884 353 1716 \nQ 353 2575 817 3079 \nQ 1281 3584 2069 3584 \nQ 2775 3584 3186 3129 \nQ 3597 2675 3597 1894 \nz\nM 3022 2063 \nQ 3016 2534 2758 2815 \nQ 2500 3097 2075 3097 \nQ 1594 3097 1305 2825 \nQ 1016 2553 972 2059 \nL 3022 2063 \nz\n\" id=\"DejaVuSans-65\" transform=\"scale(0.015625)\"/>\n       <path d=\"M 1159 525 \nL 1159 -1331 \nL 581 -1331 \nL 581 3500 \nL 1159 3500 \nL 1159 2969 \nQ 1341 3281 1617 3432 \nQ 1894 3584 2278 3584 \nQ 2916 3584 3314 3078 \nQ 3713 2572 3713 1747 \nQ 3713 922 3314 415 \nQ 2916 -91 2278 -91 \nQ 1894 -91 1617 61 \nQ 1341 213 1159 525 \nz\nM 3116 1747 \nQ 3116 2381 2855 2742 \nQ 2594 3103 2138 3103 \nQ 1681 3103 1420 2742 \nQ 1159 2381 1159 1747 \nQ 1159 1113 1420 752 \nQ 1681 391 2138 391 \nQ 2594 391 2855 752 \nQ 3116 1113 3116 1747 \nz\n\" id=\"DejaVuSans-70\" transform=\"scale(0.015625)\"/>\n       <path d=\"M 1959 3097 \nQ 1497 3097 1228 2736 \nQ 959 2375 959 1747 \nQ 959 1119 1226 758 \nQ 1494 397 1959 397 \nQ 2419 397 2687 759 \nQ 2956 1122 2956 1747 \nQ 2956 2369 2687 2733 \nQ 2419 3097 1959 3097 \nz\nM 1959 3584 \nQ 2709 3584 3137 3096 \nQ 3566 2609 3566 1747 \nQ 3566 888 3137 398 \nQ 2709 -91 1959 -91 \nQ 1206 -91 779 398 \nQ 353 888 353 1747 \nQ 353 2609 779 3096 \nQ 1206 3584 1959 3584 \nz\n\" id=\"DejaVuSans-6f\" transform=\"scale(0.015625)\"/>\n       <path d=\"M 3122 3366 \nL 3122 2828 \nQ 2878 2963 2633 3030 \nQ 2388 3097 2138 3097 \nQ 1578 3097 1268 2742 \nQ 959 2388 959 1747 \nQ 959 1106 1268 751 \nQ 1578 397 2138 397 \nQ 2388 397 2633 464 \nQ 2878 531 3122 666 \nL 3122 134 \nQ 2881 22 2623 -34 \nQ 2366 -91 2075 -91 \nQ 1284 -91 818 406 \nQ 353 903 353 1747 \nQ 353 2603 823 3093 \nQ 1294 3584 2113 3584 \nQ 2378 3584 2631 3529 \nQ 2884 3475 3122 3366 \nz\n\" id=\"DejaVuSans-63\" transform=\"scale(0.015625)\"/>\n       <path d=\"M 3513 2113 \nL 3513 0 \nL 2938 0 \nL 2938 2094 \nQ 2938 2591 2744 2837 \nQ 2550 3084 2163 3084 \nQ 1697 3084 1428 2787 \nQ 1159 2491 1159 1978 \nL 1159 0 \nL 581 0 \nL 581 4863 \nL 1159 4863 \nL 1159 2956 \nQ 1366 3272 1645 3428 \nQ 1925 3584 2291 3584 \nQ 2894 3584 3203 3211 \nQ 3513 2838 3513 2113 \nz\n\" id=\"DejaVuSans-68\" transform=\"scale(0.015625)\"/>\n      </defs>\n      <use xlink:href=\"#DejaVuSans-65\"/>\n      <use x=\"61.523438\" xlink:href=\"#DejaVuSans-70\"/>\n      <use x=\"125\" xlink:href=\"#DejaVuSans-6f\"/>\n      <use x=\"186.181641\" xlink:href=\"#DejaVuSans-63\"/>\n      <use x=\"241.162109\" xlink:href=\"#DejaVuSans-68\"/>\n     </g>\n    </g>\n   </g>\n   <g id=\"matplotlib.axis_2\">\n    <g id=\"ytick_1\">\n     <g id=\"line2d_7\">\n      <defs>\n       <path d=\"M 0 0 \nL -3.5 0 \n\" id=\"m788f91730d\" style=\"stroke:#000000;stroke-width:0.8;\"/>\n      </defs>\n      <g>\n       <use style=\"stroke:#000000;stroke-width:0.8;\" x=\"43.78125\" xlink:href=\"#m788f91730d\" y=\"221.402796\"/>\n      </g>\n     </g>\n     <g id=\"text_8\">\n      <!-- 0.5 -->\n      <g transform=\"translate(20.878125 225.202015)scale(0.1 -0.1)\">\n       <defs>\n        <path d=\"M 684 794 \nL 1344 794 \nL 1344 0 \nL 684 0 \nL 684 794 \nz\n\" id=\"DejaVuSans-2e\" transform=\"scale(0.015625)\"/>\n        <path d=\"M 691 4666 \nL 3169 4666 \nL 3169 4134 \nL 1269 4134 \nL 1269 2991 \nQ 1406 3038 1543 3061 \nQ 1681 3084 1819 3084 \nQ 2600 3084 3056 2656 \nQ 3513 2228 3513 1497 \nQ 3513 744 3044 326 \nQ 2575 -91 1722 -91 \nQ 1428 -91 1123 -41 \nQ 819 9 494 109 \nL 494 744 \nQ 775 591 1075 516 \nQ 1375 441 1709 441 \nQ 2250 441 2565 725 \nQ 2881 1009 2881 1497 \nQ 2881 1984 2565 2268 \nQ 2250 2553 1709 2553 \nQ 1456 2553 1204 2497 \nQ 953 2441 691 2322 \nL 691 4666 \nz\n\" id=\"DejaVuSans-35\" transform=\"scale(0.015625)\"/>\n       </defs>\n       <use xlink:href=\"#DejaVuSans-30\"/>\n       <use x=\"63.623047\" xlink:href=\"#DejaVuSans-2e\"/>\n       <use x=\"95.410156\" xlink:href=\"#DejaVuSans-35\"/>\n      </g>\n     </g>\n    </g>\n    <g id=\"ytick_2\">\n     <g id=\"line2d_8\">\n      <g>\n       <use style=\"stroke:#000000;stroke-width:0.8;\" x=\"43.78125\" xlink:href=\"#m788f91730d\" y=\"183.562589\"/>\n      </g>\n     </g>\n     <g id=\"text_9\">\n      <!-- 0.6 -->\n      <g transform=\"translate(20.878125 187.361808)scale(0.1 -0.1)\">\n       <use xlink:href=\"#DejaVuSans-30\"/>\n       <use x=\"63.623047\" xlink:href=\"#DejaVuSans-2e\"/>\n       <use x=\"95.410156\" xlink:href=\"#DejaVuSans-36\"/>\n      </g>\n     </g>\n    </g>\n    <g id=\"ytick_3\">\n     <g id=\"line2d_9\">\n      <g>\n       <use style=\"stroke:#000000;stroke-width:0.8;\" x=\"43.78125\" xlink:href=\"#m788f91730d\" y=\"145.722382\"/>\n      </g>\n     </g>\n     <g id=\"text_10\">\n      <!-- 0.7 -->\n      <g transform=\"translate(20.878125 149.521601)scale(0.1 -0.1)\">\n       <defs>\n        <path d=\"M 525 4666 \nL 3525 4666 \nL 3525 4397 \nL 1831 0 \nL 1172 0 \nL 2766 4134 \nL 525 4134 \nL 525 4666 \nz\n\" id=\"DejaVuSans-37\" transform=\"scale(0.015625)\"/>\n       </defs>\n       <use xlink:href=\"#DejaVuSans-30\"/>\n       <use x=\"63.623047\" xlink:href=\"#DejaVuSans-2e\"/>\n       <use x=\"95.410156\" xlink:href=\"#DejaVuSans-37\"/>\n      </g>\n     </g>\n    </g>\n    <g id=\"ytick_4\">\n     <g id=\"line2d_10\">\n      <g>\n       <use style=\"stroke:#000000;stroke-width:0.8;\" x=\"43.78125\" xlink:href=\"#m788f91730d\" y=\"107.882175\"/>\n      </g>\n     </g>\n     <g id=\"text_11\">\n      <!-- 0.8 -->\n      <g transform=\"translate(20.878125 111.681394)scale(0.1 -0.1)\">\n       <use xlink:href=\"#DejaVuSans-30\"/>\n       <use x=\"63.623047\" xlink:href=\"#DejaVuSans-2e\"/>\n       <use x=\"95.410156\" xlink:href=\"#DejaVuSans-38\"/>\n      </g>\n     </g>\n    </g>\n    <g id=\"ytick_5\">\n     <g id=\"line2d_11\">\n      <g>\n       <use style=\"stroke:#000000;stroke-width:0.8;\" x=\"43.78125\" xlink:href=\"#m788f91730d\" y=\"70.041968\"/>\n      </g>\n     </g>\n     <g id=\"text_12\">\n      <!-- 0.9 -->\n      <g transform=\"translate(20.878125 73.841187)scale(0.1 -0.1)\">\n       <defs>\n        <path d=\"M 703 97 \nL 703 672 \nQ 941 559 1184 500 \nQ 1428 441 1663 441 \nQ 2288 441 2617 861 \nQ 2947 1281 2994 2138 \nQ 2813 1869 2534 1725 \nQ 2256 1581 1919 1581 \nQ 1219 1581 811 2004 \nQ 403 2428 403 3163 \nQ 403 3881 828 4315 \nQ 1253 4750 1959 4750 \nQ 2769 4750 3195 4129 \nQ 3622 3509 3622 2328 \nQ 3622 1225 3098 567 \nQ 2575 -91 1691 -91 \nQ 1453 -91 1209 -44 \nQ 966 3 703 97 \nz\nM 1959 2075 \nQ 2384 2075 2632 2365 \nQ 2881 2656 2881 3163 \nQ 2881 3666 2632 3958 \nQ 2384 4250 1959 4250 \nQ 1534 4250 1286 3958 \nQ 1038 3666 1038 3163 \nQ 1038 2656 1286 2365 \nQ 1534 2075 1959 2075 \nz\n\" id=\"DejaVuSans-39\" transform=\"scale(0.015625)\"/>\n       </defs>\n       <use xlink:href=\"#DejaVuSans-30\"/>\n       <use x=\"63.623047\" xlink:href=\"#DejaVuSans-2e\"/>\n       <use x=\"95.410156\" xlink:href=\"#DejaVuSans-39\"/>\n      </g>\n     </g>\n    </g>\n    <g id=\"ytick_6\">\n     <g id=\"line2d_12\">\n      <g>\n       <use style=\"stroke:#000000;stroke-width:0.8;\" x=\"43.78125\" xlink:href=\"#m788f91730d\" y=\"32.201761\"/>\n      </g>\n     </g>\n     <g id=\"text_13\">\n      <!-- 1.0 -->\n      <g transform=\"translate(20.878125 36.00098)scale(0.1 -0.1)\">\n       <use xlink:href=\"#DejaVuSans-31\"/>\n       <use x=\"63.623047\" xlink:href=\"#DejaVuSans-2e\"/>\n       <use x=\"95.410156\" xlink:href=\"#DejaVuSans-30\"/>\n      </g>\n     </g>\n    </g>\n    <g id=\"text_14\">\n     <!-- precision -->\n     <g transform=\"translate(14.798438 153.592031)rotate(-90)scale(0.1 -0.1)\">\n      <defs>\n       <path d=\"M 2631 2963 \nQ 2534 3019 2420 3045 \nQ 2306 3072 2169 3072 \nQ 1681 3072 1420 2755 \nQ 1159 2438 1159 1844 \nL 1159 0 \nL 581 0 \nL 581 3500 \nL 1159 3500 \nL 1159 2956 \nQ 1341 3275 1631 3429 \nQ 1922 3584 2338 3584 \nQ 2397 3584 2469 3576 \nQ 2541 3569 2628 3553 \nL 2631 2963 \nz\n\" id=\"DejaVuSans-72\" transform=\"scale(0.015625)\"/>\n       <path d=\"M 603 3500 \nL 1178 3500 \nL 1178 0 \nL 603 0 \nL 603 3500 \nz\nM 603 4863 \nL 1178 4863 \nL 1178 4134 \nL 603 4134 \nL 603 4863 \nz\n\" id=\"DejaVuSans-69\" transform=\"scale(0.015625)\"/>\n       <path d=\"M 2834 3397 \nL 2834 2853 \nQ 2591 2978 2328 3040 \nQ 2066 3103 1784 3103 \nQ 1356 3103 1142 2972 \nQ 928 2841 928 2578 \nQ 928 2378 1081 2264 \nQ 1234 2150 1697 2047 \nL 1894 2003 \nQ 2506 1872 2764 1633 \nQ 3022 1394 3022 966 \nQ 3022 478 2636 193 \nQ 2250 -91 1575 -91 \nQ 1294 -91 989 -36 \nQ 684 19 347 128 \nL 347 722 \nQ 666 556 975 473 \nQ 1284 391 1588 391 \nQ 1994 391 2212 530 \nQ 2431 669 2431 922 \nQ 2431 1156 2273 1281 \nQ 2116 1406 1581 1522 \nL 1381 1569 \nQ 847 1681 609 1914 \nQ 372 2147 372 2553 \nQ 372 3047 722 3315 \nQ 1072 3584 1716 3584 \nQ 2034 3584 2315 3537 \nQ 2597 3491 2834 3397 \nz\n\" id=\"DejaVuSans-73\" transform=\"scale(0.015625)\"/>\n       <path d=\"M 3513 2113 \nL 3513 0 \nL 2938 0 \nL 2938 2094 \nQ 2938 2591 2744 2837 \nQ 2550 3084 2163 3084 \nQ 1697 3084 1428 2787 \nQ 1159 2491 1159 1978 \nL 1159 0 \nL 581 0 \nL 581 3500 \nL 1159 3500 \nL 1159 2956 \nQ 1366 3272 1645 3428 \nQ 1925 3584 2291 3584 \nQ 2894 3584 3203 3211 \nQ 3513 2838 3513 2113 \nz\n\" id=\"DejaVuSans-6e\" transform=\"scale(0.015625)\"/>\n      </defs>\n      <use xlink:href=\"#DejaVuSans-70\"/>\n      <use x=\"63.476562\" xlink:href=\"#DejaVuSans-72\"/>\n      <use x=\"102.339844\" xlink:href=\"#DejaVuSans-65\"/>\n      <use x=\"163.863281\" xlink:href=\"#DejaVuSans-63\"/>\n      <use x=\"218.84375\" xlink:href=\"#DejaVuSans-69\"/>\n      <use x=\"246.626953\" xlink:href=\"#DejaVuSans-73\"/>\n      <use x=\"298.726562\" xlink:href=\"#DejaVuSans-69\"/>\n      <use x=\"326.509766\" xlink:href=\"#DejaVuSans-6f\"/>\n      <use x=\"387.691406\" xlink:href=\"#DejaVuSans-6e\"/>\n     </g>\n    </g>\n   </g>\n   <g id=\"line2d_13\">\n    <path clip-path=\"url(#p35e62ff58c)\" d=\"M 58.999432 229.874489 \nL 62.073812 179.358124 \nL 65.148192 160.858455 \nL 68.222572 129.505145 \nL 71.296952 133.108974 \nL 74.371333 95.268781 \nL 77.445713 160.858455 \nL 80.520093 160.858455 \nL 83.594473 135.402318 \nL 86.668853 93.234363 \nL 89.743233 98.978593 \nL 92.817614 98.978593 \nL 95.891994 95.268781 \nL 98.966374 101.00214 \nL 102.040754 121.823301 \nL 105.115134 158.335777 \nL 108.189514 165.755425 \nL 111.263895 150.452408 \nL 114.338275 144.002379 \nL 117.412655 146.602397 \nL 120.487035 136.262322 \nL 123.561415 105.779932 \nL 126.635795 126.802279 \nL 129.710176 149.926843 \nL 132.784556 158.335777 \nL 135.858936 147.367604 \nL 138.933316 140.316632 \nL 142.007696 133.724261 \nL 145.082076 133.724261 \nL 148.156457 136.262322 \nL 151.230837 129.227927 \nL 154.305217 133.724261 \nL 157.379597 140.316632 \nL 160.453977 133.724261 \nL 163.528357 71.346802 \nL 166.602738 75.863547 \nL 169.677118 111.865344 \nL 172.751498 155.76163 \nL 175.825878 105.779932 \nL 178.900258 97.443487 \nL 181.974638 103.152149 \nL 185.049019 110.108076 \nL 188.123399 116.291105 \nL 191.197779 131.307071 \nL 194.272159 131.307071 \nL 197.346539 117.342236 \nL 200.420919 105.779932 \nL 203.4953 89.535399 \nL 206.56968 107.882171 \nL 209.64406 101.907411 \nL 212.71844 114.018421 \nL 215.79282 87.849133 \nL 218.8672 70.041977 \nL 221.941581 81.027833 \nL 225.015961 97.070684 \nL 228.090341 72.744844 \nL 231.164721 91.327085 \nL 234.239101 84.395156 \nL 237.313481 70.041977 \nL 240.387862 32.201761 \nL 243.462242 141.517908 \nL 246.536622 46.755698 \nL 249.611002 32.201761 \nL 252.685382 32.201761 \nL 255.759762 102.276222 \nL 258.834143 126.802279 \nL 261.908523 129.227927 \nL 264.982903 119.525311 \nL 268.057283 81.027833 \nL 271.131663 118.693658 \nL 274.206043 133.108974 \nL 277.280424 121.823301 \nL 280.354804 114.018421 \nL 283.429184 126.802279 \nL 286.503564 98.978593 \nL 289.577944 81.027833 \nL 292.652324 124.494951 \nL 295.726705 98.978593 \nL 298.801085 70.041977 \nL 301.875465 45.716115 \nL 304.949845 46.755698 \nL 308.024225 46.755698 \nL 311.098605 59.23049 \nL 314.172986 71.346802 \nL 317.247366 70.041977 \nL 320.321746 68.821327 \nL 323.396126 107.882171 \nL 326.470506 98.978593 \nL 329.544886 98.978593 \nL 332.619267 98.978593 \nL 335.693647 79.50202 \nL 338.768027 71.346802 \nL 341.842407 59.23049 \nL 344.916787 79.50202 \nL 347.991167 68.821327 \nL 351.065548 59.23049 \nL 354.139928 71.346802 \nL 357.214308 100.120078 \nL 360.288688 137.802344 \nL 363.363068 87.849133 \n\" style=\"fill:none;stroke:#1f77b4;stroke-linecap:square;stroke-width:1.5;\"/>\n   </g>\n   <g id=\"line2d_14\">\n    <path clip-path=\"url(#p35e62ff58c)\" d=\"M 58.999432 176.354922 \nL 62.073812 151.697147 \nL 65.148192 63.73526 \nL 68.222572 70.041977 \nL 71.296952 119.525311 \nL 74.371333 137.313452 \nL 77.445713 137.313452 \nL 80.520093 137.313452 \nL 83.594473 113.287926 \nL 86.668853 82.655368 \nL 89.743233 103.152149 \nL 92.817614 63.73526 \nL 95.891994 61.309611 \nL 98.966374 121.237537 \nL 102.040754 121.237537 \nL 105.115134 137.313452 \nL 108.189514 137.313452 \nL 111.263895 137.313452 \nL 114.338275 137.313452 \nL 117.412655 121.237537 \nL 120.487035 103.152149 \nL 123.561415 137.313452 \nL 126.635795 137.313452 \nL 129.710176 151.697147 \nL 132.784556 151.697147 \nL 135.858936 151.697147 \nL 138.933316 137.313452 \nL 142.007696 137.313452 \nL 145.082076 137.313452 \nL 148.156457 121.237537 \nL 151.230837 137.313452 \nL 154.305217 137.313452 \nL 157.379597 137.313452 \nL 160.453977 61.309611 \nL 163.528357 74.246433 \nL 166.602738 103.152149 \nL 169.677118 137.313452 \nL 172.751498 103.152149 \nL 175.825878 95.268781 \nL 178.900258 90.417461 \nL 181.974638 113.287926 \nL 185.049019 107.882171 \nL 188.123399 137.313452 \nL 191.197779 137.313452 \nL 194.272159 137.313452 \nL 197.346539 137.313452 \nL 200.420919 107.882171 \nL 203.4953 103.152149 \nL 206.56968 103.152149 \nL 209.64406 137.313452 \nL 212.71844 126.802279 \nL 215.79282 86.259197 \nL 218.8672 82.655368 \nL 221.941581 82.655368 \nL 225.015961 82.655368 \nL 228.090341 107.882171 \nL 231.164721 101.00214 \nL 234.239101 126.802279 \nL 237.313481 119.525311 \nL 240.387862 121.237537 \nL 243.462242 103.152149 \nL 246.536622 32.201761 \nL 249.611002 32.201761 \nL 252.685382 183.56258 \nL 255.759762 137.313452 \nL 258.834143 137.313452 \nL 261.908523 107.882171 \nL 264.982903 63.73526 \nL 268.057283 107.882171 \nL 271.131663 137.313452 \nL 274.206043 107.882171 \nL 277.280424 86.259197 \nL 280.354804 107.882171 \nL 283.429184 90.417461 \nL 286.503564 86.259197 \nL 289.577944 121.237537 \nL 292.652324 137.313452 \nL 295.726705 86.259197 \nL 298.801085 63.73526 \nL 301.875465 66.601939 \nL 304.949845 70.041977 \nL 308.024225 70.041977 \nL 311.098605 63.73526 \nL 314.172986 86.259197 \nL 317.247366 86.259197 \nL 320.321746 86.259197 \nL 323.396126 107.882171 \nL 326.470506 107.882171 \nL 329.544886 107.882171 \nL 332.619267 107.882171 \nL 335.693647 107.882171 \nL 338.768027 86.259197 \nL 341.842407 107.882171 \nL 344.916787 107.882171 \nL 347.991167 86.259197 \nL 351.065548 143.496481 \nL 354.139928 137.313452 \nL 357.214308 165.755425 \nL 360.288688 150.452408 \nL 363.363068 140.316632 \n\" style=\"fill:none;stroke:#ff7f0e;stroke-linecap:square;stroke-width:1.5;\"/>\n   </g>\n   <g id=\"patch_3\">\n    <path d=\"M 43.78125 239.758125 \nL 43.78125 22.318125 \n\" style=\"fill:none;stroke:#000000;stroke-linecap:square;stroke-linejoin:miter;stroke-width:0.8;\"/>\n   </g>\n   <g id=\"patch_4\">\n    <path d=\"M 378.58125 239.758125 \nL 378.58125 22.318125 \n\" style=\"fill:none;stroke:#000000;stroke-linecap:square;stroke-linejoin:miter;stroke-width:0.8;\"/>\n   </g>\n   <g id=\"patch_5\">\n    <path d=\"M 43.78125 239.758125 \nL 378.58125 239.758125 \n\" style=\"fill:none;stroke:#000000;stroke-linecap:square;stroke-linejoin:miter;stroke-width:0.8;\"/>\n   </g>\n   <g id=\"patch_6\">\n    <path d=\"M 43.78125 22.318125 \nL 378.58125 22.318125 \n\" style=\"fill:none;stroke:#000000;stroke-linecap:square;stroke-linejoin:miter;stroke-width:0.8;\"/>\n   </g>\n   <g id=\"text_15\">\n    <!-- model precision -->\n    <g transform=\"translate(163.52625 16.318125)scale(0.12 -0.12)\">\n     <defs>\n      <path d=\"M 3328 2828 \nQ 3544 3216 3844 3400 \nQ 4144 3584 4550 3584 \nQ 5097 3584 5394 3201 \nQ 5691 2819 5691 2113 \nL 5691 0 \nL 5113 0 \nL 5113 2094 \nQ 5113 2597 4934 2840 \nQ 4756 3084 4391 3084 \nQ 3944 3084 3684 2787 \nQ 3425 2491 3425 1978 \nL 3425 0 \nL 2847 0 \nL 2847 2094 \nQ 2847 2600 2669 2842 \nQ 2491 3084 2119 3084 \nQ 1678 3084 1418 2786 \nQ 1159 2488 1159 1978 \nL 1159 0 \nL 581 0 \nL 581 3500 \nL 1159 3500 \nL 1159 2956 \nQ 1356 3278 1631 3431 \nQ 1906 3584 2284 3584 \nQ 2666 3584 2933 3390 \nQ 3200 3197 3328 2828 \nz\n\" id=\"DejaVuSans-6d\" transform=\"scale(0.015625)\"/>\n      <path d=\"M 2906 2969 \nL 2906 4863 \nL 3481 4863 \nL 3481 0 \nL 2906 0 \nL 2906 525 \nQ 2725 213 2448 61 \nQ 2172 -91 1784 -91 \nQ 1150 -91 751 415 \nQ 353 922 353 1747 \nQ 353 2572 751 3078 \nQ 1150 3584 1784 3584 \nQ 2172 3584 2448 3432 \nQ 2725 3281 2906 2969 \nz\nM 947 1747 \nQ 947 1113 1208 752 \nQ 1469 391 1925 391 \nQ 2381 391 2643 752 \nQ 2906 1113 2906 1747 \nQ 2906 2381 2643 2742 \nQ 2381 3103 1925 3103 \nQ 1469 3103 1208 2742 \nQ 947 2381 947 1747 \nz\n\" id=\"DejaVuSans-64\" transform=\"scale(0.015625)\"/>\n      <path d=\"M 603 4863 \nL 1178 4863 \nL 1178 0 \nL 603 0 \nL 603 4863 \nz\n\" id=\"DejaVuSans-6c\" transform=\"scale(0.015625)\"/>\n      <path id=\"DejaVuSans-20\" transform=\"scale(0.015625)\"/>\n     </defs>\n     <use xlink:href=\"#DejaVuSans-6d\"/>\n     <use x=\"97.412109\" xlink:href=\"#DejaVuSans-6f\"/>\n     <use x=\"158.59375\" xlink:href=\"#DejaVuSans-64\"/>\n     <use x=\"222.070312\" xlink:href=\"#DejaVuSans-65\"/>\n     <use x=\"283.59375\" xlink:href=\"#DejaVuSans-6c\"/>\n     <use x=\"311.376953\" xlink:href=\"#DejaVuSans-20\"/>\n     <use x=\"343.164062\" xlink:href=\"#DejaVuSans-70\"/>\n     <use x=\"406.640625\" xlink:href=\"#DejaVuSans-72\"/>\n     <use x=\"445.503906\" xlink:href=\"#DejaVuSans-65\"/>\n     <use x=\"507.027344\" xlink:href=\"#DejaVuSans-63\"/>\n     <use x=\"562.007812\" xlink:href=\"#DejaVuSans-69\"/>\n     <use x=\"589.791016\" xlink:href=\"#DejaVuSans-73\"/>\n     <use x=\"641.890625\" xlink:href=\"#DejaVuSans-69\"/>\n     <use x=\"669.673828\" xlink:href=\"#DejaVuSans-6f\"/>\n     <use x=\"730.855469\" xlink:href=\"#DejaVuSans-6e\"/>\n    </g>\n   </g>\n   <g id=\"legend_1\">\n    <g id=\"patch_7\">\n     <path d=\"M 50.78125 60.230625 \nL 156.164062 60.230625 \nQ 158.164062 60.230625 158.164062 58.230625 \nL 158.164062 29.318125 \nQ 158.164062 27.318125 156.164062 27.318125 \nL 50.78125 27.318125 \nQ 48.78125 27.318125 48.78125 29.318125 \nL 48.78125 58.230625 \nQ 48.78125 60.230625 50.78125 60.230625 \nz\n\" style=\"fill:#ffffff;opacity:0.8;stroke:#cccccc;stroke-linejoin:miter;\"/>\n    </g>\n    <g id=\"line2d_15\">\n     <path d=\"M 52.78125 35.416562 \nL 72.78125 35.416562 \n\" style=\"fill:none;stroke:#1f77b4;stroke-linecap:square;stroke-width:1.5;\"/>\n    </g>\n    <g id=\"line2d_16\"/>\n    <g id=\"text_16\">\n     <!-- train_precision -->\n     <g transform=\"translate(80.78125 38.916562)scale(0.1 -0.1)\">\n      <defs>\n       <path d=\"M 1172 4494 \nL 1172 3500 \nL 2356 3500 \nL 2356 3053 \nL 1172 3053 \nL 1172 1153 \nQ 1172 725 1289 603 \nQ 1406 481 1766 481 \nL 2356 481 \nL 2356 0 \nL 1766 0 \nQ 1100 0 847 248 \nQ 594 497 594 1153 \nL 594 3053 \nL 172 3053 \nL 172 3500 \nL 594 3500 \nL 594 4494 \nL 1172 4494 \nz\n\" id=\"DejaVuSans-74\" transform=\"scale(0.015625)\"/>\n       <path d=\"M 2194 1759 \nQ 1497 1759 1228 1600 \nQ 959 1441 959 1056 \nQ 959 750 1161 570 \nQ 1363 391 1709 391 \nQ 2188 391 2477 730 \nQ 2766 1069 2766 1631 \nL 2766 1759 \nL 2194 1759 \nz\nM 3341 1997 \nL 3341 0 \nL 2766 0 \nL 2766 531 \nQ 2569 213 2275 61 \nQ 1981 -91 1556 -91 \nQ 1019 -91 701 211 \nQ 384 513 384 1019 \nQ 384 1609 779 1909 \nQ 1175 2209 1959 2209 \nL 2766 2209 \nL 2766 2266 \nQ 2766 2663 2505 2880 \nQ 2244 3097 1772 3097 \nQ 1472 3097 1187 3025 \nQ 903 2953 641 2809 \nL 641 3341 \nQ 956 3463 1253 3523 \nQ 1550 3584 1831 3584 \nQ 2591 3584 2966 3190 \nQ 3341 2797 3341 1997 \nz\n\" id=\"DejaVuSans-61\" transform=\"scale(0.015625)\"/>\n       <path d=\"M 3263 -1063 \nL 3263 -1509 \nL -63 -1509 \nL -63 -1063 \nL 3263 -1063 \nz\n\" id=\"DejaVuSans-5f\" transform=\"scale(0.015625)\"/>\n      </defs>\n      <use xlink:href=\"#DejaVuSans-74\"/>\n      <use x=\"39.208984\" xlink:href=\"#DejaVuSans-72\"/>\n      <use x=\"80.322266\" xlink:href=\"#DejaVuSans-61\"/>\n      <use x=\"141.601562\" xlink:href=\"#DejaVuSans-69\"/>\n      <use x=\"169.384766\" xlink:href=\"#DejaVuSans-6e\"/>\n      <use x=\"232.763672\" xlink:href=\"#DejaVuSans-5f\"/>\n      <use x=\"282.763672\" xlink:href=\"#DejaVuSans-70\"/>\n      <use x=\"346.240234\" xlink:href=\"#DejaVuSans-72\"/>\n      <use x=\"385.103516\" xlink:href=\"#DejaVuSans-65\"/>\n      <use x=\"446.626953\" xlink:href=\"#DejaVuSans-63\"/>\n      <use x=\"501.607422\" xlink:href=\"#DejaVuSans-69\"/>\n      <use x=\"529.390625\" xlink:href=\"#DejaVuSans-73\"/>\n      <use x=\"581.490234\" xlink:href=\"#DejaVuSans-69\"/>\n      <use x=\"609.273438\" xlink:href=\"#DejaVuSans-6f\"/>\n      <use x=\"670.455078\" xlink:href=\"#DejaVuSans-6e\"/>\n     </g>\n    </g>\n    <g id=\"line2d_17\">\n     <path d=\"M 52.78125 50.372812 \nL 72.78125 50.372812 \n\" style=\"fill:none;stroke:#ff7f0e;stroke-linecap:square;stroke-width:1.5;\"/>\n    </g>\n    <g id=\"line2d_18\"/>\n    <g id=\"text_17\">\n     <!-- val_precision -->\n     <g transform=\"translate(80.78125 53.872812)scale(0.1 -0.1)\">\n      <defs>\n       <path d=\"M 191 3500 \nL 800 3500 \nL 1894 563 \nL 2988 3500 \nL 3597 3500 \nL 2284 0 \nL 1503 0 \nL 191 3500 \nz\n\" id=\"DejaVuSans-76\" transform=\"scale(0.015625)\"/>\n      </defs>\n      <use xlink:href=\"#DejaVuSans-76\"/>\n      <use x=\"59.179688\" xlink:href=\"#DejaVuSans-61\"/>\n      <use x=\"120.458984\" xlink:href=\"#DejaVuSans-6c\"/>\n      <use x=\"148.242188\" xlink:href=\"#DejaVuSans-5f\"/>\n      <use x=\"198.242188\" xlink:href=\"#DejaVuSans-70\"/>\n      <use x=\"261.71875\" xlink:href=\"#DejaVuSans-72\"/>\n      <use x=\"300.582031\" xlink:href=\"#DejaVuSans-65\"/>\n      <use x=\"362.105469\" xlink:href=\"#DejaVuSans-63\"/>\n      <use x=\"417.085938\" xlink:href=\"#DejaVuSans-69\"/>\n      <use x=\"444.869141\" xlink:href=\"#DejaVuSans-73\"/>\n      <use x=\"496.96875\" xlink:href=\"#DejaVuSans-69\"/>\n      <use x=\"524.751953\" xlink:href=\"#DejaVuSans-6f\"/>\n      <use x=\"585.933594\" xlink:href=\"#DejaVuSans-6e\"/>\n     </g>\n    </g>\n   </g>\n  </g>\n </g>\n <defs>\n  <clipPath id=\"p35e62ff58c\">\n   <rect height=\"217.44\" width=\"334.8\" x=\"43.78125\" y=\"22.318125\"/>\n  </clipPath>\n </defs>\n</svg>\n",
      "image/png": "[encoded data removed]"
     },
     "metadata": {
      "needs_background": "light"
     }
    },
    {
     "output_type": "display_data",
     "data": {
      "text/plain": "<Figure size 432x288 with 1 Axes>",
      "image/svg+xml": "<?xml version=\"1.0\" encoding=\"utf-8\" standalone=\"no\"?>\n<!DOCTYPE svg PUBLIC \"-//W3C//DTD SVG 1.1//EN\"\n  \"http://www.w3.org/Graphics/SVG/1.1/DTD/svg11.dtd\">\n<svg height=\"277.314375pt\" version=\"1.1\" viewBox=\"0 0 385.78125 277.314375\" width=\"385.78125pt\" xmlns=\"http://www.w3.org/2000/svg\" xmlns:xlink=\"http://www.w3.org/1999/xlink\">\n <metadata>\n  <rdf:RDF xmlns:cc=\"http://creativecommons.org/ns#\" xmlns:dc=\"http://purl.org/dc/elements/1.1/\" xmlns:rdf=\"http://www.w3.org/1999/02/22-rdf-syntax-ns#\">\n   <cc:Work>\n    <dc:type rdf:resource=\"http://purl.org/dc/dcmitype/StillImage\"/>\n    <dc:date>2021-07-12T14:44:30.404010</dc:date>\n    <dc:format>image/svg+xml</dc:format>\n    <dc:creator>\n     <cc:Agent>\n      <dc:title>Matplotlib v3.4.1, https://matplotlib.org/</dc:title>\n     </cc:Agent>\n    </dc:creator>\n   </cc:Work>\n  </rdf:RDF>\n </metadata>\n <defs>\n  <style type=\"text/css\">*{stroke-linecap:butt;stroke-linejoin:round;}</style>\n </defs>\n <g id=\"figure_1\">\n  <g id=\"patch_1\">\n   <path d=\"M 0 277.314375 \nL 385.78125 277.314375 \nL 385.78125 0 \nL 0 0 \nz\n\" style=\"fill:none;\"/>\n  </g>\n  <g id=\"axes_1\">\n   <g id=\"patch_2\">\n    <path d=\"M 43.78125 239.758125 \nL 378.58125 239.758125 \nL 378.58125 22.318125 \nL 43.78125 22.318125 \nz\n\" style=\"fill:#ffffff;\"/>\n   </g>\n   <g id=\"matplotlib.axis_1\">\n    <g id=\"xtick_1\">\n     <g id=\"line2d_1\">\n      <defs>\n       <path d=\"M 0 0 \nL 0 3.5 \n\" id=\"m391ff73a50\" style=\"stroke:#000000;stroke-width:0.8;\"/>\n      </defs>\n      <g>\n       <use style=\"stroke:#000000;stroke-width:0.8;\" x=\"58.999432\" xlink:href=\"#m391ff73a50\" y=\"239.758125\"/>\n      </g>\n     </g>\n     <g id=\"text_1\">\n      <!-- 0 -->\n      <g transform=\"translate(55.818182 254.356562)scale(0.1 -0.1)\">\n       <defs>\n        <path d=\"M 2034 4250 \nQ 1547 4250 1301 3770 \nQ 1056 3291 1056 2328 \nQ 1056 1369 1301 889 \nQ 1547 409 2034 409 \nQ 2525 409 2770 889 \nQ 3016 1369 3016 2328 \nQ 3016 3291 2770 3770 \nQ 2525 4250 2034 4250 \nz\nM 2034 4750 \nQ 2819 4750 3233 4129 \nQ 3647 3509 3647 2328 \nQ 3647 1150 3233 529 \nQ 2819 -91 2034 -91 \nQ 1250 -91 836 529 \nQ 422 1150 422 2328 \nQ 422 3509 836 4129 \nQ 1250 4750 2034 4750 \nz\n\" id=\"DejaVuSans-30\" transform=\"scale(0.015625)\"/>\n       </defs>\n       <use xlink:href=\"#DejaVuSans-30\"/>\n      </g>\n     </g>\n    </g>\n    <g id=\"xtick_2\">\n     <g id=\"line2d_2\">\n      <g>\n       <use style=\"stroke:#000000;stroke-width:0.8;\" x=\"120.487035\" xlink:href=\"#m391ff73a50\" y=\"239.758125\"/>\n      </g>\n     </g>\n     <g id=\"text_2\">\n      <!-- 20 -->\n      <g transform=\"translate(114.124535 254.356562)scale(0.1 -0.1)\">\n       <defs>\n        <path d=\"M 1228 531 \nL 3431 531 \nL 3431 0 \nL 469 0 \nL 469 531 \nQ 828 903 1448 1529 \nQ 2069 2156 2228 2338 \nQ 2531 2678 2651 2914 \nQ 2772 3150 2772 3378 \nQ 2772 3750 2511 3984 \nQ 2250 4219 1831 4219 \nQ 1534 4219 1204 4116 \nQ 875 4013 500 3803 \nL 500 4441 \nQ 881 4594 1212 4672 \nQ 1544 4750 1819 4750 \nQ 2544 4750 2975 4387 \nQ 3406 4025 3406 3419 \nQ 3406 3131 3298 2873 \nQ 3191 2616 2906 2266 \nQ 2828 2175 2409 1742 \nQ 1991 1309 1228 531 \nz\n\" id=\"DejaVuSans-32\" transform=\"scale(0.015625)\"/>\n       </defs>\n       <use xlink:href=\"#DejaVuSans-32\"/>\n       <use x=\"63.623047\" xlink:href=\"#DejaVuSans-30\"/>\n      </g>\n     </g>\n    </g>\n    <g id=\"xtick_3\">\n     <g id=\"line2d_3\">\n      <g>\n       <use style=\"stroke:#000000;stroke-width:0.8;\" x=\"181.974638\" xlink:href=\"#m391ff73a50\" y=\"239.758125\"/>\n      </g>\n     </g>\n     <g id=\"text_3\">\n      <!-- 40 -->\n      <g transform=\"translate(175.612138 254.356562)scale(0.1 -0.1)\">\n       <defs>\n        <path d=\"M 2419 4116 \nL 825 1625 \nL 2419 1625 \nL 2419 4116 \nz\nM 2253 4666 \nL 3047 4666 \nL 3047 1625 \nL 3713 1625 \nL 3713 1100 \nL 3047 1100 \nL 3047 0 \nL 2419 0 \nL 2419 1100 \nL 313 1100 \nL 313 1709 \nL 2253 4666 \nz\n\" id=\"DejaVuSans-34\" transform=\"scale(0.015625)\"/>\n       </defs>\n       <use xlink:href=\"#DejaVuSans-34\"/>\n       <use x=\"63.623047\" xlink:href=\"#DejaVuSans-30\"/>\n      </g>\n     </g>\n    </g>\n    <g id=\"xtick_4\">\n     <g id=\"line2d_4\">\n      <g>\n       <use style=\"stroke:#000000;stroke-width:0.8;\" x=\"243.462242\" xlink:href=\"#m391ff73a50\" y=\"239.758125\"/>\n      </g>\n     </g>\n     <g id=\"text_4\">\n      <!-- 60 -->\n      <g transform=\"translate(237.099742 254.356562)scale(0.1 -0.1)\">\n       <defs>\n        <path d=\"M 2113 2584 \nQ 1688 2584 1439 2293 \nQ 1191 2003 1191 1497 \nQ 1191 994 1439 701 \nQ 1688 409 2113 409 \nQ 2538 409 2786 701 \nQ 3034 994 3034 1497 \nQ 3034 2003 2786 2293 \nQ 2538 2584 2113 2584 \nz\nM 3366 4563 \nL 3366 3988 \nQ 3128 4100 2886 4159 \nQ 2644 4219 2406 4219 \nQ 1781 4219 1451 3797 \nQ 1122 3375 1075 2522 \nQ 1259 2794 1537 2939 \nQ 1816 3084 2150 3084 \nQ 2853 3084 3261 2657 \nQ 3669 2231 3669 1497 \nQ 3669 778 3244 343 \nQ 2819 -91 2113 -91 \nQ 1303 -91 875 529 \nQ 447 1150 447 2328 \nQ 447 3434 972 4092 \nQ 1497 4750 2381 4750 \nQ 2619 4750 2861 4703 \nQ 3103 4656 3366 4563 \nz\n\" id=\"DejaVuSans-36\" transform=\"scale(0.015625)\"/>\n       </defs>\n       <use xlink:href=\"#DejaVuSans-36\"/>\n       <use x=\"63.623047\" xlink:href=\"#DejaVuSans-30\"/>\n      </g>\n     </g>\n    </g>\n    <g id=\"xtick_5\">\n     <g id=\"line2d_5\">\n      <g>\n       <use style=\"stroke:#000000;stroke-width:0.8;\" x=\"304.949845\" xlink:href=\"#m391ff73a50\" y=\"239.758125\"/>\n      </g>\n     </g>\n     <g id=\"text_5\">\n      <!-- 80 -->\n      <g transform=\"translate(298.587345 254.356562)scale(0.1 -0.1)\">\n       <defs>\n        <path d=\"M 2034 2216 \nQ 1584 2216 1326 1975 \nQ 1069 1734 1069 1313 \nQ 1069 891 1326 650 \nQ 1584 409 2034 409 \nQ 2484 409 2743 651 \nQ 3003 894 3003 1313 \nQ 3003 1734 2745 1975 \nQ 2488 2216 2034 2216 \nz\nM 1403 2484 \nQ 997 2584 770 2862 \nQ 544 3141 544 3541 \nQ 544 4100 942 4425 \nQ 1341 4750 2034 4750 \nQ 2731 4750 3128 4425 \nQ 3525 4100 3525 3541 \nQ 3525 3141 3298 2862 \nQ 3072 2584 2669 2484 \nQ 3125 2378 3379 2068 \nQ 3634 1759 3634 1313 \nQ 3634 634 3220 271 \nQ 2806 -91 2034 -91 \nQ 1263 -91 848 271 \nQ 434 634 434 1313 \nQ 434 1759 690 2068 \nQ 947 2378 1403 2484 \nz\nM 1172 3481 \nQ 1172 3119 1398 2916 \nQ 1625 2713 2034 2713 \nQ 2441 2713 2670 2916 \nQ 2900 3119 2900 3481 \nQ 2900 3844 2670 4047 \nQ 2441 4250 2034 4250 \nQ 1625 4250 1398 4047 \nQ 1172 3844 1172 3481 \nz\n\" id=\"DejaVuSans-38\" transform=\"scale(0.015625)\"/>\n       </defs>\n       <use xlink:href=\"#DejaVuSans-38\"/>\n       <use x=\"63.623047\" xlink:href=\"#DejaVuSans-30\"/>\n      </g>\n     </g>\n    </g>\n    <g id=\"xtick_6\">\n     <g id=\"line2d_6\">\n      <g>\n       <use style=\"stroke:#000000;stroke-width:0.8;\" x=\"366.437448\" xlink:href=\"#m391ff73a50\" y=\"239.758125\"/>\n      </g>\n     </g>\n     <g id=\"text_6\">\n      <!-- 100 -->\n      <g transform=\"translate(356.893698 254.356562)scale(0.1 -0.1)\">\n       <defs>\n        <path d=\"M 794 531 \nL 1825 531 \nL 1825 4091 \nL 703 3866 \nL 703 4441 \nL 1819 4666 \nL 2450 4666 \nL 2450 531 \nL 3481 531 \nL 3481 0 \nL 794 0 \nL 794 531 \nz\n\" id=\"DejaVuSans-31\" transform=\"scale(0.015625)\"/>\n       </defs>\n       <use xlink:href=\"#DejaVuSans-31\"/>\n       <use x=\"63.623047\" xlink:href=\"#DejaVuSans-30\"/>\n       <use x=\"127.246094\" xlink:href=\"#DejaVuSans-30\"/>\n      </g>\n     </g>\n    </g>\n    <g id=\"text_7\">\n     <!-- epoch -->\n     <g transform=\"translate(195.953125 268.034687)scale(0.1 -0.1)\">\n      <defs>\n       <path d=\"M 3597 1894 \nL 3597 1613 \nL 953 1613 \nQ 991 1019 1311 708 \nQ 1631 397 2203 397 \nQ 2534 397 2845 478 \nQ 3156 559 3463 722 \nL 3463 178 \nQ 3153 47 2828 -22 \nQ 2503 -91 2169 -91 \nQ 1331 -91 842 396 \nQ 353 884 353 1716 \nQ 353 2575 817 3079 \nQ 1281 3584 2069 3584 \nQ 2775 3584 3186 3129 \nQ 3597 2675 3597 1894 \nz\nM 3022 2063 \nQ 3016 2534 2758 2815 \nQ 2500 3097 2075 3097 \nQ 1594 3097 1305 2825 \nQ 1016 2553 972 2059 \nL 3022 2063 \nz\n\" id=\"DejaVuSans-65\" transform=\"scale(0.015625)\"/>\n       <path d=\"M 1159 525 \nL 1159 -1331 \nL 581 -1331 \nL 581 3500 \nL 1159 3500 \nL 1159 2969 \nQ 1341 3281 1617 3432 \nQ 1894 3584 2278 3584 \nQ 2916 3584 3314 3078 \nQ 3713 2572 3713 1747 \nQ 3713 922 3314 415 \nQ 2916 -91 2278 -91 \nQ 1894 -91 1617 61 \nQ 1341 213 1159 525 \nz\nM 3116 1747 \nQ 3116 2381 2855 2742 \nQ 2594 3103 2138 3103 \nQ 1681 3103 1420 2742 \nQ 1159 2381 1159 1747 \nQ 1159 1113 1420 752 \nQ 1681 391 2138 391 \nQ 2594 391 2855 752 \nQ 3116 1113 3116 1747 \nz\n\" id=\"DejaVuSans-70\" transform=\"scale(0.015625)\"/>\n       <path d=\"M 1959 3097 \nQ 1497 3097 1228 2736 \nQ 959 2375 959 1747 \nQ 959 1119 1226 758 \nQ 1494 397 1959 397 \nQ 2419 397 2687 759 \nQ 2956 1122 2956 1747 \nQ 2956 2369 2687 2733 \nQ 2419 3097 1959 3097 \nz\nM 1959 3584 \nQ 2709 3584 3137 3096 \nQ 3566 2609 3566 1747 \nQ 3566 888 3137 398 \nQ 2709 -91 1959 -91 \nQ 1206 -91 779 398 \nQ 353 888 353 1747 \nQ 353 2609 779 3096 \nQ 1206 3584 1959 3584 \nz\n\" id=\"DejaVuSans-6f\" transform=\"scale(0.015625)\"/>\n       <path d=\"M 3122 3366 \nL 3122 2828 \nQ 2878 2963 2633 3030 \nQ 2388 3097 2138 3097 \nQ 1578 3097 1268 2742 \nQ 959 2388 959 1747 \nQ 959 1106 1268 751 \nQ 1578 397 2138 397 \nQ 2388 397 2633 464 \nQ 2878 531 3122 666 \nL 3122 134 \nQ 2881 22 2623 -34 \nQ 2366 -91 2075 -91 \nQ 1284 -91 818 406 \nQ 353 903 353 1747 \nQ 353 2603 823 3093 \nQ 1294 3584 2113 3584 \nQ 2378 3584 2631 3529 \nQ 2884 3475 3122 3366 \nz\n\" id=\"DejaVuSans-63\" transform=\"scale(0.015625)\"/>\n       <path d=\"M 3513 2113 \nL 3513 0 \nL 2938 0 \nL 2938 2094 \nQ 2938 2591 2744 2837 \nQ 2550 3084 2163 3084 \nQ 1697 3084 1428 2787 \nQ 1159 2491 1159 1978 \nL 1159 0 \nL 581 0 \nL 581 4863 \nL 1159 4863 \nL 1159 2956 \nQ 1366 3272 1645 3428 \nQ 1925 3584 2291 3584 \nQ 2894 3584 3203 3211 \nQ 3513 2838 3513 2113 \nz\n\" id=\"DejaVuSans-68\" transform=\"scale(0.015625)\"/>\n      </defs>\n      <use xlink:href=\"#DejaVuSans-65\"/>\n      <use x=\"61.523438\" xlink:href=\"#DejaVuSans-70\"/>\n      <use x=\"125\" xlink:href=\"#DejaVuSans-6f\"/>\n      <use x=\"186.181641\" xlink:href=\"#DejaVuSans-63\"/>\n      <use x=\"241.162109\" xlink:href=\"#DejaVuSans-68\"/>\n     </g>\n    </g>\n   </g>\n   <g id=\"matplotlib.axis_2\">\n    <g id=\"ytick_1\">\n     <g id=\"line2d_7\">\n      <defs>\n       <path d=\"M 0 0 \nL -3.5 0 \n\" id=\"mc4318135a4\" style=\"stroke:#000000;stroke-width:0.8;\"/>\n      </defs>\n      <g>\n       <use style=\"stroke:#000000;stroke-width:0.8;\" x=\"43.78125\" xlink:href=\"#mc4318135a4\" y=\"203.518126\"/>\n      </g>\n     </g>\n     <g id=\"text_8\">\n      <!-- 0.2 -->\n      <g transform=\"translate(20.878125 207.317344)scale(0.1 -0.1)\">\n       <defs>\n        <path d=\"M 684 794 \nL 1344 794 \nL 1344 0 \nL 684 0 \nL 684 794 \nz\n\" id=\"DejaVuSans-2e\" transform=\"scale(0.015625)\"/>\n       </defs>\n       <use xlink:href=\"#DejaVuSans-30\"/>\n       <use x=\"63.623047\" xlink:href=\"#DejaVuSans-2e\"/>\n       <use x=\"95.410156\" xlink:href=\"#DejaVuSans-32\"/>\n      </g>\n     </g>\n    </g>\n    <g id=\"ytick_2\">\n     <g id=\"line2d_8\">\n      <g>\n       <use style=\"stroke:#000000;stroke-width:0.8;\" x=\"43.78125\" xlink:href=\"#mc4318135a4\" y=\"160.689034\"/>\n      </g>\n     </g>\n     <g id=\"text_9\">\n      <!-- 0.4 -->\n      <g transform=\"translate(20.878125 164.488253)scale(0.1 -0.1)\">\n       <use xlink:href=\"#DejaVuSans-30\"/>\n       <use x=\"63.623047\" xlink:href=\"#DejaVuSans-2e\"/>\n       <use x=\"95.410156\" xlink:href=\"#DejaVuSans-34\"/>\n      </g>\n     </g>\n    </g>\n    <g id=\"ytick_3\">\n     <g id=\"line2d_9\">\n      <g>\n       <use style=\"stroke:#000000;stroke-width:0.8;\" x=\"43.78125\" xlink:href=\"#mc4318135a4\" y=\"117.859943\"/>\n      </g>\n     </g>\n     <g id=\"text_10\">\n      <!-- 0.6 -->\n      <g transform=\"translate(20.878125 121.659162)scale(0.1 -0.1)\">\n       <use xlink:href=\"#DejaVuSans-30\"/>\n       <use x=\"63.623047\" xlink:href=\"#DejaVuSans-2e\"/>\n       <use x=\"95.410156\" xlink:href=\"#DejaVuSans-36\"/>\n      </g>\n     </g>\n    </g>\n    <g id=\"ytick_4\">\n     <g id=\"line2d_10\">\n      <g>\n       <use style=\"stroke:#000000;stroke-width:0.8;\" x=\"43.78125\" xlink:href=\"#mc4318135a4\" y=\"75.030852\"/>\n      </g>\n     </g>\n     <g id=\"text_11\">\n      <!-- 0.8 -->\n      <g transform=\"translate(20.878125 78.830071)scale(0.1 -0.1)\">\n       <use xlink:href=\"#DejaVuSans-30\"/>\n       <use x=\"63.623047\" xlink:href=\"#DejaVuSans-2e\"/>\n       <use x=\"95.410156\" xlink:href=\"#DejaVuSans-38\"/>\n      </g>\n     </g>\n    </g>\n    <g id=\"ytick_5\">\n     <g id=\"line2d_11\">\n      <g>\n       <use style=\"stroke:#000000;stroke-width:0.8;\" x=\"43.78125\" xlink:href=\"#mc4318135a4\" y=\"32.201761\"/>\n      </g>\n     </g>\n     <g id=\"text_12\">\n      <!-- 1.0 -->\n      <g transform=\"translate(20.878125 36.00098)scale(0.1 -0.1)\">\n       <use xlink:href=\"#DejaVuSans-31\"/>\n       <use x=\"63.623047\" xlink:href=\"#DejaVuSans-2e\"/>\n       <use x=\"95.410156\" xlink:href=\"#DejaVuSans-30\"/>\n      </g>\n     </g>\n    </g>\n    <g id=\"text_13\">\n     <!-- recall -->\n     <g transform=\"translate(14.798438 144.649062)rotate(-90)scale(0.1 -0.1)\">\n      <defs>\n       <path d=\"M 2631 2963 \nQ 2534 3019 2420 3045 \nQ 2306 3072 2169 3072 \nQ 1681 3072 1420 2755 \nQ 1159 2438 1159 1844 \nL 1159 0 \nL 581 0 \nL 581 3500 \nL 1159 3500 \nL 1159 2956 \nQ 1341 3275 1631 3429 \nQ 1922 3584 2338 3584 \nQ 2397 3584 2469 3576 \nQ 2541 3569 2628 3553 \nL 2631 2963 \nz\n\" id=\"DejaVuSans-72\" transform=\"scale(0.015625)\"/>\n       <path d=\"M 2194 1759 \nQ 1497 1759 1228 1600 \nQ 959 1441 959 1056 \nQ 959 750 1161 570 \nQ 1363 391 1709 391 \nQ 2188 391 2477 730 \nQ 2766 1069 2766 1631 \nL 2766 1759 \nL 2194 1759 \nz\nM 3341 1997 \nL 3341 0 \nL 2766 0 \nL 2766 531 \nQ 2569 213 2275 61 \nQ 1981 -91 1556 -91 \nQ 1019 -91 701 211 \nQ 384 513 384 1019 \nQ 384 1609 779 1909 \nQ 1175 2209 1959 2209 \nL 2766 2209 \nL 2766 2266 \nQ 2766 2663 2505 2880 \nQ 2244 3097 1772 3097 \nQ 1472 3097 1187 3025 \nQ 903 2953 641 2809 \nL 641 3341 \nQ 956 3463 1253 3523 \nQ 1550 3584 1831 3584 \nQ 2591 3584 2966 3190 \nQ 3341 2797 3341 1997 \nz\n\" id=\"DejaVuSans-61\" transform=\"scale(0.015625)\"/>\n       <path d=\"M 603 4863 \nL 1178 4863 \nL 1178 0 \nL 603 0 \nL 603 4863 \nz\n\" id=\"DejaVuSans-6c\" transform=\"scale(0.015625)\"/>\n      </defs>\n      <use xlink:href=\"#DejaVuSans-72\"/>\n      <use x=\"38.863281\" xlink:href=\"#DejaVuSans-65\"/>\n      <use x=\"100.386719\" xlink:href=\"#DejaVuSans-63\"/>\n      <use x=\"155.367188\" xlink:href=\"#DejaVuSans-61\"/>\n      <use x=\"216.646484\" xlink:href=\"#DejaVuSans-6c\"/>\n      <use x=\"244.429688\" xlink:href=\"#DejaVuSans-6c\"/>\n     </g>\n    </g>\n   </g>\n   <g id=\"line2d_12\">\n    <path clip-path=\"url(#p03cb4e1e9a)\" d=\"M 58.999432 38.691011 \nL 62.073812 32.201761 \nL 65.148192 32.201761 \nL 68.222572 77.62655 \nL 71.296952 103.583576 \nL 74.371333 84.115813 \nL 77.445713 32.201761 \nL 80.520093 32.201761 \nL 83.594473 38.691011 \nL 86.668853 77.62655 \nL 89.743233 64.648037 \nL 92.817614 64.648037 \nL 95.891994 84.115813 \nL 98.966374 71.1373 \nL 102.040754 58.158787 \nL 105.115134 38.691011 \nL 108.189514 32.201761 \nL 111.263895 32.201761 \nL 114.338275 45.180274 \nL 117.412655 51.669524 \nL 120.487035 58.158787 \nL 123.561415 58.158787 \nL 126.635795 51.669524 \nL 129.710176 45.180274 \nL 132.784556 38.691011 \nL 135.858936 38.691011 \nL 138.933316 51.669524 \nL 142.007696 51.669524 \nL 145.082076 51.669524 \nL 148.156457 58.158787 \nL 151.230837 58.158787 \nL 154.305217 51.669524 \nL 157.379597 51.669524 \nL 160.453977 51.669524 \nL 163.528357 77.62655 \nL 166.602738 97.094325 \nL 169.677118 51.669524 \nL 172.751498 32.201761 \nL 175.825878 58.158787 \nL 178.900258 90.605063 \nL 181.974638 77.62655 \nL 185.049019 71.1373 \nL 188.123399 64.648037 \nL 191.197779 45.180274 \nL 194.272159 45.180274 \nL 197.346539 45.180274 \nL 200.420919 58.158787 \nL 203.4953 64.648037 \nL 206.56968 64.648037 \nL 209.64406 45.180274 \nL 212.71844 58.158787 \nL 215.79282 58.158787 \nL 218.8672 71.1373 \nL 221.941581 71.1373 \nL 225.015961 58.158787 \nL 228.090341 84.115813 \nL 231.164721 71.1373 \nL 234.239101 84.115813 \nL 237.313481 71.1373 \nL 240.387862 64.648037 \nL 243.462242 38.691011 \nL 246.536622 84.115813 \nL 249.611002 168.47614 \nL 252.685382 155.497627 \nL 255.759762 103.583576 \nL 258.834143 51.669524 \nL 261.908523 58.158787 \nL 264.982903 51.669524 \nL 268.057283 71.1373 \nL 271.131663 71.1373 \nL 274.206043 32.201761 \nL 277.280424 58.158787 \nL 280.354804 58.158787 \nL 283.429184 51.669524 \nL 286.503564 64.648037 \nL 289.577944 71.1373 \nL 292.652324 45.180274 \nL 295.726705 64.648037 \nL 298.801085 71.1373 \nL 301.875465 71.1373 \nL 304.949845 84.115813 \nL 308.024225 84.115813 \nL 311.098605 77.62655 \nL 314.172986 77.62655 \nL 317.247366 71.1373 \nL 320.321746 64.648037 \nL 323.396126 64.648037 \nL 326.470506 64.648037 \nL 329.544886 64.648037 \nL 332.619267 64.648037 \nL 335.693647 64.648037 \nL 338.768027 77.62655 \nL 341.842407 77.62655 \nL 344.916787 64.648037 \nL 347.991167 64.648037 \nL 351.065548 77.62655 \nL 354.139928 77.62655 \nL 357.214308 38.691011 \nL 360.288688 45.180274 \nL 363.363068 58.158787 \n\" style=\"fill:none;stroke:#1f77b4;stroke-linecap:square;stroke-width:1.5;\"/>\n   </g>\n   <g id=\"line2d_13\">\n    <path clip-path=\"url(#p03cb4e1e9a)\" d=\"M 58.999432 32.201761 \nL 62.073812 32.201761 \nL 65.148192 65.147214 \nL 68.222572 98.092667 \nL 71.296952 81.61994 \nL 74.371333 32.201761 \nL 77.445713 32.201761 \nL 80.520093 32.201761 \nL 83.594473 65.147214 \nL 86.668853 32.201761 \nL 89.743233 32.201761 \nL 92.817614 65.147214 \nL 95.891994 48.674488 \nL 98.966374 32.201761 \nL 102.040754 32.201761 \nL 105.115134 32.201761 \nL 108.189514 32.201761 \nL 111.263895 32.201761 \nL 114.338275 32.201761 \nL 117.412655 32.201761 \nL 120.487035 32.201761 \nL 123.561415 32.201761 \nL 126.635795 32.201761 \nL 129.710176 32.201761 \nL 132.784556 32.201761 \nL 135.858936 32.201761 \nL 138.933316 32.201761 \nL 142.007696 32.201761 \nL 145.082076 32.201761 \nL 148.156457 32.201761 \nL 151.230837 32.201761 \nL 154.305217 32.201761 \nL 157.379597 32.201761 \nL 160.453977 48.674488 \nL 163.528357 114.565393 \nL 166.602738 32.201761 \nL 169.677118 32.201761 \nL 172.751498 32.201761 \nL 175.825878 81.61994 \nL 178.900258 65.147214 \nL 181.974638 65.147214 \nL 185.049019 48.674488 \nL 188.123399 32.201761 \nL 191.197779 32.201761 \nL 194.272159 32.201761 \nL 197.346539 32.201761 \nL 200.420919 48.674488 \nL 203.4953 32.201761 \nL 206.56968 32.201761 \nL 209.64406 32.201761 \nL 212.71844 48.674488 \nL 215.79282 48.674488 \nL 218.8672 32.201761 \nL 221.941581 32.201761 \nL 225.015961 32.201761 \nL 228.090341 48.674488 \nL 231.164721 98.092667 \nL 234.239101 98.092667 \nL 237.313481 81.61994 \nL 240.387862 32.201761 \nL 243.462242 32.201761 \nL 246.536622 229.874489 \nL 249.611002 213.401761 \nL 252.685382 147.510852 \nL 255.759762 32.201761 \nL 258.834143 32.201761 \nL 261.908523 48.674488 \nL 264.982903 65.147214 \nL 268.057283 48.674488 \nL 271.131663 32.201761 \nL 274.206043 48.674488 \nL 277.280424 48.674488 \nL 280.354804 48.674488 \nL 283.429184 65.147214 \nL 286.503564 48.674488 \nL 289.577944 32.201761 \nL 292.652324 32.201761 \nL 295.726705 48.674488 \nL 298.801085 65.147214 \nL 301.875465 81.61994 \nL 304.949845 98.092667 \nL 308.024225 98.092667 \nL 311.098605 65.147214 \nL 314.172986 48.674488 \nL 317.247366 48.674488 \nL 320.321746 48.674488 \nL 323.396126 48.674488 \nL 326.470506 48.674488 \nL 329.544886 48.674488 \nL 332.619267 48.674488 \nL 335.693647 48.674488 \nL 338.768027 48.674488 \nL 341.842407 48.674488 \nL 344.916787 48.674488 \nL 347.991167 48.674488 \nL 351.065548 48.674488 \nL 354.139928 32.201761 \nL 357.214308 65.147214 \nL 360.288688 65.147214 \nL 363.363068 81.61994 \n\" style=\"fill:none;stroke:#ff7f0e;stroke-linecap:square;stroke-width:1.5;\"/>\n   </g>\n   <g id=\"patch_3\">\n    <path d=\"M 43.78125 239.758125 \nL 43.78125 22.318125 \n\" style=\"fill:none;stroke:#000000;stroke-linecap:square;stroke-linejoin:miter;stroke-width:0.8;\"/>\n   </g>\n   <g id=\"patch_4\">\n    <path d=\"M 378.58125 239.758125 \nL 378.58125 22.318125 \n\" style=\"fill:none;stroke:#000000;stroke-linecap:square;stroke-linejoin:miter;stroke-width:0.8;\"/>\n   </g>\n   <g id=\"patch_5\">\n    <path d=\"M 43.78125 239.758125 \nL 378.58125 239.758125 \n\" style=\"fill:none;stroke:#000000;stroke-linecap:square;stroke-linejoin:miter;stroke-width:0.8;\"/>\n   </g>\n   <g id=\"patch_6\">\n    <path d=\"M 43.78125 22.318125 \nL 378.58125 22.318125 \n\" style=\"fill:none;stroke:#000000;stroke-linecap:square;stroke-linejoin:miter;stroke-width:0.8;\"/>\n   </g>\n   <g id=\"text_14\">\n    <!-- model recall -->\n    <g transform=\"translate(174.257812 16.318125)scale(0.12 -0.12)\">\n     <defs>\n      <path d=\"M 3328 2828 \nQ 3544 3216 3844 3400 \nQ 4144 3584 4550 3584 \nQ 5097 3584 5394 3201 \nQ 5691 2819 5691 2113 \nL 5691 0 \nL 5113 0 \nL 5113 2094 \nQ 5113 2597 4934 2840 \nQ 4756 3084 4391 3084 \nQ 3944 3084 3684 2787 \nQ 3425 2491 3425 1978 \nL 3425 0 \nL 2847 0 \nL 2847 2094 \nQ 2847 2600 2669 2842 \nQ 2491 3084 2119 3084 \nQ 1678 3084 1418 2786 \nQ 1159 2488 1159 1978 \nL 1159 0 \nL 581 0 \nL 581 3500 \nL 1159 3500 \nL 1159 2956 \nQ 1356 3278 1631 3431 \nQ 1906 3584 2284 3584 \nQ 2666 3584 2933 3390 \nQ 3200 3197 3328 2828 \nz\n\" id=\"DejaVuSans-6d\" transform=\"scale(0.015625)\"/>\n      <path d=\"M 2906 2969 \nL 2906 4863 \nL 3481 4863 \nL 3481 0 \nL 2906 0 \nL 2906 525 \nQ 2725 213 2448 61 \nQ 2172 -91 1784 -91 \nQ 1150 -91 751 415 \nQ 353 922 353 1747 \nQ 353 2572 751 3078 \nQ 1150 3584 1784 3584 \nQ 2172 3584 2448 3432 \nQ 2725 3281 2906 2969 \nz\nM 947 1747 \nQ 947 1113 1208 752 \nQ 1469 391 1925 391 \nQ 2381 391 2643 752 \nQ 2906 1113 2906 1747 \nQ 2906 2381 2643 2742 \nQ 2381 3103 1925 3103 \nQ 1469 3103 1208 2742 \nQ 947 2381 947 1747 \nz\n\" id=\"DejaVuSans-64\" transform=\"scale(0.015625)\"/>\n      <path id=\"DejaVuSans-20\" transform=\"scale(0.015625)\"/>\n     </defs>\n     <use xlink:href=\"#DejaVuSans-6d\"/>\n     <use x=\"97.412109\" xlink:href=\"#DejaVuSans-6f\"/>\n     <use x=\"158.59375\" xlink:href=\"#DejaVuSans-64\"/>\n     <use x=\"222.070312\" xlink:href=\"#DejaVuSans-65\"/>\n     <use x=\"283.59375\" xlink:href=\"#DejaVuSans-6c\"/>\n     <use x=\"311.376953\" xlink:href=\"#DejaVuSans-20\"/>\n     <use x=\"343.164062\" xlink:href=\"#DejaVuSans-72\"/>\n     <use x=\"382.027344\" xlink:href=\"#DejaVuSans-65\"/>\n     <use x=\"443.550781\" xlink:href=\"#DejaVuSans-63\"/>\n     <use x=\"498.53125\" xlink:href=\"#DejaVuSans-61\"/>\n     <use x=\"559.810547\" xlink:href=\"#DejaVuSans-6c\"/>\n     <use x=\"587.59375\" xlink:href=\"#DejaVuSans-6c\"/>\n    </g>\n   </g>\n   <g id=\"legend_1\">\n    <g id=\"patch_7\">\n     <path d=\"M 50.78125 234.758125 \nL 138.278125 234.758125 \nQ 140.278125 234.758125 140.278125 232.758125 \nL 140.278125 203.845625 \nQ 140.278125 201.845625 138.278125 201.845625 \nL 50.78125 201.845625 \nQ 48.78125 201.845625 48.78125 203.845625 \nL 48.78125 232.758125 \nQ 48.78125 234.758125 50.78125 234.758125 \nz\n\" style=\"fill:#ffffff;opacity:0.8;stroke:#cccccc;stroke-linejoin:miter;\"/>\n    </g>\n    <g id=\"line2d_14\">\n     <path d=\"M 52.78125 209.944062 \nL 72.78125 209.944062 \n\" style=\"fill:none;stroke:#1f77b4;stroke-linecap:square;stroke-width:1.5;\"/>\n    </g>\n    <g id=\"line2d_15\"/>\n    <g id=\"text_15\">\n     <!-- train_recall -->\n     <g transform=\"translate(80.78125 213.444062)scale(0.1 -0.1)\">\n      <defs>\n       <path d=\"M 1172 4494 \nL 1172 3500 \nL 2356 3500 \nL 2356 3053 \nL 1172 3053 \nL 1172 1153 \nQ 1172 725 1289 603 \nQ 1406 481 1766 481 \nL 2356 481 \nL 2356 0 \nL 1766 0 \nQ 1100 0 847 248 \nQ 594 497 594 1153 \nL 594 3053 \nL 172 3053 \nL 172 3500 \nL 594 3500 \nL 594 4494 \nL 1172 4494 \nz\n\" id=\"DejaVuSans-74\" transform=\"scale(0.015625)\"/>\n       <path d=\"M 603 3500 \nL 1178 3500 \nL 1178 0 \nL 603 0 \nL 603 3500 \nz\nM 603 4863 \nL 1178 4863 \nL 1178 4134 \nL 603 4134 \nL 603 4863 \nz\n\" id=\"DejaVuSans-69\" transform=\"scale(0.015625)\"/>\n       <path d=\"M 3513 2113 \nL 3513 0 \nL 2938 0 \nL 2938 2094 \nQ 2938 2591 2744 2837 \nQ 2550 3084 2163 3084 \nQ 1697 3084 1428 2787 \nQ 1159 2491 1159 1978 \nL 1159 0 \nL 581 0 \nL 581 3500 \nL 1159 3500 \nL 1159 2956 \nQ 1366 3272 1645 3428 \nQ 1925 3584 2291 3584 \nQ 2894 3584 3203 3211 \nQ 3513 2838 3513 2113 \nz\n\" id=\"DejaVuSans-6e\" transform=\"scale(0.015625)\"/>\n       <path d=\"M 3263 -1063 \nL 3263 -1509 \nL -63 -1509 \nL -63 -1063 \nL 3263 -1063 \nz\n\" id=\"DejaVuSans-5f\" transform=\"scale(0.015625)\"/>\n      </defs>\n      <use xlink:href=\"#DejaVuSans-74\"/>\n      <use x=\"39.208984\" xlink:href=\"#DejaVuSans-72\"/>\n      <use x=\"80.322266\" xlink:href=\"#DejaVuSans-61\"/>\n      <use x=\"141.601562\" xlink:href=\"#DejaVuSans-69\"/>\n      <use x=\"169.384766\" xlink:href=\"#DejaVuSans-6e\"/>\n      <use x=\"232.763672\" xlink:href=\"#DejaVuSans-5f\"/>\n      <use x=\"282.763672\" xlink:href=\"#DejaVuSans-72\"/>\n      <use x=\"321.626953\" xlink:href=\"#DejaVuSans-65\"/>\n      <use x=\"383.150391\" xlink:href=\"#DejaVuSans-63\"/>\n      <use x=\"438.130859\" xlink:href=\"#DejaVuSans-61\"/>\n      <use x=\"499.410156\" xlink:href=\"#DejaVuSans-6c\"/>\n      <use x=\"527.193359\" xlink:href=\"#DejaVuSans-6c\"/>\n     </g>\n    </g>\n    <g id=\"line2d_16\">\n     <path d=\"M 52.78125 224.900312 \nL 72.78125 224.900312 \n\" style=\"fill:none;stroke:#ff7f0e;stroke-linecap:square;stroke-width:1.5;\"/>\n    </g>\n    <g id=\"line2d_17\"/>\n    <g id=\"text_16\">\n     <!-- val_recall -->\n     <g transform=\"translate(80.78125 228.400312)scale(0.1 -0.1)\">\n      <defs>\n       <path d=\"M 191 3500 \nL 800 3500 \nL 1894 563 \nL 2988 3500 \nL 3597 3500 \nL 2284 0 \nL 1503 0 \nL 191 3500 \nz\n\" id=\"DejaVuSans-76\" transform=\"scale(0.015625)\"/>\n      </defs>\n      <use xlink:href=\"#DejaVuSans-76\"/>\n      <use x=\"59.179688\" xlink:href=\"#DejaVuSans-61\"/>\n      <use x=\"120.458984\" xlink:href=\"#DejaVuSans-6c\"/>\n      <use x=\"148.242188\" xlink:href=\"#DejaVuSans-5f\"/>\n      <use x=\"198.242188\" xlink:href=\"#DejaVuSans-72\"/>\n      <use x=\"237.105469\" xlink:href=\"#DejaVuSans-65\"/>\n      <use x=\"298.628906\" xlink:href=\"#DejaVuSans-63\"/>\n      <use x=\"353.609375\" xlink:href=\"#DejaVuSans-61\"/>\n      <use x=\"414.888672\" xlink:href=\"#DejaVuSans-6c\"/>\n      <use x=\"442.671875\" xlink:href=\"#DejaVuSans-6c\"/>\n     </g>\n    </g>\n   </g>\n  </g>\n </g>\n <defs>\n  <clipPath id=\"p03cb4e1e9a\">\n   <rect height=\"217.44\" width=\"334.8\" x=\"43.78125\" y=\"22.318125\"/>\n  </clipPath>\n </defs>\n</svg>\n",
      "image/png": "[encoded data removed]"
     },
     "metadata": {
      "needs_background": "light"
     }
    }
   ],
   "source": [
    "plot(history, num=None) # are the graphs also similar this time? "
   ]
  },
  {
   "source": [
    "# Very differing behavior in training, probably due to limited data. I'll have to see what to do about that and how to squeeze even more data. "
   ],
   "cell_type": "markdown",
   "metadata": {}
  },
  {
   "cell_type": "code",
   "execution_count": null,
   "metadata": {},
   "outputs": [],
   "source": [
    "# we'll manually do some prepreprocessing \n"
   ]
  }
 ],
 "metadata": {
  "interpreter": {
   "hash": "aee8b7b246df8f9039afb4144a1f6fd8d2ca17a180786b69acc140d282b71a49"
  },
  "kernelspec": {
   "name": "python3",
   "display_name": "Python 3.8.3 64-bit"
  },
  "language_info": {
   "codemirror_mode": {
    "name": "ipython",
    "version": 3
   },
   "file_extension": ".py",
   "mimetype": "text/x-python",
   "name": "python",
   "nbconvert_exporter": "python",
   "pygments_lexer": "ipython3",
   "version": "3.8.3"
  }
 },
 "nbformat": 4,
 "nbformat_minor": 2
}