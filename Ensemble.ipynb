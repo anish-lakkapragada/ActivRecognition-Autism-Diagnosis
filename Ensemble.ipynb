{
 "metadata": {
  "language_info": {
   "codemirror_mode": {
    "name": "ipython",
    "version": 3
   },
   "file_extension": ".py",
   "mimetype": "text/x-python",
   "name": "python",
   "nbconvert_exporter": "python",
   "pygments_lexer": "ipython3",
   "version": "3.8.3"
  },
  "orig_nbformat": 4,
  "kernelspec": {
   "name": "python3",
   "display_name": "Python 3.8.3 64-bit"
  },
  "interpreter": {
   "hash": "aee8b7b246df8f9039afb4144a1f6fd8d2ca17a180786b69acc140d282b71a49"
  }
 },
 "nbformat": 4,
 "nbformat_minor": 2,
 "cells": [
  {
   "source": [
    "# The ensemble approach is to take the data, and train each of the N classifiers on a different random arrangement of 6 landmarks. "
   ],
   "cell_type": "markdown",
   "metadata": {}
  },
  {
   "cell_type": "code",
   "execution_count": null,
   "metadata": {},
   "outputs": [],
   "source": [
    "# first get all X and y data from the all_points_folds\n",
    "import numpy as np \n",
    "import pickle, random \n",
    "import cv2\n",
    "\n",
    "X, y = [], []\n",
    "\n",
    "for file in os.listdir(\"all_points_folds\"): \n",
    "    with open(f\"all_points_folds/{file}\", 'rb') as f: \n",
    "        X_y = pickle.load(f)\n",
    "        X.append(X_y[0])\n",
    "        y.append(X_y[1])\n",
    "\n",
    "X = np.concatenate([X_i for X_i in X])\n",
    "y = np.concatenate([y_i for y_i in y]) \n",
    "\n",
    "# shuffle data just to be sure\n",
    "N = np.random.permutation(X.shape[0])\n",
    "X, y = X[N], y[N]"
   ]
  },
  {
   "cell_type": "code",
   "execution_count": null,
   "metadata": {},
   "outputs": [],
   "source": [
    "# create the randomly generated hand arrangments for 200 models\n",
    "\n",
    "hand_arrangements = [] # (200, 6) matrix\n",
    "\n",
    "for arrangement in range(200): \n",
    "    hand_arrangements.append(random.sample(list(range(0, 21)), 6))\n",
    "\n",
    "\n",
    "# create a function that will give X_train, X_test, y_train, y_test based on \n",
    "# the hand locations \n",
    "\n",
    "def generate_dataset(hand_arrangement, X, y): \n",
    "    columns_of_landmarks = [] \n",
    "    for landmark_no in hand_arrangement: \n",
    "        for _ in [0, 21, 42, 63, 84, 105, 126]: \n",
    "            "
   ]
  }
 ]
}