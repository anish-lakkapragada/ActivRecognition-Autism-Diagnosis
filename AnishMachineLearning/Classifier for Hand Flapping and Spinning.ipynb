{
 "cells": [
  {
   "cell_type": "code",
   "execution_count": 1,
   "metadata": {},
   "outputs": [],
   "source": [
    "# first change the directory over to ssbd release\n",
    "import os \n",
    "import xml.etree.ElementTree as ET"
   ]
  },
  {
   "cell_type": "code",
   "execution_count": 2,
   "metadata": {},
   "outputs": [
    {
     "name": "stdout",
     "output_type": "stream",
     "text": [
      "http://www.youtube.com/watch?v=T9rbit_oiJA\n",
      "0004:0010\n",
      "armflapping\n",
      "high\n",
      "0015:0020\n",
      "armflapping\n",
      "high\n"
     ]
    }
   ],
   "source": [
    "# next step would be to get the hand flapping and spinning data \n",
    "\n",
    "tree = ET.parse(\"ssbd-release/Annotations/v_ArmFlapping_07.xml\")\n",
    "root = tree.getroot()\n",
    "for child in root:\n",
    "    # for each child in the root \n",
    "    if child.tag == \"url\":\n",
    "        print(child.text)\n",
    "    if child.tag == \"behaviours\":\n",
    "        for behavior in child: # go through each reported behavior \n",
    "            for tag in behavior: # tag is just the attribute of the behavior \n",
    "                if tag.tag == \"time\":\n",
    "                    print(tag.text)\n",
    "                if tag.tag == \"intensity\":\n",
    "                    print(tag.text)\n",
    "                if tag.tag == \"category\":\n",
    "                    print(tag.text)"
   ]
  },
  {
   "cell_type": "code",
   "execution_count": 3,
   "metadata": {},
   "outputs": [],
   "source": [
    "def convert_to_second(time : str) -> int:\n",
    "    # this will take in a time like \"0125\" or 1:25 and make it 85 (60 + 25)\n",
    "    overall_seconds = 0 \n",
    "    for i, time_char in enumerate(reversed(time)):\n",
    "        if i == 0:\n",
    "            overall_seconds += int(time_char)\n",
    "        if i == 1:\n",
    "            overall_seconds += int(time_char) * 10\n",
    "        if i == 2:\n",
    "            overall_seconds += int(time_char) * 60 \n",
    "        if i == 3:\n",
    "            overall_seconds += int(time_char) * 600 \n",
    "    return overall_seconds \n",
    "\n",
    "assert convert_to_second('2345') == 23 * 60 + 45  "
   ]
  },
  {
   "cell_type": "code",
   "execution_count": 4,
   "metadata": {},
   "outputs": [],
   "source": [
    "from collections import defaultdict\n",
    "URLS_TO_DOWNLOAD = set() # contains all youtube videos to download \n",
    "links_to_times = {} # data will be stored here like {link : {'category' : [(start, end)], 'another cat' : [(start, end)]}\n",
    "\n",
    "for i, file_name in enumerate(os.listdir('ssbd-release/Annotations/')):\n",
    "    # parse this file \n",
    "    tree = ET.parse('ssbd-release/Annotations/' + file_name)\n",
    "    root = tree.getroot() \n",
    "    \n",
    "    # everything we need to store\n",
    "    URL = \"\"\n",
    "    \n",
    "    for child in root:\n",
    "        \n",
    "        if child.tag == \"url\":\n",
    "            URL = child.text # store URL\n",
    "            URLS_TO_DOWNLOAD.add(URL)\n",
    "            links_to_times[URL] = defaultdict(list) \n",
    "        \n",
    "        if child.tag == \"behaviours\": # this child has the list of behaviors \n",
    "            for reported_behavior in child: \n",
    "                for info in reported_behavior:\n",
    "                    # gather the start time, end time, and category for this youtube link \n",
    "                    if info.tag == \"time\":\n",
    "                        # the time will be start:end \n",
    "                        times = str(info.text) # contains the string \n",
    "                        if times.count(\":\"): \n",
    "                            divider_index = times.index(\":\")\n",
    "                        elif times.count(\"-\"):\n",
    "                            divider_index = times.index(\"-\")\n",
    "                        else:\n",
    "                            break # invalid then \n",
    "                        START_TIME, END_TIME = convert_to_second(times[:divider_index]), convert_to_second(times[divider_index + 1:])\n",
    "                        \n",
    "                    if info.tag == \"category\":\n",
    "                        # this is the label \n",
    "                        LABEL = info.text \n",
    "                \n",
    "                # create an entry for this reported behavior \n",
    "                links_to_times[URL][LABEL].append((START_TIME, END_TIME))"
   ]
  },
  {
   "cell_type": "code",
   "execution_count": 5,
   "metadata": {},
   "outputs": [],
   "source": [
    "# pickle this just incase \n",
    "import pickle \n",
    "with open(\"links_to_times.pkl\", 'wb') as f:\n",
    "    pickle.dump(links_to_times, f)"
   ]
  },
  {
   "cell_type": "code",
   "execution_count": 29,
   "metadata": {},
   "outputs": [
    {
     "data": {
      "text/plain": [
       "'Just two little autistic kids... :-)'"
      ]
     },
     "execution_count": 29,
     "metadata": {},
     "output_type": "execute_result"
    }
   ],
   "source": [
    "# nice so the next thing to do would be to download the links \n",
    "url = \"http://www.youtube.com/watch?v=I38WtUMuQwM\"\n",
    "from pytube import YouTube\n",
    "y = YouTube(\"http://www.youtube.com/watch?v=I38WtUMuQwM\")\n",
    "y.streams.get_highest_resolution().download()\n",
    "y.title "
   ]
  },
  {
   "cell_type": "code",
   "execution_count": 28,
   "metadata": {},
   "outputs": [],
   "source": [
    "import cv2\n",
    "import numpy as np\n",
    "from pytube import YouTube # used to download the videos\n",
    "FPS = 30 \n",
    "for url, category_times in links_to_times.items(): \n",
    "    \n",
    "    # download the video \n",
    "    y = YouTube(url)\n",
    "    y.streams.get_highest_resolution().download() \n",
    "    \n",
    "    # store all frames in an array\n",
    "    \n",
    "    frames = [] # frames of the video \n",
    "    cap = cv2.VideoCapture(y.title + \".mp4\")\n",
    "    \n",
    "    \n",
    "    \n",
    "    # get all frames for whatever category and write them to an mp4\n",
    "    \n",
    "    # delete the video "
   ]
  },
  {
   "cell_type": "code",
   "execution_count": null,
   "metadata": {},
   "outputs": [],
   "source": []
  }
 ],
 "metadata": {
  "kernelspec": {
   "display_name": "Python 3",
   "language": "python",
   "name": "python3"
  },
  "language_info": {
   "codemirror_mode": {
    "name": "ipython",
    "version": 3
   },
   "file_extension": ".py",
   "mimetype": "text/x-python",
   "name": "python",
   "nbconvert_exporter": "python",
   "pygments_lexer": "ipython3",
   "version": "3.8.3"
  }
 },
 "nbformat": 4,
 "nbformat_minor": 2
}
