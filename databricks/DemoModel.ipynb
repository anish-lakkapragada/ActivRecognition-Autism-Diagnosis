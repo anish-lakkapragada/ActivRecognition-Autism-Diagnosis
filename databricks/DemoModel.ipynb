{
 "cells": [
  {
   "cell_type": "code",
   "execution_count": 3,
   "metadata": {},
   "outputs": [],
   "source": [
    "import tensorflow as tf \n",
    "import cv2 \n",
    "import numpy as np\n",
    "import time"
   ]
  },
  {
   "cell_type": "code",
   "execution_count": 2,
   "metadata": {},
   "outputs": [],
   "source": [
    "IMAGE_SIZE = (224, 224, 3)"
   ]
  },
  {
   "cell_type": "code",
   "execution_count": 6,
   "metadata": {},
   "outputs": [],
   "source": [
    "def preprocess(model, video): \n",
    "    cap = cv2.VideoCapture(video)\n",
    "\n",
    "    data_matrix = []\n",
    "\n",
    "    # read in the frames \n",
    "    while (cap.isOpened()): \n",
    "        ret, frame = cap.read()\n",
    "        if not ret: break \n",
    "\n",
    "        image = cv2.resize(frame, (IMAGE_SIZE[0], IMAGE_SIZE[1], IMAGE_SIZE[2])) # resize \n",
    "        data_matrix.append(image)\n",
    "    \n",
    "    data_matrix = np.array(data_matrix)\n",
    "    cur_time = time.time()\n",
    "    prediction = model.predict([data_matrix])\n",
    "    text_pred = \"Hand Flapping\" if prediction >= 0.5 else \"No Hand Flapping\"\n",
    "    print(f\"Prediction:  {text_pred} with {max([1 - prediction, prediction])} confidence.\")\n",
    "    \n",
    "    cap.close()\n",
    "    return time.time() - cur_time # return query time "
   ]
  },
  {
   "cell_type": "code",
   "execution_count": 7,
   "metadata": {},
   "outputs": [
    {
     "name": "stderr",
     "output_type": "stream",
     "text": [
      "2022-01-02 08:35:43.842026: I tensorflow/core/platform/cpu_feature_guard.cc:151] This TensorFlow binary is optimized with oneAPI Deep Neural Network Library (oneDNN) to use the following CPU instructions in performance-critical operations:  AVX2 FMA\n",
      "To enable them in other operations, rebuild TensorFlow with the appropriate compiler flags.\n"
     ]
    }
   ],
   "source": [
    "model = tf.keras.models.load_model(\"MBNet\")"
   ]
  },
  {
   "cell_type": "code",
   "execution_count": null,
   "metadata": {},
   "outputs": [],
   "source": []
  }
 ],
 "metadata": {
  "interpreter": {
   "hash": "aee8b7b246df8f9039afb4144a1f6fd8d2ca17a180786b69acc140d282b71a49"
  },
  "kernelspec": {
   "display_name": "Python 3.9.7 64-bit",
   "language": "python",
   "name": "python3"
  },
  "language_info": {
   "codemirror_mode": {
    "name": "ipython",
    "version": 3
   },
   "file_extension": ".py",
   "mimetype": "text/x-python",
   "name": "python",
   "nbconvert_exporter": "python",
   "pygments_lexer": "ipython3",
   "version": "3.9.7"
  },
  "orig_nbformat": 4
 },
 "nbformat": 4,
 "nbformat_minor": 2
}
