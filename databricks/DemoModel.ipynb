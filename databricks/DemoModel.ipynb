{
 "cells": [
  {
   "cell_type": "code",
   "execution_count": 3,
   "metadata": {},
   "outputs": [],
   "source": [
    "import tensorflow as tf \n",
    "import cv2 \n",
    "import numpy as np\n",
    "import time"
   ]
  },
  {
   "cell_type": "code",
   "execution_count": 35,
   "metadata": {},
   "outputs": [],
   "source": [
    "IMAGE_SIZE = (224, 224, 3)\n",
    "model = tf.keras.models.load_model(\"MBNet\")"
   ]
  },
  {
   "cell_type": "code",
   "execution_count": 39,
   "metadata": {},
   "outputs": [],
   "source": [
    "def predict(model, video, pad=False): \n",
    "    cap = cv2.VideoCapture(video)\n",
    "\n",
    "    data_matrix = []\n",
    "\n",
    "    # read in the frames \n",
    "    i = 0\n",
    "    while (cap.isOpened()): \n",
    "        ret, frame = cap.read()\n",
    "        if not ret: break \n",
    "\n",
    "        image = cv2.resize(frame, (IMAGE_SIZE[0], IMAGE_SIZE[1])) # resize \n",
    "        data_matrix.append(image)\n",
    "        i += 1\n",
    "    \n",
    "    if pad: \n",
    "        data_matrix = np.array(data_matrix)\n",
    "        if (data_matrix.shape[0] < 90): \n",
    "            for _ in range(90 - data_matrix.shape[0]): \n",
    "                data_matrix = data_matrix.tolist()\n",
    "                data_matrix.append(np.zeros(IMAGE_SIZE))\n",
    "            data_matrix = np.array(data_matrix)\n",
    "        \n",
    "        elif (data_matrix.shape[0] > 90): \n",
    "            data_matrix = data_matrix[:90]\n",
    "        \n",
    "    \n",
    "    cur_time = time.time()\n",
    "    prediction = model.predict(np.array([data_matrix]))\n",
    "    print(prediction)\n",
    "    text_pred = \"Hand Flapping\" if prediction >= 0.5 else \"No Hand Flapping\"\n",
    "    print(f\"Prediction:  {text_pred} with {max([1 - prediction, prediction])} confidence.\")\n",
    "    \n",
    "    cap.release()\n",
    "    return time.time() - cur_time # return query time "
   ]
  },
  {
   "cell_type": "code",
   "execution_count": 42,
   "metadata": {},
   "outputs": [
    {
     "name": "stdout",
     "output_type": "stream",
     "text": [
      "[[0.42153925]]\n",
      "Prediction:  No Hand Flapping with [[0.57846075]] confidence.\n"
     ]
    },
    {
     "data": {
      "text/plain": [
       "3.5308189392089844"
      ]
     },
     "execution_count": 42,
     "metadata": {},
     "output_type": "execute_result"
    }
   ],
   "source": [
    "predict(model, \"videos/video3_control.mov\")"
   ]
  },
  {
   "cell_type": "code",
   "execution_count": null,
   "metadata": {},
   "outputs": [],
   "source": []
  },
  {
   "cell_type": "code",
   "execution_count": null,
   "metadata": {},
   "outputs": [],
   "source": []
  }
 ],
 "metadata": {
  "interpreter": {
   "hash": "aee8b7b246df8f9039afb4144a1f6fd8d2ca17a180786b69acc140d282b71a49"
  },
  "kernelspec": {
   "display_name": "Python 3.9.7 64-bit",
   "language": "python",
   "name": "python3"
  },
  "language_info": {
   "codemirror_mode": {
    "name": "ipython",
    "version": 3
   },
   "file_extension": ".py",
   "mimetype": "text/x-python",
   "name": "python",
   "nbconvert_exporter": "python",
   "pygments_lexer": "ipython3",
   "version": "3.9.7"
  },
  "orig_nbformat": 4
 },
 "nbformat": 4,
 "nbformat_minor": 2
}
