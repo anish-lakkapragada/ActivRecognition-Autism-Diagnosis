{
 "cells": [
  {
   "cell_type": "markdown",
   "metadata": {},
   "source": [
    "# The first step is preprocessing. We use the [SSBD Dataset](https://rolandgoecke.net/research/datasets/ssbd/) in order to get the data for hand flapping and spinning. \n",
    "\n",
    "## The dataset does contain 75 URLs (although we'll ignore all headbanging videos) to youtube videos. All the data is nicely stored in XML files that I will read to get the youtube videos and also the time stamps of when the behavior (hand flapping or spinning) occurs. Then I will use pytube to download the youtube videos to .mp4 and moviepy to cut the .mp4 videos into the areas of interest. Finally, because some of those areas of interest clips are more than a few seconds long (which is all you need to detect spinning or headbanging) I will take those areas that are > 8 seconds and split them into many clips (that way we have more data.) Also in sections of the video where no behavior is used I will take them as videos as control data. "
   ]
  },
  {
   "cell_type": "code",
   "execution_count": 10,
   "metadata": {},
   "outputs": [],
   "source": [
    "# first change the directory over to ssbd release\n",
    "import os \n",
    "import xml.etree.ElementTree as ET"
   ]
  },
  {
   "cell_type": "code",
   "execution_count": 11,
   "metadata": {},
   "outputs": [
    {
     "name": "stdout",
     "output_type": "stream",
     "text": [
      "http://www.youtube.com/watch?v=T9rbit_oiJA\n",
      "0004:0010\n",
      "armflapping\n",
      "high\n",
      "0015:0020\n",
      "armflapping\n",
      "high\n"
     ]
    }
   ],
   "source": [
    "# next step would be to get the hand flapping and spinning data \n",
    "\n",
    "tree = ET.parse(\"ssbd-release/Annotations/v_ArmFlapping_07.xml\")\n",
    "root = tree.getroot()\n",
    "for child in root:\n",
    "    # for each child in the root \n",
    "    if child.tag == \"url\":\n",
    "        print(child.text)\n",
    "    if child.tag == \"behaviours\":\n",
    "        for behavior in child: # go through each reported behavior \n",
    "            for tag in behavior: # tag is just the attribute of the behavior \n",
    "                if tag.tag == \"time\":\n",
    "                    print(tag.text)\n",
    "                if tag.tag == \"intensity\":\n",
    "                    print(tag.text)\n",
    "                if tag.tag == \"category\":\n",
    "                    print(tag.text)"
   ]
  },
  {
   "cell_type": "code",
   "execution_count": 12,
   "metadata": {},
   "outputs": [],
   "source": [
    "def convert_to_second(time : str) -> int:\n",
    "    # this will take in a time like \"0125\" or 1:25 and make it 85 (60 + 25)\n",
    "    overall_seconds = 0 \n",
    "    for i, time_char in enumerate(reversed(time)):\n",
    "        if i == 0:\n",
    "            overall_seconds += int(time_char)\n",
    "        if i == 1:\n",
    "            overall_seconds += int(time_char) * 10\n",
    "        if i == 2:\n",
    "            overall_seconds += int(time_char) * 60 \n",
    "        if i == 3:\n",
    "            overall_seconds += int(time_char) * 600 \n",
    "    return overall_seconds \n",
    "\n",
    "assert convert_to_second('2345') == 23 * 60 + 45  \n",
    "\n",
    "def consecutive(data, stepsize=1):\n",
    "    '''groups up elements in an array that are continous with each other (useful to create sections where none \n",
    "    of the behaviors are shown.)'''\n",
    "    return np.split(data, np.where(np.diff(data) != stepsize)[0]+1)"
   ]
  },
  {
   "cell_type": "code",
   "execution_count": 13,
   "metadata": {},
   "outputs": [],
   "source": [
    "from collections import defaultdict\n",
    "import math \n",
    "import numpy as np\n",
    "\n",
    "NUM_SECONDS_TO_RECOGNIZE = 8 # hypothesis: takes this many seconds seconds to recognize handflapping + spinning \n",
    "\n",
    "URLS_TO_DOWNLOAD = set() # contains all youtube videos to download \n",
    "links_to_times = {} # data will be stored here like {link : {'category' : [(start, end)], 'another cat' : [(start, end)]}\n",
    "\n",
    "\n",
    "for i, file_name in enumerate(os.listdir('ssbd-release/Annotations/')):\n",
    "    # parse this file \n",
    "    tree = ET.parse('ssbd-release/Annotations/' + file_name)\n",
    "    root = tree.getroot() \n",
    "    \n",
    "    # everything we need to store\n",
    "    URL = \"\"\n",
    "    \n",
    "    for child in root:\n",
    "        \n",
    "        if child.tag == \"url\":\n",
    "            URL = child.text # store URL\n",
    "            URLS_TO_DOWNLOAD.add(URL)\n",
    "            links_to_times[URL] = defaultdict(list) \n",
    "        \n",
    "        if child.tag == \"duration\":\n",
    "            duration = int(child.text[:-1])\n",
    "            all_times = list(range(duration))\n",
    "        \n",
    "        if child.tag == \"behaviours\": # this child has the list of behaviors \n",
    "            for reported_behavior in child: \n",
    "                for info in reported_behavior:\n",
    "                    # gather the start time, end time, and category for this youtube link \n",
    "                    if info.tag == \"time\":\n",
    "                        # the time will be start:end \n",
    "                        times = str(info.text) # contains the string \n",
    "                        if times.count(\":\"): \n",
    "                            divider_index = times.index(\":\")\n",
    "                        elif times.count(\"-\"):\n",
    "                            divider_index = times.index(\"-\")\n",
    "                        else:\n",
    "                            break # invalid then \n",
    "                        actual_start_time, actual_end_time = convert_to_second(times[:divider_index]), convert_to_second(times[divider_index + 1:])\n",
    "                        START_TIMES, END_TIMES = [], []\n",
    "                        times = np.array(range(actual_start_time, actual_end_time +1))\n",
    "                        for time in times:\n",
    "                            try:\n",
    "                                all_times.remove(time)\n",
    "                            except Exception as e:\n",
    "                                pass \n",
    "                        split_times = np.array_split(times, math.ceil(times.shape[0] / NUM_SECONDS_TO_RECOGNIZE))\n",
    "                        for time in split_times:\n",
    "                            START_TIMES.append(time[0])\n",
    "                            END_TIMES.append(time[-1])\n",
    "                    if info.tag == \"category\":\n",
    "                        # this is the label \n",
    "                        LABEL = info.text \n",
    "                \n",
    "                # create an entry for this reported behavior \n",
    "                for START_TIME, END_TIME in zip(START_TIMES, END_TIMES):\n",
    "                    links_to_times[URL][LABEL].append((START_TIME, END_TIME))\n",
    "                    \n",
    "            idle_times = consecutive(np.array(all_times))\n",
    "            num_contributed = 0 # each video can only give 4 control clips (because otherwise it takes WAY too long)\n",
    "            for control_times in idle_times:\n",
    "                if num_contributed >= 4: \n",
    "                    break \n",
    "                # times maybe > NUM_SECONDS_TO_RECOGNIZE so split if that is the case \n",
    "                if len(control_times) <= NUM_SECONDS_TO_RECOGNIZE:\n",
    "                    START_TIME, END_TIME = control_times[0], control_times[-1]\n",
    "                    links_to_times[URL]['control'].append((START_TIME, END_TIME))\n",
    "                    num_contributed += 1\n",
    "                else:\n",
    "                    # needs to be split \n",
    "                    control_times_split = np.array_split(control_times, math.ceil(len(control_times) / NUM_SECONDS_TO_RECOGNIZE))\n",
    "                    for control_time in control_times_split:  \n",
    "                        START_TIME, END_TIME = control_time[0], control_time[-1]\n",
    "                        links_to_times[URL]['control'].append((START_TIME, END_TIME))\n",
    "                        num_contributed += 1\n",
    "                        if num_contributed >= 4: \n",
    "                            break "
   ]
  },
  {
   "cell_type": "code",
   "execution_count": 14,
   "metadata": {},
   "outputs": [
    {
     "data": {
      "text/plain": [
       "{'http://www.youtube.com/watch?v=Pqd9Vu-juPI': defaultdict(list,\n",
       "             {'spinning': [(10, 15)],\n",
       "              'control': [(0, 4), (5, 9), (16, 23), (24, 31)]}),\n",
       " 'http://www.youtube.com/watch?v=yMgx2lVjf5I': defaultdict(list,\n",
       "             {'headbanging': [(1, 7), (18, 25), (36, 43), (44, 50)],\n",
       "              'control': [(0, 0), (8, 12), (13, 17), (26, 30)]}),\n",
       " 'http://www.youtube.com/watch?v=WRGUUOZ5_wA': defaultdict(list,\n",
       "             {'armflapping': [(60, 67), (60, 67)],\n",
       "              'control': [(0, 7), (8, 15), (16, 23), (24, 31)]}),\n",
       " 'http://www.youtube.com/watch?v=8vFUIFEfRpA': defaultdict(list,\n",
       "             {'armflapping': [(2, 8), (9, 14)],\n",
       "              'control': [(0, 1), (15, 21), (22, 28), (29, 34)]}),\n",
       " 'http://www.youtube.com/watch?v=SOc13pnf-Dc': defaultdict(list,\n",
       "             {'armflapping': [(65, 71),\n",
       "               (72, 78),\n",
       "               (79, 85),\n",
       "               (132, 136),\n",
       "               (137, 140)],\n",
       "              'control': [(0, 7), (8, 15), (16, 22), (23, 29)]}),\n",
       " 'http://www.youtube.com/watch?v=iDuAugAykcc': defaultdict(list,\n",
       "             {'armflapping': [(18, 22),\n",
       "               (23, 27),\n",
       "               (33, 37),\n",
       "               (50, 57),\n",
       "               (68, 73),\n",
       "               (74, 79),\n",
       "               (80, 85)],\n",
       "              'control': [(0, 5), (6, 11), (12, 17), (28, 32)]}),\n",
       " 'http://www.youtube.com/watch?v=BUAFdqrw4fA': defaultdict(list,\n",
       "             {'headbanging': [(8, 13),\n",
       "               (14, 18),\n",
       "               (20, 26),\n",
       "               (27, 32),\n",
       "               (33, 38),\n",
       "               (39, 44),\n",
       "               (54, 61),\n",
       "               (62, 69),\n",
       "               (70, 76),\n",
       "               (77, 83)],\n",
       "              'control': [(0, 7), (19, 19), (45, 49), (50, 53)]}),\n",
       " 'http://www.youtube.com/watch?v=WcsZ9eMQ5Zs': defaultdict(list,\n",
       "             {'headbanging': [(2, 6), (7, 10)],\n",
       "              'control': [(0, 1), (11, 13)]}),\n",
       " 'http://www.youtube.com/watch?v=w96PxUcoo58': defaultdict(list,\n",
       "             {'headbanging': [(5, 10)], 'control': [(0, 4), (11, 13)]}),\n",
       " 'http://www.youtube.com/watch?v=ehlLfMossUY': defaultdict(list,\n",
       "             {'armflapping': [(27, 30), (40, 43), (100, 102)],\n",
       "              'control': [(0, 6), (7, 13), (14, 20), (21, 26)]}),\n",
       " 'http://www.youtube.com/watch?v=mnBWOI4LuKw': defaultdict(list,\n",
       "             {'armflapping': [(3, 9),\n",
       "               (10, 16),\n",
       "               (17, 23),\n",
       "               (24, 30),\n",
       "               (74, 81),\n",
       "               (82, 88),\n",
       "               (89, 95),\n",
       "               (96, 102),\n",
       "               (103, 109),\n",
       "               (110, 116),\n",
       "               (117, 123),\n",
       "               (124, 130),\n",
       "               (134, 141),\n",
       "               (142, 148),\n",
       "               (149, 155)],\n",
       "              'control': [(0, 2), (31, 38), (39, 45), (46, 52)]}),\n",
       " 'http://www.youtube.com/watch?v=3Oh_Lmehb6c': defaultdict(list,\n",
       "             {'armflapping': [(19, 22), (40, 45), (46, 51)],\n",
       "              'control': [(0, 6), (7, 12), (13, 18), (23, 28)]}),\n",
       " 'http://www.youtube.com/watch?v=T9rbit_oiJA': defaultdict(list,\n",
       "             {'armflapping': [(4, 10), (15, 20)],\n",
       "              'control': [(0, 3), (11, 14), (21, 27), (28, 33)]}),\n",
       " 'http://www.youtube.com/watch?v=6sR-8llWl_s': defaultdict(list,\n",
       "             {'headbanging': [(9, 14), (15, 20), (21, 26)],\n",
       "              'control': [(0, 4), (5, 8), (27, 33), (34, 40)]}),\n",
       " 'http://www.youtube.com/watch?v=Z2kfvB4lv7A': defaultdict(list,\n",
       "             {'armflapping': [(22, 27)],\n",
       "              'control': [(0, 7), (8, 14), (15, 21), (28, 34)]}),\n",
       " 'http://www.youtube.com/watch?v=vtVnrV_jog0': defaultdict(list,\n",
       "             {'armflapping': [(2, 8), (9, 14), (19, 23), (36, 39)],\n",
       "              'control': [(0, 1), (15, 18), (24, 29), (30, 35)]}),\n",
       " 'http://www.youtube.com/watch?v=5sgfS0SSh8o': defaultdict(list,\n",
       "             {'armflapping': [(32, 39), (40, 46)], 'control': [(0, 4)]}),\n",
       " 'http://www.youtube.com/watch?v=hKf-IwHM6TI': defaultdict(list,\n",
       "             {'armflapping': [(11, 16), (19, 23), (29, 33)],\n",
       "              'control': [(0, 5), (6, 10), (17, 18), (24, 28)]}),\n",
       " 'http://www.youtube.com/watch?v=zuoD4tEtYyk': defaultdict(list,\n",
       "             {'headbanging': [(1, 7), (8, 14), (15, 20)],\n",
       "              'control': [(0, 0), (21, 21)]}),\n",
       " 'http://www.youtube.com/watch?v=I38WtUMuQwM': defaultdict(list,\n",
       "             {'headbanging': [(30, 35), (36, 40)],\n",
       "              'armflapping': [(124, 130),\n",
       "               (131, 137),\n",
       "               (138, 144),\n",
       "               (145, 150),\n",
       "               (176, 181),\n",
       "               (182, 187),\n",
       "               (206, 211)],\n",
       "              'control': [(0, 7), (8, 15), (16, 22), (23, 29)]}),\n",
       " 'http://www.youtube.com/watch?v=pz1nIbRWb2M': defaultdict(list,\n",
       "             {'armflapping': [(3, 7)],\n",
       "              'control': [(0, 2), (8, 14), (15, 21), (22, 28)]}),\n",
       " 'http://www.youtube.com/watch?v=I7fdv1q9-m8': defaultdict(list,\n",
       "             {'armflapping': [(18, 24)],\n",
       "              'headbanging': [(27, 32)],\n",
       "              'control': [(0, 5), (6, 11), (12, 17), (25, 26)]}),\n",
       " 'http://www.youtube.com/watch?v=nGoMpqcYcOg': defaultdict(list,\n",
       "             {'armflapping': [(17, 23), (32, 37)],\n",
       "              'control': [(0, 5), (6, 11), (12, 16), (24, 31)]}),\n",
       " 'http://www.youtube.com/watch?v=TVMWW9SejgI': defaultdict(list,\n",
       "             {'headbanging': [(1, 8), (9, 15)],\n",
       "              'control': [(0, 0), (16, 20), (21, 25)]}),\n",
       " 'http://www.youtube.com/watch?v=hX3sIO2wc1s': defaultdict(list,\n",
       "             {'headbanging': [(3, 10)], 'control': [(0, 2), (11, 15)]}),\n",
       " 'http://www.youtube.com/watch?v=VxK45NHvHTg': defaultdict(list,\n",
       "             {'spinning': [(25, 28)],\n",
       "              'control': [(0, 6), (7, 12), (13, 18), (19, 24)]}),\n",
       " 'http://www.youtube.com/watch?v=AXghcX_Bjac': defaultdict(list,\n",
       "             {'spinning': [(56, 63)],\n",
       "              'control': [(0, 7), (8, 15), (16, 23), (24, 31)]}),\n",
       " 'http://www.youtube.com/watch?v=scM9g0LExJA': defaultdict(list,\n",
       "             {'spinning': [(1, 8),\n",
       "               (9, 16),\n",
       "               (17, 24),\n",
       "               (25, 32),\n",
       "               (33, 40),\n",
       "               (41, 47),\n",
       "               (60, 67),\n",
       "               (68, 74),\n",
       "               (75, 81),\n",
       "               (82, 88),\n",
       "               (105, 112),\n",
       "               (113, 120),\n",
       "               (121, 128),\n",
       "               (140, 147),\n",
       "               (163, 170),\n",
       "               (171, 178),\n",
       "               (179, 186),\n",
       "               (187, 194),\n",
       "               (195, 202),\n",
       "               (203, 210),\n",
       "               (211, 218),\n",
       "               (219, 226),\n",
       "               (227, 234),\n",
       "               (235, 242),\n",
       "               (243, 250),\n",
       "               (251, 258),\n",
       "               (259, 266),\n",
       "               (267, 274),\n",
       "               (275, 281),\n",
       "               (282, 288),\n",
       "               (289, 295)],\n",
       "              'control': [(0, 0)]}),\n",
       " 'http://www.youtube.com/watch?v=-rC-ab0nzxY': defaultdict(list,\n",
       "             {'spinning': [(26, 31), (32, 37), (38, 43)],\n",
       "              'control': [(0, 6), (7, 13), (14, 19), (20, 25)]}),\n",
       " 'http://www.youtube.com/watch?v=yiEo7Kg1ngY': defaultdict(list,\n",
       "             {'spinning': [(1, 8),\n",
       "               (9, 16),\n",
       "               (17, 24),\n",
       "               (25, 32),\n",
       "               (33, 40),\n",
       "               (41, 48),\n",
       "               (49, 56),\n",
       "               (57, 64),\n",
       "               (65, 72),\n",
       "               (73, 80),\n",
       "               (81, 88),\n",
       "               (89, 96),\n",
       "               (97, 104),\n",
       "               (105, 112),\n",
       "               (113, 120),\n",
       "               (121, 127),\n",
       "               (128, 134),\n",
       "               (135, 141),\n",
       "               (142, 148),\n",
       "               (149, 155)],\n",
       "              'control': [(0, 0), (156, 157)]}),\n",
       " 'http://www.youtube.com/watch?v=8R1MfXoI3mo': defaultdict(list,\n",
       "             {'spinning': [(2, 7),\n",
       "               (15, 22),\n",
       "               (23, 30),\n",
       "               (31, 38),\n",
       "               (39, 45),\n",
       "               (46, 52),\n",
       "               (53, 59),\n",
       "               (60, 66),\n",
       "               (67, 73),\n",
       "               (74, 80)],\n",
       "              'control': [(0, 1), (8, 14)]}),\n",
       " 'http://www.youtube.com/watch?v=5MS6VZwZDi0': defaultdict(list,\n",
       "             {'spinning': [(2, 9),\n",
       "               (10, 17),\n",
       "               (18, 24),\n",
       "               (25, 31),\n",
       "               (32, 38),\n",
       "               (39, 45),\n",
       "               (46, 52),\n",
       "               (53, 59)],\n",
       "              'control': [(0, 1), (60, 66), (67, 73), (74, 80)]}),\n",
       " 'http://www.youtube.com/watch?v=TH5mlAhdw00': defaultdict(list,\n",
       "             {'spinning': [(2, 9)],\n",
       "              'control': [(0, 1), (10, 17), (18, 25), (26, 33)]}),\n",
       " 'http://www.youtube.com/watch?v=kFuxwAufWvQ': defaultdict(list,\n",
       "             {'spinning': [(2, 9),\n",
       "               (10, 17),\n",
       "               (18, 25),\n",
       "               (26, 33),\n",
       "               (34, 40),\n",
       "               (41, 47)],\n",
       "              'control': [(0, 1), (48, 55), (56, 63), (64, 71)]}),\n",
       " 'http://www.youtube.com/watch?v=oukupxRUA84': defaultdict(list,\n",
       "             {'spinning': [(4, 8),\n",
       "               (9, 12),\n",
       "               (28, 34),\n",
       "               (35, 41),\n",
       "               (42, 47),\n",
       "               (58, 64)],\n",
       "              'control': [(0, 3), (13, 20), (21, 27), (48, 52)]}),\n",
       " 'http://www.youtube.com/watch?v=Gt-WMpTP7IE': defaultdict(list,\n",
       "             {'spinning': [(1, 8),\n",
       "               (9, 16),\n",
       "               (17, 24),\n",
       "               (25, 32),\n",
       "               (33, 40),\n",
       "               (41, 48),\n",
       "               (49, 56),\n",
       "               (57, 63),\n",
       "               (64, 70)],\n",
       "              'control': [(0, 0), (71, 78), (79, 85)]}),\n",
       " 'http://www.youtube.com/watch?v=uWgI1w2fQhs': defaultdict(list,\n",
       "             {'spinning': [(3, 9), (10, 16), (17, 22), (23, 28)],\n",
       "              'control': [(0, 2), (29, 35), (36, 42)]}),\n",
       " 'http://www.youtube.com/watch?v=VAMZwnfAHyY': defaultdict(list,\n",
       "             {'spinning': [(3, 8), (9, 14), (15, 20)],\n",
       "              'control': [(0, 2), (21, 27), (28, 33)]}),\n",
       " 'http://www.youtube.com/watch?v=arn5UCMLlBo': defaultdict(list,\n",
       "             {'spinning': [(2, 8), (9, 15)], 'control': [(0, 1), (16, 18)]}),\n",
       " 'http://www.youtube.com/watch?v=5BVFjqo0FUY': defaultdict(list,\n",
       "             {'spinning': [(1, 8),\n",
       "               (9, 16),\n",
       "               (17, 24),\n",
       "               (36, 43),\n",
       "               (44, 51),\n",
       "               (52, 59),\n",
       "               (60, 67),\n",
       "               (68, 75),\n",
       "               (76, 82),\n",
       "               (83, 89),\n",
       "               (90, 96),\n",
       "               (97, 103),\n",
       "               (104, 110),\n",
       "               (111, 117),\n",
       "               (125, 131),\n",
       "               (132, 138),\n",
       "               (139, 145),\n",
       "               (146, 152),\n",
       "               (153, 159),\n",
       "               (160, 165),\n",
       "               (180, 186),\n",
       "               (187, 193),\n",
       "               (194, 199)],\n",
       "              'control': [(0, 0), (25, 30), (31, 35), (118, 124)]}),\n",
       " 'http://www.youtube.com/watch?v=2AS14wxMB-A': defaultdict(list,\n",
       "             {'spinning': [(6, 12), (13, 18)],\n",
       "              'control': [(0, 5), (19, 24), (25, 29)]}),\n",
       " 'http://www.youtube.com/watch?v=cxqsde-6V-c': defaultdict(list,\n",
       "             {'spinning': [(1, 7), (8, 14), (15, 20)],\n",
       "              'control': [(0, 0), (21, 27), (28, 33), (34, 39)]}),\n",
       " 'http://www.youtube.com/watch?v=ZHJr17Q4384': defaultdict(list,\n",
       "             {'spinning': [(2, 9),\n",
       "               (10, 17),\n",
       "               (18, 25),\n",
       "               (26, 33),\n",
       "               (34, 41),\n",
       "               (42, 49),\n",
       "               (50, 57),\n",
       "               (58, 65),\n",
       "               (66, 73),\n",
       "               (74, 81),\n",
       "               (82, 89),\n",
       "               (90, 96),\n",
       "               (97, 103),\n",
       "               (104, 110)],\n",
       "              'control': [(0, 1), (111, 114)]}),\n",
       " 'http://www.youtube.com/watch?v=NDcUGYlTy_4': defaultdict(list,\n",
       "             {'spinning': [(6, 12), (75, 81), (82, 88), (89, 95)],\n",
       "              'control': [(0, 5), (13, 20), (21, 28), (29, 36)]}),\n",
       " 'http://www.youtube.com/watch?v=sAgAvYT3D8s': defaultdict(list,\n",
       "             {'spinning': [(10, 15), (16, 20)],\n",
       "              'control': [(0, 4), (5, 9), (21, 28), (29, 36)]}),\n",
       " 'http://www.youtube.com/watch?v=wu5fgT-LkHs': defaultdict(list,\n",
       "             {'spinning': [(2, 8),\n",
       "               (9, 14),\n",
       "               (15, 20),\n",
       "               (30, 36),\n",
       "               (37, 43),\n",
       "               (44, 50),\n",
       "               (51, 57),\n",
       "               (58, 63)],\n",
       "              'control': [(0, 1), (21, 25), (26, 29), (64, 71)]}),\n",
       " 'http://www.youtube.com/watch?v=uNpUNkjNreg': defaultdict(list,\n",
       "             {'spinning': [(68, 75), (76, 83)],\n",
       "              'control': [(0, 7), (8, 15), (16, 23), (24, 31)]}),\n",
       " 'http://www.youtube.com/watch?v=gKED6S0eGYA': defaultdict(list,\n",
       "             {'spinning': [(1, 5), (6, 10)],\n",
       "              'control': [(0, 0), (11, 18), (19, 25)]}),\n",
       " 'http://www.youtube.com/watch?v=pgj_LKf6jL4': defaultdict(list,\n",
       "             {'spinning': [(51, 58)],\n",
       "              'control': [(0, 7), (8, 15), (16, 22), (23, 29)]}),\n",
       " 'http://www.youtube.com/watch?v=yCaymsrcNwA': defaultdict(list,\n",
       "             {'headbanging': [(1, 4)],\n",
       "              'control': [(0, 0), (5, 11), (12, 18), (19, 24)]}),\n",
       " 'http://www.youtube.com/watch?v=9zOrUA7Kn4o': defaultdict(list,\n",
       "             {'headbanging': [(1, 8), (9, 16), (17, 23)],\n",
       "              'control': [(0, 0), (24, 31), (32, 38), (39, 45)]}),\n",
       " 'http://www.youtube.com/watch?v=AGmXuSY4gx0': defaultdict(list,\n",
       "             {'armflapping': [(8, 15)],\n",
       "              'control': [(0, 7), (16, 22), (23, 28), (29, 34)]}),\n",
       " 'http://www.youtube.com/watch?v=JM8BHjJTSFM': defaultdict(list,\n",
       "             {'armflapping': [(3, 7), (40, 45), (46, 50)],\n",
       "              'control': [(0, 2), (8, 15), (16, 23), (24, 31)]}),\n",
       " 'http://www.youtube.com/watch?v=1vRklwIBC28': defaultdict(list,\n",
       "             {'headbanging': [(60, 66),\n",
       "               (67, 73),\n",
       "               (74, 80),\n",
       "               (81, 87),\n",
       "               (88, 94),\n",
       "               (100, 106),\n",
       "               (107, 113),\n",
       "               (114, 120)],\n",
       "              'armflapping': [(175, 182), (183, 190), (205, 212), (213, 219)],\n",
       "              'control': [(0, 7), (8, 15), (16, 23), (24, 31)]}),\n",
       " 'http://www.youtube.com/watch?v=I2rfPPinMHk': defaultdict(list,\n",
       "             {'armflapping': [(4, 8)],\n",
       "              'control': [(0, 3), (9, 15), (16, 22)]}),\n",
       " 'http://www.youtube.com/watch?v=0Vk9itex_ds': defaultdict(list,\n",
       "             {'headbanging': [(4, 10), (11, 17), (18, 24), (25, 30)],\n",
       "              'control': [(0, 3), (31, 32)]}),\n",
       " 'http://www.youtube.com/watch?v=Lw-MsQ2k6ZQ': defaultdict(list,\n",
       "             {'headbanging': [(10, 17)],\n",
       "              'control': [(0, 4), (5, 9), (18, 25), (26, 32)]}),\n",
       " 'http://www.youtube.com/watch?v=a5BuwkqtIa0': defaultdict(list,\n",
       "             {'headbanging': [(4, 9), (36, 40), (41, 44)],\n",
       "              'control': [(0, 3), (10, 16), (17, 23), (24, 29)]}),\n",
       " 'http://www.youtube.com/watch?v=k9MJ4pDQQ74': defaultdict(list,\n",
       "             {'headbanging': [(6, 10), (11, 14)], 'control': [(0, 5)]}),\n",
       " 'http://www.youtube.com/watch?v=8SrUO-NdSZU': defaultdict(list,\n",
       "             {'headbanging': [(2, 9),\n",
       "               (10, 16),\n",
       "               (17, 23),\n",
       "               (24, 30),\n",
       "               (31, 37),\n",
       "               (38, 44),\n",
       "               (45, 51),\n",
       "               (52, 58)],\n",
       "              'control': [(0, 1), (59, 66), (67, 73), (74, 80)]}),\n",
       " 'http://www.youtube.com/watch?v=B9hYEIjsHDA': defaultdict(list,\n",
       "             {'headbanging': [(2, 8), (9, 14), (15, 20)],\n",
       "              'control': [(0, 1), (21, 25), (26, 29)]}),\n",
       " 'http://www.youtube.com/watch?v=nwLp0k1xa0o': defaultdict(list,\n",
       "             {'headbanging': [(55, 59), (60, 64)],\n",
       "              'control': [(0, 7), (8, 15), (16, 23), (24, 31)]}),\n",
       " 'http://www.youtube.com/watch?v=UxpQpWzhOx0': defaultdict(list,\n",
       "             {'armflapping': [(2, 6),\n",
       "               (41, 48),\n",
       "               (49, 55),\n",
       "               (60, 67),\n",
       "               (68, 75),\n",
       "               (76, 82),\n",
       "               (83, 89),\n",
       "               (94, 98),\n",
       "               (99, 102),\n",
       "               (110, 114),\n",
       "               (115, 118)],\n",
       "              'control': [(0, 1), (7, 13), (14, 20), (21, 27)]}),\n",
       " 'http://www.youtube.com/watch?v=xeKKMkVgNPU': defaultdict(list,\n",
       "             {'armflapping': [(3, 9), (60, 65), (66, 70)],\n",
       "              'spinning': [(49, 53), (54, 57)],\n",
       "              'control': [(0, 2), (10, 17), (18, 25), (26, 33)]}),\n",
       " 'http://www.youtube.com/watch?v=WLtorzPESbc': defaultdict(list,\n",
       "             {'headbanging': [(10, 14), (15, 19)],\n",
       "              'control': [(0, 4), (5, 9), (20, 22)]}),\n",
       " 'http://www.youtube.com/watch?v=5WTHMIJ_61I': defaultdict(list,\n",
       "             {'headbanging': [(2, 7), (8, 12)],\n",
       "              'control': [(0, 1), (13, 20), (21, 28), (29, 36)]}),\n",
       " 'http://www.youtube.com/watch?v=pzPhXbGEpSo': defaultdict(list,\n",
       "             {'headbanging': [(16, 23), (24, 30), (34, 39)],\n",
       "              'control': [(0, 7), (8, 15), (31, 33), (40, 46)]}),\n",
       " 'http://www.youtube.com/watch?v=aNaC46cUOJo': defaultdict(list,\n",
       "             {'headbanging': [(16, 22)],\n",
       "              'control': [(0, 7), (8, 15), (23, 30), (31, 38)]}),\n",
       " 'http://www.youtube.com/watch?v=C_O8vyrSt0Q': defaultdict(list,\n",
       "             {'armflapping': [(5, 10),\n",
       "               (11, 15),\n",
       "               (30, 37),\n",
       "               (38, 44),\n",
       "               (55, 62),\n",
       "               (63, 70),\n",
       "               (85, 92),\n",
       "               (93, 100),\n",
       "               (125, 132),\n",
       "               (133, 139)],\n",
       "              'control': [(0, 4), (16, 22), (23, 29), (45, 49)]}),\n",
       " 'http://www.youtube.com/watch?v=AQ-jO6O5gow': defaultdict(list,\n",
       "             {'armflapping': [(7, 11), (12, 16)],\n",
       "              'control': [(0, 6), (17, 22)]}),\n",
       " 'http://www.youtube.com/watch?v=MOt-6FAEP_g': defaultdict(list,\n",
       "             {'armflapping': [(94, 98)],\n",
       "              'control': [(0, 7), (8, 15), (16, 23), (24, 31)]}),\n",
       " 'http://www.youtube.com/watch?v=5Ps9iE8mPqY': defaultdict(list,\n",
       "             {'armflapping': [(18, 21),\n",
       "               (47, 51),\n",
       "               (70, 77),\n",
       "               (90, 96),\n",
       "               (97, 102),\n",
       "               (103, 108),\n",
       "               (122, 128),\n",
       "               (129, 134),\n",
       "               (195, 200),\n",
       "               (218, 223)],\n",
       "              'control': [(0, 5), (6, 11), (12, 17), (22, 28)]}),\n",
       " 'http://www.youtube.com/watch?v=Pa-pdBF4FFA': defaultdict(list,\n",
       "             {'headbanging': [(36, 39)],\n",
       "              'control': [(0, 7), (8, 14), (15, 21), (22, 28)]}),\n",
       " 'http://www.youtube.com/watch?v=Lex0gIMd73g': defaultdict(list,\n",
       "             {'headbanging': [(3, 10), (11, 17)],\n",
       "              'control': [(0, 2), (18, 19)]})}"
      ]
     },
     "execution_count": 14,
     "metadata": {},
     "output_type": "execute_result"
    }
   ],
   "source": [
    "links_to_times"
   ]
  },
  {
   "cell_type": "code",
   "execution_count": 6,
   "metadata": {},
   "outputs": [],
   "source": [
    "# pickle this just incase \n",
    "import pickle \n",
    "with open(\"links_to_times.pkl\", 'wb') as f:\n",
    "    pickle.dump(links_to_times, f)"
   ]
  },
  {
   "cell_type": "code",
   "execution_count": 16,
   "metadata": {
    "scrolled": true
   },
   "outputs": [
    {
     "name": "stdout",
     "output_type": "stream",
     "text": [
      "staring the 1th file\n",
      "http://www.youtube.com/watch?v=Pqd9Vu-juPI\n",
      "This is url:  http://www.youtube.com/watch?v=Pqd9Vu-juPI\n",
      "annoying url: http://www.youtube.com/watch?v=Pqd9Vu-juPI\n",
      "Pqd9Vu-juPI is a private video\n",
      "staring the 2th file\n",
      "http://www.youtube.com/watch?v=yMgx2lVjf5I\n",
      "This is url:  http://www.youtube.com/watch?v=yMgx2lVjf5I\n"
     ]
    },
    {
     "name": "stderr",
     "output_type": "stream",
     "text": [
      "t:  62%|██████▏   | 111/180 [30:43<00:00, 687.37it/s, now=None]\n",
      "chunk:   0%|          | 0/133 [00:00<?, ?it/s, now=None]\u001b[A\n",
      "                                                               \r"
     ]
    },
    {
     "name": "stdout",
     "output_type": "stream",
     "text": [
      "['.DS_Store']\n",
      "adding file\n",
      "Moviepy - Building video behavior_data/headbanging/0.mp4.\n",
      "MoviePy - Writing audio in 0TEMP_MPY_wvf_snd.mp4\n",
      "MoviePy - Done.\n"
     ]
    },
    {
     "name": "stderr",
     "output_type": "stream",
     "text": [
      "t:  62%|██████▏   | 111/180 [30:43<00:00, 687.37it/s, now=None]\n",
      "t:   0%|          | 0/180 [00:00<?, ?it/s, now=None]\u001b[A\n",
      "t:  36%|███▌      | 64/180 [00:00<00:00, 639.29it/s, now=None]\u001b[A"
     ]
    },
    {
     "name": "stdout",
     "output_type": "stream",
     "text": [
      "Moviepy - Writing video behavior_data/headbanging/0.mp4\n",
      "\n"
     ]
    },
    {
     "name": "stderr",
     "output_type": "stream",
     "text": [
      "\n",
      "t:  71%|███████   | 128/180 [00:00<00:00, 528.44it/s, now=None]\u001b[A\n",
      "t:  62%|██████▏   | 111/180 [30:44<00:00, 687.37it/s, now=None]\u001b[A\n"
     ]
    },
    {
     "name": "stdout",
     "output_type": "stream",
     "text": [
      "Moviepy - Done !\n",
      "Moviepy - video ready behavior_data/headbanging/0.mp4\n",
      "['.DS_Store', '0.mp4']\n",
      "adding file\n",
      "Moviepy - Building video behavior_data/headbanging/1.mp4.\n",
      "MoviePy - Writing audio in 1TEMP_MPY_wvf_snd.mp4\n"
     ]
    },
    {
     "name": "stderr",
     "output_type": "stream",
     "text": [
      "chunk:   0%|          | 0/155 [00:00<?, ?it/s, now=None]\u001b[A\n",
      "t:  62%|██████▏   | 111/180 [30:44<00:00, 687.37it/s, now=None]\n",
      "t:   0%|          | 0/210 [00:00<?, ?it/s, now=None]\u001b[A\n",
      "t:  31%|███▏      | 66/210 [00:00<00:00, 657.01it/s, now=None]\u001b[A"
     ]
    },
    {
     "name": "stdout",
     "output_type": "stream",
     "text": [
      "MoviePy - Done.\n",
      "Moviepy - Writing video behavior_data/headbanging/1.mp4\n",
      "\n"
     ]
    },
    {
     "name": "stderr",
     "output_type": "stream",
     "text": [
      "\n",
      "t:  63%|██████▎   | 132/210 [00:00<00:00, 578.78it/s, now=None]\u001b[A\n",
      "t:  91%|█████████ | 191/210 [00:00<00:00, 548.49it/s, now=None]\u001b[A\n",
      "t:  62%|██████▏   | 111/180 [30:44<00:00, 687.37it/s, now=None]\u001b[A\n",
      "chunk:   0%|          | 0/155 [00:00<?, ?it/s, now=None]\u001b[A"
     ]
    },
    {
     "name": "stdout",
     "output_type": "stream",
     "text": [
      "Moviepy - Done !\n",
      "Moviepy - video ready behavior_data/headbanging/1.mp4\n",
      "['1.mp4', '.DS_Store', '0.mp4']\n",
      "adding file\n",
      "Moviepy - Building video behavior_data/headbanging/2.mp4.\n",
      "MoviePy - Writing audio in 2TEMP_MPY_wvf_snd.mp4\n"
     ]
    },
    {
     "name": "stderr",
     "output_type": "stream",
     "text": [
      "\n",
      "t:  62%|██████▏   | 111/180 [30:45<00:00, 687.37it/s, now=None]\n",
      "t:   0%|          | 0/210 [00:00<?, ?it/s, now=None]\u001b[A\n",
      "t:  28%|██▊       | 58/210 [00:00<00:00, 573.22it/s, now=None]\u001b[A"
     ]
    },
    {
     "name": "stdout",
     "output_type": "stream",
     "text": [
      "MoviePy - Done.\n",
      "Moviepy - Writing video behavior_data/headbanging/2.mp4\n",
      "\n"
     ]
    },
    {
     "name": "stderr",
     "output_type": "stream",
     "text": [
      "\n",
      "t:  55%|█████▌    | 116/210 [00:00<00:00, 548.39it/s, now=None]\u001b[A\n",
      "t:  81%|████████▏ | 171/210 [00:00<00:00, 530.51it/s, now=None]\u001b[A\n",
      "t:  62%|██████▏   | 111/180 [30:45<00:00, 687.37it/s, now=None]\u001b[A"
     ]
    },
    {
     "name": "stdout",
     "output_type": "stream",
     "text": [
      "Moviepy - Done !\n",
      "Moviepy - video ready behavior_data/headbanging/2.mp4\n",
      "['1.mp4', '.DS_Store', '0.mp4', '2.mp4']\n",
      "adding file\n",
      "Moviepy - Building video behavior_data/headbanging/3.mp4.\n",
      "MoviePy - Writing audio in 3TEMP_MPY_wvf_snd.mp4\n"
     ]
    },
    {
     "name": "stderr",
     "output_type": "stream",
     "text": [
      "\n",
      "chunk:   0%|          | 0/133 [00:00<?, ?it/s, now=None]\u001b[A\n",
      "t:  62%|██████▏   | 111/180 [30:45<00:00, 687.37it/s, now=None]\n",
      "t:   0%|          | 0/180 [00:00<?, ?it/s, now=None]\u001b[A\n",
      "t:  38%|███▊      | 69/180 [00:00<00:00, 688.05it/s, now=None]\u001b[A"
     ]
    },
    {
     "name": "stdout",
     "output_type": "stream",
     "text": [
      "MoviePy - Done.\n",
      "Moviepy - Writing video behavior_data/headbanging/3.mp4\n",
      "\n"
     ]
    },
    {
     "name": "stderr",
     "output_type": "stream",
     "text": [
      "\n",
      "t:  77%|███████▋  | 138/180 [00:00<00:00, 562.44it/s, now=None]\u001b[A\n",
      "t:  62%|██████▏   | 111/180 [30:46<00:00, 687.37it/s, now=None]\u001b[A\n",
      "chunk:   0%|          | 0/1 [00:00<?, ?it/s, now=None]\u001b[A"
     ]
    },
    {
     "name": "stdout",
     "output_type": "stream",
     "text": [
      "Moviepy - Done !\n",
      "Moviepy - video ready behavior_data/headbanging/3.mp4\n",
      "['.DS_Store']\n",
      "adding file\n",
      "Moviepy - Building video behavior_data/control/4.mp4.\n",
      "MoviePy - Writing audio in 4TEMP_MPY_wvf_snd.mp4\n",
      "failed on 4\n"
     ]
    },
    {
     "name": "stderr",
     "output_type": "stream",
     "text": [
      "                                                               \n",
      "t:  62%|██████▏   | 111/180 [30:46<00:00, 687.37it/s, now=None]\n",
      "                                                               [A\n",
      "t:  62%|██████▏   | 111/180 [30:46<00:00, 687.37it/s, now=None]\n",
      "chunk: 100%|██████████| 1/1 [00:00<00:00,  4.96it/s, now=None]\u001b[A\n",
      "\n",
      "chunk:   0%|          | 0/89 [00:00<?, ?it/s, now=None]\u001b[A\u001b[A"
     ]
    },
    {
     "name": "stdout",
     "output_type": "stream",
     "text": [
      "['.DS_Store']\n",
      "adding file\n",
      "Moviepy - Building video behavior_data/control/5.mp4.\n",
      "MoviePy - Writing audio in 5TEMP_MPY_wvf_snd.mp4\n"
     ]
    },
    {
     "name": "stderr",
     "output_type": "stream",
     "text": [
      "\n",
      "\n",
      "                                                               \n",
      "t:  62%|██████▏   | 111/180 [30:46<00:00, 687.37it/s, now=None]\n",
      "                                                               [A\n",
      "t:  62%|██████▏   | 111/180 [30:46<00:00, 687.37it/s, now=None]\n",
      "chunk: 100%|██████████| 1/1 [00:00<00:00,  3.68it/s, now=None]\u001b[A\n",
      "\n",
      "t:   0%|          | 0/120 [00:00<?, ?it/s, now=None]\u001b[A\u001b[A\n",
      "\n",
      "t:  57%|█████▊    | 69/120 [00:00<00:00, 685.98it/s, now=None]\u001b[A\u001b[A"
     ]
    },
    {
     "name": "stdout",
     "output_type": "stream",
     "text": [
      "MoviePy - Done.\n",
      "Moviepy - Writing video behavior_data/control/5.mp4\n",
      "\n"
     ]
    },
    {
     "name": "stderr",
     "output_type": "stream",
     "text": [
      "\n",
      "\n",
      "                                                               [A\u001b[A\n",
      "t:  62%|██████▏   | 111/180 [30:47<00:00, 687.37it/s, now=None]\n",
      "                                                               [A\n",
      "t:  62%|██████▏   | 111/180 [30:47<00:00, 687.37it/s, now=None]\n",
      "                                                               [A\n",
      "t:  62%|██████▏   | 111/180 [30:47<00:00, 687.37it/s, now=None]\n",
      "                                                               [A\n",
      "t:  62%|██████▏   | 111/180 [30:47<00:00, 687.37it/s, now=None]\n",
      "chunk: 100%|██████████| 1/1 [00:00<00:00,  1.30it/s, now=None]\u001b[A\n",
      "\n",
      "chunk:   0%|          | 0/89 [00:00<?, ?it/s, now=None]\u001b[A\u001b[A"
     ]
    },
    {
     "name": "stdout",
     "output_type": "stream",
     "text": [
      "Moviepy - Done !\n",
      "Moviepy - video ready behavior_data/control/5.mp4\n",
      "['5.mp4', '.DS_Store']\n",
      "adding file\n",
      "Moviepy - Building video behavior_data/control/6.mp4.\n",
      "MoviePy - Writing audio in 6TEMP_MPY_wvf_snd.mp4\n"
     ]
    },
    {
     "name": "stderr",
     "output_type": "stream",
     "text": [
      "\n",
      "\n",
      "                                                               \n",
      "t:  62%|██████▏   | 111/180 [30:47<00:00, 687.37it/s, now=None]\n",
      "                                                               [A\n",
      "t:  62%|██████▏   | 111/180 [30:47<00:00, 687.37it/s, now=None]\n",
      "chunk: 100%|██████████| 1/1 [00:00<00:00,  1.19it/s, now=None]\u001b[A\n",
      "\n",
      "t:   0%|          | 0/120 [00:00<?, ?it/s, now=None]\u001b[A\u001b[A\n",
      "\n",
      "t:  57%|█████▋    | 68/120 [00:00<00:00, 679.32it/s, now=None]\u001b[A\u001b[A"
     ]
    },
    {
     "name": "stdout",
     "output_type": "stream",
     "text": [
      "MoviePy - Done.\n",
      "Moviepy - Writing video behavior_data/control/6.mp4\n",
      "\n"
     ]
    },
    {
     "name": "stderr",
     "output_type": "stream",
     "text": [
      "\n",
      "\n",
      "                                                               [A\u001b[A\n",
      "t:  62%|██████▏   | 111/180 [30:47<00:00, 687.37it/s, now=None]\n",
      "                                                               [A\n",
      "t:  62%|██████▏   | 111/180 [30:47<00:00, 687.37it/s, now=None]\n",
      "                                                               [A\n",
      "t:  62%|██████▏   | 111/180 [30:47<00:00, 687.37it/s, now=None]\n",
      "                                                               [A\n",
      "t:  62%|██████▏   | 111/180 [30:47<00:00, 687.37it/s, now=None]\n",
      "chunk: 100%|██████████| 1/1 [00:01<00:00,  1.34s/it, now=None]\u001b[A\n",
      "\n",
      "chunk:   0%|          | 0/89 [00:00<?, ?it/s, now=None]"
     ]
    },
    {
     "name": "stdout",
     "output_type": "stream",
     "text": [
      "Moviepy - Done !\n",
      "Moviepy - video ready behavior_data/control/6.mp4\n",
      "['6.mp4', '5.mp4', '.DS_Store']\n",
      "adding file\n",
      "Moviepy - Building video behavior_data/control/7.mp4.\n",
      "MoviePy - Writing audio in 7TEMP_MPY_wvf_snd.mp4\n"
     ]
    },
    {
     "name": "stderr",
     "output_type": "stream",
     "text": [
      "\u001b[A\u001b[A\n",
      "\n",
      "                                                               \n",
      "t:  62%|██████▏   | 111/180 [30:47<00:00, 687.37it/s, now=None]\n",
      "                                                               [A\n",
      "t:  62%|██████▏   | 111/180 [30:47<00:00, 687.37it/s, now=None]\n",
      "chunk: 100%|██████████| 1/1 [00:01<00:00,  1.42s/it, now=None]\u001b[A\n",
      "\n",
      "t:   0%|          | 0/120 [00:00<?, ?it/s, now=None]\u001b[A\u001b[A\n",
      "\n",
      "t:  56%|█████▌    | 67/120 [00:00<00:00, 668.20it/s, now=None]\u001b[A\u001b[A"
     ]
    },
    {
     "name": "stdout",
     "output_type": "stream",
     "text": [
      "MoviePy - Done.\n",
      "Moviepy - Writing video behavior_data/control/7.mp4\n",
      "\n"
     ]
    },
    {
     "name": "stderr",
     "output_type": "stream",
     "text": [
      "\n",
      "\n",
      "                                                               [A\u001b[A\n",
      "t:  62%|██████▏   | 111/180 [30:48<00:00, 687.37it/s, now=None]\n",
      "                                                               [A\n",
      "t:  62%|██████▏   | 111/180 [30:48<00:00, 687.37it/s, now=None]\n",
      "chunk: 100%|██████████| 1/1 [00:01<00:00,  1.73s/it, now=None]\u001b[A"
     ]
    },
    {
     "name": "stdout",
     "output_type": "stream",
     "text": [
      "Moviepy - Done !\n",
      "Moviepy - video ready behavior_data/control/7.mp4\n",
      "staring the 3th file\n",
      "http://www.youtube.com/watch?v=WRGUUOZ5_wA\n",
      "This is url:  http://www.youtube.com/watch?v=WRGUUOZ5_wA\n",
      "['.DS_Store']\n",
      "adding file\n"
     ]
    },
    {
     "name": "stderr",
     "output_type": "stream",
     "text": [
      "                                                               \n",
      "t:  62%|██████▏   | 111/180 [30:52<00:00, 687.37it/s, now=None]\n",
      "                                                               [A\n",
      "t:  62%|██████▏   | 111/180 [30:52<00:00, 687.37it/s, now=None]\n",
      "chunk: 100%|██████████| 1/1 [00:05<00:00,  5.90s/it, now=None]\u001b[A\n",
      "\n",
      "chunk:   0%|          | 0/155 [00:00<?, ?it/s, now=None]\u001b[A\u001b[A\n",
      "\n",
      "chunk:  65%|██████▍   | 100/155 [00:00<00:00, 987.26it/s, now=None]\u001b[A\u001b[A\n",
      "\n",
      "                                                                   \u001b[A\u001b[A\n",
      "t:  62%|██████▏   | 111/180 [30:52<00:00, 687.37it/s, now=None]\n",
      "                                                               [A\n",
      "t:  62%|██████▏   | 111/180 [30:52<00:00, 687.37it/s, now=None]\n",
      "chunk: 100%|██████████| 1/1 [00:06<00:00,  6.07s/it, now=None]\u001b[A\n",
      "\n",
      "t:   0%|          | 0/168 [00:00<?, ?it/s, now=None]\u001b[A\u001b[A"
     ]
    },
    {
     "name": "stdout",
     "output_type": "stream",
     "text": [
      "Moviepy - Building video behavior_data/armflapping/8.mp4.\n",
      "MoviePy - Writing audio in 8TEMP_MPY_wvf_snd.mp4\n",
      "MoviePy - Done.\n",
      "Moviepy - Writing video behavior_data/armflapping/8.mp4\n",
      "\n"
     ]
    },
    {
     "name": "stderr",
     "output_type": "stream",
     "text": [
      "\n",
      "\n",
      "t:  14%|█▍        | 24/168 [00:00<00:00, 233.81it/s, now=None]\u001b[A\u001b[A\n",
      "\n",
      "t:  29%|██▊       | 48/168 [00:00<00:00, 217.35it/s, now=None]\u001b[A\u001b[A\n",
      "\n",
      "t:  42%|████▏     | 70/168 [00:00<00:00, 177.93it/s, now=None]\u001b[A\u001b[A\n",
      "\n",
      "t:  53%|█████▎    | 89/168 [00:00<00:00, 163.75it/s, now=None]\u001b[A\u001b[A\n",
      "\n",
      "t:  63%|██████▎   | 106/168 [00:00<00:00, 162.40it/s, now=None]\u001b[A\u001b[A\n",
      "\n",
      "t:  73%|███████▎  | 123/168 [00:00<00:00, 151.73it/s, now=None]\u001b[A\u001b[A\n",
      "\n",
      "t:  83%|████████▎ | 139/168 [00:00<00:00, 149.78it/s, now=None]\u001b[A\u001b[A\n",
      "\n",
      "t:  92%|█████████▏| 155/168 [00:00<00:00, 140.67it/s, now=None]\u001b[A\u001b[A\n",
      "\n",
      "                                                               \u001b[A\u001b[A\n",
      "t:  62%|██████▏   | 111/180 [30:54<00:00, 687.37it/s, now=None]\n",
      "                                                               [A\n",
      "t:  62%|██████▏   | 111/180 [30:54<00:00, 687.37it/s, now=None]\n",
      "chunk: 100%|██████████| 1/1 [00:07<00:00,  7.65s/it, now=None]\u001b[A\n",
      "                                                              \u001b[A"
     ]
    },
    {
     "name": "stdout",
     "output_type": "stream",
     "text": [
      "Moviepy - Done !\n",
      "Moviepy - video ready behavior_data/armflapping/8.mp4\n",
      "['.DS_Store', '8.mp4']\n",
      "adding file\n"
     ]
    },
    {
     "name": "stderr",
     "output_type": "stream",
     "text": [
      "t:  62%|██████▏   | 111/180 [30:54<00:00, 687.37it/s, now=None]\n",
      "chunk:   0%|          | 0/155 [00:00<?, ?it/s, now=None]\u001b[A\n",
      "chunk:  77%|███████▋  | 120/155 [00:00<00:00, 1185.26it/s, now=None]\u001b[A\n",
      "t:  62%|██████▏   | 111/180 [30:54<00:00, 687.37it/s, now=None]     \u001b[A\n",
      "t:   0%|          | 0/168 [00:00<?, ?it/s, now=None]\u001b[A"
     ]
    },
    {
     "name": "stdout",
     "output_type": "stream",
     "text": [
      "Moviepy - Building video behavior_data/armflapping/9.mp4.\n",
      "MoviePy - Writing audio in 9TEMP_MPY_wvf_snd.mp4\n",
      "MoviePy - Done.\n",
      "Moviepy - Writing video behavior_data/armflapping/9.mp4\n",
      "\n"
     ]
    },
    {
     "name": "stderr",
     "output_type": "stream",
     "text": [
      "\n",
      "t:  14%|█▍        | 24/168 [00:00<00:00, 232.59it/s, now=None]\u001b[A\n",
      "t:  29%|██▊       | 48/168 [00:00<00:00, 197.87it/s, now=None]\u001b[A\n",
      "t:  41%|████      | 69/168 [00:00<00:00, 170.63it/s, now=None]\u001b[A\n",
      "t:  52%|█████▏    | 87/168 [00:00<00:00, 164.66it/s, now=None]\u001b[A\n",
      "t:  62%|██████▎   | 105/168 [00:00<00:00, 167.57it/s, now=None]\u001b[A\n",
      "t:  73%|███████▎  | 122/168 [00:00<00:00, 153.86it/s, now=None]\u001b[A\n",
      "t:  82%|████████▏ | 138/168 [00:00<00:00, 146.64it/s, now=None]\u001b[A\n",
      "t:  91%|█████████ | 153/168 [00:00<00:00, 146.09it/s, now=None]\u001b[A\n",
      "t: 100%|██████████| 168/168 [00:01<00:00, 136.98it/s, now=None]\u001b[A\n",
      "t:  62%|██████▏   | 111/180 [30:56<00:00, 687.37it/s, now=None]\u001b[A"
     ]
    },
    {
     "name": "stdout",
     "output_type": "stream",
     "text": [
      "Moviepy - Done !\n",
      "Moviepy - video ready behavior_data/armflapping/9.mp4\n"
     ]
    },
    {
     "name": "stderr",
     "output_type": "stream",
     "text": [
      "t:  62%|██████▏   | 111/180 [30:56<00:00, 687.37it/s, now=None]\n",
      "chunk:   0%|          | 0/155 [00:00<?, ?it/s, now=None]\u001b[A"
     ]
    },
    {
     "name": "stdout",
     "output_type": "stream",
     "text": [
      "['7.mp4', '6.mp4', '5.mp4', '.DS_Store']\n",
      "adding file\n",
      "Moviepy - Building video behavior_data/control/10.mp4.\n",
      "MoviePy - Writing audio in 10TEMP_MPY_wvf_snd.mp4\n"
     ]
    },
    {
     "name": "stderr",
     "output_type": "stream",
     "text": [
      "\n",
      "t:  62%|██████▏   | 111/180 [30:56<00:00, 687.37it/s, now=None]\n",
      "t:   0%|          | 0/168 [00:00<?, ?it/s, now=None]\u001b[A\n",
      "t:  15%|█▍        | 25/168 [00:00<00:00, 238.02it/s, now=None]\u001b[A"
     ]
    },
    {
     "name": "stdout",
     "output_type": "stream",
     "text": [
      "MoviePy - Done.\n",
      "Moviepy - Writing video behavior_data/control/10.mp4\n",
      "\n"
     ]
    },
    {
     "name": "stderr",
     "output_type": "stream",
     "text": [
      "\n",
      "t:  29%|██▉       | 49/168 [00:00<00:00, 236.78it/s, now=None]\u001b[A\n",
      "t:  43%|████▎     | 73/168 [00:00<00:00, 164.07it/s, now=None]\u001b[A\n",
      "t:  55%|█████▍    | 92/168 [00:00<00:00, 161.14it/s, now=None]\u001b[A\n",
      "t:  65%|██████▌   | 110/168 [00:00<00:00, 150.67it/s, now=None]\u001b[A\n",
      "t:  77%|███████▋  | 130/168 [00:00<00:00, 158.80it/s, now=None]\u001b[A\n",
      "t:  88%|████████▊ | 147/168 [00:00<00:00, 158.19it/s, now=None]\u001b[A\n",
      "t:  98%|█████████▊| 164/168 [00:00<00:00, 157.07it/s, now=None]\u001b[A\n",
      "t:  62%|██████▏   | 111/180 [30:58<00:00, 687.37it/s, now=None]\u001b[A"
     ]
    },
    {
     "name": "stdout",
     "output_type": "stream",
     "text": [
      "Moviepy - Done !\n",
      "Moviepy - video ready behavior_data/control/10.mp4\n",
      "['7.mp4', '6.mp4', '5.mp4', '.DS_Store', '10.mp4']\n",
      "adding file\n"
     ]
    },
    {
     "name": "stderr",
     "output_type": "stream",
     "text": [
      "t:  62%|██████▏   | 111/180 [30:58<00:00, 687.37it/s, now=None]\n",
      "chunk:   0%|          | 0/155 [00:00<?, ?it/s, now=None]\u001b[A\n",
      "chunk:  99%|█████████▉| 154/155 [00:00<00:00, 1519.40it/s, now=None]\u001b[A\n",
      "t:  62%|██████▏   | 111/180 [30:58<00:00, 687.37it/s, now=None]     \u001b[A\n",
      "t:   0%|          | 0/168 [00:00<?, ?it/s, now=None]\u001b[A"
     ]
    },
    {
     "name": "stdout",
     "output_type": "stream",
     "text": [
      "Moviepy - Building video behavior_data/control/11.mp4.\n",
      "MoviePy - Writing audio in 11TEMP_MPY_wvf_snd.mp4\n",
      "MoviePy - Done.\n",
      "Moviepy - Writing video behavior_data/control/11.mp4\n",
      "\n"
     ]
    },
    {
     "name": "stderr",
     "output_type": "stream",
     "text": [
      "\n",
      "t:  15%|█▍        | 25/168 [00:00<00:00, 244.42it/s, now=None]\u001b[A\n",
      "t:  30%|██▉       | 50/168 [00:00<00:00, 244.41it/s, now=None]\u001b[A\n",
      "t:  45%|████▍     | 75/168 [00:00<00:00, 205.10it/s, now=None]\u001b[A\n",
      "t:  58%|█████▊    | 97/168 [00:00<00:00, 192.32it/s, now=None]\u001b[A\n",
      "t:  71%|███████   | 119/168 [00:00<00:00, 200.93it/s, now=None]\u001b[A\n",
      "t:  83%|████████▎ | 140/168 [00:00<00:00, 189.65it/s, now=None]\u001b[A\n",
      "t:  97%|█████████▋| 163/168 [00:00<00:00, 199.73it/s, now=None]\u001b[A\n",
      "t:  62%|██████▏   | 111/180 [30:59<00:00, 687.37it/s, now=None]\u001b[A"
     ]
    },
    {
     "name": "stdout",
     "output_type": "stream",
     "text": [
      "Moviepy - Done !\n",
      "Moviepy - video ready behavior_data/control/11.mp4\n",
      "['7.mp4', '6.mp4', '5.mp4', '.DS_Store', '11.mp4', '10.mp4']\n",
      "adding file\n"
     ]
    },
    {
     "name": "stderr",
     "output_type": "stream",
     "text": [
      "t:  62%|██████▏   | 111/180 [31:00<00:00, 687.37it/s, now=None]\n",
      "chunk:   0%|          | 0/155 [00:00<?, ?it/s, now=None]\u001b[A\n",
      "t:  62%|██████▏   | 111/180 [31:00<00:00, 687.37it/s, now=None]\n",
      "t:   0%|          | 0/168 [00:00<?, ?it/s, now=None]\u001b[A"
     ]
    },
    {
     "name": "stdout",
     "output_type": "stream",
     "text": [
      "Moviepy - Building video behavior_data/control/12.mp4.\n",
      "MoviePy - Writing audio in 12TEMP_MPY_wvf_snd.mp4\n",
      "MoviePy - Done.\n",
      "Moviepy - Writing video behavior_data/control/12.mp4\n",
      "\n"
     ]
    },
    {
     "name": "stderr",
     "output_type": "stream",
     "text": [
      "\n",
      "t:  12%|█▏        | 20/168 [00:00<00:00, 199.00it/s, now=None]\u001b[A\n",
      "t:  27%|██▋       | 46/168 [00:00<00:00, 229.32it/s, now=None]\u001b[A\n",
      "t:  41%|████      | 69/168 [00:00<00:00, 171.14it/s, now=None]\u001b[A\n",
      "t:  52%|█████▏    | 88/168 [00:00<00:00, 172.13it/s, now=None]\u001b[A\n",
      "t:  64%|██████▎   | 107/168 [00:00<00:00, 138.70it/s, now=None]\u001b[A\n",
      "t:  76%|███████▌  | 127/168 [00:00<00:00, 153.67it/s, now=None]\u001b[A\n",
      "t:  86%|████████▌ | 144/168 [00:00<00:00, 150.39it/s, now=None]\u001b[A\n",
      "t:  96%|█████████▌| 161/168 [00:01<00:00, 155.23it/s, now=None]\u001b[A\n",
      "t:  62%|██████▏   | 111/180 [31:01<00:00, 687.37it/s, now=None]\u001b[A"
     ]
    },
    {
     "name": "stdout",
     "output_type": "stream",
     "text": [
      "Moviepy - Done !\n",
      "Moviepy - video ready behavior_data/control/12.mp4\n",
      "['7.mp4', '6.mp4', '5.mp4', '.DS_Store', '11.mp4', '10.mp4', '12.mp4']\n",
      "adding file\n"
     ]
    },
    {
     "name": "stderr",
     "output_type": "stream",
     "text": [
      "t:  62%|██████▏   | 111/180 [31:02<00:00, 687.37it/s, now=None]\n",
      "chunk:   0%|          | 0/155 [00:00<?, ?it/s, now=None]\u001b[A\n",
      "chunk:  94%|█████████▍| 146/155 [00:00<00:00, 1458.54it/s, now=None]\u001b[A\n",
      "t:  62%|██████▏   | 111/180 [31:02<00:00, 687.37it/s, now=None]     \u001b[A\n",
      "t:   0%|          | 0/168 [00:00<?, ?it/s, now=None]\u001b[A"
     ]
    },
    {
     "name": "stdout",
     "output_type": "stream",
     "text": [
      "Moviepy - Building video behavior_data/control/13.mp4.\n",
      "MoviePy - Writing audio in 13TEMP_MPY_wvf_snd.mp4\n",
      "MoviePy - Done.\n",
      "Moviepy - Writing video behavior_data/control/13.mp4\n",
      "\n"
     ]
    },
    {
     "name": "stderr",
     "output_type": "stream",
     "text": [
      "\n",
      "t:  14%|█▍        | 24/168 [00:00<00:00, 233.85it/s, now=None]\u001b[A\n",
      "t:  29%|██▊       | 48/168 [00:00<00:00, 234.76it/s, now=None]\u001b[A\n",
      "t:  43%|████▎     | 72/168 [00:00<00:00, 173.63it/s, now=None]\u001b[A\n",
      "t:  54%|█████▍    | 91/168 [00:00<00:00, 170.92it/s, now=None]\u001b[A\n",
      "t:  65%|██████▍   | 109/168 [00:00<00:00, 172.18it/s, now=None]\u001b[A\n",
      "t:  76%|███████▌  | 127/168 [00:00<00:00, 147.66it/s, now=None]\u001b[A\n",
      "t:  88%|████████▊ | 147/168 [00:00<00:00, 157.74it/s, now=None]\u001b[A\n",
      "t:  98%|█████████▊| 164/168 [00:00<00:00, 159.53it/s, now=None]\u001b[A\n",
      "t:  62%|██████▏   | 111/180 [31:03<00:00, 687.37it/s, now=None]\u001b[A"
     ]
    },
    {
     "name": "stdout",
     "output_type": "stream",
     "text": [
      "Moviepy - Done !\n",
      "Moviepy - video ready behavior_data/control/13.mp4\n",
      "staring the 4th file\n",
      "http://www.youtube.com/watch?v=8vFUIFEfRpA\n",
      "This is url:  http://www.youtube.com/watch?v=8vFUIFEfRpA\n",
      "['.DS_Store', '8.mp4', '9.mp4']\n",
      "adding file\n"
     ]
    },
    {
     "name": "stderr",
     "output_type": "stream",
     "text": [
      "t:  62%|██████▏   | 111/180 [31:07<00:00, 687.37it/s, now=None]\n",
      "chunk:   0%|          | 0/133 [00:00<?, ?it/s, now=None]\u001b[A\n",
      "t:  62%|██████▏   | 111/180 [31:07<00:00, 687.37it/s, now=None]\n",
      "t:   0%|          | 0/90 [00:00<?, ?it/s, now=None]\u001b[A\n",
      "t:  30%|███       | 27/90 [00:00<00:00, 269.56it/s, now=None]\u001b[A"
     ]
    },
    {
     "name": "stdout",
     "output_type": "stream",
     "text": [
      "Moviepy - Building video behavior_data/armflapping/14.mp4.\n",
      "MoviePy - Writing audio in 14TEMP_MPY_wvf_snd.mp4\n",
      "MoviePy - Done.\n",
      "Moviepy - Writing video behavior_data/armflapping/14.mp4\n",
      "\n"
     ]
    },
    {
     "name": "stderr",
     "output_type": "stream",
     "text": [
      "\n",
      "t:  60%|██████    | 54/90 [00:00<00:00, 233.07it/s, now=None]\u001b[A\n",
      "t:  87%|████████▋ | 78/90 [00:00<00:00, 147.17it/s, now=None]\u001b[A\n",
      "t:  62%|██████▏   | 111/180 [31:09<00:00, 687.37it/s, now=None]A"
     ]
    },
    {
     "name": "stdout",
     "output_type": "stream",
     "text": [
      "Moviepy - Done !\n",
      "Moviepy - video ready behavior_data/armflapping/14.mp4\n",
      "['.DS_Store', '14.mp4', '8.mp4', '9.mp4']\n",
      "adding file\n"
     ]
    },
    {
     "name": "stderr",
     "output_type": "stream",
     "text": [
      "t:  62%|██████▏   | 111/180 [31:09<00:00, 687.37it/s, now=None]\n",
      "chunk:   0%|          | 0/111 [00:00<?, ?it/s, now=None]\u001b[A\n",
      "t:  62%|██████▏   | 111/180 [31:09<00:00, 687.37it/s, now=None]\n",
      "t:   0%|          | 0/75 [00:00<?, ?it/s, now=None]\u001b[A\n",
      "t:  37%|███▋      | 28/75 [00:00<00:00, 268.55it/s, now=None]\u001b[A"
     ]
    },
    {
     "name": "stdout",
     "output_type": "stream",
     "text": [
      "Moviepy - Building video behavior_data/armflapping/15.mp4.\n",
      "MoviePy - Writing audio in 15TEMP_MPY_wvf_snd.mp4\n",
      "MoviePy - Done.\n",
      "Moviepy - Writing video behavior_data/armflapping/15.mp4\n",
      "\n"
     ]
    },
    {
     "name": "stderr",
     "output_type": "stream",
     "text": [
      "\n",
      "t:  73%|███████▎  | 55/75 [00:00<00:00, 238.18it/s, now=None]\u001b[A\n",
      "t:  62%|██████▏   | 111/180 [31:10<00:00, 687.37it/s, now=None]A"
     ]
    },
    {
     "name": "stdout",
     "output_type": "stream",
     "text": [
      "Moviepy - Done !\n",
      "Moviepy - video ready behavior_data/armflapping/15.mp4\n",
      "['7.mp4', '6.mp4', '5.mp4', '.DS_Store', '11.mp4', '10.mp4', '12.mp4', '13.mp4']\n",
      "adding file\n"
     ]
    },
    {
     "name": "stderr",
     "output_type": "stream",
     "text": [
      "t:  62%|██████▏   | 111/180 [31:11<00:00, 687.37it/s, now=None]\n",
      "chunk:   0%|          | 0/23 [00:00<?, ?it/s, now=None]\u001b[A\n",
      "t:  62%|██████▏   | 111/180 [31:11<00:00, 687.37it/s, now=None]\n",
      "t:   0%|          | 0/15 [00:00<?, ?it/s, now=None]\u001b[A\n",
      "                                                   \u001b[A"
     ]
    },
    {
     "name": "stdout",
     "output_type": "stream",
     "text": [
      "Moviepy - Building video behavior_data/control/16.mp4.\n",
      "MoviePy - Writing audio in 16TEMP_MPY_wvf_snd.mp4\n",
      "MoviePy - Done.\n",
      "Moviepy - Writing video behavior_data/control/16.mp4\n",
      "\n"
     ]
    },
    {
     "name": "stderr",
     "output_type": "stream",
     "text": [
      "t:  62%|██████▏   | 111/180 [31:11<00:00, 687.37it/s, now=None]"
     ]
    },
    {
     "name": "stdout",
     "output_type": "stream",
     "text": [
      "Moviepy - Done !\n",
      "Moviepy - video ready behavior_data/control/16.mp4\n",
      "['7.mp4', '6.mp4', '5.mp4', '.DS_Store', '16.mp4', '11.mp4', '10.mp4', '12.mp4', '13.mp4']\n",
      "adding file\n"
     ]
    },
    {
     "name": "stderr",
     "output_type": "stream",
     "text": [
      "t:  62%|██████▏   | 111/180 [31:11<00:00, 687.37it/s, now=None]\n",
      "chunk:   0%|          | 0/133 [00:00<?, ?it/s, now=None]\u001b[A\n",
      "t:  62%|██████▏   | 111/180 [31:11<00:00, 687.37it/s, now=None]\n",
      "t:   0%|          | 0/90 [00:00<?, ?it/s, now=None]\u001b[A"
     ]
    },
    {
     "name": "stdout",
     "output_type": "stream",
     "text": [
      "Moviepy - Building video behavior_data/control/17.mp4.\n",
      "MoviePy - Writing audio in 17TEMP_MPY_wvf_snd.mp4\n",
      "MoviePy - Done.\n",
      "Moviepy - Writing video behavior_data/control/17.mp4\n",
      "\n"
     ]
    },
    {
     "name": "stderr",
     "output_type": "stream",
     "text": [
      "\n",
      "t:  28%|██▊       | 25/90 [00:00<00:00, 239.37it/s, now=None]\u001b[A\n",
      "t:  57%|█████▋    | 51/90 [00:00<00:00, 245.27it/s, now=None]\u001b[A\n",
      "t:  84%|████████▍ | 76/90 [00:00<00:00, 139.06it/s, now=None]\u001b[A\n",
      "t:  62%|██████▏   | 111/180 [31:13<00:00, 687.37it/s, now=None]A"
     ]
    },
    {
     "name": "stdout",
     "output_type": "stream",
     "text": [
      "Moviepy - Done !\n",
      "Moviepy - video ready behavior_data/control/17.mp4\n",
      "['7.mp4', '6.mp4', '5.mp4', '.DS_Store', '17.mp4', '16.mp4', '11.mp4', '10.mp4', '12.mp4', '13.mp4']\n",
      "adding file\n"
     ]
    },
    {
     "name": "stderr",
     "output_type": "stream",
     "text": [
      "t:  62%|██████▏   | 111/180 [31:13<00:00, 687.37it/s, now=None]\n",
      "chunk:   0%|          | 0/133 [00:00<?, ?it/s, now=None]\u001b[A\n",
      "t:  62%|██████▏   | 111/180 [31:13<00:00, 687.37it/s, now=None]\n",
      "t:   0%|          | 0/90 [00:00<?, ?it/s, now=None]\u001b[A"
     ]
    },
    {
     "name": "stdout",
     "output_type": "stream",
     "text": [
      "Moviepy - Building video behavior_data/control/18.mp4.\n",
      "MoviePy - Writing audio in 18TEMP_MPY_wvf_snd.mp4\n",
      "MoviePy - Done.\n",
      "Moviepy - Writing video behavior_data/control/18.mp4\n",
      "\n"
     ]
    },
    {
     "name": "stderr",
     "output_type": "stream",
     "text": [
      "\n",
      "t:  28%|██▊       | 25/90 [00:00<00:00, 249.61it/s, now=None]\u001b[A\n",
      "t:  56%|█████▌    | 50/90 [00:00<00:00, 246.85it/s, now=None]\u001b[A\n",
      "t:  83%|████████▎ | 75/90 [00:00<00:00, 158.71it/s, now=None]\u001b[A\n",
      "                                                               A\r"
     ]
    },
    {
     "name": "stdout",
     "output_type": "stream",
     "text": [
      "Moviepy - Done !\n",
      "Moviepy - video ready behavior_data/control/18.mp4\n",
      "['7.mp4', '6.mp4', '5.mp4', '.DS_Store', '18.mp4', '17.mp4', '16.mp4', '11.mp4', '10.mp4', '12.mp4', '13.mp4']\n",
      "adding file\n"
     ]
    },
    {
     "name": "stderr",
     "output_type": "stream",
     "text": [
      "t:   0%|          | 0/75 [00:00<?, ?it/s, now=None]     "
     ]
    },
    {
     "name": "stdout",
     "output_type": "stream",
     "text": [
      "Moviepy - Building video behavior_data/control/19.mp4.\n",
      "MoviePy - Writing audio in 19TEMP_MPY_wvf_snd.mp4\n",
      "MoviePy - Done.\n",
      "Moviepy - Writing video behavior_data/control/19.mp4\n",
      "\n"
     ]
    },
    {
     "name": "stderr",
     "output_type": "stream",
     "text": [
      "                                                             \r"
     ]
    },
    {
     "name": "stdout",
     "output_type": "stream",
     "text": [
      "Moviepy - Done !\n",
      "Moviepy - video ready behavior_data/control/19.mp4\n",
      "staring the 5th file\n",
      "http://www.youtube.com/watch?v=SOc13pnf-Dc\n",
      "This is url:  http://www.youtube.com/watch?v=SOc13pnf-Dc\n",
      "['.DS_Store', '14.mp4', '15.mp4', '8.mp4', '9.mp4']\n",
      "adding file\n"
     ]
    },
    {
     "name": "stderr",
     "output_type": "stream",
     "text": [
      "t:   0%|          | 0/180 [00:00<?, ?it/s, now=None]                "
     ]
    },
    {
     "name": "stdout",
     "output_type": "stream",
     "text": [
      "Moviepy - Building video behavior_data/armflapping/20.mp4.\n",
      "MoviePy - Writing audio in 20TEMP_MPY_wvf_snd.mp4\n",
      "MoviePy - Done.\n",
      "Moviepy - Writing video behavior_data/armflapping/20.mp4\n",
      "\n"
     ]
    },
    {
     "name": "stderr",
     "output_type": "stream",
     "text": [
      "                                                               \r"
     ]
    },
    {
     "name": "stdout",
     "output_type": "stream",
     "text": [
      "Moviepy - Done !\n",
      "Moviepy - video ready behavior_data/armflapping/20.mp4\n",
      "['.DS_Store', '20.mp4', '14.mp4', '15.mp4', '8.mp4', '9.mp4']\n",
      "adding file\n"
     ]
    },
    {
     "name": "stderr",
     "output_type": "stream",
     "text": [
      "t:   0%|          | 0/180 [00:00<?, ?it/s, now=None]                "
     ]
    },
    {
     "name": "stdout",
     "output_type": "stream",
     "text": [
      "Moviepy - Building video behavior_data/armflapping/21.mp4.\n",
      "MoviePy - Writing audio in 21TEMP_MPY_wvf_snd.mp4\n",
      "MoviePy - Done.\n",
      "Moviepy - Writing video behavior_data/armflapping/21.mp4\n",
      "\n"
     ]
    },
    {
     "name": "stderr",
     "output_type": "stream",
     "text": [
      "                                                               \r"
     ]
    },
    {
     "name": "stdout",
     "output_type": "stream",
     "text": [
      "Moviepy - Done !\n",
      "Moviepy - video ready behavior_data/armflapping/21.mp4\n",
      "['.DS_Store', '21.mp4', '20.mp4', '14.mp4', '15.mp4', '8.mp4', '9.mp4']\n",
      "adding file\n"
     ]
    },
    {
     "name": "stderr",
     "output_type": "stream",
     "text": [
      "t:   0%|          | 0/180 [00:00<?, ?it/s, now=None]                "
     ]
    },
    {
     "name": "stdout",
     "output_type": "stream",
     "text": [
      "Moviepy - Building video behavior_data/armflapping/22.mp4.\n",
      "MoviePy - Writing audio in 22TEMP_MPY_wvf_snd.mp4\n",
      "MoviePy - Done.\n",
      "Moviepy - Writing video behavior_data/armflapping/22.mp4\n",
      "\n"
     ]
    },
    {
     "name": "stderr",
     "output_type": "stream",
     "text": [
      "                                                               \r"
     ]
    },
    {
     "name": "stdout",
     "output_type": "stream",
     "text": [
      "Moviepy - Done !\n",
      "Moviepy - video ready behavior_data/armflapping/22.mp4\n",
      "['.DS_Store', '22.mp4', '21.mp4', '20.mp4', '14.mp4', '15.mp4', '8.mp4', '9.mp4']\n",
      "adding file\n"
     ]
    },
    {
     "name": "stderr",
     "output_type": "stream",
     "text": [
      "t:   0%|          | 0/120 [00:00<?, ?it/s, now=None]   "
     ]
    },
    {
     "name": "stdout",
     "output_type": "stream",
     "text": [
      "Moviepy - Building video behavior_data/armflapping/23.mp4.\n",
      "MoviePy - Writing audio in 23TEMP_MPY_wvf_snd.mp4\n",
      "MoviePy - Done.\n",
      "Moviepy - Writing video behavior_data/armflapping/23.mp4\n",
      "\n"
     ]
    },
    {
     "name": "stderr",
     "output_type": "stream",
     "text": [
      "                                                               \r"
     ]
    },
    {
     "name": "stdout",
     "output_type": "stream",
     "text": [
      "Moviepy - Done !\n",
      "Moviepy - video ready behavior_data/armflapping/23.mp4\n",
      "['.DS_Store', '22.mp4', '23.mp4', '21.mp4', '20.mp4', '14.mp4', '15.mp4', '8.mp4', '9.mp4']\n",
      "adding file\n"
     ]
    },
    {
     "name": "stderr",
     "output_type": "stream",
     "text": [
      "t:   0%|          | 0/90 [00:00<?, ?it/s, now=None]    "
     ]
    },
    {
     "name": "stdout",
     "output_type": "stream",
     "text": [
      "Moviepy - Building video behavior_data/armflapping/24.mp4.\n",
      "MoviePy - Writing audio in 24TEMP_MPY_wvf_snd.mp4\n",
      "MoviePy - Done.\n",
      "Moviepy - Writing video behavior_data/armflapping/24.mp4\n",
      "\n"
     ]
    },
    {
     "name": "stderr",
     "output_type": "stream",
     "text": [
      "                                                             \r"
     ]
    },
    {
     "name": "stdout",
     "output_type": "stream",
     "text": [
      "Moviepy - Done !\n",
      "Moviepy - video ready behavior_data/armflapping/24.mp4\n",
      "['7.mp4', '6.mp4', '5.mp4', '.DS_Store', '18.mp4', '19.mp4', '17.mp4', '16.mp4', '11.mp4', '10.mp4', '12.mp4', '13.mp4']\n",
      "adding file\n"
     ]
    },
    {
     "name": "stderr",
     "output_type": "stream",
     "text": [
      "t:  13%|█▎        | 28/210 [00:00<00:00, 274.24it/s, now=None]"
     ]
    },
    {
     "name": "stdout",
     "output_type": "stream",
     "text": [
      "Moviepy - Building video behavior_data/control/25.mp4.\n",
      "MoviePy - Writing audio in 25TEMP_MPY_wvf_snd.mp4\n",
      "MoviePy - Done.\n",
      "Moviepy - Writing video behavior_data/control/25.mp4\n",
      "\n"
     ]
    },
    {
     "name": "stderr",
     "output_type": "stream",
     "text": [
      "                                                               \r"
     ]
    },
    {
     "name": "stdout",
     "output_type": "stream",
     "text": [
      "Moviepy - Done !\n",
      "Moviepy - video ready behavior_data/control/25.mp4\n",
      "['7.mp4', '6.mp4', '5.mp4', '.DS_Store', '18.mp4', '25.mp4', '19.mp4', '17.mp4', '16.mp4', '11.mp4', '10.mp4', '12.mp4', '13.mp4']\n",
      "adding file\n"
     ]
    },
    {
     "name": "stderr",
     "output_type": "stream",
     "text": [
      "t:   0%|          | 0/210 [00:00<?, ?it/s, now=None]    "
     ]
    },
    {
     "name": "stdout",
     "output_type": "stream",
     "text": [
      "Moviepy - Building video behavior_data/control/26.mp4.\n",
      "MoviePy - Writing audio in 26TEMP_MPY_wvf_snd.mp4\n",
      "MoviePy - Done.\n",
      "Moviepy - Writing video behavior_data/control/26.mp4\n",
      "\n"
     ]
    },
    {
     "name": "stderr",
     "output_type": "stream",
     "text": [
      "                                                               \r"
     ]
    },
    {
     "name": "stdout",
     "output_type": "stream",
     "text": [
      "Moviepy - Done !\n",
      "Moviepy - video ready behavior_data/control/26.mp4\n",
      "['7.mp4', '6.mp4', '5.mp4', '.DS_Store', '18.mp4', '25.mp4', '19.mp4', '26.mp4', '17.mp4', '16.mp4', '11.mp4', '10.mp4', '12.mp4', '13.mp4']\n",
      "adding file\n"
     ]
    },
    {
     "name": "stderr",
     "output_type": "stream",
     "text": [
      "t:  16%|█▌        | 28/180 [00:00<00:00, 273.18it/s, now=None]"
     ]
    },
    {
     "name": "stdout",
     "output_type": "stream",
     "text": [
      "Moviepy - Building video behavior_data/control/27.mp4.\n",
      "MoviePy - Writing audio in 27TEMP_MPY_wvf_snd.mp4\n",
      "MoviePy - Done.\n",
      "Moviepy - Writing video behavior_data/control/27.mp4\n",
      "\n"
     ]
    },
    {
     "name": "stderr",
     "output_type": "stream",
     "text": [
      "                                                               \r"
     ]
    },
    {
     "name": "stdout",
     "output_type": "stream",
     "text": [
      "Moviepy - Done !\n",
      "Moviepy - video ready behavior_data/control/27.mp4\n",
      "['7.mp4', '6.mp4', '5.mp4', '.DS_Store', '18.mp4', '25.mp4', '19.mp4', '27.mp4', '26.mp4', '17.mp4', '16.mp4', '11.mp4', '10.mp4', '12.mp4', '13.mp4']\n",
      "adding file\n"
     ]
    },
    {
     "name": "stderr",
     "output_type": "stream",
     "text": [
      "t:   0%|          | 0/180 [00:00<?, ?it/s, now=None]    "
     ]
    },
    {
     "name": "stdout",
     "output_type": "stream",
     "text": [
      "Moviepy - Building video behavior_data/control/28.mp4.\n",
      "MoviePy - Writing audio in 28TEMP_MPY_wvf_snd.mp4\n",
      "MoviePy - Done.\n",
      "Moviepy - Writing video behavior_data/control/28.mp4\n",
      "\n"
     ]
    },
    {
     "name": "stderr",
     "output_type": "stream",
     "text": [
      "                                                               \r"
     ]
    },
    {
     "name": "stdout",
     "output_type": "stream",
     "text": [
      "Moviepy - Done !\n",
      "Moviepy - video ready behavior_data/control/28.mp4\n",
      "staring the 6th file\n",
      "http://www.youtube.com/watch?v=iDuAugAykcc\n",
      "This is url:  http://www.youtube.com/watch?v=iDuAugAykcc\n"
     ]
    },
    {
     "name": "stderr",
     "output_type": "stream",
     "text": [
      "                                                       "
     ]
    },
    {
     "name": "stdout",
     "output_type": "stream",
     "text": [
      "['.DS_Store', '22.mp4', '23.mp4', '21.mp4', '20.mp4', '24.mp4', '14.mp4', '15.mp4', '8.mp4', '9.mp4']\n",
      "adding file\n",
      "Moviepy - Building video behavior_data/armflapping/29.mp4.\n",
      "MoviePy - Writing audio in 29TEMP_MPY_wvf_snd.mp4\n"
     ]
    },
    {
     "name": "stderr",
     "output_type": "stream",
     "text": [
      "                                                   \r"
     ]
    },
    {
     "name": "stdout",
     "output_type": "stream",
     "text": [
      "MoviePy - Done.\n",
      "Moviepy - Writing video behavior_data/armflapping/29.mp4\n",
      "\n",
      "Moviepy - Done !\n",
      "Moviepy - video ready behavior_data/armflapping/29.mp4\n"
     ]
    },
    {
     "name": "stderr",
     "output_type": "stream",
     "text": [
      "                                                       "
     ]
    },
    {
     "name": "stdout",
     "output_type": "stream",
     "text": [
      "['.DS_Store', '22.mp4', '23.mp4', '21.mp4', '20.mp4', '24.mp4', '14.mp4', '29.mp4', '15.mp4', '8.mp4', '9.mp4']\n",
      "adding file\n",
      "Moviepy - Building video behavior_data/armflapping/30.mp4.\n",
      "MoviePy - Writing audio in 30TEMP_MPY_wvf_snd.mp4\n",
      "MoviePy - Done.\n",
      "Moviepy - Writing video behavior_data/armflapping/30.mp4\n",
      "\n"
     ]
    },
    {
     "name": "stderr",
     "output_type": "stream",
     "text": [
      "chunk:   0%|          | 0/89 [00:00<?, ?it/s, now=None]      "
     ]
    },
    {
     "name": "stdout",
     "output_type": "stream",
     "text": [
      "Moviepy - Done !\n",
      "Moviepy - video ready behavior_data/armflapping/30.mp4\n",
      "['.DS_Store', '22.mp4', '23.mp4', '21.mp4', '20.mp4', '24.mp4', '30.mp4', '14.mp4', '29.mp4', '15.mp4', '8.mp4', '9.mp4']\n",
      "adding file\n",
      "Moviepy - Building video behavior_data/armflapping/31.mp4.\n",
      "MoviePy - Writing audio in 31TEMP_MPY_wvf_snd.mp4\n"
     ]
    },
    {
     "name": "stderr",
     "output_type": "stream",
     "text": [
      "                                                             \r"
     ]
    },
    {
     "name": "stdout",
     "output_type": "stream",
     "text": [
      "MoviePy - Done.\n",
      "Moviepy - Writing video behavior_data/armflapping/31.mp4\n",
      "\n",
      "Moviepy - Done !\n",
      "Moviepy - video ready behavior_data/armflapping/31.mp4\n"
     ]
    },
    {
     "name": "stderr",
     "output_type": "stream",
     "text": [
      "\r",
      "chunk:   0%|          | 0/155 [00:00<?, ?it/s, now=None]"
     ]
    },
    {
     "name": "stdout",
     "output_type": "stream",
     "text": [
      "['.DS_Store', '22.mp4', '23.mp4', '21.mp4', '20.mp4', '24.mp4', '30.mp4', '31.mp4', '14.mp4', '29.mp4', '15.mp4', '8.mp4', '9.mp4']\n",
      "adding file\n",
      "Moviepy - Building video behavior_data/armflapping/32.mp4.\n",
      "MoviePy - Writing audio in 32TEMP_MPY_wvf_snd.mp4\n"
     ]
    },
    {
     "name": "stderr",
     "output_type": "stream",
     "text": [
      "t:  58%|█████▊    | 98/168 [00:00<00:00, 973.19it/s, now=None]      "
     ]
    },
    {
     "name": "stdout",
     "output_type": "stream",
     "text": [
      "MoviePy - Done.\n",
      "Moviepy - Writing video behavior_data/armflapping/32.mp4\n",
      "\n"
     ]
    },
    {
     "name": "stderr",
     "output_type": "stream",
     "text": [
      "chunk:   0%|          | 0/111 [00:00<?, ?it/s, now=None]      "
     ]
    },
    {
     "name": "stdout",
     "output_type": "stream",
     "text": [
      "Moviepy - Done !\n",
      "Moviepy - video ready behavior_data/armflapping/32.mp4\n",
      "['.DS_Store', '22.mp4', '23.mp4', '21.mp4', '20.mp4', '24.mp4', '30.mp4', '31.mp4', '32.mp4', '14.mp4', '29.mp4', '15.mp4', '8.mp4', '9.mp4']\n",
      "adding file\n",
      "Moviepy - Building video behavior_data/armflapping/33.mp4.\n",
      "MoviePy - Writing audio in 33TEMP_MPY_wvf_snd.mp4\n"
     ]
    },
    {
     "name": "stderr",
     "output_type": "stream",
     "text": [
      "                                                                \r"
     ]
    },
    {
     "name": "stdout",
     "output_type": "stream",
     "text": [
      "MoviePy - Done.\n",
      "Moviepy - Writing video behavior_data/armflapping/33.mp4\n",
      "\n"
     ]
    },
    {
     "name": "stderr",
     "output_type": "stream",
     "text": [
      "\r",
      "chunk:   0%|          | 0/111 [00:00<?, ?it/s, now=None]"
     ]
    },
    {
     "name": "stdout",
     "output_type": "stream",
     "text": [
      "Moviepy - Done !\n",
      "Moviepy - video ready behavior_data/armflapping/33.mp4\n",
      "['.DS_Store', '22.mp4', '23.mp4', '21.mp4', '20.mp4', '24.mp4', '30.mp4', '31.mp4', '33.mp4', '32.mp4', '14.mp4', '29.mp4', '15.mp4', '8.mp4', '9.mp4']\n",
      "adding file\n",
      "Moviepy - Building video behavior_data/armflapping/34.mp4.\n",
      "MoviePy - Writing audio in 34TEMP_MPY_wvf_snd.mp4\n"
     ]
    },
    {
     "name": "stderr",
     "output_type": "stream",
     "text": [
      "                                                              \r"
     ]
    },
    {
     "name": "stdout",
     "output_type": "stream",
     "text": [
      "MoviePy - Done.\n",
      "Moviepy - Writing video behavior_data/armflapping/34.mp4\n",
      "\n"
     ]
    },
    {
     "name": "stderr",
     "output_type": "stream",
     "text": [
      "\r",
      "chunk:   0%|          | 0/111 [00:00<?, ?it/s, now=None]"
     ]
    },
    {
     "name": "stdout",
     "output_type": "stream",
     "text": [
      "Moviepy - Done !\n",
      "Moviepy - video ready behavior_data/armflapping/34.mp4\n",
      "['.DS_Store', '22.mp4', '23.mp4', '21.mp4', '34.mp4', '20.mp4', '24.mp4', '30.mp4', '31.mp4', '33.mp4', '32.mp4', '14.mp4', '29.mp4', '15.mp4', '8.mp4', '9.mp4']\n",
      "adding file\n",
      "Moviepy - Building video behavior_data/armflapping/35.mp4.\n",
      "MoviePy - Writing audio in 35TEMP_MPY_wvf_snd.mp4\n"
     ]
    },
    {
     "name": "stderr",
     "output_type": "stream",
     "text": [
      "                                                              \r"
     ]
    },
    {
     "name": "stdout",
     "output_type": "stream",
     "text": [
      "MoviePy - Done.\n",
      "Moviepy - Writing video behavior_data/armflapping/35.mp4\n",
      "\n"
     ]
    },
    {
     "name": "stderr",
     "output_type": "stream",
     "text": [
      "\r",
      "chunk:   0%|          | 0/111 [00:00<?, ?it/s, now=None]"
     ]
    },
    {
     "name": "stdout",
     "output_type": "stream",
     "text": [
      "Moviepy - Done !\n",
      "Moviepy - video ready behavior_data/armflapping/35.mp4\n",
      "['7.mp4', '6.mp4', '5.mp4', '.DS_Store', '18.mp4', '25.mp4', '19.mp4', '27.mp4', '26.mp4', '17.mp4', '16.mp4', '28.mp4', '11.mp4', '10.mp4', '12.mp4', '13.mp4']\n",
      "adding file\n",
      "Moviepy - Building video behavior_data/control/36.mp4.\n",
      "MoviePy - Writing audio in 36TEMP_MPY_wvf_snd.mp4\n"
     ]
    },
    {
     "name": "stderr",
     "output_type": "stream",
     "text": [
      "                                                              \r"
     ]
    },
    {
     "name": "stdout",
     "output_type": "stream",
     "text": [
      "MoviePy - Done.\n",
      "Moviepy - Writing video behavior_data/control/36.mp4\n",
      "\n"
     ]
    },
    {
     "name": "stderr",
     "output_type": "stream",
     "text": [
      "\r",
      "chunk:   0%|          | 0/111 [00:00<?, ?it/s, now=None]"
     ]
    },
    {
     "name": "stdout",
     "output_type": "stream",
     "text": [
      "Moviepy - Done !\n",
      "Moviepy - video ready behavior_data/control/36.mp4\n",
      "['7.mp4', '6.mp4', '5.mp4', '.DS_Store', '36.mp4', '18.mp4', '25.mp4', '19.mp4', '27.mp4', '26.mp4', '17.mp4', '16.mp4', '28.mp4', '11.mp4', '10.mp4', '12.mp4', '13.mp4']\n",
      "adding file\n",
      "Moviepy - Building video behavior_data/control/37.mp4.\n",
      "MoviePy - Writing audio in 37TEMP_MPY_wvf_snd.mp4\n"
     ]
    },
    {
     "name": "stderr",
     "output_type": "stream",
     "text": [
      "                                                              \r"
     ]
    },
    {
     "name": "stdout",
     "output_type": "stream",
     "text": [
      "MoviePy - Done.\n",
      "Moviepy - Writing video behavior_data/control/37.mp4\n",
      "\n"
     ]
    },
    {
     "name": "stderr",
     "output_type": "stream",
     "text": [
      "\r",
      "chunk:   0%|          | 0/111 [00:00<?, ?it/s, now=None]"
     ]
    },
    {
     "name": "stdout",
     "output_type": "stream",
     "text": [
      "Moviepy - Done !\n",
      "Moviepy - video ready behavior_data/control/37.mp4\n",
      "['7.mp4', '6.mp4', '5.mp4', '.DS_Store', '36.mp4', '37.mp4', '18.mp4', '25.mp4', '19.mp4', '27.mp4', '26.mp4', '17.mp4', '16.mp4', '28.mp4', '11.mp4', '10.mp4', '12.mp4', '13.mp4']\n",
      "adding file\n",
      "Moviepy - Building video behavior_data/control/38.mp4.\n",
      "MoviePy - Writing audio in 38TEMP_MPY_wvf_snd.mp4\n"
     ]
    },
    {
     "name": "stderr",
     "output_type": "stream",
     "text": [
      "                                                              \r"
     ]
    },
    {
     "name": "stdout",
     "output_type": "stream",
     "text": [
      "MoviePy - Done.\n",
      "Moviepy - Writing video behavior_data/control/38.mp4\n",
      "\n"
     ]
    },
    {
     "name": "stderr",
     "output_type": "stream",
     "text": [
      "\r",
      "chunk:   0%|          | 0/89 [00:00<?, ?it/s, now=None]"
     ]
    },
    {
     "name": "stdout",
     "output_type": "stream",
     "text": [
      "Moviepy - Done !\n",
      "Moviepy - video ready behavior_data/control/38.mp4\n",
      "['7.mp4', '6.mp4', '5.mp4', '.DS_Store', '36.mp4', '37.mp4', '18.mp4', '25.mp4', '19.mp4', '27.mp4', '26.mp4', '17.mp4', '16.mp4', '28.mp4', '11.mp4', '10.mp4', '38.mp4', '12.mp4', '13.mp4']\n",
      "adding file\n",
      "Moviepy - Building video behavior_data/control/39.mp4.\n",
      "MoviePy - Writing audio in 39TEMP_MPY_wvf_snd.mp4\n"
     ]
    },
    {
     "name": "stderr",
     "output_type": "stream",
     "text": [
      "                                                             \r"
     ]
    },
    {
     "name": "stdout",
     "output_type": "stream",
     "text": [
      "MoviePy - Done.\n",
      "Moviepy - Writing video behavior_data/control/39.mp4\n",
      "\n",
      "Moviepy - Done !\n",
      "Moviepy - video ready behavior_data/control/39.mp4\n",
      "staring the 7th file\n",
      "http://www.youtube.com/watch?v=BUAFdqrw4fA\n",
      "This is url:  http://www.youtube.com/watch?v=BUAFdqrw4fA\n",
      "['1.mp4', '.DS_Store', '0.mp4', '2.mp4', '3.mp4']\n",
      "adding file\n"
     ]
    },
    {
     "name": "stderr",
     "output_type": "stream",
     "text": [
      "t:  18%|█▊        | 27/150 [00:00<00:00, 266.39it/s, now=None]"
     ]
    },
    {
     "name": "stdout",
     "output_type": "stream",
     "text": [
      "Moviepy - Building video behavior_data/headbanging/40.mp4.\n",
      "MoviePy - Writing audio in 40TEMP_MPY_wvf_snd.mp4\n",
      "MoviePy - Done.\n",
      "Moviepy - Writing video behavior_data/headbanging/40.mp4\n",
      "\n"
     ]
    },
    {
     "name": "stderr",
     "output_type": "stream",
     "text": [
      "                                                               \r"
     ]
    },
    {
     "name": "stdout",
     "output_type": "stream",
     "text": [
      "Moviepy - Done !\n",
      "Moviepy - video ready behavior_data/headbanging/40.mp4\n",
      "['40.mp4', '1.mp4', '.DS_Store', '0.mp4', '2.mp4', '3.mp4']\n",
      "adding file\n"
     ]
    },
    {
     "name": "stderr",
     "output_type": "stream",
     "text": [
      "t:  21%|██        | 25/120 [00:00<00:00, 248.94it/s, now=None]"
     ]
    },
    {
     "name": "stdout",
     "output_type": "stream",
     "text": [
      "Moviepy - Building video behavior_data/headbanging/41.mp4.\n",
      "MoviePy - Writing audio in 41TEMP_MPY_wvf_snd.mp4\n",
      "MoviePy - Done.\n",
      "Moviepy - Writing video behavior_data/headbanging/41.mp4\n",
      "\n"
     ]
    },
    {
     "name": "stderr",
     "output_type": "stream",
     "text": [
      "                                                               \r"
     ]
    },
    {
     "name": "stdout",
     "output_type": "stream",
     "text": [
      "Moviepy - Done !\n",
      "Moviepy - video ready behavior_data/headbanging/41.mp4\n",
      "['41.mp4', '40.mp4', '1.mp4', '.DS_Store', '0.mp4', '2.mp4', '3.mp4']\n",
      "adding file\n"
     ]
    },
    {
     "name": "stderr",
     "output_type": "stream",
     "text": [
      "t:  14%|█▍        | 26/180 [00:00<00:00, 259.68it/s, now=None]"
     ]
    },
    {
     "name": "stdout",
     "output_type": "stream",
     "text": [
      "Moviepy - Building video behavior_data/headbanging/42.mp4.\n",
      "MoviePy - Writing audio in 42TEMP_MPY_wvf_snd.mp4\n",
      "MoviePy - Done.\n",
      "Moviepy - Writing video behavior_data/headbanging/42.mp4\n",
      "\n"
     ]
    },
    {
     "name": "stderr",
     "output_type": "stream",
     "text": [
      "                                                               \r"
     ]
    },
    {
     "name": "stdout",
     "output_type": "stream",
     "text": [
      "Moviepy - Done !\n",
      "Moviepy - video ready behavior_data/headbanging/42.mp4\n",
      "['41.mp4', '40.mp4', '42.mp4', '1.mp4', '.DS_Store', '0.mp4', '2.mp4', '3.mp4']\n",
      "adding file\n"
     ]
    },
    {
     "name": "stderr",
     "output_type": "stream",
     "text": [
      "t:  17%|█▋        | 26/150 [00:00<00:00, 256.80it/s, now=None]"
     ]
    },
    {
     "name": "stdout",
     "output_type": "stream",
     "text": [
      "Moviepy - Building video behavior_data/headbanging/43.mp4.\n",
      "MoviePy - Writing audio in 43TEMP_MPY_wvf_snd.mp4\n",
      "MoviePy - Done.\n",
      "Moviepy - Writing video behavior_data/headbanging/43.mp4\n",
      "\n"
     ]
    },
    {
     "name": "stderr",
     "output_type": "stream",
     "text": [
      "                                                               \r"
     ]
    },
    {
     "name": "stdout",
     "output_type": "stream",
     "text": [
      "Moviepy - Done !\n",
      "Moviepy - video ready behavior_data/headbanging/43.mp4\n",
      "['41.mp4', '40.mp4', '42.mp4', '43.mp4', '1.mp4', '.DS_Store', '0.mp4', '2.mp4', '3.mp4']\n",
      "adding file\n"
     ]
    },
    {
     "name": "stderr",
     "output_type": "stream",
     "text": [
      "t:   0%|          | 0/150 [00:00<?, ?it/s, now=None]    "
     ]
    },
    {
     "name": "stdout",
     "output_type": "stream",
     "text": [
      "Moviepy - Building video behavior_data/headbanging/44.mp4.\n",
      "MoviePy - Writing audio in 44TEMP_MPY_wvf_snd.mp4\n",
      "MoviePy - Done.\n",
      "Moviepy - Writing video behavior_data/headbanging/44.mp4\n",
      "\n"
     ]
    },
    {
     "name": "stderr",
     "output_type": "stream",
     "text": [
      "                                                               \r"
     ]
    },
    {
     "name": "stdout",
     "output_type": "stream",
     "text": [
      "Moviepy - Done !\n",
      "Moviepy - video ready behavior_data/headbanging/44.mp4\n",
      "['41.mp4', '40.mp4', '42.mp4', '43.mp4', '1.mp4', '.DS_Store', '0.mp4', '2.mp4', '44.mp4', '3.mp4']\n",
      "adding file\n"
     ]
    },
    {
     "name": "stderr",
     "output_type": "stream",
     "text": [
      "t:   0%|          | 0/150 [00:00<?, ?it/s, now=None]    "
     ]
    },
    {
     "name": "stdout",
     "output_type": "stream",
     "text": [
      "Moviepy - Building video behavior_data/headbanging/45.mp4.\n",
      "MoviePy - Writing audio in 45TEMP_MPY_wvf_snd.mp4\n",
      "MoviePy - Done.\n",
      "Moviepy - Writing video behavior_data/headbanging/45.mp4\n",
      "\n"
     ]
    },
    {
     "name": "stderr",
     "output_type": "stream",
     "text": [
      "                                                               \r"
     ]
    },
    {
     "name": "stdout",
     "output_type": "stream",
     "text": [
      "Moviepy - Done !\n",
      "Moviepy - video ready behavior_data/headbanging/45.mp4\n",
      "['41.mp4', '40.mp4', '42.mp4', '43.mp4', '1.mp4', '.DS_Store', '0.mp4', '2.mp4', '44.mp4', '45.mp4', '3.mp4']\n",
      "adding file\n"
     ]
    },
    {
     "name": "stderr",
     "output_type": "stream",
     "text": [
      "t:   0%|          | 0/210 [00:00<?, ?it/s, now=None]                "
     ]
    },
    {
     "name": "stdout",
     "output_type": "stream",
     "text": [
      "Moviepy - Building video behavior_data/headbanging/46.mp4.\n",
      "MoviePy - Writing audio in 46TEMP_MPY_wvf_snd.mp4\n",
      "MoviePy - Done.\n",
      "Moviepy - Writing video behavior_data/headbanging/46.mp4\n",
      "\n"
     ]
    },
    {
     "name": "stderr",
     "output_type": "stream",
     "text": [
      "                                                               \r"
     ]
    },
    {
     "name": "stdout",
     "output_type": "stream",
     "text": [
      "Moviepy - Done !\n",
      "Moviepy - video ready behavior_data/headbanging/46.mp4\n",
      "['41.mp4', '40.mp4', '42.mp4', '43.mp4', '1.mp4', '.DS_Store', '0.mp4', '46.mp4', '2.mp4', '44.mp4', '45.mp4', '3.mp4']\n",
      "adding file\n"
     ]
    },
    {
     "name": "stderr",
     "output_type": "stream",
     "text": [
      "t:   0%|          | 0/210 [00:00<?, ?it/s, now=None]                "
     ]
    },
    {
     "name": "stdout",
     "output_type": "stream",
     "text": [
      "Moviepy - Building video behavior_data/headbanging/47.mp4.\n",
      "MoviePy - Writing audio in 47TEMP_MPY_wvf_snd.mp4\n",
      "MoviePy - Done.\n",
      "Moviepy - Writing video behavior_data/headbanging/47.mp4\n",
      "\n"
     ]
    },
    {
     "name": "stderr",
     "output_type": "stream",
     "text": [
      "                                                               \r"
     ]
    },
    {
     "name": "stdout",
     "output_type": "stream",
     "text": [
      "Moviepy - Done !\n",
      "Moviepy - video ready behavior_data/headbanging/47.mp4\n",
      "['41.mp4', '40.mp4', '42.mp4', '43.mp4', '47.mp4', '1.mp4', '.DS_Store', '0.mp4', '46.mp4', '2.mp4', '44.mp4', '45.mp4', '3.mp4']\n",
      "adding file\n"
     ]
    },
    {
     "name": "stderr",
     "output_type": "stream",
     "text": [
      "t:   0%|          | 0/180 [00:00<?, ?it/s, now=None]    "
     ]
    },
    {
     "name": "stdout",
     "output_type": "stream",
     "text": [
      "Moviepy - Building video behavior_data/headbanging/48.mp4.\n",
      "MoviePy - Writing audio in 48TEMP_MPY_wvf_snd.mp4\n",
      "MoviePy - Done.\n",
      "Moviepy - Writing video behavior_data/headbanging/48.mp4\n",
      "\n"
     ]
    },
    {
     "name": "stderr",
     "output_type": "stream",
     "text": [
      "                                                               \r"
     ]
    },
    {
     "name": "stdout",
     "output_type": "stream",
     "text": [
      "Moviepy - Done !\n",
      "Moviepy - video ready behavior_data/headbanging/48.mp4\n",
      "['41.mp4', '40.mp4', '42.mp4', '43.mp4', '47.mp4', '1.mp4', '.DS_Store', '0.mp4', '46.mp4', '2.mp4', '44.mp4', '45.mp4', '3.mp4', '48.mp4']\n",
      "adding file\n"
     ]
    },
    {
     "name": "stderr",
     "output_type": "stream",
     "text": [
      "t:   0%|          | 0/180 [00:00<?, ?it/s, now=None]    "
     ]
    },
    {
     "name": "stdout",
     "output_type": "stream",
     "text": [
      "Moviepy - Building video behavior_data/headbanging/49.mp4.\n",
      "MoviePy - Writing audio in 49TEMP_MPY_wvf_snd.mp4\n",
      "MoviePy - Done.\n",
      "Moviepy - Writing video behavior_data/headbanging/49.mp4\n",
      "\n"
     ]
    },
    {
     "name": "stderr",
     "output_type": "stream",
     "text": [
      "chunk:   0%|          | 0/155 [00:00<?, ?it/s, now=None]       "
     ]
    },
    {
     "name": "stdout",
     "output_type": "stream",
     "text": [
      "Moviepy - Done !\n",
      "Moviepy - video ready behavior_data/headbanging/49.mp4\n",
      "['7.mp4', '6.mp4', '5.mp4', '.DS_Store', '36.mp4', '37.mp4', '18.mp4', '25.mp4', '19.mp4', '27.mp4', '26.mp4', '17.mp4', '16.mp4', '28.mp4', '39.mp4', '11.mp4', '10.mp4', '38.mp4', '12.mp4', '13.mp4']\n",
      "adding file\n",
      "Moviepy - Building video behavior_data/control/50.mp4.\n",
      "MoviePy - Writing audio in 50TEMP_MPY_wvf_snd.mp4\n"
     ]
    },
    {
     "name": "stderr",
     "output_type": "stream",
     "text": [
      "t:  11%|█         | 23/210 [00:00<00:00, 224.71it/s, now=None]"
     ]
    },
    {
     "name": "stdout",
     "output_type": "stream",
     "text": [
      "MoviePy - Done.\n",
      "Moviepy - Writing video behavior_data/control/50.mp4\n",
      "\n"
     ]
    },
    {
     "name": "stderr",
     "output_type": "stream",
     "text": [
      "                                                               \r"
     ]
    },
    {
     "name": "stdout",
     "output_type": "stream",
     "text": [
      "Moviepy - Done !\n",
      "Moviepy - video ready behavior_data/control/50.mp4\n",
      "['7.mp4', '6.mp4', '5.mp4', '.DS_Store', '50.mp4', '36.mp4', '37.mp4', '18.mp4', '25.mp4', '19.mp4', '27.mp4', '26.mp4', '17.mp4', '16.mp4', '28.mp4', '39.mp4', '11.mp4', '10.mp4', '38.mp4', '12.mp4', '13.mp4']\n",
      "adding file\n"
     ]
    },
    {
     "name": "stderr",
     "output_type": "stream",
     "text": [
      "\r",
      "chunk:   0%|          | 0/1 [00:00<?, ?it/s, now=None]"
     ]
    },
    {
     "name": "stdout",
     "output_type": "stream",
     "text": [
      "Moviepy - Building video behavior_data/control/51.mp4.\n",
      "MoviePy - Writing audio in 51TEMP_MPY_wvf_snd.mp4\n",
      "failed on 51\n",
      "['7.mp4', '6.mp4', '5.mp4', '.DS_Store', '50.mp4', '36.mp4', '37.mp4', '18.mp4', '25.mp4', '19.mp4', '27.mp4', '26.mp4', '17.mp4', '16.mp4', '28.mp4', '39.mp4', '11.mp4', '10.mp4', '38.mp4', '12.mp4', '13.mp4']\n",
      "adding file\n"
     ]
    },
    {
     "name": "stderr",
     "output_type": "stream",
     "text": [
      "chunk: 100%|██████████| 1/1 [00:00<00:00,  3.30it/s, now=None]\n",
      "chunk:   0%|          | 0/89 [00:00<?, ?it/s, now=None]\u001b[A\n",
      "chunk: 100%|██████████| 1/1 [00:00<00:00,  2.50it/s, now=None]\n",
      "t:   0%|          | 0/120 [00:00<?, ?it/s, now=None]\u001b[A"
     ]
    },
    {
     "name": "stdout",
     "output_type": "stream",
     "text": [
      "Moviepy - Building video behavior_data/control/52.mp4.\n",
      "MoviePy - Writing audio in 52TEMP_MPY_wvf_snd.mp4\n",
      "MoviePy - Done.\n",
      "Moviepy - Writing video behavior_data/control/52.mp4\n",
      "\n"
     ]
    },
    {
     "name": "stderr",
     "output_type": "stream",
     "text": [
      "\n",
      "t:  18%|█▊        | 22/120 [00:00<00:00, 219.29it/s, now=None]\u001b[A\n",
      "t:  38%|███▊      | 46/120 [00:00<00:00, 228.51it/s, now=None]\u001b[A\n",
      "t:  57%|█████▊    | 69/120 [00:00<00:00, 161.57it/s, now=None]\u001b[A\n",
      "t:  72%|███████▎  | 87/120 [00:00<00:00, 136.75it/s, now=None]\u001b[A\n",
      "t:  90%|█████████ | 108/120 [00:00<00:00, 153.95it/s, now=None]\u001b[A\n",
      "chunk: 100%|██████████| 1/1 [00:01<00:00,  1.59s/it, now=None] \u001b[A"
     ]
    },
    {
     "name": "stdout",
     "output_type": "stream",
     "text": [
      "Moviepy - Done !\n",
      "Moviepy - video ready behavior_data/control/52.mp4\n",
      "['7.mp4', '6.mp4', '5.mp4', '.DS_Store', '52.mp4', '50.mp4', '36.mp4', '37.mp4', '18.mp4', '25.mp4', '19.mp4', '27.mp4', '26.mp4', '17.mp4', '16.mp4', '28.mp4', '39.mp4', '11.mp4', '10.mp4', '38.mp4', '12.mp4', '13.mp4']\n",
      "adding file\n"
     ]
    },
    {
     "name": "stderr",
     "output_type": "stream",
     "text": [
      "chunk: 100%|██████████| 1/1 [00:01<00:00,  1.88s/it, now=None]\n",
      "chunk:   0%|          | 0/67 [00:00<?, ?it/s, now=None]\u001b[A\n",
      "chunk: 100%|██████████| 1/1 [00:01<00:00,  1.97s/it, now=None]\n",
      "t:   0%|          | 0/90 [00:00<?, ?it/s, now=None]\u001b[A\n",
      "t:  30%|███       | 27/90 [00:00<00:00, 268.37it/s, now=None]\u001b[A"
     ]
    },
    {
     "name": "stdout",
     "output_type": "stream",
     "text": [
      "Moviepy - Building video behavior_data/control/53.mp4.\n",
      "MoviePy - Writing audio in 53TEMP_MPY_wvf_snd.mp4\n",
      "MoviePy - Done.\n",
      "Moviepy - Writing video behavior_data/control/53.mp4\n",
      "\n"
     ]
    },
    {
     "name": "stderr",
     "output_type": "stream",
     "text": [
      "\n",
      "t:  60%|██████    | 54/90 [00:00<00:00, 239.40it/s, now=None]\u001b[A\n",
      "t:  88%|████████▊ | 79/90 [00:00<00:00, 156.23it/s, now=None]\u001b[A\n",
      "chunk: 100%|██████████| 1/1 [00:03<00:00,  3.01s/it, now=None][A"
     ]
    },
    {
     "name": "stdout",
     "output_type": "stream",
     "text": [
      "Moviepy - Done !\n",
      "Moviepy - video ready behavior_data/control/53.mp4\n",
      "staring the 8th file\n",
      "http://www.youtube.com/watch?v=WcsZ9eMQ5Zs\n",
      "This is url:  http://www.youtube.com/watch?v=WcsZ9eMQ5Zs\n",
      "annoying url: http://www.youtube.com/watch?v=WcsZ9eMQ5Zs\n",
      "'streamingData'\n",
      "staring the 9th file\n",
      "http://www.youtube.com/watch?v=w96PxUcoo58\n",
      "This is url:  http://www.youtube.com/watch?v=w96PxUcoo58\n"
     ]
    },
    {
     "name": "stderr",
     "output_type": "stream",
     "text": [
      "chunk: 100%|██████████| 1/1 [00:05<00:00,  5.44s/it, now=None]\n",
      "chunk:   0%|          | 0/111 [00:00<?, ?it/s, now=None]\u001b[A"
     ]
    },
    {
     "name": "stdout",
     "output_type": "stream",
     "text": [
      "['41.mp4', '40.mp4', '42.mp4', '43.mp4', '47.mp4', '1.mp4', '.DS_Store', '0.mp4', '46.mp4', '2.mp4', '44.mp4', '45.mp4', '3.mp4', '48.mp4', '49.mp4']\n",
      "adding file\n",
      "Moviepy - Building video behavior_data/headbanging/54.mp4.\n",
      "MoviePy - Writing audio in 54TEMP_MPY_wvf_snd.mp4\n"
     ]
    },
    {
     "name": "stderr",
     "output_type": "stream",
     "text": [
      "\n",
      "chunk: 100%|██████████| 1/1 [00:05<00:00,  5.52s/it, now=None]\n",
      "t:   0%|          | 0/149 [00:00<?, ?it/s, now=None]\u001b[A\n",
      "t:  42%|████▏     | 63/149 [00:00<00:00, 623.97it/s, now=None]\u001b[A"
     ]
    },
    {
     "name": "stdout",
     "output_type": "stream",
     "text": [
      "MoviePy - Done.\n",
      "Moviepy - Writing video behavior_data/headbanging/54.mp4\n",
      "\n"
     ]
    },
    {
     "name": "stderr",
     "output_type": "stream",
     "text": [
      "\n",
      "t:  85%|████████▍ | 126/149 [00:00<00:00, 611.27it/s, now=None]\u001b[A\n",
      "chunk: 100%|██████████| 1/1 [00:06<00:00,  6.03s/it, now=None] \u001b[A\n",
      "chunk:   0%|          | 0/89 [00:00<?, ?it/s, now=None]\u001b[A\n",
      "                                                       "
     ]
    },
    {
     "name": "stdout",
     "output_type": "stream",
     "text": [
      "Moviepy - Done !\n",
      "Moviepy - video ready behavior_data/headbanging/54.mp4\n",
      "['7.mp4', '6.mp4', '5.mp4', '53.mp4', '.DS_Store', '52.mp4', '50.mp4', '36.mp4', '37.mp4', '18.mp4', '25.mp4', '19.mp4', '27.mp4', '26.mp4', '17.mp4', '16.mp4', '28.mp4', '39.mp4', '11.mp4', '10.mp4', '38.mp4', '12.mp4', '13.mp4']\n",
      "adding file\n",
      "Moviepy - Building video behavior_data/control/55.mp4.\n",
      "MoviePy - Writing audio in 55TEMP_MPY_wvf_snd.mp4\n"
     ]
    },
    {
     "name": "stderr",
     "output_type": "stream",
     "text": [
      "chunk: 100%|██████████| 1/1 [00:06<00:00,  6.10s/it, now=None]\n",
      "t:   0%|          | 0/119 [00:00<?, ?it/s, now=None]\u001b[A\n",
      "t:  50%|█████     | 60/119 [00:00<00:00, 595.42it/s, now=None]\u001b[A"
     ]
    },
    {
     "name": "stdout",
     "output_type": "stream",
     "text": [
      "MoviePy - Done.\n",
      "Moviepy - Writing video behavior_data/control/55.mp4\n",
      "\n"
     ]
    },
    {
     "name": "stderr",
     "output_type": "stream",
     "text": [
      "\n",
      "chunk: 100%|██████████| 1/1 [00:06<00:00,  6.64s/it, now=None]\u001b[A\n"
     ]
    },
    {
     "name": "stdout",
     "output_type": "stream",
     "text": [
      "Moviepy - Done !\n",
      "Moviepy - video ready behavior_data/control/55.mp4\n",
      "['7.mp4', '55.mp4', '6.mp4', '5.mp4', '53.mp4', '.DS_Store', '52.mp4', '50.mp4', '36.mp4', '37.mp4', '18.mp4', '25.mp4', '19.mp4', '27.mp4', '26.mp4', '17.mp4', '16.mp4', '28.mp4', '39.mp4', '11.mp4', '10.mp4', '38.mp4', '12.mp4', '13.mp4']\n",
      "adding file\n",
      "Moviepy - Building video behavior_data/control/56.mp4.\n",
      "MoviePy - Writing audio in 56TEMP_MPY_wvf_snd.mp4\n"
     ]
    },
    {
     "name": "stderr",
     "output_type": "stream",
     "text": [
      "chunk:   0%|          | 0/45 [00:00<?, ?it/s, now=None]\u001b[A\n",
      "chunk: 100%|██████████| 1/1 [00:06<00:00,  6.69s/it, now=None]\n",
      "t:   0%|          | 0/60 [00:00<?, ?it/s, now=None]\u001b[A\n",
      "                                                   \u001b[A"
     ]
    },
    {
     "name": "stdout",
     "output_type": "stream",
     "text": [
      "MoviePy - Done.\n",
      "Moviepy - Writing video behavior_data/control/56.mp4\n",
      "\n"
     ]
    },
    {
     "name": "stderr",
     "output_type": "stream",
     "text": [
      "chunk: 100%|██████████| 1/1 [00:06<00:00,  6.90s/it, now=None]"
     ]
    },
    {
     "name": "stdout",
     "output_type": "stream",
     "text": [
      "Moviepy - Done !\n",
      "Moviepy - video ready behavior_data/control/56.mp4\n",
      "staring the 10th file\n",
      "http://www.youtube.com/watch?v=ehlLfMossUY\n",
      "This is url:  http://www.youtube.com/watch?v=ehlLfMossUY\n"
     ]
    },
    {
     "name": "stderr",
     "output_type": "stream",
     "text": [
      "chunk: 100%|██████████| 1/1 [00:08<00:00,  8.66s/it, now=None]\n",
      "                                                              "
     ]
    },
    {
     "name": "stdout",
     "output_type": "stream",
     "text": [
      "['.DS_Store', '22.mp4', '23.mp4', '21.mp4', '35.mp4', '34.mp4', '20.mp4', '24.mp4', '30.mp4', '31.mp4', '33.mp4', '32.mp4', '14.mp4', '29.mp4', '15.mp4', '8.mp4', '9.mp4']\n",
      "adding file\n",
      "Moviepy - Building video behavior_data/armflapping/57.mp4.\n",
      "MoviePy - Writing audio in 57TEMP_MPY_wvf_snd.mp4\n"
     ]
    },
    {
     "name": "stderr",
     "output_type": "stream",
     "text": [
      "\n",
      "                                                       \u001b[A\r"
     ]
    },
    {
     "name": "stdout",
     "output_type": "stream",
     "text": [
      "MoviePy - Done.\n",
      "Moviepy - Writing video behavior_data/armflapping/57.mp4\n",
      "\n",
      "Moviepy - Done !\n",
      "Moviepy - video ready behavior_data/armflapping/57.mp4\n",
      "['57.mp4', '.DS_Store', '22.mp4', '23.mp4', '21.mp4', '35.mp4', '34.mp4', '20.mp4', '24.mp4', '30.mp4', '31.mp4', '33.mp4', '32.mp4', '14.mp4', '29.mp4', '15.mp4', '8.mp4', '9.mp4']\n",
      "adding file\n"
     ]
    },
    {
     "name": "stderr",
     "output_type": "stream",
     "text": [
      "                                                       "
     ]
    },
    {
     "name": "stdout",
     "output_type": "stream",
     "text": [
      "Moviepy - Building video behavior_data/armflapping/58.mp4.\n",
      "MoviePy - Writing audio in 58TEMP_MPY_wvf_snd.mp4\n",
      "MoviePy - Done.\n",
      "Moviepy - Writing video behavior_data/armflapping/58.mp4\n",
      "\n"
     ]
    },
    {
     "name": "stderr",
     "output_type": "stream",
     "text": [
      "chunk:   0%|          | 0/45 [00:00<?, ?it/s, now=None]"
     ]
    },
    {
     "name": "stdout",
     "output_type": "stream",
     "text": [
      "Moviepy - Done !\n",
      "Moviepy - video ready behavior_data/armflapping/58.mp4\n",
      "['57.mp4', '.DS_Store', '22.mp4', '23.mp4', '21.mp4', '35.mp4', '34.mp4', '20.mp4', '24.mp4', '30.mp4', '31.mp4', '33.mp4', '32.mp4', '14.mp4', '29.mp4', '15.mp4', '8.mp4', '9.mp4', '58.mp4']\n",
      "adding file\n",
      "Moviepy - Building video behavior_data/armflapping/59.mp4.\n",
      "MoviePy - Writing audio in 59TEMP_MPY_wvf_snd.mp4\n"
     ]
    },
    {
     "name": "stderr",
     "output_type": "stream",
     "text": [
      "                                                       \r"
     ]
    },
    {
     "name": "stdout",
     "output_type": "stream",
     "text": [
      "MoviePy - Done.\n",
      "Moviepy - Writing video behavior_data/armflapping/59.mp4\n",
      "\n",
      "Moviepy - Done !\n",
      "Moviepy - video ready behavior_data/armflapping/59.mp4\n",
      "['7.mp4', '55.mp4', '6.mp4', '56.mp4', '5.mp4', '53.mp4', '.DS_Store', '52.mp4', '50.mp4', '36.mp4', '37.mp4', '18.mp4', '25.mp4', '19.mp4', '27.mp4', '26.mp4', '17.mp4', '16.mp4', '28.mp4', '39.mp4', '11.mp4', '10.mp4', '38.mp4', '12.mp4', '13.mp4']\n",
      "adding file\n"
     ]
    },
    {
     "name": "stderr",
     "output_type": "stream",
     "text": [
      "t:  68%|██████▊   | 122/180 [00:00<00:00, 1199.06it/s, now=None]"
     ]
    },
    {
     "name": "stdout",
     "output_type": "stream",
     "text": [
      "Moviepy - Building video behavior_data/control/60.mp4.\n",
      "MoviePy - Writing audio in 60TEMP_MPY_wvf_snd.mp4\n",
      "MoviePy - Done.\n",
      "Moviepy - Writing video behavior_data/control/60.mp4\n",
      "\n"
     ]
    },
    {
     "name": "stderr",
     "output_type": "stream",
     "text": [
      "chunk:   0%|          | 0/133 [00:00<?, ?it/s, now=None]        "
     ]
    },
    {
     "name": "stdout",
     "output_type": "stream",
     "text": [
      "Moviepy - Done !\n",
      "Moviepy - video ready behavior_data/control/60.mp4\n",
      "['7.mp4', '55.mp4', '6.mp4', '56.mp4', '5.mp4', '53.mp4', '.DS_Store', '52.mp4', '50.mp4', '36.mp4', '37.mp4', '18.mp4', '25.mp4', '19.mp4', '27.mp4', '26.mp4', '17.mp4', '16.mp4', '28.mp4', '39.mp4', '11.mp4', '10.mp4', '38.mp4', '12.mp4', '13.mp4', '60.mp4']\n",
      "adding file\n",
      "Moviepy - Building video behavior_data/control/61.mp4.\n",
      "MoviePy - Writing audio in 61TEMP_MPY_wvf_snd.mp4\n"
     ]
    },
    {
     "name": "stderr",
     "output_type": "stream",
     "text": [
      "                                                                \r"
     ]
    },
    {
     "name": "stdout",
     "output_type": "stream",
     "text": [
      "MoviePy - Done.\n",
      "Moviepy - Writing video behavior_data/control/61.mp4\n",
      "\n"
     ]
    },
    {
     "name": "stderr",
     "output_type": "stream",
     "text": [
      "\r",
      "chunk:   0%|          | 0/133 [00:00<?, ?it/s, now=None]"
     ]
    },
    {
     "name": "stdout",
     "output_type": "stream",
     "text": [
      "Moviepy - Done !\n",
      "Moviepy - video ready behavior_data/control/61.mp4\n",
      "['7.mp4', '55.mp4', '6.mp4', '56.mp4', '5.mp4', '53.mp4', '.DS_Store', '52.mp4', '50.mp4', '36.mp4', '37.mp4', '18.mp4', '25.mp4', '19.mp4', '27.mp4', '26.mp4', '17.mp4', '16.mp4', '28.mp4', '39.mp4', '11.mp4', '10.mp4', '38.mp4', '12.mp4', '13.mp4', '60.mp4', '61.mp4']\n",
      "adding file\n",
      "Moviepy - Building video behavior_data/control/62.mp4.\n",
      "MoviePy - Writing audio in 62TEMP_MPY_wvf_snd.mp4\n"
     ]
    },
    {
     "name": "stderr",
     "output_type": "stream",
     "text": [
      "                                                                \r"
     ]
    },
    {
     "name": "stdout",
     "output_type": "stream",
     "text": [
      "MoviePy - Done.\n",
      "Moviepy - Writing video behavior_data/control/62.mp4\n",
      "\n"
     ]
    },
    {
     "name": "stderr",
     "output_type": "stream",
     "text": [
      "\r",
      "chunk:   0%|          | 0/111 [00:00<?, ?it/s, now=None]"
     ]
    },
    {
     "name": "stdout",
     "output_type": "stream",
     "text": [
      "Moviepy - Done !\n",
      "Moviepy - video ready behavior_data/control/62.mp4\n",
      "['7.mp4', '55.mp4', '6.mp4', '56.mp4', '5.mp4', '53.mp4', '.DS_Store', '52.mp4', '50.mp4', '36.mp4', '37.mp4', '18.mp4', '25.mp4', '19.mp4', '27.mp4', '26.mp4', '17.mp4', '16.mp4', '28.mp4', '39.mp4', '11.mp4', '10.mp4', '38.mp4', '12.mp4', '13.mp4', '60.mp4', '61.mp4', '62.mp4']\n",
      "adding file\n",
      "Moviepy - Building video behavior_data/control/63.mp4.\n",
      "MoviePy - Writing audio in 63TEMP_MPY_wvf_snd.mp4\n"
     ]
    },
    {
     "name": "stderr",
     "output_type": "stream",
     "text": [
      "                                                                \r"
     ]
    },
    {
     "name": "stdout",
     "output_type": "stream",
     "text": [
      "MoviePy - Done.\n",
      "Moviepy - Writing video behavior_data/control/63.mp4\n",
      "\n",
      "Moviepy - Done !\n",
      "Moviepy - video ready behavior_data/control/63.mp4\n",
      "staring the 11th file\n",
      "http://www.youtube.com/watch?v=mnBWOI4LuKw\n",
      "This is url:  http://www.youtube.com/watch?v=mnBWOI4LuKw\n"
     ]
    },
    {
     "name": "stderr",
     "output_type": "stream",
     "text": [
      "\r",
      "chunk:   0%|          | 0/133 [00:00<?, ?it/s, now=None]"
     ]
    },
    {
     "name": "stdout",
     "output_type": "stream",
     "text": [
      "['57.mp4', '.DS_Store', '22.mp4', '23.mp4', '21.mp4', '35.mp4', '34.mp4', '20.mp4', '24.mp4', '30.mp4', '31.mp4', '33.mp4', '32.mp4', '14.mp4', '29.mp4', '15.mp4', '8.mp4', '9.mp4', '59.mp4', '58.mp4']\n",
      "adding file\n",
      "Moviepy - Building video behavior_data/armflapping/64.mp4.\n",
      "MoviePy - Writing audio in 64TEMP_MPY_wvf_snd.mp4\n"
     ]
    },
    {
     "name": "stderr",
     "output_type": "stream",
     "text": [
      "t:  37%|███▋      | 67/179 [00:00<00:00, 662.10it/s, now=None]"
     ]
    },
    {
     "name": "stdout",
     "output_type": "stream",
     "text": [
      "MoviePy - Done.\n",
      "Moviepy - Writing video behavior_data/armflapping/64.mp4\n",
      "\n"
     ]
    },
    {
     "name": "stderr",
     "output_type": "stream",
     "text": [
      "                                                               \r"
     ]
    },
    {
     "name": "stdout",
     "output_type": "stream",
     "text": [
      "Moviepy - Done !\n",
      "Moviepy - video ready behavior_data/armflapping/64.mp4\n",
      "['57.mp4', '.DS_Store', '22.mp4', '23.mp4', '21.mp4', '35.mp4', '34.mp4', '20.mp4', '24.mp4', '30.mp4', '31.mp4', '33.mp4', '32.mp4', '14.mp4', '29.mp4', '15.mp4', '8.mp4', '9.mp4', '59.mp4', '64.mp4', '58.mp4']\n",
      "adding file\n"
     ]
    },
    {
     "name": "stderr",
     "output_type": "stream",
     "text": [
      "t:  38%|███▊      | 68/179 [00:00<00:00, 673.96it/s, now=None]"
     ]
    },
    {
     "name": "stdout",
     "output_type": "stream",
     "text": [
      "Moviepy - Building video behavior_data/armflapping/65.mp4.\n",
      "MoviePy - Writing audio in 65TEMP_MPY_wvf_snd.mp4\n",
      "MoviePy - Done.\n",
      "Moviepy - Writing video behavior_data/armflapping/65.mp4\n",
      "\n"
     ]
    },
    {
     "name": "stderr",
     "output_type": "stream",
     "text": [
      "chunk:   0%|          | 0/133 [00:00<?, ?it/s, now=None]       "
     ]
    },
    {
     "name": "stdout",
     "output_type": "stream",
     "text": [
      "Moviepy - Done !\n",
      "Moviepy - video ready behavior_data/armflapping/65.mp4\n",
      "['57.mp4', '.DS_Store', '22.mp4', '23.mp4', '21.mp4', '35.mp4', '34.mp4', '20.mp4', '24.mp4', '30.mp4', '31.mp4', '33.mp4', '32.mp4', '14.mp4', '29.mp4', '15.mp4', '8.mp4', '9.mp4', '59.mp4', '65.mp4', '64.mp4', '58.mp4']\n",
      "adding file\n",
      "Moviepy - Building video behavior_data/armflapping/66.mp4.\n",
      "MoviePy - Writing audio in 66TEMP_MPY_wvf_snd.mp4\n"
     ]
    },
    {
     "name": "stderr",
     "output_type": "stream",
     "text": [
      "t:  39%|███▊      | 69/179 [00:00<00:00, 685.86it/s, now=None]"
     ]
    },
    {
     "name": "stdout",
     "output_type": "stream",
     "text": [
      "MoviePy - Done.\n",
      "Moviepy - Writing video behavior_data/armflapping/66.mp4\n",
      "\n"
     ]
    },
    {
     "name": "stderr",
     "output_type": "stream",
     "text": [
      "chunk:   0%|          | 0/133 [00:00<?, ?it/s, now=None]       "
     ]
    },
    {
     "name": "stdout",
     "output_type": "stream",
     "text": [
      "Moviepy - Done !\n",
      "Moviepy - video ready behavior_data/armflapping/66.mp4\n",
      "['57.mp4', '.DS_Store', '22.mp4', '23.mp4', '21.mp4', '35.mp4', '34.mp4', '20.mp4', '24.mp4', '30.mp4', '31.mp4', '33.mp4', '32.mp4', '14.mp4', '29.mp4', '15.mp4', '8.mp4', '66.mp4', '9.mp4', '59.mp4', '65.mp4', '64.mp4', '58.mp4']\n",
      "adding file\n",
      "Moviepy - Building video behavior_data/armflapping/67.mp4.\n",
      "MoviePy - Writing audio in 67TEMP_MPY_wvf_snd.mp4\n"
     ]
    },
    {
     "name": "stderr",
     "output_type": "stream",
     "text": [
      "t:  37%|███▋      | 66/179 [00:00<00:00, 655.33it/s, now=None]"
     ]
    },
    {
     "name": "stdout",
     "output_type": "stream",
     "text": [
      "MoviePy - Done.\n",
      "Moviepy - Writing video behavior_data/armflapping/67.mp4\n",
      "\n"
     ]
    },
    {
     "name": "stderr",
     "output_type": "stream",
     "text": [
      "                                                               \r"
     ]
    },
    {
     "name": "stdout",
     "output_type": "stream",
     "text": [
      "Moviepy - Done !\n",
      "Moviepy - video ready behavior_data/armflapping/67.mp4\n",
      "['57.mp4', '.DS_Store', '22.mp4', '23.mp4', '21.mp4', '35.mp4', '34.mp4', '20.mp4', '24.mp4', '30.mp4', '31.mp4', '33.mp4', '32.mp4', '14.mp4', '29.mp4', '15.mp4', '8.mp4', '66.mp4', '67.mp4', '9.mp4', '59.mp4', '65.mp4', '64.mp4', '58.mp4']\n",
      "adding file\n"
     ]
    },
    {
     "name": "stderr",
     "output_type": "stream",
     "text": [
      "t:   0%|          | 0/208 [00:00<?, ?it/s, now=None]                "
     ]
    },
    {
     "name": "stdout",
     "output_type": "stream",
     "text": [
      "Moviepy - Building video behavior_data/armflapping/68.mp4.\n",
      "MoviePy - Writing audio in 68TEMP_MPY_wvf_snd.mp4\n",
      "MoviePy - Done.\n",
      "Moviepy - Writing video behavior_data/armflapping/68.mp4\n",
      "\n"
     ]
    },
    {
     "name": "stderr",
     "output_type": "stream",
     "text": [
      "                                                               \r"
     ]
    },
    {
     "name": "stdout",
     "output_type": "stream",
     "text": [
      "Moviepy - Done !\n",
      "Moviepy - video ready behavior_data/armflapping/68.mp4\n",
      "['68.mp4', '57.mp4', '.DS_Store', '22.mp4', '23.mp4', '21.mp4', '35.mp4', '34.mp4', '20.mp4', '24.mp4', '30.mp4', '31.mp4', '33.mp4', '32.mp4', '14.mp4', '29.mp4', '15.mp4', '8.mp4', '66.mp4', '67.mp4', '9.mp4', '59.mp4', '65.mp4', '64.mp4', '58.mp4']\n",
      "adding file\n"
     ]
    },
    {
     "name": "stderr",
     "output_type": "stream",
     "text": [
      "t:   0%|          | 0/179 [00:00<?, ?it/s, now=None]                "
     ]
    },
    {
     "name": "stdout",
     "output_type": "stream",
     "text": [
      "Moviepy - Building video behavior_data/armflapping/69.mp4.\n",
      "MoviePy - Writing audio in 69TEMP_MPY_wvf_snd.mp4\n",
      "MoviePy - Done.\n",
      "Moviepy - Writing video behavior_data/armflapping/69.mp4\n",
      "\n"
     ]
    },
    {
     "name": "stderr",
     "output_type": "stream",
     "text": [
      "chunk:   0%|          | 0/133 [00:00<?, ?it/s, now=None]       "
     ]
    },
    {
     "name": "stdout",
     "output_type": "stream",
     "text": [
      "Moviepy - Done !\n",
      "Moviepy - video ready behavior_data/armflapping/69.mp4\n",
      "['69.mp4', '68.mp4', '57.mp4', '.DS_Store', '22.mp4', '23.mp4', '21.mp4', '35.mp4', '34.mp4', '20.mp4', '24.mp4', '30.mp4', '31.mp4', '33.mp4', '32.mp4', '14.mp4', '29.mp4', '15.mp4', '8.mp4', '66.mp4', '67.mp4', '9.mp4', '59.mp4', '65.mp4', '64.mp4', '58.mp4']\n",
      "adding file\n",
      "Moviepy - Building video behavior_data/armflapping/70.mp4.\n",
      "MoviePy - Writing audio in 70TEMP_MPY_wvf_snd.mp4\n"
     ]
    },
    {
     "name": "stderr",
     "output_type": "stream",
     "text": [
      "t:  35%|███▌      | 63/179 [00:00<00:00, 624.59it/s, now=None]"
     ]
    },
    {
     "name": "stdout",
     "output_type": "stream",
     "text": [
      "MoviePy - Done.\n",
      "Moviepy - Writing video behavior_data/armflapping/70.mp4\n",
      "\n"
     ]
    },
    {
     "name": "stderr",
     "output_type": "stream",
     "text": [
      "chunk:   0%|          | 0/133 [00:00<?, ?it/s, now=None]       "
     ]
    },
    {
     "name": "stdout",
     "output_type": "stream",
     "text": [
      "Moviepy - Done !\n",
      "Moviepy - video ready behavior_data/armflapping/70.mp4\n",
      "['69.mp4', '68.mp4', '57.mp4', '.DS_Store', '22.mp4', '23.mp4', '21.mp4', '35.mp4', '34.mp4', '20.mp4', '24.mp4', '30.mp4', '31.mp4', '33.mp4', '32.mp4', '14.mp4', '29.mp4', '15.mp4', '8.mp4', '66.mp4', '67.mp4', '9.mp4', '59.mp4', '65.mp4', '64.mp4', '70.mp4', '58.mp4']\n",
      "adding file\n",
      "Moviepy - Building video behavior_data/armflapping/71.mp4.\n",
      "MoviePy - Writing audio in 71TEMP_MPY_wvf_snd.mp4\n"
     ]
    },
    {
     "name": "stderr",
     "output_type": "stream",
     "text": [
      "t:  36%|███▌      | 64/179 [00:00<00:00, 638.45it/s, now=None]"
     ]
    },
    {
     "name": "stdout",
     "output_type": "stream",
     "text": [
      "MoviePy - Done.\n",
      "Moviepy - Writing video behavior_data/armflapping/71.mp4\n",
      "\n"
     ]
    },
    {
     "name": "stderr",
     "output_type": "stream",
     "text": [
      "chunk:   0%|          | 0/133 [00:00<?, ?it/s, now=None]       "
     ]
    },
    {
     "name": "stdout",
     "output_type": "stream",
     "text": [
      "Moviepy - Done !\n",
      "Moviepy - video ready behavior_data/armflapping/71.mp4\n",
      "['69.mp4', '68.mp4', '57.mp4', '.DS_Store', '22.mp4', '23.mp4', '21.mp4', '35.mp4', '34.mp4', '20.mp4', '24.mp4', '30.mp4', '31.mp4', '33.mp4', '32.mp4', '14.mp4', '29.mp4', '15.mp4', '8.mp4', '66.mp4', '67.mp4', '9.mp4', '59.mp4', '71.mp4', '65.mp4', '64.mp4', '70.mp4', '58.mp4']\n",
      "adding file\n",
      "Moviepy - Building video behavior_data/armflapping/72.mp4.\n",
      "MoviePy - Writing audio in 72TEMP_MPY_wvf_snd.mp4\n"
     ]
    },
    {
     "name": "stderr",
     "output_type": "stream",
     "text": [
      "t:  40%|████      | 72/179 [00:00<00:00, 713.42it/s, now=None]"
     ]
    },
    {
     "name": "stdout",
     "output_type": "stream",
     "text": [
      "MoviePy - Done.\n",
      "Moviepy - Writing video behavior_data/armflapping/72.mp4\n",
      "\n"
     ]
    },
    {
     "name": "stderr",
     "output_type": "stream",
     "text": [
      "chunk:   0%|          | 0/133 [00:00<?, ?it/s, now=None]       "
     ]
    },
    {
     "name": "stdout",
     "output_type": "stream",
     "text": [
      "Moviepy - Done !\n",
      "Moviepy - video ready behavior_data/armflapping/72.mp4\n",
      "['69.mp4', '68.mp4', '57.mp4', '.DS_Store', '22.mp4', '23.mp4', '21.mp4', '35.mp4', '34.mp4', '20.mp4', '24.mp4', '30.mp4', '31.mp4', '33.mp4', '32.mp4', '14.mp4', '29.mp4', '15.mp4', '8.mp4', '66.mp4', '72.mp4', '67.mp4', '9.mp4', '59.mp4', '71.mp4', '65.mp4', '64.mp4', '70.mp4', '58.mp4']\n",
      "adding file\n",
      "Moviepy - Building video behavior_data/armflapping/73.mp4.\n",
      "MoviePy - Writing audio in 73TEMP_MPY_wvf_snd.mp4\n"
     ]
    },
    {
     "name": "stderr",
     "output_type": "stream",
     "text": [
      "t:  39%|███▉      | 70/179 [00:00<00:00, 698.99it/s, now=None]"
     ]
    },
    {
     "name": "stdout",
     "output_type": "stream",
     "text": [
      "MoviePy - Done.\n",
      "Moviepy - Writing video behavior_data/armflapping/73.mp4\n",
      "\n"
     ]
    },
    {
     "name": "stderr",
     "output_type": "stream",
     "text": [
      "chunk:   0%|          | 0/133 [00:00<?, ?it/s, now=None]       "
     ]
    },
    {
     "name": "stdout",
     "output_type": "stream",
     "text": [
      "Moviepy - Done !\n",
      "Moviepy - video ready behavior_data/armflapping/73.mp4\n",
      "['69.mp4', '68.mp4', '57.mp4', '.DS_Store', '22.mp4', '23.mp4', '21.mp4', '35.mp4', '34.mp4', '20.mp4', '24.mp4', '30.mp4', '31.mp4', '33.mp4', '32.mp4', '14.mp4', '29.mp4', '15.mp4', '8.mp4', '66.mp4', '72.mp4', '73.mp4', '67.mp4', '9.mp4', '59.mp4', '71.mp4', '65.mp4', '64.mp4', '70.mp4', '58.mp4']\n",
      "adding file\n",
      "Moviepy - Building video behavior_data/armflapping/74.mp4.\n",
      "MoviePy - Writing audio in 74TEMP_MPY_wvf_snd.mp4\n"
     ]
    },
    {
     "name": "stderr",
     "output_type": "stream",
     "text": [
      "t:  40%|████      | 72/179 [00:00<00:00, 689.91it/s, now=None]"
     ]
    },
    {
     "name": "stdout",
     "output_type": "stream",
     "text": [
      "MoviePy - Done.\n",
      "Moviepy - Writing video behavior_data/armflapping/74.mp4\n",
      "\n"
     ]
    },
    {
     "name": "stderr",
     "output_type": "stream",
     "text": [
      "chunk:   0%|          | 0/133 [00:00<?, ?it/s, now=None]       "
     ]
    },
    {
     "name": "stdout",
     "output_type": "stream",
     "text": [
      "Moviepy - Done !\n",
      "Moviepy - video ready behavior_data/armflapping/74.mp4\n",
      "['69.mp4', '68.mp4', '57.mp4', '.DS_Store', '22.mp4', '23.mp4', '21.mp4', '35.mp4', '34.mp4', '20.mp4', '24.mp4', '30.mp4', '31.mp4', '33.mp4', '32.mp4', '14.mp4', '29.mp4', '15.mp4', '74.mp4', '8.mp4', '66.mp4', '72.mp4', '73.mp4', '67.mp4', '9.mp4', '59.mp4', '71.mp4', '65.mp4', '64.mp4', '70.mp4', '58.mp4']\n",
      "adding file\n",
      "Moviepy - Building video behavior_data/armflapping/75.mp4.\n",
      "MoviePy - Writing audio in 75TEMP_MPY_wvf_snd.mp4\n"
     ]
    },
    {
     "name": "stderr",
     "output_type": "stream",
     "text": [
      "t:  39%|███▊      | 69/179 [00:00<00:00, 687.65it/s, now=None]"
     ]
    },
    {
     "name": "stdout",
     "output_type": "stream",
     "text": [
      "MoviePy - Done.\n",
      "Moviepy - Writing video behavior_data/armflapping/75.mp4\n",
      "\n"
     ]
    },
    {
     "name": "stderr",
     "output_type": "stream",
     "text": [
      "                                                               \r"
     ]
    },
    {
     "name": "stdout",
     "output_type": "stream",
     "text": [
      "Moviepy - Done !\n",
      "Moviepy - video ready behavior_data/armflapping/75.mp4\n",
      "['69.mp4', '68.mp4', '57.mp4', '.DS_Store', '22.mp4', '23.mp4', '21.mp4', '35.mp4', '34.mp4', '20.mp4', '24.mp4', '30.mp4', '31.mp4', '33.mp4', '32.mp4', '14.mp4', '29.mp4', '15.mp4', '74.mp4', '75.mp4', '8.mp4', '66.mp4', '72.mp4', '73.mp4', '67.mp4', '9.mp4', '59.mp4', '71.mp4', '65.mp4', '64.mp4', '70.mp4', '58.mp4']\n",
      "adding file\n"
     ]
    },
    {
     "name": "stderr",
     "output_type": "stream",
     "text": [
      "t:   0%|          | 0/208 [00:00<?, ?it/s, now=None]                "
     ]
    },
    {
     "name": "stdout",
     "output_type": "stream",
     "text": [
      "Moviepy - Building video behavior_data/armflapping/76.mp4.\n",
      "MoviePy - Writing audio in 76TEMP_MPY_wvf_snd.mp4\n",
      "MoviePy - Done.\n",
      "Moviepy - Writing video behavior_data/armflapping/76.mp4\n",
      "\n"
     ]
    },
    {
     "name": "stderr",
     "output_type": "stream",
     "text": [
      "                                                               \r"
     ]
    },
    {
     "name": "stdout",
     "output_type": "stream",
     "text": [
      "Moviepy - Done !\n",
      "Moviepy - video ready behavior_data/armflapping/76.mp4\n",
      "['69.mp4', '68.mp4', '57.mp4', '.DS_Store', '22.mp4', '23.mp4', '21.mp4', '35.mp4', '34.mp4', '20.mp4', '24.mp4', '30.mp4', '31.mp4', '33.mp4', '32.mp4', '14.mp4', '29.mp4', '15.mp4', '74.mp4', '75.mp4', '76.mp4', '8.mp4', '66.mp4', '72.mp4', '73.mp4', '67.mp4', '9.mp4', '59.mp4', '71.mp4', '65.mp4', '64.mp4', '70.mp4', '58.mp4']\n",
      "adding file\n"
     ]
    },
    {
     "name": "stderr",
     "output_type": "stream",
     "text": [
      "t:   0%|          | 0/179 [00:00<?, ?it/s, now=None]    "
     ]
    },
    {
     "name": "stdout",
     "output_type": "stream",
     "text": [
      "Moviepy - Building video behavior_data/armflapping/77.mp4.\n",
      "MoviePy - Writing audio in 77TEMP_MPY_wvf_snd.mp4\n",
      "MoviePy - Done.\n",
      "Moviepy - Writing video behavior_data/armflapping/77.mp4\n",
      "\n"
     ]
    },
    {
     "name": "stderr",
     "output_type": "stream",
     "text": [
      "                                                               \r"
     ]
    },
    {
     "name": "stdout",
     "output_type": "stream",
     "text": [
      "Moviepy - Done !\n",
      "Moviepy - video ready behavior_data/armflapping/77.mp4\n",
      "['69.mp4', '68.mp4', '57.mp4', '.DS_Store', '22.mp4', '23.mp4', '21.mp4', '35.mp4', '34.mp4', '20.mp4', '24.mp4', '30.mp4', '31.mp4', '33.mp4', '32.mp4', '14.mp4', '29.mp4', '15.mp4', '74.mp4', '75.mp4', '77.mp4', '76.mp4', '8.mp4', '66.mp4', '72.mp4', '73.mp4', '67.mp4', '9.mp4', '59.mp4', '71.mp4', '65.mp4', '64.mp4', '70.mp4', '58.mp4']\n",
      "adding file\n"
     ]
    },
    {
     "name": "stderr",
     "output_type": "stream",
     "text": [
      "t:   0%|          | 0/179 [00:00<?, ?it/s, now=None]    "
     ]
    },
    {
     "name": "stdout",
     "output_type": "stream",
     "text": [
      "Moviepy - Building video behavior_data/armflapping/78.mp4.\n",
      "MoviePy - Writing audio in 78TEMP_MPY_wvf_snd.mp4\n",
      "MoviePy - Done.\n",
      "Moviepy - Writing video behavior_data/armflapping/78.mp4\n",
      "\n"
     ]
    },
    {
     "name": "stderr",
     "output_type": "stream",
     "text": [
      "                                                               "
     ]
    },
    {
     "name": "stdout",
     "output_type": "stream",
     "text": [
      "Moviepy - Done !\n",
      "Moviepy - video ready behavior_data/armflapping/78.mp4\n",
      "['7.mp4', '55.mp4', '6.mp4', '56.mp4', '5.mp4', '53.mp4', '.DS_Store', '52.mp4', '50.mp4', '36.mp4', '37.mp4', '18.mp4', '25.mp4', '19.mp4', '27.mp4', '26.mp4', '17.mp4', '16.mp4', '28.mp4', '39.mp4', '11.mp4', '10.mp4', '38.mp4', '12.mp4', '13.mp4', '60.mp4', '61.mp4', '63.mp4', '62.mp4']\n",
      "adding file\n",
      "Moviepy - Building video behavior_data/control/79.mp4.\n",
      "MoviePy - Writing audio in 79TEMP_MPY_wvf_snd.mp4\n"
     ]
    },
    {
     "name": "stderr",
     "output_type": "stream",
     "text": [
      "                                                   \r"
     ]
    },
    {
     "name": "stdout",
     "output_type": "stream",
     "text": [
      "MoviePy - Done.\n",
      "Moviepy - Writing video behavior_data/control/79.mp4\n",
      "\n",
      "Moviepy - Done !\n",
      "Moviepy - video ready behavior_data/control/79.mp4\n"
     ]
    },
    {
     "name": "stderr",
     "output_type": "stream",
     "text": [
      "\r",
      "chunk:   0%|          | 0/155 [00:00<?, ?it/s, now=None]"
     ]
    },
    {
     "name": "stdout",
     "output_type": "stream",
     "text": [
      "['7.mp4', '55.mp4', '6.mp4', '56.mp4', '5.mp4', '53.mp4', '.DS_Store', '52.mp4', '50.mp4', '79.mp4', '36.mp4', '37.mp4', '18.mp4', '25.mp4', '19.mp4', '27.mp4', '26.mp4', '17.mp4', '16.mp4', '28.mp4', '39.mp4', '11.mp4', '10.mp4', '38.mp4', '12.mp4', '13.mp4', '60.mp4', '61.mp4', '63.mp4', '62.mp4']\n",
      "adding file\n",
      "Moviepy - Building video behavior_data/control/80.mp4.\n",
      "MoviePy - Writing audio in 80TEMP_MPY_wvf_snd.mp4\n"
     ]
    },
    {
     "name": "stderr",
     "output_type": "stream",
     "text": [
      "t:  30%|███       | 63/208 [00:00<00:00, 629.06it/s, now=None]      "
     ]
    },
    {
     "name": "stdout",
     "output_type": "stream",
     "text": [
      "MoviePy - Done.\n",
      "Moviepy - Writing video behavior_data/control/80.mp4\n",
      "\n"
     ]
    },
    {
     "name": "stderr",
     "output_type": "stream",
     "text": [
      "                                                               \r"
     ]
    },
    {
     "name": "stdout",
     "output_type": "stream",
     "text": [
      "Moviepy - Done !\n",
      "Moviepy - video ready behavior_data/control/80.mp4\n",
      "['7.mp4', '55.mp4', '6.mp4', '56.mp4', '5.mp4', '80.mp4', '53.mp4', '.DS_Store', '52.mp4', '50.mp4', '79.mp4', '36.mp4', '37.mp4', '18.mp4', '25.mp4', '19.mp4', '27.mp4', '26.mp4', '17.mp4', '16.mp4', '28.mp4', '39.mp4', '11.mp4', '10.mp4', '38.mp4', '12.mp4', '13.mp4', '60.mp4', '61.mp4', '63.mp4', '62.mp4']\n",
      "adding file\n"
     ]
    },
    {
     "name": "stderr",
     "output_type": "stream",
     "text": [
      "t:   0%|          | 0/179 [00:00<?, ?it/s, now=None]    "
     ]
    },
    {
     "name": "stdout",
     "output_type": "stream",
     "text": [
      "Moviepy - Building video behavior_data/control/81.mp4.\n",
      "MoviePy - Writing audio in 81TEMP_MPY_wvf_snd.mp4\n",
      "MoviePy - Done.\n",
      "Moviepy - Writing video behavior_data/control/81.mp4\n",
      "\n"
     ]
    },
    {
     "name": "stderr",
     "output_type": "stream",
     "text": [
      "                                                               \r"
     ]
    },
    {
     "name": "stdout",
     "output_type": "stream",
     "text": [
      "Moviepy - Done !\n",
      "Moviepy - video ready behavior_data/control/81.mp4\n",
      "['7.mp4', '55.mp4', '6.mp4', '81.mp4', '56.mp4', '5.mp4', '80.mp4', '53.mp4', '.DS_Store', '52.mp4', '50.mp4', '79.mp4', '36.mp4', '37.mp4', '18.mp4', '25.mp4', '19.mp4', '27.mp4', '26.mp4', '17.mp4', '16.mp4', '28.mp4', '39.mp4', '11.mp4', '10.mp4', '38.mp4', '12.mp4', '13.mp4', '60.mp4', '61.mp4', '63.mp4', '62.mp4']\n",
      "adding file\n"
     ]
    },
    {
     "name": "stderr",
     "output_type": "stream",
     "text": [
      "t:   0%|          | 0/179 [00:00<?, ?it/s, now=None]    "
     ]
    },
    {
     "name": "stdout",
     "output_type": "stream",
     "text": [
      "Moviepy - Building video behavior_data/control/82.mp4.\n",
      "MoviePy - Writing audio in 82TEMP_MPY_wvf_snd.mp4\n",
      "MoviePy - Done.\n",
      "Moviepy - Writing video behavior_data/control/82.mp4\n",
      "\n"
     ]
    },
    {
     "name": "stderr",
     "output_type": "stream",
     "text": [
      "                                                               \r"
     ]
    },
    {
     "name": "stdout",
     "output_type": "stream",
     "text": [
      "Moviepy - Done !\n",
      "Moviepy - video ready behavior_data/control/82.mp4\n",
      "staring the 12th file\n",
      "http://www.youtube.com/watch?v=3Oh_Lmehb6c\n",
      "This is url:  http://www.youtube.com/watch?v=3Oh_Lmehb6c\n",
      "['69.mp4', '68.mp4', '57.mp4', '.DS_Store', '78.mp4', '22.mp4', '23.mp4', '21.mp4', '35.mp4', '34.mp4', '20.mp4', '24.mp4', '30.mp4', '31.mp4', '33.mp4', '32.mp4', '14.mp4', '29.mp4', '15.mp4', '74.mp4', '75.mp4', '77.mp4', '76.mp4', '8.mp4', '66.mp4', '72.mp4', '73.mp4', '67.mp4', '9.mp4', '59.mp4', '71.mp4', '65.mp4', '64.mp4', '70.mp4', '58.mp4']\n",
      "adding file\n"
     ]
    },
    {
     "name": "stderr",
     "output_type": "stream",
     "text": [
      "t:  30%|███       | 27/90 [00:00<00:00, 266.23it/s, now=None]"
     ]
    },
    {
     "name": "stdout",
     "output_type": "stream",
     "text": [
      "Moviepy - Building video behavior_data/armflapping/83.mp4.\n",
      "MoviePy - Writing audio in 83TEMP_MPY_wvf_snd.mp4\n",
      "MoviePy - Done.\n",
      "Moviepy - Writing video behavior_data/armflapping/83.mp4\n",
      "\n"
     ]
    },
    {
     "name": "stderr",
     "output_type": "stream",
     "text": [
      "                                                             \r"
     ]
    },
    {
     "name": "stdout",
     "output_type": "stream",
     "text": [
      "Moviepy - Done !\n",
      "Moviepy - video ready behavior_data/armflapping/83.mp4\n",
      "['69.mp4', '68.mp4', '83.mp4', '57.mp4', '.DS_Store', '78.mp4', '22.mp4', '23.mp4', '21.mp4', '35.mp4', '34.mp4', '20.mp4', '24.mp4', '30.mp4', '31.mp4', '33.mp4', '32.mp4', '14.mp4', '29.mp4', '15.mp4', '74.mp4', '75.mp4', '77.mp4', '76.mp4', '8.mp4', '66.mp4', '72.mp4', '73.mp4', '67.mp4', '9.mp4', '59.mp4', '71.mp4', '65.mp4', '64.mp4', '70.mp4', '58.mp4']\n",
      "adding file\n"
     ]
    },
    {
     "name": "stderr",
     "output_type": "stream",
     "text": [
      "t:   0%|          | 0/150 [00:00<?, ?it/s, now=None]    "
     ]
    },
    {
     "name": "stdout",
     "output_type": "stream",
     "text": [
      "Moviepy - Building video behavior_data/armflapping/84.mp4.\n",
      "MoviePy - Writing audio in 84TEMP_MPY_wvf_snd.mp4\n",
      "MoviePy - Done.\n",
      "Moviepy - Writing video behavior_data/armflapping/84.mp4\n",
      "\n"
     ]
    },
    {
     "name": "stderr",
     "output_type": "stream",
     "text": [
      "                                                               \r"
     ]
    },
    {
     "name": "stdout",
     "output_type": "stream",
     "text": [
      "Moviepy - Done !\n",
      "Moviepy - video ready behavior_data/armflapping/84.mp4\n",
      "['69.mp4', '68.mp4', '83.mp4', '57.mp4', '84.mp4', '.DS_Store', '78.mp4', '22.mp4', '23.mp4', '21.mp4', '35.mp4', '34.mp4', '20.mp4', '24.mp4', '30.mp4', '31.mp4', '33.mp4', '32.mp4', '14.mp4', '29.mp4', '15.mp4', '74.mp4', '75.mp4', '77.mp4', '76.mp4', '8.mp4', '66.mp4', '72.mp4', '73.mp4', '67.mp4', '9.mp4', '59.mp4', '71.mp4', '65.mp4', '64.mp4', '70.mp4', '58.mp4']\n",
      "adding file\n"
     ]
    },
    {
     "name": "stderr",
     "output_type": "stream",
     "text": [
      "t:   0%|          | 0/150 [00:00<?, ?it/s, now=None]                "
     ]
    },
    {
     "name": "stdout",
     "output_type": "stream",
     "text": [
      "Moviepy - Building video behavior_data/armflapping/85.mp4.\n",
      "MoviePy - Writing audio in 85TEMP_MPY_wvf_snd.mp4\n",
      "MoviePy - Done.\n",
      "Moviepy - Writing video behavior_data/armflapping/85.mp4\n",
      "\n"
     ]
    },
    {
     "name": "stderr",
     "output_type": "stream",
     "text": [
      "                                                               \r"
     ]
    },
    {
     "name": "stdout",
     "output_type": "stream",
     "text": [
      "Moviepy - Done !\n",
      "Moviepy - video ready behavior_data/armflapping/85.mp4\n",
      "['82.mp4', '7.mp4', '55.mp4', '6.mp4', '81.mp4', '56.mp4', '5.mp4', '80.mp4', '53.mp4', '.DS_Store', '52.mp4', '50.mp4', '79.mp4', '36.mp4', '37.mp4', '18.mp4', '25.mp4', '19.mp4', '27.mp4', '26.mp4', '17.mp4', '16.mp4', '28.mp4', '39.mp4', '11.mp4', '10.mp4', '38.mp4', '12.mp4', '13.mp4', '60.mp4', '61.mp4', '63.mp4', '62.mp4']\n",
      "adding file\n"
     ]
    },
    {
     "name": "stderr",
     "output_type": "stream",
     "text": [
      "t:  14%|█▍        | 25/180 [00:00<00:00, 247.30it/s, now=None]"
     ]
    },
    {
     "name": "stdout",
     "output_type": "stream",
     "text": [
      "Moviepy - Building video behavior_data/control/86.mp4.\n",
      "MoviePy - Writing audio in 86TEMP_MPY_wvf_snd.mp4\n",
      "MoviePy - Done.\n",
      "Moviepy - Writing video behavior_data/control/86.mp4\n",
      "\n"
     ]
    },
    {
     "name": "stderr",
     "output_type": "stream",
     "text": [
      "                                                               \r"
     ]
    },
    {
     "name": "stdout",
     "output_type": "stream",
     "text": [
      "Moviepy - Done !\n",
      "Moviepy - video ready behavior_data/control/86.mp4\n",
      "['82.mp4', '7.mp4', '55.mp4', '6.mp4', '81.mp4', '56.mp4', '5.mp4', '80.mp4', '53.mp4', '.DS_Store', '52.mp4', '50.mp4', '79.mp4', '86.mp4', '36.mp4', '37.mp4', '18.mp4', '25.mp4', '19.mp4', '27.mp4', '26.mp4', '17.mp4', '16.mp4', '28.mp4', '39.mp4', '11.mp4', '10.mp4', '38.mp4', '12.mp4', '13.mp4', '60.mp4', '61.mp4', '63.mp4', '62.mp4']\n",
      "adding file\n"
     ]
    },
    {
     "name": "stderr",
     "output_type": "stream",
     "text": [
      "t:  16%|█▌        | 24/150 [00:00<00:00, 238.24it/s, now=None]"
     ]
    },
    {
     "name": "stdout",
     "output_type": "stream",
     "text": [
      "Moviepy - Building video behavior_data/control/87.mp4.\n",
      "MoviePy - Writing audio in 87TEMP_MPY_wvf_snd.mp4\n",
      "MoviePy - Done.\n",
      "Moviepy - Writing video behavior_data/control/87.mp4\n",
      "\n"
     ]
    },
    {
     "name": "stderr",
     "output_type": "stream",
     "text": [
      "                                                               \r"
     ]
    },
    {
     "name": "stdout",
     "output_type": "stream",
     "text": [
      "Moviepy - Done !\n",
      "Moviepy - video ready behavior_data/control/87.mp4\n",
      "['82.mp4', '7.mp4', '55.mp4', '6.mp4', '81.mp4', '56.mp4', '5.mp4', '80.mp4', '53.mp4', '.DS_Store', '52.mp4', '87.mp4', '50.mp4', '79.mp4', '86.mp4', '36.mp4', '37.mp4', '18.mp4', '25.mp4', '19.mp4', '27.mp4', '26.mp4', '17.mp4', '16.mp4', '28.mp4', '39.mp4', '11.mp4', '10.mp4', '38.mp4', '12.mp4', '13.mp4', '60.mp4', '61.mp4', '63.mp4', '62.mp4']\n",
      "adding file\n"
     ]
    },
    {
     "name": "stderr",
     "output_type": "stream",
     "text": [
      "t:  17%|█▋        | 26/150 [00:00<00:00, 258.93it/s, now=None]"
     ]
    },
    {
     "name": "stdout",
     "output_type": "stream",
     "text": [
      "Moviepy - Building video behavior_data/control/88.mp4.\n",
      "MoviePy - Writing audio in 88TEMP_MPY_wvf_snd.mp4\n",
      "MoviePy - Done.\n",
      "Moviepy - Writing video behavior_data/control/88.mp4\n",
      "\n"
     ]
    },
    {
     "name": "stderr",
     "output_type": "stream",
     "text": [
      "                                                               \r"
     ]
    },
    {
     "name": "stdout",
     "output_type": "stream",
     "text": [
      "Moviepy - Done !\n",
      "Moviepy - video ready behavior_data/control/88.mp4\n",
      "['82.mp4', '7.mp4', '55.mp4', '6.mp4', '81.mp4', '56.mp4', '5.mp4', '80.mp4', '53.mp4', '.DS_Store', '52.mp4', '87.mp4', '50.mp4', '79.mp4', '86.mp4', '36.mp4', '37.mp4', '18.mp4', '25.mp4', '19.mp4', '27.mp4', '26.mp4', '17.mp4', '16.mp4', '28.mp4', '39.mp4', '11.mp4', '10.mp4', '38.mp4', '12.mp4', '13.mp4', '60.mp4', '61.mp4', '88.mp4', '63.mp4', '62.mp4']\n",
      "adding file\n"
     ]
    },
    {
     "name": "stderr",
     "output_type": "stream",
     "text": [
      "t:  18%|█▊        | 27/150 [00:00<00:00, 264.85it/s, now=None]"
     ]
    },
    {
     "name": "stdout",
     "output_type": "stream",
     "text": [
      "Moviepy - Building video behavior_data/control/89.mp4.\n",
      "MoviePy - Writing audio in 89TEMP_MPY_wvf_snd.mp4\n",
      "MoviePy - Done.\n",
      "Moviepy - Writing video behavior_data/control/89.mp4\n",
      "\n"
     ]
    },
    {
     "name": "stderr",
     "output_type": "stream",
     "text": [
      "                                                               \r"
     ]
    },
    {
     "name": "stdout",
     "output_type": "stream",
     "text": [
      "Moviepy - Done !\n",
      "Moviepy - video ready behavior_data/control/89.mp4\n",
      "staring the 13th file\n",
      "http://www.youtube.com/watch?v=T9rbit_oiJA\n",
      "This is url:  http://www.youtube.com/watch?v=T9rbit_oiJA\n",
      "annoying url: http://www.youtube.com/watch?v=T9rbit_oiJA\n",
      "T9rbit_oiJA is a private video\n",
      "staring the 14th file\n",
      "http://www.youtube.com/watch?v=6sR-8llWl_s\n",
      "This is url:  http://www.youtube.com/watch?v=6sR-8llWl_s\n"
     ]
    },
    {
     "name": "stderr",
     "output_type": "stream",
     "text": [
      "\r",
      "chunk:   0%|          | 0/111 [00:00<?, ?it/s, now=None]"
     ]
    },
    {
     "name": "stdout",
     "output_type": "stream",
     "text": [
      "['41.mp4', '40.mp4', '54.mp4', '42.mp4', '43.mp4', '47.mp4', '1.mp4', '.DS_Store', '0.mp4', '46.mp4', '2.mp4', '44.mp4', '45.mp4', '3.mp4', '48.mp4', '49.mp4']\n",
      "adding file\n",
      "Moviepy - Building video behavior_data/headbanging/90.mp4.\n",
      "MoviePy - Writing audio in 90TEMP_MPY_wvf_snd.mp4\n"
     ]
    },
    {
     "name": "stderr",
     "output_type": "stream",
     "text": [
      "t:  68%|██████▊   | 57/84 [00:00<00:00, 474.20it/s, now=None]"
     ]
    },
    {
     "name": "stdout",
     "output_type": "stream",
     "text": [
      "MoviePy - Done.\n",
      "Moviepy - Writing video behavior_data/headbanging/90.mp4\n",
      "\n"
     ]
    },
    {
     "name": "stderr",
     "output_type": "stream",
     "text": [
      "                                                             \r"
     ]
    },
    {
     "name": "stdout",
     "output_type": "stream",
     "text": [
      "Moviepy - Done !\n",
      "Moviepy - video ready behavior_data/headbanging/90.mp4\n",
      "['41.mp4', '40.mp4', '54.mp4', '42.mp4', '43.mp4', '90.mp4', '47.mp4', '1.mp4', '.DS_Store', '0.mp4', '46.mp4', '2.mp4', '44.mp4', '45.mp4', '3.mp4', '48.mp4', '49.mp4']\n",
      "adding file\n"
     ]
    },
    {
     "name": "stderr",
     "output_type": "stream",
     "text": [
      "t:   0%|          | 0/84 [00:00<?, ?it/s, now=None]     "
     ]
    },
    {
     "name": "stdout",
     "output_type": "stream",
     "text": [
      "Moviepy - Building video behavior_data/headbanging/91.mp4.\n",
      "MoviePy - Writing audio in 91TEMP_MPY_wvf_snd.mp4\n",
      "MoviePy - Done.\n",
      "Moviepy - Writing video behavior_data/headbanging/91.mp4\n",
      "\n"
     ]
    },
    {
     "name": "stderr",
     "output_type": "stream",
     "text": [
      "                                                             \r"
     ]
    },
    {
     "name": "stdout",
     "output_type": "stream",
     "text": [
      "Moviepy - Done !\n",
      "Moviepy - video ready behavior_data/headbanging/91.mp4\n",
      "['41.mp4', '40.mp4', '54.mp4', '42.mp4', '43.mp4', '90.mp4', '47.mp4', '1.mp4', '.DS_Store', '0.mp4', '46.mp4', '91.mp4', '2.mp4', '44.mp4', '45.mp4', '3.mp4', '48.mp4', '49.mp4']\n",
      "adding file\n",
      "Moviepy - Building video behavior_data/headbanging/92.mp4.\n",
      "MoviePy - Writing audio in 92TEMP_MPY_wvf_snd.mp4\n"
     ]
    },
    {
     "name": "stderr",
     "output_type": "stream",
     "text": [
      "t:  68%|██████▊   | 57/84 [00:00<00:00, 482.92it/s, now=None]"
     ]
    },
    {
     "name": "stdout",
     "output_type": "stream",
     "text": [
      "MoviePy - Done.\n",
      "Moviepy - Writing video behavior_data/headbanging/92.mp4\n",
      "\n"
     ]
    },
    {
     "name": "stderr",
     "output_type": "stream",
     "text": [
      "chunk:   0%|          | 0/89 [00:00<?, ?it/s, now=None]      "
     ]
    },
    {
     "name": "stdout",
     "output_type": "stream",
     "text": [
      "Moviepy - Done !\n",
      "Moviepy - video ready behavior_data/headbanging/92.mp4\n",
      "['82.mp4', '7.mp4', '55.mp4', '6.mp4', '81.mp4', '56.mp4', '5.mp4', '80.mp4', '53.mp4', '.DS_Store', '52.mp4', '87.mp4', '50.mp4', '79.mp4', '86.mp4', '36.mp4', '37.mp4', '18.mp4', '25.mp4', '19.mp4', '27.mp4', '26.mp4', '17.mp4', '16.mp4', '28.mp4', '39.mp4', '11.mp4', '10.mp4', '38.mp4', '12.mp4', '13.mp4', '60.mp4', '61.mp4', '88.mp4', '63.mp4', '62.mp4', '89.mp4']\n",
      "adding file\n",
      "Moviepy - Building video behavior_data/control/93.mp4.\n",
      "MoviePy - Writing audio in 93TEMP_MPY_wvf_snd.mp4\n"
     ]
    },
    {
     "name": "stderr",
     "output_type": "stream",
     "text": [
      "                                                             \r"
     ]
    },
    {
     "name": "stdout",
     "output_type": "stream",
     "text": [
      "MoviePy - Done.\n",
      "Moviepy - Writing video behavior_data/control/93.mp4\n",
      "\n",
      "Moviepy - Done !\n",
      "Moviepy - video ready behavior_data/control/93.mp4\n",
      "['82.mp4', '7.mp4', '55.mp4', '6.mp4', '81.mp4', '56.mp4', '5.mp4', '80.mp4', '53.mp4', '.DS_Store', '52.mp4', '93.mp4', '87.mp4', '50.mp4', '79.mp4', '86.mp4', '36.mp4', '37.mp4', '18.mp4', '25.mp4', '19.mp4', '27.mp4', '26.mp4', '17.mp4', '16.mp4', '28.mp4', '39.mp4', '11.mp4', '10.mp4', '38.mp4', '12.mp4', '13.mp4', '60.mp4', '61.mp4', '88.mp4', '63.mp4', '62.mp4', '89.mp4']\n",
      "adding file\n"
     ]
    },
    {
     "name": "stderr",
     "output_type": "stream",
     "text": [
      "                                                       "
     ]
    },
    {
     "name": "stdout",
     "output_type": "stream",
     "text": [
      "Moviepy - Building video behavior_data/control/94.mp4.\n",
      "MoviePy - Writing audio in 94TEMP_MPY_wvf_snd.mp4\n",
      "MoviePy - Done.\n",
      "Moviepy - Writing video behavior_data/control/94.mp4\n",
      "\n"
     ]
    },
    {
     "name": "stderr",
     "output_type": "stream",
     "text": [
      "\r"
     ]
    },
    {
     "name": "stdout",
     "output_type": "stream",
     "text": [
      "Moviepy - Done !\n",
      "Moviepy - video ready behavior_data/control/94.mp4\n",
      "['82.mp4', '7.mp4', '55.mp4', '6.mp4', '81.mp4', '56.mp4', '5.mp4', '94.mp4', '80.mp4', '53.mp4', '.DS_Store', '52.mp4', '93.mp4', '87.mp4', '50.mp4', '79.mp4', '86.mp4', '36.mp4', '37.mp4', '18.mp4', '25.mp4', '19.mp4', '27.mp4', '26.mp4', '17.mp4', '16.mp4', '28.mp4', '39.mp4', '11.mp4', '10.mp4', '38.mp4', '12.mp4', '13.mp4', '60.mp4', '61.mp4', '88.mp4', '63.mp4', '62.mp4', '89.mp4']\n",
      "adding file\n"
     ]
    },
    {
     "name": "stderr",
     "output_type": "stream",
     "text": [
      "t:   0%|          | 0/101 [00:00<?, ?it/s, now=None]    "
     ]
    },
    {
     "name": "stdout",
     "output_type": "stream",
     "text": [
      "Moviepy - Building video behavior_data/control/95.mp4.\n",
      "MoviePy - Writing audio in 95TEMP_MPY_wvf_snd.mp4\n",
      "MoviePy - Done.\n",
      "Moviepy - Writing video behavior_data/control/95.mp4\n",
      "\n"
     ]
    },
    {
     "name": "stderr",
     "output_type": "stream",
     "text": [
      "                                                              \r"
     ]
    },
    {
     "name": "stdout",
     "output_type": "stream",
     "text": [
      "Moviepy - Done !\n",
      "Moviepy - video ready behavior_data/control/95.mp4\n",
      "['82.mp4', '7.mp4', '55.mp4', '6.mp4', '81.mp4', '95.mp4', '56.mp4', '5.mp4', '94.mp4', '80.mp4', '53.mp4', '.DS_Store', '52.mp4', '93.mp4', '87.mp4', '50.mp4', '79.mp4', '86.mp4', '36.mp4', '37.mp4', '18.mp4', '25.mp4', '19.mp4', '27.mp4', '26.mp4', '17.mp4', '16.mp4', '28.mp4', '39.mp4', '11.mp4', '10.mp4', '38.mp4', '12.mp4', '13.mp4', '60.mp4', '61.mp4', '88.mp4', '63.mp4', '62.mp4', '89.mp4']\n",
      "adding file\n"
     ]
    },
    {
     "name": "stderr",
     "output_type": "stream",
     "text": [
      "t:   0%|          | 0/101 [00:00<?, ?it/s, now=None]    "
     ]
    },
    {
     "name": "stdout",
     "output_type": "stream",
     "text": [
      "Moviepy - Building video behavior_data/control/96.mp4.\n",
      "MoviePy - Writing audio in 96TEMP_MPY_wvf_snd.mp4\n",
      "MoviePy - Done.\n",
      "Moviepy - Writing video behavior_data/control/96.mp4\n",
      "\n"
     ]
    },
    {
     "name": "stderr",
     "output_type": "stream",
     "text": [
      "                                                              \r"
     ]
    },
    {
     "name": "stdout",
     "output_type": "stream",
     "text": [
      "Moviepy - Done !\n",
      "Moviepy - video ready behavior_data/control/96.mp4\n",
      "staring the 15th file\n",
      "http://www.youtube.com/watch?v=Z2kfvB4lv7A\n",
      "This is url:  http://www.youtube.com/watch?v=Z2kfvB4lv7A\n"
     ]
    },
    {
     "name": "stderr",
     "output_type": "stream",
     "text": [
      "\r",
      "chunk:   0%|          | 0/111 [00:00<?, ?it/s, now=None]"
     ]
    },
    {
     "name": "stdout",
     "output_type": "stream",
     "text": [
      "['69.mp4', '68.mp4', '83.mp4', '57.mp4', '84.mp4', '.DS_Store', '85.mp4', '78.mp4', '22.mp4', '23.mp4', '21.mp4', '35.mp4', '34.mp4', '20.mp4', '24.mp4', '30.mp4', '31.mp4', '33.mp4', '32.mp4', '14.mp4', '29.mp4', '15.mp4', '74.mp4', '75.mp4', '77.mp4', '76.mp4', '8.mp4', '66.mp4', '72.mp4', '73.mp4', '67.mp4', '9.mp4', '59.mp4', '71.mp4', '65.mp4', '64.mp4', '70.mp4', '58.mp4']\n",
      "adding file\n",
      "Moviepy - Building video behavior_data/armflapping/97.mp4.\n",
      "MoviePy - Writing audio in 97TEMP_MPY_wvf_snd.mp4\n"
     ]
    },
    {
     "name": "stderr",
     "output_type": "stream",
     "text": [
      "                                                             \r"
     ]
    },
    {
     "name": "stdout",
     "output_type": "stream",
     "text": [
      "MoviePy - Done.\n",
      "Moviepy - Writing video behavior_data/armflapping/97.mp4\n",
      "\n"
     ]
    },
    {
     "name": "stderr",
     "output_type": "stream",
     "text": [
      "\r",
      "chunk:   0%|          | 0/155 [00:00<?, ?it/s, now=None]"
     ]
    },
    {
     "name": "stdout",
     "output_type": "stream",
     "text": [
      "Moviepy - Done !\n",
      "Moviepy - video ready behavior_data/armflapping/97.mp4\n",
      "['96.mp4', '82.mp4', '7.mp4', '55.mp4', '6.mp4', '81.mp4', '95.mp4', '56.mp4', '5.mp4', '94.mp4', '80.mp4', '53.mp4', '.DS_Store', '52.mp4', '93.mp4', '87.mp4', '50.mp4', '79.mp4', '86.mp4', '36.mp4', '37.mp4', '18.mp4', '25.mp4', '19.mp4', '27.mp4', '26.mp4', '17.mp4', '16.mp4', '28.mp4', '39.mp4', '11.mp4', '10.mp4', '38.mp4', '12.mp4', '13.mp4', '60.mp4', '61.mp4', '88.mp4', '63.mp4', '62.mp4', '89.mp4']\n",
      "adding file\n",
      "Moviepy - Building video behavior_data/control/98.mp4.\n",
      "MoviePy - Writing audio in 98TEMP_MPY_wvf_snd.mp4\n"
     ]
    },
    {
     "name": "stderr",
     "output_type": "stream",
     "text": [
      "t:  55%|█████▍    | 58/106 [00:00<00:00, 577.81it/s, now=None]"
     ]
    },
    {
     "name": "stdout",
     "output_type": "stream",
     "text": [
      "MoviePy - Done.\n",
      "Moviepy - Writing video behavior_data/control/98.mp4\n",
      "\n"
     ]
    },
    {
     "name": "stderr",
     "output_type": "stream",
     "text": [
      "chunk:   0%|          | 0/133 [00:00<?, ?it/s, now=None]      "
     ]
    },
    {
     "name": "stdout",
     "output_type": "stream",
     "text": [
      "Moviepy - Done !\n",
      "Moviepy - video ready behavior_data/control/98.mp4\n",
      "['96.mp4', '82.mp4', '7.mp4', '55.mp4', '6.mp4', '81.mp4', '95.mp4', '56.mp4', '5.mp4', '94.mp4', '80.mp4', '53.mp4', '.DS_Store', '52.mp4', '93.mp4', '87.mp4', '50.mp4', '79.mp4', '86.mp4', '36.mp4', '37.mp4', '18.mp4', '25.mp4', '19.mp4', '27.mp4', '26.mp4', '17.mp4', '16.mp4', '28.mp4', '39.mp4', '11.mp4', '10.mp4', '38.mp4', '12.mp4', '13.mp4', '60.mp4', '61.mp4', '88.mp4', '63.mp4', '62.mp4', '89.mp4', '98.mp4']\n",
      "adding file\n",
      "Moviepy - Building video behavior_data/control/99.mp4.\n",
      "MoviePy - Writing audio in 99TEMP_MPY_wvf_snd.mp4\n"
     ]
    },
    {
     "name": "stderr",
     "output_type": "stream",
     "text": [
      "                                                             \r"
     ]
    },
    {
     "name": "stdout",
     "output_type": "stream",
     "text": [
      "MoviePy - Done.\n",
      "Moviepy - Writing video behavior_data/control/99.mp4\n",
      "\n"
     ]
    },
    {
     "name": "stderr",
     "output_type": "stream",
     "text": [
      "\r",
      "chunk:   0%|          | 0/133 [00:00<?, ?it/s, now=None]"
     ]
    },
    {
     "name": "stdout",
     "output_type": "stream",
     "text": [
      "Moviepy - Done !\n",
      "Moviepy - video ready behavior_data/control/99.mp4\n",
      "['96.mp4', '82.mp4', '7.mp4', '55.mp4', '6.mp4', '81.mp4', '95.mp4', '56.mp4', '5.mp4', '94.mp4', '80.mp4', '53.mp4', '.DS_Store', '52.mp4', '93.mp4', '87.mp4', '50.mp4', '79.mp4', '86.mp4', '36.mp4', '37.mp4', '18.mp4', '25.mp4', '19.mp4', '27.mp4', '26.mp4', '17.mp4', '16.mp4', '28.mp4', '39.mp4', '11.mp4', '10.mp4', '38.mp4', '12.mp4', '13.mp4', '60.mp4', '61.mp4', '88.mp4', '63.mp4', '62.mp4', '89.mp4', '99.mp4', '98.mp4']\n",
      "adding file\n",
      "Moviepy - Building video behavior_data/control/100.mp4.\n",
      "MoviePy - Writing audio in 100TEMP_MPY_wvf_snd.mp4\n"
     ]
    },
    {
     "name": "stderr",
     "output_type": "stream",
     "text": [
      "                                                             \r"
     ]
    },
    {
     "name": "stdout",
     "output_type": "stream",
     "text": [
      "MoviePy - Done.\n",
      "Moviepy - Writing video behavior_data/control/100.mp4\n",
      "\n"
     ]
    },
    {
     "name": "stderr",
     "output_type": "stream",
     "text": [
      "\r",
      "chunk:   0%|          | 0/133 [00:00<?, ?it/s, now=None]"
     ]
    },
    {
     "name": "stdout",
     "output_type": "stream",
     "text": [
      "Moviepy - Done !\n",
      "Moviepy - video ready behavior_data/control/100.mp4\n",
      "['96.mp4', '82.mp4', '7.mp4', '55.mp4', '6.mp4', '81.mp4', '95.mp4', '56.mp4', '5.mp4', '94.mp4', '80.mp4', '53.mp4', '.DS_Store', '52.mp4', '93.mp4', '87.mp4', '50.mp4', '79.mp4', '86.mp4', '36.mp4', '37.mp4', '18.mp4', '25.mp4', '19.mp4', '27.mp4', '26.mp4', '17.mp4', '16.mp4', '28.mp4', '100.mp4', '39.mp4', '11.mp4', '10.mp4', '38.mp4', '12.mp4', '13.mp4', '60.mp4', '61.mp4', '88.mp4', '63.mp4', '62.mp4', '89.mp4', '99.mp4', '98.mp4']\n",
      "adding file\n",
      "Moviepy - Building video behavior_data/control/101.mp4.\n",
      "MoviePy - Writing audio in 101TEMP_MPY_wvf_snd.mp4\n"
     ]
    },
    {
     "name": "stderr",
     "output_type": "stream",
     "text": [
      "                                                             \r"
     ]
    },
    {
     "name": "stdout",
     "output_type": "stream",
     "text": [
      "MoviePy - Done.\n",
      "Moviepy - Writing video behavior_data/control/101.mp4\n",
      "\n",
      "Moviepy - Done !\n",
      "Moviepy - video ready behavior_data/control/101.mp4\n",
      "staring the 16th file\n",
      "http://www.youtube.com/watch?v=vtVnrV_jog0\n",
      "This is url:  http://www.youtube.com/watch?v=vtVnrV_jog0\n",
      "['69.mp4', '68.mp4', '83.mp4', '97.mp4', '57.mp4', '84.mp4', '.DS_Store', '85.mp4', '78.mp4', '22.mp4', '23.mp4', '21.mp4', '35.mp4', '34.mp4', '20.mp4', '24.mp4', '30.mp4', '31.mp4', '33.mp4', '32.mp4', '14.mp4', '29.mp4', '15.mp4', '74.mp4', '75.mp4', '77.mp4', '76.mp4', '8.mp4', '66.mp4', '72.mp4', '73.mp4', '67.mp4', '9.mp4', '59.mp4', '71.mp4', '65.mp4', '64.mp4', '70.mp4', '58.mp4']\n",
      "adding file\n"
     ]
    },
    {
     "name": "stderr",
     "output_type": "stream",
     "text": [
      "t:  18%|█▊        | 26/144 [00:00<00:00, 254.26it/s, now=None]"
     ]
    },
    {
     "name": "stdout",
     "output_type": "stream",
     "text": [
      "Moviepy - Building video behavior_data/armflapping/102.mp4.\n",
      "MoviePy - Writing audio in 102TEMP_MPY_wvf_snd.mp4\n",
      "MoviePy - Done.\n",
      "Moviepy - Writing video behavior_data/armflapping/102.mp4\n",
      "\n"
     ]
    },
    {
     "name": "stderr",
     "output_type": "stream",
     "text": [
      "                                                               \r"
     ]
    },
    {
     "name": "stdout",
     "output_type": "stream",
     "text": [
      "Moviepy - Done !\n",
      "Moviepy - video ready behavior_data/armflapping/102.mp4\n",
      "['69.mp4', '68.mp4', '83.mp4', '97.mp4', '57.mp4', '84.mp4', '.DS_Store', '85.mp4', '78.mp4', '22.mp4', '23.mp4', '21.mp4', '35.mp4', '34.mp4', '20.mp4', '24.mp4', '30.mp4', '31.mp4', '33.mp4', '32.mp4', '102.mp4', '14.mp4', '29.mp4', '15.mp4', '74.mp4', '75.mp4', '77.mp4', '76.mp4', '8.mp4', '66.mp4', '72.mp4', '73.mp4', '67.mp4', '9.mp4', '59.mp4', '71.mp4', '65.mp4', '64.mp4', '70.mp4', '58.mp4']\n",
      "adding file\n"
     ]
    },
    {
     "name": "stderr",
     "output_type": "stream",
     "text": [
      "t:  18%|█▊        | 21/120 [00:00<00:00, 209.74it/s, now=None]"
     ]
    },
    {
     "name": "stdout",
     "output_type": "stream",
     "text": [
      "Moviepy - Building video behavior_data/armflapping/103.mp4.\n",
      "MoviePy - Writing audio in 103TEMP_MPY_wvf_snd.mp4\n",
      "MoviePy - Done.\n",
      "Moviepy - Writing video behavior_data/armflapping/103.mp4\n",
      "\n"
     ]
    },
    {
     "name": "stderr",
     "output_type": "stream",
     "text": [
      "                                                               \r"
     ]
    },
    {
     "name": "stdout",
     "output_type": "stream",
     "text": [
      "Moviepy - Done !\n",
      "Moviepy - video ready behavior_data/armflapping/103.mp4\n",
      "['69.mp4', '68.mp4', '83.mp4', '97.mp4', '57.mp4', '84.mp4', '.DS_Store', '85.mp4', '78.mp4', '22.mp4', '23.mp4', '21.mp4', '35.mp4', '34.mp4', '20.mp4', '24.mp4', '30.mp4', '31.mp4', '33.mp4', '32.mp4', '102.mp4', '103.mp4', '14.mp4', '29.mp4', '15.mp4', '74.mp4', '75.mp4', '77.mp4', '76.mp4', '8.mp4', '66.mp4', '72.mp4', '73.mp4', '67.mp4', '9.mp4', '59.mp4', '71.mp4', '65.mp4', '64.mp4', '70.mp4', '58.mp4']\n",
      "adding file\n"
     ]
    },
    {
     "name": "stderr",
     "output_type": "stream",
     "text": [
      "t:  26%|██▌       | 25/96 [00:00<00:00, 247.13it/s, now=None]"
     ]
    },
    {
     "name": "stdout",
     "output_type": "stream",
     "text": [
      "Moviepy - Building video behavior_data/armflapping/104.mp4.\n",
      "MoviePy - Writing audio in 104TEMP_MPY_wvf_snd.mp4\n",
      "MoviePy - Done.\n",
      "Moviepy - Writing video behavior_data/armflapping/104.mp4\n",
      "\n"
     ]
    },
    {
     "name": "stderr",
     "output_type": "stream",
     "text": [
      "                                                             \r"
     ]
    },
    {
     "name": "stdout",
     "output_type": "stream",
     "text": [
      "Moviepy - Done !\n",
      "Moviepy - video ready behavior_data/armflapping/104.mp4\n",
      "['69.mp4', '68.mp4', '83.mp4', '97.mp4', '57.mp4', '84.mp4', '.DS_Store', '85.mp4', '78.mp4', '22.mp4', '23.mp4', '21.mp4', '35.mp4', '34.mp4', '20.mp4', '24.mp4', '30.mp4', '31.mp4', '33.mp4', '32.mp4', '102.mp4', '103.mp4', '14.mp4', '29.mp4', '15.mp4', '104.mp4', '74.mp4', '75.mp4', '77.mp4', '76.mp4', '8.mp4', '66.mp4', '72.mp4', '73.mp4', '67.mp4', '9.mp4', '59.mp4', '71.mp4', '65.mp4', '64.mp4', '70.mp4', '58.mp4']\n",
      "adding file\n"
     ]
    },
    {
     "name": "stderr",
     "output_type": "stream",
     "text": [
      "t:   0%|          | 0/72 [00:00<?, ?it/s, now=None]    "
     ]
    },
    {
     "name": "stdout",
     "output_type": "stream",
     "text": [
      "Moviepy - Building video behavior_data/armflapping/105.mp4.\n",
      "MoviePy - Writing audio in 105TEMP_MPY_wvf_snd.mp4\n",
      "MoviePy - Done.\n",
      "Moviepy - Writing video behavior_data/armflapping/105.mp4\n",
      "\n"
     ]
    },
    {
     "name": "stderr",
     "output_type": "stream",
     "text": [
      "                                                             \r"
     ]
    },
    {
     "name": "stdout",
     "output_type": "stream",
     "text": [
      "Moviepy - Done !\n",
      "Moviepy - video ready behavior_data/armflapping/105.mp4\n",
      "['96.mp4', '82.mp4', '7.mp4', '55.mp4', '6.mp4', '81.mp4', '95.mp4', '56.mp4', '5.mp4', '94.mp4', '80.mp4', '53.mp4', '.DS_Store', '52.mp4', '93.mp4', '87.mp4', '50.mp4', '79.mp4', '86.mp4', '36.mp4', '37.mp4', '18.mp4', '25.mp4', '19.mp4', '27.mp4', '26.mp4', '17.mp4', '16.mp4', '101.mp4', '28.mp4', '100.mp4', '39.mp4', '11.mp4', '10.mp4', '38.mp4', '12.mp4', '13.mp4', '60.mp4', '61.mp4', '88.mp4', '63.mp4', '62.mp4', '89.mp4', '99.mp4', '98.mp4']\n",
      "adding file\n"
     ]
    },
    {
     "name": "stderr",
     "output_type": "stream",
     "text": [
      "                                                       "
     ]
    },
    {
     "name": "stdout",
     "output_type": "stream",
     "text": [
      "Moviepy - Building video behavior_data/control/106.mp4.\n",
      "MoviePy - Writing audio in 106TEMP_MPY_wvf_snd.mp4\n",
      "MoviePy - Done.\n",
      "Moviepy - Writing video behavior_data/control/106.mp4\n",
      "\n"
     ]
    },
    {
     "name": "stderr",
     "output_type": "stream",
     "text": [
      "\r"
     ]
    },
    {
     "name": "stdout",
     "output_type": "stream",
     "text": [
      "Moviepy - Done !\n",
      "Moviepy - video ready behavior_data/control/106.mp4\n",
      "['96.mp4', '82.mp4', '7.mp4', '55.mp4', '6.mp4', '81.mp4', '95.mp4', '56.mp4', '5.mp4', '94.mp4', '80.mp4', '53.mp4', '.DS_Store', '52.mp4', '93.mp4', '87.mp4', '50.mp4', '79.mp4', '86.mp4', '36.mp4', '37.mp4', '18.mp4', '25.mp4', '19.mp4', '27.mp4', '26.mp4', '17.mp4', '16.mp4', '101.mp4', '28.mp4', '100.mp4', '39.mp4', '11.mp4', '10.mp4', '38.mp4', '12.mp4', '13.mp4', '106.mp4', '60.mp4', '61.mp4', '88.mp4', '63.mp4', '62.mp4', '89.mp4', '99.mp4', '98.mp4']\n",
      "adding file\n"
     ]
    },
    {
     "name": "stderr",
     "output_type": "stream",
     "text": [
      "t:  36%|███▌      | 26/72 [00:00<00:00, 253.22it/s, now=None]"
     ]
    },
    {
     "name": "stdout",
     "output_type": "stream",
     "text": [
      "Moviepy - Building video behavior_data/control/107.mp4.\n",
      "MoviePy - Writing audio in 107TEMP_MPY_wvf_snd.mp4\n",
      "MoviePy - Done.\n",
      "Moviepy - Writing video behavior_data/control/107.mp4\n",
      "\n"
     ]
    },
    {
     "name": "stderr",
     "output_type": "stream",
     "text": [
      "                                                             \r"
     ]
    },
    {
     "name": "stdout",
     "output_type": "stream",
     "text": [
      "Moviepy - Done !\n",
      "Moviepy - video ready behavior_data/control/107.mp4\n",
      "['96.mp4', '82.mp4', '7.mp4', '55.mp4', '6.mp4', '81.mp4', '95.mp4', '56.mp4', '5.mp4', '94.mp4', '80.mp4', '53.mp4', '.DS_Store', '52.mp4', '93.mp4', '87.mp4', '50.mp4', '79.mp4', '86.mp4', '36.mp4', '37.mp4', '18.mp4', '25.mp4', '19.mp4', '27.mp4', '26.mp4', '17.mp4', '16.mp4', '101.mp4', '28.mp4', '100.mp4', '39.mp4', '11.mp4', '10.mp4', '38.mp4', '107.mp4', '12.mp4', '13.mp4', '106.mp4', '60.mp4', '61.mp4', '88.mp4', '63.mp4', '62.mp4', '89.mp4', '99.mp4', '98.mp4']\n",
      "adding file\n"
     ]
    },
    {
     "name": "stderr",
     "output_type": "stream",
     "text": [
      "t:  22%|██▏       | 26/120 [00:00<00:00, 254.56it/s, now=None]"
     ]
    },
    {
     "name": "stdout",
     "output_type": "stream",
     "text": [
      "Moviepy - Building video behavior_data/control/108.mp4.\n",
      "MoviePy - Writing audio in 108TEMP_MPY_wvf_snd.mp4\n",
      "MoviePy - Done.\n",
      "Moviepy - Writing video behavior_data/control/108.mp4\n",
      "\n"
     ]
    },
    {
     "name": "stderr",
     "output_type": "stream",
     "text": [
      "                                                               \r"
     ]
    },
    {
     "name": "stdout",
     "output_type": "stream",
     "text": [
      "Moviepy - Done !\n",
      "Moviepy - video ready behavior_data/control/108.mp4\n",
      "['96.mp4', '82.mp4', '7.mp4', '55.mp4', '6.mp4', '81.mp4', '95.mp4', '56.mp4', '5.mp4', '94.mp4', '80.mp4', '53.mp4', '.DS_Store', '52.mp4', '93.mp4', '87.mp4', '50.mp4', '79.mp4', '86.mp4', '36.mp4', '37.mp4', '108.mp4', '18.mp4', '25.mp4', '19.mp4', '27.mp4', '26.mp4', '17.mp4', '16.mp4', '101.mp4', '28.mp4', '100.mp4', '39.mp4', '11.mp4', '10.mp4', '38.mp4', '107.mp4', '12.mp4', '13.mp4', '106.mp4', '60.mp4', '61.mp4', '88.mp4', '63.mp4', '62.mp4', '89.mp4', '99.mp4', '98.mp4']\n",
      "adding file\n"
     ]
    },
    {
     "name": "stderr",
     "output_type": "stream",
     "text": [
      "t:   0%|          | 0/120 [00:00<?, ?it/s, now=None]              "
     ]
    },
    {
     "name": "stdout",
     "output_type": "stream",
     "text": [
      "Moviepy - Building video behavior_data/control/109.mp4.\n",
      "MoviePy - Writing audio in 109TEMP_MPY_wvf_snd.mp4\n",
      "MoviePy - Done.\n",
      "Moviepy - Writing video behavior_data/control/109.mp4\n",
      "\n"
     ]
    },
    {
     "name": "stderr",
     "output_type": "stream",
     "text": [
      "                                                               \r"
     ]
    },
    {
     "name": "stdout",
     "output_type": "stream",
     "text": [
      "Moviepy - Done !\n",
      "Moviepy - video ready behavior_data/control/109.mp4\n",
      "staring the 17th file\n",
      "http://www.youtube.com/watch?v=5sgfS0SSh8o\n",
      "This is url:  http://www.youtube.com/watch?v=5sgfS0SSh8o\n"
     ]
    },
    {
     "name": "stderr",
     "output_type": "stream",
     "text": [
      "\r",
      "chunk:   0%|          | 0/155 [00:00<?, ?it/s, now=None]"
     ]
    },
    {
     "name": "stdout",
     "output_type": "stream",
     "text": [
      "['69.mp4', '68.mp4', '83.mp4', '97.mp4', '57.mp4', '84.mp4', '.DS_Store', '85.mp4', '78.mp4', '22.mp4', '23.mp4', '21.mp4', '35.mp4', '34.mp4', '20.mp4', '24.mp4', '30.mp4', '31.mp4', '33.mp4', '32.mp4', '102.mp4', '103.mp4', '14.mp4', '29.mp4', '15.mp4', '104.mp4', '105.mp4', '74.mp4', '75.mp4', '77.mp4', '76.mp4', '8.mp4', '66.mp4', '72.mp4', '73.mp4', '67.mp4', '9.mp4', '59.mp4', '71.mp4', '65.mp4', '64.mp4', '70.mp4', '58.mp4']\n",
      "adding file\n",
      "Moviepy - Building video behavior_data/armflapping/110.mp4.\n",
      "MoviePy - Writing audio in 110TEMP_MPY_wvf_snd.mp4\n"
     ]
    },
    {
     "name": "stderr",
     "output_type": "stream",
     "text": [
      "t:  27%|██▋       | 57/210 [00:00<00:00, 534.58it/s, now=None]"
     ]
    },
    {
     "name": "stdout",
     "output_type": "stream",
     "text": [
      "MoviePy - Done.\n",
      "Moviepy - Writing video behavior_data/armflapping/110.mp4\n",
      "\n"
     ]
    },
    {
     "name": "stderr",
     "output_type": "stream",
     "text": [
      "                                                               \r"
     ]
    },
    {
     "name": "stdout",
     "output_type": "stream",
     "text": [
      "Moviepy - Done !\n",
      "Moviepy - video ready behavior_data/armflapping/110.mp4\n",
      "['69.mp4', '68.mp4', '83.mp4', '97.mp4', '57.mp4', '84.mp4', '.DS_Store', '85.mp4', '78.mp4', '22.mp4', '23.mp4', '21.mp4', '35.mp4', '34.mp4', '20.mp4', '24.mp4', '30.mp4', '31.mp4', '33.mp4', '32.mp4', '102.mp4', '103.mp4', '14.mp4', '29.mp4', '15.mp4', '104.mp4', '110.mp4', '105.mp4', '74.mp4', '75.mp4', '77.mp4', '76.mp4', '8.mp4', '66.mp4', '72.mp4', '73.mp4', '67.mp4', '9.mp4', '59.mp4', '71.mp4', '65.mp4', '64.mp4', '70.mp4', '58.mp4']\n",
      "adding file\n"
     ]
    },
    {
     "name": "stderr",
     "output_type": "stream",
     "text": [
      "t:   0%|          | 0/180 [00:00<?, ?it/s, now=None]                "
     ]
    },
    {
     "name": "stdout",
     "output_type": "stream",
     "text": [
      "Moviepy - Building video behavior_data/armflapping/111.mp4.\n",
      "MoviePy - Writing audio in 111TEMP_MPY_wvf_snd.mp4\n",
      "MoviePy - Done.\n",
      "Moviepy - Writing video behavior_data/armflapping/111.mp4\n",
      "\n"
     ]
    },
    {
     "name": "stderr",
     "output_type": "stream",
     "text": [
      "                                                               "
     ]
    },
    {
     "name": "stdout",
     "output_type": "stream",
     "text": [
      "Moviepy - Done !\n",
      "Moviepy - video ready behavior_data/armflapping/111.mp4\n",
      "['96.mp4', '82.mp4', '7.mp4', '55.mp4', '6.mp4', '81.mp4', '95.mp4', '56.mp4', '5.mp4', '94.mp4', '80.mp4', '53.mp4', '.DS_Store', '52.mp4', '93.mp4', '87.mp4', '50.mp4', '79.mp4', '86.mp4', '36.mp4', '37.mp4', '108.mp4', '109.mp4', '18.mp4', '25.mp4', '19.mp4', '27.mp4', '26.mp4', '17.mp4', '16.mp4', '101.mp4', '28.mp4', '100.mp4', '39.mp4', '11.mp4', '10.mp4', '38.mp4', '107.mp4', '12.mp4', '13.mp4', '106.mp4', '60.mp4', '61.mp4', '88.mp4', '63.mp4', '62.mp4', '89.mp4', '99.mp4', '98.mp4']\n",
      "adding file\n",
      "Moviepy - Building video behavior_data/control/112.mp4.\n",
      "MoviePy - Writing audio in 112TEMP_MPY_wvf_snd.mp4\n"
     ]
    },
    {
     "name": "stderr",
     "output_type": "stream",
     "text": [
      "t:  48%|████▊     | 57/120 [00:00<00:00, 551.66it/s, now=None]"
     ]
    },
    {
     "name": "stdout",
     "output_type": "stream",
     "text": [
      "MoviePy - Done.\n",
      "Moviepy - Writing video behavior_data/control/112.mp4\n",
      "\n"
     ]
    },
    {
     "name": "stderr",
     "output_type": "stream",
     "text": [
      "                                                               \r"
     ]
    },
    {
     "name": "stdout",
     "output_type": "stream",
     "text": [
      "Moviepy - Done !\n",
      "Moviepy - video ready behavior_data/control/112.mp4\n",
      "staring the 18th file\n",
      "http://www.youtube.com/watch?v=hKf-IwHM6TI\n",
      "This is url:  http://www.youtube.com/watch?v=hKf-IwHM6TI\n"
     ]
    },
    {
     "name": "stderr",
     "output_type": "stream",
     "text": [
      "\r",
      "chunk:   0%|          | 0/111 [00:00<?, ?it/s, now=None]"
     ]
    },
    {
     "name": "stdout",
     "output_type": "stream",
     "text": [
      "['69.mp4', '68.mp4', '83.mp4', '97.mp4', '57.mp4', '84.mp4', '.DS_Store', '85.mp4', '78.mp4', '22.mp4', '23.mp4', '21.mp4', '35.mp4', '34.mp4', '20.mp4', '24.mp4', '30.mp4', '31.mp4', '33.mp4', '32.mp4', '102.mp4', '103.mp4', '14.mp4', '29.mp4', '15.mp4', '104.mp4', '110.mp4', '111.mp4', '105.mp4', '74.mp4', '75.mp4', '77.mp4', '76.mp4', '8.mp4', '66.mp4', '72.mp4', '73.mp4', '67.mp4', '9.mp4', '59.mp4', '71.mp4', '65.mp4', '64.mp4', '70.mp4', '58.mp4']\n",
      "adding file\n",
      "Moviepy - Building video behavior_data/armflapping/113.mp4.\n",
      "MoviePy - Writing audio in 113TEMP_MPY_wvf_snd.mp4\n"
     ]
    },
    {
     "name": "stderr",
     "output_type": "stream",
     "text": [
      "                                                                \r"
     ]
    },
    {
     "name": "stdout",
     "output_type": "stream",
     "text": [
      "MoviePy - Done.\n",
      "Moviepy - Writing video behavior_data/armflapping/113.mp4\n",
      "\n",
      "Moviepy - Done !\n",
      "Moviepy - video ready behavior_data/armflapping/113.mp4\n"
     ]
    },
    {
     "name": "stderr",
     "output_type": "stream",
     "text": [
      "\r",
      "chunk:   0%|          | 0/89 [00:00<?, ?it/s, now=None]"
     ]
    },
    {
     "name": "stdout",
     "output_type": "stream",
     "text": [
      "['69.mp4', '68.mp4', '83.mp4', '97.mp4', '57.mp4', '84.mp4', '.DS_Store', '85.mp4', '78.mp4', '22.mp4', '23.mp4', '21.mp4', '35.mp4', '34.mp4', '20.mp4', '24.mp4', '30.mp4', '31.mp4', '33.mp4', '32.mp4', '102.mp4', '103.mp4', '14.mp4', '29.mp4', '15.mp4', '104.mp4', '110.mp4', '111.mp4', '105.mp4', '113.mp4', '74.mp4', '75.mp4', '77.mp4', '76.mp4', '8.mp4', '66.mp4', '72.mp4', '73.mp4', '67.mp4', '9.mp4', '59.mp4', '71.mp4', '65.mp4', '64.mp4', '70.mp4', '58.mp4']\n",
      "adding file\n",
      "Moviepy - Building video behavior_data/armflapping/114.mp4.\n",
      "MoviePy - Writing audio in 114TEMP_MPY_wvf_snd.mp4\n"
     ]
    },
    {
     "name": "stderr",
     "output_type": "stream",
     "text": [
      "                                                                \r"
     ]
    },
    {
     "name": "stdout",
     "output_type": "stream",
     "text": [
      "MoviePy - Done.\n",
      "Moviepy - Writing video behavior_data/armflapping/114.mp4\n",
      "\n",
      "Moviepy - Done !\n",
      "Moviepy - video ready behavior_data/armflapping/114.mp4\n"
     ]
    },
    {
     "name": "stderr",
     "output_type": "stream",
     "text": [
      "\r",
      "chunk:   0%|          | 0/89 [00:00<?, ?it/s, now=None]"
     ]
    },
    {
     "name": "stdout",
     "output_type": "stream",
     "text": [
      "['69.mp4', '68.mp4', '83.mp4', '97.mp4', '57.mp4', '84.mp4', '.DS_Store', '85.mp4', '78.mp4', '22.mp4', '23.mp4', '21.mp4', '35.mp4', '34.mp4', '20.mp4', '24.mp4', '30.mp4', '31.mp4', '33.mp4', '32.mp4', '102.mp4', '103.mp4', '14.mp4', '29.mp4', '15.mp4', '114.mp4', '104.mp4', '110.mp4', '111.mp4', '105.mp4', '113.mp4', '74.mp4', '75.mp4', '77.mp4', '76.mp4', '8.mp4', '66.mp4', '72.mp4', '73.mp4', '67.mp4', '9.mp4', '59.mp4', '71.mp4', '65.mp4', '64.mp4', '70.mp4', '58.mp4']\n",
      "adding file\n",
      "Moviepy - Building video behavior_data/armflapping/115.mp4.\n",
      "MoviePy - Writing audio in 115TEMP_MPY_wvf_snd.mp4\n"
     ]
    },
    {
     "name": "stderr",
     "output_type": "stream",
     "text": [
      "                                                                \r"
     ]
    },
    {
     "name": "stdout",
     "output_type": "stream",
     "text": [
      "MoviePy - Done.\n",
      "Moviepy - Writing video behavior_data/armflapping/115.mp4\n",
      "\n",
      "Moviepy - Done !\n",
      "Moviepy - video ready behavior_data/armflapping/115.mp4\n"
     ]
    },
    {
     "name": "stderr",
     "output_type": "stream",
     "text": [
      "                                                        "
     ]
    },
    {
     "name": "stdout",
     "output_type": "stream",
     "text": [
      "['96.mp4', '82.mp4', '7.mp4', '55.mp4', '6.mp4', '81.mp4', '95.mp4', '56.mp4', '5.mp4', '94.mp4', '80.mp4', '53.mp4', '.DS_Store', '52.mp4', '93.mp4', '87.mp4', '50.mp4', '79.mp4', '86.mp4', '36.mp4', '37.mp4', '108.mp4', '109.mp4', '18.mp4', '25.mp4', '19.mp4', '27.mp4', '26.mp4', '17.mp4', '16.mp4', '101.mp4', '28.mp4', '100.mp4', '39.mp4', '11.mp4', '10.mp4', '38.mp4', '107.mp4', '12.mp4', '13.mp4', '106.mp4', '112.mp4', '60.mp4', '61.mp4', '88.mp4', '63.mp4', '62.mp4', '89.mp4', '99.mp4', '98.mp4']\n",
      "adding file\n",
      "Moviepy - Building video behavior_data/control/116.mp4.\n",
      "MoviePy - Writing audio in 116TEMP_MPY_wvf_snd.mp4\n",
      "MoviePy - Done.\n",
      "Moviepy - Writing video behavior_data/control/116.mp4\n",
      "\n"
     ]
    },
    {
     "name": "stderr",
     "output_type": "stream",
     "text": [
      "chunk:   0%|          | 0/89 [00:00<?, ?it/s, now=None]         "
     ]
    },
    {
     "name": "stdout",
     "output_type": "stream",
     "text": [
      "Moviepy - Done !\n",
      "Moviepy - video ready behavior_data/control/116.mp4\n",
      "['96.mp4', '82.mp4', '7.mp4', '55.mp4', '6.mp4', '81.mp4', '95.mp4', '56.mp4', '5.mp4', '94.mp4', '80.mp4', '53.mp4', '.DS_Store', '52.mp4', '93.mp4', '87.mp4', '50.mp4', '79.mp4', '86.mp4', '36.mp4', '37.mp4', '108.mp4', '109.mp4', '18.mp4', '25.mp4', '19.mp4', '27.mp4', '26.mp4', '116.mp4', '17.mp4', '16.mp4', '101.mp4', '28.mp4', '100.mp4', '39.mp4', '11.mp4', '10.mp4', '38.mp4', '107.mp4', '12.mp4', '13.mp4', '106.mp4', '112.mp4', '60.mp4', '61.mp4', '88.mp4', '63.mp4', '62.mp4', '89.mp4', '99.mp4', '98.mp4']\n",
      "adding file\n",
      "Moviepy - Building video behavior_data/control/117.mp4.\n",
      "MoviePy - Writing audio in 117TEMP_MPY_wvf_snd.mp4\n"
     ]
    },
    {
     "name": "stderr",
     "output_type": "stream",
     "text": [
      "                                                       \r"
     ]
    },
    {
     "name": "stdout",
     "output_type": "stream",
     "text": [
      "MoviePy - Done.\n",
      "Moviepy - Writing video behavior_data/control/117.mp4\n",
      "\n",
      "Moviepy - Done !\n",
      "Moviepy - video ready behavior_data/control/117.mp4\n"
     ]
    },
    {
     "name": "stderr",
     "output_type": "stream",
     "text": [
      "t:   0%|          | 0/30 [00:00<?, ?it/s, now=None]    "
     ]
    },
    {
     "name": "stdout",
     "output_type": "stream",
     "text": [
      "['96.mp4', '82.mp4', '7.mp4', '55.mp4', '6.mp4', '81.mp4', '95.mp4', '56.mp4', '5.mp4', '94.mp4', '80.mp4', '53.mp4', '.DS_Store', '52.mp4', '93.mp4', '87.mp4', '50.mp4', '79.mp4', '86.mp4', '36.mp4', '37.mp4', '108.mp4', '109.mp4', '18.mp4', '25.mp4', '19.mp4', '27.mp4', '26.mp4', '116.mp4', '17.mp4', '16.mp4', '117.mp4', '101.mp4', '28.mp4', '100.mp4', '39.mp4', '11.mp4', '10.mp4', '38.mp4', '107.mp4', '12.mp4', '13.mp4', '106.mp4', '112.mp4', '60.mp4', '61.mp4', '88.mp4', '63.mp4', '62.mp4', '89.mp4', '99.mp4', '98.mp4']\n",
      "adding file\n",
      "Moviepy - Building video behavior_data/control/118.mp4.\n",
      "MoviePy - Writing audio in 118TEMP_MPY_wvf_snd.mp4\n",
      "MoviePy - Done.\n",
      "Moviepy - Writing video behavior_data/control/118.mp4\n",
      "\n"
     ]
    },
    {
     "name": "stderr",
     "output_type": "stream",
     "text": [
      "chunk:   0%|          | 0/89 [00:00<?, ?it/s, now=None]"
     ]
    },
    {
     "name": "stdout",
     "output_type": "stream",
     "text": [
      "Moviepy - Done !\n",
      "Moviepy - video ready behavior_data/control/118.mp4\n",
      "['96.mp4', '82.mp4', '7.mp4', '55.mp4', '6.mp4', '81.mp4', '95.mp4', '56.mp4', '5.mp4', '94.mp4', '80.mp4', '53.mp4', '.DS_Store', '52.mp4', '93.mp4', '87.mp4', '50.mp4', '79.mp4', '86.mp4', '36.mp4', '37.mp4', '108.mp4', '109.mp4', '18.mp4', '25.mp4', '19.mp4', '118.mp4', '27.mp4', '26.mp4', '116.mp4', '17.mp4', '16.mp4', '117.mp4', '101.mp4', '28.mp4', '100.mp4', '39.mp4', '11.mp4', '10.mp4', '38.mp4', '107.mp4', '12.mp4', '13.mp4', '106.mp4', '112.mp4', '60.mp4', '61.mp4', '88.mp4', '63.mp4', '62.mp4', '89.mp4', '99.mp4', '98.mp4']\n",
      "adding file\n",
      "Moviepy - Building video behavior_data/control/119.mp4.\n",
      "MoviePy - Writing audio in 119TEMP_MPY_wvf_snd.mp4\n"
     ]
    },
    {
     "name": "stderr",
     "output_type": "stream",
     "text": [
      "                                                       \r"
     ]
    },
    {
     "name": "stdout",
     "output_type": "stream",
     "text": [
      "MoviePy - Done.\n",
      "Moviepy - Writing video behavior_data/control/119.mp4\n",
      "\n",
      "Moviepy - Done !\n",
      "Moviepy - video ready behavior_data/control/119.mp4\n",
      "staring the 19th file\n",
      "http://www.youtube.com/watch?v=zuoD4tEtYyk\n",
      "This is url:  http://www.youtube.com/watch?v=zuoD4tEtYyk\n",
      "annoying url: http://www.youtube.com/watch?v=zuoD4tEtYyk\n",
      "zuoD4tEtYyk is a private video\n",
      "staring the 20th file\n",
      "http://www.youtube.com/watch?v=I38WtUMuQwM\n",
      "This is url:  http://www.youtube.com/watch?v=I38WtUMuQwM\n"
     ]
    },
    {
     "name": "stderr",
     "output_type": "stream",
     "text": [
      "\r",
      "chunk:   0%|          | 0/111 [00:00<?, ?it/s, now=None]"
     ]
    },
    {
     "name": "stdout",
     "output_type": "stream",
     "text": [
      "['41.mp4', '40.mp4', '54.mp4', '42.mp4', '43.mp4', '90.mp4', '47.mp4', '1.mp4', '.DS_Store', '0.mp4', '46.mp4', '91.mp4', '2.mp4', '44.mp4', '45.mp4', '3.mp4', '92.mp4', '48.mp4', '49.mp4']\n",
      "adding file\n",
      "Moviepy - Building video behavior_data/headbanging/120.mp4.\n",
      "MoviePy - Writing audio in 120TEMP_MPY_wvf_snd.mp4\n"
     ]
    },
    {
     "name": "stderr",
     "output_type": "stream",
     "text": [
      "t:  40%|████      | 60/150 [00:00<00:00, 592.85it/s, now=None]"
     ]
    },
    {
     "name": "stdout",
     "output_type": "stream",
     "text": [
      "MoviePy - Done.\n",
      "Moviepy - Writing video behavior_data/headbanging/120.mp4\n",
      "\n"
     ]
    },
    {
     "name": "stderr",
     "output_type": "stream",
     "text": [
      "                                                               \r"
     ]
    },
    {
     "name": "stdout",
     "output_type": "stream",
     "text": [
      "Moviepy - Done !\n",
      "Moviepy - video ready behavior_data/headbanging/120.mp4\n",
      "['41.mp4', '40.mp4', '54.mp4', '42.mp4', '43.mp4', '90.mp4', '47.mp4', '1.mp4', '.DS_Store', '0.mp4', '46.mp4', '91.mp4', '2.mp4', '44.mp4', '45.mp4', '3.mp4', '92.mp4', '120.mp4', '48.mp4', '49.mp4']\n",
      "adding file\n",
      "Moviepy - Building video behavior_data/headbanging/121.mp4.\n",
      "MoviePy - Writing audio in 121TEMP_MPY_wvf_snd.mp4\n"
     ]
    },
    {
     "name": "stderr",
     "output_type": "stream",
     "text": [
      "t:  48%|████▊     | 58/120 [00:00<00:00, 579.62it/s, now=None]"
     ]
    },
    {
     "name": "stdout",
     "output_type": "stream",
     "text": [
      "MoviePy - Done.\n",
      "Moviepy - Writing video behavior_data/headbanging/121.mp4\n",
      "\n"
     ]
    },
    {
     "name": "stderr",
     "output_type": "stream",
     "text": [
      "chunk:   0%|          | 0/133 [00:00<?, ?it/s, now=None]       "
     ]
    },
    {
     "name": "stdout",
     "output_type": "stream",
     "text": [
      "Moviepy - Done !\n",
      "Moviepy - video ready behavior_data/headbanging/121.mp4\n",
      "['69.mp4', '68.mp4', '83.mp4', '97.mp4', '57.mp4', '84.mp4', '.DS_Store', '85.mp4', '78.mp4', '22.mp4', '23.mp4', '21.mp4', '35.mp4', '34.mp4', '20.mp4', '24.mp4', '30.mp4', '31.mp4', '33.mp4', '32.mp4', '102.mp4', '103.mp4', '115.mp4', '14.mp4', '29.mp4', '15.mp4', '114.mp4', '104.mp4', '110.mp4', '111.mp4', '105.mp4', '113.mp4', '74.mp4', '75.mp4', '77.mp4', '76.mp4', '8.mp4', '66.mp4', '72.mp4', '73.mp4', '67.mp4', '9.mp4', '59.mp4', '71.mp4', '65.mp4', '64.mp4', '70.mp4', '58.mp4']\n",
      "adding file\n",
      "Moviepy - Building video behavior_data/armflapping/122.mp4.\n",
      "MoviePy - Writing audio in 122TEMP_MPY_wvf_snd.mp4\n"
     ]
    },
    {
     "name": "stderr",
     "output_type": "stream",
     "text": [
      "t:  32%|███▏      | 57/180 [00:00<00:00, 564.73it/s, now=None]"
     ]
    },
    {
     "name": "stdout",
     "output_type": "stream",
     "text": [
      "MoviePy - Done.\n",
      "Moviepy - Writing video behavior_data/armflapping/122.mp4\n",
      "\n"
     ]
    },
    {
     "name": "stderr",
     "output_type": "stream",
     "text": [
      "                                                               \r"
     ]
    },
    {
     "name": "stdout",
     "output_type": "stream",
     "text": [
      "Moviepy - Done !\n",
      "Moviepy - video ready behavior_data/armflapping/122.mp4\n",
      "['69.mp4', '68.mp4', '83.mp4', '97.mp4', '57.mp4', '84.mp4', '.DS_Store', '85.mp4', '78.mp4', '22.mp4', '23.mp4', '122.mp4', '21.mp4', '35.mp4', '34.mp4', '20.mp4', '24.mp4', '30.mp4', '31.mp4', '33.mp4', '32.mp4', '102.mp4', '103.mp4', '115.mp4', '14.mp4', '29.mp4', '15.mp4', '114.mp4', '104.mp4', '110.mp4', '111.mp4', '105.mp4', '113.mp4', '74.mp4', '75.mp4', '77.mp4', '76.mp4', '8.mp4', '66.mp4', '72.mp4', '73.mp4', '67.mp4', '9.mp4', '59.mp4', '71.mp4', '65.mp4', '64.mp4', '70.mp4', '58.mp4']\n",
      "adding file\n",
      "Moviepy - Building video behavior_data/armflapping/123.mp4.\n",
      "MoviePy - Writing audio in 123TEMP_MPY_wvf_snd.mp4\n"
     ]
    },
    {
     "name": "stderr",
     "output_type": "stream",
     "text": [
      "t:  36%|███▌      | 64/180 [00:00<00:00, 627.57it/s, now=None]"
     ]
    },
    {
     "name": "stdout",
     "output_type": "stream",
     "text": [
      "MoviePy - Done.\n",
      "Moviepy - Writing video behavior_data/armflapping/123.mp4\n",
      "\n"
     ]
    },
    {
     "name": "stderr",
     "output_type": "stream",
     "text": [
      "chunk:   0%|          | 0/133 [00:00<?, ?it/s, now=None]       "
     ]
    },
    {
     "name": "stdout",
     "output_type": "stream",
     "text": [
      "Moviepy - Done !\n",
      "Moviepy - video ready behavior_data/armflapping/123.mp4\n",
      "['69.mp4', '68.mp4', '83.mp4', '97.mp4', '57.mp4', '84.mp4', '.DS_Store', '85.mp4', '78.mp4', '123.mp4', '22.mp4', '23.mp4', '122.mp4', '21.mp4', '35.mp4', '34.mp4', '20.mp4', '24.mp4', '30.mp4', '31.mp4', '33.mp4', '32.mp4', '102.mp4', '103.mp4', '115.mp4', '14.mp4', '29.mp4', '15.mp4', '114.mp4', '104.mp4', '110.mp4', '111.mp4', '105.mp4', '113.mp4', '74.mp4', '75.mp4', '77.mp4', '76.mp4', '8.mp4', '66.mp4', '72.mp4', '73.mp4', '67.mp4', '9.mp4', '59.mp4', '71.mp4', '65.mp4', '64.mp4', '70.mp4', '58.mp4']\n",
      "adding file\n",
      "Moviepy - Building video behavior_data/armflapping/124.mp4.\n",
      "MoviePy - Writing audio in 124TEMP_MPY_wvf_snd.mp4\n"
     ]
    },
    {
     "name": "stderr",
     "output_type": "stream",
     "text": [
      "t:  32%|███▏      | 58/180 [00:00<00:00, 573.66it/s, now=None]"
     ]
    },
    {
     "name": "stdout",
     "output_type": "stream",
     "text": [
      "MoviePy - Done.\n",
      "Moviepy - Writing video behavior_data/armflapping/124.mp4\n",
      "\n"
     ]
    },
    {
     "name": "stderr",
     "output_type": "stream",
     "text": [
      "chunk:   0%|          | 0/111 [00:00<?, ?it/s, now=None]       "
     ]
    },
    {
     "name": "stdout",
     "output_type": "stream",
     "text": [
      "Moviepy - Done !\n",
      "Moviepy - video ready behavior_data/armflapping/124.mp4\n",
      "['69.mp4', '68.mp4', '83.mp4', '97.mp4', '57.mp4', '84.mp4', '.DS_Store', '85.mp4', '78.mp4', '123.mp4', '22.mp4', '23.mp4', '122.mp4', '21.mp4', '35.mp4', '34.mp4', '20.mp4', '24.mp4', '30.mp4', '31.mp4', '124.mp4', '33.mp4', '32.mp4', '102.mp4', '103.mp4', '115.mp4', '14.mp4', '29.mp4', '15.mp4', '114.mp4', '104.mp4', '110.mp4', '111.mp4', '105.mp4', '113.mp4', '74.mp4', '75.mp4', '77.mp4', '76.mp4', '8.mp4', '66.mp4', '72.mp4', '73.mp4', '67.mp4', '9.mp4', '59.mp4', '71.mp4', '65.mp4', '64.mp4', '70.mp4', '58.mp4']\n",
      "adding file\n",
      "Moviepy - Building video behavior_data/armflapping/125.mp4.\n",
      "MoviePy - Writing audio in 125TEMP_MPY_wvf_snd.mp4\n"
     ]
    },
    {
     "name": "stderr",
     "output_type": "stream",
     "text": [
      "t:  43%|████▎     | 64/150 [00:00<00:00, 635.95it/s, now=None]"
     ]
    },
    {
     "name": "stdout",
     "output_type": "stream",
     "text": [
      "MoviePy - Done.\n",
      "Moviepy - Writing video behavior_data/armflapping/125.mp4\n",
      "\n"
     ]
    },
    {
     "name": "stderr",
     "output_type": "stream",
     "text": [
      "chunk:   0%|          | 0/111 [00:00<?, ?it/s, now=None]       "
     ]
    },
    {
     "name": "stdout",
     "output_type": "stream",
     "text": [
      "Moviepy - Done !\n",
      "Moviepy - video ready behavior_data/armflapping/125.mp4\n",
      "['69.mp4', '68.mp4', '83.mp4', '97.mp4', '57.mp4', '84.mp4', '.DS_Store', '85.mp4', '78.mp4', '123.mp4', '22.mp4', '23.mp4', '122.mp4', '21.mp4', '35.mp4', '34.mp4', '20.mp4', '125.mp4', '24.mp4', '30.mp4', '31.mp4', '124.mp4', '33.mp4', '32.mp4', '102.mp4', '103.mp4', '115.mp4', '14.mp4', '29.mp4', '15.mp4', '114.mp4', '104.mp4', '110.mp4', '111.mp4', '105.mp4', '113.mp4', '74.mp4', '75.mp4', '77.mp4', '76.mp4', '8.mp4', '66.mp4', '72.mp4', '73.mp4', '67.mp4', '9.mp4', '59.mp4', '71.mp4', '65.mp4', '64.mp4', '70.mp4', '58.mp4']\n",
      "adding file\n",
      "Moviepy - Building video behavior_data/armflapping/126.mp4.\n",
      "MoviePy - Writing audio in 126TEMP_MPY_wvf_snd.mp4\n"
     ]
    },
    {
     "name": "stderr",
     "output_type": "stream",
     "text": [
      "t:  39%|███▊      | 58/150 [00:00<00:00, 579.14it/s, now=None]"
     ]
    },
    {
     "name": "stdout",
     "output_type": "stream",
     "text": [
      "MoviePy - Done.\n",
      "Moviepy - Writing video behavior_data/armflapping/126.mp4\n",
      "\n"
     ]
    },
    {
     "name": "stderr",
     "output_type": "stream",
     "text": [
      "chunk:   0%|          | 0/111 [00:00<?, ?it/s, now=None]       "
     ]
    },
    {
     "name": "stdout",
     "output_type": "stream",
     "text": [
      "Moviepy - Done !\n",
      "Moviepy - video ready behavior_data/armflapping/126.mp4\n",
      "['69.mp4', '68.mp4', '83.mp4', '97.mp4', '57.mp4', '84.mp4', '.DS_Store', '85.mp4', '78.mp4', '123.mp4', '22.mp4', '23.mp4', '122.mp4', '21.mp4', '35.mp4', '34.mp4', '20.mp4', '125.mp4', '24.mp4', '30.mp4', '31.mp4', '124.mp4', '126.mp4', '33.mp4', '32.mp4', '102.mp4', '103.mp4', '115.mp4', '14.mp4', '29.mp4', '15.mp4', '114.mp4', '104.mp4', '110.mp4', '111.mp4', '105.mp4', '113.mp4', '74.mp4', '75.mp4', '77.mp4', '76.mp4', '8.mp4', '66.mp4', '72.mp4', '73.mp4', '67.mp4', '9.mp4', '59.mp4', '71.mp4', '65.mp4', '64.mp4', '70.mp4', '58.mp4']\n",
      "adding file\n",
      "Moviepy - Building video behavior_data/armflapping/127.mp4.\n",
      "MoviePy - Writing audio in 127TEMP_MPY_wvf_snd.mp4\n"
     ]
    },
    {
     "name": "stderr",
     "output_type": "stream",
     "text": [
      "t:  41%|████▏     | 62/150 [00:00<00:00, 616.48it/s, now=None]"
     ]
    },
    {
     "name": "stdout",
     "output_type": "stream",
     "text": [
      "MoviePy - Done.\n",
      "Moviepy - Writing video behavior_data/armflapping/127.mp4\n",
      "\n"
     ]
    },
    {
     "name": "stderr",
     "output_type": "stream",
     "text": [
      "chunk:   0%|          | 0/111 [00:00<?, ?it/s, now=None]       "
     ]
    },
    {
     "name": "stdout",
     "output_type": "stream",
     "text": [
      "Moviepy - Done !\n",
      "Moviepy - video ready behavior_data/armflapping/127.mp4\n",
      "['69.mp4', '68.mp4', '83.mp4', '97.mp4', '57.mp4', '84.mp4', '.DS_Store', '85.mp4', '78.mp4', '123.mp4', '22.mp4', '23.mp4', '122.mp4', '21.mp4', '35.mp4', '34.mp4', '20.mp4', '125.mp4', '24.mp4', '30.mp4', '31.mp4', '124.mp4', '126.mp4', '33.mp4', '32.mp4', '127.mp4', '102.mp4', '103.mp4', '115.mp4', '14.mp4', '29.mp4', '15.mp4', '114.mp4', '104.mp4', '110.mp4', '111.mp4', '105.mp4', '113.mp4', '74.mp4', '75.mp4', '77.mp4', '76.mp4', '8.mp4', '66.mp4', '72.mp4', '73.mp4', '67.mp4', '9.mp4', '59.mp4', '71.mp4', '65.mp4', '64.mp4', '70.mp4', '58.mp4']\n",
      "adding file\n",
      "Moviepy - Building video behavior_data/armflapping/128.mp4.\n",
      "MoviePy - Writing audio in 128TEMP_MPY_wvf_snd.mp4\n"
     ]
    },
    {
     "name": "stderr",
     "output_type": "stream",
     "text": [
      "t:  44%|████▍     | 66/150 [00:00<00:00, 655.10it/s, now=None]"
     ]
    },
    {
     "name": "stdout",
     "output_type": "stream",
     "text": [
      "MoviePy - Done.\n",
      "Moviepy - Writing video behavior_data/armflapping/128.mp4\n",
      "\n"
     ]
    },
    {
     "name": "stderr",
     "output_type": "stream",
     "text": [
      "chunk:   0%|          | 0/155 [00:00<?, ?it/s, now=None]       "
     ]
    },
    {
     "name": "stdout",
     "output_type": "stream",
     "text": [
      "Moviepy - Done !\n",
      "Moviepy - video ready behavior_data/armflapping/128.mp4\n",
      "['96.mp4', '82.mp4', '7.mp4', '55.mp4', '6.mp4', '81.mp4', '95.mp4', '56.mp4', '5.mp4', '94.mp4', '80.mp4', '53.mp4', '.DS_Store', '52.mp4', '93.mp4', '87.mp4', '50.mp4', '79.mp4', '86.mp4', '36.mp4', '37.mp4', '108.mp4', '109.mp4', '119.mp4', '18.mp4', '25.mp4', '19.mp4', '118.mp4', '27.mp4', '26.mp4', '116.mp4', '17.mp4', '16.mp4', '117.mp4', '101.mp4', '28.mp4', '100.mp4', '39.mp4', '11.mp4', '10.mp4', '38.mp4', '107.mp4', '12.mp4', '13.mp4', '106.mp4', '112.mp4', '60.mp4', '61.mp4', '88.mp4', '63.mp4', '62.mp4', '89.mp4', '99.mp4', '98.mp4']\n",
      "adding file\n",
      "Moviepy - Building video behavior_data/control/129.mp4.\n",
      "MoviePy - Writing audio in 129TEMP_MPY_wvf_snd.mp4\n"
     ]
    },
    {
     "name": "stderr",
     "output_type": "stream",
     "text": [
      "t:  34%|███▍      | 72/210 [00:00<00:00, 718.61it/s, now=None]"
     ]
    },
    {
     "name": "stdout",
     "output_type": "stream",
     "text": [
      "MoviePy - Done.\n",
      "Moviepy - Writing video behavior_data/control/129.mp4\n",
      "\n"
     ]
    },
    {
     "name": "stderr",
     "output_type": "stream",
     "text": [
      "chunk:   0%|          | 0/155 [00:00<?, ?it/s, now=None]       "
     ]
    },
    {
     "name": "stdout",
     "output_type": "stream",
     "text": [
      "Moviepy - Done !\n",
      "Moviepy - video ready behavior_data/control/129.mp4\n",
      "['96.mp4', '82.mp4', '7.mp4', '55.mp4', '6.mp4', '81.mp4', '95.mp4', '56.mp4', '5.mp4', '94.mp4', '80.mp4', '53.mp4', '.DS_Store', '52.mp4', '93.mp4', '87.mp4', '50.mp4', '79.mp4', '86.mp4', '36.mp4', '37.mp4', '108.mp4', '109.mp4', '119.mp4', '18.mp4', '25.mp4', '19.mp4', '118.mp4', '27.mp4', '26.mp4', '116.mp4', '17.mp4', '16.mp4', '117.mp4', '129.mp4', '101.mp4', '28.mp4', '100.mp4', '39.mp4', '11.mp4', '10.mp4', '38.mp4', '107.mp4', '12.mp4', '13.mp4', '106.mp4', '112.mp4', '60.mp4', '61.mp4', '88.mp4', '63.mp4', '62.mp4', '89.mp4', '99.mp4', '98.mp4']\n",
      "adding file\n",
      "Moviepy - Building video behavior_data/control/130.mp4.\n",
      "MoviePy - Writing audio in 130TEMP_MPY_wvf_snd.mp4\n"
     ]
    },
    {
     "name": "stderr",
     "output_type": "stream",
     "text": [
      "t:  30%|███       | 63/210 [00:00<00:00, 617.97it/s, now=None]"
     ]
    },
    {
     "name": "stdout",
     "output_type": "stream",
     "text": [
      "MoviePy - Done.\n",
      "Moviepy - Writing video behavior_data/control/130.mp4\n",
      "\n"
     ]
    },
    {
     "name": "stderr",
     "output_type": "stream",
     "text": [
      "chunk:   0%|          | 0/133 [00:00<?, ?it/s, now=None]       "
     ]
    },
    {
     "name": "stdout",
     "output_type": "stream",
     "text": [
      "Moviepy - Done !\n",
      "Moviepy - video ready behavior_data/control/130.mp4\n",
      "['96.mp4', '82.mp4', '7.mp4', '55.mp4', '6.mp4', '81.mp4', '95.mp4', '56.mp4', '5.mp4', '94.mp4', '80.mp4', '53.mp4', '.DS_Store', '52.mp4', '93.mp4', '87.mp4', '50.mp4', '79.mp4', '86.mp4', '36.mp4', '37.mp4', '108.mp4', '109.mp4', '119.mp4', '18.mp4', '25.mp4', '19.mp4', '118.mp4', '130.mp4', '27.mp4', '26.mp4', '116.mp4', '17.mp4', '16.mp4', '117.mp4', '129.mp4', '101.mp4', '28.mp4', '100.mp4', '39.mp4', '11.mp4', '10.mp4', '38.mp4', '107.mp4', '12.mp4', '13.mp4', '106.mp4', '112.mp4', '60.mp4', '61.mp4', '88.mp4', '63.mp4', '62.mp4', '89.mp4', '99.mp4', '98.mp4']\n",
      "adding file\n",
      "Moviepy - Building video behavior_data/control/131.mp4.\n",
      "MoviePy - Writing audio in 131TEMP_MPY_wvf_snd.mp4\n"
     ]
    },
    {
     "name": "stderr",
     "output_type": "stream",
     "text": [
      "t:  32%|███▏      | 57/180 [00:00<00:00, 550.03it/s, now=None]"
     ]
    },
    {
     "name": "stdout",
     "output_type": "stream",
     "text": [
      "MoviePy - Done.\n",
      "Moviepy - Writing video behavior_data/control/131.mp4\n",
      "\n"
     ]
    },
    {
     "name": "stderr",
     "output_type": "stream",
     "text": [
      "chunk:   0%|          | 0/133 [00:00<?, ?it/s, now=None]       "
     ]
    },
    {
     "name": "stdout",
     "output_type": "stream",
     "text": [
      "Moviepy - Done !\n",
      "Moviepy - video ready behavior_data/control/131.mp4\n",
      "['96.mp4', '82.mp4', '7.mp4', '55.mp4', '6.mp4', '81.mp4', '95.mp4', '56.mp4', '5.mp4', '94.mp4', '80.mp4', '53.mp4', '.DS_Store', '52.mp4', '93.mp4', '87.mp4', '50.mp4', '79.mp4', '86.mp4', '36.mp4', '37.mp4', '108.mp4', '109.mp4', '131.mp4', '119.mp4', '18.mp4', '25.mp4', '19.mp4', '118.mp4', '130.mp4', '27.mp4', '26.mp4', '116.mp4', '17.mp4', '16.mp4', '117.mp4', '129.mp4', '101.mp4', '28.mp4', '100.mp4', '39.mp4', '11.mp4', '10.mp4', '38.mp4', '107.mp4', '12.mp4', '13.mp4', '106.mp4', '112.mp4', '60.mp4', '61.mp4', '88.mp4', '63.mp4', '62.mp4', '89.mp4', '99.mp4', '98.mp4']\n",
      "adding file\n",
      "Moviepy - Building video behavior_data/control/132.mp4.\n",
      "MoviePy - Writing audio in 132TEMP_MPY_wvf_snd.mp4\n"
     ]
    },
    {
     "name": "stderr",
     "output_type": "stream",
     "text": [
      "t:  32%|███▏      | 57/180 [00:00<00:00, 562.47it/s, now=None]"
     ]
    },
    {
     "name": "stdout",
     "output_type": "stream",
     "text": [
      "MoviePy - Done.\n",
      "Moviepy - Writing video behavior_data/control/132.mp4\n",
      "\n"
     ]
    },
    {
     "name": "stderr",
     "output_type": "stream",
     "text": [
      "                                                               \r"
     ]
    },
    {
     "name": "stdout",
     "output_type": "stream",
     "text": [
      "Moviepy - Done !\n",
      "Moviepy - video ready behavior_data/control/132.mp4\n",
      "staring the 21th file\n",
      "http://www.youtube.com/watch?v=pz1nIbRWb2M\n",
      "This is url:  http://www.youtube.com/watch?v=pz1nIbRWb2M\n"
     ]
    },
    {
     "name": "stderr",
     "output_type": "stream",
     "text": [
      "t:   0%|          | 0/60 [00:00<?, ?it/s, now=None]    "
     ]
    },
    {
     "name": "stdout",
     "output_type": "stream",
     "text": [
      "['69.mp4', '68.mp4', '83.mp4', '97.mp4', '57.mp4', '84.mp4', '.DS_Store', '85.mp4', '78.mp4', '123.mp4', '22.mp4', '23.mp4', '122.mp4', '21.mp4', '35.mp4', '34.mp4', '20.mp4', '125.mp4', '24.mp4', '30.mp4', '31.mp4', '124.mp4', '126.mp4', '33.mp4', '32.mp4', '127.mp4', '102.mp4', '103.mp4', '115.mp4', '14.mp4', '29.mp4', '15.mp4', '114.mp4', '128.mp4', '104.mp4', '110.mp4', '111.mp4', '105.mp4', '113.mp4', '74.mp4', '75.mp4', '77.mp4', '76.mp4', '8.mp4', '66.mp4', '72.mp4', '73.mp4', '67.mp4', '9.mp4', '59.mp4', '71.mp4', '65.mp4', '64.mp4', '70.mp4', '58.mp4']\n",
      "adding file\n",
      "Moviepy - Building video behavior_data/armflapping/133.mp4.\n",
      "MoviePy - Writing audio in 133TEMP_MPY_wvf_snd.mp4\n",
      "MoviePy - Done.\n",
      "Moviepy - Writing video behavior_data/armflapping/133.mp4\n",
      "\n"
     ]
    },
    {
     "name": "stderr",
     "output_type": "stream",
     "text": [
      "t:   0%|          | 0/30 [00:00<?, ?it/s, now=None]    "
     ]
    },
    {
     "name": "stdout",
     "output_type": "stream",
     "text": [
      "Moviepy - Done !\n",
      "Moviepy - video ready behavior_data/armflapping/133.mp4\n",
      "['96.mp4', '82.mp4', '7.mp4', '55.mp4', '6.mp4', '81.mp4', '95.mp4', '56.mp4', '5.mp4', '94.mp4', '80.mp4', '53.mp4', '.DS_Store', '52.mp4', '93.mp4', '87.mp4', '50.mp4', '79.mp4', '86.mp4', '36.mp4', '37.mp4', '108.mp4', '109.mp4', '131.mp4', '119.mp4', '18.mp4', '25.mp4', '19.mp4', '118.mp4', '130.mp4', '132.mp4', '27.mp4', '26.mp4', '116.mp4', '17.mp4', '16.mp4', '117.mp4', '129.mp4', '101.mp4', '28.mp4', '100.mp4', '39.mp4', '11.mp4', '10.mp4', '38.mp4', '107.mp4', '12.mp4', '13.mp4', '106.mp4', '112.mp4', '60.mp4', '61.mp4', '88.mp4', '63.mp4', '62.mp4', '89.mp4', '99.mp4', '98.mp4']\n",
      "adding file\n",
      "Moviepy - Building video behavior_data/control/134.mp4.\n",
      "MoviePy - Writing audio in 134TEMP_MPY_wvf_snd.mp4\n",
      "MoviePy - Done.\n",
      "Moviepy - Writing video behavior_data/control/134.mp4\n",
      "\n"
     ]
    },
    {
     "name": "stderr",
     "output_type": "stream",
     "text": [
      "chunk:   0%|          | 0/133 [00:00<?, ?it/s, now=None]"
     ]
    },
    {
     "name": "stdout",
     "output_type": "stream",
     "text": [
      "Moviepy - Done !\n",
      "Moviepy - video ready behavior_data/control/134.mp4\n",
      "['96.mp4', '82.mp4', '7.mp4', '55.mp4', '6.mp4', '81.mp4', '95.mp4', '56.mp4', '5.mp4', '94.mp4', '80.mp4', '53.mp4', '.DS_Store', '52.mp4', '93.mp4', '87.mp4', '50.mp4', '79.mp4', '86.mp4', '36.mp4', '37.mp4', '108.mp4', '134.mp4', '109.mp4', '131.mp4', '119.mp4', '18.mp4', '25.mp4', '19.mp4', '118.mp4', '130.mp4', '132.mp4', '27.mp4', '26.mp4', '116.mp4', '17.mp4', '16.mp4', '117.mp4', '129.mp4', '101.mp4', '28.mp4', '100.mp4', '39.mp4', '11.mp4', '10.mp4', '38.mp4', '107.mp4', '12.mp4', '13.mp4', '106.mp4', '112.mp4', '60.mp4', '61.mp4', '88.mp4', '63.mp4', '62.mp4', '89.mp4', '99.mp4', '98.mp4']\n",
      "adding file\n",
      "Moviepy - Building video behavior_data/control/135.mp4.\n",
      "MoviePy - Writing audio in 135TEMP_MPY_wvf_snd.mp4\n"
     ]
    },
    {
     "name": "stderr",
     "output_type": "stream",
     "text": [
      "                                                             \r"
     ]
    },
    {
     "name": "stdout",
     "output_type": "stream",
     "text": [
      "MoviePy - Done.\n",
      "Moviepy - Writing video behavior_data/control/135.mp4\n",
      "\n",
      "Moviepy - Done !\n",
      "Moviepy - video ready behavior_data/control/135.mp4\n"
     ]
    },
    {
     "name": "stderr",
     "output_type": "stream",
     "text": [
      "\r",
      "chunk:   0%|          | 0/133 [00:00<?, ?it/s, now=None]"
     ]
    },
    {
     "name": "stdout",
     "output_type": "stream",
     "text": [
      "['96.mp4', '82.mp4', '7.mp4', '55.mp4', '6.mp4', '81.mp4', '95.mp4', '56.mp4', '5.mp4', '94.mp4', '80.mp4', '53.mp4', '.DS_Store', '52.mp4', '93.mp4', '87.mp4', '50.mp4', '79.mp4', '86.mp4', '36.mp4', '37.mp4', '108.mp4', '134.mp4', '135.mp4', '109.mp4', '131.mp4', '119.mp4', '18.mp4', '25.mp4', '19.mp4', '118.mp4', '130.mp4', '132.mp4', '27.mp4', '26.mp4', '116.mp4', '17.mp4', '16.mp4', '117.mp4', '129.mp4', '101.mp4', '28.mp4', '100.mp4', '39.mp4', '11.mp4', '10.mp4', '38.mp4', '107.mp4', '12.mp4', '13.mp4', '106.mp4', '112.mp4', '60.mp4', '61.mp4', '88.mp4', '63.mp4', '62.mp4', '89.mp4', '99.mp4', '98.mp4']\n",
      "adding file\n",
      "Moviepy - Building video behavior_data/control/136.mp4.\n",
      "MoviePy - Writing audio in 136TEMP_MPY_wvf_snd.mp4\n"
     ]
    },
    {
     "name": "stderr",
     "output_type": "stream",
     "text": [
      "                                                             \r"
     ]
    },
    {
     "name": "stdout",
     "output_type": "stream",
     "text": [
      "MoviePy - Done.\n",
      "Moviepy - Writing video behavior_data/control/136.mp4\n",
      "\n",
      "Moviepy - Done !\n"
     ]
    },
    {
     "name": "stderr",
     "output_type": "stream",
     "text": [
      "\r",
      "chunk:   0%|          | 0/133 [00:00<?, ?it/s, now=None]"
     ]
    },
    {
     "name": "stdout",
     "output_type": "stream",
     "text": [
      "Moviepy - video ready behavior_data/control/136.mp4\n",
      "['96.mp4', '82.mp4', '7.mp4', '55.mp4', '6.mp4', '81.mp4', '95.mp4', '56.mp4', '5.mp4', '94.mp4', '80.mp4', '53.mp4', '.DS_Store', '52.mp4', '93.mp4', '87.mp4', '50.mp4', '79.mp4', '86.mp4', '36.mp4', '37.mp4', '136.mp4', '108.mp4', '134.mp4', '135.mp4', '109.mp4', '131.mp4', '119.mp4', '18.mp4', '25.mp4', '19.mp4', '118.mp4', '130.mp4', '132.mp4', '27.mp4', '26.mp4', '116.mp4', '17.mp4', '16.mp4', '117.mp4', '129.mp4', '101.mp4', '28.mp4', '100.mp4', '39.mp4', '11.mp4', '10.mp4', '38.mp4', '107.mp4', '12.mp4', '13.mp4', '106.mp4', '112.mp4', '60.mp4', '61.mp4', '88.mp4', '63.mp4', '62.mp4', '89.mp4', '99.mp4', '98.mp4']\n",
      "adding file\n",
      "Moviepy - Building video behavior_data/control/137.mp4.\n",
      "MoviePy - Writing audio in 137TEMP_MPY_wvf_snd.mp4\n"
     ]
    },
    {
     "name": "stderr",
     "output_type": "stream",
     "text": [
      "                                                             \r"
     ]
    },
    {
     "name": "stdout",
     "output_type": "stream",
     "text": [
      "MoviePy - Done.\n",
      "Moviepy - Writing video behavior_data/control/137.mp4\n",
      "\n",
      "Moviepy - Done !\n",
      "Moviepy - video ready behavior_data/control/137.mp4\n",
      "staring the 22th file\n",
      "http://www.youtube.com/watch?v=I7fdv1q9-m8\n",
      "This is url:  http://www.youtube.com/watch?v=I7fdv1q9-m8\n"
     ]
    },
    {
     "name": "stderr",
     "output_type": "stream",
     "text": [
      "\r",
      "chunk:   0%|          | 0/133 [00:00<?, ?it/s, now=None]"
     ]
    },
    {
     "name": "stdout",
     "output_type": "stream",
     "text": [
      "['69.mp4', '68.mp4', '83.mp4', '97.mp4', '57.mp4', '84.mp4', '.DS_Store', '85.mp4', '78.mp4', '123.mp4', '22.mp4', '23.mp4', '122.mp4', '21.mp4', '35.mp4', '34.mp4', '20.mp4', '125.mp4', '24.mp4', '30.mp4', '31.mp4', '124.mp4', '126.mp4', '33.mp4', '32.mp4', '127.mp4', '133.mp4', '102.mp4', '103.mp4', '115.mp4', '14.mp4', '29.mp4', '15.mp4', '114.mp4', '128.mp4', '104.mp4', '110.mp4', '111.mp4', '105.mp4', '113.mp4', '74.mp4', '75.mp4', '77.mp4', '76.mp4', '8.mp4', '66.mp4', '72.mp4', '73.mp4', '67.mp4', '9.mp4', '59.mp4', '71.mp4', '65.mp4', '64.mp4', '70.mp4', '58.mp4']\n",
      "adding file\n",
      "Moviepy - Building video behavior_data/armflapping/138.mp4.\n",
      "MoviePy - Writing audio in 138TEMP_MPY_wvf_snd.mp4\n"
     ]
    },
    {
     "name": "stderr",
     "output_type": "stream",
     "text": [
      "t:  39%|███▉      | 57/145 [00:00<00:00, 567.10it/s, now=None]"
     ]
    },
    {
     "name": "stdout",
     "output_type": "stream",
     "text": [
      "MoviePy - Done.\n",
      "Moviepy - Writing video behavior_data/armflapping/138.mp4\n",
      "\n"
     ]
    },
    {
     "name": "stderr",
     "output_type": "stream",
     "text": [
      "chunk:   0%|          | 0/111 [00:00<?, ?it/s, now=None]       "
     ]
    },
    {
     "name": "stdout",
     "output_type": "stream",
     "text": [
      "Moviepy - Done !\n",
      "Moviepy - video ready behavior_data/armflapping/138.mp4\n",
      "['41.mp4', '40.mp4', '54.mp4', '42.mp4', '43.mp4', '90.mp4', '47.mp4', '1.mp4', '.DS_Store', '0.mp4', '46.mp4', '91.mp4', '2.mp4', '44.mp4', '45.mp4', '3.mp4', '92.mp4', '120.mp4', '121.mp4', '48.mp4', '49.mp4']\n",
      "adding file\n",
      "Moviepy - Building video behavior_data/headbanging/139.mp4.\n",
      "MoviePy - Writing audio in 139TEMP_MPY_wvf_snd.mp4\n"
     ]
    },
    {
     "name": "stderr",
     "output_type": "stream",
     "text": [
      "t:  54%|█████▎    | 65/121 [00:00<00:00, 643.61it/s, now=None]"
     ]
    },
    {
     "name": "stdout",
     "output_type": "stream",
     "text": [
      "MoviePy - Done.\n",
      "Moviepy - Writing video behavior_data/headbanging/139.mp4\n",
      "\n"
     ]
    },
    {
     "name": "stderr",
     "output_type": "stream",
     "text": [
      "chunk:   0%|          | 0/111 [00:00<?, ?it/s, now=None]      "
     ]
    },
    {
     "name": "stdout",
     "output_type": "stream",
     "text": [
      "Moviepy - Done !\n",
      "Moviepy - video ready behavior_data/headbanging/139.mp4\n",
      "['96.mp4', '82.mp4', '7.mp4', '55.mp4', '6.mp4', '81.mp4', '95.mp4', '56.mp4', '5.mp4', '94.mp4', '80.mp4', '53.mp4', '.DS_Store', '52.mp4', '93.mp4', '87.mp4', '50.mp4', '79.mp4', '86.mp4', '137.mp4', '36.mp4', '37.mp4', '136.mp4', '108.mp4', '134.mp4', '135.mp4', '109.mp4', '131.mp4', '119.mp4', '18.mp4', '25.mp4', '19.mp4', '118.mp4', '130.mp4', '132.mp4', '27.mp4', '26.mp4', '116.mp4', '17.mp4', '16.mp4', '117.mp4', '129.mp4', '101.mp4', '28.mp4', '100.mp4', '39.mp4', '11.mp4', '10.mp4', '38.mp4', '107.mp4', '12.mp4', '13.mp4', '106.mp4', '112.mp4', '60.mp4', '61.mp4', '88.mp4', '63.mp4', '62.mp4', '89.mp4', '99.mp4', '98.mp4']\n",
      "adding file\n",
      "Moviepy - Building video behavior_data/control/140.mp4.\n",
      "MoviePy - Writing audio in 140TEMP_MPY_wvf_snd.mp4\n"
     ]
    },
    {
     "name": "stderr",
     "output_type": "stream",
     "text": [
      "t:  47%|████▋     | 57/121 [00:00<00:00, 550.45it/s, now=None]"
     ]
    },
    {
     "name": "stdout",
     "output_type": "stream",
     "text": [
      "MoviePy - Done.\n",
      "Moviepy - Writing video behavior_data/control/140.mp4\n",
      "\n"
     ]
    },
    {
     "name": "stderr",
     "output_type": "stream",
     "text": [
      "chunk:   0%|          | 0/111 [00:00<?, ?it/s, now=None]       "
     ]
    },
    {
     "name": "stdout",
     "output_type": "stream",
     "text": [
      "Moviepy - Done !\n",
      "Moviepy - video ready behavior_data/control/140.mp4\n",
      "['96.mp4', '82.mp4', '140.mp4', '7.mp4', '55.mp4', '6.mp4', '81.mp4', '95.mp4', '56.mp4', '5.mp4', '94.mp4', '80.mp4', '53.mp4', '.DS_Store', '52.mp4', '93.mp4', '87.mp4', '50.mp4', '79.mp4', '86.mp4', '137.mp4', '36.mp4', '37.mp4', '136.mp4', '108.mp4', '134.mp4', '135.mp4', '109.mp4', '131.mp4', '119.mp4', '18.mp4', '25.mp4', '19.mp4', '118.mp4', '130.mp4', '132.mp4', '27.mp4', '26.mp4', '116.mp4', '17.mp4', '16.mp4', '117.mp4', '129.mp4', '101.mp4', '28.mp4', '100.mp4', '39.mp4', '11.mp4', '10.mp4', '38.mp4', '107.mp4', '12.mp4', '13.mp4', '106.mp4', '112.mp4', '60.mp4', '61.mp4', '88.mp4', '63.mp4', '62.mp4', '89.mp4', '99.mp4', '98.mp4']\n",
      "adding file\n",
      "Moviepy - Building video behavior_data/control/141.mp4.\n",
      "MoviePy - Writing audio in 141TEMP_MPY_wvf_snd.mp4\n"
     ]
    },
    {
     "name": "stderr",
     "output_type": "stream",
     "text": [
      "t:  50%|████▉     | 60/121 [00:00<00:00, 599.17it/s, now=None]"
     ]
    },
    {
     "name": "stdout",
     "output_type": "stream",
     "text": [
      "MoviePy - Done.\n",
      "Moviepy - Writing video behavior_data/control/141.mp4\n",
      "\n"
     ]
    },
    {
     "name": "stderr",
     "output_type": "stream",
     "text": [
      "                                                               \r"
     ]
    },
    {
     "name": "stdout",
     "output_type": "stream",
     "text": [
      "Moviepy - Done !\n",
      "Moviepy - video ready behavior_data/control/141.mp4\n",
      "['96.mp4', '82.mp4', '140.mp4', '7.mp4', '55.mp4', '6.mp4', '141.mp4', '81.mp4', '95.mp4', '56.mp4', '5.mp4', '94.mp4', '80.mp4', '53.mp4', '.DS_Store', '52.mp4', '93.mp4', '87.mp4', '50.mp4', '79.mp4', '86.mp4', '137.mp4', '36.mp4', '37.mp4', '136.mp4', '108.mp4', '134.mp4', '135.mp4', '109.mp4', '131.mp4', '119.mp4', '18.mp4', '25.mp4', '19.mp4', '118.mp4', '130.mp4', '132.mp4', '27.mp4', '26.mp4', '116.mp4', '17.mp4', '16.mp4', '117.mp4', '129.mp4', '101.mp4', '28.mp4', '100.mp4', '39.mp4', '11.mp4', '10.mp4', '38.mp4', '107.mp4', '12.mp4', '13.mp4', '106.mp4', '112.mp4', '60.mp4', '61.mp4', '88.mp4', '63.mp4', '62.mp4', '89.mp4', '99.mp4', '98.mp4']\n",
      "adding file\n",
      "Moviepy - Building video behavior_data/control/142.mp4.\n",
      "MoviePy - Writing audio in 142TEMP_MPY_wvf_snd.mp4\n"
     ]
    },
    {
     "name": "stderr",
     "output_type": "stream",
     "text": [
      "t:  55%|█████▍    | 66/121 [00:00<00:00, 645.98it/s, now=None]"
     ]
    },
    {
     "name": "stdout",
     "output_type": "stream",
     "text": [
      "MoviePy - Done.\n",
      "Moviepy - Writing video behavior_data/control/142.mp4\n",
      "\n"
     ]
    },
    {
     "name": "stderr",
     "output_type": "stream",
     "text": [
      "                                                              \r"
     ]
    },
    {
     "name": "stdout",
     "output_type": "stream",
     "text": [
      "Moviepy - Done !\n",
      "Moviepy - video ready behavior_data/control/142.mp4\n",
      "['96.mp4', '82.mp4', '140.mp4', '7.mp4', '55.mp4', '6.mp4', '141.mp4', '81.mp4', '95.mp4', '56.mp4', '5.mp4', '142.mp4', '94.mp4', '80.mp4', '53.mp4', '.DS_Store', '52.mp4', '93.mp4', '87.mp4', '50.mp4', '79.mp4', '86.mp4', '137.mp4', '36.mp4', '37.mp4', '136.mp4', '108.mp4', '134.mp4', '135.mp4', '109.mp4', '131.mp4', '119.mp4', '18.mp4', '25.mp4', '19.mp4', '118.mp4', '130.mp4', '132.mp4', '27.mp4', '26.mp4', '116.mp4', '17.mp4', '16.mp4', '117.mp4', '129.mp4', '101.mp4', '28.mp4', '100.mp4', '39.mp4', '11.mp4', '10.mp4', '38.mp4', '107.mp4', '12.mp4', '13.mp4', '106.mp4', '112.mp4', '60.mp4', '61.mp4', '88.mp4', '63.mp4', '62.mp4', '89.mp4', '99.mp4', '98.mp4']\n",
      "adding file\n",
      "Moviepy - Building video behavior_data/control/143.mp4.\n",
      "MoviePy - Writing audio in 143TEMP_MPY_wvf_snd.mp4\n"
     ]
    },
    {
     "name": "stderr",
     "output_type": "stream",
     "text": [
      "                                                       \r"
     ]
    },
    {
     "name": "stdout",
     "output_type": "stream",
     "text": [
      "MoviePy - Done.\n",
      "Moviepy - Writing video behavior_data/control/143.mp4\n",
      "\n",
      "Moviepy - Done !\n",
      "Moviepy - video ready behavior_data/control/143.mp4\n",
      "staring the 23th file\n",
      "http://www.youtube.com/watch?v=nGoMpqcYcOg\n",
      "This is url:  http://www.youtube.com/watch?v=nGoMpqcYcOg\n",
      "['69.mp4', '68.mp4', '83.mp4', '97.mp4', '57.mp4', '84.mp4', '.DS_Store', '85.mp4', '78.mp4', '123.mp4', '22.mp4', '23.mp4', '122.mp4', '21.mp4', '35.mp4', '34.mp4', '20.mp4', '125.mp4', '24.mp4', '30.mp4', '31.mp4', '124.mp4', '126.mp4', '33.mp4', '32.mp4', '127.mp4', '133.mp4', '102.mp4', '103.mp4', '115.mp4', '14.mp4', '29.mp4', '15.mp4', '114.mp4', '128.mp4', '104.mp4', '110.mp4', '138.mp4', '111.mp4', '105.mp4', '113.mp4', '74.mp4', '75.mp4', '77.mp4', '76.mp4', '8.mp4', '66.mp4', '72.mp4', '73.mp4', '67.mp4', '9.mp4', '59.mp4', '71.mp4', '65.mp4', '64.mp4', '70.mp4', '58.mp4']\n",
      "adding file\n"
     ]
    },
    {
     "name": "stderr",
     "output_type": "stream",
     "text": [
      "t:  14%|█▍        | 25/180 [00:00<00:00, 249.72it/s, now=None]"
     ]
    },
    {
     "name": "stdout",
     "output_type": "stream",
     "text": [
      "Moviepy - Building video behavior_data/armflapping/144.mp4.\n",
      "MoviePy - Writing audio in 144TEMP_MPY_wvf_snd.mp4\n",
      "MoviePy - Done.\n",
      "Moviepy - Writing video behavior_data/armflapping/144.mp4\n",
      "\n"
     ]
    },
    {
     "name": "stderr",
     "output_type": "stream",
     "text": [
      "                                                               \r"
     ]
    },
    {
     "name": "stdout",
     "output_type": "stream",
     "text": [
      "Moviepy - Done !\n",
      "Moviepy - video ready behavior_data/armflapping/144.mp4\n",
      "['69.mp4', '68.mp4', '83.mp4', '97.mp4', '57.mp4', '84.mp4', '.DS_Store', '85.mp4', '78.mp4', '144.mp4', '123.mp4', '22.mp4', '23.mp4', '122.mp4', '21.mp4', '35.mp4', '34.mp4', '20.mp4', '125.mp4', '24.mp4', '30.mp4', '31.mp4', '124.mp4', '126.mp4', '33.mp4', '32.mp4', '127.mp4', '133.mp4', '102.mp4', '103.mp4', '115.mp4', '14.mp4', '29.mp4', '15.mp4', '114.mp4', '128.mp4', '104.mp4', '110.mp4', '138.mp4', '111.mp4', '105.mp4', '113.mp4', '74.mp4', '75.mp4', '77.mp4', '76.mp4', '8.mp4', '66.mp4', '72.mp4', '73.mp4', '67.mp4', '9.mp4', '59.mp4', '71.mp4', '65.mp4', '64.mp4', '70.mp4', '58.mp4']\n",
      "adding file\n"
     ]
    },
    {
     "name": "stderr",
     "output_type": "stream",
     "text": [
      "t:   0%|          | 0/150 [00:00<?, ?it/s, now=None]    "
     ]
    },
    {
     "name": "stdout",
     "output_type": "stream",
     "text": [
      "Moviepy - Building video behavior_data/armflapping/145.mp4.\n",
      "MoviePy - Writing audio in 145TEMP_MPY_wvf_snd.mp4\n",
      "MoviePy - Done.\n",
      "Moviepy - Writing video behavior_data/armflapping/145.mp4\n",
      "\n"
     ]
    },
    {
     "name": "stderr",
     "output_type": "stream",
     "text": [
      "                                                               \r"
     ]
    },
    {
     "name": "stdout",
     "output_type": "stream",
     "text": [
      "Moviepy - Done !\n",
      "Moviepy - video ready behavior_data/armflapping/145.mp4\n",
      "['96.mp4', '82.mp4', '140.mp4', '7.mp4', '55.mp4', '6.mp4', '141.mp4', '81.mp4', '95.mp4', '143.mp4', '56.mp4', '5.mp4', '142.mp4', '94.mp4', '80.mp4', '53.mp4', '.DS_Store', '52.mp4', '93.mp4', '87.mp4', '50.mp4', '79.mp4', '86.mp4', '137.mp4', '36.mp4', '37.mp4', '136.mp4', '108.mp4', '134.mp4', '135.mp4', '109.mp4', '131.mp4', '119.mp4', '18.mp4', '25.mp4', '19.mp4', '118.mp4', '130.mp4', '132.mp4', '27.mp4', '26.mp4', '116.mp4', '17.mp4', '16.mp4', '117.mp4', '129.mp4', '101.mp4', '28.mp4', '100.mp4', '39.mp4', '11.mp4', '10.mp4', '38.mp4', '107.mp4', '12.mp4', '13.mp4', '106.mp4', '112.mp4', '60.mp4', '61.mp4', '88.mp4', '63.mp4', '62.mp4', '89.mp4', '99.mp4', '98.mp4']\n",
      "adding file\n"
     ]
    },
    {
     "name": "stderr",
     "output_type": "stream",
     "text": [
      "t:  18%|█▊        | 27/150 [00:00<00:00, 265.87it/s, now=None]"
     ]
    },
    {
     "name": "stdout",
     "output_type": "stream",
     "text": [
      "Moviepy - Building video behavior_data/control/146.mp4.\n",
      "MoviePy - Writing audio in 146TEMP_MPY_wvf_snd.mp4\n",
      "MoviePy - Done.\n",
      "Moviepy - Writing video behavior_data/control/146.mp4\n",
      "\n"
     ]
    },
    {
     "name": "stderr",
     "output_type": "stream",
     "text": [
      "                                                               \r"
     ]
    },
    {
     "name": "stdout",
     "output_type": "stream",
     "text": [
      "Moviepy - Done !\n",
      "Moviepy - video ready behavior_data/control/146.mp4\n",
      "['96.mp4', '82.mp4', '140.mp4', '7.mp4', '55.mp4', '6.mp4', '141.mp4', '81.mp4', '95.mp4', '143.mp4', '56.mp4', '5.mp4', '142.mp4', '94.mp4', '80.mp4', '146.mp4', '53.mp4', '.DS_Store', '52.mp4', '93.mp4', '87.mp4', '50.mp4', '79.mp4', '86.mp4', '137.mp4', '36.mp4', '37.mp4', '136.mp4', '108.mp4', '134.mp4', '135.mp4', '109.mp4', '131.mp4', '119.mp4', '18.mp4', '25.mp4', '19.mp4', '118.mp4', '130.mp4', '132.mp4', '27.mp4', '26.mp4', '116.mp4', '17.mp4', '16.mp4', '117.mp4', '129.mp4', '101.mp4', '28.mp4', '100.mp4', '39.mp4', '11.mp4', '10.mp4', '38.mp4', '107.mp4', '12.mp4', '13.mp4', '106.mp4', '112.mp4', '60.mp4', '61.mp4', '88.mp4', '63.mp4', '62.mp4', '89.mp4', '99.mp4', '98.mp4']\n",
      "adding file\n"
     ]
    },
    {
     "name": "stderr",
     "output_type": "stream",
     "text": [
      "t:  17%|█▋        | 26/150 [00:00<00:00, 253.71it/s, now=None]"
     ]
    },
    {
     "name": "stdout",
     "output_type": "stream",
     "text": [
      "Moviepy - Building video behavior_data/control/147.mp4.\n",
      "MoviePy - Writing audio in 147TEMP_MPY_wvf_snd.mp4\n",
      "MoviePy - Done.\n",
      "Moviepy - Writing video behavior_data/control/147.mp4\n",
      "\n"
     ]
    },
    {
     "name": "stderr",
     "output_type": "stream",
     "text": [
      "                                                               \r"
     ]
    },
    {
     "name": "stdout",
     "output_type": "stream",
     "text": [
      "Moviepy - Done !\n",
      "Moviepy - video ready behavior_data/control/147.mp4\n",
      "['96.mp4', '82.mp4', '140.mp4', '7.mp4', '55.mp4', '6.mp4', '141.mp4', '81.mp4', '95.mp4', '143.mp4', '56.mp4', '5.mp4', '142.mp4', '94.mp4', '80.mp4', '146.mp4', '53.mp4', '.DS_Store', '52.mp4', '147.mp4', '93.mp4', '87.mp4', '50.mp4', '79.mp4', '86.mp4', '137.mp4', '36.mp4', '37.mp4', '136.mp4', '108.mp4', '134.mp4', '135.mp4', '109.mp4', '131.mp4', '119.mp4', '18.mp4', '25.mp4', '19.mp4', '118.mp4', '130.mp4', '132.mp4', '27.mp4', '26.mp4', '116.mp4', '17.mp4', '16.mp4', '117.mp4', '129.mp4', '101.mp4', '28.mp4', '100.mp4', '39.mp4', '11.mp4', '10.mp4', '38.mp4', '107.mp4', '12.mp4', '13.mp4', '106.mp4', '112.mp4', '60.mp4', '61.mp4', '88.mp4', '63.mp4', '62.mp4', '89.mp4', '99.mp4', '98.mp4']\n",
      "adding file\n"
     ]
    },
    {
     "name": "stderr",
     "output_type": "stream",
     "text": [
      "t:  21%|██        | 25/120 [00:00<00:00, 246.68it/s, now=None]"
     ]
    },
    {
     "name": "stdout",
     "output_type": "stream",
     "text": [
      "Moviepy - Building video behavior_data/control/148.mp4.\n",
      "MoviePy - Writing audio in 148TEMP_MPY_wvf_snd.mp4\n",
      "MoviePy - Done.\n",
      "Moviepy - Writing video behavior_data/control/148.mp4\n",
      "\n"
     ]
    },
    {
     "name": "stderr",
     "output_type": "stream",
     "text": [
      "                                                               \r"
     ]
    },
    {
     "name": "stdout",
     "output_type": "stream",
     "text": [
      "Moviepy - Done !\n",
      "Moviepy - video ready behavior_data/control/148.mp4\n",
      "['96.mp4', '82.mp4', '140.mp4', '7.mp4', '55.mp4', '6.mp4', '141.mp4', '81.mp4', '95.mp4', '143.mp4', '56.mp4', '5.mp4', '142.mp4', '94.mp4', '80.mp4', '146.mp4', '53.mp4', '.DS_Store', '52.mp4', '147.mp4', '93.mp4', '87.mp4', '50.mp4', '79.mp4', '86.mp4', '137.mp4', '36.mp4', '37.mp4', '136.mp4', '108.mp4', '134.mp4', '135.mp4', '109.mp4', '131.mp4', '119.mp4', '18.mp4', '25.mp4', '19.mp4', '118.mp4', '130.mp4', '132.mp4', '27.mp4', '26.mp4', '116.mp4', '17.mp4', '16.mp4', '117.mp4', '129.mp4', '101.mp4', '28.mp4', '100.mp4', '39.mp4', '11.mp4', '10.mp4', '38.mp4', '107.mp4', '12.mp4', '13.mp4', '106.mp4', '112.mp4', '60.mp4', '61.mp4', '148.mp4', '88.mp4', '63.mp4', '62.mp4', '89.mp4', '99.mp4', '98.mp4']\n",
      "adding file\n"
     ]
    },
    {
     "name": "stderr",
     "output_type": "stream",
     "text": [
      "t:   0%|          | 0/210 [00:00<?, ?it/s, now=None]    "
     ]
    },
    {
     "name": "stdout",
     "output_type": "stream",
     "text": [
      "Moviepy - Building video behavior_data/control/149.mp4.\n",
      "MoviePy - Writing audio in 149TEMP_MPY_wvf_snd.mp4\n",
      "MoviePy - Done.\n",
      "Moviepy - Writing video behavior_data/control/149.mp4\n",
      "\n"
     ]
    },
    {
     "name": "stderr",
     "output_type": "stream",
     "text": [
      "                                                               \r"
     ]
    },
    {
     "name": "stdout",
     "output_type": "stream",
     "text": [
      "Moviepy - Done !\n",
      "Moviepy - video ready behavior_data/control/149.mp4\n",
      "staring the 24th file\n",
      "http://www.youtube.com/watch?v=TVMWW9SejgI\n",
      "This is url:  http://www.youtube.com/watch?v=TVMWW9SejgI\n"
     ]
    },
    {
     "name": "stderr",
     "output_type": "stream",
     "text": [
      "\r",
      "chunk:   0%|          | 0/155 [00:00<?, ?it/s, now=None]"
     ]
    },
    {
     "name": "stdout",
     "output_type": "stream",
     "text": [
      "['41.mp4', '40.mp4', '54.mp4', '42.mp4', '43.mp4', '90.mp4', '47.mp4', '1.mp4', '.DS_Store', '0.mp4', '46.mp4', '91.mp4', '2.mp4', '44.mp4', '45.mp4', '3.mp4', '92.mp4', '120.mp4', '121.mp4', '139.mp4', '48.mp4', '49.mp4']\n",
      "adding file\n",
      "Moviepy - Building video behavior_data/headbanging/150.mp4.\n",
      "MoviePy - Writing audio in 150TEMP_MPY_wvf_snd.mp4\n"
     ]
    },
    {
     "name": "stderr",
     "output_type": "stream",
     "text": [
      "t:  41%|████▏     | 58/140 [00:00<00:00, 574.72it/s, now=None]"
     ]
    },
    {
     "name": "stdout",
     "output_type": "stream",
     "text": [
      "MoviePy - Done.\n",
      "Moviepy - Writing video behavior_data/headbanging/150.mp4\n",
      "\n"
     ]
    },
    {
     "name": "stderr",
     "output_type": "stream",
     "text": [
      "chunk:   0%|          | 0/133 [00:00<?, ?it/s, now=None]       "
     ]
    },
    {
     "name": "stdout",
     "output_type": "stream",
     "text": [
      "Moviepy - Done !\n",
      "Moviepy - video ready behavior_data/headbanging/150.mp4\n",
      "['41.mp4', '40.mp4', '54.mp4', '42.mp4', '43.mp4', '90.mp4', '47.mp4', '1.mp4', '.DS_Store', '0.mp4', '46.mp4', '91.mp4', '2.mp4', '44.mp4', '45.mp4', '3.mp4', '92.mp4', '150.mp4', '120.mp4', '121.mp4', '139.mp4', '48.mp4', '49.mp4']\n",
      "adding file\n",
      "Moviepy - Building video behavior_data/headbanging/151.mp4.\n",
      "MoviePy - Writing audio in 151TEMP_MPY_wvf_snd.mp4\n"
     ]
    },
    {
     "name": "stderr",
     "output_type": "stream",
     "text": [
      "                                                              \r"
     ]
    },
    {
     "name": "stdout",
     "output_type": "stream",
     "text": [
      "MoviePy - Done.\n",
      "Moviepy - Writing video behavior_data/headbanging/151.mp4\n",
      "\n"
     ]
    },
    {
     "name": "stderr",
     "output_type": "stream",
     "text": [
      "\r",
      "chunk:   0%|          | 0/1 [00:00<?, ?it/s, now=None]"
     ]
    },
    {
     "name": "stdout",
     "output_type": "stream",
     "text": [
      "Moviepy - Done !\n",
      "Moviepy - video ready behavior_data/headbanging/151.mp4\n",
      "['96.mp4', '82.mp4', '140.mp4', '7.mp4', '55.mp4', '6.mp4', '141.mp4', '81.mp4', '95.mp4', '143.mp4', '56.mp4', '5.mp4', '142.mp4', '94.mp4', '80.mp4', '146.mp4', '53.mp4', '.DS_Store', '52.mp4', '147.mp4', '93.mp4', '87.mp4', '50.mp4', '79.mp4', '86.mp4', '137.mp4', '36.mp4', '37.mp4', '136.mp4', '108.mp4', '134.mp4', '135.mp4', '109.mp4', '131.mp4', '119.mp4', '18.mp4', '25.mp4', '19.mp4', '118.mp4', '130.mp4', '132.mp4', '27.mp4', '26.mp4', '116.mp4', '17.mp4', '16.mp4', '117.mp4', '129.mp4', '101.mp4', '28.mp4', '100.mp4', '39.mp4', '11.mp4', '10.mp4', '38.mp4', '107.mp4', '12.mp4', '13.mp4', '106.mp4', '112.mp4', '149.mp4', '60.mp4', '61.mp4', '148.mp4', '88.mp4', '63.mp4', '62.mp4', '89.mp4', '99.mp4', '98.mp4']\n",
      "adding file\n",
      "Moviepy - Building video behavior_data/control/152.mp4.\n",
      "MoviePy - Writing audio in 152TEMP_MPY_wvf_snd.mp4\n",
      "failed on 152\n"
     ]
    },
    {
     "name": "stderr",
     "output_type": "stream",
     "text": [
      "chunk: 100%|██████████| 1/1 [00:00<00:00,  4.83it/s, now=None]\n",
      "chunk:   0%|          | 0/89 [00:00<?, ?it/s, now=None]\u001b[A"
     ]
    },
    {
     "name": "stdout",
     "output_type": "stream",
     "text": [
      "['96.mp4', '82.mp4', '140.mp4', '7.mp4', '55.mp4', '6.mp4', '141.mp4', '81.mp4', '95.mp4', '143.mp4', '56.mp4', '5.mp4', '142.mp4', '94.mp4', '80.mp4', '146.mp4', '53.mp4', '.DS_Store', '52.mp4', '147.mp4', '93.mp4', '87.mp4', '50.mp4', '79.mp4', '86.mp4', '137.mp4', '36.mp4', '37.mp4', '136.mp4', '108.mp4', '134.mp4', '135.mp4', '109.mp4', '131.mp4', '119.mp4', '18.mp4', '25.mp4', '19.mp4', '118.mp4', '130.mp4', '132.mp4', '27.mp4', '26.mp4', '116.mp4', '17.mp4', '16.mp4', '117.mp4', '129.mp4', '101.mp4', '28.mp4', '100.mp4', '39.mp4', '11.mp4', '10.mp4', '38.mp4', '107.mp4', '12.mp4', '13.mp4', '106.mp4', '112.mp4', '149.mp4', '60.mp4', '61.mp4', '148.mp4', '88.mp4', '63.mp4', '62.mp4', '89.mp4', '99.mp4', '98.mp4']\n",
      "adding file\n",
      "Moviepy - Building video behavior_data/control/153.mp4.\n",
      "MoviePy - Writing audio in 153TEMP_MPY_wvf_snd.mp4\n"
     ]
    },
    {
     "name": "stderr",
     "output_type": "stream",
     "text": [
      "\n",
      "chunk: 100%|██████████| 1/1 [00:00<00:00,  3.64it/s, now=None]\n",
      "t:   0%|          | 0/80 [00:00<?, ?it/s, now=None]\u001b[A\n",
      "t:  84%|████████▍ | 67/80 [00:00<00:00, 667.93it/s, now=None]\u001b[A\n",
      "                                                             \u001b[A"
     ]
    },
    {
     "name": "stdout",
     "output_type": "stream",
     "text": [
      "MoviePy - Done.\n",
      "Moviepy - Writing video behavior_data/control/153.mp4\n",
      "\n"
     ]
    },
    {
     "name": "stderr",
     "output_type": "stream",
     "text": [
      "chunk: 100%|██████████| 1/1 [00:00<00:00,  1.42it/s, now=None]\n"
     ]
    },
    {
     "name": "stdout",
     "output_type": "stream",
     "text": [
      "Moviepy - Done !\n",
      "Moviepy - video ready behavior_data/control/153.mp4\n",
      "['96.mp4', '82.mp4', '140.mp4', '7.mp4', '55.mp4', '6.mp4', '141.mp4', '81.mp4', '95.mp4', '143.mp4', '56.mp4', '5.mp4', '142.mp4', '94.mp4', '80.mp4', '146.mp4', '53.mp4', '.DS_Store', '52.mp4', '153.mp4', '147.mp4', '93.mp4', '87.mp4', '50.mp4', '79.mp4', '86.mp4', '137.mp4', '36.mp4', '37.mp4', '136.mp4', '108.mp4', '134.mp4', '135.mp4', '109.mp4', '131.mp4', '119.mp4', '18.mp4', '25.mp4', '19.mp4', '118.mp4', '130.mp4', '132.mp4', '27.mp4', '26.mp4', '116.mp4', '17.mp4', '16.mp4', '117.mp4', '129.mp4', '101.mp4', '28.mp4', '100.mp4', '39.mp4', '11.mp4', '10.mp4', '38.mp4', '107.mp4', '12.mp4', '13.mp4', '106.mp4', '112.mp4', '149.mp4', '60.mp4', '61.mp4', '148.mp4', '88.mp4', '63.mp4', '62.mp4', '89.mp4', '99.mp4', '98.mp4']\n",
      "adding file\n",
      "Moviepy - Building video behavior_data/control/154.mp4.\n",
      "MoviePy - Writing audio in 154TEMP_MPY_wvf_snd.mp4\n"
     ]
    },
    {
     "name": "stderr",
     "output_type": "stream",
     "text": [
      "chunk:   0%|          | 0/89 [00:00<?, ?it/s, now=None]\u001b[A\n",
      "chunk: 100%|██████████| 1/1 [00:00<00:00,  1.28it/s, now=None]\n",
      "t:   0%|          | 0/80 [00:00<?, ?it/s, now=None]\u001b[A\n",
      "t:  86%|████████▋ | 69/80 [00:00<00:00, 679.38it/s, now=None]\u001b[A\n",
      "                                                             \u001b[A"
     ]
    },
    {
     "name": "stdout",
     "output_type": "stream",
     "text": [
      "MoviePy - Done.\n",
      "Moviepy - Writing video behavior_data/control/154.mp4\n",
      "\n"
     ]
    },
    {
     "name": "stderr",
     "output_type": "stream",
     "text": [
      "chunk: 100%|██████████| 1/1 [00:01<00:00,  1.01s/it, now=None]"
     ]
    },
    {
     "name": "stdout",
     "output_type": "stream",
     "text": [
      "Moviepy - Done !\n",
      "Moviepy - video ready behavior_data/control/154.mp4\n",
      "staring the 25th file\n",
      "http://www.youtube.com/watch?v=hX3sIO2wc1s\n",
      "This is url:  http://www.youtube.com/watch?v=hX3sIO2wc1s\n"
     ]
    },
    {
     "name": "stderr",
     "output_type": "stream",
     "text": [
      "chunk: 100%|██████████| 1/1 [00:02<00:00,  2.37s/it, now=None]\n",
      "chunk:   0%|          | 0/155 [00:00<?, ?it/s, now=None]\u001b[A"
     ]
    },
    {
     "name": "stdout",
     "output_type": "stream",
     "text": [
      "['41.mp4', '40.mp4', '54.mp4', '42.mp4', '43.mp4', '90.mp4', '47.mp4', '1.mp4', '.DS_Store', '0.mp4', '46.mp4', '91.mp4', '151.mp4', '2.mp4', '44.mp4', '45.mp4', '3.mp4', '92.mp4', '150.mp4', '120.mp4', '121.mp4', '139.mp4', '48.mp4', '49.mp4']\n",
      "adding file\n",
      "Moviepy - Building video behavior_data/headbanging/155.mp4.\n",
      "MoviePy - Writing audio in 155TEMP_MPY_wvf_snd.mp4\n"
     ]
    },
    {
     "name": "stderr",
     "output_type": "stream",
     "text": [
      "\n",
      "chunk: 100%|██████████| 1/1 [00:02<00:00,  2.47s/it, now=None]\n",
      "t:   0%|          | 0/210 [00:00<?, ?it/s, now=None]\u001b[A\n",
      "t:  51%|█████     | 107/210 [00:00<00:00, 1065.89it/s, now=None]\u001b[A"
     ]
    },
    {
     "name": "stdout",
     "output_type": "stream",
     "text": [
      "MoviePy - Done.\n",
      "Moviepy - Writing video behavior_data/headbanging/155.mp4\n",
      "\n"
     ]
    },
    {
     "name": "stderr",
     "output_type": "stream",
     "text": [
      "\n",
      "chunk: 100%|██████████| 1/1 [00:02<00:00,  2.88s/it, now=None]  \u001b[A\n",
      "chunk:   0%|          | 0/45 [00:00<?, ?it/s, now=None]\u001b[A\n",
      "chunk: 100%|██████████| 1/1 [00:02<00:00,  2.94s/it, now=None]\n"
     ]
    },
    {
     "name": "stdout",
     "output_type": "stream",
     "text": [
      "Moviepy - Done !\n",
      "Moviepy - video ready behavior_data/headbanging/155.mp4\n",
      "['96.mp4', '82.mp4', '154.mp4', '140.mp4', '7.mp4', '55.mp4', '6.mp4', '141.mp4', '81.mp4', '95.mp4', '143.mp4', '56.mp4', '5.mp4', '142.mp4', '94.mp4', '80.mp4', '146.mp4', '53.mp4', '.DS_Store', '52.mp4', '153.mp4', '147.mp4', '93.mp4', '87.mp4', '50.mp4', '79.mp4', '86.mp4', '137.mp4', '36.mp4', '37.mp4', '136.mp4', '108.mp4', '134.mp4', '135.mp4', '109.mp4', '131.mp4', '119.mp4', '18.mp4', '25.mp4', '19.mp4', '118.mp4', '130.mp4', '132.mp4', '27.mp4', '26.mp4', '116.mp4', '17.mp4', '16.mp4', '117.mp4', '129.mp4', '101.mp4', '28.mp4', '100.mp4', '39.mp4', '11.mp4', '10.mp4', '38.mp4', '107.mp4', '12.mp4', '13.mp4', '106.mp4', '112.mp4', '149.mp4', '60.mp4', '61.mp4', '148.mp4', '88.mp4', '63.mp4', '62.mp4', '89.mp4', '99.mp4', '98.mp4']\n",
      "adding file\n",
      "Moviepy - Building video behavior_data/control/156.mp4.\n",
      "MoviePy - Writing audio in 156TEMP_MPY_wvf_snd.mp4\n",
      "MoviePy - Done.\n",
      "Moviepy - Writing video behavior_data/control/156.mp4\n",
      "\n"
     ]
    },
    {
     "name": "stderr",
     "output_type": "stream",
     "text": [
      "t:   0%|          | 0/60 [00:00<?, ?it/s, now=None]\u001b[A\n",
      "chunk: 100%|██████████| 1/1 [00:03<00:00,  3.27s/it, now=None]"
     ]
    },
    {
     "name": "stdout",
     "output_type": "stream",
     "text": [
      "Moviepy - Done !\n",
      "Moviepy - video ready behavior_data/control/156.mp4\n",
      "['96.mp4', '82.mp4', '154.mp4', '140.mp4', '7.mp4', '55.mp4', '6.mp4', '141.mp4', '81.mp4', '95.mp4', '143.mp4', '56.mp4', '5.mp4', '156.mp4', '142.mp4', '94.mp4', '80.mp4', '146.mp4', '53.mp4', '.DS_Store', '52.mp4', '153.mp4', '147.mp4', '93.mp4', '87.mp4', '50.mp4', '79.mp4', '86.mp4', '137.mp4', '36.mp4', '37.mp4', '136.mp4', '108.mp4', '134.mp4', '135.mp4', '109.mp4', '131.mp4', '119.mp4', '18.mp4', '25.mp4', '19.mp4', '118.mp4', '130.mp4', '132.mp4', '27.mp4', '26.mp4', '116.mp4', '17.mp4', '16.mp4', '117.mp4', '129.mp4', '101.mp4', '28.mp4', '100.mp4', '39.mp4', '11.mp4', '10.mp4', '38.mp4', '107.mp4', '12.mp4', '13.mp4', '106.mp4', '112.mp4', '149.mp4', '60.mp4', '61.mp4', '148.mp4', '88.mp4', '63.mp4', '62.mp4', '89.mp4', '99.mp4', '98.mp4']\n",
      "adding file\n",
      "Moviepy - Building video behavior_data/control/157.mp4.\n",
      "MoviePy - Writing audio in 157TEMP_MPY_wvf_snd.mp4\n"
     ]
    },
    {
     "name": "stderr",
     "output_type": "stream",
     "text": [
      "\n",
      "chunk:   0%|          | 0/89 [00:00<?, ?it/s, now=None]\u001b[A\n",
      "chunk: 100%|██████████| 1/1 [00:03<00:00,  3.34s/it, now=None]\n",
      "t:   0%|          | 0/120 [00:00<?, ?it/s, now=None]\u001b[A\n",
      "t:  82%|████████▎ | 99/120 [00:00<00:00, 986.24it/s, now=None]\u001b[A\n",
      "chunk: 100%|██████████| 1/1 [00:03<00:00,  3.52s/it, now=None]\u001b[A"
     ]
    },
    {
     "name": "stdout",
     "output_type": "stream",
     "text": [
      "MoviePy - Done.\n",
      "Moviepy - Writing video behavior_data/control/157.mp4\n",
      "\n",
      "Moviepy - Done !\n",
      "Moviepy - video ready behavior_data/control/157.mp4\n"
     ]
    },
    {
     "name": "stderr",
     "output_type": "stream",
     "text": [
      "                                                              \r"
     ]
    },
    {
     "name": "stdout",
     "output_type": "stream",
     "text": [
      "staring the 26th file\n",
      "http://www.youtube.com/watch?v=VxK45NHvHTg\n",
      "This is url:  http://www.youtube.com/watch?v=VxK45NHvHTg\n"
     ]
    },
    {
     "name": "stderr",
     "output_type": "stream",
     "text": [
      "\r",
      "chunk:   0%|          | 0/67 [00:00<?, ?it/s, now=None]"
     ]
    },
    {
     "name": "stdout",
     "output_type": "stream",
     "text": [
      "[]\n",
      "adding file\n",
      "Moviepy - Building video behavior_data/spinning/158.mp4.\n",
      "MoviePy - Writing audio in 158TEMP_MPY_wvf_snd.mp4\n"
     ]
    },
    {
     "name": "stderr",
     "output_type": "stream",
     "text": [
      "                                                       \r"
     ]
    },
    {
     "name": "stdout",
     "output_type": "stream",
     "text": [
      "MoviePy - Done.\n",
      "Moviepy - Writing video behavior_data/spinning/158.mp4\n",
      "\n",
      "Moviepy - Done !\n",
      "Moviepy - video ready behavior_data/spinning/158.mp4\n",
      "['96.mp4', '82.mp4', '154.mp4', '140.mp4', '7.mp4', '55.mp4', '6.mp4', '141.mp4', '81.mp4', '95.mp4', '143.mp4', '157.mp4', '56.mp4', '5.mp4', '156.mp4', '142.mp4', '94.mp4', '80.mp4', '146.mp4', '53.mp4', '.DS_Store', '52.mp4', '153.mp4', '147.mp4', '93.mp4', '87.mp4', '50.mp4', '79.mp4', '86.mp4', '137.mp4', '36.mp4', '37.mp4', '136.mp4', '108.mp4', '134.mp4', '135.mp4', '109.mp4', '131.mp4', '119.mp4', '18.mp4', '25.mp4', '19.mp4', '118.mp4', '130.mp4', '132.mp4', '27.mp4', '26.mp4', '116.mp4', '17.mp4', '16.mp4', '117.mp4', '129.mp4', '101.mp4', '28.mp4', '100.mp4', '39.mp4', '11.mp4', '10.mp4', '38.mp4', '107.mp4', '12.mp4', '13.mp4', '106.mp4', '112.mp4', '149.mp4', '60.mp4', '61.mp4', '148.mp4', '88.mp4', '63.mp4', '62.mp4', '89.mp4', '99.mp4', '98.mp4']\n",
      "adding file\n"
     ]
    },
    {
     "name": "stderr",
     "output_type": "stream",
     "text": [
      "t:   0%|          | 0/180 [00:00<?, ?it/s, now=None]    "
     ]
    },
    {
     "name": "stdout",
     "output_type": "stream",
     "text": [
      "Moviepy - Building video behavior_data/control/159.mp4.\n",
      "MoviePy - Writing audio in 159TEMP_MPY_wvf_snd.mp4\n",
      "MoviePy - Done.\n",
      "Moviepy - Writing video behavior_data/control/159.mp4\n",
      "\n"
     ]
    },
    {
     "name": "stderr",
     "output_type": "stream",
     "text": [
      "chunk:   0%|          | 0/111 [00:00<?, ?it/s, now=None]      "
     ]
    },
    {
     "name": "stdout",
     "output_type": "stream",
     "text": [
      "Moviepy - Done !\n",
      "Moviepy - video ready behavior_data/control/159.mp4\n",
      "['96.mp4', '82.mp4', '154.mp4', '140.mp4', '7.mp4', '55.mp4', '6.mp4', '141.mp4', '81.mp4', '95.mp4', '143.mp4', '157.mp4', '56.mp4', '5.mp4', '156.mp4', '142.mp4', '94.mp4', '80.mp4', '146.mp4', '53.mp4', '.DS_Store', '52.mp4', '153.mp4', '147.mp4', '93.mp4', '87.mp4', '50.mp4', '79.mp4', '86.mp4', '137.mp4', '36.mp4', '37.mp4', '136.mp4', '108.mp4', '134.mp4', '135.mp4', '109.mp4', '131.mp4', '119.mp4', '18.mp4', '25.mp4', '19.mp4', '118.mp4', '130.mp4', '132.mp4', '27.mp4', '26.mp4', '116.mp4', '17.mp4', '16.mp4', '117.mp4', '129.mp4', '101.mp4', '28.mp4', '100.mp4', '39.mp4', '11.mp4', '10.mp4', '38.mp4', '107.mp4', '12.mp4', '13.mp4', '106.mp4', '112.mp4', '149.mp4', '60.mp4', '61.mp4', '148.mp4', '88.mp4', '63.mp4', '62.mp4', '89.mp4', '99.mp4', '98.mp4', '159.mp4']\n",
      "adding file\n",
      "Moviepy - Building video behavior_data/control/160.mp4.\n",
      "MoviePy - Writing audio in 160TEMP_MPY_wvf_snd.mp4\n"
     ]
    },
    {
     "name": "stderr",
     "output_type": "stream",
     "text": [
      "                                                                \r"
     ]
    },
    {
     "name": "stdout",
     "output_type": "stream",
     "text": [
      "MoviePy - Done.\n",
      "Moviepy - Writing video behavior_data/control/160.mp4\n",
      "\n"
     ]
    },
    {
     "name": "stderr",
     "output_type": "stream",
     "text": [
      "\r",
      "chunk:   0%|          | 0/111 [00:00<?, ?it/s, now=None]"
     ]
    },
    {
     "name": "stdout",
     "output_type": "stream",
     "text": [
      "Moviepy - Done !\n",
      "Moviepy - video ready behavior_data/control/160.mp4\n",
      "['96.mp4', '82.mp4', '154.mp4', '140.mp4', '7.mp4', '55.mp4', '6.mp4', '141.mp4', '81.mp4', '95.mp4', '143.mp4', '157.mp4', '56.mp4', '5.mp4', '156.mp4', '142.mp4', '94.mp4', '80.mp4', '146.mp4', '53.mp4', '.DS_Store', '52.mp4', '153.mp4', '147.mp4', '93.mp4', '87.mp4', '50.mp4', '79.mp4', '86.mp4', '137.mp4', '36.mp4', '37.mp4', '136.mp4', '108.mp4', '134.mp4', '135.mp4', '109.mp4', '131.mp4', '119.mp4', '18.mp4', '25.mp4', '19.mp4', '118.mp4', '130.mp4', '132.mp4', '27.mp4', '26.mp4', '116.mp4', '17.mp4', '16.mp4', '117.mp4', '129.mp4', '101.mp4', '28.mp4', '100.mp4', '39.mp4', '11.mp4', '10.mp4', '38.mp4', '107.mp4', '12.mp4', '13.mp4', '106.mp4', '112.mp4', '149.mp4', '60.mp4', '61.mp4', '160.mp4', '148.mp4', '88.mp4', '63.mp4', '62.mp4', '89.mp4', '99.mp4', '98.mp4', '159.mp4']\n",
      "adding file\n",
      "Moviepy - Building video behavior_data/control/161.mp4.\n",
      "MoviePy - Writing audio in 161TEMP_MPY_wvf_snd.mp4\n"
     ]
    },
    {
     "name": "stderr",
     "output_type": "stream",
     "text": [
      "                                                                \r"
     ]
    },
    {
     "name": "stdout",
     "output_type": "stream",
     "text": [
      "MoviePy - Done.\n",
      "Moviepy - Writing video behavior_data/control/161.mp4\n",
      "\n",
      "Moviepy - Done !\n",
      "Moviepy - video ready behavior_data/control/161.mp4\n",
      "['96.mp4', '82.mp4', '154.mp4', '140.mp4', '7.mp4', '55.mp4', '6.mp4', '141.mp4', '81.mp4', '95.mp4', '143.mp4', '157.mp4', '56.mp4', '5.mp4', '156.mp4', '142.mp4', '94.mp4', '80.mp4', '146.mp4', '53.mp4', '.DS_Store', '52.mp4', '153.mp4', '147.mp4', '93.mp4', '87.mp4', '50.mp4', '79.mp4', '86.mp4', '137.mp4', '36.mp4', '37.mp4', '136.mp4', '108.mp4', '134.mp4', '135.mp4', '109.mp4', '131.mp4', '119.mp4', '18.mp4', '25.mp4', '19.mp4', '118.mp4', '130.mp4', '132.mp4', '27.mp4', '26.mp4', '116.mp4', '17.mp4', '16.mp4', '117.mp4', '129.mp4', '101.mp4', '28.mp4', '100.mp4', '39.mp4', '11.mp4', '10.mp4', '38.mp4', '107.mp4', '12.mp4', '13.mp4', '106.mp4', '112.mp4', '149.mp4', '161.mp4', '60.mp4', '61.mp4', '160.mp4', '148.mp4', '88.mp4', '63.mp4', '62.mp4', '89.mp4', '99.mp4', '98.mp4', '159.mp4']\n",
      "adding file\n",
      "Moviepy - Building video behavior_data/control/162.mp4.\n",
      "MoviePy - Writing audio in 162TEMP_MPY_wvf_snd.mp4\n"
     ]
    },
    {
     "name": "stderr",
     "output_type": "stream",
     "text": [
      "                                                                \r"
     ]
    },
    {
     "name": "stdout",
     "output_type": "stream",
     "text": [
      "MoviePy - Done.\n",
      "Moviepy - Writing video behavior_data/control/162.mp4\n",
      "\n",
      "Moviepy - Done !\n",
      "Moviepy - video ready behavior_data/control/162.mp4\n",
      "staring the 27th file\n",
      "http://www.youtube.com/watch?v=AXghcX_Bjac\n",
      "This is url:  http://www.youtube.com/watch?v=AXghcX_Bjac\n"
     ]
    },
    {
     "name": "stderr",
     "output_type": "stream",
     "text": [
      "\r",
      "chunk:   0%|          | 0/155 [00:00<?, ?it/s, now=None]"
     ]
    },
    {
     "name": "stdout",
     "output_type": "stream",
     "text": [
      "['158.mp4']\n",
      "adding file\n",
      "Moviepy - Building video behavior_data/spinning/163.mp4.\n",
      "MoviePy - Writing audio in 163TEMP_MPY_wvf_snd.mp4\n"
     ]
    },
    {
     "name": "stderr",
     "output_type": "stream",
     "text": [
      "t:  27%|██▋       | 57/210 [00:00<00:00, 484.81it/s, now=None]      "
     ]
    },
    {
     "name": "stdout",
     "output_type": "stream",
     "text": [
      "MoviePy - Done.\n",
      "Moviepy - Writing video behavior_data/spinning/163.mp4\n",
      "\n"
     ]
    },
    {
     "name": "stderr",
     "output_type": "stream",
     "text": [
      "chunk:   0%|          | 0/155 [00:00<?, ?it/s, now=None]       "
     ]
    },
    {
     "name": "stdout",
     "output_type": "stream",
     "text": [
      "Moviepy - Done !\n",
      "Moviepy - video ready behavior_data/spinning/163.mp4\n",
      "['96.mp4', '82.mp4', '154.mp4', '140.mp4', '7.mp4', '55.mp4', '6.mp4', '141.mp4', '81.mp4', '95.mp4', '143.mp4', '157.mp4', '56.mp4', '5.mp4', '156.mp4', '142.mp4', '94.mp4', '80.mp4', '146.mp4', '53.mp4', '.DS_Store', '52.mp4', '153.mp4', '147.mp4', '93.mp4', '87.mp4', '50.mp4', '79.mp4', '86.mp4', '137.mp4', '36.mp4', '37.mp4', '136.mp4', '108.mp4', '134.mp4', '135.mp4', '109.mp4', '131.mp4', '119.mp4', '18.mp4', '25.mp4', '19.mp4', '118.mp4', '130.mp4', '132.mp4', '27.mp4', '26.mp4', '116.mp4', '17.mp4', '16.mp4', '117.mp4', '129.mp4', '101.mp4', '28.mp4', '100.mp4', '39.mp4', '11.mp4', '10.mp4', '38.mp4', '107.mp4', '12.mp4', '13.mp4', '106.mp4', '112.mp4', '149.mp4', '161.mp4', '60.mp4', '61.mp4', '160.mp4', '148.mp4', '162.mp4', '88.mp4', '63.mp4', '62.mp4', '89.mp4', '99.mp4', '98.mp4', '159.mp4']\n",
      "adding file\n",
      "Moviepy - Building video behavior_data/control/164.mp4.\n",
      "MoviePy - Writing audio in 164TEMP_MPY_wvf_snd.mp4\n"
     ]
    },
    {
     "name": "stderr",
     "output_type": "stream",
     "text": [
      "t:  27%|██▋       | 57/210 [00:00<00:00, 455.52it/s, now=None]"
     ]
    },
    {
     "name": "stdout",
     "output_type": "stream",
     "text": [
      "MoviePy - Done.\n",
      "Moviepy - Writing video behavior_data/control/164.mp4\n",
      "\n"
     ]
    },
    {
     "name": "stderr",
     "output_type": "stream",
     "text": [
      "chunk:   0%|          | 0/155 [00:00<?, ?it/s, now=None]       "
     ]
    },
    {
     "name": "stdout",
     "output_type": "stream",
     "text": [
      "Moviepy - Done !\n",
      "Moviepy - video ready behavior_data/control/164.mp4\n",
      "['96.mp4', '82.mp4', '154.mp4', '140.mp4', '7.mp4', '55.mp4', '6.mp4', '141.mp4', '81.mp4', '95.mp4', '143.mp4', '157.mp4', '56.mp4', '5.mp4', '156.mp4', '142.mp4', '94.mp4', '80.mp4', '146.mp4', '53.mp4', '.DS_Store', '52.mp4', '153.mp4', '147.mp4', '93.mp4', '87.mp4', '50.mp4', '79.mp4', '86.mp4', '137.mp4', '36.mp4', '37.mp4', '136.mp4', '108.mp4', '134.mp4', '135.mp4', '109.mp4', '131.mp4', '119.mp4', '18.mp4', '25.mp4', '19.mp4', '118.mp4', '130.mp4', '132.mp4', '27.mp4', '26.mp4', '116.mp4', '17.mp4', '16.mp4', '117.mp4', '129.mp4', '101.mp4', '28.mp4', '100.mp4', '39.mp4', '11.mp4', '10.mp4', '38.mp4', '107.mp4', '12.mp4', '13.mp4', '106.mp4', '112.mp4', '149.mp4', '161.mp4', '60.mp4', '61.mp4', '160.mp4', '148.mp4', '162.mp4', '88.mp4', '63.mp4', '62.mp4', '89.mp4', '99.mp4', '98.mp4', '164.mp4', '159.mp4']\n",
      "adding file\n",
      "Moviepy - Building video behavior_data/control/165.mp4.\n",
      "MoviePy - Writing audio in 165TEMP_MPY_wvf_snd.mp4\n"
     ]
    },
    {
     "name": "stderr",
     "output_type": "stream",
     "text": [
      "t:  27%|██▋       | 57/210 [00:00<00:00, 497.12it/s, now=None]"
     ]
    },
    {
     "name": "stdout",
     "output_type": "stream",
     "text": [
      "MoviePy - Done.\n",
      "Moviepy - Writing video behavior_data/control/165.mp4\n",
      "\n"
     ]
    },
    {
     "name": "stderr",
     "output_type": "stream",
     "text": [
      "                                                               \r"
     ]
    },
    {
     "name": "stdout",
     "output_type": "stream",
     "text": [
      "Moviepy - Done !\n",
      "Moviepy - video ready behavior_data/control/165.mp4\n",
      "['96.mp4', '82.mp4', '154.mp4', '140.mp4', '7.mp4', '55.mp4', '6.mp4', '141.mp4', '81.mp4', '95.mp4', '143.mp4', '157.mp4', '56.mp4', '5.mp4', '156.mp4', '142.mp4', '94.mp4', '80.mp4', '146.mp4', '53.mp4', '.DS_Store', '52.mp4', '153.mp4', '147.mp4', '93.mp4', '87.mp4', '50.mp4', '79.mp4', '86.mp4', '137.mp4', '36.mp4', '37.mp4', '136.mp4', '108.mp4', '134.mp4', '135.mp4', '109.mp4', '131.mp4', '119.mp4', '18.mp4', '25.mp4', '19.mp4', '118.mp4', '130.mp4', '132.mp4', '27.mp4', '26.mp4', '116.mp4', '17.mp4', '16.mp4', '117.mp4', '129.mp4', '101.mp4', '28.mp4', '100.mp4', '39.mp4', '11.mp4', '10.mp4', '38.mp4', '107.mp4', '12.mp4', '13.mp4', '106.mp4', '112.mp4', '149.mp4', '161.mp4', '60.mp4', '61.mp4', '160.mp4', '148.mp4', '162.mp4', '88.mp4', '63.mp4', '62.mp4', '89.mp4', '99.mp4', '98.mp4', '164.mp4', '159.mp4', '165.mp4']\n",
      "adding file\n",
      "Moviepy - Building video behavior_data/control/166.mp4.\n",
      "MoviePy - Writing audio in 166TEMP_MPY_wvf_snd.mp4\n"
     ]
    },
    {
     "name": "stderr",
     "output_type": "stream",
     "text": [
      "t:  27%|██▋       | 57/210 [00:00<00:00, 514.59it/s, now=None]"
     ]
    },
    {
     "name": "stdout",
     "output_type": "stream",
     "text": [
      "MoviePy - Done.\n",
      "Moviepy - Writing video behavior_data/control/166.mp4\n",
      "\n"
     ]
    },
    {
     "name": "stderr",
     "output_type": "stream",
     "text": [
      "                                                               \r"
     ]
    },
    {
     "name": "stdout",
     "output_type": "stream",
     "text": [
      "Moviepy - Done !\n",
      "Moviepy - video ready behavior_data/control/166.mp4\n",
      "['96.mp4', '82.mp4', '154.mp4', '140.mp4', '7.mp4', '55.mp4', '6.mp4', '141.mp4', '81.mp4', '95.mp4', '143.mp4', '157.mp4', '56.mp4', '5.mp4', '156.mp4', '142.mp4', '94.mp4', '80.mp4', '146.mp4', '53.mp4', '.DS_Store', '52.mp4', '153.mp4', '147.mp4', '93.mp4', '87.mp4', '50.mp4', '79.mp4', '86.mp4', '137.mp4', '36.mp4', '37.mp4', '136.mp4', '108.mp4', '134.mp4', '135.mp4', '109.mp4', '131.mp4', '119.mp4', '18.mp4', '25.mp4', '19.mp4', '118.mp4', '130.mp4', '132.mp4', '27.mp4', '26.mp4', '116.mp4', '17.mp4', '16.mp4', '117.mp4', '129.mp4', '101.mp4', '28.mp4', '100.mp4', '39.mp4', '11.mp4', '10.mp4', '38.mp4', '107.mp4', '12.mp4', '13.mp4', '106.mp4', '112.mp4', '149.mp4', '161.mp4', '60.mp4', '61.mp4', '160.mp4', '148.mp4', '162.mp4', '88.mp4', '63.mp4', '62.mp4', '89.mp4', '99.mp4', '98.mp4', '166.mp4', '164.mp4', '159.mp4', '165.mp4']\n",
      "adding file\n",
      "Moviepy - Building video behavior_data/control/167.mp4.\n",
      "MoviePy - Writing audio in 167TEMP_MPY_wvf_snd.mp4\n"
     ]
    },
    {
     "name": "stderr",
     "output_type": "stream",
     "text": [
      "t:  27%|██▋       | 57/210 [00:00<00:00, 497.86it/s, now=None]"
     ]
    },
    {
     "name": "stdout",
     "output_type": "stream",
     "text": [
      "MoviePy - Done.\n",
      "Moviepy - Writing video behavior_data/control/167.mp4\n",
      "\n"
     ]
    },
    {
     "name": "stderr",
     "output_type": "stream",
     "text": [
      "                                                               \r"
     ]
    },
    {
     "name": "stdout",
     "output_type": "stream",
     "text": [
      "Moviepy - Done !\n",
      "Moviepy - video ready behavior_data/control/167.mp4\n",
      "staring the 28th file\n",
      "http://www.youtube.com/watch?v=scM9g0LExJA\n",
      "This is url:  http://www.youtube.com/watch?v=scM9g0LExJA\n"
     ]
    },
    {
     "name": "stderr",
     "output_type": "stream",
     "text": [
      "\r",
      "chunk:   0%|          | 0/155 [00:00<?, ?it/s, now=None]"
     ]
    },
    {
     "name": "stdout",
     "output_type": "stream",
     "text": [
      "['163.mp4', '158.mp4']\n",
      "adding file\n",
      "Moviepy - Building video behavior_data/spinning/168.mp4.\n",
      "MoviePy - Writing audio in 168TEMP_MPY_wvf_snd.mp4\n"
     ]
    },
    {
     "name": "stderr",
     "output_type": "stream",
     "text": [
      "t:  29%|██▉       | 61/210 [00:00<00:00, 604.66it/s, now=None]"
     ]
    },
    {
     "name": "stdout",
     "output_type": "stream",
     "text": [
      "MoviePy - Done.\n",
      "Moviepy - Writing video behavior_data/spinning/168.mp4\n",
      "\n"
     ]
    },
    {
     "name": "stderr",
     "output_type": "stream",
     "text": [
      "                                                               \r"
     ]
    },
    {
     "name": "stdout",
     "output_type": "stream",
     "text": [
      "Moviepy - Done !\n",
      "Moviepy - video ready behavior_data/spinning/168.mp4\n",
      "['168.mp4', '163.mp4', '158.mp4']\n",
      "adding file\n"
     ]
    },
    {
     "name": "stderr",
     "output_type": "stream",
     "text": [
      "t:   0%|          | 0/210 [00:00<?, ?it/s, now=None]    "
     ]
    },
    {
     "name": "stdout",
     "output_type": "stream",
     "text": [
      "Moviepy - Building video behavior_data/spinning/169.mp4.\n",
      "MoviePy - Writing audio in 169TEMP_MPY_wvf_snd.mp4\n",
      "MoviePy - Done.\n",
      "Moviepy - Writing video behavior_data/spinning/169.mp4\n",
      "\n"
     ]
    },
    {
     "name": "stderr",
     "output_type": "stream",
     "text": [
      "chunk:   0%|          | 0/155 [00:00<?, ?it/s, now=None]       "
     ]
    },
    {
     "name": "stdout",
     "output_type": "stream",
     "text": [
      "Moviepy - Done !\n",
      "Moviepy - video ready behavior_data/spinning/169.mp4\n",
      "['168.mp4', '169.mp4', '163.mp4', '158.mp4']\n",
      "adding file\n",
      "Moviepy - Building video behavior_data/spinning/170.mp4.\n",
      "MoviePy - Writing audio in 170TEMP_MPY_wvf_snd.mp4\n"
     ]
    },
    {
     "name": "stderr",
     "output_type": "stream",
     "text": [
      "t:  29%|██▉       | 61/210 [00:00<00:00, 608.89it/s, now=None]"
     ]
    },
    {
     "name": "stdout",
     "output_type": "stream",
     "text": [
      "MoviePy - Done.\n",
      "Moviepy - Writing video behavior_data/spinning/170.mp4\n",
      "\n"
     ]
    },
    {
     "name": "stderr",
     "output_type": "stream",
     "text": [
      "                                                               \r"
     ]
    },
    {
     "name": "stdout",
     "output_type": "stream",
     "text": [
      "Moviepy - Done !\n",
      "Moviepy - video ready behavior_data/spinning/170.mp4\n",
      "['168.mp4', '169.mp4', '163.mp4', '170.mp4', '158.mp4']\n",
      "adding file\n",
      "Moviepy - Building video behavior_data/spinning/171.mp4.\n",
      "MoviePy - Writing audio in 171TEMP_MPY_wvf_snd.mp4\n"
     ]
    },
    {
     "name": "stderr",
     "output_type": "stream",
     "text": [
      "t:  31%|███▏      | 66/210 [00:00<00:00, 650.58it/s, now=None]"
     ]
    },
    {
     "name": "stdout",
     "output_type": "stream",
     "text": [
      "MoviePy - Done.\n",
      "Moviepy - Writing video behavior_data/spinning/171.mp4\n",
      "\n"
     ]
    },
    {
     "name": "stderr",
     "output_type": "stream",
     "text": [
      "                                                               \r"
     ]
    },
    {
     "name": "stdout",
     "output_type": "stream",
     "text": [
      "Moviepy - Done !\n",
      "Moviepy - video ready behavior_data/spinning/171.mp4\n",
      "['168.mp4', '169.mp4', '163.mp4', '170.mp4', '158.mp4', '171.mp4']\n",
      "adding file\n"
     ]
    },
    {
     "name": "stderr",
     "output_type": "stream",
     "text": [
      "t:  32%|███▏      | 67/210 [00:00<00:00, 664.66it/s, now=None]      "
     ]
    },
    {
     "name": "stdout",
     "output_type": "stream",
     "text": [
      "Moviepy - Building video behavior_data/spinning/172.mp4.\n",
      "MoviePy - Writing audio in 172TEMP_MPY_wvf_snd.mp4\n",
      "MoviePy - Done.\n",
      "Moviepy - Writing video behavior_data/spinning/172.mp4\n",
      "\n"
     ]
    },
    {
     "name": "stderr",
     "output_type": "stream",
     "text": [
      "chunk:   0%|          | 0/133 [00:00<?, ?it/s, now=None]       "
     ]
    },
    {
     "name": "stdout",
     "output_type": "stream",
     "text": [
      "Moviepy - Done !\n",
      "Moviepy - video ready behavior_data/spinning/172.mp4\n",
      "['168.mp4', '169.mp4', '163.mp4', '172.mp4', '170.mp4', '158.mp4', '171.mp4']\n",
      "adding file\n",
      "Moviepy - Building video behavior_data/spinning/173.mp4.\n",
      "MoviePy - Writing audio in 173TEMP_MPY_wvf_snd.mp4\n"
     ]
    },
    {
     "name": "stderr",
     "output_type": "stream",
     "text": [
      "t:  37%|███▋      | 66/180 [00:00<00:00, 657.58it/s, now=None]"
     ]
    },
    {
     "name": "stdout",
     "output_type": "stream",
     "text": [
      "MoviePy - Done.\n",
      "Moviepy - Writing video behavior_data/spinning/173.mp4\n",
      "\n"
     ]
    },
    {
     "name": "stderr",
     "output_type": "stream",
     "text": [
      "chunk:   0%|          | 0/155 [00:00<?, ?it/s, now=None]       "
     ]
    },
    {
     "name": "stdout",
     "output_type": "stream",
     "text": [
      "Moviepy - Done !\n",
      "Moviepy - video ready behavior_data/spinning/173.mp4\n",
      "['168.mp4', '169.mp4', '163.mp4', '173.mp4', '172.mp4', '170.mp4', '158.mp4', '171.mp4']\n",
      "adding file\n",
      "Moviepy - Building video behavior_data/spinning/174.mp4.\n",
      "MoviePy - Writing audio in 174TEMP_MPY_wvf_snd.mp4\n"
     ]
    },
    {
     "name": "stderr",
     "output_type": "stream",
     "text": [
      "t:  31%|███       | 65/210 [00:00<00:00, 649.29it/s, now=None]      "
     ]
    },
    {
     "name": "stdout",
     "output_type": "stream",
     "text": [
      "MoviePy - Done.\n",
      "Moviepy - Writing video behavior_data/spinning/174.mp4\n",
      "\n"
     ]
    },
    {
     "name": "stderr",
     "output_type": "stream",
     "text": [
      "                                                               \r"
     ]
    },
    {
     "name": "stdout",
     "output_type": "stream",
     "text": [
      "Moviepy - Done !\n",
      "Moviepy - video ready behavior_data/spinning/174.mp4\n",
      "['168.mp4', '169.mp4', '174.mp4', '163.mp4', '173.mp4', '172.mp4', '170.mp4', '158.mp4', '171.mp4']\n",
      "adding file\n",
      "Moviepy - Building video behavior_data/spinning/175.mp4.\n",
      "MoviePy - Writing audio in 175TEMP_MPY_wvf_snd.mp4\n"
     ]
    },
    {
     "name": "stderr",
     "output_type": "stream",
     "text": [
      "t:  38%|███▊      | 68/180 [00:00<00:00, 662.02it/s, now=None]"
     ]
    },
    {
     "name": "stdout",
     "output_type": "stream",
     "text": [
      "MoviePy - Done.\n",
      "Moviepy - Writing video behavior_data/spinning/175.mp4\n",
      "\n"
     ]
    },
    {
     "name": "stderr",
     "output_type": "stream",
     "text": [
      "                                                               \r"
     ]
    },
    {
     "name": "stdout",
     "output_type": "stream",
     "text": [
      "Moviepy - Done !\n",
      "Moviepy - video ready behavior_data/spinning/175.mp4\n",
      "['168.mp4', '169.mp4', '175.mp4', '174.mp4', '163.mp4', '173.mp4', '172.mp4', '170.mp4', '158.mp4', '171.mp4']\n",
      "adding file\n"
     ]
    },
    {
     "name": "stderr",
     "output_type": "stream",
     "text": [
      "t:   0%|          | 0/180 [00:00<?, ?it/s, now=None]    "
     ]
    },
    {
     "name": "stdout",
     "output_type": "stream",
     "text": [
      "Moviepy - Building video behavior_data/spinning/176.mp4.\n",
      "MoviePy - Writing audio in 176TEMP_MPY_wvf_snd.mp4\n",
      "MoviePy - Done.\n",
      "Moviepy - Writing video behavior_data/spinning/176.mp4\n",
      "\n"
     ]
    },
    {
     "name": "stderr",
     "output_type": "stream",
     "text": [
      "chunk:   0%|          | 0/133 [00:00<?, ?it/s, now=None]       "
     ]
    },
    {
     "name": "stdout",
     "output_type": "stream",
     "text": [
      "Moviepy - Done !\n",
      "Moviepy - video ready behavior_data/spinning/176.mp4\n",
      "['168.mp4', '169.mp4', '175.mp4', '174.mp4', '176.mp4', '163.mp4', '173.mp4', '172.mp4', '170.mp4', '158.mp4', '171.mp4']\n",
      "adding file\n",
      "Moviepy - Building video behavior_data/spinning/177.mp4.\n",
      "MoviePy - Writing audio in 177TEMP_MPY_wvf_snd.mp4\n"
     ]
    },
    {
     "name": "stderr",
     "output_type": "stream",
     "text": [
      "t:  37%|███▋      | 66/180 [00:00<00:00, 646.05it/s, now=None]"
     ]
    },
    {
     "name": "stdout",
     "output_type": "stream",
     "text": [
      "MoviePy - Done.\n",
      "Moviepy - Writing video behavior_data/spinning/177.mp4\n",
      "\n"
     ]
    },
    {
     "name": "stderr",
     "output_type": "stream",
     "text": [
      "chunk:   0%|          | 0/155 [00:00<?, ?it/s, now=None]       "
     ]
    },
    {
     "name": "stdout",
     "output_type": "stream",
     "text": [
      "Moviepy - Done !\n",
      "Moviepy - video ready behavior_data/spinning/177.mp4\n",
      "['168.mp4', '169.mp4', '175.mp4', '174.mp4', '176.mp4', '177.mp4', '163.mp4', '173.mp4', '172.mp4', '170.mp4', '158.mp4', '171.mp4']\n",
      "adding file\n",
      "Moviepy - Building video behavior_data/spinning/178.mp4.\n",
      "MoviePy - Writing audio in 178TEMP_MPY_wvf_snd.mp4\n"
     ]
    },
    {
     "name": "stderr",
     "output_type": "stream",
     "text": [
      "t:  30%|███       | 63/210 [00:00<00:00, 628.06it/s, now=None]"
     ]
    },
    {
     "name": "stdout",
     "output_type": "stream",
     "text": [
      "MoviePy - Done.\n",
      "Moviepy - Writing video behavior_data/spinning/178.mp4\n",
      "\n"
     ]
    },
    {
     "name": "stderr",
     "output_type": "stream",
     "text": [
      "chunk:   0%|          | 0/155 [00:00<?, ?it/s, now=None]       "
     ]
    },
    {
     "name": "stdout",
     "output_type": "stream",
     "text": [
      "Moviepy - Done !\n",
      "Moviepy - video ready behavior_data/spinning/178.mp4\n",
      "['168.mp4', '169.mp4', '178.mp4', '175.mp4', '174.mp4', '176.mp4', '177.mp4', '163.mp4', '173.mp4', '172.mp4', '170.mp4', '158.mp4', '171.mp4']\n",
      "adding file\n",
      "Moviepy - Building video behavior_data/spinning/179.mp4.\n",
      "MoviePy - Writing audio in 179TEMP_MPY_wvf_snd.mp4\n"
     ]
    },
    {
     "name": "stderr",
     "output_type": "stream",
     "text": [
      "t:  28%|██▊       | 58/210 [00:00<00:00, 567.26it/s, now=None]      "
     ]
    },
    {
     "name": "stdout",
     "output_type": "stream",
     "text": [
      "MoviePy - Done.\n",
      "Moviepy - Writing video behavior_data/spinning/179.mp4\n",
      "\n"
     ]
    },
    {
     "name": "stderr",
     "output_type": "stream",
     "text": [
      "                                                               \r"
     ]
    },
    {
     "name": "stdout",
     "output_type": "stream",
     "text": [
      "Moviepy - Done !\n",
      "Moviepy - video ready behavior_data/spinning/179.mp4\n",
      "['168.mp4', '169.mp4', '179.mp4', '178.mp4', '175.mp4', '174.mp4', '176.mp4', '177.mp4', '163.mp4', '173.mp4', '172.mp4', '170.mp4', '158.mp4', '171.mp4']\n",
      "adding file\n",
      "Moviepy - Building video behavior_data/spinning/180.mp4.\n",
      "MoviePy - Writing audio in 180TEMP_MPY_wvf_snd.mp4\n"
     ]
    },
    {
     "name": "stderr",
     "output_type": "stream",
     "text": [
      "t:  31%|███▏      | 66/210 [00:00<00:00, 652.44it/s, now=None]      "
     ]
    },
    {
     "name": "stdout",
     "output_type": "stream",
     "text": [
      "MoviePy - Done.\n",
      "Moviepy - Writing video behavior_data/spinning/180.mp4\n",
      "\n"
     ]
    },
    {
     "name": "stderr",
     "output_type": "stream",
     "text": [
      "chunk:   0%|          | 0/155 [00:00<?, ?it/s, now=None]       "
     ]
    },
    {
     "name": "stdout",
     "output_type": "stream",
     "text": [
      "Moviepy - Done !\n",
      "Moviepy - video ready behavior_data/spinning/180.mp4\n",
      "['168.mp4', '169.mp4', '180.mp4', '179.mp4', '178.mp4', '175.mp4', '174.mp4', '176.mp4', '177.mp4', '163.mp4', '173.mp4', '172.mp4', '170.mp4', '158.mp4', '171.mp4']\n",
      "adding file\n",
      "Moviepy - Building video behavior_data/spinning/181.mp4.\n",
      "MoviePy - Writing audio in 181TEMP_MPY_wvf_snd.mp4\n"
     ]
    },
    {
     "name": "stderr",
     "output_type": "stream",
     "text": [
      "t:  30%|███       | 63/210 [00:00<00:00, 621.71it/s, now=None]      "
     ]
    },
    {
     "name": "stdout",
     "output_type": "stream",
     "text": [
      "MoviePy - Done.\n",
      "Moviepy - Writing video behavior_data/spinning/181.mp4\n",
      "\n"
     ]
    },
    {
     "name": "stderr",
     "output_type": "stream",
     "text": [
      "                                                               \r"
     ]
    },
    {
     "name": "stdout",
     "output_type": "stream",
     "text": [
      "Moviepy - Done !\n",
      "Moviepy - video ready behavior_data/spinning/181.mp4\n",
      "['168.mp4', '169.mp4', '180.mp4', '181.mp4', '179.mp4', '178.mp4', '175.mp4', '174.mp4', '176.mp4', '177.mp4', '163.mp4', '173.mp4', '172.mp4', '170.mp4', '158.mp4', '171.mp4']\n",
      "adding file\n"
     ]
    },
    {
     "name": "stderr",
     "output_type": "stream",
     "text": [
      "t:   0%|          | 0/210 [00:00<?, ?it/s, now=None]                "
     ]
    },
    {
     "name": "stdout",
     "output_type": "stream",
     "text": [
      "Moviepy - Building video behavior_data/spinning/182.mp4.\n",
      "MoviePy - Writing audio in 182TEMP_MPY_wvf_snd.mp4\n",
      "MoviePy - Done.\n",
      "Moviepy - Writing video behavior_data/spinning/182.mp4\n",
      "\n"
     ]
    },
    {
     "name": "stderr",
     "output_type": "stream",
     "text": [
      "chunk:   0%|          | 0/155 [00:00<?, ?it/s, now=None]       "
     ]
    },
    {
     "name": "stdout",
     "output_type": "stream",
     "text": [
      "Moviepy - Done !\n",
      "Moviepy - video ready behavior_data/spinning/182.mp4\n",
      "['168.mp4', '182.mp4', '169.mp4', '180.mp4', '181.mp4', '179.mp4', '178.mp4', '175.mp4', '174.mp4', '176.mp4', '177.mp4', '163.mp4', '173.mp4', '172.mp4', '170.mp4', '158.mp4', '171.mp4']\n",
      "adding file\n",
      "Moviepy - Building video behavior_data/spinning/183.mp4.\n",
      "MoviePy - Writing audio in 183TEMP_MPY_wvf_snd.mp4\n"
     ]
    },
    {
     "name": "stderr",
     "output_type": "stream",
     "text": [
      "t:  30%|██▉       | 62/210 [00:00<00:00, 611.51it/s, now=None]      "
     ]
    },
    {
     "name": "stdout",
     "output_type": "stream",
     "text": [
      "MoviePy - Done.\n",
      "Moviepy - Writing video behavior_data/spinning/183.mp4\n",
      "\n"
     ]
    },
    {
     "name": "stderr",
     "output_type": "stream",
     "text": [
      "                                                               \r"
     ]
    },
    {
     "name": "stdout",
     "output_type": "stream",
     "text": [
      "Moviepy - Done !\n",
      "Moviepy - video ready behavior_data/spinning/183.mp4\n",
      "['168.mp4', '183.mp4', '182.mp4', '169.mp4', '180.mp4', '181.mp4', '179.mp4', '178.mp4', '175.mp4', '174.mp4', '176.mp4', '177.mp4', '163.mp4', '173.mp4', '172.mp4', '170.mp4', '158.mp4', '171.mp4']\n",
      "adding file\n"
     ]
    },
    {
     "name": "stderr",
     "output_type": "stream",
     "text": [
      "t:   0%|          | 0/210 [00:00<?, ?it/s, now=None]                "
     ]
    },
    {
     "name": "stdout",
     "output_type": "stream",
     "text": [
      "Moviepy - Building video behavior_data/spinning/184.mp4.\n",
      "MoviePy - Writing audio in 184TEMP_MPY_wvf_snd.mp4\n",
      "MoviePy - Done.\n",
      "Moviepy - Writing video behavior_data/spinning/184.mp4\n",
      "\n"
     ]
    },
    {
     "name": "stderr",
     "output_type": "stream",
     "text": [
      "                                                               \r"
     ]
    },
    {
     "name": "stdout",
     "output_type": "stream",
     "text": [
      "Moviepy - Done !\n",
      "Moviepy - video ready behavior_data/spinning/184.mp4\n",
      "['168.mp4', '183.mp4', '182.mp4', '169.mp4', '180.mp4', '181.mp4', '184.mp4', '179.mp4', '178.mp4', '175.mp4', '174.mp4', '176.mp4', '177.mp4', '163.mp4', '173.mp4', '172.mp4', '170.mp4', '158.mp4', '171.mp4']\n",
      "adding file\n"
     ]
    },
    {
     "name": "stderr",
     "output_type": "stream",
     "text": [
      "t:   0%|          | 0/210 [00:00<?, ?it/s, now=None]                "
     ]
    },
    {
     "name": "stdout",
     "output_type": "stream",
     "text": [
      "Moviepy - Building video behavior_data/spinning/185.mp4.\n",
      "MoviePy - Writing audio in 185TEMP_MPY_wvf_snd.mp4\n",
      "MoviePy - Done.\n",
      "Moviepy - Writing video behavior_data/spinning/185.mp4\n",
      "\n"
     ]
    },
    {
     "name": "stderr",
     "output_type": "stream",
     "text": [
      "                                                               \r"
     ]
    },
    {
     "name": "stdout",
     "output_type": "stream",
     "text": [
      "Moviepy - Done !\n",
      "Moviepy - video ready behavior_data/spinning/185.mp4\n",
      "['168.mp4', '183.mp4', '182.mp4', '169.mp4', '180.mp4', '181.mp4', '185.mp4', '184.mp4', '179.mp4', '178.mp4', '175.mp4', '174.mp4', '176.mp4', '177.mp4', '163.mp4', '173.mp4', '172.mp4', '170.mp4', '158.mp4', '171.mp4']\n",
      "adding file\n"
     ]
    },
    {
     "name": "stderr",
     "output_type": "stream",
     "text": [
      "t:   0%|          | 0/210 [00:00<?, ?it/s, now=None]                "
     ]
    },
    {
     "name": "stdout",
     "output_type": "stream",
     "text": [
      "Moviepy - Building video behavior_data/spinning/186.mp4.\n",
      "MoviePy - Writing audio in 186TEMP_MPY_wvf_snd.mp4\n",
      "MoviePy - Done.\n",
      "Moviepy - Writing video behavior_data/spinning/186.mp4\n",
      "\n"
     ]
    },
    {
     "name": "stderr",
     "output_type": "stream",
     "text": [
      "                                                               \r"
     ]
    },
    {
     "name": "stdout",
     "output_type": "stream",
     "text": [
      "Moviepy - Done !\n",
      "Moviepy - video ready behavior_data/spinning/186.mp4\n",
      "['168.mp4', '183.mp4', '182.mp4', '169.mp4', '180.mp4', '181.mp4', '185.mp4', '184.mp4', '179.mp4', '186.mp4', '178.mp4', '175.mp4', '174.mp4', '176.mp4', '177.mp4', '163.mp4', '173.mp4', '172.mp4', '170.mp4', '158.mp4', '171.mp4']\n",
      "adding file\n",
      "Moviepy - Building video behavior_data/spinning/187.mp4.\n",
      "MoviePy - Writing audio in 187TEMP_MPY_wvf_snd.mp4\n"
     ]
    },
    {
     "name": "stderr",
     "output_type": "stream",
     "text": [
      "t:  27%|██▋       | 57/210 [00:00<00:00, 569.50it/s, now=None]     "
     ]
    },
    {
     "name": "stdout",
     "output_type": "stream",
     "text": [
      "MoviePy - Done.\n",
      "Moviepy - Writing video behavior_data/spinning/187.mp4\n",
      "\n"
     ]
    },
    {
     "name": "stderr",
     "output_type": "stream",
     "text": [
      "                                                               \r"
     ]
    },
    {
     "name": "stdout",
     "output_type": "stream",
     "text": [
      "Moviepy - Done !\n",
      "Moviepy - video ready behavior_data/spinning/187.mp4\n",
      "['168.mp4', '183.mp4', '182.mp4', '169.mp4', '180.mp4', '181.mp4', '185.mp4', '184.mp4', '179.mp4', '186.mp4', '187.mp4', '178.mp4', '175.mp4', '174.mp4', '176.mp4', '177.mp4', '163.mp4', '173.mp4', '172.mp4', '170.mp4', '158.mp4', '171.mp4']\n",
      "adding file\n"
     ]
    },
    {
     "name": "stderr",
     "output_type": "stream",
     "text": [
      "t:   0%|          | 0/210 [00:00<?, ?it/s, now=None]                "
     ]
    },
    {
     "name": "stdout",
     "output_type": "stream",
     "text": [
      "Moviepy - Building video behavior_data/spinning/188.mp4.\n",
      "MoviePy - Writing audio in 188TEMP_MPY_wvf_snd.mp4\n",
      "MoviePy - Done.\n",
      "Moviepy - Writing video behavior_data/spinning/188.mp4\n",
      "\n"
     ]
    },
    {
     "name": "stderr",
     "output_type": "stream",
     "text": [
      "                                                               \r"
     ]
    },
    {
     "name": "stdout",
     "output_type": "stream",
     "text": [
      "Moviepy - Done !\n",
      "Moviepy - video ready behavior_data/spinning/188.mp4\n",
      "['168.mp4', '183.mp4', '182.mp4', '169.mp4', '180.mp4', '181.mp4', '185.mp4', '184.mp4', '179.mp4', '186.mp4', '187.mp4', '178.mp4', '175.mp4', '174.mp4', '176.mp4', '188.mp4', '177.mp4', '163.mp4', '173.mp4', '172.mp4', '170.mp4', '158.mp4', '171.mp4']\n",
      "adding file\n"
     ]
    },
    {
     "name": "stderr",
     "output_type": "stream",
     "text": [
      "t:   0%|          | 0/210 [00:00<?, ?it/s, now=None]                "
     ]
    },
    {
     "name": "stdout",
     "output_type": "stream",
     "text": [
      "Moviepy - Building video behavior_data/spinning/189.mp4.\n",
      "MoviePy - Writing audio in 189TEMP_MPY_wvf_snd.mp4\n",
      "MoviePy - Done.\n",
      "Moviepy - Writing video behavior_data/spinning/189.mp4\n",
      "\n"
     ]
    },
    {
     "name": "stderr",
     "output_type": "stream",
     "text": [
      "                                                               \r"
     ]
    },
    {
     "name": "stdout",
     "output_type": "stream",
     "text": [
      "Moviepy - Done !\n",
      "Moviepy - video ready behavior_data/spinning/189.mp4\n",
      "['168.mp4', '183.mp4', '182.mp4', '169.mp4', '180.mp4', '181.mp4', '185.mp4', '184.mp4', '179.mp4', '186.mp4', '187.mp4', '178.mp4', '175.mp4', '174.mp4', '176.mp4', '189.mp4', '188.mp4', '177.mp4', '163.mp4', '173.mp4', '172.mp4', '170.mp4', '158.mp4', '171.mp4']\n",
      "adding file\n"
     ]
    },
    {
     "name": "stderr",
     "output_type": "stream",
     "text": [
      "t:   0%|          | 0/210 [00:00<?, ?it/s, now=None]                "
     ]
    },
    {
     "name": "stdout",
     "output_type": "stream",
     "text": [
      "Moviepy - Building video behavior_data/spinning/190.mp4.\n",
      "MoviePy - Writing audio in 190TEMP_MPY_wvf_snd.mp4\n",
      "MoviePy - Done.\n",
      "Moviepy - Writing video behavior_data/spinning/190.mp4\n",
      "\n"
     ]
    },
    {
     "name": "stderr",
     "output_type": "stream",
     "text": [
      "                                                               \r"
     ]
    },
    {
     "name": "stdout",
     "output_type": "stream",
     "text": [
      "Moviepy - Done !\n",
      "Moviepy - video ready behavior_data/spinning/190.mp4\n",
      "['168.mp4', '183.mp4', '182.mp4', '169.mp4', '180.mp4', '181.mp4', '185.mp4', '190.mp4', '184.mp4', '179.mp4', '186.mp4', '187.mp4', '178.mp4', '175.mp4', '174.mp4', '176.mp4', '189.mp4', '188.mp4', '177.mp4', '163.mp4', '173.mp4', '172.mp4', '170.mp4', '158.mp4', '171.mp4']\n",
      "adding file\n"
     ]
    },
    {
     "name": "stderr",
     "output_type": "stream",
     "text": [
      "t:   0%|          | 0/210 [00:00<?, ?it/s, now=None]                "
     ]
    },
    {
     "name": "stdout",
     "output_type": "stream",
     "text": [
      "Moviepy - Building video behavior_data/spinning/191.mp4.\n",
      "MoviePy - Writing audio in 191TEMP_MPY_wvf_snd.mp4\n",
      "MoviePy - Done.\n",
      "Moviepy - Writing video behavior_data/spinning/191.mp4\n",
      "\n"
     ]
    },
    {
     "name": "stderr",
     "output_type": "stream",
     "text": [
      "                                                               \r"
     ]
    },
    {
     "name": "stdout",
     "output_type": "stream",
     "text": [
      "Moviepy - Done !\n",
      "Moviepy - video ready behavior_data/spinning/191.mp4\n",
      "['168.mp4', '183.mp4', '182.mp4', '169.mp4', '180.mp4', '181.mp4', '185.mp4', '191.mp4', '190.mp4', '184.mp4', '179.mp4', '186.mp4', '187.mp4', '178.mp4', '175.mp4', '174.mp4', '176.mp4', '189.mp4', '188.mp4', '177.mp4', '163.mp4', '173.mp4', '172.mp4', '170.mp4', '158.mp4', '171.mp4']\n",
      "adding file\n"
     ]
    },
    {
     "name": "stderr",
     "output_type": "stream",
     "text": [
      "t:   0%|          | 0/210 [00:00<?, ?it/s, now=None]                "
     ]
    },
    {
     "name": "stdout",
     "output_type": "stream",
     "text": [
      "Moviepy - Building video behavior_data/spinning/192.mp4.\n",
      "MoviePy - Writing audio in 192TEMP_MPY_wvf_snd.mp4\n",
      "MoviePy - Done.\n",
      "Moviepy - Writing video behavior_data/spinning/192.mp4\n",
      "\n"
     ]
    },
    {
     "name": "stderr",
     "output_type": "stream",
     "text": [
      "                                                               \r"
     ]
    },
    {
     "name": "stdout",
     "output_type": "stream",
     "text": [
      "Moviepy - Done !\n",
      "Moviepy - video ready behavior_data/spinning/192.mp4\n",
      "['168.mp4', '183.mp4', '182.mp4', '169.mp4', '180.mp4', '181.mp4', '185.mp4', '191.mp4', '190.mp4', '184.mp4', '179.mp4', '192.mp4', '186.mp4', '187.mp4', '178.mp4', '175.mp4', '174.mp4', '176.mp4', '189.mp4', '188.mp4', '177.mp4', '163.mp4', '173.mp4', '172.mp4', '170.mp4', '158.mp4', '171.mp4']\n",
      "adding file\n"
     ]
    },
    {
     "name": "stderr",
     "output_type": "stream",
     "text": [
      "t:   0%|          | 0/210 [00:00<?, ?it/s, now=None]                "
     ]
    },
    {
     "name": "stdout",
     "output_type": "stream",
     "text": [
      "Moviepy - Building video behavior_data/spinning/193.mp4.\n",
      "MoviePy - Writing audio in 193TEMP_MPY_wvf_snd.mp4\n",
      "MoviePy - Done.\n",
      "Moviepy - Writing video behavior_data/spinning/193.mp4\n",
      "\n"
     ]
    },
    {
     "name": "stderr",
     "output_type": "stream",
     "text": [
      "                                                               \r"
     ]
    },
    {
     "name": "stdout",
     "output_type": "stream",
     "text": [
      "Moviepy - Done !\n",
      "Moviepy - video ready behavior_data/spinning/193.mp4\n",
      "['168.mp4', '183.mp4', '182.mp4', '169.mp4', '180.mp4', '181.mp4', '185.mp4', '191.mp4', '190.mp4', '184.mp4', '179.mp4', '192.mp4', '186.mp4', '187.mp4', '193.mp4', '178.mp4', '175.mp4', '174.mp4', '176.mp4', '189.mp4', '188.mp4', '177.mp4', '163.mp4', '173.mp4', '172.mp4', '170.mp4', '158.mp4', '171.mp4']\n",
      "adding file\n"
     ]
    },
    {
     "name": "stderr",
     "output_type": "stream",
     "text": [
      "t:   0%|          | 0/210 [00:00<?, ?it/s, now=None]                "
     ]
    },
    {
     "name": "stdout",
     "output_type": "stream",
     "text": [
      "Moviepy - Building video behavior_data/spinning/194.mp4.\n",
      "MoviePy - Writing audio in 194TEMP_MPY_wvf_snd.mp4\n",
      "MoviePy - Done.\n",
      "Moviepy - Writing video behavior_data/spinning/194.mp4\n",
      "\n"
     ]
    },
    {
     "name": "stderr",
     "output_type": "stream",
     "text": [
      "                                                               \r"
     ]
    },
    {
     "name": "stdout",
     "output_type": "stream",
     "text": [
      "Moviepy - Done !\n",
      "Moviepy - video ready behavior_data/spinning/194.mp4\n",
      "['168.mp4', '183.mp4', '182.mp4', '169.mp4', '180.mp4', '194.mp4', '181.mp4', '185.mp4', '191.mp4', '190.mp4', '184.mp4', '179.mp4', '192.mp4', '186.mp4', '187.mp4', '193.mp4', '178.mp4', '175.mp4', '174.mp4', '176.mp4', '189.mp4', '188.mp4', '177.mp4', '163.mp4', '173.mp4', '172.mp4', '170.mp4', '158.mp4', '171.mp4']\n",
      "adding file\n"
     ]
    },
    {
     "name": "stderr",
     "output_type": "stream",
     "text": [
      "t:   0%|          | 0/210 [00:00<?, ?it/s, now=None]    "
     ]
    },
    {
     "name": "stdout",
     "output_type": "stream",
     "text": [
      "Moviepy - Building video behavior_data/spinning/195.mp4.\n",
      "MoviePy - Writing audio in 195TEMP_MPY_wvf_snd.mp4\n",
      "MoviePy - Done.\n",
      "Moviepy - Writing video behavior_data/spinning/195.mp4\n",
      "\n"
     ]
    },
    {
     "name": "stderr",
     "output_type": "stream",
     "text": [
      "chunk:   0%|          | 0/133 [00:00<?, ?it/s, now=None]       "
     ]
    },
    {
     "name": "stdout",
     "output_type": "stream",
     "text": [
      "Moviepy - Done !\n",
      "Moviepy - video ready behavior_data/spinning/195.mp4\n",
      "['168.mp4', '183.mp4', '182.mp4', '169.mp4', '180.mp4', '194.mp4', '195.mp4', '181.mp4', '185.mp4', '191.mp4', '190.mp4', '184.mp4', '179.mp4', '192.mp4', '186.mp4', '187.mp4', '193.mp4', '178.mp4', '175.mp4', '174.mp4', '176.mp4', '189.mp4', '188.mp4', '177.mp4', '163.mp4', '173.mp4', '172.mp4', '170.mp4', '158.mp4', '171.mp4']\n",
      "adding file\n",
      "Moviepy - Building video behavior_data/spinning/196.mp4.\n",
      "MoviePy - Writing audio in 196TEMP_MPY_wvf_snd.mp4\n"
     ]
    },
    {
     "name": "stderr",
     "output_type": "stream",
     "text": [
      "t:  37%|███▋      | 66/180 [00:00<00:00, 642.42it/s, now=None]"
     ]
    },
    {
     "name": "stdout",
     "output_type": "stream",
     "text": [
      "MoviePy - Done.\n",
      "Moviepy - Writing video behavior_data/spinning/196.mp4\n",
      "\n"
     ]
    },
    {
     "name": "stderr",
     "output_type": "stream",
     "text": [
      "                                                               \r"
     ]
    },
    {
     "name": "stdout",
     "output_type": "stream",
     "text": [
      "Moviepy - Done !\n",
      "Moviepy - video ready behavior_data/spinning/196.mp4\n",
      "['168.mp4', '183.mp4', '182.mp4', '196.mp4', '169.mp4', '180.mp4', '194.mp4', '195.mp4', '181.mp4', '185.mp4', '191.mp4', '190.mp4', '184.mp4', '179.mp4', '192.mp4', '186.mp4', '187.mp4', '193.mp4', '178.mp4', '175.mp4', '174.mp4', '176.mp4', '189.mp4', '188.mp4', '177.mp4', '163.mp4', '173.mp4', '172.mp4', '170.mp4', '158.mp4', '171.mp4']\n",
      "adding file\n"
     ]
    },
    {
     "name": "stderr",
     "output_type": "stream",
     "text": [
      "t:   0%|          | 0/180 [00:00<?, ?it/s, now=None]    "
     ]
    },
    {
     "name": "stdout",
     "output_type": "stream",
     "text": [
      "Moviepy - Building video behavior_data/spinning/197.mp4.\n",
      "MoviePy - Writing audio in 197TEMP_MPY_wvf_snd.mp4\n",
      "MoviePy - Done.\n",
      "Moviepy - Writing video behavior_data/spinning/197.mp4\n",
      "\n"
     ]
    },
    {
     "name": "stderr",
     "output_type": "stream",
     "text": [
      "                                                               \r"
     ]
    },
    {
     "name": "stdout",
     "output_type": "stream",
     "text": [
      "Moviepy - Done !\n",
      "Moviepy - video ready behavior_data/spinning/197.mp4\n",
      "['168.mp4', '197.mp4', '183.mp4', '182.mp4', '196.mp4', '169.mp4', '180.mp4', '194.mp4', '195.mp4', '181.mp4', '185.mp4', '191.mp4', '190.mp4', '184.mp4', '179.mp4', '192.mp4', '186.mp4', '187.mp4', '193.mp4', '178.mp4', '175.mp4', '174.mp4', '176.mp4', '189.mp4', '188.mp4', '177.mp4', '163.mp4', '173.mp4', '172.mp4', '170.mp4', '158.mp4', '171.mp4']\n",
      "adding file\n"
     ]
    },
    {
     "name": "stderr",
     "output_type": "stream",
     "text": [
      "chunk:  99%|█████████▉| 132/133 [00:00<00:00, 1316.48it/s, now=None]"
     ]
    },
    {
     "name": "stdout",
     "output_type": "stream",
     "text": [
      "Moviepy - Building video behavior_data/spinning/198.mp4.\n",
      "MoviePy - Writing audio in 198TEMP_MPY_wvf_snd.mp4\n",
      "failed on 198\n",
      "['96.mp4', '82.mp4', '154.mp4', '140.mp4', '7.mp4', '55.mp4', '6.mp4', '141.mp4', '81.mp4', '95.mp4', '143.mp4', '157.mp4', '56.mp4', '5.mp4', '156.mp4', '142.mp4', '94.mp4', '80.mp4', '146.mp4', '53.mp4', '.DS_Store', '52.mp4', '153.mp4', '147.mp4', '93.mp4', '87.mp4', '50.mp4', '79.mp4', '86.mp4', '137.mp4', '36.mp4', '37.mp4', '136.mp4', '108.mp4', '134.mp4', '135.mp4', '109.mp4', '131.mp4', '119.mp4', '18.mp4', '25.mp4', '19.mp4', '118.mp4', '130.mp4', '132.mp4', '27.mp4', '26.mp4', '116.mp4', '17.mp4', '16.mp4', '117.mp4', '129.mp4', '101.mp4', '28.mp4', '100.mp4', '39.mp4', '11.mp4', '10.mp4', '38.mp4', '107.mp4', '12.mp4', '13.mp4', '106.mp4', '112.mp4', '149.mp4', '161.mp4', '60.mp4', '61.mp4', '160.mp4', '148.mp4', '162.mp4', '88.mp4', '63.mp4', '62.mp4', '89.mp4', '99.mp4', '167.mp4', '98.mp4', '166.mp4', '164.mp4', '159.mp4', '165.mp4']\n",
      "adding file\n"
     ]
    },
    {
     "name": "stderr",
     "output_type": "stream",
     "text": [
      "chunk:  99%|█████████▉| 132/133 [00:00<00:00, 1316.48it/s, now=None]\n",
      "chunk:   0%|          | 0/1 [00:00<?, ?it/s, now=None]\u001b[A"
     ]
    },
    {
     "name": "stdout",
     "output_type": "stream",
     "text": [
      "Moviepy - Building video behavior_data/control/199.mp4.\n",
      "MoviePy - Writing audio in 199TEMP_MPY_wvf_snd.mp4\n",
      "failed on 199\n",
      "staring the 29th file\n",
      "http://www.youtube.com/watch?v=-rC-ab0nzxY\n",
      "This is url:  http://www.youtube.com/watch?v=-rC-ab0nzxY\n",
      "annoying url: http://www.youtube.com/watch?v=-rC-ab0nzxY\n",
      "-rC-ab0nzxY is unavailable\n",
      "staring the 30th file\n",
      "http://www.youtube.com/watch?v=yiEo7Kg1ngY\n",
      "This is url:  http://www.youtube.com/watch?v=yiEo7Kg1ngY\n"
     ]
    },
    {
     "name": "stderr",
     "output_type": "stream",
     "text": [
      "\n",
      "                                                                    \n",
      "chunk:  99%|█████████▉| 132/133 [00:02<00:00, 1316.48it/s, now=None]\n",
      "                                                                    \n",
      "chunk:  99%|█████████▉| 132/133 [00:02<00:00, 1316.48it/s, now=None]\n",
      "\n",
      "chunk:   0%|          | 0/155 [00:00<?, ?it/s, now=None]\u001b[A\u001b[A\n",
      "\n",
      "                                                        \u001b[A\u001b[A\n",
      "                                                                    \n",
      "chunk:  99%|█████████▉| 132/133 [00:02<00:00, 1316.48it/s, now=None]\n",
      "                                                                    \n",
      "chunk:  99%|█████████▉| 132/133 [00:02<00:00, 1316.48it/s, now=None]"
     ]
    },
    {
     "name": "stdout",
     "output_type": "stream",
     "text": [
      "['168.mp4', '197.mp4', '183.mp4', '182.mp4', '196.mp4', '169.mp4', '180.mp4', '194.mp4', '195.mp4', '181.mp4', '185.mp4', '191.mp4', '190.mp4', '184.mp4', '179.mp4', '192.mp4', '186.mp4', '187.mp4', '193.mp4', '178.mp4', '175.mp4', '174.mp4', '176.mp4', '189.mp4', '188.mp4', '177.mp4', '163.mp4', '173.mp4', '172.mp4', '170.mp4', '158.mp4', '171.mp4']\n",
      "adding file\n",
      "Moviepy - Building video behavior_data/spinning/200.mp4.\n",
      "MoviePy - Writing audio in 200TEMP_MPY_wvf_snd.mp4\n",
      "MoviePy - Done.\n",
      "Moviepy - Writing video behavior_data/spinning/200.mp4\n",
      "\n"
     ]
    },
    {
     "name": "stderr",
     "output_type": "stream",
     "text": [
      "\n",
      "\n",
      "t:   0%|          | 0/105 [00:00<?, ?it/s, now=None]\u001b[A\u001b[A\n",
      "\n",
      "t:  88%|████████▊ | 92/105 [00:00<00:00, 916.81it/s, now=None]\u001b[A\u001b[A\n",
      "\n",
      "                                                              \u001b[A\u001b[A\n",
      "                                                                    \n",
      "chunk:  99%|█████████▉| 132/133 [00:02<00:00, 1316.48it/s, now=None]\n",
      "                                                                    \n",
      "chunk:  99%|█████████▉| 132/133 [00:02<00:00, 1316.48it/s, now=None]\n",
      "                                                                    \n",
      "chunk:  99%|█████████▉| 132/133 [00:02<00:00, 1316.48it/s, now=None]\n",
      "                                                                    \n",
      "chunk:  99%|█████████▉| 132/133 [00:02<00:00, 1316.48it/s, now=None]\n",
      "\n",
      "chunk:   0%|          | 0/155 [00:00<?, ?it/s, now=None]\u001b[A\u001b[A"
     ]
    },
    {
     "name": "stdout",
     "output_type": "stream",
     "text": [
      "Moviepy - Done !\n",
      "Moviepy - video ready behavior_data/spinning/200.mp4\n",
      "['168.mp4', '197.mp4', '183.mp4', '182.mp4', '196.mp4', '169.mp4', '180.mp4', '194.mp4', '195.mp4', '181.mp4', '185.mp4', '191.mp4', '190.mp4', '184.mp4', '179.mp4', '192.mp4', '186.mp4', '187.mp4', '193.mp4', '178.mp4', '175.mp4', '174.mp4', '200.mp4', '176.mp4', '189.mp4', '188.mp4', '177.mp4', '163.mp4', '173.mp4', '172.mp4', '170.mp4', '158.mp4', '171.mp4']\n",
      "adding file\n",
      "Moviepy - Building video behavior_data/spinning/201.mp4.\n",
      "MoviePy - Writing audio in 201TEMP_MPY_wvf_snd.mp4\n"
     ]
    },
    {
     "name": "stderr",
     "output_type": "stream",
     "text": [
      "\n",
      "\n",
      "                                                        \u001b[A\u001b[A\n",
      "                                                                    \n",
      "chunk:  99%|█████████▉| 132/133 [00:02<00:00, 1316.48it/s, now=None]\n",
      "                                                                    \n",
      "chunk:  99%|█████████▉| 132/133 [00:02<00:00, 1316.48it/s, now=None]\n",
      "\n",
      "t:   0%|          | 0/105 [00:00<?, ?it/s, now=None]\u001b[A\u001b[A\n",
      "\n",
      "t:  89%|████████▊ | 93/105 [00:00<00:00, 893.50it/s, now=None]\u001b[A\u001b[A\n",
      "\n",
      "                                                              \u001b[A\u001b[A"
     ]
    },
    {
     "name": "stdout",
     "output_type": "stream",
     "text": [
      "MoviePy - Done.\n",
      "Moviepy - Writing video behavior_data/spinning/201.mp4\n",
      "\n"
     ]
    },
    {
     "name": "stderr",
     "output_type": "stream",
     "text": [
      "\n",
      "                                                                    \n",
      "chunk:  99%|█████████▉| 132/133 [00:03<00:00, 1316.48it/s, now=None]\n",
      "                                                                    \n",
      "chunk:  99%|█████████▉| 132/133 [00:03<00:00, 1316.48it/s, now=None]\n",
      "                                                                    \n",
      "chunk:  99%|█████████▉| 132/133 [00:03<00:00, 1316.48it/s, now=None]\n",
      "                                                                    \n",
      "chunk:  99%|█████████▉| 132/133 [00:03<00:00, 1316.48it/s, now=None]\n",
      "\n",
      "chunk:   0%|          | 0/155 [00:00<?, ?it/s, now=None]\u001b[A\u001b[A"
     ]
    },
    {
     "name": "stdout",
     "output_type": "stream",
     "text": [
      "Moviepy - Done !\n",
      "Moviepy - video ready behavior_data/spinning/201.mp4\n",
      "['168.mp4', '197.mp4', '183.mp4', '182.mp4', '196.mp4', '169.mp4', '180.mp4', '194.mp4', '195.mp4', '181.mp4', '185.mp4', '191.mp4', '190.mp4', '184.mp4', '179.mp4', '192.mp4', '186.mp4', '187.mp4', '193.mp4', '178.mp4', '175.mp4', '174.mp4', '200.mp4', '176.mp4', '189.mp4', '188.mp4', '177.mp4', '163.mp4', '201.mp4', '173.mp4', '172.mp4', '170.mp4', '158.mp4', '171.mp4']\n",
      "adding file\n",
      "Moviepy - Building video behavior_data/spinning/202.mp4.\n",
      "MoviePy - Writing audio in 202TEMP_MPY_wvf_snd.mp4\n"
     ]
    },
    {
     "name": "stderr",
     "output_type": "stream",
     "text": [
      "\n",
      "\n",
      "                                                        \u001b[A\u001b[A\n",
      "                                                                    \n",
      "chunk:  99%|█████████▉| 132/133 [00:03<00:00, 1316.48it/s, now=None]\n",
      "                                                                    \n",
      "chunk:  99%|█████████▉| 132/133 [00:03<00:00, 1316.48it/s, now=None]\n",
      "\n",
      "t:   0%|          | 0/105 [00:00<?, ?it/s, now=None]\u001b[A\u001b[A\n",
      "\n",
      "t:  92%|█████████▏| 97/105 [00:00<00:00, 965.37it/s, now=None]\u001b[A\u001b[A\n",
      "\n",
      "                                                              \u001b[A\u001b[A"
     ]
    },
    {
     "name": "stdout",
     "output_type": "stream",
     "text": [
      "MoviePy - Done.\n",
      "Moviepy - Writing video behavior_data/spinning/202.mp4\n",
      "\n"
     ]
    },
    {
     "name": "stderr",
     "output_type": "stream",
     "text": [
      "\n",
      "                                                                    \n",
      "chunk:  99%|█████████▉| 132/133 [00:03<00:00, 1316.48it/s, now=None]\n",
      "                                                                    \n",
      "chunk:  99%|█████████▉| 132/133 [00:03<00:00, 1316.48it/s, now=None]\n",
      "                                                                    \n",
      "chunk:  99%|█████████▉| 132/133 [00:03<00:00, 1316.48it/s, now=None]\n",
      "                                                                    \n",
      "chunk:  99%|█████████▉| 132/133 [00:03<00:00, 1316.48it/s, now=None]\n",
      "\n",
      "chunk:   0%|          | 0/155 [00:00<?, ?it/s, now=None]\u001b[A\u001b[A"
     ]
    },
    {
     "name": "stdout",
     "output_type": "stream",
     "text": [
      "Moviepy - Done !\n",
      "Moviepy - video ready behavior_data/spinning/202.mp4\n",
      "['168.mp4', '197.mp4', '183.mp4', '182.mp4', '196.mp4', '169.mp4', '180.mp4', '194.mp4', '195.mp4', '181.mp4', '185.mp4', '191.mp4', '190.mp4', '184.mp4', '179.mp4', '192.mp4', '186.mp4', '187.mp4', '193.mp4', '178.mp4', '175.mp4', '174.mp4', '202.mp4', '200.mp4', '176.mp4', '189.mp4', '188.mp4', '177.mp4', '163.mp4', '201.mp4', '173.mp4', '172.mp4', '170.mp4', '158.mp4', '171.mp4']\n",
      "adding file\n",
      "Moviepy - Building video behavior_data/spinning/203.mp4.\n",
      "MoviePy - Writing audio in 203TEMP_MPY_wvf_snd.mp4\n"
     ]
    },
    {
     "name": "stderr",
     "output_type": "stream",
     "text": [
      "\n",
      "\n",
      "                                                        \u001b[A\u001b[A\n",
      "                                                                    \n",
      "chunk:  99%|█████████▉| 132/133 [00:03<00:00, 1316.48it/s, now=None]\n",
      "                                                                    \n",
      "chunk:  99%|█████████▉| 132/133 [00:03<00:00, 1316.48it/s, now=None]\n",
      "\n",
      "t:   0%|          | 0/105 [00:00<?, ?it/s, now=None]\u001b[A\u001b[A\n",
      "\n",
      "t:  91%|█████████▏| 96/105 [00:00<00:00, 954.43it/s, now=None]\u001b[A\u001b[A\n",
      "\n",
      "                                                              \u001b[A\u001b[A"
     ]
    },
    {
     "name": "stdout",
     "output_type": "stream",
     "text": [
      "MoviePy - Done.\n",
      "Moviepy - Writing video behavior_data/spinning/203.mp4\n",
      "\n"
     ]
    },
    {
     "name": "stderr",
     "output_type": "stream",
     "text": [
      "\n",
      "                                                                    \n",
      "chunk:  99%|█████████▉| 132/133 [00:04<00:00, 1316.48it/s, now=None]\n",
      "                                                                    \n",
      "chunk:  99%|█████████▉| 132/133 [00:04<00:00, 1316.48it/s, now=None]\n",
      "                                                                    \n",
      "chunk:  99%|█████████▉| 132/133 [00:04<00:00, 1316.48it/s, now=None]\n",
      "                                                                    \n",
      "chunk:  99%|█████████▉| 132/133 [00:04<00:00, 1316.48it/s, now=None]\n",
      "\n",
      "chunk:   0%|          | 0/155 [00:00<?, ?it/s, now=None]\u001b[A\u001b[A"
     ]
    },
    {
     "name": "stdout",
     "output_type": "stream",
     "text": [
      "Moviepy - Done !\n",
      "Moviepy - video ready behavior_data/spinning/203.mp4\n",
      "['168.mp4', '197.mp4', '183.mp4', '182.mp4', '196.mp4', '169.mp4', '180.mp4', '194.mp4', '195.mp4', '181.mp4', '185.mp4', '191.mp4', '190.mp4', '184.mp4', '179.mp4', '192.mp4', '186.mp4', '187.mp4', '193.mp4', '178.mp4', '203.mp4', '175.mp4', '174.mp4', '202.mp4', '200.mp4', '176.mp4', '189.mp4', '188.mp4', '177.mp4', '163.mp4', '201.mp4', '173.mp4', '172.mp4', '170.mp4', '158.mp4', '171.mp4']\n",
      "adding file\n",
      "Moviepy - Building video behavior_data/spinning/204.mp4.\n",
      "MoviePy - Writing audio in 204TEMP_MPY_wvf_snd.mp4\n"
     ]
    },
    {
     "name": "stderr",
     "output_type": "stream",
     "text": [
      "\n",
      "\n",
      "                                                        \u001b[A\u001b[A\n",
      "                                                                    \n",
      "chunk:  99%|█████████▉| 132/133 [00:04<00:00, 1316.48it/s, now=None]\n",
      "                                                                    \n",
      "chunk:  99%|█████████▉| 132/133 [00:04<00:00, 1316.48it/s, now=None]\n",
      "\n",
      "t:   0%|          | 0/105 [00:00<?, ?it/s, now=None]\u001b[A\u001b[A\n",
      "\n",
      "t:  90%|█████████ | 95/105 [00:00<00:00, 939.36it/s, now=None]\u001b[A\u001b[A\n",
      "\n",
      "                                                              \u001b[A\u001b[A"
     ]
    },
    {
     "name": "stdout",
     "output_type": "stream",
     "text": [
      "MoviePy - Done.\n",
      "Moviepy - Writing video behavior_data/spinning/204.mp4\n",
      "\n"
     ]
    },
    {
     "name": "stderr",
     "output_type": "stream",
     "text": [
      "\n",
      "                                                                    \n",
      "chunk:  99%|█████████▉| 132/133 [00:04<00:00, 1316.48it/s, now=None]\n",
      "                                                                    \n",
      "chunk:  99%|█████████▉| 132/133 [00:04<00:00, 1316.48it/s, now=None]\n",
      "                                                                    \n",
      "chunk:  99%|█████████▉| 132/133 [00:04<00:00, 1316.48it/s, now=None]\n",
      "                                                                    \n",
      "chunk:  99%|█████████▉| 132/133 [00:04<00:00, 1316.48it/s, now=None]"
     ]
    },
    {
     "name": "stdout",
     "output_type": "stream",
     "text": [
      "Moviepy - Done !\n",
      "Moviepy - video ready behavior_data/spinning/204.mp4\n",
      "['168.mp4', '197.mp4', '183.mp4', '182.mp4', '196.mp4', '169.mp4', '180.mp4', '194.mp4', '195.mp4', '181.mp4', '185.mp4', '191.mp4', '190.mp4', '184.mp4', '179.mp4', '192.mp4', '186.mp4', '187.mp4', '193.mp4', '178.mp4', '203.mp4', '175.mp4', '174.mp4', '202.mp4', '200.mp4', '176.mp4', '189.mp4', '188.mp4', '177.mp4', '163.mp4', '201.mp4', '173.mp4', '172.mp4', '204.mp4', '170.mp4', '158.mp4', '171.mp4']\n",
      "adding file\n",
      "Moviepy - Building video behavior_data/spinning/205.mp4.\n",
      "MoviePy - Writing audio in 205TEMP_MPY_wvf_snd.mp4\n"
     ]
    },
    {
     "name": "stderr",
     "output_type": "stream",
     "text": [
      "\n",
      "\n",
      "chunk:   0%|          | 0/155 [00:00<?, ?it/s, now=None]\u001b[A\u001b[A\n",
      "\n",
      "                                                        \u001b[A\u001b[A\n",
      "                                                                    \n",
      "chunk:  99%|█████████▉| 132/133 [00:04<00:00, 1316.48it/s, now=None]\n",
      "                                                                    \n",
      "chunk:  99%|█████████▉| 132/133 [00:04<00:00, 1316.48it/s, now=None]\n",
      "\n",
      "                                                                    \n",
      "                                                              \u001b[A\u001b[A\u001b[A\n",
      "\n",
      "t:  87%|████████▋ | 91/105 [00:00<00:00, 905.03it/s, now=None]\u001b[A\u001b[A\n",
      "\n",
      "                                                              \u001b[A\u001b[A"
     ]
    },
    {
     "name": "stdout",
     "output_type": "stream",
     "text": [
      "MoviePy - Done.\n",
      "Moviepy - Writing video behavior_data/spinning/205.mp4\n",
      "\n"
     ]
    },
    {
     "name": "stderr",
     "output_type": "stream",
     "text": [
      "\r",
      "chunk:   0%|          | 0/155 [00:00<?, ?it/s, now=None]"
     ]
    },
    {
     "name": "stdout",
     "output_type": "stream",
     "text": [
      "Moviepy - Done !\n",
      "Moviepy - video ready behavior_data/spinning/205.mp4\n",
      "['168.mp4', '197.mp4', '183.mp4', '182.mp4', '196.mp4', '169.mp4', '180.mp4', '194.mp4', '195.mp4', '181.mp4', '185.mp4', '191.mp4', '190.mp4', '184.mp4', '179.mp4', '192.mp4', '186.mp4', '187.mp4', '193.mp4', '178.mp4', '203.mp4', '175.mp4', '174.mp4', '202.mp4', '200.mp4', '176.mp4', '189.mp4', '188.mp4', '177.mp4', '163.mp4', '201.mp4', '205.mp4', '173.mp4', '172.mp4', '204.mp4', '170.mp4', '158.mp4', '171.mp4']\n",
      "adding file\n",
      "Moviepy - Building video behavior_data/spinning/206.mp4.\n",
      "MoviePy - Writing audio in 206TEMP_MPY_wvf_snd.mp4\n"
     ]
    },
    {
     "name": "stderr",
     "output_type": "stream",
     "text": [
      "                                                              \r"
     ]
    },
    {
     "name": "stdout",
     "output_type": "stream",
     "text": [
      "MoviePy - Done.\n",
      "Moviepy - Writing video behavior_data/spinning/206.mp4\n",
      "\n",
      "Moviepy - Done !\n",
      "Moviepy - video ready behavior_data/spinning/206.mp4\n"
     ]
    },
    {
     "name": "stderr",
     "output_type": "stream",
     "text": [
      "\r",
      "chunk:   0%|          | 0/155 [00:00<?, ?it/s, now=None]"
     ]
    },
    {
     "name": "stdout",
     "output_type": "stream",
     "text": [
      "['168.mp4', '197.mp4', '183.mp4', '182.mp4', '196.mp4', '169.mp4', '180.mp4', '194.mp4', '195.mp4', '181.mp4', '185.mp4', '191.mp4', '190.mp4', '184.mp4', '179.mp4', '192.mp4', '186.mp4', '187.mp4', '193.mp4', '178.mp4', '203.mp4', '175.mp4', '174.mp4', '202.mp4', '200.mp4', '176.mp4', '189.mp4', '188.mp4', '177.mp4', '163.mp4', '201.mp4', '205.mp4', '173.mp4', '172.mp4', '204.mp4', '206.mp4', '170.mp4', '158.mp4', '171.mp4']\n",
      "adding file\n",
      "Moviepy - Building video behavior_data/spinning/207.mp4.\n",
      "MoviePy - Writing audio in 207TEMP_MPY_wvf_snd.mp4\n"
     ]
    },
    {
     "name": "stderr",
     "output_type": "stream",
     "text": [
      "                                                              \r"
     ]
    },
    {
     "name": "stdout",
     "output_type": "stream",
     "text": [
      "MoviePy - Done.\n",
      "Moviepy - Writing video behavior_data/spinning/207.mp4\n",
      "\n",
      "Moviepy - Done !\n",
      "Moviepy - video ready behavior_data/spinning/207.mp4\n"
     ]
    },
    {
     "name": "stderr",
     "output_type": "stream",
     "text": [
      "\r",
      "chunk:   0%|          | 0/155 [00:00<?, ?it/s, now=None]"
     ]
    },
    {
     "name": "stdout",
     "output_type": "stream",
     "text": [
      "['168.mp4', '197.mp4', '183.mp4', '182.mp4', '196.mp4', '169.mp4', '180.mp4', '194.mp4', '195.mp4', '181.mp4', '185.mp4', '191.mp4', '190.mp4', '184.mp4', '179.mp4', '192.mp4', '186.mp4', '187.mp4', '193.mp4', '178.mp4', '203.mp4', '175.mp4', '174.mp4', '202.mp4', '200.mp4', '176.mp4', '189.mp4', '188.mp4', '177.mp4', '163.mp4', '201.mp4', '205.mp4', '173.mp4', '172.mp4', '204.mp4', '206.mp4', '170.mp4', '158.mp4', '171.mp4', '207.mp4']\n",
      "adding file\n",
      "Moviepy - Building video behavior_data/spinning/208.mp4.\n",
      "MoviePy - Writing audio in 208TEMP_MPY_wvf_snd.mp4\n"
     ]
    },
    {
     "name": "stderr",
     "output_type": "stream",
     "text": [
      "                                                              \r"
     ]
    },
    {
     "name": "stdout",
     "output_type": "stream",
     "text": [
      "MoviePy - Done.\n",
      "Moviepy - Writing video behavior_data/spinning/208.mp4\n",
      "\n"
     ]
    },
    {
     "name": "stderr",
     "output_type": "stream",
     "text": [
      "\r",
      "chunk:   0%|          | 0/155 [00:00<?, ?it/s, now=None]"
     ]
    },
    {
     "name": "stdout",
     "output_type": "stream",
     "text": [
      "Moviepy - Done !\n",
      "Moviepy - video ready behavior_data/spinning/208.mp4\n",
      "['168.mp4', '197.mp4', '183.mp4', '182.mp4', '196.mp4', '169.mp4', '180.mp4', '194.mp4', '195.mp4', '181.mp4', '208.mp4', '185.mp4', '191.mp4', '190.mp4', '184.mp4', '179.mp4', '192.mp4', '186.mp4', '187.mp4', '193.mp4', '178.mp4', '203.mp4', '175.mp4', '174.mp4', '202.mp4', '200.mp4', '176.mp4', '189.mp4', '188.mp4', '177.mp4', '163.mp4', '201.mp4', '205.mp4', '173.mp4', '172.mp4', '204.mp4', '206.mp4', '170.mp4', '158.mp4', '171.mp4', '207.mp4']\n",
      "adding file\n",
      "Moviepy - Building video behavior_data/spinning/209.mp4.\n",
      "MoviePy - Writing audio in 209TEMP_MPY_wvf_snd.mp4\n"
     ]
    },
    {
     "name": "stderr",
     "output_type": "stream",
     "text": [
      "                                                              \r"
     ]
    },
    {
     "name": "stdout",
     "output_type": "stream",
     "text": [
      "MoviePy - Done.\n",
      "Moviepy - Writing video behavior_data/spinning/209.mp4\n",
      "\n",
      "Moviepy - Done !\n",
      "Moviepy - video ready behavior_data/spinning/209.mp4\n"
     ]
    },
    {
     "name": "stderr",
     "output_type": "stream",
     "text": [
      "\r",
      "chunk:   0%|          | 0/155 [00:00<?, ?it/s, now=None]"
     ]
    },
    {
     "name": "stdout",
     "output_type": "stream",
     "text": [
      "['168.mp4', '197.mp4', '183.mp4', '182.mp4', '196.mp4', '169.mp4', '209.mp4', '180.mp4', '194.mp4', '195.mp4', '181.mp4', '208.mp4', '185.mp4', '191.mp4', '190.mp4', '184.mp4', '179.mp4', '192.mp4', '186.mp4', '187.mp4', '193.mp4', '178.mp4', '203.mp4', '175.mp4', '174.mp4', '202.mp4', '200.mp4', '176.mp4', '189.mp4', '188.mp4', '177.mp4', '163.mp4', '201.mp4', '205.mp4', '173.mp4', '172.mp4', '204.mp4', '206.mp4', '170.mp4', '158.mp4', '171.mp4', '207.mp4']\n",
      "adding file\n",
      "Moviepy - Building video behavior_data/spinning/210.mp4.\n",
      "MoviePy - Writing audio in 210TEMP_MPY_wvf_snd.mp4\n"
     ]
    },
    {
     "name": "stderr",
     "output_type": "stream",
     "text": [
      "                                                                \r"
     ]
    },
    {
     "name": "stdout",
     "output_type": "stream",
     "text": [
      "MoviePy - Done.\n",
      "Moviepy - Writing video behavior_data/spinning/210.mp4\n",
      "\n",
      "Moviepy - Done !\n",
      "Moviepy - video ready behavior_data/spinning/210.mp4\n"
     ]
    },
    {
     "name": "stderr",
     "output_type": "stream",
     "text": [
      "\r",
      "chunk:   0%|          | 0/155 [00:00<?, ?it/s, now=None]"
     ]
    },
    {
     "name": "stdout",
     "output_type": "stream",
     "text": [
      "['168.mp4', '197.mp4', '183.mp4', '182.mp4', '196.mp4', '169.mp4', '209.mp4', '180.mp4', '194.mp4', '195.mp4', '181.mp4', '208.mp4', '185.mp4', '191.mp4', '190.mp4', '184.mp4', '179.mp4', '192.mp4', '186.mp4', '187.mp4', '193.mp4', '178.mp4', '203.mp4', '175.mp4', '174.mp4', '202.mp4', '200.mp4', '176.mp4', '189.mp4', '188.mp4', '177.mp4', '163.mp4', '201.mp4', '205.mp4', '173.mp4', '172.mp4', '204.mp4', '210.mp4', '206.mp4', '170.mp4', '158.mp4', '171.mp4', '207.mp4']\n",
      "adding file\n",
      "Moviepy - Building video behavior_data/spinning/211.mp4.\n",
      "MoviePy - Writing audio in 211TEMP_MPY_wvf_snd.mp4\n"
     ]
    },
    {
     "name": "stderr",
     "output_type": "stream",
     "text": [
      "                                                              \r"
     ]
    },
    {
     "name": "stdout",
     "output_type": "stream",
     "text": [
      "MoviePy - Done.\n",
      "Moviepy - Writing video behavior_data/spinning/211.mp4\n",
      "\n",
      "Moviepy - Done !\n",
      "Moviepy - video ready behavior_data/spinning/211.mp4\n"
     ]
    },
    {
     "name": "stderr",
     "output_type": "stream",
     "text": [
      "\r",
      "chunk:   0%|          | 0/155 [00:00<?, ?it/s, now=None]"
     ]
    },
    {
     "name": "stdout",
     "output_type": "stream",
     "text": [
      "['168.mp4', '197.mp4', '183.mp4', '182.mp4', '196.mp4', '169.mp4', '209.mp4', '180.mp4', '194.mp4', '195.mp4', '181.mp4', '208.mp4', '185.mp4', '191.mp4', '190.mp4', '184.mp4', '179.mp4', '192.mp4', '186.mp4', '187.mp4', '193.mp4', '178.mp4', '203.mp4', '175.mp4', '174.mp4', '202.mp4', '200.mp4', '176.mp4', '189.mp4', '188.mp4', '177.mp4', '163.mp4', '201.mp4', '211.mp4', '205.mp4', '173.mp4', '172.mp4', '204.mp4', '210.mp4', '206.mp4', '170.mp4', '158.mp4', '171.mp4', '207.mp4']\n",
      "adding file\n",
      "Moviepy - Building video behavior_data/spinning/212.mp4.\n",
      "MoviePy - Writing audio in 212TEMP_MPY_wvf_snd.mp4\n"
     ]
    },
    {
     "name": "stderr",
     "output_type": "stream",
     "text": [
      "                                                               \r"
     ]
    },
    {
     "name": "stdout",
     "output_type": "stream",
     "text": [
      "MoviePy - Done.\n",
      "Moviepy - Writing video behavior_data/spinning/212.mp4\n",
      "\n",
      "Moviepy - Done !\n",
      "Moviepy - video ready behavior_data/spinning/212.mp4\n"
     ]
    },
    {
     "name": "stderr",
     "output_type": "stream",
     "text": [
      "\r",
      "chunk:   0%|          | 0/155 [00:00<?, ?it/s, now=None]"
     ]
    },
    {
     "name": "stdout",
     "output_type": "stream",
     "text": [
      "['168.mp4', '197.mp4', '183.mp4', '182.mp4', '196.mp4', '169.mp4', '209.mp4', '180.mp4', '194.mp4', '195.mp4', '181.mp4', '208.mp4', '185.mp4', '191.mp4', '190.mp4', '184.mp4', '179.mp4', '192.mp4', '186.mp4', '187.mp4', '193.mp4', '178.mp4', '203.mp4', '175.mp4', '174.mp4', '202.mp4', '200.mp4', '176.mp4', '189.mp4', '188.mp4', '177.mp4', '163.mp4', '201.mp4', '211.mp4', '205.mp4', '173.mp4', '172.mp4', '204.mp4', '210.mp4', '206.mp4', '212.mp4', '170.mp4', '158.mp4', '171.mp4', '207.mp4']\n",
      "adding file\n",
      "Moviepy - Building video behavior_data/spinning/213.mp4.\n",
      "MoviePy - Writing audio in 213TEMP_MPY_wvf_snd.mp4\n"
     ]
    },
    {
     "name": "stderr",
     "output_type": "stream",
     "text": [
      "                                                              \r"
     ]
    },
    {
     "name": "stdout",
     "output_type": "stream",
     "text": [
      "MoviePy - Done.\n",
      "Moviepy - Writing video behavior_data/spinning/213.mp4\n",
      "\n"
     ]
    },
    {
     "name": "stderr",
     "output_type": "stream",
     "text": [
      "\r",
      "chunk:   0%|          | 0/155 [00:00<?, ?it/s, now=None]"
     ]
    },
    {
     "name": "stdout",
     "output_type": "stream",
     "text": [
      "Moviepy - Done !\n",
      "Moviepy - video ready behavior_data/spinning/213.mp4\n",
      "['168.mp4', '197.mp4', '183.mp4', '182.mp4', '196.mp4', '169.mp4', '209.mp4', '180.mp4', '194.mp4', '195.mp4', '181.mp4', '208.mp4', '185.mp4', '191.mp4', '190.mp4', '184.mp4', '179.mp4', '192.mp4', '186.mp4', '187.mp4', '193.mp4', '178.mp4', '203.mp4', '175.mp4', '174.mp4', '202.mp4', '200.mp4', '176.mp4', '189.mp4', '188.mp4', '177.mp4', '163.mp4', '201.mp4', '211.mp4', '205.mp4', '173.mp4', '172.mp4', '204.mp4', '210.mp4', '206.mp4', '212.mp4', '170.mp4', '158.mp4', '171.mp4', '213.mp4', '207.mp4']\n",
      "adding file\n",
      "Moviepy - Building video behavior_data/spinning/214.mp4.\n",
      "MoviePy - Writing audio in 214TEMP_MPY_wvf_snd.mp4\n"
     ]
    },
    {
     "name": "stderr",
     "output_type": "stream",
     "text": [
      "                                                              \r"
     ]
    },
    {
     "name": "stdout",
     "output_type": "stream",
     "text": [
      "MoviePy - Done.\n",
      "Moviepy - Writing video behavior_data/spinning/214.mp4\n",
      "\n",
      "Moviepy - Done !\n",
      "Moviepy - video ready behavior_data/spinning/214.mp4\n"
     ]
    },
    {
     "name": "stderr",
     "output_type": "stream",
     "text": [
      "\r",
      "chunk:   0%|          | 0/133 [00:00<?, ?it/s, now=None]"
     ]
    },
    {
     "name": "stdout",
     "output_type": "stream",
     "text": [
      "['168.mp4', '197.mp4', '183.mp4', '182.mp4', '196.mp4', '169.mp4', '209.mp4', '180.mp4', '194.mp4', '195.mp4', '181.mp4', '208.mp4', '185.mp4', '191.mp4', '190.mp4', '184.mp4', '179.mp4', '192.mp4', '186.mp4', '187.mp4', '193.mp4', '178.mp4', '203.mp4', '175.mp4', '174.mp4', '202.mp4', '214.mp4', '200.mp4', '176.mp4', '189.mp4', '188.mp4', '177.mp4', '163.mp4', '201.mp4', '211.mp4', '205.mp4', '173.mp4', '172.mp4', '204.mp4', '210.mp4', '206.mp4', '212.mp4', '170.mp4', '158.mp4', '171.mp4', '213.mp4', '207.mp4']\n",
      "adding file\n",
      "Moviepy - Building video behavior_data/spinning/215.mp4.\n",
      "MoviePy - Writing audio in 215TEMP_MPY_wvf_snd.mp4\n"
     ]
    },
    {
     "name": "stderr",
     "output_type": "stream",
     "text": [
      "                                                        \r"
     ]
    },
    {
     "name": "stdout",
     "output_type": "stream",
     "text": [
      "MoviePy - Done.\n",
      "Moviepy - Writing video behavior_data/spinning/215.mp4\n",
      "\n",
      "Moviepy - Done !\n",
      "Moviepy - video ready behavior_data/spinning/215.mp4\n",
      "['168.mp4', '197.mp4', '183.mp4', '182.mp4', '196.mp4', '169.mp4', '209.mp4', '180.mp4', '194.mp4', '195.mp4', '181.mp4', '208.mp4', '185.mp4', '191.mp4', '190.mp4', '184.mp4', '179.mp4', '192.mp4', '186.mp4', '187.mp4', '193.mp4', '178.mp4', '203.mp4', '175.mp4', '174.mp4', '202.mp4', '214.mp4', '200.mp4', '176.mp4', '189.mp4', '188.mp4', '177.mp4', '163.mp4', '201.mp4', '215.mp4', '211.mp4', '205.mp4', '173.mp4', '172.mp4', '204.mp4', '210.mp4', '206.mp4', '212.mp4', '170.mp4', '158.mp4', '171.mp4', '213.mp4', '207.mp4']\n",
      "adding file\n"
     ]
    },
    {
     "name": "stderr",
     "output_type": "stream",
     "text": [
      "                                                        "
     ]
    },
    {
     "name": "stdout",
     "output_type": "stream",
     "text": [
      "Moviepy - Building video behavior_data/spinning/216.mp4.\n",
      "MoviePy - Writing audio in 216TEMP_MPY_wvf_snd.mp4\n",
      "MoviePy - Done.\n",
      "Moviepy - Writing video behavior_data/spinning/216.mp4\n",
      "\n"
     ]
    },
    {
     "name": "stderr",
     "output_type": "stream",
     "text": [
      "chunk:   0%|          | 0/133 [00:00<?, ?it/s, now=None]"
     ]
    },
    {
     "name": "stdout",
     "output_type": "stream",
     "text": [
      "Moviepy - Done !\n",
      "Moviepy - video ready behavior_data/spinning/216.mp4\n",
      "['168.mp4', '197.mp4', '183.mp4', '182.mp4', '196.mp4', '169.mp4', '209.mp4', '180.mp4', '194.mp4', '195.mp4', '181.mp4', '208.mp4', '185.mp4', '191.mp4', '190.mp4', '184.mp4', '179.mp4', '192.mp4', '186.mp4', '187.mp4', '193.mp4', '178.mp4', '203.mp4', '175.mp4', '174.mp4', '216.mp4', '202.mp4', '214.mp4', '200.mp4', '176.mp4', '189.mp4', '188.mp4', '177.mp4', '163.mp4', '201.mp4', '215.mp4', '211.mp4', '205.mp4', '173.mp4', '172.mp4', '204.mp4', '210.mp4', '206.mp4', '212.mp4', '170.mp4', '158.mp4', '171.mp4', '213.mp4', '207.mp4']\n",
      "adding file\n",
      "Moviepy - Building video behavior_data/spinning/217.mp4.\n",
      "MoviePy - Writing audio in 217TEMP_MPY_wvf_snd.mp4\n"
     ]
    },
    {
     "name": "stderr",
     "output_type": "stream",
     "text": [
      "                                                        \r"
     ]
    },
    {
     "name": "stdout",
     "output_type": "stream",
     "text": [
      "MoviePy - Done.\n",
      "Moviepy - Writing video behavior_data/spinning/217.mp4\n",
      "\n",
      "Moviepy - Done !\n",
      "Moviepy - video ready behavior_data/spinning/217.mp4\n"
     ]
    },
    {
     "name": "stderr",
     "output_type": "stream",
     "text": [
      "t:   0%|          | 0/90 [00:00<?, ?it/s, now=None]     "
     ]
    },
    {
     "name": "stdout",
     "output_type": "stream",
     "text": [
      "['168.mp4', '197.mp4', '183.mp4', '182.mp4', '196.mp4', '169.mp4', '209.mp4', '180.mp4', '194.mp4', '195.mp4', '181.mp4', '208.mp4', '185.mp4', '191.mp4', '190.mp4', '184.mp4', '179.mp4', '192.mp4', '186.mp4', '187.mp4', '193.mp4', '178.mp4', '203.mp4', '217.mp4', '175.mp4', '174.mp4', '216.mp4', '202.mp4', '214.mp4', '200.mp4', '176.mp4', '189.mp4', '188.mp4', '177.mp4', '163.mp4', '201.mp4', '215.mp4', '211.mp4', '205.mp4', '173.mp4', '172.mp4', '204.mp4', '210.mp4', '206.mp4', '212.mp4', '170.mp4', '158.mp4', '171.mp4', '213.mp4', '207.mp4']\n",
      "adding file\n",
      "Moviepy - Building video behavior_data/spinning/218.mp4.\n",
      "MoviePy - Writing audio in 218TEMP_MPY_wvf_snd.mp4\n",
      "MoviePy - Done.\n",
      "Moviepy - Writing video behavior_data/spinning/218.mp4\n",
      "\n"
     ]
    },
    {
     "name": "stderr",
     "output_type": "stream",
     "text": [
      "chunk:   0%|          | 0/133 [00:00<?, ?it/s, now=None]"
     ]
    },
    {
     "name": "stdout",
     "output_type": "stream",
     "text": [
      "Moviepy - Done !\n",
      "Moviepy - video ready behavior_data/spinning/218.mp4\n",
      "['168.mp4', '197.mp4', '183.mp4', '182.mp4', '196.mp4', '169.mp4', '209.mp4', '180.mp4', '194.mp4', '195.mp4', '181.mp4', '208.mp4', '218.mp4', '185.mp4', '191.mp4', '190.mp4', '184.mp4', '179.mp4', '192.mp4', '186.mp4', '187.mp4', '193.mp4', '178.mp4', '203.mp4', '217.mp4', '175.mp4', '174.mp4', '216.mp4', '202.mp4', '214.mp4', '200.mp4', '176.mp4', '189.mp4', '188.mp4', '177.mp4', '163.mp4', '201.mp4', '215.mp4', '211.mp4', '205.mp4', '173.mp4', '172.mp4', '204.mp4', '210.mp4', '206.mp4', '212.mp4', '170.mp4', '158.mp4', '171.mp4', '213.mp4', '207.mp4']\n",
      "adding file\n",
      "Moviepy - Building video behavior_data/spinning/219.mp4.\n",
      "MoviePy - Writing audio in 219TEMP_MPY_wvf_snd.mp4\n"
     ]
    },
    {
     "name": "stderr",
     "output_type": "stream",
     "text": [
      "                                                        \r"
     ]
    },
    {
     "name": "stdout",
     "output_type": "stream",
     "text": [
      "MoviePy - Done.\n",
      "Moviepy - Writing video behavior_data/spinning/219.mp4\n",
      "\n",
      "Moviepy - Done !\n",
      "Moviepy - video ready behavior_data/spinning/219.mp4\n"
     ]
    },
    {
     "name": "stderr",
     "output_type": "stream",
     "text": [
      "\r",
      "chunk:   0%|          | 0/1 [00:00<?, ?it/s, now=None]"
     ]
    },
    {
     "name": "stdout",
     "output_type": "stream",
     "text": [
      "['96.mp4', '82.mp4', '154.mp4', '140.mp4', '7.mp4', '55.mp4', '6.mp4', '141.mp4', '81.mp4', '95.mp4', '143.mp4', '157.mp4', '56.mp4', '5.mp4', '156.mp4', '142.mp4', '94.mp4', '80.mp4', '146.mp4', '53.mp4', '.DS_Store', '52.mp4', '153.mp4', '147.mp4', '93.mp4', '87.mp4', '50.mp4', '79.mp4', '86.mp4', '137.mp4', '36.mp4', '37.mp4', '136.mp4', '108.mp4', '134.mp4', '135.mp4', '109.mp4', '131.mp4', '119.mp4', '18.mp4', '25.mp4', '19.mp4', '118.mp4', '130.mp4', '132.mp4', '27.mp4', '26.mp4', '116.mp4', '17.mp4', '16.mp4', '117.mp4', '129.mp4', '101.mp4', '28.mp4', '100.mp4', '39.mp4', '11.mp4', '10.mp4', '38.mp4', '107.mp4', '12.mp4', '13.mp4', '106.mp4', '112.mp4', '149.mp4', '161.mp4', '60.mp4', '61.mp4', '160.mp4', '148.mp4', '162.mp4', '88.mp4', '63.mp4', '62.mp4', '89.mp4', '99.mp4', '167.mp4', '98.mp4', '166.mp4', '164.mp4', '159.mp4', '165.mp4']\n",
      "adding file\n",
      "Moviepy - Building video behavior_data/control/220.mp4.\n",
      "MoviePy - Writing audio in 220TEMP_MPY_wvf_snd.mp4\n",
      "failed on 220\n",
      "['96.mp4', '82.mp4', '154.mp4', '140.mp4', '7.mp4', '55.mp4', '6.mp4', '141.mp4', '81.mp4', '95.mp4', '143.mp4', '157.mp4', '56.mp4', '5.mp4', '156.mp4', '142.mp4', '94.mp4', '80.mp4', '146.mp4', '53.mp4', '.DS_Store', '52.mp4', '153.mp4', '147.mp4', '93.mp4', '87.mp4', '50.mp4', '79.mp4', '86.mp4', '137.mp4', '36.mp4', '37.mp4', '136.mp4', '108.mp4', '134.mp4', '135.mp4', '109.mp4', '131.mp4', '119.mp4', '18.mp4', '25.mp4', '19.mp4', '118.mp4', '130.mp4', '132.mp4', '27.mp4', '26.mp4', '116.mp4', '17.mp4', '16.mp4', '117.mp4', '129.mp4', '101.mp4', '28.mp4', '100.mp4', '39.mp4', '11.mp4', '10.mp4', '38.mp4', '107.mp4', '12.mp4', '13.mp4', '106.mp4', '112.mp4', '149.mp4', '161.mp4', '60.mp4', '61.mp4', '160.mp4', '148.mp4', '162.mp4', '88.mp4', '63.mp4', '62.mp4', '89.mp4', '99.mp4', '167.mp4', '98.mp4', '166.mp4', '164.mp4', '159.mp4', '165.mp4']\n",
      "adding file\n"
     ]
    },
    {
     "name": "stderr",
     "output_type": "stream",
     "text": [
      "chunk: 100%|██████████| 1/1 [00:00<00:00,  5.83it/s, now=None]\n",
      "chunk:   0%|          | 0/23 [00:00<?, ?it/s, now=None]\u001b[A\n",
      "chunk: 100%|██████████| 1/1 [00:00<00:00,  4.49it/s, now=None]\n",
      "t:   0%|          | 0/15 [00:00<?, ?it/s, now=None]\u001b[A\n",
      "chunk: 100%|██████████| 1/1 [00:00<00:00,  3.57it/s, now=None]"
     ]
    },
    {
     "name": "stdout",
     "output_type": "stream",
     "text": [
      "Moviepy - Building video behavior_data/control/221.mp4.\n",
      "MoviePy - Writing audio in 221TEMP_MPY_wvf_snd.mp4\n",
      "MoviePy - Done.\n",
      "Moviepy - Writing video behavior_data/control/221.mp4\n",
      "\n",
      "Moviepy - Done !\n",
      "Moviepy - video ready behavior_data/control/221.mp4\n",
      "staring the 31th file\n",
      "http://www.youtube.com/watch?v=8R1MfXoI3mo\n",
      "This is url:  http://www.youtube.com/watch?v=8R1MfXoI3mo\n"
     ]
    },
    {
     "name": "stderr",
     "output_type": "stream",
     "text": [
      "chunk: 100%|██████████| 1/1 [00:02<00:00,  2.38s/it, now=None]\n",
      "chunk:   0%|          | 0/111 [00:00<?, ?it/s, now=None]\u001b[A"
     ]
    },
    {
     "name": "stdout",
     "output_type": "stream",
     "text": [
      "['168.mp4', '197.mp4', '183.mp4', '182.mp4', '196.mp4', '169.mp4', '209.mp4', '180.mp4', '194.mp4', '195.mp4', '181.mp4', '208.mp4', '218.mp4', '185.mp4', '191.mp4', '190.mp4', '184.mp4', '219.mp4', '179.mp4', '192.mp4', '186.mp4', '187.mp4', '193.mp4', '178.mp4', '203.mp4', '217.mp4', '175.mp4', '174.mp4', '216.mp4', '202.mp4', '214.mp4', '200.mp4', '176.mp4', '189.mp4', '188.mp4', '177.mp4', '163.mp4', '201.mp4', '215.mp4', '211.mp4', '205.mp4', '173.mp4', '172.mp4', '204.mp4', '210.mp4', '206.mp4', '212.mp4', '170.mp4', '158.mp4', '171.mp4', '213.mp4', '207.mp4']\n",
      "adding file\n",
      "Moviepy - Building video behavior_data/spinning/222.mp4.\n",
      "MoviePy - Writing audio in 222TEMP_MPY_wvf_snd.mp4\n"
     ]
    },
    {
     "name": "stderr",
     "output_type": "stream",
     "text": [
      "\n",
      "chunk: 100%|██████████| 1/1 [00:02<00:00,  2.46s/it, now=None]\n",
      "t:   0%|          | 0/125 [00:00<?, ?it/s, now=None]\u001b[A\n",
      "t:  53%|█████▎    | 66/125 [00:00<00:00, 657.59it/s, now=None]\u001b[A"
     ]
    },
    {
     "name": "stdout",
     "output_type": "stream",
     "text": [
      "MoviePy - Done.\n",
      "Moviepy - Writing video behavior_data/spinning/222.mp4\n",
      "\n"
     ]
    },
    {
     "name": "stderr",
     "output_type": "stream",
     "text": [
      "\n",
      "chunk: 100%|██████████| 1/1 [00:02<00:00,  2.98s/it, now=None]\u001b[A\n"
     ]
    },
    {
     "name": "stdout",
     "output_type": "stream",
     "text": [
      "Moviepy - Done !\n",
      "Moviepy - video ready behavior_data/spinning/222.mp4\n",
      "['222.mp4', '168.mp4', '197.mp4', '183.mp4', '182.mp4', '196.mp4', '169.mp4', '209.mp4', '180.mp4', '194.mp4', '195.mp4', '181.mp4', '208.mp4', '218.mp4', '185.mp4', '191.mp4', '190.mp4', '184.mp4', '219.mp4', '179.mp4', '192.mp4', '186.mp4', '187.mp4', '193.mp4', '178.mp4', '203.mp4', '217.mp4', '175.mp4', '174.mp4', '216.mp4', '202.mp4', '214.mp4', '200.mp4', '176.mp4', '189.mp4', '188.mp4', '177.mp4', '163.mp4', '201.mp4', '215.mp4', '211.mp4', '205.mp4', '173.mp4', '172.mp4', '204.mp4', '210.mp4', '206.mp4', '212.mp4', '170.mp4', '158.mp4', '171.mp4', '213.mp4', '207.mp4']\n",
      "adding file\n",
      "Moviepy - Building video behavior_data/spinning/223.mp4.\n",
      "MoviePy - Writing audio in 223TEMP_MPY_wvf_snd.mp4\n"
     ]
    },
    {
     "name": "stderr",
     "output_type": "stream",
     "text": [
      "chunk:   0%|          | 0/155 [00:00<?, ?it/s, now=None]\u001b[A\n",
      "chunk: 100%|██████████| 1/1 [00:03<00:00,  3.09s/it, now=None]\n",
      "t:   0%|          | 0/175 [00:00<?, ?it/s, now=None]\u001b[A\n",
      "t:  38%|███▊      | 66/175 [00:00<00:00, 655.95it/s, now=None]\u001b[A"
     ]
    },
    {
     "name": "stdout",
     "output_type": "stream",
     "text": [
      "MoviePy - Done.\n",
      "Moviepy - Writing video behavior_data/spinning/223.mp4\n",
      "\n"
     ]
    },
    {
     "name": "stderr",
     "output_type": "stream",
     "text": [
      "\n",
      "t:  75%|███████▌  | 132/175 [00:00<00:00, 592.24it/s, now=None]\u001b[A\n",
      "chunk: 100%|██████████| 1/1 [00:03<00:00,  3.68s/it, now=None] \u001b[A\n",
      "chunk:   0%|          | 0/155 [00:00<?, ?it/s, now=None]\u001b[A"
     ]
    },
    {
     "name": "stdout",
     "output_type": "stream",
     "text": [
      "Moviepy - Done !\n",
      "Moviepy - video ready behavior_data/spinning/223.mp4\n",
      "['222.mp4', '168.mp4', '197.mp4', '183.mp4', '182.mp4', '196.mp4', '169.mp4', '223.mp4', '209.mp4', '180.mp4', '194.mp4', '195.mp4', '181.mp4', '208.mp4', '218.mp4', '185.mp4', '191.mp4', '190.mp4', '184.mp4', '219.mp4', '179.mp4', '192.mp4', '186.mp4', '187.mp4', '193.mp4', '178.mp4', '203.mp4', '217.mp4', '175.mp4', '174.mp4', '216.mp4', '202.mp4', '214.mp4', '200.mp4', '176.mp4', '189.mp4', '188.mp4', '177.mp4', '163.mp4', '201.mp4', '215.mp4', '211.mp4', '205.mp4', '173.mp4', '172.mp4', '204.mp4', '210.mp4', '206.mp4', '212.mp4', '170.mp4', '158.mp4', '171.mp4', '213.mp4', '207.mp4']\n",
      "adding file\n",
      "Moviepy - Building video behavior_data/spinning/224.mp4.\n",
      "MoviePy - Writing audio in 224TEMP_MPY_wvf_snd.mp4\n"
     ]
    },
    {
     "name": "stderr",
     "output_type": "stream",
     "text": [
      "\n",
      "chunk: 100%|██████████| 1/1 [00:03<00:00,  3.78s/it, now=None]\n",
      "t:   0%|          | 0/175 [00:00<?, ?it/s, now=None]\u001b[A\n",
      "t:  37%|███▋      | 65/175 [00:00<00:00, 649.40it/s, now=None]\u001b[A"
     ]
    },
    {
     "name": "stdout",
     "output_type": "stream",
     "text": [
      "MoviePy - Done.\n",
      "Moviepy - Writing video behavior_data/spinning/224.mp4\n",
      "\n"
     ]
    },
    {
     "name": "stderr",
     "output_type": "stream",
     "text": [
      "\n",
      "t:  74%|███████▍  | 130/175 [00:00<00:00, 616.09it/s, now=None]\u001b[A\n",
      "chunk: 100%|██████████| 1/1 [00:04<00:00,  4.36s/it, now=None] \u001b[A\n",
      "chunk:   0%|          | 0/155 [00:00<?, ?it/s, now=None]\u001b[A"
     ]
    },
    {
     "name": "stdout",
     "output_type": "stream",
     "text": [
      "Moviepy - Done !\n",
      "Moviepy - video ready behavior_data/spinning/224.mp4\n",
      "['222.mp4', '168.mp4', '197.mp4', '183.mp4', '182.mp4', '196.mp4', '169.mp4', '223.mp4', '209.mp4', '180.mp4', '194.mp4', '195.mp4', '181.mp4', '208.mp4', '224.mp4', '218.mp4', '185.mp4', '191.mp4', '190.mp4', '184.mp4', '219.mp4', '179.mp4', '192.mp4', '186.mp4', '187.mp4', '193.mp4', '178.mp4', '203.mp4', '217.mp4', '175.mp4', '174.mp4', '216.mp4', '202.mp4', '214.mp4', '200.mp4', '176.mp4', '189.mp4', '188.mp4', '177.mp4', '163.mp4', '201.mp4', '215.mp4', '211.mp4', '205.mp4', '173.mp4', '172.mp4', '204.mp4', '210.mp4', '206.mp4', '212.mp4', '170.mp4', '158.mp4', '171.mp4', '213.mp4', '207.mp4']\n",
      "adding file\n",
      "Moviepy - Building video behavior_data/spinning/225.mp4.\n",
      "MoviePy - Writing audio in 225TEMP_MPY_wvf_snd.mp4\n"
     ]
    },
    {
     "name": "stderr",
     "output_type": "stream",
     "text": [
      "\n",
      "chunk: 100%|██████████| 1/1 [00:04<00:00,  4.47s/it, now=None]\n",
      "t:   0%|          | 0/175 [00:00<?, ?it/s, now=None]\u001b[A\n",
      "t:  38%|███▊      | 66/175 [00:00<00:00, 649.01it/s, now=None]\u001b[A"
     ]
    },
    {
     "name": "stdout",
     "output_type": "stream",
     "text": [
      "MoviePy - Done.\n",
      "Moviepy - Writing video behavior_data/spinning/225.mp4\n",
      "\n"
     ]
    },
    {
     "name": "stderr",
     "output_type": "stream",
     "text": [
      "\n",
      "t:  75%|███████▍  | 131/175 [00:00<00:00, 563.79it/s, now=None]\u001b[A\n",
      "chunk: 100%|██████████| 1/1 [00:05<00:00,  5.09s/it, now=None] \u001b[A\n",
      "chunk:   0%|          | 0/133 [00:00<?, ?it/s, now=None]\u001b[A"
     ]
    },
    {
     "name": "stdout",
     "output_type": "stream",
     "text": [
      "Moviepy - Done !\n",
      "Moviepy - video ready behavior_data/spinning/225.mp4\n",
      "['222.mp4', '168.mp4', '197.mp4', '183.mp4', '182.mp4', '196.mp4', '169.mp4', '223.mp4', '209.mp4', '180.mp4', '194.mp4', '195.mp4', '181.mp4', '208.mp4', '224.mp4', '218.mp4', '185.mp4', '191.mp4', '190.mp4', '184.mp4', '219.mp4', '225.mp4', '179.mp4', '192.mp4', '186.mp4', '187.mp4', '193.mp4', '178.mp4', '203.mp4', '217.mp4', '175.mp4', '174.mp4', '216.mp4', '202.mp4', '214.mp4', '200.mp4', '176.mp4', '189.mp4', '188.mp4', '177.mp4', '163.mp4', '201.mp4', '215.mp4', '211.mp4', '205.mp4', '173.mp4', '172.mp4', '204.mp4', '210.mp4', '206.mp4', '212.mp4', '170.mp4', '158.mp4', '171.mp4', '213.mp4', '207.mp4']\n",
      "adding file\n",
      "Moviepy - Building video behavior_data/spinning/226.mp4.\n",
      "MoviePy - Writing audio in 226TEMP_MPY_wvf_snd.mp4\n"
     ]
    },
    {
     "name": "stderr",
     "output_type": "stream",
     "text": [
      "\n",
      "chunk: 100%|██████████| 1/1 [00:05<00:00,  5.20s/it, now=None]\n",
      "t:   0%|          | 0/150 [00:00<?, ?it/s, now=None]\u001b[A\n",
      "t:  43%|████▎     | 65/150 [00:00<00:00, 647.30it/s, now=None]\u001b[A"
     ]
    },
    {
     "name": "stdout",
     "output_type": "stream",
     "text": [
      "MoviePy - Done.\n",
      "Moviepy - Writing video behavior_data/spinning/226.mp4\n",
      "\n"
     ]
    },
    {
     "name": "stderr",
     "output_type": "stream",
     "text": [
      "\n",
      "t:  87%|████████▋ | 130/150 [00:00<00:00, 578.46it/s, now=None]\u001b[A\n",
      "chunk: 100%|██████████| 1/1 [00:05<00:00,  5.77s/it, now=None] \u001b[A\n"
     ]
    },
    {
     "name": "stdout",
     "output_type": "stream",
     "text": [
      "Moviepy - Done !\n",
      "Moviepy - video ready behavior_data/spinning/226.mp4\n",
      "['222.mp4', '168.mp4', '197.mp4', '183.mp4', '182.mp4', '196.mp4', '169.mp4', '223.mp4', '209.mp4', '180.mp4', '194.mp4', '195.mp4', '181.mp4', '208.mp4', '224.mp4', '218.mp4', '185.mp4', '191.mp4', '190.mp4', '184.mp4', '219.mp4', '225.mp4', '179.mp4', '192.mp4', '186.mp4', '187.mp4', '193.mp4', '178.mp4', '226.mp4', '203.mp4', '217.mp4', '175.mp4', '174.mp4', '216.mp4', '202.mp4', '214.mp4', '200.mp4', '176.mp4', '189.mp4', '188.mp4', '177.mp4', '163.mp4', '201.mp4', '215.mp4', '211.mp4', '205.mp4', '173.mp4', '172.mp4', '204.mp4', '210.mp4', '206.mp4', '212.mp4', '170.mp4', '158.mp4', '171.mp4', '213.mp4', '207.mp4']\n",
      "adding file\n",
      "Moviepy - Building video behavior_data/spinning/227.mp4.\n",
      "MoviePy - Writing audio in 227TEMP_MPY_wvf_snd.mp4\n"
     ]
    },
    {
     "name": "stderr",
     "output_type": "stream",
     "text": [
      "chunk:   0%|          | 0/133 [00:00<?, ?it/s, now=None]\u001b[A\n",
      "chunk: 100%|██████████| 1/1 [00:05<00:00,  5.89s/it, now=None]\n",
      "t:   0%|          | 0/150 [00:00<?, ?it/s, now=None]\u001b[A\n",
      "t:  43%|████▎     | 64/150 [00:00<00:00, 631.92it/s, now=None]\u001b[A"
     ]
    },
    {
     "name": "stdout",
     "output_type": "stream",
     "text": [
      "MoviePy - Done.\n",
      "Moviepy - Writing video behavior_data/spinning/227.mp4\n",
      "\n"
     ]
    },
    {
     "name": "stderr",
     "output_type": "stream",
     "text": [
      "\n",
      "t:  85%|████████▌ | 128/150 [00:00<00:00, 554.10it/s, now=None]\u001b[A\n",
      "chunk: 100%|██████████| 1/1 [00:06<00:00,  6.45s/it, now=None] \u001b[A\n",
      "                                                              \r"
     ]
    },
    {
     "name": "stdout",
     "output_type": "stream",
     "text": [
      "Moviepy - Done !\n",
      "Moviepy - video ready behavior_data/spinning/227.mp4\n",
      "['222.mp4', '168.mp4', '197.mp4', '183.mp4', '182.mp4', '196.mp4', '169.mp4', '223.mp4', '209.mp4', '180.mp4', '194.mp4', '195.mp4', '181.mp4', '208.mp4', '224.mp4', '218.mp4', '185.mp4', '191.mp4', '190.mp4', '184.mp4', '219.mp4', '225.mp4', '227.mp4', '179.mp4', '192.mp4', '186.mp4', '187.mp4', '193.mp4', '178.mp4', '226.mp4', '203.mp4', '217.mp4', '175.mp4', '174.mp4', '216.mp4', '202.mp4', '214.mp4', '200.mp4', '176.mp4', '189.mp4', '188.mp4', '177.mp4', '163.mp4', '201.mp4', '215.mp4', '211.mp4', '205.mp4', '173.mp4', '172.mp4', '204.mp4', '210.mp4', '206.mp4', '212.mp4', '170.mp4', '158.mp4', '171.mp4', '213.mp4', '207.mp4']\n",
      "adding file\n",
      "Moviepy - Building video behavior_data/spinning/228.mp4.\n",
      "MoviePy - Writing audio in 228TEMP_MPY_wvf_snd.mp4\n"
     ]
    },
    {
     "name": "stderr",
     "output_type": "stream",
     "text": [
      "\n",
      "t:  41%|████▏     | 62/150 [00:00<00:00, 617.42it/s, now=None]"
     ]
    },
    {
     "name": "stdout",
     "output_type": "stream",
     "text": [
      "MoviePy - Done.\n",
      "Moviepy - Writing video behavior_data/spinning/228.mp4\n",
      "\n"
     ]
    },
    {
     "name": "stderr",
     "output_type": "stream",
     "text": [
      "chunk:   0%|          | 0/133 [00:00<?, ?it/s, now=None]       "
     ]
    },
    {
     "name": "stdout",
     "output_type": "stream",
     "text": [
      "Moviepy - Done !\n",
      "Moviepy - video ready behavior_data/spinning/228.mp4\n",
      "['222.mp4', '168.mp4', '197.mp4', '183.mp4', '182.mp4', '196.mp4', '169.mp4', '223.mp4', '209.mp4', '180.mp4', '194.mp4', '195.mp4', '181.mp4', '208.mp4', '224.mp4', '218.mp4', '185.mp4', '191.mp4', '190.mp4', '184.mp4', '219.mp4', '225.mp4', '227.mp4', '179.mp4', '192.mp4', '186.mp4', '187.mp4', '193.mp4', '178.mp4', '226.mp4', '203.mp4', '217.mp4', '175.mp4', '174.mp4', '216.mp4', '202.mp4', '228.mp4', '214.mp4', '200.mp4', '176.mp4', '189.mp4', '188.mp4', '177.mp4', '163.mp4', '201.mp4', '215.mp4', '211.mp4', '205.mp4', '173.mp4', '172.mp4', '204.mp4', '210.mp4', '206.mp4', '212.mp4', '170.mp4', '158.mp4', '171.mp4', '213.mp4', '207.mp4']\n",
      "adding file\n",
      "Moviepy - Building video behavior_data/spinning/229.mp4.\n",
      "MoviePy - Writing audio in 229TEMP_MPY_wvf_snd.mp4\n"
     ]
    },
    {
     "name": "stderr",
     "output_type": "stream",
     "text": [
      "t:  41%|████▏     | 62/150 [00:00<00:00, 617.25it/s, now=None]"
     ]
    },
    {
     "name": "stdout",
     "output_type": "stream",
     "text": [
      "MoviePy - Done.\n",
      "Moviepy - Writing video behavior_data/spinning/229.mp4\n",
      "\n"
     ]
    },
    {
     "name": "stderr",
     "output_type": "stream",
     "text": [
      "chunk:   0%|          | 0/133 [00:00<?, ?it/s, now=None]       "
     ]
    },
    {
     "name": "stdout",
     "output_type": "stream",
     "text": [
      "Moviepy - Done !\n",
      "Moviepy - video ready behavior_data/spinning/229.mp4\n",
      "['222.mp4', '168.mp4', '197.mp4', '183.mp4', '182.mp4', '196.mp4', '169.mp4', '223.mp4', '209.mp4', '180.mp4', '194.mp4', '195.mp4', '181.mp4', '208.mp4', '224.mp4', '218.mp4', '185.mp4', '191.mp4', '190.mp4', '184.mp4', '219.mp4', '225.mp4', '227.mp4', '179.mp4', '192.mp4', '186.mp4', '187.mp4', '193.mp4', '178.mp4', '226.mp4', '203.mp4', '217.mp4', '175.mp4', '174.mp4', '216.mp4', '202.mp4', '228.mp4', '214.mp4', '200.mp4', '176.mp4', '189.mp4', '188.mp4', '177.mp4', '163.mp4', '201.mp4', '215.mp4', '229.mp4', '211.mp4', '205.mp4', '173.mp4', '172.mp4', '204.mp4', '210.mp4', '206.mp4', '212.mp4', '170.mp4', '158.mp4', '171.mp4', '213.mp4', '207.mp4']\n",
      "adding file\n",
      "Moviepy - Building video behavior_data/spinning/230.mp4.\n",
      "MoviePy - Writing audio in 230TEMP_MPY_wvf_snd.mp4\n"
     ]
    },
    {
     "name": "stderr",
     "output_type": "stream",
     "text": [
      "t:  42%|████▏     | 63/150 [00:00<00:00, 629.46it/s, now=None]"
     ]
    },
    {
     "name": "stdout",
     "output_type": "stream",
     "text": [
      "MoviePy - Done.\n",
      "Moviepy - Writing video behavior_data/spinning/230.mp4\n",
      "\n"
     ]
    },
    {
     "name": "stderr",
     "output_type": "stream",
     "text": [
      "chunk:   0%|          | 0/133 [00:00<?, ?it/s, now=None]       "
     ]
    },
    {
     "name": "stdout",
     "output_type": "stream",
     "text": [
      "Moviepy - Done !\n",
      "Moviepy - video ready behavior_data/spinning/230.mp4\n",
      "['222.mp4', '168.mp4', '197.mp4', '183.mp4', '182.mp4', '196.mp4', '169.mp4', '223.mp4', '209.mp4', '180.mp4', '194.mp4', '195.mp4', '181.mp4', '208.mp4', '230.mp4', '224.mp4', '218.mp4', '185.mp4', '191.mp4', '190.mp4', '184.mp4', '219.mp4', '225.mp4', '227.mp4', '179.mp4', '192.mp4', '186.mp4', '187.mp4', '193.mp4', '178.mp4', '226.mp4', '203.mp4', '217.mp4', '175.mp4', '174.mp4', '216.mp4', '202.mp4', '228.mp4', '214.mp4', '200.mp4', '176.mp4', '189.mp4', '188.mp4', '177.mp4', '163.mp4', '201.mp4', '215.mp4', '229.mp4', '211.mp4', '205.mp4', '173.mp4', '172.mp4', '204.mp4', '210.mp4', '206.mp4', '212.mp4', '170.mp4', '158.mp4', '171.mp4', '213.mp4', '207.mp4']\n",
      "adding file\n",
      "Moviepy - Building video behavior_data/spinning/231.mp4.\n",
      "MoviePy - Writing audio in 231TEMP_MPY_wvf_snd.mp4\n"
     ]
    },
    {
     "name": "stderr",
     "output_type": "stream",
     "text": [
      "t:  45%|████▌     | 68/150 [00:00<00:00, 678.37it/s, now=None]"
     ]
    },
    {
     "name": "stdout",
     "output_type": "stream",
     "text": [
      "MoviePy - Done.\n",
      "Moviepy - Writing video behavior_data/spinning/231.mp4\n",
      "\n"
     ]
    },
    {
     "name": "stderr",
     "output_type": "stream",
     "text": [
      "                                                               "
     ]
    },
    {
     "name": "stdout",
     "output_type": "stream",
     "text": [
      "Moviepy - Done !\n",
      "Moviepy - video ready behavior_data/spinning/231.mp4\n",
      "['96.mp4', '82.mp4', '154.mp4', '140.mp4', '7.mp4', '55.mp4', '6.mp4', '141.mp4', '221.mp4', '81.mp4', '95.mp4', '143.mp4', '157.mp4', '56.mp4', '5.mp4', '156.mp4', '142.mp4', '94.mp4', '80.mp4', '146.mp4', '53.mp4', '.DS_Store', '52.mp4', '153.mp4', '147.mp4', '93.mp4', '87.mp4', '50.mp4', '79.mp4', '86.mp4', '137.mp4', '36.mp4', '37.mp4', '136.mp4', '108.mp4', '134.mp4', '135.mp4', '109.mp4', '131.mp4', '119.mp4', '18.mp4', '25.mp4', '19.mp4', '118.mp4', '130.mp4', '132.mp4', '27.mp4', '26.mp4', '116.mp4', '17.mp4', '16.mp4', '117.mp4', '129.mp4', '101.mp4', '28.mp4', '100.mp4', '39.mp4', '11.mp4', '10.mp4', '38.mp4', '107.mp4', '12.mp4', '13.mp4', '106.mp4', '112.mp4', '149.mp4', '161.mp4', '60.mp4', '61.mp4', '160.mp4', '148.mp4', '162.mp4', '88.mp4', '63.mp4', '62.mp4', '89.mp4', '99.mp4', '167.mp4', '98.mp4', '166.mp4', '164.mp4', '159.mp4', '165.mp4']\n",
      "adding file\n",
      "Moviepy - Building video behavior_data/control/232.mp4.\n",
      "MoviePy - Writing audio in 232TEMP_MPY_wvf_snd.mp4\n",
      "MoviePy - Done.\n",
      "Moviepy - Writing video behavior_data/control/232.mp4\n",
      "\n"
     ]
    },
    {
     "name": "stderr",
     "output_type": "stream",
     "text": [
      "chunk:   0%|          | 0/133 [00:00<?, ?it/s, now=None]"
     ]
    },
    {
     "name": "stdout",
     "output_type": "stream",
     "text": [
      "Moviepy - Done !\n",
      "Moviepy - video ready behavior_data/control/232.mp4\n",
      "['96.mp4', '82.mp4', '154.mp4', '140.mp4', '7.mp4', '55.mp4', '6.mp4', '141.mp4', '221.mp4', '81.mp4', '95.mp4', '143.mp4', '157.mp4', '56.mp4', '5.mp4', '156.mp4', '142.mp4', '94.mp4', '80.mp4', '146.mp4', '53.mp4', '.DS_Store', '52.mp4', '153.mp4', '147.mp4', '93.mp4', '87.mp4', '50.mp4', '79.mp4', '86.mp4', '232.mp4', '137.mp4', '36.mp4', '37.mp4', '136.mp4', '108.mp4', '134.mp4', '135.mp4', '109.mp4', '131.mp4', '119.mp4', '18.mp4', '25.mp4', '19.mp4', '118.mp4', '130.mp4', '132.mp4', '27.mp4', '26.mp4', '116.mp4', '17.mp4', '16.mp4', '117.mp4', '129.mp4', '101.mp4', '28.mp4', '100.mp4', '39.mp4', '11.mp4', '10.mp4', '38.mp4', '107.mp4', '12.mp4', '13.mp4', '106.mp4', '112.mp4', '149.mp4', '161.mp4', '60.mp4', '61.mp4', '160.mp4', '148.mp4', '162.mp4', '88.mp4', '63.mp4', '62.mp4', '89.mp4', '99.mp4', '167.mp4', '98.mp4', '166.mp4', '164.mp4', '159.mp4', '165.mp4']\n",
      "adding file\n",
      "Moviepy - Building video behavior_data/control/233.mp4.\n",
      "MoviePy - Writing audio in 233TEMP_MPY_wvf_snd.mp4\n"
     ]
    },
    {
     "name": "stderr",
     "output_type": "stream",
     "text": [
      "t:  45%|████▍     | 67/150 [00:00<00:00, 665.87it/s, now=None]"
     ]
    },
    {
     "name": "stdout",
     "output_type": "stream",
     "text": [
      "MoviePy - Done.\n",
      "Moviepy - Writing video behavior_data/control/233.mp4\n",
      "\n"
     ]
    },
    {
     "name": "stderr",
     "output_type": "stream",
     "text": [
      "                                                               \r"
     ]
    },
    {
     "name": "stdout",
     "output_type": "stream",
     "text": [
      "Moviepy - Done !\n",
      "Moviepy - video ready behavior_data/control/233.mp4\n",
      "staring the 32th file\n",
      "http://www.youtube.com/watch?v=5MS6VZwZDi0\n",
      "This is url:  http://www.youtube.com/watch?v=5MS6VZwZDi0\n"
     ]
    },
    {
     "name": "stderr",
     "output_type": "stream",
     "text": [
      "t:   0%|          | 0/70 [00:00<?, ?it/s, now=None]     "
     ]
    },
    {
     "name": "stdout",
     "output_type": "stream",
     "text": [
      "['222.mp4', '168.mp4', '197.mp4', '183.mp4', '182.mp4', '196.mp4', '169.mp4', '223.mp4', '209.mp4', '180.mp4', '194.mp4', '195.mp4', '181.mp4', '208.mp4', '230.mp4', '224.mp4', '218.mp4', '185.mp4', '191.mp4', '190.mp4', '184.mp4', '219.mp4', '225.mp4', '231.mp4', '227.mp4', '179.mp4', '192.mp4', '186.mp4', '187.mp4', '193.mp4', '178.mp4', '226.mp4', '203.mp4', '217.mp4', '175.mp4', '174.mp4', '216.mp4', '202.mp4', '228.mp4', '214.mp4', '200.mp4', '176.mp4', '189.mp4', '188.mp4', '177.mp4', '163.mp4', '201.mp4', '215.mp4', '229.mp4', '211.mp4', '205.mp4', '173.mp4', '172.mp4', '204.mp4', '210.mp4', '206.mp4', '212.mp4', '170.mp4', '158.mp4', '171.mp4', '213.mp4', '207.mp4']\n",
      "adding file\n",
      "Moviepy - Building video behavior_data/spinning/234.mp4.\n",
      "MoviePy - Writing audio in 234TEMP_MPY_wvf_snd.mp4\n",
      "MoviePy - Done.\n",
      "Moviepy - Writing video behavior_data/spinning/234.mp4\n",
      "\n"
     ]
    },
    {
     "name": "stderr",
     "output_type": "stream",
     "text": [
      "chunk:   0%|          | 0/155 [00:00<?, ?it/s, now=None]"
     ]
    },
    {
     "name": "stdout",
     "output_type": "stream",
     "text": [
      "Moviepy - Done !\n",
      "Moviepy - video ready behavior_data/spinning/234.mp4\n",
      "['222.mp4', '168.mp4', '197.mp4', '183.mp4', '182.mp4', '196.mp4', '169.mp4', '223.mp4', '209.mp4', '180.mp4', '194.mp4', '195.mp4', '181.mp4', '234.mp4', '208.mp4', '230.mp4', '224.mp4', '218.mp4', '185.mp4', '191.mp4', '190.mp4', '184.mp4', '219.mp4', '225.mp4', '231.mp4', '227.mp4', '179.mp4', '192.mp4', '186.mp4', '187.mp4', '193.mp4', '178.mp4', '226.mp4', '203.mp4', '217.mp4', '175.mp4', '174.mp4', '216.mp4', '202.mp4', '228.mp4', '214.mp4', '200.mp4', '176.mp4', '189.mp4', '188.mp4', '177.mp4', '163.mp4', '201.mp4', '215.mp4', '229.mp4', '211.mp4', '205.mp4', '173.mp4', '172.mp4', '204.mp4', '210.mp4', '206.mp4', '212.mp4', '170.mp4', '158.mp4', '171.mp4', '213.mp4', '207.mp4']\n",
      "adding file\n",
      "Moviepy - Building video behavior_data/spinning/235.mp4.\n",
      "MoviePy - Writing audio in 235TEMP_MPY_wvf_snd.mp4\n"
     ]
    },
    {
     "name": "stderr",
     "output_type": "stream",
     "text": [
      "                                                        \r"
     ]
    },
    {
     "name": "stdout",
     "output_type": "stream",
     "text": [
      "MoviePy - Done.\n",
      "Moviepy - Writing video behavior_data/spinning/235.mp4\n",
      "\n",
      "Moviepy - Done !\n",
      "Moviepy - video ready behavior_data/spinning/235.mp4\n",
      "['222.mp4', '168.mp4', '197.mp4', '183.mp4', '182.mp4', '196.mp4', '169.mp4', '223.mp4', '209.mp4', '235.mp4', '180.mp4', '194.mp4', '195.mp4', '181.mp4', '234.mp4', '208.mp4', '230.mp4', '224.mp4', '218.mp4', '185.mp4', '191.mp4', '190.mp4', '184.mp4', '219.mp4', '225.mp4', '231.mp4', '227.mp4', '179.mp4', '192.mp4', '186.mp4', '187.mp4', '193.mp4', '178.mp4', '226.mp4', '203.mp4', '217.mp4', '175.mp4', '174.mp4', '216.mp4', '202.mp4', '228.mp4', '214.mp4', '200.mp4', '176.mp4', '189.mp4', '188.mp4', '177.mp4', '163.mp4', '201.mp4', '215.mp4', '229.mp4', '211.mp4', '205.mp4', '173.mp4', '172.mp4', '204.mp4', '210.mp4', '206.mp4', '212.mp4', '170.mp4', '158.mp4', '171.mp4', '213.mp4', '207.mp4']\n",
      "adding file\n"
     ]
    },
    {
     "name": "stderr",
     "output_type": "stream",
     "text": [
      "                                                        "
     ]
    },
    {
     "name": "stdout",
     "output_type": "stream",
     "text": [
      "Moviepy - Building video behavior_data/spinning/236.mp4.\n",
      "MoviePy - Writing audio in 236TEMP_MPY_wvf_snd.mp4\n",
      "MoviePy - Done.\n",
      "Moviepy - Writing video behavior_data/spinning/236.mp4\n",
      "\n"
     ]
    },
    {
     "name": "stderr",
     "output_type": "stream",
     "text": [
      "chunk:   0%|          | 0/133 [00:00<?, ?it/s, now=None]"
     ]
    },
    {
     "name": "stdout",
     "output_type": "stream",
     "text": [
      "Moviepy - Done !\n",
      "Moviepy - video ready behavior_data/spinning/236.mp4\n",
      "['222.mp4', '236.mp4', '168.mp4', '197.mp4', '183.mp4', '182.mp4', '196.mp4', '169.mp4', '223.mp4', '209.mp4', '235.mp4', '180.mp4', '194.mp4', '195.mp4', '181.mp4', '234.mp4', '208.mp4', '230.mp4', '224.mp4', '218.mp4', '185.mp4', '191.mp4', '190.mp4', '184.mp4', '219.mp4', '225.mp4', '231.mp4', '227.mp4', '179.mp4', '192.mp4', '186.mp4', '187.mp4', '193.mp4', '178.mp4', '226.mp4', '203.mp4', '217.mp4', '175.mp4', '174.mp4', '216.mp4', '202.mp4', '228.mp4', '214.mp4', '200.mp4', '176.mp4', '189.mp4', '188.mp4', '177.mp4', '163.mp4', '201.mp4', '215.mp4', '229.mp4', '211.mp4', '205.mp4', '173.mp4', '172.mp4', '204.mp4', '210.mp4', '206.mp4', '212.mp4', '170.mp4', '158.mp4', '171.mp4', '213.mp4', '207.mp4']\n",
      "adding file\n",
      "Moviepy - Building video behavior_data/spinning/237.mp4.\n",
      "MoviePy - Writing audio in 237TEMP_MPY_wvf_snd.mp4\n"
     ]
    },
    {
     "name": "stderr",
     "output_type": "stream",
     "text": [
      "                                                        \r"
     ]
    },
    {
     "name": "stdout",
     "output_type": "stream",
     "text": [
      "MoviePy - Done.\n",
      "Moviepy - Writing video behavior_data/spinning/237.mp4\n",
      "\n",
      "Moviepy - Done !\n",
      "Moviepy - video ready behavior_data/spinning/237.mp4\n",
      "['222.mp4', '236.mp4', '168.mp4', '197.mp4', '183.mp4', '182.mp4', '196.mp4', '169.mp4', '237.mp4', '223.mp4', '209.mp4', '235.mp4', '180.mp4', '194.mp4', '195.mp4', '181.mp4', '234.mp4', '208.mp4', '230.mp4', '224.mp4', '218.mp4', '185.mp4', '191.mp4', '190.mp4', '184.mp4', '219.mp4', '225.mp4', '231.mp4', '227.mp4', '179.mp4', '192.mp4', '186.mp4', '187.mp4', '193.mp4', '178.mp4', '226.mp4', '203.mp4', '217.mp4', '175.mp4', '174.mp4', '216.mp4', '202.mp4', '228.mp4', '214.mp4', '200.mp4', '176.mp4', '189.mp4', '188.mp4', '177.mp4', '163.mp4', '201.mp4', '215.mp4', '229.mp4', '211.mp4', '205.mp4', '173.mp4', '172.mp4', '204.mp4', '210.mp4', '206.mp4', '212.mp4', '170.mp4', '158.mp4', '171.mp4', '213.mp4', '207.mp4']\n",
      "adding file\n"
     ]
    },
    {
     "name": "stderr",
     "output_type": "stream",
     "text": [
      "                                                        "
     ]
    },
    {
     "name": "stdout",
     "output_type": "stream",
     "text": [
      "Moviepy - Building video behavior_data/spinning/238.mp4.\n",
      "MoviePy - Writing audio in 238TEMP_MPY_wvf_snd.mp4\n",
      "MoviePy - Done.\n",
      "Moviepy - Writing video behavior_data/spinning/238.mp4\n",
      "\n"
     ]
    },
    {
     "name": "stderr",
     "output_type": "stream",
     "text": [
      "chunk:   0%|          | 0/133 [00:00<?, ?it/s, now=None]"
     ]
    },
    {
     "name": "stdout",
     "output_type": "stream",
     "text": [
      "Moviepy - Done !\n",
      "Moviepy - video ready behavior_data/spinning/238.mp4\n",
      "['222.mp4', '236.mp4', '168.mp4', '197.mp4', '183.mp4', '182.mp4', '196.mp4', '169.mp4', '237.mp4', '223.mp4', '209.mp4', '235.mp4', '180.mp4', '194.mp4', '195.mp4', '181.mp4', '234.mp4', '208.mp4', '230.mp4', '224.mp4', '218.mp4', '185.mp4', '191.mp4', '190.mp4', '184.mp4', '219.mp4', '225.mp4', '231.mp4', '227.mp4', '179.mp4', '192.mp4', '186.mp4', '187.mp4', '193.mp4', '178.mp4', '226.mp4', '203.mp4', '217.mp4', '175.mp4', '174.mp4', '216.mp4', '202.mp4', '228.mp4', '214.mp4', '200.mp4', '176.mp4', '189.mp4', '188.mp4', '177.mp4', '163.mp4', '201.mp4', '215.mp4', '229.mp4', '211.mp4', '205.mp4', '173.mp4', '172.mp4', '238.mp4', '204.mp4', '210.mp4', '206.mp4', '212.mp4', '170.mp4', '158.mp4', '171.mp4', '213.mp4', '207.mp4']\n",
      "adding file\n",
      "Moviepy - Building video behavior_data/spinning/239.mp4.\n",
      "MoviePy - Writing audio in 239TEMP_MPY_wvf_snd.mp4\n"
     ]
    },
    {
     "name": "stderr",
     "output_type": "stream",
     "text": [
      "                                                        \r"
     ]
    },
    {
     "name": "stdout",
     "output_type": "stream",
     "text": [
      "MoviePy - Done.\n",
      "Moviepy - Writing video behavior_data/spinning/239.mp4\n",
      "\n",
      "Moviepy - Done !\n",
      "Moviepy - video ready behavior_data/spinning/239.mp4\n",
      "['222.mp4', '236.mp4', '168.mp4', '197.mp4', '183.mp4', '182.mp4', '196.mp4', '169.mp4', '237.mp4', '223.mp4', '209.mp4', '235.mp4', '180.mp4', '194.mp4', '195.mp4', '181.mp4', '234.mp4', '208.mp4', '230.mp4', '224.mp4', '218.mp4', '185.mp4', '191.mp4', '190.mp4', '184.mp4', '219.mp4', '225.mp4', '231.mp4', '227.mp4', '179.mp4', '192.mp4', '186.mp4', '187.mp4', '193.mp4', '178.mp4', '226.mp4', '203.mp4', '217.mp4', '175.mp4', '174.mp4', '216.mp4', '202.mp4', '228.mp4', '214.mp4', '200.mp4', '176.mp4', '189.mp4', '188.mp4', '177.mp4', '163.mp4', '201.mp4', '215.mp4', '229.mp4', '211.mp4', '205.mp4', '239.mp4', '173.mp4', '172.mp4', '238.mp4', '204.mp4', '210.mp4', '206.mp4', '212.mp4', '170.mp4', '158.mp4', '171.mp4', '213.mp4', '207.mp4']\n",
      "adding file\n"
     ]
    },
    {
     "name": "stderr",
     "output_type": "stream",
     "text": [
      "                                                        "
     ]
    },
    {
     "name": "stdout",
     "output_type": "stream",
     "text": [
      "Moviepy - Building video behavior_data/spinning/240.mp4.\n",
      "MoviePy - Writing audio in 240TEMP_MPY_wvf_snd.mp4\n",
      "MoviePy - Done.\n",
      "Moviepy - Writing video behavior_data/spinning/240.mp4\n",
      "\n"
     ]
    },
    {
     "name": "stderr",
     "output_type": "stream",
     "text": [
      "chunk:   0%|          | 0/133 [00:00<?, ?it/s, now=None]"
     ]
    },
    {
     "name": "stdout",
     "output_type": "stream",
     "text": [
      "Moviepy - Done !\n",
      "Moviepy - video ready behavior_data/spinning/240.mp4\n",
      "['222.mp4', '236.mp4', '168.mp4', '197.mp4', '183.mp4', '182.mp4', '196.mp4', '169.mp4', '237.mp4', '223.mp4', '209.mp4', '235.mp4', '180.mp4', '194.mp4', '195.mp4', '181.mp4', '234.mp4', '208.mp4', '230.mp4', '224.mp4', '218.mp4', '185.mp4', '191.mp4', '190.mp4', '184.mp4', '219.mp4', '225.mp4', '231.mp4', '227.mp4', '179.mp4', '192.mp4', '186.mp4', '187.mp4', '193.mp4', '178.mp4', '226.mp4', '240.mp4', '203.mp4', '217.mp4', '175.mp4', '174.mp4', '216.mp4', '202.mp4', '228.mp4', '214.mp4', '200.mp4', '176.mp4', '189.mp4', '188.mp4', '177.mp4', '163.mp4', '201.mp4', '215.mp4', '229.mp4', '211.mp4', '205.mp4', '239.mp4', '173.mp4', '172.mp4', '238.mp4', '204.mp4', '210.mp4', '206.mp4', '212.mp4', '170.mp4', '158.mp4', '171.mp4', '213.mp4', '207.mp4']\n",
      "adding file\n",
      "Moviepy - Building video behavior_data/spinning/241.mp4.\n",
      "MoviePy - Writing audio in 241TEMP_MPY_wvf_snd.mp4\n"
     ]
    },
    {
     "name": "stderr",
     "output_type": "stream",
     "text": [
      "                                                        \r"
     ]
    },
    {
     "name": "stdout",
     "output_type": "stream",
     "text": [
      "MoviePy - Done.\n",
      "Moviepy - Writing video behavior_data/spinning/241.mp4\n",
      "\n",
      "Moviepy - Done !\n",
      "Moviepy - video ready behavior_data/spinning/241.mp4\n",
      "['96.mp4', '82.mp4', '154.mp4', '140.mp4', '7.mp4', '55.mp4', '6.mp4', '141.mp4', '221.mp4', '81.mp4', '95.mp4', '143.mp4', '157.mp4', '56.mp4', '5.mp4', '156.mp4', '142.mp4', '94.mp4', '80.mp4', '146.mp4', '53.mp4', '.DS_Store', '52.mp4', '153.mp4', '147.mp4', '233.mp4', '93.mp4', '87.mp4', '50.mp4', '79.mp4', '86.mp4', '232.mp4', '137.mp4', '36.mp4', '37.mp4', '136.mp4', '108.mp4', '134.mp4', '135.mp4', '109.mp4', '131.mp4', '119.mp4', '18.mp4', '25.mp4', '19.mp4', '118.mp4', '130.mp4', '132.mp4', '27.mp4', '26.mp4', '116.mp4', '17.mp4', '16.mp4', '117.mp4', '129.mp4', '101.mp4', '28.mp4', '100.mp4', '39.mp4', '11.mp4', '10.mp4', '38.mp4', '107.mp4', '12.mp4', '13.mp4', '106.mp4', '112.mp4', '149.mp4', '161.mp4', '60.mp4', '61.mp4', '160.mp4', '148.mp4', '162.mp4', '88.mp4', '63.mp4', '62.mp4', '89.mp4', '99.mp4', '167.mp4', '98.mp4', '166.mp4', '164.mp4', '159.mp4', '165.mp4']\n",
      "adding file\n"
     ]
    },
    {
     "name": "stderr",
     "output_type": "stream",
     "text": [
      "                                                       "
     ]
    },
    {
     "name": "stdout",
     "output_type": "stream",
     "text": [
      "Moviepy - Building video behavior_data/control/242.mp4.\n",
      "MoviePy - Writing audio in 242TEMP_MPY_wvf_snd.mp4\n",
      "MoviePy - Done.\n",
      "Moviepy - Writing video behavior_data/control/242.mp4\n",
      "\n",
      "Moviepy - Done !\n",
      "Moviepy - video ready behavior_data/control/242.mp4\n",
      "['96.mp4', '82.mp4', '154.mp4', '140.mp4', '7.mp4', '55.mp4', '6.mp4', '141.mp4', '221.mp4', '81.mp4', '95.mp4', '143.mp4', '157.mp4', '56.mp4', '5.mp4', '156.mp4', '142.mp4', '94.mp4', '80.mp4', '146.mp4', '53.mp4', '.DS_Store', '52.mp4', '153.mp4', '147.mp4', '233.mp4', '93.mp4', '87.mp4', '50.mp4', '79.mp4', '86.mp4', '232.mp4', '137.mp4', '36.mp4', '37.mp4', '136.mp4', '242.mp4', '108.mp4', '134.mp4', '135.mp4', '109.mp4', '131.mp4', '119.mp4', '18.mp4', '25.mp4', '19.mp4', '118.mp4', '130.mp4', '132.mp4', '27.mp4', '26.mp4', '116.mp4', '17.mp4', '16.mp4', '117.mp4', '129.mp4', '101.mp4', '28.mp4', '100.mp4', '39.mp4', '11.mp4', '10.mp4', '38.mp4', '107.mp4', '12.mp4', '13.mp4', '106.mp4', '112.mp4', '149.mp4', '161.mp4', '60.mp4', '61.mp4', '160.mp4', '148.mp4', '162.mp4', '88.mp4', '63.mp4', '62.mp4', '89.mp4', '99.mp4', '167.mp4', '98.mp4', '166.mp4', '164.mp4', '159.mp4', '165.mp4']\n",
      "adding file\n"
     ]
    },
    {
     "name": "stderr",
     "output_type": "stream",
     "text": [
      "                                                        "
     ]
    },
    {
     "name": "stdout",
     "output_type": "stream",
     "text": [
      "Moviepy - Building video behavior_data/control/243.mp4.\n",
      "MoviePy - Writing audio in 243TEMP_MPY_wvf_snd.mp4\n",
      "MoviePy - Done.\n",
      "Moviepy - Writing video behavior_data/control/243.mp4\n",
      "\n"
     ]
    },
    {
     "name": "stderr",
     "output_type": "stream",
     "text": [
      "chunk:   0%|          | 0/133 [00:00<?, ?it/s, now=None]"
     ]
    },
    {
     "name": "stdout",
     "output_type": "stream",
     "text": [
      "Moviepy - Done !\n",
      "Moviepy - video ready behavior_data/control/243.mp4\n",
      "['96.mp4', '82.mp4', '154.mp4', '140.mp4', '7.mp4', '55.mp4', '6.mp4', '141.mp4', '221.mp4', '81.mp4', '95.mp4', '143.mp4', '157.mp4', '56.mp4', '5.mp4', '156.mp4', '142.mp4', '94.mp4', '80.mp4', '146.mp4', '53.mp4', '.DS_Store', '52.mp4', '153.mp4', '147.mp4', '233.mp4', '93.mp4', '87.mp4', '50.mp4', '79.mp4', '86.mp4', '232.mp4', '137.mp4', '36.mp4', '37.mp4', '136.mp4', '242.mp4', '108.mp4', '134.mp4', '135.mp4', '109.mp4', '243.mp4', '131.mp4', '119.mp4', '18.mp4', '25.mp4', '19.mp4', '118.mp4', '130.mp4', '132.mp4', '27.mp4', '26.mp4', '116.mp4', '17.mp4', '16.mp4', '117.mp4', '129.mp4', '101.mp4', '28.mp4', '100.mp4', '39.mp4', '11.mp4', '10.mp4', '38.mp4', '107.mp4', '12.mp4', '13.mp4', '106.mp4', '112.mp4', '149.mp4', '161.mp4', '60.mp4', '61.mp4', '160.mp4', '148.mp4', '162.mp4', '88.mp4', '63.mp4', '62.mp4', '89.mp4', '99.mp4', '167.mp4', '98.mp4', '166.mp4', '164.mp4', '159.mp4', '165.mp4']\n",
      "adding file\n",
      "Moviepy - Building video behavior_data/control/244.mp4.\n",
      "MoviePy - Writing audio in 244TEMP_MPY_wvf_snd.mp4\n"
     ]
    },
    {
     "name": "stderr",
     "output_type": "stream",
     "text": [
      "                                                        \r"
     ]
    },
    {
     "name": "stdout",
     "output_type": "stream",
     "text": [
      "MoviePy - Done.\n",
      "Moviepy - Writing video behavior_data/control/244.mp4\n",
      "\n",
      "Moviepy - Done !\n",
      "Moviepy - video ready behavior_data/control/244.mp4\n",
      "['96.mp4', '82.mp4', '154.mp4', '140.mp4', '7.mp4', '55.mp4', '6.mp4', '141.mp4', '221.mp4', '81.mp4', '95.mp4', '143.mp4', '157.mp4', '56.mp4', '5.mp4', '156.mp4', '142.mp4', '94.mp4', '80.mp4', '146.mp4', '53.mp4', '.DS_Store', '52.mp4', '153.mp4', '147.mp4', '233.mp4', '93.mp4', '87.mp4', '50.mp4', '79.mp4', '86.mp4', '232.mp4', '137.mp4', '36.mp4', '37.mp4', '136.mp4', '242.mp4', '108.mp4', '134.mp4', '135.mp4', '109.mp4', '243.mp4', '131.mp4', '119.mp4', '18.mp4', '25.mp4', '19.mp4', '118.mp4', '130.mp4', '244.mp4', '132.mp4', '27.mp4', '26.mp4', '116.mp4', '17.mp4', '16.mp4', '117.mp4', '129.mp4', '101.mp4', '28.mp4', '100.mp4', '39.mp4', '11.mp4', '10.mp4', '38.mp4', '107.mp4', '12.mp4', '13.mp4', '106.mp4', '112.mp4', '149.mp4', '161.mp4', '60.mp4', '61.mp4', '160.mp4', '148.mp4', '162.mp4', '88.mp4', '63.mp4', '62.mp4', '89.mp4', '99.mp4', '167.mp4', '98.mp4', '166.mp4', '164.mp4', '159.mp4', '165.mp4']\n",
      "adding file\n"
     ]
    },
    {
     "name": "stderr",
     "output_type": "stream",
     "text": [
      "                                                                    "
     ]
    },
    {
     "name": "stdout",
     "output_type": "stream",
     "text": [
      "Moviepy - Building video behavior_data/control/245.mp4.\n",
      "MoviePy - Writing audio in 245TEMP_MPY_wvf_snd.mp4\n",
      "MoviePy - Done.\n",
      "Moviepy - Writing video behavior_data/control/245.mp4\n",
      "\n"
     ]
    },
    {
     "name": "stderr",
     "output_type": "stream",
     "text": [
      "\r"
     ]
    },
    {
     "name": "stdout",
     "output_type": "stream",
     "text": [
      "Moviepy - Done !\n",
      "Moviepy - video ready behavior_data/control/245.mp4\n",
      "staring the 33th file\n",
      "http://www.youtube.com/watch?v=TH5mlAhdw00\n",
      "This is url:  http://www.youtube.com/watch?v=TH5mlAhdw00\n",
      "annoying url: http://www.youtube.com/watch?v=TH5mlAhdw00\n",
      "TH5mlAhdw00 is a private video\n",
      "staring the 34th file\n",
      "http://www.youtube.com/watch?v=kFuxwAufWvQ\n",
      "This is url:  http://www.youtube.com/watch?v=kFuxwAufWvQ\n",
      "['222.mp4', '236.mp4', '168.mp4', '197.mp4', '183.mp4', '182.mp4', '196.mp4', '169.mp4', '237.mp4', '223.mp4', '209.mp4', '235.mp4', '180.mp4', '194.mp4', '195.mp4', '181.mp4', '234.mp4', '208.mp4', '230.mp4', '224.mp4', '218.mp4', '185.mp4', '191.mp4', '190.mp4', '184.mp4', '219.mp4', '225.mp4', '231.mp4', '227.mp4', '179.mp4', '192.mp4', '186.mp4', '187.mp4', '193.mp4', '178.mp4', '226.mp4', '241.mp4', '240.mp4', '203.mp4', '217.mp4', '175.mp4', '174.mp4', '216.mp4', '202.mp4', '228.mp4', '214.mp4', '200.mp4', '176.mp4', '189.mp4', '188.mp4', '177.mp4', '163.mp4', '201.mp4', '215.mp4', '229.mp4', '211.mp4', '205.mp4', '239.mp4', '173.mp4', '172.mp4', '238.mp4', '204.mp4', '210.mp4', '206.mp4', '212.mp4', '170.mp4', '158.mp4', '171.mp4', '213.mp4', '207.mp4']\n",
      "adding file\n"
     ]
    },
    {
     "name": "stderr",
     "output_type": "stream",
     "text": [
      "t:  26%|██▌       | 27/105 [00:00<00:00, 263.44it/s, now=None]"
     ]
    },
    {
     "name": "stdout",
     "output_type": "stream",
     "text": [
      "Moviepy - Building video behavior_data/spinning/246.mp4.\n",
      "MoviePy - Writing audio in 246TEMP_MPY_wvf_snd.mp4\n",
      "MoviePy - Done.\n",
      "Moviepy - Writing video behavior_data/spinning/246.mp4\n",
      "\n"
     ]
    },
    {
     "name": "stderr",
     "output_type": "stream",
     "text": [
      "                                                              \r"
     ]
    },
    {
     "name": "stdout",
     "output_type": "stream",
     "text": [
      "Moviepy - Done !\n",
      "Moviepy - video ready behavior_data/spinning/246.mp4\n",
      "['222.mp4', '236.mp4', '168.mp4', '197.mp4', '183.mp4', '182.mp4', '196.mp4', '169.mp4', '237.mp4', '223.mp4', '209.mp4', '235.mp4', '180.mp4', '194.mp4', '195.mp4', '181.mp4', '234.mp4', '208.mp4', '230.mp4', '224.mp4', '218.mp4', '185.mp4', '191.mp4', '190.mp4', '184.mp4', '219.mp4', '225.mp4', '231.mp4', '227.mp4', '179.mp4', '192.mp4', '186.mp4', '187.mp4', '193.mp4', '178.mp4', '226.mp4', '241.mp4', '240.mp4', '246.mp4', '203.mp4', '217.mp4', '175.mp4', '174.mp4', '216.mp4', '202.mp4', '228.mp4', '214.mp4', '200.mp4', '176.mp4', '189.mp4', '188.mp4', '177.mp4', '163.mp4', '201.mp4', '215.mp4', '229.mp4', '211.mp4', '205.mp4', '239.mp4', '173.mp4', '172.mp4', '238.mp4', '204.mp4', '210.mp4', '206.mp4', '212.mp4', '170.mp4', '158.mp4', '171.mp4', '213.mp4', '207.mp4']\n",
      "adding file\n"
     ]
    },
    {
     "name": "stderr",
     "output_type": "stream",
     "text": [
      "t:   0%|          | 0/105 [00:00<?, ?it/s, now=None]    "
     ]
    },
    {
     "name": "stdout",
     "output_type": "stream",
     "text": [
      "Moviepy - Building video behavior_data/spinning/247.mp4.\n",
      "MoviePy - Writing audio in 247TEMP_MPY_wvf_snd.mp4\n",
      "MoviePy - Done.\n",
      "Moviepy - Writing video behavior_data/spinning/247.mp4\n",
      "\n"
     ]
    },
    {
     "name": "stderr",
     "output_type": "stream",
     "text": [
      "                                                              \r"
     ]
    },
    {
     "name": "stdout",
     "output_type": "stream",
     "text": [
      "Moviepy - Done !\n",
      "Moviepy - video ready behavior_data/spinning/247.mp4\n",
      "['222.mp4', '236.mp4', '168.mp4', '197.mp4', '183.mp4', '182.mp4', '196.mp4', '169.mp4', '237.mp4', '223.mp4', '209.mp4', '235.mp4', '180.mp4', '194.mp4', '195.mp4', '181.mp4', '234.mp4', '208.mp4', '230.mp4', '224.mp4', '218.mp4', '185.mp4', '191.mp4', '190.mp4', '184.mp4', '219.mp4', '225.mp4', '231.mp4', '227.mp4', '179.mp4', '192.mp4', '186.mp4', '187.mp4', '193.mp4', '178.mp4', '226.mp4', '241.mp4', '240.mp4', '247.mp4', '246.mp4', '203.mp4', '217.mp4', '175.mp4', '174.mp4', '216.mp4', '202.mp4', '228.mp4', '214.mp4', '200.mp4', '176.mp4', '189.mp4', '188.mp4', '177.mp4', '163.mp4', '201.mp4', '215.mp4', '229.mp4', '211.mp4', '205.mp4', '239.mp4', '173.mp4', '172.mp4', '238.mp4', '204.mp4', '210.mp4', '206.mp4', '212.mp4', '170.mp4', '158.mp4', '171.mp4', '213.mp4', '207.mp4']\n",
      "adding file\n"
     ]
    },
    {
     "name": "stderr",
     "output_type": "stream",
     "text": [
      "t:   0%|          | 0/105 [00:00<?, ?it/s, now=None]    "
     ]
    },
    {
     "name": "stdout",
     "output_type": "stream",
     "text": [
      "Moviepy - Building video behavior_data/spinning/248.mp4.\n",
      "MoviePy - Writing audio in 248TEMP_MPY_wvf_snd.mp4\n",
      "MoviePy - Done.\n",
      "Moviepy - Writing video behavior_data/spinning/248.mp4\n",
      "\n"
     ]
    },
    {
     "name": "stderr",
     "output_type": "stream",
     "text": [
      "                                                              \r"
     ]
    },
    {
     "name": "stdout",
     "output_type": "stream",
     "text": [
      "Moviepy - Done !\n",
      "Moviepy - video ready behavior_data/spinning/248.mp4\n",
      "['222.mp4', '236.mp4', '168.mp4', '197.mp4', '183.mp4', '182.mp4', '196.mp4', '169.mp4', '237.mp4', '223.mp4', '209.mp4', '235.mp4', '180.mp4', '194.mp4', '195.mp4', '181.mp4', '234.mp4', '208.mp4', '230.mp4', '224.mp4', '218.mp4', '185.mp4', '191.mp4', '190.mp4', '184.mp4', '219.mp4', '225.mp4', '231.mp4', '227.mp4', '179.mp4', '192.mp4', '186.mp4', '187.mp4', '193.mp4', '178.mp4', '226.mp4', '241.mp4', '240.mp4', '247.mp4', '246.mp4', '248.mp4', '203.mp4', '217.mp4', '175.mp4', '174.mp4', '216.mp4', '202.mp4', '228.mp4', '214.mp4', '200.mp4', '176.mp4', '189.mp4', '188.mp4', '177.mp4', '163.mp4', '201.mp4', '215.mp4', '229.mp4', '211.mp4', '205.mp4', '239.mp4', '173.mp4', '172.mp4', '238.mp4', '204.mp4', '210.mp4', '206.mp4', '212.mp4', '170.mp4', '158.mp4', '171.mp4', '213.mp4', '207.mp4']\n",
      "adding file\n"
     ]
    },
    {
     "name": "stderr",
     "output_type": "stream",
     "text": [
      "t:   0%|          | 0/105 [00:00<?, ?it/s, now=None]                "
     ]
    },
    {
     "name": "stdout",
     "output_type": "stream",
     "text": [
      "Moviepy - Building video behavior_data/spinning/249.mp4.\n",
      "MoviePy - Writing audio in 249TEMP_MPY_wvf_snd.mp4\n",
      "MoviePy - Done.\n",
      "Moviepy - Writing video behavior_data/spinning/249.mp4\n",
      "\n"
     ]
    },
    {
     "name": "stderr",
     "output_type": "stream",
     "text": [
      "                                                              \r"
     ]
    },
    {
     "name": "stdout",
     "output_type": "stream",
     "text": [
      "Moviepy - Done !\n",
      "Moviepy - video ready behavior_data/spinning/249.mp4\n",
      "['222.mp4', '236.mp4', '168.mp4', '197.mp4', '183.mp4', '182.mp4', '196.mp4', '169.mp4', '237.mp4', '223.mp4', '209.mp4', '235.mp4', '180.mp4', '194.mp4', '195.mp4', '181.mp4', '234.mp4', '208.mp4', '230.mp4', '224.mp4', '218.mp4', '185.mp4', '191.mp4', '190.mp4', '184.mp4', '219.mp4', '225.mp4', '231.mp4', '227.mp4', '179.mp4', '192.mp4', '186.mp4', '187.mp4', '193.mp4', '178.mp4', '226.mp4', '241.mp4', '240.mp4', '247.mp4', '246.mp4', '248.mp4', '249.mp4', '203.mp4', '217.mp4', '175.mp4', '174.mp4', '216.mp4', '202.mp4', '228.mp4', '214.mp4', '200.mp4', '176.mp4', '189.mp4', '188.mp4', '177.mp4', '163.mp4', '201.mp4', '215.mp4', '229.mp4', '211.mp4', '205.mp4', '239.mp4', '173.mp4', '172.mp4', '238.mp4', '204.mp4', '210.mp4', '206.mp4', '212.mp4', '170.mp4', '158.mp4', '171.mp4', '213.mp4', '207.mp4']\n",
      "adding file\n"
     ]
    },
    {
     "name": "stderr",
     "output_type": "stream",
     "text": [
      "t:   0%|          | 0/90 [00:00<?, ?it/s, now=None]     "
     ]
    },
    {
     "name": "stdout",
     "output_type": "stream",
     "text": [
      "Moviepy - Building video behavior_data/spinning/250.mp4.\n",
      "MoviePy - Writing audio in 250TEMP_MPY_wvf_snd.mp4\n",
      "MoviePy - Done.\n",
      "Moviepy - Writing video behavior_data/spinning/250.mp4\n",
      "\n"
     ]
    },
    {
     "name": "stderr",
     "output_type": "stream",
     "text": [
      "                                                             \r"
     ]
    },
    {
     "name": "stdout",
     "output_type": "stream",
     "text": [
      "Moviepy - Done !\n",
      "Moviepy - video ready behavior_data/spinning/250.mp4\n",
      "['222.mp4', '236.mp4', '168.mp4', '197.mp4', '183.mp4', '182.mp4', '196.mp4', '169.mp4', '237.mp4', '223.mp4', '209.mp4', '235.mp4', '180.mp4', '194.mp4', '195.mp4', '181.mp4', '234.mp4', '208.mp4', '230.mp4', '224.mp4', '218.mp4', '185.mp4', '191.mp4', '190.mp4', '184.mp4', '219.mp4', '225.mp4', '231.mp4', '227.mp4', '179.mp4', '192.mp4', '186.mp4', '187.mp4', '193.mp4', '178.mp4', '226.mp4', '241.mp4', '240.mp4', '247.mp4', '246.mp4', '250.mp4', '248.mp4', '249.mp4', '203.mp4', '217.mp4', '175.mp4', '174.mp4', '216.mp4', '202.mp4', '228.mp4', '214.mp4', '200.mp4', '176.mp4', '189.mp4', '188.mp4', '177.mp4', '163.mp4', '201.mp4', '215.mp4', '229.mp4', '211.mp4', '205.mp4', '239.mp4', '173.mp4', '172.mp4', '238.mp4', '204.mp4', '210.mp4', '206.mp4', '212.mp4', '170.mp4', '158.mp4', '171.mp4', '213.mp4', '207.mp4']\n",
      "adding file\n"
     ]
    },
    {
     "name": "stderr",
     "output_type": "stream",
     "text": [
      "t:   0%|          | 0/90 [00:00<?, ?it/s, now=None]                 "
     ]
    },
    {
     "name": "stdout",
     "output_type": "stream",
     "text": [
      "Moviepy - Building video behavior_data/spinning/251.mp4.\n",
      "MoviePy - Writing audio in 251TEMP_MPY_wvf_snd.mp4\n",
      "MoviePy - Done.\n",
      "Moviepy - Writing video behavior_data/spinning/251.mp4\n",
      "\n"
     ]
    },
    {
     "name": "stderr",
     "output_type": "stream",
     "text": [
      "                                                             \r"
     ]
    },
    {
     "name": "stdout",
     "output_type": "stream",
     "text": [
      "Moviepy - Done !\n",
      "Moviepy - video ready behavior_data/spinning/251.mp4\n",
      "['96.mp4', '82.mp4', '154.mp4', '140.mp4', '7.mp4', '55.mp4', '6.mp4', '141.mp4', '221.mp4', '81.mp4', '95.mp4', '143.mp4', '157.mp4', '56.mp4', '5.mp4', '156.mp4', '142.mp4', '94.mp4', '80.mp4', '146.mp4', '53.mp4', '.DS_Store', '52.mp4', '153.mp4', '147.mp4', '233.mp4', '93.mp4', '87.mp4', '50.mp4', '79.mp4', '86.mp4', '232.mp4', '137.mp4', '36.mp4', '37.mp4', '136.mp4', '242.mp4', '108.mp4', '134.mp4', '135.mp4', '109.mp4', '243.mp4', '131.mp4', '119.mp4', '18.mp4', '25.mp4', '19.mp4', '118.mp4', '130.mp4', '244.mp4', '132.mp4', '27.mp4', '26.mp4', '245.mp4', '116.mp4', '17.mp4', '16.mp4', '117.mp4', '129.mp4', '101.mp4', '28.mp4', '100.mp4', '39.mp4', '11.mp4', '10.mp4', '38.mp4', '107.mp4', '12.mp4', '13.mp4', '106.mp4', '112.mp4', '149.mp4', '161.mp4', '60.mp4', '61.mp4', '160.mp4', '148.mp4', '162.mp4', '88.mp4', '63.mp4', '62.mp4', '89.mp4', '99.mp4', '167.mp4', '98.mp4', '166.mp4', '164.mp4', '159.mp4', '165.mp4']\n",
      "adding file\n"
     ]
    },
    {
     "name": "stderr",
     "output_type": "stream",
     "text": [
      "                                                       "
     ]
    },
    {
     "name": "stdout",
     "output_type": "stream",
     "text": [
      "Moviepy - Building video behavior_data/control/252.mp4.\n",
      "MoviePy - Writing audio in 252TEMP_MPY_wvf_snd.mp4\n",
      "MoviePy - Done.\n",
      "Moviepy - Writing video behavior_data/control/252.mp4\n",
      "\n"
     ]
    },
    {
     "name": "stderr",
     "output_type": "stream",
     "text": [
      "\r"
     ]
    },
    {
     "name": "stdout",
     "output_type": "stream",
     "text": [
      "Moviepy - Done !\n",
      "Moviepy - video ready behavior_data/control/252.mp4\n",
      "['96.mp4', '82.mp4', '154.mp4', '140.mp4', '7.mp4', '55.mp4', '6.mp4', '141.mp4', '221.mp4', '81.mp4', '95.mp4', '143.mp4', '157.mp4', '56.mp4', '5.mp4', '156.mp4', '142.mp4', '94.mp4', '80.mp4', '146.mp4', '53.mp4', '.DS_Store', '52.mp4', '153.mp4', '147.mp4', '233.mp4', '93.mp4', '87.mp4', '50.mp4', '79.mp4', '86.mp4', '232.mp4', '137.mp4', '36.mp4', '37.mp4', '136.mp4', '242.mp4', '108.mp4', '134.mp4', '135.mp4', '109.mp4', '243.mp4', '131.mp4', '119.mp4', '18.mp4', '25.mp4', '19.mp4', '118.mp4', '130.mp4', '252.mp4', '244.mp4', '132.mp4', '27.mp4', '26.mp4', '245.mp4', '116.mp4', '17.mp4', '16.mp4', '117.mp4', '129.mp4', '101.mp4', '28.mp4', '100.mp4', '39.mp4', '11.mp4', '10.mp4', '38.mp4', '107.mp4', '12.mp4', '13.mp4', '106.mp4', '112.mp4', '149.mp4', '161.mp4', '60.mp4', '61.mp4', '160.mp4', '148.mp4', '162.mp4', '88.mp4', '63.mp4', '62.mp4', '89.mp4', '99.mp4', '167.mp4', '98.mp4', '166.mp4', '164.mp4', '159.mp4', '165.mp4']\n",
      "adding file\n"
     ]
    },
    {
     "name": "stderr",
     "output_type": "stream",
     "text": [
      "t:   0%|          | 0/105 [00:00<?, ?it/s, now=None]                "
     ]
    },
    {
     "name": "stdout",
     "output_type": "stream",
     "text": [
      "Moviepy - Building video behavior_data/control/253.mp4.\n",
      "MoviePy - Writing audio in 253TEMP_MPY_wvf_snd.mp4\n",
      "MoviePy - Done.\n",
      "Moviepy - Writing video behavior_data/control/253.mp4\n",
      "\n"
     ]
    },
    {
     "name": "stderr",
     "output_type": "stream",
     "text": [
      "                                                               \r"
     ]
    },
    {
     "name": "stdout",
     "output_type": "stream",
     "text": [
      "Moviepy - Done !\n",
      "Moviepy - video ready behavior_data/control/253.mp4\n",
      "['96.mp4', '82.mp4', '154.mp4', '140.mp4', '7.mp4', '55.mp4', '6.mp4', '141.mp4', '221.mp4', '81.mp4', '95.mp4', '143.mp4', '157.mp4', '56.mp4', '5.mp4', '156.mp4', '142.mp4', '94.mp4', '80.mp4', '146.mp4', '53.mp4', '.DS_Store', '52.mp4', '153.mp4', '147.mp4', '233.mp4', '93.mp4', '87.mp4', '50.mp4', '79.mp4', '86.mp4', '232.mp4', '137.mp4', '36.mp4', '37.mp4', '136.mp4', '242.mp4', '108.mp4', '134.mp4', '135.mp4', '109.mp4', '243.mp4', '253.mp4', '131.mp4', '119.mp4', '18.mp4', '25.mp4', '19.mp4', '118.mp4', '130.mp4', '252.mp4', '244.mp4', '132.mp4', '27.mp4', '26.mp4', '245.mp4', '116.mp4', '17.mp4', '16.mp4', '117.mp4', '129.mp4', '101.mp4', '28.mp4', '100.mp4', '39.mp4', '11.mp4', '10.mp4', '38.mp4', '107.mp4', '12.mp4', '13.mp4', '106.mp4', '112.mp4', '149.mp4', '161.mp4', '60.mp4', '61.mp4', '160.mp4', '148.mp4', '162.mp4', '88.mp4', '63.mp4', '62.mp4', '89.mp4', '99.mp4', '167.mp4', '98.mp4', '166.mp4', '164.mp4', '159.mp4', '165.mp4']\n",
      "adding file\n"
     ]
    },
    {
     "name": "stderr",
     "output_type": "stream",
     "text": [
      "t:   0%|          | 0/105 [00:00<?, ?it/s, now=None]                "
     ]
    },
    {
     "name": "stdout",
     "output_type": "stream",
     "text": [
      "Moviepy - Building video behavior_data/control/254.mp4.\n",
      "MoviePy - Writing audio in 254TEMP_MPY_wvf_snd.mp4\n",
      "MoviePy - Done.\n",
      "Moviepy - Writing video behavior_data/control/254.mp4\n",
      "\n"
     ]
    },
    {
     "name": "stderr",
     "output_type": "stream",
     "text": [
      "                                                              \r"
     ]
    },
    {
     "name": "stdout",
     "output_type": "stream",
     "text": [
      "Moviepy - Done !\n",
      "Moviepy - video ready behavior_data/control/254.mp4\n",
      "['96.mp4', '82.mp4', '154.mp4', '140.mp4', '7.mp4', '55.mp4', '6.mp4', '141.mp4', '221.mp4', '81.mp4', '95.mp4', '143.mp4', '157.mp4', '56.mp4', '5.mp4', '156.mp4', '142.mp4', '94.mp4', '80.mp4', '146.mp4', '53.mp4', '.DS_Store', '52.mp4', '153.mp4', '147.mp4', '233.mp4', '93.mp4', '87.mp4', '50.mp4', '79.mp4', '86.mp4', '232.mp4', '137.mp4', '36.mp4', '37.mp4', '136.mp4', '254.mp4', '242.mp4', '108.mp4', '134.mp4', '135.mp4', '109.mp4', '243.mp4', '253.mp4', '131.mp4', '119.mp4', '18.mp4', '25.mp4', '19.mp4', '118.mp4', '130.mp4', '252.mp4', '244.mp4', '132.mp4', '27.mp4', '26.mp4', '245.mp4', '116.mp4', '17.mp4', '16.mp4', '117.mp4', '129.mp4', '101.mp4', '28.mp4', '100.mp4', '39.mp4', '11.mp4', '10.mp4', '38.mp4', '107.mp4', '12.mp4', '13.mp4', '106.mp4', '112.mp4', '149.mp4', '161.mp4', '60.mp4', '61.mp4', '160.mp4', '148.mp4', '162.mp4', '88.mp4', '63.mp4', '62.mp4', '89.mp4', '99.mp4', '167.mp4', '98.mp4', '166.mp4', '164.mp4', '159.mp4', '165.mp4']\n",
      "adding file\n"
     ]
    },
    {
     "name": "stderr",
     "output_type": "stream",
     "text": [
      "t:   0%|          | 0/105 [00:00<?, ?it/s, now=None]                "
     ]
    },
    {
     "name": "stdout",
     "output_type": "stream",
     "text": [
      "Moviepy - Building video behavior_data/control/255.mp4.\n",
      "MoviePy - Writing audio in 255TEMP_MPY_wvf_snd.mp4\n",
      "MoviePy - Done.\n",
      "Moviepy - Writing video behavior_data/control/255.mp4\n",
      "\n"
     ]
    },
    {
     "name": "stderr",
     "output_type": "stream",
     "text": [
      "                                                              \r"
     ]
    },
    {
     "name": "stdout",
     "output_type": "stream",
     "text": [
      "Moviepy - Done !\n",
      "Moviepy - video ready behavior_data/control/255.mp4\n",
      "staring the 35th file\n",
      "http://www.youtube.com/watch?v=oukupxRUA84\n",
      "This is url:  http://www.youtube.com/watch?v=oukupxRUA84\n"
     ]
    },
    {
     "name": "stderr",
     "output_type": "stream",
     "text": [
      "\r",
      "chunk:   0%|          | 0/89 [00:00<?, ?it/s, now=None]"
     ]
    },
    {
     "name": "stdout",
     "output_type": "stream",
     "text": [
      "['222.mp4', '236.mp4', '168.mp4', '197.mp4', '183.mp4', '182.mp4', '196.mp4', '169.mp4', '237.mp4', '223.mp4', '209.mp4', '235.mp4', '180.mp4', '194.mp4', '195.mp4', '181.mp4', '234.mp4', '208.mp4', '230.mp4', '224.mp4', '218.mp4', '185.mp4', '191.mp4', '190.mp4', '184.mp4', '219.mp4', '225.mp4', '231.mp4', '227.mp4', '179.mp4', '192.mp4', '186.mp4', '187.mp4', '193.mp4', '178.mp4', '226.mp4', '241.mp4', '240.mp4', '247.mp4', '246.mp4', '250.mp4', '251.mp4', '248.mp4', '249.mp4', '203.mp4', '217.mp4', '175.mp4', '174.mp4', '216.mp4', '202.mp4', '228.mp4', '214.mp4', '200.mp4', '176.mp4', '189.mp4', '188.mp4', '177.mp4', '163.mp4', '201.mp4', '215.mp4', '229.mp4', '211.mp4', '205.mp4', '239.mp4', '173.mp4', '172.mp4', '238.mp4', '204.mp4', '210.mp4', '206.mp4', '212.mp4', '170.mp4', '158.mp4', '171.mp4', '213.mp4', '207.mp4']\n",
      "adding file\n",
      "Moviepy - Building video behavior_data/spinning/256.mp4.\n",
      "MoviePy - Writing audio in 256TEMP_MPY_wvf_snd.mp4\n"
     ]
    },
    {
     "name": "stderr",
     "output_type": "stream",
     "text": [
      "t:  52%|█████▏    | 62/120 [00:00<00:00, 613.36it/s, now=None]"
     ]
    },
    {
     "name": "stdout",
     "output_type": "stream",
     "text": [
      "MoviePy - Done.\n",
      "Moviepy - Writing video behavior_data/spinning/256.mp4\n",
      "\n"
     ]
    },
    {
     "name": "stderr",
     "output_type": "stream",
     "text": [
      "                                                              \r"
     ]
    },
    {
     "name": "stdout",
     "output_type": "stream",
     "text": [
      "Moviepy - Done !\n",
      "Moviepy - video ready behavior_data/spinning/256.mp4\n",
      "['222.mp4', '236.mp4', '168.mp4', '197.mp4', '183.mp4', '182.mp4', '196.mp4', '169.mp4', '237.mp4', '223.mp4', '209.mp4', '235.mp4', '180.mp4', '194.mp4', '195.mp4', '181.mp4', '234.mp4', '208.mp4', '230.mp4', '224.mp4', '218.mp4', '185.mp4', '191.mp4', '190.mp4', '184.mp4', '219.mp4', '225.mp4', '231.mp4', '227.mp4', '179.mp4', '192.mp4', '186.mp4', '187.mp4', '193.mp4', '178.mp4', '226.mp4', '241.mp4', '240.mp4', '256.mp4', '247.mp4', '246.mp4', '250.mp4', '251.mp4', '248.mp4', '249.mp4', '203.mp4', '217.mp4', '175.mp4', '174.mp4', '216.mp4', '202.mp4', '228.mp4', '214.mp4', '200.mp4', '176.mp4', '189.mp4', '188.mp4', '177.mp4', '163.mp4', '201.mp4', '215.mp4', '229.mp4', '211.mp4', '205.mp4', '239.mp4', '173.mp4', '172.mp4', '238.mp4', '204.mp4', '210.mp4', '206.mp4', '212.mp4', '170.mp4', '158.mp4', '171.mp4', '213.mp4', '207.mp4']\n",
      "adding file\n",
      "Moviepy - Building video behavior_data/spinning/257.mp4.\n",
      "MoviePy - Writing audio in 257TEMP_MPY_wvf_snd.mp4\n"
     ]
    },
    {
     "name": "stderr",
     "output_type": "stream",
     "text": [
      "                                                             \r"
     ]
    },
    {
     "name": "stdout",
     "output_type": "stream",
     "text": [
      "MoviePy - Done.\n",
      "Moviepy - Writing video behavior_data/spinning/257.mp4\n",
      "\n",
      "Moviepy - Done !\n",
      "Moviepy - video ready behavior_data/spinning/257.mp4\n",
      "['222.mp4', '236.mp4', '168.mp4', '197.mp4', '183.mp4', '182.mp4', '196.mp4', '169.mp4', '237.mp4', '223.mp4', '209.mp4', '235.mp4', '180.mp4', '194.mp4', '195.mp4', '181.mp4', '234.mp4', '208.mp4', '230.mp4', '224.mp4', '218.mp4', '185.mp4', '191.mp4', '190.mp4', '184.mp4', '219.mp4', '225.mp4', '231.mp4', '227.mp4', '179.mp4', '192.mp4', '186.mp4', '187.mp4', '193.mp4', '178.mp4', '226.mp4', '241.mp4', '240.mp4', '256.mp4', '257.mp4', '247.mp4', '246.mp4', '250.mp4', '251.mp4', '248.mp4', '249.mp4', '203.mp4', '217.mp4', '175.mp4', '174.mp4', '216.mp4', '202.mp4', '228.mp4', '214.mp4', '200.mp4', '176.mp4', '189.mp4', '188.mp4', '177.mp4', '163.mp4', '201.mp4', '215.mp4', '229.mp4', '211.mp4', '205.mp4', '239.mp4', '173.mp4', '172.mp4', '238.mp4', '204.mp4', '210.mp4', '206.mp4', '212.mp4', '170.mp4', '158.mp4', '171.mp4', '213.mp4', '207.mp4']\n",
      "adding file\n",
      "Moviepy - Building video behavior_data/spinning/258.mp4.\n",
      "MoviePy - Writing audio in 258TEMP_MPY_wvf_snd.mp4\n"
     ]
    },
    {
     "name": "stderr",
     "output_type": "stream",
     "text": [
      "t:  32%|███▏      | 58/180 [00:00<00:00, 576.03it/s, now=None]"
     ]
    },
    {
     "name": "stdout",
     "output_type": "stream",
     "text": [
      "MoviePy - Done.\n",
      "Moviepy - Writing video behavior_data/spinning/258.mp4\n",
      "\n"
     ]
    },
    {
     "name": "stderr",
     "output_type": "stream",
     "text": [
      "                                                               \r"
     ]
    },
    {
     "name": "stdout",
     "output_type": "stream",
     "text": [
      "Moviepy - Done !\n",
      "Moviepy - video ready behavior_data/spinning/258.mp4\n",
      "['222.mp4', '236.mp4', '168.mp4', '197.mp4', '183.mp4', '182.mp4', '196.mp4', '169.mp4', '237.mp4', '223.mp4', '209.mp4', '235.mp4', '180.mp4', '194.mp4', '195.mp4', '181.mp4', '234.mp4', '208.mp4', '230.mp4', '224.mp4', '218.mp4', '185.mp4', '191.mp4', '190.mp4', '184.mp4', '219.mp4', '225.mp4', '231.mp4', '227.mp4', '179.mp4', '192.mp4', '186.mp4', '187.mp4', '193.mp4', '178.mp4', '226.mp4', '241.mp4', '240.mp4', '256.mp4', '257.mp4', '247.mp4', '246.mp4', '250.mp4', '251.mp4', '248.mp4', '249.mp4', '258.mp4', '203.mp4', '217.mp4', '175.mp4', '174.mp4', '216.mp4', '202.mp4', '228.mp4', '214.mp4', '200.mp4', '176.mp4', '189.mp4', '188.mp4', '177.mp4', '163.mp4', '201.mp4', '215.mp4', '229.mp4', '211.mp4', '205.mp4', '239.mp4', '173.mp4', '172.mp4', '238.mp4', '204.mp4', '210.mp4', '206.mp4', '212.mp4', '170.mp4', '158.mp4', '171.mp4', '213.mp4', '207.mp4']\n",
      "adding file\n",
      "Moviepy - Building video behavior_data/spinning/259.mp4.\n",
      "MoviePy - Writing audio in 259TEMP_MPY_wvf_snd.mp4\n"
     ]
    },
    {
     "name": "stderr",
     "output_type": "stream",
     "text": [
      "t:  33%|███▎      | 59/180 [00:00<00:00, 585.88it/s, now=None]"
     ]
    },
    {
     "name": "stdout",
     "output_type": "stream",
     "text": [
      "MoviePy - Done.\n",
      "Moviepy - Writing video behavior_data/spinning/259.mp4\n",
      "\n"
     ]
    },
    {
     "name": "stderr",
     "output_type": "stream",
     "text": [
      "                                                               \r"
     ]
    },
    {
     "name": "stdout",
     "output_type": "stream",
     "text": [
      "Moviepy - Done !\n",
      "Moviepy - video ready behavior_data/spinning/259.mp4\n",
      "['222.mp4', '236.mp4', '168.mp4', '197.mp4', '183.mp4', '182.mp4', '196.mp4', '169.mp4', '237.mp4', '223.mp4', '209.mp4', '235.mp4', '180.mp4', '194.mp4', '195.mp4', '181.mp4', '234.mp4', '208.mp4', '230.mp4', '224.mp4', '218.mp4', '185.mp4', '191.mp4', '190.mp4', '184.mp4', '219.mp4', '225.mp4', '231.mp4', '227.mp4', '179.mp4', '192.mp4', '186.mp4', '187.mp4', '193.mp4', '178.mp4', '226.mp4', '241.mp4', '240.mp4', '256.mp4', '257.mp4', '247.mp4', '246.mp4', '250.mp4', '251.mp4', '248.mp4', '249.mp4', '259.mp4', '258.mp4', '203.mp4', '217.mp4', '175.mp4', '174.mp4', '216.mp4', '202.mp4', '228.mp4', '214.mp4', '200.mp4', '176.mp4', '189.mp4', '188.mp4', '177.mp4', '163.mp4', '201.mp4', '215.mp4', '229.mp4', '211.mp4', '205.mp4', '239.mp4', '173.mp4', '172.mp4', '238.mp4', '204.mp4', '210.mp4', '206.mp4', '212.mp4', '170.mp4', '158.mp4', '171.mp4', '213.mp4', '207.mp4']\n",
      "adding file\n",
      "Moviepy - Building video behavior_data/spinning/260.mp4.\n",
      "MoviePy - Writing audio in 260TEMP_MPY_wvf_snd.mp4\n"
     ]
    },
    {
     "name": "stderr",
     "output_type": "stream",
     "text": [
      "t:  39%|███▉      | 59/150 [00:00<00:00, 584.93it/s, now=None]"
     ]
    },
    {
     "name": "stdout",
     "output_type": "stream",
     "text": [
      "MoviePy - Done.\n",
      "Moviepy - Writing video behavior_data/spinning/260.mp4\n",
      "\n"
     ]
    },
    {
     "name": "stderr",
     "output_type": "stream",
     "text": [
      "                                                               \r"
     ]
    },
    {
     "name": "stdout",
     "output_type": "stream",
     "text": [
      "Moviepy - Done !\n",
      "Moviepy - video ready behavior_data/spinning/260.mp4\n",
      "['222.mp4', '236.mp4', '168.mp4', '197.mp4', '183.mp4', '182.mp4', '196.mp4', '169.mp4', '237.mp4', '223.mp4', '209.mp4', '235.mp4', '180.mp4', '194.mp4', '195.mp4', '181.mp4', '234.mp4', '208.mp4', '230.mp4', '224.mp4', '218.mp4', '185.mp4', '191.mp4', '190.mp4', '184.mp4', '219.mp4', '225.mp4', '231.mp4', '227.mp4', '179.mp4', '192.mp4', '186.mp4', '187.mp4', '193.mp4', '178.mp4', '226.mp4', '241.mp4', '240.mp4', '256.mp4', '257.mp4', '247.mp4', '246.mp4', '250.mp4', '251.mp4', '248.mp4', '260.mp4', '249.mp4', '259.mp4', '258.mp4', '203.mp4', '217.mp4', '175.mp4', '174.mp4', '216.mp4', '202.mp4', '228.mp4', '214.mp4', '200.mp4', '176.mp4', '189.mp4', '188.mp4', '177.mp4', '163.mp4', '201.mp4', '215.mp4', '229.mp4', '211.mp4', '205.mp4', '239.mp4', '173.mp4', '172.mp4', '238.mp4', '204.mp4', '210.mp4', '206.mp4', '212.mp4', '170.mp4', '158.mp4', '171.mp4', '213.mp4', '207.mp4']\n",
      "adding file\n"
     ]
    },
    {
     "name": "stderr",
     "output_type": "stream",
     "text": [
      "t:   0%|          | 0/180 [00:00<?, ?it/s, now=None]    "
     ]
    },
    {
     "name": "stdout",
     "output_type": "stream",
     "text": [
      "Moviepy - Building video behavior_data/spinning/261.mp4.\n",
      "MoviePy - Writing audio in 261TEMP_MPY_wvf_snd.mp4\n",
      "MoviePy - Done.\n",
      "Moviepy - Writing video behavior_data/spinning/261.mp4\n",
      "\n"
     ]
    },
    {
     "name": "stderr",
     "output_type": "stream",
     "text": [
      "chunk:   0%|          | 0/67 [00:00<?, ?it/s, now=None]        "
     ]
    },
    {
     "name": "stdout",
     "output_type": "stream",
     "text": [
      "Moviepy - Done !\n",
      "Moviepy - video ready behavior_data/spinning/261.mp4\n",
      "['96.mp4', '82.mp4', '154.mp4', '140.mp4', '7.mp4', '55.mp4', '6.mp4', '141.mp4', '221.mp4', '81.mp4', '95.mp4', '143.mp4', '157.mp4', '56.mp4', '5.mp4', '156.mp4', '142.mp4', '94.mp4', '80.mp4', '146.mp4', '53.mp4', '.DS_Store', '52.mp4', '153.mp4', '147.mp4', '233.mp4', '93.mp4', '87.mp4', '50.mp4', '79.mp4', '86.mp4', '232.mp4', '255.mp4', '137.mp4', '36.mp4', '37.mp4', '136.mp4', '254.mp4', '242.mp4', '108.mp4', '134.mp4', '135.mp4', '109.mp4', '243.mp4', '253.mp4', '131.mp4', '119.mp4', '18.mp4', '25.mp4', '19.mp4', '118.mp4', '130.mp4', '252.mp4', '244.mp4', '132.mp4', '27.mp4', '26.mp4', '245.mp4', '116.mp4', '17.mp4', '16.mp4', '117.mp4', '129.mp4', '101.mp4', '28.mp4', '100.mp4', '39.mp4', '11.mp4', '10.mp4', '38.mp4', '107.mp4', '12.mp4', '13.mp4', '106.mp4', '112.mp4', '149.mp4', '161.mp4', '60.mp4', '61.mp4', '160.mp4', '148.mp4', '162.mp4', '88.mp4', '63.mp4', '62.mp4', '89.mp4', '99.mp4', '167.mp4', '98.mp4', '166.mp4', '164.mp4', '159.mp4', '165.mp4']\n",
      "adding file\n",
      "Moviepy - Building video behavior_data/control/262.mp4.\n",
      "MoviePy - Writing audio in 262TEMP_MPY_wvf_snd.mp4\n"
     ]
    },
    {
     "name": "stderr",
     "output_type": "stream",
     "text": [
      "                                                             \r"
     ]
    },
    {
     "name": "stdout",
     "output_type": "stream",
     "text": [
      "MoviePy - Done.\n",
      "Moviepy - Writing video behavior_data/control/262.mp4\n",
      "\n",
      "Moviepy - Done !\n",
      "Moviepy - video ready behavior_data/control/262.mp4\n",
      "['96.mp4', '82.mp4', '154.mp4', '140.mp4', '7.mp4', '55.mp4', '6.mp4', '141.mp4', '221.mp4', '81.mp4', '95.mp4', '143.mp4', '157.mp4', '56.mp4', '5.mp4', '156.mp4', '142.mp4', '94.mp4', '80.mp4', '146.mp4', '53.mp4', '.DS_Store', '52.mp4', '153.mp4', '147.mp4', '233.mp4', '93.mp4', '87.mp4', '50.mp4', '79.mp4', '86.mp4', '232.mp4', '255.mp4', '137.mp4', '36.mp4', '37.mp4', '136.mp4', '254.mp4', '242.mp4', '108.mp4', '134.mp4', '135.mp4', '109.mp4', '243.mp4', '253.mp4', '131.mp4', '119.mp4', '18.mp4', '25.mp4', '19.mp4', '118.mp4', '130.mp4', '252.mp4', '244.mp4', '132.mp4', '27.mp4', '26.mp4', '245.mp4', '116.mp4', '17.mp4', '16.mp4', '117.mp4', '129.mp4', '101.mp4', '28.mp4', '100.mp4', '262.mp4', '39.mp4', '11.mp4', '10.mp4', '38.mp4', '107.mp4', '12.mp4', '13.mp4', '106.mp4', '112.mp4', '149.mp4', '161.mp4', '60.mp4', '61.mp4', '160.mp4', '148.mp4', '162.mp4', '88.mp4', '63.mp4', '62.mp4', '89.mp4', '99.mp4', '167.mp4', '98.mp4', '166.mp4', '164.mp4', '159.mp4', '165.mp4']\n",
      "adding file\n",
      "Moviepy - Building video behavior_data/control/263.mp4.\n",
      "MoviePy - Writing audio in 263TEMP_MPY_wvf_snd.mp4\n"
     ]
    },
    {
     "name": "stderr",
     "output_type": "stream",
     "text": [
      "t:  27%|██▋       | 57/210 [00:00<00:00, 565.76it/s, now=None]"
     ]
    },
    {
     "name": "stdout",
     "output_type": "stream",
     "text": [
      "MoviePy - Done.\n",
      "Moviepy - Writing video behavior_data/control/263.mp4\n",
      "\n"
     ]
    },
    {
     "name": "stderr",
     "output_type": "stream",
     "text": [
      "chunk:   0%|          | 0/133 [00:00<?, ?it/s, now=None]       "
     ]
    },
    {
     "name": "stdout",
     "output_type": "stream",
     "text": [
      "Moviepy - Done !\n",
      "Moviepy - video ready behavior_data/control/263.mp4\n",
      "['96.mp4', '82.mp4', '154.mp4', '140.mp4', '7.mp4', '55.mp4', '6.mp4', '141.mp4', '221.mp4', '81.mp4', '95.mp4', '143.mp4', '157.mp4', '56.mp4', '5.mp4', '156.mp4', '142.mp4', '94.mp4', '80.mp4', '146.mp4', '53.mp4', '.DS_Store', '52.mp4', '153.mp4', '147.mp4', '233.mp4', '93.mp4', '87.mp4', '50.mp4', '79.mp4', '86.mp4', '232.mp4', '255.mp4', '137.mp4', '36.mp4', '37.mp4', '136.mp4', '254.mp4', '242.mp4', '108.mp4', '134.mp4', '135.mp4', '109.mp4', '243.mp4', '253.mp4', '131.mp4', '119.mp4', '18.mp4', '25.mp4', '19.mp4', '118.mp4', '130.mp4', '252.mp4', '244.mp4', '132.mp4', '27.mp4', '26.mp4', '245.mp4', '116.mp4', '17.mp4', '16.mp4', '117.mp4', '263.mp4', '129.mp4', '101.mp4', '28.mp4', '100.mp4', '262.mp4', '39.mp4', '11.mp4', '10.mp4', '38.mp4', '107.mp4', '12.mp4', '13.mp4', '106.mp4', '112.mp4', '149.mp4', '161.mp4', '60.mp4', '61.mp4', '160.mp4', '148.mp4', '162.mp4', '88.mp4', '63.mp4', '62.mp4', '89.mp4', '99.mp4', '167.mp4', '98.mp4', '166.mp4', '164.mp4', '159.mp4', '165.mp4']\n",
      "adding file\n",
      "Moviepy - Building video behavior_data/control/264.mp4.\n",
      "MoviePy - Writing audio in 264TEMP_MPY_wvf_snd.mp4\n"
     ]
    },
    {
     "name": "stderr",
     "output_type": "stream",
     "text": [
      "t:  37%|███▋      | 66/180 [00:00<00:00, 645.55it/s, now=None]"
     ]
    },
    {
     "name": "stdout",
     "output_type": "stream",
     "text": [
      "MoviePy - Done.\n",
      "Moviepy - Writing video behavior_data/control/264.mp4\n",
      "\n"
     ]
    },
    {
     "name": "stderr",
     "output_type": "stream",
     "text": [
      "                                                               \r"
     ]
    },
    {
     "name": "stdout",
     "output_type": "stream",
     "text": [
      "Moviepy - Done !\n",
      "Moviepy - video ready behavior_data/control/264.mp4\n",
      "['96.mp4', '82.mp4', '154.mp4', '140.mp4', '7.mp4', '55.mp4', '6.mp4', '141.mp4', '221.mp4', '81.mp4', '95.mp4', '143.mp4', '157.mp4', '56.mp4', '5.mp4', '156.mp4', '142.mp4', '94.mp4', '80.mp4', '146.mp4', '53.mp4', '.DS_Store', '52.mp4', '153.mp4', '147.mp4', '233.mp4', '93.mp4', '87.mp4', '50.mp4', '79.mp4', '86.mp4', '232.mp4', '255.mp4', '137.mp4', '36.mp4', '37.mp4', '136.mp4', '254.mp4', '242.mp4', '108.mp4', '134.mp4', '135.mp4', '109.mp4', '243.mp4', '253.mp4', '131.mp4', '119.mp4', '18.mp4', '25.mp4', '19.mp4', '118.mp4', '130.mp4', '252.mp4', '244.mp4', '132.mp4', '27.mp4', '26.mp4', '245.mp4', '116.mp4', '17.mp4', '16.mp4', '117.mp4', '263.mp4', '129.mp4', '101.mp4', '28.mp4', '100.mp4', '262.mp4', '39.mp4', '11.mp4', '10.mp4', '38.mp4', '107.mp4', '12.mp4', '13.mp4', '106.mp4', '112.mp4', '264.mp4', '149.mp4', '161.mp4', '60.mp4', '61.mp4', '160.mp4', '148.mp4', '162.mp4', '88.mp4', '63.mp4', '62.mp4', '89.mp4', '99.mp4', '167.mp4', '98.mp4', '166.mp4', '164.mp4', '159.mp4', '165.mp4']\n",
      "adding file\n",
      "Moviepy - Building video behavior_data/control/265.mp4.\n",
      "MoviePy - Writing audio in 265TEMP_MPY_wvf_snd.mp4\n"
     ]
    },
    {
     "name": "stderr",
     "output_type": "stream",
     "text": [
      "t:  54%|█████▍    | 65/120 [00:00<00:00, 646.56it/s, now=None]"
     ]
    },
    {
     "name": "stdout",
     "output_type": "stream",
     "text": [
      "MoviePy - Done.\n",
      "Moviepy - Writing video behavior_data/control/265.mp4\n",
      "\n"
     ]
    },
    {
     "name": "stderr",
     "output_type": "stream",
     "text": [
      "                                                              \r"
     ]
    },
    {
     "name": "stdout",
     "output_type": "stream",
     "text": [
      "Moviepy - Done !\n",
      "Moviepy - video ready behavior_data/control/265.mp4\n",
      "staring the 36th file\n",
      "http://www.youtube.com/watch?v=Gt-WMpTP7IE\n",
      "This is url:  http://www.youtube.com/watch?v=Gt-WMpTP7IE\n",
      "['222.mp4', '236.mp4', '168.mp4', '197.mp4', '183.mp4', '182.mp4', '196.mp4', '169.mp4', '237.mp4', '223.mp4', '209.mp4', '235.mp4', '180.mp4', '194.mp4', '195.mp4', '181.mp4', '234.mp4', '208.mp4', '230.mp4', '224.mp4', '218.mp4', '185.mp4', '191.mp4', '190.mp4', '184.mp4', '219.mp4', '225.mp4', '231.mp4', '227.mp4', '179.mp4', '192.mp4', '186.mp4', '187.mp4', '193.mp4', '178.mp4', '226.mp4', '241.mp4', '240.mp4', '256.mp4', '257.mp4', '247.mp4', '246.mp4', '250.mp4', '251.mp4', '248.mp4', '260.mp4', '261.mp4', '249.mp4', '259.mp4', '258.mp4', '203.mp4', '217.mp4', '175.mp4', '174.mp4', '216.mp4', '202.mp4', '228.mp4', '214.mp4', '200.mp4', '176.mp4', '189.mp4', '188.mp4', '177.mp4', '163.mp4', '201.mp4', '215.mp4', '229.mp4', '211.mp4', '205.mp4', '239.mp4', '173.mp4', '172.mp4', '238.mp4', '204.mp4', '210.mp4', '206.mp4', '212.mp4', '170.mp4', '158.mp4', '171.mp4', '213.mp4', '207.mp4']\n",
      "adding file\n"
     ]
    },
    {
     "name": "stderr",
     "output_type": "stream",
     "text": [
      "t:  15%|█▍        | 25/168 [00:00<00:00, 246.47it/s, now=None]"
     ]
    },
    {
     "name": "stdout",
     "output_type": "stream",
     "text": [
      "Moviepy - Building video behavior_data/spinning/266.mp4.\n",
      "MoviePy - Writing audio in 266TEMP_MPY_wvf_snd.mp4\n",
      "MoviePy - Done.\n",
      "Moviepy - Writing video behavior_data/spinning/266.mp4\n",
      "\n"
     ]
    },
    {
     "name": "stderr",
     "output_type": "stream",
     "text": [
      "                                                               \r"
     ]
    },
    {
     "name": "stdout",
     "output_type": "stream",
     "text": [
      "Moviepy - Done !\n",
      "Moviepy - video ready behavior_data/spinning/266.mp4\n",
      "['222.mp4', '236.mp4', '168.mp4', '197.mp4', '183.mp4', '182.mp4', '196.mp4', '169.mp4', '237.mp4', '223.mp4', '209.mp4', '235.mp4', '180.mp4', '194.mp4', '195.mp4', '181.mp4', '234.mp4', '208.mp4', '230.mp4', '224.mp4', '218.mp4', '185.mp4', '191.mp4', '190.mp4', '184.mp4', '219.mp4', '225.mp4', '231.mp4', '227.mp4', '179.mp4', '192.mp4', '186.mp4', '187.mp4', '193.mp4', '178.mp4', '226.mp4', '241.mp4', '240.mp4', '256.mp4', '257.mp4', '247.mp4', '246.mp4', '250.mp4', '251.mp4', '248.mp4', '260.mp4', '261.mp4', '249.mp4', '266.mp4', '259.mp4', '258.mp4', '203.mp4', '217.mp4', '175.mp4', '174.mp4', '216.mp4', '202.mp4', '228.mp4', '214.mp4', '200.mp4', '176.mp4', '189.mp4', '188.mp4', '177.mp4', '163.mp4', '201.mp4', '215.mp4', '229.mp4', '211.mp4', '205.mp4', '239.mp4', '173.mp4', '172.mp4', '238.mp4', '204.mp4', '210.mp4', '206.mp4', '212.mp4', '170.mp4', '158.mp4', '171.mp4', '213.mp4', '207.mp4']\n",
      "adding file\n"
     ]
    },
    {
     "name": "stderr",
     "output_type": "stream",
     "text": [
      "t:   0%|          | 0/168 [00:00<?, ?it/s, now=None]    "
     ]
    },
    {
     "name": "stdout",
     "output_type": "stream",
     "text": [
      "Moviepy - Building video behavior_data/spinning/267.mp4.\n",
      "MoviePy - Writing audio in 267TEMP_MPY_wvf_snd.mp4\n",
      "MoviePy - Done.\n",
      "Moviepy - Writing video behavior_data/spinning/267.mp4\n",
      "\n"
     ]
    },
    {
     "name": "stderr",
     "output_type": "stream",
     "text": [
      "                                                               \r"
     ]
    },
    {
     "name": "stdout",
     "output_type": "stream",
     "text": [
      "Moviepy - Done !\n",
      "Moviepy - video ready behavior_data/spinning/267.mp4\n",
      "['222.mp4', '236.mp4', '168.mp4', '197.mp4', '183.mp4', '182.mp4', '196.mp4', '169.mp4', '237.mp4', '223.mp4', '209.mp4', '235.mp4', '180.mp4', '194.mp4', '195.mp4', '181.mp4', '234.mp4', '208.mp4', '230.mp4', '224.mp4', '218.mp4', '185.mp4', '191.mp4', '190.mp4', '184.mp4', '219.mp4', '225.mp4', '231.mp4', '227.mp4', '179.mp4', '192.mp4', '186.mp4', '187.mp4', '193.mp4', '178.mp4', '226.mp4', '241.mp4', '240.mp4', '256.mp4', '257.mp4', '247.mp4', '246.mp4', '250.mp4', '251.mp4', '248.mp4', '260.mp4', '261.mp4', '249.mp4', '266.mp4', '267.mp4', '259.mp4', '258.mp4', '203.mp4', '217.mp4', '175.mp4', '174.mp4', '216.mp4', '202.mp4', '228.mp4', '214.mp4', '200.mp4', '176.mp4', '189.mp4', '188.mp4', '177.mp4', '163.mp4', '201.mp4', '215.mp4', '229.mp4', '211.mp4', '205.mp4', '239.mp4', '173.mp4', '172.mp4', '238.mp4', '204.mp4', '210.mp4', '206.mp4', '212.mp4', '170.mp4', '158.mp4', '171.mp4', '213.mp4', '207.mp4']\n",
      "adding file\n"
     ]
    },
    {
     "name": "stderr",
     "output_type": "stream",
     "text": [
      "t:  15%|█▌        | 26/168 [00:00<00:00, 257.73it/s, now=None]"
     ]
    },
    {
     "name": "stdout",
     "output_type": "stream",
     "text": [
      "Moviepy - Building video behavior_data/spinning/268.mp4.\n",
      "MoviePy - Writing audio in 268TEMP_MPY_wvf_snd.mp4\n",
      "MoviePy - Done.\n",
      "Moviepy - Writing video behavior_data/spinning/268.mp4\n",
      "\n"
     ]
    },
    {
     "name": "stderr",
     "output_type": "stream",
     "text": [
      "                                                               \r"
     ]
    },
    {
     "name": "stdout",
     "output_type": "stream",
     "text": [
      "Moviepy - Done !\n",
      "Moviepy - video ready behavior_data/spinning/268.mp4\n",
      "['222.mp4', '236.mp4', '168.mp4', '197.mp4', '183.mp4', '182.mp4', '196.mp4', '169.mp4', '237.mp4', '223.mp4', '209.mp4', '235.mp4', '180.mp4', '194.mp4', '195.mp4', '181.mp4', '234.mp4', '208.mp4', '230.mp4', '224.mp4', '218.mp4', '185.mp4', '191.mp4', '190.mp4', '184.mp4', '219.mp4', '225.mp4', '231.mp4', '227.mp4', '179.mp4', '192.mp4', '186.mp4', '187.mp4', '193.mp4', '178.mp4', '226.mp4', '241.mp4', '240.mp4', '268.mp4', '256.mp4', '257.mp4', '247.mp4', '246.mp4', '250.mp4', '251.mp4', '248.mp4', '260.mp4', '261.mp4', '249.mp4', '266.mp4', '267.mp4', '259.mp4', '258.mp4', '203.mp4', '217.mp4', '175.mp4', '174.mp4', '216.mp4', '202.mp4', '228.mp4', '214.mp4', '200.mp4', '176.mp4', '189.mp4', '188.mp4', '177.mp4', '163.mp4', '201.mp4', '215.mp4', '229.mp4', '211.mp4', '205.mp4', '239.mp4', '173.mp4', '172.mp4', '238.mp4', '204.mp4', '210.mp4', '206.mp4', '212.mp4', '170.mp4', '158.mp4', '171.mp4', '213.mp4', '207.mp4']\n",
      "adding file\n"
     ]
    },
    {
     "name": "stderr",
     "output_type": "stream",
     "text": [
      "t:   0%|          | 0/168 [00:00<?, ?it/s, now=None]    "
     ]
    },
    {
     "name": "stdout",
     "output_type": "stream",
     "text": [
      "Moviepy - Building video behavior_data/spinning/269.mp4.\n",
      "MoviePy - Writing audio in 269TEMP_MPY_wvf_snd.mp4\n",
      "MoviePy - Done.\n",
      "Moviepy - Writing video behavior_data/spinning/269.mp4\n",
      "\n"
     ]
    },
    {
     "name": "stderr",
     "output_type": "stream",
     "text": [
      "                                                               \r"
     ]
    },
    {
     "name": "stdout",
     "output_type": "stream",
     "text": [
      "Moviepy - Done !\n",
      "Moviepy - video ready behavior_data/spinning/269.mp4\n",
      "['222.mp4', '236.mp4', '168.mp4', '197.mp4', '183.mp4', '182.mp4', '196.mp4', '169.mp4', '237.mp4', '223.mp4', '209.mp4', '235.mp4', '180.mp4', '194.mp4', '195.mp4', '181.mp4', '234.mp4', '208.mp4', '230.mp4', '224.mp4', '218.mp4', '185.mp4', '191.mp4', '190.mp4', '184.mp4', '219.mp4', '225.mp4', '231.mp4', '227.mp4', '179.mp4', '192.mp4', '186.mp4', '187.mp4', '193.mp4', '178.mp4', '226.mp4', '269.mp4', '241.mp4', '240.mp4', '268.mp4', '256.mp4', '257.mp4', '247.mp4', '246.mp4', '250.mp4', '251.mp4', '248.mp4', '260.mp4', '261.mp4', '249.mp4', '266.mp4', '267.mp4', '259.mp4', '258.mp4', '203.mp4', '217.mp4', '175.mp4', '174.mp4', '216.mp4', '202.mp4', '228.mp4', '214.mp4', '200.mp4', '176.mp4', '189.mp4', '188.mp4', '177.mp4', '163.mp4', '201.mp4', '215.mp4', '229.mp4', '211.mp4', '205.mp4', '239.mp4', '173.mp4', '172.mp4', '238.mp4', '204.mp4', '210.mp4', '206.mp4', '212.mp4', '170.mp4', '158.mp4', '171.mp4', '213.mp4', '207.mp4']\n",
      "adding file\n"
     ]
    },
    {
     "name": "stderr",
     "output_type": "stream",
     "text": [
      "t:   0%|          | 0/168 [00:00<?, ?it/s, now=None]    "
     ]
    },
    {
     "name": "stdout",
     "output_type": "stream",
     "text": [
      "Moviepy - Building video behavior_data/spinning/270.mp4.\n",
      "MoviePy - Writing audio in 270TEMP_MPY_wvf_snd.mp4\n",
      "MoviePy - Done.\n",
      "Moviepy - Writing video behavior_data/spinning/270.mp4\n",
      "\n"
     ]
    },
    {
     "name": "stderr",
     "output_type": "stream",
     "text": [
      "                                                               \r"
     ]
    },
    {
     "name": "stdout",
     "output_type": "stream",
     "text": [
      "Moviepy - Done !\n",
      "Moviepy - video ready behavior_data/spinning/270.mp4\n",
      "['222.mp4', '236.mp4', '168.mp4', '197.mp4', '183.mp4', '182.mp4', '196.mp4', '169.mp4', '237.mp4', '223.mp4', '209.mp4', '235.mp4', '180.mp4', '194.mp4', '195.mp4', '181.mp4', '234.mp4', '208.mp4', '230.mp4', '224.mp4', '218.mp4', '185.mp4', '191.mp4', '190.mp4', '184.mp4', '219.mp4', '225.mp4', '231.mp4', '227.mp4', '179.mp4', '192.mp4', '186.mp4', '187.mp4', '193.mp4', '178.mp4', '226.mp4', '269.mp4', '241.mp4', '240.mp4', '268.mp4', '256.mp4', '257.mp4', '247.mp4', '246.mp4', '250.mp4', '251.mp4', '248.mp4', '260.mp4', '261.mp4', '249.mp4', '266.mp4', '267.mp4', '259.mp4', '258.mp4', '270.mp4', '203.mp4', '217.mp4', '175.mp4', '174.mp4', '216.mp4', '202.mp4', '228.mp4', '214.mp4', '200.mp4', '176.mp4', '189.mp4', '188.mp4', '177.mp4', '163.mp4', '201.mp4', '215.mp4', '229.mp4', '211.mp4', '205.mp4', '239.mp4', '173.mp4', '172.mp4', '238.mp4', '204.mp4', '210.mp4', '206.mp4', '212.mp4', '170.mp4', '158.mp4', '171.mp4', '213.mp4', '207.mp4']\n",
      "adding file\n"
     ]
    },
    {
     "name": "stderr",
     "output_type": "stream",
     "text": [
      "t:   0%|          | 0/168 [00:00<?, ?it/s, now=None]                "
     ]
    },
    {
     "name": "stdout",
     "output_type": "stream",
     "text": [
      "Moviepy - Building video behavior_data/spinning/271.mp4.\n",
      "MoviePy - Writing audio in 271TEMP_MPY_wvf_snd.mp4\n",
      "MoviePy - Done.\n",
      "Moviepy - Writing video behavior_data/spinning/271.mp4\n",
      "\n"
     ]
    },
    {
     "name": "stderr",
     "output_type": "stream",
     "text": [
      "                                                               \r"
     ]
    },
    {
     "name": "stdout",
     "output_type": "stream",
     "text": [
      "Moviepy - Done !\n",
      "Moviepy - video ready behavior_data/spinning/271.mp4\n",
      "['222.mp4', '236.mp4', '168.mp4', '197.mp4', '183.mp4', '182.mp4', '196.mp4', '169.mp4', '237.mp4', '223.mp4', '209.mp4', '235.mp4', '180.mp4', '194.mp4', '195.mp4', '181.mp4', '234.mp4', '208.mp4', '230.mp4', '224.mp4', '218.mp4', '185.mp4', '191.mp4', '190.mp4', '184.mp4', '219.mp4', '225.mp4', '231.mp4', '227.mp4', '179.mp4', '192.mp4', '186.mp4', '187.mp4', '193.mp4', '178.mp4', '226.mp4', '269.mp4', '241.mp4', '240.mp4', '268.mp4', '256.mp4', '257.mp4', '247.mp4', '246.mp4', '250.mp4', '251.mp4', '248.mp4', '260.mp4', '261.mp4', '249.mp4', '266.mp4', '267.mp4', '271.mp4', '259.mp4', '258.mp4', '270.mp4', '203.mp4', '217.mp4', '175.mp4', '174.mp4', '216.mp4', '202.mp4', '228.mp4', '214.mp4', '200.mp4', '176.mp4', '189.mp4', '188.mp4', '177.mp4', '163.mp4', '201.mp4', '215.mp4', '229.mp4', '211.mp4', '205.mp4', '239.mp4', '173.mp4', '172.mp4', '238.mp4', '204.mp4', '210.mp4', '206.mp4', '212.mp4', '170.mp4', '158.mp4', '171.mp4', '213.mp4', '207.mp4']\n",
      "adding file\n"
     ]
    },
    {
     "name": "stderr",
     "output_type": "stream",
     "text": [
      "t:   0%|          | 0/168 [00:00<?, ?it/s, now=None]                "
     ]
    },
    {
     "name": "stdout",
     "output_type": "stream",
     "text": [
      "Moviepy - Building video behavior_data/spinning/272.mp4.\n",
      "MoviePy - Writing audio in 272TEMP_MPY_wvf_snd.mp4\n",
      "MoviePy - Done.\n",
      "Moviepy - Writing video behavior_data/spinning/272.mp4\n",
      "\n"
     ]
    },
    {
     "name": "stderr",
     "output_type": "stream",
     "text": [
      "                                                               \r"
     ]
    },
    {
     "name": "stdout",
     "output_type": "stream",
     "text": [
      "Moviepy - Done !\n",
      "Moviepy - video ready behavior_data/spinning/272.mp4\n",
      "['222.mp4', '236.mp4', '168.mp4', '197.mp4', '183.mp4', '182.mp4', '196.mp4', '169.mp4', '237.mp4', '223.mp4', '209.mp4', '235.mp4', '180.mp4', '194.mp4', '195.mp4', '181.mp4', '234.mp4', '208.mp4', '230.mp4', '224.mp4', '218.mp4', '185.mp4', '191.mp4', '190.mp4', '184.mp4', '219.mp4', '225.mp4', '231.mp4', '227.mp4', '179.mp4', '192.mp4', '186.mp4', '187.mp4', '193.mp4', '178.mp4', '226.mp4', '269.mp4', '241.mp4', '240.mp4', '268.mp4', '256.mp4', '257.mp4', '247.mp4', '246.mp4', '250.mp4', '251.mp4', '248.mp4', '260.mp4', '261.mp4', '249.mp4', '272.mp4', '266.mp4', '267.mp4', '271.mp4', '259.mp4', '258.mp4', '270.mp4', '203.mp4', '217.mp4', '175.mp4', '174.mp4', '216.mp4', '202.mp4', '228.mp4', '214.mp4', '200.mp4', '176.mp4', '189.mp4', '188.mp4', '177.mp4', '163.mp4', '201.mp4', '215.mp4', '229.mp4', '211.mp4', '205.mp4', '239.mp4', '173.mp4', '172.mp4', '238.mp4', '204.mp4', '210.mp4', '206.mp4', '212.mp4', '170.mp4', '158.mp4', '171.mp4', '213.mp4', '207.mp4']\n",
      "adding file\n"
     ]
    },
    {
     "name": "stderr",
     "output_type": "stream",
     "text": [
      "t:   0%|          | 0/144 [00:00<?, ?it/s, now=None]    "
     ]
    },
    {
     "name": "stdout",
     "output_type": "stream",
     "text": [
      "Moviepy - Building video behavior_data/spinning/273.mp4.\n",
      "MoviePy - Writing audio in 273TEMP_MPY_wvf_snd.mp4\n",
      "MoviePy - Done.\n",
      "Moviepy - Writing video behavior_data/spinning/273.mp4\n",
      "\n"
     ]
    },
    {
     "name": "stderr",
     "output_type": "stream",
     "text": [
      "                                                               \r"
     ]
    },
    {
     "name": "stdout",
     "output_type": "stream",
     "text": [
      "Moviepy - Done !\n",
      "Moviepy - video ready behavior_data/spinning/273.mp4\n",
      "['222.mp4', '236.mp4', '168.mp4', '197.mp4', '183.mp4', '182.mp4', '196.mp4', '169.mp4', '237.mp4', '223.mp4', '209.mp4', '235.mp4', '180.mp4', '194.mp4', '195.mp4', '181.mp4', '234.mp4', '208.mp4', '230.mp4', '224.mp4', '218.mp4', '185.mp4', '191.mp4', '190.mp4', '184.mp4', '219.mp4', '225.mp4', '231.mp4', '227.mp4', '179.mp4', '192.mp4', '186.mp4', '187.mp4', '193.mp4', '178.mp4', '226.mp4', '269.mp4', '241.mp4', '240.mp4', '268.mp4', '256.mp4', '257.mp4', '247.mp4', '246.mp4', '250.mp4', '251.mp4', '248.mp4', '260.mp4', '261.mp4', '249.mp4', '272.mp4', '266.mp4', '267.mp4', '273.mp4', '271.mp4', '259.mp4', '258.mp4', '270.mp4', '203.mp4', '217.mp4', '175.mp4', '174.mp4', '216.mp4', '202.mp4', '228.mp4', '214.mp4', '200.mp4', '176.mp4', '189.mp4', '188.mp4', '177.mp4', '163.mp4', '201.mp4', '215.mp4', '229.mp4', '211.mp4', '205.mp4', '239.mp4', '173.mp4', '172.mp4', '238.mp4', '204.mp4', '210.mp4', '206.mp4', '212.mp4', '170.mp4', '158.mp4', '171.mp4', '213.mp4', '207.mp4']\n",
      "adding file\n"
     ]
    },
    {
     "name": "stderr",
     "output_type": "stream",
     "text": [
      "t:   0%|          | 0/144 [00:00<?, ?it/s, now=None]    "
     ]
    },
    {
     "name": "stdout",
     "output_type": "stream",
     "text": [
      "Moviepy - Building video behavior_data/spinning/274.mp4.\n",
      "MoviePy - Writing audio in 274TEMP_MPY_wvf_snd.mp4\n",
      "MoviePy - Done.\n",
      "Moviepy - Writing video behavior_data/spinning/274.mp4\n",
      "\n"
     ]
    },
    {
     "name": "stderr",
     "output_type": "stream",
     "text": [
      "                                                               \r"
     ]
    },
    {
     "name": "stdout",
     "output_type": "stream",
     "text": [
      "Moviepy - Done !\n",
      "Moviepy - video ready behavior_data/spinning/274.mp4\n",
      "['96.mp4', '82.mp4', '154.mp4', '140.mp4', '7.mp4', '55.mp4', '6.mp4', '141.mp4', '221.mp4', '81.mp4', '95.mp4', '143.mp4', '157.mp4', '56.mp4', '5.mp4', '156.mp4', '142.mp4', '94.mp4', '80.mp4', '146.mp4', '53.mp4', '.DS_Store', '52.mp4', '153.mp4', '147.mp4', '233.mp4', '93.mp4', '87.mp4', '50.mp4', '79.mp4', '86.mp4', '232.mp4', '255.mp4', '137.mp4', '36.mp4', '37.mp4', '136.mp4', '254.mp4', '242.mp4', '108.mp4', '134.mp4', '135.mp4', '109.mp4', '243.mp4', '253.mp4', '131.mp4', '119.mp4', '18.mp4', '25.mp4', '19.mp4', '118.mp4', '130.mp4', '252.mp4', '244.mp4', '132.mp4', '27.mp4', '26.mp4', '245.mp4', '116.mp4', '17.mp4', '16.mp4', '117.mp4', '263.mp4', '129.mp4', '101.mp4', '28.mp4', '100.mp4', '262.mp4', '39.mp4', '11.mp4', '10.mp4', '38.mp4', '265.mp4', '107.mp4', '12.mp4', '13.mp4', '106.mp4', '112.mp4', '264.mp4', '149.mp4', '161.mp4', '60.mp4', '61.mp4', '160.mp4', '148.mp4', '162.mp4', '88.mp4', '63.mp4', '62.mp4', '89.mp4', '99.mp4', '167.mp4', '98.mp4', '166.mp4', '164.mp4', '159.mp4', '165.mp4']\n",
      "adding file\n"
     ]
    },
    {
     "name": "stderr",
     "output_type": "stream",
     "text": [
      "\r",
      "chunk:   0%|          | 0/1 [00:00<?, ?it/s, now=None]"
     ]
    },
    {
     "name": "stdout",
     "output_type": "stream",
     "text": [
      "Moviepy - Building video behavior_data/control/275.mp4.\n",
      "MoviePy - Writing audio in 275TEMP_MPY_wvf_snd.mp4\n",
      "failed on 275\n",
      "['96.mp4', '82.mp4', '154.mp4', '140.mp4', '7.mp4', '55.mp4', '6.mp4', '141.mp4', '221.mp4', '81.mp4', '95.mp4', '143.mp4', '157.mp4', '56.mp4', '5.mp4', '156.mp4', '142.mp4', '94.mp4', '80.mp4', '146.mp4', '53.mp4', '.DS_Store', '52.mp4', '153.mp4', '147.mp4', '233.mp4', '93.mp4', '87.mp4', '50.mp4', '79.mp4', '86.mp4', '232.mp4', '255.mp4', '137.mp4', '36.mp4', '37.mp4', '136.mp4', '254.mp4', '242.mp4', '108.mp4', '134.mp4', '135.mp4', '109.mp4', '243.mp4', '253.mp4', '131.mp4', '119.mp4', '18.mp4', '25.mp4', '19.mp4', '118.mp4', '130.mp4', '252.mp4', '244.mp4', '132.mp4', '27.mp4', '26.mp4', '245.mp4', '116.mp4', '17.mp4', '16.mp4', '117.mp4', '263.mp4', '129.mp4', '101.mp4', '28.mp4', '100.mp4', '262.mp4', '39.mp4', '11.mp4', '10.mp4', '38.mp4', '265.mp4', '107.mp4', '12.mp4', '13.mp4', '106.mp4', '112.mp4', '264.mp4', '149.mp4', '161.mp4', '60.mp4', '61.mp4', '160.mp4', '148.mp4', '162.mp4', '88.mp4', '63.mp4', '62.mp4', '89.mp4', '99.mp4', '167.mp4', '98.mp4', '166.mp4', '164.mp4', '159.mp4', '165.mp4']\n",
      "adding file\n"
     ]
    },
    {
     "name": "stderr",
     "output_type": "stream",
     "text": [
      "chunk: 100%|██████████| 1/1 [00:00<00:00,  3.33it/s, now=None]\n",
      "chunk:   0%|          | 0/155 [00:00<?, ?it/s, now=None]\u001b[A\n",
      "chunk:  85%|████████▌ | 132/155 [00:00<00:00, 1318.29it/s, now=None]\u001b[A\n",
      "chunk: 100%|██████████| 1/1 [00:00<00:00,  2.32it/s, now=None]      \u001b[A\n",
      "t:   0%|          | 0/168 [00:00<?, ?it/s, now=None]\u001b[A"
     ]
    },
    {
     "name": "stdout",
     "output_type": "stream",
     "text": [
      "Moviepy - Building video behavior_data/control/276.mp4.\n",
      "MoviePy - Writing audio in 276TEMP_MPY_wvf_snd.mp4\n",
      "MoviePy - Done.\n",
      "Moviepy - Writing video behavior_data/control/276.mp4\n",
      "\n"
     ]
    },
    {
     "name": "stderr",
     "output_type": "stream",
     "text": [
      "\n",
      "t:  15%|█▌        | 26/168 [00:00<00:00, 259.37it/s, now=None]\u001b[A\n",
      "t:  31%|███       | 52/168 [00:00<00:00, 248.40it/s, now=None]\u001b[A\n",
      "t:  46%|████▌     | 77/168 [00:00<00:00, 168.06it/s, now=None]\u001b[A\n",
      "t:  57%|█████▋    | 96/168 [00:00<00:00, 130.80it/s, now=None]\u001b[A\n",
      "t:  67%|██████▋   | 112/168 [00:00<00:00, 127.05it/s, now=None]\u001b[A\n",
      "t:  78%|███████▊  | 131/168 [00:00<00:00, 141.41it/s, now=None]\u001b[A\n",
      "t:  88%|████████▊ | 147/168 [00:01<00:00, 130.86it/s, now=None]\u001b[A\n",
      "t:  96%|█████████▌| 161/168 [00:01<00:00, 120.55it/s, now=None]\u001b[A\n",
      "chunk: 100%|██████████| 1/1 [00:02<00:00,  2.27s/it, now=None] \u001b[A"
     ]
    },
    {
     "name": "stdout",
     "output_type": "stream",
     "text": [
      "Moviepy - Done !\n",
      "Moviepy - video ready behavior_data/control/276.mp4\n",
      "['96.mp4', '82.mp4', '154.mp4', '140.mp4', '7.mp4', '55.mp4', '6.mp4', '141.mp4', '221.mp4', '81.mp4', '95.mp4', '143.mp4', '157.mp4', '56.mp4', '5.mp4', '156.mp4', '142.mp4', '94.mp4', '80.mp4', '146.mp4', '53.mp4', '.DS_Store', '52.mp4', '153.mp4', '147.mp4', '233.mp4', '93.mp4', '87.mp4', '50.mp4', '79.mp4', '86.mp4', '232.mp4', '255.mp4', '137.mp4', '36.mp4', '37.mp4', '136.mp4', '254.mp4', '242.mp4', '108.mp4', '134.mp4', '135.mp4', '109.mp4', '243.mp4', '253.mp4', '131.mp4', '119.mp4', '18.mp4', '25.mp4', '19.mp4', '118.mp4', '130.mp4', '252.mp4', '244.mp4', '132.mp4', '27.mp4', '26.mp4', '245.mp4', '116.mp4', '17.mp4', '16.mp4', '117.mp4', '263.mp4', '129.mp4', '101.mp4', '28.mp4', '100.mp4', '262.mp4', '276.mp4', '39.mp4', '11.mp4', '10.mp4', '38.mp4', '265.mp4', '107.mp4', '12.mp4', '13.mp4', '106.mp4', '112.mp4', '264.mp4', '149.mp4', '161.mp4', '60.mp4', '61.mp4', '160.mp4', '148.mp4', '162.mp4', '88.mp4', '63.mp4', '62.mp4', '89.mp4', '99.mp4', '167.mp4', '98.mp4', '166.mp4', '164.mp4', '159.mp4', '165.mp4']\n",
      "adding file\n"
     ]
    },
    {
     "name": "stderr",
     "output_type": "stream",
     "text": [
      "chunk: 100%|██████████| 1/1 [00:02<00:00,  2.62s/it, now=None]\n",
      "chunk:   0%|          | 0/133 [00:00<?, ?it/s, now=None]\u001b[A\n",
      "chunk: 100%|██████████| 1/1 [00:02<00:00,  2.73s/it, now=None]\n",
      "t:   0%|          | 0/144 [00:00<?, ?it/s, now=None]\u001b[A"
     ]
    },
    {
     "name": "stdout",
     "output_type": "stream",
     "text": [
      "Moviepy - Building video behavior_data/control/277.mp4.\n",
      "MoviePy - Writing audio in 277TEMP_MPY_wvf_snd.mp4\n",
      "MoviePy - Done.\n",
      "Moviepy - Writing video behavior_data/control/277.mp4\n",
      "\n"
     ]
    },
    {
     "name": "stderr",
     "output_type": "stream",
     "text": [
      "\n",
      "t:  19%|█▉        | 27/144 [00:00<00:00, 268.50it/s, now=None]\u001b[A\n",
      "t:  38%|███▊      | 54/144 [00:00<00:00, 250.84it/s, now=None]\u001b[A\n",
      "t:  56%|█████▌    | 80/144 [00:00<00:00, 156.69it/s, now=None]\u001b[A\n",
      "t:  69%|██████▉   | 99/144 [00:00<00:00, 137.22it/s, now=None]\u001b[A\n",
      "t:  80%|███████▉  | 115/144 [00:00<00:00, 140.05it/s, now=None]\u001b[A\n",
      "t:  91%|█████████ | 131/144 [00:00<00:00, 134.17it/s, now=None]\u001b[A\n",
      "chunk: 100%|██████████| 1/1 [00:04<00:00,  4.24s/it, now=None] \u001b[A"
     ]
    },
    {
     "name": "stdout",
     "output_type": "stream",
     "text": [
      "Moviepy - Done !\n",
      "Moviepy - video ready behavior_data/control/277.mp4\n",
      "staring the 37th file\n",
      "http://www.youtube.com/watch?v=uWgI1w2fQhs\n",
      "This is url:  http://www.youtube.com/watch?v=uWgI1w2fQhs\n"
     ]
    },
    {
     "name": "stderr",
     "output_type": "stream",
     "text": [
      "chunk: 100%|██████████| 1/1 [00:05<00:00,  5.87s/it, now=None]\n",
      "chunk:   0%|          | 0/133 [00:00<?, ?it/s, now=None]\u001b[A"
     ]
    },
    {
     "name": "stdout",
     "output_type": "stream",
     "text": [
      "['222.mp4', '236.mp4', '168.mp4', '197.mp4', '183.mp4', '182.mp4', '196.mp4', '169.mp4', '237.mp4', '223.mp4', '209.mp4', '235.mp4', '180.mp4', '194.mp4', '195.mp4', '181.mp4', '234.mp4', '208.mp4', '230.mp4', '224.mp4', '218.mp4', '185.mp4', '191.mp4', '190.mp4', '184.mp4', '219.mp4', '225.mp4', '231.mp4', '227.mp4', '179.mp4', '192.mp4', '186.mp4', '187.mp4', '193.mp4', '178.mp4', '226.mp4', '269.mp4', '241.mp4', '240.mp4', '268.mp4', '256.mp4', '257.mp4', '247.mp4', '246.mp4', '250.mp4', '251.mp4', '248.mp4', '260.mp4', '274.mp4', '261.mp4', '249.mp4', '272.mp4', '266.mp4', '267.mp4', '273.mp4', '271.mp4', '259.mp4', '258.mp4', '270.mp4', '203.mp4', '217.mp4', '175.mp4', '174.mp4', '216.mp4', '202.mp4', '228.mp4', '214.mp4', '200.mp4', '176.mp4', '189.mp4', '188.mp4', '177.mp4', '163.mp4', '201.mp4', '215.mp4', '229.mp4', '211.mp4', '205.mp4', '239.mp4', '173.mp4', '172.mp4', '238.mp4', '204.mp4', '210.mp4', '206.mp4', '212.mp4', '170.mp4', '158.mp4', '171.mp4', '213.mp4', '207.mp4']\n",
      "adding file\n",
      "Moviepy - Building video behavior_data/spinning/278.mp4.\n",
      "MoviePy - Writing audio in 278TEMP_MPY_wvf_snd.mp4\n"
     ]
    },
    {
     "name": "stderr",
     "output_type": "stream",
     "text": [
      "\n",
      "chunk: 100%|██████████| 1/1 [00:05<00:00,  5.96s/it, now=None]\n",
      "t:   0%|          | 0/180 [00:00<?, ?it/s, now=None]\u001b[A\n",
      "t:  34%|███▍      | 62/180 [00:00<00:00, 609.15it/s, now=None]\u001b[A"
     ]
    },
    {
     "name": "stdout",
     "output_type": "stream",
     "text": [
      "MoviePy - Done.\n",
      "Moviepy - Writing video behavior_data/spinning/278.mp4\n",
      "\n"
     ]
    },
    {
     "name": "stderr",
     "output_type": "stream",
     "text": [
      "\n",
      "t:  68%|██████▊   | 123/180 [00:00<00:00, 520.39it/s, now=None]\u001b[A\n",
      "t:  98%|█████████▊| 176/180 [00:00<00:00, 506.68it/s, now=None]\u001b[A\n",
      "chunk: 100%|██████████| 1/1 [00:06<00:00,  6.65s/it, now=None] \u001b[A"
     ]
    },
    {
     "name": "stdout",
     "output_type": "stream",
     "text": [
      "Moviepy - Done !\n",
      "Moviepy - video ready behavior_data/spinning/278.mp4\n",
      "['222.mp4', '236.mp4', '168.mp4', '197.mp4', '183.mp4', '182.mp4', '196.mp4', '169.mp4', '237.mp4', '223.mp4', '209.mp4', '235.mp4', '180.mp4', '194.mp4', '195.mp4', '181.mp4', '234.mp4', '208.mp4', '230.mp4', '224.mp4', '218.mp4', '185.mp4', '191.mp4', '190.mp4', '184.mp4', '219.mp4', '225.mp4', '231.mp4', '227.mp4', '179.mp4', '192.mp4', '186.mp4', '187.mp4', '193.mp4', '178.mp4', '226.mp4', '269.mp4', '241.mp4', '240.mp4', '268.mp4', '256.mp4', '257.mp4', '247.mp4', '246.mp4', '250.mp4', '278.mp4', '251.mp4', '248.mp4', '260.mp4', '274.mp4', '261.mp4', '249.mp4', '272.mp4', '266.mp4', '267.mp4', '273.mp4', '271.mp4', '259.mp4', '258.mp4', '270.mp4', '203.mp4', '217.mp4', '175.mp4', '174.mp4', '216.mp4', '202.mp4', '228.mp4', '214.mp4', '200.mp4', '176.mp4', '189.mp4', '188.mp4', '177.mp4', '163.mp4', '201.mp4', '215.mp4', '229.mp4', '211.mp4', '205.mp4', '239.mp4', '173.mp4', '172.mp4', '238.mp4', '204.mp4', '210.mp4', '206.mp4', '212.mp4', '170.mp4', '158.mp4', '171.mp4', '213.mp4', '207.mp4']\n",
      "adding file\n",
      "Moviepy - Building video behavior_data/spinning/279.mp4.\n"
     ]
    },
    {
     "name": "stderr",
     "output_type": "stream",
     "text": [
      "chunk: 100%|██████████| 1/1 [00:06<00:00,  6.65s/it, now=None]\n",
      "chunk:   0%|          | 0/133 [00:00<?, ?it/s, now=None]\u001b[A\n",
      "chunk: 100%|██████████| 1/1 [00:06<00:00,  6.74s/it, now=None]\n",
      "t:   0%|          | 0/180 [00:00<?, ?it/s, now=None]\u001b[A\n",
      "t:  33%|███▎      | 60/180 [00:00<00:00, 598.65it/s, now=None]\u001b[A"
     ]
    },
    {
     "name": "stdout",
     "output_type": "stream",
     "text": [
      "MoviePy - Writing audio in 279TEMP_MPY_wvf_snd.mp4\n",
      "MoviePy - Done.\n",
      "Moviepy - Writing video behavior_data/spinning/279.mp4\n",
      "\n"
     ]
    },
    {
     "name": "stderr",
     "output_type": "stream",
     "text": [
      "\n",
      "t:  67%|██████▋   | 120/180 [00:00<00:00, 489.19it/s, now=None]\u001b[A\n",
      "t:  95%|█████████▌| 171/180 [00:00<00:00, 491.33it/s, now=None]\u001b[A\n",
      "                                                               \u001b[A\r"
     ]
    },
    {
     "name": "stdout",
     "output_type": "stream",
     "text": [
      "Moviepy - Done !\n",
      "Moviepy - video ready behavior_data/spinning/279.mp4\n",
      "['222.mp4', '236.mp4', '168.mp4', '197.mp4', '183.mp4', '182.mp4', '196.mp4', '169.mp4', '237.mp4', '223.mp4', '209.mp4', '235.mp4', '180.mp4', '194.mp4', '195.mp4', '181.mp4', '234.mp4', '208.mp4', '230.mp4', '224.mp4', '218.mp4', '185.mp4', '191.mp4', '190.mp4', '184.mp4', '219.mp4', '225.mp4', '231.mp4', '227.mp4', '179.mp4', '192.mp4', '186.mp4', '187.mp4', '193.mp4', '178.mp4', '226.mp4', '269.mp4', '241.mp4', '240.mp4', '268.mp4', '256.mp4', '257.mp4', '247.mp4', '246.mp4', '250.mp4', '278.mp4', '279.mp4', '251.mp4', '248.mp4', '260.mp4', '274.mp4', '261.mp4', '249.mp4', '272.mp4', '266.mp4', '267.mp4', '273.mp4', '271.mp4', '259.mp4', '258.mp4', '270.mp4', '203.mp4', '217.mp4', '175.mp4', '174.mp4', '216.mp4', '202.mp4', '228.mp4', '214.mp4', '200.mp4', '176.mp4', '189.mp4', '188.mp4', '177.mp4', '163.mp4', '201.mp4', '215.mp4', '229.mp4', '211.mp4', '205.mp4', '239.mp4', '173.mp4', '172.mp4', '238.mp4', '204.mp4', '210.mp4', '206.mp4', '212.mp4', '170.mp4', '158.mp4', '171.mp4', '213.mp4', '207.mp4']\n",
      "adding file\n",
      "Moviepy - Building video behavior_data/spinning/280.mp4.\n"
     ]
    },
    {
     "name": "stderr",
     "output_type": "stream",
     "text": [
      "chunk: 100%|██████████| 1/1 [00:07<00:00,  7.45s/it, now=None]\n",
      "chunk:   0%|          | 0/111 [00:00<?, ?it/s, now=None]\u001b[A\n",
      "chunk: 100%|██████████| 1/1 [00:07<00:00,  7.54s/it, now=None]\n",
      "t:   0%|          | 0/150 [00:00<?, ?it/s, now=None]\u001b[A\n",
      "t:  41%|████▏     | 62/150 [00:00<00:00, 617.84it/s, now=None]\u001b[A"
     ]
    },
    {
     "name": "stdout",
     "output_type": "stream",
     "text": [
      "MoviePy - Writing audio in 280TEMP_MPY_wvf_snd.mp4\n",
      "MoviePy - Done.\n",
      "Moviepy - Writing video behavior_data/spinning/280.mp4\n",
      "\n"
     ]
    },
    {
     "name": "stderr",
     "output_type": "stream",
     "text": [
      "\n",
      "t:  83%|████████▎ | 124/150 [00:00<00:00, 544.77it/s, now=None]\u001b[A\n",
      "chunk: 100%|██████████| 1/1 [00:07<00:00,  7.95s/it, now=None] \u001b[A"
     ]
    },
    {
     "name": "stdout",
     "output_type": "stream",
     "text": [
      "Moviepy - Done !\n",
      "Moviepy - video ready behavior_data/spinning/280.mp4\n",
      "['222.mp4', '236.mp4', '168.mp4', '197.mp4', '183.mp4', '182.mp4', '196.mp4', '169.mp4', '237.mp4', '223.mp4', '209.mp4', '235.mp4', '180.mp4', '194.mp4', '195.mp4', '181.mp4', '234.mp4', '208.mp4', '230.mp4', '224.mp4', '218.mp4', '185.mp4', '191.mp4', '190.mp4', '184.mp4', '219.mp4', '225.mp4', '231.mp4', '227.mp4', '179.mp4', '192.mp4', '186.mp4', '187.mp4', '193.mp4', '178.mp4', '226.mp4', '269.mp4', '241.mp4', '240.mp4', '268.mp4', '256.mp4', '280.mp4', '257.mp4', '247.mp4', '246.mp4', '250.mp4', '278.mp4', '279.mp4', '251.mp4', '248.mp4', '260.mp4', '274.mp4', '261.mp4', '249.mp4', '272.mp4', '266.mp4', '267.mp4', '273.mp4', '271.mp4', '259.mp4', '258.mp4', '270.mp4', '203.mp4', '217.mp4', '175.mp4', '174.mp4', '216.mp4', '202.mp4', '228.mp4', '214.mp4', '200.mp4', '176.mp4', '189.mp4', '188.mp4', '177.mp4', '163.mp4', '201.mp4', '215.mp4', '229.mp4', '211.mp4', '205.mp4', '239.mp4', '173.mp4', '172.mp4', '238.mp4', '204.mp4', '210.mp4', '206.mp4', '212.mp4', '170.mp4', '158.mp4', '171.mp4', '213.mp4', '207.mp4']\n",
      "adding file\n"
     ]
    },
    {
     "name": "stderr",
     "output_type": "stream",
     "text": [
      "chunk: 100%|██████████| 1/1 [00:08<00:00,  8.16s/it, now=None]\n",
      "chunk:   0%|          | 0/111 [00:00<?, ?it/s, now=None]\u001b[A\n",
      "chunk: 100%|██████████| 1/1 [00:08<00:00,  8.25s/it, now=None]\n",
      "t:   0%|          | 0/150 [00:00<?, ?it/s, now=None]\u001b[A"
     ]
    },
    {
     "name": "stdout",
     "output_type": "stream",
     "text": [
      "Moviepy - Building video behavior_data/spinning/281.mp4.\n",
      "MoviePy - Writing audio in 281TEMP_MPY_wvf_snd.mp4\n",
      "MoviePy - Done.\n",
      "Moviepy - Writing video behavior_data/spinning/281.mp4\n",
      "\n"
     ]
    },
    {
     "name": "stderr",
     "output_type": "stream",
     "text": [
      "\n",
      "t:  41%|████      | 61/150 [00:00<00:00, 603.18it/s, now=None]\u001b[A\n",
      "t:  81%|████████▏ | 122/150 [00:00<00:00, 500.01it/s, now=None]\u001b[A\n",
      "chunk: 100%|██████████| 1/1 [00:08<00:00,  8.84s/it, now=None] \u001b[A\n",
      "chunk:   0%|          | 0/45 [00:00<?, ?it/s, now=None]\u001b[A"
     ]
    },
    {
     "name": "stdout",
     "output_type": "stream",
     "text": [
      "Moviepy - Done !\n",
      "Moviepy - video ready behavior_data/spinning/281.mp4\n",
      "['96.mp4', '82.mp4', '154.mp4', '140.mp4', '7.mp4', '55.mp4', '6.mp4', '141.mp4', '221.mp4', '81.mp4', '95.mp4', '143.mp4', '157.mp4', '56.mp4', '5.mp4', '156.mp4', '142.mp4', '94.mp4', '80.mp4', '146.mp4', '53.mp4', '.DS_Store', '52.mp4', '153.mp4', '147.mp4', '233.mp4', '93.mp4', '87.mp4', '50.mp4', '79.mp4', '86.mp4', '232.mp4', '255.mp4', '137.mp4', '36.mp4', '37.mp4', '136.mp4', '254.mp4', '242.mp4', '108.mp4', '134.mp4', '135.mp4', '109.mp4', '243.mp4', '253.mp4', '131.mp4', '119.mp4', '18.mp4', '25.mp4', '19.mp4', '118.mp4', '130.mp4', '252.mp4', '244.mp4', '132.mp4', '27.mp4', '26.mp4', '245.mp4', '116.mp4', '17.mp4', '16.mp4', '117.mp4', '277.mp4', '263.mp4', '129.mp4', '101.mp4', '28.mp4', '100.mp4', '262.mp4', '276.mp4', '39.mp4', '11.mp4', '10.mp4', '38.mp4', '265.mp4', '107.mp4', '12.mp4', '13.mp4', '106.mp4', '112.mp4', '264.mp4', '149.mp4', '161.mp4', '60.mp4', '61.mp4', '160.mp4', '148.mp4', '162.mp4', '88.mp4', '63.mp4', '62.mp4', '89.mp4', '99.mp4', '167.mp4', '98.mp4', '166.mp4', '164.mp4', '159.mp4', '165.mp4']\n",
      "adding file\n",
      "Moviepy - Building video behavior_data/control/282.mp4.\n",
      "MoviePy - Writing audio in 282TEMP_MPY_wvf_snd.mp4\n"
     ]
    },
    {
     "name": "stderr",
     "output_type": "stream",
     "text": [
      "\n",
      "chunk: 100%|██████████| 1/1 [00:08<00:00,  8.89s/it, now=None]\n",
      "t:   0%|          | 0/60 [00:00<?, ?it/s, now=None]\u001b[A\n",
      "t:  97%|█████████▋| 58/60 [00:00<00:00, 570.63it/s, now=None]\u001b[A\n",
      "                                                             \u001b[A"
     ]
    },
    {
     "name": "stdout",
     "output_type": "stream",
     "text": [
      "MoviePy - Done.\n",
      "Moviepy - Writing video behavior_data/control/282.mp4\n",
      "\n"
     ]
    },
    {
     "name": "stderr",
     "output_type": "stream",
     "text": [
      "chunk: 100%|██████████| 1/1 [00:09<00:00,  9.15s/it, now=None]"
     ]
    },
    {
     "name": "stdout",
     "output_type": "stream",
     "text": [
      "Moviepy - Done !\n",
      "Moviepy - video ready behavior_data/control/282.mp4\n",
      "['96.mp4', '82.mp4', '154.mp4', '140.mp4', '7.mp4', '55.mp4', '6.mp4', '141.mp4', '221.mp4', '81.mp4', '95.mp4', '143.mp4', '157.mp4', '56.mp4', '5.mp4', '156.mp4', '142.mp4', '94.mp4', '80.mp4', '146.mp4', '53.mp4', '.DS_Store', '52.mp4', '153.mp4', '147.mp4', '233.mp4', '93.mp4', '87.mp4', '50.mp4', '79.mp4', '86.mp4', '232.mp4', '255.mp4', '282.mp4', '137.mp4', '36.mp4', '37.mp4', '136.mp4', '254.mp4', '242.mp4', '108.mp4', '134.mp4', '135.mp4', '109.mp4', '243.mp4', '253.mp4', '131.mp4', '119.mp4', '18.mp4', '25.mp4', '19.mp4', '118.mp4', '130.mp4', '252.mp4', '244.mp4', '132.mp4', '27.mp4', '26.mp4', '245.mp4', '116.mp4', '17.mp4', '16.mp4', '117.mp4', '277.mp4', '263.mp4', '129.mp4', '101.mp4', '28.mp4', '100.mp4', '262.mp4', '276.mp4', '39.mp4', '11.mp4', '10.mp4', '38.mp4', '265.mp4', '107.mp4', '12.mp4', '13.mp4', '106.mp4', '112.mp4', '264.mp4', '149.mp4', '161.mp4', '60.mp4', '61.mp4', '160.mp4', '148.mp4', '162.mp4', '88.mp4', '63.mp4', '62.mp4', '89.mp4', '99.mp4', '167.mp4', '98.mp4', '166.mp4', '164.mp4', '159.mp4', '165.mp4']\n",
      "adding file\n"
     ]
    },
    {
     "name": "stderr",
     "output_type": "stream",
     "text": [
      "chunk: 100%|██████████| 1/1 [00:09<00:00,  9.36s/it, now=None]\n",
      "chunk:   0%|          | 0/133 [00:00<?, ?it/s, now=None]\u001b[A\n",
      "chunk: 100%|██████████| 1/1 [00:09<00:00,  9.46s/it, now=None]\n",
      "t:   0%|          | 0/180 [00:00<?, ?it/s, now=None]\u001b[A"
     ]
    },
    {
     "name": "stdout",
     "output_type": "stream",
     "text": [
      "Moviepy - Building video behavior_data/control/283.mp4.\n",
      "MoviePy - Writing audio in 283TEMP_MPY_wvf_snd.mp4\n",
      "MoviePy - Done.\n",
      "Moviepy - Writing video behavior_data/control/283.mp4\n",
      "\n"
     ]
    },
    {
     "name": "stderr",
     "output_type": "stream",
     "text": [
      "\n",
      "t:  33%|███▎      | 59/180 [00:00<00:00, 586.58it/s, now=None]\u001b[A\n",
      "t:  66%|██████▌   | 118/180 [00:00<00:00, 529.97it/s, now=None]\u001b[A\n",
      "t:  96%|█████████▌| 172/180 [00:00<00:00, 509.81it/s, now=None]\u001b[A\n",
      "chunk: 100%|██████████| 1/1 [00:10<00:00, 10.12s/it, now=None] \u001b[A\n",
      "chunk:   0%|          | 0/133 [00:00<?, ?it/s, now=None]\u001b[A"
     ]
    },
    {
     "name": "stdout",
     "output_type": "stream",
     "text": [
      "Moviepy - Done !\n",
      "Moviepy - video ready behavior_data/control/283.mp4\n",
      "['96.mp4', '82.mp4', '154.mp4', '140.mp4', '7.mp4', '55.mp4', '6.mp4', '141.mp4', '221.mp4', '81.mp4', '95.mp4', '143.mp4', '157.mp4', '56.mp4', '5.mp4', '156.mp4', '142.mp4', '94.mp4', '80.mp4', '146.mp4', '53.mp4', '.DS_Store', '52.mp4', '153.mp4', '147.mp4', '233.mp4', '93.mp4', '87.mp4', '50.mp4', '79.mp4', '86.mp4', '232.mp4', '255.mp4', '282.mp4', '137.mp4', '36.mp4', '37.mp4', '136.mp4', '283.mp4', '254.mp4', '242.mp4', '108.mp4', '134.mp4', '135.mp4', '109.mp4', '243.mp4', '253.mp4', '131.mp4', '119.mp4', '18.mp4', '25.mp4', '19.mp4', '118.mp4', '130.mp4', '252.mp4', '244.mp4', '132.mp4', '27.mp4', '26.mp4', '245.mp4', '116.mp4', '17.mp4', '16.mp4', '117.mp4', '277.mp4', '263.mp4', '129.mp4', '101.mp4', '28.mp4', '100.mp4', '262.mp4', '276.mp4', '39.mp4', '11.mp4', '10.mp4', '38.mp4', '265.mp4', '107.mp4', '12.mp4', '13.mp4', '106.mp4', '112.mp4', '264.mp4', '149.mp4', '161.mp4', '60.mp4', '61.mp4', '160.mp4', '148.mp4', '162.mp4', '88.mp4', '63.mp4', '62.mp4', '89.mp4', '99.mp4', '167.mp4', '98.mp4', '166.mp4', '164.mp4', '159.mp4', '165.mp4']\n",
      "adding file\n",
      "Moviepy - Building video behavior_data/control/284.mp4.\n",
      "MoviePy - Writing audio in 284TEMP_MPY_wvf_snd.mp4\n"
     ]
    },
    {
     "name": "stderr",
     "output_type": "stream",
     "text": [
      "\n",
      "chunk: 100%|██████████| 1/1 [00:10<00:00, 10.23s/it, now=None]\n",
      "t:   0%|          | 0/180 [00:00<?, ?it/s, now=None]\u001b[A\n",
      "t:  37%|███▋      | 66/180 [00:00<00:00, 655.23it/s, now=None]\u001b[A"
     ]
    },
    {
     "name": "stdout",
     "output_type": "stream",
     "text": [
      "MoviePy - Done.\n",
      "Moviepy - Writing video behavior_data/control/284.mp4\n",
      "\n"
     ]
    },
    {
     "name": "stderr",
     "output_type": "stream",
     "text": [
      "\n",
      "t:  73%|███████▎  | 132/180 [00:00<00:00, 553.38it/s, now=None]\u001b[A\n",
      "chunk: 100%|██████████| 1/1 [00:10<00:00, 10.69s/it, now=None] \u001b[A"
     ]
    },
    {
     "name": "stdout",
     "output_type": "stream",
     "text": [
      "Moviepy - Done !\n",
      "Moviepy - video ready behavior_data/control/284.mp4\n",
      "staring the 38th file\n",
      "http://www.youtube.com/watch?v=VAMZwnfAHyY\n",
      "This is url:  http://www.youtube.com/watch?v=VAMZwnfAHyY\n",
      "['222.mp4', '236.mp4', '168.mp4', '197.mp4', '183.mp4', '182.mp4', '196.mp4', '169.mp4', '237.mp4', '223.mp4', '209.mp4', '235.mp4', '180.mp4', '194.mp4', '195.mp4', '181.mp4', '234.mp4', '208.mp4', '230.mp4', '224.mp4', '218.mp4', '185.mp4', '191.mp4', '190.mp4', '184.mp4', '219.mp4', '225.mp4', '231.mp4', '227.mp4', '179.mp4', '192.mp4', '186.mp4', '187.mp4', '193.mp4', '178.mp4', '226.mp4', '269.mp4', '241.mp4', '240.mp4', '268.mp4', '256.mp4', '281.mp4', '280.mp4', '257.mp4', '247.mp4', '246.mp4', '250.mp4', '278.mp4', '279.mp4', '251.mp4', '248.mp4', '260.mp4', '274.mp4', '261.mp4', '249.mp4', '272.mp4', '266.mp4', '267.mp4', '273.mp4', '271.mp4', '259.mp4', '258.mp4', '270.mp4', '203.mp4', '217.mp4', '175.mp4', '174.mp4', '216.mp4', '202.mp4', '228.mp4', '214.mp4', '200.mp4', '176.mp4', '189.mp4', '188.mp4', '177.mp4', '163.mp4', '201.mp4', '215.mp4', '229.mp4', '211.mp4', '205.mp4', '239.mp4', '173.mp4', '172.mp4', '238.mp4', '204.mp4', '210.mp4', '206.mp4', '212.mp4', '170.mp4', '158.mp4', '171.mp4', '213.mp4', '207.mp4']\n",
      "adding file\n"
     ]
    },
    {
     "name": "stderr",
     "output_type": "stream",
     "text": [
      "chunk: 100%|██████████| 1/1 [00:13<00:00, 13.54s/it, now=None]\n",
      "chunk:   0%|          | 0/111 [00:00<?, ?it/s, now=None]\u001b[A\n",
      "t:  33%|███▎      | 25/75 [00:00<00:00, 243.19it/s, now=None] "
     ]
    },
    {
     "name": "stdout",
     "output_type": "stream",
     "text": [
      "Moviepy - Building video behavior_data/spinning/285.mp4.\n",
      "MoviePy - Writing audio in 285TEMP_MPY_wvf_snd.mp4\n",
      "MoviePy - Done.\n",
      "Moviepy - Writing video behavior_data/spinning/285.mp4\n",
      "\n"
     ]
    },
    {
     "name": "stderr",
     "output_type": "stream",
     "text": [
      "                                                             \r"
     ]
    },
    {
     "name": "stdout",
     "output_type": "stream",
     "text": [
      "Moviepy - Done !\n",
      "Moviepy - video ready behavior_data/spinning/285.mp4\n",
      "['222.mp4', '236.mp4', '168.mp4', '197.mp4', '183.mp4', '182.mp4', '196.mp4', '169.mp4', '237.mp4', '223.mp4', '209.mp4', '235.mp4', '180.mp4', '194.mp4', '195.mp4', '181.mp4', '234.mp4', '208.mp4', '230.mp4', '224.mp4', '218.mp4', '185.mp4', '191.mp4', '190.mp4', '184.mp4', '219.mp4', '225.mp4', '231.mp4', '227.mp4', '179.mp4', '192.mp4', '186.mp4', '187.mp4', '193.mp4', '178.mp4', '226.mp4', '269.mp4', '241.mp4', '240.mp4', '268.mp4', '256.mp4', '281.mp4', '280.mp4', '257.mp4', '247.mp4', '285.mp4', '246.mp4', '250.mp4', '278.mp4', '279.mp4', '251.mp4', '248.mp4', '260.mp4', '274.mp4', '261.mp4', '249.mp4', '272.mp4', '266.mp4', '267.mp4', '273.mp4', '271.mp4', '259.mp4', '258.mp4', '270.mp4', '203.mp4', '217.mp4', '175.mp4', '174.mp4', '216.mp4', '202.mp4', '228.mp4', '214.mp4', '200.mp4', '176.mp4', '189.mp4', '188.mp4', '177.mp4', '163.mp4', '201.mp4', '215.mp4', '229.mp4', '211.mp4', '205.mp4', '239.mp4', '173.mp4', '172.mp4', '238.mp4', '204.mp4', '210.mp4', '206.mp4', '212.mp4', '170.mp4', '158.mp4', '171.mp4', '213.mp4', '207.mp4']\n",
      "adding file\n"
     ]
    },
    {
     "name": "stderr",
     "output_type": "stream",
     "text": [
      "t:  35%|███▍      | 26/75 [00:00<00:00, 257.66it/s, now=None]"
     ]
    },
    {
     "name": "stdout",
     "output_type": "stream",
     "text": [
      "Moviepy - Building video behavior_data/spinning/286.mp4.\n",
      "MoviePy - Writing audio in 286TEMP_MPY_wvf_snd.mp4\n",
      "MoviePy - Done.\n",
      "Moviepy - Writing video behavior_data/spinning/286.mp4\n",
      "\n"
     ]
    },
    {
     "name": "stderr",
     "output_type": "stream",
     "text": [
      "                                                             \r"
     ]
    },
    {
     "name": "stdout",
     "output_type": "stream",
     "text": [
      "Moviepy - Done !\n",
      "Moviepy - video ready behavior_data/spinning/286.mp4\n",
      "['222.mp4', '236.mp4', '168.mp4', '197.mp4', '183.mp4', '182.mp4', '196.mp4', '169.mp4', '237.mp4', '223.mp4', '209.mp4', '235.mp4', '180.mp4', '194.mp4', '195.mp4', '181.mp4', '234.mp4', '208.mp4', '230.mp4', '224.mp4', '218.mp4', '185.mp4', '191.mp4', '190.mp4', '184.mp4', '219.mp4', '225.mp4', '231.mp4', '227.mp4', '179.mp4', '192.mp4', '186.mp4', '187.mp4', '193.mp4', '178.mp4', '226.mp4', '269.mp4', '241.mp4', '240.mp4', '268.mp4', '256.mp4', '281.mp4', '280.mp4', '257.mp4', '247.mp4', '285.mp4', '246.mp4', '250.mp4', '278.mp4', '286.mp4', '279.mp4', '251.mp4', '248.mp4', '260.mp4', '274.mp4', '261.mp4', '249.mp4', '272.mp4', '266.mp4', '267.mp4', '273.mp4', '271.mp4', '259.mp4', '258.mp4', '270.mp4', '203.mp4', '217.mp4', '175.mp4', '174.mp4', '216.mp4', '202.mp4', '228.mp4', '214.mp4', '200.mp4', '176.mp4', '189.mp4', '188.mp4', '177.mp4', '163.mp4', '201.mp4', '215.mp4', '229.mp4', '211.mp4', '205.mp4', '239.mp4', '173.mp4', '172.mp4', '238.mp4', '204.mp4', '210.mp4', '206.mp4', '212.mp4', '170.mp4', '158.mp4', '171.mp4', '213.mp4', '207.mp4']\n",
      "adding file\n"
     ]
    },
    {
     "name": "stderr",
     "output_type": "stream",
     "text": [
      "t:  33%|███▎      | 25/75 [00:00<00:00, 247.07it/s, now=None]"
     ]
    },
    {
     "name": "stdout",
     "output_type": "stream",
     "text": [
      "Moviepy - Building video behavior_data/spinning/287.mp4.\n",
      "MoviePy - Writing audio in 287TEMP_MPY_wvf_snd.mp4\n",
      "MoviePy - Done.\n",
      "Moviepy - Writing video behavior_data/spinning/287.mp4\n",
      "\n"
     ]
    },
    {
     "name": "stderr",
     "output_type": "stream",
     "text": [
      "                                                             \r"
     ]
    },
    {
     "name": "stdout",
     "output_type": "stream",
     "text": [
      "Moviepy - Done !\n",
      "Moviepy - video ready behavior_data/spinning/287.mp4\n",
      "['96.mp4', '82.mp4', '154.mp4', '140.mp4', '7.mp4', '55.mp4', '6.mp4', '141.mp4', '221.mp4', '81.mp4', '95.mp4', '143.mp4', '157.mp4', '56.mp4', '5.mp4', '156.mp4', '142.mp4', '94.mp4', '80.mp4', '146.mp4', '53.mp4', '.DS_Store', '52.mp4', '153.mp4', '147.mp4', '233.mp4', '93.mp4', '87.mp4', '50.mp4', '79.mp4', '86.mp4', '232.mp4', '255.mp4', '282.mp4', '137.mp4', '36.mp4', '37.mp4', '136.mp4', '283.mp4', '254.mp4', '242.mp4', '108.mp4', '134.mp4', '135.mp4', '109.mp4', '243.mp4', '253.mp4', '284.mp4', '131.mp4', '119.mp4', '18.mp4', '25.mp4', '19.mp4', '118.mp4', '130.mp4', '252.mp4', '244.mp4', '132.mp4', '27.mp4', '26.mp4', '245.mp4', '116.mp4', '17.mp4', '16.mp4', '117.mp4', '277.mp4', '263.mp4', '129.mp4', '101.mp4', '28.mp4', '100.mp4', '262.mp4', '276.mp4', '39.mp4', '11.mp4', '10.mp4', '38.mp4', '265.mp4', '107.mp4', '12.mp4', '13.mp4', '106.mp4', '112.mp4', '264.mp4', '149.mp4', '161.mp4', '60.mp4', '61.mp4', '160.mp4', '148.mp4', '162.mp4', '88.mp4', '63.mp4', '62.mp4', '89.mp4', '99.mp4', '167.mp4', '98.mp4', '166.mp4', '164.mp4', '159.mp4', '165.mp4']\n",
      "adding file\n",
      "Moviepy - Building video behavior_data/control/288.mp4.\n",
      "MoviePy - Writing audio in 288TEMP_MPY_wvf_snd.mp4\n"
     ]
    },
    {
     "name": "stderr",
     "output_type": "stream",
     "text": [
      "                                                             \r"
     ]
    },
    {
     "name": "stdout",
     "output_type": "stream",
     "text": [
      "MoviePy - Done.\n",
      "Moviepy - Writing video behavior_data/control/288.mp4\n",
      "\n",
      "Moviepy - Done !\n",
      "Moviepy - video ready behavior_data/control/288.mp4\n",
      "['96.mp4', '82.mp4', '154.mp4', '140.mp4', '7.mp4', '55.mp4', '6.mp4', '141.mp4', '221.mp4', '81.mp4', '95.mp4', '143.mp4', '157.mp4', '56.mp4', '5.mp4', '156.mp4', '142.mp4', '94.mp4', '80.mp4', '146.mp4', '53.mp4', '.DS_Store', '52.mp4', '153.mp4', '147.mp4', '233.mp4', '93.mp4', '87.mp4', '50.mp4', '79.mp4', '86.mp4', '232.mp4', '255.mp4', '282.mp4', '137.mp4', '36.mp4', '37.mp4', '136.mp4', '283.mp4', '254.mp4', '242.mp4', '108.mp4', '134.mp4', '135.mp4', '109.mp4', '243.mp4', '253.mp4', '284.mp4', '131.mp4', '119.mp4', '18.mp4', '25.mp4', '19.mp4', '118.mp4', '130.mp4', '252.mp4', '244.mp4', '132.mp4', '27.mp4', '26.mp4', '245.mp4', '116.mp4', '17.mp4', '16.mp4', '117.mp4', '277.mp4', '263.mp4', '288.mp4', '129.mp4', '101.mp4', '28.mp4', '100.mp4', '262.mp4', '276.mp4', '39.mp4', '11.mp4', '10.mp4', '38.mp4', '265.mp4', '107.mp4', '12.mp4', '13.mp4', '106.mp4', '112.mp4', '264.mp4', '149.mp4', '161.mp4', '60.mp4', '61.mp4', '160.mp4', '148.mp4', '162.mp4', '88.mp4', '63.mp4', '62.mp4', '89.mp4', '99.mp4', '167.mp4', '98.mp4', '166.mp4', '164.mp4', '159.mp4', '165.mp4']\n",
      "adding file\n"
     ]
    },
    {
     "name": "stderr",
     "output_type": "stream",
     "text": [
      "t:  31%|███       | 28/90 [00:00<00:00, 275.81it/s, now=None]"
     ]
    },
    {
     "name": "stdout",
     "output_type": "stream",
     "text": [
      "Moviepy - Building video behavior_data/control/289.mp4.\n",
      "MoviePy - Writing audio in 289TEMP_MPY_wvf_snd.mp4\n",
      "MoviePy - Done.\n",
      "Moviepy - Writing video behavior_data/control/289.mp4\n",
      "\n"
     ]
    },
    {
     "name": "stderr",
     "output_type": "stream",
     "text": [
      "                                                             \r"
     ]
    },
    {
     "name": "stdout",
     "output_type": "stream",
     "text": [
      "Moviepy - Done !\n",
      "Moviepy - video ready behavior_data/control/289.mp4\n",
      "['96.mp4', '82.mp4', '154.mp4', '140.mp4', '7.mp4', '55.mp4', '6.mp4', '141.mp4', '221.mp4', '81.mp4', '95.mp4', '143.mp4', '157.mp4', '56.mp4', '5.mp4', '156.mp4', '142.mp4', '94.mp4', '80.mp4', '146.mp4', '53.mp4', '.DS_Store', '52.mp4', '153.mp4', '147.mp4', '233.mp4', '93.mp4', '87.mp4', '50.mp4', '79.mp4', '86.mp4', '232.mp4', '255.mp4', '282.mp4', '137.mp4', '36.mp4', '37.mp4', '136.mp4', '283.mp4', '254.mp4', '242.mp4', '108.mp4', '134.mp4', '135.mp4', '109.mp4', '243.mp4', '253.mp4', '284.mp4', '131.mp4', '119.mp4', '18.mp4', '25.mp4', '19.mp4', '118.mp4', '130.mp4', '252.mp4', '244.mp4', '132.mp4', '27.mp4', '26.mp4', '245.mp4', '116.mp4', '17.mp4', '16.mp4', '117.mp4', '277.mp4', '263.mp4', '288.mp4', '129.mp4', '101.mp4', '28.mp4', '100.mp4', '289.mp4', '262.mp4', '276.mp4', '39.mp4', '11.mp4', '10.mp4', '38.mp4', '265.mp4', '107.mp4', '12.mp4', '13.mp4', '106.mp4', '112.mp4', '264.mp4', '149.mp4', '161.mp4', '60.mp4', '61.mp4', '160.mp4', '148.mp4', '162.mp4', '88.mp4', '63.mp4', '62.mp4', '89.mp4', '99.mp4', '167.mp4', '98.mp4', '166.mp4', '164.mp4', '159.mp4', '165.mp4']\n",
      "adding file\n"
     ]
    },
    {
     "name": "stderr",
     "output_type": "stream",
     "text": [
      "t:  33%|███▎      | 25/75 [00:00<00:00, 246.73it/s, now=None]"
     ]
    },
    {
     "name": "stdout",
     "output_type": "stream",
     "text": [
      "Moviepy - Building video behavior_data/control/290.mp4.\n",
      "MoviePy - Writing audio in 290TEMP_MPY_wvf_snd.mp4\n",
      "MoviePy - Done.\n",
      "Moviepy - Writing video behavior_data/control/290.mp4\n",
      "\n"
     ]
    },
    {
     "name": "stderr",
     "output_type": "stream",
     "text": [
      "                                                             \r"
     ]
    },
    {
     "name": "stdout",
     "output_type": "stream",
     "text": [
      "Moviepy - Done !\n",
      "Moviepy - video ready behavior_data/control/290.mp4\n",
      "staring the 39th file\n",
      "http://www.youtube.com/watch?v=arn5UCMLlBo\n",
      "This is url:  http://www.youtube.com/watch?v=arn5UCMLlBo\n"
     ]
    },
    {
     "name": "stderr",
     "output_type": "stream",
     "text": [
      "t:   0%|          | 0/60 [00:00<?, ?it/s, now=None]     "
     ]
    },
    {
     "name": "stdout",
     "output_type": "stream",
     "text": [
      "['222.mp4', '236.mp4', '168.mp4', '197.mp4', '183.mp4', '182.mp4', '196.mp4', '169.mp4', '237.mp4', '223.mp4', '209.mp4', '235.mp4', '180.mp4', '194.mp4', '195.mp4', '181.mp4', '234.mp4', '208.mp4', '230.mp4', '224.mp4', '218.mp4', '185.mp4', '191.mp4', '190.mp4', '184.mp4', '219.mp4', '225.mp4', '231.mp4', '227.mp4', '179.mp4', '192.mp4', '186.mp4', '187.mp4', '193.mp4', '178.mp4', '226.mp4', '269.mp4', '241.mp4', '240.mp4', '268.mp4', '256.mp4', '281.mp4', '280.mp4', '257.mp4', '247.mp4', '285.mp4', '246.mp4', '250.mp4', '278.mp4', '287.mp4', '286.mp4', '279.mp4', '251.mp4', '248.mp4', '260.mp4', '274.mp4', '261.mp4', '249.mp4', '272.mp4', '266.mp4', '267.mp4', '273.mp4', '271.mp4', '259.mp4', '258.mp4', '270.mp4', '203.mp4', '217.mp4', '175.mp4', '174.mp4', '216.mp4', '202.mp4', '228.mp4', '214.mp4', '200.mp4', '176.mp4', '189.mp4', '188.mp4', '177.mp4', '163.mp4', '201.mp4', '215.mp4', '229.mp4', '211.mp4', '205.mp4', '239.mp4', '173.mp4', '172.mp4', '238.mp4', '204.mp4', '210.mp4', '206.mp4', '212.mp4', '170.mp4', '158.mp4', '171.mp4', '213.mp4', '207.mp4']\n",
      "adding file\n",
      "Moviepy - Building video behavior_data/spinning/291.mp4.\n",
      "MoviePy - Writing audio in 291TEMP_MPY_wvf_snd.mp4\n",
      "MoviePy - Done.\n",
      "Moviepy - Writing video behavior_data/spinning/291.mp4\n",
      "\n"
     ]
    },
    {
     "name": "stderr",
     "output_type": "stream",
     "text": [
      "chunk:   0%|          | 0/133 [00:00<?, ?it/s, now=None]"
     ]
    },
    {
     "name": "stdout",
     "output_type": "stream",
     "text": [
      "Moviepy - Done !\n",
      "Moviepy - video ready behavior_data/spinning/291.mp4\n",
      "['222.mp4', '236.mp4', '168.mp4', '197.mp4', '183.mp4', '182.mp4', '196.mp4', '169.mp4', '237.mp4', '223.mp4', '209.mp4', '235.mp4', '180.mp4', '194.mp4', '195.mp4', '181.mp4', '234.mp4', '208.mp4', '230.mp4', '224.mp4', '218.mp4', '185.mp4', '191.mp4', '190.mp4', '184.mp4', '219.mp4', '225.mp4', '231.mp4', '227.mp4', '179.mp4', '192.mp4', '186.mp4', '187.mp4', '193.mp4', '178.mp4', '226.mp4', '269.mp4', '241.mp4', '240.mp4', '268.mp4', '256.mp4', '281.mp4', '280.mp4', '257.mp4', '247.mp4', '285.mp4', '291.mp4', '246.mp4', '250.mp4', '278.mp4', '287.mp4', '286.mp4', '279.mp4', '251.mp4', '248.mp4', '260.mp4', '274.mp4', '261.mp4', '249.mp4', '272.mp4', '266.mp4', '267.mp4', '273.mp4', '271.mp4', '259.mp4', '258.mp4', '270.mp4', '203.mp4', '217.mp4', '175.mp4', '174.mp4', '216.mp4', '202.mp4', '228.mp4', '214.mp4', '200.mp4', '176.mp4', '189.mp4', '188.mp4', '177.mp4', '163.mp4', '201.mp4', '215.mp4', '229.mp4', '211.mp4', '205.mp4', '239.mp4', '173.mp4', '172.mp4', '238.mp4', '204.mp4', '210.mp4', '206.mp4', '212.mp4', '170.mp4', '158.mp4', '171.mp4', '213.mp4', '207.mp4']\n",
      "adding file\n",
      "Moviepy - Building video behavior_data/spinning/292.mp4.\n",
      "MoviePy - Writing audio in 292TEMP_MPY_wvf_snd.mp4\n"
     ]
    },
    {
     "name": "stderr",
     "output_type": "stream",
     "text": [
      "                                                        \r"
     ]
    },
    {
     "name": "stdout",
     "output_type": "stream",
     "text": [
      "MoviePy - Done.\n",
      "Moviepy - Writing video behavior_data/spinning/292.mp4\n",
      "\n",
      "Moviepy - Done !\n",
      "Moviepy - video ready behavior_data/spinning/292.mp4\n",
      "['96.mp4', '82.mp4', '154.mp4', '140.mp4', '7.mp4', '55.mp4', '6.mp4', '141.mp4', '221.mp4', '81.mp4', '95.mp4', '143.mp4', '157.mp4', '56.mp4', '5.mp4', '156.mp4', '142.mp4', '94.mp4', '80.mp4', '146.mp4', '53.mp4', '.DS_Store', '52.mp4', '153.mp4', '147.mp4', '233.mp4', '93.mp4', '87.mp4', '50.mp4', '79.mp4', '86.mp4', '232.mp4', '255.mp4', '282.mp4', '137.mp4', '36.mp4', '37.mp4', '136.mp4', '283.mp4', '254.mp4', '242.mp4', '108.mp4', '134.mp4', '135.mp4', '109.mp4', '243.mp4', '253.mp4', '290.mp4', '284.mp4', '131.mp4', '119.mp4', '18.mp4', '25.mp4', '19.mp4', '118.mp4', '130.mp4', '252.mp4', '244.mp4', '132.mp4', '27.mp4', '26.mp4', '245.mp4', '116.mp4', '17.mp4', '16.mp4', '117.mp4', '277.mp4', '263.mp4', '288.mp4', '129.mp4', '101.mp4', '28.mp4', '100.mp4', '289.mp4', '262.mp4', '276.mp4', '39.mp4', '11.mp4', '10.mp4', '38.mp4', '265.mp4', '107.mp4', '12.mp4', '13.mp4', '106.mp4', '112.mp4', '264.mp4', '149.mp4', '161.mp4', '60.mp4', '61.mp4', '160.mp4', '148.mp4', '162.mp4', '88.mp4', '63.mp4', '62.mp4', '89.mp4', '99.mp4', '167.mp4', '98.mp4', '166.mp4', '164.mp4', '159.mp4', '165.mp4']\n",
      "adding file\n"
     ]
    },
    {
     "name": "stderr",
     "output_type": "stream",
     "text": [
      "                                                       "
     ]
    },
    {
     "name": "stdout",
     "output_type": "stream",
     "text": [
      "Moviepy - Building video behavior_data/control/293.mp4.\n",
      "MoviePy - Writing audio in 293TEMP_MPY_wvf_snd.mp4\n",
      "MoviePy - Done.\n",
      "Moviepy - Writing video behavior_data/control/293.mp4\n",
      "\n",
      "Moviepy - Done !\n",
      "Moviepy - video ready behavior_data/control/293.mp4\n",
      "['96.mp4', '82.mp4', '154.mp4', '140.mp4', '7.mp4', '55.mp4', '6.mp4', '141.mp4', '221.mp4', '81.mp4', '95.mp4', '143.mp4', '157.mp4', '56.mp4', '5.mp4', '156.mp4', '142.mp4', '94.mp4', '80.mp4', '146.mp4', '53.mp4', '.DS_Store', '52.mp4', '153.mp4', '147.mp4', '233.mp4', '93.mp4', '87.mp4', '50.mp4', '79.mp4', '86.mp4', '232.mp4', '255.mp4', '282.mp4', '137.mp4', '36.mp4', '37.mp4', '136.mp4', '283.mp4', '254.mp4', '242.mp4', '108.mp4', '134.mp4', '135.mp4', '109.mp4', '243.mp4', '253.mp4', '290.mp4', '284.mp4', '131.mp4', '119.mp4', '18.mp4', '25.mp4', '19.mp4', '118.mp4', '130.mp4', '252.mp4', '244.mp4', '293.mp4', '132.mp4', '27.mp4', '26.mp4', '245.mp4', '116.mp4', '17.mp4', '16.mp4', '117.mp4', '277.mp4', '263.mp4', '288.mp4', '129.mp4', '101.mp4', '28.mp4', '100.mp4', '289.mp4', '262.mp4', '276.mp4', '39.mp4', '11.mp4', '10.mp4', '38.mp4', '265.mp4', '107.mp4', '12.mp4', '13.mp4', '106.mp4', '112.mp4', '264.mp4', '149.mp4', '161.mp4', '60.mp4', '61.mp4', '160.mp4', '148.mp4', '162.mp4', '88.mp4', '63.mp4', '62.mp4', '89.mp4', '99.mp4', '167.mp4', '98.mp4', '166.mp4', '164.mp4', '159.mp4', '165.mp4']\n",
      "adding file\n"
     ]
    },
    {
     "name": "stderr",
     "output_type": "stream",
     "text": [
      "                                                       "
     ]
    },
    {
     "name": "stdout",
     "output_type": "stream",
     "text": [
      "Moviepy - Building video behavior_data/control/294.mp4.\n",
      "MoviePy - Writing audio in 294TEMP_MPY_wvf_snd.mp4\n",
      "MoviePy - Done.\n",
      "Moviepy - Writing video behavior_data/control/294.mp4\n",
      "\n",
      "Moviepy - Done !\n",
      "Moviepy - video ready behavior_data/control/294.mp4\n",
      "staring the 40th file\n",
      "http://www.youtube.com/watch?v=5BVFjqo0FUY\n",
      "This is url:  http://www.youtube.com/watch?v=5BVFjqo0FUY\n"
     ]
    },
    {
     "name": "stderr",
     "output_type": "stream",
     "text": [
      "\r"
     ]
    },
    {
     "name": "stdout",
     "output_type": "stream",
     "text": [
      "annoying url: http://www.youtube.com/watch?v=5BVFjqo0FUY\n",
      "5BVFjqo0FUY is unavailable\n",
      "staring the 41th file\n",
      "http://www.youtube.com/watch?v=2AS14wxMB-A\n",
      "This is url:  http://www.youtube.com/watch?v=2AS14wxMB-A\n",
      "['222.mp4', '236.mp4', '168.mp4', '197.mp4', '183.mp4', '182.mp4', '196.mp4', '169.mp4', '237.mp4', '223.mp4', '209.mp4', '235.mp4', '180.mp4', '194.mp4', '195.mp4', '181.mp4', '234.mp4', '208.mp4', '230.mp4', '224.mp4', '218.mp4', '185.mp4', '191.mp4', '190.mp4', '184.mp4', '219.mp4', '225.mp4', '231.mp4', '227.mp4', '179.mp4', '192.mp4', '186.mp4', '187.mp4', '193.mp4', '178.mp4', '226.mp4', '269.mp4', '241.mp4', '240.mp4', '268.mp4', '256.mp4', '281.mp4', '280.mp4', '257.mp4', '247.mp4', '285.mp4', '291.mp4', '246.mp4', '250.mp4', '278.mp4', '287.mp4', '292.mp4', '286.mp4', '279.mp4', '251.mp4', '248.mp4', '260.mp4', '274.mp4', '261.mp4', '249.mp4', '272.mp4', '266.mp4', '267.mp4', '273.mp4', '271.mp4', '259.mp4', '258.mp4', '270.mp4', '203.mp4', '217.mp4', '175.mp4', '174.mp4', '216.mp4', '202.mp4', '228.mp4', '214.mp4', '200.mp4', '176.mp4', '189.mp4', '188.mp4', '177.mp4', '163.mp4', '201.mp4', '215.mp4', '229.mp4', '211.mp4', '205.mp4', '239.mp4', '173.mp4', '172.mp4', '238.mp4', '204.mp4', '210.mp4', '206.mp4', '212.mp4', '170.mp4', '158.mp4', '171.mp4', '213.mp4', '207.mp4']\n",
      "adding file\n",
      "Moviepy - Building video behavior_data/spinning/295.mp4.\n",
      "MoviePy - Writing audio in 295TEMP_MPY_wvf_snd.mp4\n"
     ]
    },
    {
     "name": "stderr",
     "output_type": "stream",
     "text": [
      "t:  48%|████▊     | 57/120 [00:00<00:00, 509.30it/s, now=None]"
     ]
    },
    {
     "name": "stdout",
     "output_type": "stream",
     "text": [
      "MoviePy - Done.\n",
      "Moviepy - Writing video behavior_data/spinning/295.mp4\n",
      "\n"
     ]
    },
    {
     "name": "stderr",
     "output_type": "stream",
     "text": [
      "                                                               \r"
     ]
    },
    {
     "name": "stdout",
     "output_type": "stream",
     "text": [
      "Moviepy - Done !\n",
      "Moviepy - video ready behavior_data/spinning/295.mp4\n",
      "['222.mp4', '236.mp4', '168.mp4', '197.mp4', '183.mp4', '182.mp4', '196.mp4', '169.mp4', '237.mp4', '223.mp4', '209.mp4', '235.mp4', '180.mp4', '194.mp4', '195.mp4', '181.mp4', '234.mp4', '208.mp4', '230.mp4', '224.mp4', '218.mp4', '185.mp4', '191.mp4', '190.mp4', '184.mp4', '219.mp4', '225.mp4', '231.mp4', '227.mp4', '179.mp4', '192.mp4', '186.mp4', '187.mp4', '193.mp4', '178.mp4', '226.mp4', '269.mp4', '241.mp4', '240.mp4', '268.mp4', '256.mp4', '295.mp4', '281.mp4', '280.mp4', '257.mp4', '247.mp4', '285.mp4', '291.mp4', '246.mp4', '250.mp4', '278.mp4', '287.mp4', '292.mp4', '286.mp4', '279.mp4', '251.mp4', '248.mp4', '260.mp4', '274.mp4', '261.mp4', '249.mp4', '272.mp4', '266.mp4', '267.mp4', '273.mp4', '271.mp4', '259.mp4', '258.mp4', '270.mp4', '203.mp4', '217.mp4', '175.mp4', '174.mp4', '216.mp4', '202.mp4', '228.mp4', '214.mp4', '200.mp4', '176.mp4', '189.mp4', '188.mp4', '177.mp4', '163.mp4', '201.mp4', '215.mp4', '229.mp4', '211.mp4', '205.mp4', '239.mp4', '173.mp4', '172.mp4', '238.mp4', '204.mp4', '210.mp4', '206.mp4', '212.mp4', '170.mp4', '158.mp4', '171.mp4', '213.mp4', '207.mp4']\n",
      "adding file\n"
     ]
    },
    {
     "name": "stderr",
     "output_type": "stream",
     "text": [
      "t:  57%|█████▋    | 57/100 [00:00<00:00, 492.60it/s, now=None]"
     ]
    },
    {
     "name": "stdout",
     "output_type": "stream",
     "text": [
      "Moviepy - Building video behavior_data/spinning/296.mp4.\n",
      "MoviePy - Writing audio in 296TEMP_MPY_wvf_snd.mp4\n",
      "MoviePy - Done.\n",
      "Moviepy - Writing video behavior_data/spinning/296.mp4\n",
      "\n"
     ]
    },
    {
     "name": "stderr",
     "output_type": "stream",
     "text": [
      "chunk:   0%|          | 0/111 [00:00<?, ?it/s, now=None]      "
     ]
    },
    {
     "name": "stdout",
     "output_type": "stream",
     "text": [
      "Moviepy - Done !\n",
      "Moviepy - video ready behavior_data/spinning/296.mp4\n",
      "['96.mp4', '82.mp4', '154.mp4', '140.mp4', '7.mp4', '55.mp4', '6.mp4', '141.mp4', '221.mp4', '81.mp4', '95.mp4', '143.mp4', '157.mp4', '56.mp4', '5.mp4', '156.mp4', '142.mp4', '94.mp4', '80.mp4', '146.mp4', '53.mp4', '.DS_Store', '52.mp4', '153.mp4', '147.mp4', '233.mp4', '93.mp4', '87.mp4', '50.mp4', '79.mp4', '86.mp4', '232.mp4', '255.mp4', '282.mp4', '137.mp4', '36.mp4', '37.mp4', '136.mp4', '283.mp4', '254.mp4', '242.mp4', '108.mp4', '134.mp4', '135.mp4', '109.mp4', '294.mp4', '243.mp4', '253.mp4', '290.mp4', '284.mp4', '131.mp4', '119.mp4', '18.mp4', '25.mp4', '19.mp4', '118.mp4', '130.mp4', '252.mp4', '244.mp4', '293.mp4', '132.mp4', '27.mp4', '26.mp4', '245.mp4', '116.mp4', '17.mp4', '16.mp4', '117.mp4', '277.mp4', '263.mp4', '288.mp4', '129.mp4', '101.mp4', '28.mp4', '100.mp4', '289.mp4', '262.mp4', '276.mp4', '39.mp4', '11.mp4', '10.mp4', '38.mp4', '265.mp4', '107.mp4', '12.mp4', '13.mp4', '106.mp4', '112.mp4', '264.mp4', '149.mp4', '161.mp4', '60.mp4', '61.mp4', '160.mp4', '148.mp4', '162.mp4', '88.mp4', '63.mp4', '62.mp4', '89.mp4', '99.mp4', '167.mp4', '98.mp4', '166.mp4', '164.mp4', '159.mp4', '165.mp4']\n",
      "adding file\n",
      "Moviepy - Building video behavior_data/control/297.mp4.\n",
      "MoviePy - Writing audio in 297TEMP_MPY_wvf_snd.mp4\n"
     ]
    },
    {
     "name": "stderr",
     "output_type": "stream",
     "text": [
      "t:  57%|█████▋    | 57/100 [00:00<00:00, 513.20it/s, now=None]"
     ]
    },
    {
     "name": "stdout",
     "output_type": "stream",
     "text": [
      "MoviePy - Done.\n",
      "Moviepy - Writing video behavior_data/control/297.mp4\n",
      "\n"
     ]
    },
    {
     "name": "stderr",
     "output_type": "stream",
     "text": [
      "                                                              \r"
     ]
    },
    {
     "name": "stdout",
     "output_type": "stream",
     "text": [
      "Moviepy - Done !\n",
      "Moviepy - video ready behavior_data/control/297.mp4\n",
      "['96.mp4', '82.mp4', '154.mp4', '140.mp4', '7.mp4', '55.mp4', '6.mp4', '141.mp4', '221.mp4', '81.mp4', '95.mp4', '143.mp4', '157.mp4', '56.mp4', '5.mp4', '156.mp4', '142.mp4', '94.mp4', '80.mp4', '146.mp4', '53.mp4', '.DS_Store', '52.mp4', '153.mp4', '147.mp4', '233.mp4', '93.mp4', '87.mp4', '50.mp4', '79.mp4', '86.mp4', '232.mp4', '255.mp4', '282.mp4', '137.mp4', '36.mp4', '37.mp4', '136.mp4', '297.mp4', '283.mp4', '254.mp4', '242.mp4', '108.mp4', '134.mp4', '135.mp4', '109.mp4', '294.mp4', '243.mp4', '253.mp4', '290.mp4', '284.mp4', '131.mp4', '119.mp4', '18.mp4', '25.mp4', '19.mp4', '118.mp4', '130.mp4', '252.mp4', '244.mp4', '293.mp4', '132.mp4', '27.mp4', '26.mp4', '245.mp4', '116.mp4', '17.mp4', '16.mp4', '117.mp4', '277.mp4', '263.mp4', '288.mp4', '129.mp4', '101.mp4', '28.mp4', '100.mp4', '289.mp4', '262.mp4', '276.mp4', '39.mp4', '11.mp4', '10.mp4', '38.mp4', '265.mp4', '107.mp4', '12.mp4', '13.mp4', '106.mp4', '112.mp4', '264.mp4', '149.mp4', '161.mp4', '60.mp4', '61.mp4', '160.mp4', '148.mp4', '162.mp4', '88.mp4', '63.mp4', '62.mp4', '89.mp4', '99.mp4', '167.mp4', '98.mp4', '166.mp4', '164.mp4', '159.mp4', '165.mp4']\n",
      "adding file\n"
     ]
    },
    {
     "name": "stderr",
     "output_type": "stream",
     "text": [
      "t:  57%|█████▋    | 57/100 [00:00<00:00, 500.13it/s, now=None]"
     ]
    },
    {
     "name": "stdout",
     "output_type": "stream",
     "text": [
      "Moviepy - Building video behavior_data/control/298.mp4.\n",
      "MoviePy - Writing audio in 298TEMP_MPY_wvf_snd.mp4\n",
      "MoviePy - Done.\n",
      "Moviepy - Writing video behavior_data/control/298.mp4\n",
      "\n"
     ]
    },
    {
     "name": "stderr",
     "output_type": "stream",
     "text": [
      "                                                              \r"
     ]
    },
    {
     "name": "stdout",
     "output_type": "stream",
     "text": [
      "Moviepy - Done !\n",
      "Moviepy - video ready behavior_data/control/298.mp4\n",
      "['96.mp4', '82.mp4', '154.mp4', '140.mp4', '7.mp4', '55.mp4', '6.mp4', '141.mp4', '221.mp4', '81.mp4', '95.mp4', '143.mp4', '157.mp4', '56.mp4', '5.mp4', '156.mp4', '142.mp4', '94.mp4', '80.mp4', '146.mp4', '53.mp4', '.DS_Store', '52.mp4', '153.mp4', '147.mp4', '233.mp4', '93.mp4', '87.mp4', '50.mp4', '79.mp4', '86.mp4', '232.mp4', '255.mp4', '282.mp4', '137.mp4', '36.mp4', '37.mp4', '136.mp4', '297.mp4', '283.mp4', '254.mp4', '242.mp4', '108.mp4', '134.mp4', '135.mp4', '109.mp4', '294.mp4', '243.mp4', '253.mp4', '290.mp4', '284.mp4', '131.mp4', '119.mp4', '18.mp4', '25.mp4', '19.mp4', '118.mp4', '130.mp4', '252.mp4', '244.mp4', '293.mp4', '132.mp4', '27.mp4', '26.mp4', '245.mp4', '116.mp4', '17.mp4', '16.mp4', '117.mp4', '277.mp4', '263.mp4', '288.mp4', '129.mp4', '101.mp4', '28.mp4', '100.mp4', '289.mp4', '262.mp4', '276.mp4', '39.mp4', '11.mp4', '10.mp4', '38.mp4', '298.mp4', '265.mp4', '107.mp4', '12.mp4', '13.mp4', '106.mp4', '112.mp4', '264.mp4', '149.mp4', '161.mp4', '60.mp4', '61.mp4', '160.mp4', '148.mp4', '162.mp4', '88.mp4', '63.mp4', '62.mp4', '89.mp4', '99.mp4', '167.mp4', '98.mp4', '166.mp4', '164.mp4', '159.mp4', '165.mp4']\n",
      "adding file\n"
     ]
    },
    {
     "name": "stderr",
     "output_type": "stream",
     "text": [
      "t:  71%|███████▏  | 57/80 [00:00<00:00, 504.84it/s, now=None]"
     ]
    },
    {
     "name": "stdout",
     "output_type": "stream",
     "text": [
      "Moviepy - Building video behavior_data/control/299.mp4.\n",
      "MoviePy - Writing audio in 299TEMP_MPY_wvf_snd.mp4\n",
      "MoviePy - Done.\n",
      "Moviepy - Writing video behavior_data/control/299.mp4\n",
      "\n"
     ]
    },
    {
     "name": "stderr",
     "output_type": "stream",
     "text": [
      "                                                             \r"
     ]
    },
    {
     "name": "stdout",
     "output_type": "stream",
     "text": [
      "Moviepy - Done !\n",
      "Moviepy - video ready behavior_data/control/299.mp4\n",
      "staring the 42th file\n",
      "http://www.youtube.com/watch?v=cxqsde-6V-c\n",
      "This is url:  http://www.youtube.com/watch?v=cxqsde-6V-c\n",
      "annoying url: http://www.youtube.com/watch?v=cxqsde-6V-c\n",
      "cxqsde-6V-c is a private video\n",
      "staring the 43th file\n",
      "http://www.youtube.com/watch?v=ZHJr17Q4384\n",
      "This is url:  http://www.youtube.com/watch?v=ZHJr17Q4384\n"
     ]
    },
    {
     "name": "stderr",
     "output_type": "stream",
     "text": [
      "\r",
      "chunk:   0%|          | 0/155 [00:00<?, ?it/s, now=None]"
     ]
    },
    {
     "name": "stdout",
     "output_type": "stream",
     "text": [
      "['222.mp4', '236.mp4', '168.mp4', '197.mp4', '183.mp4', '182.mp4', '196.mp4', '169.mp4', '237.mp4', '223.mp4', '209.mp4', '235.mp4', '180.mp4', '194.mp4', '195.mp4', '181.mp4', '234.mp4', '208.mp4', '230.mp4', '224.mp4', '218.mp4', '185.mp4', '191.mp4', '190.mp4', '184.mp4', '219.mp4', '225.mp4', '231.mp4', '227.mp4', '179.mp4', '192.mp4', '186.mp4', '187.mp4', '193.mp4', '178.mp4', '226.mp4', '269.mp4', '241.mp4', '296.mp4', '240.mp4', '268.mp4', '256.mp4', '295.mp4', '281.mp4', '280.mp4', '257.mp4', '247.mp4', '285.mp4', '291.mp4', '246.mp4', '250.mp4', '278.mp4', '287.mp4', '292.mp4', '286.mp4', '279.mp4', '251.mp4', '248.mp4', '260.mp4', '274.mp4', '261.mp4', '249.mp4', '272.mp4', '266.mp4', '267.mp4', '273.mp4', '271.mp4', '259.mp4', '258.mp4', '270.mp4', '203.mp4', '217.mp4', '175.mp4', '174.mp4', '216.mp4', '202.mp4', '228.mp4', '214.mp4', '200.mp4', '176.mp4', '189.mp4', '188.mp4', '177.mp4', '163.mp4', '201.mp4', '215.mp4', '229.mp4', '211.mp4', '205.mp4', '239.mp4', '173.mp4', '172.mp4', '238.mp4', '204.mp4', '210.mp4', '206.mp4', '212.mp4', '170.mp4', '158.mp4', '171.mp4', '213.mp4', '207.mp4']\n",
      "adding file\n",
      "Moviepy - Building video behavior_data/spinning/300.mp4.\n",
      "MoviePy - Writing audio in 300TEMP_MPY_wvf_snd.mp4\n"
     ]
    },
    {
     "name": "stderr",
     "output_type": "stream",
     "text": [
      "                                                                \r"
     ]
    },
    {
     "name": "stdout",
     "output_type": "stream",
     "text": [
      "MoviePy - Done.\n",
      "Moviepy - Writing video behavior_data/spinning/300.mp4\n",
      "\n"
     ]
    },
    {
     "name": "stderr",
     "output_type": "stream",
     "text": [
      "\r",
      "chunk:   0%|          | 0/155 [00:00<?, ?it/s, now=None]"
     ]
    },
    {
     "name": "stdout",
     "output_type": "stream",
     "text": [
      "Moviepy - Done !\n",
      "Moviepy - video ready behavior_data/spinning/300.mp4\n",
      "['222.mp4', '236.mp4', '168.mp4', '197.mp4', '183.mp4', '182.mp4', '196.mp4', '169.mp4', '237.mp4', '223.mp4', '209.mp4', '235.mp4', '180.mp4', '194.mp4', '195.mp4', '181.mp4', '234.mp4', '208.mp4', '230.mp4', '224.mp4', '218.mp4', '185.mp4', '191.mp4', '190.mp4', '184.mp4', '219.mp4', '225.mp4', '231.mp4', '227.mp4', '179.mp4', '192.mp4', '186.mp4', '187.mp4', '193.mp4', '178.mp4', '226.mp4', '269.mp4', '241.mp4', '296.mp4', '240.mp4', '268.mp4', '256.mp4', '295.mp4', '281.mp4', '280.mp4', '257.mp4', '247.mp4', '285.mp4', '291.mp4', '246.mp4', '250.mp4', '278.mp4', '287.mp4', '292.mp4', '286.mp4', '279.mp4', '251.mp4', '248.mp4', '260.mp4', '274.mp4', '300.mp4', '261.mp4', '249.mp4', '272.mp4', '266.mp4', '267.mp4', '273.mp4', '271.mp4', '259.mp4', '258.mp4', '270.mp4', '203.mp4', '217.mp4', '175.mp4', '174.mp4', '216.mp4', '202.mp4', '228.mp4', '214.mp4', '200.mp4', '176.mp4', '189.mp4', '188.mp4', '177.mp4', '163.mp4', '201.mp4', '215.mp4', '229.mp4', '211.mp4', '205.mp4', '239.mp4', '173.mp4', '172.mp4', '238.mp4', '204.mp4', '210.mp4', '206.mp4', '212.mp4', '170.mp4', '158.mp4', '171.mp4', '213.mp4', '207.mp4']\n",
      "adding file\n",
      "Moviepy - Building video behavior_data/spinning/301.mp4.\n",
      "MoviePy - Writing audio in 301TEMP_MPY_wvf_snd.mp4\n"
     ]
    },
    {
     "name": "stderr",
     "output_type": "stream",
     "text": [
      "                                                                \r"
     ]
    },
    {
     "name": "stdout",
     "output_type": "stream",
     "text": [
      "MoviePy - Done.\n",
      "Moviepy - Writing video behavior_data/spinning/301.mp4\n",
      "\n"
     ]
    },
    {
     "name": "stderr",
     "output_type": "stream",
     "text": [
      "\r",
      "chunk:   0%|          | 0/155 [00:00<?, ?it/s, now=None]"
     ]
    },
    {
     "name": "stdout",
     "output_type": "stream",
     "text": [
      "Moviepy - Done !\n",
      "Moviepy - video ready behavior_data/spinning/301.mp4\n",
      "['222.mp4', '236.mp4', '168.mp4', '197.mp4', '183.mp4', '182.mp4', '196.mp4', '169.mp4', '237.mp4', '223.mp4', '209.mp4', '235.mp4', '180.mp4', '194.mp4', '195.mp4', '181.mp4', '234.mp4', '208.mp4', '230.mp4', '224.mp4', '218.mp4', '185.mp4', '191.mp4', '190.mp4', '184.mp4', '219.mp4', '225.mp4', '231.mp4', '227.mp4', '179.mp4', '192.mp4', '186.mp4', '187.mp4', '193.mp4', '178.mp4', '226.mp4', '269.mp4', '241.mp4', '296.mp4', '240.mp4', '268.mp4', '256.mp4', '295.mp4', '281.mp4', '280.mp4', '257.mp4', '247.mp4', '285.mp4', '291.mp4', '246.mp4', '250.mp4', '278.mp4', '287.mp4', '292.mp4', '286.mp4', '279.mp4', '251.mp4', '248.mp4', '260.mp4', '274.mp4', '300.mp4', '301.mp4', '261.mp4', '249.mp4', '272.mp4', '266.mp4', '267.mp4', '273.mp4', '271.mp4', '259.mp4', '258.mp4', '270.mp4', '203.mp4', '217.mp4', '175.mp4', '174.mp4', '216.mp4', '202.mp4', '228.mp4', '214.mp4', '200.mp4', '176.mp4', '189.mp4', '188.mp4', '177.mp4', '163.mp4', '201.mp4', '215.mp4', '229.mp4', '211.mp4', '205.mp4', '239.mp4', '173.mp4', '172.mp4', '238.mp4', '204.mp4', '210.mp4', '206.mp4', '212.mp4', '170.mp4', '158.mp4', '171.mp4', '213.mp4', '207.mp4']\n",
      "adding file\n",
      "Moviepy - Building video behavior_data/spinning/302.mp4.\n",
      "MoviePy - Writing audio in 302TEMP_MPY_wvf_snd.mp4\n"
     ]
    },
    {
     "name": "stderr",
     "output_type": "stream",
     "text": [
      "                                                                \r"
     ]
    },
    {
     "name": "stdout",
     "output_type": "stream",
     "text": [
      "MoviePy - Done.\n",
      "Moviepy - Writing video behavior_data/spinning/302.mp4\n",
      "\n"
     ]
    },
    {
     "name": "stderr",
     "output_type": "stream",
     "text": [
      "\r",
      "chunk:   0%|          | 0/155 [00:00<?, ?it/s, now=None]"
     ]
    },
    {
     "name": "stdout",
     "output_type": "stream",
     "text": [
      "Moviepy - Done !\n",
      "Moviepy - video ready behavior_data/spinning/302.mp4\n",
      "['222.mp4', '236.mp4', '168.mp4', '197.mp4', '183.mp4', '182.mp4', '196.mp4', '169.mp4', '237.mp4', '223.mp4', '209.mp4', '235.mp4', '180.mp4', '194.mp4', '195.mp4', '181.mp4', '234.mp4', '208.mp4', '230.mp4', '224.mp4', '218.mp4', '185.mp4', '191.mp4', '190.mp4', '184.mp4', '219.mp4', '225.mp4', '231.mp4', '227.mp4', '179.mp4', '192.mp4', '186.mp4', '187.mp4', '193.mp4', '178.mp4', '226.mp4', '269.mp4', '241.mp4', '296.mp4', '240.mp4', '268.mp4', '256.mp4', '295.mp4', '281.mp4', '280.mp4', '257.mp4', '247.mp4', '285.mp4', '291.mp4', '246.mp4', '250.mp4', '278.mp4', '287.mp4', '292.mp4', '286.mp4', '279.mp4', '251.mp4', '248.mp4', '260.mp4', '274.mp4', '300.mp4', '301.mp4', '261.mp4', '249.mp4', '302.mp4', '272.mp4', '266.mp4', '267.mp4', '273.mp4', '271.mp4', '259.mp4', '258.mp4', '270.mp4', '203.mp4', '217.mp4', '175.mp4', '174.mp4', '216.mp4', '202.mp4', '228.mp4', '214.mp4', '200.mp4', '176.mp4', '189.mp4', '188.mp4', '177.mp4', '163.mp4', '201.mp4', '215.mp4', '229.mp4', '211.mp4', '205.mp4', '239.mp4', '173.mp4', '172.mp4', '238.mp4', '204.mp4', '210.mp4', '206.mp4', '212.mp4', '170.mp4', '158.mp4', '171.mp4', '213.mp4', '207.mp4']\n",
      "adding file\n",
      "Moviepy - Building video behavior_data/spinning/303.mp4.\n",
      "MoviePy - Writing audio in 303TEMP_MPY_wvf_snd.mp4\n"
     ]
    },
    {
     "name": "stderr",
     "output_type": "stream",
     "text": [
      "                                                                \r"
     ]
    },
    {
     "name": "stdout",
     "output_type": "stream",
     "text": [
      "MoviePy - Done.\n",
      "Moviepy - Writing video behavior_data/spinning/303.mp4\n",
      "\n"
     ]
    },
    {
     "name": "stderr",
     "output_type": "stream",
     "text": [
      "\r",
      "chunk:   0%|          | 0/155 [00:00<?, ?it/s, now=None]"
     ]
    },
    {
     "name": "stdout",
     "output_type": "stream",
     "text": [
      "Moviepy - Done !\n",
      "Moviepy - video ready behavior_data/spinning/303.mp4\n",
      "['222.mp4', '236.mp4', '168.mp4', '197.mp4', '183.mp4', '182.mp4', '196.mp4', '169.mp4', '237.mp4', '223.mp4', '209.mp4', '235.mp4', '180.mp4', '194.mp4', '195.mp4', '181.mp4', '234.mp4', '208.mp4', '230.mp4', '224.mp4', '218.mp4', '185.mp4', '191.mp4', '190.mp4', '184.mp4', '219.mp4', '225.mp4', '231.mp4', '227.mp4', '179.mp4', '192.mp4', '186.mp4', '187.mp4', '193.mp4', '178.mp4', '226.mp4', '269.mp4', '241.mp4', '296.mp4', '240.mp4', '268.mp4', '256.mp4', '295.mp4', '281.mp4', '280.mp4', '257.mp4', '247.mp4', '285.mp4', '291.mp4', '246.mp4', '250.mp4', '278.mp4', '287.mp4', '292.mp4', '286.mp4', '279.mp4', '251.mp4', '248.mp4', '260.mp4', '274.mp4', '300.mp4', '301.mp4', '261.mp4', '249.mp4', '303.mp4', '302.mp4', '272.mp4', '266.mp4', '267.mp4', '273.mp4', '271.mp4', '259.mp4', '258.mp4', '270.mp4', '203.mp4', '217.mp4', '175.mp4', '174.mp4', '216.mp4', '202.mp4', '228.mp4', '214.mp4', '200.mp4', '176.mp4', '189.mp4', '188.mp4', '177.mp4', '163.mp4', '201.mp4', '215.mp4', '229.mp4', '211.mp4', '205.mp4', '239.mp4', '173.mp4', '172.mp4', '238.mp4', '204.mp4', '210.mp4', '206.mp4', '212.mp4', '170.mp4', '158.mp4', '171.mp4', '213.mp4', '207.mp4']\n",
      "adding file\n",
      "Moviepy - Building video behavior_data/spinning/304.mp4.\n",
      "MoviePy - Writing audio in 304TEMP_MPY_wvf_snd.mp4\n"
     ]
    },
    {
     "name": "stderr",
     "output_type": "stream",
     "text": [
      "                                                                    \r"
     ]
    },
    {
     "name": "stdout",
     "output_type": "stream",
     "text": [
      "MoviePy - Done.\n",
      "Moviepy - Writing video behavior_data/spinning/304.mp4\n",
      "\n"
     ]
    },
    {
     "name": "stderr",
     "output_type": "stream",
     "text": [
      "\r",
      "chunk:   0%|          | 0/155 [00:00<?, ?it/s, now=None]"
     ]
    },
    {
     "name": "stdout",
     "output_type": "stream",
     "text": [
      "Moviepy - Done !\n",
      "Moviepy - video ready behavior_data/spinning/304.mp4\n",
      "['222.mp4', '236.mp4', '168.mp4', '197.mp4', '183.mp4', '182.mp4', '196.mp4', '169.mp4', '237.mp4', '223.mp4', '209.mp4', '235.mp4', '180.mp4', '194.mp4', '195.mp4', '181.mp4', '234.mp4', '208.mp4', '230.mp4', '224.mp4', '218.mp4', '185.mp4', '191.mp4', '190.mp4', '184.mp4', '219.mp4', '225.mp4', '231.mp4', '227.mp4', '179.mp4', '192.mp4', '186.mp4', '187.mp4', '193.mp4', '178.mp4', '226.mp4', '269.mp4', '241.mp4', '296.mp4', '240.mp4', '268.mp4', '256.mp4', '295.mp4', '281.mp4', '280.mp4', '257.mp4', '247.mp4', '285.mp4', '291.mp4', '246.mp4', '250.mp4', '278.mp4', '287.mp4', '292.mp4', '286.mp4', '279.mp4', '251.mp4', '248.mp4', '260.mp4', '274.mp4', '300.mp4', '301.mp4', '261.mp4', '249.mp4', '303.mp4', '302.mp4', '272.mp4', '266.mp4', '267.mp4', '273.mp4', '271.mp4', '259.mp4', '304.mp4', '258.mp4', '270.mp4', '203.mp4', '217.mp4', '175.mp4', '174.mp4', '216.mp4', '202.mp4', '228.mp4', '214.mp4', '200.mp4', '176.mp4', '189.mp4', '188.mp4', '177.mp4', '163.mp4', '201.mp4', '215.mp4', '229.mp4', '211.mp4', '205.mp4', '239.mp4', '173.mp4', '172.mp4', '238.mp4', '204.mp4', '210.mp4', '206.mp4', '212.mp4', '170.mp4', '158.mp4', '171.mp4', '213.mp4', '207.mp4']\n",
      "adding file\n",
      "Moviepy - Building video behavior_data/spinning/305.mp4.\n",
      "MoviePy - Writing audio in 305TEMP_MPY_wvf_snd.mp4\n"
     ]
    },
    {
     "name": "stderr",
     "output_type": "stream",
     "text": [
      "                                                                    \r"
     ]
    },
    {
     "name": "stdout",
     "output_type": "stream",
     "text": [
      "MoviePy - Done.\n",
      "Moviepy - Writing video behavior_data/spinning/305.mp4\n",
      "\n"
     ]
    },
    {
     "name": "stderr",
     "output_type": "stream",
     "text": [
      "\r",
      "chunk:   0%|          | 0/155 [00:00<?, ?it/s, now=None]"
     ]
    },
    {
     "name": "stdout",
     "output_type": "stream",
     "text": [
      "Moviepy - Done !\n",
      "Moviepy - video ready behavior_data/spinning/305.mp4\n",
      "['222.mp4', '236.mp4', '168.mp4', '197.mp4', '183.mp4', '182.mp4', '196.mp4', '169.mp4', '237.mp4', '223.mp4', '209.mp4', '235.mp4', '180.mp4', '194.mp4', '195.mp4', '181.mp4', '234.mp4', '208.mp4', '230.mp4', '224.mp4', '218.mp4', '185.mp4', '191.mp4', '190.mp4', '184.mp4', '219.mp4', '225.mp4', '231.mp4', '227.mp4', '179.mp4', '192.mp4', '186.mp4', '187.mp4', '193.mp4', '178.mp4', '226.mp4', '269.mp4', '241.mp4', '296.mp4', '240.mp4', '268.mp4', '256.mp4', '295.mp4', '281.mp4', '280.mp4', '257.mp4', '247.mp4', '285.mp4', '291.mp4', '246.mp4', '250.mp4', '278.mp4', '287.mp4', '292.mp4', '286.mp4', '279.mp4', '251.mp4', '248.mp4', '260.mp4', '274.mp4', '300.mp4', '301.mp4', '261.mp4', '249.mp4', '303.mp4', '302.mp4', '272.mp4', '266.mp4', '267.mp4', '273.mp4', '271.mp4', '259.mp4', '305.mp4', '304.mp4', '258.mp4', '270.mp4', '203.mp4', '217.mp4', '175.mp4', '174.mp4', '216.mp4', '202.mp4', '228.mp4', '214.mp4', '200.mp4', '176.mp4', '189.mp4', '188.mp4', '177.mp4', '163.mp4', '201.mp4', '215.mp4', '229.mp4', '211.mp4', '205.mp4', '239.mp4', '173.mp4', '172.mp4', '238.mp4', '204.mp4', '210.mp4', '206.mp4', '212.mp4', '170.mp4', '158.mp4', '171.mp4', '213.mp4', '207.mp4']\n",
      "adding file\n",
      "Moviepy - Building video behavior_data/spinning/306.mp4.\n",
      "MoviePy - Writing audio in 306TEMP_MPY_wvf_snd.mp4\n"
     ]
    },
    {
     "name": "stderr",
     "output_type": "stream",
     "text": [
      "                                                                    \r"
     ]
    },
    {
     "name": "stdout",
     "output_type": "stream",
     "text": [
      "MoviePy - Done.\n",
      "Moviepy - Writing video behavior_data/spinning/306.mp4\n",
      "\n"
     ]
    },
    {
     "name": "stderr",
     "output_type": "stream",
     "text": [
      "\r",
      "chunk:   0%|          | 0/155 [00:00<?, ?it/s, now=None]"
     ]
    },
    {
     "name": "stdout",
     "output_type": "stream",
     "text": [
      "Moviepy - Done !\n",
      "Moviepy - video ready behavior_data/spinning/306.mp4\n",
      "['222.mp4', '236.mp4', '168.mp4', '197.mp4', '183.mp4', '182.mp4', '196.mp4', '169.mp4', '237.mp4', '223.mp4', '209.mp4', '235.mp4', '180.mp4', '194.mp4', '195.mp4', '181.mp4', '234.mp4', '208.mp4', '230.mp4', '224.mp4', '218.mp4', '185.mp4', '191.mp4', '190.mp4', '184.mp4', '219.mp4', '225.mp4', '231.mp4', '227.mp4', '179.mp4', '192.mp4', '186.mp4', '187.mp4', '193.mp4', '178.mp4', '226.mp4', '269.mp4', '241.mp4', '296.mp4', '240.mp4', '268.mp4', '256.mp4', '295.mp4', '281.mp4', '280.mp4', '257.mp4', '247.mp4', '285.mp4', '291.mp4', '246.mp4', '250.mp4', '278.mp4', '287.mp4', '292.mp4', '286.mp4', '279.mp4', '251.mp4', '248.mp4', '260.mp4', '274.mp4', '300.mp4', '301.mp4', '261.mp4', '249.mp4', '303.mp4', '302.mp4', '272.mp4', '266.mp4', '306.mp4', '267.mp4', '273.mp4', '271.mp4', '259.mp4', '305.mp4', '304.mp4', '258.mp4', '270.mp4', '203.mp4', '217.mp4', '175.mp4', '174.mp4', '216.mp4', '202.mp4', '228.mp4', '214.mp4', '200.mp4', '176.mp4', '189.mp4', '188.mp4', '177.mp4', '163.mp4', '201.mp4', '215.mp4', '229.mp4', '211.mp4', '205.mp4', '239.mp4', '173.mp4', '172.mp4', '238.mp4', '204.mp4', '210.mp4', '206.mp4', '212.mp4', '170.mp4', '158.mp4', '171.mp4', '213.mp4', '207.mp4']\n",
      "adding file\n",
      "Moviepy - Building video behavior_data/spinning/307.mp4.\n",
      "MoviePy - Writing audio in 307TEMP_MPY_wvf_snd.mp4\n"
     ]
    },
    {
     "name": "stderr",
     "output_type": "stream",
     "text": [
      "                                                                    \r"
     ]
    },
    {
     "name": "stdout",
     "output_type": "stream",
     "text": [
      "MoviePy - Done.\n",
      "Moviepy - Writing video behavior_data/spinning/307.mp4\n",
      "\n"
     ]
    },
    {
     "name": "stderr",
     "output_type": "stream",
     "text": [
      "\r",
      "chunk:   0%|          | 0/155 [00:00<?, ?it/s, now=None]"
     ]
    },
    {
     "name": "stdout",
     "output_type": "stream",
     "text": [
      "Moviepy - Done !\n",
      "Moviepy - video ready behavior_data/spinning/307.mp4\n",
      "['222.mp4', '236.mp4', '168.mp4', '197.mp4', '183.mp4', '182.mp4', '196.mp4', '169.mp4', '237.mp4', '223.mp4', '209.mp4', '235.mp4', '180.mp4', '194.mp4', '195.mp4', '181.mp4', '234.mp4', '208.mp4', '230.mp4', '224.mp4', '218.mp4', '185.mp4', '191.mp4', '190.mp4', '184.mp4', '219.mp4', '225.mp4', '231.mp4', '227.mp4', '179.mp4', '192.mp4', '186.mp4', '187.mp4', '193.mp4', '178.mp4', '226.mp4', '269.mp4', '241.mp4', '296.mp4', '240.mp4', '268.mp4', '256.mp4', '295.mp4', '281.mp4', '280.mp4', '257.mp4', '247.mp4', '285.mp4', '291.mp4', '246.mp4', '250.mp4', '278.mp4', '287.mp4', '292.mp4', '286.mp4', '279.mp4', '251.mp4', '248.mp4', '260.mp4', '274.mp4', '300.mp4', '301.mp4', '261.mp4', '249.mp4', '303.mp4', '302.mp4', '272.mp4', '266.mp4', '306.mp4', '307.mp4', '267.mp4', '273.mp4', '271.mp4', '259.mp4', '305.mp4', '304.mp4', '258.mp4', '270.mp4', '203.mp4', '217.mp4', '175.mp4', '174.mp4', '216.mp4', '202.mp4', '228.mp4', '214.mp4', '200.mp4', '176.mp4', '189.mp4', '188.mp4', '177.mp4', '163.mp4', '201.mp4', '215.mp4', '229.mp4', '211.mp4', '205.mp4', '239.mp4', '173.mp4', '172.mp4', '238.mp4', '204.mp4', '210.mp4', '206.mp4', '212.mp4', '170.mp4', '158.mp4', '171.mp4', '213.mp4', '207.mp4']\n",
      "adding file\n",
      "Moviepy - Building video behavior_data/spinning/308.mp4.\n",
      "MoviePy - Writing audio in 308TEMP_MPY_wvf_snd.mp4\n"
     ]
    },
    {
     "name": "stderr",
     "output_type": "stream",
     "text": [
      "                                                                    \r"
     ]
    },
    {
     "name": "stdout",
     "output_type": "stream",
     "text": [
      "MoviePy - Done.\n",
      "Moviepy - Writing video behavior_data/spinning/308.mp4\n",
      "\n"
     ]
    },
    {
     "name": "stderr",
     "output_type": "stream",
     "text": [
      "\r",
      "chunk:   0%|          | 0/155 [00:00<?, ?it/s, now=None]"
     ]
    },
    {
     "name": "stdout",
     "output_type": "stream",
     "text": [
      "Moviepy - Done !\n",
      "Moviepy - video ready behavior_data/spinning/308.mp4\n",
      "['222.mp4', '236.mp4', '168.mp4', '197.mp4', '183.mp4', '182.mp4', '196.mp4', '169.mp4', '237.mp4', '223.mp4', '209.mp4', '235.mp4', '180.mp4', '194.mp4', '195.mp4', '181.mp4', '234.mp4', '208.mp4', '230.mp4', '224.mp4', '218.mp4', '185.mp4', '191.mp4', '190.mp4', '184.mp4', '219.mp4', '225.mp4', '231.mp4', '227.mp4', '179.mp4', '192.mp4', '186.mp4', '187.mp4', '193.mp4', '178.mp4', '226.mp4', '269.mp4', '241.mp4', '296.mp4', '308.mp4', '240.mp4', '268.mp4', '256.mp4', '295.mp4', '281.mp4', '280.mp4', '257.mp4', '247.mp4', '285.mp4', '291.mp4', '246.mp4', '250.mp4', '278.mp4', '287.mp4', '292.mp4', '286.mp4', '279.mp4', '251.mp4', '248.mp4', '260.mp4', '274.mp4', '300.mp4', '301.mp4', '261.mp4', '249.mp4', '303.mp4', '302.mp4', '272.mp4', '266.mp4', '306.mp4', '307.mp4', '267.mp4', '273.mp4', '271.mp4', '259.mp4', '305.mp4', '304.mp4', '258.mp4', '270.mp4', '203.mp4', '217.mp4', '175.mp4', '174.mp4', '216.mp4', '202.mp4', '228.mp4', '214.mp4', '200.mp4', '176.mp4', '189.mp4', '188.mp4', '177.mp4', '163.mp4', '201.mp4', '215.mp4', '229.mp4', '211.mp4', '205.mp4', '239.mp4', '173.mp4', '172.mp4', '238.mp4', '204.mp4', '210.mp4', '206.mp4', '212.mp4', '170.mp4', '158.mp4', '171.mp4', '213.mp4', '207.mp4']\n",
      "adding file\n",
      "Moviepy - Building video behavior_data/spinning/309.mp4.\n",
      "MoviePy - Writing audio in 309TEMP_MPY_wvf_snd.mp4\n"
     ]
    },
    {
     "name": "stderr",
     "output_type": "stream",
     "text": [
      "                                                                \r"
     ]
    },
    {
     "name": "stdout",
     "output_type": "stream",
     "text": [
      "MoviePy - Done.\n",
      "Moviepy - Writing video behavior_data/spinning/309.mp4\n",
      "\n"
     ]
    },
    {
     "name": "stderr",
     "output_type": "stream",
     "text": [
      "\r",
      "chunk:   0%|          | 0/155 [00:00<?, ?it/s, now=None]"
     ]
    },
    {
     "name": "stdout",
     "output_type": "stream",
     "text": [
      "Moviepy - Done !\n",
      "Moviepy - video ready behavior_data/spinning/309.mp4\n",
      "['222.mp4', '236.mp4', '168.mp4', '197.mp4', '183.mp4', '182.mp4', '196.mp4', '169.mp4', '237.mp4', '223.mp4', '209.mp4', '235.mp4', '180.mp4', '194.mp4', '195.mp4', '181.mp4', '234.mp4', '208.mp4', '230.mp4', '224.mp4', '218.mp4', '185.mp4', '191.mp4', '190.mp4', '184.mp4', '219.mp4', '225.mp4', '231.mp4', '227.mp4', '179.mp4', '192.mp4', '186.mp4', '187.mp4', '193.mp4', '178.mp4', '226.mp4', '269.mp4', '241.mp4', '296.mp4', '309.mp4', '308.mp4', '240.mp4', '268.mp4', '256.mp4', '295.mp4', '281.mp4', '280.mp4', '257.mp4', '247.mp4', '285.mp4', '291.mp4', '246.mp4', '250.mp4', '278.mp4', '287.mp4', '292.mp4', '286.mp4', '279.mp4', '251.mp4', '248.mp4', '260.mp4', '274.mp4', '300.mp4', '301.mp4', '261.mp4', '249.mp4', '303.mp4', '302.mp4', '272.mp4', '266.mp4', '306.mp4', '307.mp4', '267.mp4', '273.mp4', '271.mp4', '259.mp4', '305.mp4', '304.mp4', '258.mp4', '270.mp4', '203.mp4', '217.mp4', '175.mp4', '174.mp4', '216.mp4', '202.mp4', '228.mp4', '214.mp4', '200.mp4', '176.mp4', '189.mp4', '188.mp4', '177.mp4', '163.mp4', '201.mp4', '215.mp4', '229.mp4', '211.mp4', '205.mp4', '239.mp4', '173.mp4', '172.mp4', '238.mp4', '204.mp4', '210.mp4', '206.mp4', '212.mp4', '170.mp4', '158.mp4', '171.mp4', '213.mp4', '207.mp4']\n",
      "adding file\n",
      "Moviepy - Building video behavior_data/spinning/310.mp4.\n",
      "MoviePy - Writing audio in 310TEMP_MPY_wvf_snd.mp4\n"
     ]
    },
    {
     "name": "stderr",
     "output_type": "stream",
     "text": [
      "                                                                    \r"
     ]
    },
    {
     "name": "stdout",
     "output_type": "stream",
     "text": [
      "MoviePy - Done.\n",
      "Moviepy - Writing video behavior_data/spinning/310.mp4\n",
      "\n"
     ]
    },
    {
     "name": "stderr",
     "output_type": "stream",
     "text": [
      "\r",
      "chunk:   0%|          | 0/133 [00:00<?, ?it/s, now=None]"
     ]
    },
    {
     "name": "stdout",
     "output_type": "stream",
     "text": [
      "Moviepy - Done !\n",
      "Moviepy - video ready behavior_data/spinning/310.mp4\n",
      "['222.mp4', '236.mp4', '168.mp4', '197.mp4', '183.mp4', '182.mp4', '196.mp4', '169.mp4', '237.mp4', '223.mp4', '209.mp4', '235.mp4', '180.mp4', '194.mp4', '195.mp4', '181.mp4', '234.mp4', '208.mp4', '230.mp4', '224.mp4', '218.mp4', '185.mp4', '191.mp4', '190.mp4', '184.mp4', '219.mp4', '225.mp4', '231.mp4', '227.mp4', '179.mp4', '192.mp4', '186.mp4', '187.mp4', '193.mp4', '178.mp4', '226.mp4', '269.mp4', '241.mp4', '296.mp4', '309.mp4', '308.mp4', '240.mp4', '268.mp4', '256.mp4', '295.mp4', '281.mp4', '280.mp4', '257.mp4', '247.mp4', '285.mp4', '291.mp4', '246.mp4', '250.mp4', '278.mp4', '287.mp4', '292.mp4', '286.mp4', '279.mp4', '251.mp4', '248.mp4', '260.mp4', '274.mp4', '300.mp4', '301.mp4', '261.mp4', '249.mp4', '303.mp4', '302.mp4', '272.mp4', '266.mp4', '306.mp4', '307.mp4', '267.mp4', '273.mp4', '271.mp4', '259.mp4', '305.mp4', '304.mp4', '310.mp4', '258.mp4', '270.mp4', '203.mp4', '217.mp4', '175.mp4', '174.mp4', '216.mp4', '202.mp4', '228.mp4', '214.mp4', '200.mp4', '176.mp4', '189.mp4', '188.mp4', '177.mp4', '163.mp4', '201.mp4', '215.mp4', '229.mp4', '211.mp4', '205.mp4', '239.mp4', '173.mp4', '172.mp4', '238.mp4', '204.mp4', '210.mp4', '206.mp4', '212.mp4', '170.mp4', '158.mp4', '171.mp4', '213.mp4', '207.mp4']\n",
      "adding file\n",
      "Moviepy - Building video behavior_data/spinning/311.mp4.\n",
      "MoviePy - Writing audio in 311TEMP_MPY_wvf_snd.mp4\n"
     ]
    },
    {
     "name": "stderr",
     "output_type": "stream",
     "text": [
      "                                                                \r"
     ]
    },
    {
     "name": "stdout",
     "output_type": "stream",
     "text": [
      "MoviePy - Done.\n",
      "Moviepy - Writing video behavior_data/spinning/311.mp4\n",
      "\n",
      "Moviepy - Done !\n",
      "Moviepy - video ready behavior_data/spinning/311.mp4\n"
     ]
    },
    {
     "name": "stderr",
     "output_type": "stream",
     "text": [
      "\r",
      "chunk:   0%|          | 0/133 [00:00<?, ?it/s, now=None]"
     ]
    },
    {
     "name": "stdout",
     "output_type": "stream",
     "text": [
      "['222.mp4', '236.mp4', '168.mp4', '197.mp4', '183.mp4', '182.mp4', '196.mp4', '169.mp4', '237.mp4', '223.mp4', '209.mp4', '235.mp4', '180.mp4', '194.mp4', '195.mp4', '181.mp4', '234.mp4', '208.mp4', '230.mp4', '224.mp4', '218.mp4', '185.mp4', '191.mp4', '190.mp4', '184.mp4', '219.mp4', '225.mp4', '231.mp4', '227.mp4', '179.mp4', '192.mp4', '186.mp4', '187.mp4', '193.mp4', '178.mp4', '226.mp4', '269.mp4', '241.mp4', '296.mp4', '309.mp4', '308.mp4', '240.mp4', '268.mp4', '256.mp4', '295.mp4', '281.mp4', '280.mp4', '257.mp4', '247.mp4', '285.mp4', '291.mp4', '246.mp4', '250.mp4', '278.mp4', '287.mp4', '292.mp4', '286.mp4', '279.mp4', '251.mp4', '248.mp4', '260.mp4', '274.mp4', '300.mp4', '301.mp4', '261.mp4', '249.mp4', '303.mp4', '302.mp4', '272.mp4', '266.mp4', '306.mp4', '307.mp4', '267.mp4', '273.mp4', '271.mp4', '259.mp4', '311.mp4', '305.mp4', '304.mp4', '310.mp4', '258.mp4', '270.mp4', '203.mp4', '217.mp4', '175.mp4', '174.mp4', '216.mp4', '202.mp4', '228.mp4', '214.mp4', '200.mp4', '176.mp4', '189.mp4', '188.mp4', '177.mp4', '163.mp4', '201.mp4', '215.mp4', '229.mp4', '211.mp4', '205.mp4', '239.mp4', '173.mp4', '172.mp4', '238.mp4', '204.mp4', '210.mp4', '206.mp4', '212.mp4', '170.mp4', '158.mp4', '171.mp4', '213.mp4', '207.mp4']\n",
      "adding file\n",
      "Moviepy - Building video behavior_data/spinning/312.mp4.\n",
      "MoviePy - Writing audio in 312TEMP_MPY_wvf_snd.mp4\n"
     ]
    },
    {
     "name": "stderr",
     "output_type": "stream",
     "text": [
      "                                                                \r"
     ]
    },
    {
     "name": "stdout",
     "output_type": "stream",
     "text": [
      "MoviePy - Done.\n",
      "Moviepy - Writing video behavior_data/spinning/312.mp4\n",
      "\n",
      "Moviepy - Done !\n",
      "Moviepy - video ready behavior_data/spinning/312.mp4\n"
     ]
    },
    {
     "name": "stderr",
     "output_type": "stream",
     "text": [
      "\r",
      "chunk:   0%|          | 0/133 [00:00<?, ?it/s, now=None]"
     ]
    },
    {
     "name": "stdout",
     "output_type": "stream",
     "text": [
      "['222.mp4', '236.mp4', '168.mp4', '197.mp4', '183.mp4', '182.mp4', '196.mp4', '169.mp4', '237.mp4', '223.mp4', '209.mp4', '235.mp4', '180.mp4', '194.mp4', '195.mp4', '181.mp4', '234.mp4', '208.mp4', '230.mp4', '224.mp4', '218.mp4', '185.mp4', '191.mp4', '190.mp4', '184.mp4', '219.mp4', '225.mp4', '231.mp4', '227.mp4', '179.mp4', '192.mp4', '186.mp4', '187.mp4', '193.mp4', '178.mp4', '226.mp4', '269.mp4', '241.mp4', '296.mp4', '309.mp4', '308.mp4', '240.mp4', '268.mp4', '256.mp4', '295.mp4', '281.mp4', '280.mp4', '257.mp4', '247.mp4', '285.mp4', '291.mp4', '246.mp4', '250.mp4', '278.mp4', '287.mp4', '292.mp4', '286.mp4', '279.mp4', '251.mp4', '248.mp4', '260.mp4', '274.mp4', '300.mp4', '301.mp4', '261.mp4', '249.mp4', '303.mp4', '302.mp4', '272.mp4', '266.mp4', '306.mp4', '312.mp4', '307.mp4', '267.mp4', '273.mp4', '271.mp4', '259.mp4', '311.mp4', '305.mp4', '304.mp4', '310.mp4', '258.mp4', '270.mp4', '203.mp4', '217.mp4', '175.mp4', '174.mp4', '216.mp4', '202.mp4', '228.mp4', '214.mp4', '200.mp4', '176.mp4', '189.mp4', '188.mp4', '177.mp4', '163.mp4', '201.mp4', '215.mp4', '229.mp4', '211.mp4', '205.mp4', '239.mp4', '173.mp4', '172.mp4', '238.mp4', '204.mp4', '210.mp4', '206.mp4', '212.mp4', '170.mp4', '158.mp4', '171.mp4', '213.mp4', '207.mp4']\n",
      "adding file\n",
      "Moviepy - Building video behavior_data/spinning/313.mp4.\n",
      "MoviePy - Writing audio in 313TEMP_MPY_wvf_snd.mp4\n"
     ]
    },
    {
     "name": "stderr",
     "output_type": "stream",
     "text": [
      "                                                                \r"
     ]
    },
    {
     "name": "stdout",
     "output_type": "stream",
     "text": [
      "MoviePy - Done.\n",
      "Moviepy - Writing video behavior_data/spinning/313.mp4\n",
      "\n",
      "Moviepy - Done !\n",
      "Moviepy - video ready behavior_data/spinning/313.mp4\n"
     ]
    },
    {
     "name": "stderr",
     "output_type": "stream",
     "text": [
      "                                                       "
     ]
    },
    {
     "name": "stdout",
     "output_type": "stream",
     "text": [
      "['96.mp4', '82.mp4', '154.mp4', '140.mp4', '7.mp4', '55.mp4', '6.mp4', '141.mp4', '221.mp4', '81.mp4', '95.mp4', '143.mp4', '157.mp4', '56.mp4', '5.mp4', '156.mp4', '142.mp4', '94.mp4', '80.mp4', '146.mp4', '53.mp4', '.DS_Store', '52.mp4', '153.mp4', '147.mp4', '233.mp4', '93.mp4', '87.mp4', '50.mp4', '79.mp4', '86.mp4', '232.mp4', '255.mp4', '282.mp4', '137.mp4', '36.mp4', '37.mp4', '136.mp4', '297.mp4', '283.mp4', '254.mp4', '242.mp4', '108.mp4', '134.mp4', '135.mp4', '109.mp4', '294.mp4', '243.mp4', '253.mp4', '290.mp4', '284.mp4', '131.mp4', '119.mp4', '18.mp4', '25.mp4', '19.mp4', '118.mp4', '130.mp4', '252.mp4', '244.mp4', '293.mp4', '132.mp4', '27.mp4', '26.mp4', '245.mp4', '116.mp4', '17.mp4', '16.mp4', '117.mp4', '277.mp4', '263.mp4', '288.mp4', '129.mp4', '101.mp4', '28.mp4', '100.mp4', '289.mp4', '262.mp4', '276.mp4', '299.mp4', '39.mp4', '11.mp4', '10.mp4', '38.mp4', '298.mp4', '265.mp4', '107.mp4', '12.mp4', '13.mp4', '106.mp4', '112.mp4', '264.mp4', '149.mp4', '161.mp4', '60.mp4', '61.mp4', '160.mp4', '148.mp4', '162.mp4', '88.mp4', '63.mp4', '62.mp4', '89.mp4', '99.mp4', '167.mp4', '98.mp4', '166.mp4', '164.mp4', '159.mp4', '165.mp4']\n",
      "adding file\n",
      "Moviepy - Building video behavior_data/control/314.mp4.\n",
      "MoviePy - Writing audio in 314TEMP_MPY_wvf_snd.mp4\n",
      "MoviePy - Done.\n",
      "Moviepy - Writing video behavior_data/control/314.mp4\n",
      "\n"
     ]
    },
    {
     "name": "stderr",
     "output_type": "stream",
     "text": [
      "chunk:   0%|          | 0/67 [00:00<?, ?it/s, now=None]"
     ]
    },
    {
     "name": "stdout",
     "output_type": "stream",
     "text": [
      "Moviepy - Done !\n",
      "Moviepy - video ready behavior_data/control/314.mp4\n",
      "['96.mp4', '82.mp4', '154.mp4', '140.mp4', '7.mp4', '55.mp4', '6.mp4', '141.mp4', '221.mp4', '81.mp4', '95.mp4', '143.mp4', '157.mp4', '56.mp4', '5.mp4', '156.mp4', '142.mp4', '94.mp4', '80.mp4', '146.mp4', '53.mp4', '.DS_Store', '52.mp4', '153.mp4', '147.mp4', '233.mp4', '93.mp4', '87.mp4', '50.mp4', '79.mp4', '86.mp4', '232.mp4', '255.mp4', '282.mp4', '137.mp4', '36.mp4', '37.mp4', '136.mp4', '297.mp4', '283.mp4', '254.mp4', '242.mp4', '108.mp4', '134.mp4', '135.mp4', '109.mp4', '294.mp4', '243.mp4', '253.mp4', '290.mp4', '284.mp4', '131.mp4', '119.mp4', '18.mp4', '25.mp4', '19.mp4', '118.mp4', '130.mp4', '252.mp4', '244.mp4', '293.mp4', '132.mp4', '27.mp4', '26.mp4', '245.mp4', '116.mp4', '17.mp4', '314.mp4', '16.mp4', '117.mp4', '277.mp4', '263.mp4', '288.mp4', '129.mp4', '101.mp4', '28.mp4', '100.mp4', '289.mp4', '262.mp4', '276.mp4', '299.mp4', '39.mp4', '11.mp4', '10.mp4', '38.mp4', '298.mp4', '265.mp4', '107.mp4', '12.mp4', '13.mp4', '106.mp4', '112.mp4', '264.mp4', '149.mp4', '161.mp4', '60.mp4', '61.mp4', '160.mp4', '148.mp4', '162.mp4', '88.mp4', '63.mp4', '62.mp4', '89.mp4', '99.mp4', '167.mp4', '98.mp4', '166.mp4', '164.mp4', '159.mp4', '165.mp4']\n",
      "adding file\n",
      "Moviepy - Building video behavior_data/control/315.mp4.\n",
      "MoviePy - Writing audio in 315TEMP_MPY_wvf_snd.mp4\n"
     ]
    },
    {
     "name": "stderr",
     "output_type": "stream",
     "text": [
      "                                                       \r"
     ]
    },
    {
     "name": "stdout",
     "output_type": "stream",
     "text": [
      "MoviePy - Done.\n",
      "Moviepy - Writing video behavior_data/control/315.mp4\n",
      "\n",
      "Moviepy - Done !\n",
      "Moviepy - video ready behavior_data/control/315.mp4\n",
      "staring the 44th file\n",
      "http://www.youtube.com/watch?v=NDcUGYlTy_4\n",
      "This is url:  http://www.youtube.com/watch?v=NDcUGYlTy_4\n"
     ]
    },
    {
     "name": "stderr",
     "output_type": "stream",
     "text": [
      "\r",
      "chunk:   0%|          | 0/133 [00:00<?, ?it/s, now=None]"
     ]
    },
    {
     "name": "stdout",
     "output_type": "stream",
     "text": [
      "['222.mp4', '236.mp4', '168.mp4', '197.mp4', '183.mp4', '182.mp4', '196.mp4', '169.mp4', '237.mp4', '223.mp4', '209.mp4', '235.mp4', '180.mp4', '194.mp4', '195.mp4', '181.mp4', '234.mp4', '208.mp4', '230.mp4', '224.mp4', '218.mp4', '185.mp4', '191.mp4', '190.mp4', '184.mp4', '219.mp4', '225.mp4', '231.mp4', '227.mp4', '179.mp4', '192.mp4', '186.mp4', '187.mp4', '193.mp4', '178.mp4', '226.mp4', '269.mp4', '241.mp4', '296.mp4', '309.mp4', '308.mp4', '240.mp4', '268.mp4', '256.mp4', '295.mp4', '281.mp4', '280.mp4', '257.mp4', '247.mp4', '285.mp4', '291.mp4', '246.mp4', '250.mp4', '278.mp4', '287.mp4', '292.mp4', '286.mp4', '279.mp4', '251.mp4', '248.mp4', '260.mp4', '274.mp4', '300.mp4', '301.mp4', '261.mp4', '249.mp4', '303.mp4', '302.mp4', '272.mp4', '266.mp4', '306.mp4', '312.mp4', '313.mp4', '307.mp4', '267.mp4', '273.mp4', '271.mp4', '259.mp4', '311.mp4', '305.mp4', '304.mp4', '310.mp4', '258.mp4', '270.mp4', '203.mp4', '217.mp4', '175.mp4', '174.mp4', '216.mp4', '202.mp4', '228.mp4', '214.mp4', '200.mp4', '176.mp4', '189.mp4', '188.mp4', '177.mp4', '163.mp4', '201.mp4', '215.mp4', '229.mp4', '211.mp4', '205.mp4', '239.mp4', '173.mp4', '172.mp4', '238.mp4', '204.mp4', '210.mp4', '206.mp4', '212.mp4', '170.mp4', '158.mp4', '171.mp4', '213.mp4', '207.mp4']\n",
      "adding file\n",
      "Moviepy - Building video behavior_data/spinning/316.mp4.\n",
      "MoviePy - Writing audio in 316TEMP_MPY_wvf_snd.mp4\n"
     ]
    },
    {
     "name": "stderr",
     "output_type": "stream",
     "text": [
      "                                                        \r"
     ]
    },
    {
     "name": "stdout",
     "output_type": "stream",
     "text": [
      "MoviePy - Done.\n",
      "Moviepy - Writing video behavior_data/spinning/316.mp4\n",
      "\n",
      "Moviepy - Done !\n",
      "Moviepy - video ready behavior_data/spinning/316.mp4\n",
      "['222.mp4', '236.mp4', '168.mp4', '197.mp4', '183.mp4', '182.mp4', '196.mp4', '169.mp4', '237.mp4', '223.mp4', '209.mp4', '235.mp4', '180.mp4', '194.mp4', '195.mp4', '181.mp4', '234.mp4', '208.mp4', '230.mp4', '224.mp4', '218.mp4', '185.mp4', '191.mp4', '190.mp4', '184.mp4', '219.mp4', '225.mp4', '231.mp4', '227.mp4', '179.mp4', '192.mp4', '186.mp4', '187.mp4', '193.mp4', '178.mp4', '226.mp4', '269.mp4', '241.mp4', '296.mp4', '309.mp4', '308.mp4', '240.mp4', '268.mp4', '256.mp4', '295.mp4', '281.mp4', '280.mp4', '257.mp4', '247.mp4', '285.mp4', '291.mp4', '246.mp4', '250.mp4', '278.mp4', '287.mp4', '292.mp4', '286.mp4', '279.mp4', '251.mp4', '248.mp4', '260.mp4', '274.mp4', '300.mp4', '301.mp4', '261.mp4', '249.mp4', '303.mp4', '316.mp4', '302.mp4', '272.mp4', '266.mp4', '306.mp4', '312.mp4', '313.mp4', '307.mp4', '267.mp4', '273.mp4', '271.mp4', '259.mp4', '311.mp4', '305.mp4', '304.mp4', '310.mp4', '258.mp4', '270.mp4', '203.mp4', '217.mp4', '175.mp4', '174.mp4', '216.mp4', '202.mp4', '228.mp4', '214.mp4', '200.mp4', '176.mp4', '189.mp4', '188.mp4', '177.mp4', '163.mp4', '201.mp4', '215.mp4', '229.mp4', '211.mp4', '205.mp4', '239.mp4', '173.mp4', '172.mp4', '238.mp4', '204.mp4', '210.mp4', '206.mp4', '212.mp4', '170.mp4', '158.mp4', '171.mp4', '213.mp4', '207.mp4']\n",
      "adding file\n"
     ]
    },
    {
     "name": "stderr",
     "output_type": "stream",
     "text": [
      "t:   0%|          | 0/96 [00:00<?, ?it/s, now=None]     "
     ]
    },
    {
     "name": "stdout",
     "output_type": "stream",
     "text": [
      "Moviepy - Building video behavior_data/spinning/317.mp4.\n",
      "MoviePy - Writing audio in 317TEMP_MPY_wvf_snd.mp4\n",
      "MoviePy - Done.\n",
      "Moviepy - Writing video behavior_data/spinning/317.mp4\n",
      "\n"
     ]
    },
    {
     "name": "stderr",
     "output_type": "stream",
     "text": [
      "chunk:   0%|          | 0/133 [00:00<?, ?it/s, now=None]"
     ]
    },
    {
     "name": "stdout",
     "output_type": "stream",
     "text": [
      "Moviepy - Done !\n",
      "Moviepy - video ready behavior_data/spinning/317.mp4\n",
      "['222.mp4', '236.mp4', '168.mp4', '197.mp4', '183.mp4', '182.mp4', '196.mp4', '169.mp4', '237.mp4', '223.mp4', '209.mp4', '235.mp4', '180.mp4', '194.mp4', '195.mp4', '181.mp4', '234.mp4', '208.mp4', '230.mp4', '224.mp4', '218.mp4', '185.mp4', '191.mp4', '190.mp4', '184.mp4', '219.mp4', '225.mp4', '231.mp4', '227.mp4', '179.mp4', '192.mp4', '186.mp4', '187.mp4', '193.mp4', '178.mp4', '226.mp4', '269.mp4', '241.mp4', '296.mp4', '309.mp4', '308.mp4', '240.mp4', '268.mp4', '256.mp4', '295.mp4', '281.mp4', '280.mp4', '257.mp4', '247.mp4', '285.mp4', '291.mp4', '246.mp4', '250.mp4', '278.mp4', '287.mp4', '292.mp4', '286.mp4', '279.mp4', '251.mp4', '248.mp4', '260.mp4', '274.mp4', '300.mp4', '301.mp4', '261.mp4', '249.mp4', '303.mp4', '317.mp4', '316.mp4', '302.mp4', '272.mp4', '266.mp4', '306.mp4', '312.mp4', '313.mp4', '307.mp4', '267.mp4', '273.mp4', '271.mp4', '259.mp4', '311.mp4', '305.mp4', '304.mp4', '310.mp4', '258.mp4', '270.mp4', '203.mp4', '217.mp4', '175.mp4', '174.mp4', '216.mp4', '202.mp4', '228.mp4', '214.mp4', '200.mp4', '176.mp4', '189.mp4', '188.mp4', '177.mp4', '163.mp4', '201.mp4', '215.mp4', '229.mp4', '211.mp4', '205.mp4', '239.mp4', '173.mp4', '172.mp4', '238.mp4', '204.mp4', '210.mp4', '206.mp4', '212.mp4', '170.mp4', '158.mp4', '171.mp4', '213.mp4', '207.mp4']\n",
      "adding file\n",
      "Moviepy - Building video behavior_data/spinning/318.mp4.\n",
      "MoviePy - Writing audio in 318TEMP_MPY_wvf_snd.mp4\n"
     ]
    },
    {
     "name": "stderr",
     "output_type": "stream",
     "text": [
      "                                                             \r"
     ]
    },
    {
     "name": "stdout",
     "output_type": "stream",
     "text": [
      "MoviePy - Done.\n",
      "Moviepy - Writing video behavior_data/spinning/318.mp4\n",
      "\n",
      "Moviepy - Done !\n",
      "Moviepy - video ready behavior_data/spinning/318.mp4\n"
     ]
    },
    {
     "name": "stderr",
     "output_type": "stream",
     "text": [
      "\r",
      "chunk:   0%|          | 0/133 [00:00<?, ?it/s, now=None]"
     ]
    },
    {
     "name": "stdout",
     "output_type": "stream",
     "text": [
      "['222.mp4', '236.mp4', '168.mp4', '197.mp4', '183.mp4', '182.mp4', '196.mp4', '169.mp4', '237.mp4', '223.mp4', '209.mp4', '235.mp4', '180.mp4', '194.mp4', '195.mp4', '181.mp4', '234.mp4', '208.mp4', '230.mp4', '224.mp4', '218.mp4', '185.mp4', '191.mp4', '190.mp4', '184.mp4', '219.mp4', '225.mp4', '231.mp4', '227.mp4', '179.mp4', '192.mp4', '186.mp4', '187.mp4', '193.mp4', '178.mp4', '226.mp4', '269.mp4', '241.mp4', '296.mp4', '309.mp4', '308.mp4', '240.mp4', '268.mp4', '256.mp4', '295.mp4', '281.mp4', '280.mp4', '257.mp4', '247.mp4', '285.mp4', '291.mp4', '246.mp4', '250.mp4', '278.mp4', '287.mp4', '318.mp4', '292.mp4', '286.mp4', '279.mp4', '251.mp4', '248.mp4', '260.mp4', '274.mp4', '300.mp4', '301.mp4', '261.mp4', '249.mp4', '303.mp4', '317.mp4', '316.mp4', '302.mp4', '272.mp4', '266.mp4', '306.mp4', '312.mp4', '313.mp4', '307.mp4', '267.mp4', '273.mp4', '271.mp4', '259.mp4', '311.mp4', '305.mp4', '304.mp4', '310.mp4', '258.mp4', '270.mp4', '203.mp4', '217.mp4', '175.mp4', '174.mp4', '216.mp4', '202.mp4', '228.mp4', '214.mp4', '200.mp4', '176.mp4', '189.mp4', '188.mp4', '177.mp4', '163.mp4', '201.mp4', '215.mp4', '229.mp4', '211.mp4', '205.mp4', '239.mp4', '173.mp4', '172.mp4', '238.mp4', '204.mp4', '210.mp4', '206.mp4', '212.mp4', '170.mp4', '158.mp4', '171.mp4', '213.mp4', '207.mp4']\n",
      "adding file\n",
      "Moviepy - Building video behavior_data/spinning/319.mp4.\n",
      "MoviePy - Writing audio in 319TEMP_MPY_wvf_snd.mp4\n"
     ]
    },
    {
     "name": "stderr",
     "output_type": "stream",
     "text": [
      "                                                        \r"
     ]
    },
    {
     "name": "stdout",
     "output_type": "stream",
     "text": [
      "MoviePy - Done.\n",
      "Moviepy - Writing video behavior_data/spinning/319.mp4\n",
      "\n",
      "Moviepy - Done !\n",
      "Moviepy - video ready behavior_data/spinning/319.mp4\n",
      "['96.mp4', '82.mp4', '154.mp4', '140.mp4', '7.mp4', '55.mp4', '6.mp4', '141.mp4', '221.mp4', '81.mp4', '95.mp4', '143.mp4', '157.mp4', '56.mp4', '5.mp4', '156.mp4', '142.mp4', '94.mp4', '80.mp4', '146.mp4', '53.mp4', '.DS_Store', '52.mp4', '153.mp4', '147.mp4', '233.mp4', '93.mp4', '87.mp4', '50.mp4', '79.mp4', '86.mp4', '232.mp4', '255.mp4', '282.mp4', '137.mp4', '36.mp4', '37.mp4', '136.mp4', '297.mp4', '283.mp4', '254.mp4', '242.mp4', '108.mp4', '134.mp4', '135.mp4', '109.mp4', '294.mp4', '243.mp4', '253.mp4', '290.mp4', '284.mp4', '131.mp4', '119.mp4', '18.mp4', '25.mp4', '19.mp4', '118.mp4', '130.mp4', '252.mp4', '244.mp4', '293.mp4', '132.mp4', '27.mp4', '26.mp4', '245.mp4', '116.mp4', '17.mp4', '314.mp4', '315.mp4', '16.mp4', '117.mp4', '277.mp4', '263.mp4', '288.mp4', '129.mp4', '101.mp4', '28.mp4', '100.mp4', '289.mp4', '262.mp4', '276.mp4', '299.mp4', '39.mp4', '11.mp4', '10.mp4', '38.mp4', '298.mp4', '265.mp4', '107.mp4', '12.mp4', '13.mp4', '106.mp4', '112.mp4', '264.mp4', '149.mp4', '161.mp4', '60.mp4', '61.mp4', '160.mp4', '148.mp4', '162.mp4', '88.mp4', '63.mp4', '62.mp4', '89.mp4', '99.mp4', '167.mp4', '98.mp4', '166.mp4', '164.mp4', '159.mp4', '165.mp4']\n",
      "adding file\n"
     ]
    },
    {
     "name": "stderr",
     "output_type": "stream",
     "text": [
      "                                                        "
     ]
    },
    {
     "name": "stdout",
     "output_type": "stream",
     "text": [
      "Moviepy - Building video behavior_data/control/320.mp4.\n",
      "MoviePy - Writing audio in 320TEMP_MPY_wvf_snd.mp4\n",
      "MoviePy - Done.\n",
      "Moviepy - Writing video behavior_data/control/320.mp4\n",
      "\n"
     ]
    },
    {
     "name": "stderr",
     "output_type": "stream",
     "text": [
      "chunk:   0%|          | 0/155 [00:00<?, ?it/s, now=None]"
     ]
    },
    {
     "name": "stdout",
     "output_type": "stream",
     "text": [
      "Moviepy - Done !\n",
      "Moviepy - video ready behavior_data/control/320.mp4\n",
      "['96.mp4', '82.mp4', '154.mp4', '140.mp4', '7.mp4', '55.mp4', '6.mp4', '141.mp4', '221.mp4', '81.mp4', '95.mp4', '143.mp4', '157.mp4', '56.mp4', '5.mp4', '156.mp4', '142.mp4', '94.mp4', '80.mp4', '146.mp4', '53.mp4', '.DS_Store', '52.mp4', '153.mp4', '147.mp4', '233.mp4', '93.mp4', '87.mp4', '50.mp4', '79.mp4', '86.mp4', '232.mp4', '255.mp4', '282.mp4', '137.mp4', '36.mp4', '320.mp4', '37.mp4', '136.mp4', '297.mp4', '283.mp4', '254.mp4', '242.mp4', '108.mp4', '134.mp4', '135.mp4', '109.mp4', '294.mp4', '243.mp4', '253.mp4', '290.mp4', '284.mp4', '131.mp4', '119.mp4', '18.mp4', '25.mp4', '19.mp4', '118.mp4', '130.mp4', '252.mp4', '244.mp4', '293.mp4', '132.mp4', '27.mp4', '26.mp4', '245.mp4', '116.mp4', '17.mp4', '314.mp4', '315.mp4', '16.mp4', '117.mp4', '277.mp4', '263.mp4', '288.mp4', '129.mp4', '101.mp4', '28.mp4', '100.mp4', '289.mp4', '262.mp4', '276.mp4', '299.mp4', '39.mp4', '11.mp4', '10.mp4', '38.mp4', '298.mp4', '265.mp4', '107.mp4', '12.mp4', '13.mp4', '106.mp4', '112.mp4', '264.mp4', '149.mp4', '161.mp4', '60.mp4', '61.mp4', '160.mp4', '148.mp4', '162.mp4', '88.mp4', '63.mp4', '62.mp4', '89.mp4', '99.mp4', '167.mp4', '98.mp4', '166.mp4', '164.mp4', '159.mp4', '165.mp4']\n",
      "adding file\n",
      "Moviepy - Building video behavior_data/control/321.mp4.\n",
      "MoviePy - Writing audio in 321TEMP_MPY_wvf_snd.mp4\n"
     ]
    },
    {
     "name": "stderr",
     "output_type": "stream",
     "text": [
      "                                                                \r"
     ]
    },
    {
     "name": "stdout",
     "output_type": "stream",
     "text": [
      "MoviePy - Done.\n",
      "Moviepy - Writing video behavior_data/control/321.mp4\n",
      "\n",
      "Moviepy - Done !\n",
      "Moviepy - video ready behavior_data/control/321.mp4\n",
      "['96.mp4', '82.mp4', '154.mp4', '140.mp4', '7.mp4', '55.mp4', '6.mp4', '141.mp4', '221.mp4', '81.mp4', '95.mp4', '143.mp4', '157.mp4', '56.mp4', '5.mp4', '156.mp4', '142.mp4', '94.mp4', '80.mp4', '146.mp4', '53.mp4', '.DS_Store', '52.mp4', '153.mp4', '147.mp4', '233.mp4', '93.mp4', '87.mp4', '50.mp4', '79.mp4', '86.mp4', '232.mp4', '255.mp4', '282.mp4', '137.mp4', '36.mp4', '321.mp4', '320.mp4', '37.mp4', '136.mp4', '297.mp4', '283.mp4', '254.mp4', '242.mp4', '108.mp4', '134.mp4', '135.mp4', '109.mp4', '294.mp4', '243.mp4', '253.mp4', '290.mp4', '284.mp4', '131.mp4', '119.mp4', '18.mp4', '25.mp4', '19.mp4', '118.mp4', '130.mp4', '252.mp4', '244.mp4', '293.mp4', '132.mp4', '27.mp4', '26.mp4', '245.mp4', '116.mp4', '17.mp4', '314.mp4', '315.mp4', '16.mp4', '117.mp4', '277.mp4', '263.mp4', '288.mp4', '129.mp4', '101.mp4', '28.mp4', '100.mp4', '289.mp4', '262.mp4', '276.mp4', '299.mp4', '39.mp4', '11.mp4', '10.mp4', '38.mp4', '298.mp4', '265.mp4', '107.mp4', '12.mp4', '13.mp4', '106.mp4', '112.mp4', '264.mp4', '149.mp4', '161.mp4', '60.mp4', '61.mp4', '160.mp4', '148.mp4', '162.mp4', '88.mp4', '63.mp4', '62.mp4', '89.mp4', '99.mp4', '167.mp4', '98.mp4', '166.mp4', '164.mp4', '159.mp4', '165.mp4']\n",
      "adding file\n"
     ]
    },
    {
     "name": "stderr",
     "output_type": "stream",
     "text": [
      "t:   0%|          | 0/112 [00:00<?, ?it/s, now=None]                "
     ]
    },
    {
     "name": "stdout",
     "output_type": "stream",
     "text": [
      "Moviepy - Building video behavior_data/control/322.mp4.\n",
      "MoviePy - Writing audio in 322TEMP_MPY_wvf_snd.mp4\n",
      "MoviePy - Done.\n",
      "Moviepy - Writing video behavior_data/control/322.mp4\n",
      "\n"
     ]
    },
    {
     "name": "stderr",
     "output_type": "stream",
     "text": [
      "chunk:   0%|          | 0/155 [00:00<?, ?it/s, now=None]        "
     ]
    },
    {
     "name": "stdout",
     "output_type": "stream",
     "text": [
      "Moviepy - Done !\n",
      "Moviepy - video ready behavior_data/control/322.mp4\n",
      "['96.mp4', '82.mp4', '154.mp4', '140.mp4', '7.mp4', '55.mp4', '6.mp4', '141.mp4', '221.mp4', '81.mp4', '95.mp4', '143.mp4', '157.mp4', '56.mp4', '5.mp4', '156.mp4', '142.mp4', '94.mp4', '80.mp4', '146.mp4', '53.mp4', '.DS_Store', '52.mp4', '153.mp4', '147.mp4', '233.mp4', '93.mp4', '87.mp4', '50.mp4', '79.mp4', '86.mp4', '232.mp4', '255.mp4', '282.mp4', '137.mp4', '36.mp4', '321.mp4', '320.mp4', '37.mp4', '136.mp4', '297.mp4', '283.mp4', '254.mp4', '242.mp4', '108.mp4', '134.mp4', '322.mp4', '135.mp4', '109.mp4', '294.mp4', '243.mp4', '253.mp4', '290.mp4', '284.mp4', '131.mp4', '119.mp4', '18.mp4', '25.mp4', '19.mp4', '118.mp4', '130.mp4', '252.mp4', '244.mp4', '293.mp4', '132.mp4', '27.mp4', '26.mp4', '245.mp4', '116.mp4', '17.mp4', '314.mp4', '315.mp4', '16.mp4', '117.mp4', '277.mp4', '263.mp4', '288.mp4', '129.mp4', '101.mp4', '28.mp4', '100.mp4', '289.mp4', '262.mp4', '276.mp4', '299.mp4', '39.mp4', '11.mp4', '10.mp4', '38.mp4', '298.mp4', '265.mp4', '107.mp4', '12.mp4', '13.mp4', '106.mp4', '112.mp4', '264.mp4', '149.mp4', '161.mp4', '60.mp4', '61.mp4', '160.mp4', '148.mp4', '162.mp4', '88.mp4', '63.mp4', '62.mp4', '89.mp4', '99.mp4', '167.mp4', '98.mp4', '166.mp4', '164.mp4', '159.mp4', '165.mp4']\n",
      "adding file\n",
      "Moviepy - Building video behavior_data/control/323.mp4.\n",
      "MoviePy - Writing audio in 323TEMP_MPY_wvf_snd.mp4\n"
     ]
    },
    {
     "name": "stderr",
     "output_type": "stream",
     "text": [
      "                                                                \r"
     ]
    },
    {
     "name": "stdout",
     "output_type": "stream",
     "text": [
      "MoviePy - Done.\n",
      "Moviepy - Writing video behavior_data/control/323.mp4\n",
      "\n",
      "Moviepy - Done !\n",
      "Moviepy - video ready behavior_data/control/323.mp4\n",
      "staring the 45th file\n",
      "http://www.youtube.com/watch?v=sAgAvYT3D8s\n",
      "This is url:  http://www.youtube.com/watch?v=sAgAvYT3D8s\n"
     ]
    },
    {
     "name": "stderr",
     "output_type": "stream",
     "text": [
      "\r",
      "chunk:   0%|          | 0/111 [00:00<?, ?it/s, now=None]"
     ]
    },
    {
     "name": "stdout",
     "output_type": "stream",
     "text": [
      "['222.mp4', '236.mp4', '168.mp4', '197.mp4', '183.mp4', '182.mp4', '196.mp4', '169.mp4', '237.mp4', '223.mp4', '209.mp4', '235.mp4', '180.mp4', '194.mp4', '195.mp4', '181.mp4', '234.mp4', '208.mp4', '230.mp4', '224.mp4', '218.mp4', '185.mp4', '191.mp4', '190.mp4', '184.mp4', '219.mp4', '225.mp4', '231.mp4', '227.mp4', '179.mp4', '192.mp4', '186.mp4', '187.mp4', '193.mp4', '178.mp4', '226.mp4', '269.mp4', '241.mp4', '296.mp4', '309.mp4', '308.mp4', '240.mp4', '268.mp4', '256.mp4', '295.mp4', '281.mp4', '280.mp4', '257.mp4', '247.mp4', '285.mp4', '291.mp4', '246.mp4', '250.mp4', '278.mp4', '287.mp4', '318.mp4', '319.mp4', '292.mp4', '286.mp4', '279.mp4', '251.mp4', '248.mp4', '260.mp4', '274.mp4', '300.mp4', '301.mp4', '261.mp4', '249.mp4', '303.mp4', '317.mp4', '316.mp4', '302.mp4', '272.mp4', '266.mp4', '306.mp4', '312.mp4', '313.mp4', '307.mp4', '267.mp4', '273.mp4', '271.mp4', '259.mp4', '311.mp4', '305.mp4', '304.mp4', '310.mp4', '258.mp4', '270.mp4', '203.mp4', '217.mp4', '175.mp4', '174.mp4', '216.mp4', '202.mp4', '228.mp4', '214.mp4', '200.mp4', '176.mp4', '189.mp4', '188.mp4', '177.mp4', '163.mp4', '201.mp4', '215.mp4', '229.mp4', '211.mp4', '205.mp4', '239.mp4', '173.mp4', '172.mp4', '238.mp4', '204.mp4', '210.mp4', '206.mp4', '212.mp4', '170.mp4', '158.mp4', '171.mp4', '213.mp4', '207.mp4']\n",
      "adding file\n",
      "Moviepy - Building video behavior_data/spinning/324.mp4.\n",
      "MoviePy - Writing audio in 324TEMP_MPY_wvf_snd.mp4\n"
     ]
    },
    {
     "name": "stderr",
     "output_type": "stream",
     "text": [
      "t:  41%|████▏     | 62/150 [00:00<00:00, 614.16it/s, now=None]"
     ]
    },
    {
     "name": "stdout",
     "output_type": "stream",
     "text": [
      "MoviePy - Done.\n",
      "Moviepy - Writing video behavior_data/spinning/324.mp4\n",
      "\n"
     ]
    },
    {
     "name": "stderr",
     "output_type": "stream",
     "text": [
      "                                                               \r"
     ]
    },
    {
     "name": "stdout",
     "output_type": "stream",
     "text": [
      "Moviepy - Done !\n",
      "Moviepy - video ready behavior_data/spinning/324.mp4\n",
      "['222.mp4', '236.mp4', '168.mp4', '197.mp4', '183.mp4', '182.mp4', '196.mp4', '169.mp4', '237.mp4', '223.mp4', '209.mp4', '235.mp4', '180.mp4', '194.mp4', '195.mp4', '181.mp4', '234.mp4', '208.mp4', '230.mp4', '224.mp4', '218.mp4', '185.mp4', '191.mp4', '190.mp4', '184.mp4', '219.mp4', '225.mp4', '231.mp4', '227.mp4', '179.mp4', '192.mp4', '186.mp4', '187.mp4', '193.mp4', '178.mp4', '226.mp4', '269.mp4', '241.mp4', '296.mp4', '309.mp4', '308.mp4', '240.mp4', '268.mp4', '256.mp4', '295.mp4', '281.mp4', '280.mp4', '257.mp4', '247.mp4', '285.mp4', '291.mp4', '246.mp4', '250.mp4', '278.mp4', '287.mp4', '324.mp4', '318.mp4', '319.mp4', '292.mp4', '286.mp4', '279.mp4', '251.mp4', '248.mp4', '260.mp4', '274.mp4', '300.mp4', '301.mp4', '261.mp4', '249.mp4', '303.mp4', '317.mp4', '316.mp4', '302.mp4', '272.mp4', '266.mp4', '306.mp4', '312.mp4', '313.mp4', '307.mp4', '267.mp4', '273.mp4', '271.mp4', '259.mp4', '311.mp4', '305.mp4', '304.mp4', '310.mp4', '258.mp4', '270.mp4', '203.mp4', '217.mp4', '175.mp4', '174.mp4', '216.mp4', '202.mp4', '228.mp4', '214.mp4', '200.mp4', '176.mp4', '189.mp4', '188.mp4', '177.mp4', '163.mp4', '201.mp4', '215.mp4', '229.mp4', '211.mp4', '205.mp4', '239.mp4', '173.mp4', '172.mp4', '238.mp4', '204.mp4', '210.mp4', '206.mp4', '212.mp4', '170.mp4', '158.mp4', '171.mp4', '213.mp4', '207.mp4']\n",
      "adding file\n"
     ]
    },
    {
     "name": "stderr",
     "output_type": "stream",
     "text": [
      "t:  52%|█████▏    | 62/120 [00:00<00:00, 615.70it/s, now=None]"
     ]
    },
    {
     "name": "stdout",
     "output_type": "stream",
     "text": [
      "Moviepy - Building video behavior_data/spinning/325.mp4.\n",
      "MoviePy - Writing audio in 325TEMP_MPY_wvf_snd.mp4\n",
      "MoviePy - Done.\n",
      "Moviepy - Writing video behavior_data/spinning/325.mp4\n",
      "\n"
     ]
    },
    {
     "name": "stderr",
     "output_type": "stream",
     "text": [
      "                                                              "
     ]
    },
    {
     "name": "stdout",
     "output_type": "stream",
     "text": [
      "Moviepy - Done !\n",
      "Moviepy - video ready behavior_data/spinning/325.mp4\n",
      "['96.mp4', '82.mp4', '154.mp4', '140.mp4', '7.mp4', '55.mp4', '6.mp4', '141.mp4', '221.mp4', '81.mp4', '95.mp4', '143.mp4', '157.mp4', '56.mp4', '5.mp4', '156.mp4', '142.mp4', '94.mp4', '80.mp4', '146.mp4', '53.mp4', '.DS_Store', '52.mp4', '153.mp4', '147.mp4', '233.mp4', '93.mp4', '87.mp4', '50.mp4', '79.mp4', '86.mp4', '232.mp4', '255.mp4', '282.mp4', '137.mp4', '36.mp4', '321.mp4', '320.mp4', '37.mp4', '136.mp4', '297.mp4', '283.mp4', '254.mp4', '242.mp4', '108.mp4', '134.mp4', '322.mp4', '323.mp4', '135.mp4', '109.mp4', '294.mp4', '243.mp4', '253.mp4', '290.mp4', '284.mp4', '131.mp4', '119.mp4', '18.mp4', '25.mp4', '19.mp4', '118.mp4', '130.mp4', '252.mp4', '244.mp4', '293.mp4', '132.mp4', '27.mp4', '26.mp4', '245.mp4', '116.mp4', '17.mp4', '314.mp4', '315.mp4', '16.mp4', '117.mp4', '277.mp4', '263.mp4', '288.mp4', '129.mp4', '101.mp4', '28.mp4', '100.mp4', '289.mp4', '262.mp4', '276.mp4', '299.mp4', '39.mp4', '11.mp4', '10.mp4', '38.mp4', '298.mp4', '265.mp4', '107.mp4', '12.mp4', '13.mp4', '106.mp4', '112.mp4', '264.mp4', '149.mp4', '161.mp4', '60.mp4', '61.mp4', '160.mp4', '148.mp4', '162.mp4', '88.mp4', '63.mp4', '62.mp4', '89.mp4', '99.mp4', '167.mp4', '98.mp4', '166.mp4', '164.mp4', '159.mp4', '165.mp4']\n",
      "adding file\n",
      "Moviepy - Building video behavior_data/control/326.mp4.\n",
      "MoviePy - Writing audio in 326TEMP_MPY_wvf_snd.mp4\n"
     ]
    },
    {
     "name": "stderr",
     "output_type": "stream",
     "text": [
      "t:  48%|████▊     | 57/120 [00:00<00:00, 559.12it/s, now=None]"
     ]
    },
    {
     "name": "stdout",
     "output_type": "stream",
     "text": [
      "MoviePy - Done.\n",
      "Moviepy - Writing video behavior_data/control/326.mp4\n",
      "\n"
     ]
    },
    {
     "name": "stderr",
     "output_type": "stream",
     "text": [
      "chunk:   0%|          | 0/89 [00:00<?, ?it/s, now=None]        "
     ]
    },
    {
     "name": "stdout",
     "output_type": "stream",
     "text": [
      "Moviepy - Done !\n",
      "Moviepy - video ready behavior_data/control/326.mp4\n",
      "['96.mp4', '82.mp4', '154.mp4', '140.mp4', '7.mp4', '55.mp4', '6.mp4', '141.mp4', '221.mp4', '81.mp4', '95.mp4', '143.mp4', '157.mp4', '56.mp4', '5.mp4', '156.mp4', '142.mp4', '94.mp4', '80.mp4', '146.mp4', '53.mp4', '.DS_Store', '52.mp4', '153.mp4', '147.mp4', '233.mp4', '93.mp4', '87.mp4', '50.mp4', '79.mp4', '86.mp4', '232.mp4', '255.mp4', '282.mp4', '137.mp4', '36.mp4', '321.mp4', '320.mp4', '37.mp4', '136.mp4', '297.mp4', '283.mp4', '254.mp4', '242.mp4', '108.mp4', '134.mp4', '322.mp4', '323.mp4', '135.mp4', '109.mp4', '294.mp4', '243.mp4', '253.mp4', '290.mp4', '284.mp4', '131.mp4', '119.mp4', '18.mp4', '326.mp4', '25.mp4', '19.mp4', '118.mp4', '130.mp4', '252.mp4', '244.mp4', '293.mp4', '132.mp4', '27.mp4', '26.mp4', '245.mp4', '116.mp4', '17.mp4', '314.mp4', '315.mp4', '16.mp4', '117.mp4', '277.mp4', '263.mp4', '288.mp4', '129.mp4', '101.mp4', '28.mp4', '100.mp4', '289.mp4', '262.mp4', '276.mp4', '299.mp4', '39.mp4', '11.mp4', '10.mp4', '38.mp4', '298.mp4', '265.mp4', '107.mp4', '12.mp4', '13.mp4', '106.mp4', '112.mp4', '264.mp4', '149.mp4', '161.mp4', '60.mp4', '61.mp4', '160.mp4', '148.mp4', '162.mp4', '88.mp4', '63.mp4', '62.mp4', '89.mp4', '99.mp4', '167.mp4', '98.mp4', '166.mp4', '164.mp4', '159.mp4', '165.mp4']\n",
      "adding file\n",
      "Moviepy - Building video behavior_data/control/327.mp4.\n",
      "MoviePy - Writing audio in 327TEMP_MPY_wvf_snd.mp4\n"
     ]
    },
    {
     "name": "stderr",
     "output_type": "stream",
     "text": [
      "t:  52%|█████▏    | 62/120 [00:00<00:00, 618.41it/s, now=None]"
     ]
    },
    {
     "name": "stdout",
     "output_type": "stream",
     "text": [
      "MoviePy - Done.\n",
      "Moviepy - Writing video behavior_data/control/327.mp4\n",
      "\n"
     ]
    },
    {
     "name": "stderr",
     "output_type": "stream",
     "text": [
      "chunk:   0%|          | 0/155 [00:00<?, ?it/s, now=None]      "
     ]
    },
    {
     "name": "stdout",
     "output_type": "stream",
     "text": [
      "Moviepy - Done !\n",
      "Moviepy - video ready behavior_data/control/327.mp4\n",
      "['96.mp4', '82.mp4', '154.mp4', '140.mp4', '7.mp4', '55.mp4', '6.mp4', '141.mp4', '221.mp4', '81.mp4', '95.mp4', '143.mp4', '157.mp4', '56.mp4', '5.mp4', '156.mp4', '142.mp4', '94.mp4', '80.mp4', '146.mp4', '53.mp4', '.DS_Store', '52.mp4', '153.mp4', '147.mp4', '233.mp4', '93.mp4', '87.mp4', '50.mp4', '79.mp4', '86.mp4', '232.mp4', '255.mp4', '282.mp4', '137.mp4', '36.mp4', '321.mp4', '320.mp4', '37.mp4', '136.mp4', '297.mp4', '283.mp4', '254.mp4', '242.mp4', '108.mp4', '134.mp4', '322.mp4', '323.mp4', '135.mp4', '109.mp4', '294.mp4', '243.mp4', '253.mp4', '290.mp4', '284.mp4', '131.mp4', '119.mp4', '18.mp4', '327.mp4', '326.mp4', '25.mp4', '19.mp4', '118.mp4', '130.mp4', '252.mp4', '244.mp4', '293.mp4', '132.mp4', '27.mp4', '26.mp4', '245.mp4', '116.mp4', '17.mp4', '314.mp4', '315.mp4', '16.mp4', '117.mp4', '277.mp4', '263.mp4', '288.mp4', '129.mp4', '101.mp4', '28.mp4', '100.mp4', '289.mp4', '262.mp4', '276.mp4', '299.mp4', '39.mp4', '11.mp4', '10.mp4', '38.mp4', '298.mp4', '265.mp4', '107.mp4', '12.mp4', '13.mp4', '106.mp4', '112.mp4', '264.mp4', '149.mp4', '161.mp4', '60.mp4', '61.mp4', '160.mp4', '148.mp4', '162.mp4', '88.mp4', '63.mp4', '62.mp4', '89.mp4', '99.mp4', '167.mp4', '98.mp4', '166.mp4', '164.mp4', '159.mp4', '165.mp4']\n",
      "adding file\n",
      "Moviepy - Building video behavior_data/control/328.mp4.\n",
      "MoviePy - Writing audio in 328TEMP_MPY_wvf_snd.mp4\n"
     ]
    },
    {
     "name": "stderr",
     "output_type": "stream",
     "text": [
      "t:  30%|███       | 63/210 [00:00<00:00, 615.36it/s, now=None]"
     ]
    },
    {
     "name": "stdout",
     "output_type": "stream",
     "text": [
      "MoviePy - Done.\n",
      "Moviepy - Writing video behavior_data/control/328.mp4\n",
      "\n"
     ]
    },
    {
     "name": "stderr",
     "output_type": "stream",
     "text": [
      "chunk:   0%|          | 0/155 [00:00<?, ?it/s, now=None]       "
     ]
    },
    {
     "name": "stdout",
     "output_type": "stream",
     "text": [
      "Moviepy - Done !\n",
      "Moviepy - video ready behavior_data/control/328.mp4\n",
      "['96.mp4', '82.mp4', '154.mp4', '140.mp4', '7.mp4', '55.mp4', '6.mp4', '141.mp4', '221.mp4', '81.mp4', '95.mp4', '143.mp4', '157.mp4', '56.mp4', '5.mp4', '156.mp4', '142.mp4', '94.mp4', '80.mp4', '146.mp4', '53.mp4', '.DS_Store', '52.mp4', '153.mp4', '147.mp4', '233.mp4', '93.mp4', '87.mp4', '50.mp4', '79.mp4', '86.mp4', '232.mp4', '255.mp4', '282.mp4', '137.mp4', '36.mp4', '321.mp4', '320.mp4', '37.mp4', '136.mp4', '297.mp4', '283.mp4', '254.mp4', '242.mp4', '108.mp4', '134.mp4', '322.mp4', '323.mp4', '135.mp4', '109.mp4', '294.mp4', '243.mp4', '253.mp4', '290.mp4', '284.mp4', '131.mp4', '119.mp4', '18.mp4', '327.mp4', '326.mp4', '25.mp4', '19.mp4', '118.mp4', '130.mp4', '252.mp4', '244.mp4', '293.mp4', '132.mp4', '27.mp4', '26.mp4', '245.mp4', '116.mp4', '17.mp4', '328.mp4', '314.mp4', '315.mp4', '16.mp4', '117.mp4', '277.mp4', '263.mp4', '288.mp4', '129.mp4', '101.mp4', '28.mp4', '100.mp4', '289.mp4', '262.mp4', '276.mp4', '299.mp4', '39.mp4', '11.mp4', '10.mp4', '38.mp4', '298.mp4', '265.mp4', '107.mp4', '12.mp4', '13.mp4', '106.mp4', '112.mp4', '264.mp4', '149.mp4', '161.mp4', '60.mp4', '61.mp4', '160.mp4', '148.mp4', '162.mp4', '88.mp4', '63.mp4', '62.mp4', '89.mp4', '99.mp4', '167.mp4', '98.mp4', '166.mp4', '164.mp4', '159.mp4', '165.mp4']\n",
      "adding file\n",
      "Moviepy - Building video behavior_data/control/329.mp4.\n",
      "MoviePy - Writing audio in 329TEMP_MPY_wvf_snd.mp4\n"
     ]
    },
    {
     "name": "stderr",
     "output_type": "stream",
     "text": [
      "t:  30%|██▉       | 62/210 [00:00<00:00, 618.90it/s, now=None]"
     ]
    },
    {
     "name": "stdout",
     "output_type": "stream",
     "text": [
      "MoviePy - Done.\n",
      "Moviepy - Writing video behavior_data/control/329.mp4\n",
      "\n"
     ]
    },
    {
     "name": "stderr",
     "output_type": "stream",
     "text": [
      "                                                               \r"
     ]
    },
    {
     "name": "stdout",
     "output_type": "stream",
     "text": [
      "Moviepy - Done !\n",
      "Moviepy - video ready behavior_data/control/329.mp4\n",
      "staring the 46th file\n",
      "http://www.youtube.com/watch?v=wu5fgT-LkHs\n",
      "This is url:  http://www.youtube.com/watch?v=wu5fgT-LkHs\n",
      "annoying url: http://www.youtube.com/watch?v=wu5fgT-LkHs\n",
      "wu5fgT-LkHs is unavailable\n",
      "staring the 47th file\n",
      "http://www.youtube.com/watch?v=uNpUNkjNreg\n",
      "This is url:  http://www.youtube.com/watch?v=uNpUNkjNreg\n"
     ]
    },
    {
     "name": "stderr",
     "output_type": "stream",
     "text": [
      "\r",
      "chunk:   0%|          | 0/155 [00:00<?, ?it/s, now=None]"
     ]
    },
    {
     "name": "stdout",
     "output_type": "stream",
     "text": [
      "['222.mp4', '236.mp4', '168.mp4', '197.mp4', '183.mp4', '182.mp4', '196.mp4', '169.mp4', '237.mp4', '223.mp4', '209.mp4', '235.mp4', '180.mp4', '194.mp4', '195.mp4', '181.mp4', '234.mp4', '208.mp4', '230.mp4', '224.mp4', '218.mp4', '185.mp4', '191.mp4', '190.mp4', '184.mp4', '219.mp4', '225.mp4', '231.mp4', '227.mp4', '179.mp4', '192.mp4', '186.mp4', '187.mp4', '193.mp4', '178.mp4', '226.mp4', '269.mp4', '241.mp4', '296.mp4', '309.mp4', '308.mp4', '240.mp4', '268.mp4', '256.mp4', '295.mp4', '281.mp4', '280.mp4', '257.mp4', '247.mp4', '285.mp4', '291.mp4', '246.mp4', '250.mp4', '278.mp4', '287.mp4', '324.mp4', '318.mp4', '319.mp4', '325.mp4', '292.mp4', '286.mp4', '279.mp4', '251.mp4', '248.mp4', '260.mp4', '274.mp4', '300.mp4', '301.mp4', '261.mp4', '249.mp4', '303.mp4', '317.mp4', '316.mp4', '302.mp4', '272.mp4', '266.mp4', '306.mp4', '312.mp4', '313.mp4', '307.mp4', '267.mp4', '273.mp4', '271.mp4', '259.mp4', '311.mp4', '305.mp4', '304.mp4', '310.mp4', '258.mp4', '270.mp4', '203.mp4', '217.mp4', '175.mp4', '174.mp4', '216.mp4', '202.mp4', '228.mp4', '214.mp4', '200.mp4', '176.mp4', '189.mp4', '188.mp4', '177.mp4', '163.mp4', '201.mp4', '215.mp4', '229.mp4', '211.mp4', '205.mp4', '239.mp4', '173.mp4', '172.mp4', '238.mp4', '204.mp4', '210.mp4', '206.mp4', '212.mp4', '170.mp4', '158.mp4', '171.mp4', '213.mp4', '207.mp4']\n",
      "adding file\n",
      "Moviepy - Building video behavior_data/spinning/330.mp4.\n",
      "MoviePy - Writing audio in 330TEMP_MPY_wvf_snd.mp4\n"
     ]
    },
    {
     "name": "stderr",
     "output_type": "stream",
     "text": [
      "t:  52%|█████▏    | 109/210 [00:00<00:00, 1065.92it/s, now=None]    "
     ]
    },
    {
     "name": "stdout",
     "output_type": "stream",
     "text": [
      "MoviePy - Done.\n",
      "Moviepy - Writing video behavior_data/spinning/330.mp4\n",
      "\n"
     ]
    },
    {
     "name": "stderr",
     "output_type": "stream",
     "text": [
      "chunk:   0%|          | 0/155 [00:00<?, ?it/s, now=None]        "
     ]
    },
    {
     "name": "stdout",
     "output_type": "stream",
     "text": [
      "Moviepy - Done !\n",
      "Moviepy - video ready behavior_data/spinning/330.mp4\n",
      "['222.mp4', '236.mp4', '168.mp4', '197.mp4', '183.mp4', '182.mp4', '196.mp4', '169.mp4', '237.mp4', '223.mp4', '209.mp4', '235.mp4', '180.mp4', '194.mp4', '195.mp4', '181.mp4', '234.mp4', '208.mp4', '230.mp4', '224.mp4', '218.mp4', '185.mp4', '191.mp4', '190.mp4', '184.mp4', '219.mp4', '225.mp4', '231.mp4', '227.mp4', '179.mp4', '192.mp4', '186.mp4', '187.mp4', '193.mp4', '178.mp4', '226.mp4', '269.mp4', '241.mp4', '296.mp4', '309.mp4', '308.mp4', '240.mp4', '268.mp4', '256.mp4', '295.mp4', '281.mp4', '280.mp4', '257.mp4', '247.mp4', '285.mp4', '291.mp4', '246.mp4', '250.mp4', '278.mp4', '287.mp4', '330.mp4', '324.mp4', '318.mp4', '319.mp4', '325.mp4', '292.mp4', '286.mp4', '279.mp4', '251.mp4', '248.mp4', '260.mp4', '274.mp4', '300.mp4', '301.mp4', '261.mp4', '249.mp4', '303.mp4', '317.mp4', '316.mp4', '302.mp4', '272.mp4', '266.mp4', '306.mp4', '312.mp4', '313.mp4', '307.mp4', '267.mp4', '273.mp4', '271.mp4', '259.mp4', '311.mp4', '305.mp4', '304.mp4', '310.mp4', '258.mp4', '270.mp4', '203.mp4', '217.mp4', '175.mp4', '174.mp4', '216.mp4', '202.mp4', '228.mp4', '214.mp4', '200.mp4', '176.mp4', '189.mp4', '188.mp4', '177.mp4', '163.mp4', '201.mp4', '215.mp4', '229.mp4', '211.mp4', '205.mp4', '239.mp4', '173.mp4', '172.mp4', '238.mp4', '204.mp4', '210.mp4', '206.mp4', '212.mp4', '170.mp4', '158.mp4', '171.mp4', '213.mp4', '207.mp4']\n",
      "adding file\n",
      "Moviepy - Building video behavior_data/spinning/331.mp4.\n",
      "MoviePy - Writing audio in 331TEMP_MPY_wvf_snd.mp4\n"
     ]
    },
    {
     "name": "stderr",
     "output_type": "stream",
     "text": [
      "t:  49%|████▉     | 103/210 [00:00<00:00, 1024.62it/s, now=None]    "
     ]
    },
    {
     "name": "stdout",
     "output_type": "stream",
     "text": [
      "MoviePy - Done.\n",
      "Moviepy - Writing video behavior_data/spinning/331.mp4\n",
      "\n"
     ]
    },
    {
     "name": "stderr",
     "output_type": "stream",
     "text": [
      "chunk:   0%|          | 0/155 [00:00<?, ?it/s, now=None]        "
     ]
    },
    {
     "name": "stdout",
     "output_type": "stream",
     "text": [
      "Moviepy - Done !\n",
      "Moviepy - video ready behavior_data/spinning/331.mp4\n",
      "['96.mp4', '82.mp4', '154.mp4', '140.mp4', '7.mp4', '55.mp4', '6.mp4', '141.mp4', '221.mp4', '81.mp4', '95.mp4', '143.mp4', '157.mp4', '56.mp4', '5.mp4', '156.mp4', '142.mp4', '94.mp4', '80.mp4', '146.mp4', '53.mp4', '.DS_Store', '52.mp4', '153.mp4', '147.mp4', '233.mp4', '93.mp4', '87.mp4', '50.mp4', '79.mp4', '86.mp4', '232.mp4', '255.mp4', '282.mp4', '137.mp4', '36.mp4', '321.mp4', '320.mp4', '37.mp4', '136.mp4', '297.mp4', '283.mp4', '254.mp4', '242.mp4', '108.mp4', '134.mp4', '322.mp4', '323.mp4', '135.mp4', '109.mp4', '294.mp4', '243.mp4', '253.mp4', '290.mp4', '284.mp4', '131.mp4', '119.mp4', '18.mp4', '327.mp4', '326.mp4', '25.mp4', '19.mp4', '118.mp4', '130.mp4', '252.mp4', '244.mp4', '293.mp4', '132.mp4', '27.mp4', '26.mp4', '245.mp4', '116.mp4', '17.mp4', '328.mp4', '314.mp4', '315.mp4', '329.mp4', '16.mp4', '117.mp4', '277.mp4', '263.mp4', '288.mp4', '129.mp4', '101.mp4', '28.mp4', '100.mp4', '289.mp4', '262.mp4', '276.mp4', '299.mp4', '39.mp4', '11.mp4', '10.mp4', '38.mp4', '298.mp4', '265.mp4', '107.mp4', '12.mp4', '13.mp4', '106.mp4', '112.mp4', '264.mp4', '149.mp4', '161.mp4', '60.mp4', '61.mp4', '160.mp4', '148.mp4', '162.mp4', '88.mp4', '63.mp4', '62.mp4', '89.mp4', '99.mp4', '167.mp4', '98.mp4', '166.mp4', '164.mp4', '159.mp4', '165.mp4']\n",
      "adding file\n",
      "Moviepy - Building video behavior_data/control/332.mp4.\n",
      "MoviePy - Writing audio in 332TEMP_MPY_wvf_snd.mp4\n"
     ]
    },
    {
     "name": "stderr",
     "output_type": "stream",
     "text": [
      "t:  50%|████▉     | 104/210 [00:00<00:00, 1013.13it/s, now=None]"
     ]
    },
    {
     "name": "stdout",
     "output_type": "stream",
     "text": [
      "MoviePy - Done.\n",
      "Moviepy - Writing video behavior_data/control/332.mp4\n",
      "\n"
     ]
    },
    {
     "name": "stderr",
     "output_type": "stream",
     "text": [
      "chunk:   0%|          | 0/155 [00:00<?, ?it/s, now=None]        "
     ]
    },
    {
     "name": "stdout",
     "output_type": "stream",
     "text": [
      "Moviepy - Done !\n",
      "Moviepy - video ready behavior_data/control/332.mp4\n",
      "['96.mp4', '82.mp4', '154.mp4', '140.mp4', '7.mp4', '55.mp4', '6.mp4', '141.mp4', '221.mp4', '81.mp4', '95.mp4', '143.mp4', '157.mp4', '56.mp4', '5.mp4', '156.mp4', '142.mp4', '94.mp4', '80.mp4', '146.mp4', '53.mp4', '.DS_Store', '52.mp4', '153.mp4', '147.mp4', '233.mp4', '93.mp4', '87.mp4', '50.mp4', '79.mp4', '86.mp4', '232.mp4', '255.mp4', '282.mp4', '137.mp4', '36.mp4', '321.mp4', '320.mp4', '37.mp4', '136.mp4', '297.mp4', '283.mp4', '254.mp4', '242.mp4', '108.mp4', '134.mp4', '322.mp4', '323.mp4', '135.mp4', '109.mp4', '294.mp4', '243.mp4', '253.mp4', '290.mp4', '284.mp4', '131.mp4', '119.mp4', '18.mp4', '327.mp4', '332.mp4', '326.mp4', '25.mp4', '19.mp4', '118.mp4', '130.mp4', '252.mp4', '244.mp4', '293.mp4', '132.mp4', '27.mp4', '26.mp4', '245.mp4', '116.mp4', '17.mp4', '328.mp4', '314.mp4', '315.mp4', '329.mp4', '16.mp4', '117.mp4', '277.mp4', '263.mp4', '288.mp4', '129.mp4', '101.mp4', '28.mp4', '100.mp4', '289.mp4', '262.mp4', '276.mp4', '299.mp4', '39.mp4', '11.mp4', '10.mp4', '38.mp4', '298.mp4', '265.mp4', '107.mp4', '12.mp4', '13.mp4', '106.mp4', '112.mp4', '264.mp4', '149.mp4', '161.mp4', '60.mp4', '61.mp4', '160.mp4', '148.mp4', '162.mp4', '88.mp4', '63.mp4', '62.mp4', '89.mp4', '99.mp4', '167.mp4', '98.mp4', '166.mp4', '164.mp4', '159.mp4', '165.mp4']\n",
      "adding file\n",
      "Moviepy - Building video behavior_data/control/333.mp4.\n",
      "MoviePy - Writing audio in 333TEMP_MPY_wvf_snd.mp4\n"
     ]
    },
    {
     "name": "stderr",
     "output_type": "stream",
     "text": [
      "t:  54%|█████▍    | 114/210 [00:00<00:00, 1129.07it/s, now=None]"
     ]
    },
    {
     "name": "stdout",
     "output_type": "stream",
     "text": [
      "MoviePy - Done.\n",
      "Moviepy - Writing video behavior_data/control/333.mp4\n",
      "\n"
     ]
    },
    {
     "name": "stderr",
     "output_type": "stream",
     "text": [
      "chunk:   0%|          | 0/155 [00:00<?, ?it/s, now=None]        "
     ]
    },
    {
     "name": "stdout",
     "output_type": "stream",
     "text": [
      "Moviepy - Done !\n",
      "Moviepy - video ready behavior_data/control/333.mp4\n",
      "['96.mp4', '82.mp4', '154.mp4', '140.mp4', '7.mp4', '55.mp4', '6.mp4', '141.mp4', '221.mp4', '81.mp4', '95.mp4', '143.mp4', '157.mp4', '56.mp4', '5.mp4', '156.mp4', '142.mp4', '94.mp4', '80.mp4', '146.mp4', '53.mp4', '.DS_Store', '52.mp4', '153.mp4', '147.mp4', '233.mp4', '93.mp4', '87.mp4', '50.mp4', '79.mp4', '86.mp4', '232.mp4', '255.mp4', '282.mp4', '137.mp4', '36.mp4', '321.mp4', '320.mp4', '37.mp4', '136.mp4', '297.mp4', '283.mp4', '254.mp4', '242.mp4', '108.mp4', '134.mp4', '322.mp4', '323.mp4', '135.mp4', '109.mp4', '294.mp4', '243.mp4', '253.mp4', '290.mp4', '284.mp4', '131.mp4', '119.mp4', '18.mp4', '327.mp4', '333.mp4', '332.mp4', '326.mp4', '25.mp4', '19.mp4', '118.mp4', '130.mp4', '252.mp4', '244.mp4', '293.mp4', '132.mp4', '27.mp4', '26.mp4', '245.mp4', '116.mp4', '17.mp4', '328.mp4', '314.mp4', '315.mp4', '329.mp4', '16.mp4', '117.mp4', '277.mp4', '263.mp4', '288.mp4', '129.mp4', '101.mp4', '28.mp4', '100.mp4', '289.mp4', '262.mp4', '276.mp4', '299.mp4', '39.mp4', '11.mp4', '10.mp4', '38.mp4', '298.mp4', '265.mp4', '107.mp4', '12.mp4', '13.mp4', '106.mp4', '112.mp4', '264.mp4', '149.mp4', '161.mp4', '60.mp4', '61.mp4', '160.mp4', '148.mp4', '162.mp4', '88.mp4', '63.mp4', '62.mp4', '89.mp4', '99.mp4', '167.mp4', '98.mp4', '166.mp4', '164.mp4', '159.mp4', '165.mp4']\n",
      "adding file\n",
      "Moviepy - Building video behavior_data/control/334.mp4.\n",
      "MoviePy - Writing audio in 334TEMP_MPY_wvf_snd.mp4\n"
     ]
    },
    {
     "name": "stderr",
     "output_type": "stream",
     "text": [
      "t:  50%|█████     | 106/210 [00:00<00:00, 1059.58it/s, now=None]    "
     ]
    },
    {
     "name": "stdout",
     "output_type": "stream",
     "text": [
      "MoviePy - Done.\n",
      "Moviepy - Writing video behavior_data/control/334.mp4\n",
      "\n"
     ]
    },
    {
     "name": "stderr",
     "output_type": "stream",
     "text": [
      "chunk:   0%|          | 0/155 [00:00<?, ?it/s, now=None]        "
     ]
    },
    {
     "name": "stdout",
     "output_type": "stream",
     "text": [
      "Moviepy - Done !\n",
      "Moviepy - video ready behavior_data/control/334.mp4\n",
      "['96.mp4', '82.mp4', '154.mp4', '140.mp4', '7.mp4', '55.mp4', '6.mp4', '141.mp4', '221.mp4', '81.mp4', '95.mp4', '143.mp4', '157.mp4', '56.mp4', '5.mp4', '156.mp4', '142.mp4', '94.mp4', '80.mp4', '146.mp4', '53.mp4', '.DS_Store', '52.mp4', '153.mp4', '147.mp4', '233.mp4', '93.mp4', '87.mp4', '50.mp4', '79.mp4', '86.mp4', '232.mp4', '255.mp4', '282.mp4', '137.mp4', '36.mp4', '321.mp4', '320.mp4', '334.mp4', '37.mp4', '136.mp4', '297.mp4', '283.mp4', '254.mp4', '242.mp4', '108.mp4', '134.mp4', '322.mp4', '323.mp4', '135.mp4', '109.mp4', '294.mp4', '243.mp4', '253.mp4', '290.mp4', '284.mp4', '131.mp4', '119.mp4', '18.mp4', '327.mp4', '333.mp4', '332.mp4', '326.mp4', '25.mp4', '19.mp4', '118.mp4', '130.mp4', '252.mp4', '244.mp4', '293.mp4', '132.mp4', '27.mp4', '26.mp4', '245.mp4', '116.mp4', '17.mp4', '328.mp4', '314.mp4', '315.mp4', '329.mp4', '16.mp4', '117.mp4', '277.mp4', '263.mp4', '288.mp4', '129.mp4', '101.mp4', '28.mp4', '100.mp4', '289.mp4', '262.mp4', '276.mp4', '299.mp4', '39.mp4', '11.mp4', '10.mp4', '38.mp4', '298.mp4', '265.mp4', '107.mp4', '12.mp4', '13.mp4', '106.mp4', '112.mp4', '264.mp4', '149.mp4', '161.mp4', '60.mp4', '61.mp4', '160.mp4', '148.mp4', '162.mp4', '88.mp4', '63.mp4', '62.mp4', '89.mp4', '99.mp4', '167.mp4', '98.mp4', '166.mp4', '164.mp4', '159.mp4', '165.mp4']\n",
      "adding file\n",
      "Moviepy - Building video behavior_data/control/335.mp4.\n",
      "MoviePy - Writing audio in 335TEMP_MPY_wvf_snd.mp4\n"
     ]
    },
    {
     "name": "stderr",
     "output_type": "stream",
     "text": [
      "t:  52%|█████▏    | 109/210 [00:00<00:00, 1048.44it/s, now=None]"
     ]
    },
    {
     "name": "stdout",
     "output_type": "stream",
     "text": [
      "MoviePy - Done.\n",
      "Moviepy - Writing video behavior_data/control/335.mp4\n",
      "\n"
     ]
    },
    {
     "name": "stderr",
     "output_type": "stream",
     "text": [
      "                                                                \r"
     ]
    },
    {
     "name": "stdout",
     "output_type": "stream",
     "text": [
      "Moviepy - Done !\n",
      "Moviepy - video ready behavior_data/control/335.mp4\n",
      "staring the 48th file\n",
      "http://www.youtube.com/watch?v=gKED6S0eGYA\n",
      "This is url:  http://www.youtube.com/watch?v=gKED6S0eGYA\n"
     ]
    },
    {
     "name": "stderr",
     "output_type": "stream",
     "text": [
      "t:   0%|          | 0/120 [00:00<?, ?it/s, now=None]   "
     ]
    },
    {
     "name": "stdout",
     "output_type": "stream",
     "text": [
      "['222.mp4', '236.mp4', '168.mp4', '197.mp4', '183.mp4', '182.mp4', '196.mp4', '169.mp4', '237.mp4', '223.mp4', '209.mp4', '235.mp4', '180.mp4', '194.mp4', '195.mp4', '181.mp4', '234.mp4', '208.mp4', '230.mp4', '224.mp4', '218.mp4', '185.mp4', '191.mp4', '190.mp4', '184.mp4', '219.mp4', '225.mp4', '231.mp4', '227.mp4', '179.mp4', '192.mp4', '186.mp4', '187.mp4', '193.mp4', '178.mp4', '226.mp4', '269.mp4', '241.mp4', '296.mp4', '309.mp4', '308.mp4', '240.mp4', '268.mp4', '256.mp4', '295.mp4', '281.mp4', '280.mp4', '257.mp4', '247.mp4', '285.mp4', '291.mp4', '246.mp4', '250.mp4', '278.mp4', '287.mp4', '330.mp4', '324.mp4', '318.mp4', '319.mp4', '325.mp4', '331.mp4', '292.mp4', '286.mp4', '279.mp4', '251.mp4', '248.mp4', '260.mp4', '274.mp4', '300.mp4', '301.mp4', '261.mp4', '249.mp4', '303.mp4', '317.mp4', '316.mp4', '302.mp4', '272.mp4', '266.mp4', '306.mp4', '312.mp4', '313.mp4', '307.mp4', '267.mp4', '273.mp4', '271.mp4', '259.mp4', '311.mp4', '305.mp4', '304.mp4', '310.mp4', '258.mp4', '270.mp4', '203.mp4', '217.mp4', '175.mp4', '174.mp4', '216.mp4', '202.mp4', '228.mp4', '214.mp4', '200.mp4', '176.mp4', '189.mp4', '188.mp4', '177.mp4', '163.mp4', '201.mp4', '215.mp4', '229.mp4', '211.mp4', '205.mp4', '239.mp4', '173.mp4', '172.mp4', '238.mp4', '204.mp4', '210.mp4', '206.mp4', '212.mp4', '170.mp4', '158.mp4', '171.mp4', '213.mp4', '207.mp4']\n",
      "adding file\n",
      "Moviepy - Building video behavior_data/spinning/336.mp4.\n",
      "MoviePy - Writing audio in 336TEMP_MPY_wvf_snd.mp4\n",
      "MoviePy - Done.\n",
      "Moviepy - Writing video behavior_data/spinning/336.mp4\n",
      "\n"
     ]
    },
    {
     "name": "stderr",
     "output_type": "stream",
     "text": [
      "chunk:   0%|          | 0/89 [00:00<?, ?it/s, now=None]       "
     ]
    },
    {
     "name": "stdout",
     "output_type": "stream",
     "text": [
      "Moviepy - Done !\n",
      "Moviepy - video ready behavior_data/spinning/336.mp4\n",
      "['222.mp4', '236.mp4', '168.mp4', '197.mp4', '183.mp4', '182.mp4', '196.mp4', '169.mp4', '237.mp4', '223.mp4', '209.mp4', '235.mp4', '180.mp4', '194.mp4', '195.mp4', '181.mp4', '234.mp4', '208.mp4', '230.mp4', '224.mp4', '218.mp4', '185.mp4', '191.mp4', '190.mp4', '184.mp4', '219.mp4', '225.mp4', '231.mp4', '227.mp4', '179.mp4', '192.mp4', '186.mp4', '187.mp4', '193.mp4', '178.mp4', '226.mp4', '269.mp4', '241.mp4', '296.mp4', '309.mp4', '308.mp4', '240.mp4', '268.mp4', '256.mp4', '295.mp4', '281.mp4', '336.mp4', '280.mp4', '257.mp4', '247.mp4', '285.mp4', '291.mp4', '246.mp4', '250.mp4', '278.mp4', '287.mp4', '330.mp4', '324.mp4', '318.mp4', '319.mp4', '325.mp4', '331.mp4', '292.mp4', '286.mp4', '279.mp4', '251.mp4', '248.mp4', '260.mp4', '274.mp4', '300.mp4', '301.mp4', '261.mp4', '249.mp4', '303.mp4', '317.mp4', '316.mp4', '302.mp4', '272.mp4', '266.mp4', '306.mp4', '312.mp4', '313.mp4', '307.mp4', '267.mp4', '273.mp4', '271.mp4', '259.mp4', '311.mp4', '305.mp4', '304.mp4', '310.mp4', '258.mp4', '270.mp4', '203.mp4', '217.mp4', '175.mp4', '174.mp4', '216.mp4', '202.mp4', '228.mp4', '214.mp4', '200.mp4', '176.mp4', '189.mp4', '188.mp4', '177.mp4', '163.mp4', '201.mp4', '215.mp4', '229.mp4', '211.mp4', '205.mp4', '239.mp4', '173.mp4', '172.mp4', '238.mp4', '204.mp4', '210.mp4', '206.mp4', '212.mp4', '170.mp4', '158.mp4', '171.mp4', '213.mp4', '207.mp4']\n",
      "adding file\n",
      "Moviepy - Building video behavior_data/spinning/337.mp4.\n",
      "MoviePy - Writing audio in 337TEMP_MPY_wvf_snd.mp4\n"
     ]
    },
    {
     "name": "stderr",
     "output_type": "stream",
     "text": [
      "                                                              \r"
     ]
    },
    {
     "name": "stdout",
     "output_type": "stream",
     "text": [
      "MoviePy - Done.\n",
      "Moviepy - Writing video behavior_data/spinning/337.mp4\n",
      "\n"
     ]
    },
    {
     "name": "stderr",
     "output_type": "stream",
     "text": [
      "\r",
      "chunk:   0%|          | 0/1 [00:00<?, ?it/s, now=None]"
     ]
    },
    {
     "name": "stdout",
     "output_type": "stream",
     "text": [
      "Moviepy - Done !\n",
      "Moviepy - video ready behavior_data/spinning/337.mp4\n",
      "['96.mp4', '82.mp4', '154.mp4', '140.mp4', '7.mp4', '55.mp4', '6.mp4', '141.mp4', '221.mp4', '81.mp4', '95.mp4', '143.mp4', '157.mp4', '56.mp4', '5.mp4', '156.mp4', '142.mp4', '94.mp4', '80.mp4', '146.mp4', '53.mp4', '.DS_Store', '52.mp4', '153.mp4', '147.mp4', '233.mp4', '93.mp4', '87.mp4', '50.mp4', '79.mp4', '86.mp4', '232.mp4', '255.mp4', '282.mp4', '137.mp4', '36.mp4', '335.mp4', '321.mp4', '320.mp4', '334.mp4', '37.mp4', '136.mp4', '297.mp4', '283.mp4', '254.mp4', '242.mp4', '108.mp4', '134.mp4', '322.mp4', '323.mp4', '135.mp4', '109.mp4', '294.mp4', '243.mp4', '253.mp4', '290.mp4', '284.mp4', '131.mp4', '119.mp4', '18.mp4', '327.mp4', '333.mp4', '332.mp4', '326.mp4', '25.mp4', '19.mp4', '118.mp4', '130.mp4', '252.mp4', '244.mp4', '293.mp4', '132.mp4', '27.mp4', '26.mp4', '245.mp4', '116.mp4', '17.mp4', '328.mp4', '314.mp4', '315.mp4', '329.mp4', '16.mp4', '117.mp4', '277.mp4', '263.mp4', '288.mp4', '129.mp4', '101.mp4', '28.mp4', '100.mp4', '289.mp4', '262.mp4', '276.mp4', '299.mp4', '39.mp4', '11.mp4', '10.mp4', '38.mp4', '298.mp4', '265.mp4', '107.mp4', '12.mp4', '13.mp4', '106.mp4', '112.mp4', '264.mp4', '149.mp4', '161.mp4', '60.mp4', '61.mp4', '160.mp4', '148.mp4', '162.mp4', '88.mp4', '63.mp4', '62.mp4', '89.mp4', '99.mp4', '167.mp4', '98.mp4', '166.mp4', '164.mp4', '159.mp4', '165.mp4']\n",
      "adding file\n",
      "Moviepy - Building video behavior_data/control/338.mp4.\n",
      "MoviePy - Writing audio in 338TEMP_MPY_wvf_snd.mp4\n",
      "failed on 338\n",
      "['96.mp4', '82.mp4', '154.mp4', '140.mp4', '7.mp4', '55.mp4', '6.mp4', '141.mp4', '221.mp4', '81.mp4', '95.mp4', '143.mp4', '157.mp4', '56.mp4', '5.mp4', '156.mp4', '142.mp4', '94.mp4', '80.mp4', '146.mp4', '53.mp4', '.DS_Store', '52.mp4', '153.mp4', '147.mp4', '233.mp4', '93.mp4', '87.mp4', '50.mp4', '79.mp4', '86.mp4', '232.mp4', '255.mp4', '282.mp4', '137.mp4', '36.mp4', '335.mp4', '321.mp4', '320.mp4', '334.mp4', '37.mp4', '136.mp4', '297.mp4', '283.mp4', '254.mp4', '242.mp4', '108.mp4', '134.mp4', '322.mp4', '323.mp4', '135.mp4', '109.mp4', '294.mp4', '243.mp4', '253.mp4', '290.mp4', '284.mp4', '131.mp4', '119.mp4', '18.mp4', '327.mp4', '333.mp4', '332.mp4', '326.mp4', '25.mp4', '19.mp4', '118.mp4', '130.mp4', '252.mp4', '244.mp4', '293.mp4', '132.mp4', '27.mp4', '26.mp4', '245.mp4', '116.mp4', '17.mp4', '328.mp4', '314.mp4', '315.mp4', '329.mp4', '16.mp4', '117.mp4', '277.mp4', '263.mp4', '288.mp4', '129.mp4', '101.mp4', '28.mp4', '100.mp4', '289.mp4', '262.mp4', '276.mp4', '299.mp4', '39.mp4', '11.mp4', '10.mp4', '38.mp4', '298.mp4', '265.mp4', '107.mp4', '12.mp4', '13.mp4', '106.mp4', '112.mp4', '264.mp4', '149.mp4', '161.mp4', '60.mp4', '61.mp4', '160.mp4', '148.mp4', '162.mp4', '88.mp4', '63.mp4', '62.mp4', '89.mp4', '99.mp4', '167.mp4', '98.mp4', '166.mp4', '164.mp4', '159.mp4', '165.mp4']\n",
      "adding file\n"
     ]
    },
    {
     "name": "stderr",
     "output_type": "stream",
     "text": [
      "chunk: 100%|██████████| 1/1 [00:00<00:00,  4.74it/s, now=None]\n",
      "chunk:   0%|          | 0/155 [00:00<?, ?it/s, now=None]\u001b[A\n",
      "chunk: 100%|██████████| 1/1 [00:00<00:00,  3.16it/s, now=None]\n",
      "t:   0%|          | 0/210 [00:00<?, ?it/s, now=None]\u001b[A"
     ]
    },
    {
     "name": "stdout",
     "output_type": "stream",
     "text": [
      "Moviepy - Building video behavior_data/control/339.mp4.\n",
      "MoviePy - Writing audio in 339TEMP_MPY_wvf_snd.mp4\n",
      "MoviePy - Done.\n",
      "Moviepy - Writing video behavior_data/control/339.mp4\n",
      "\n"
     ]
    },
    {
     "name": "stderr",
     "output_type": "stream",
     "text": [
      "\n",
      "t:  34%|███▍      | 72/210 [00:00<00:00, 677.30it/s, now=None]\u001b[A\n",
      "t:  67%|██████▋   | 140/210 [00:00<00:00, 658.84it/s, now=None]\u001b[A\n",
      "t:  98%|█████████▊| 206/210 [00:00<00:00, 644.40it/s, now=None]\u001b[A\n",
      "chunk: 100%|██████████| 1/1 [00:00<00:00,  1.07it/s, now=None] \u001b[A\n"
     ]
    },
    {
     "name": "stdout",
     "output_type": "stream",
     "text": [
      "Moviepy - Done !\n",
      "Moviepy - video ready behavior_data/control/339.mp4\n",
      "['96.mp4', '82.mp4', '154.mp4', '140.mp4', '7.mp4', '55.mp4', '6.mp4', '141.mp4', '221.mp4', '81.mp4', '95.mp4', '143.mp4', '157.mp4', '56.mp4', '5.mp4', '156.mp4', '142.mp4', '94.mp4', '80.mp4', '146.mp4', '53.mp4', '.DS_Store', '52.mp4', '153.mp4', '147.mp4', '233.mp4', '93.mp4', '87.mp4', '50.mp4', '79.mp4', '86.mp4', '232.mp4', '255.mp4', '282.mp4', '137.mp4', '36.mp4', '335.mp4', '321.mp4', '320.mp4', '334.mp4', '37.mp4', '136.mp4', '297.mp4', '283.mp4', '254.mp4', '242.mp4', '108.mp4', '134.mp4', '322.mp4', '323.mp4', '135.mp4', '109.mp4', '294.mp4', '243.mp4', '253.mp4', '290.mp4', '284.mp4', '131.mp4', '119.mp4', '18.mp4', '327.mp4', '333.mp4', '332.mp4', '326.mp4', '25.mp4', '19.mp4', '118.mp4', '130.mp4', '252.mp4', '244.mp4', '293.mp4', '132.mp4', '27.mp4', '26.mp4', '245.mp4', '116.mp4', '17.mp4', '328.mp4', '314.mp4', '315.mp4', '329.mp4', '16.mp4', '117.mp4', '277.mp4', '263.mp4', '288.mp4', '129.mp4', '101.mp4', '28.mp4', '100.mp4', '289.mp4', '262.mp4', '276.mp4', '299.mp4', '39.mp4', '11.mp4', '10.mp4', '38.mp4', '298.mp4', '265.mp4', '107.mp4', '12.mp4', '339.mp4', '13.mp4', '106.mp4', '112.mp4', '264.mp4', '149.mp4', '161.mp4', '60.mp4', '61.mp4', '160.mp4', '148.mp4', '162.mp4', '88.mp4', '63.mp4', '62.mp4', '89.mp4', '99.mp4', '167.mp4', '98.mp4', '166.mp4', '164.mp4', '159.mp4', '165.mp4']\n",
      "adding file\n",
      "Moviepy - Building video behavior_data/control/340.mp4.\n",
      "MoviePy - Writing audio in 340TEMP_MPY_wvf_snd.mp4\n"
     ]
    },
    {
     "name": "stderr",
     "output_type": "stream",
     "text": [
      "chunk:   0%|          | 0/133 [00:00<?, ?it/s, now=None]\u001b[A\n",
      "chunk: 100%|██████████| 1/1 [00:01<00:00,  1.03s/it, now=None]\n",
      "t:   0%|          | 0/180 [00:00<?, ?it/s, now=None]\u001b[A\n",
      "t:  38%|███▊      | 69/180 [00:00<00:00, 684.78it/s, now=None]\u001b[A"
     ]
    },
    {
     "name": "stdout",
     "output_type": "stream",
     "text": [
      "MoviePy - Done.\n",
      "Moviepy - Writing video behavior_data/control/340.mp4\n",
      "\n"
     ]
    },
    {
     "name": "stderr",
     "output_type": "stream",
     "text": [
      "\n",
      "t:  77%|███████▋  | 138/180 [00:00<00:00, 653.75it/s, now=None]\u001b[A\n",
      "chunk: 100%|██████████| 1/1 [00:01<00:00,  1.41s/it, now=None] \u001b[A"
     ]
    },
    {
     "name": "stdout",
     "output_type": "stream",
     "text": [
      "Moviepy - Done !\n",
      "Moviepy - video ready behavior_data/control/340.mp4\n",
      "staring the 49th file\n",
      "http://www.youtube.com/watch?v=pgj_LKf6jL4\n",
      "This is url:  http://www.youtube.com/watch?v=pgj_LKf6jL4\n"
     ]
    },
    {
     "name": "stderr",
     "output_type": "stream",
     "text": [
      "chunk: 100%|██████████| 1/1 [00:03<00:00,  3.01s/it, now=None]\n",
      "chunk:   0%|          | 0/155 [00:00<?, ?it/s, now=None]\u001b[A"
     ]
    },
    {
     "name": "stdout",
     "output_type": "stream",
     "text": [
      "['222.mp4', '236.mp4', '168.mp4', '197.mp4', '183.mp4', '182.mp4', '196.mp4', '169.mp4', '237.mp4', '223.mp4', '209.mp4', '235.mp4', '180.mp4', '194.mp4', '195.mp4', '181.mp4', '234.mp4', '208.mp4', '230.mp4', '224.mp4', '218.mp4', '185.mp4', '191.mp4', '190.mp4', '184.mp4', '219.mp4', '225.mp4', '231.mp4', '227.mp4', '179.mp4', '192.mp4', '186.mp4', '187.mp4', '193.mp4', '178.mp4', '226.mp4', '269.mp4', '241.mp4', '296.mp4', '309.mp4', '308.mp4', '240.mp4', '268.mp4', '256.mp4', '295.mp4', '281.mp4', '336.mp4', '337.mp4', '280.mp4', '257.mp4', '247.mp4', '285.mp4', '291.mp4', '246.mp4', '250.mp4', '278.mp4', '287.mp4', '330.mp4', '324.mp4', '318.mp4', '319.mp4', '325.mp4', '331.mp4', '292.mp4', '286.mp4', '279.mp4', '251.mp4', '248.mp4', '260.mp4', '274.mp4', '300.mp4', '301.mp4', '261.mp4', '249.mp4', '303.mp4', '317.mp4', '316.mp4', '302.mp4', '272.mp4', '266.mp4', '306.mp4', '312.mp4', '313.mp4', '307.mp4', '267.mp4', '273.mp4', '271.mp4', '259.mp4', '311.mp4', '305.mp4', '304.mp4', '310.mp4', '258.mp4', '270.mp4', '203.mp4', '217.mp4', '175.mp4', '174.mp4', '216.mp4', '202.mp4', '228.mp4', '214.mp4', '200.mp4', '176.mp4', '189.mp4', '188.mp4', '177.mp4', '163.mp4', '201.mp4', '215.mp4', '229.mp4', '211.mp4', '205.mp4', '239.mp4', '173.mp4', '172.mp4', '238.mp4', '204.mp4', '210.mp4', '206.mp4', '212.mp4', '170.mp4', '158.mp4', '171.mp4', '213.mp4', '207.mp4']\n",
      "adding file\n",
      "Moviepy - Building video behavior_data/spinning/341.mp4.\n",
      "MoviePy - Writing audio in 341TEMP_MPY_wvf_snd.mp4\n"
     ]
    },
    {
     "name": "stderr",
     "output_type": "stream",
     "text": [
      "\n",
      "chunk: 100%|██████████| 1/1 [00:03<00:00,  3.13s/it, now=None]\n",
      "t:   0%|          | 0/210 [00:00<?, ?it/s, now=None]\u001b[A\n",
      "t:  37%|███▋      | 77/210 [00:00<00:00, 763.99it/s, now=None]\u001b[A"
     ]
    },
    {
     "name": "stdout",
     "output_type": "stream",
     "text": [
      "MoviePy - Done.\n",
      "Moviepy - Writing video behavior_data/spinning/341.mp4\n",
      "\n"
     ]
    },
    {
     "name": "stderr",
     "output_type": "stream",
     "text": [
      "\n",
      "t:  73%|███████▎  | 154/210 [00:00<00:00, 650.97it/s, now=None]\u001b[A\n",
      "chunk: 100%|██████████| 1/1 [00:03<00:00,  3.70s/it, now=None] \u001b[A\n",
      "chunk:   0%|          | 0/155 [00:00<?, ?it/s, now=None]\u001b[A"
     ]
    },
    {
     "name": "stdout",
     "output_type": "stream",
     "text": [
      "Moviepy - Done !\n",
      "Moviepy - video ready behavior_data/spinning/341.mp4\n",
      "['96.mp4', '82.mp4', '154.mp4', '140.mp4', '7.mp4', '55.mp4', '6.mp4', '141.mp4', '221.mp4', '81.mp4', '95.mp4', '143.mp4', '157.mp4', '56.mp4', '340.mp4', '5.mp4', '156.mp4', '142.mp4', '94.mp4', '80.mp4', '146.mp4', '53.mp4', '.DS_Store', '52.mp4', '153.mp4', '147.mp4', '233.mp4', '93.mp4', '87.mp4', '50.mp4', '79.mp4', '86.mp4', '232.mp4', '255.mp4', '282.mp4', '137.mp4', '36.mp4', '335.mp4', '321.mp4', '320.mp4', '334.mp4', '37.mp4', '136.mp4', '297.mp4', '283.mp4', '254.mp4', '242.mp4', '108.mp4', '134.mp4', '322.mp4', '323.mp4', '135.mp4', '109.mp4', '294.mp4', '243.mp4', '253.mp4', '290.mp4', '284.mp4', '131.mp4', '119.mp4', '18.mp4', '327.mp4', '333.mp4', '332.mp4', '326.mp4', '25.mp4', '19.mp4', '118.mp4', '130.mp4', '252.mp4', '244.mp4', '293.mp4', '132.mp4', '27.mp4', '26.mp4', '245.mp4', '116.mp4', '17.mp4', '328.mp4', '314.mp4', '315.mp4', '329.mp4', '16.mp4', '117.mp4', '277.mp4', '263.mp4', '288.mp4', '129.mp4', '101.mp4', '28.mp4', '100.mp4', '289.mp4', '262.mp4', '276.mp4', '299.mp4', '39.mp4', '11.mp4', '10.mp4', '38.mp4', '298.mp4', '265.mp4', '107.mp4', '12.mp4', '339.mp4', '13.mp4', '106.mp4', '112.mp4', '264.mp4', '149.mp4', '161.mp4', '60.mp4', '61.mp4', '160.mp4', '148.mp4', '162.mp4', '88.mp4', '63.mp4', '62.mp4', '89.mp4', '99.mp4', '167.mp4', '98.mp4', '166.mp4', '164.mp4', '159.mp4', '165.mp4']\n",
      "adding file\n",
      "Moviepy - Building video behavior_data/control/342.mp4.\n",
      "MoviePy - Writing audio in 342TEMP_MPY_wvf_snd.mp4\n"
     ]
    },
    {
     "name": "stderr",
     "output_type": "stream",
     "text": [
      "\n",
      "chunk: 100%|██████████| 1/1 [00:03<00:00,  3.80s/it, now=None]\n",
      "t:   0%|          | 0/210 [00:00<?, ?it/s, now=None]\u001b[A\n",
      "t:  30%|██▉       | 62/210 [00:00<00:00, 615.17it/s, now=None]\u001b[A"
     ]
    },
    {
     "name": "stdout",
     "output_type": "stream",
     "text": [
      "MoviePy - Done.\n",
      "Moviepy - Writing video behavior_data/control/342.mp4\n",
      "\n"
     ]
    },
    {
     "name": "stderr",
     "output_type": "stream",
     "text": [
      "\n",
      "t:  59%|█████▉    | 124/210 [00:00<00:00, 548.83it/s, now=None]\u001b[A\n",
      "t:  88%|████████▊ | 185/210 [00:00<00:00, 570.94it/s, now=None]\u001b[A\n",
      "                                                               \u001b[A"
     ]
    },
    {
     "name": "stdout",
     "output_type": "stream",
     "text": [
      "Moviepy - Done !\n",
      "Moviepy - video ready behavior_data/control/342.mp4\n",
      "['96.mp4', '82.mp4', '154.mp4', '140.mp4', '7.mp4', '55.mp4', '342.mp4', '6.mp4', '141.mp4', '221.mp4', '81.mp4', '95.mp4', '143.mp4', '157.mp4', '56.mp4', '340.mp4', '5.mp4', '156.mp4', '142.mp4', '94.mp4', '80.mp4', '146.mp4', '53.mp4', '.DS_Store', '52.mp4', '153.mp4', '147.mp4', '233.mp4', '93.mp4', '87.mp4', '50.mp4', '79.mp4', '86.mp4', '232.mp4', '255.mp4', '282.mp4', '137.mp4', '36.mp4', '335.mp4', '321.mp4', '320.mp4', '334.mp4', '37.mp4', '136.mp4', '297.mp4', '283.mp4', '254.mp4', '242.mp4', '108.mp4', '134.mp4', '322.mp4', '323.mp4', '135.mp4', '109.mp4', '294.mp4', '243.mp4', '253.mp4', '290.mp4', '284.mp4', '131.mp4', '119.mp4', '18.mp4', '327.mp4', '333.mp4', '332.mp4', '326.mp4', '25.mp4', '19.mp4', '118.mp4', '130.mp4', '252.mp4', '244.mp4', '293.mp4', '132.mp4', '27.mp4', '26.mp4', '245.mp4', '116.mp4', '17.mp4', '328.mp4', '314.mp4', '315.mp4', '329.mp4', '16.mp4', '117.mp4', '277.mp4', '263.mp4', '288.mp4', '129.mp4', '101.mp4', '28.mp4', '100.mp4', '289.mp4', '262.mp4', '276.mp4', '299.mp4', '39.mp4', '11.mp4', '10.mp4', '38.mp4', '298.mp4', '265.mp4', '107.mp4', '12.mp4', '339.mp4', '13.mp4', '106.mp4', '112.mp4', '264.mp4', '149.mp4', '161.mp4', '60.mp4', '61.mp4', '160.mp4', '148.mp4', '162.mp4', '88.mp4', '63.mp4', '62.mp4', '89.mp4', '99.mp4', '167.mp4', '98.mp4', '166.mp4', '164.mp4', '159.mp4', '165.mp4']\n",
      "adding file\n"
     ]
    },
    {
     "name": "stderr",
     "output_type": "stream",
     "text": [
      "chunk: 100%|██████████| 1/1 [00:04<00:00,  4.46s/it, now=None]\n",
      "chunk:   0%|          | 0/155 [00:00<?, ?it/s, now=None]\u001b[A\n",
      "chunk: 100%|██████████| 1/1 [00:04<00:00,  4.56s/it, now=None]\n",
      "t:   0%|          | 0/210 [00:00<?, ?it/s, now=None]\u001b[A"
     ]
    },
    {
     "name": "stdout",
     "output_type": "stream",
     "text": [
      "Moviepy - Building video behavior_data/control/343.mp4.\n",
      "MoviePy - Writing audio in 343TEMP_MPY_wvf_snd.mp4\n",
      "MoviePy - Done.\n",
      "Moviepy - Writing video behavior_data/control/343.mp4\n",
      "\n"
     ]
    },
    {
     "name": "stderr",
     "output_type": "stream",
     "text": [
      "\n",
      "t:  31%|███       | 65/210 [00:00<00:00, 648.43it/s, now=None]\u001b[A\n",
      "t:  62%|██████▏   | 130/210 [00:00<00:00, 618.05it/s, now=None]\u001b[A\n",
      "t:  94%|█████████▍| 197/210 [00:00<00:00, 631.18it/s, now=None]\u001b[A\n",
      "chunk: 100%|██████████| 1/1 [00:05<00:00,  5.17s/it, now=None] \u001b[A\n"
     ]
    },
    {
     "name": "stdout",
     "output_type": "stream",
     "text": [
      "Moviepy - Done !\n",
      "Moviepy - video ready behavior_data/control/343.mp4\n",
      "['96.mp4', '82.mp4', '154.mp4', '140.mp4', '7.mp4', '55.mp4', '342.mp4', '343.mp4', '6.mp4', '141.mp4', '221.mp4', '81.mp4', '95.mp4', '143.mp4', '157.mp4', '56.mp4', '340.mp4', '5.mp4', '156.mp4', '142.mp4', '94.mp4', '80.mp4', '146.mp4', '53.mp4', '.DS_Store', '52.mp4', '153.mp4', '147.mp4', '233.mp4', '93.mp4', '87.mp4', '50.mp4', '79.mp4', '86.mp4', '232.mp4', '255.mp4', '282.mp4', '137.mp4', '36.mp4', '335.mp4', '321.mp4', '320.mp4', '334.mp4', '37.mp4', '136.mp4', '297.mp4', '283.mp4', '254.mp4', '242.mp4', '108.mp4', '134.mp4', '322.mp4', '323.mp4', '135.mp4', '109.mp4', '294.mp4', '243.mp4', '253.mp4', '290.mp4', '284.mp4', '131.mp4', '119.mp4', '18.mp4', '327.mp4', '333.mp4', '332.mp4', '326.mp4', '25.mp4', '19.mp4', '118.mp4', '130.mp4', '252.mp4', '244.mp4', '293.mp4', '132.mp4', '27.mp4', '26.mp4', '245.mp4', '116.mp4', '17.mp4', '328.mp4', '314.mp4', '315.mp4', '329.mp4', '16.mp4', '117.mp4', '277.mp4', '263.mp4', '288.mp4', '129.mp4', '101.mp4', '28.mp4', '100.mp4', '289.mp4', '262.mp4', '276.mp4', '299.mp4', '39.mp4', '11.mp4', '10.mp4', '38.mp4', '298.mp4', '265.mp4', '107.mp4', '12.mp4', '339.mp4', '13.mp4', '106.mp4', '112.mp4', '264.mp4', '149.mp4', '161.mp4', '60.mp4', '61.mp4', '160.mp4', '148.mp4', '162.mp4', '88.mp4', '63.mp4', '62.mp4', '89.mp4', '99.mp4', '167.mp4', '98.mp4', '166.mp4', '164.mp4', '159.mp4', '165.mp4']\n",
      "adding file\n",
      "Moviepy - Building video behavior_data/control/344.mp4.\n",
      "MoviePy - Writing audio in 344TEMP_MPY_wvf_snd.mp4\n"
     ]
    },
    {
     "name": "stderr",
     "output_type": "stream",
     "text": [
      "chunk:   0%|          | 0/133 [00:00<?, ?it/s, now=None]\u001b[A\n",
      "chunk: 100%|██████████| 1/1 [00:05<00:00,  5.26s/it, now=None]\n",
      "t:   0%|          | 0/180 [00:00<?, ?it/s, now=None]\u001b[A\n",
      "t:  41%|████      | 74/180 [00:00<00:00, 737.57it/s, now=None]\u001b[A"
     ]
    },
    {
     "name": "stdout",
     "output_type": "stream",
     "text": [
      "MoviePy - Done.\n",
      "Moviepy - Writing video behavior_data/control/344.mp4\n",
      "\n"
     ]
    },
    {
     "name": "stderr",
     "output_type": "stream",
     "text": [
      "\n",
      "t:  82%|████████▏ | 148/180 [00:00<00:00, 710.28it/s, now=None]\u001b[A\n",
      "chunk: 100%|██████████| 1/1 [00:05<00:00,  5.81s/it, now=None] \u001b[A"
     ]
    },
    {
     "name": "stdout",
     "output_type": "stream",
     "text": [
      "Moviepy - Done !\n",
      "Moviepy - video ready behavior_data/control/344.mp4\n",
      "['96.mp4', '82.mp4', '154.mp4', '140.mp4', '7.mp4', '55.mp4', '342.mp4', '343.mp4', '6.mp4', '141.mp4', '221.mp4', '81.mp4', '95.mp4', '143.mp4', '157.mp4', '56.mp4', '340.mp4', '5.mp4', '156.mp4', '142.mp4', '94.mp4', '80.mp4', '146.mp4', '53.mp4', '344.mp4', '.DS_Store', '52.mp4', '153.mp4', '147.mp4', '233.mp4', '93.mp4', '87.mp4', '50.mp4', '79.mp4', '86.mp4', '232.mp4', '255.mp4', '282.mp4', '137.mp4', '36.mp4', '335.mp4', '321.mp4', '320.mp4', '334.mp4', '37.mp4', '136.mp4', '297.mp4', '283.mp4', '254.mp4', '242.mp4', '108.mp4', '134.mp4', '322.mp4', '323.mp4', '135.mp4', '109.mp4', '294.mp4', '243.mp4', '253.mp4', '290.mp4', '284.mp4', '131.mp4', '119.mp4', '18.mp4', '327.mp4', '333.mp4', '332.mp4', '326.mp4', '25.mp4', '19.mp4', '118.mp4', '130.mp4', '252.mp4', '244.mp4', '293.mp4', '132.mp4', '27.mp4', '26.mp4', '245.mp4', '116.mp4', '17.mp4', '328.mp4', '314.mp4', '315.mp4', '329.mp4', '16.mp4', '117.mp4', '277.mp4', '263.mp4', '288.mp4', '129.mp4', '101.mp4', '28.mp4', '100.mp4', '289.mp4', '262.mp4', '276.mp4', '299.mp4', '39.mp4', '11.mp4', '10.mp4', '38.mp4', '298.mp4', '265.mp4', '107.mp4', '12.mp4', '339.mp4', '13.mp4', '106.mp4', '112.mp4', '264.mp4', '149.mp4', '161.mp4', '60.mp4', '61.mp4', '160.mp4', '148.mp4', '162.mp4', '88.mp4', '63.mp4', '62.mp4', '89.mp4', '99.mp4', '167.mp4', '98.mp4', '166.mp4', '164.mp4', '159.mp4', '165.mp4']\n",
      "adding file\n",
      "Moviepy - Building video behavior_data/control/345.mp4.\n",
      "MoviePy - Writing audio in 345TEMP_MPY_wvf_snd.mp4\n"
     ]
    },
    {
     "name": "stderr",
     "output_type": "stream",
     "text": [
      "\n",
      "chunk:   0%|          | 0/133 [00:00<?, ?it/s, now=None]\u001b[A\n",
      "chunk: 100%|██████████| 1/1 [00:05<00:00,  5.90s/it, now=None]\n",
      "t:   0%|          | 0/180 [00:00<?, ?it/s, now=None]\u001b[A\n",
      "t:  37%|███▋      | 66/180 [00:00<00:00, 656.57it/s, now=None]\u001b[A"
     ]
    },
    {
     "name": "stdout",
     "output_type": "stream",
     "text": [
      "MoviePy - Done.\n",
      "Moviepy - Writing video behavior_data/control/345.mp4\n",
      "\n"
     ]
    },
    {
     "name": "stderr",
     "output_type": "stream",
     "text": [
      "\n",
      "t:  73%|███████▎  | 132/180 [00:00<00:00, 598.71it/s, now=None]\u001b[A\n",
      "chunk: 100%|██████████| 1/1 [00:06<00:00,  6.33s/it, now=None] \u001b[A"
     ]
    },
    {
     "name": "stdout",
     "output_type": "stream",
     "text": [
      "Moviepy - Done !\n",
      "Moviepy - video ready behavior_data/control/345.mp4\n",
      "staring the 50th file\n",
      "http://www.youtube.com/watch?v=yCaymsrcNwA\n",
      "This is url:  http://www.youtube.com/watch?v=yCaymsrcNwA\n"
     ]
    },
    {
     "name": "stderr",
     "output_type": "stream",
     "text": [
      "chunk: 100%|██████████| 1/1 [00:07<00:00,  7.61s/it, now=None]\n",
      "chunk:   0%|          | 0/67 [00:00<?, ?it/s, now=None]\u001b[A\n",
      "chunk: 100%|██████████| 1/1 [00:07<00:00,  7.67s/it, now=None]\n",
      "t:   0%|          | 0/31 [00:00<?, ?it/s, now=None]\u001b[A\n",
      "                                                   \u001b[A"
     ]
    },
    {
     "name": "stdout",
     "output_type": "stream",
     "text": [
      "['41.mp4', '40.mp4', '54.mp4', '155.mp4', '42.mp4', '43.mp4', '90.mp4', '47.mp4', '1.mp4', '.DS_Store', '0.mp4', '46.mp4', '91.mp4', '151.mp4', '2.mp4', '44.mp4', '45.mp4', '3.mp4', '92.mp4', '150.mp4', '120.mp4', '121.mp4', '139.mp4', '48.mp4', '49.mp4']\n",
      "adding file\n",
      "Moviepy - Building video behavior_data/headbanging/346.mp4.\n",
      "MoviePy - Writing audio in 346TEMP_MPY_wvf_snd.mp4\n",
      "MoviePy - Done.\n",
      "Moviepy - Writing video behavior_data/headbanging/346.mp4\n",
      "\n"
     ]
    },
    {
     "name": "stderr",
     "output_type": "stream",
     "text": [
      "chunk: 100%|██████████| 1/1 [00:07<00:00,  7.88s/it, now=None]\n",
      "chunk:   0%|          | 0/1 [00:00<?, ?it/s, now=None]\u001b[A"
     ]
    },
    {
     "name": "stdout",
     "output_type": "stream",
     "text": [
      "Moviepy - Done !\n",
      "Moviepy - video ready behavior_data/headbanging/346.mp4\n",
      "['96.mp4', '82.mp4', '154.mp4', '140.mp4', '7.mp4', '55.mp4', '342.mp4', '343.mp4', '6.mp4', '141.mp4', '221.mp4', '81.mp4', '95.mp4', '143.mp4', '157.mp4', '56.mp4', '340.mp4', '5.mp4', '156.mp4', '142.mp4', '94.mp4', '80.mp4', '146.mp4', '53.mp4', '344.mp4', '.DS_Store', '345.mp4', '52.mp4', '153.mp4', '147.mp4', '233.mp4', '93.mp4', '87.mp4', '50.mp4', '79.mp4', '86.mp4', '232.mp4', '255.mp4', '282.mp4', '137.mp4', '36.mp4', '335.mp4', '321.mp4', '320.mp4', '334.mp4', '37.mp4', '136.mp4', '297.mp4', '283.mp4', '254.mp4', '242.mp4', '108.mp4', '134.mp4', '322.mp4', '323.mp4', '135.mp4', '109.mp4', '294.mp4', '243.mp4', '253.mp4', '290.mp4', '284.mp4', '131.mp4', '119.mp4', '18.mp4', '327.mp4', '333.mp4', '332.mp4', '326.mp4', '25.mp4', '19.mp4', '118.mp4', '130.mp4', '252.mp4', '244.mp4', '293.mp4', '132.mp4', '27.mp4', '26.mp4', '245.mp4', '116.mp4', '17.mp4', '328.mp4', '314.mp4', '315.mp4', '329.mp4', '16.mp4', '117.mp4', '277.mp4', '263.mp4', '288.mp4', '129.mp4', '101.mp4', '28.mp4', '100.mp4', '289.mp4', '262.mp4', '276.mp4', '299.mp4', '39.mp4', '11.mp4', '10.mp4', '38.mp4', '298.mp4', '265.mp4', '107.mp4', '12.mp4', '339.mp4', '13.mp4', '106.mp4', '112.mp4', '264.mp4', '149.mp4', '161.mp4', '60.mp4', '61.mp4', '160.mp4', '148.mp4', '162.mp4', '88.mp4', '63.mp4', '62.mp4', '89.mp4', '99.mp4', '167.mp4', '98.mp4', '166.mp4', '164.mp4', '159.mp4', '165.mp4']\n",
      "adding file\n",
      "Moviepy - Building video behavior_data/control/347.mp4.\n",
      "MoviePy - Writing audio in 347TEMP_MPY_wvf_snd.mp4\n",
      "failed on 347\n",
      "['96.mp4', '82.mp4', '154.mp4', '140.mp4', '7.mp4', '55.mp4', '342.mp4', '343.mp4', '6.mp4', '141.mp4', '221.mp4', '81.mp4', '95.mp4', '143.mp4', '157.mp4', '56.mp4', '340.mp4', '5.mp4', '156.mp4', '142.mp4', '94.mp4', '80.mp4', '146.mp4', '53.mp4', '344.mp4', '.DS_Store', '345.mp4', '52.mp4', '153.mp4', '147.mp4', '233.mp4', '93.mp4', '87.mp4', '50.mp4', '79.mp4', '86.mp4', '232.mp4', '255.mp4', '282.mp4', '137.mp4', '36.mp4', '335.mp4', '321.mp4', '320.mp4', '334.mp4', '37.mp4', '136.mp4', '297.mp4', '283.mp4', '254.mp4', '242.mp4', '108.mp4', '134.mp4', '322.mp4', '323.mp4', '135.mp4', '109.mp4', '294.mp4', '243.mp4', '253.mp4', '290.mp4', '284.mp4', '131.mp4', '119.mp4', '18.mp4', '327.mp4', '333.mp4', '332.mp4', '326.mp4', '25.mp4', '19.mp4', '118.mp4', '130.mp4', '252.mp4', '244.mp4', '293.mp4', '132.mp4', '27.mp4', '26.mp4', '245.mp4', '116.mp4', '17.mp4', '328.mp4', '314.mp4', '315.mp4', '329.mp4', '16.mp4', '117.mp4', '277.mp4', '263.mp4', '288.mp4', '129.mp4', '101.mp4', '28.mp4', '100.mp4', '289.mp4', '262.mp4', '276.mp4', '299.mp4', '39.mp4', '11.mp4', '10.mp4', '38.mp4', '298.mp4', '265.mp4', '107.mp4', '12.mp4', '339.mp4', '13.mp4', '106.mp4', '112.mp4', '264.mp4', '149.mp4', '161.mp4', '60.mp4', '61.mp4', '160.mp4', '148.mp4', '162.mp4', '88.mp4', '63.mp4', '62.mp4', '89.mp4', '99.mp4', '167.mp4', '98.mp4', '166.mp4', '164.mp4', '159.mp4', '165.mp4']\n",
      "adding file\n"
     ]
    },
    {
     "name": "stderr",
     "output_type": "stream",
     "text": [
      "\n",
      "                                                              \n",
      "chunk: 100%|██████████| 1/1 [00:08<00:00,  8.03s/it, now=None]\u001b[A\n",
      "                                                              \n",
      "chunk: 100%|██████████| 1/1 [00:08<00:00,  8.03s/it, now=None]\u001b[A\n",
      "\n",
      "chunk:   0%|          | 0/133 [00:00<?, ?it/s, now=None]\u001b[A\u001b[A\n",
      "\n",
      "                                                        \u001b[A\u001b[A\n",
      "                                                              \n",
      "chunk: 100%|██████████| 1/1 [00:08<00:00,  8.13s/it, now=None]\u001b[A\n",
      "                                                              \n",
      "chunk: 100%|██████████| 1/1 [00:08<00:00,  8.13s/it, now=None]\u001b[A\n",
      "\n",
      "t:   0%|          | 0/61 [00:00<?, ?it/s, now=None]\u001b[A\u001b[A\n",
      "\n",
      "                                                              \n",
      "                                                              \u001b[A"
     ]
    },
    {
     "name": "stdout",
     "output_type": "stream",
     "text": [
      "Moviepy - Building video behavior_data/control/348.mp4.\n",
      "MoviePy - Writing audio in 348TEMP_MPY_wvf_snd.mp4\n",
      "MoviePy - Done.\n",
      "Moviepy - Writing video behavior_data/control/348.mp4\n",
      "\n",
      "Moviepy - Done !\n",
      "Moviepy - video ready behavior_data/control/348.mp4"
     ]
    },
    {
     "name": "stderr",
     "output_type": "stream",
     "text": [
      "\r",
      "chunk:   0%|          | 0/133 [00:00<?, ?it/s, now=None]"
     ]
    },
    {
     "name": "stdout",
     "output_type": "stream",
     "text": [
      "\n",
      "['96.mp4', '82.mp4', '154.mp4', '140.mp4', '7.mp4', '55.mp4', '342.mp4', '343.mp4', '6.mp4', '141.mp4', '221.mp4', '81.mp4', '95.mp4', '143.mp4', '157.mp4', '56.mp4', '340.mp4', '5.mp4', '156.mp4', '142.mp4', '94.mp4', '80.mp4', '146.mp4', '53.mp4', '344.mp4', '.DS_Store', '345.mp4', '52.mp4', '153.mp4', '147.mp4', '233.mp4', '93.mp4', '87.mp4', '50.mp4', '79.mp4', '86.mp4', '232.mp4', '255.mp4', '282.mp4', '137.mp4', '36.mp4', '335.mp4', '321.mp4', '320.mp4', '334.mp4', '37.mp4', '136.mp4', '297.mp4', '283.mp4', '254.mp4', '242.mp4', '108.mp4', '134.mp4', '322.mp4', '323.mp4', '135.mp4', '109.mp4', '294.mp4', '243.mp4', '253.mp4', '290.mp4', '284.mp4', '131.mp4', '119.mp4', '18.mp4', '327.mp4', '333.mp4', '332.mp4', '326.mp4', '25.mp4', '19.mp4', '118.mp4', '130.mp4', '252.mp4', '244.mp4', '293.mp4', '132.mp4', '27.mp4', '26.mp4', '245.mp4', '116.mp4', '17.mp4', '328.mp4', '314.mp4', '315.mp4', '329.mp4', '16.mp4', '117.mp4', '277.mp4', '263.mp4', '288.mp4', '129.mp4', '101.mp4', '28.mp4', '100.mp4', '289.mp4', '262.mp4', '276.mp4', '299.mp4', '39.mp4', '11.mp4', '10.mp4', '38.mp4', '298.mp4', '265.mp4', '107.mp4', '12.mp4', '339.mp4', '13.mp4', '106.mp4', '112.mp4', '264.mp4', '149.mp4', '161.mp4', '60.mp4', '61.mp4', '160.mp4', '148.mp4', '162.mp4', '88.mp4', '63.mp4', '348.mp4', '62.mp4', '89.mp4', '99.mp4', '167.mp4', '98.mp4', '166.mp4', '164.mp4', '159.mp4', '165.mp4']\n",
      "adding file\n",
      "Moviepy - Building video behavior_data/control/349.mp4.\n",
      "MoviePy - Writing audio in 349TEMP_MPY_wvf_snd.mp4\n"
     ]
    },
    {
     "name": "stderr",
     "output_type": "stream",
     "text": [
      "                                                        \r"
     ]
    },
    {
     "name": "stdout",
     "output_type": "stream",
     "text": [
      "MoviePy - Done.\n",
      "Moviepy - Writing video behavior_data/control/349.mp4\n",
      "\n",
      "Moviepy - Done !\n",
      "Moviepy - video ready behavior_data/control/349.mp4\n",
      "['96.mp4', '82.mp4', '154.mp4', '140.mp4', '7.mp4', '55.mp4', '342.mp4', '343.mp4', '6.mp4', '141.mp4', '221.mp4', '81.mp4', '95.mp4', '143.mp4', '157.mp4', '56.mp4', '340.mp4', '5.mp4', '156.mp4', '142.mp4', '94.mp4', '80.mp4', '146.mp4', '53.mp4', '344.mp4', '.DS_Store', '345.mp4', '52.mp4', '153.mp4', '147.mp4', '233.mp4', '93.mp4', '87.mp4', '50.mp4', '79.mp4', '86.mp4', '232.mp4', '255.mp4', '282.mp4', '137.mp4', '36.mp4', '335.mp4', '321.mp4', '320.mp4', '334.mp4', '37.mp4', '136.mp4', '297.mp4', '283.mp4', '254.mp4', '242.mp4', '108.mp4', '134.mp4', '322.mp4', '323.mp4', '135.mp4', '109.mp4', '294.mp4', '243.mp4', '253.mp4', '290.mp4', '284.mp4', '131.mp4', '119.mp4', '18.mp4', '327.mp4', '333.mp4', '332.mp4', '326.mp4', '25.mp4', '19.mp4', '118.mp4', '130.mp4', '252.mp4', '244.mp4', '293.mp4', '132.mp4', '27.mp4', '26.mp4', '245.mp4', '116.mp4', '17.mp4', '328.mp4', '314.mp4', '315.mp4', '329.mp4', '16.mp4', '117.mp4', '277.mp4', '263.mp4', '288.mp4', '129.mp4', '101.mp4', '28.mp4', '100.mp4', '289.mp4', '262.mp4', '276.mp4', '299.mp4', '39.mp4', '11.mp4', '10.mp4', '38.mp4', '298.mp4', '265.mp4', '107.mp4', '12.mp4', '339.mp4', '13.mp4', '106.mp4', '112.mp4', '264.mp4', '149.mp4', '161.mp4', '60.mp4', '61.mp4', '160.mp4', '148.mp4', '162.mp4', '88.mp4', '63.mp4', '348.mp4', '349.mp4', '62.mp4', '89.mp4', '99.mp4', '167.mp4', '98.mp4', '166.mp4', '164.mp4', '159.mp4', '165.mp4']\n",
      "adding file\n"
     ]
    },
    {
     "name": "stderr",
     "output_type": "stream",
     "text": [
      "                                                        "
     ]
    },
    {
     "name": "stdout",
     "output_type": "stream",
     "text": [
      "Moviepy - Building video behavior_data/control/350.mp4.\n",
      "MoviePy - Writing audio in 350TEMP_MPY_wvf_snd.mp4\n",
      "MoviePy - Done.\n",
      "Moviepy - Writing video behavior_data/control/350.mp4\n",
      "\n",
      "Moviepy - Done !\n",
      "Moviepy - video ready behavior_data/control/350.mp4\n"
     ]
    },
    {
     "name": "stderr",
     "output_type": "stream",
     "text": [
      "\r"
     ]
    },
    {
     "name": "stdout",
     "output_type": "stream",
     "text": [
      "staring the 51th file\n",
      "http://www.youtube.com/watch?v=9zOrUA7Kn4o\n",
      "This is url:  http://www.youtube.com/watch?v=9zOrUA7Kn4o\n"
     ]
    },
    {
     "name": "stderr",
     "output_type": "stream",
     "text": [
      "                                                        "
     ]
    },
    {
     "name": "stdout",
     "output_type": "stream",
     "text": [
      "['41.mp4', '40.mp4', '54.mp4', '155.mp4', '42.mp4', '43.mp4', '90.mp4', '47.mp4', '1.mp4', '.DS_Store', '0.mp4', '46.mp4', '91.mp4', '151.mp4', '2.mp4', '44.mp4', '346.mp4', '45.mp4', '3.mp4', '92.mp4', '150.mp4', '120.mp4', '121.mp4', '139.mp4', '48.mp4', '49.mp4']\n",
      "adding file\n",
      "Moviepy - Building video behavior_data/headbanging/351.mp4.\n",
      "MoviePy - Writing audio in 351TEMP_MPY_wvf_snd.mp4\n"
     ]
    },
    {
     "name": "stderr",
     "output_type": "stream",
     "text": [
      "t:  38%|███▊      | 73/194 [00:00<00:00, 720.33it/s, now=None]"
     ]
    },
    {
     "name": "stdout",
     "output_type": "stream",
     "text": [
      "MoviePy - Done.\n",
      "Moviepy - Writing video behavior_data/headbanging/351.mp4\n",
      "\n"
     ]
    },
    {
     "name": "stderr",
     "output_type": "stream",
     "text": [
      "chunk:   0%|          | 0/155 [00:00<?, ?it/s, now=None]       "
     ]
    },
    {
     "name": "stdout",
     "output_type": "stream",
     "text": [
      "Moviepy - Done !\n",
      "Moviepy - video ready behavior_data/headbanging/351.mp4\n",
      "['41.mp4', '40.mp4', '54.mp4', '155.mp4', '42.mp4', '43.mp4', '90.mp4', '47.mp4', '1.mp4', '.DS_Store', '351.mp4', '0.mp4', '46.mp4', '91.mp4', '151.mp4', '2.mp4', '44.mp4', '346.mp4', '45.mp4', '3.mp4', '92.mp4', '150.mp4', '120.mp4', '121.mp4', '139.mp4', '48.mp4', '49.mp4']\n",
      "adding file\n",
      "Moviepy - Building video behavior_data/headbanging/352.mp4.\n",
      "MoviePy - Writing audio in 352TEMP_MPY_wvf_snd.mp4\n"
     ]
    },
    {
     "name": "stderr",
     "output_type": "stream",
     "text": [
      "t:  37%|███▋      | 72/194 [00:00<00:00, 717.96it/s, now=None]"
     ]
    },
    {
     "name": "stdout",
     "output_type": "stream",
     "text": [
      "MoviePy - Done.\n",
      "Moviepy - Writing video behavior_data/headbanging/352.mp4\n",
      "\n"
     ]
    },
    {
     "name": "stderr",
     "output_type": "stream",
     "text": [
      "chunk:   0%|          | 0/133 [00:00<?, ?it/s, now=None]       "
     ]
    },
    {
     "name": "stdout",
     "output_type": "stream",
     "text": [
      "Moviepy - Done !\n",
      "Moviepy - video ready behavior_data/headbanging/352.mp4\n",
      "['41.mp4', '40.mp4', '54.mp4', '155.mp4', '42.mp4', '43.mp4', '90.mp4', '47.mp4', '1.mp4', '.DS_Store', '351.mp4', '0.mp4', '46.mp4', '91.mp4', '151.mp4', '2.mp4', '44.mp4', '346.mp4', '352.mp4', '45.mp4', '3.mp4', '92.mp4', '150.mp4', '120.mp4', '121.mp4', '139.mp4', '48.mp4', '49.mp4']\n",
      "adding file\n",
      "Moviepy - Building video behavior_data/headbanging/353.mp4.\n",
      "MoviePy - Writing audio in 353TEMP_MPY_wvf_snd.mp4\n"
     ]
    },
    {
     "name": "stderr",
     "output_type": "stream",
     "text": [
      "t:  39%|███▉      | 65/167 [00:00<00:00, 649.67it/s, now=None]"
     ]
    },
    {
     "name": "stdout",
     "output_type": "stream",
     "text": [
      "MoviePy - Done.\n",
      "Moviepy - Writing video behavior_data/headbanging/353.mp4\n",
      "\n"
     ]
    },
    {
     "name": "stderr",
     "output_type": "stream",
     "text": [
      "chunk:   0%|          | 0/1 [00:00<?, ?it/s, now=None]         "
     ]
    },
    {
     "name": "stdout",
     "output_type": "stream",
     "text": [
      "Moviepy - Done !\n",
      "Moviepy - video ready behavior_data/headbanging/353.mp4\n",
      "['96.mp4', '82.mp4', '154.mp4', '140.mp4', '7.mp4', '55.mp4', '342.mp4', '343.mp4', '6.mp4', '141.mp4', '221.mp4', '81.mp4', '95.mp4', '143.mp4', '157.mp4', '56.mp4', '340.mp4', '5.mp4', '156.mp4', '142.mp4', '94.mp4', '80.mp4', '146.mp4', '53.mp4', '344.mp4', '.DS_Store', '350.mp4', '345.mp4', '52.mp4', '153.mp4', '147.mp4', '233.mp4', '93.mp4', '87.mp4', '50.mp4', '79.mp4', '86.mp4', '232.mp4', '255.mp4', '282.mp4', '137.mp4', '36.mp4', '335.mp4', '321.mp4', '320.mp4', '334.mp4', '37.mp4', '136.mp4', '297.mp4', '283.mp4', '254.mp4', '242.mp4', '108.mp4', '134.mp4', '322.mp4', '323.mp4', '135.mp4', '109.mp4', '294.mp4', '243.mp4', '253.mp4', '290.mp4', '284.mp4', '131.mp4', '119.mp4', '18.mp4', '327.mp4', '333.mp4', '332.mp4', '326.mp4', '25.mp4', '19.mp4', '118.mp4', '130.mp4', '252.mp4', '244.mp4', '293.mp4', '132.mp4', '27.mp4', '26.mp4', '245.mp4', '116.mp4', '17.mp4', '328.mp4', '314.mp4', '315.mp4', '329.mp4', '16.mp4', '117.mp4', '277.mp4', '263.mp4', '288.mp4', '129.mp4', '101.mp4', '28.mp4', '100.mp4', '289.mp4', '262.mp4', '276.mp4', '299.mp4', '39.mp4', '11.mp4', '10.mp4', '38.mp4', '298.mp4', '265.mp4', '107.mp4', '12.mp4', '339.mp4', '13.mp4', '106.mp4', '112.mp4', '264.mp4', '149.mp4', '161.mp4', '60.mp4', '61.mp4', '160.mp4', '148.mp4', '162.mp4', '88.mp4', '63.mp4', '348.mp4', '349.mp4', '62.mp4', '89.mp4', '99.mp4', '167.mp4', '98.mp4', '166.mp4', '164.mp4', '159.mp4', '165.mp4']\n",
      "adding file\n",
      "Moviepy - Building video behavior_data/control/354.mp4.\n",
      "MoviePy - Writing audio in 354TEMP_MPY_wvf_snd.mp4\n",
      "failed on 354\n",
      "['96.mp4', '82.mp4', '154.mp4', '140.mp4', '7.mp4', '55.mp4', '342.mp4', '343.mp4', '6.mp4', '141.mp4', '221.mp4', '81.mp4', '95.mp4', '143.mp4', '157.mp4', '56.mp4', '340.mp4', '5.mp4', '156.mp4', '142.mp4', '94.mp4', '80.mp4', '146.mp4', '53.mp4', '344.mp4', '.DS_Store', '350.mp4', '345.mp4', '52.mp4', '153.mp4', '147.mp4', '233.mp4', '93.mp4', '87.mp4', '50.mp4', '79.mp4', '86.mp4', '232.mp4', '255.mp4', '282.mp4', '137.mp4', '36.mp4', '335.mp4', '321.mp4', '320.mp4', '334.mp4', '37.mp4', '136.mp4', '297.mp4', '283.mp4', '254.mp4', '242.mp4', '108.mp4', '134.mp4', '322.mp4', '323.mp4', '135.mp4', '109.mp4', '294.mp4', '243.mp4', '253.mp4', '290.mp4', '284.mp4', '131.mp4', '119.mp4', '18.mp4', '327.mp4', '333.mp4', '332.mp4', '326.mp4', '25.mp4', '19.mp4', '118.mp4', '130.mp4', '252.mp4', '244.mp4', '293.mp4', '132.mp4', '27.mp4', '26.mp4', '245.mp4', '116.mp4', '17.mp4', '328.mp4', '314.mp4', '315.mp4', '329.mp4', '16.mp4', '117.mp4', '277.mp4', '263.mp4', '288.mp4', '129.mp4', '101.mp4', '28.mp4', '100.mp4', '289.mp4', '262.mp4', '276.mp4', '299.mp4', '39.mp4', '11.mp4', '10.mp4', '38.mp4', '298.mp4', '265.mp4', '107.mp4', '12.mp4', '339.mp4', '13.mp4', '106.mp4', '112.mp4', '264.mp4', '149.mp4', '161.mp4', '60.mp4', '61.mp4', '160.mp4', '148.mp4', '162.mp4', '88.mp4', '63.mp4', '348.mp4', '349.mp4', '62.mp4', '89.mp4', '99.mp4', '167.mp4', '98.mp4', '166.mp4', '164.mp4', '159.mp4', '165.mp4']\n",
      "adding file\n"
     ]
    },
    {
     "name": "stderr",
     "output_type": "stream",
     "text": [
      "chunk: 100%|██████████| 1/1 [00:00<00:00,  5.52it/s, now=None]\n",
      "chunk:   0%|          | 0/155 [00:00<?, ?it/s, now=None]\u001b[A\n",
      "chunk: 100%|██████████| 1/1 [00:00<00:00,  3.41it/s, now=None]\n",
      "t:   0%|          | 0/194 [00:00<?, ?it/s, now=None]\u001b[A"
     ]
    },
    {
     "name": "stdout",
     "output_type": "stream",
     "text": [
      "Moviepy - Building video behavior_data/control/355.mp4.\n",
      "MoviePy - Writing audio in 355TEMP_MPY_wvf_snd.mp4\n",
      "MoviePy - Done.\n",
      "Moviepy - Writing video behavior_data/control/355.mp4\n",
      "\n"
     ]
    },
    {
     "name": "stderr",
     "output_type": "stream",
     "text": [
      "\n",
      "t:  36%|███▌      | 69/194 [00:00<00:00, 675.19it/s, now=None]\u001b[A\n",
      "t:  71%|███████   | 137/194 [00:00<00:00, 549.09it/s, now=None]\u001b[A\n",
      "t: 100%|██████████| 194/194 [00:00<00:00, 527.62it/s, now=None]\u001b[A\n",
      "chunk: 100%|██████████| 1/1 [00:00<00:00,  1.06it/s, now=None] \u001b[A\n",
      "chunk:   0%|          | 0/133 [00:00<?, ?it/s, now=None]\u001b[A"
     ]
    },
    {
     "name": "stdout",
     "output_type": "stream",
     "text": [
      "Moviepy - Done !\n",
      "Moviepy - video ready behavior_data/control/355.mp4\n",
      "['96.mp4', '82.mp4', '154.mp4', '140.mp4', '7.mp4', '55.mp4', '342.mp4', '343.mp4', '6.mp4', '141.mp4', '221.mp4', '81.mp4', '95.mp4', '143.mp4', '157.mp4', '56.mp4', '355.mp4', '340.mp4', '5.mp4', '156.mp4', '142.mp4', '94.mp4', '80.mp4', '146.mp4', '53.mp4', '344.mp4', '.DS_Store', '350.mp4', '345.mp4', '52.mp4', '153.mp4', '147.mp4', '233.mp4', '93.mp4', '87.mp4', '50.mp4', '79.mp4', '86.mp4', '232.mp4', '255.mp4', '282.mp4', '137.mp4', '36.mp4', '335.mp4', '321.mp4', '320.mp4', '334.mp4', '37.mp4', '136.mp4', '297.mp4', '283.mp4', '254.mp4', '242.mp4', '108.mp4', '134.mp4', '322.mp4', '323.mp4', '135.mp4', '109.mp4', '294.mp4', '243.mp4', '253.mp4', '290.mp4', '284.mp4', '131.mp4', '119.mp4', '18.mp4', '327.mp4', '333.mp4', '332.mp4', '326.mp4', '25.mp4', '19.mp4', '118.mp4', '130.mp4', '252.mp4', '244.mp4', '293.mp4', '132.mp4', '27.mp4', '26.mp4', '245.mp4', '116.mp4', '17.mp4', '328.mp4', '314.mp4', '315.mp4', '329.mp4', '16.mp4', '117.mp4', '277.mp4', '263.mp4', '288.mp4', '129.mp4', '101.mp4', '28.mp4', '100.mp4', '289.mp4', '262.mp4', '276.mp4', '299.mp4', '39.mp4', '11.mp4', '10.mp4', '38.mp4', '298.mp4', '265.mp4', '107.mp4', '12.mp4', '339.mp4', '13.mp4', '106.mp4', '112.mp4', '264.mp4', '149.mp4', '161.mp4', '60.mp4', '61.mp4', '160.mp4', '148.mp4', '162.mp4', '88.mp4', '63.mp4', '348.mp4', '349.mp4', '62.mp4', '89.mp4', '99.mp4', '167.mp4', '98.mp4', '166.mp4', '164.mp4', '159.mp4', '165.mp4']\n",
      "adding file\n",
      "Moviepy - Building video behavior_data/control/356.mp4.\n",
      "MoviePy - Writing audio in 356TEMP_MPY_wvf_snd.mp4\n"
     ]
    },
    {
     "name": "stderr",
     "output_type": "stream",
     "text": [
      "\n",
      "chunk: 100%|██████████| 1/1 [00:01<00:00,  1.05s/it, now=None]\n",
      "t:   0%|          | 0/167 [00:00<?, ?it/s, now=None]\u001b[A\n",
      "t:  40%|███▉      | 66/167 [00:00<00:00, 651.54it/s, now=None]\u001b[A"
     ]
    },
    {
     "name": "stdout",
     "output_type": "stream",
     "text": [
      "MoviePy - Done.\n",
      "Moviepy - Writing video behavior_data/control/356.mp4\n",
      "\n"
     ]
    },
    {
     "name": "stderr",
     "output_type": "stream",
     "text": [
      "\n",
      "t:  79%|███████▉  | 132/167 [00:00<00:00, 574.24it/s, now=None]\u001b[A\n",
      "chunk: 100%|██████████| 1/1 [00:01<00:00,  1.63s/it, now=None] \u001b[A\n",
      "chunk:   0%|          | 0/133 [00:00<?, ?it/s, now=None]\u001b[A"
     ]
    },
    {
     "name": "stdout",
     "output_type": "stream",
     "text": [
      "Moviepy - Done !\n",
      "Moviepy - video ready behavior_data/control/356.mp4\n",
      "['96.mp4', '82.mp4', '154.mp4', '140.mp4', '7.mp4', '55.mp4', '356.mp4', '342.mp4', '343.mp4', '6.mp4', '141.mp4', '221.mp4', '81.mp4', '95.mp4', '143.mp4', '157.mp4', '56.mp4', '355.mp4', '340.mp4', '5.mp4', '156.mp4', '142.mp4', '94.mp4', '80.mp4', '146.mp4', '53.mp4', '344.mp4', '.DS_Store', '350.mp4', '345.mp4', '52.mp4', '153.mp4', '147.mp4', '233.mp4', '93.mp4', '87.mp4', '50.mp4', '79.mp4', '86.mp4', '232.mp4', '255.mp4', '282.mp4', '137.mp4', '36.mp4', '335.mp4', '321.mp4', '320.mp4', '334.mp4', '37.mp4', '136.mp4', '297.mp4', '283.mp4', '254.mp4', '242.mp4', '108.mp4', '134.mp4', '322.mp4', '323.mp4', '135.mp4', '109.mp4', '294.mp4', '243.mp4', '253.mp4', '290.mp4', '284.mp4', '131.mp4', '119.mp4', '18.mp4', '327.mp4', '333.mp4', '332.mp4', '326.mp4', '25.mp4', '19.mp4', '118.mp4', '130.mp4', '252.mp4', '244.mp4', '293.mp4', '132.mp4', '27.mp4', '26.mp4', '245.mp4', '116.mp4', '17.mp4', '328.mp4', '314.mp4', '315.mp4', '329.mp4', '16.mp4', '117.mp4', '277.mp4', '263.mp4', '288.mp4', '129.mp4', '101.mp4', '28.mp4', '100.mp4', '289.mp4', '262.mp4', '276.mp4', '299.mp4', '39.mp4', '11.mp4', '10.mp4', '38.mp4', '298.mp4', '265.mp4', '107.mp4', '12.mp4', '339.mp4', '13.mp4', '106.mp4', '112.mp4', '264.mp4', '149.mp4', '161.mp4', '60.mp4', '61.mp4', '160.mp4', '148.mp4', '162.mp4', '88.mp4', '63.mp4', '348.mp4', '349.mp4', '62.mp4', '89.mp4', '99.mp4', '167.mp4', '98.mp4', '166.mp4', '164.mp4', '159.mp4', '165.mp4']\n",
      "adding file\n",
      "Moviepy - Building video behavior_data/control/357.mp4.\n",
      "MoviePy - Writing audio in 357TEMP_MPY_wvf_snd.mp4\n"
     ]
    },
    {
     "name": "stderr",
     "output_type": "stream",
     "text": [
      "\n",
      "chunk: 100%|██████████| 1/1 [00:01<00:00,  1.73s/it, now=None]\n",
      "t:   0%|          | 0/167 [00:00<?, ?it/s, now=None]\u001b[A\n",
      "t:  41%|████      | 68/167 [00:00<00:00, 677.81it/s, now=None]\u001b[A"
     ]
    },
    {
     "name": "stdout",
     "output_type": "stream",
     "text": [
      "MoviePy - Done.\n",
      "Moviepy - Writing video behavior_data/control/357.mp4\n",
      "\n"
     ]
    },
    {
     "name": "stderr",
     "output_type": "stream",
     "text": [
      "\n",
      "t:  81%|████████▏ | 136/167 [00:00<00:00, 610.72it/s, now=None]\u001b[A\n",
      "chunk: 100%|██████████| 1/1 [00:02<00:00,  2.13s/it, now=None] \u001b[A"
     ]
    },
    {
     "name": "stdout",
     "output_type": "stream",
     "text": [
      "Moviepy - Done !\n",
      "Moviepy - video ready behavior_data/control/357.mp4\n",
      "staring the 52th file\n",
      "http://www.youtube.com/watch?v=AGmXuSY4gx0\n",
      "This is url:  http://www.youtube.com/watch?v=AGmXuSY4gx0\n"
     ]
    },
    {
     "name": "stderr",
     "output_type": "stream",
     "text": [
      "chunk:   0%|          | 0/155 [00:00<?, ?it/s, now=None]      "
     ]
    },
    {
     "name": "stdout",
     "output_type": "stream",
     "text": [
      "['69.mp4', '68.mp4', '83.mp4', '97.mp4', '57.mp4', '84.mp4', '.DS_Store', '85.mp4', '145.mp4', '78.mp4', '144.mp4', '123.mp4', '22.mp4', '23.mp4', '122.mp4', '21.mp4', '35.mp4', '34.mp4', '20.mp4', '125.mp4', '24.mp4', '30.mp4', '31.mp4', '124.mp4', '126.mp4', '33.mp4', '32.mp4', '127.mp4', '133.mp4', '102.mp4', '103.mp4', '115.mp4', '14.mp4', '29.mp4', '15.mp4', '114.mp4', '128.mp4', '104.mp4', '110.mp4', '138.mp4', '111.mp4', '105.mp4', '113.mp4', '74.mp4', '75.mp4', '77.mp4', '76.mp4', '8.mp4', '66.mp4', '72.mp4', '73.mp4', '67.mp4', '9.mp4', '59.mp4', '71.mp4', '65.mp4', '64.mp4', '70.mp4', '58.mp4']\n",
      "adding file\n",
      "Moviepy - Building video behavior_data/armflapping/358.mp4.\n",
      "MoviePy - Writing audio in 358TEMP_MPY_wvf_snd.mp4\n"
     ]
    },
    {
     "name": "stderr",
     "output_type": "stream",
     "text": [
      "t:  38%|███▊      | 67/175 [00:00<00:00, 659.59it/s, now=None]"
     ]
    },
    {
     "name": "stdout",
     "output_type": "stream",
     "text": [
      "MoviePy - Done.\n",
      "Moviepy - Writing video behavior_data/armflapping/358.mp4\n",
      "\n"
     ]
    },
    {
     "name": "stderr",
     "output_type": "stream",
     "text": [
      "                                                               \r"
     ]
    },
    {
     "name": "stdout",
     "output_type": "stream",
     "text": [
      "Moviepy - Done !\n",
      "Moviepy - video ready behavior_data/armflapping/358.mp4\n",
      "['96.mp4', '82.mp4', '154.mp4', '140.mp4', '7.mp4', '55.mp4', '356.mp4', '342.mp4', '343.mp4', '357.mp4', '6.mp4', '141.mp4', '221.mp4', '81.mp4', '95.mp4', '143.mp4', '157.mp4', '56.mp4', '355.mp4', '340.mp4', '5.mp4', '156.mp4', '142.mp4', '94.mp4', '80.mp4', '146.mp4', '53.mp4', '344.mp4', '.DS_Store', '350.mp4', '345.mp4', '52.mp4', '153.mp4', '147.mp4', '233.mp4', '93.mp4', '87.mp4', '50.mp4', '79.mp4', '86.mp4', '232.mp4', '255.mp4', '282.mp4', '137.mp4', '36.mp4', '335.mp4', '321.mp4', '320.mp4', '334.mp4', '37.mp4', '136.mp4', '297.mp4', '283.mp4', '254.mp4', '242.mp4', '108.mp4', '134.mp4', '322.mp4', '323.mp4', '135.mp4', '109.mp4', '294.mp4', '243.mp4', '253.mp4', '290.mp4', '284.mp4', '131.mp4', '119.mp4', '18.mp4', '327.mp4', '333.mp4', '332.mp4', '326.mp4', '25.mp4', '19.mp4', '118.mp4', '130.mp4', '252.mp4', '244.mp4', '293.mp4', '132.mp4', '27.mp4', '26.mp4', '245.mp4', '116.mp4', '17.mp4', '328.mp4', '314.mp4', '315.mp4', '329.mp4', '16.mp4', '117.mp4', '277.mp4', '263.mp4', '288.mp4', '129.mp4', '101.mp4', '28.mp4', '100.mp4', '289.mp4', '262.mp4', '276.mp4', '299.mp4', '39.mp4', '11.mp4', '10.mp4', '38.mp4', '298.mp4', '265.mp4', '107.mp4', '12.mp4', '339.mp4', '13.mp4', '106.mp4', '112.mp4', '264.mp4', '149.mp4', '161.mp4', '60.mp4', '61.mp4', '160.mp4', '148.mp4', '162.mp4', '88.mp4', '63.mp4', '348.mp4', '349.mp4', '62.mp4', '89.mp4', '99.mp4', '167.mp4', '98.mp4', '166.mp4', '164.mp4', '159.mp4', '165.mp4']\n",
      "adding file\n"
     ]
    },
    {
     "name": "stderr",
     "output_type": "stream",
     "text": [
      "t:  35%|███▍      | 61/175 [00:00<00:00, 607.15it/s, now=None]"
     ]
    },
    {
     "name": "stdout",
     "output_type": "stream",
     "text": [
      "Moviepy - Building video behavior_data/control/359.mp4.\n",
      "MoviePy - Writing audio in 359TEMP_MPY_wvf_snd.mp4\n",
      "MoviePy - Done.\n",
      "Moviepy - Writing video behavior_data/control/359.mp4\n",
      "\n"
     ]
    },
    {
     "name": "stderr",
     "output_type": "stream",
     "text": [
      "                                                               \r"
     ]
    },
    {
     "name": "stdout",
     "output_type": "stream",
     "text": [
      "Moviepy - Done !\n",
      "Moviepy - video ready behavior_data/control/359.mp4\n",
      "['96.mp4', '82.mp4', '154.mp4', '140.mp4', '7.mp4', '55.mp4', '356.mp4', '342.mp4', '343.mp4', '357.mp4', '6.mp4', '141.mp4', '221.mp4', '81.mp4', '95.mp4', '143.mp4', '157.mp4', '56.mp4', '355.mp4', '340.mp4', '5.mp4', '156.mp4', '142.mp4', '94.mp4', '80.mp4', '146.mp4', '53.mp4', '344.mp4', '.DS_Store', '350.mp4', '345.mp4', '52.mp4', '153.mp4', '147.mp4', '233.mp4', '93.mp4', '87.mp4', '50.mp4', '79.mp4', '86.mp4', '232.mp4', '255.mp4', '282.mp4', '137.mp4', '36.mp4', '335.mp4', '321.mp4', '320.mp4', '334.mp4', '37.mp4', '136.mp4', '297.mp4', '283.mp4', '254.mp4', '242.mp4', '108.mp4', '134.mp4', '322.mp4', '323.mp4', '135.mp4', '109.mp4', '294.mp4', '243.mp4', '253.mp4', '290.mp4', '284.mp4', '131.mp4', '119.mp4', '18.mp4', '327.mp4', '333.mp4', '332.mp4', '326.mp4', '25.mp4', '19.mp4', '118.mp4', '130.mp4', '252.mp4', '244.mp4', '293.mp4', '132.mp4', '27.mp4', '26.mp4', '245.mp4', '116.mp4', '17.mp4', '328.mp4', '314.mp4', '315.mp4', '329.mp4', '16.mp4', '117.mp4', '277.mp4', '263.mp4', '288.mp4', '129.mp4', '101.mp4', '28.mp4', '100.mp4', '289.mp4', '262.mp4', '276.mp4', '299.mp4', '39.mp4', '11.mp4', '10.mp4', '38.mp4', '298.mp4', '265.mp4', '107.mp4', '12.mp4', '339.mp4', '13.mp4', '106.mp4', '112.mp4', '264.mp4', '149.mp4', '161.mp4', '60.mp4', '61.mp4', '160.mp4', '148.mp4', '162.mp4', '88.mp4', '63.mp4', '348.mp4', '349.mp4', '62.mp4', '89.mp4', '99.mp4', '167.mp4', '359.mp4', '98.mp4', '166.mp4', '164.mp4', '159.mp4', '165.mp4']\n",
      "adding file\n"
     ]
    },
    {
     "name": "stderr",
     "output_type": "stream",
     "text": [
      "t:  43%|████▎     | 65/150 [00:00<00:00, 647.18it/s, now=None]"
     ]
    },
    {
     "name": "stdout",
     "output_type": "stream",
     "text": [
      "Moviepy - Building video behavior_data/control/360.mp4.\n",
      "MoviePy - Writing audio in 360TEMP_MPY_wvf_snd.mp4\n",
      "MoviePy - Done.\n",
      "Moviepy - Writing video behavior_data/control/360.mp4\n",
      "\n"
     ]
    },
    {
     "name": "stderr",
     "output_type": "stream",
     "text": [
      "                                                               \r"
     ]
    },
    {
     "name": "stdout",
     "output_type": "stream",
     "text": [
      "Moviepy - Done !\n",
      "Moviepy - video ready behavior_data/control/360.mp4\n",
      "['96.mp4', '82.mp4', '154.mp4', '140.mp4', '7.mp4', '55.mp4', '356.mp4', '342.mp4', '343.mp4', '357.mp4', '6.mp4', '141.mp4', '221.mp4', '81.mp4', '95.mp4', '143.mp4', '157.mp4', '56.mp4', '355.mp4', '340.mp4', '5.mp4', '156.mp4', '142.mp4', '94.mp4', '80.mp4', '146.mp4', '53.mp4', '344.mp4', '.DS_Store', '350.mp4', '345.mp4', '52.mp4', '153.mp4', '147.mp4', '233.mp4', '93.mp4', '87.mp4', '50.mp4', '79.mp4', '86.mp4', '232.mp4', '255.mp4', '282.mp4', '137.mp4', '36.mp4', '335.mp4', '321.mp4', '320.mp4', '334.mp4', '37.mp4', '136.mp4', '297.mp4', '283.mp4', '254.mp4', '242.mp4', '108.mp4', '134.mp4', '322.mp4', '323.mp4', '135.mp4', '109.mp4', '294.mp4', '243.mp4', '253.mp4', '290.mp4', '284.mp4', '131.mp4', '119.mp4', '18.mp4', '327.mp4', '333.mp4', '332.mp4', '326.mp4', '25.mp4', '19.mp4', '118.mp4', '130.mp4', '252.mp4', '244.mp4', '293.mp4', '132.mp4', '27.mp4', '26.mp4', '245.mp4', '116.mp4', '17.mp4', '328.mp4', '314.mp4', '315.mp4', '329.mp4', '16.mp4', '117.mp4', '277.mp4', '263.mp4', '288.mp4', '129.mp4', '101.mp4', '28.mp4', '100.mp4', '289.mp4', '262.mp4', '276.mp4', '299.mp4', '39.mp4', '11.mp4', '10.mp4', '38.mp4', '298.mp4', '265.mp4', '107.mp4', '12.mp4', '339.mp4', '13.mp4', '106.mp4', '112.mp4', '264.mp4', '149.mp4', '161.mp4', '60.mp4', '61.mp4', '160.mp4', '148.mp4', '162.mp4', '88.mp4', '63.mp4', '348.mp4', '360.mp4', '349.mp4', '62.mp4', '89.mp4', '99.mp4', '167.mp4', '359.mp4', '98.mp4', '166.mp4', '164.mp4', '159.mp4', '165.mp4']\n",
      "adding file\n"
     ]
    },
    {
     "name": "stderr",
     "output_type": "stream",
     "text": [
      "t:  52%|█████▏    | 65/125 [00:00<00:00, 645.57it/s, now=None]"
     ]
    },
    {
     "name": "stdout",
     "output_type": "stream",
     "text": [
      "Moviepy - Building video behavior_data/control/361.mp4.\n",
      "MoviePy - Writing audio in 361TEMP_MPY_wvf_snd.mp4\n",
      "MoviePy - Done.\n",
      "Moviepy - Writing video behavior_data/control/361.mp4\n",
      "\n"
     ]
    },
    {
     "name": "stderr",
     "output_type": "stream",
     "text": [
      "                                                              \r"
     ]
    },
    {
     "name": "stdout",
     "output_type": "stream",
     "text": [
      "Moviepy - Done !\n",
      "Moviepy - video ready behavior_data/control/361.mp4\n",
      "['96.mp4', '82.mp4', '154.mp4', '140.mp4', '7.mp4', '55.mp4', '356.mp4', '342.mp4', '343.mp4', '357.mp4', '6.mp4', '141.mp4', '221.mp4', '81.mp4', '95.mp4', '143.mp4', '157.mp4', '56.mp4', '355.mp4', '340.mp4', '5.mp4', '156.mp4', '142.mp4', '94.mp4', '80.mp4', '146.mp4', '53.mp4', '344.mp4', '.DS_Store', '350.mp4', '345.mp4', '52.mp4', '153.mp4', '147.mp4', '233.mp4', '93.mp4', '87.mp4', '50.mp4', '79.mp4', '86.mp4', '232.mp4', '255.mp4', '282.mp4', '137.mp4', '36.mp4', '335.mp4', '321.mp4', '320.mp4', '334.mp4', '37.mp4', '136.mp4', '297.mp4', '283.mp4', '254.mp4', '242.mp4', '108.mp4', '134.mp4', '322.mp4', '323.mp4', '135.mp4', '109.mp4', '294.mp4', '243.mp4', '253.mp4', '290.mp4', '284.mp4', '131.mp4', '119.mp4', '18.mp4', '327.mp4', '333.mp4', '332.mp4', '326.mp4', '25.mp4', '19.mp4', '118.mp4', '130.mp4', '252.mp4', '244.mp4', '293.mp4', '132.mp4', '27.mp4', '26.mp4', '245.mp4', '116.mp4', '17.mp4', '328.mp4', '314.mp4', '315.mp4', '329.mp4', '16.mp4', '117.mp4', '277.mp4', '263.mp4', '288.mp4', '129.mp4', '101.mp4', '28.mp4', '100.mp4', '289.mp4', '262.mp4', '276.mp4', '299.mp4', '39.mp4', '11.mp4', '10.mp4', '38.mp4', '298.mp4', '265.mp4', '107.mp4', '12.mp4', '339.mp4', '13.mp4', '106.mp4', '112.mp4', '264.mp4', '149.mp4', '161.mp4', '60.mp4', '61.mp4', '160.mp4', '148.mp4', '162.mp4', '88.mp4', '63.mp4', '348.mp4', '360.mp4', '361.mp4', '349.mp4', '62.mp4', '89.mp4', '99.mp4', '167.mp4', '359.mp4', '98.mp4', '166.mp4', '164.mp4', '159.mp4', '165.mp4']\n",
      "adding file\n"
     ]
    },
    {
     "name": "stderr",
     "output_type": "stream",
     "text": [
      "t:  53%|█████▎    | 66/125 [00:00<00:00, 644.17it/s, now=None]"
     ]
    },
    {
     "name": "stdout",
     "output_type": "stream",
     "text": [
      "Moviepy - Building video behavior_data/control/362.mp4.\n",
      "MoviePy - Writing audio in 362TEMP_MPY_wvf_snd.mp4\n",
      "MoviePy - Done.\n",
      "Moviepy - Writing video behavior_data/control/362.mp4\n",
      "\n"
     ]
    },
    {
     "name": "stderr",
     "output_type": "stream",
     "text": [
      "                                                              \r"
     ]
    },
    {
     "name": "stdout",
     "output_type": "stream",
     "text": [
      "Moviepy - Done !\n",
      "Moviepy - video ready behavior_data/control/362.mp4\n",
      "staring the 53th file\n",
      "http://www.youtube.com/watch?v=JM8BHjJTSFM\n",
      "This is url:  http://www.youtube.com/watch?v=JM8BHjJTSFM\n"
     ]
    },
    {
     "name": "stderr",
     "output_type": "stream",
     "text": [
      "\r",
      "chunk:   0%|          | 0/89 [00:00<?, ?it/s, now=None]"
     ]
    },
    {
     "name": "stdout",
     "output_type": "stream",
     "text": [
      "['69.mp4', '68.mp4', '83.mp4', '97.mp4', '57.mp4', '84.mp4', '.DS_Store', '85.mp4', '145.mp4', '78.mp4', '144.mp4', '123.mp4', '22.mp4', '23.mp4', '122.mp4', '21.mp4', '35.mp4', '34.mp4', '20.mp4', '125.mp4', '24.mp4', '30.mp4', '31.mp4', '124.mp4', '126.mp4', '33.mp4', '32.mp4', '127.mp4', '133.mp4', '102.mp4', '103.mp4', '115.mp4', '14.mp4', '29.mp4', '15.mp4', '114.mp4', '128.mp4', '104.mp4', '110.mp4', '138.mp4', '111.mp4', '105.mp4', '113.mp4', '74.mp4', '75.mp4', '77.mp4', '76.mp4', '8.mp4', '66.mp4', '72.mp4', '358.mp4', '73.mp4', '67.mp4', '9.mp4', '59.mp4', '71.mp4', '65.mp4', '64.mp4', '70.mp4', '58.mp4']\n",
      "adding file\n",
      "Moviepy - Building video behavior_data/armflapping/363.mp4.\n",
      "MoviePy - Writing audio in 363TEMP_MPY_wvf_snd.mp4\n"
     ]
    },
    {
     "name": "stderr",
     "output_type": "stream",
     "text": [
      "t:  52%|█████▏    | 62/120 [00:00<00:00, 607.48it/s, now=None]"
     ]
    },
    {
     "name": "stdout",
     "output_type": "stream",
     "text": [
      "MoviePy - Done.\n",
      "Moviepy - Writing video behavior_data/armflapping/363.mp4\n",
      "\n"
     ]
    },
    {
     "name": "stderr",
     "output_type": "stream",
     "text": [
      "chunk:   0%|          | 0/111 [00:00<?, ?it/s, now=None]      "
     ]
    },
    {
     "name": "stdout",
     "output_type": "stream",
     "text": [
      "Moviepy - Done !\n",
      "Moviepy - video ready behavior_data/armflapping/363.mp4\n",
      "['69.mp4', '68.mp4', '83.mp4', '97.mp4', '57.mp4', '84.mp4', '.DS_Store', '85.mp4', '145.mp4', '78.mp4', '144.mp4', '123.mp4', '22.mp4', '23.mp4', '122.mp4', '21.mp4', '35.mp4', '34.mp4', '20.mp4', '125.mp4', '24.mp4', '30.mp4', '31.mp4', '124.mp4', '126.mp4', '33.mp4', '32.mp4', '127.mp4', '133.mp4', '102.mp4', '103.mp4', '115.mp4', '14.mp4', '29.mp4', '15.mp4', '114.mp4', '128.mp4', '104.mp4', '110.mp4', '138.mp4', '111.mp4', '105.mp4', '113.mp4', '74.mp4', '363.mp4', '75.mp4', '77.mp4', '76.mp4', '8.mp4', '66.mp4', '72.mp4', '358.mp4', '73.mp4', '67.mp4', '9.mp4', '59.mp4', '71.mp4', '65.mp4', '64.mp4', '70.mp4', '58.mp4']\n",
      "adding file\n",
      "Moviepy - Building video behavior_data/armflapping/364.mp4.\n",
      "MoviePy - Writing audio in 364TEMP_MPY_wvf_snd.mp4\n"
     ]
    },
    {
     "name": "stderr",
     "output_type": "stream",
     "text": [
      "t:  40%|████      | 60/150 [00:00<00:00, 598.77it/s, now=None]"
     ]
    },
    {
     "name": "stdout",
     "output_type": "stream",
     "text": [
      "MoviePy - Done.\n",
      "Moviepy - Writing video behavior_data/armflapping/364.mp4\n",
      "\n"
     ]
    },
    {
     "name": "stderr",
     "output_type": "stream",
     "text": [
      "chunk:   0%|          | 0/89 [00:00<?, ?it/s, now=None]        "
     ]
    },
    {
     "name": "stdout",
     "output_type": "stream",
     "text": [
      "Moviepy - Done !\n",
      "Moviepy - video ready behavior_data/armflapping/364.mp4\n",
      "['69.mp4', '68.mp4', '83.mp4', '97.mp4', '57.mp4', '84.mp4', '.DS_Store', '85.mp4', '145.mp4', '78.mp4', '144.mp4', '123.mp4', '22.mp4', '23.mp4', '122.mp4', '21.mp4', '35.mp4', '34.mp4', '20.mp4', '125.mp4', '24.mp4', '30.mp4', '31.mp4', '124.mp4', '126.mp4', '33.mp4', '32.mp4', '127.mp4', '133.mp4', '102.mp4', '103.mp4', '115.mp4', '14.mp4', '29.mp4', '15.mp4', '114.mp4', '128.mp4', '104.mp4', '110.mp4', '138.mp4', '111.mp4', '105.mp4', '113.mp4', '74.mp4', '363.mp4', '75.mp4', '77.mp4', '76.mp4', '8.mp4', '66.mp4', '72.mp4', '358.mp4', '364.mp4', '73.mp4', '67.mp4', '9.mp4', '59.mp4', '71.mp4', '65.mp4', '64.mp4', '70.mp4', '58.mp4']\n",
      "adding file\n",
      "Moviepy - Building video behavior_data/armflapping/365.mp4.\n",
      "MoviePy - Writing audio in 365TEMP_MPY_wvf_snd.mp4\n"
     ]
    },
    {
     "name": "stderr",
     "output_type": "stream",
     "text": [
      "t:  48%|████▊     | 58/120 [00:00<00:00, 577.57it/s, now=None]"
     ]
    },
    {
     "name": "stdout",
     "output_type": "stream",
     "text": [
      "MoviePy - Done.\n",
      "Moviepy - Writing video behavior_data/armflapping/365.mp4\n",
      "\n"
     ]
    },
    {
     "name": "stderr",
     "output_type": "stream",
     "text": [
      "t:   0%|          | 0/60 [00:00<?, ?it/s, now=None]            "
     ]
    },
    {
     "name": "stdout",
     "output_type": "stream",
     "text": [
      "Moviepy - Done !\n",
      "Moviepy - video ready behavior_data/armflapping/365.mp4\n",
      "['96.mp4', '82.mp4', '154.mp4', '140.mp4', '7.mp4', '55.mp4', '356.mp4', '342.mp4', '343.mp4', '357.mp4', '6.mp4', '141.mp4', '221.mp4', '81.mp4', '95.mp4', '143.mp4', '157.mp4', '56.mp4', '355.mp4', '340.mp4', '5.mp4', '156.mp4', '142.mp4', '94.mp4', '80.mp4', '146.mp4', '53.mp4', '344.mp4', '.DS_Store', '350.mp4', '345.mp4', '52.mp4', '153.mp4', '147.mp4', '233.mp4', '93.mp4', '87.mp4', '50.mp4', '79.mp4', '86.mp4', '232.mp4', '255.mp4', '282.mp4', '137.mp4', '36.mp4', '335.mp4', '321.mp4', '320.mp4', '334.mp4', '37.mp4', '136.mp4', '297.mp4', '283.mp4', '254.mp4', '242.mp4', '108.mp4', '134.mp4', '322.mp4', '323.mp4', '135.mp4', '109.mp4', '294.mp4', '243.mp4', '253.mp4', '290.mp4', '284.mp4', '131.mp4', '119.mp4', '18.mp4', '327.mp4', '333.mp4', '332.mp4', '326.mp4', '25.mp4', '19.mp4', '118.mp4', '130.mp4', '252.mp4', '244.mp4', '293.mp4', '132.mp4', '27.mp4', '26.mp4', '245.mp4', '116.mp4', '17.mp4', '328.mp4', '314.mp4', '315.mp4', '329.mp4', '16.mp4', '117.mp4', '277.mp4', '263.mp4', '288.mp4', '129.mp4', '101.mp4', '28.mp4', '100.mp4', '289.mp4', '262.mp4', '276.mp4', '299.mp4', '39.mp4', '11.mp4', '10.mp4', '38.mp4', '298.mp4', '265.mp4', '107.mp4', '12.mp4', '339.mp4', '13.mp4', '106.mp4', '112.mp4', '264.mp4', '149.mp4', '161.mp4', '60.mp4', '362.mp4', '61.mp4', '160.mp4', '148.mp4', '162.mp4', '88.mp4', '63.mp4', '348.mp4', '360.mp4', '361.mp4', '349.mp4', '62.mp4', '89.mp4', '99.mp4', '167.mp4', '359.mp4', '98.mp4', '166.mp4', '164.mp4', '159.mp4', '165.mp4']\n",
      "adding file\n",
      "Moviepy - Building video behavior_data/control/366.mp4.\n",
      "MoviePy - Writing audio in 366TEMP_MPY_wvf_snd.mp4\n",
      "MoviePy - Done.\n",
      "Moviepy - Writing video behavior_data/control/366.mp4\n",
      "\n"
     ]
    },
    {
     "name": "stderr",
     "output_type": "stream",
     "text": [
      "chunk:   0%|          | 0/155 [00:00<?, ?it/s, now=None]     "
     ]
    },
    {
     "name": "stdout",
     "output_type": "stream",
     "text": [
      "Moviepy - Done !\n",
      "Moviepy - video ready behavior_data/control/366.mp4\n",
      "['96.mp4', '82.mp4', '154.mp4', '140.mp4', '7.mp4', '55.mp4', '356.mp4', '342.mp4', '343.mp4', '357.mp4', '6.mp4', '141.mp4', '221.mp4', '81.mp4', '95.mp4', '143.mp4', '157.mp4', '56.mp4', '355.mp4', '340.mp4', '5.mp4', '156.mp4', '142.mp4', '94.mp4', '80.mp4', '146.mp4', '53.mp4', '344.mp4', '.DS_Store', '350.mp4', '345.mp4', '52.mp4', '153.mp4', '147.mp4', '233.mp4', '93.mp4', '87.mp4', '50.mp4', '79.mp4', '86.mp4', '232.mp4', '255.mp4', '282.mp4', '137.mp4', '36.mp4', '335.mp4', '321.mp4', '320.mp4', '334.mp4', '37.mp4', '136.mp4', '297.mp4', '283.mp4', '254.mp4', '242.mp4', '108.mp4', '134.mp4', '322.mp4', '323.mp4', '135.mp4', '109.mp4', '294.mp4', '243.mp4', '253.mp4', '290.mp4', '284.mp4', '131.mp4', '119.mp4', '18.mp4', '327.mp4', '333.mp4', '332.mp4', '326.mp4', '25.mp4', '19.mp4', '118.mp4', '130.mp4', '252.mp4', '244.mp4', '293.mp4', '132.mp4', '27.mp4', '26.mp4', '245.mp4', '116.mp4', '17.mp4', '328.mp4', '314.mp4', '315.mp4', '329.mp4', '16.mp4', '117.mp4', '277.mp4', '263.mp4', '288.mp4', '129.mp4', '101.mp4', '28.mp4', '100.mp4', '289.mp4', '262.mp4', '276.mp4', '299.mp4', '39.mp4', '11.mp4', '10.mp4', '38.mp4', '298.mp4', '265.mp4', '107.mp4', '12.mp4', '339.mp4', '13.mp4', '106.mp4', '112.mp4', '264.mp4', '149.mp4', '161.mp4', '60.mp4', '362.mp4', '61.mp4', '160.mp4', '148.mp4', '162.mp4', '88.mp4', '63.mp4', '348.mp4', '360.mp4', '361.mp4', '349.mp4', '62.mp4', '89.mp4', '99.mp4', '167.mp4', '359.mp4', '98.mp4', '166.mp4', '164.mp4', '366.mp4', '159.mp4', '165.mp4']\n",
      "adding file\n",
      "Moviepy - Building video behavior_data/control/367.mp4.\n",
      "MoviePy - Writing audio in 367TEMP_MPY_wvf_snd.mp4\n"
     ]
    },
    {
     "name": "stderr",
     "output_type": "stream",
     "text": [
      "t:  29%|██▊       | 60/210 [00:00<00:00, 597.97it/s, now=None]"
     ]
    },
    {
     "name": "stdout",
     "output_type": "stream",
     "text": [
      "MoviePy - Done.\n",
      "Moviepy - Writing video behavior_data/control/367.mp4\n",
      "\n"
     ]
    },
    {
     "name": "stderr",
     "output_type": "stream",
     "text": [
      "chunk:   0%|          | 0/155 [00:00<?, ?it/s, now=None]       "
     ]
    },
    {
     "name": "stdout",
     "output_type": "stream",
     "text": [
      "Moviepy - Done !\n",
      "Moviepy - video ready behavior_data/control/367.mp4\n",
      "['96.mp4', '82.mp4', '154.mp4', '140.mp4', '7.mp4', '55.mp4', '356.mp4', '342.mp4', '343.mp4', '357.mp4', '6.mp4', '141.mp4', '221.mp4', '81.mp4', '95.mp4', '143.mp4', '157.mp4', '56.mp4', '355.mp4', '340.mp4', '5.mp4', '156.mp4', '142.mp4', '94.mp4', '80.mp4', '146.mp4', '53.mp4', '344.mp4', '.DS_Store', '350.mp4', '345.mp4', '52.mp4', '153.mp4', '147.mp4', '233.mp4', '93.mp4', '87.mp4', '50.mp4', '79.mp4', '86.mp4', '232.mp4', '255.mp4', '282.mp4', '137.mp4', '36.mp4', '335.mp4', '321.mp4', '320.mp4', '334.mp4', '37.mp4', '136.mp4', '297.mp4', '283.mp4', '254.mp4', '242.mp4', '108.mp4', '134.mp4', '322.mp4', '323.mp4', '135.mp4', '109.mp4', '294.mp4', '243.mp4', '253.mp4', '290.mp4', '284.mp4', '131.mp4', '119.mp4', '18.mp4', '327.mp4', '333.mp4', '332.mp4', '326.mp4', '25.mp4', '19.mp4', '118.mp4', '130.mp4', '252.mp4', '244.mp4', '293.mp4', '132.mp4', '27.mp4', '26.mp4', '245.mp4', '116.mp4', '17.mp4', '328.mp4', '314.mp4', '315.mp4', '329.mp4', '16.mp4', '117.mp4', '277.mp4', '263.mp4', '288.mp4', '129.mp4', '101.mp4', '28.mp4', '100.mp4', '289.mp4', '262.mp4', '276.mp4', '299.mp4', '39.mp4', '11.mp4', '10.mp4', '38.mp4', '298.mp4', '265.mp4', '107.mp4', '12.mp4', '339.mp4', '13.mp4', '106.mp4', '112.mp4', '264.mp4', '149.mp4', '161.mp4', '60.mp4', '362.mp4', '61.mp4', '160.mp4', '148.mp4', '162.mp4', '88.mp4', '63.mp4', '348.mp4', '360.mp4', '361.mp4', '349.mp4', '62.mp4', '89.mp4', '99.mp4', '167.mp4', '359.mp4', '98.mp4', '166.mp4', '164.mp4', '366.mp4', '367.mp4', '159.mp4', '165.mp4']\n",
      "adding file\n",
      "Moviepy - Building video behavior_data/control/368.mp4.\n",
      "MoviePy - Writing audio in 368TEMP_MPY_wvf_snd.mp4\n"
     ]
    },
    {
     "name": "stderr",
     "output_type": "stream",
     "text": [
      "t:  30%|███       | 63/210 [00:00<00:00, 626.63it/s, now=None]"
     ]
    },
    {
     "name": "stdout",
     "output_type": "stream",
     "text": [
      "MoviePy - Done.\n",
      "Moviepy - Writing video behavior_data/control/368.mp4\n",
      "\n"
     ]
    },
    {
     "name": "stderr",
     "output_type": "stream",
     "text": [
      "                                                               \r"
     ]
    },
    {
     "name": "stdout",
     "output_type": "stream",
     "text": [
      "Moviepy - Done !\n",
      "Moviepy - video ready behavior_data/control/368.mp4\n",
      "['96.mp4', '82.mp4', '154.mp4', '140.mp4', '7.mp4', '55.mp4', '356.mp4', '342.mp4', '343.mp4', '357.mp4', '6.mp4', '141.mp4', '221.mp4', '81.mp4', '95.mp4', '143.mp4', '157.mp4', '56.mp4', '355.mp4', '340.mp4', '368.mp4', '5.mp4', '156.mp4', '142.mp4', '94.mp4', '80.mp4', '146.mp4', '53.mp4', '344.mp4', '.DS_Store', '350.mp4', '345.mp4', '52.mp4', '153.mp4', '147.mp4', '233.mp4', '93.mp4', '87.mp4', '50.mp4', '79.mp4', '86.mp4', '232.mp4', '255.mp4', '282.mp4', '137.mp4', '36.mp4', '335.mp4', '321.mp4', '320.mp4', '334.mp4', '37.mp4', '136.mp4', '297.mp4', '283.mp4', '254.mp4', '242.mp4', '108.mp4', '134.mp4', '322.mp4', '323.mp4', '135.mp4', '109.mp4', '294.mp4', '243.mp4', '253.mp4', '290.mp4', '284.mp4', '131.mp4', '119.mp4', '18.mp4', '327.mp4', '333.mp4', '332.mp4', '326.mp4', '25.mp4', '19.mp4', '118.mp4', '130.mp4', '252.mp4', '244.mp4', '293.mp4', '132.mp4', '27.mp4', '26.mp4', '245.mp4', '116.mp4', '17.mp4', '328.mp4', '314.mp4', '315.mp4', '329.mp4', '16.mp4', '117.mp4', '277.mp4', '263.mp4', '288.mp4', '129.mp4', '101.mp4', '28.mp4', '100.mp4', '289.mp4', '262.mp4', '276.mp4', '299.mp4', '39.mp4', '11.mp4', '10.mp4', '38.mp4', '298.mp4', '265.mp4', '107.mp4', '12.mp4', '339.mp4', '13.mp4', '106.mp4', '112.mp4', '264.mp4', '149.mp4', '161.mp4', '60.mp4', '362.mp4', '61.mp4', '160.mp4', '148.mp4', '162.mp4', '88.mp4', '63.mp4', '348.mp4', '360.mp4', '361.mp4', '349.mp4', '62.mp4', '89.mp4', '99.mp4', '167.mp4', '359.mp4', '98.mp4', '166.mp4', '164.mp4', '366.mp4', '367.mp4', '159.mp4', '165.mp4']\n",
      "adding file\n",
      "Moviepy - Building video behavior_data/control/369.mp4.\n",
      "MoviePy - Writing audio in 369TEMP_MPY_wvf_snd.mp4\n"
     ]
    },
    {
     "name": "stderr",
     "output_type": "stream",
     "text": [
      "t:  30%|██▉       | 62/210 [00:00<00:00, 613.82it/s, now=None]"
     ]
    },
    {
     "name": "stdout",
     "output_type": "stream",
     "text": [
      "MoviePy - Done.\n",
      "Moviepy - Writing video behavior_data/control/369.mp4\n",
      "\n"
     ]
    },
    {
     "name": "stderr",
     "output_type": "stream",
     "text": [
      "                                                               \r"
     ]
    },
    {
     "name": "stdout",
     "output_type": "stream",
     "text": [
      "Moviepy - Done !\n",
      "Moviepy - video ready behavior_data/control/369.mp4\n",
      "staring the 54th file\n",
      "http://www.youtube.com/watch?v=1vRklwIBC28\n",
      "This is url:  http://www.youtube.com/watch?v=1vRklwIBC28\n"
     ]
    },
    {
     "name": "stderr",
     "output_type": "stream",
     "text": [
      "\r",
      "chunk:   0%|          | 0/133 [00:00<?, ?it/s, now=None]"
     ]
    },
    {
     "name": "stdout",
     "output_type": "stream",
     "text": [
      "['41.mp4', '40.mp4', '54.mp4', '155.mp4', '42.mp4', '43.mp4', '90.mp4', '47.mp4', '1.mp4', '.DS_Store', '351.mp4', '0.mp4', '46.mp4', '91.mp4', '151.mp4', '2.mp4', '44.mp4', '353.mp4', '346.mp4', '352.mp4', '45.mp4', '3.mp4', '92.mp4', '150.mp4', '120.mp4', '121.mp4', '139.mp4', '48.mp4', '49.mp4']\n",
      "adding file\n",
      "Moviepy - Building video behavior_data/headbanging/370.mp4.\n",
      "MoviePy - Writing audio in 370TEMP_MPY_wvf_snd.mp4\n"
     ]
    },
    {
     "name": "stderr",
     "output_type": "stream",
     "text": [
      "t:  34%|███▍      | 61/180 [00:00<00:00, 602.87it/s, now=None]"
     ]
    },
    {
     "name": "stdout",
     "output_type": "stream",
     "text": [
      "MoviePy - Done.\n",
      "Moviepy - Writing video behavior_data/headbanging/370.mp4\n",
      "\n"
     ]
    },
    {
     "name": "stderr",
     "output_type": "stream",
     "text": [
      "chunk:   0%|          | 0/133 [00:00<?, ?it/s, now=None]       "
     ]
    },
    {
     "name": "stdout",
     "output_type": "stream",
     "text": [
      "Moviepy - Done !\n",
      "Moviepy - video ready behavior_data/headbanging/370.mp4\n",
      "['41.mp4', '40.mp4', '54.mp4', '155.mp4', '42.mp4', '43.mp4', '90.mp4', '47.mp4', '1.mp4', '.DS_Store', '351.mp4', '0.mp4', '46.mp4', '91.mp4', '151.mp4', '2.mp4', '44.mp4', '353.mp4', '346.mp4', '352.mp4', '45.mp4', '3.mp4', '92.mp4', '150.mp4', '120.mp4', '121.mp4', '139.mp4', '48.mp4', '49.mp4', '370.mp4']\n",
      "adding file\n",
      "Moviepy - Building video behavior_data/headbanging/371.mp4.\n",
      "MoviePy - Writing audio in 371TEMP_MPY_wvf_snd.mp4\n"
     ]
    },
    {
     "name": "stderr",
     "output_type": "stream",
     "text": [
      "t:  36%|███▌      | 65/180 [00:00<00:00, 648.71it/s, now=None]"
     ]
    },
    {
     "name": "stdout",
     "output_type": "stream",
     "text": [
      "MoviePy - Done.\n",
      "Moviepy - Writing video behavior_data/headbanging/371.mp4\n",
      "\n"
     ]
    },
    {
     "name": "stderr",
     "output_type": "stream",
     "text": [
      "                                                               \r"
     ]
    },
    {
     "name": "stdout",
     "output_type": "stream",
     "text": [
      "Moviepy - Done !\n",
      "Moviepy - video ready behavior_data/headbanging/371.mp4\n",
      "['41.mp4', '40.mp4', '54.mp4', '155.mp4', '42.mp4', '43.mp4', '90.mp4', '47.mp4', '1.mp4', '.DS_Store', '351.mp4', '0.mp4', '46.mp4', '91.mp4', '151.mp4', '2.mp4', '44.mp4', '353.mp4', '346.mp4', '352.mp4', '45.mp4', '3.mp4', '92.mp4', '150.mp4', '120.mp4', '121.mp4', '139.mp4', '48.mp4', '49.mp4', '371.mp4', '370.mp4']\n",
      "adding file\n",
      "Moviepy - Building video behavior_data/headbanging/372.mp4.\n",
      "MoviePy - Writing audio in 372TEMP_MPY_wvf_snd.mp4\n"
     ]
    },
    {
     "name": "stderr",
     "output_type": "stream",
     "text": [
      "t:  35%|███▌      | 63/180 [00:00<00:00, 620.45it/s, now=None]"
     ]
    },
    {
     "name": "stdout",
     "output_type": "stream",
     "text": [
      "MoviePy - Done.\n",
      "Moviepy - Writing video behavior_data/headbanging/372.mp4\n",
      "\n"
     ]
    },
    {
     "name": "stderr",
     "output_type": "stream",
     "text": [
      "                                                               \r"
     ]
    },
    {
     "name": "stdout",
     "output_type": "stream",
     "text": [
      "Moviepy - Done !\n",
      "Moviepy - video ready behavior_data/headbanging/372.mp4\n",
      "['41.mp4', '40.mp4', '54.mp4', '155.mp4', '42.mp4', '43.mp4', '90.mp4', '47.mp4', '1.mp4', '.DS_Store', '351.mp4', '0.mp4', '46.mp4', '91.mp4', '151.mp4', '2.mp4', '44.mp4', '353.mp4', '346.mp4', '352.mp4', '45.mp4', '3.mp4', '92.mp4', '150.mp4', '120.mp4', '121.mp4', '139.mp4', '48.mp4', '49.mp4', '371.mp4', '370.mp4', '372.mp4']\n",
      "adding file\n",
      "Moviepy - Building video behavior_data/headbanging/373.mp4.\n",
      "MoviePy - Writing audio in 373TEMP_MPY_wvf_snd.mp4\n"
     ]
    },
    {
     "name": "stderr",
     "output_type": "stream",
     "text": [
      "t:  35%|███▌      | 63/180 [00:00<00:00, 621.35it/s, now=None]"
     ]
    },
    {
     "name": "stdout",
     "output_type": "stream",
     "text": [
      "MoviePy - Done.\n",
      "Moviepy - Writing video behavior_data/headbanging/373.mp4\n",
      "\n"
     ]
    },
    {
     "name": "stderr",
     "output_type": "stream",
     "text": [
      "                                                               \r"
     ]
    },
    {
     "name": "stdout",
     "output_type": "stream",
     "text": [
      "Moviepy - Done !\n",
      "Moviepy - video ready behavior_data/headbanging/373.mp4\n",
      "['41.mp4', '40.mp4', '54.mp4', '155.mp4', '42.mp4', '43.mp4', '90.mp4', '47.mp4', '1.mp4', '.DS_Store', '351.mp4', '0.mp4', '46.mp4', '91.mp4', '151.mp4', '2.mp4', '44.mp4', '353.mp4', '346.mp4', '352.mp4', '45.mp4', '3.mp4', '92.mp4', '150.mp4', '120.mp4', '121.mp4', '139.mp4', '48.mp4', '49.mp4', '371.mp4', '370.mp4', '372.mp4', '373.mp4']\n",
      "adding file\n",
      "Moviepy - Building video behavior_data/headbanging/374.mp4.\n",
      "MoviePy - Writing audio in 374TEMP_MPY_wvf_snd.mp4\n"
     ]
    },
    {
     "name": "stderr",
     "output_type": "stream",
     "text": [
      "t:  34%|███▍      | 62/180 [00:00<00:00, 596.77it/s, now=None]"
     ]
    },
    {
     "name": "stdout",
     "output_type": "stream",
     "text": [
      "MoviePy - Done.\n",
      "Moviepy - Writing video behavior_data/headbanging/374.mp4\n",
      "\n"
     ]
    },
    {
     "name": "stderr",
     "output_type": "stream",
     "text": [
      "                                                               \r"
     ]
    },
    {
     "name": "stdout",
     "output_type": "stream",
     "text": [
      "Moviepy - Done !\n",
      "Moviepy - video ready behavior_data/headbanging/374.mp4\n",
      "['41.mp4', '40.mp4', '54.mp4', '155.mp4', '42.mp4', '43.mp4', '90.mp4', '47.mp4', '1.mp4', '.DS_Store', '351.mp4', '0.mp4', '46.mp4', '91.mp4', '151.mp4', '2.mp4', '44.mp4', '353.mp4', '346.mp4', '352.mp4', '45.mp4', '3.mp4', '92.mp4', '150.mp4', '120.mp4', '121.mp4', '139.mp4', '48.mp4', '49.mp4', '374.mp4', '371.mp4', '370.mp4', '372.mp4', '373.mp4']\n",
      "adding file\n"
     ]
    },
    {
     "name": "stderr",
     "output_type": "stream",
     "text": [
      "t:   0%|          | 0/180 [00:00<?, ?it/s, now=None]    "
     ]
    },
    {
     "name": "stdout",
     "output_type": "stream",
     "text": [
      "Moviepy - Building video behavior_data/headbanging/375.mp4.\n",
      "MoviePy - Writing audio in 375TEMP_MPY_wvf_snd.mp4\n",
      "MoviePy - Done.\n",
      "Moviepy - Writing video behavior_data/headbanging/375.mp4\n",
      "\n"
     ]
    },
    {
     "name": "stderr",
     "output_type": "stream",
     "text": [
      "                                                               \r"
     ]
    },
    {
     "name": "stdout",
     "output_type": "stream",
     "text": [
      "Moviepy - Done !\n",
      "Moviepy - video ready behavior_data/headbanging/375.mp4\n",
      "['41.mp4', '40.mp4', '54.mp4', '155.mp4', '42.mp4', '43.mp4', '90.mp4', '47.mp4', '1.mp4', '.DS_Store', '351.mp4', '0.mp4', '46.mp4', '91.mp4', '151.mp4', '2.mp4', '44.mp4', '353.mp4', '346.mp4', '352.mp4', '45.mp4', '3.mp4', '92.mp4', '150.mp4', '120.mp4', '121.mp4', '139.mp4', '48.mp4', '49.mp4', '374.mp4', '375.mp4', '371.mp4', '370.mp4', '372.mp4', '373.mp4']\n",
      "adding file\n"
     ]
    },
    {
     "name": "stderr",
     "output_type": "stream",
     "text": [
      "t:   0%|          | 0/180 [00:00<?, ?it/s, now=None]    "
     ]
    },
    {
     "name": "stdout",
     "output_type": "stream",
     "text": [
      "Moviepy - Building video behavior_data/headbanging/376.mp4.\n",
      "MoviePy - Writing audio in 376TEMP_MPY_wvf_snd.mp4\n",
      "MoviePy - Done.\n",
      "Moviepy - Writing video behavior_data/headbanging/376.mp4\n",
      "\n"
     ]
    },
    {
     "name": "stderr",
     "output_type": "stream",
     "text": [
      "chunk:   0%|          | 0/133 [00:00<?, ?it/s, now=None]       "
     ]
    },
    {
     "name": "stdout",
     "output_type": "stream",
     "text": [
      "Moviepy - Done !\n",
      "Moviepy - video ready behavior_data/headbanging/376.mp4\n",
      "['41.mp4', '40.mp4', '54.mp4', '155.mp4', '42.mp4', '43.mp4', '90.mp4', '47.mp4', '1.mp4', '.DS_Store', '351.mp4', '0.mp4', '46.mp4', '91.mp4', '151.mp4', '2.mp4', '44.mp4', '353.mp4', '346.mp4', '352.mp4', '45.mp4', '3.mp4', '92.mp4', '150.mp4', '120.mp4', '121.mp4', '139.mp4', '48.mp4', '376.mp4', '49.mp4', '374.mp4', '375.mp4', '371.mp4', '370.mp4', '372.mp4', '373.mp4']\n",
      "adding file\n",
      "Moviepy - Building video behavior_data/headbanging/377.mp4.\n",
      "MoviePy - Writing audio in 377TEMP_MPY_wvf_snd.mp4\n"
     ]
    },
    {
     "name": "stderr",
     "output_type": "stream",
     "text": [
      "t:  34%|███▍      | 61/180 [00:00<00:00, 603.40it/s, now=None]      "
     ]
    },
    {
     "name": "stdout",
     "output_type": "stream",
     "text": [
      "MoviePy - Done.\n",
      "Moviepy - Writing video behavior_data/headbanging/377.mp4\n",
      "\n"
     ]
    },
    {
     "name": "stderr",
     "output_type": "stream",
     "text": [
      "                                                               \r"
     ]
    },
    {
     "name": "stdout",
     "output_type": "stream",
     "text": [
      "Moviepy - Done !\n",
      "Moviepy - video ready behavior_data/headbanging/377.mp4\n",
      "['69.mp4', '68.mp4', '83.mp4', '97.mp4', '57.mp4', '84.mp4', '.DS_Store', '85.mp4', '145.mp4', '78.mp4', '144.mp4', '123.mp4', '22.mp4', '23.mp4', '122.mp4', '21.mp4', '35.mp4', '34.mp4', '20.mp4', '125.mp4', '24.mp4', '30.mp4', '31.mp4', '124.mp4', '126.mp4', '33.mp4', '32.mp4', '127.mp4', '133.mp4', '102.mp4', '103.mp4', '115.mp4', '14.mp4', '29.mp4', '15.mp4', '114.mp4', '128.mp4', '104.mp4', '110.mp4', '138.mp4', '111.mp4', '105.mp4', '113.mp4', '74.mp4', '363.mp4', '75.mp4', '77.mp4', '76.mp4', '8.mp4', '66.mp4', '72.mp4', '365.mp4', '358.mp4', '364.mp4', '73.mp4', '67.mp4', '9.mp4', '59.mp4', '71.mp4', '65.mp4', '64.mp4', '70.mp4', '58.mp4']\n",
      "adding file\n",
      "Moviepy - Building video behavior_data/armflapping/378.mp4.\n",
      "MoviePy - Writing audio in 378TEMP_MPY_wvf_snd.mp4\n"
     ]
    },
    {
     "name": "stderr",
     "output_type": "stream",
     "text": [
      "t:  32%|███▏      | 67/210 [00:00<00:00, 660.07it/s, now=None]"
     ]
    },
    {
     "name": "stdout",
     "output_type": "stream",
     "text": [
      "MoviePy - Done.\n",
      "Moviepy - Writing video behavior_data/armflapping/378.mp4\n",
      "\n"
     ]
    },
    {
     "name": "stderr",
     "output_type": "stream",
     "text": [
      "                                                               \r"
     ]
    },
    {
     "name": "stdout",
     "output_type": "stream",
     "text": [
      "Moviepy - Done !\n",
      "Moviepy - video ready behavior_data/armflapping/378.mp4\n",
      "['69.mp4', '68.mp4', '83.mp4', '97.mp4', '57.mp4', '84.mp4', '.DS_Store', '378.mp4', '85.mp4', '145.mp4', '78.mp4', '144.mp4', '123.mp4', '22.mp4', '23.mp4', '122.mp4', '21.mp4', '35.mp4', '34.mp4', '20.mp4', '125.mp4', '24.mp4', '30.mp4', '31.mp4', '124.mp4', '126.mp4', '33.mp4', '32.mp4', '127.mp4', '133.mp4', '102.mp4', '103.mp4', '115.mp4', '14.mp4', '29.mp4', '15.mp4', '114.mp4', '128.mp4', '104.mp4', '110.mp4', '138.mp4', '111.mp4', '105.mp4', '113.mp4', '74.mp4', '363.mp4', '75.mp4', '77.mp4', '76.mp4', '8.mp4', '66.mp4', '72.mp4', '365.mp4', '358.mp4', '364.mp4', '73.mp4', '67.mp4', '9.mp4', '59.mp4', '71.mp4', '65.mp4', '64.mp4', '70.mp4', '58.mp4']\n",
      "adding file\n",
      "Moviepy - Building video behavior_data/armflapping/379.mp4.\n",
      "MoviePy - Writing audio in 379TEMP_MPY_wvf_snd.mp4\n"
     ]
    },
    {
     "name": "stderr",
     "output_type": "stream",
     "text": [
      "t:  31%|███       | 65/210 [00:00<00:00, 645.66it/s, now=None]"
     ]
    },
    {
     "name": "stdout",
     "output_type": "stream",
     "text": [
      "MoviePy - Done.\n",
      "Moviepy - Writing video behavior_data/armflapping/379.mp4\n",
      "\n"
     ]
    },
    {
     "name": "stderr",
     "output_type": "stream",
     "text": [
      "chunk:   0%|          | 0/155 [00:00<?, ?it/s, now=None]       "
     ]
    },
    {
     "name": "stdout",
     "output_type": "stream",
     "text": [
      "Moviepy - Done !\n",
      "Moviepy - video ready behavior_data/armflapping/379.mp4\n",
      "['69.mp4', '68.mp4', '83.mp4', '97.mp4', '57.mp4', '84.mp4', '.DS_Store', '378.mp4', '379.mp4', '85.mp4', '145.mp4', '78.mp4', '144.mp4', '123.mp4', '22.mp4', '23.mp4', '122.mp4', '21.mp4', '35.mp4', '34.mp4', '20.mp4', '125.mp4', '24.mp4', '30.mp4', '31.mp4', '124.mp4', '126.mp4', '33.mp4', '32.mp4', '127.mp4', '133.mp4', '102.mp4', '103.mp4', '115.mp4', '14.mp4', '29.mp4', '15.mp4', '114.mp4', '128.mp4', '104.mp4', '110.mp4', '138.mp4', '111.mp4', '105.mp4', '113.mp4', '74.mp4', '363.mp4', '75.mp4', '77.mp4', '76.mp4', '8.mp4', '66.mp4', '72.mp4', '365.mp4', '358.mp4', '364.mp4', '73.mp4', '67.mp4', '9.mp4', '59.mp4', '71.mp4', '65.mp4', '64.mp4', '70.mp4', '58.mp4']\n",
      "adding file\n",
      "Moviepy - Building video behavior_data/armflapping/380.mp4.\n",
      "MoviePy - Writing audio in 380TEMP_MPY_wvf_snd.mp4\n"
     ]
    },
    {
     "name": "stderr",
     "output_type": "stream",
     "text": [
      "t:  31%|███▏      | 66/210 [00:00<00:00, 650.27it/s, now=None]"
     ]
    },
    {
     "name": "stdout",
     "output_type": "stream",
     "text": [
      "MoviePy - Done.\n",
      "Moviepy - Writing video behavior_data/armflapping/380.mp4\n",
      "\n"
     ]
    },
    {
     "name": "stderr",
     "output_type": "stream",
     "text": [
      "                                                               \r"
     ]
    },
    {
     "name": "stdout",
     "output_type": "stream",
     "text": [
      "Moviepy - Done !\n",
      "Moviepy - video ready behavior_data/armflapping/380.mp4\n",
      "['69.mp4', '380.mp4', '68.mp4', '83.mp4', '97.mp4', '57.mp4', '84.mp4', '.DS_Store', '378.mp4', '379.mp4', '85.mp4', '145.mp4', '78.mp4', '144.mp4', '123.mp4', '22.mp4', '23.mp4', '122.mp4', '21.mp4', '35.mp4', '34.mp4', '20.mp4', '125.mp4', '24.mp4', '30.mp4', '31.mp4', '124.mp4', '126.mp4', '33.mp4', '32.mp4', '127.mp4', '133.mp4', '102.mp4', '103.mp4', '115.mp4', '14.mp4', '29.mp4', '15.mp4', '114.mp4', '128.mp4', '104.mp4', '110.mp4', '138.mp4', '111.mp4', '105.mp4', '113.mp4', '74.mp4', '363.mp4', '75.mp4', '77.mp4', '76.mp4', '8.mp4', '66.mp4', '72.mp4', '365.mp4', '358.mp4', '364.mp4', '73.mp4', '67.mp4', '9.mp4', '59.mp4', '71.mp4', '65.mp4', '64.mp4', '70.mp4', '58.mp4']\n",
      "adding file\n"
     ]
    },
    {
     "name": "stderr",
     "output_type": "stream",
     "text": [
      "t:   0%|          | 0/180 [00:00<?, ?it/s, now=None]    "
     ]
    },
    {
     "name": "stdout",
     "output_type": "stream",
     "text": [
      "Moviepy - Building video behavior_data/armflapping/381.mp4.\n",
      "MoviePy - Writing audio in 381TEMP_MPY_wvf_snd.mp4\n",
      "MoviePy - Done.\n",
      "Moviepy - Writing video behavior_data/armflapping/381.mp4\n",
      "\n"
     ]
    },
    {
     "name": "stderr",
     "output_type": "stream",
     "text": [
      "chunk:   0%|          | 0/155 [00:00<?, ?it/s, now=None]       "
     ]
    },
    {
     "name": "stdout",
     "output_type": "stream",
     "text": [
      "Moviepy - Done !\n",
      "Moviepy - video ready behavior_data/armflapping/381.mp4\n",
      "['96.mp4', '82.mp4', '154.mp4', '140.mp4', '7.mp4', '55.mp4', '356.mp4', '342.mp4', '343.mp4', '357.mp4', '6.mp4', '141.mp4', '221.mp4', '81.mp4', '95.mp4', '143.mp4', '157.mp4', '56.mp4', '369.mp4', '355.mp4', '340.mp4', '368.mp4', '5.mp4', '156.mp4', '142.mp4', '94.mp4', '80.mp4', '146.mp4', '53.mp4', '344.mp4', '.DS_Store', '350.mp4', '345.mp4', '52.mp4', '153.mp4', '147.mp4', '233.mp4', '93.mp4', '87.mp4', '50.mp4', '79.mp4', '86.mp4', '232.mp4', '255.mp4', '282.mp4', '137.mp4', '36.mp4', '335.mp4', '321.mp4', '320.mp4', '334.mp4', '37.mp4', '136.mp4', '297.mp4', '283.mp4', '254.mp4', '242.mp4', '108.mp4', '134.mp4', '322.mp4', '323.mp4', '135.mp4', '109.mp4', '294.mp4', '243.mp4', '253.mp4', '290.mp4', '284.mp4', '131.mp4', '119.mp4', '18.mp4', '327.mp4', '333.mp4', '332.mp4', '326.mp4', '25.mp4', '19.mp4', '118.mp4', '130.mp4', '252.mp4', '244.mp4', '293.mp4', '132.mp4', '27.mp4', '26.mp4', '245.mp4', '116.mp4', '17.mp4', '328.mp4', '314.mp4', '315.mp4', '329.mp4', '16.mp4', '117.mp4', '277.mp4', '263.mp4', '288.mp4', '129.mp4', '101.mp4', '28.mp4', '100.mp4', '289.mp4', '262.mp4', '276.mp4', '299.mp4', '39.mp4', '11.mp4', '10.mp4', '38.mp4', '298.mp4', '265.mp4', '107.mp4', '12.mp4', '339.mp4', '13.mp4', '106.mp4', '112.mp4', '264.mp4', '149.mp4', '161.mp4', '60.mp4', '362.mp4', '61.mp4', '160.mp4', '148.mp4', '162.mp4', '88.mp4', '63.mp4', '348.mp4', '360.mp4', '361.mp4', '349.mp4', '62.mp4', '89.mp4', '99.mp4', '167.mp4', '359.mp4', '98.mp4', '166.mp4', '164.mp4', '366.mp4', '367.mp4', '159.mp4', '165.mp4']\n",
      "adding file\n",
      "Moviepy - Building video behavior_data/control/382.mp4.\n",
      "MoviePy - Writing audio in 382TEMP_MPY_wvf_snd.mp4\n"
     ]
    },
    {
     "name": "stderr",
     "output_type": "stream",
     "text": [
      "t:  30%|███       | 64/210 [00:00<00:00, 634.22it/s, now=None]"
     ]
    },
    {
     "name": "stdout",
     "output_type": "stream",
     "text": [
      "MoviePy - Done.\n",
      "Moviepy - Writing video behavior_data/control/382.mp4\n",
      "\n"
     ]
    },
    {
     "name": "stderr",
     "output_type": "stream",
     "text": [
      "chunk:   0%|          | 0/155 [00:00<?, ?it/s, now=None]       "
     ]
    },
    {
     "name": "stdout",
     "output_type": "stream",
     "text": [
      "Moviepy - Done !\n",
      "Moviepy - video ready behavior_data/control/382.mp4\n",
      "['96.mp4', '82.mp4', '154.mp4', '140.mp4', '7.mp4', '55.mp4', '356.mp4', '342.mp4', '343.mp4', '357.mp4', '6.mp4', '141.mp4', '221.mp4', '81.mp4', '95.mp4', '143.mp4', '157.mp4', '56.mp4', '369.mp4', '355.mp4', '382.mp4', '340.mp4', '368.mp4', '5.mp4', '156.mp4', '142.mp4', '94.mp4', '80.mp4', '146.mp4', '53.mp4', '344.mp4', '.DS_Store', '350.mp4', '345.mp4', '52.mp4', '153.mp4', '147.mp4', '233.mp4', '93.mp4', '87.mp4', '50.mp4', '79.mp4', '86.mp4', '232.mp4', '255.mp4', '282.mp4', '137.mp4', '36.mp4', '335.mp4', '321.mp4', '320.mp4', '334.mp4', '37.mp4', '136.mp4', '297.mp4', '283.mp4', '254.mp4', '242.mp4', '108.mp4', '134.mp4', '322.mp4', '323.mp4', '135.mp4', '109.mp4', '294.mp4', '243.mp4', '253.mp4', '290.mp4', '284.mp4', '131.mp4', '119.mp4', '18.mp4', '327.mp4', '333.mp4', '332.mp4', '326.mp4', '25.mp4', '19.mp4', '118.mp4', '130.mp4', '252.mp4', '244.mp4', '293.mp4', '132.mp4', '27.mp4', '26.mp4', '245.mp4', '116.mp4', '17.mp4', '328.mp4', '314.mp4', '315.mp4', '329.mp4', '16.mp4', '117.mp4', '277.mp4', '263.mp4', '288.mp4', '129.mp4', '101.mp4', '28.mp4', '100.mp4', '289.mp4', '262.mp4', '276.mp4', '299.mp4', '39.mp4', '11.mp4', '10.mp4', '38.mp4', '298.mp4', '265.mp4', '107.mp4', '12.mp4', '339.mp4', '13.mp4', '106.mp4', '112.mp4', '264.mp4', '149.mp4', '161.mp4', '60.mp4', '362.mp4', '61.mp4', '160.mp4', '148.mp4', '162.mp4', '88.mp4', '63.mp4', '348.mp4', '360.mp4', '361.mp4', '349.mp4', '62.mp4', '89.mp4', '99.mp4', '167.mp4', '359.mp4', '98.mp4', '166.mp4', '164.mp4', '366.mp4', '367.mp4', '159.mp4', '165.mp4']\n",
      "adding file\n",
      "Moviepy - Building video behavior_data/control/383.mp4.\n",
      "MoviePy - Writing audio in 383TEMP_MPY_wvf_snd.mp4\n"
     ]
    },
    {
     "name": "stderr",
     "output_type": "stream",
     "text": [
      "t:  29%|██▉       | 61/210 [00:00<00:00, 598.60it/s, now=None]"
     ]
    },
    {
     "name": "stdout",
     "output_type": "stream",
     "text": [
      "MoviePy - Done.\n",
      "Moviepy - Writing video behavior_data/control/383.mp4\n",
      "\n"
     ]
    },
    {
     "name": "stderr",
     "output_type": "stream",
     "text": [
      "chunk:   0%|          | 0/155 [00:00<?, ?it/s, now=None]       "
     ]
    },
    {
     "name": "stdout",
     "output_type": "stream",
     "text": [
      "Moviepy - Done !\n",
      "Moviepy - video ready behavior_data/control/383.mp4\n",
      "['96.mp4', '82.mp4', '154.mp4', '140.mp4', '7.mp4', '55.mp4', '356.mp4', '342.mp4', '343.mp4', '357.mp4', '6.mp4', '141.mp4', '221.mp4', '81.mp4', '95.mp4', '143.mp4', '157.mp4', '56.mp4', '369.mp4', '355.mp4', '382.mp4', '383.mp4', '340.mp4', '368.mp4', '5.mp4', '156.mp4', '142.mp4', '94.mp4', '80.mp4', '146.mp4', '53.mp4', '344.mp4', '.DS_Store', '350.mp4', '345.mp4', '52.mp4', '153.mp4', '147.mp4', '233.mp4', '93.mp4', '87.mp4', '50.mp4', '79.mp4', '86.mp4', '232.mp4', '255.mp4', '282.mp4', '137.mp4', '36.mp4', '335.mp4', '321.mp4', '320.mp4', '334.mp4', '37.mp4', '136.mp4', '297.mp4', '283.mp4', '254.mp4', '242.mp4', '108.mp4', '134.mp4', '322.mp4', '323.mp4', '135.mp4', '109.mp4', '294.mp4', '243.mp4', '253.mp4', '290.mp4', '284.mp4', '131.mp4', '119.mp4', '18.mp4', '327.mp4', '333.mp4', '332.mp4', '326.mp4', '25.mp4', '19.mp4', '118.mp4', '130.mp4', '252.mp4', '244.mp4', '293.mp4', '132.mp4', '27.mp4', '26.mp4', '245.mp4', '116.mp4', '17.mp4', '328.mp4', '314.mp4', '315.mp4', '329.mp4', '16.mp4', '117.mp4', '277.mp4', '263.mp4', '288.mp4', '129.mp4', '101.mp4', '28.mp4', '100.mp4', '289.mp4', '262.mp4', '276.mp4', '299.mp4', '39.mp4', '11.mp4', '10.mp4', '38.mp4', '298.mp4', '265.mp4', '107.mp4', '12.mp4', '339.mp4', '13.mp4', '106.mp4', '112.mp4', '264.mp4', '149.mp4', '161.mp4', '60.mp4', '362.mp4', '61.mp4', '160.mp4', '148.mp4', '162.mp4', '88.mp4', '63.mp4', '348.mp4', '360.mp4', '361.mp4', '349.mp4', '62.mp4', '89.mp4', '99.mp4', '167.mp4', '359.mp4', '98.mp4', '166.mp4', '164.mp4', '366.mp4', '367.mp4', '159.mp4', '165.mp4']\n",
      "adding file\n",
      "Moviepy - Building video behavior_data/control/384.mp4.\n",
      "MoviePy - Writing audio in 384TEMP_MPY_wvf_snd.mp4\n"
     ]
    },
    {
     "name": "stderr",
     "output_type": "stream",
     "text": [
      "t:  30%|███       | 64/210 [00:00<00:00, 639.47it/s, now=None]"
     ]
    },
    {
     "name": "stdout",
     "output_type": "stream",
     "text": [
      "MoviePy - Done.\n",
      "Moviepy - Writing video behavior_data/control/384.mp4\n",
      "\n"
     ]
    },
    {
     "name": "stderr",
     "output_type": "stream",
     "text": [
      "chunk:   0%|          | 0/155 [00:00<?, ?it/s, now=None]       "
     ]
    },
    {
     "name": "stdout",
     "output_type": "stream",
     "text": [
      "Moviepy - Done !\n",
      "Moviepy - video ready behavior_data/control/384.mp4\n",
      "['96.mp4', '82.mp4', '154.mp4', '140.mp4', '7.mp4', '55.mp4', '356.mp4', '342.mp4', '343.mp4', '357.mp4', '6.mp4', '141.mp4', '221.mp4', '81.mp4', '95.mp4', '143.mp4', '157.mp4', '56.mp4', '369.mp4', '355.mp4', '382.mp4', '383.mp4', '340.mp4', '368.mp4', '5.mp4', '156.mp4', '142.mp4', '94.mp4', '80.mp4', '146.mp4', '53.mp4', '344.mp4', '.DS_Store', '350.mp4', '345.mp4', '52.mp4', '153.mp4', '147.mp4', '233.mp4', '93.mp4', '87.mp4', '50.mp4', '384.mp4', '79.mp4', '86.mp4', '232.mp4', '255.mp4', '282.mp4', '137.mp4', '36.mp4', '335.mp4', '321.mp4', '320.mp4', '334.mp4', '37.mp4', '136.mp4', '297.mp4', '283.mp4', '254.mp4', '242.mp4', '108.mp4', '134.mp4', '322.mp4', '323.mp4', '135.mp4', '109.mp4', '294.mp4', '243.mp4', '253.mp4', '290.mp4', '284.mp4', '131.mp4', '119.mp4', '18.mp4', '327.mp4', '333.mp4', '332.mp4', '326.mp4', '25.mp4', '19.mp4', '118.mp4', '130.mp4', '252.mp4', '244.mp4', '293.mp4', '132.mp4', '27.mp4', '26.mp4', '245.mp4', '116.mp4', '17.mp4', '328.mp4', '314.mp4', '315.mp4', '329.mp4', '16.mp4', '117.mp4', '277.mp4', '263.mp4', '288.mp4', '129.mp4', '101.mp4', '28.mp4', '100.mp4', '289.mp4', '262.mp4', '276.mp4', '299.mp4', '39.mp4', '11.mp4', '10.mp4', '38.mp4', '298.mp4', '265.mp4', '107.mp4', '12.mp4', '339.mp4', '13.mp4', '106.mp4', '112.mp4', '264.mp4', '149.mp4', '161.mp4', '60.mp4', '362.mp4', '61.mp4', '160.mp4', '148.mp4', '162.mp4', '88.mp4', '63.mp4', '348.mp4', '360.mp4', '361.mp4', '349.mp4', '62.mp4', '89.mp4', '99.mp4', '167.mp4', '359.mp4', '98.mp4', '166.mp4', '164.mp4', '366.mp4', '367.mp4', '159.mp4', '165.mp4']\n",
      "adding file\n",
      "Moviepy - Building video behavior_data/control/385.mp4.\n",
      "MoviePy - Writing audio in 385TEMP_MPY_wvf_snd.mp4\n"
     ]
    },
    {
     "name": "stderr",
     "output_type": "stream",
     "text": [
      "t:  31%|███       | 65/210 [00:00<00:00, 645.49it/s, now=None]"
     ]
    },
    {
     "name": "stdout",
     "output_type": "stream",
     "text": [
      "MoviePy - Done.\n",
      "Moviepy - Writing video behavior_data/control/385.mp4\n",
      "\n"
     ]
    },
    {
     "name": "stderr",
     "output_type": "stream",
     "text": [
      "                                                               \r"
     ]
    },
    {
     "name": "stdout",
     "output_type": "stream",
     "text": [
      "Moviepy - Done !\n",
      "Moviepy - video ready behavior_data/control/385.mp4\n",
      "staring the 55th file\n",
      "http://www.youtube.com/watch?v=I2rfPPinMHk\n",
      "This is url:  http://www.youtube.com/watch?v=I2rfPPinMHk\n",
      "['69.mp4', '381.mp4', '380.mp4', '68.mp4', '83.mp4', '97.mp4', '57.mp4', '84.mp4', '.DS_Store', '378.mp4', '379.mp4', '85.mp4', '145.mp4', '78.mp4', '144.mp4', '123.mp4', '22.mp4', '23.mp4', '122.mp4', '21.mp4', '35.mp4', '34.mp4', '20.mp4', '125.mp4', '24.mp4', '30.mp4', '31.mp4', '124.mp4', '126.mp4', '33.mp4', '32.mp4', '127.mp4', '133.mp4', '102.mp4', '103.mp4', '115.mp4', '14.mp4', '29.mp4', '15.mp4', '114.mp4', '128.mp4', '104.mp4', '110.mp4', '138.mp4', '111.mp4', '105.mp4', '113.mp4', '74.mp4', '363.mp4', '75.mp4', '77.mp4', '76.mp4', '8.mp4', '66.mp4', '72.mp4', '365.mp4', '358.mp4', '364.mp4', '73.mp4', '67.mp4', '9.mp4', '59.mp4', '71.mp4', '65.mp4', '64.mp4', '70.mp4', '58.mp4']\n",
      "adding file\n"
     ]
    },
    {
     "name": "stderr",
     "output_type": "stream",
     "text": [
      "t:  22%|██▏       | 26/120 [00:00<00:00, 258.09it/s, now=None]"
     ]
    },
    {
     "name": "stdout",
     "output_type": "stream",
     "text": [
      "Moviepy - Building video behavior_data/armflapping/386.mp4.\n",
      "MoviePy - Writing audio in 386TEMP_MPY_wvf_snd.mp4\n",
      "MoviePy - Done.\n",
      "Moviepy - Writing video behavior_data/armflapping/386.mp4\n",
      "\n"
     ]
    },
    {
     "name": "stderr",
     "output_type": "stream",
     "text": [
      "chunk:   0%|          | 0/67 [00:00<?, ?it/s, now=None]        "
     ]
    },
    {
     "name": "stdout",
     "output_type": "stream",
     "text": [
      "Moviepy - Done !\n",
      "Moviepy - video ready behavior_data/armflapping/386.mp4\n",
      "['96.mp4', '82.mp4', '154.mp4', '140.mp4', '7.mp4', '55.mp4', '356.mp4', '342.mp4', '343.mp4', '357.mp4', '6.mp4', '141.mp4', '221.mp4', '81.mp4', '95.mp4', '143.mp4', '157.mp4', '56.mp4', '369.mp4', '355.mp4', '382.mp4', '383.mp4', '340.mp4', '368.mp4', '5.mp4', '156.mp4', '142.mp4', '94.mp4', '80.mp4', '146.mp4', '53.mp4', '344.mp4', '.DS_Store', '350.mp4', '345.mp4', '52.mp4', '153.mp4', '147.mp4', '233.mp4', '93.mp4', '87.mp4', '50.mp4', '384.mp4', '385.mp4', '79.mp4', '86.mp4', '232.mp4', '255.mp4', '282.mp4', '137.mp4', '36.mp4', '335.mp4', '321.mp4', '320.mp4', '334.mp4', '37.mp4', '136.mp4', '297.mp4', '283.mp4', '254.mp4', '242.mp4', '108.mp4', '134.mp4', '322.mp4', '323.mp4', '135.mp4', '109.mp4', '294.mp4', '243.mp4', '253.mp4', '290.mp4', '284.mp4', '131.mp4', '119.mp4', '18.mp4', '327.mp4', '333.mp4', '332.mp4', '326.mp4', '25.mp4', '19.mp4', '118.mp4', '130.mp4', '252.mp4', '244.mp4', '293.mp4', '132.mp4', '27.mp4', '26.mp4', '245.mp4', '116.mp4', '17.mp4', '328.mp4', '314.mp4', '315.mp4', '329.mp4', '16.mp4', '117.mp4', '277.mp4', '263.mp4', '288.mp4', '129.mp4', '101.mp4', '28.mp4', '100.mp4', '289.mp4', '262.mp4', '276.mp4', '299.mp4', '39.mp4', '11.mp4', '10.mp4', '38.mp4', '298.mp4', '265.mp4', '107.mp4', '12.mp4', '339.mp4', '13.mp4', '106.mp4', '112.mp4', '264.mp4', '149.mp4', '161.mp4', '60.mp4', '362.mp4', '61.mp4', '160.mp4', '148.mp4', '162.mp4', '88.mp4', '63.mp4', '348.mp4', '360.mp4', '361.mp4', '349.mp4', '62.mp4', '89.mp4', '99.mp4', '167.mp4', '359.mp4', '98.mp4', '166.mp4', '164.mp4', '366.mp4', '367.mp4', '159.mp4', '165.mp4']\n",
      "adding file\n",
      "Moviepy - Building video behavior_data/control/387.mp4.\n",
      "MoviePy - Writing audio in 387TEMP_MPY_wvf_snd.mp4\n"
     ]
    },
    {
     "name": "stderr",
     "output_type": "stream",
     "text": [
      "t:  29%|██▉       | 26/90 [00:00<00:00, 256.57it/s, now=None]"
     ]
    },
    {
     "name": "stdout",
     "output_type": "stream",
     "text": [
      "MoviePy - Done.\n",
      "Moviepy - Writing video behavior_data/control/387.mp4\n",
      "\n"
     ]
    },
    {
     "name": "stderr",
     "output_type": "stream",
     "text": [
      "                                                             \r"
     ]
    },
    {
     "name": "stdout",
     "output_type": "stream",
     "text": [
      "Moviepy - Done !\n",
      "Moviepy - video ready behavior_data/control/387.mp4\n",
      "['96.mp4', '82.mp4', '154.mp4', '140.mp4', '7.mp4', '55.mp4', '356.mp4', '342.mp4', '343.mp4', '357.mp4', '6.mp4', '141.mp4', '221.mp4', '81.mp4', '95.mp4', '143.mp4', '157.mp4', '56.mp4', '369.mp4', '355.mp4', '382.mp4', '383.mp4', '340.mp4', '368.mp4', '5.mp4', '156.mp4', '142.mp4', '94.mp4', '80.mp4', '146.mp4', '53.mp4', '344.mp4', '.DS_Store', '350.mp4', '387.mp4', '345.mp4', '52.mp4', '153.mp4', '147.mp4', '233.mp4', '93.mp4', '87.mp4', '50.mp4', '384.mp4', '385.mp4', '79.mp4', '86.mp4', '232.mp4', '255.mp4', '282.mp4', '137.mp4', '36.mp4', '335.mp4', '321.mp4', '320.mp4', '334.mp4', '37.mp4', '136.mp4', '297.mp4', '283.mp4', '254.mp4', '242.mp4', '108.mp4', '134.mp4', '322.mp4', '323.mp4', '135.mp4', '109.mp4', '294.mp4', '243.mp4', '253.mp4', '290.mp4', '284.mp4', '131.mp4', '119.mp4', '18.mp4', '327.mp4', '333.mp4', '332.mp4', '326.mp4', '25.mp4', '19.mp4', '118.mp4', '130.mp4', '252.mp4', '244.mp4', '293.mp4', '132.mp4', '27.mp4', '26.mp4', '245.mp4', '116.mp4', '17.mp4', '328.mp4', '314.mp4', '315.mp4', '329.mp4', '16.mp4', '117.mp4', '277.mp4', '263.mp4', '288.mp4', '129.mp4', '101.mp4', '28.mp4', '100.mp4', '289.mp4', '262.mp4', '276.mp4', '299.mp4', '39.mp4', '11.mp4', '10.mp4', '38.mp4', '298.mp4', '265.mp4', '107.mp4', '12.mp4', '339.mp4', '13.mp4', '106.mp4', '112.mp4', '264.mp4', '149.mp4', '161.mp4', '60.mp4', '362.mp4', '61.mp4', '160.mp4', '148.mp4', '162.mp4', '88.mp4', '63.mp4', '348.mp4', '360.mp4', '361.mp4', '349.mp4', '62.mp4', '89.mp4', '99.mp4', '167.mp4', '359.mp4', '98.mp4', '166.mp4', '164.mp4', '366.mp4', '367.mp4', '159.mp4', '165.mp4']\n",
      "adding file\n"
     ]
    },
    {
     "name": "stderr",
     "output_type": "stream",
     "text": [
      "t:  16%|█▌        | 29/180 [00:00<00:00, 278.98it/s, now=None]"
     ]
    },
    {
     "name": "stdout",
     "output_type": "stream",
     "text": [
      "Moviepy - Building video behavior_data/control/388.mp4.\n",
      "MoviePy - Writing audio in 388TEMP_MPY_wvf_snd.mp4\n",
      "MoviePy - Done.\n",
      "Moviepy - Writing video behavior_data/control/388.mp4\n",
      "\n"
     ]
    },
    {
     "name": "stderr",
     "output_type": "stream",
     "text": [
      "                                                               \r"
     ]
    },
    {
     "name": "stdout",
     "output_type": "stream",
     "text": [
      "Moviepy - Done !\n",
      "Moviepy - video ready behavior_data/control/388.mp4\n",
      "['96.mp4', '82.mp4', '154.mp4', '140.mp4', '7.mp4', '55.mp4', '356.mp4', '342.mp4', '343.mp4', '357.mp4', '6.mp4', '141.mp4', '221.mp4', '81.mp4', '95.mp4', '143.mp4', '157.mp4', '56.mp4', '369.mp4', '355.mp4', '382.mp4', '383.mp4', '340.mp4', '368.mp4', '5.mp4', '156.mp4', '142.mp4', '94.mp4', '80.mp4', '146.mp4', '53.mp4', '344.mp4', '.DS_Store', '350.mp4', '387.mp4', '345.mp4', '52.mp4', '153.mp4', '147.mp4', '233.mp4', '93.mp4', '87.mp4', '50.mp4', '384.mp4', '385.mp4', '79.mp4', '86.mp4', '232.mp4', '255.mp4', '282.mp4', '137.mp4', '36.mp4', '335.mp4', '321.mp4', '320.mp4', '334.mp4', '37.mp4', '136.mp4', '297.mp4', '283.mp4', '254.mp4', '242.mp4', '108.mp4', '134.mp4', '322.mp4', '323.mp4', '135.mp4', '109.mp4', '294.mp4', '243.mp4', '253.mp4', '290.mp4', '284.mp4', '131.mp4', '119.mp4', '18.mp4', '327.mp4', '333.mp4', '332.mp4', '326.mp4', '25.mp4', '19.mp4', '118.mp4', '130.mp4', '252.mp4', '244.mp4', '293.mp4', '132.mp4', '27.mp4', '26.mp4', '245.mp4', '116.mp4', '17.mp4', '328.mp4', '314.mp4', '315.mp4', '329.mp4', '16.mp4', '117.mp4', '277.mp4', '263.mp4', '288.mp4', '129.mp4', '101.mp4', '28.mp4', '100.mp4', '289.mp4', '262.mp4', '276.mp4', '299.mp4', '39.mp4', '11.mp4', '10.mp4', '38.mp4', '298.mp4', '265.mp4', '107.mp4', '12.mp4', '339.mp4', '13.mp4', '106.mp4', '112.mp4', '264.mp4', '149.mp4', '161.mp4', '60.mp4', '388.mp4', '362.mp4', '61.mp4', '160.mp4', '148.mp4', '162.mp4', '88.mp4', '63.mp4', '348.mp4', '360.mp4', '361.mp4', '349.mp4', '62.mp4', '89.mp4', '99.mp4', '167.mp4', '359.mp4', '98.mp4', '166.mp4', '164.mp4', '366.mp4', '367.mp4', '159.mp4', '165.mp4']\n",
      "adding file\n"
     ]
    },
    {
     "name": "stderr",
     "output_type": "stream",
     "text": [
      "t:  14%|█▍        | 26/180 [00:00<00:00, 251.22it/s, now=None]"
     ]
    },
    {
     "name": "stdout",
     "output_type": "stream",
     "text": [
      "Moviepy - Building video behavior_data/control/389.mp4.\n",
      "MoviePy - Writing audio in 389TEMP_MPY_wvf_snd.mp4\n",
      "MoviePy - Done.\n",
      "Moviepy - Writing video behavior_data/control/389.mp4\n",
      "\n"
     ]
    },
    {
     "name": "stderr",
     "output_type": "stream",
     "text": [
      "                                                               \r"
     ]
    },
    {
     "name": "stdout",
     "output_type": "stream",
     "text": [
      "Moviepy - Done !\n",
      "Moviepy - video ready behavior_data/control/389.mp4\n",
      "staring the 56th file\n",
      "http://www.youtube.com/watch?v=0Vk9itex_ds\n",
      "This is url:  http://www.youtube.com/watch?v=0Vk9itex_ds\n"
     ]
    },
    {
     "name": "stderr",
     "output_type": "stream",
     "text": [
      "\r",
      "chunk:   0%|          | 0/133 [00:00<?, ?it/s, now=None]"
     ]
    },
    {
     "name": "stdout",
     "output_type": "stream",
     "text": [
      "['41.mp4', '40.mp4', '54.mp4', '155.mp4', '42.mp4', '43.mp4', '90.mp4', '47.mp4', '1.mp4', '.DS_Store', '351.mp4', '0.mp4', '46.mp4', '91.mp4', '151.mp4', '2.mp4', '44.mp4', '353.mp4', '346.mp4', '352.mp4', '45.mp4', '3.mp4', '92.mp4', '150.mp4', '120.mp4', '121.mp4', '139.mp4', '48.mp4', '377.mp4', '376.mp4', '49.mp4', '374.mp4', '375.mp4', '371.mp4', '370.mp4', '372.mp4', '373.mp4']\n",
      "adding file\n",
      "Moviepy - Building video behavior_data/headbanging/390.mp4.\n",
      "MoviePy - Writing audio in 390TEMP_MPY_wvf_snd.mp4\n"
     ]
    },
    {
     "name": "stderr",
     "output_type": "stream",
     "text": [
      "                                                                \r"
     ]
    },
    {
     "name": "stdout",
     "output_type": "stream",
     "text": [
      "MoviePy - Done.\n",
      "Moviepy - Writing video behavior_data/headbanging/390.mp4\n",
      "\n"
     ]
    },
    {
     "name": "stderr",
     "output_type": "stream",
     "text": [
      "\r",
      "chunk:   0%|          | 0/133 [00:00<?, ?it/s, now=None]"
     ]
    },
    {
     "name": "stdout",
     "output_type": "stream",
     "text": [
      "Moviepy - Done !\n",
      "Moviepy - video ready behavior_data/headbanging/390.mp4\n",
      "['41.mp4', '40.mp4', '54.mp4', '155.mp4', '42.mp4', '43.mp4', '90.mp4', '47.mp4', '1.mp4', '.DS_Store', '351.mp4', '0.mp4', '46.mp4', '91.mp4', '151.mp4', '2.mp4', '44.mp4', '353.mp4', '390.mp4', '346.mp4', '352.mp4', '45.mp4', '3.mp4', '92.mp4', '150.mp4', '120.mp4', '121.mp4', '139.mp4', '48.mp4', '377.mp4', '376.mp4', '49.mp4', '374.mp4', '375.mp4', '371.mp4', '370.mp4', '372.mp4', '373.mp4']\n",
      "adding file\n",
      "Moviepy - Building video behavior_data/headbanging/391.mp4.\n",
      "MoviePy - Writing audio in 391TEMP_MPY_wvf_snd.mp4\n"
     ]
    },
    {
     "name": "stderr",
     "output_type": "stream",
     "text": [
      "                                                                \r"
     ]
    },
    {
     "name": "stdout",
     "output_type": "stream",
     "text": [
      "MoviePy - Done.\n",
      "Moviepy - Writing video behavior_data/headbanging/391.mp4\n",
      "\n"
     ]
    },
    {
     "name": "stderr",
     "output_type": "stream",
     "text": [
      "\r",
      "chunk:   0%|          | 0/133 [00:00<?, ?it/s, now=None]"
     ]
    },
    {
     "name": "stdout",
     "output_type": "stream",
     "text": [
      "Moviepy - Done !\n",
      "Moviepy - video ready behavior_data/headbanging/391.mp4\n",
      "['41.mp4', '40.mp4', '54.mp4', '155.mp4', '42.mp4', '43.mp4', '90.mp4', '47.mp4', '1.mp4', '.DS_Store', '351.mp4', '0.mp4', '46.mp4', '91.mp4', '151.mp4', '2.mp4', '44.mp4', '353.mp4', '390.mp4', '391.mp4', '346.mp4', '352.mp4', '45.mp4', '3.mp4', '92.mp4', '150.mp4', '120.mp4', '121.mp4', '139.mp4', '48.mp4', '377.mp4', '376.mp4', '49.mp4', '374.mp4', '375.mp4', '371.mp4', '370.mp4', '372.mp4', '373.mp4']\n",
      "adding file\n",
      "Moviepy - Building video behavior_data/headbanging/392.mp4.\n",
      "MoviePy - Writing audio in 392TEMP_MPY_wvf_snd.mp4\n"
     ]
    },
    {
     "name": "stderr",
     "output_type": "stream",
     "text": [
      "                                                                \r"
     ]
    },
    {
     "name": "stdout",
     "output_type": "stream",
     "text": [
      "MoviePy - Done.\n",
      "Moviepy - Writing video behavior_data/headbanging/392.mp4\n",
      "\n"
     ]
    },
    {
     "name": "stderr",
     "output_type": "stream",
     "text": [
      "\r",
      "chunk:   0%|          | 0/111 [00:00<?, ?it/s, now=None]"
     ]
    },
    {
     "name": "stdout",
     "output_type": "stream",
     "text": [
      "Moviepy - Done !\n",
      "Moviepy - video ready behavior_data/headbanging/392.mp4\n",
      "['41.mp4', '40.mp4', '54.mp4', '155.mp4', '42.mp4', '43.mp4', '90.mp4', '47.mp4', '1.mp4', '.DS_Store', '392.mp4', '351.mp4', '0.mp4', '46.mp4', '91.mp4', '151.mp4', '2.mp4', '44.mp4', '353.mp4', '390.mp4', '391.mp4', '346.mp4', '352.mp4', '45.mp4', '3.mp4', '92.mp4', '150.mp4', '120.mp4', '121.mp4', '139.mp4', '48.mp4', '377.mp4', '376.mp4', '49.mp4', '374.mp4', '375.mp4', '371.mp4', '370.mp4', '372.mp4', '373.mp4']\n",
      "adding file\n",
      "Moviepy - Building video behavior_data/headbanging/393.mp4.\n",
      "MoviePy - Writing audio in 393TEMP_MPY_wvf_snd.mp4\n"
     ]
    },
    {
     "name": "stderr",
     "output_type": "stream",
     "text": [
      "                                                                \r"
     ]
    },
    {
     "name": "stdout",
     "output_type": "stream",
     "text": [
      "MoviePy - Done.\n",
      "Moviepy - Writing video behavior_data/headbanging/393.mp4\n",
      "\n",
      "Moviepy - Done !\n",
      "Moviepy - video ready behavior_data/headbanging/393.mp4\n"
     ]
    },
    {
     "name": "stderr",
     "output_type": "stream",
     "text": [
      "t:   0%|          | 0/90 [00:00<?, ?it/s, now=None]    "
     ]
    },
    {
     "name": "stdout",
     "output_type": "stream",
     "text": [
      "['96.mp4', '82.mp4', '154.mp4', '140.mp4', '7.mp4', '55.mp4', '356.mp4', '342.mp4', '343.mp4', '357.mp4', '6.mp4', '141.mp4', '221.mp4', '81.mp4', '95.mp4', '143.mp4', '157.mp4', '56.mp4', '369.mp4', '355.mp4', '382.mp4', '383.mp4', '340.mp4', '368.mp4', '5.mp4', '156.mp4', '142.mp4', '94.mp4', '80.mp4', '146.mp4', '53.mp4', '344.mp4', '.DS_Store', '350.mp4', '387.mp4', '345.mp4', '52.mp4', '153.mp4', '147.mp4', '233.mp4', '93.mp4', '87.mp4', '50.mp4', '384.mp4', '385.mp4', '79.mp4', '86.mp4', '232.mp4', '255.mp4', '282.mp4', '137.mp4', '36.mp4', '335.mp4', '321.mp4', '320.mp4', '334.mp4', '37.mp4', '136.mp4', '297.mp4', '283.mp4', '254.mp4', '242.mp4', '108.mp4', '134.mp4', '322.mp4', '323.mp4', '135.mp4', '109.mp4', '294.mp4', '243.mp4', '253.mp4', '290.mp4', '284.mp4', '131.mp4', '119.mp4', '18.mp4', '327.mp4', '333.mp4', '332.mp4', '326.mp4', '25.mp4', '19.mp4', '118.mp4', '130.mp4', '252.mp4', '244.mp4', '293.mp4', '132.mp4', '27.mp4', '26.mp4', '245.mp4', '116.mp4', '17.mp4', '328.mp4', '314.mp4', '315.mp4', '329.mp4', '16.mp4', '117.mp4', '277.mp4', '263.mp4', '288.mp4', '129.mp4', '101.mp4', '28.mp4', '100.mp4', '289.mp4', '262.mp4', '276.mp4', '299.mp4', '39.mp4', '11.mp4', '10.mp4', '38.mp4', '298.mp4', '265.mp4', '107.mp4', '12.mp4', '339.mp4', '13.mp4', '106.mp4', '112.mp4', '264.mp4', '149.mp4', '161.mp4', '60.mp4', '388.mp4', '389.mp4', '362.mp4', '61.mp4', '160.mp4', '148.mp4', '162.mp4', '88.mp4', '63.mp4', '348.mp4', '360.mp4', '361.mp4', '349.mp4', '62.mp4', '89.mp4', '99.mp4', '167.mp4', '359.mp4', '98.mp4', '166.mp4', '164.mp4', '366.mp4', '367.mp4', '159.mp4', '165.mp4']\n",
      "adding file\n",
      "Moviepy - Building video behavior_data/control/394.mp4.\n",
      "MoviePy - Writing audio in 394TEMP_MPY_wvf_snd.mp4\n",
      "MoviePy - Done.\n",
      "Moviepy - Writing video behavior_data/control/394.mp4\n",
      "\n"
     ]
    },
    {
     "name": "stderr",
     "output_type": "stream",
     "text": [
      "chunk:   0%|          | 0/23 [00:00<?, ?it/s, now=None]"
     ]
    },
    {
     "name": "stdout",
     "output_type": "stream",
     "text": [
      "Moviepy - Done !\n",
      "Moviepy - video ready behavior_data/control/394.mp4\n",
      "['96.mp4', '82.mp4', '154.mp4', '140.mp4', '7.mp4', '55.mp4', '356.mp4', '342.mp4', '394.mp4', '343.mp4', '357.mp4', '6.mp4', '141.mp4', '221.mp4', '81.mp4', '95.mp4', '143.mp4', '157.mp4', '56.mp4', '369.mp4', '355.mp4', '382.mp4', '383.mp4', '340.mp4', '368.mp4', '5.mp4', '156.mp4', '142.mp4', '94.mp4', '80.mp4', '146.mp4', '53.mp4', '344.mp4', '.DS_Store', '350.mp4', '387.mp4', '345.mp4', '52.mp4', '153.mp4', '147.mp4', '233.mp4', '93.mp4', '87.mp4', '50.mp4', '384.mp4', '385.mp4', '79.mp4', '86.mp4', '232.mp4', '255.mp4', '282.mp4', '137.mp4', '36.mp4', '335.mp4', '321.mp4', '320.mp4', '334.mp4', '37.mp4', '136.mp4', '297.mp4', '283.mp4', '254.mp4', '242.mp4', '108.mp4', '134.mp4', '322.mp4', '323.mp4', '135.mp4', '109.mp4', '294.mp4', '243.mp4', '253.mp4', '290.mp4', '284.mp4', '131.mp4', '119.mp4', '18.mp4', '327.mp4', '333.mp4', '332.mp4', '326.mp4', '25.mp4', '19.mp4', '118.mp4', '130.mp4', '252.mp4', '244.mp4', '293.mp4', '132.mp4', '27.mp4', '26.mp4', '245.mp4', '116.mp4', '17.mp4', '328.mp4', '314.mp4', '315.mp4', '329.mp4', '16.mp4', '117.mp4', '277.mp4', '263.mp4', '288.mp4', '129.mp4', '101.mp4', '28.mp4', '100.mp4', '289.mp4', '262.mp4', '276.mp4', '299.mp4', '39.mp4', '11.mp4', '10.mp4', '38.mp4', '298.mp4', '265.mp4', '107.mp4', '12.mp4', '339.mp4', '13.mp4', '106.mp4', '112.mp4', '264.mp4', '149.mp4', '161.mp4', '60.mp4', '388.mp4', '389.mp4', '362.mp4', '61.mp4', '160.mp4', '148.mp4', '162.mp4', '88.mp4', '63.mp4', '348.mp4', '360.mp4', '361.mp4', '349.mp4', '62.mp4', '89.mp4', '99.mp4', '167.mp4', '359.mp4', '98.mp4', '166.mp4', '164.mp4', '366.mp4', '367.mp4', '159.mp4', '165.mp4']\n",
      "adding file\n",
      "Moviepy - Building video behavior_data/control/395.mp4.\n",
      "MoviePy - Writing audio in 395TEMP_MPY_wvf_snd.mp4\n"
     ]
    },
    {
     "name": "stderr",
     "output_type": "stream",
     "text": [
      "                                                       \r"
     ]
    },
    {
     "name": "stdout",
     "output_type": "stream",
     "text": [
      "MoviePy - Done.\n",
      "Moviepy - Writing video behavior_data/control/395.mp4\n",
      "\n",
      "Moviepy - Done !\n",
      "Moviepy - video ready behavior_data/control/395.mp4\n",
      "staring the 57th file\n",
      "http://www.youtube.com/watch?v=Lw-MsQ2k6ZQ\n",
      "This is url:  http://www.youtube.com/watch?v=Lw-MsQ2k6ZQ\n"
     ]
    },
    {
     "name": "stderr",
     "output_type": "stream",
     "text": [
      "\r",
      "chunk:   0%|          | 0/155 [00:00<?, ?it/s, now=None]"
     ]
    },
    {
     "name": "stdout",
     "output_type": "stream",
     "text": [
      "['41.mp4', '40.mp4', '54.mp4', '155.mp4', '42.mp4', '43.mp4', '90.mp4', '47.mp4', '1.mp4', '.DS_Store', '393.mp4', '392.mp4', '351.mp4', '0.mp4', '46.mp4', '91.mp4', '151.mp4', '2.mp4', '44.mp4', '353.mp4', '390.mp4', '391.mp4', '346.mp4', '352.mp4', '45.mp4', '3.mp4', '92.mp4', '150.mp4', '120.mp4', '121.mp4', '139.mp4', '48.mp4', '377.mp4', '376.mp4', '49.mp4', '374.mp4', '375.mp4', '371.mp4', '370.mp4', '372.mp4', '373.mp4']\n",
      "adding file\n",
      "Moviepy - Building video behavior_data/headbanging/396.mp4.\n",
      "MoviePy - Writing audio in 396TEMP_MPY_wvf_snd.mp4\n"
     ]
    },
    {
     "name": "stderr",
     "output_type": "stream",
     "text": [
      "                                                                \r"
     ]
    },
    {
     "name": "stdout",
     "output_type": "stream",
     "text": [
      "MoviePy - Done.\n",
      "Moviepy - Writing video behavior_data/headbanging/396.mp4\n",
      "\n"
     ]
    },
    {
     "name": "stderr",
     "output_type": "stream",
     "text": [
      "                                                       "
     ]
    },
    {
     "name": "stdout",
     "output_type": "stream",
     "text": [
      "Moviepy - Done !\n",
      "Moviepy - video ready behavior_data/headbanging/396.mp4\n",
      "['96.mp4', '82.mp4', '154.mp4', '140.mp4', '7.mp4', '55.mp4', '356.mp4', '342.mp4', '395.mp4', '394.mp4', '343.mp4', '357.mp4', '6.mp4', '141.mp4', '221.mp4', '81.mp4', '95.mp4', '143.mp4', '157.mp4', '56.mp4', '369.mp4', '355.mp4', '382.mp4', '383.mp4', '340.mp4', '368.mp4', '5.mp4', '156.mp4', '142.mp4', '94.mp4', '80.mp4', '146.mp4', '53.mp4', '344.mp4', '.DS_Store', '350.mp4', '387.mp4', '345.mp4', '52.mp4', '153.mp4', '147.mp4', '233.mp4', '93.mp4', '87.mp4', '50.mp4', '384.mp4', '385.mp4', '79.mp4', '86.mp4', '232.mp4', '255.mp4', '282.mp4', '137.mp4', '36.mp4', '335.mp4', '321.mp4', '320.mp4', '334.mp4', '37.mp4', '136.mp4', '297.mp4', '283.mp4', '254.mp4', '242.mp4', '108.mp4', '134.mp4', '322.mp4', '323.mp4', '135.mp4', '109.mp4', '294.mp4', '243.mp4', '253.mp4', '290.mp4', '284.mp4', '131.mp4', '119.mp4', '18.mp4', '327.mp4', '333.mp4', '332.mp4', '326.mp4', '25.mp4', '19.mp4', '118.mp4', '130.mp4', '252.mp4', '244.mp4', '293.mp4', '132.mp4', '27.mp4', '26.mp4', '245.mp4', '116.mp4', '17.mp4', '328.mp4', '314.mp4', '315.mp4', '329.mp4', '16.mp4', '117.mp4', '277.mp4', '263.mp4', '288.mp4', '129.mp4', '101.mp4', '28.mp4', '100.mp4', '289.mp4', '262.mp4', '276.mp4', '299.mp4', '39.mp4', '11.mp4', '10.mp4', '38.mp4', '298.mp4', '265.mp4', '107.mp4', '12.mp4', '339.mp4', '13.mp4', '106.mp4', '112.mp4', '264.mp4', '149.mp4', '161.mp4', '60.mp4', '388.mp4', '389.mp4', '362.mp4', '61.mp4', '160.mp4', '148.mp4', '162.mp4', '88.mp4', '63.mp4', '348.mp4', '360.mp4', '361.mp4', '349.mp4', '62.mp4', '89.mp4', '99.mp4', '167.mp4', '359.mp4', '98.mp4', '166.mp4', '164.mp4', '366.mp4', '367.mp4', '159.mp4', '165.mp4']\n",
      "adding file\n",
      "Moviepy - Building video behavior_data/control/397.mp4.\n",
      "MoviePy - Writing audio in 397TEMP_MPY_wvf_snd.mp4\n",
      "MoviePy - Done.\n",
      "Moviepy - Writing video behavior_data/control/397.mp4\n",
      "\n"
     ]
    },
    {
     "name": "stderr",
     "output_type": "stream",
     "text": [
      "chunk:   0%|          | 0/89 [00:00<?, ?it/s, now=None]"
     ]
    },
    {
     "name": "stdout",
     "output_type": "stream",
     "text": [
      "Moviepy - Done !\n",
      "Moviepy - video ready behavior_data/control/397.mp4\n",
      "['96.mp4', '82.mp4', '154.mp4', '140.mp4', '7.mp4', '55.mp4', '356.mp4', '342.mp4', '395.mp4', '394.mp4', '343.mp4', '357.mp4', '6.mp4', '141.mp4', '221.mp4', '81.mp4', '95.mp4', '143.mp4', '157.mp4', '56.mp4', '369.mp4', '355.mp4', '382.mp4', '397.mp4', '383.mp4', '340.mp4', '368.mp4', '5.mp4', '156.mp4', '142.mp4', '94.mp4', '80.mp4', '146.mp4', '53.mp4', '344.mp4', '.DS_Store', '350.mp4', '387.mp4', '345.mp4', '52.mp4', '153.mp4', '147.mp4', '233.mp4', '93.mp4', '87.mp4', '50.mp4', '384.mp4', '385.mp4', '79.mp4', '86.mp4', '232.mp4', '255.mp4', '282.mp4', '137.mp4', '36.mp4', '335.mp4', '321.mp4', '320.mp4', '334.mp4', '37.mp4', '136.mp4', '297.mp4', '283.mp4', '254.mp4', '242.mp4', '108.mp4', '134.mp4', '322.mp4', '323.mp4', '135.mp4', '109.mp4', '294.mp4', '243.mp4', '253.mp4', '290.mp4', '284.mp4', '131.mp4', '119.mp4', '18.mp4', '327.mp4', '333.mp4', '332.mp4', '326.mp4', '25.mp4', '19.mp4', '118.mp4', '130.mp4', '252.mp4', '244.mp4', '293.mp4', '132.mp4', '27.mp4', '26.mp4', '245.mp4', '116.mp4', '17.mp4', '328.mp4', '314.mp4', '315.mp4', '329.mp4', '16.mp4', '117.mp4', '277.mp4', '263.mp4', '288.mp4', '129.mp4', '101.mp4', '28.mp4', '100.mp4', '289.mp4', '262.mp4', '276.mp4', '299.mp4', '39.mp4', '11.mp4', '10.mp4', '38.mp4', '298.mp4', '265.mp4', '107.mp4', '12.mp4', '339.mp4', '13.mp4', '106.mp4', '112.mp4', '264.mp4', '149.mp4', '161.mp4', '60.mp4', '388.mp4', '389.mp4', '362.mp4', '61.mp4', '160.mp4', '148.mp4', '162.mp4', '88.mp4', '63.mp4', '348.mp4', '360.mp4', '361.mp4', '349.mp4', '62.mp4', '89.mp4', '99.mp4', '167.mp4', '359.mp4', '98.mp4', '166.mp4', '164.mp4', '366.mp4', '367.mp4', '159.mp4', '165.mp4']\n",
      "adding file\n",
      "Moviepy - Building video behavior_data/control/398.mp4.\n",
      "MoviePy - Writing audio in 398TEMP_MPY_wvf_snd.mp4\n"
     ]
    },
    {
     "name": "stderr",
     "output_type": "stream",
     "text": [
      "                                                                \r"
     ]
    },
    {
     "name": "stdout",
     "output_type": "stream",
     "text": [
      "MoviePy - Done.\n",
      "Moviepy - Writing video behavior_data/control/398.mp4\n",
      "\n",
      "Moviepy - Done !\n",
      "Moviepy - video ready behavior_data/control/398.mp4\n",
      "['96.mp4', '82.mp4', '154.mp4', '140.mp4', '7.mp4', '55.mp4', '356.mp4', '342.mp4', '395.mp4', '394.mp4', '343.mp4', '357.mp4', '6.mp4', '141.mp4', '221.mp4', '81.mp4', '95.mp4', '143.mp4', '157.mp4', '56.mp4', '369.mp4', '355.mp4', '382.mp4', '397.mp4', '383.mp4', '340.mp4', '368.mp4', '5.mp4', '156.mp4', '142.mp4', '94.mp4', '80.mp4', '146.mp4', '53.mp4', '344.mp4', '.DS_Store', '350.mp4', '387.mp4', '345.mp4', '52.mp4', '153.mp4', '147.mp4', '233.mp4', '93.mp4', '87.mp4', '50.mp4', '384.mp4', '385.mp4', '79.mp4', '86.mp4', '232.mp4', '255.mp4', '282.mp4', '137.mp4', '36.mp4', '335.mp4', '321.mp4', '320.mp4', '334.mp4', '37.mp4', '136.mp4', '297.mp4', '283.mp4', '254.mp4', '242.mp4', '108.mp4', '134.mp4', '322.mp4', '323.mp4', '135.mp4', '109.mp4', '294.mp4', '243.mp4', '253.mp4', '290.mp4', '284.mp4', '131.mp4', '119.mp4', '18.mp4', '327.mp4', '333.mp4', '332.mp4', '326.mp4', '25.mp4', '19.mp4', '118.mp4', '130.mp4', '252.mp4', '244.mp4', '293.mp4', '132.mp4', '27.mp4', '26.mp4', '245.mp4', '116.mp4', '17.mp4', '328.mp4', '314.mp4', '315.mp4', '329.mp4', '16.mp4', '117.mp4', '277.mp4', '263.mp4', '288.mp4', '129.mp4', '101.mp4', '28.mp4', '100.mp4', '289.mp4', '262.mp4', '276.mp4', '299.mp4', '39.mp4', '11.mp4', '10.mp4', '38.mp4', '298.mp4', '265.mp4', '107.mp4', '12.mp4', '339.mp4', '13.mp4', '106.mp4', '112.mp4', '264.mp4', '149.mp4', '161.mp4', '60.mp4', '388.mp4', '389.mp4', '362.mp4', '61.mp4', '160.mp4', '148.mp4', '162.mp4', '88.mp4', '63.mp4', '348.mp4', '360.mp4', '361.mp4', '349.mp4', '62.mp4', '89.mp4', '99.mp4', '167.mp4', '359.mp4', '98.mp4', '166.mp4', '164.mp4', '366.mp4', '398.mp4', '367.mp4', '159.mp4', '165.mp4']\n",
      "adding file\n"
     ]
    },
    {
     "name": "stderr",
     "output_type": "stream",
     "text": [
      "t:   0%|          | 0/210 [00:00<?, ?it/s, now=None]    "
     ]
    },
    {
     "name": "stdout",
     "output_type": "stream",
     "text": [
      "Moviepy - Building video behavior_data/control/399.mp4.\n",
      "MoviePy - Writing audio in 399TEMP_MPY_wvf_snd.mp4\n",
      "MoviePy - Done.\n",
      "Moviepy - Writing video behavior_data/control/399.mp4\n",
      "\n"
     ]
    },
    {
     "name": "stderr",
     "output_type": "stream",
     "text": [
      "chunk:   0%|          | 0/133 [00:00<?, ?it/s, now=None]        "
     ]
    },
    {
     "name": "stdout",
     "output_type": "stream",
     "text": [
      "Moviepy - Done !\n",
      "Moviepy - video ready behavior_data/control/399.mp4\n",
      "['96.mp4', '82.mp4', '154.mp4', '140.mp4', '7.mp4', '55.mp4', '356.mp4', '342.mp4', '395.mp4', '394.mp4', '343.mp4', '357.mp4', '6.mp4', '141.mp4', '221.mp4', '81.mp4', '95.mp4', '143.mp4', '157.mp4', '56.mp4', '369.mp4', '355.mp4', '382.mp4', '397.mp4', '383.mp4', '340.mp4', '368.mp4', '5.mp4', '156.mp4', '142.mp4', '94.mp4', '80.mp4', '146.mp4', '53.mp4', '344.mp4', '.DS_Store', '350.mp4', '387.mp4', '345.mp4', '52.mp4', '153.mp4', '147.mp4', '233.mp4', '93.mp4', '87.mp4', '50.mp4', '384.mp4', '385.mp4', '79.mp4', '86.mp4', '232.mp4', '255.mp4', '282.mp4', '137.mp4', '36.mp4', '335.mp4', '321.mp4', '320.mp4', '334.mp4', '37.mp4', '136.mp4', '297.mp4', '283.mp4', '254.mp4', '242.mp4', '108.mp4', '134.mp4', '322.mp4', '323.mp4', '135.mp4', '109.mp4', '294.mp4', '243.mp4', '253.mp4', '290.mp4', '284.mp4', '131.mp4', '119.mp4', '18.mp4', '327.mp4', '333.mp4', '332.mp4', '326.mp4', '25.mp4', '19.mp4', '118.mp4', '130.mp4', '252.mp4', '244.mp4', '293.mp4', '132.mp4', '27.mp4', '26.mp4', '245.mp4', '116.mp4', '17.mp4', '328.mp4', '314.mp4', '315.mp4', '329.mp4', '16.mp4', '117.mp4', '277.mp4', '263.mp4', '288.mp4', '129.mp4', '101.mp4', '28.mp4', '100.mp4', '289.mp4', '262.mp4', '276.mp4', '299.mp4', '39.mp4', '11.mp4', '10.mp4', '38.mp4', '298.mp4', '265.mp4', '107.mp4', '12.mp4', '339.mp4', '13.mp4', '106.mp4', '112.mp4', '264.mp4', '149.mp4', '161.mp4', '60.mp4', '388.mp4', '389.mp4', '362.mp4', '61.mp4', '160.mp4', '148.mp4', '162.mp4', '88.mp4', '63.mp4', '348.mp4', '360.mp4', '361.mp4', '349.mp4', '62.mp4', '89.mp4', '99.mp4', '167.mp4', '359.mp4', '98.mp4', '166.mp4', '164.mp4', '366.mp4', '399.mp4', '398.mp4', '367.mp4', '159.mp4', '165.mp4']\n",
      "adding file\n",
      "Moviepy - Building video behavior_data/control/400.mp4.\n",
      "MoviePy - Writing audio in 400TEMP_MPY_wvf_snd.mp4\n"
     ]
    },
    {
     "name": "stderr",
     "output_type": "stream",
     "text": [
      "                                                                \r"
     ]
    },
    {
     "name": "stdout",
     "output_type": "stream",
     "text": [
      "MoviePy - Done.\n",
      "Moviepy - Writing video behavior_data/control/400.mp4\n",
      "\n",
      "Moviepy - Done !\n",
      "Moviepy - video ready behavior_data/control/400.mp4\n",
      "staring the 58th file\n",
      "http://www.youtube.com/watch?v=a5BuwkqtIa0\n",
      "This is url:  http://www.youtube.com/watch?v=a5BuwkqtIa0\n"
     ]
    },
    {
     "name": "stderr",
     "output_type": "stream",
     "text": [
      "\r",
      "chunk:   0%|          | 0/111 [00:00<?, ?it/s, now=None]"
     ]
    },
    {
     "name": "stdout",
     "output_type": "stream",
     "text": [
      "['41.mp4', '40.mp4', '54.mp4', '155.mp4', '42.mp4', '396.mp4', '43.mp4', '90.mp4', '47.mp4', '1.mp4', '.DS_Store', '393.mp4', '392.mp4', '351.mp4', '0.mp4', '46.mp4', '91.mp4', '151.mp4', '2.mp4', '44.mp4', '353.mp4', '390.mp4', '391.mp4', '346.mp4', '352.mp4', '45.mp4', '3.mp4', '92.mp4', '150.mp4', '120.mp4', '121.mp4', '139.mp4', '48.mp4', '377.mp4', '376.mp4', '49.mp4', '374.mp4', '375.mp4', '371.mp4', '370.mp4', '372.mp4', '373.mp4']\n",
      "adding file\n",
      "Moviepy - Building video behavior_data/headbanging/401.mp4.\n",
      "MoviePy - Writing audio in 401TEMP_MPY_wvf_snd.mp4\n"
     ]
    },
    {
     "name": "stderr",
     "output_type": "stream",
     "text": [
      "t:  44%|████▍     | 66/150 [00:00<00:00, 657.89it/s, now=None]"
     ]
    },
    {
     "name": "stdout",
     "output_type": "stream",
     "text": [
      "MoviePy - Done.\n",
      "Moviepy - Writing video behavior_data/headbanging/401.mp4\n",
      "\n"
     ]
    },
    {
     "name": "stderr",
     "output_type": "stream",
     "text": [
      "chunk:   0%|          | 0/89 [00:00<?, ?it/s, now=None]        "
     ]
    },
    {
     "name": "stdout",
     "output_type": "stream",
     "text": [
      "Moviepy - Done !\n",
      "Moviepy - video ready behavior_data/headbanging/401.mp4\n",
      "['41.mp4', '40.mp4', '54.mp4', '155.mp4', '42.mp4', '396.mp4', '43.mp4', '90.mp4', '47.mp4', '1.mp4', '.DS_Store', '393.mp4', '392.mp4', '351.mp4', '0.mp4', '46.mp4', '91.mp4', '151.mp4', '2.mp4', '44.mp4', '353.mp4', '390.mp4', '391.mp4', '346.mp4', '352.mp4', '45.mp4', '3.mp4', '92.mp4', '150.mp4', '120.mp4', '121.mp4', '139.mp4', '48.mp4', '377.mp4', '376.mp4', '49.mp4', '374.mp4', '375.mp4', '371.mp4', '370.mp4', '372.mp4', '401.mp4', '373.mp4']\n",
      "adding file\n",
      "Moviepy - Building video behavior_data/headbanging/402.mp4.\n",
      "MoviePy - Writing audio in 402TEMP_MPY_wvf_snd.mp4\n"
     ]
    },
    {
     "name": "stderr",
     "output_type": "stream",
     "text": [
      "                                                              \r"
     ]
    },
    {
     "name": "stdout",
     "output_type": "stream",
     "text": [
      "MoviePy - Done.\n",
      "Moviepy - Writing video behavior_data/headbanging/402.mp4\n",
      "\n"
     ]
    },
    {
     "name": "stderr",
     "output_type": "stream",
     "text": [
      "\r",
      "chunk:   0%|          | 0/67 [00:00<?, ?it/s, now=None]"
     ]
    },
    {
     "name": "stdout",
     "output_type": "stream",
     "text": [
      "Moviepy - Done !\n",
      "Moviepy - video ready behavior_data/headbanging/402.mp4\n",
      "['41.mp4', '40.mp4', '54.mp4', '155.mp4', '42.mp4', '396.mp4', '43.mp4', '90.mp4', '47.mp4', '1.mp4', '.DS_Store', '393.mp4', '392.mp4', '351.mp4', '0.mp4', '46.mp4', '91.mp4', '151.mp4', '2.mp4', '44.mp4', '353.mp4', '390.mp4', '391.mp4', '346.mp4', '352.mp4', '45.mp4', '3.mp4', '92.mp4', '150.mp4', '120.mp4', '121.mp4', '139.mp4', '48.mp4', '377.mp4', '376.mp4', '49.mp4', '374.mp4', '375.mp4', '371.mp4', '370.mp4', '402.mp4', '372.mp4', '401.mp4', '373.mp4']\n",
      "adding file\n",
      "Moviepy - Building video behavior_data/headbanging/403.mp4.\n",
      "MoviePy - Writing audio in 403TEMP_MPY_wvf_snd.mp4\n"
     ]
    },
    {
     "name": "stderr",
     "output_type": "stream",
     "text": [
      "                                                             \r"
     ]
    },
    {
     "name": "stdout",
     "output_type": "stream",
     "text": [
      "MoviePy - Done.\n",
      "Moviepy - Writing video behavior_data/headbanging/403.mp4\n",
      "\n"
     ]
    },
    {
     "name": "stderr",
     "output_type": "stream",
     "text": [
      "\r",
      "chunk:   0%|          | 0/67 [00:00<?, ?it/s, now=None]"
     ]
    },
    {
     "name": "stdout",
     "output_type": "stream",
     "text": [
      "Moviepy - Done !\n",
      "Moviepy - video ready behavior_data/headbanging/403.mp4\n",
      "['96.mp4', '82.mp4', '154.mp4', '140.mp4', '7.mp4', '55.mp4', '356.mp4', '342.mp4', '395.mp4', '394.mp4', '343.mp4', '357.mp4', '6.mp4', '141.mp4', '221.mp4', '81.mp4', '95.mp4', '143.mp4', '157.mp4', '56.mp4', '369.mp4', '355.mp4', '382.mp4', '397.mp4', '383.mp4', '340.mp4', '368.mp4', '5.mp4', '156.mp4', '142.mp4', '94.mp4', '80.mp4', '146.mp4', '53.mp4', '344.mp4', '.DS_Store', '350.mp4', '387.mp4', '345.mp4', '52.mp4', '153.mp4', '147.mp4', '233.mp4', '93.mp4', '87.mp4', '50.mp4', '384.mp4', '385.mp4', '79.mp4', '86.mp4', '232.mp4', '255.mp4', '282.mp4', '137.mp4', '36.mp4', '335.mp4', '321.mp4', '320.mp4', '334.mp4', '37.mp4', '136.mp4', '297.mp4', '283.mp4', '254.mp4', '242.mp4', '108.mp4', '134.mp4', '322.mp4', '323.mp4', '135.mp4', '109.mp4', '294.mp4', '243.mp4', '253.mp4', '290.mp4', '284.mp4', '131.mp4', '119.mp4', '18.mp4', '327.mp4', '333.mp4', '332.mp4', '326.mp4', '25.mp4', '19.mp4', '118.mp4', '130.mp4', '252.mp4', '244.mp4', '293.mp4', '132.mp4', '27.mp4', '26.mp4', '245.mp4', '116.mp4', '17.mp4', '328.mp4', '314.mp4', '315.mp4', '329.mp4', '16.mp4', '117.mp4', '277.mp4', '263.mp4', '288.mp4', '129.mp4', '101.mp4', '28.mp4', '100.mp4', '289.mp4', '262.mp4', '276.mp4', '299.mp4', '39.mp4', '11.mp4', '10.mp4', '38.mp4', '298.mp4', '265.mp4', '107.mp4', '12.mp4', '339.mp4', '13.mp4', '106.mp4', '112.mp4', '264.mp4', '149.mp4', '161.mp4', '60.mp4', '388.mp4', '389.mp4', '362.mp4', '61.mp4', '160.mp4', '148.mp4', '162.mp4', '88.mp4', '63.mp4', '348.mp4', '360.mp4', '361.mp4', '349.mp4', '62.mp4', '89.mp4', '99.mp4', '167.mp4', '359.mp4', '98.mp4', '166.mp4', '164.mp4', '400.mp4', '366.mp4', '399.mp4', '398.mp4', '367.mp4', '159.mp4', '165.mp4']\n",
      "adding file\n",
      "Moviepy - Building video behavior_data/control/404.mp4.\n",
      "MoviePy - Writing audio in 404TEMP_MPY_wvf_snd.mp4\n"
     ]
    },
    {
     "name": "stderr",
     "output_type": "stream",
     "text": [
      "                                                             \r"
     ]
    },
    {
     "name": "stdout",
     "output_type": "stream",
     "text": [
      "MoviePy - Done.\n",
      "Moviepy - Writing video behavior_data/control/404.mp4\n",
      "\n",
      "Moviepy - Done !\n",
      "Moviepy - video ready behavior_data/control/404.mp4\n",
      "['96.mp4', '82.mp4', '154.mp4', '140.mp4', '7.mp4', '55.mp4', '356.mp4', '342.mp4', '395.mp4', '394.mp4', '343.mp4', '357.mp4', '6.mp4', '141.mp4', '221.mp4', '81.mp4', '95.mp4', '143.mp4', '157.mp4', '56.mp4', '369.mp4', '355.mp4', '382.mp4', '397.mp4', '383.mp4', '340.mp4', '368.mp4', '5.mp4', '156.mp4', '142.mp4', '94.mp4', '80.mp4', '146.mp4', '53.mp4', '344.mp4', '.DS_Store', '350.mp4', '387.mp4', '345.mp4', '52.mp4', '153.mp4', '147.mp4', '233.mp4', '93.mp4', '87.mp4', '50.mp4', '384.mp4', '385.mp4', '79.mp4', '86.mp4', '232.mp4', '255.mp4', '282.mp4', '137.mp4', '36.mp4', '335.mp4', '321.mp4', '320.mp4', '334.mp4', '37.mp4', '136.mp4', '297.mp4', '283.mp4', '254.mp4', '242.mp4', '108.mp4', '134.mp4', '322.mp4', '323.mp4', '135.mp4', '109.mp4', '294.mp4', '243.mp4', '253.mp4', '290.mp4', '284.mp4', '131.mp4', '119.mp4', '18.mp4', '327.mp4', '333.mp4', '332.mp4', '326.mp4', '25.mp4', '19.mp4', '118.mp4', '130.mp4', '252.mp4', '244.mp4', '293.mp4', '132.mp4', '27.mp4', '26.mp4', '245.mp4', '116.mp4', '17.mp4', '328.mp4', '314.mp4', '315.mp4', '329.mp4', '16.mp4', '117.mp4', '277.mp4', '263.mp4', '288.mp4', '129.mp4', '101.mp4', '28.mp4', '100.mp4', '289.mp4', '262.mp4', '276.mp4', '299.mp4', '39.mp4', '11.mp4', '10.mp4', '38.mp4', '298.mp4', '265.mp4', '107.mp4', '12.mp4', '339.mp4', '13.mp4', '106.mp4', '112.mp4', '264.mp4', '149.mp4', '161.mp4', '60.mp4', '388.mp4', '389.mp4', '362.mp4', '404.mp4', '61.mp4', '160.mp4', '148.mp4', '162.mp4', '88.mp4', '63.mp4', '348.mp4', '360.mp4', '361.mp4', '349.mp4', '62.mp4', '89.mp4', '99.mp4', '167.mp4', '359.mp4', '98.mp4', '166.mp4', '164.mp4', '400.mp4', '366.mp4', '399.mp4', '398.mp4', '367.mp4', '159.mp4', '165.mp4']\n",
      "adding file\n",
      "Moviepy - Building video behavior_data/control/405.mp4.\n",
      "MoviePy - Writing audio in 405TEMP_MPY_wvf_snd.mp4\n"
     ]
    },
    {
     "name": "stderr",
     "output_type": "stream",
     "text": [
      "t:  34%|███▍      | 61/180 [00:00<00:00, 602.28it/s, now=None]"
     ]
    },
    {
     "name": "stdout",
     "output_type": "stream",
     "text": [
      "MoviePy - Done.\n",
      "Moviepy - Writing video behavior_data/control/405.mp4\n",
      "\n"
     ]
    },
    {
     "name": "stderr",
     "output_type": "stream",
     "text": [
      "chunk:   0%|          | 0/133 [00:00<?, ?it/s, now=None]       "
     ]
    },
    {
     "name": "stdout",
     "output_type": "stream",
     "text": [
      "Moviepy - Done !\n",
      "Moviepy - video ready behavior_data/control/405.mp4\n",
      "['96.mp4', '82.mp4', '154.mp4', '140.mp4', '7.mp4', '55.mp4', '356.mp4', '342.mp4', '395.mp4', '394.mp4', '343.mp4', '357.mp4', '6.mp4', '141.mp4', '221.mp4', '81.mp4', '95.mp4', '143.mp4', '157.mp4', '56.mp4', '369.mp4', '355.mp4', '382.mp4', '397.mp4', '383.mp4', '340.mp4', '368.mp4', '5.mp4', '156.mp4', '142.mp4', '94.mp4', '80.mp4', '146.mp4', '53.mp4', '344.mp4', '.DS_Store', '350.mp4', '387.mp4', '345.mp4', '52.mp4', '153.mp4', '147.mp4', '233.mp4', '93.mp4', '87.mp4', '50.mp4', '384.mp4', '385.mp4', '79.mp4', '86.mp4', '232.mp4', '255.mp4', '282.mp4', '137.mp4', '36.mp4', '335.mp4', '321.mp4', '320.mp4', '334.mp4', '37.mp4', '136.mp4', '297.mp4', '283.mp4', '254.mp4', '242.mp4', '108.mp4', '134.mp4', '322.mp4', '323.mp4', '135.mp4', '109.mp4', '294.mp4', '243.mp4', '253.mp4', '290.mp4', '284.mp4', '131.mp4', '119.mp4', '18.mp4', '327.mp4', '333.mp4', '332.mp4', '326.mp4', '25.mp4', '19.mp4', '118.mp4', '130.mp4', '252.mp4', '244.mp4', '293.mp4', '132.mp4', '27.mp4', '26.mp4', '245.mp4', '116.mp4', '17.mp4', '328.mp4', '314.mp4', '315.mp4', '329.mp4', '16.mp4', '117.mp4', '277.mp4', '263.mp4', '288.mp4', '129.mp4', '101.mp4', '28.mp4', '100.mp4', '289.mp4', '262.mp4', '276.mp4', '299.mp4', '39.mp4', '11.mp4', '10.mp4', '38.mp4', '298.mp4', '265.mp4', '107.mp4', '12.mp4', '339.mp4', '13.mp4', '106.mp4', '112.mp4', '264.mp4', '149.mp4', '161.mp4', '60.mp4', '405.mp4', '388.mp4', '389.mp4', '362.mp4', '404.mp4', '61.mp4', '160.mp4', '148.mp4', '162.mp4', '88.mp4', '63.mp4', '348.mp4', '360.mp4', '361.mp4', '349.mp4', '62.mp4', '89.mp4', '99.mp4', '167.mp4', '359.mp4', '98.mp4', '166.mp4', '164.mp4', '400.mp4', '366.mp4', '399.mp4', '398.mp4', '367.mp4', '159.mp4', '165.mp4']\n",
      "adding file\n",
      "Moviepy - Building video behavior_data/control/406.mp4.\n",
      "MoviePy - Writing audio in 406TEMP_MPY_wvf_snd.mp4\n"
     ]
    },
    {
     "name": "stderr",
     "output_type": "stream",
     "text": [
      "t:  34%|███▍      | 62/180 [00:00<00:00, 615.85it/s, now=None]"
     ]
    },
    {
     "name": "stdout",
     "output_type": "stream",
     "text": [
      "MoviePy - Done.\n",
      "Moviepy - Writing video behavior_data/control/406.mp4\n",
      "\n"
     ]
    },
    {
     "name": "stderr",
     "output_type": "stream",
     "text": [
      "chunk:   0%|          | 0/111 [00:00<?, ?it/s, now=None]       "
     ]
    },
    {
     "name": "stdout",
     "output_type": "stream",
     "text": [
      "Moviepy - Done !\n",
      "Moviepy - video ready behavior_data/control/406.mp4\n",
      "['96.mp4', '82.mp4', '154.mp4', '140.mp4', '7.mp4', '55.mp4', '356.mp4', '342.mp4', '395.mp4', '394.mp4', '343.mp4', '357.mp4', '6.mp4', '141.mp4', '221.mp4', '81.mp4', '95.mp4', '143.mp4', '157.mp4', '56.mp4', '369.mp4', '355.mp4', '382.mp4', '397.mp4', '383.mp4', '340.mp4', '368.mp4', '5.mp4', '156.mp4', '142.mp4', '94.mp4', '80.mp4', '146.mp4', '53.mp4', '344.mp4', '.DS_Store', '350.mp4', '387.mp4', '345.mp4', '52.mp4', '153.mp4', '147.mp4', '233.mp4', '93.mp4', '87.mp4', '50.mp4', '384.mp4', '385.mp4', '79.mp4', '86.mp4', '232.mp4', '255.mp4', '282.mp4', '137.mp4', '36.mp4', '335.mp4', '321.mp4', '320.mp4', '334.mp4', '37.mp4', '136.mp4', '297.mp4', '283.mp4', '254.mp4', '242.mp4', '108.mp4', '134.mp4', '322.mp4', '323.mp4', '135.mp4', '109.mp4', '294.mp4', '243.mp4', '253.mp4', '290.mp4', '284.mp4', '131.mp4', '119.mp4', '18.mp4', '327.mp4', '333.mp4', '332.mp4', '326.mp4', '25.mp4', '19.mp4', '118.mp4', '130.mp4', '252.mp4', '244.mp4', '293.mp4', '132.mp4', '27.mp4', '26.mp4', '245.mp4', '116.mp4', '17.mp4', '328.mp4', '314.mp4', '315.mp4', '329.mp4', '16.mp4', '117.mp4', '277.mp4', '263.mp4', '288.mp4', '129.mp4', '101.mp4', '28.mp4', '100.mp4', '289.mp4', '262.mp4', '276.mp4', '299.mp4', '39.mp4', '11.mp4', '10.mp4', '38.mp4', '298.mp4', '265.mp4', '107.mp4', '12.mp4', '339.mp4', '13.mp4', '106.mp4', '112.mp4', '264.mp4', '149.mp4', '161.mp4', '60.mp4', '405.mp4', '388.mp4', '389.mp4', '362.mp4', '404.mp4', '61.mp4', '160.mp4', '148.mp4', '162.mp4', '88.mp4', '63.mp4', '348.mp4', '406.mp4', '360.mp4', '361.mp4', '349.mp4', '62.mp4', '89.mp4', '99.mp4', '167.mp4', '359.mp4', '98.mp4', '166.mp4', '164.mp4', '400.mp4', '366.mp4', '399.mp4', '398.mp4', '367.mp4', '159.mp4', '165.mp4']\n",
      "adding file\n",
      "Moviepy - Building video behavior_data/control/407.mp4.\n",
      "MoviePy - Writing audio in 407TEMP_MPY_wvf_snd.mp4\n"
     ]
    },
    {
     "name": "stderr",
     "output_type": "stream",
     "text": [
      "t:  41%|████      | 61/150 [00:00<00:00, 606.41it/s, now=None]"
     ]
    },
    {
     "name": "stdout",
     "output_type": "stream",
     "text": [
      "MoviePy - Done.\n",
      "Moviepy - Writing video behavior_data/control/407.mp4\n",
      "\n"
     ]
    },
    {
     "name": "stderr",
     "output_type": "stream",
     "text": [
      "                                                               \r"
     ]
    },
    {
     "name": "stdout",
     "output_type": "stream",
     "text": [
      "Moviepy - Done !\n",
      "Moviepy - video ready behavior_data/control/407.mp4\n",
      "staring the 59th file\n",
      "http://www.youtube.com/watch?v=k9MJ4pDQQ74\n",
      "This is url:  http://www.youtube.com/watch?v=k9MJ4pDQQ74\n"
     ]
    },
    {
     "name": "stderr",
     "output_type": "stream",
     "text": [
      "t:   0%|          | 0/120 [00:00<?, ?it/s, now=None]   "
     ]
    },
    {
     "name": "stdout",
     "output_type": "stream",
     "text": [
      "['41.mp4', '40.mp4', '54.mp4', '155.mp4', '42.mp4', '396.mp4', '43.mp4', '90.mp4', '47.mp4', '1.mp4', '.DS_Store', '393.mp4', '392.mp4', '351.mp4', '0.mp4', '46.mp4', '91.mp4', '151.mp4', '2.mp4', '44.mp4', '353.mp4', '390.mp4', '391.mp4', '346.mp4', '352.mp4', '45.mp4', '3.mp4', '92.mp4', '150.mp4', '120.mp4', '121.mp4', '139.mp4', '48.mp4', '377.mp4', '376.mp4', '49.mp4', '374.mp4', '375.mp4', '403.mp4', '371.mp4', '370.mp4', '402.mp4', '372.mp4', '401.mp4', '373.mp4']\n",
      "adding file\n",
      "Moviepy - Building video behavior_data/headbanging/408.mp4.\n",
      "MoviePy - Writing audio in 408TEMP_MPY_wvf_snd.mp4\n",
      "MoviePy - Done.\n",
      "Moviepy - Writing video behavior_data/headbanging/408.mp4\n",
      "\n"
     ]
    },
    {
     "name": "stderr",
     "output_type": "stream",
     "text": [
      "                                                       "
     ]
    },
    {
     "name": "stdout",
     "output_type": "stream",
     "text": [
      "Moviepy - Done !\n",
      "Moviepy - video ready behavior_data/headbanging/408.mp4\n",
      "['41.mp4', '40.mp4', '54.mp4', '155.mp4', '42.mp4', '396.mp4', '43.mp4', '90.mp4', '47.mp4', '1.mp4', '.DS_Store', '393.mp4', '392.mp4', '351.mp4', '0.mp4', '46.mp4', '91.mp4', '151.mp4', '2.mp4', '44.mp4', '353.mp4', '390.mp4', '391.mp4', '408.mp4', '346.mp4', '352.mp4', '45.mp4', '3.mp4', '92.mp4', '150.mp4', '120.mp4', '121.mp4', '139.mp4', '48.mp4', '377.mp4', '376.mp4', '49.mp4', '374.mp4', '375.mp4', '403.mp4', '371.mp4', '370.mp4', '402.mp4', '372.mp4', '401.mp4', '373.mp4']\n",
      "adding file\n",
      "Moviepy - Building video behavior_data/headbanging/409.mp4.\n",
      "MoviePy - Writing audio in 409TEMP_MPY_wvf_snd.mp4\n",
      "MoviePy - Done.\n",
      "Moviepy - Writing video behavior_data/headbanging/409.mp4\n",
      "\n"
     ]
    },
    {
     "name": "stderr",
     "output_type": "stream",
     "text": [
      "t:   0%|          | 0/150 [00:00<?, ?it/s, now=None]    "
     ]
    },
    {
     "name": "stdout",
     "output_type": "stream",
     "text": [
      "Moviepy - Done !\n",
      "Moviepy - video ready behavior_data/headbanging/409.mp4\n",
      "['96.mp4', '82.mp4', '154.mp4', '140.mp4', '7.mp4', '55.mp4', '356.mp4', '342.mp4', '395.mp4', '394.mp4', '343.mp4', '357.mp4', '6.mp4', '141.mp4', '221.mp4', '81.mp4', '95.mp4', '143.mp4', '157.mp4', '56.mp4', '369.mp4', '355.mp4', '382.mp4', '397.mp4', '383.mp4', '340.mp4', '368.mp4', '5.mp4', '156.mp4', '142.mp4', '94.mp4', '80.mp4', '146.mp4', '53.mp4', '344.mp4', '.DS_Store', '350.mp4', '387.mp4', '345.mp4', '52.mp4', '153.mp4', '147.mp4', '233.mp4', '93.mp4', '87.mp4', '50.mp4', '384.mp4', '385.mp4', '79.mp4', '86.mp4', '232.mp4', '255.mp4', '282.mp4', '137.mp4', '36.mp4', '335.mp4', '321.mp4', '320.mp4', '334.mp4', '37.mp4', '136.mp4', '297.mp4', '283.mp4', '254.mp4', '242.mp4', '108.mp4', '134.mp4', '322.mp4', '323.mp4', '135.mp4', '109.mp4', '294.mp4', '243.mp4', '253.mp4', '290.mp4', '284.mp4', '131.mp4', '119.mp4', '18.mp4', '327.mp4', '333.mp4', '332.mp4', '326.mp4', '25.mp4', '19.mp4', '118.mp4', '130.mp4', '252.mp4', '244.mp4', '293.mp4', '132.mp4', '27.mp4', '26.mp4', '245.mp4', '116.mp4', '17.mp4', '328.mp4', '314.mp4', '315.mp4', '329.mp4', '16.mp4', '117.mp4', '277.mp4', '263.mp4', '288.mp4', '129.mp4', '101.mp4', '28.mp4', '100.mp4', '289.mp4', '262.mp4', '276.mp4', '299.mp4', '39.mp4', '11.mp4', '10.mp4', '38.mp4', '298.mp4', '265.mp4', '107.mp4', '12.mp4', '339.mp4', '13.mp4', '106.mp4', '112.mp4', '264.mp4', '149.mp4', '161.mp4', '60.mp4', '405.mp4', '388.mp4', '389.mp4', '362.mp4', '404.mp4', '61.mp4', '160.mp4', '148.mp4', '162.mp4', '88.mp4', '63.mp4', '348.mp4', '406.mp4', '360.mp4', '407.mp4', '361.mp4', '349.mp4', '62.mp4', '89.mp4', '99.mp4', '167.mp4', '359.mp4', '98.mp4', '166.mp4', '164.mp4', '400.mp4', '366.mp4', '399.mp4', '398.mp4', '367.mp4', '159.mp4', '165.mp4']\n",
      "adding file\n",
      "Moviepy - Building video behavior_data/control/410.mp4.\n",
      "MoviePy - Writing audio in 410TEMP_MPY_wvf_snd.mp4\n",
      "MoviePy - Done.\n",
      "Moviepy - Writing video behavior_data/control/410.mp4\n",
      "\n"
     ]
    },
    {
     "name": "stderr",
     "output_type": "stream",
     "text": [
      "                                                    \r"
     ]
    },
    {
     "name": "stdout",
     "output_type": "stream",
     "text": [
      "Moviepy - Done !\n",
      "Moviepy - video ready behavior_data/control/410.mp4\n",
      "staring the 60th file\n",
      "http://www.youtube.com/watch?v=8SrUO-NdSZU\n",
      "This is url:  http://www.youtube.com/watch?v=8SrUO-NdSZU\n"
     ]
    },
    {
     "name": "stderr",
     "output_type": "stream",
     "text": [
      "\r",
      "chunk:   0%|          | 0/155 [00:00<?, ?it/s, now=None]"
     ]
    },
    {
     "name": "stdout",
     "output_type": "stream",
     "text": [
      "['41.mp4', '40.mp4', '54.mp4', '155.mp4', '42.mp4', '396.mp4', '43.mp4', '90.mp4', '47.mp4', '1.mp4', '.DS_Store', '393.mp4', '392.mp4', '351.mp4', '0.mp4', '46.mp4', '91.mp4', '151.mp4', '2.mp4', '44.mp4', '353.mp4', '409.mp4', '390.mp4', '391.mp4', '408.mp4', '346.mp4', '352.mp4', '45.mp4', '3.mp4', '92.mp4', '150.mp4', '120.mp4', '121.mp4', '139.mp4', '48.mp4', '377.mp4', '376.mp4', '49.mp4', '374.mp4', '375.mp4', '403.mp4', '371.mp4', '370.mp4', '402.mp4', '372.mp4', '401.mp4', '373.mp4']\n",
      "adding file\n",
      "Moviepy - Building video behavior_data/headbanging/411.mp4.\n",
      "MoviePy - Writing audio in 411TEMP_MPY_wvf_snd.mp4\n"
     ]
    },
    {
     "name": "stderr",
     "output_type": "stream",
     "text": [
      "t:  32%|███▏      | 68/210 [00:00<00:00, 672.87it/s, now=None]"
     ]
    },
    {
     "name": "stdout",
     "output_type": "stream",
     "text": [
      "MoviePy - Done.\n",
      "Moviepy - Writing video behavior_data/headbanging/411.mp4\n",
      "\n"
     ]
    },
    {
     "name": "stderr",
     "output_type": "stream",
     "text": [
      "                                                               \r"
     ]
    },
    {
     "name": "stdout",
     "output_type": "stream",
     "text": [
      "Moviepy - Done !\n",
      "Moviepy - video ready behavior_data/headbanging/411.mp4\n",
      "['41.mp4', '40.mp4', '54.mp4', '155.mp4', '42.mp4', '396.mp4', '43.mp4', '90.mp4', '47.mp4', '1.mp4', '.DS_Store', '393.mp4', '392.mp4', '351.mp4', '0.mp4', '46.mp4', '91.mp4', '151.mp4', '2.mp4', '44.mp4', '353.mp4', '409.mp4', '390.mp4', '391.mp4', '408.mp4', '346.mp4', '352.mp4', '45.mp4', '3.mp4', '92.mp4', '150.mp4', '120.mp4', '121.mp4', '139.mp4', '48.mp4', '411.mp4', '377.mp4', '376.mp4', '49.mp4', '374.mp4', '375.mp4', '403.mp4', '371.mp4', '370.mp4', '402.mp4', '372.mp4', '401.mp4', '373.mp4']\n",
      "adding file\n"
     ]
    },
    {
     "name": "stderr",
     "output_type": "stream",
     "text": [
      "t:  32%|███▏      | 57/180 [00:00<00:00, 566.81it/s, now=None]"
     ]
    },
    {
     "name": "stdout",
     "output_type": "stream",
     "text": [
      "Moviepy - Building video behavior_data/headbanging/412.mp4.\n",
      "MoviePy - Writing audio in 412TEMP_MPY_wvf_snd.mp4\n",
      "MoviePy - Done.\n",
      "Moviepy - Writing video behavior_data/headbanging/412.mp4\n",
      "\n"
     ]
    },
    {
     "name": "stderr",
     "output_type": "stream",
     "text": [
      "chunk:   0%|          | 0/133 [00:00<?, ?it/s, now=None]       "
     ]
    },
    {
     "name": "stdout",
     "output_type": "stream",
     "text": [
      "Moviepy - Done !\n",
      "Moviepy - video ready behavior_data/headbanging/412.mp4\n",
      "['41.mp4', '40.mp4', '54.mp4', '155.mp4', '42.mp4', '396.mp4', '43.mp4', '90.mp4', '47.mp4', '1.mp4', '.DS_Store', '393.mp4', '392.mp4', '351.mp4', '0.mp4', '46.mp4', '91.mp4', '151.mp4', '2.mp4', '44.mp4', '353.mp4', '409.mp4', '390.mp4', '391.mp4', '408.mp4', '346.mp4', '352.mp4', '45.mp4', '3.mp4', '92.mp4', '150.mp4', '120.mp4', '121.mp4', '139.mp4', '48.mp4', '411.mp4', '377.mp4', '376.mp4', '49.mp4', '374.mp4', '412.mp4', '375.mp4', '403.mp4', '371.mp4', '370.mp4', '402.mp4', '372.mp4', '401.mp4', '373.mp4']\n",
      "adding file\n",
      "Moviepy - Building video behavior_data/headbanging/413.mp4.\n",
      "MoviePy - Writing audio in 413TEMP_MPY_wvf_snd.mp4\n"
     ]
    },
    {
     "name": "stderr",
     "output_type": "stream",
     "text": [
      "t:  32%|███▏      | 57/180 [00:00<00:00, 568.68it/s, now=None]"
     ]
    },
    {
     "name": "stdout",
     "output_type": "stream",
     "text": [
      "MoviePy - Done.\n",
      "Moviepy - Writing video behavior_data/headbanging/413.mp4\n",
      "\n"
     ]
    },
    {
     "name": "stderr",
     "output_type": "stream",
     "text": [
      "                                                               \r"
     ]
    },
    {
     "name": "stdout",
     "output_type": "stream",
     "text": [
      "Moviepy - Done !\n",
      "Moviepy - video ready behavior_data/headbanging/413.mp4\n",
      "['41.mp4', '40.mp4', '54.mp4', '155.mp4', '42.mp4', '396.mp4', '43.mp4', '90.mp4', '47.mp4', '1.mp4', '.DS_Store', '393.mp4', '392.mp4', '351.mp4', '0.mp4', '46.mp4', '91.mp4', '151.mp4', '2.mp4', '44.mp4', '353.mp4', '409.mp4', '390.mp4', '391.mp4', '408.mp4', '346.mp4', '352.mp4', '45.mp4', '3.mp4', '92.mp4', '150.mp4', '120.mp4', '121.mp4', '139.mp4', '48.mp4', '411.mp4', '377.mp4', '376.mp4', '49.mp4', '374.mp4', '412.mp4', '375.mp4', '413.mp4', '403.mp4', '371.mp4', '370.mp4', '402.mp4', '372.mp4', '401.mp4', '373.mp4']\n",
      "adding file\n",
      "Moviepy - Building video behavior_data/headbanging/414.mp4.\n",
      "MoviePy - Writing audio in 414TEMP_MPY_wvf_snd.mp4\n"
     ]
    },
    {
     "name": "stderr",
     "output_type": "stream",
     "text": [
      "t:  32%|███▏      | 58/180 [00:00<00:00, 578.52it/s, now=None]"
     ]
    },
    {
     "name": "stdout",
     "output_type": "stream",
     "text": [
      "MoviePy - Done.\n",
      "Moviepy - Writing video behavior_data/headbanging/414.mp4\n",
      "\n"
     ]
    },
    {
     "name": "stderr",
     "output_type": "stream",
     "text": [
      "chunk:   0%|          | 0/133 [00:00<?, ?it/s, now=None]       "
     ]
    },
    {
     "name": "stdout",
     "output_type": "stream",
     "text": [
      "Moviepy - Done !\n",
      "Moviepy - video ready behavior_data/headbanging/414.mp4\n",
      "['41.mp4', '40.mp4', '54.mp4', '155.mp4', '42.mp4', '396.mp4', '43.mp4', '90.mp4', '47.mp4', '1.mp4', '.DS_Store', '393.mp4', '392.mp4', '351.mp4', '0.mp4', '46.mp4', '91.mp4', '151.mp4', '2.mp4', '44.mp4', '353.mp4', '409.mp4', '390.mp4', '391.mp4', '408.mp4', '346.mp4', '352.mp4', '45.mp4', '3.mp4', '92.mp4', '150.mp4', '120.mp4', '121.mp4', '139.mp4', '48.mp4', '411.mp4', '377.mp4', '376.mp4', '49.mp4', '374.mp4', '412.mp4', '375.mp4', '413.mp4', '403.mp4', '371.mp4', '370.mp4', '402.mp4', '372.mp4', '414.mp4', '401.mp4', '373.mp4']\n",
      "adding file\n",
      "Moviepy - Building video behavior_data/headbanging/415.mp4.\n",
      "MoviePy - Writing audio in 415TEMP_MPY_wvf_snd.mp4\n"
     ]
    },
    {
     "name": "stderr",
     "output_type": "stream",
     "text": [
      "t:  37%|███▋      | 67/180 [00:00<00:00, 669.34it/s, now=None]"
     ]
    },
    {
     "name": "stdout",
     "output_type": "stream",
     "text": [
      "MoviePy - Done.\n",
      "Moviepy - Writing video behavior_data/headbanging/415.mp4\n",
      "\n"
     ]
    },
    {
     "name": "stderr",
     "output_type": "stream",
     "text": [
      "                                                               \r"
     ]
    },
    {
     "name": "stdout",
     "output_type": "stream",
     "text": [
      "Moviepy - Done !\n",
      "Moviepy - video ready behavior_data/headbanging/415.mp4\n",
      "['41.mp4', '40.mp4', '54.mp4', '155.mp4', '42.mp4', '396.mp4', '43.mp4', '90.mp4', '47.mp4', '1.mp4', '.DS_Store', '393.mp4', '392.mp4', '351.mp4', '0.mp4', '46.mp4', '91.mp4', '151.mp4', '2.mp4', '44.mp4', '353.mp4', '409.mp4', '390.mp4', '391.mp4', '408.mp4', '346.mp4', '352.mp4', '45.mp4', '3.mp4', '92.mp4', '150.mp4', '120.mp4', '121.mp4', '139.mp4', '48.mp4', '411.mp4', '377.mp4', '376.mp4', '49.mp4', '374.mp4', '412.mp4', '375.mp4', '413.mp4', '403.mp4', '371.mp4', '370.mp4', '402.mp4', '372.mp4', '414.mp4', '401.mp4', '373.mp4', '415.mp4']\n",
      "adding file\n",
      "Moviepy - Building video behavior_data/headbanging/416.mp4.\n",
      "MoviePy - Writing audio in 416TEMP_MPY_wvf_snd.mp4\n"
     ]
    },
    {
     "name": "stderr",
     "output_type": "stream",
     "text": [
      "t:  34%|███▍      | 61/180 [00:00<00:00, 604.12it/s, now=None]"
     ]
    },
    {
     "name": "stdout",
     "output_type": "stream",
     "text": [
      "MoviePy - Done.\n",
      "Moviepy - Writing video behavior_data/headbanging/416.mp4\n",
      "\n"
     ]
    },
    {
     "name": "stderr",
     "output_type": "stream",
     "text": [
      "chunk:   0%|          | 0/133 [00:00<?, ?it/s, now=None]       "
     ]
    },
    {
     "name": "stdout",
     "output_type": "stream",
     "text": [
      "Moviepy - Done !\n",
      "Moviepy - video ready behavior_data/headbanging/416.mp4\n",
      "['41.mp4', '40.mp4', '54.mp4', '155.mp4', '42.mp4', '396.mp4', '43.mp4', '90.mp4', '47.mp4', '1.mp4', '.DS_Store', '393.mp4', '392.mp4', '351.mp4', '0.mp4', '46.mp4', '91.mp4', '151.mp4', '2.mp4', '44.mp4', '353.mp4', '409.mp4', '390.mp4', '391.mp4', '408.mp4', '346.mp4', '352.mp4', '45.mp4', '3.mp4', '92.mp4', '150.mp4', '120.mp4', '121.mp4', '139.mp4', '48.mp4', '411.mp4', '377.mp4', '376.mp4', '49.mp4', '374.mp4', '412.mp4', '375.mp4', '413.mp4', '403.mp4', '371.mp4', '416.mp4', '370.mp4', '402.mp4', '372.mp4', '414.mp4', '401.mp4', '373.mp4', '415.mp4']\n",
      "adding file\n",
      "Moviepy - Building video behavior_data/headbanging/417.mp4.\n",
      "MoviePy - Writing audio in 417TEMP_MPY_wvf_snd.mp4\n"
     ]
    },
    {
     "name": "stderr",
     "output_type": "stream",
     "text": [
      "t:  34%|███▍      | 62/180 [00:00<00:00, 609.44it/s, now=None]"
     ]
    },
    {
     "name": "stdout",
     "output_type": "stream",
     "text": [
      "MoviePy - Done.\n",
      "Moviepy - Writing video behavior_data/headbanging/417.mp4\n",
      "\n"
     ]
    },
    {
     "name": "stderr",
     "output_type": "stream",
     "text": [
      "chunk:   0%|          | 0/133 [00:00<?, ?it/s, now=None]       "
     ]
    },
    {
     "name": "stdout",
     "output_type": "stream",
     "text": [
      "Moviepy - Done !\n",
      "Moviepy - video ready behavior_data/headbanging/417.mp4\n",
      "['41.mp4', '40.mp4', '54.mp4', '155.mp4', '42.mp4', '396.mp4', '43.mp4', '90.mp4', '47.mp4', '1.mp4', '.DS_Store', '393.mp4', '392.mp4', '351.mp4', '0.mp4', '46.mp4', '91.mp4', '151.mp4', '2.mp4', '44.mp4', '353.mp4', '409.mp4', '390.mp4', '391.mp4', '408.mp4', '346.mp4', '352.mp4', '45.mp4', '3.mp4', '92.mp4', '150.mp4', '120.mp4', '121.mp4', '139.mp4', '48.mp4', '411.mp4', '377.mp4', '376.mp4', '49.mp4', '374.mp4', '412.mp4', '375.mp4', '413.mp4', '403.mp4', '417.mp4', '371.mp4', '416.mp4', '370.mp4', '402.mp4', '372.mp4', '414.mp4', '401.mp4', '373.mp4', '415.mp4']\n",
      "adding file\n",
      "Moviepy - Building video behavior_data/headbanging/418.mp4.\n",
      "MoviePy - Writing audio in 418TEMP_MPY_wvf_snd.mp4\n"
     ]
    },
    {
     "name": "stderr",
     "output_type": "stream",
     "text": [
      "t:  37%|███▋      | 66/180 [00:00<00:00, 654.45it/s, now=None]"
     ]
    },
    {
     "name": "stdout",
     "output_type": "stream",
     "text": [
      "MoviePy - Done.\n",
      "Moviepy - Writing video behavior_data/headbanging/418.mp4\n",
      "\n"
     ]
    },
    {
     "name": "stderr",
     "output_type": "stream",
     "text": [
      "t:   0%|          | 0/30 [00:00<?, ?it/s, now=None]            "
     ]
    },
    {
     "name": "stdout",
     "output_type": "stream",
     "text": [
      "Moviepy - Done !\n",
      "Moviepy - video ready behavior_data/headbanging/418.mp4\n",
      "['96.mp4', '82.mp4', '154.mp4', '140.mp4', '7.mp4', '55.mp4', '356.mp4', '342.mp4', '395.mp4', '394.mp4', '343.mp4', '357.mp4', '6.mp4', '141.mp4', '221.mp4', '81.mp4', '95.mp4', '143.mp4', '157.mp4', '56.mp4', '369.mp4', '355.mp4', '382.mp4', '397.mp4', '383.mp4', '340.mp4', '368.mp4', '5.mp4', '156.mp4', '142.mp4', '94.mp4', '80.mp4', '146.mp4', '53.mp4', '344.mp4', '.DS_Store', '350.mp4', '387.mp4', '345.mp4', '52.mp4', '153.mp4', '147.mp4', '233.mp4', '93.mp4', '87.mp4', '50.mp4', '384.mp4', '385.mp4', '79.mp4', '86.mp4', '232.mp4', '255.mp4', '282.mp4', '137.mp4', '36.mp4', '335.mp4', '321.mp4', '320.mp4', '334.mp4', '37.mp4', '136.mp4', '297.mp4', '283.mp4', '254.mp4', '242.mp4', '108.mp4', '134.mp4', '322.mp4', '323.mp4', '135.mp4', '109.mp4', '294.mp4', '243.mp4', '253.mp4', '290.mp4', '284.mp4', '131.mp4', '119.mp4', '18.mp4', '327.mp4', '333.mp4', '332.mp4', '326.mp4', '25.mp4', '19.mp4', '118.mp4', '130.mp4', '252.mp4', '244.mp4', '293.mp4', '132.mp4', '27.mp4', '26.mp4', '245.mp4', '116.mp4', '17.mp4', '328.mp4', '314.mp4', '315.mp4', '329.mp4', '16.mp4', '117.mp4', '277.mp4', '263.mp4', '288.mp4', '129.mp4', '101.mp4', '28.mp4', '100.mp4', '289.mp4', '262.mp4', '276.mp4', '299.mp4', '39.mp4', '11.mp4', '10.mp4', '38.mp4', '298.mp4', '265.mp4', '107.mp4', '12.mp4', '339.mp4', '13.mp4', '106.mp4', '112.mp4', '264.mp4', '149.mp4', '161.mp4', '60.mp4', '405.mp4', '388.mp4', '389.mp4', '362.mp4', '404.mp4', '410.mp4', '61.mp4', '160.mp4', '148.mp4', '162.mp4', '88.mp4', '63.mp4', '348.mp4', '406.mp4', '360.mp4', '407.mp4', '361.mp4', '349.mp4', '62.mp4', '89.mp4', '99.mp4', '167.mp4', '359.mp4', '98.mp4', '166.mp4', '164.mp4', '400.mp4', '366.mp4', '399.mp4', '398.mp4', '367.mp4', '159.mp4', '165.mp4']\n",
      "adding file\n",
      "Moviepy - Building video behavior_data/control/419.mp4.\n",
      "MoviePy - Writing audio in 419TEMP_MPY_wvf_snd.mp4\n",
      "MoviePy - Done.\n",
      "Moviepy - Writing video behavior_data/control/419.mp4\n",
      "\n"
     ]
    },
    {
     "name": "stderr",
     "output_type": "stream",
     "text": [
      "chunk:   0%|          | 0/155 [00:00<?, ?it/s, now=None]"
     ]
    },
    {
     "name": "stdout",
     "output_type": "stream",
     "text": [
      "Moviepy - Done !\n",
      "Moviepy - video ready behavior_data/control/419.mp4\n",
      "['96.mp4', '82.mp4', '154.mp4', '140.mp4', '7.mp4', '55.mp4', '356.mp4', '342.mp4', '395.mp4', '394.mp4', '343.mp4', '357.mp4', '419.mp4', '6.mp4', '141.mp4', '221.mp4', '81.mp4', '95.mp4', '143.mp4', '157.mp4', '56.mp4', '369.mp4', '355.mp4', '382.mp4', '397.mp4', '383.mp4', '340.mp4', '368.mp4', '5.mp4', '156.mp4', '142.mp4', '94.mp4', '80.mp4', '146.mp4', '53.mp4', '344.mp4', '.DS_Store', '350.mp4', '387.mp4', '345.mp4', '52.mp4', '153.mp4', '147.mp4', '233.mp4', '93.mp4', '87.mp4', '50.mp4', '384.mp4', '385.mp4', '79.mp4', '86.mp4', '232.mp4', '255.mp4', '282.mp4', '137.mp4', '36.mp4', '335.mp4', '321.mp4', '320.mp4', '334.mp4', '37.mp4', '136.mp4', '297.mp4', '283.mp4', '254.mp4', '242.mp4', '108.mp4', '134.mp4', '322.mp4', '323.mp4', '135.mp4', '109.mp4', '294.mp4', '243.mp4', '253.mp4', '290.mp4', '284.mp4', '131.mp4', '119.mp4', '18.mp4', '327.mp4', '333.mp4', '332.mp4', '326.mp4', '25.mp4', '19.mp4', '118.mp4', '130.mp4', '252.mp4', '244.mp4', '293.mp4', '132.mp4', '27.mp4', '26.mp4', '245.mp4', '116.mp4', '17.mp4', '328.mp4', '314.mp4', '315.mp4', '329.mp4', '16.mp4', '117.mp4', '277.mp4', '263.mp4', '288.mp4', '129.mp4', '101.mp4', '28.mp4', '100.mp4', '289.mp4', '262.mp4', '276.mp4', '299.mp4', '39.mp4', '11.mp4', '10.mp4', '38.mp4', '298.mp4', '265.mp4', '107.mp4', '12.mp4', '339.mp4', '13.mp4', '106.mp4', '112.mp4', '264.mp4', '149.mp4', '161.mp4', '60.mp4', '405.mp4', '388.mp4', '389.mp4', '362.mp4', '404.mp4', '410.mp4', '61.mp4', '160.mp4', '148.mp4', '162.mp4', '88.mp4', '63.mp4', '348.mp4', '406.mp4', '360.mp4', '407.mp4', '361.mp4', '349.mp4', '62.mp4', '89.mp4', '99.mp4', '167.mp4', '359.mp4', '98.mp4', '166.mp4', '164.mp4', '400.mp4', '366.mp4', '399.mp4', '398.mp4', '367.mp4', '159.mp4', '165.mp4']\n",
      "adding file\n",
      "Moviepy - Building video behavior_data/control/420.mp4.\n",
      "MoviePy - Writing audio in 420TEMP_MPY_wvf_snd.mp4\n"
     ]
    },
    {
     "name": "stderr",
     "output_type": "stream",
     "text": [
      "t:  31%|███       | 65/210 [00:00<00:00, 649.25it/s, now=None]"
     ]
    },
    {
     "name": "stdout",
     "output_type": "stream",
     "text": [
      "MoviePy - Done.\n",
      "Moviepy - Writing video behavior_data/control/420.mp4\n",
      "\n"
     ]
    },
    {
     "name": "stderr",
     "output_type": "stream",
     "text": [
      "                                                               \r"
     ]
    },
    {
     "name": "stdout",
     "output_type": "stream",
     "text": [
      "Moviepy - Done !\n",
      "Moviepy - video ready behavior_data/control/420.mp4\n",
      "['96.mp4', '82.mp4', '154.mp4', '140.mp4', '7.mp4', '55.mp4', '356.mp4', '342.mp4', '395.mp4', '394.mp4', '343.mp4', '357.mp4', '419.mp4', '6.mp4', '141.mp4', '221.mp4', '81.mp4', '95.mp4', '143.mp4', '157.mp4', '56.mp4', '369.mp4', '355.mp4', '382.mp4', '397.mp4', '383.mp4', '340.mp4', '368.mp4', '5.mp4', '156.mp4', '142.mp4', '94.mp4', '80.mp4', '146.mp4', '53.mp4', '344.mp4', '.DS_Store', '350.mp4', '387.mp4', '345.mp4', '52.mp4', '153.mp4', '147.mp4', '233.mp4', '93.mp4', '87.mp4', '50.mp4', '384.mp4', '385.mp4', '420.mp4', '79.mp4', '86.mp4', '232.mp4', '255.mp4', '282.mp4', '137.mp4', '36.mp4', '335.mp4', '321.mp4', '320.mp4', '334.mp4', '37.mp4', '136.mp4', '297.mp4', '283.mp4', '254.mp4', '242.mp4', '108.mp4', '134.mp4', '322.mp4', '323.mp4', '135.mp4', '109.mp4', '294.mp4', '243.mp4', '253.mp4', '290.mp4', '284.mp4', '131.mp4', '119.mp4', '18.mp4', '327.mp4', '333.mp4', '332.mp4', '326.mp4', '25.mp4', '19.mp4', '118.mp4', '130.mp4', '252.mp4', '244.mp4', '293.mp4', '132.mp4', '27.mp4', '26.mp4', '245.mp4', '116.mp4', '17.mp4', '328.mp4', '314.mp4', '315.mp4', '329.mp4', '16.mp4', '117.mp4', '277.mp4', '263.mp4', '288.mp4', '129.mp4', '101.mp4', '28.mp4', '100.mp4', '289.mp4', '262.mp4', '276.mp4', '299.mp4', '39.mp4', '11.mp4', '10.mp4', '38.mp4', '298.mp4', '265.mp4', '107.mp4', '12.mp4', '339.mp4', '13.mp4', '106.mp4', '112.mp4', '264.mp4', '149.mp4', '161.mp4', '60.mp4', '405.mp4', '388.mp4', '389.mp4', '362.mp4', '404.mp4', '410.mp4', '61.mp4', '160.mp4', '148.mp4', '162.mp4', '88.mp4', '63.mp4', '348.mp4', '406.mp4', '360.mp4', '407.mp4', '361.mp4', '349.mp4', '62.mp4', '89.mp4', '99.mp4', '167.mp4', '359.mp4', '98.mp4', '166.mp4', '164.mp4', '400.mp4', '366.mp4', '399.mp4', '398.mp4', '367.mp4', '159.mp4', '165.mp4']\n",
      "adding file\n"
     ]
    },
    {
     "name": "stderr",
     "output_type": "stream",
     "text": [
      "t:   0%|          | 0/180 [00:00<?, ?it/s, now=None]    "
     ]
    },
    {
     "name": "stdout",
     "output_type": "stream",
     "text": [
      "Moviepy - Building video behavior_data/control/421.mp4.\n",
      "MoviePy - Writing audio in 421TEMP_MPY_wvf_snd.mp4\n",
      "MoviePy - Done.\n",
      "Moviepy - Writing video behavior_data/control/421.mp4\n",
      "\n"
     ]
    },
    {
     "name": "stderr",
     "output_type": "stream",
     "text": [
      "chunk:   0%|          | 0/133 [00:00<?, ?it/s, now=None]       "
     ]
    },
    {
     "name": "stdout",
     "output_type": "stream",
     "text": [
      "Moviepy - Done !\n",
      "Moviepy - video ready behavior_data/control/421.mp4\n",
      "['96.mp4', '82.mp4', '154.mp4', '140.mp4', '7.mp4', '55.mp4', '356.mp4', '342.mp4', '395.mp4', '394.mp4', '343.mp4', '357.mp4', '419.mp4', '6.mp4', '141.mp4', '221.mp4', '81.mp4', '95.mp4', '143.mp4', '157.mp4', '56.mp4', '369.mp4', '355.mp4', '382.mp4', '397.mp4', '383.mp4', '340.mp4', '368.mp4', '5.mp4', '156.mp4', '142.mp4', '94.mp4', '80.mp4', '146.mp4', '53.mp4', '344.mp4', '.DS_Store', '350.mp4', '387.mp4', '345.mp4', '52.mp4', '153.mp4', '147.mp4', '233.mp4', '93.mp4', '87.mp4', '50.mp4', '421.mp4', '384.mp4', '385.mp4', '420.mp4', '79.mp4', '86.mp4', '232.mp4', '255.mp4', '282.mp4', '137.mp4', '36.mp4', '335.mp4', '321.mp4', '320.mp4', '334.mp4', '37.mp4', '136.mp4', '297.mp4', '283.mp4', '254.mp4', '242.mp4', '108.mp4', '134.mp4', '322.mp4', '323.mp4', '135.mp4', '109.mp4', '294.mp4', '243.mp4', '253.mp4', '290.mp4', '284.mp4', '131.mp4', '119.mp4', '18.mp4', '327.mp4', '333.mp4', '332.mp4', '326.mp4', '25.mp4', '19.mp4', '118.mp4', '130.mp4', '252.mp4', '244.mp4', '293.mp4', '132.mp4', '27.mp4', '26.mp4', '245.mp4', '116.mp4', '17.mp4', '328.mp4', '314.mp4', '315.mp4', '329.mp4', '16.mp4', '117.mp4', '277.mp4', '263.mp4', '288.mp4', '129.mp4', '101.mp4', '28.mp4', '100.mp4', '289.mp4', '262.mp4', '276.mp4', '299.mp4', '39.mp4', '11.mp4', '10.mp4', '38.mp4', '298.mp4', '265.mp4', '107.mp4', '12.mp4', '339.mp4', '13.mp4', '106.mp4', '112.mp4', '264.mp4', '149.mp4', '161.mp4', '60.mp4', '405.mp4', '388.mp4', '389.mp4', '362.mp4', '404.mp4', '410.mp4', '61.mp4', '160.mp4', '148.mp4', '162.mp4', '88.mp4', '63.mp4', '348.mp4', '406.mp4', '360.mp4', '407.mp4', '361.mp4', '349.mp4', '62.mp4', '89.mp4', '99.mp4', '167.mp4', '359.mp4', '98.mp4', '166.mp4', '164.mp4', '400.mp4', '366.mp4', '399.mp4', '398.mp4', '367.mp4', '159.mp4', '165.mp4']\n",
      "adding file\n",
      "Moviepy - Building video behavior_data/control/422.mp4.\n",
      "MoviePy - Writing audio in 422TEMP_MPY_wvf_snd.mp4\n"
     ]
    },
    {
     "name": "stderr",
     "output_type": "stream",
     "text": [
      "t:  38%|███▊      | 68/180 [00:00<00:00, 673.47it/s, now=None]"
     ]
    },
    {
     "name": "stdout",
     "output_type": "stream",
     "text": [
      "MoviePy - Done.\n",
      "Moviepy - Writing video behavior_data/control/422.mp4\n",
      "\n"
     ]
    },
    {
     "name": "stderr",
     "output_type": "stream",
     "text": [
      "                                                               \r"
     ]
    },
    {
     "name": "stdout",
     "output_type": "stream",
     "text": [
      "Moviepy - Done !\n",
      "Moviepy - video ready behavior_data/control/422.mp4\n",
      "staring the 61th file\n",
      "http://www.youtube.com/watch?v=B9hYEIjsHDA\n",
      "This is url:  http://www.youtube.com/watch?v=B9hYEIjsHDA\n",
      "['41.mp4', '418.mp4', '40.mp4', '54.mp4', '155.mp4', '42.mp4', '396.mp4', '43.mp4', '90.mp4', '47.mp4', '1.mp4', '.DS_Store', '393.mp4', '392.mp4', '351.mp4', '0.mp4', '46.mp4', '91.mp4', '151.mp4', '2.mp4', '44.mp4', '353.mp4', '409.mp4', '390.mp4', '391.mp4', '408.mp4', '346.mp4', '352.mp4', '45.mp4', '3.mp4', '92.mp4', '150.mp4', '120.mp4', '121.mp4', '139.mp4', '48.mp4', '411.mp4', '377.mp4', '376.mp4', '49.mp4', '374.mp4', '412.mp4', '375.mp4', '413.mp4', '403.mp4', '417.mp4', '371.mp4', '416.mp4', '370.mp4', '402.mp4', '372.mp4', '414.mp4', '401.mp4', '373.mp4', '415.mp4']\n",
      "adding file\n"
     ]
    },
    {
     "name": "stderr",
     "output_type": "stream",
     "text": [
      "t:  20%|██        | 28/139 [00:00<00:00, 278.39it/s, now=None]"
     ]
    },
    {
     "name": "stdout",
     "output_type": "stream",
     "text": [
      "Moviepy - Building video behavior_data/headbanging/423.mp4.\n",
      "MoviePy - Writing audio in 423TEMP_MPY_wvf_snd.mp4\n",
      "MoviePy - Done.\n",
      "Moviepy - Writing video behavior_data/headbanging/423.mp4\n",
      "\n"
     ]
    },
    {
     "name": "stderr",
     "output_type": "stream",
     "text": [
      "                                                               \r"
     ]
    },
    {
     "name": "stdout",
     "output_type": "stream",
     "text": [
      "Moviepy - Done !\n",
      "Moviepy - video ready behavior_data/headbanging/423.mp4\n",
      "['41.mp4', '418.mp4', '40.mp4', '54.mp4', '155.mp4', '42.mp4', '396.mp4', '43.mp4', '90.mp4', '47.mp4', '1.mp4', '.DS_Store', '393.mp4', '392.mp4', '351.mp4', '423.mp4', '0.mp4', '46.mp4', '91.mp4', '151.mp4', '2.mp4', '44.mp4', '353.mp4', '409.mp4', '390.mp4', '391.mp4', '408.mp4', '346.mp4', '352.mp4', '45.mp4', '3.mp4', '92.mp4', '150.mp4', '120.mp4', '121.mp4', '139.mp4', '48.mp4', '411.mp4', '377.mp4', '376.mp4', '49.mp4', '374.mp4', '412.mp4', '375.mp4', '413.mp4', '403.mp4', '417.mp4', '371.mp4', '416.mp4', '370.mp4', '402.mp4', '372.mp4', '414.mp4', '401.mp4', '373.mp4', '415.mp4']\n",
      "adding file\n"
     ]
    },
    {
     "name": "stderr",
     "output_type": "stream",
     "text": [
      "t:  23%|██▎       | 27/116 [00:00<00:00, 268.31it/s, now=None]"
     ]
    },
    {
     "name": "stdout",
     "output_type": "stream",
     "text": [
      "Moviepy - Building video behavior_data/headbanging/424.mp4.\n",
      "MoviePy - Writing audio in 424TEMP_MPY_wvf_snd.mp4\n",
      "MoviePy - Done.\n",
      "Moviepy - Writing video behavior_data/headbanging/424.mp4\n",
      "\n"
     ]
    },
    {
     "name": "stderr",
     "output_type": "stream",
     "text": [
      "                                                               \r"
     ]
    },
    {
     "name": "stdout",
     "output_type": "stream",
     "text": [
      "Moviepy - Done !\n",
      "Moviepy - video ready behavior_data/headbanging/424.mp4\n",
      "['41.mp4', '418.mp4', '424.mp4', '40.mp4', '54.mp4', '155.mp4', '42.mp4', '396.mp4', '43.mp4', '90.mp4', '47.mp4', '1.mp4', '.DS_Store', '393.mp4', '392.mp4', '351.mp4', '423.mp4', '0.mp4', '46.mp4', '91.mp4', '151.mp4', '2.mp4', '44.mp4', '353.mp4', '409.mp4', '390.mp4', '391.mp4', '408.mp4', '346.mp4', '352.mp4', '45.mp4', '3.mp4', '92.mp4', '150.mp4', '120.mp4', '121.mp4', '139.mp4', '48.mp4', '411.mp4', '377.mp4', '376.mp4', '49.mp4', '374.mp4', '412.mp4', '375.mp4', '413.mp4', '403.mp4', '417.mp4', '371.mp4', '416.mp4', '370.mp4', '402.mp4', '372.mp4', '414.mp4', '401.mp4', '373.mp4', '415.mp4']\n",
      "adding file\n"
     ]
    },
    {
     "name": "stderr",
     "output_type": "stream",
     "text": [
      "t:  22%|██▏       | 26/116 [00:00<00:00, 252.70it/s, now=None]"
     ]
    },
    {
     "name": "stdout",
     "output_type": "stream",
     "text": [
      "Moviepy - Building video behavior_data/headbanging/425.mp4.\n",
      "MoviePy - Writing audio in 425TEMP_MPY_wvf_snd.mp4\n",
      "MoviePy - Done.\n",
      "Moviepy - Writing video behavior_data/headbanging/425.mp4\n",
      "\n"
     ]
    },
    {
     "name": "stderr",
     "output_type": "stream",
     "text": [
      "                                                               \r"
     ]
    },
    {
     "name": "stdout",
     "output_type": "stream",
     "text": [
      "Moviepy - Done !\n",
      "Moviepy - video ready behavior_data/headbanging/425.mp4\n",
      "['96.mp4', '82.mp4', '154.mp4', '140.mp4', '7.mp4', '55.mp4', '356.mp4', '342.mp4', '395.mp4', '394.mp4', '343.mp4', '357.mp4', '419.mp4', '6.mp4', '141.mp4', '221.mp4', '81.mp4', '95.mp4', '143.mp4', '157.mp4', '56.mp4', '369.mp4', '355.mp4', '382.mp4', '397.mp4', '383.mp4', '340.mp4', '368.mp4', '5.mp4', '156.mp4', '142.mp4', '94.mp4', '80.mp4', '146.mp4', '53.mp4', '344.mp4', '422.mp4', '.DS_Store', '350.mp4', '387.mp4', '345.mp4', '52.mp4', '153.mp4', '147.mp4', '233.mp4', '93.mp4', '87.mp4', '50.mp4', '421.mp4', '384.mp4', '385.mp4', '420.mp4', '79.mp4', '86.mp4', '232.mp4', '255.mp4', '282.mp4', '137.mp4', '36.mp4', '335.mp4', '321.mp4', '320.mp4', '334.mp4', '37.mp4', '136.mp4', '297.mp4', '283.mp4', '254.mp4', '242.mp4', '108.mp4', '134.mp4', '322.mp4', '323.mp4', '135.mp4', '109.mp4', '294.mp4', '243.mp4', '253.mp4', '290.mp4', '284.mp4', '131.mp4', '119.mp4', '18.mp4', '327.mp4', '333.mp4', '332.mp4', '326.mp4', '25.mp4', '19.mp4', '118.mp4', '130.mp4', '252.mp4', '244.mp4', '293.mp4', '132.mp4', '27.mp4', '26.mp4', '245.mp4', '116.mp4', '17.mp4', '328.mp4', '314.mp4', '315.mp4', '329.mp4', '16.mp4', '117.mp4', '277.mp4', '263.mp4', '288.mp4', '129.mp4', '101.mp4', '28.mp4', '100.mp4', '289.mp4', '262.mp4', '276.mp4', '299.mp4', '39.mp4', '11.mp4', '10.mp4', '38.mp4', '298.mp4', '265.mp4', '107.mp4', '12.mp4', '339.mp4', '13.mp4', '106.mp4', '112.mp4', '264.mp4', '149.mp4', '161.mp4', '60.mp4', '405.mp4', '388.mp4', '389.mp4', '362.mp4', '404.mp4', '410.mp4', '61.mp4', '160.mp4', '148.mp4', '162.mp4', '88.mp4', '63.mp4', '348.mp4', '406.mp4', '360.mp4', '407.mp4', '361.mp4', '349.mp4', '62.mp4', '89.mp4', '99.mp4', '167.mp4', '359.mp4', '98.mp4', '166.mp4', '164.mp4', '400.mp4', '366.mp4', '399.mp4', '398.mp4', '367.mp4', '159.mp4', '165.mp4']\n",
      "adding file\n"
     ]
    },
    {
     "name": "stderr",
     "output_type": "stream",
     "text": [
      "                                                       "
     ]
    },
    {
     "name": "stdout",
     "output_type": "stream",
     "text": [
      "Moviepy - Building video behavior_data/control/426.mp4.\n",
      "MoviePy - Writing audio in 426TEMP_MPY_wvf_snd.mp4\n",
      "MoviePy - Done.\n",
      "Moviepy - Writing video behavior_data/control/426.mp4\n",
      "\n"
     ]
    },
    {
     "name": "stderr",
     "output_type": "stream",
     "text": [
      "\r"
     ]
    },
    {
     "name": "stdout",
     "output_type": "stream",
     "text": [
      "Moviepy - Done !\n",
      "Moviepy - video ready behavior_data/control/426.mp4\n",
      "['96.mp4', '82.mp4', '154.mp4', '140.mp4', '7.mp4', '55.mp4', '356.mp4', '342.mp4', '395.mp4', '394.mp4', '343.mp4', '357.mp4', '419.mp4', '6.mp4', '141.mp4', '221.mp4', '81.mp4', '95.mp4', '143.mp4', '157.mp4', '56.mp4', '369.mp4', '355.mp4', '382.mp4', '397.mp4', '383.mp4', '426.mp4', '340.mp4', '368.mp4', '5.mp4', '156.mp4', '142.mp4', '94.mp4', '80.mp4', '146.mp4', '53.mp4', '344.mp4', '422.mp4', '.DS_Store', '350.mp4', '387.mp4', '345.mp4', '52.mp4', '153.mp4', '147.mp4', '233.mp4', '93.mp4', '87.mp4', '50.mp4', '421.mp4', '384.mp4', '385.mp4', '420.mp4', '79.mp4', '86.mp4', '232.mp4', '255.mp4', '282.mp4', '137.mp4', '36.mp4', '335.mp4', '321.mp4', '320.mp4', '334.mp4', '37.mp4', '136.mp4', '297.mp4', '283.mp4', '254.mp4', '242.mp4', '108.mp4', '134.mp4', '322.mp4', '323.mp4', '135.mp4', '109.mp4', '294.mp4', '243.mp4', '253.mp4', '290.mp4', '284.mp4', '131.mp4', '119.mp4', '18.mp4', '327.mp4', '333.mp4', '332.mp4', '326.mp4', '25.mp4', '19.mp4', '118.mp4', '130.mp4', '252.mp4', '244.mp4', '293.mp4', '132.mp4', '27.mp4', '26.mp4', '245.mp4', '116.mp4', '17.mp4', '328.mp4', '314.mp4', '315.mp4', '329.mp4', '16.mp4', '117.mp4', '277.mp4', '263.mp4', '288.mp4', '129.mp4', '101.mp4', '28.mp4', '100.mp4', '289.mp4', '262.mp4', '276.mp4', '299.mp4', '39.mp4', '11.mp4', '10.mp4', '38.mp4', '298.mp4', '265.mp4', '107.mp4', '12.mp4', '339.mp4', '13.mp4', '106.mp4', '112.mp4', '264.mp4', '149.mp4', '161.mp4', '60.mp4', '405.mp4', '388.mp4', '389.mp4', '362.mp4', '404.mp4', '410.mp4', '61.mp4', '160.mp4', '148.mp4', '162.mp4', '88.mp4', '63.mp4', '348.mp4', '406.mp4', '360.mp4', '407.mp4', '361.mp4', '349.mp4', '62.mp4', '89.mp4', '99.mp4', '167.mp4', '359.mp4', '98.mp4', '166.mp4', '164.mp4', '400.mp4', '366.mp4', '399.mp4', '398.mp4', '367.mp4', '159.mp4', '165.mp4']\n",
      "adding file\n"
     ]
    },
    {
     "name": "stderr",
     "output_type": "stream",
     "text": [
      "t:  28%|██▊       | 26/93 [00:00<00:00, 254.41it/s, now=None]"
     ]
    },
    {
     "name": "stdout",
     "output_type": "stream",
     "text": [
      "Moviepy - Building video behavior_data/control/427.mp4.\n",
      "MoviePy - Writing audio in 427TEMP_MPY_wvf_snd.mp4\n",
      "MoviePy - Done.\n",
      "Moviepy - Writing video behavior_data/control/427.mp4\n",
      "\n"
     ]
    },
    {
     "name": "stderr",
     "output_type": "stream",
     "text": [
      "                                                             \r"
     ]
    },
    {
     "name": "stdout",
     "output_type": "stream",
     "text": [
      "Moviepy - Done !\n",
      "Moviepy - video ready behavior_data/control/427.mp4\n",
      "['96.mp4', '82.mp4', '154.mp4', '140.mp4', '7.mp4', '55.mp4', '356.mp4', '342.mp4', '395.mp4', '394.mp4', '343.mp4', '357.mp4', '419.mp4', '6.mp4', '141.mp4', '221.mp4', '81.mp4', '95.mp4', '143.mp4', '157.mp4', '56.mp4', '369.mp4', '427.mp4', '355.mp4', '382.mp4', '397.mp4', '383.mp4', '426.mp4', '340.mp4', '368.mp4', '5.mp4', '156.mp4', '142.mp4', '94.mp4', '80.mp4', '146.mp4', '53.mp4', '344.mp4', '422.mp4', '.DS_Store', '350.mp4', '387.mp4', '345.mp4', '52.mp4', '153.mp4', '147.mp4', '233.mp4', '93.mp4', '87.mp4', '50.mp4', '421.mp4', '384.mp4', '385.mp4', '420.mp4', '79.mp4', '86.mp4', '232.mp4', '255.mp4', '282.mp4', '137.mp4', '36.mp4', '335.mp4', '321.mp4', '320.mp4', '334.mp4', '37.mp4', '136.mp4', '297.mp4', '283.mp4', '254.mp4', '242.mp4', '108.mp4', '134.mp4', '322.mp4', '323.mp4', '135.mp4', '109.mp4', '294.mp4', '243.mp4', '253.mp4', '290.mp4', '284.mp4', '131.mp4', '119.mp4', '18.mp4', '327.mp4', '333.mp4', '332.mp4', '326.mp4', '25.mp4', '19.mp4', '118.mp4', '130.mp4', '252.mp4', '244.mp4', '293.mp4', '132.mp4', '27.mp4', '26.mp4', '245.mp4', '116.mp4', '17.mp4', '328.mp4', '314.mp4', '315.mp4', '329.mp4', '16.mp4', '117.mp4', '277.mp4', '263.mp4', '288.mp4', '129.mp4', '101.mp4', '28.mp4', '100.mp4', '289.mp4', '262.mp4', '276.mp4', '299.mp4', '39.mp4', '11.mp4', '10.mp4', '38.mp4', '298.mp4', '265.mp4', '107.mp4', '12.mp4', '339.mp4', '13.mp4', '106.mp4', '112.mp4', '264.mp4', '149.mp4', '161.mp4', '60.mp4', '405.mp4', '388.mp4', '389.mp4', '362.mp4', '404.mp4', '410.mp4', '61.mp4', '160.mp4', '148.mp4', '162.mp4', '88.mp4', '63.mp4', '348.mp4', '406.mp4', '360.mp4', '407.mp4', '361.mp4', '349.mp4', '62.mp4', '89.mp4', '99.mp4', '167.mp4', '359.mp4', '98.mp4', '166.mp4', '164.mp4', '400.mp4', '366.mp4', '399.mp4', '398.mp4', '367.mp4', '159.mp4', '165.mp4']\n",
      "adding file\n"
     ]
    },
    {
     "name": "stderr",
     "output_type": "stream",
     "text": [
      "t:  36%|███▌      | 25/70 [00:00<00:00, 249.94it/s, now=None]"
     ]
    },
    {
     "name": "stdout",
     "output_type": "stream",
     "text": [
      "Moviepy - Building video behavior_data/control/428.mp4.\n",
      "MoviePy - Writing audio in 428TEMP_MPY_wvf_snd.mp4\n",
      "MoviePy - Done.\n",
      "Moviepy - Writing video behavior_data/control/428.mp4\n",
      "\n"
     ]
    },
    {
     "name": "stderr",
     "output_type": "stream",
     "text": [
      "                                                             \r"
     ]
    },
    {
     "name": "stdout",
     "output_type": "stream",
     "text": [
      "Moviepy - Done !\n",
      "Moviepy - video ready behavior_data/control/428.mp4\n",
      "staring the 62th file\n",
      "http://www.youtube.com/watch?v=nwLp0k1xa0o\n",
      "This is url:  http://www.youtube.com/watch?v=nwLp0k1xa0o\n"
     ]
    },
    {
     "name": "stderr",
     "output_type": "stream",
     "text": [
      "\r",
      "chunk:   0%|          | 0/89 [00:00<?, ?it/s, now=None]"
     ]
    },
    {
     "name": "stdout",
     "output_type": "stream",
     "text": [
      "['41.mp4', '418.mp4', '424.mp4', '425.mp4', '40.mp4', '54.mp4', '155.mp4', '42.mp4', '396.mp4', '43.mp4', '90.mp4', '47.mp4', '1.mp4', '.DS_Store', '393.mp4', '392.mp4', '351.mp4', '423.mp4', '0.mp4', '46.mp4', '91.mp4', '151.mp4', '2.mp4', '44.mp4', '353.mp4', '409.mp4', '390.mp4', '391.mp4', '408.mp4', '346.mp4', '352.mp4', '45.mp4', '3.mp4', '92.mp4', '150.mp4', '120.mp4', '121.mp4', '139.mp4', '48.mp4', '411.mp4', '377.mp4', '376.mp4', '49.mp4', '374.mp4', '412.mp4', '375.mp4', '413.mp4', '403.mp4', '417.mp4', '371.mp4', '416.mp4', '370.mp4', '402.mp4', '372.mp4', '414.mp4', '401.mp4', '373.mp4', '415.mp4']\n",
      "adding file\n",
      "Moviepy - Building video behavior_data/headbanging/429.mp4.\n",
      "MoviePy - Writing audio in 429TEMP_MPY_wvf_snd.mp4\n"
     ]
    },
    {
     "name": "stderr",
     "output_type": "stream",
     "text": [
      "                                                       \r"
     ]
    },
    {
     "name": "stdout",
     "output_type": "stream",
     "text": [
      "MoviePy - Done.\n",
      "Moviepy - Writing video behavior_data/headbanging/429.mp4\n",
      "\n",
      "Moviepy - Done !\n",
      "Moviepy - video ready behavior_data/headbanging/429.mp4\n",
      "['41.mp4', '418.mp4', '424.mp4', '425.mp4', '40.mp4', '54.mp4', '155.mp4', '42.mp4', '396.mp4', '43.mp4', '90.mp4', '47.mp4', '1.mp4', '.DS_Store', '393.mp4', '392.mp4', '351.mp4', '423.mp4', '0.mp4', '46.mp4', '91.mp4', '151.mp4', '2.mp4', '44.mp4', '353.mp4', '409.mp4', '390.mp4', '391.mp4', '408.mp4', '346.mp4', '352.mp4', '45.mp4', '3.mp4', '92.mp4', '150.mp4', '120.mp4', '121.mp4', '139.mp4', '48.mp4', '411.mp4', '377.mp4', '376.mp4', '49.mp4', '374.mp4', '412.mp4', '375.mp4', '413.mp4', '403.mp4', '417.mp4', '371.mp4', '416.mp4', '370.mp4', '402.mp4', '372.mp4', '414.mp4', '429.mp4', '401.mp4', '373.mp4', '415.mp4']\n",
      "adding file\n"
     ]
    },
    {
     "name": "stderr",
     "output_type": "stream",
     "text": [
      "                                                       "
     ]
    },
    {
     "name": "stdout",
     "output_type": "stream",
     "text": [
      "Moviepy - Building video behavior_data/headbanging/430.mp4.\n",
      "MoviePy - Writing audio in 430TEMP_MPY_wvf_snd.mp4\n",
      "MoviePy - Done.\n",
      "Moviepy - Writing video behavior_data/headbanging/430.mp4\n",
      "\n",
      "Moviepy - Done !\n",
      "Moviepy - video ready behavior_data/headbanging/430.mp4\n"
     ]
    },
    {
     "name": "stderr",
     "output_type": "stream",
     "text": [
      "                                                        "
     ]
    },
    {
     "name": "stdout",
     "output_type": "stream",
     "text": [
      "['96.mp4', '82.mp4', '154.mp4', '140.mp4', '7.mp4', '55.mp4', '356.mp4', '342.mp4', '395.mp4', '394.mp4', '343.mp4', '357.mp4', '419.mp4', '6.mp4', '141.mp4', '221.mp4', '81.mp4', '95.mp4', '143.mp4', '157.mp4', '56.mp4', '369.mp4', '427.mp4', '355.mp4', '382.mp4', '397.mp4', '383.mp4', '426.mp4', '340.mp4', '368.mp4', '5.mp4', '156.mp4', '142.mp4', '94.mp4', '80.mp4', '146.mp4', '53.mp4', '344.mp4', '422.mp4', '.DS_Store', '350.mp4', '387.mp4', '345.mp4', '52.mp4', '153.mp4', '147.mp4', '233.mp4', '93.mp4', '87.mp4', '50.mp4', '421.mp4', '384.mp4', '385.mp4', '420.mp4', '79.mp4', '86.mp4', '232.mp4', '255.mp4', '282.mp4', '137.mp4', '36.mp4', '335.mp4', '321.mp4', '320.mp4', '334.mp4', '37.mp4', '136.mp4', '297.mp4', '283.mp4', '254.mp4', '242.mp4', '108.mp4', '134.mp4', '322.mp4', '323.mp4', '135.mp4', '109.mp4', '294.mp4', '243.mp4', '253.mp4', '290.mp4', '284.mp4', '131.mp4', '119.mp4', '18.mp4', '327.mp4', '333.mp4', '332.mp4', '326.mp4', '25.mp4', '19.mp4', '118.mp4', '130.mp4', '252.mp4', '244.mp4', '293.mp4', '132.mp4', '27.mp4', '26.mp4', '245.mp4', '116.mp4', '17.mp4', '328.mp4', '314.mp4', '315.mp4', '329.mp4', '16.mp4', '117.mp4', '277.mp4', '263.mp4', '288.mp4', '129.mp4', '101.mp4', '28.mp4', '100.mp4', '289.mp4', '262.mp4', '276.mp4', '299.mp4', '39.mp4', '11.mp4', '10.mp4', '38.mp4', '298.mp4', '265.mp4', '107.mp4', '12.mp4', '339.mp4', '13.mp4', '106.mp4', '112.mp4', '264.mp4', '149.mp4', '161.mp4', '60.mp4', '405.mp4', '388.mp4', '389.mp4', '362.mp4', '404.mp4', '410.mp4', '61.mp4', '160.mp4', '148.mp4', '162.mp4', '88.mp4', '63.mp4', '348.mp4', '406.mp4', '360.mp4', '407.mp4', '361.mp4', '349.mp4', '62.mp4', '89.mp4', '99.mp4', '167.mp4', '359.mp4', '98.mp4', '166.mp4', '164.mp4', '400.mp4', '366.mp4', '428.mp4', '399.mp4', '398.mp4', '367.mp4', '159.mp4', '165.mp4']\n",
      "adding file\n",
      "Moviepy - Building video behavior_data/control/431.mp4.\n",
      "MoviePy - Writing audio in 431TEMP_MPY_wvf_snd.mp4\n"
     ]
    },
    {
     "name": "stderr",
     "output_type": "stream",
     "text": [
      "                                                    \r"
     ]
    },
    {
     "name": "stdout",
     "output_type": "stream",
     "text": [
      "MoviePy - Done.\n",
      "Moviepy - Writing video behavior_data/control/431.mp4\n",
      "\n",
      "Moviepy - Done !\n",
      "Moviepy - video ready behavior_data/control/431.mp4\n",
      "['96.mp4', '82.mp4', '154.mp4', '140.mp4', '7.mp4', '55.mp4', '356.mp4', '342.mp4', '395.mp4', '394.mp4', '343.mp4', '431.mp4', '357.mp4', '419.mp4', '6.mp4', '141.mp4', '221.mp4', '81.mp4', '95.mp4', '143.mp4', '157.mp4', '56.mp4', '369.mp4', '427.mp4', '355.mp4', '382.mp4', '397.mp4', '383.mp4', '426.mp4', '340.mp4', '368.mp4', '5.mp4', '156.mp4', '142.mp4', '94.mp4', '80.mp4', '146.mp4', '53.mp4', '344.mp4', '422.mp4', '.DS_Store', '350.mp4', '387.mp4', '345.mp4', '52.mp4', '153.mp4', '147.mp4', '233.mp4', '93.mp4', '87.mp4', '50.mp4', '421.mp4', '384.mp4', '385.mp4', '420.mp4', '79.mp4', '86.mp4', '232.mp4', '255.mp4', '282.mp4', '137.mp4', '36.mp4', '335.mp4', '321.mp4', '320.mp4', '334.mp4', '37.mp4', '136.mp4', '297.mp4', '283.mp4', '254.mp4', '242.mp4', '108.mp4', '134.mp4', '322.mp4', '323.mp4', '135.mp4', '109.mp4', '294.mp4', '243.mp4', '253.mp4', '290.mp4', '284.mp4', '131.mp4', '119.mp4', '18.mp4', '327.mp4', '333.mp4', '332.mp4', '326.mp4', '25.mp4', '19.mp4', '118.mp4', '130.mp4', '252.mp4', '244.mp4', '293.mp4', '132.mp4', '27.mp4', '26.mp4', '245.mp4', '116.mp4', '17.mp4', '328.mp4', '314.mp4', '315.mp4', '329.mp4', '16.mp4', '117.mp4', '277.mp4', '263.mp4', '288.mp4', '129.mp4', '101.mp4', '28.mp4', '100.mp4', '289.mp4', '262.mp4', '276.mp4', '299.mp4', '39.mp4', '11.mp4', '10.mp4', '38.mp4', '298.mp4', '265.mp4', '107.mp4', '12.mp4', '339.mp4', '13.mp4', '106.mp4', '112.mp4', '264.mp4', '149.mp4', '161.mp4', '60.mp4', '405.mp4', '388.mp4', '389.mp4', '362.mp4', '404.mp4', '410.mp4', '61.mp4', '160.mp4', '148.mp4', '162.mp4', '88.mp4', '63.mp4', '348.mp4', '406.mp4', '360.mp4', '407.mp4', '361.mp4', '349.mp4', '62.mp4', '89.mp4', '99.mp4', '167.mp4', '359.mp4', '98.mp4', '166.mp4', '164.mp4', '400.mp4', '366.mp4', '428.mp4', '399.mp4', '398.mp4', '367.mp4', '159.mp4', '165.mp4']\n",
      "adding file\n"
     ]
    },
    {
     "name": "stderr",
     "output_type": "stream",
     "text": [
      "                                                        "
     ]
    },
    {
     "name": "stdout",
     "output_type": "stream",
     "text": [
      "Moviepy - Building video behavior_data/control/432.mp4.\n",
      "MoviePy - Writing audio in 432TEMP_MPY_wvf_snd.mp4\n",
      "MoviePy - Done.\n",
      "Moviepy - Writing video behavior_data/control/432.mp4\n",
      "\n"
     ]
    },
    {
     "name": "stderr",
     "output_type": "stream",
     "text": [
      "chunk:   0%|          | 0/155 [00:00<?, ?it/s, now=None]"
     ]
    },
    {
     "name": "stdout",
     "output_type": "stream",
     "text": [
      "Moviepy - Done !\n",
      "Moviepy - video ready behavior_data/control/432.mp4\n",
      "['96.mp4', '82.mp4', '154.mp4', '140.mp4', '7.mp4', '55.mp4', '356.mp4', '342.mp4', '395.mp4', '394.mp4', '343.mp4', '431.mp4', '357.mp4', '419.mp4', '6.mp4', '141.mp4', '221.mp4', '81.mp4', '95.mp4', '143.mp4', '157.mp4', '56.mp4', '369.mp4', '427.mp4', '355.mp4', '382.mp4', '397.mp4', '383.mp4', '432.mp4', '426.mp4', '340.mp4', '368.mp4', '5.mp4', '156.mp4', '142.mp4', '94.mp4', '80.mp4', '146.mp4', '53.mp4', '344.mp4', '422.mp4', '.DS_Store', '350.mp4', '387.mp4', '345.mp4', '52.mp4', '153.mp4', '147.mp4', '233.mp4', '93.mp4', '87.mp4', '50.mp4', '421.mp4', '384.mp4', '385.mp4', '420.mp4', '79.mp4', '86.mp4', '232.mp4', '255.mp4', '282.mp4', '137.mp4', '36.mp4', '335.mp4', '321.mp4', '320.mp4', '334.mp4', '37.mp4', '136.mp4', '297.mp4', '283.mp4', '254.mp4', '242.mp4', '108.mp4', '134.mp4', '322.mp4', '323.mp4', '135.mp4', '109.mp4', '294.mp4', '243.mp4', '253.mp4', '290.mp4', '284.mp4', '131.mp4', '119.mp4', '18.mp4', '327.mp4', '333.mp4', '332.mp4', '326.mp4', '25.mp4', '19.mp4', '118.mp4', '130.mp4', '252.mp4', '244.mp4', '293.mp4', '132.mp4', '27.mp4', '26.mp4', '245.mp4', '116.mp4', '17.mp4', '328.mp4', '314.mp4', '315.mp4', '329.mp4', '16.mp4', '117.mp4', '277.mp4', '263.mp4', '288.mp4', '129.mp4', '101.mp4', '28.mp4', '100.mp4', '289.mp4', '262.mp4', '276.mp4', '299.mp4', '39.mp4', '11.mp4', '10.mp4', '38.mp4', '298.mp4', '265.mp4', '107.mp4', '12.mp4', '339.mp4', '13.mp4', '106.mp4', '112.mp4', '264.mp4', '149.mp4', '161.mp4', '60.mp4', '405.mp4', '388.mp4', '389.mp4', '362.mp4', '404.mp4', '410.mp4', '61.mp4', '160.mp4', '148.mp4', '162.mp4', '88.mp4', '63.mp4', '348.mp4', '406.mp4', '360.mp4', '407.mp4', '361.mp4', '349.mp4', '62.mp4', '89.mp4', '99.mp4', '167.mp4', '359.mp4', '98.mp4', '166.mp4', '164.mp4', '400.mp4', '366.mp4', '428.mp4', '399.mp4', '398.mp4', '367.mp4', '159.mp4', '165.mp4']\n",
      "adding file\n",
      "Moviepy - Building video behavior_data/control/433.mp4.\n",
      "MoviePy - Writing audio in 433TEMP_MPY_wvf_snd.mp4\n"
     ]
    },
    {
     "name": "stderr",
     "output_type": "stream",
     "text": [
      "                                                        \r"
     ]
    },
    {
     "name": "stdout",
     "output_type": "stream",
     "text": [
      "MoviePy - Done.\n",
      "Moviepy - Writing video behavior_data/control/433.mp4\n",
      "\n",
      "Moviepy - Done !\n",
      "Moviepy - video ready behavior_data/control/433.mp4\n",
      "['96.mp4', '82.mp4', '154.mp4', '140.mp4', '7.mp4', '55.mp4', '356.mp4', '342.mp4', '395.mp4', '394.mp4', '343.mp4', '431.mp4', '357.mp4', '419.mp4', '6.mp4', '141.mp4', '221.mp4', '81.mp4', '95.mp4', '143.mp4', '157.mp4', '56.mp4', '369.mp4', '427.mp4', '355.mp4', '433.mp4', '382.mp4', '397.mp4', '383.mp4', '432.mp4', '426.mp4', '340.mp4', '368.mp4', '5.mp4', '156.mp4', '142.mp4', '94.mp4', '80.mp4', '146.mp4', '53.mp4', '344.mp4', '422.mp4', '.DS_Store', '350.mp4', '387.mp4', '345.mp4', '52.mp4', '153.mp4', '147.mp4', '233.mp4', '93.mp4', '87.mp4', '50.mp4', '421.mp4', '384.mp4', '385.mp4', '420.mp4', '79.mp4', '86.mp4', '232.mp4', '255.mp4', '282.mp4', '137.mp4', '36.mp4', '335.mp4', '321.mp4', '320.mp4', '334.mp4', '37.mp4', '136.mp4', '297.mp4', '283.mp4', '254.mp4', '242.mp4', '108.mp4', '134.mp4', '322.mp4', '323.mp4', '135.mp4', '109.mp4', '294.mp4', '243.mp4', '253.mp4', '290.mp4', '284.mp4', '131.mp4', '119.mp4', '18.mp4', '327.mp4', '333.mp4', '332.mp4', '326.mp4', '25.mp4', '19.mp4', '118.mp4', '130.mp4', '252.mp4', '244.mp4', '293.mp4', '132.mp4', '27.mp4', '26.mp4', '245.mp4', '116.mp4', '17.mp4', '328.mp4', '314.mp4', '315.mp4', '329.mp4', '16.mp4', '117.mp4', '277.mp4', '263.mp4', '288.mp4', '129.mp4', '101.mp4', '28.mp4', '100.mp4', '289.mp4', '262.mp4', '276.mp4', '299.mp4', '39.mp4', '11.mp4', '10.mp4', '38.mp4', '298.mp4', '265.mp4', '107.mp4', '12.mp4', '339.mp4', '13.mp4', '106.mp4', '112.mp4', '264.mp4', '149.mp4', '161.mp4', '60.mp4', '405.mp4', '388.mp4', '389.mp4', '362.mp4', '404.mp4', '410.mp4', '61.mp4', '160.mp4', '148.mp4', '162.mp4', '88.mp4', '63.mp4', '348.mp4', '406.mp4', '360.mp4', '407.mp4', '361.mp4', '349.mp4', '62.mp4', '89.mp4', '99.mp4', '167.mp4', '359.mp4', '98.mp4', '166.mp4', '164.mp4', '400.mp4', '366.mp4', '428.mp4', '399.mp4', '398.mp4', '367.mp4', '159.mp4', '165.mp4']\n",
      "adding file\n"
     ]
    },
    {
     "name": "stderr",
     "output_type": "stream",
     "text": [
      "                                                        "
     ]
    },
    {
     "name": "stdout",
     "output_type": "stream",
     "text": [
      "Moviepy - Building video behavior_data/control/434.mp4.\n",
      "MoviePy - Writing audio in 434TEMP_MPY_wvf_snd.mp4\n",
      "MoviePy - Done.\n",
      "Moviepy - Writing video behavior_data/control/434.mp4\n",
      "\n"
     ]
    },
    {
     "name": "stderr",
     "output_type": "stream",
     "text": [
      "\r"
     ]
    },
    {
     "name": "stdout",
     "output_type": "stream",
     "text": [
      "Moviepy - Done !\n",
      "Moviepy - video ready behavior_data/control/434.mp4\n",
      "staring the 63th file\n",
      "http://www.youtube.com/watch?v=UxpQpWzhOx0\n",
      "This is url:  http://www.youtube.com/watch?v=UxpQpWzhOx0\n"
     ]
    },
    {
     "name": "stderr",
     "output_type": "stream",
     "text": [
      "t:   0%|          | 0/60 [00:00<?, ?it/s, now=None]    "
     ]
    },
    {
     "name": "stdout",
     "output_type": "stream",
     "text": [
      "['69.mp4', '381.mp4', '380.mp4', '68.mp4', '83.mp4', '97.mp4', '57.mp4', '84.mp4', '.DS_Store', '378.mp4', '386.mp4', '379.mp4', '85.mp4', '145.mp4', '78.mp4', '144.mp4', '123.mp4', '22.mp4', '23.mp4', '122.mp4', '21.mp4', '35.mp4', '34.mp4', '20.mp4', '125.mp4', '24.mp4', '30.mp4', '31.mp4', '124.mp4', '126.mp4', '33.mp4', '32.mp4', '127.mp4', '133.mp4', '102.mp4', '103.mp4', '115.mp4', '14.mp4', '29.mp4', '15.mp4', '114.mp4', '128.mp4', '104.mp4', '110.mp4', '138.mp4', '111.mp4', '105.mp4', '113.mp4', '74.mp4', '363.mp4', '75.mp4', '77.mp4', '76.mp4', '8.mp4', '66.mp4', '72.mp4', '365.mp4', '358.mp4', '364.mp4', '73.mp4', '67.mp4', '9.mp4', '59.mp4', '71.mp4', '65.mp4', '64.mp4', '70.mp4', '58.mp4']\n",
      "adding file\n",
      "Moviepy - Building video behavior_data/armflapping/435.mp4.\n",
      "MoviePy - Writing audio in 435TEMP_MPY_wvf_snd.mp4\n",
      "MoviePy - Done.\n",
      "Moviepy - Writing video behavior_data/armflapping/435.mp4\n",
      "\n"
     ]
    },
    {
     "name": "stderr",
     "output_type": "stream",
     "text": [
      "chunk:   0%|          | 0/155 [00:00<?, ?it/s, now=None]"
     ]
    },
    {
     "name": "stdout",
     "output_type": "stream",
     "text": [
      "Moviepy - Done !\n",
      "Moviepy - video ready behavior_data/armflapping/435.mp4\n",
      "['69.mp4', '381.mp4', '380.mp4', '68.mp4', '83.mp4', '97.mp4', '57.mp4', '84.mp4', '.DS_Store', '378.mp4', '386.mp4', '379.mp4', '85.mp4', '145.mp4', '78.mp4', '435.mp4', '144.mp4', '123.mp4', '22.mp4', '23.mp4', '122.mp4', '21.mp4', '35.mp4', '34.mp4', '20.mp4', '125.mp4', '24.mp4', '30.mp4', '31.mp4', '124.mp4', '126.mp4', '33.mp4', '32.mp4', '127.mp4', '133.mp4', '102.mp4', '103.mp4', '115.mp4', '14.mp4', '29.mp4', '15.mp4', '114.mp4', '128.mp4', '104.mp4', '110.mp4', '138.mp4', '111.mp4', '105.mp4', '113.mp4', '74.mp4', '363.mp4', '75.mp4', '77.mp4', '76.mp4', '8.mp4', '66.mp4', '72.mp4', '365.mp4', '358.mp4', '364.mp4', '73.mp4', '67.mp4', '9.mp4', '59.mp4', '71.mp4', '65.mp4', '64.mp4', '70.mp4', '58.mp4']\n",
      "adding file\n",
      "Moviepy - Building video behavior_data/armflapping/436.mp4.\n",
      "MoviePy - Writing audio in 436TEMP_MPY_wvf_snd.mp4\n"
     ]
    },
    {
     "name": "stderr",
     "output_type": "stream",
     "text": [
      "                                                                    \r"
     ]
    },
    {
     "name": "stdout",
     "output_type": "stream",
     "text": [
      "MoviePy - Done.\n",
      "Moviepy - Writing video behavior_data/armflapping/436.mp4\n",
      "\n"
     ]
    },
    {
     "name": "stderr",
     "output_type": "stream",
     "text": [
      "\r",
      "chunk:   0%|          | 0/133 [00:00<?, ?it/s, now=None]"
     ]
    },
    {
     "name": "stdout",
     "output_type": "stream",
     "text": [
      "Moviepy - Done !\n",
      "Moviepy - video ready behavior_data/armflapping/436.mp4\n",
      "['69.mp4', '381.mp4', '380.mp4', '68.mp4', '83.mp4', '97.mp4', '57.mp4', '84.mp4', '.DS_Store', '436.mp4', '378.mp4', '386.mp4', '379.mp4', '85.mp4', '145.mp4', '78.mp4', '435.mp4', '144.mp4', '123.mp4', '22.mp4', '23.mp4', '122.mp4', '21.mp4', '35.mp4', '34.mp4', '20.mp4', '125.mp4', '24.mp4', '30.mp4', '31.mp4', '124.mp4', '126.mp4', '33.mp4', '32.mp4', '127.mp4', '133.mp4', '102.mp4', '103.mp4', '115.mp4', '14.mp4', '29.mp4', '15.mp4', '114.mp4', '128.mp4', '104.mp4', '110.mp4', '138.mp4', '111.mp4', '105.mp4', '113.mp4', '74.mp4', '363.mp4', '75.mp4', '77.mp4', '76.mp4', '8.mp4', '66.mp4', '72.mp4', '365.mp4', '358.mp4', '364.mp4', '73.mp4', '67.mp4', '9.mp4', '59.mp4', '71.mp4', '65.mp4', '64.mp4', '70.mp4', '58.mp4']\n",
      "adding file\n",
      "Moviepy - Building video behavior_data/armflapping/437.mp4.\n",
      "MoviePy - Writing audio in 437TEMP_MPY_wvf_snd.mp4\n"
     ]
    },
    {
     "name": "stderr",
     "output_type": "stream",
     "text": [
      "                                                             \r"
     ]
    },
    {
     "name": "stdout",
     "output_type": "stream",
     "text": [
      "MoviePy - Done.\n",
      "Moviepy - Writing video behavior_data/armflapping/437.mp4\n",
      "\n"
     ]
    },
    {
     "name": "stderr",
     "output_type": "stream",
     "text": [
      "\r",
      "chunk:   0%|          | 0/155 [00:00<?, ?it/s, now=None]"
     ]
    },
    {
     "name": "stdout",
     "output_type": "stream",
     "text": [
      "Moviepy - Done !\n",
      "Moviepy - video ready behavior_data/armflapping/437.mp4\n",
      "['69.mp4', '381.mp4', '380.mp4', '68.mp4', '83.mp4', '97.mp4', '57.mp4', '84.mp4', '.DS_Store', '436.mp4', '378.mp4', '386.mp4', '379.mp4', '437.mp4', '85.mp4', '145.mp4', '78.mp4', '435.mp4', '144.mp4', '123.mp4', '22.mp4', '23.mp4', '122.mp4', '21.mp4', '35.mp4', '34.mp4', '20.mp4', '125.mp4', '24.mp4', '30.mp4', '31.mp4', '124.mp4', '126.mp4', '33.mp4', '32.mp4', '127.mp4', '133.mp4', '102.mp4', '103.mp4', '115.mp4', '14.mp4', '29.mp4', '15.mp4', '114.mp4', '128.mp4', '104.mp4', '110.mp4', '138.mp4', '111.mp4', '105.mp4', '113.mp4', '74.mp4', '363.mp4', '75.mp4', '77.mp4', '76.mp4', '8.mp4', '66.mp4', '72.mp4', '365.mp4', '358.mp4', '364.mp4', '73.mp4', '67.mp4', '9.mp4', '59.mp4', '71.mp4', '65.mp4', '64.mp4', '70.mp4', '58.mp4']\n",
      "adding file\n",
      "Moviepy - Building video behavior_data/armflapping/438.mp4.\n",
      "MoviePy - Writing audio in 438TEMP_MPY_wvf_snd.mp4\n"
     ]
    },
    {
     "name": "stderr",
     "output_type": "stream",
     "text": [
      "                                                                    \r"
     ]
    },
    {
     "name": "stdout",
     "output_type": "stream",
     "text": [
      "MoviePy - Done.\n",
      "Moviepy - Writing video behavior_data/armflapping/438.mp4\n",
      "\n"
     ]
    },
    {
     "name": "stderr",
     "output_type": "stream",
     "text": [
      "\r",
      "chunk:   0%|          | 0/155 [00:00<?, ?it/s, now=None]"
     ]
    },
    {
     "name": "stdout",
     "output_type": "stream",
     "text": [
      "Moviepy - Done !\n",
      "Moviepy - video ready behavior_data/armflapping/438.mp4\n",
      "['69.mp4', '381.mp4', '380.mp4', '68.mp4', '83.mp4', '97.mp4', '57.mp4', '84.mp4', '.DS_Store', '436.mp4', '378.mp4', '386.mp4', '379.mp4', '437.mp4', '85.mp4', '145.mp4', '78.mp4', '435.mp4', '144.mp4', '123.mp4', '22.mp4', '23.mp4', '122.mp4', '21.mp4', '35.mp4', '34.mp4', '20.mp4', '125.mp4', '24.mp4', '30.mp4', '31.mp4', '124.mp4', '126.mp4', '33.mp4', '32.mp4', '127.mp4', '133.mp4', '102.mp4', '103.mp4', '115.mp4', '14.mp4', '29.mp4', '15.mp4', '114.mp4', '128.mp4', '104.mp4', '110.mp4', '138.mp4', '111.mp4', '105.mp4', '113.mp4', '74.mp4', '363.mp4', '438.mp4', '75.mp4', '77.mp4', '76.mp4', '8.mp4', '66.mp4', '72.mp4', '365.mp4', '358.mp4', '364.mp4', '73.mp4', '67.mp4', '9.mp4', '59.mp4', '71.mp4', '65.mp4', '64.mp4', '70.mp4', '58.mp4']\n",
      "adding file\n",
      "Moviepy - Building video behavior_data/armflapping/439.mp4.\n",
      "MoviePy - Writing audio in 439TEMP_MPY_wvf_snd.mp4\n"
     ]
    },
    {
     "name": "stderr",
     "output_type": "stream",
     "text": [
      "                                                                    \r"
     ]
    },
    {
     "name": "stdout",
     "output_type": "stream",
     "text": [
      "MoviePy - Done.\n",
      "Moviepy - Writing video behavior_data/armflapping/439.mp4\n",
      "\n"
     ]
    },
    {
     "name": "stderr",
     "output_type": "stream",
     "text": [
      "\r",
      "chunk:   0%|          | 0/133 [00:00<?, ?it/s, now=None]"
     ]
    },
    {
     "name": "stdout",
     "output_type": "stream",
     "text": [
      "Moviepy - Done !\n",
      "Moviepy - video ready behavior_data/armflapping/439.mp4\n",
      "['69.mp4', '381.mp4', '380.mp4', '68.mp4', '83.mp4', '97.mp4', '57.mp4', '84.mp4', '.DS_Store', '436.mp4', '378.mp4', '386.mp4', '379.mp4', '437.mp4', '85.mp4', '145.mp4', '78.mp4', '435.mp4', '144.mp4', '123.mp4', '22.mp4', '23.mp4', '122.mp4', '21.mp4', '35.mp4', '34.mp4', '20.mp4', '125.mp4', '24.mp4', '30.mp4', '31.mp4', '124.mp4', '126.mp4', '33.mp4', '32.mp4', '127.mp4', '133.mp4', '102.mp4', '103.mp4', '115.mp4', '14.mp4', '29.mp4', '15.mp4', '114.mp4', '128.mp4', '104.mp4', '110.mp4', '138.mp4', '111.mp4', '105.mp4', '113.mp4', '74.mp4', '439.mp4', '363.mp4', '438.mp4', '75.mp4', '77.mp4', '76.mp4', '8.mp4', '66.mp4', '72.mp4', '365.mp4', '358.mp4', '364.mp4', '73.mp4', '67.mp4', '9.mp4', '59.mp4', '71.mp4', '65.mp4', '64.mp4', '70.mp4', '58.mp4']\n",
      "adding file\n",
      "Moviepy - Building video behavior_data/armflapping/440.mp4.\n",
      "MoviePy - Writing audio in 440TEMP_MPY_wvf_snd.mp4\n"
     ]
    },
    {
     "name": "stderr",
     "output_type": "stream",
     "text": [
      "                                                                    \r"
     ]
    },
    {
     "name": "stdout",
     "output_type": "stream",
     "text": [
      "MoviePy - Done.\n",
      "Moviepy - Writing video behavior_data/armflapping/440.mp4\n",
      "\n"
     ]
    },
    {
     "name": "stderr",
     "output_type": "stream",
     "text": [
      "\r",
      "chunk:   0%|          | 0/133 [00:00<?, ?it/s, now=None]"
     ]
    },
    {
     "name": "stdout",
     "output_type": "stream",
     "text": [
      "Moviepy - Done !\n",
      "Moviepy - video ready behavior_data/armflapping/440.mp4\n",
      "['69.mp4', '381.mp4', '380.mp4', '68.mp4', '83.mp4', '97.mp4', '57.mp4', '84.mp4', '.DS_Store', '436.mp4', '378.mp4', '386.mp4', '379.mp4', '437.mp4', '85.mp4', '145.mp4', '78.mp4', '435.mp4', '144.mp4', '123.mp4', '22.mp4', '23.mp4', '122.mp4', '21.mp4', '35.mp4', '34.mp4', '20.mp4', '125.mp4', '24.mp4', '30.mp4', '440.mp4', '31.mp4', '124.mp4', '126.mp4', '33.mp4', '32.mp4', '127.mp4', '133.mp4', '102.mp4', '103.mp4', '115.mp4', '14.mp4', '29.mp4', '15.mp4', '114.mp4', '128.mp4', '104.mp4', '110.mp4', '138.mp4', '111.mp4', '105.mp4', '113.mp4', '74.mp4', '439.mp4', '363.mp4', '438.mp4', '75.mp4', '77.mp4', '76.mp4', '8.mp4', '66.mp4', '72.mp4', '365.mp4', '358.mp4', '364.mp4', '73.mp4', '67.mp4', '9.mp4', '59.mp4', '71.mp4', '65.mp4', '64.mp4', '70.mp4', '58.mp4']\n",
      "adding file\n",
      "Moviepy - Building video behavior_data/armflapping/441.mp4.\n",
      "MoviePy - Writing audio in 441TEMP_MPY_wvf_snd.mp4\n"
     ]
    },
    {
     "name": "stderr",
     "output_type": "stream",
     "text": [
      "                                                             \r"
     ]
    },
    {
     "name": "stdout",
     "output_type": "stream",
     "text": [
      "MoviePy - Done.\n",
      "Moviepy - Writing video behavior_data/armflapping/441.mp4\n",
      "\n"
     ]
    },
    {
     "name": "stderr",
     "output_type": "stream",
     "text": [
      "\r",
      "chunk:   0%|          | 0/89 [00:00<?, ?it/s, now=None]"
     ]
    },
    {
     "name": "stdout",
     "output_type": "stream",
     "text": [
      "Moviepy - Done !\n",
      "Moviepy - video ready behavior_data/armflapping/441.mp4\n",
      "['69.mp4', '381.mp4', '380.mp4', '68.mp4', '83.mp4', '97.mp4', '57.mp4', '84.mp4', '.DS_Store', '436.mp4', '378.mp4', '386.mp4', '379.mp4', '437.mp4', '85.mp4', '145.mp4', '78.mp4', '435.mp4', '144.mp4', '123.mp4', '22.mp4', '23.mp4', '122.mp4', '21.mp4', '35.mp4', '34.mp4', '20.mp4', '125.mp4', '24.mp4', '30.mp4', '441.mp4', '440.mp4', '31.mp4', '124.mp4', '126.mp4', '33.mp4', '32.mp4', '127.mp4', '133.mp4', '102.mp4', '103.mp4', '115.mp4', '14.mp4', '29.mp4', '15.mp4', '114.mp4', '128.mp4', '104.mp4', '110.mp4', '138.mp4', '111.mp4', '105.mp4', '113.mp4', '74.mp4', '439.mp4', '363.mp4', '438.mp4', '75.mp4', '77.mp4', '76.mp4', '8.mp4', '66.mp4', '72.mp4', '365.mp4', '358.mp4', '364.mp4', '73.mp4', '67.mp4', '9.mp4', '59.mp4', '71.mp4', '65.mp4', '64.mp4', '70.mp4', '58.mp4']\n",
      "adding file\n",
      "Moviepy - Building video behavior_data/armflapping/442.mp4.\n",
      "MoviePy - Writing audio in 442TEMP_MPY_wvf_snd.mp4\n"
     ]
    },
    {
     "name": "stderr",
     "output_type": "stream",
     "text": [
      "                                                       \r"
     ]
    },
    {
     "name": "stdout",
     "output_type": "stream",
     "text": [
      "MoviePy - Done.\n",
      "Moviepy - Writing video behavior_data/armflapping/442.mp4\n",
      "\n",
      "Moviepy - Done !\n",
      "Moviepy - video ready behavior_data/armflapping/442.mp4\n"
     ]
    },
    {
     "name": "stderr",
     "output_type": "stream",
     "text": [
      "\r",
      "chunk:   0%|          | 0/67 [00:00<?, ?it/s, now=None]"
     ]
    },
    {
     "name": "stdout",
     "output_type": "stream",
     "text": [
      "['69.mp4', '381.mp4', '380.mp4', '68.mp4', '83.mp4', '97.mp4', '57.mp4', '84.mp4', '.DS_Store', '436.mp4', '378.mp4', '386.mp4', '379.mp4', '437.mp4', '85.mp4', '145.mp4', '78.mp4', '435.mp4', '144.mp4', '123.mp4', '22.mp4', '23.mp4', '122.mp4', '21.mp4', '35.mp4', '34.mp4', '20.mp4', '125.mp4', '24.mp4', '30.mp4', '441.mp4', '440.mp4', '31.mp4', '124.mp4', '126.mp4', '33.mp4', '442.mp4', '32.mp4', '127.mp4', '133.mp4', '102.mp4', '103.mp4', '115.mp4', '14.mp4', '29.mp4', '15.mp4', '114.mp4', '128.mp4', '104.mp4', '110.mp4', '138.mp4', '111.mp4', '105.mp4', '113.mp4', '74.mp4', '439.mp4', '363.mp4', '438.mp4', '75.mp4', '77.mp4', '76.mp4', '8.mp4', '66.mp4', '72.mp4', '365.mp4', '358.mp4', '364.mp4', '73.mp4', '67.mp4', '9.mp4', '59.mp4', '71.mp4', '65.mp4', '64.mp4', '70.mp4', '58.mp4']\n",
      "adding file\n",
      "Moviepy - Building video behavior_data/armflapping/443.mp4.\n",
      "MoviePy - Writing audio in 443TEMP_MPY_wvf_snd.mp4\n"
     ]
    },
    {
     "name": "stderr",
     "output_type": "stream",
     "text": [
      "                                                       \r"
     ]
    },
    {
     "name": "stdout",
     "output_type": "stream",
     "text": [
      "MoviePy - Done.\n",
      "Moviepy - Writing video behavior_data/armflapping/443.mp4\n",
      "\n",
      "Moviepy - Done !\n",
      "Moviepy - video ready behavior_data/armflapping/443.mp4\n",
      "['69.mp4', '381.mp4', '380.mp4', '68.mp4', '83.mp4', '97.mp4', '57.mp4', '84.mp4', '.DS_Store', '436.mp4', '378.mp4', '386.mp4', '379.mp4', '437.mp4', '85.mp4', '145.mp4', '78.mp4', '435.mp4', '144.mp4', '123.mp4', '22.mp4', '23.mp4', '122.mp4', '21.mp4', '35.mp4', '34.mp4', '20.mp4', '125.mp4', '24.mp4', '30.mp4', '441.mp4', '440.mp4', '31.mp4', '124.mp4', '126.mp4', '33.mp4', '442.mp4', '443.mp4', '32.mp4', '127.mp4', '133.mp4', '102.mp4', '103.mp4', '115.mp4', '14.mp4', '29.mp4', '15.mp4', '114.mp4', '128.mp4', '104.mp4', '110.mp4', '138.mp4', '111.mp4', '105.mp4', '113.mp4', '74.mp4', '439.mp4', '363.mp4', '438.mp4', '75.mp4', '77.mp4', '76.mp4', '8.mp4', '66.mp4', '72.mp4', '365.mp4', '358.mp4', '364.mp4', '73.mp4', '67.mp4', '9.mp4', '59.mp4', '71.mp4', '65.mp4', '64.mp4', '70.mp4', '58.mp4']\n",
      "adding file\n"
     ]
    },
    {
     "name": "stderr",
     "output_type": "stream",
     "text": [
      "                                                       "
     ]
    },
    {
     "name": "stdout",
     "output_type": "stream",
     "text": [
      "Moviepy - Building video behavior_data/armflapping/444.mp4.\n",
      "MoviePy - Writing audio in 444TEMP_MPY_wvf_snd.mp4\n",
      "MoviePy - Done.\n",
      "Moviepy - Writing video behavior_data/armflapping/444.mp4\n",
      "\n"
     ]
    },
    {
     "name": "stderr",
     "output_type": "stream",
     "text": [
      "chunk:   0%|          | 0/67 [00:00<?, ?it/s, now=None]"
     ]
    },
    {
     "name": "stdout",
     "output_type": "stream",
     "text": [
      "Moviepy - Done !\n",
      "Moviepy - video ready behavior_data/armflapping/444.mp4\n",
      "['69.mp4', '381.mp4', '380.mp4', '68.mp4', '83.mp4', '97.mp4', '57.mp4', '84.mp4', '.DS_Store', '436.mp4', '378.mp4', '386.mp4', '379.mp4', '437.mp4', '85.mp4', '145.mp4', '78.mp4', '435.mp4', '144.mp4', '123.mp4', '22.mp4', '23.mp4', '122.mp4', '21.mp4', '35.mp4', '444.mp4', '34.mp4', '20.mp4', '125.mp4', '24.mp4', '30.mp4', '441.mp4', '440.mp4', '31.mp4', '124.mp4', '126.mp4', '33.mp4', '442.mp4', '443.mp4', '32.mp4', '127.mp4', '133.mp4', '102.mp4', '103.mp4', '115.mp4', '14.mp4', '29.mp4', '15.mp4', '114.mp4', '128.mp4', '104.mp4', '110.mp4', '138.mp4', '111.mp4', '105.mp4', '113.mp4', '74.mp4', '439.mp4', '363.mp4', '438.mp4', '75.mp4', '77.mp4', '76.mp4', '8.mp4', '66.mp4', '72.mp4', '365.mp4', '358.mp4', '364.mp4', '73.mp4', '67.mp4', '9.mp4', '59.mp4', '71.mp4', '65.mp4', '64.mp4', '70.mp4', '58.mp4']\n",
      "adding file\n",
      "Moviepy - Building video behavior_data/armflapping/445.mp4.\n",
      "MoviePy - Writing audio in 445TEMP_MPY_wvf_snd.mp4\n"
     ]
    },
    {
     "name": "stderr",
     "output_type": "stream",
     "text": [
      "                                                       \r"
     ]
    },
    {
     "name": "stdout",
     "output_type": "stream",
     "text": [
      "MoviePy - Done.\n",
      "Moviepy - Writing video behavior_data/armflapping/445.mp4\n",
      "\n",
      "Moviepy - Done !\n",
      "Moviepy - video ready behavior_data/armflapping/445.mp4\n",
      "['96.mp4', '82.mp4', '154.mp4', '140.mp4', '7.mp4', '55.mp4', '356.mp4', '342.mp4', '395.mp4', '394.mp4', '343.mp4', '431.mp4', '357.mp4', '419.mp4', '6.mp4', '141.mp4', '221.mp4', '81.mp4', '95.mp4', '143.mp4', '157.mp4', '56.mp4', '369.mp4', '427.mp4', '355.mp4', '433.mp4', '382.mp4', '397.mp4', '383.mp4', '432.mp4', '426.mp4', '340.mp4', '368.mp4', '5.mp4', '156.mp4', '142.mp4', '94.mp4', '80.mp4', '146.mp4', '53.mp4', '344.mp4', '422.mp4', '.DS_Store', '350.mp4', '387.mp4', '345.mp4', '52.mp4', '153.mp4', '147.mp4', '233.mp4', '93.mp4', '87.mp4', '50.mp4', '421.mp4', '384.mp4', '385.mp4', '420.mp4', '434.mp4', '79.mp4', '86.mp4', '232.mp4', '255.mp4', '282.mp4', '137.mp4', '36.mp4', '335.mp4', '321.mp4', '320.mp4', '334.mp4', '37.mp4', '136.mp4', '297.mp4', '283.mp4', '254.mp4', '242.mp4', '108.mp4', '134.mp4', '322.mp4', '323.mp4', '135.mp4', '109.mp4', '294.mp4', '243.mp4', '253.mp4', '290.mp4', '284.mp4', '131.mp4', '119.mp4', '18.mp4', '327.mp4', '333.mp4', '332.mp4', '326.mp4', '25.mp4', '19.mp4', '118.mp4', '130.mp4', '252.mp4', '244.mp4', '293.mp4', '132.mp4', '27.mp4', '26.mp4', '245.mp4', '116.mp4', '17.mp4', '328.mp4', '314.mp4', '315.mp4', '329.mp4', '16.mp4', '117.mp4', '277.mp4', '263.mp4', '288.mp4', '129.mp4', '101.mp4', '28.mp4', '100.mp4', '289.mp4', '262.mp4', '276.mp4', '299.mp4', '39.mp4', '11.mp4', '10.mp4', '38.mp4', '298.mp4', '265.mp4', '107.mp4', '12.mp4', '339.mp4', '13.mp4', '106.mp4', '112.mp4', '264.mp4', '149.mp4', '161.mp4', '60.mp4', '405.mp4', '388.mp4', '389.mp4', '362.mp4', '404.mp4', '410.mp4', '61.mp4', '160.mp4', '148.mp4', '162.mp4', '88.mp4', '63.mp4', '348.mp4', '406.mp4', '360.mp4', '407.mp4', '361.mp4', '349.mp4', '62.mp4', '89.mp4', '99.mp4', '167.mp4', '359.mp4', '98.mp4', '166.mp4', '164.mp4', '400.mp4', '366.mp4', '428.mp4', '399.mp4', '398.mp4', '367.mp4', '159.mp4', '165.mp4']\n",
      "adding file\n"
     ]
    },
    {
     "name": "stderr",
     "output_type": "stream",
     "text": [
      "                                                       "
     ]
    },
    {
     "name": "stdout",
     "output_type": "stream",
     "text": [
      "Moviepy - Building video behavior_data/control/446.mp4.\n",
      "MoviePy - Writing audio in 446TEMP_MPY_wvf_snd.mp4\n",
      "MoviePy - Done.\n",
      "Moviepy - Writing video behavior_data/control/446.mp4\n",
      "\n",
      "Moviepy - Done !\n",
      "Moviepy - video ready behavior_data/control/446.mp4\n",
      "['96.mp4', '82.mp4', '154.mp4', '140.mp4', '7.mp4', '55.mp4', '356.mp4', '342.mp4', '395.mp4', '394.mp4', '343.mp4', '431.mp4', '357.mp4', '419.mp4', '6.mp4', '141.mp4', '221.mp4', '81.mp4', '95.mp4', '143.mp4', '157.mp4', '56.mp4', '369.mp4', '427.mp4', '355.mp4', '433.mp4', '382.mp4', '397.mp4', '383.mp4', '432.mp4', '426.mp4', '340.mp4', '368.mp4', '5.mp4', '156.mp4', '142.mp4', '94.mp4', '80.mp4', '146.mp4', '53.mp4', '344.mp4', '422.mp4', '.DS_Store', '350.mp4', '387.mp4', '345.mp4', '52.mp4', '153.mp4', '147.mp4', '233.mp4', '93.mp4', '87.mp4', '50.mp4', '421.mp4', '384.mp4', '385.mp4', '420.mp4', '434.mp4', '79.mp4', '86.mp4', '232.mp4', '255.mp4', '282.mp4', '137.mp4', '36.mp4', '335.mp4', '321.mp4', '446.mp4', '320.mp4', '334.mp4', '37.mp4', '136.mp4', '297.mp4', '283.mp4', '254.mp4', '242.mp4', '108.mp4', '134.mp4', '322.mp4', '323.mp4', '135.mp4', '109.mp4', '294.mp4', '243.mp4', '253.mp4', '290.mp4', '284.mp4', '131.mp4', '119.mp4', '18.mp4', '327.mp4', '333.mp4', '332.mp4', '326.mp4', '25.mp4', '19.mp4', '118.mp4', '130.mp4', '252.mp4', '244.mp4', '293.mp4', '132.mp4', '27.mp4', '26.mp4', '245.mp4', '116.mp4', '17.mp4', '328.mp4', '314.mp4', '315.mp4', '329.mp4', '16.mp4', '117.mp4', '277.mp4', '263.mp4', '288.mp4', '129.mp4', '101.mp4', '28.mp4', '100.mp4', '289.mp4', '262.mp4', '276.mp4', '299.mp4', '39.mp4', '11.mp4', '10.mp4', '38.mp4', '298.mp4', '265.mp4', '107.mp4', '12.mp4', '339.mp4', '13.mp4', '106.mp4', '112.mp4', '264.mp4', '149.mp4', '161.mp4', '60.mp4', '405.mp4', '388.mp4', '389.mp4', '362.mp4', '404.mp4', '410.mp4', '61.mp4', '160.mp4', '148.mp4', '162.mp4', '88.mp4', '63.mp4', '348.mp4', '406.mp4', '360.mp4', '407.mp4', '361.mp4', '349.mp4', '62.mp4', '89.mp4', '99.mp4', '167.mp4', '359.mp4', '98.mp4', '166.mp4', '164.mp4', '400.mp4', '366.mp4', '428.mp4', '399.mp4', '398.mp4', '367.mp4', '159.mp4', '165.mp4']\n",
      "adding file\n"
     ]
    },
    {
     "name": "stderr",
     "output_type": "stream",
     "text": [
      "                                                             "
     ]
    },
    {
     "name": "stdout",
     "output_type": "stream",
     "text": [
      "Moviepy - Building video behavior_data/control/447.mp4.\n",
      "MoviePy - Writing audio in 447TEMP_MPY_wvf_snd.mp4\n",
      "MoviePy - Done.\n",
      "Moviepy - Writing video behavior_data/control/447.mp4\n",
      "\n"
     ]
    },
    {
     "name": "stderr",
     "output_type": "stream",
     "text": [
      "chunk:   0%|          | 0/133 [00:00<?, ?it/s, now=None]"
     ]
    },
    {
     "name": "stdout",
     "output_type": "stream",
     "text": [
      "Moviepy - Done !\n",
      "Moviepy - video ready behavior_data/control/447.mp4\n",
      "['96.mp4', '82.mp4', '154.mp4', '140.mp4', '7.mp4', '55.mp4', '356.mp4', '342.mp4', '395.mp4', '394.mp4', '343.mp4', '431.mp4', '357.mp4', '419.mp4', '6.mp4', '141.mp4', '221.mp4', '81.mp4', '95.mp4', '143.mp4', '157.mp4', '56.mp4', '369.mp4', '427.mp4', '355.mp4', '433.mp4', '382.mp4', '397.mp4', '383.mp4', '432.mp4', '426.mp4', '340.mp4', '368.mp4', '5.mp4', '156.mp4', '142.mp4', '94.mp4', '80.mp4', '146.mp4', '53.mp4', '344.mp4', '422.mp4', '.DS_Store', '350.mp4', '387.mp4', '345.mp4', '52.mp4', '153.mp4', '147.mp4', '233.mp4', '93.mp4', '87.mp4', '50.mp4', '421.mp4', '384.mp4', '385.mp4', '420.mp4', '434.mp4', '79.mp4', '86.mp4', '232.mp4', '255.mp4', '282.mp4', '137.mp4', '36.mp4', '335.mp4', '447.mp4', '321.mp4', '446.mp4', '320.mp4', '334.mp4', '37.mp4', '136.mp4', '297.mp4', '283.mp4', '254.mp4', '242.mp4', '108.mp4', '134.mp4', '322.mp4', '323.mp4', '135.mp4', '109.mp4', '294.mp4', '243.mp4', '253.mp4', '290.mp4', '284.mp4', '131.mp4', '119.mp4', '18.mp4', '327.mp4', '333.mp4', '332.mp4', '326.mp4', '25.mp4', '19.mp4', '118.mp4', '130.mp4', '252.mp4', '244.mp4', '293.mp4', '132.mp4', '27.mp4', '26.mp4', '245.mp4', '116.mp4', '17.mp4', '328.mp4', '314.mp4', '315.mp4', '329.mp4', '16.mp4', '117.mp4', '277.mp4', '263.mp4', '288.mp4', '129.mp4', '101.mp4', '28.mp4', '100.mp4', '289.mp4', '262.mp4', '276.mp4', '299.mp4', '39.mp4', '11.mp4', '10.mp4', '38.mp4', '298.mp4', '265.mp4', '107.mp4', '12.mp4', '339.mp4', '13.mp4', '106.mp4', '112.mp4', '264.mp4', '149.mp4', '161.mp4', '60.mp4', '405.mp4', '388.mp4', '389.mp4', '362.mp4', '404.mp4', '410.mp4', '61.mp4', '160.mp4', '148.mp4', '162.mp4', '88.mp4', '63.mp4', '348.mp4', '406.mp4', '360.mp4', '407.mp4', '361.mp4', '349.mp4', '62.mp4', '89.mp4', '99.mp4', '167.mp4', '359.mp4', '98.mp4', '166.mp4', '164.mp4', '400.mp4', '366.mp4', '428.mp4', '399.mp4', '398.mp4', '367.mp4', '159.mp4', '165.mp4']\n",
      "adding file\n",
      "Moviepy - Building video behavior_data/control/448.mp4.\n",
      "MoviePy - Writing audio in 448TEMP_MPY_wvf_snd.mp4\n"
     ]
    },
    {
     "name": "stderr",
     "output_type": "stream",
     "text": [
      "                                                             \r"
     ]
    },
    {
     "name": "stdout",
     "output_type": "stream",
     "text": [
      "MoviePy - Done.\n",
      "Moviepy - Writing video behavior_data/control/448.mp4\n",
      "\n",
      "Moviepy - Done !\n",
      "Moviepy - video ready behavior_data/control/448.mp4\n"
     ]
    },
    {
     "name": "stderr",
     "output_type": "stream",
     "text": [
      "\r",
      "chunk:   0%|          | 0/133 [00:00<?, ?it/s, now=None]"
     ]
    },
    {
     "name": "stdout",
     "output_type": "stream",
     "text": [
      "['96.mp4', '82.mp4', '154.mp4', '140.mp4', '7.mp4', '55.mp4', '356.mp4', '342.mp4', '395.mp4', '394.mp4', '343.mp4', '431.mp4', '357.mp4', '419.mp4', '6.mp4', '141.mp4', '221.mp4', '81.mp4', '95.mp4', '143.mp4', '157.mp4', '56.mp4', '369.mp4', '427.mp4', '355.mp4', '433.mp4', '382.mp4', '397.mp4', '383.mp4', '432.mp4', '426.mp4', '340.mp4', '368.mp4', '5.mp4', '156.mp4', '142.mp4', '94.mp4', '80.mp4', '146.mp4', '53.mp4', '344.mp4', '422.mp4', '.DS_Store', '350.mp4', '387.mp4', '345.mp4', '52.mp4', '153.mp4', '147.mp4', '233.mp4', '93.mp4', '87.mp4', '50.mp4', '421.mp4', '384.mp4', '385.mp4', '420.mp4', '434.mp4', '79.mp4', '86.mp4', '232.mp4', '255.mp4', '282.mp4', '137.mp4', '36.mp4', '335.mp4', '447.mp4', '321.mp4', '446.mp4', '320.mp4', '334.mp4', '37.mp4', '136.mp4', '297.mp4', '283.mp4', '254.mp4', '242.mp4', '108.mp4', '134.mp4', '322.mp4', '323.mp4', '135.mp4', '109.mp4', '294.mp4', '243.mp4', '253.mp4', '290.mp4', '284.mp4', '131.mp4', '119.mp4', '18.mp4', '327.mp4', '333.mp4', '332.mp4', '326.mp4', '25.mp4', '19.mp4', '118.mp4', '130.mp4', '252.mp4', '244.mp4', '293.mp4', '132.mp4', '27.mp4', '26.mp4', '245.mp4', '116.mp4', '17.mp4', '328.mp4', '314.mp4', '315.mp4', '329.mp4', '16.mp4', '117.mp4', '277.mp4', '263.mp4', '288.mp4', '129.mp4', '101.mp4', '28.mp4', '100.mp4', '289.mp4', '262.mp4', '276.mp4', '299.mp4', '39.mp4', '11.mp4', '448.mp4', '10.mp4', '38.mp4', '298.mp4', '265.mp4', '107.mp4', '12.mp4', '339.mp4', '13.mp4', '106.mp4', '112.mp4', '264.mp4', '149.mp4', '161.mp4', '60.mp4', '405.mp4', '388.mp4', '389.mp4', '362.mp4', '404.mp4', '410.mp4', '61.mp4', '160.mp4', '148.mp4', '162.mp4', '88.mp4', '63.mp4', '348.mp4', '406.mp4', '360.mp4', '407.mp4', '361.mp4', '349.mp4', '62.mp4', '89.mp4', '99.mp4', '167.mp4', '359.mp4', '98.mp4', '166.mp4', '164.mp4', '400.mp4', '366.mp4', '428.mp4', '399.mp4', '398.mp4', '367.mp4', '159.mp4', '165.mp4']\n",
      "adding file\n",
      "Moviepy - Building video behavior_data/control/449.mp4.\n",
      "MoviePy - Writing audio in 449TEMP_MPY_wvf_snd.mp4\n"
     ]
    },
    {
     "name": "stderr",
     "output_type": "stream",
     "text": [
      "                                                             \r"
     ]
    },
    {
     "name": "stdout",
     "output_type": "stream",
     "text": [
      "MoviePy - Done.\n",
      "Moviepy - Writing video behavior_data/control/449.mp4\n",
      "\n",
      "Moviepy - Done !\n",
      "Moviepy - video ready behavior_data/control/449.mp4\n",
      "staring the 64th file\n",
      "http://www.youtube.com/watch?v=xeKKMkVgNPU\n",
      "This is url:  http://www.youtube.com/watch?v=xeKKMkVgNPU\n",
      "annoying url: http://www.youtube.com/watch?v=xeKKMkVgNPU\n",
      "xeKKMkVgNPU is a private video\n",
      "staring the 65th file\n",
      "http://www.youtube.com/watch?v=WLtorzPESbc\n",
      "This is url:  http://www.youtube.com/watch?v=WLtorzPESbc\n"
     ]
    },
    {
     "name": "stderr",
     "output_type": "stream",
     "text": [
      "\r",
      "chunk:   0%|          | 0/89 [00:00<?, ?it/s, now=None]"
     ]
    },
    {
     "name": "stdout",
     "output_type": "stream",
     "text": [
      "['41.mp4', '418.mp4', '430.mp4', '424.mp4', '425.mp4', '40.mp4', '54.mp4', '155.mp4', '42.mp4', '396.mp4', '43.mp4', '90.mp4', '47.mp4', '1.mp4', '.DS_Store', '393.mp4', '392.mp4', '351.mp4', '423.mp4', '0.mp4', '46.mp4', '91.mp4', '151.mp4', '2.mp4', '44.mp4', '353.mp4', '409.mp4', '390.mp4', '391.mp4', '408.mp4', '346.mp4', '352.mp4', '45.mp4', '3.mp4', '92.mp4', '150.mp4', '120.mp4', '121.mp4', '139.mp4', '48.mp4', '411.mp4', '377.mp4', '376.mp4', '49.mp4', '374.mp4', '412.mp4', '375.mp4', '413.mp4', '403.mp4', '417.mp4', '371.mp4', '416.mp4', '370.mp4', '402.mp4', '372.mp4', '414.mp4', '429.mp4', '401.mp4', '373.mp4', '415.mp4']\n",
      "adding file\n",
      "Moviepy - Building video behavior_data/headbanging/450.mp4.\n",
      "MoviePy - Writing audio in 450TEMP_MPY_wvf_snd.mp4\n"
     ]
    },
    {
     "name": "stderr",
     "output_type": "stream",
     "text": [
      "                                                              "
     ]
    },
    {
     "name": "stdout",
     "output_type": "stream",
     "text": [
      "MoviePy - Done.\n",
      "Moviepy - Writing video behavior_data/headbanging/450.mp4\n",
      "\n"
     ]
    },
    {
     "name": "stderr",
     "output_type": "stream",
     "text": [
      "chunk:   0%|          | 0/89 [00:00<?, ?it/s, now=None]"
     ]
    },
    {
     "name": "stdout",
     "output_type": "stream",
     "text": [
      "Moviepy - Done !\n",
      "Moviepy - video ready behavior_data/headbanging/450.mp4\n",
      "['41.mp4', '418.mp4', '430.mp4', '424.mp4', '425.mp4', '40.mp4', '54.mp4', '155.mp4', '42.mp4', '396.mp4', '43.mp4', '90.mp4', '47.mp4', '1.mp4', '.DS_Store', '393.mp4', '392.mp4', '351.mp4', '423.mp4', '0.mp4', '46.mp4', '91.mp4', '151.mp4', '2.mp4', '44.mp4', '353.mp4', '409.mp4', '390.mp4', '391.mp4', '408.mp4', '346.mp4', '352.mp4', '45.mp4', '3.mp4', '92.mp4', '150.mp4', '120.mp4', '450.mp4', '121.mp4', '139.mp4', '48.mp4', '411.mp4', '377.mp4', '376.mp4', '49.mp4', '374.mp4', '412.mp4', '375.mp4', '413.mp4', '403.mp4', '417.mp4', '371.mp4', '416.mp4', '370.mp4', '402.mp4', '372.mp4', '414.mp4', '429.mp4', '401.mp4', '373.mp4', '415.mp4']\n",
      "adding file\n",
      "Moviepy - Building video behavior_data/headbanging/451.mp4.\n",
      "MoviePy - Writing audio in 451TEMP_MPY_wvf_snd.mp4\n"
     ]
    },
    {
     "name": "stderr",
     "output_type": "stream",
     "text": [
      "t:  54%|█████▍    | 65/120 [00:00<00:00, 644.67it/s, now=None]"
     ]
    },
    {
     "name": "stdout",
     "output_type": "stream",
     "text": [
      "MoviePy - Done.\n",
      "Moviepy - Writing video behavior_data/headbanging/451.mp4\n",
      "\n"
     ]
    },
    {
     "name": "stderr",
     "output_type": "stream",
     "text": [
      "                                                              "
     ]
    },
    {
     "name": "stdout",
     "output_type": "stream",
     "text": [
      "Moviepy - Done !\n",
      "Moviepy - video ready behavior_data/headbanging/451.mp4\n",
      "['96.mp4', '82.mp4', '154.mp4', '140.mp4', '7.mp4', '55.mp4', '356.mp4', '342.mp4', '395.mp4', '394.mp4', '343.mp4', '431.mp4', '357.mp4', '419.mp4', '6.mp4', '141.mp4', '221.mp4', '81.mp4', '95.mp4', '143.mp4', '157.mp4', '56.mp4', '369.mp4', '427.mp4', '355.mp4', '433.mp4', '382.mp4', '397.mp4', '383.mp4', '432.mp4', '426.mp4', '340.mp4', '368.mp4', '5.mp4', '156.mp4', '142.mp4', '94.mp4', '80.mp4', '146.mp4', '53.mp4', '344.mp4', '422.mp4', '.DS_Store', '350.mp4', '387.mp4', '345.mp4', '52.mp4', '153.mp4', '147.mp4', '233.mp4', '93.mp4', '87.mp4', '50.mp4', '421.mp4', '384.mp4', '385.mp4', '420.mp4', '434.mp4', '79.mp4', '86.mp4', '232.mp4', '255.mp4', '282.mp4', '137.mp4', '36.mp4', '335.mp4', '447.mp4', '321.mp4', '446.mp4', '320.mp4', '334.mp4', '37.mp4', '136.mp4', '297.mp4', '283.mp4', '254.mp4', '242.mp4', '108.mp4', '134.mp4', '322.mp4', '323.mp4', '135.mp4', '109.mp4', '294.mp4', '243.mp4', '253.mp4', '290.mp4', '284.mp4', '131.mp4', '119.mp4', '18.mp4', '327.mp4', '333.mp4', '332.mp4', '326.mp4', '25.mp4', '19.mp4', '118.mp4', '130.mp4', '252.mp4', '244.mp4', '293.mp4', '132.mp4', '27.mp4', '26.mp4', '245.mp4', '116.mp4', '17.mp4', '328.mp4', '314.mp4', '315.mp4', '329.mp4', '16.mp4', '117.mp4', '277.mp4', '263.mp4', '288.mp4', '129.mp4', '101.mp4', '28.mp4', '100.mp4', '289.mp4', '262.mp4', '276.mp4', '299.mp4', '39.mp4', '11.mp4', '448.mp4', '449.mp4', '10.mp4', '38.mp4', '298.mp4', '265.mp4', '107.mp4', '12.mp4', '339.mp4', '13.mp4', '106.mp4', '112.mp4', '264.mp4', '149.mp4', '161.mp4', '60.mp4', '405.mp4', '388.mp4', '389.mp4', '362.mp4', '404.mp4', '410.mp4', '61.mp4', '160.mp4', '148.mp4', '162.mp4', '88.mp4', '63.mp4', '348.mp4', '406.mp4', '360.mp4', '407.mp4', '361.mp4', '349.mp4', '62.mp4', '89.mp4', '99.mp4', '167.mp4', '359.mp4', '98.mp4', '166.mp4', '164.mp4', '400.mp4', '366.mp4', '428.mp4', '399.mp4', '398.mp4', '367.mp4', '159.mp4', '165.mp4']\n",
      "adding file\n",
      "Moviepy - Building video behavior_data/control/452.mp4.\n",
      "MoviePy - Writing audio in 452TEMP_MPY_wvf_snd.mp4\n",
      "MoviePy - Done.\n",
      "Moviepy - Writing video behavior_data/control/452.mp4\n",
      "\n"
     ]
    },
    {
     "name": "stderr",
     "output_type": "stream",
     "text": [
      "chunk:   0%|          | 0/89 [00:00<?, ?it/s, now=None]        "
     ]
    },
    {
     "name": "stdout",
     "output_type": "stream",
     "text": [
      "Moviepy - Done !\n",
      "Moviepy - video ready behavior_data/control/452.mp4\n",
      "['96.mp4', '82.mp4', '154.mp4', '140.mp4', '7.mp4', '55.mp4', '356.mp4', '342.mp4', '395.mp4', '394.mp4', '343.mp4', '431.mp4', '357.mp4', '419.mp4', '6.mp4', '141.mp4', '221.mp4', '81.mp4', '95.mp4', '143.mp4', '157.mp4', '56.mp4', '369.mp4', '427.mp4', '355.mp4', '433.mp4', '382.mp4', '397.mp4', '383.mp4', '432.mp4', '426.mp4', '340.mp4', '368.mp4', '5.mp4', '156.mp4', '142.mp4', '94.mp4', '80.mp4', '146.mp4', '53.mp4', '344.mp4', '422.mp4', '.DS_Store', '350.mp4', '387.mp4', '345.mp4', '52.mp4', '153.mp4', '147.mp4', '233.mp4', '93.mp4', '87.mp4', '50.mp4', '421.mp4', '384.mp4', '385.mp4', '420.mp4', '434.mp4', '79.mp4', '86.mp4', '232.mp4', '255.mp4', '282.mp4', '137.mp4', '36.mp4', '335.mp4', '447.mp4', '321.mp4', '446.mp4', '320.mp4', '334.mp4', '452.mp4', '37.mp4', '136.mp4', '297.mp4', '283.mp4', '254.mp4', '242.mp4', '108.mp4', '134.mp4', '322.mp4', '323.mp4', '135.mp4', '109.mp4', '294.mp4', '243.mp4', '253.mp4', '290.mp4', '284.mp4', '131.mp4', '119.mp4', '18.mp4', '327.mp4', '333.mp4', '332.mp4', '326.mp4', '25.mp4', '19.mp4', '118.mp4', '130.mp4', '252.mp4', '244.mp4', '293.mp4', '132.mp4', '27.mp4', '26.mp4', '245.mp4', '116.mp4', '17.mp4', '328.mp4', '314.mp4', '315.mp4', '329.mp4', '16.mp4', '117.mp4', '277.mp4', '263.mp4', '288.mp4', '129.mp4', '101.mp4', '28.mp4', '100.mp4', '289.mp4', '262.mp4', '276.mp4', '299.mp4', '39.mp4', '11.mp4', '448.mp4', '449.mp4', '10.mp4', '38.mp4', '298.mp4', '265.mp4', '107.mp4', '12.mp4', '339.mp4', '13.mp4', '106.mp4', '112.mp4', '264.mp4', '149.mp4', '161.mp4', '60.mp4', '405.mp4', '388.mp4', '389.mp4', '362.mp4', '404.mp4', '410.mp4', '61.mp4', '160.mp4', '148.mp4', '162.mp4', '88.mp4', '63.mp4', '348.mp4', '406.mp4', '360.mp4', '407.mp4', '361.mp4', '349.mp4', '62.mp4', '89.mp4', '99.mp4', '167.mp4', '359.mp4', '98.mp4', '166.mp4', '164.mp4', '400.mp4', '366.mp4', '428.mp4', '399.mp4', '398.mp4', '367.mp4', '159.mp4', '165.mp4']\n",
      "adding file\n",
      "Moviepy - Building video behavior_data/control/453.mp4.\n",
      "MoviePy - Writing audio in 453TEMP_MPY_wvf_snd.mp4\n"
     ]
    },
    {
     "name": "stderr",
     "output_type": "stream",
     "text": [
      "                                                              "
     ]
    },
    {
     "name": "stdout",
     "output_type": "stream",
     "text": [
      "MoviePy - Done.\n",
      "Moviepy - Writing video behavior_data/control/453.mp4\n",
      "\n"
     ]
    },
    {
     "name": "stderr",
     "output_type": "stream",
     "text": [
      "chunk:   0%|          | 0/45 [00:00<?, ?it/s, now=None]"
     ]
    },
    {
     "name": "stdout",
     "output_type": "stream",
     "text": [
      "Moviepy - Done !\n",
      "Moviepy - video ready behavior_data/control/453.mp4\n",
      "['96.mp4', '82.mp4', '154.mp4', '140.mp4', '7.mp4', '55.mp4', '356.mp4', '342.mp4', '395.mp4', '394.mp4', '343.mp4', '431.mp4', '357.mp4', '419.mp4', '6.mp4', '141.mp4', '221.mp4', '81.mp4', '95.mp4', '143.mp4', '157.mp4', '56.mp4', '369.mp4', '427.mp4', '355.mp4', '433.mp4', '382.mp4', '397.mp4', '383.mp4', '432.mp4', '426.mp4', '340.mp4', '368.mp4', '5.mp4', '156.mp4', '142.mp4', '94.mp4', '80.mp4', '146.mp4', '53.mp4', '344.mp4', '422.mp4', '.DS_Store', '350.mp4', '387.mp4', '345.mp4', '52.mp4', '153.mp4', '147.mp4', '233.mp4', '93.mp4', '87.mp4', '50.mp4', '421.mp4', '384.mp4', '385.mp4', '420.mp4', '434.mp4', '79.mp4', '86.mp4', '232.mp4', '255.mp4', '282.mp4', '137.mp4', '36.mp4', '335.mp4', '453.mp4', '447.mp4', '321.mp4', '446.mp4', '320.mp4', '334.mp4', '452.mp4', '37.mp4', '136.mp4', '297.mp4', '283.mp4', '254.mp4', '242.mp4', '108.mp4', '134.mp4', '322.mp4', '323.mp4', '135.mp4', '109.mp4', '294.mp4', '243.mp4', '253.mp4', '290.mp4', '284.mp4', '131.mp4', '119.mp4', '18.mp4', '327.mp4', '333.mp4', '332.mp4', '326.mp4', '25.mp4', '19.mp4', '118.mp4', '130.mp4', '252.mp4', '244.mp4', '293.mp4', '132.mp4', '27.mp4', '26.mp4', '245.mp4', '116.mp4', '17.mp4', '328.mp4', '314.mp4', '315.mp4', '329.mp4', '16.mp4', '117.mp4', '277.mp4', '263.mp4', '288.mp4', '129.mp4', '101.mp4', '28.mp4', '100.mp4', '289.mp4', '262.mp4', '276.mp4', '299.mp4', '39.mp4', '11.mp4', '448.mp4', '449.mp4', '10.mp4', '38.mp4', '298.mp4', '265.mp4', '107.mp4', '12.mp4', '339.mp4', '13.mp4', '106.mp4', '112.mp4', '264.mp4', '149.mp4', '161.mp4', '60.mp4', '405.mp4', '388.mp4', '389.mp4', '362.mp4', '404.mp4', '410.mp4', '61.mp4', '160.mp4', '148.mp4', '162.mp4', '88.mp4', '63.mp4', '348.mp4', '406.mp4', '360.mp4', '407.mp4', '361.mp4', '349.mp4', '62.mp4', '89.mp4', '99.mp4', '167.mp4', '359.mp4', '98.mp4', '166.mp4', '164.mp4', '400.mp4', '366.mp4', '428.mp4', '399.mp4', '398.mp4', '367.mp4', '159.mp4', '165.mp4']\n",
      "adding file\n",
      "Moviepy - Building video behavior_data/control/454.mp4.\n",
      "MoviePy - Writing audio in 454TEMP_MPY_wvf_snd.mp4\n"
     ]
    },
    {
     "name": "stderr",
     "output_type": "stream",
     "text": [
      "                                                       \r"
     ]
    },
    {
     "name": "stdout",
     "output_type": "stream",
     "text": [
      "MoviePy - Done.\n",
      "Moviepy - Writing video behavior_data/control/454.mp4\n",
      "\n",
      "Moviepy - Done !\n",
      "Moviepy - video ready behavior_data/control/454.mp4\n",
      "staring the 66th file\n",
      "http://www.youtube.com/watch?v=5WTHMIJ_61I\n",
      "This is url:  http://www.youtube.com/watch?v=5WTHMIJ_61I\n"
     ]
    },
    {
     "name": "stderr",
     "output_type": "stream",
     "text": [
      "t:   0%|          | 0/150 [00:00<?, ?it/s, now=None]    "
     ]
    },
    {
     "name": "stdout",
     "output_type": "stream",
     "text": [
      "['41.mp4', '418.mp4', '430.mp4', '424.mp4', '425.mp4', '40.mp4', '54.mp4', '155.mp4', '42.mp4', '396.mp4', '43.mp4', '90.mp4', '47.mp4', '1.mp4', '.DS_Store', '393.mp4', '392.mp4', '351.mp4', '423.mp4', '0.mp4', '46.mp4', '91.mp4', '151.mp4', '2.mp4', '44.mp4', '353.mp4', '409.mp4', '390.mp4', '391.mp4', '408.mp4', '346.mp4', '352.mp4', '45.mp4', '3.mp4', '92.mp4', '150.mp4', '120.mp4', '450.mp4', '451.mp4', '121.mp4', '139.mp4', '48.mp4', '411.mp4', '377.mp4', '376.mp4', '49.mp4', '374.mp4', '412.mp4', '375.mp4', '413.mp4', '403.mp4', '417.mp4', '371.mp4', '416.mp4', '370.mp4', '402.mp4', '372.mp4', '414.mp4', '429.mp4', '401.mp4', '373.mp4', '415.mp4']\n",
      "adding file\n",
      "Moviepy - Building video behavior_data/headbanging/455.mp4.\n",
      "MoviePy - Writing audio in 455TEMP_MPY_wvf_snd.mp4\n",
      "MoviePy - Done.\n",
      "Moviepy - Writing video behavior_data/headbanging/455.mp4\n",
      "\n"
     ]
    },
    {
     "name": "stderr",
     "output_type": "stream",
     "text": [
      "chunk:   0%|          | 0/89 [00:00<?, ?it/s, now=None]         "
     ]
    },
    {
     "name": "stdout",
     "output_type": "stream",
     "text": [
      "Moviepy - Done !\n",
      "Moviepy - video ready behavior_data/headbanging/455.mp4\n",
      "['41.mp4', '418.mp4', '430.mp4', '424.mp4', '425.mp4', '40.mp4', '54.mp4', '155.mp4', '42.mp4', '396.mp4', '43.mp4', '90.mp4', '47.mp4', '1.mp4', '.DS_Store', '393.mp4', '392.mp4', '351.mp4', '423.mp4', '0.mp4', '46.mp4', '91.mp4', '151.mp4', '2.mp4', '44.mp4', '353.mp4', '409.mp4', '390.mp4', '391.mp4', '408.mp4', '346.mp4', '352.mp4', '45.mp4', '3.mp4', '92.mp4', '150.mp4', '120.mp4', '450.mp4', '451.mp4', '121.mp4', '455.mp4', '139.mp4', '48.mp4', '411.mp4', '377.mp4', '376.mp4', '49.mp4', '374.mp4', '412.mp4', '375.mp4', '413.mp4', '403.mp4', '417.mp4', '371.mp4', '416.mp4', '370.mp4', '402.mp4', '372.mp4', '414.mp4', '429.mp4', '401.mp4', '373.mp4', '415.mp4']\n",
      "adding file\n",
      "Moviepy - Building video behavior_data/headbanging/456.mp4.\n",
      "MoviePy - Writing audio in 456TEMP_MPY_wvf_snd.mp4\n"
     ]
    },
    {
     "name": "stderr",
     "output_type": "stream",
     "text": [
      "                                                                \r"
     ]
    },
    {
     "name": "stdout",
     "output_type": "stream",
     "text": [
      "MoviePy - Done.\n",
      "Moviepy - Writing video behavior_data/headbanging/456.mp4\n",
      "\n",
      "Moviepy - Done !\n",
      "Moviepy - video ready behavior_data/headbanging/456.mp4\n"
     ]
    },
    {
     "name": "stderr",
     "output_type": "stream",
     "text": [
      "                                                       "
     ]
    },
    {
     "name": "stdout",
     "output_type": "stream",
     "text": [
      "['96.mp4', '82.mp4', '154.mp4', '140.mp4', '7.mp4', '55.mp4', '356.mp4', '342.mp4', '395.mp4', '394.mp4', '343.mp4', '431.mp4', '357.mp4', '419.mp4', '6.mp4', '141.mp4', '221.mp4', '81.mp4', '95.mp4', '143.mp4', '157.mp4', '56.mp4', '369.mp4', '427.mp4', '355.mp4', '433.mp4', '382.mp4', '397.mp4', '383.mp4', '432.mp4', '426.mp4', '340.mp4', '368.mp4', '5.mp4', '156.mp4', '142.mp4', '94.mp4', '80.mp4', '146.mp4', '53.mp4', '344.mp4', '422.mp4', '.DS_Store', '350.mp4', '387.mp4', '345.mp4', '52.mp4', '153.mp4', '147.mp4', '233.mp4', '93.mp4', '87.mp4', '50.mp4', '421.mp4', '384.mp4', '385.mp4', '420.mp4', '434.mp4', '79.mp4', '86.mp4', '232.mp4', '255.mp4', '282.mp4', '137.mp4', '36.mp4', '335.mp4', '453.mp4', '447.mp4', '321.mp4', '446.mp4', '320.mp4', '334.mp4', '452.mp4', '37.mp4', '136.mp4', '297.mp4', '283.mp4', '254.mp4', '242.mp4', '108.mp4', '134.mp4', '322.mp4', '323.mp4', '135.mp4', '109.mp4', '294.mp4', '243.mp4', '253.mp4', '290.mp4', '284.mp4', '131.mp4', '119.mp4', '18.mp4', '327.mp4', '333.mp4', '332.mp4', '454.mp4', '326.mp4', '25.mp4', '19.mp4', '118.mp4', '130.mp4', '252.mp4', '244.mp4', '293.mp4', '132.mp4', '27.mp4', '26.mp4', '245.mp4', '116.mp4', '17.mp4', '328.mp4', '314.mp4', '315.mp4', '329.mp4', '16.mp4', '117.mp4', '277.mp4', '263.mp4', '288.mp4', '129.mp4', '101.mp4', '28.mp4', '100.mp4', '289.mp4', '262.mp4', '276.mp4', '299.mp4', '39.mp4', '11.mp4', '448.mp4', '449.mp4', '10.mp4', '38.mp4', '298.mp4', '265.mp4', '107.mp4', '12.mp4', '339.mp4', '13.mp4', '106.mp4', '112.mp4', '264.mp4', '149.mp4', '161.mp4', '60.mp4', '405.mp4', '388.mp4', '389.mp4', '362.mp4', '404.mp4', '410.mp4', '61.mp4', '160.mp4', '148.mp4', '162.mp4', '88.mp4', '63.mp4', '348.mp4', '406.mp4', '360.mp4', '407.mp4', '361.mp4', '349.mp4', '62.mp4', '89.mp4', '99.mp4', '167.mp4', '359.mp4', '98.mp4', '166.mp4', '164.mp4', '400.mp4', '366.mp4', '428.mp4', '399.mp4', '398.mp4', '367.mp4', '159.mp4', '165.mp4']\n",
      "adding file\n",
      "Moviepy - Building video behavior_data/control/457.mp4.\n",
      "MoviePy - Writing audio in 457TEMP_MPY_wvf_snd.mp4\n",
      "MoviePy - Done.\n",
      "Moviepy - Writing video behavior_data/control/457.mp4\n",
      "\n",
      "Moviepy - Done !\n"
     ]
    },
    {
     "name": "stderr",
     "output_type": "stream",
     "text": [
      "chunk:   0%|          | 0/155 [00:00<?, ?it/s, now=None]"
     ]
    },
    {
     "name": "stdout",
     "output_type": "stream",
     "text": [
      "Moviepy - video ready behavior_data/control/457.mp4\n",
      "['96.mp4', '82.mp4', '154.mp4', '140.mp4', '7.mp4', '55.mp4', '356.mp4', '342.mp4', '395.mp4', '394.mp4', '343.mp4', '431.mp4', '357.mp4', '419.mp4', '6.mp4', '141.mp4', '221.mp4', '81.mp4', '95.mp4', '143.mp4', '157.mp4', '56.mp4', '369.mp4', '427.mp4', '355.mp4', '433.mp4', '382.mp4', '397.mp4', '383.mp4', '432.mp4', '426.mp4', '340.mp4', '368.mp4', '5.mp4', '156.mp4', '142.mp4', '94.mp4', '80.mp4', '146.mp4', '53.mp4', '344.mp4', '422.mp4', '.DS_Store', '350.mp4', '387.mp4', '345.mp4', '52.mp4', '153.mp4', '147.mp4', '233.mp4', '93.mp4', '87.mp4', '50.mp4', '421.mp4', '384.mp4', '385.mp4', '420.mp4', '434.mp4', '79.mp4', '86.mp4', '232.mp4', '255.mp4', '282.mp4', '137.mp4', '36.mp4', '335.mp4', '453.mp4', '447.mp4', '321.mp4', '446.mp4', '320.mp4', '334.mp4', '452.mp4', '37.mp4', '136.mp4', '297.mp4', '283.mp4', '254.mp4', '242.mp4', '108.mp4', '134.mp4', '322.mp4', '323.mp4', '135.mp4', '109.mp4', '294.mp4', '243.mp4', '253.mp4', '290.mp4', '284.mp4', '131.mp4', '119.mp4', '18.mp4', '327.mp4', '333.mp4', '332.mp4', '454.mp4', '326.mp4', '25.mp4', '19.mp4', '118.mp4', '130.mp4', '252.mp4', '244.mp4', '293.mp4', '132.mp4', '27.mp4', '457.mp4', '26.mp4', '245.mp4', '116.mp4', '17.mp4', '328.mp4', '314.mp4', '315.mp4', '329.mp4', '16.mp4', '117.mp4', '277.mp4', '263.mp4', '288.mp4', '129.mp4', '101.mp4', '28.mp4', '100.mp4', '289.mp4', '262.mp4', '276.mp4', '299.mp4', '39.mp4', '11.mp4', '448.mp4', '449.mp4', '10.mp4', '38.mp4', '298.mp4', '265.mp4', '107.mp4', '12.mp4', '339.mp4', '13.mp4', '106.mp4', '112.mp4', '264.mp4', '149.mp4', '161.mp4', '60.mp4', '405.mp4', '388.mp4', '389.mp4', '362.mp4', '404.mp4', '410.mp4', '61.mp4', '160.mp4', '148.mp4', '162.mp4', '88.mp4', '63.mp4', '348.mp4', '406.mp4', '360.mp4', '407.mp4', '361.mp4', '349.mp4', '62.mp4', '89.mp4', '99.mp4', '167.mp4', '359.mp4', '98.mp4', '166.mp4', '164.mp4', '400.mp4', '366.mp4', '428.mp4', '399.mp4', '398.mp4', '367.mp4', '159.mp4', '165.mp4']\n",
      "adding file\n",
      "Moviepy - Building video behavior_data/control/458.mp4.\n",
      "MoviePy - Writing audio in 458TEMP_MPY_wvf_snd.mp4\n"
     ]
    },
    {
     "name": "stderr",
     "output_type": "stream",
     "text": [
      "t:  53%|█████▎    | 112/210 [00:00<00:00, 1119.65it/s, now=None]"
     ]
    },
    {
     "name": "stdout",
     "output_type": "stream",
     "text": [
      "MoviePy - Done.\n",
      "Moviepy - Writing video behavior_data/control/458.mp4\n",
      "\n"
     ]
    },
    {
     "name": "stderr",
     "output_type": "stream",
     "text": [
      "chunk:   0%|          | 0/155 [00:00<?, ?it/s, now=None]        "
     ]
    },
    {
     "name": "stdout",
     "output_type": "stream",
     "text": [
      "Moviepy - Done !\n",
      "Moviepy - video ready behavior_data/control/458.mp4\n",
      "['96.mp4', '82.mp4', '154.mp4', '140.mp4', '7.mp4', '55.mp4', '356.mp4', '342.mp4', '395.mp4', '394.mp4', '343.mp4', '431.mp4', '357.mp4', '419.mp4', '6.mp4', '141.mp4', '221.mp4', '81.mp4', '95.mp4', '143.mp4', '157.mp4', '56.mp4', '369.mp4', '427.mp4', '355.mp4', '433.mp4', '382.mp4', '397.mp4', '383.mp4', '432.mp4', '426.mp4', '340.mp4', '368.mp4', '5.mp4', '156.mp4', '142.mp4', '94.mp4', '80.mp4', '146.mp4', '53.mp4', '344.mp4', '422.mp4', '.DS_Store', '350.mp4', '387.mp4', '345.mp4', '52.mp4', '153.mp4', '147.mp4', '233.mp4', '93.mp4', '87.mp4', '50.mp4', '421.mp4', '384.mp4', '385.mp4', '420.mp4', '434.mp4', '79.mp4', '86.mp4', '232.mp4', '255.mp4', '282.mp4', '137.mp4', '36.mp4', '335.mp4', '453.mp4', '447.mp4', '321.mp4', '446.mp4', '320.mp4', '334.mp4', '452.mp4', '37.mp4', '136.mp4', '297.mp4', '283.mp4', '254.mp4', '242.mp4', '108.mp4', '134.mp4', '322.mp4', '323.mp4', '135.mp4', '109.mp4', '294.mp4', '243.mp4', '253.mp4', '290.mp4', '284.mp4', '131.mp4', '119.mp4', '18.mp4', '327.mp4', '333.mp4', '332.mp4', '454.mp4', '326.mp4', '25.mp4', '19.mp4', '118.mp4', '130.mp4', '252.mp4', '244.mp4', '293.mp4', '132.mp4', '27.mp4', '457.mp4', '26.mp4', '245.mp4', '116.mp4', '17.mp4', '328.mp4', '314.mp4', '315.mp4', '329.mp4', '16.mp4', '117.mp4', '277.mp4', '263.mp4', '288.mp4', '129.mp4', '101.mp4', '28.mp4', '458.mp4', '100.mp4', '289.mp4', '262.mp4', '276.mp4', '299.mp4', '39.mp4', '11.mp4', '448.mp4', '449.mp4', '10.mp4', '38.mp4', '298.mp4', '265.mp4', '107.mp4', '12.mp4', '339.mp4', '13.mp4', '106.mp4', '112.mp4', '264.mp4', '149.mp4', '161.mp4', '60.mp4', '405.mp4', '388.mp4', '389.mp4', '362.mp4', '404.mp4', '410.mp4', '61.mp4', '160.mp4', '148.mp4', '162.mp4', '88.mp4', '63.mp4', '348.mp4', '406.mp4', '360.mp4', '407.mp4', '361.mp4', '349.mp4', '62.mp4', '89.mp4', '99.mp4', '167.mp4', '359.mp4', '98.mp4', '166.mp4', '164.mp4', '400.mp4', '366.mp4', '428.mp4', '399.mp4', '398.mp4', '367.mp4', '159.mp4', '165.mp4']\n",
      "adding file\n",
      "Moviepy - Building video behavior_data/control/459.mp4.\n",
      "MoviePy - Writing audio in 459TEMP_MPY_wvf_snd.mp4\n"
     ]
    },
    {
     "name": "stderr",
     "output_type": "stream",
     "text": [
      "                                                                \r"
     ]
    },
    {
     "name": "stdout",
     "output_type": "stream",
     "text": [
      "MoviePy - Done.\n",
      "Moviepy - Writing video behavior_data/control/459.mp4\n",
      "\n"
     ]
    },
    {
     "name": "stderr",
     "output_type": "stream",
     "text": [
      "\r",
      "chunk:   0%|          | 0/155 [00:00<?, ?it/s, now=None]"
     ]
    },
    {
     "name": "stdout",
     "output_type": "stream",
     "text": [
      "Moviepy - Done !\n",
      "Moviepy - video ready behavior_data/control/459.mp4\n",
      "['96.mp4', '82.mp4', '154.mp4', '140.mp4', '7.mp4', '55.mp4', '356.mp4', '342.mp4', '395.mp4', '394.mp4', '343.mp4', '431.mp4', '357.mp4', '419.mp4', '6.mp4', '141.mp4', '221.mp4', '81.mp4', '95.mp4', '143.mp4', '157.mp4', '56.mp4', '369.mp4', '427.mp4', '355.mp4', '433.mp4', '382.mp4', '397.mp4', '383.mp4', '432.mp4', '426.mp4', '340.mp4', '368.mp4', '5.mp4', '156.mp4', '142.mp4', '94.mp4', '80.mp4', '146.mp4', '53.mp4', '344.mp4', '422.mp4', '.DS_Store', '350.mp4', '387.mp4', '345.mp4', '52.mp4', '153.mp4', '147.mp4', '233.mp4', '93.mp4', '87.mp4', '50.mp4', '421.mp4', '384.mp4', '385.mp4', '420.mp4', '434.mp4', '79.mp4', '86.mp4', '232.mp4', '255.mp4', '282.mp4', '137.mp4', '36.mp4', '335.mp4', '453.mp4', '447.mp4', '321.mp4', '446.mp4', '320.mp4', '334.mp4', '452.mp4', '37.mp4', '136.mp4', '297.mp4', '283.mp4', '254.mp4', '242.mp4', '108.mp4', '134.mp4', '322.mp4', '323.mp4', '135.mp4', '109.mp4', '294.mp4', '243.mp4', '253.mp4', '290.mp4', '284.mp4', '131.mp4', '119.mp4', '18.mp4', '327.mp4', '333.mp4', '332.mp4', '454.mp4', '326.mp4', '25.mp4', '19.mp4', '118.mp4', '130.mp4', '252.mp4', '244.mp4', '293.mp4', '132.mp4', '27.mp4', '457.mp4', '26.mp4', '245.mp4', '116.mp4', '17.mp4', '328.mp4', '314.mp4', '315.mp4', '329.mp4', '16.mp4', '117.mp4', '277.mp4', '263.mp4', '288.mp4', '129.mp4', '101.mp4', '28.mp4', '459.mp4', '458.mp4', '100.mp4', '289.mp4', '262.mp4', '276.mp4', '299.mp4', '39.mp4', '11.mp4', '448.mp4', '449.mp4', '10.mp4', '38.mp4', '298.mp4', '265.mp4', '107.mp4', '12.mp4', '339.mp4', '13.mp4', '106.mp4', '112.mp4', '264.mp4', '149.mp4', '161.mp4', '60.mp4', '405.mp4', '388.mp4', '389.mp4', '362.mp4', '404.mp4', '410.mp4', '61.mp4', '160.mp4', '148.mp4', '162.mp4', '88.mp4', '63.mp4', '348.mp4', '406.mp4', '360.mp4', '407.mp4', '361.mp4', '349.mp4', '62.mp4', '89.mp4', '99.mp4', '167.mp4', '359.mp4', '98.mp4', '166.mp4', '164.mp4', '400.mp4', '366.mp4', '428.mp4', '399.mp4', '398.mp4', '367.mp4', '159.mp4', '165.mp4']\n",
      "adding file\n",
      "Moviepy - Building video behavior_data/control/460.mp4.\n",
      "MoviePy - Writing audio in 460TEMP_MPY_wvf_snd.mp4\n"
     ]
    },
    {
     "name": "stderr",
     "output_type": "stream",
     "text": [
      "                                                                \r"
     ]
    },
    {
     "name": "stdout",
     "output_type": "stream",
     "text": [
      "MoviePy - Done.\n",
      "Moviepy - Writing video behavior_data/control/460.mp4\n",
      "\n",
      "Moviepy - Done !\n",
      "Moviepy - video ready behavior_data/control/460.mp4\n",
      "staring the 67th file\n",
      "http://www.youtube.com/watch?v=pzPhXbGEpSo\n",
      "This is url:  http://www.youtube.com/watch?v=pzPhXbGEpSo\n"
     ]
    },
    {
     "name": "stderr",
     "output_type": "stream",
     "text": [
      "\r",
      "chunk:   0%|          | 0/155 [00:00<?, ?it/s, now=None]"
     ]
    },
    {
     "name": "stdout",
     "output_type": "stream",
     "text": [
      "['41.mp4', '418.mp4', '430.mp4', '424.mp4', '425.mp4', '40.mp4', '54.mp4', '155.mp4', '42.mp4', '396.mp4', '43.mp4', '90.mp4', '47.mp4', '1.mp4', '.DS_Store', '393.mp4', '392.mp4', '351.mp4', '423.mp4', '0.mp4', '46.mp4', '91.mp4', '151.mp4', '2.mp4', '44.mp4', '353.mp4', '409.mp4', '390.mp4', '391.mp4', '408.mp4', '346.mp4', '352.mp4', '45.mp4', '3.mp4', '92.mp4', '150.mp4', '120.mp4', '450.mp4', '451.mp4', '121.mp4', '455.mp4', '456.mp4', '139.mp4', '48.mp4', '411.mp4', '377.mp4', '376.mp4', '49.mp4', '374.mp4', '412.mp4', '375.mp4', '413.mp4', '403.mp4', '417.mp4', '371.mp4', '416.mp4', '370.mp4', '402.mp4', '372.mp4', '414.mp4', '429.mp4', '401.mp4', '373.mp4', '415.mp4']\n",
      "adding file\n",
      "Moviepy - Building video behavior_data/headbanging/461.mp4.\n",
      "MoviePy - Writing audio in 461TEMP_MPY_wvf_snd.mp4\n"
     ]
    },
    {
     "name": "stderr",
     "output_type": "stream",
     "text": [
      "t:  34%|███▍      | 71/210 [00:00<00:00, 700.16it/s, now=None]"
     ]
    },
    {
     "name": "stdout",
     "output_type": "stream",
     "text": [
      "MoviePy - Done.\n",
      "Moviepy - Writing video behavior_data/headbanging/461.mp4\n",
      "\n"
     ]
    },
    {
     "name": "stderr",
     "output_type": "stream",
     "text": [
      "                                                               \r"
     ]
    },
    {
     "name": "stdout",
     "output_type": "stream",
     "text": [
      "Moviepy - Done !\n",
      "Moviepy - video ready behavior_data/headbanging/461.mp4\n",
      "['41.mp4', '418.mp4', '430.mp4', '424.mp4', '425.mp4', '40.mp4', '54.mp4', '155.mp4', '42.mp4', '396.mp4', '43.mp4', '90.mp4', '47.mp4', '1.mp4', '.DS_Store', '393.mp4', '392.mp4', '351.mp4', '423.mp4', '0.mp4', '46.mp4', '91.mp4', '151.mp4', '2.mp4', '44.mp4', '353.mp4', '409.mp4', '390.mp4', '391.mp4', '408.mp4', '346.mp4', '352.mp4', '45.mp4', '3.mp4', '92.mp4', '150.mp4', '120.mp4', '450.mp4', '451.mp4', '121.mp4', '455.mp4', '456.mp4', '461.mp4', '139.mp4', '48.mp4', '411.mp4', '377.mp4', '376.mp4', '49.mp4', '374.mp4', '412.mp4', '375.mp4', '413.mp4', '403.mp4', '417.mp4', '371.mp4', '416.mp4', '370.mp4', '402.mp4', '372.mp4', '414.mp4', '429.mp4', '401.mp4', '373.mp4', '415.mp4']\n",
      "adding file\n",
      "Moviepy - Building video behavior_data/headbanging/462.mp4.\n",
      "MoviePy - Writing audio in 462TEMP_MPY_wvf_snd.mp4\n"
     ]
    },
    {
     "name": "stderr",
     "output_type": "stream",
     "text": [
      "t:  39%|███▉      | 71/180 [00:00<00:00, 704.81it/s, now=None]"
     ]
    },
    {
     "name": "stdout",
     "output_type": "stream",
     "text": [
      "MoviePy - Done.\n",
      "Moviepy - Writing video behavior_data/headbanging/462.mp4\n",
      "\n"
     ]
    },
    {
     "name": "stderr",
     "output_type": "stream",
     "text": [
      "chunk:   0%|          | 0/111 [00:00<?, ?it/s, now=None]       "
     ]
    },
    {
     "name": "stdout",
     "output_type": "stream",
     "text": [
      "Moviepy - Done !\n",
      "Moviepy - video ready behavior_data/headbanging/462.mp4\n",
      "['41.mp4', '418.mp4', '430.mp4', '424.mp4', '425.mp4', '40.mp4', '54.mp4', '155.mp4', '42.mp4', '396.mp4', '43.mp4', '90.mp4', '47.mp4', '1.mp4', '.DS_Store', '393.mp4', '392.mp4', '351.mp4', '423.mp4', '0.mp4', '46.mp4', '91.mp4', '151.mp4', '2.mp4', '44.mp4', '353.mp4', '409.mp4', '390.mp4', '391.mp4', '408.mp4', '346.mp4', '352.mp4', '45.mp4', '3.mp4', '92.mp4', '150.mp4', '120.mp4', '450.mp4', '451.mp4', '121.mp4', '455.mp4', '456.mp4', '461.mp4', '139.mp4', '462.mp4', '48.mp4', '411.mp4', '377.mp4', '376.mp4', '49.mp4', '374.mp4', '412.mp4', '375.mp4', '413.mp4', '403.mp4', '417.mp4', '371.mp4', '416.mp4', '370.mp4', '402.mp4', '372.mp4', '414.mp4', '429.mp4', '401.mp4', '373.mp4', '415.mp4']\n",
      "adding file\n",
      "Moviepy - Building video behavior_data/headbanging/463.mp4.\n",
      "MoviePy - Writing audio in 463TEMP_MPY_wvf_snd.mp4\n"
     ]
    },
    {
     "name": "stderr",
     "output_type": "stream",
     "text": [
      "t:  45%|████▌     | 68/150 [00:00<00:00, 674.75it/s, now=None]"
     ]
    },
    {
     "name": "stdout",
     "output_type": "stream",
     "text": [
      "MoviePy - Done.\n",
      "Moviepy - Writing video behavior_data/headbanging/463.mp4\n",
      "\n"
     ]
    },
    {
     "name": "stderr",
     "output_type": "stream",
     "text": [
      "chunk:   0%|          | 0/155 [00:00<?, ?it/s, now=None]       "
     ]
    },
    {
     "name": "stdout",
     "output_type": "stream",
     "text": [
      "Moviepy - Done !\n",
      "Moviepy - video ready behavior_data/headbanging/463.mp4\n",
      "['96.mp4', '82.mp4', '154.mp4', '140.mp4', '7.mp4', '55.mp4', '356.mp4', '342.mp4', '395.mp4', '394.mp4', '343.mp4', '431.mp4', '357.mp4', '419.mp4', '6.mp4', '141.mp4', '221.mp4', '81.mp4', '95.mp4', '143.mp4', '157.mp4', '56.mp4', '369.mp4', '427.mp4', '355.mp4', '433.mp4', '382.mp4', '397.mp4', '383.mp4', '432.mp4', '426.mp4', '340.mp4', '368.mp4', '5.mp4', '156.mp4', '142.mp4', '94.mp4', '80.mp4', '146.mp4', '53.mp4', '344.mp4', '422.mp4', '.DS_Store', '350.mp4', '387.mp4', '345.mp4', '52.mp4', '153.mp4', '147.mp4', '233.mp4', '93.mp4', '87.mp4', '50.mp4', '421.mp4', '384.mp4', '385.mp4', '420.mp4', '434.mp4', '79.mp4', '86.mp4', '232.mp4', '255.mp4', '282.mp4', '137.mp4', '36.mp4', '335.mp4', '453.mp4', '447.mp4', '321.mp4', '446.mp4', '320.mp4', '334.mp4', '452.mp4', '37.mp4', '136.mp4', '297.mp4', '283.mp4', '254.mp4', '242.mp4', '108.mp4', '134.mp4', '322.mp4', '323.mp4', '135.mp4', '109.mp4', '294.mp4', '243.mp4', '253.mp4', '290.mp4', '284.mp4', '131.mp4', '119.mp4', '18.mp4', '327.mp4', '333.mp4', '332.mp4', '454.mp4', '326.mp4', '25.mp4', '19.mp4', '118.mp4', '130.mp4', '252.mp4', '244.mp4', '293.mp4', '132.mp4', '27.mp4', '457.mp4', '26.mp4', '245.mp4', '116.mp4', '17.mp4', '328.mp4', '314.mp4', '315.mp4', '329.mp4', '16.mp4', '117.mp4', '277.mp4', '263.mp4', '288.mp4', '129.mp4', '101.mp4', '28.mp4', '459.mp4', '458.mp4', '100.mp4', '289.mp4', '262.mp4', '276.mp4', '299.mp4', '39.mp4', '11.mp4', '460.mp4', '448.mp4', '449.mp4', '10.mp4', '38.mp4', '298.mp4', '265.mp4', '107.mp4', '12.mp4', '339.mp4', '13.mp4', '106.mp4', '112.mp4', '264.mp4', '149.mp4', '161.mp4', '60.mp4', '405.mp4', '388.mp4', '389.mp4', '362.mp4', '404.mp4', '410.mp4', '61.mp4', '160.mp4', '148.mp4', '162.mp4', '88.mp4', '63.mp4', '348.mp4', '406.mp4', '360.mp4', '407.mp4', '361.mp4', '349.mp4', '62.mp4', '89.mp4', '99.mp4', '167.mp4', '359.mp4', '98.mp4', '166.mp4', '164.mp4', '400.mp4', '366.mp4', '428.mp4', '399.mp4', '398.mp4', '367.mp4', '159.mp4', '165.mp4']\n",
      "adding file\n",
      "Moviepy - Building video behavior_data/control/464.mp4.\n",
      "MoviePy - Writing audio in 464TEMP_MPY_wvf_snd.mp4\n"
     ]
    },
    {
     "name": "stderr",
     "output_type": "stream",
     "text": [
      "t:  34%|███▍      | 71/210 [00:00<00:00, 675.71it/s, now=None]"
     ]
    },
    {
     "name": "stdout",
     "output_type": "stream",
     "text": [
      "MoviePy - Done.\n",
      "Moviepy - Writing video behavior_data/control/464.mp4\n",
      "\n"
     ]
    },
    {
     "name": "stderr",
     "output_type": "stream",
     "text": [
      "chunk:   0%|          | 0/155 [00:00<?, ?it/s, now=None]       "
     ]
    },
    {
     "name": "stdout",
     "output_type": "stream",
     "text": [
      "Moviepy - Done !\n",
      "Moviepy - video ready behavior_data/control/464.mp4\n",
      "['96.mp4', '82.mp4', '154.mp4', '140.mp4', '7.mp4', '55.mp4', '356.mp4', '342.mp4', '395.mp4', '394.mp4', '343.mp4', '431.mp4', '357.mp4', '419.mp4', '6.mp4', '141.mp4', '221.mp4', '81.mp4', '95.mp4', '143.mp4', '157.mp4', '56.mp4', '369.mp4', '427.mp4', '355.mp4', '433.mp4', '382.mp4', '397.mp4', '383.mp4', '432.mp4', '426.mp4', '340.mp4', '368.mp4', '5.mp4', '156.mp4', '142.mp4', '94.mp4', '80.mp4', '146.mp4', '53.mp4', '344.mp4', '422.mp4', '.DS_Store', '350.mp4', '387.mp4', '345.mp4', '52.mp4', '153.mp4', '147.mp4', '233.mp4', '93.mp4', '87.mp4', '50.mp4', '421.mp4', '384.mp4', '385.mp4', '420.mp4', '434.mp4', '79.mp4', '86.mp4', '232.mp4', '255.mp4', '282.mp4', '137.mp4', '36.mp4', '335.mp4', '453.mp4', '447.mp4', '321.mp4', '446.mp4', '320.mp4', '334.mp4', '452.mp4', '37.mp4', '136.mp4', '297.mp4', '283.mp4', '254.mp4', '242.mp4', '108.mp4', '134.mp4', '322.mp4', '323.mp4', '135.mp4', '109.mp4', '294.mp4', '243.mp4', '253.mp4', '290.mp4', '284.mp4', '131.mp4', '119.mp4', '18.mp4', '327.mp4', '333.mp4', '332.mp4', '454.mp4', '326.mp4', '25.mp4', '19.mp4', '118.mp4', '130.mp4', '252.mp4', '244.mp4', '293.mp4', '132.mp4', '27.mp4', '457.mp4', '26.mp4', '245.mp4', '116.mp4', '17.mp4', '328.mp4', '314.mp4', '315.mp4', '329.mp4', '16.mp4', '117.mp4', '277.mp4', '263.mp4', '288.mp4', '129.mp4', '101.mp4', '28.mp4', '459.mp4', '464.mp4', '458.mp4', '100.mp4', '289.mp4', '262.mp4', '276.mp4', '299.mp4', '39.mp4', '11.mp4', '460.mp4', '448.mp4', '449.mp4', '10.mp4', '38.mp4', '298.mp4', '265.mp4', '107.mp4', '12.mp4', '339.mp4', '13.mp4', '106.mp4', '112.mp4', '264.mp4', '149.mp4', '161.mp4', '60.mp4', '405.mp4', '388.mp4', '389.mp4', '362.mp4', '404.mp4', '410.mp4', '61.mp4', '160.mp4', '148.mp4', '162.mp4', '88.mp4', '63.mp4', '348.mp4', '406.mp4', '360.mp4', '407.mp4', '361.mp4', '349.mp4', '62.mp4', '89.mp4', '99.mp4', '167.mp4', '359.mp4', '98.mp4', '166.mp4', '164.mp4', '400.mp4', '366.mp4', '428.mp4', '399.mp4', '398.mp4', '367.mp4', '159.mp4', '165.mp4']\n",
      "adding file\n",
      "Moviepy - Building video behavior_data/control/465.mp4.\n",
      "MoviePy - Writing audio in 465TEMP_MPY_wvf_snd.mp4\n"
     ]
    },
    {
     "name": "stderr",
     "output_type": "stream",
     "text": [
      "t:  33%|███▎      | 69/210 [00:00<00:00, 687.94it/s, now=None]"
     ]
    },
    {
     "name": "stdout",
     "output_type": "stream",
     "text": [
      "MoviePy - Done.\n",
      "Moviepy - Writing video behavior_data/control/465.mp4\n",
      "\n"
     ]
    },
    {
     "name": "stderr",
     "output_type": "stream",
     "text": [
      "                                                               \r"
     ]
    },
    {
     "name": "stdout",
     "output_type": "stream",
     "text": [
      "Moviepy - Done !\n",
      "Moviepy - video ready behavior_data/control/465.mp4\n",
      "['96.mp4', '82.mp4', '154.mp4', '140.mp4', '7.mp4', '55.mp4', '356.mp4', '342.mp4', '395.mp4', '394.mp4', '343.mp4', '431.mp4', '357.mp4', '419.mp4', '6.mp4', '141.mp4', '221.mp4', '81.mp4', '95.mp4', '143.mp4', '157.mp4', '56.mp4', '369.mp4', '427.mp4', '355.mp4', '433.mp4', '382.mp4', '397.mp4', '383.mp4', '432.mp4', '426.mp4', '340.mp4', '368.mp4', '5.mp4', '156.mp4', '142.mp4', '94.mp4', '80.mp4', '146.mp4', '53.mp4', '344.mp4', '422.mp4', '.DS_Store', '350.mp4', '387.mp4', '345.mp4', '52.mp4', '153.mp4', '147.mp4', '233.mp4', '93.mp4', '87.mp4', '50.mp4', '421.mp4', '384.mp4', '385.mp4', '420.mp4', '434.mp4', '79.mp4', '86.mp4', '232.mp4', '255.mp4', '282.mp4', '137.mp4', '36.mp4', '335.mp4', '453.mp4', '447.mp4', '321.mp4', '446.mp4', '320.mp4', '334.mp4', '452.mp4', '37.mp4', '136.mp4', '297.mp4', '283.mp4', '254.mp4', '242.mp4', '108.mp4', '134.mp4', '322.mp4', '323.mp4', '135.mp4', '109.mp4', '294.mp4', '243.mp4', '253.mp4', '290.mp4', '284.mp4', '131.mp4', '119.mp4', '18.mp4', '327.mp4', '333.mp4', '332.mp4', '454.mp4', '326.mp4', '25.mp4', '19.mp4', '118.mp4', '130.mp4', '252.mp4', '244.mp4', '293.mp4', '132.mp4', '27.mp4', '457.mp4', '26.mp4', '245.mp4', '116.mp4', '17.mp4', '328.mp4', '314.mp4', '315.mp4', '329.mp4', '16.mp4', '117.mp4', '277.mp4', '263.mp4', '288.mp4', '129.mp4', '101.mp4', '28.mp4', '459.mp4', '465.mp4', '464.mp4', '458.mp4', '100.mp4', '289.mp4', '262.mp4', '276.mp4', '299.mp4', '39.mp4', '11.mp4', '460.mp4', '448.mp4', '449.mp4', '10.mp4', '38.mp4', '298.mp4', '265.mp4', '107.mp4', '12.mp4', '339.mp4', '13.mp4', '106.mp4', '112.mp4', '264.mp4', '149.mp4', '161.mp4', '60.mp4', '405.mp4', '388.mp4', '389.mp4', '362.mp4', '404.mp4', '410.mp4', '61.mp4', '160.mp4', '148.mp4', '162.mp4', '88.mp4', '63.mp4', '348.mp4', '406.mp4', '360.mp4', '407.mp4', '361.mp4', '349.mp4', '62.mp4', '89.mp4', '99.mp4', '167.mp4', '359.mp4', '98.mp4', '166.mp4', '164.mp4', '400.mp4', '366.mp4', '428.mp4', '399.mp4', '398.mp4', '367.mp4', '159.mp4', '165.mp4']\n",
      "adding file\n",
      "Moviepy - Building video behavior_data/control/466.mp4.\n",
      "MoviePy - Writing audio in 466TEMP_MPY_wvf_snd.mp4\n"
     ]
    },
    {
     "name": "stderr",
     "output_type": "stream",
     "text": [
      "                                                       \r"
     ]
    },
    {
     "name": "stdout",
     "output_type": "stream",
     "text": [
      "MoviePy - Done.\n",
      "Moviepy - Writing video behavior_data/control/466.mp4\n",
      "\n",
      "Moviepy - Done !\n",
      "Moviepy - video ready behavior_data/control/466.mp4\n",
      "['96.mp4', '82.mp4', '154.mp4', '140.mp4', '7.mp4', '55.mp4', '356.mp4', '342.mp4', '395.mp4', '394.mp4', '343.mp4', '431.mp4', '357.mp4', '419.mp4', '6.mp4', '141.mp4', '221.mp4', '81.mp4', '95.mp4', '143.mp4', '157.mp4', '56.mp4', '369.mp4', '427.mp4', '355.mp4', '433.mp4', '382.mp4', '397.mp4', '383.mp4', '432.mp4', '426.mp4', '340.mp4', '368.mp4', '5.mp4', '156.mp4', '142.mp4', '94.mp4', '80.mp4', '146.mp4', '53.mp4', '344.mp4', '422.mp4', '.DS_Store', '350.mp4', '387.mp4', '345.mp4', '52.mp4', '153.mp4', '147.mp4', '233.mp4', '93.mp4', '87.mp4', '50.mp4', '421.mp4', '384.mp4', '385.mp4', '420.mp4', '434.mp4', '79.mp4', '86.mp4', '232.mp4', '255.mp4', '282.mp4', '137.mp4', '36.mp4', '335.mp4', '453.mp4', '447.mp4', '321.mp4', '446.mp4', '320.mp4', '334.mp4', '452.mp4', '37.mp4', '136.mp4', '297.mp4', '283.mp4', '254.mp4', '242.mp4', '108.mp4', '134.mp4', '322.mp4', '323.mp4', '135.mp4', '109.mp4', '294.mp4', '243.mp4', '253.mp4', '290.mp4', '284.mp4', '131.mp4', '119.mp4', '18.mp4', '327.mp4', '333.mp4', '332.mp4', '454.mp4', '326.mp4', '25.mp4', '19.mp4', '118.mp4', '130.mp4', '252.mp4', '244.mp4', '293.mp4', '132.mp4', '27.mp4', '457.mp4', '26.mp4', '245.mp4', '116.mp4', '17.mp4', '328.mp4', '314.mp4', '466.mp4', '315.mp4', '329.mp4', '16.mp4', '117.mp4', '277.mp4', '263.mp4', '288.mp4', '129.mp4', '101.mp4', '28.mp4', '459.mp4', '465.mp4', '464.mp4', '458.mp4', '100.mp4', '289.mp4', '262.mp4', '276.mp4', '299.mp4', '39.mp4', '11.mp4', '460.mp4', '448.mp4', '449.mp4', '10.mp4', '38.mp4', '298.mp4', '265.mp4', '107.mp4', '12.mp4', '339.mp4', '13.mp4', '106.mp4', '112.mp4', '264.mp4', '149.mp4', '161.mp4', '60.mp4', '405.mp4', '388.mp4', '389.mp4', '362.mp4', '404.mp4', '410.mp4', '61.mp4', '160.mp4', '148.mp4', '162.mp4', '88.mp4', '63.mp4', '348.mp4', '406.mp4', '360.mp4', '407.mp4', '361.mp4', '349.mp4', '62.mp4', '89.mp4', '99.mp4', '167.mp4', '359.mp4', '98.mp4', '166.mp4', '164.mp4', '400.mp4', '366.mp4', '428.mp4', '399.mp4', '398.mp4', '367.mp4', '159.mp4', '165.mp4']\n",
      "adding file\n"
     ]
    },
    {
     "name": "stderr",
     "output_type": "stream",
     "text": [
      "t:   0%|          | 0/180 [00:00<?, ?it/s, now=None]    "
     ]
    },
    {
     "name": "stdout",
     "output_type": "stream",
     "text": [
      "Moviepy - Building video behavior_data/control/467.mp4.\n",
      "MoviePy - Writing audio in 467TEMP_MPY_wvf_snd.mp4\n",
      "MoviePy - Done.\n",
      "Moviepy - Writing video behavior_data/control/467.mp4\n",
      "\n"
     ]
    },
    {
     "name": "stderr",
     "output_type": "stream",
     "text": [
      "                                                               \r"
     ]
    },
    {
     "name": "stdout",
     "output_type": "stream",
     "text": [
      "Moviepy - Done !\n",
      "Moviepy - video ready behavior_data/control/467.mp4\n",
      "staring the 68th file\n",
      "http://www.youtube.com/watch?v=aNaC46cUOJo\n",
      "This is url:  http://www.youtube.com/watch?v=aNaC46cUOJo\n"
     ]
    },
    {
     "name": "stderr",
     "output_type": "stream",
     "text": [
      "\r",
      "chunk:   0%|          | 0/133 [00:00<?, ?it/s, now=None]"
     ]
    },
    {
     "name": "stdout",
     "output_type": "stream",
     "text": [
      "['41.mp4', '418.mp4', '430.mp4', '424.mp4', '425.mp4', '40.mp4', '54.mp4', '155.mp4', '42.mp4', '396.mp4', '43.mp4', '90.mp4', '47.mp4', '1.mp4', '.DS_Store', '393.mp4', '392.mp4', '351.mp4', '423.mp4', '0.mp4', '46.mp4', '91.mp4', '151.mp4', '2.mp4', '44.mp4', '353.mp4', '409.mp4', '390.mp4', '391.mp4', '408.mp4', '346.mp4', '352.mp4', '45.mp4', '3.mp4', '92.mp4', '150.mp4', '120.mp4', '450.mp4', '451.mp4', '121.mp4', '455.mp4', '456.mp4', '461.mp4', '139.mp4', '463.mp4', '462.mp4', '48.mp4', '411.mp4', '377.mp4', '376.mp4', '49.mp4', '374.mp4', '412.mp4', '375.mp4', '413.mp4', '403.mp4', '417.mp4', '371.mp4', '416.mp4', '370.mp4', '402.mp4', '372.mp4', '414.mp4', '429.mp4', '401.mp4', '373.mp4', '415.mp4']\n",
      "adding file\n",
      "Moviepy - Building video behavior_data/headbanging/468.mp4.\n",
      "MoviePy - Writing audio in 468TEMP_MPY_wvf_snd.mp4\n"
     ]
    },
    {
     "name": "stderr",
     "output_type": "stream",
     "text": [
      "t:  34%|███▍      | 61/180 [00:00<00:00, 609.48it/s, now=None]"
     ]
    },
    {
     "name": "stdout",
     "output_type": "stream",
     "text": [
      "MoviePy - Done.\n",
      "Moviepy - Writing video behavior_data/headbanging/468.mp4\n",
      "\n"
     ]
    },
    {
     "name": "stderr",
     "output_type": "stream",
     "text": [
      "chunk:   0%|          | 0/155 [00:00<?, ?it/s, now=None]       "
     ]
    },
    {
     "name": "stdout",
     "output_type": "stream",
     "text": [
      "Moviepy - Done !\n",
      "Moviepy - video ready behavior_data/headbanging/468.mp4\n",
      "['96.mp4', '82.mp4', '154.mp4', '140.mp4', '7.mp4', '55.mp4', '356.mp4', '342.mp4', '395.mp4', '394.mp4', '343.mp4', '431.mp4', '357.mp4', '419.mp4', '6.mp4', '141.mp4', '221.mp4', '81.mp4', '95.mp4', '143.mp4', '157.mp4', '56.mp4', '369.mp4', '427.mp4', '355.mp4', '433.mp4', '382.mp4', '397.mp4', '383.mp4', '432.mp4', '426.mp4', '340.mp4', '368.mp4', '5.mp4', '156.mp4', '142.mp4', '94.mp4', '80.mp4', '146.mp4', '53.mp4', '344.mp4', '422.mp4', '.DS_Store', '350.mp4', '387.mp4', '345.mp4', '52.mp4', '153.mp4', '147.mp4', '233.mp4', '93.mp4', '87.mp4', '50.mp4', '421.mp4', '384.mp4', '385.mp4', '420.mp4', '434.mp4', '79.mp4', '86.mp4', '232.mp4', '255.mp4', '282.mp4', '137.mp4', '36.mp4', '335.mp4', '453.mp4', '447.mp4', '321.mp4', '446.mp4', '320.mp4', '334.mp4', '452.mp4', '37.mp4', '136.mp4', '297.mp4', '283.mp4', '254.mp4', '242.mp4', '108.mp4', '134.mp4', '322.mp4', '323.mp4', '135.mp4', '109.mp4', '294.mp4', '243.mp4', '253.mp4', '290.mp4', '284.mp4', '131.mp4', '119.mp4', '18.mp4', '327.mp4', '333.mp4', '332.mp4', '454.mp4', '326.mp4', '25.mp4', '19.mp4', '118.mp4', '130.mp4', '252.mp4', '244.mp4', '293.mp4', '132.mp4', '27.mp4', '457.mp4', '26.mp4', '245.mp4', '116.mp4', '17.mp4', '328.mp4', '314.mp4', '466.mp4', '467.mp4', '315.mp4', '329.mp4', '16.mp4', '117.mp4', '277.mp4', '263.mp4', '288.mp4', '129.mp4', '101.mp4', '28.mp4', '459.mp4', '465.mp4', '464.mp4', '458.mp4', '100.mp4', '289.mp4', '262.mp4', '276.mp4', '299.mp4', '39.mp4', '11.mp4', '460.mp4', '448.mp4', '449.mp4', '10.mp4', '38.mp4', '298.mp4', '265.mp4', '107.mp4', '12.mp4', '339.mp4', '13.mp4', '106.mp4', '112.mp4', '264.mp4', '149.mp4', '161.mp4', '60.mp4', '405.mp4', '388.mp4', '389.mp4', '362.mp4', '404.mp4', '410.mp4', '61.mp4', '160.mp4', '148.mp4', '162.mp4', '88.mp4', '63.mp4', '348.mp4', '406.mp4', '360.mp4', '407.mp4', '361.mp4', '349.mp4', '62.mp4', '89.mp4', '99.mp4', '167.mp4', '359.mp4', '98.mp4', '166.mp4', '164.mp4', '400.mp4', '366.mp4', '428.mp4', '399.mp4', '398.mp4', '367.mp4', '159.mp4', '165.mp4']\n",
      "adding file\n",
      "Moviepy - Building video behavior_data/control/469.mp4.\n",
      "MoviePy - Writing audio in 469TEMP_MPY_wvf_snd.mp4\n"
     ]
    },
    {
     "name": "stderr",
     "output_type": "stream",
     "text": [
      "t:  30%|██▉       | 62/210 [00:00<00:00, 615.45it/s, now=None]"
     ]
    },
    {
     "name": "stdout",
     "output_type": "stream",
     "text": [
      "MoviePy - Done.\n",
      "Moviepy - Writing video behavior_data/control/469.mp4\n",
      "\n"
     ]
    },
    {
     "name": "stderr",
     "output_type": "stream",
     "text": [
      "                                                               \r"
     ]
    },
    {
     "name": "stdout",
     "output_type": "stream",
     "text": [
      "Moviepy - Done !\n",
      "Moviepy - video ready behavior_data/control/469.mp4\n",
      "['96.mp4', '82.mp4', '154.mp4', '140.mp4', '7.mp4', '55.mp4', '356.mp4', '342.mp4', '395.mp4', '394.mp4', '343.mp4', '431.mp4', '357.mp4', '419.mp4', '6.mp4', '141.mp4', '221.mp4', '81.mp4', '95.mp4', '143.mp4', '157.mp4', '56.mp4', '369.mp4', '427.mp4', '355.mp4', '433.mp4', '382.mp4', '397.mp4', '383.mp4', '432.mp4', '426.mp4', '340.mp4', '368.mp4', '5.mp4', '156.mp4', '142.mp4', '94.mp4', '80.mp4', '146.mp4', '53.mp4', '344.mp4', '422.mp4', '.DS_Store', '350.mp4', '387.mp4', '345.mp4', '52.mp4', '153.mp4', '147.mp4', '233.mp4', '93.mp4', '87.mp4', '50.mp4', '421.mp4', '384.mp4', '385.mp4', '420.mp4', '434.mp4', '79.mp4', '86.mp4', '232.mp4', '255.mp4', '282.mp4', '137.mp4', '36.mp4', '335.mp4', '453.mp4', '447.mp4', '321.mp4', '446.mp4', '320.mp4', '334.mp4', '452.mp4', '37.mp4', '136.mp4', '297.mp4', '283.mp4', '254.mp4', '242.mp4', '108.mp4', '134.mp4', '322.mp4', '323.mp4', '135.mp4', '109.mp4', '294.mp4', '243.mp4', '253.mp4', '290.mp4', '284.mp4', '131.mp4', '119.mp4', '18.mp4', '327.mp4', '333.mp4', '469.mp4', '332.mp4', '454.mp4', '326.mp4', '25.mp4', '19.mp4', '118.mp4', '130.mp4', '252.mp4', '244.mp4', '293.mp4', '132.mp4', '27.mp4', '457.mp4', '26.mp4', '245.mp4', '116.mp4', '17.mp4', '328.mp4', '314.mp4', '466.mp4', '467.mp4', '315.mp4', '329.mp4', '16.mp4', '117.mp4', '277.mp4', '263.mp4', '288.mp4', '129.mp4', '101.mp4', '28.mp4', '459.mp4', '465.mp4', '464.mp4', '458.mp4', '100.mp4', '289.mp4', '262.mp4', '276.mp4', '299.mp4', '39.mp4', '11.mp4', '460.mp4', '448.mp4', '449.mp4', '10.mp4', '38.mp4', '298.mp4', '265.mp4', '107.mp4', '12.mp4', '339.mp4', '13.mp4', '106.mp4', '112.mp4', '264.mp4', '149.mp4', '161.mp4', '60.mp4', '405.mp4', '388.mp4', '389.mp4', '362.mp4', '404.mp4', '410.mp4', '61.mp4', '160.mp4', '148.mp4', '162.mp4', '88.mp4', '63.mp4', '348.mp4', '406.mp4', '360.mp4', '407.mp4', '361.mp4', '349.mp4', '62.mp4', '89.mp4', '99.mp4', '167.mp4', '359.mp4', '98.mp4', '166.mp4', '164.mp4', '400.mp4', '366.mp4', '428.mp4', '399.mp4', '398.mp4', '367.mp4', '159.mp4', '165.mp4']\n",
      "adding file\n",
      "Moviepy - Building video behavior_data/control/470.mp4.\n",
      "MoviePy - Writing audio in 470TEMP_MPY_wvf_snd.mp4\n"
     ]
    },
    {
     "name": "stderr",
     "output_type": "stream",
     "text": [
      "t:  30%|███       | 64/210 [00:00<00:00, 627.19it/s, now=None]"
     ]
    },
    {
     "name": "stdout",
     "output_type": "stream",
     "text": [
      "MoviePy - Done.\n",
      "Moviepy - Writing video behavior_data/control/470.mp4\n",
      "\n"
     ]
    },
    {
     "name": "stderr",
     "output_type": "stream",
     "text": [
      "                                                               \r"
     ]
    },
    {
     "name": "stdout",
     "output_type": "stream",
     "text": [
      "Moviepy - Done !\n",
      "Moviepy - video ready behavior_data/control/470.mp4\n",
      "['96.mp4', '82.mp4', '154.mp4', '140.mp4', '7.mp4', '55.mp4', '356.mp4', '342.mp4', '395.mp4', '394.mp4', '343.mp4', '431.mp4', '357.mp4', '419.mp4', '6.mp4', '141.mp4', '221.mp4', '81.mp4', '95.mp4', '143.mp4', '157.mp4', '56.mp4', '369.mp4', '427.mp4', '355.mp4', '433.mp4', '382.mp4', '397.mp4', '383.mp4', '432.mp4', '426.mp4', '340.mp4', '368.mp4', '5.mp4', '156.mp4', '142.mp4', '94.mp4', '80.mp4', '146.mp4', '53.mp4', '344.mp4', '422.mp4', '.DS_Store', '350.mp4', '387.mp4', '345.mp4', '52.mp4', '153.mp4', '147.mp4', '233.mp4', '93.mp4', '87.mp4', '50.mp4', '421.mp4', '384.mp4', '385.mp4', '420.mp4', '434.mp4', '79.mp4', '86.mp4', '232.mp4', '255.mp4', '282.mp4', '137.mp4', '36.mp4', '335.mp4', '453.mp4', '447.mp4', '321.mp4', '446.mp4', '320.mp4', '334.mp4', '452.mp4', '37.mp4', '136.mp4', '297.mp4', '283.mp4', '254.mp4', '242.mp4', '108.mp4', '134.mp4', '322.mp4', '323.mp4', '135.mp4', '109.mp4', '294.mp4', '243.mp4', '253.mp4', '290.mp4', '284.mp4', '131.mp4', '119.mp4', '18.mp4', '327.mp4', '333.mp4', '469.mp4', '332.mp4', '454.mp4', '326.mp4', '25.mp4', '19.mp4', '118.mp4', '130.mp4', '252.mp4', '244.mp4', '293.mp4', '132.mp4', '27.mp4', '457.mp4', '26.mp4', '245.mp4', '116.mp4', '17.mp4', '328.mp4', '314.mp4', '466.mp4', '467.mp4', '315.mp4', '329.mp4', '16.mp4', '117.mp4', '277.mp4', '263.mp4', '288.mp4', '129.mp4', '101.mp4', '28.mp4', '459.mp4', '465.mp4', '470.mp4', '464.mp4', '458.mp4', '100.mp4', '289.mp4', '262.mp4', '276.mp4', '299.mp4', '39.mp4', '11.mp4', '460.mp4', '448.mp4', '449.mp4', '10.mp4', '38.mp4', '298.mp4', '265.mp4', '107.mp4', '12.mp4', '339.mp4', '13.mp4', '106.mp4', '112.mp4', '264.mp4', '149.mp4', '161.mp4', '60.mp4', '405.mp4', '388.mp4', '389.mp4', '362.mp4', '404.mp4', '410.mp4', '61.mp4', '160.mp4', '148.mp4', '162.mp4', '88.mp4', '63.mp4', '348.mp4', '406.mp4', '360.mp4', '407.mp4', '361.mp4', '349.mp4', '62.mp4', '89.mp4', '99.mp4', '167.mp4', '359.mp4', '98.mp4', '166.mp4', '164.mp4', '400.mp4', '366.mp4', '428.mp4', '399.mp4', '398.mp4', '367.mp4', '159.mp4', '165.mp4']\n",
      "adding file\n",
      "Moviepy - Building video behavior_data/control/471.mp4.\n",
      "MoviePy - Writing audio in 471TEMP_MPY_wvf_snd.mp4\n"
     ]
    },
    {
     "name": "stderr",
     "output_type": "stream",
     "text": [
      "t:  30%|██▉       | 62/210 [00:00<00:00, 615.33it/s, now=None]"
     ]
    },
    {
     "name": "stdout",
     "output_type": "stream",
     "text": [
      "MoviePy - Done.\n",
      "Moviepy - Writing video behavior_data/control/471.mp4\n",
      "\n"
     ]
    },
    {
     "name": "stderr",
     "output_type": "stream",
     "text": [
      "chunk:   0%|          | 0/155 [00:00<?, ?it/s, now=None]       "
     ]
    },
    {
     "name": "stdout",
     "output_type": "stream",
     "text": [
      "Moviepy - Done !\n",
      "Moviepy - video ready behavior_data/control/471.mp4\n",
      "['96.mp4', '82.mp4', '154.mp4', '140.mp4', '7.mp4', '55.mp4', '356.mp4', '342.mp4', '395.mp4', '394.mp4', '343.mp4', '431.mp4', '357.mp4', '419.mp4', '6.mp4', '141.mp4', '221.mp4', '81.mp4', '95.mp4', '143.mp4', '157.mp4', '56.mp4', '369.mp4', '427.mp4', '355.mp4', '433.mp4', '382.mp4', '397.mp4', '383.mp4', '432.mp4', '426.mp4', '340.mp4', '368.mp4', '5.mp4', '156.mp4', '142.mp4', '94.mp4', '80.mp4', '146.mp4', '53.mp4', '344.mp4', '422.mp4', '.DS_Store', '350.mp4', '387.mp4', '345.mp4', '52.mp4', '153.mp4', '147.mp4', '233.mp4', '93.mp4', '87.mp4', '50.mp4', '421.mp4', '384.mp4', '385.mp4', '420.mp4', '434.mp4', '79.mp4', '86.mp4', '232.mp4', '255.mp4', '282.mp4', '137.mp4', '36.mp4', '335.mp4', '453.mp4', '447.mp4', '321.mp4', '446.mp4', '320.mp4', '334.mp4', '452.mp4', '37.mp4', '136.mp4', '297.mp4', '283.mp4', '254.mp4', '242.mp4', '108.mp4', '134.mp4', '322.mp4', '323.mp4', '135.mp4', '109.mp4', '294.mp4', '243.mp4', '253.mp4', '290.mp4', '284.mp4', '131.mp4', '119.mp4', '18.mp4', '327.mp4', '333.mp4', '469.mp4', '332.mp4', '454.mp4', '326.mp4', '25.mp4', '19.mp4', '118.mp4', '130.mp4', '252.mp4', '244.mp4', '293.mp4', '132.mp4', '27.mp4', '457.mp4', '26.mp4', '245.mp4', '116.mp4', '17.mp4', '328.mp4', '314.mp4', '466.mp4', '467.mp4', '315.mp4', '329.mp4', '16.mp4', '117.mp4', '277.mp4', '263.mp4', '288.mp4', '129.mp4', '101.mp4', '28.mp4', '459.mp4', '465.mp4', '471.mp4', '470.mp4', '464.mp4', '458.mp4', '100.mp4', '289.mp4', '262.mp4', '276.mp4', '299.mp4', '39.mp4', '11.mp4', '460.mp4', '448.mp4', '449.mp4', '10.mp4', '38.mp4', '298.mp4', '265.mp4', '107.mp4', '12.mp4', '339.mp4', '13.mp4', '106.mp4', '112.mp4', '264.mp4', '149.mp4', '161.mp4', '60.mp4', '405.mp4', '388.mp4', '389.mp4', '362.mp4', '404.mp4', '410.mp4', '61.mp4', '160.mp4', '148.mp4', '162.mp4', '88.mp4', '63.mp4', '348.mp4', '406.mp4', '360.mp4', '407.mp4', '361.mp4', '349.mp4', '62.mp4', '89.mp4', '99.mp4', '167.mp4', '359.mp4', '98.mp4', '166.mp4', '164.mp4', '400.mp4', '366.mp4', '428.mp4', '399.mp4', '398.mp4', '367.mp4', '159.mp4', '165.mp4']\n",
      "adding file\n",
      "Moviepy - Building video behavior_data/control/472.mp4.\n",
      "MoviePy - Writing audio in 472TEMP_MPY_wvf_snd.mp4\n"
     ]
    },
    {
     "name": "stderr",
     "output_type": "stream",
     "text": [
      "t:  31%|███▏      | 66/210 [00:00<00:00, 652.61it/s, now=None]"
     ]
    },
    {
     "name": "stdout",
     "output_type": "stream",
     "text": [
      "MoviePy - Done.\n",
      "Moviepy - Writing video behavior_data/control/472.mp4\n",
      "\n"
     ]
    },
    {
     "name": "stderr",
     "output_type": "stream",
     "text": [
      "                                                               \r"
     ]
    },
    {
     "name": "stdout",
     "output_type": "stream",
     "text": [
      "Moviepy - Done !\n",
      "Moviepy - video ready behavior_data/control/472.mp4\n",
      "staring the 69th file\n",
      "http://www.youtube.com/watch?v=C_O8vyrSt0Q\n",
      "This is url:  http://www.youtube.com/watch?v=C_O8vyrSt0Q\n"
     ]
    },
    {
     "name": "stderr",
     "output_type": "stream",
     "text": [
      "\r",
      "chunk:   0%|          | 0/111 [00:00<?, ?it/s, now=None]"
     ]
    },
    {
     "name": "stdout",
     "output_type": "stream",
     "text": [
      "['69.mp4', '381.mp4', '380.mp4', '68.mp4', '83.mp4', '97.mp4', '57.mp4', '84.mp4', '.DS_Store', '436.mp4', '378.mp4', '386.mp4', '379.mp4', '437.mp4', '85.mp4', '145.mp4', '78.mp4', '435.mp4', '144.mp4', '123.mp4', '22.mp4', '23.mp4', '122.mp4', '21.mp4', '35.mp4', '444.mp4', '445.mp4', '34.mp4', '20.mp4', '125.mp4', '24.mp4', '30.mp4', '441.mp4', '440.mp4', '31.mp4', '124.mp4', '126.mp4', '33.mp4', '442.mp4', '443.mp4', '32.mp4', '127.mp4', '133.mp4', '102.mp4', '103.mp4', '115.mp4', '14.mp4', '29.mp4', '15.mp4', '114.mp4', '128.mp4', '104.mp4', '110.mp4', '138.mp4', '111.mp4', '105.mp4', '113.mp4', '74.mp4', '439.mp4', '363.mp4', '438.mp4', '75.mp4', '77.mp4', '76.mp4', '8.mp4', '66.mp4', '72.mp4', '365.mp4', '358.mp4', '364.mp4', '73.mp4', '67.mp4', '9.mp4', '59.mp4', '71.mp4', '65.mp4', '64.mp4', '70.mp4', '58.mp4']\n",
      "adding file\n",
      "Moviepy - Building video behavior_data/armflapping/473.mp4.\n",
      "MoviePy - Writing audio in 473TEMP_MPY_wvf_snd.mp4\n"
     ]
    },
    {
     "name": "stderr",
     "output_type": "stream",
     "text": [
      "t:  51%|█████▏    | 77/150 [00:00<00:00, 762.55it/s, now=None]"
     ]
    },
    {
     "name": "stdout",
     "output_type": "stream",
     "text": [
      "MoviePy - Done.\n",
      "Moviepy - Writing video behavior_data/armflapping/473.mp4\n",
      "\n"
     ]
    },
    {
     "name": "stderr",
     "output_type": "stream",
     "text": [
      "                                                              \r"
     ]
    },
    {
     "name": "stdout",
     "output_type": "stream",
     "text": [
      "Moviepy - Done !\n",
      "Moviepy - video ready behavior_data/armflapping/473.mp4\n",
      "['69.mp4', '381.mp4', '380.mp4', '68.mp4', '83.mp4', '97.mp4', '57.mp4', '84.mp4', '.DS_Store', '436.mp4', '378.mp4', '386.mp4', '379.mp4', '437.mp4', '85.mp4', '145.mp4', '78.mp4', '435.mp4', '144.mp4', '123.mp4', '22.mp4', '23.mp4', '122.mp4', '21.mp4', '35.mp4', '444.mp4', '445.mp4', '34.mp4', '20.mp4', '125.mp4', '24.mp4', '30.mp4', '441.mp4', '440.mp4', '31.mp4', '124.mp4', '126.mp4', '33.mp4', '442.mp4', '443.mp4', '32.mp4', '127.mp4', '133.mp4', '102.mp4', '473.mp4', '103.mp4', '115.mp4', '14.mp4', '29.mp4', '15.mp4', '114.mp4', '128.mp4', '104.mp4', '110.mp4', '138.mp4', '111.mp4', '105.mp4', '113.mp4', '74.mp4', '439.mp4', '363.mp4', '438.mp4', '75.mp4', '77.mp4', '76.mp4', '8.mp4', '66.mp4', '72.mp4', '365.mp4', '358.mp4', '364.mp4', '73.mp4', '67.mp4', '9.mp4', '59.mp4', '71.mp4', '65.mp4', '64.mp4', '70.mp4', '58.mp4']\n",
      "adding file\n"
     ]
    },
    {
     "name": "stderr",
     "output_type": "stream",
     "text": [
      "t:  57%|█████▋    | 68/120 [00:00<00:00, 675.45it/s, now=None]"
     ]
    },
    {
     "name": "stdout",
     "output_type": "stream",
     "text": [
      "Moviepy - Building video behavior_data/armflapping/474.mp4.\n",
      "MoviePy - Writing audio in 474TEMP_MPY_wvf_snd.mp4\n",
      "MoviePy - Done.\n",
      "Moviepy - Writing video behavior_data/armflapping/474.mp4\n",
      "\n"
     ]
    },
    {
     "name": "stderr",
     "output_type": "stream",
     "text": [
      "                                                              \r"
     ]
    },
    {
     "name": "stdout",
     "output_type": "stream",
     "text": [
      "Moviepy - Done !\n",
      "Moviepy - video ready behavior_data/armflapping/474.mp4\n",
      "['69.mp4', '381.mp4', '380.mp4', '68.mp4', '83.mp4', '97.mp4', '57.mp4', '84.mp4', '.DS_Store', '436.mp4', '378.mp4', '386.mp4', '379.mp4', '437.mp4', '85.mp4', '145.mp4', '78.mp4', '435.mp4', '144.mp4', '123.mp4', '22.mp4', '23.mp4', '122.mp4', '21.mp4', '35.mp4', '444.mp4', '445.mp4', '34.mp4', '20.mp4', '125.mp4', '24.mp4', '30.mp4', '441.mp4', '440.mp4', '31.mp4', '124.mp4', '126.mp4', '33.mp4', '442.mp4', '443.mp4', '32.mp4', '127.mp4', '133.mp4', '102.mp4', '473.mp4', '103.mp4', '115.mp4', '14.mp4', '29.mp4', '15.mp4', '114.mp4', '128.mp4', '104.mp4', '110.mp4', '138.mp4', '474.mp4', '111.mp4', '105.mp4', '113.mp4', '74.mp4', '439.mp4', '363.mp4', '438.mp4', '75.mp4', '77.mp4', '76.mp4', '8.mp4', '66.mp4', '72.mp4', '365.mp4', '358.mp4', '364.mp4', '73.mp4', '67.mp4', '9.mp4', '59.mp4', '71.mp4', '65.mp4', '64.mp4', '70.mp4', '58.mp4']\n",
      "adding file\n"
     ]
    },
    {
     "name": "stderr",
     "output_type": "stream",
     "text": [
      "t:   0%|          | 0/210 [00:00<?, ?it/s, now=None]                "
     ]
    },
    {
     "name": "stdout",
     "output_type": "stream",
     "text": [
      "Moviepy - Building video behavior_data/armflapping/475.mp4.\n",
      "MoviePy - Writing audio in 475TEMP_MPY_wvf_snd.mp4\n",
      "MoviePy - Done.\n",
      "Moviepy - Writing video behavior_data/armflapping/475.mp4\n",
      "\n"
     ]
    },
    {
     "name": "stderr",
     "output_type": "stream",
     "text": [
      "                                                               \r"
     ]
    },
    {
     "name": "stdout",
     "output_type": "stream",
     "text": [
      "Moviepy - Done !\n",
      "Moviepy - video ready behavior_data/armflapping/475.mp4\n",
      "['69.mp4', '381.mp4', '380.mp4', '68.mp4', '83.mp4', '97.mp4', '57.mp4', '84.mp4', '.DS_Store', '436.mp4', '378.mp4', '386.mp4', '379.mp4', '437.mp4', '85.mp4', '145.mp4', '78.mp4', '435.mp4', '144.mp4', '123.mp4', '22.mp4', '23.mp4', '122.mp4', '21.mp4', '35.mp4', '444.mp4', '445.mp4', '34.mp4', '20.mp4', '125.mp4', '24.mp4', '30.mp4', '441.mp4', '440.mp4', '31.mp4', '124.mp4', '126.mp4', '33.mp4', '442.mp4', '443.mp4', '32.mp4', '127.mp4', '133.mp4', '102.mp4', '473.mp4', '103.mp4', '115.mp4', '14.mp4', '29.mp4', '15.mp4', '114.mp4', '128.mp4', '104.mp4', '110.mp4', '138.mp4', '474.mp4', '475.mp4', '111.mp4', '105.mp4', '113.mp4', '74.mp4', '439.mp4', '363.mp4', '438.mp4', '75.mp4', '77.mp4', '76.mp4', '8.mp4', '66.mp4', '72.mp4', '365.mp4', '358.mp4', '364.mp4', '73.mp4', '67.mp4', '9.mp4', '59.mp4', '71.mp4', '65.mp4', '64.mp4', '70.mp4', '58.mp4']\n",
      "adding file\n"
     ]
    },
    {
     "name": "stderr",
     "output_type": "stream",
     "text": [
      "t:   0%|          | 0/180 [00:00<?, ?it/s, now=None]    "
     ]
    },
    {
     "name": "stdout",
     "output_type": "stream",
     "text": [
      "Moviepy - Building video behavior_data/armflapping/476.mp4.\n",
      "MoviePy - Writing audio in 476TEMP_MPY_wvf_snd.mp4\n",
      "MoviePy - Done.\n",
      "Moviepy - Writing video behavior_data/armflapping/476.mp4\n",
      "\n"
     ]
    },
    {
     "name": "stderr",
     "output_type": "stream",
     "text": [
      "                                                               \r"
     ]
    },
    {
     "name": "stdout",
     "output_type": "stream",
     "text": [
      "Moviepy - Done !\n",
      "Moviepy - video ready behavior_data/armflapping/476.mp4\n",
      "['69.mp4', '381.mp4', '380.mp4', '68.mp4', '83.mp4', '97.mp4', '57.mp4', '84.mp4', '.DS_Store', '436.mp4', '378.mp4', '386.mp4', '379.mp4', '437.mp4', '85.mp4', '145.mp4', '78.mp4', '435.mp4', '144.mp4', '123.mp4', '22.mp4', '23.mp4', '122.mp4', '21.mp4', '35.mp4', '444.mp4', '445.mp4', '34.mp4', '20.mp4', '125.mp4', '24.mp4', '30.mp4', '441.mp4', '440.mp4', '31.mp4', '124.mp4', '126.mp4', '33.mp4', '442.mp4', '443.mp4', '32.mp4', '127.mp4', '133.mp4', '102.mp4', '473.mp4', '103.mp4', '115.mp4', '14.mp4', '29.mp4', '15.mp4', '114.mp4', '128.mp4', '104.mp4', '110.mp4', '138.mp4', '474.mp4', '475.mp4', '111.mp4', '105.mp4', '113.mp4', '476.mp4', '74.mp4', '439.mp4', '363.mp4', '438.mp4', '75.mp4', '77.mp4', '76.mp4', '8.mp4', '66.mp4', '72.mp4', '365.mp4', '358.mp4', '364.mp4', '73.mp4', '67.mp4', '9.mp4', '59.mp4', '71.mp4', '65.mp4', '64.mp4', '70.mp4', '58.mp4']\n",
      "adding file\n"
     ]
    },
    {
     "name": "stderr",
     "output_type": "stream",
     "text": [
      "t:   0%|          | 0/210 [00:00<?, ?it/s, now=None]                "
     ]
    },
    {
     "name": "stdout",
     "output_type": "stream",
     "text": [
      "Moviepy - Building video behavior_data/armflapping/477.mp4.\n",
      "MoviePy - Writing audio in 477TEMP_MPY_wvf_snd.mp4\n",
      "MoviePy - Done.\n",
      "Moviepy - Writing video behavior_data/armflapping/477.mp4\n",
      "\n"
     ]
    },
    {
     "name": "stderr",
     "output_type": "stream",
     "text": [
      "                                                               \r"
     ]
    },
    {
     "name": "stdout",
     "output_type": "stream",
     "text": [
      "Moviepy - Done !\n",
      "Moviepy - video ready behavior_data/armflapping/477.mp4\n",
      "['69.mp4', '381.mp4', '380.mp4', '68.mp4', '83.mp4', '97.mp4', '57.mp4', '84.mp4', '.DS_Store', '436.mp4', '378.mp4', '386.mp4', '379.mp4', '437.mp4', '85.mp4', '145.mp4', '78.mp4', '435.mp4', '144.mp4', '123.mp4', '22.mp4', '23.mp4', '122.mp4', '21.mp4', '35.mp4', '444.mp4', '445.mp4', '34.mp4', '20.mp4', '125.mp4', '24.mp4', '30.mp4', '441.mp4', '440.mp4', '31.mp4', '124.mp4', '126.mp4', '33.mp4', '442.mp4', '443.mp4', '32.mp4', '127.mp4', '133.mp4', '102.mp4', '473.mp4', '103.mp4', '115.mp4', '14.mp4', '29.mp4', '15.mp4', '114.mp4', '128.mp4', '104.mp4', '110.mp4', '138.mp4', '474.mp4', '475.mp4', '111.mp4', '105.mp4', '113.mp4', '477.mp4', '476.mp4', '74.mp4', '439.mp4', '363.mp4', '438.mp4', '75.mp4', '77.mp4', '76.mp4', '8.mp4', '66.mp4', '72.mp4', '365.mp4', '358.mp4', '364.mp4', '73.mp4', '67.mp4', '9.mp4', '59.mp4', '71.mp4', '65.mp4', '64.mp4', '70.mp4', '58.mp4']\n",
      "adding file\n"
     ]
    },
    {
     "name": "stderr",
     "output_type": "stream",
     "text": [
      "t:   0%|          | 0/210 [00:00<?, ?it/s, now=None]                "
     ]
    },
    {
     "name": "stdout",
     "output_type": "stream",
     "text": [
      "Moviepy - Building video behavior_data/armflapping/478.mp4.\n",
      "MoviePy - Writing audio in 478TEMP_MPY_wvf_snd.mp4\n",
      "MoviePy - Done.\n",
      "Moviepy - Writing video behavior_data/armflapping/478.mp4\n",
      "\n"
     ]
    },
    {
     "name": "stderr",
     "output_type": "stream",
     "text": [
      "                                                               \r"
     ]
    },
    {
     "name": "stdout",
     "output_type": "stream",
     "text": [
      "Moviepy - Done !\n",
      "Moviepy - video ready behavior_data/armflapping/478.mp4\n",
      "['69.mp4', '381.mp4', '380.mp4', '68.mp4', '83.mp4', '97.mp4', '57.mp4', '84.mp4', '.DS_Store', '436.mp4', '378.mp4', '386.mp4', '379.mp4', '437.mp4', '85.mp4', '145.mp4', '78.mp4', '435.mp4', '144.mp4', '123.mp4', '22.mp4', '23.mp4', '122.mp4', '21.mp4', '35.mp4', '478.mp4', '444.mp4', '445.mp4', '34.mp4', '20.mp4', '125.mp4', '24.mp4', '30.mp4', '441.mp4', '440.mp4', '31.mp4', '124.mp4', '126.mp4', '33.mp4', '442.mp4', '443.mp4', '32.mp4', '127.mp4', '133.mp4', '102.mp4', '473.mp4', '103.mp4', '115.mp4', '14.mp4', '29.mp4', '15.mp4', '114.mp4', '128.mp4', '104.mp4', '110.mp4', '138.mp4', '474.mp4', '475.mp4', '111.mp4', '105.mp4', '113.mp4', '477.mp4', '476.mp4', '74.mp4', '439.mp4', '363.mp4', '438.mp4', '75.mp4', '77.mp4', '76.mp4', '8.mp4', '66.mp4', '72.mp4', '365.mp4', '358.mp4', '364.mp4', '73.mp4', '67.mp4', '9.mp4', '59.mp4', '71.mp4', '65.mp4', '64.mp4', '70.mp4', '58.mp4']\n",
      "adding file\n"
     ]
    },
    {
     "name": "stderr",
     "output_type": "stream",
     "text": [
      "t:   0%|          | 0/210 [00:00<?, ?it/s, now=None]                "
     ]
    },
    {
     "name": "stdout",
     "output_type": "stream",
     "text": [
      "Moviepy - Building video behavior_data/armflapping/479.mp4.\n",
      "MoviePy - Writing audio in 479TEMP_MPY_wvf_snd.mp4\n",
      "MoviePy - Done.\n",
      "Moviepy - Writing video behavior_data/armflapping/479.mp4\n",
      "\n"
     ]
    },
    {
     "name": "stderr",
     "output_type": "stream",
     "text": [
      "                                                               \r"
     ]
    },
    {
     "name": "stdout",
     "output_type": "stream",
     "text": [
      "Moviepy - Done !\n",
      "Moviepy - video ready behavior_data/armflapping/479.mp4\n",
      "['69.mp4', '381.mp4', '380.mp4', '68.mp4', '83.mp4', '97.mp4', '57.mp4', '84.mp4', '.DS_Store', '436.mp4', '378.mp4', '386.mp4', '379.mp4', '437.mp4', '85.mp4', '145.mp4', '78.mp4', '435.mp4', '144.mp4', '123.mp4', '22.mp4', '23.mp4', '122.mp4', '21.mp4', '35.mp4', '478.mp4', '444.mp4', '445.mp4', '479.mp4', '34.mp4', '20.mp4', '125.mp4', '24.mp4', '30.mp4', '441.mp4', '440.mp4', '31.mp4', '124.mp4', '126.mp4', '33.mp4', '442.mp4', '443.mp4', '32.mp4', '127.mp4', '133.mp4', '102.mp4', '473.mp4', '103.mp4', '115.mp4', '14.mp4', '29.mp4', '15.mp4', '114.mp4', '128.mp4', '104.mp4', '110.mp4', '138.mp4', '474.mp4', '475.mp4', '111.mp4', '105.mp4', '113.mp4', '477.mp4', '476.mp4', '74.mp4', '439.mp4', '363.mp4', '438.mp4', '75.mp4', '77.mp4', '76.mp4', '8.mp4', '66.mp4', '72.mp4', '365.mp4', '358.mp4', '364.mp4', '73.mp4', '67.mp4', '9.mp4', '59.mp4', '71.mp4', '65.mp4', '64.mp4', '70.mp4', '58.mp4']\n",
      "adding file\n"
     ]
    },
    {
     "name": "stderr",
     "output_type": "stream",
     "text": [
      "t:   0%|          | 0/210 [00:00<?, ?it/s, now=None]                "
     ]
    },
    {
     "name": "stdout",
     "output_type": "stream",
     "text": [
      "Moviepy - Building video behavior_data/armflapping/480.mp4.\n",
      "MoviePy - Writing audio in 480TEMP_MPY_wvf_snd.mp4\n",
      "MoviePy - Done.\n",
      "Moviepy - Writing video behavior_data/armflapping/480.mp4\n",
      "\n"
     ]
    },
    {
     "name": "stderr",
     "output_type": "stream",
     "text": [
      "                                                               \r"
     ]
    },
    {
     "name": "stdout",
     "output_type": "stream",
     "text": [
      "Moviepy - Done !\n",
      "Moviepy - video ready behavior_data/armflapping/480.mp4\n",
      "['69.mp4', '381.mp4', '380.mp4', '68.mp4', '83.mp4', '97.mp4', '57.mp4', '84.mp4', '.DS_Store', '436.mp4', '378.mp4', '386.mp4', '379.mp4', '437.mp4', '85.mp4', '145.mp4', '78.mp4', '435.mp4', '144.mp4', '123.mp4', '22.mp4', '23.mp4', '122.mp4', '21.mp4', '35.mp4', '478.mp4', '444.mp4', '445.mp4', '479.mp4', '34.mp4', '20.mp4', '125.mp4', '24.mp4', '30.mp4', '441.mp4', '440.mp4', '31.mp4', '124.mp4', '126.mp4', '33.mp4', '442.mp4', '480.mp4', '443.mp4', '32.mp4', '127.mp4', '133.mp4', '102.mp4', '473.mp4', '103.mp4', '115.mp4', '14.mp4', '29.mp4', '15.mp4', '114.mp4', '128.mp4', '104.mp4', '110.mp4', '138.mp4', '474.mp4', '475.mp4', '111.mp4', '105.mp4', '113.mp4', '477.mp4', '476.mp4', '74.mp4', '439.mp4', '363.mp4', '438.mp4', '75.mp4', '77.mp4', '76.mp4', '8.mp4', '66.mp4', '72.mp4', '365.mp4', '358.mp4', '364.mp4', '73.mp4', '67.mp4', '9.mp4', '59.mp4', '71.mp4', '65.mp4', '64.mp4', '70.mp4', '58.mp4']\n",
      "adding file\n"
     ]
    },
    {
     "name": "stderr",
     "output_type": "stream",
     "text": [
      "t:   0%|          | 0/210 [00:00<?, ?it/s, now=None]                "
     ]
    },
    {
     "name": "stdout",
     "output_type": "stream",
     "text": [
      "Moviepy - Building video behavior_data/armflapping/481.mp4.\n",
      "MoviePy - Writing audio in 481TEMP_MPY_wvf_snd.mp4\n",
      "MoviePy - Done.\n",
      "Moviepy - Writing video behavior_data/armflapping/481.mp4\n",
      "\n"
     ]
    },
    {
     "name": "stderr",
     "output_type": "stream",
     "text": [
      "                                                               \r"
     ]
    },
    {
     "name": "stdout",
     "output_type": "stream",
     "text": [
      "Moviepy - Done !\n",
      "Moviepy - video ready behavior_data/armflapping/481.mp4\n",
      "['69.mp4', '381.mp4', '380.mp4', '68.mp4', '83.mp4', '97.mp4', '57.mp4', '84.mp4', '.DS_Store', '436.mp4', '378.mp4', '386.mp4', '379.mp4', '437.mp4', '85.mp4', '145.mp4', '78.mp4', '435.mp4', '144.mp4', '123.mp4', '22.mp4', '23.mp4', '122.mp4', '21.mp4', '35.mp4', '478.mp4', '444.mp4', '445.mp4', '479.mp4', '34.mp4', '20.mp4', '125.mp4', '24.mp4', '30.mp4', '441.mp4', '440.mp4', '31.mp4', '124.mp4', '126.mp4', '33.mp4', '442.mp4', '481.mp4', '480.mp4', '443.mp4', '32.mp4', '127.mp4', '133.mp4', '102.mp4', '473.mp4', '103.mp4', '115.mp4', '14.mp4', '29.mp4', '15.mp4', '114.mp4', '128.mp4', '104.mp4', '110.mp4', '138.mp4', '474.mp4', '475.mp4', '111.mp4', '105.mp4', '113.mp4', '477.mp4', '476.mp4', '74.mp4', '439.mp4', '363.mp4', '438.mp4', '75.mp4', '77.mp4', '76.mp4', '8.mp4', '66.mp4', '72.mp4', '365.mp4', '358.mp4', '364.mp4', '73.mp4', '67.mp4', '9.mp4', '59.mp4', '71.mp4', '65.mp4', '64.mp4', '70.mp4', '58.mp4']\n",
      "adding file\n"
     ]
    },
    {
     "name": "stderr",
     "output_type": "stream",
     "text": [
      "t:   0%|          | 0/180 [00:00<?, ?it/s, now=None]    "
     ]
    },
    {
     "name": "stdout",
     "output_type": "stream",
     "text": [
      "Moviepy - Building video behavior_data/armflapping/482.mp4.\n",
      "MoviePy - Writing audio in 482TEMP_MPY_wvf_snd.mp4\n",
      "MoviePy - Done.\n",
      "Moviepy - Writing video behavior_data/armflapping/482.mp4\n",
      "\n"
     ]
    },
    {
     "name": "stderr",
     "output_type": "stream",
     "text": [
      "                                                               \r"
     ]
    },
    {
     "name": "stdout",
     "output_type": "stream",
     "text": [
      "Moviepy - Done !\n",
      "Moviepy - video ready behavior_data/armflapping/482.mp4\n",
      "['96.mp4', '82.mp4', '154.mp4', '140.mp4', '7.mp4', '55.mp4', '356.mp4', '342.mp4', '395.mp4', '394.mp4', '343.mp4', '431.mp4', '357.mp4', '419.mp4', '6.mp4', '141.mp4', '221.mp4', '81.mp4', '95.mp4', '143.mp4', '157.mp4', '56.mp4', '369.mp4', '427.mp4', '355.mp4', '433.mp4', '382.mp4', '397.mp4', '383.mp4', '432.mp4', '426.mp4', '340.mp4', '368.mp4', '5.mp4', '156.mp4', '142.mp4', '94.mp4', '80.mp4', '146.mp4', '53.mp4', '344.mp4', '422.mp4', '.DS_Store', '350.mp4', '387.mp4', '345.mp4', '52.mp4', '153.mp4', '147.mp4', '233.mp4', '93.mp4', '87.mp4', '50.mp4', '421.mp4', '384.mp4', '385.mp4', '420.mp4', '434.mp4', '79.mp4', '86.mp4', '232.mp4', '255.mp4', '282.mp4', '137.mp4', '36.mp4', '335.mp4', '453.mp4', '447.mp4', '321.mp4', '446.mp4', '320.mp4', '334.mp4', '452.mp4', '37.mp4', '136.mp4', '297.mp4', '283.mp4', '254.mp4', '242.mp4', '108.mp4', '134.mp4', '322.mp4', '323.mp4', '135.mp4', '109.mp4', '294.mp4', '243.mp4', '253.mp4', '290.mp4', '284.mp4', '131.mp4', '119.mp4', '18.mp4', '327.mp4', '333.mp4', '469.mp4', '332.mp4', '454.mp4', '326.mp4', '25.mp4', '19.mp4', '118.mp4', '130.mp4', '252.mp4', '244.mp4', '293.mp4', '132.mp4', '27.mp4', '457.mp4', '26.mp4', '245.mp4', '116.mp4', '17.mp4', '328.mp4', '314.mp4', '472.mp4', '466.mp4', '467.mp4', '315.mp4', '329.mp4', '16.mp4', '117.mp4', '277.mp4', '263.mp4', '288.mp4', '129.mp4', '101.mp4', '28.mp4', '459.mp4', '465.mp4', '471.mp4', '470.mp4', '464.mp4', '458.mp4', '100.mp4', '289.mp4', '262.mp4', '276.mp4', '299.mp4', '39.mp4', '11.mp4', '460.mp4', '448.mp4', '449.mp4', '10.mp4', '38.mp4', '298.mp4', '265.mp4', '107.mp4', '12.mp4', '339.mp4', '13.mp4', '106.mp4', '112.mp4', '264.mp4', '149.mp4', '161.mp4', '60.mp4', '405.mp4', '388.mp4', '389.mp4', '362.mp4', '404.mp4', '410.mp4', '61.mp4', '160.mp4', '148.mp4', '162.mp4', '88.mp4', '63.mp4', '348.mp4', '406.mp4', '360.mp4', '407.mp4', '361.mp4', '349.mp4', '62.mp4', '89.mp4', '99.mp4', '167.mp4', '359.mp4', '98.mp4', '166.mp4', '164.mp4', '400.mp4', '366.mp4', '428.mp4', '399.mp4', '398.mp4', '367.mp4', '159.mp4', '165.mp4']\n",
      "adding file\n"
     ]
    },
    {
     "name": "stderr",
     "output_type": "stream",
     "text": [
      "t:  57%|█████▊    | 69/120 [00:00<00:00, 679.15it/s, now=None]"
     ]
    },
    {
     "name": "stdout",
     "output_type": "stream",
     "text": [
      "Moviepy - Building video behavior_data/control/483.mp4.\n",
      "MoviePy - Writing audio in 483TEMP_MPY_wvf_snd.mp4\n",
      "MoviePy - Done.\n",
      "Moviepy - Writing video behavior_data/control/483.mp4\n",
      "\n"
     ]
    },
    {
     "name": "stderr",
     "output_type": "stream",
     "text": [
      "                                                              \r"
     ]
    },
    {
     "name": "stdout",
     "output_type": "stream",
     "text": [
      "Moviepy - Done !\n",
      "Moviepy - video ready behavior_data/control/483.mp4\n",
      "['96.mp4', '82.mp4', '154.mp4', '140.mp4', '7.mp4', '55.mp4', '356.mp4', '342.mp4', '395.mp4', '394.mp4', '343.mp4', '431.mp4', '357.mp4', '419.mp4', '6.mp4', '141.mp4', '221.mp4', '81.mp4', '95.mp4', '143.mp4', '157.mp4', '56.mp4', '369.mp4', '427.mp4', '355.mp4', '433.mp4', '382.mp4', '397.mp4', '383.mp4', '432.mp4', '426.mp4', '340.mp4', '368.mp4', '5.mp4', '156.mp4', '142.mp4', '94.mp4', '80.mp4', '146.mp4', '53.mp4', '344.mp4', '422.mp4', '.DS_Store', '350.mp4', '387.mp4', '345.mp4', '52.mp4', '153.mp4', '147.mp4', '233.mp4', '93.mp4', '87.mp4', '50.mp4', '421.mp4', '384.mp4', '385.mp4', '420.mp4', '434.mp4', '79.mp4', '86.mp4', '232.mp4', '255.mp4', '282.mp4', '137.mp4', '36.mp4', '335.mp4', '453.mp4', '447.mp4', '321.mp4', '446.mp4', '320.mp4', '334.mp4', '452.mp4', '37.mp4', '136.mp4', '297.mp4', '283.mp4', '254.mp4', '242.mp4', '108.mp4', '134.mp4', '322.mp4', '323.mp4', '135.mp4', '109.mp4', '294.mp4', '243.mp4', '253.mp4', '290.mp4', '284.mp4', '131.mp4', '119.mp4', '18.mp4', '327.mp4', '333.mp4', '469.mp4', '483.mp4', '332.mp4', '454.mp4', '326.mp4', '25.mp4', '19.mp4', '118.mp4', '130.mp4', '252.mp4', '244.mp4', '293.mp4', '132.mp4', '27.mp4', '457.mp4', '26.mp4', '245.mp4', '116.mp4', '17.mp4', '328.mp4', '314.mp4', '472.mp4', '466.mp4', '467.mp4', '315.mp4', '329.mp4', '16.mp4', '117.mp4', '277.mp4', '263.mp4', '288.mp4', '129.mp4', '101.mp4', '28.mp4', '459.mp4', '465.mp4', '471.mp4', '470.mp4', '464.mp4', '458.mp4', '100.mp4', '289.mp4', '262.mp4', '276.mp4', '299.mp4', '39.mp4', '11.mp4', '460.mp4', '448.mp4', '449.mp4', '10.mp4', '38.mp4', '298.mp4', '265.mp4', '107.mp4', '12.mp4', '339.mp4', '13.mp4', '106.mp4', '112.mp4', '264.mp4', '149.mp4', '161.mp4', '60.mp4', '405.mp4', '388.mp4', '389.mp4', '362.mp4', '404.mp4', '410.mp4', '61.mp4', '160.mp4', '148.mp4', '162.mp4', '88.mp4', '63.mp4', '348.mp4', '406.mp4', '360.mp4', '407.mp4', '361.mp4', '349.mp4', '62.mp4', '89.mp4', '99.mp4', '167.mp4', '359.mp4', '98.mp4', '166.mp4', '164.mp4', '400.mp4', '366.mp4', '428.mp4', '399.mp4', '398.mp4', '367.mp4', '159.mp4', '165.mp4']\n",
      "adding file\n"
     ]
    },
    {
     "name": "stderr",
     "output_type": "stream",
     "text": [
      "t:  33%|███▎      | 59/180 [00:00<00:00, 588.43it/s, now=None]"
     ]
    },
    {
     "name": "stdout",
     "output_type": "stream",
     "text": [
      "Moviepy - Building video behavior_data/control/484.mp4.\n",
      "MoviePy - Writing audio in 484TEMP_MPY_wvf_snd.mp4\n",
      "MoviePy - Done.\n",
      "Moviepy - Writing video behavior_data/control/484.mp4\n",
      "\n"
     ]
    },
    {
     "name": "stderr",
     "output_type": "stream",
     "text": [
      "                                                               \r"
     ]
    },
    {
     "name": "stdout",
     "output_type": "stream",
     "text": [
      "Moviepy - Done !\n",
      "Moviepy - video ready behavior_data/control/484.mp4\n",
      "['96.mp4', '82.mp4', '154.mp4', '140.mp4', '7.mp4', '55.mp4', '356.mp4', '342.mp4', '395.mp4', '394.mp4', '343.mp4', '431.mp4', '357.mp4', '419.mp4', '6.mp4', '141.mp4', '221.mp4', '81.mp4', '95.mp4', '143.mp4', '157.mp4', '56.mp4', '369.mp4', '427.mp4', '355.mp4', '433.mp4', '382.mp4', '397.mp4', '383.mp4', '432.mp4', '426.mp4', '340.mp4', '368.mp4', '5.mp4', '156.mp4', '142.mp4', '94.mp4', '80.mp4', '146.mp4', '53.mp4', '344.mp4', '422.mp4', '.DS_Store', '350.mp4', '387.mp4', '345.mp4', '52.mp4', '153.mp4', '147.mp4', '233.mp4', '93.mp4', '87.mp4', '50.mp4', '421.mp4', '384.mp4', '385.mp4', '420.mp4', '434.mp4', '79.mp4', '86.mp4', '232.mp4', '255.mp4', '282.mp4', '137.mp4', '36.mp4', '335.mp4', '453.mp4', '447.mp4', '321.mp4', '484.mp4', '446.mp4', '320.mp4', '334.mp4', '452.mp4', '37.mp4', '136.mp4', '297.mp4', '283.mp4', '254.mp4', '242.mp4', '108.mp4', '134.mp4', '322.mp4', '323.mp4', '135.mp4', '109.mp4', '294.mp4', '243.mp4', '253.mp4', '290.mp4', '284.mp4', '131.mp4', '119.mp4', '18.mp4', '327.mp4', '333.mp4', '469.mp4', '483.mp4', '332.mp4', '454.mp4', '326.mp4', '25.mp4', '19.mp4', '118.mp4', '130.mp4', '252.mp4', '244.mp4', '293.mp4', '132.mp4', '27.mp4', '457.mp4', '26.mp4', '245.mp4', '116.mp4', '17.mp4', '328.mp4', '314.mp4', '472.mp4', '466.mp4', '467.mp4', '315.mp4', '329.mp4', '16.mp4', '117.mp4', '277.mp4', '263.mp4', '288.mp4', '129.mp4', '101.mp4', '28.mp4', '459.mp4', '465.mp4', '471.mp4', '470.mp4', '464.mp4', '458.mp4', '100.mp4', '289.mp4', '262.mp4', '276.mp4', '299.mp4', '39.mp4', '11.mp4', '460.mp4', '448.mp4', '449.mp4', '10.mp4', '38.mp4', '298.mp4', '265.mp4', '107.mp4', '12.mp4', '339.mp4', '13.mp4', '106.mp4', '112.mp4', '264.mp4', '149.mp4', '161.mp4', '60.mp4', '405.mp4', '388.mp4', '389.mp4', '362.mp4', '404.mp4', '410.mp4', '61.mp4', '160.mp4', '148.mp4', '162.mp4', '88.mp4', '63.mp4', '348.mp4', '406.mp4', '360.mp4', '407.mp4', '361.mp4', '349.mp4', '62.mp4', '89.mp4', '99.mp4', '167.mp4', '359.mp4', '98.mp4', '166.mp4', '164.mp4', '400.mp4', '366.mp4', '428.mp4', '399.mp4', '398.mp4', '367.mp4', '159.mp4', '165.mp4']\n",
      "adding file\n"
     ]
    },
    {
     "name": "stderr",
     "output_type": "stream",
     "text": [
      "t:  37%|███▋      | 67/180 [00:00<00:00, 663.69it/s, now=None]"
     ]
    },
    {
     "name": "stdout",
     "output_type": "stream",
     "text": [
      "Moviepy - Building video behavior_data/control/485.mp4.\n",
      "MoviePy - Writing audio in 485TEMP_MPY_wvf_snd.mp4\n",
      "MoviePy - Done.\n",
      "Moviepy - Writing video behavior_data/control/485.mp4\n",
      "\n"
     ]
    },
    {
     "name": "stderr",
     "output_type": "stream",
     "text": [
      "                                                               \r"
     ]
    },
    {
     "name": "stdout",
     "output_type": "stream",
     "text": [
      "Moviepy - Done !\n",
      "Moviepy - video ready behavior_data/control/485.mp4\n",
      "['96.mp4', '82.mp4', '154.mp4', '140.mp4', '7.mp4', '55.mp4', '356.mp4', '342.mp4', '395.mp4', '394.mp4', '343.mp4', '431.mp4', '357.mp4', '419.mp4', '6.mp4', '141.mp4', '221.mp4', '81.mp4', '95.mp4', '143.mp4', '157.mp4', '56.mp4', '369.mp4', '427.mp4', '355.mp4', '433.mp4', '382.mp4', '397.mp4', '383.mp4', '432.mp4', '426.mp4', '340.mp4', '368.mp4', '5.mp4', '156.mp4', '142.mp4', '94.mp4', '80.mp4', '146.mp4', '53.mp4', '344.mp4', '422.mp4', '.DS_Store', '350.mp4', '387.mp4', '345.mp4', '52.mp4', '153.mp4', '147.mp4', '233.mp4', '93.mp4', '87.mp4', '50.mp4', '421.mp4', '384.mp4', '385.mp4', '420.mp4', '434.mp4', '79.mp4', '86.mp4', '232.mp4', '255.mp4', '282.mp4', '137.mp4', '36.mp4', '335.mp4', '453.mp4', '447.mp4', '321.mp4', '484.mp4', '485.mp4', '446.mp4', '320.mp4', '334.mp4', '452.mp4', '37.mp4', '136.mp4', '297.mp4', '283.mp4', '254.mp4', '242.mp4', '108.mp4', '134.mp4', '322.mp4', '323.mp4', '135.mp4', '109.mp4', '294.mp4', '243.mp4', '253.mp4', '290.mp4', '284.mp4', '131.mp4', '119.mp4', '18.mp4', '327.mp4', '333.mp4', '469.mp4', '483.mp4', '332.mp4', '454.mp4', '326.mp4', '25.mp4', '19.mp4', '118.mp4', '130.mp4', '252.mp4', '244.mp4', '293.mp4', '132.mp4', '27.mp4', '457.mp4', '26.mp4', '245.mp4', '116.mp4', '17.mp4', '328.mp4', '314.mp4', '472.mp4', '466.mp4', '467.mp4', '315.mp4', '329.mp4', '16.mp4', '117.mp4', '277.mp4', '263.mp4', '288.mp4', '129.mp4', '101.mp4', '28.mp4', '459.mp4', '465.mp4', '471.mp4', '470.mp4', '464.mp4', '458.mp4', '100.mp4', '289.mp4', '262.mp4', '276.mp4', '299.mp4', '39.mp4', '11.mp4', '460.mp4', '448.mp4', '449.mp4', '10.mp4', '38.mp4', '298.mp4', '265.mp4', '107.mp4', '12.mp4', '339.mp4', '13.mp4', '106.mp4', '112.mp4', '264.mp4', '149.mp4', '161.mp4', '60.mp4', '405.mp4', '388.mp4', '389.mp4', '362.mp4', '404.mp4', '410.mp4', '61.mp4', '160.mp4', '148.mp4', '162.mp4', '88.mp4', '63.mp4', '348.mp4', '406.mp4', '360.mp4', '407.mp4', '361.mp4', '349.mp4', '62.mp4', '89.mp4', '99.mp4', '167.mp4', '359.mp4', '98.mp4', '166.mp4', '164.mp4', '400.mp4', '366.mp4', '428.mp4', '399.mp4', '398.mp4', '367.mp4', '159.mp4', '165.mp4']\n",
      "adding file\n"
     ]
    },
    {
     "name": "stderr",
     "output_type": "stream",
     "text": [
      "t:  59%|█████▉    | 71/120 [00:00<00:00, 702.77it/s, now=None]"
     ]
    },
    {
     "name": "stdout",
     "output_type": "stream",
     "text": [
      "Moviepy - Building video behavior_data/control/486.mp4.\n",
      "MoviePy - Writing audio in 486TEMP_MPY_wvf_snd.mp4\n",
      "MoviePy - Done.\n",
      "Moviepy - Writing video behavior_data/control/486.mp4\n",
      "\n"
     ]
    },
    {
     "name": "stderr",
     "output_type": "stream",
     "text": [
      "                                                              \r"
     ]
    },
    {
     "name": "stdout",
     "output_type": "stream",
     "text": [
      "Moviepy - Done !\n",
      "Moviepy - video ready behavior_data/control/486.mp4\n",
      "staring the 70th file\n",
      "http://www.youtube.com/watch?v=AQ-jO6O5gow\n",
      "This is url:  http://www.youtube.com/watch?v=AQ-jO6O5gow\n"
     ]
    },
    {
     "name": "stderr",
     "output_type": "stream",
     "text": [
      "                                                       "
     ]
    },
    {
     "name": "stdout",
     "output_type": "stream",
     "text": [
      "['69.mp4', '381.mp4', '380.mp4', '68.mp4', '83.mp4', '97.mp4', '57.mp4', '84.mp4', '.DS_Store', '436.mp4', '378.mp4', '386.mp4', '379.mp4', '437.mp4', '85.mp4', '145.mp4', '78.mp4', '435.mp4', '144.mp4', '123.mp4', '22.mp4', '23.mp4', '122.mp4', '21.mp4', '35.mp4', '478.mp4', '444.mp4', '445.mp4', '479.mp4', '34.mp4', '20.mp4', '125.mp4', '24.mp4', '30.mp4', '441.mp4', '482.mp4', '440.mp4', '31.mp4', '124.mp4', '126.mp4', '33.mp4', '442.mp4', '481.mp4', '480.mp4', '443.mp4', '32.mp4', '127.mp4', '133.mp4', '102.mp4', '473.mp4', '103.mp4', '115.mp4', '14.mp4', '29.mp4', '15.mp4', '114.mp4', '128.mp4', '104.mp4', '110.mp4', '138.mp4', '474.mp4', '475.mp4', '111.mp4', '105.mp4', '113.mp4', '477.mp4', '476.mp4', '74.mp4', '439.mp4', '363.mp4', '438.mp4', '75.mp4', '77.mp4', '76.mp4', '8.mp4', '66.mp4', '72.mp4', '365.mp4', '358.mp4', '364.mp4', '73.mp4', '67.mp4', '9.mp4', '59.mp4', '71.mp4', '65.mp4', '64.mp4', '70.mp4', '58.mp4']\n",
      "adding file\n",
      "Moviepy - Building video behavior_data/armflapping/487.mp4.\n",
      "MoviePy - Writing audio in 487TEMP_MPY_wvf_snd.mp4\n",
      "MoviePy - Done.\n",
      "Moviepy - Writing video behavior_data/armflapping/487.mp4\n",
      "\n"
     ]
    },
    {
     "name": "stderr",
     "output_type": "stream",
     "text": [
      "chunk:   0%|          | 0/89 [00:00<?, ?it/s, now=None]        "
     ]
    },
    {
     "name": "stdout",
     "output_type": "stream",
     "text": [
      "Moviepy - Done !\n",
      "Moviepy - video ready behavior_data/armflapping/487.mp4\n",
      "['69.mp4', '381.mp4', '380.mp4', '68.mp4', '83.mp4', '97.mp4', '57.mp4', '84.mp4', '.DS_Store', '436.mp4', '378.mp4', '386.mp4', '379.mp4', '437.mp4', '85.mp4', '145.mp4', '78.mp4', '435.mp4', '144.mp4', '123.mp4', '22.mp4', '23.mp4', '122.mp4', '21.mp4', '35.mp4', '478.mp4', '444.mp4', '487.mp4', '445.mp4', '479.mp4', '34.mp4', '20.mp4', '125.mp4', '24.mp4', '30.mp4', '441.mp4', '482.mp4', '440.mp4', '31.mp4', '124.mp4', '126.mp4', '33.mp4', '442.mp4', '481.mp4', '480.mp4', '443.mp4', '32.mp4', '127.mp4', '133.mp4', '102.mp4', '473.mp4', '103.mp4', '115.mp4', '14.mp4', '29.mp4', '15.mp4', '114.mp4', '128.mp4', '104.mp4', '110.mp4', '138.mp4', '474.mp4', '475.mp4', '111.mp4', '105.mp4', '113.mp4', '477.mp4', '476.mp4', '74.mp4', '439.mp4', '363.mp4', '438.mp4', '75.mp4', '77.mp4', '76.mp4', '8.mp4', '66.mp4', '72.mp4', '365.mp4', '358.mp4', '364.mp4', '73.mp4', '67.mp4', '9.mp4', '59.mp4', '71.mp4', '65.mp4', '64.mp4', '70.mp4', '58.mp4']\n",
      "adding file\n",
      "Moviepy - Building video behavior_data/armflapping/488.mp4.\n",
      "MoviePy - Writing audio in 488TEMP_MPY_wvf_snd.mp4\n"
     ]
    },
    {
     "name": "stderr",
     "output_type": "stream",
     "text": [
      "t:  53%|█████▎    | 64/120 [00:00<00:00, 639.72it/s, now=None]"
     ]
    },
    {
     "name": "stdout",
     "output_type": "stream",
     "text": [
      "MoviePy - Done.\n",
      "Moviepy - Writing video behavior_data/armflapping/488.mp4\n",
      "\n"
     ]
    },
    {
     "name": "stderr",
     "output_type": "stream",
     "text": [
      "chunk:   0%|          | 0/133 [00:00<?, ?it/s, now=None]      "
     ]
    },
    {
     "name": "stdout",
     "output_type": "stream",
     "text": [
      "Moviepy - Done !\n",
      "Moviepy - video ready behavior_data/armflapping/488.mp4\n",
      "['96.mp4', '82.mp4', '154.mp4', '140.mp4', '7.mp4', '55.mp4', '356.mp4', '342.mp4', '395.mp4', '394.mp4', '343.mp4', '431.mp4', '357.mp4', '419.mp4', '6.mp4', '141.mp4', '221.mp4', '81.mp4', '95.mp4', '143.mp4', '157.mp4', '56.mp4', '369.mp4', '427.mp4', '355.mp4', '433.mp4', '382.mp4', '397.mp4', '383.mp4', '432.mp4', '426.mp4', '340.mp4', '368.mp4', '5.mp4', '156.mp4', '142.mp4', '94.mp4', '80.mp4', '146.mp4', '53.mp4', '344.mp4', '422.mp4', '.DS_Store', '350.mp4', '387.mp4', '345.mp4', '52.mp4', '153.mp4', '147.mp4', '233.mp4', '93.mp4', '87.mp4', '50.mp4', '421.mp4', '384.mp4', '385.mp4', '420.mp4', '434.mp4', '79.mp4', '86.mp4', '232.mp4', '255.mp4', '282.mp4', '137.mp4', '36.mp4', '335.mp4', '453.mp4', '447.mp4', '321.mp4', '484.mp4', '485.mp4', '446.mp4', '320.mp4', '334.mp4', '452.mp4', '37.mp4', '136.mp4', '297.mp4', '283.mp4', '254.mp4', '242.mp4', '108.mp4', '134.mp4', '322.mp4', '486.mp4', '323.mp4', '135.mp4', '109.mp4', '294.mp4', '243.mp4', '253.mp4', '290.mp4', '284.mp4', '131.mp4', '119.mp4', '18.mp4', '327.mp4', '333.mp4', '469.mp4', '483.mp4', '332.mp4', '454.mp4', '326.mp4', '25.mp4', '19.mp4', '118.mp4', '130.mp4', '252.mp4', '244.mp4', '293.mp4', '132.mp4', '27.mp4', '457.mp4', '26.mp4', '245.mp4', '116.mp4', '17.mp4', '328.mp4', '314.mp4', '472.mp4', '466.mp4', '467.mp4', '315.mp4', '329.mp4', '16.mp4', '117.mp4', '277.mp4', '263.mp4', '288.mp4', '129.mp4', '101.mp4', '28.mp4', '459.mp4', '465.mp4', '471.mp4', '470.mp4', '464.mp4', '458.mp4', '100.mp4', '289.mp4', '262.mp4', '276.mp4', '299.mp4', '39.mp4', '11.mp4', '460.mp4', '448.mp4', '449.mp4', '10.mp4', '38.mp4', '298.mp4', '265.mp4', '107.mp4', '12.mp4', '339.mp4', '13.mp4', '106.mp4', '112.mp4', '264.mp4', '149.mp4', '161.mp4', '60.mp4', '405.mp4', '388.mp4', '389.mp4', '362.mp4', '404.mp4', '410.mp4', '61.mp4', '160.mp4', '148.mp4', '162.mp4', '88.mp4', '63.mp4', '348.mp4', '406.mp4', '360.mp4', '407.mp4', '361.mp4', '349.mp4', '62.mp4', '89.mp4', '99.mp4', '167.mp4', '359.mp4', '98.mp4', '166.mp4', '164.mp4', '400.mp4', '366.mp4', '428.mp4', '399.mp4', '398.mp4', '367.mp4', '159.mp4', '165.mp4']\n",
      "adding file\n",
      "Moviepy - Building video behavior_data/control/489.mp4.\n",
      "MoviePy - Writing audio in 489TEMP_MPY_wvf_snd.mp4\n"
     ]
    },
    {
     "name": "stderr",
     "output_type": "stream",
     "text": [
      "t:  37%|███▋      | 66/180 [00:00<00:00, 646.03it/s, now=None]"
     ]
    },
    {
     "name": "stdout",
     "output_type": "stream",
     "text": [
      "MoviePy - Done.\n",
      "Moviepy - Writing video behavior_data/control/489.mp4\n",
      "\n"
     ]
    },
    {
     "name": "stderr",
     "output_type": "stream",
     "text": [
      "chunk:   0%|          | 0/111 [00:00<?, ?it/s, now=None]       "
     ]
    },
    {
     "name": "stdout",
     "output_type": "stream",
     "text": [
      "Moviepy - Done !\n",
      "Moviepy - video ready behavior_data/control/489.mp4\n",
      "['96.mp4', '82.mp4', '154.mp4', '140.mp4', '7.mp4', '55.mp4', '356.mp4', '342.mp4', '395.mp4', '394.mp4', '343.mp4', '431.mp4', '357.mp4', '419.mp4', '6.mp4', '141.mp4', '221.mp4', '81.mp4', '95.mp4', '143.mp4', '157.mp4', '56.mp4', '369.mp4', '427.mp4', '355.mp4', '433.mp4', '382.mp4', '397.mp4', '383.mp4', '432.mp4', '426.mp4', '340.mp4', '368.mp4', '5.mp4', '156.mp4', '142.mp4', '94.mp4', '80.mp4', '146.mp4', '53.mp4', '344.mp4', '422.mp4', '.DS_Store', '350.mp4', '387.mp4', '345.mp4', '52.mp4', '153.mp4', '147.mp4', '233.mp4', '93.mp4', '87.mp4', '50.mp4', '421.mp4', '384.mp4', '385.mp4', '420.mp4', '434.mp4', '79.mp4', '86.mp4', '232.mp4', '255.mp4', '282.mp4', '137.mp4', '36.mp4', '335.mp4', '453.mp4', '447.mp4', '321.mp4', '484.mp4', '485.mp4', '446.mp4', '320.mp4', '334.mp4', '452.mp4', '37.mp4', '136.mp4', '297.mp4', '283.mp4', '254.mp4', '242.mp4', '108.mp4', '134.mp4', '322.mp4', '486.mp4', '323.mp4', '135.mp4', '109.mp4', '294.mp4', '243.mp4', '253.mp4', '290.mp4', '284.mp4', '131.mp4', '119.mp4', '18.mp4', '327.mp4', '333.mp4', '469.mp4', '483.mp4', '332.mp4', '454.mp4', '326.mp4', '25.mp4', '19.mp4', '118.mp4', '130.mp4', '252.mp4', '244.mp4', '293.mp4', '132.mp4', '27.mp4', '457.mp4', '26.mp4', '245.mp4', '116.mp4', '17.mp4', '328.mp4', '314.mp4', '472.mp4', '466.mp4', '467.mp4', '315.mp4', '329.mp4', '16.mp4', '117.mp4', '277.mp4', '263.mp4', '288.mp4', '129.mp4', '101.mp4', '28.mp4', '459.mp4', '465.mp4', '471.mp4', '470.mp4', '464.mp4', '458.mp4', '100.mp4', '289.mp4', '262.mp4', '276.mp4', '299.mp4', '39.mp4', '11.mp4', '460.mp4', '448.mp4', '449.mp4', '10.mp4', '38.mp4', '298.mp4', '265.mp4', '107.mp4', '12.mp4', '339.mp4', '489.mp4', '13.mp4', '106.mp4', '112.mp4', '264.mp4', '149.mp4', '161.mp4', '60.mp4', '405.mp4', '388.mp4', '389.mp4', '362.mp4', '404.mp4', '410.mp4', '61.mp4', '160.mp4', '148.mp4', '162.mp4', '88.mp4', '63.mp4', '348.mp4', '406.mp4', '360.mp4', '407.mp4', '361.mp4', '349.mp4', '62.mp4', '89.mp4', '99.mp4', '167.mp4', '359.mp4', '98.mp4', '166.mp4', '164.mp4', '400.mp4', '366.mp4', '428.mp4', '399.mp4', '398.mp4', '367.mp4', '159.mp4', '165.mp4']\n",
      "adding file\n",
      "Moviepy - Building video behavior_data/control/490.mp4.\n",
      "MoviePy - Writing audio in 490TEMP_MPY_wvf_snd.mp4\n"
     ]
    },
    {
     "name": "stderr",
     "output_type": "stream",
     "text": [
      "t:  43%|████▎     | 64/150 [00:00<00:00, 638.96it/s, now=None]"
     ]
    },
    {
     "name": "stdout",
     "output_type": "stream",
     "text": [
      "MoviePy - Done.\n",
      "Moviepy - Writing video behavior_data/control/490.mp4\n",
      "\n"
     ]
    },
    {
     "name": "stderr",
     "output_type": "stream",
     "text": [
      "                                                               \r"
     ]
    },
    {
     "name": "stdout",
     "output_type": "stream",
     "text": [
      "Moviepy - Done !\n",
      "Moviepy - video ready behavior_data/control/490.mp4\n",
      "staring the 71th file\n",
      "http://www.youtube.com/watch?v=MOt-6FAEP_g\n",
      "This is url:  http://www.youtube.com/watch?v=MOt-6FAEP_g\n"
     ]
    },
    {
     "name": "stderr",
     "output_type": "stream",
     "text": [
      "\r",
      "chunk:   0%|          | 0/89 [00:00<?, ?it/s, now=None]"
     ]
    },
    {
     "name": "stdout",
     "output_type": "stream",
     "text": [
      "['69.mp4', '381.mp4', '380.mp4', '68.mp4', '83.mp4', '97.mp4', '57.mp4', '84.mp4', '.DS_Store', '436.mp4', '378.mp4', '386.mp4', '379.mp4', '437.mp4', '85.mp4', '145.mp4', '78.mp4', '435.mp4', '144.mp4', '123.mp4', '22.mp4', '23.mp4', '122.mp4', '21.mp4', '35.mp4', '478.mp4', '444.mp4', '487.mp4', '445.mp4', '479.mp4', '34.mp4', '20.mp4', '125.mp4', '24.mp4', '30.mp4', '441.mp4', '482.mp4', '440.mp4', '31.mp4', '124.mp4', '126.mp4', '33.mp4', '442.mp4', '481.mp4', '480.mp4', '443.mp4', '32.mp4', '127.mp4', '133.mp4', '102.mp4', '473.mp4', '103.mp4', '115.mp4', '14.mp4', '29.mp4', '15.mp4', '114.mp4', '128.mp4', '104.mp4', '110.mp4', '138.mp4', '474.mp4', '475.mp4', '111.mp4', '105.mp4', '113.mp4', '477.mp4', '488.mp4', '476.mp4', '74.mp4', '439.mp4', '363.mp4', '438.mp4', '75.mp4', '77.mp4', '76.mp4', '8.mp4', '66.mp4', '72.mp4', '365.mp4', '358.mp4', '364.mp4', '73.mp4', '67.mp4', '9.mp4', '59.mp4', '71.mp4', '65.mp4', '64.mp4', '70.mp4', '58.mp4']\n",
      "adding file\n",
      "Moviepy - Building video behavior_data/armflapping/491.mp4.\n",
      "MoviePy - Writing audio in 491TEMP_MPY_wvf_snd.mp4\n"
     ]
    },
    {
     "name": "stderr",
     "output_type": "stream",
     "text": [
      "                                                                \r"
     ]
    },
    {
     "name": "stdout",
     "output_type": "stream",
     "text": [
      "MoviePy - Done.\n",
      "Moviepy - Writing video behavior_data/armflapping/491.mp4\n",
      "\n",
      "Moviepy - Done !\n",
      "Moviepy - video ready behavior_data/armflapping/491.mp4\n"
     ]
    },
    {
     "name": "stderr",
     "output_type": "stream",
     "text": [
      "                                                        "
     ]
    },
    {
     "name": "stdout",
     "output_type": "stream",
     "text": [
      "['96.mp4', '82.mp4', '154.mp4', '140.mp4', '7.mp4', '55.mp4', '356.mp4', '342.mp4', '395.mp4', '394.mp4', '343.mp4', '431.mp4', '357.mp4', '419.mp4', '6.mp4', '141.mp4', '221.mp4', '81.mp4', '95.mp4', '143.mp4', '157.mp4', '56.mp4', '369.mp4', '427.mp4', '355.mp4', '433.mp4', '382.mp4', '397.mp4', '383.mp4', '432.mp4', '426.mp4', '340.mp4', '368.mp4', '5.mp4', '156.mp4', '142.mp4', '94.mp4', '80.mp4', '146.mp4', '53.mp4', '344.mp4', '422.mp4', '.DS_Store', '350.mp4', '387.mp4', '345.mp4', '52.mp4', '153.mp4', '147.mp4', '233.mp4', '93.mp4', '87.mp4', '50.mp4', '421.mp4', '384.mp4', '385.mp4', '420.mp4', '434.mp4', '79.mp4', '86.mp4', '232.mp4', '255.mp4', '282.mp4', '137.mp4', '36.mp4', '335.mp4', '453.mp4', '447.mp4', '321.mp4', '490.mp4', '484.mp4', '485.mp4', '446.mp4', '320.mp4', '334.mp4', '452.mp4', '37.mp4', '136.mp4', '297.mp4', '283.mp4', '254.mp4', '242.mp4', '108.mp4', '134.mp4', '322.mp4', '486.mp4', '323.mp4', '135.mp4', '109.mp4', '294.mp4', '243.mp4', '253.mp4', '290.mp4', '284.mp4', '131.mp4', '119.mp4', '18.mp4', '327.mp4', '333.mp4', '469.mp4', '483.mp4', '332.mp4', '454.mp4', '326.mp4', '25.mp4', '19.mp4', '118.mp4', '130.mp4', '252.mp4', '244.mp4', '293.mp4', '132.mp4', '27.mp4', '457.mp4', '26.mp4', '245.mp4', '116.mp4', '17.mp4', '328.mp4', '314.mp4', '472.mp4', '466.mp4', '467.mp4', '315.mp4', '329.mp4', '16.mp4', '117.mp4', '277.mp4', '263.mp4', '288.mp4', '129.mp4', '101.mp4', '28.mp4', '459.mp4', '465.mp4', '471.mp4', '470.mp4', '464.mp4', '458.mp4', '100.mp4', '289.mp4', '262.mp4', '276.mp4', '299.mp4', '39.mp4', '11.mp4', '460.mp4', '448.mp4', '449.mp4', '10.mp4', '38.mp4', '298.mp4', '265.mp4', '107.mp4', '12.mp4', '339.mp4', '489.mp4', '13.mp4', '106.mp4', '112.mp4', '264.mp4', '149.mp4', '161.mp4', '60.mp4', '405.mp4', '388.mp4', '389.mp4', '362.mp4', '404.mp4', '410.mp4', '61.mp4', '160.mp4', '148.mp4', '162.mp4', '88.mp4', '63.mp4', '348.mp4', '406.mp4', '360.mp4', '407.mp4', '361.mp4', '349.mp4', '62.mp4', '89.mp4', '99.mp4', '167.mp4', '359.mp4', '98.mp4', '166.mp4', '164.mp4', '400.mp4', '366.mp4', '428.mp4', '399.mp4', '398.mp4', '367.mp4', '159.mp4', '165.mp4']\n",
      "adding file\n",
      "Moviepy - Building video behavior_data/control/492.mp4.\n",
      "MoviePy - Writing audio in 492TEMP_MPY_wvf_snd.mp4\n",
      "MoviePy - Done.\n",
      "Moviepy - Writing video behavior_data/control/492.mp4\n",
      "\n"
     ]
    },
    {
     "name": "stderr",
     "output_type": "stream",
     "text": [
      "chunk:   0%|          | 0/155 [00:00<?, ?it/s, now=None]        "
     ]
    },
    {
     "name": "stdout",
     "output_type": "stream",
     "text": [
      "Moviepy - Done !\n",
      "Moviepy - video ready behavior_data/control/492.mp4\n",
      "['96.mp4', '82.mp4', '154.mp4', '140.mp4', '7.mp4', '55.mp4', '356.mp4', '342.mp4', '395.mp4', '394.mp4', '343.mp4', '431.mp4', '357.mp4', '419.mp4', '6.mp4', '141.mp4', '221.mp4', '81.mp4', '95.mp4', '143.mp4', '157.mp4', '56.mp4', '369.mp4', '427.mp4', '355.mp4', '433.mp4', '382.mp4', '397.mp4', '383.mp4', '432.mp4', '426.mp4', '340.mp4', '368.mp4', '5.mp4', '156.mp4', '142.mp4', '94.mp4', '80.mp4', '146.mp4', '53.mp4', '344.mp4', '422.mp4', '.DS_Store', '350.mp4', '387.mp4', '345.mp4', '52.mp4', '153.mp4', '147.mp4', '233.mp4', '93.mp4', '87.mp4', '50.mp4', '421.mp4', '384.mp4', '385.mp4', '420.mp4', '434.mp4', '79.mp4', '86.mp4', '232.mp4', '255.mp4', '282.mp4', '137.mp4', '36.mp4', '335.mp4', '453.mp4', '447.mp4', '321.mp4', '490.mp4', '484.mp4', '485.mp4', '446.mp4', '320.mp4', '334.mp4', '452.mp4', '37.mp4', '136.mp4', '297.mp4', '283.mp4', '254.mp4', '242.mp4', '108.mp4', '134.mp4', '322.mp4', '492.mp4', '486.mp4', '323.mp4', '135.mp4', '109.mp4', '294.mp4', '243.mp4', '253.mp4', '290.mp4', '284.mp4', '131.mp4', '119.mp4', '18.mp4', '327.mp4', '333.mp4', '469.mp4', '483.mp4', '332.mp4', '454.mp4', '326.mp4', '25.mp4', '19.mp4', '118.mp4', '130.mp4', '252.mp4', '244.mp4', '293.mp4', '132.mp4', '27.mp4', '457.mp4', '26.mp4', '245.mp4', '116.mp4', '17.mp4', '328.mp4', '314.mp4', '472.mp4', '466.mp4', '467.mp4', '315.mp4', '329.mp4', '16.mp4', '117.mp4', '277.mp4', '263.mp4', '288.mp4', '129.mp4', '101.mp4', '28.mp4', '459.mp4', '465.mp4', '471.mp4', '470.mp4', '464.mp4', '458.mp4', '100.mp4', '289.mp4', '262.mp4', '276.mp4', '299.mp4', '39.mp4', '11.mp4', '460.mp4', '448.mp4', '449.mp4', '10.mp4', '38.mp4', '298.mp4', '265.mp4', '107.mp4', '12.mp4', '339.mp4', '489.mp4', '13.mp4', '106.mp4', '112.mp4', '264.mp4', '149.mp4', '161.mp4', '60.mp4', '405.mp4', '388.mp4', '389.mp4', '362.mp4', '404.mp4', '410.mp4', '61.mp4', '160.mp4', '148.mp4', '162.mp4', '88.mp4', '63.mp4', '348.mp4', '406.mp4', '360.mp4', '407.mp4', '361.mp4', '349.mp4', '62.mp4', '89.mp4', '99.mp4', '167.mp4', '359.mp4', '98.mp4', '166.mp4', '164.mp4', '400.mp4', '366.mp4', '428.mp4', '399.mp4', '398.mp4', '367.mp4', '159.mp4', '165.mp4']\n",
      "adding file\n",
      "Moviepy - Building video behavior_data/control/493.mp4.\n",
      "MoviePy - Writing audio in 493TEMP_MPY_wvf_snd.mp4\n"
     ]
    },
    {
     "name": "stderr",
     "output_type": "stream",
     "text": [
      "t:  54%|█████▍    | 113/210 [00:00<00:00, 1112.77it/s, now=None]"
     ]
    },
    {
     "name": "stdout",
     "output_type": "stream",
     "text": [
      "MoviePy - Done.\n",
      "Moviepy - Writing video behavior_data/control/493.mp4\n",
      "\n"
     ]
    },
    {
     "name": "stderr",
     "output_type": "stream",
     "text": [
      "chunk:   0%|          | 0/155 [00:00<?, ?it/s, now=None]        "
     ]
    },
    {
     "name": "stdout",
     "output_type": "stream",
     "text": [
      "Moviepy - Done !\n",
      "Moviepy - video ready behavior_data/control/493.mp4\n",
      "['96.mp4', '82.mp4', '154.mp4', '140.mp4', '7.mp4', '55.mp4', '356.mp4', '342.mp4', '395.mp4', '394.mp4', '343.mp4', '431.mp4', '357.mp4', '419.mp4', '6.mp4', '141.mp4', '221.mp4', '81.mp4', '95.mp4', '143.mp4', '157.mp4', '56.mp4', '369.mp4', '427.mp4', '355.mp4', '433.mp4', '382.mp4', '397.mp4', '383.mp4', '432.mp4', '426.mp4', '340.mp4', '368.mp4', '5.mp4', '156.mp4', '142.mp4', '94.mp4', '80.mp4', '146.mp4', '53.mp4', '344.mp4', '422.mp4', '.DS_Store', '350.mp4', '387.mp4', '345.mp4', '52.mp4', '153.mp4', '147.mp4', '233.mp4', '93.mp4', '87.mp4', '50.mp4', '421.mp4', '384.mp4', '385.mp4', '420.mp4', '434.mp4', '79.mp4', '86.mp4', '232.mp4', '255.mp4', '282.mp4', '137.mp4', '36.mp4', '335.mp4', '453.mp4', '447.mp4', '321.mp4', '490.mp4', '484.mp4', '485.mp4', '446.mp4', '320.mp4', '334.mp4', '452.mp4', '37.mp4', '136.mp4', '297.mp4', '283.mp4', '254.mp4', '242.mp4', '108.mp4', '134.mp4', '322.mp4', '493.mp4', '492.mp4', '486.mp4', '323.mp4', '135.mp4', '109.mp4', '294.mp4', '243.mp4', '253.mp4', '290.mp4', '284.mp4', '131.mp4', '119.mp4', '18.mp4', '327.mp4', '333.mp4', '469.mp4', '483.mp4', '332.mp4', '454.mp4', '326.mp4', '25.mp4', '19.mp4', '118.mp4', '130.mp4', '252.mp4', '244.mp4', '293.mp4', '132.mp4', '27.mp4', '457.mp4', '26.mp4', '245.mp4', '116.mp4', '17.mp4', '328.mp4', '314.mp4', '472.mp4', '466.mp4', '467.mp4', '315.mp4', '329.mp4', '16.mp4', '117.mp4', '277.mp4', '263.mp4', '288.mp4', '129.mp4', '101.mp4', '28.mp4', '459.mp4', '465.mp4', '471.mp4', '470.mp4', '464.mp4', '458.mp4', '100.mp4', '289.mp4', '262.mp4', '276.mp4', '299.mp4', '39.mp4', '11.mp4', '460.mp4', '448.mp4', '449.mp4', '10.mp4', '38.mp4', '298.mp4', '265.mp4', '107.mp4', '12.mp4', '339.mp4', '489.mp4', '13.mp4', '106.mp4', '112.mp4', '264.mp4', '149.mp4', '161.mp4', '60.mp4', '405.mp4', '388.mp4', '389.mp4', '362.mp4', '404.mp4', '410.mp4', '61.mp4', '160.mp4', '148.mp4', '162.mp4', '88.mp4', '63.mp4', '348.mp4', '406.mp4', '360.mp4', '407.mp4', '361.mp4', '349.mp4', '62.mp4', '89.mp4', '99.mp4', '167.mp4', '359.mp4', '98.mp4', '166.mp4', '164.mp4', '400.mp4', '366.mp4', '428.mp4', '399.mp4', '398.mp4', '367.mp4', '159.mp4', '165.mp4']\n",
      "adding file\n",
      "Moviepy - Building video behavior_data/control/494.mp4.\n",
      "MoviePy - Writing audio in 494TEMP_MPY_wvf_snd.mp4\n"
     ]
    },
    {
     "name": "stderr",
     "output_type": "stream",
     "text": [
      "                                                                "
     ]
    },
    {
     "name": "stdout",
     "output_type": "stream",
     "text": [
      "MoviePy - Done.\n",
      "Moviepy - Writing video behavior_data/control/494.mp4\n",
      "\n"
     ]
    },
    {
     "name": "stderr",
     "output_type": "stream",
     "text": [
      "chunk:   0%|          | 0/155 [00:00<?, ?it/s, now=None]"
     ]
    },
    {
     "name": "stdout",
     "output_type": "stream",
     "text": [
      "Moviepy - Done !\n",
      "Moviepy - video ready behavior_data/control/494.mp4\n",
      "['96.mp4', '82.mp4', '154.mp4', '140.mp4', '7.mp4', '55.mp4', '356.mp4', '342.mp4', '395.mp4', '394.mp4', '343.mp4', '431.mp4', '357.mp4', '419.mp4', '6.mp4', '141.mp4', '221.mp4', '81.mp4', '95.mp4', '143.mp4', '157.mp4', '56.mp4', '369.mp4', '427.mp4', '355.mp4', '433.mp4', '382.mp4', '397.mp4', '383.mp4', '432.mp4', '426.mp4', '340.mp4', '368.mp4', '5.mp4', '156.mp4', '142.mp4', '94.mp4', '80.mp4', '146.mp4', '53.mp4', '344.mp4', '422.mp4', '.DS_Store', '350.mp4', '387.mp4', '345.mp4', '52.mp4', '153.mp4', '147.mp4', '233.mp4', '93.mp4', '87.mp4', '50.mp4', '421.mp4', '384.mp4', '385.mp4', '420.mp4', '434.mp4', '79.mp4', '86.mp4', '232.mp4', '255.mp4', '282.mp4', '137.mp4', '36.mp4', '335.mp4', '453.mp4', '447.mp4', '321.mp4', '490.mp4', '484.mp4', '485.mp4', '446.mp4', '320.mp4', '334.mp4', '452.mp4', '37.mp4', '136.mp4', '297.mp4', '283.mp4', '254.mp4', '242.mp4', '108.mp4', '134.mp4', '322.mp4', '493.mp4', '492.mp4', '486.mp4', '323.mp4', '135.mp4', '109.mp4', '294.mp4', '243.mp4', '253.mp4', '290.mp4', '284.mp4', '131.mp4', '119.mp4', '18.mp4', '327.mp4', '333.mp4', '469.mp4', '483.mp4', '332.mp4', '454.mp4', '326.mp4', '25.mp4', '19.mp4', '118.mp4', '130.mp4', '252.mp4', '244.mp4', '293.mp4', '132.mp4', '27.mp4', '494.mp4', '457.mp4', '26.mp4', '245.mp4', '116.mp4', '17.mp4', '328.mp4', '314.mp4', '472.mp4', '466.mp4', '467.mp4', '315.mp4', '329.mp4', '16.mp4', '117.mp4', '277.mp4', '263.mp4', '288.mp4', '129.mp4', '101.mp4', '28.mp4', '459.mp4', '465.mp4', '471.mp4', '470.mp4', '464.mp4', '458.mp4', '100.mp4', '289.mp4', '262.mp4', '276.mp4', '299.mp4', '39.mp4', '11.mp4', '460.mp4', '448.mp4', '449.mp4', '10.mp4', '38.mp4', '298.mp4', '265.mp4', '107.mp4', '12.mp4', '339.mp4', '489.mp4', '13.mp4', '106.mp4', '112.mp4', '264.mp4', '149.mp4', '161.mp4', '60.mp4', '405.mp4', '388.mp4', '389.mp4', '362.mp4', '404.mp4', '410.mp4', '61.mp4', '160.mp4', '148.mp4', '162.mp4', '88.mp4', '63.mp4', '348.mp4', '406.mp4', '360.mp4', '407.mp4', '361.mp4', '349.mp4', '62.mp4', '89.mp4', '99.mp4', '167.mp4', '359.mp4', '98.mp4', '166.mp4', '164.mp4', '400.mp4', '366.mp4', '428.mp4', '399.mp4', '398.mp4', '367.mp4', '159.mp4', '165.mp4']\n",
      "adding file\n",
      "Moviepy - Building video behavior_data/control/495.mp4.\n",
      "MoviePy - Writing audio in 495TEMP_MPY_wvf_snd.mp4\n"
     ]
    },
    {
     "name": "stderr",
     "output_type": "stream",
     "text": [
      "t:  56%|█████▌    | 118/210 [00:00<00:00, 1170.61it/s, now=None]"
     ]
    },
    {
     "name": "stdout",
     "output_type": "stream",
     "text": [
      "MoviePy - Done.\n",
      "Moviepy - Writing video behavior_data/control/495.mp4\n",
      "\n"
     ]
    },
    {
     "name": "stderr",
     "output_type": "stream",
     "text": [
      "                                                                \r"
     ]
    },
    {
     "name": "stdout",
     "output_type": "stream",
     "text": [
      "Moviepy - Done !\n",
      "Moviepy - video ready behavior_data/control/495.mp4\n",
      "staring the 72th file\n",
      "http://www.youtube.com/watch?v=5Ps9iE8mPqY\n",
      "This is url:  http://www.youtube.com/watch?v=5Ps9iE8mPqY\n"
     ]
    },
    {
     "name": "stderr",
     "output_type": "stream",
     "text": [
      "                                                       "
     ]
    },
    {
     "name": "stdout",
     "output_type": "stream",
     "text": [
      "['69.mp4', '381.mp4', '380.mp4', '68.mp4', '83.mp4', '97.mp4', '57.mp4', '84.mp4', '.DS_Store', '436.mp4', '378.mp4', '386.mp4', '379.mp4', '437.mp4', '85.mp4', '145.mp4', '78.mp4', '435.mp4', '144.mp4', '123.mp4', '22.mp4', '491.mp4', '23.mp4', '122.mp4', '21.mp4', '35.mp4', '478.mp4', '444.mp4', '487.mp4', '445.mp4', '479.mp4', '34.mp4', '20.mp4', '125.mp4', '24.mp4', '30.mp4', '441.mp4', '482.mp4', '440.mp4', '31.mp4', '124.mp4', '126.mp4', '33.mp4', '442.mp4', '481.mp4', '480.mp4', '443.mp4', '32.mp4', '127.mp4', '133.mp4', '102.mp4', '473.mp4', '103.mp4', '115.mp4', '14.mp4', '29.mp4', '15.mp4', '114.mp4', '128.mp4', '104.mp4', '110.mp4', '138.mp4', '474.mp4', '475.mp4', '111.mp4', '105.mp4', '113.mp4', '477.mp4', '488.mp4', '476.mp4', '74.mp4', '439.mp4', '363.mp4', '438.mp4', '75.mp4', '77.mp4', '76.mp4', '8.mp4', '66.mp4', '72.mp4', '365.mp4', '358.mp4', '364.mp4', '73.mp4', '67.mp4', '9.mp4', '59.mp4', '71.mp4', '65.mp4', '64.mp4', '70.mp4', '58.mp4']\n",
      "adding file\n",
      "Moviepy - Building video behavior_data/armflapping/496.mp4.\n",
      "MoviePy - Writing audio in 496TEMP_MPY_wvf_snd.mp4\n"
     ]
    },
    {
     "name": "stderr",
     "output_type": "stream",
     "text": [
      "                                                   \r"
     ]
    },
    {
     "name": "stdout",
     "output_type": "stream",
     "text": [
      "MoviePy - Done.\n",
      "Moviepy - Writing video behavior_data/armflapping/496.mp4\n",
      "\n",
      "Moviepy - Done !\n",
      "Moviepy - video ready behavior_data/armflapping/496.mp4\n",
      "['69.mp4', '381.mp4', '380.mp4', '68.mp4', '83.mp4', '97.mp4', '57.mp4', '84.mp4', '.DS_Store', '436.mp4', '378.mp4', '386.mp4', '379.mp4', '437.mp4', '85.mp4', '145.mp4', '78.mp4', '435.mp4', '144.mp4', '123.mp4', '22.mp4', '491.mp4', '23.mp4', '122.mp4', '21.mp4', '35.mp4', '478.mp4', '444.mp4', '487.mp4', '445.mp4', '479.mp4', '34.mp4', '20.mp4', '125.mp4', '24.mp4', '30.mp4', '441.mp4', '482.mp4', '496.mp4', '440.mp4', '31.mp4', '124.mp4', '126.mp4', '33.mp4', '442.mp4', '481.mp4', '480.mp4', '443.mp4', '32.mp4', '127.mp4', '133.mp4', '102.mp4', '473.mp4', '103.mp4', '115.mp4', '14.mp4', '29.mp4', '15.mp4', '114.mp4', '128.mp4', '104.mp4', '110.mp4', '138.mp4', '474.mp4', '475.mp4', '111.mp4', '105.mp4', '113.mp4', '477.mp4', '488.mp4', '476.mp4', '74.mp4', '439.mp4', '363.mp4', '438.mp4', '75.mp4', '77.mp4', '76.mp4', '8.mp4', '66.mp4', '72.mp4', '365.mp4', '358.mp4', '364.mp4', '73.mp4', '67.mp4', '9.mp4', '59.mp4', '71.mp4', '65.mp4', '64.mp4', '70.mp4', '58.mp4']\n",
      "adding file\n"
     ]
    },
    {
     "name": "stderr",
     "output_type": "stream",
     "text": [
      "t:  97%|█████████▋| 93/96 [00:00<00:00, 909.39it/s, now=None]"
     ]
    },
    {
     "name": "stdout",
     "output_type": "stream",
     "text": [
      "Moviepy - Building video behavior_data/armflapping/497.mp4.\n",
      "MoviePy - Writing audio in 497TEMP_MPY_wvf_snd.mp4\n",
      "MoviePy - Done.\n",
      "Moviepy - Writing video behavior_data/armflapping/497.mp4\n",
      "\n"
     ]
    },
    {
     "name": "stderr",
     "output_type": "stream",
     "text": [
      "chunk:   0%|          | 0/155 [00:00<?, ?it/s, now=None]     "
     ]
    },
    {
     "name": "stdout",
     "output_type": "stream",
     "text": [
      "Moviepy - Done !\n",
      "Moviepy - video ready behavior_data/armflapping/497.mp4\n",
      "['69.mp4', '381.mp4', '380.mp4', '68.mp4', '83.mp4', '97.mp4', '57.mp4', '84.mp4', '.DS_Store', '436.mp4', '378.mp4', '386.mp4', '379.mp4', '437.mp4', '85.mp4', '145.mp4', '78.mp4', '435.mp4', '144.mp4', '123.mp4', '22.mp4', '491.mp4', '23.mp4', '122.mp4', '21.mp4', '35.mp4', '478.mp4', '444.mp4', '487.mp4', '445.mp4', '479.mp4', '34.mp4', '20.mp4', '125.mp4', '24.mp4', '30.mp4', '441.mp4', '482.mp4', '496.mp4', '497.mp4', '440.mp4', '31.mp4', '124.mp4', '126.mp4', '33.mp4', '442.mp4', '481.mp4', '480.mp4', '443.mp4', '32.mp4', '127.mp4', '133.mp4', '102.mp4', '473.mp4', '103.mp4', '115.mp4', '14.mp4', '29.mp4', '15.mp4', '114.mp4', '128.mp4', '104.mp4', '110.mp4', '138.mp4', '474.mp4', '475.mp4', '111.mp4', '105.mp4', '113.mp4', '477.mp4', '488.mp4', '476.mp4', '74.mp4', '439.mp4', '363.mp4', '438.mp4', '75.mp4', '77.mp4', '76.mp4', '8.mp4', '66.mp4', '72.mp4', '365.mp4', '358.mp4', '364.mp4', '73.mp4', '67.mp4', '9.mp4', '59.mp4', '71.mp4', '65.mp4', '64.mp4', '70.mp4', '58.mp4']\n",
      "adding file\n",
      "Moviepy - Building video behavior_data/armflapping/498.mp4.\n",
      "MoviePy - Writing audio in 498TEMP_MPY_wvf_snd.mp4\n"
     ]
    },
    {
     "name": "stderr",
     "output_type": "stream",
     "text": [
      "t:  53%|█████▎    | 89/168 [00:00<00:00, 888.34it/s, now=None]"
     ]
    },
    {
     "name": "stdout",
     "output_type": "stream",
     "text": [
      "MoviePy - Done.\n",
      "Moviepy - Writing video behavior_data/armflapping/498.mp4\n",
      "\n"
     ]
    },
    {
     "name": "stderr",
     "output_type": "stream",
     "text": [
      "chunk:   0%|          | 0/133 [00:00<?, ?it/s, now=None]      "
     ]
    },
    {
     "name": "stdout",
     "output_type": "stream",
     "text": [
      "Moviepy - Done !\n",
      "Moviepy - video ready behavior_data/armflapping/498.mp4\n",
      "['69.mp4', '381.mp4', '380.mp4', '68.mp4', '83.mp4', '97.mp4', '57.mp4', '84.mp4', '.DS_Store', '436.mp4', '378.mp4', '386.mp4', '379.mp4', '437.mp4', '85.mp4', '145.mp4', '78.mp4', '435.mp4', '144.mp4', '123.mp4', '22.mp4', '491.mp4', '23.mp4', '122.mp4', '21.mp4', '35.mp4', '478.mp4', '444.mp4', '487.mp4', '445.mp4', '479.mp4', '34.mp4', '20.mp4', '125.mp4', '24.mp4', '30.mp4', '441.mp4', '482.mp4', '496.mp4', '497.mp4', '440.mp4', '31.mp4', '124.mp4', '126.mp4', '33.mp4', '442.mp4', '481.mp4', '480.mp4', '443.mp4', '32.mp4', '127.mp4', '133.mp4', '102.mp4', '498.mp4', '473.mp4', '103.mp4', '115.mp4', '14.mp4', '29.mp4', '15.mp4', '114.mp4', '128.mp4', '104.mp4', '110.mp4', '138.mp4', '474.mp4', '475.mp4', '111.mp4', '105.mp4', '113.mp4', '477.mp4', '488.mp4', '476.mp4', '74.mp4', '439.mp4', '363.mp4', '438.mp4', '75.mp4', '77.mp4', '76.mp4', '8.mp4', '66.mp4', '72.mp4', '365.mp4', '358.mp4', '364.mp4', '73.mp4', '67.mp4', '9.mp4', '59.mp4', '71.mp4', '65.mp4', '64.mp4', '70.mp4', '58.mp4']\n",
      "adding file\n",
      "Moviepy - Building video behavior_data/armflapping/499.mp4.\n",
      "MoviePy - Writing audio in 499TEMP_MPY_wvf_snd.mp4\n"
     ]
    },
    {
     "name": "stderr",
     "output_type": "stream",
     "text": [
      "                                                              \r"
     ]
    },
    {
     "name": "stdout",
     "output_type": "stream",
     "text": [
      "MoviePy - Done.\n",
      "Moviepy - Writing video behavior_data/armflapping/499.mp4\n",
      "\n"
     ]
    },
    {
     "name": "stderr",
     "output_type": "stream",
     "text": [
      "\r",
      "chunk:   0%|          | 0/111 [00:00<?, ?it/s, now=None]"
     ]
    },
    {
     "name": "stdout",
     "output_type": "stream",
     "text": [
      "Moviepy - Done !\n",
      "Moviepy - video ready behavior_data/armflapping/499.mp4\n",
      "['69.mp4', '381.mp4', '380.mp4', '68.mp4', '83.mp4', '97.mp4', '57.mp4', '84.mp4', '.DS_Store', '436.mp4', '378.mp4', '386.mp4', '379.mp4', '437.mp4', '85.mp4', '145.mp4', '78.mp4', '435.mp4', '144.mp4', '123.mp4', '22.mp4', '491.mp4', '23.mp4', '122.mp4', '21.mp4', '35.mp4', '478.mp4', '444.mp4', '487.mp4', '445.mp4', '479.mp4', '34.mp4', '20.mp4', '125.mp4', '24.mp4', '30.mp4', '441.mp4', '482.mp4', '496.mp4', '497.mp4', '440.mp4', '31.mp4', '124.mp4', '126.mp4', '33.mp4', '442.mp4', '481.mp4', '480.mp4', '443.mp4', '32.mp4', '127.mp4', '133.mp4', '102.mp4', '499.mp4', '498.mp4', '473.mp4', '103.mp4', '115.mp4', '14.mp4', '29.mp4', '15.mp4', '114.mp4', '128.mp4', '104.mp4', '110.mp4', '138.mp4', '474.mp4', '475.mp4', '111.mp4', '105.mp4', '113.mp4', '477.mp4', '488.mp4', '476.mp4', '74.mp4', '439.mp4', '363.mp4', '438.mp4', '75.mp4', '77.mp4', '76.mp4', '8.mp4', '66.mp4', '72.mp4', '365.mp4', '358.mp4', '364.mp4', '73.mp4', '67.mp4', '9.mp4', '59.mp4', '71.mp4', '65.mp4', '64.mp4', '70.mp4', '58.mp4']\n",
      "adding file\n",
      "Moviepy - Building video behavior_data/armflapping/500.mp4.\n",
      "MoviePy - Writing audio in 500TEMP_MPY_wvf_snd.mp4\n"
     ]
    },
    {
     "name": "stderr",
     "output_type": "stream",
     "text": [
      "                                                              \r"
     ]
    },
    {
     "name": "stdout",
     "output_type": "stream",
     "text": [
      "MoviePy - Done.\n",
      "Moviepy - Writing video behavior_data/armflapping/500.mp4\n",
      "\n"
     ]
    },
    {
     "name": "stderr",
     "output_type": "stream",
     "text": [
      "\r",
      "chunk:   0%|          | 0/111 [00:00<?, ?it/s, now=None]"
     ]
    },
    {
     "name": "stdout",
     "output_type": "stream",
     "text": [
      "Moviepy - Done !\n",
      "Moviepy - video ready behavior_data/armflapping/500.mp4\n",
      "['69.mp4', '381.mp4', '380.mp4', '68.mp4', '83.mp4', '97.mp4', '57.mp4', '84.mp4', '.DS_Store', '436.mp4', '378.mp4', '386.mp4', '379.mp4', '437.mp4', '85.mp4', '145.mp4', '78.mp4', '435.mp4', '144.mp4', '123.mp4', '22.mp4', '491.mp4', '23.mp4', '122.mp4', '21.mp4', '35.mp4', '478.mp4', '444.mp4', '487.mp4', '445.mp4', '479.mp4', '34.mp4', '20.mp4', '125.mp4', '24.mp4', '30.mp4', '441.mp4', '482.mp4', '496.mp4', '497.mp4', '440.mp4', '31.mp4', '124.mp4', '126.mp4', '33.mp4', '442.mp4', '481.mp4', '480.mp4', '443.mp4', '32.mp4', '127.mp4', '133.mp4', '102.mp4', '499.mp4', '498.mp4', '473.mp4', '103.mp4', '115.mp4', '14.mp4', '29.mp4', '15.mp4', '114.mp4', '128.mp4', '500.mp4', '104.mp4', '110.mp4', '138.mp4', '474.mp4', '475.mp4', '111.mp4', '105.mp4', '113.mp4', '477.mp4', '488.mp4', '476.mp4', '74.mp4', '439.mp4', '363.mp4', '438.mp4', '75.mp4', '77.mp4', '76.mp4', '8.mp4', '66.mp4', '72.mp4', '365.mp4', '358.mp4', '364.mp4', '73.mp4', '67.mp4', '9.mp4', '59.mp4', '71.mp4', '65.mp4', '64.mp4', '70.mp4', '58.mp4']\n",
      "adding file\n",
      "Moviepy - Building video behavior_data/armflapping/501.mp4.\n",
      "MoviePy - Writing audio in 501TEMP_MPY_wvf_snd.mp4\n"
     ]
    },
    {
     "name": "stderr",
     "output_type": "stream",
     "text": [
      "                                                              \r"
     ]
    },
    {
     "name": "stdout",
     "output_type": "stream",
     "text": [
      "MoviePy - Done.\n",
      "Moviepy - Writing video behavior_data/armflapping/501.mp4\n",
      "\n"
     ]
    },
    {
     "name": "stderr",
     "output_type": "stream",
     "text": [
      "\r",
      "chunk:   0%|          | 0/133 [00:00<?, ?it/s, now=None]"
     ]
    },
    {
     "name": "stdout",
     "output_type": "stream",
     "text": [
      "Moviepy - Done !\n",
      "Moviepy - video ready behavior_data/armflapping/501.mp4\n",
      "['69.mp4', '381.mp4', '380.mp4', '68.mp4', '83.mp4', '97.mp4', '57.mp4', '84.mp4', '.DS_Store', '436.mp4', '378.mp4', '386.mp4', '379.mp4', '437.mp4', '85.mp4', '145.mp4', '78.mp4', '435.mp4', '144.mp4', '123.mp4', '22.mp4', '491.mp4', '23.mp4', '122.mp4', '21.mp4', '35.mp4', '478.mp4', '444.mp4', '487.mp4', '445.mp4', '479.mp4', '34.mp4', '20.mp4', '125.mp4', '24.mp4', '30.mp4', '441.mp4', '482.mp4', '496.mp4', '497.mp4', '440.mp4', '31.mp4', '124.mp4', '126.mp4', '33.mp4', '442.mp4', '481.mp4', '480.mp4', '443.mp4', '32.mp4', '127.mp4', '133.mp4', '102.mp4', '499.mp4', '498.mp4', '473.mp4', '103.mp4', '115.mp4', '14.mp4', '29.mp4', '15.mp4', '114.mp4', '128.mp4', '500.mp4', '104.mp4', '110.mp4', '138.mp4', '474.mp4', '475.mp4', '111.mp4', '105.mp4', '501.mp4', '113.mp4', '477.mp4', '488.mp4', '476.mp4', '74.mp4', '439.mp4', '363.mp4', '438.mp4', '75.mp4', '77.mp4', '76.mp4', '8.mp4', '66.mp4', '72.mp4', '365.mp4', '358.mp4', '364.mp4', '73.mp4', '67.mp4', '9.mp4', '59.mp4', '71.mp4', '65.mp4', '64.mp4', '70.mp4', '58.mp4']\n",
      "adding file\n",
      "Moviepy - Building video behavior_data/armflapping/502.mp4.\n",
      "MoviePy - Writing audio in 502TEMP_MPY_wvf_snd.mp4\n"
     ]
    },
    {
     "name": "stderr",
     "output_type": "stream",
     "text": [
      "                                                              \r"
     ]
    },
    {
     "name": "stdout",
     "output_type": "stream",
     "text": [
      "MoviePy - Done.\n",
      "Moviepy - Writing video behavior_data/armflapping/502.mp4\n",
      "\n"
     ]
    },
    {
     "name": "stderr",
     "output_type": "stream",
     "text": [
      "\r",
      "chunk:   0%|          | 0/111 [00:00<?, ?it/s, now=None]"
     ]
    },
    {
     "name": "stdout",
     "output_type": "stream",
     "text": [
      "Moviepy - Done !\n",
      "Moviepy - video ready behavior_data/armflapping/502.mp4\n",
      "['69.mp4', '381.mp4', '380.mp4', '68.mp4', '83.mp4', '97.mp4', '57.mp4', '84.mp4', '.DS_Store', '436.mp4', '378.mp4', '386.mp4', '379.mp4', '437.mp4', '85.mp4', '145.mp4', '78.mp4', '435.mp4', '144.mp4', '123.mp4', '22.mp4', '491.mp4', '23.mp4', '122.mp4', '21.mp4', '35.mp4', '478.mp4', '444.mp4', '487.mp4', '445.mp4', '479.mp4', '34.mp4', '20.mp4', '125.mp4', '24.mp4', '30.mp4', '441.mp4', '482.mp4', '496.mp4', '497.mp4', '440.mp4', '31.mp4', '124.mp4', '126.mp4', '33.mp4', '442.mp4', '481.mp4', '480.mp4', '443.mp4', '32.mp4', '127.mp4', '133.mp4', '102.mp4', '499.mp4', '498.mp4', '473.mp4', '103.mp4', '115.mp4', '14.mp4', '29.mp4', '15.mp4', '114.mp4', '128.mp4', '500.mp4', '104.mp4', '110.mp4', '138.mp4', '474.mp4', '475.mp4', '111.mp4', '105.mp4', '501.mp4', '113.mp4', '477.mp4', '488.mp4', '476.mp4', '502.mp4', '74.mp4', '439.mp4', '363.mp4', '438.mp4', '75.mp4', '77.mp4', '76.mp4', '8.mp4', '66.mp4', '72.mp4', '365.mp4', '358.mp4', '364.mp4', '73.mp4', '67.mp4', '9.mp4', '59.mp4', '71.mp4', '65.mp4', '64.mp4', '70.mp4', '58.mp4']\n",
      "adding file\n",
      "Moviepy - Building video behavior_data/armflapping/503.mp4.\n",
      "MoviePy - Writing audio in 503TEMP_MPY_wvf_snd.mp4\n"
     ]
    },
    {
     "name": "stderr",
     "output_type": "stream",
     "text": [
      "                                                              \r"
     ]
    },
    {
     "name": "stdout",
     "output_type": "stream",
     "text": [
      "MoviePy - Done.\n",
      "Moviepy - Writing video behavior_data/armflapping/503.mp4\n",
      "\n"
     ]
    },
    {
     "name": "stderr",
     "output_type": "stream",
     "text": [
      "\r",
      "chunk:   0%|          | 0/111 [00:00<?, ?it/s, now=None]"
     ]
    },
    {
     "name": "stdout",
     "output_type": "stream",
     "text": [
      "Moviepy - Done !\n",
      "Moviepy - video ready behavior_data/armflapping/503.mp4\n",
      "['69.mp4', '381.mp4', '380.mp4', '68.mp4', '83.mp4', '97.mp4', '57.mp4', '84.mp4', '.DS_Store', '436.mp4', '378.mp4', '386.mp4', '379.mp4', '437.mp4', '85.mp4', '145.mp4', '78.mp4', '435.mp4', '144.mp4', '123.mp4', '22.mp4', '491.mp4', '23.mp4', '122.mp4', '21.mp4', '35.mp4', '478.mp4', '444.mp4', '487.mp4', '445.mp4', '479.mp4', '34.mp4', '20.mp4', '125.mp4', '24.mp4', '30.mp4', '441.mp4', '482.mp4', '496.mp4', '497.mp4', '440.mp4', '31.mp4', '124.mp4', '126.mp4', '33.mp4', '442.mp4', '481.mp4', '480.mp4', '443.mp4', '32.mp4', '127.mp4', '133.mp4', '102.mp4', '499.mp4', '498.mp4', '473.mp4', '103.mp4', '115.mp4', '14.mp4', '29.mp4', '15.mp4', '114.mp4', '128.mp4', '500.mp4', '104.mp4', '110.mp4', '138.mp4', '474.mp4', '475.mp4', '111.mp4', '105.mp4', '501.mp4', '503.mp4', '113.mp4', '477.mp4', '488.mp4', '476.mp4', '502.mp4', '74.mp4', '439.mp4', '363.mp4', '438.mp4', '75.mp4', '77.mp4', '76.mp4', '8.mp4', '66.mp4', '72.mp4', '365.mp4', '358.mp4', '364.mp4', '73.mp4', '67.mp4', '9.mp4', '59.mp4', '71.mp4', '65.mp4', '64.mp4', '70.mp4', '58.mp4']\n",
      "adding file\n",
      "Moviepy - Building video behavior_data/armflapping/504.mp4.\n",
      "MoviePy - Writing audio in 504TEMP_MPY_wvf_snd.mp4\n"
     ]
    },
    {
     "name": "stderr",
     "output_type": "stream",
     "text": [
      "                                                              \r"
     ]
    },
    {
     "name": "stdout",
     "output_type": "stream",
     "text": [
      "MoviePy - Done.\n",
      "Moviepy - Writing video behavior_data/armflapping/504.mp4\n",
      "\n"
     ]
    },
    {
     "name": "stderr",
     "output_type": "stream",
     "text": [
      "\r",
      "chunk:   0%|          | 0/111 [00:00<?, ?it/s, now=None]"
     ]
    },
    {
     "name": "stdout",
     "output_type": "stream",
     "text": [
      "Moviepy - Done !\n",
      "Moviepy - video ready behavior_data/armflapping/504.mp4\n",
      "['69.mp4', '381.mp4', '380.mp4', '68.mp4', '83.mp4', '97.mp4', '57.mp4', '84.mp4', '.DS_Store', '436.mp4', '378.mp4', '386.mp4', '379.mp4', '437.mp4', '85.mp4', '145.mp4', '78.mp4', '435.mp4', '144.mp4', '123.mp4', '22.mp4', '491.mp4', '23.mp4', '122.mp4', '21.mp4', '35.mp4', '478.mp4', '444.mp4', '487.mp4', '445.mp4', '479.mp4', '34.mp4', '20.mp4', '125.mp4', '24.mp4', '30.mp4', '441.mp4', '482.mp4', '496.mp4', '497.mp4', '440.mp4', '31.mp4', '124.mp4', '126.mp4', '33.mp4', '442.mp4', '481.mp4', '480.mp4', '443.mp4', '32.mp4', '127.mp4', '133.mp4', '102.mp4', '499.mp4', '498.mp4', '473.mp4', '103.mp4', '115.mp4', '14.mp4', '29.mp4', '15.mp4', '114.mp4', '128.mp4', '504.mp4', '500.mp4', '104.mp4', '110.mp4', '138.mp4', '474.mp4', '475.mp4', '111.mp4', '105.mp4', '501.mp4', '503.mp4', '113.mp4', '477.mp4', '488.mp4', '476.mp4', '502.mp4', '74.mp4', '439.mp4', '363.mp4', '438.mp4', '75.mp4', '77.mp4', '76.mp4', '8.mp4', '66.mp4', '72.mp4', '365.mp4', '358.mp4', '364.mp4', '73.mp4', '67.mp4', '9.mp4', '59.mp4', '71.mp4', '65.mp4', '64.mp4', '70.mp4', '58.mp4']\n",
      "adding file\n",
      "Moviepy - Building video behavior_data/armflapping/505.mp4.\n",
      "MoviePy - Writing audio in 505TEMP_MPY_wvf_snd.mp4\n"
     ]
    },
    {
     "name": "stderr",
     "output_type": "stream",
     "text": [
      "                                                              \r"
     ]
    },
    {
     "name": "stdout",
     "output_type": "stream",
     "text": [
      "MoviePy - Done.\n",
      "Moviepy - Writing video behavior_data/armflapping/505.mp4\n",
      "\n"
     ]
    },
    {
     "name": "stderr",
     "output_type": "stream",
     "text": [
      "\r",
      "chunk:   0%|          | 0/111 [00:00<?, ?it/s, now=None]"
     ]
    },
    {
     "name": "stdout",
     "output_type": "stream",
     "text": [
      "Moviepy - Done !\n",
      "Moviepy - video ready behavior_data/armflapping/505.mp4\n",
      "['96.mp4', '82.mp4', '154.mp4', '140.mp4', '7.mp4', '55.mp4', '356.mp4', '342.mp4', '395.mp4', '394.mp4', '343.mp4', '431.mp4', '357.mp4', '419.mp4', '6.mp4', '141.mp4', '221.mp4', '81.mp4', '95.mp4', '143.mp4', '157.mp4', '56.mp4', '369.mp4', '427.mp4', '355.mp4', '433.mp4', '382.mp4', '397.mp4', '383.mp4', '432.mp4', '426.mp4', '340.mp4', '368.mp4', '5.mp4', '156.mp4', '142.mp4', '94.mp4', '80.mp4', '146.mp4', '53.mp4', '344.mp4', '422.mp4', '.DS_Store', '350.mp4', '387.mp4', '345.mp4', '52.mp4', '153.mp4', '147.mp4', '233.mp4', '93.mp4', '87.mp4', '50.mp4', '421.mp4', '384.mp4', '385.mp4', '420.mp4', '434.mp4', '79.mp4', '86.mp4', '232.mp4', '255.mp4', '282.mp4', '137.mp4', '36.mp4', '335.mp4', '453.mp4', '447.mp4', '321.mp4', '490.mp4', '484.mp4', '485.mp4', '446.mp4', '320.mp4', '334.mp4', '452.mp4', '37.mp4', '136.mp4', '297.mp4', '283.mp4', '254.mp4', '242.mp4', '108.mp4', '134.mp4', '322.mp4', '493.mp4', '492.mp4', '486.mp4', '323.mp4', '135.mp4', '109.mp4', '294.mp4', '243.mp4', '253.mp4', '290.mp4', '284.mp4', '131.mp4', '119.mp4', '18.mp4', '327.mp4', '333.mp4', '469.mp4', '483.mp4', '332.mp4', '454.mp4', '326.mp4', '25.mp4', '19.mp4', '118.mp4', '130.mp4', '252.mp4', '244.mp4', '293.mp4', '132.mp4', '27.mp4', '495.mp4', '494.mp4', '457.mp4', '26.mp4', '245.mp4', '116.mp4', '17.mp4', '328.mp4', '314.mp4', '472.mp4', '466.mp4', '467.mp4', '315.mp4', '329.mp4', '16.mp4', '117.mp4', '277.mp4', '263.mp4', '288.mp4', '129.mp4', '101.mp4', '28.mp4', '459.mp4', '465.mp4', '471.mp4', '470.mp4', '464.mp4', '458.mp4', '100.mp4', '289.mp4', '262.mp4', '276.mp4', '299.mp4', '39.mp4', '11.mp4', '460.mp4', '448.mp4', '449.mp4', '10.mp4', '38.mp4', '298.mp4', '265.mp4', '107.mp4', '12.mp4', '339.mp4', '489.mp4', '13.mp4', '106.mp4', '112.mp4', '264.mp4', '149.mp4', '161.mp4', '60.mp4', '405.mp4', '388.mp4', '389.mp4', '362.mp4', '404.mp4', '410.mp4', '61.mp4', '160.mp4', '148.mp4', '162.mp4', '88.mp4', '63.mp4', '348.mp4', '406.mp4', '360.mp4', '407.mp4', '361.mp4', '349.mp4', '62.mp4', '89.mp4', '99.mp4', '167.mp4', '359.mp4', '98.mp4', '166.mp4', '164.mp4', '400.mp4', '366.mp4', '428.mp4', '399.mp4', '398.mp4', '367.mp4', '159.mp4', '165.mp4']\n",
      "adding file\n",
      "Moviepy - Building video behavior_data/control/506.mp4.\n",
      "MoviePy - Writing audio in 506TEMP_MPY_wvf_snd.mp4\n"
     ]
    },
    {
     "name": "stderr",
     "output_type": "stream",
     "text": [
      "                                                              \r"
     ]
    },
    {
     "name": "stdout",
     "output_type": "stream",
     "text": [
      "MoviePy - Done.\n",
      "Moviepy - Writing video behavior_data/control/506.mp4\n",
      "\n"
     ]
    },
    {
     "name": "stderr",
     "output_type": "stream",
     "text": [
      "\r",
      "chunk:   0%|          | 0/111 [00:00<?, ?it/s, now=None]"
     ]
    },
    {
     "name": "stdout",
     "output_type": "stream",
     "text": [
      "Moviepy - Done !\n",
      "Moviepy - video ready behavior_data/control/506.mp4\n",
      "['96.mp4', '82.mp4', '154.mp4', '140.mp4', '7.mp4', '55.mp4', '356.mp4', '342.mp4', '395.mp4', '394.mp4', '343.mp4', '431.mp4', '357.mp4', '419.mp4', '6.mp4', '141.mp4', '221.mp4', '81.mp4', '95.mp4', '143.mp4', '157.mp4', '56.mp4', '369.mp4', '427.mp4', '355.mp4', '433.mp4', '382.mp4', '397.mp4', '383.mp4', '432.mp4', '426.mp4', '340.mp4', '368.mp4', '5.mp4', '156.mp4', '142.mp4', '94.mp4', '80.mp4', '146.mp4', '53.mp4', '344.mp4', '422.mp4', '.DS_Store', '350.mp4', '387.mp4', '345.mp4', '52.mp4', '153.mp4', '147.mp4', '233.mp4', '93.mp4', '87.mp4', '50.mp4', '421.mp4', '384.mp4', '385.mp4', '420.mp4', '434.mp4', '79.mp4', '86.mp4', '232.mp4', '255.mp4', '282.mp4', '137.mp4', '36.mp4', '335.mp4', '453.mp4', '447.mp4', '321.mp4', '490.mp4', '484.mp4', '485.mp4', '446.mp4', '320.mp4', '334.mp4', '452.mp4', '37.mp4', '136.mp4', '297.mp4', '283.mp4', '254.mp4', '242.mp4', '108.mp4', '134.mp4', '322.mp4', '493.mp4', '492.mp4', '486.mp4', '323.mp4', '135.mp4', '109.mp4', '294.mp4', '243.mp4', '253.mp4', '290.mp4', '284.mp4', '131.mp4', '119.mp4', '18.mp4', '327.mp4', '333.mp4', '469.mp4', '483.mp4', '332.mp4', '454.mp4', '326.mp4', '25.mp4', '19.mp4', '118.mp4', '130.mp4', '252.mp4', '244.mp4', '293.mp4', '132.mp4', '27.mp4', '495.mp4', '494.mp4', '457.mp4', '26.mp4', '245.mp4', '506.mp4', '116.mp4', '17.mp4', '328.mp4', '314.mp4', '472.mp4', '466.mp4', '467.mp4', '315.mp4', '329.mp4', '16.mp4', '117.mp4', '277.mp4', '263.mp4', '288.mp4', '129.mp4', '101.mp4', '28.mp4', '459.mp4', '465.mp4', '471.mp4', '470.mp4', '464.mp4', '458.mp4', '100.mp4', '289.mp4', '262.mp4', '276.mp4', '299.mp4', '39.mp4', '11.mp4', '460.mp4', '448.mp4', '449.mp4', '10.mp4', '38.mp4', '298.mp4', '265.mp4', '107.mp4', '12.mp4', '339.mp4', '489.mp4', '13.mp4', '106.mp4', '112.mp4', '264.mp4', '149.mp4', '161.mp4', '60.mp4', '405.mp4', '388.mp4', '389.mp4', '362.mp4', '404.mp4', '410.mp4', '61.mp4', '160.mp4', '148.mp4', '162.mp4', '88.mp4', '63.mp4', '348.mp4', '406.mp4', '360.mp4', '407.mp4', '361.mp4', '349.mp4', '62.mp4', '89.mp4', '99.mp4', '167.mp4', '359.mp4', '98.mp4', '166.mp4', '164.mp4', '400.mp4', '366.mp4', '428.mp4', '399.mp4', '398.mp4', '367.mp4', '159.mp4', '165.mp4']\n",
      "adding file\n",
      "Moviepy - Building video behavior_data/control/507.mp4.\n",
      "MoviePy - Writing audio in 507TEMP_MPY_wvf_snd.mp4\n"
     ]
    },
    {
     "name": "stderr",
     "output_type": "stream",
     "text": [
      "                                                              \r"
     ]
    },
    {
     "name": "stdout",
     "output_type": "stream",
     "text": [
      "MoviePy - Done.\n",
      "Moviepy - Writing video behavior_data/control/507.mp4\n",
      "\n"
     ]
    },
    {
     "name": "stderr",
     "output_type": "stream",
     "text": [
      "\r",
      "chunk:   0%|          | 0/111 [00:00<?, ?it/s, now=None]"
     ]
    },
    {
     "name": "stdout",
     "output_type": "stream",
     "text": [
      "Moviepy - Done !\n",
      "Moviepy - video ready behavior_data/control/507.mp4\n",
      "['96.mp4', '82.mp4', '154.mp4', '140.mp4', '7.mp4', '55.mp4', '356.mp4', '342.mp4', '395.mp4', '394.mp4', '343.mp4', '431.mp4', '357.mp4', '419.mp4', '6.mp4', '141.mp4', '221.mp4', '81.mp4', '95.mp4', '143.mp4', '157.mp4', '56.mp4', '369.mp4', '427.mp4', '355.mp4', '433.mp4', '382.mp4', '397.mp4', '383.mp4', '432.mp4', '426.mp4', '340.mp4', '368.mp4', '5.mp4', '156.mp4', '142.mp4', '94.mp4', '80.mp4', '146.mp4', '53.mp4', '344.mp4', '422.mp4', '.DS_Store', '350.mp4', '387.mp4', '345.mp4', '52.mp4', '153.mp4', '147.mp4', '233.mp4', '93.mp4', '87.mp4', '50.mp4', '421.mp4', '384.mp4', '385.mp4', '420.mp4', '434.mp4', '79.mp4', '86.mp4', '232.mp4', '255.mp4', '282.mp4', '137.mp4', '36.mp4', '335.mp4', '453.mp4', '447.mp4', '321.mp4', '490.mp4', '484.mp4', '485.mp4', '446.mp4', '320.mp4', '334.mp4', '452.mp4', '37.mp4', '136.mp4', '297.mp4', '283.mp4', '254.mp4', '242.mp4', '108.mp4', '134.mp4', '322.mp4', '493.mp4', '492.mp4', '486.mp4', '323.mp4', '135.mp4', '109.mp4', '294.mp4', '243.mp4', '253.mp4', '290.mp4', '284.mp4', '131.mp4', '119.mp4', '18.mp4', '327.mp4', '333.mp4', '469.mp4', '483.mp4', '332.mp4', '454.mp4', '326.mp4', '25.mp4', '19.mp4', '118.mp4', '130.mp4', '252.mp4', '244.mp4', '293.mp4', '132.mp4', '27.mp4', '495.mp4', '494.mp4', '457.mp4', '26.mp4', '245.mp4', '506.mp4', '116.mp4', '17.mp4', '328.mp4', '314.mp4', '472.mp4', '466.mp4', '467.mp4', '315.mp4', '329.mp4', '16.mp4', '117.mp4', '507.mp4', '277.mp4', '263.mp4', '288.mp4', '129.mp4', '101.mp4', '28.mp4', '459.mp4', '465.mp4', '471.mp4', '470.mp4', '464.mp4', '458.mp4', '100.mp4', '289.mp4', '262.mp4', '276.mp4', '299.mp4', '39.mp4', '11.mp4', '460.mp4', '448.mp4', '449.mp4', '10.mp4', '38.mp4', '298.mp4', '265.mp4', '107.mp4', '12.mp4', '339.mp4', '489.mp4', '13.mp4', '106.mp4', '112.mp4', '264.mp4', '149.mp4', '161.mp4', '60.mp4', '405.mp4', '388.mp4', '389.mp4', '362.mp4', '404.mp4', '410.mp4', '61.mp4', '160.mp4', '148.mp4', '162.mp4', '88.mp4', '63.mp4', '348.mp4', '406.mp4', '360.mp4', '407.mp4', '361.mp4', '349.mp4', '62.mp4', '89.mp4', '99.mp4', '167.mp4', '359.mp4', '98.mp4', '166.mp4', '164.mp4', '400.mp4', '366.mp4', '428.mp4', '399.mp4', '398.mp4', '367.mp4', '159.mp4', '165.mp4']\n",
      "adding file\n",
      "Moviepy - Building video behavior_data/control/508.mp4.\n",
      "MoviePy - Writing audio in 508TEMP_MPY_wvf_snd.mp4\n"
     ]
    },
    {
     "name": "stderr",
     "output_type": "stream",
     "text": [
      "                                                              \r"
     ]
    },
    {
     "name": "stdout",
     "output_type": "stream",
     "text": [
      "MoviePy - Done.\n",
      "Moviepy - Writing video behavior_data/control/508.mp4\n",
      "\n"
     ]
    },
    {
     "name": "stderr",
     "output_type": "stream",
     "text": [
      "\r",
      "chunk:   0%|          | 0/133 [00:00<?, ?it/s, now=None]"
     ]
    },
    {
     "name": "stdout",
     "output_type": "stream",
     "text": [
      "Moviepy - Done !\n",
      "Moviepy - video ready behavior_data/control/508.mp4\n",
      "['96.mp4', '82.mp4', '154.mp4', '140.mp4', '7.mp4', '55.mp4', '356.mp4', '342.mp4', '395.mp4', '394.mp4', '343.mp4', '431.mp4', '357.mp4', '419.mp4', '6.mp4', '141.mp4', '221.mp4', '81.mp4', '95.mp4', '143.mp4', '157.mp4', '56.mp4', '369.mp4', '427.mp4', '355.mp4', '433.mp4', '382.mp4', '397.mp4', '383.mp4', '432.mp4', '426.mp4', '340.mp4', '368.mp4', '5.mp4', '156.mp4', '142.mp4', '94.mp4', '80.mp4', '146.mp4', '53.mp4', '344.mp4', '422.mp4', '.DS_Store', '350.mp4', '387.mp4', '345.mp4', '52.mp4', '153.mp4', '147.mp4', '233.mp4', '93.mp4', '87.mp4', '50.mp4', '421.mp4', '384.mp4', '385.mp4', '420.mp4', '434.mp4', '79.mp4', '86.mp4', '232.mp4', '255.mp4', '282.mp4', '137.mp4', '36.mp4', '335.mp4', '453.mp4', '447.mp4', '321.mp4', '490.mp4', '484.mp4', '485.mp4', '446.mp4', '320.mp4', '334.mp4', '452.mp4', '37.mp4', '136.mp4', '297.mp4', '283.mp4', '254.mp4', '242.mp4', '108.mp4', '134.mp4', '322.mp4', '493.mp4', '492.mp4', '486.mp4', '323.mp4', '135.mp4', '109.mp4', '294.mp4', '243.mp4', '253.mp4', '290.mp4', '284.mp4', '131.mp4', '119.mp4', '18.mp4', '327.mp4', '333.mp4', '469.mp4', '483.mp4', '332.mp4', '454.mp4', '326.mp4', '25.mp4', '19.mp4', '118.mp4', '130.mp4', '508.mp4', '252.mp4', '244.mp4', '293.mp4', '132.mp4', '27.mp4', '495.mp4', '494.mp4', '457.mp4', '26.mp4', '245.mp4', '506.mp4', '116.mp4', '17.mp4', '328.mp4', '314.mp4', '472.mp4', '466.mp4', '467.mp4', '315.mp4', '329.mp4', '16.mp4', '117.mp4', '507.mp4', '277.mp4', '263.mp4', '288.mp4', '129.mp4', '101.mp4', '28.mp4', '459.mp4', '465.mp4', '471.mp4', '470.mp4', '464.mp4', '458.mp4', '100.mp4', '289.mp4', '262.mp4', '276.mp4', '299.mp4', '39.mp4', '11.mp4', '460.mp4', '448.mp4', '449.mp4', '10.mp4', '38.mp4', '298.mp4', '265.mp4', '107.mp4', '12.mp4', '339.mp4', '489.mp4', '13.mp4', '106.mp4', '112.mp4', '264.mp4', '149.mp4', '161.mp4', '60.mp4', '405.mp4', '388.mp4', '389.mp4', '362.mp4', '404.mp4', '410.mp4', '61.mp4', '160.mp4', '148.mp4', '162.mp4', '88.mp4', '63.mp4', '348.mp4', '406.mp4', '360.mp4', '407.mp4', '361.mp4', '349.mp4', '62.mp4', '89.mp4', '99.mp4', '167.mp4', '359.mp4', '98.mp4', '166.mp4', '164.mp4', '400.mp4', '366.mp4', '428.mp4', '399.mp4', '398.mp4', '367.mp4', '159.mp4', '165.mp4']\n",
      "adding file\n",
      "Moviepy - Building video behavior_data/control/509.mp4.\n",
      "MoviePy - Writing audio in 509TEMP_MPY_wvf_snd.mp4\n"
     ]
    },
    {
     "name": "stderr",
     "output_type": "stream",
     "text": [
      "                                                              \r"
     ]
    },
    {
     "name": "stdout",
     "output_type": "stream",
     "text": [
      "MoviePy - Done.\n",
      "Moviepy - Writing video behavior_data/control/509.mp4\n",
      "\n",
      "Moviepy - Done !\n",
      "Moviepy - video ready behavior_data/control/509.mp4\n",
      "staring the 73th file\n",
      "http://www.youtube.com/watch?v=Pa-pdBF4FFA\n",
      "This is url:  http://www.youtube.com/watch?v=Pa-pdBF4FFA\n",
      "annoying url: http://www.youtube.com/watch?v=Pa-pdBF4FFA\n",
      "Pa-pdBF4FFA is unavailable\n",
      "staring the 74th file\n",
      "http://www.youtube.com/watch?v=Lex0gIMd73g\n",
      "This is url:  http://www.youtube.com/watch?v=Lex0gIMd73g\n"
     ]
    },
    {
     "name": "stderr",
     "output_type": "stream",
     "text": [
      "\r",
      "chunk:   0%|          | 0/155 [00:00<?, ?it/s, now=None]"
     ]
    },
    {
     "name": "stdout",
     "output_type": "stream",
     "text": [
      "['41.mp4', '418.mp4', '430.mp4', '424.mp4', '425.mp4', '40.mp4', '54.mp4', '155.mp4', '42.mp4', '396.mp4', '43.mp4', '90.mp4', '47.mp4', '1.mp4', '.DS_Store', '393.mp4', '392.mp4', '351.mp4', '423.mp4', '0.mp4', '46.mp4', '91.mp4', '151.mp4', '2.mp4', '44.mp4', '353.mp4', '409.mp4', '390.mp4', '391.mp4', '408.mp4', '346.mp4', '352.mp4', '45.mp4', '3.mp4', '92.mp4', '150.mp4', '120.mp4', '450.mp4', '451.mp4', '121.mp4', '455.mp4', '468.mp4', '456.mp4', '461.mp4', '139.mp4', '463.mp4', '462.mp4', '48.mp4', '411.mp4', '377.mp4', '376.mp4', '49.mp4', '374.mp4', '412.mp4', '375.mp4', '413.mp4', '403.mp4', '417.mp4', '371.mp4', '416.mp4', '370.mp4', '402.mp4', '372.mp4', '414.mp4', '429.mp4', '401.mp4', '373.mp4', '415.mp4']\n",
      "adding file\n",
      "Moviepy - Building video behavior_data/headbanging/510.mp4.\n",
      "MoviePy - Writing audio in 510TEMP_MPY_wvf_snd.mp4\n"
     ]
    },
    {
     "name": "stderr",
     "output_type": "stream",
     "text": [
      "                                                                "
     ]
    },
    {
     "name": "stdout",
     "output_type": "stream",
     "text": [
      "MoviePy - Done.\n",
      "Moviepy - Writing video behavior_data/headbanging/510.mp4\n",
      "\n"
     ]
    },
    {
     "name": "stderr",
     "output_type": "stream",
     "text": [
      "chunk:   0%|          | 0/133 [00:00<?, ?it/s, now=None]"
     ]
    },
    {
     "name": "stdout",
     "output_type": "stream",
     "text": [
      "Moviepy - Done !\n",
      "Moviepy - video ready behavior_data/headbanging/510.mp4\n",
      "['41.mp4', '418.mp4', '430.mp4', '424.mp4', '425.mp4', '40.mp4', '54.mp4', '155.mp4', '42.mp4', '396.mp4', '43.mp4', '90.mp4', '47.mp4', '1.mp4', '.DS_Store', '393.mp4', '392.mp4', '351.mp4', '423.mp4', '0.mp4', '46.mp4', '91.mp4', '151.mp4', '2.mp4', '44.mp4', '353.mp4', '409.mp4', '390.mp4', '391.mp4', '408.mp4', '346.mp4', '352.mp4', '45.mp4', '3.mp4', '92.mp4', '150.mp4', '120.mp4', '450.mp4', '451.mp4', '121.mp4', '455.mp4', '468.mp4', '456.mp4', '510.mp4', '461.mp4', '139.mp4', '463.mp4', '462.mp4', '48.mp4', '411.mp4', '377.mp4', '376.mp4', '49.mp4', '374.mp4', '412.mp4', '375.mp4', '413.mp4', '403.mp4', '417.mp4', '371.mp4', '416.mp4', '370.mp4', '402.mp4', '372.mp4', '414.mp4', '429.mp4', '401.mp4', '373.mp4', '415.mp4']\n",
      "adding file\n",
      "Moviepy - Building video behavior_data/headbanging/511.mp4.\n",
      "MoviePy - Writing audio in 511TEMP_MPY_wvf_snd.mp4\n"
     ]
    },
    {
     "name": "stderr",
     "output_type": "stream",
     "text": [
      "                                                                \r"
     ]
    },
    {
     "name": "stdout",
     "output_type": "stream",
     "text": [
      "MoviePy - Done.\n",
      "Moviepy - Writing video behavior_data/headbanging/511.mp4\n",
      "\n"
     ]
    },
    {
     "name": "stderr",
     "output_type": "stream",
     "text": [
      "t:   0%|          | 0/60 [00:00<?, ?it/s, now=None]    "
     ]
    },
    {
     "name": "stdout",
     "output_type": "stream",
     "text": [
      "Moviepy - Done !\n",
      "Moviepy - video ready behavior_data/headbanging/511.mp4\n",
      "['96.mp4', '82.mp4', '154.mp4', '140.mp4', '7.mp4', '55.mp4', '356.mp4', '342.mp4', '395.mp4', '394.mp4', '343.mp4', '431.mp4', '357.mp4', '419.mp4', '6.mp4', '141.mp4', '221.mp4', '81.mp4', '95.mp4', '143.mp4', '157.mp4', '56.mp4', '369.mp4', '427.mp4', '355.mp4', '433.mp4', '382.mp4', '397.mp4', '383.mp4', '432.mp4', '426.mp4', '340.mp4', '368.mp4', '5.mp4', '156.mp4', '142.mp4', '94.mp4', '80.mp4', '146.mp4', '53.mp4', '344.mp4', '422.mp4', '.DS_Store', '350.mp4', '387.mp4', '345.mp4', '52.mp4', '153.mp4', '147.mp4', '233.mp4', '93.mp4', '87.mp4', '50.mp4', '421.mp4', '384.mp4', '385.mp4', '420.mp4', '434.mp4', '79.mp4', '86.mp4', '232.mp4', '255.mp4', '282.mp4', '137.mp4', '36.mp4', '335.mp4', '453.mp4', '447.mp4', '321.mp4', '490.mp4', '484.mp4', '485.mp4', '446.mp4', '320.mp4', '334.mp4', '452.mp4', '37.mp4', '136.mp4', '297.mp4', '283.mp4', '254.mp4', '242.mp4', '108.mp4', '134.mp4', '322.mp4', '493.mp4', '492.mp4', '486.mp4', '323.mp4', '135.mp4', '109.mp4', '294.mp4', '243.mp4', '253.mp4', '509.mp4', '290.mp4', '284.mp4', '131.mp4', '119.mp4', '18.mp4', '327.mp4', '333.mp4', '469.mp4', '483.mp4', '332.mp4', '454.mp4', '326.mp4', '25.mp4', '19.mp4', '118.mp4', '130.mp4', '508.mp4', '252.mp4', '244.mp4', '293.mp4', '132.mp4', '27.mp4', '495.mp4', '494.mp4', '457.mp4', '26.mp4', '245.mp4', '506.mp4', '116.mp4', '17.mp4', '328.mp4', '314.mp4', '472.mp4', '466.mp4', '467.mp4', '315.mp4', '329.mp4', '16.mp4', '117.mp4', '507.mp4', '277.mp4', '263.mp4', '288.mp4', '129.mp4', '101.mp4', '28.mp4', '459.mp4', '465.mp4', '471.mp4', '470.mp4', '464.mp4', '458.mp4', '100.mp4', '289.mp4', '262.mp4', '276.mp4', '299.mp4', '39.mp4', '11.mp4', '460.mp4', '448.mp4', '449.mp4', '10.mp4', '38.mp4', '298.mp4', '265.mp4', '107.mp4', '12.mp4', '339.mp4', '489.mp4', '13.mp4', '106.mp4', '112.mp4', '264.mp4', '149.mp4', '161.mp4', '60.mp4', '405.mp4', '388.mp4', '389.mp4', '362.mp4', '404.mp4', '410.mp4', '61.mp4', '160.mp4', '148.mp4', '162.mp4', '88.mp4', '63.mp4', '348.mp4', '406.mp4', '360.mp4', '407.mp4', '361.mp4', '349.mp4', '62.mp4', '89.mp4', '99.mp4', '167.mp4', '359.mp4', '98.mp4', '166.mp4', '164.mp4', '400.mp4', '366.mp4', '428.mp4', '399.mp4', '398.mp4', '367.mp4', '159.mp4', '165.mp4']\n",
      "adding file\n",
      "Moviepy - Building video behavior_data/control/512.mp4.\n",
      "MoviePy - Writing audio in 512TEMP_MPY_wvf_snd.mp4\n",
      "MoviePy - Done.\n",
      "Moviepy - Writing video behavior_data/control/512.mp4\n",
      "\n"
     ]
    },
    {
     "name": "stderr",
     "output_type": "stream",
     "text": [
      "                                                       "
     ]
    },
    {
     "name": "stdout",
     "output_type": "stream",
     "text": [
      "Moviepy - Done !\n",
      "Moviepy - video ready behavior_data/control/512.mp4\n",
      "['96.mp4', '82.mp4', '154.mp4', '140.mp4', '7.mp4', '55.mp4', '356.mp4', '342.mp4', '395.mp4', '394.mp4', '343.mp4', '431.mp4', '357.mp4', '419.mp4', '6.mp4', '141.mp4', '221.mp4', '81.mp4', '95.mp4', '143.mp4', '157.mp4', '56.mp4', '369.mp4', '427.mp4', '355.mp4', '433.mp4', '382.mp4', '397.mp4', '383.mp4', '432.mp4', '426.mp4', '340.mp4', '368.mp4', '5.mp4', '156.mp4', '142.mp4', '94.mp4', '80.mp4', '146.mp4', '53.mp4', '344.mp4', '422.mp4', '.DS_Store', '350.mp4', '387.mp4', '345.mp4', '52.mp4', '153.mp4', '147.mp4', '233.mp4', '93.mp4', '87.mp4', '50.mp4', '421.mp4', '384.mp4', '385.mp4', '420.mp4', '434.mp4', '79.mp4', '86.mp4', '232.mp4', '255.mp4', '282.mp4', '137.mp4', '36.mp4', '335.mp4', '453.mp4', '447.mp4', '321.mp4', '490.mp4', '484.mp4', '485.mp4', '446.mp4', '320.mp4', '334.mp4', '452.mp4', '37.mp4', '136.mp4', '297.mp4', '283.mp4', '254.mp4', '242.mp4', '108.mp4', '134.mp4', '322.mp4', '493.mp4', '492.mp4', '486.mp4', '323.mp4', '135.mp4', '109.mp4', '294.mp4', '243.mp4', '253.mp4', '509.mp4', '290.mp4', '284.mp4', '131.mp4', '119.mp4', '18.mp4', '327.mp4', '333.mp4', '469.mp4', '483.mp4', '332.mp4', '454.mp4', '326.mp4', '25.mp4', '19.mp4', '118.mp4', '130.mp4', '508.mp4', '252.mp4', '244.mp4', '293.mp4', '132.mp4', '27.mp4', '495.mp4', '494.mp4', '457.mp4', '26.mp4', '245.mp4', '506.mp4', '512.mp4', '116.mp4', '17.mp4', '328.mp4', '314.mp4', '472.mp4', '466.mp4', '467.mp4', '315.mp4', '329.mp4', '16.mp4', '117.mp4', '507.mp4', '277.mp4', '263.mp4', '288.mp4', '129.mp4', '101.mp4', '28.mp4', '459.mp4', '465.mp4', '471.mp4', '470.mp4', '464.mp4', '458.mp4', '100.mp4', '289.mp4', '262.mp4', '276.mp4', '299.mp4', '39.mp4', '11.mp4', '460.mp4', '448.mp4', '449.mp4', '10.mp4', '38.mp4', '298.mp4', '265.mp4', '107.mp4', '12.mp4', '339.mp4', '489.mp4', '13.mp4', '106.mp4', '112.mp4', '264.mp4', '149.mp4', '161.mp4', '60.mp4', '405.mp4', '388.mp4', '389.mp4', '362.mp4', '404.mp4', '410.mp4', '61.mp4', '160.mp4', '148.mp4', '162.mp4', '88.mp4', '63.mp4', '348.mp4', '406.mp4', '360.mp4', '407.mp4', '361.mp4', '349.mp4', '62.mp4', '89.mp4', '99.mp4', '167.mp4', '359.mp4', '98.mp4', '166.mp4', '164.mp4', '400.mp4', '366.mp4', '428.mp4', '399.mp4', '398.mp4', '367.mp4', '159.mp4', '165.mp4']\n",
      "adding file\n",
      "Moviepy - Building video behavior_data/control/513.mp4.\n",
      "MoviePy - Writing audio in 513TEMP_MPY_wvf_snd.mp4\n"
     ]
    },
    {
     "name": "stderr",
     "output_type": "stream",
     "text": [
      "                                                   "
     ]
    },
    {
     "name": "stdout",
     "output_type": "stream",
     "text": [
      "MoviePy - Done.\n",
      "Moviepy - Writing video behavior_data/control/513.mp4\n",
      "\n",
      "Moviepy - Done !\n",
      "Moviepy - video ready behavior_data/control/513.mp4\n"
     ]
    },
    {
     "name": "stderr",
     "output_type": "stream",
     "text": [
      "\r"
     ]
    }
   ],
   "source": [
    "import cv2\n",
    "import numpy as np\n",
    "from moviepy.video.io.VideoFileClip import VideoFileClip\n",
    "import pytube\n",
    "FPS = 30 \n",
    "i = 0 \n",
    "for vid, (url, category_times) in enumerate((links_to_times.items())): \n",
    "    print(f\"staring the {vid+1}th file\")\n",
    "    # download the video \n",
    "    print(url)\n",
    "    try: \n",
    "        print(\"This is url: \", url)\n",
    "        y = pytube.YouTube(url)\n",
    "        video = y.streams.get_highest_resolution()\n",
    "        video.download()\n",
    "    except Exception as e:\n",
    "        print(f\"annoying url: {url}\")\n",
    "        print(e)\n",
    "        continue \n",
    "        \n",
    "    for category, times in category_times.items(): \n",
    "        folder_path = \"behavior_data/\" + category + \"/\"\n",
    "        \n",
    "        for start_time, end_time in times:\n",
    "            try:\n",
    "                input_file = y.streams.get_highest_resolution().default_filename\n",
    "                output_file = folder_path + f\"{i}.mp4\"\n",
    "                print(os.listdir(folder_path))\n",
    "                if f\"{i}.mp4\" not in os.listdir(folder_path):\n",
    "                    print(\"adding file\")\n",
    "                    with VideoFileClip(input_file) as video:\n",
    "                        new = video.subclip(start_time, end_time)\n",
    "                        new.write_videofile(output_file, audio_codec='aac')\n",
    "                        i += 1 \n",
    "            except Exception as e:\n",
    "                print(f\"failed on {i}\")\n",
    "                i += 1 \n",
    "    os.remove(y.streams.get_highest_resolution().default_filename)"
   ]
  },
  {
   "cell_type": "markdown",
   "metadata": {},
   "source": [
    "# Directory Structure  \n",
    "\n",
    "## We have one folder inside of this AnishMachineLearning folder called \"behavior_data\" that has the \"armflapping\" and \"spinning\" folders. There all of the sliced .mp4 files with the behavior of interest are located. \n",
    "\n",
    "### We will process headbanging videos even if we are not going to use it because we still want it as a negative case for training the arm flapping & spinning. "
   ]
  },
  {
   "cell_type": "code",
   "execution_count": null,
   "metadata": {},
   "outputs": [],
   "source": [
    "# for spinning it is just the hand positions that matter right?\n",
    "\n",
    "import cv2\n",
    "import mediapipe as mp \n",
    "import numpy as np\n",
    "mp_hands = mp.solutions.hands\n",
    "\n",
    "\n",
    "cap = cv2.VideoCapture(\"/Users/anish/Documents/Machine Learning Env/AnishMachineLearning/behavior_data/spinning/37.mp4\")\n",
    "#cap = cv2.VideoCapture(0)\n",
    "# Initiate holistic model\n",
    "\n",
    "#capcv2.VideoCapture(0)\n",
    "\n",
    "hands = mp_hands.Hands(min_detection_confidence = 0.5, min_tracking_confidence = 0.5)\n",
    "\n",
    "while cap.isOpened():\n",
    "    ret, image = cap.read() \n",
    "    if not ret:break \n",
    "\n",
    "    image = cv2.cvtColor(image, cv2.COLOR_BGR2RGB)\n",
    "    image.flags.writeable = False \n",
    "    results = hands.process(image)\n",
    "\n",
    "    image.flags.writeable = True\n",
    "    image = cv2.cvtColor(image, cv2.COLOR_RGB2BGR)\n",
    "    \n",
    "    height, width, _ = image.shape\n",
    "\n",
    "    white_image = np.zeros_like(image)\n",
    "    white_image.fill(255.0)\n",
    "    \n",
    "    #check for hand results \n",
    "    if results.multi_hand_landmarks:\n",
    "        for hand_landmark in results.multi_hand_landmarks:\n",
    "            for i in range(0, 21):\n",
    "                landmark = hand_landmark.landmark[i]\n",
    "                x = int(landmark.x * width)\n",
    "                y = int(landmark.y * height)\n",
    "                cv2.circle(white_image, (x, y), 5, (100, 100, 0), -1)\n",
    "\n",
    "    cv2.imshow(\"\", white_image)\n",
    "\n",
    "    if cv2.waitKey(1) == ord(\"q\"):\n",
    "        break \n",
    "\n",
    "cap.release() \n",
    "cv2.destroyAllWindows()"
   ]
  },
  {
   "cell_type": "code",
   "execution_count": null,
   "metadata": {},
   "outputs": [],
   "source": [
    "list(range(21))"
   ]
  },
  {
   "cell_type": "markdown",
   "metadata": {},
   "source": [
    "# We can try using the y values for each of the hand flapping videos and graph them to see if there is a noticeable difference of the y-values (we'll use the mean of all y-values for all 21 hand landmarks and then graph them)."
   ]
  },
  {
   "cell_type": "code",
   "execution_count": null,
   "metadata": {},
   "outputs": [],
   "source": [
    "import matplotlib.pyplot as plt\n",
    "import os \n",
    "\n",
    "# first all hand flapping videos \n",
    "for hand_flap_video in os.listdir(\"behavior_data/armflapping\"):\n",
    "    video = \"behavior_data/armflapping/\" + hand_flap_video\n",
    "    cap = cv2.VideoCapture(video)\n",
    "    \n",
    "    hands = mp_hands.Hands(min_detection_confidence = 0.5, min_tracking_confidence = 0.5)\n",
    "    \n",
    "    all_YS = [] \n",
    "    \n",
    "    while cap.isOpened():\n",
    "        ret, image = cap.read() \n",
    "        if not ret:break \n",
    "\n",
    "        image = cv2.cvtColor(image, cv2.COLOR_BGR2RGB)\n",
    "        image.flags.writeable = False \n",
    "        results = hands.process(image)\n",
    "\n",
    "        image.flags.writeable = True\n",
    "        image = cv2.cvtColor(image, cv2.COLOR_RGB2BGR)\n",
    "\n",
    "        height, width, _ = image.shape\n",
    "\n",
    "        #check for hand results \n",
    "        y_s = []\n",
    "        \n",
    "        if results.multi_hand_landmarks:\n",
    "            for hand_landmark in results.multi_hand_landmarks:\n",
    "                for i in range(0, 21):\n",
    "                    landmark = hand_landmark.landmark[i]\n",
    "                    x = int(landmark.x * width)\n",
    "                    y = int(landmark.y * height)\n",
    "                    y_s.append(y)\n",
    "        \n",
    "        all_YS.append(np.mean(y_s))\n",
    "\n",
    "    plt.plot(range(len(all_YS)), all_YS, color = \"green\")\n",
    "    plt.show()"
   ]
  },
  {
   "cell_type": "code",
   "execution_count": null,
   "metadata": {},
   "outputs": [],
   "source": [
    "# now for spinning \n",
    "\n",
    "import matplotlib.pyplot as plt\n",
    "import os \n",
    "\n",
    "# first all hand flapping videos \n",
    "for hand_flap_video in os.listdir(\"behavior_data/spinning\"):\n",
    "    video = \"behavior_data/spinning/\" + hand_flap_video\n",
    "    cap = cv2.VideoCapture(video)\n",
    "    \n",
    "    hands = mp_hands.Hands(min_detection_confidence = 0.5, min_tracking_confidence = 0.5)\n",
    "    \n",
    "    all_YS = [] \n",
    "    \n",
    "    while cap.isOpened():\n",
    "        ret, image = cap.read() \n",
    "        if not ret:break \n",
    "\n",
    "        image = cv2.cvtColor(image, cv2.COLOR_BGR2RGB)\n",
    "        image.flags.writeable = False \n",
    "        results = hands.process(image)\n",
    "\n",
    "        image.flags.writeable = True\n",
    "        image = cv2.cvtColor(image, cv2.COLOR_RGB2BGR)\n",
    "\n",
    "        height, width, _ = image.shape\n",
    "\n",
    "        #check for hand results \n",
    "        y_s = []\n",
    "        \n",
    "        if results.multi_hand_landmarks:\n",
    "            for hand_landmark in results.multi_hand_landmarks:\n",
    "                for i in range(0, 21):\n",
    "                    landmark = hand_landmark.landmark[i]\n",
    "                    x = int(landmark.x * width)\n",
    "                    y = int(landmark.y * height)\n",
    "                    y_s.append(y)\n",
    "        \n",
    "        all_YS.append(np.mean(y_s))\n",
    "\n",
    "    plt.plot(range(len(all_YS)), all_YS, color = \"green\")\n",
    "    plt.show()"
   ]
  },
  {
   "cell_type": "code",
   "execution_count": null,
   "metadata": {},
   "outputs": [],
   "source": [
    "# next for headbanging \n",
    "\n",
    "# now for spinning \n",
    "\n",
    "import matplotlib.pyplot as plt\n",
    "import os \n",
    "\n",
    "# first all hand flapping videos \n",
    "for hand_flap_video in os.listdir(\"behavior_data/headbanging\"):\n",
    "    video = \"behavior_data/headbanging/\" + hand_flap_video\n",
    "    cap = cv2.VideoCapture(video)\n",
    "    \n",
    "    hands = mp_hands.Hands(min_detection_confidence = 0.5, min_tracking_confidence = 0.5)\n",
    "    \n",
    "    all_YS = [] \n",
    "    \n",
    "    while cap.isOpened():\n",
    "        ret, image = cap.read() \n",
    "        if not ret:break \n",
    "\n",
    "        image = cv2.cvtColor(image, cv2.COLOR_BGR2RGB)\n",
    "        image.flags.writeable = False \n",
    "        results = hands.process(image)\n",
    "\n",
    "        image.flags.writeable = True\n",
    "        image = cv2.cvtColor(image, cv2.COLOR_RGB2BGR)\n",
    "\n",
    "        height, width, _ = image.shape\n",
    "\n",
    "        #check for hand results \n",
    "        y_s = []\n",
    "        \n",
    "        if results.multi_hand_landmarks:\n",
    "            for hand_landmark in results.multi_hand_landmarks:\n",
    "                for i in range(0, 21):\n",
    "                    landmark = hand_landmark.landmark[i]\n",
    "                    x = int(landmark.x * width)\n",
    "                    y = int(landmark.y * height)\n",
    "                    y_s.append(y)\n",
    "        \n",
    "        all_YS.append(np.mean(y_s))\n",
    "\n",
    "    plt.plot(range(len(all_YS)), all_YS, color = \"green\")\n",
    "    plt.show()"
   ]
  },
  {
   "cell_type": "markdown",
   "metadata": {},
   "source": [
    "# First let's get the frames for every arm flapping and control video. If the number of frames is less than 100 frames we will not take it. "
   ]
  },
  {
   "cell_type": "code",
   "execution_count": null,
   "metadata": {},
   "outputs": [],
   "source": [
    "ARMFLAPPING_VIDEOS = []\n",
    "CONTROL_VIDEOS = []\n",
    "\n",
    "for video_name in os.listdir('behavior_data/armflapping'): \n",
    "    cap = cv2.VideoCapture('behavior_data/armflapping/' + video_name)  \n",
    "    FRAMES = [] # frames for this video \n",
    "    while True: \n",
    "        _, image = cap.read() \n",
    "        if not _ : break \n",
    "        \n",
    "        image = cv2.cvtColor(image, cv2.COLOR_BGR2RGB)\n",
    "        FRAMES.append(image)\n",
    "    if len(FRAMES) >= 100: \n",
    "        # ignore any .DS_Store files\n",
    "        ARMFLAPPING_VIDEOS.append(FRAMES)\n",
    "\n",
    "ARMFLAPPING_LABELS = np.ones(len(ARMFLAPPING_VIDEOS))\n",
    "\n",
    "for video_name in os.listdir('behavior_data/control'): \n",
    "    cap = cv2.VideoCapture('behavior_data/control/' + video_name)  \n",
    "    FRAMES = [] # frames for this video \n",
    "    while True: \n",
    "        _, image = cap.read() \n",
    "        if not _ : break \n",
    "        \n",
    "        image = cv2.cvtColor(image, cv2.COLOR_BGR2RGB)\n",
    "        \n",
    "        FRAMES.append(image)\n",
    "        \n",
    "    if len(FRAMES) >= 100: \n",
    "        CONTROL_VIDEOS.append(FRAMES)\n",
    "\n",
    "CONTROL_LABELS = np.zeros(len(CONTROL_VIDEOS))"
   ]
  },
  {
   "cell_type": "code",
   "execution_count": null,
   "metadata": {},
   "outputs": [],
   "source": [
    "# shuffle and then balance the amount of videos\n",
    "amount_of_videos = min([len(CONTROL_VIDEOS), len(ARMFLAPPING_VIDEOS)])\n",
    "\n",
    "ARMFLAPPING_VIDEOS = np.array(ARMFLAPPING_VIDEOS)\n",
    "CONTROL_VIDEOS = np.array(CONTROL_VIDEOS)\n",
    "import numpy as np\n",
    "control_permutation = np.random.permutation(CONTROL_LABELS.shape[0])\n",
    "CONTROL_VIDEOS, CONTROL_LABELS = CONTROL_VIDEOS[control_permutation], CONTROL_LABELS[control_permutation]\n",
    "\n",
    "armflapping_permutation = np.random.permutation(ARMFLAPPING_LABELS.shape[0])\n",
    "ARMFLAPPING_VIDEOS, ARMFLAPPING_LABELS = ARMFLAPPING_VIDEOS[armflapping_permutation], ARMFLAPPING_LABELS[armflapping_permutation]\n",
    "\n",
    "ARMFLAPPING_VIDEOS, ARMFLAPPING_LABELS = ARMFLAPPING_VIDEOS[:amount_of_videos], ARMFLAPPING_LABELS[:amount_of_videos]\n",
    "CONTROL_VIDEOS, CONTROL_LABELS = CONTROL_VIDEOS[:amount_of_videos], CONTROL_LABELS[:amount_of_videos]"
   ]
  },
  {
   "cell_type": "code",
   "execution_count": null,
   "metadata": {},
   "outputs": [],
   "source": [
    "assert len(ARMFLAPPING_VIDEOS) == len(CONTROL_VIDEOS)"
   ]
  },
  {
   "cell_type": "markdown",
   "metadata": {},
   "source": [
    "# Great we have gotten 75 videos of armflapping and 75 control videos. Every single video has a minimum of 100 frames. We have set the predetermined amount of frames that go into the LSTM at 100, because we don't want the model to overfit or care about the length of the video. For videos with more than 100 frames, we will only collect the first 100 frames. \n",
    "\n",
    "## When we get the x and y locations for where on the 21 hand landmarks, note that they will be based on the width / height of the video which varies from each video . One way to deal with this would be to simply make all frames the same width and height, however that may make it tough for mediapipe to actually find the landmarks. Because the average frame has roughly a height and width of 400x600 we will take whatever x and y values given for a frame and adjust them based on the frame's height/width divided by 400 /600. "
   ]
  },
  {
   "cell_type": "code",
   "execution_count": null,
   "metadata": {},
   "outputs": [],
   "source": [
    "armflapping_videos_shapes = [] \n",
    "for video in ARMFLAPPING_VIDEOS: \n",
    "    armflapping_videos_shapes.append(list(np.array(video).shape)) # (frames, height, width, num channels)"
   ]
  },
  {
   "cell_type": "code",
   "execution_count": null,
   "metadata": {},
   "outputs": [],
   "source": [
    "np.mean(armflapping_videos_shapes, axis = 0) # average height and width for the armflapping frames is 403 x 562 "
   ]
  },
  {
   "cell_type": "code",
   "execution_count": null,
   "metadata": {},
   "outputs": [],
   "source": [
    "control_videos_shapes = [] \n",
    "for video in CONTROL_VIDEOS:\n",
    "    control_videos_shapes.append(list(np.array(video).shape)) # (frames, height, width, num channels)"
   ]
  },
  {
   "cell_type": "code",
   "execution_count": null,
   "metadata": {},
   "outputs": [],
   "source": [
    "np.mean(control_videos_shapes, axis = 0) # average height and width for the armflapping frames is 419 x 581 "
   ]
  },
  {
   "cell_type": "code",
   "execution_count": null,
   "metadata": {},
   "outputs": [],
   "source": [
    "y = np.arange(35).reshape(5,7)\n",
    "y"
   ]
  },
  {
   "cell_type": "code",
   "execution_count": null,
   "metadata": {},
   "outputs": [],
   "source": [
    "y[0::1]"
   ]
  },
  {
   "cell_type": "code",
   "execution_count": null,
   "metadata": {},
   "outputs": [],
   "source": [
    "selected_armflapping_frames = [] # the dimensions of this will be (75, 100, height, width, channels)\n",
    "selected_control_frames = [] \n",
    "\n",
    "for FRAMES in ARMFLAPPING_VIDEOS: \n",
    "    selected_armflapping_frames.append(FRAMES[:100])\n",
    "\n",
    "for FRAMES in CONTROL_VIDEOS: \n",
    "    selected_control_frames.append(FRAMES[:100])"
   ]
  },
  {
   "cell_type": "code",
   "execution_count": null,
   "metadata": {},
   "outputs": [],
   "source": [
    "selected_armflapping_frames = np.array(selected_armflapping_frames)\n",
    "selected_control_frames = np.array(selected_control_frames)"
   ]
  },
  {
   "cell_type": "code",
   "execution_count": null,
   "metadata": {},
   "outputs": [],
   "source": [
    "# the final data should be (75, 100, 42)\n",
    "import matplotlib.pyplot as plt \n",
    "import mediapipe as mp\n",
    "\n",
    "mp_hands = mp.solutions.hands\n",
    "hands = mp_hands.Hands(min_detection_confidence = 0.3, min_tracking_confidence = 0.3)\n",
    "\n",
    "for image in selected_armflapping_frames[22] :\n",
    "    height, width, _ = image.shape\n",
    "    image.flags.writeable = False \n",
    "    results = hands.process(image)\n",
    "    \n",
    "    y_s = []\n",
    "    x_s = []\n",
    "    \n",
    "    if results.multi_hand_landmarks:\n",
    "        for hand_landmark in results.multi_hand_landmarks:\n",
    "            for i in range(0, 21):\n",
    "                landmark = hand_landmark.landmark[i]\n",
    "                x = int(landmark.x * width)\n",
    "                y = int(landmark.y * height)\n",
    "                y_s.append(y)\n",
    "                x_s.append(x)\n",
    "                \n",
    "                image = cv2.circle(image, (x, y), 5, (255, 0, 0), 2)\n",
    "    \n",
    "    print(y_s)\n",
    "    print(x_s)\n",
    "    \n",
    "    plt.imshow(image)\n",
    "    plt.show()"
   ]
  },
  {
   "cell_type": "code",
   "execution_count": null,
   "metadata": {},
   "outputs": [],
   "source": [
    "import cv2\n",
    "import mediapipe as mp\n",
    "mp_hands = mp.solutions.hands\n",
    "\n",
    "cap = cv2.VideoCapture('/Users/anish/Downloads/all_videos/armflapping/499.mp4')\n",
    "mp_drawing = mp.solutions.drawing_utils\n",
    "with mp_hands.Hands(min_detection_confidence=0.8, min_tracking_confidence=0.5) as hands: \n",
    "    while cap.isOpened():\n",
    "        ret, frame = cap.read()\n",
    "        print(ret)\n",
    "        # BGR 2 RGB\n",
    "        image = cv2.cvtColor(frame, cv2.COLOR_BGR2RGB)\n",
    "        \n",
    "        # Flip on horizontal\n",
    "        image = cv2.flip(image, 1)\n",
    "        \n",
    "        # Set flag\n",
    "        image.flags.writeable = False\n",
    "        \n",
    "        # Detections\n",
    "        results = hands.process(image)\n",
    "        \n",
    "        # Set flag to true\n",
    "        image.flags.writeable = True\n",
    "        \n",
    "        # RGB 2 BGR\n",
    "        image = cv2.cvtColor(image, cv2.COLOR_RGB2BGR)\n",
    "        \n",
    "        # Detections\n",
    "        print(results)\n",
    "        \n",
    "        # Rendering results\n",
    "        if results.multi_hand_landmarks:\n",
    "            for num, hand in enumerate(results.multi_hand_landmarks):\n",
    "                mp_drawing.draw_landmarks(image, hand, mp_hands.HAND_CONNECTIONS, \n",
    "                                        mp_drawing.DrawingSpec(color=(121, 22, 76), thickness=2, circle_radius=4),\n",
    "                                        mp_drawing.DrawingSpec(color=(250, 44, 250), thickness=2, circle_radius=2),\n",
    "                                         )\n",
    "            \n",
    "        # Save our image    \n",
    "        cv2.imwrite(os.path.join('Output Images', '{}.jpg'.format(uuid.uuid1())), image)\n",
    "        cv2.imshow('Hand Tracking', image)\n",
    "\n",
    "        if cv2.waitKey(10) & 0xFF == ord('q'):\n",
    "            break\n",
    "\n",
    "cap.release()\n",
    "cv2.destroyAllWindows()"
   ]
  },
  {
   "cell_type": "markdown",
   "metadata": {},
   "source": [
    "# Let's create our custom layer for image augmentations. We will be using a transformation of brightness, rotation, height and width, and shear. "
   ]
  },
  {
   "cell_type": "code",
   "execution_count": null,
   "metadata": {},
   "outputs": [],
   "source": [
    "# sometimes it just doesn't work out wtv \n",
    "\n",
    "import keras \n",
    "import numpy as np\n",
    "import tensorflow as tf \n",
    "import tensorflow.python.ops.numpy_ops.np_config as np_config\n",
    "\n",
    "np_config.enable_numpy_behavior()\n",
    "\n",
    "class AugLayer(keras.layers.Layer): \n",
    "    def __init__(self, height_shift_range = 0.05, width_shift_range = 0.05, zoom_range = (0.8, 1.2), rotation_range = 20, shear_range = 20): \n",
    "        super().__init__()\n",
    "        self.height_shift_range = height_shift_range\n",
    "        self.width_shift_range = width_shift_range\n",
    "        self.rotation_range = rotation_range\n",
    "        self.shear_range = shear_range\n",
    "        self.zoom_range = zoom_range \n",
    "        self.training = True # manually turn this off when inferring\n",
    "    def call(self, X): \n",
    "        if self.training: \n",
    "            # apply zoom \n",
    "            X = np.array([tf.keras.preprocessing.image.random_zoom(img, (0.8, 1.2), row_axis=0, col_axis = 1, channel_axis = 2) for img in X])\n",
    "\n",
    "            # apply the random rotation to every image \n",
    "            X = np.array([tf.keras.preprocessing.image.random_rotation(img, self.rotation_range, row_axis =0, col_axis = 1, channel_axis = 2) for img in X])\n",
    "\n",
    "            # apply shear \n",
    "            X = np.array([tf.keras.preprocessing.image.random_shear(img, 20, row_axis=0, col_axis = 1, channel_axis = 2) for img in X])\n",
    "            \n",
    "            # apply the height and shift change \n",
    "            X = np.array([tf.keras.preprocessing.image.random_shift(img, self.height_shift_range, self.width_shift_range, row_axis =0, col_axis = 1, channel_axis = 2) for img in X])\n",
    "\n",
    "            return X \n",
    "        \n",
    "        else: \n",
    "            return X "
   ]
  },
  {
   "cell_type": "code",
   "execution_count": null,
   "metadata": {},
   "outputs": [],
   "source": [
    "aug_layer = AugLayer()"
   ]
  },
  {
   "cell_type": "code",
   "execution_count": null,
   "metadata": {},
   "outputs": [],
   "source": [
    "img = cv2.imread(\"/Users/anish/Documents/CP + Programming Fun/web dev **practice**/wedding/assets/proposal/square_proposal.jpg\")"
   ]
  },
  {
   "cell_type": "code",
   "execution_count": null,
   "metadata": {},
   "outputs": [],
   "source": [
    "import matplotlib.pyplot as plt\n",
    "\n",
    "for _ in range(10): \n",
    "    new_img = aug_layer([img])\n",
    "    plt.imshow(new_img)"
   ]
  },
  {
   "cell_type": "code",
   "execution_count": null,
   "metadata": {},
   "outputs": [],
   "source": []
  }
 ],
 "metadata": {
  "interpreter": {
   "hash": "aee8b7b246df8f9039afb4144a1f6fd8d2ca17a180786b69acc140d282b71a49"
  },
  "kernelspec": {
   "display_name": "Python 3",
   "language": "python",
   "name": "python3"
  },
  "language_info": {
   "codemirror_mode": {
    "name": "ipython",
    "version": 3
   },
   "file_extension": ".py",
   "mimetype": "text/x-python",
   "name": "python",
   "nbconvert_exporter": "python",
   "pygments_lexer": "ipython3",
   "version": "3.8.3"
  }
 },
 "nbformat": 4,
 "nbformat_minor": 2
}
