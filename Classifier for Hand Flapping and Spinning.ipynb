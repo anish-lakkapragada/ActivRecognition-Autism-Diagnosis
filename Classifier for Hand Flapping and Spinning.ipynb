{
 "cells": [
  {
   "cell_type": "code",
   "execution_count": 1,
   "metadata": {},
   "outputs": [],
   "source": [
    "# first change the directory over to ssbd release\n",
    "import os \n",
    "import xml.etree.ElementTree as ET"
   ]
  },
  {
   "cell_type": "markdown",
   "metadata": {},
   "source": [
    "# The first step is preprocessing. We use the [SSBD Dataset](https://rolandgoecke.net/research/datasets/ssbd/) in order to get the data for hand flapping and spinning. \n",
    "\n",
    "## The dataset does contain 75 URLs (although we'll ignore all headbanging videos) to youtube videos. All the data is nicely stored in XML files that I will read to get the youtube videos and also the time stamps of when the beheavior (hand flapping or spinning) occurs. Then I will use pytube to download the youtube videos to .mp4 and moviepy to cut the .mp4 videos into just the areas of interest. "
   ]
  },
  {
   "cell_type": "code",
   "execution_count": 2,
   "metadata": {},
   "outputs": [
    {
     "name": "stdout",
     "output_type": "stream",
     "text": [
      "http://www.youtube.com/watch?v=T9rbit_oiJA\n",
      "0004:0010\n",
      "armflapping\n",
      "high\n",
      "0015:0020\n",
      "armflapping\n",
      "high\n"
     ]
    }
   ],
   "source": [
    "# next step would be to get the hand flapping and spinning data \n",
    "\n",
    "tree = ET.parse(\"ssbd-release/Annotations/v_ArmFlapping_07.xml\")\n",
    "root = tree.getroot()\n",
    "for child in root:\n",
    "    # for each child in the root \n",
    "    if child.tag == \"url\":\n",
    "        print(child.text)\n",
    "    if child.tag == \"behaviours\":\n",
    "        for behavior in child: # go through each reported behavior \n",
    "            for tag in behavior: # tag is just the attribute of the behavior \n",
    "                if tag.tag == \"time\":\n",
    "                    print(tag.text)\n",
    "                if tag.tag == \"intensity\":\n",
    "                    print(tag.text)\n",
    "                if tag.tag == \"category\":\n",
    "                    print(tag.text)"
   ]
  },
  {
   "cell_type": "code",
   "execution_count": 4,
   "metadata": {},
   "outputs": [],
   "source": [
    "def convert_to_second(time : str) -> int:\n",
    "    # this will take in a time like \"0125\" or 1:25 and make it 85 (60 + 25)\n",
    "    overall_seconds = 0 \n",
    "    for i, time_char in enumerate(reversed(time)):\n",
    "        if i == 0:\n",
    "            overall_seconds += int(time_char)\n",
    "        if i == 1:\n",
    "            overall_seconds += int(time_char) * 10\n",
    "        if i == 2:\n",
    "            overall_seconds += int(time_char) * 60 \n",
    "        if i == 3:\n",
    "            overall_seconds += int(time_char) * 600 \n",
    "    return overall_seconds \n",
    "\n",
    "assert convert_to_second('2345') == 23 * 60 + 45  "
   ]
  },
  {
   "cell_type": "code",
   "execution_count": 5,
   "metadata": {},
   "outputs": [],
   "source": [
    "from collections import defaultdict\n",
    "URLS_TO_DOWNLOAD = set() # contains all youtube videos to download \n",
    "links_to_times = {} # data will be stored here like {link : {'category' : [(start, end)], 'another cat' : [(start, end)]}\n",
    "\n",
    "for i, file_name in enumerate(os.listdir('ssbd-release/Annotations/')):\n",
    "    # parse this file \n",
    "    tree = ET.parse('ssbd-release/Annotations/' + file_name)\n",
    "    root = tree.getroot() \n",
    "    \n",
    "    # everything we need to store\n",
    "    URL = \"\"\n",
    "    \n",
    "    for child in root:\n",
    "        \n",
    "        if child.tag == \"url\":\n",
    "            URL = child.text # store URL\n",
    "            URLS_TO_DOWNLOAD.add(URL)\n",
    "            links_to_times[URL] = defaultdict(list) \n",
    "        \n",
    "        if child.tag == \"behaviours\": # this child has the list of behaviors \n",
    "            for reported_behavior in child: \n",
    "                for info in reported_behavior:\n",
    "                    # gather the start time, end time, and category for this youtube link \n",
    "                    if info.tag == \"time\":\n",
    "                        # the time will be start:end \n",
    "                        times = str(info.text) # contains the string \n",
    "                        if times.count(\":\"): \n",
    "                            divider_index = times.index(\":\")\n",
    "                        elif times.count(\"-\"):\n",
    "                            divider_index = times.index(\"-\")\n",
    "                        else:\n",
    "                            break # invalid then \n",
    "                        START_TIME, END_TIME = convert_to_second(times[:divider_index]), convert_to_second(times[divider_index + 1:])\n",
    "                        \n",
    "                    if info.tag == \"category\":\n",
    "                        # this is the label \n",
    "                        LABEL = info.text \n",
    "                \n",
    "                # create an entry for this reported behavior \n",
    "                links_to_times[URL][LABEL].append((START_TIME, END_TIME))"
   ]
  },
  {
   "cell_type": "code",
   "execution_count": 6,
   "metadata": {},
   "outputs": [],
   "source": [
    "# pickle this just incase \n",
    "import pickle \n",
    "with open(\"links_to_times.pkl\", 'wb') as f:\n",
    "    pickle.dump(links_to_times, f)"
   ]
  },
  {
   "cell_type": "code",
   "execution_count": null,
   "metadata": {},
   "outputs": [],
   "source": [
    "from moviepy.video.io.VideoFileClip import VideoFileClip\n",
    "\n",
    "input_video_path = 'myPath/vid1.mp4'\n",
    "output_video_path = 'myPath/output/vid1.mp4'\n",
    "\n",
    "with VideoFileClip(input_video_path) as video:\n",
    "    new = video.subclip(t1, t2)\n",
    "    new.write_videofile(output_video_path, audio_codec='aac')"
   ]
  },
  {
   "cell_type": "code",
   "execution_count": 13,
   "metadata": {},
   "outputs": [
    {
     "name": "stderr",
     "output_type": "stream",
     "text": [
      "                                                        "
     ]
    },
    {
     "name": "stdout",
     "output_type": "stream",
     "text": [
      "Moviepy - Building video behavior_data/spinning/0.mp4.\n",
      "MoviePy - Writing audio in 0TEMP_MPY_wvf_snd.mp4\n",
      "MoviePy - Done.\n",
      "Moviepy - Writing video behavior_data/spinning/0.mp4\n",
      "\n"
     ]
    },
    {
     "name": "stderr",
     "output_type": "stream",
     "text": [
      "\r"
     ]
    },
    {
     "name": "stdout",
     "output_type": "stream",
     "text": [
      "Moviepy - Done !\n",
      "Moviepy - video ready behavior_data/spinning/0.mp4\n",
      "this is headbanging, so skipping\n"
     ]
    },
    {
     "name": "stderr",
     "output_type": "stream",
     "text": [
      "t:   0%|          | 0/168 [00:00<?, ?it/s, now=None]                "
     ]
    },
    {
     "name": "stdout",
     "output_type": "stream",
     "text": [
      "Moviepy - Building video behavior_data/armflapping/2.mp4.\n",
      "MoviePy - Writing audio in 2TEMP_MPY_wvf_snd.mp4\n",
      "MoviePy - Done.\n",
      "Moviepy - Writing video behavior_data/armflapping/2.mp4\n",
      "\n"
     ]
    },
    {
     "name": "stderr",
     "output_type": "stream",
     "text": [
      "                                                               \r"
     ]
    },
    {
     "name": "stdout",
     "output_type": "stream",
     "text": [
      "Moviepy - Done !\n",
      "Moviepy - video ready behavior_data/armflapping/2.mp4\n"
     ]
    },
    {
     "name": "stderr",
     "output_type": "stream",
     "text": [
      "t:   0%|          | 0/168 [00:00<?, ?it/s, now=None]                "
     ]
    },
    {
     "name": "stdout",
     "output_type": "stream",
     "text": [
      "Moviepy - Building video behavior_data/armflapping/2.mp4.\n",
      "MoviePy - Writing audio in 2TEMP_MPY_wvf_snd.mp4\n",
      "MoviePy - Done.\n",
      "Moviepy - Writing video behavior_data/armflapping/2.mp4\n",
      "\n"
     ]
    },
    {
     "name": "stderr",
     "output_type": "stream",
     "text": [
      "                                                               \r"
     ]
    },
    {
     "name": "stdout",
     "output_type": "stream",
     "text": [
      "Moviepy - Done !\n",
      "Moviepy - video ready behavior_data/armflapping/2.mp4\n"
     ]
    },
    {
     "name": "stderr",
     "output_type": "stream",
     "text": [
      "t:   0%|          | 0/180 [00:00<?, ?it/s, now=None]                "
     ]
    },
    {
     "name": "stdout",
     "output_type": "stream",
     "text": [
      "Moviepy - Building video behavior_data/armflapping/3.mp4.\n",
      "MoviePy - Writing audio in 3TEMP_MPY_wvf_snd.mp4\n",
      "MoviePy - Done.\n",
      "Moviepy - Writing video behavior_data/armflapping/3.mp4\n",
      "\n"
     ]
    },
    {
     "name": "stderr",
     "output_type": "stream",
     "text": [
      "                                                               \r"
     ]
    },
    {
     "name": "stdout",
     "output_type": "stream",
     "text": [
      "Moviepy - Done !\n",
      "Moviepy - video ready behavior_data/armflapping/3.mp4\n"
     ]
    },
    {
     "name": "stderr",
     "output_type": "stream",
     "text": [
      "chunk:  30%|██▉       | 131/442 [00:00<00:00, 1307.88it/s, now=None]"
     ]
    },
    {
     "name": "stdout",
     "output_type": "stream",
     "text": [
      "Moviepy - Building video behavior_data/armflapping/4.mp4.\n",
      "MoviePy - Writing audio in 4TEMP_MPY_wvf_snd.mp4\n"
     ]
    },
    {
     "name": "stderr",
     "output_type": "stream",
     "text": [
      "t:   5%|▌         | 30/600 [00:00<00:01, 291.32it/s, now=None]      "
     ]
    },
    {
     "name": "stdout",
     "output_type": "stream",
     "text": [
      "MoviePy - Done.\n",
      "Moviepy - Writing video behavior_data/armflapping/4.mp4\n",
      "\n"
     ]
    },
    {
     "name": "stderr",
     "output_type": "stream",
     "text": [
      "                                                               \r"
     ]
    },
    {
     "name": "stdout",
     "output_type": "stream",
     "text": [
      "Moviepy - Done !\n",
      "Moviepy - video ready behavior_data/armflapping/4.mp4\n"
     ]
    },
    {
     "name": "stderr",
     "output_type": "stream",
     "text": [
      "t:   0%|          | 0/240 [00:00<?, ?it/s, now=None]                "
     ]
    },
    {
     "name": "stdout",
     "output_type": "stream",
     "text": [
      "Moviepy - Building video behavior_data/armflapping/4.mp4.\n",
      "MoviePy - Writing audio in 4TEMP_MPY_wvf_snd.mp4\n",
      "MoviePy - Done.\n",
      "Moviepy - Writing video behavior_data/armflapping/4.mp4\n",
      "\n"
     ]
    },
    {
     "name": "stderr",
     "output_type": "stream",
     "text": [
      "                                                               \r"
     ]
    },
    {
     "name": "stdout",
     "output_type": "stream",
     "text": [
      "Moviepy - Done !\n",
      "Moviepy - video ready behavior_data/armflapping/4.mp4\n"
     ]
    },
    {
     "name": "stderr",
     "output_type": "stream",
     "text": [
      "t:   0%|          | 0/216 [00:00<?, ?it/s, now=None]                "
     ]
    },
    {
     "name": "stdout",
     "output_type": "stream",
     "text": [
      "Moviepy - Building video behavior_data/armflapping/5.mp4.\n",
      "MoviePy - Writing audio in 5TEMP_MPY_wvf_snd.mp4\n",
      "MoviePy - Done.\n",
      "Moviepy - Writing video behavior_data/armflapping/5.mp4\n",
      "\n"
     ]
    },
    {
     "name": "stderr",
     "output_type": "stream",
     "text": [
      "chunk:   0%|          | 0/89 [00:00<?, ?it/s, now=None]        "
     ]
    },
    {
     "name": "stdout",
     "output_type": "stream",
     "text": [
      "Moviepy - Done !\n",
      "Moviepy - video ready behavior_data/armflapping/5.mp4\n",
      "Moviepy - Building video behavior_data/armflapping/5.mp4.\n",
      "MoviePy - Writing audio in 5TEMP_MPY_wvf_snd.mp4\n"
     ]
    },
    {
     "name": "stderr",
     "output_type": "stream",
     "text": [
      "                                                       \r"
     ]
    },
    {
     "name": "stdout",
     "output_type": "stream",
     "text": [
      "MoviePy - Done.\n",
      "Moviepy - Writing video behavior_data/armflapping/5.mp4\n",
      "\n",
      "Moviepy - Done !\n",
      "Moviepy - video ready behavior_data/armflapping/5.mp4\n"
     ]
    },
    {
     "name": "stderr",
     "output_type": "stream",
     "text": [
      "t:   0%|          | 0/168 [00:00<?, ?it/s, now=None]                "
     ]
    },
    {
     "name": "stdout",
     "output_type": "stream",
     "text": [
      "Moviepy - Building video behavior_data/armflapping/5.mp4.\n",
      "MoviePy - Writing audio in 5TEMP_MPY_wvf_snd.mp4\n",
      "MoviePy - Done.\n",
      "Moviepy - Writing video behavior_data/armflapping/5.mp4\n",
      "\n"
     ]
    },
    {
     "name": "stderr",
     "output_type": "stream",
     "text": [
      "chunk:   0%|          | 0/375 [00:00<?, ?it/s, now=None]       "
     ]
    },
    {
     "name": "stdout",
     "output_type": "stream",
     "text": [
      "Moviepy - Done !\n",
      "Moviepy - video ready behavior_data/armflapping/5.mp4\n",
      "Moviepy - Building video behavior_data/armflapping/5.mp4.\n",
      "MoviePy - Writing audio in 5TEMP_MPY_wvf_snd.mp4\n"
     ]
    },
    {
     "name": "stderr",
     "output_type": "stream",
     "text": [
      "t:  25%|██▌       | 104/408 [00:00<00:00, 1038.83it/s, now=None]    "
     ]
    },
    {
     "name": "stdout",
     "output_type": "stream",
     "text": [
      "MoviePy - Done.\n",
      "Moviepy - Writing video behavior_data/armflapping/5.mp4\n",
      "\n"
     ]
    },
    {
     "name": "stderr",
     "output_type": "stream",
     "text": [
      "                                                                \r"
     ]
    },
    {
     "name": "stdout",
     "output_type": "stream",
     "text": [
      "Moviepy - Done !\n",
      "Moviepy - video ready behavior_data/armflapping/5.mp4\n",
      "this is headbanging, so skipping\n",
      "annoying url: http://www.youtube.com/watch?v=WcsZ9eMQ5Zs\n",
      "this is headbanging, so skipping\n"
     ]
    },
    {
     "name": "stderr",
     "output_type": "stream",
     "text": [
      "                                                       "
     ]
    },
    {
     "name": "stdout",
     "output_type": "stream",
     "text": [
      "Moviepy - Building video behavior_data/armflapping/9.mp4.\n",
      "MoviePy - Writing audio in 9TEMP_MPY_wvf_snd.mp4\n",
      "MoviePy - Done.\n",
      "Moviepy - Writing video behavior_data/armflapping/9.mp4\n",
      "\n",
      "Moviepy - Done !\n",
      "Moviepy - video ready behavior_data/armflapping/9.mp4\n"
     ]
    },
    {
     "name": "stderr",
     "output_type": "stream",
     "text": [
      "                                                       "
     ]
    },
    {
     "name": "stdout",
     "output_type": "stream",
     "text": [
      "Moviepy - Building video behavior_data/armflapping/9.mp4.\n",
      "MoviePy - Writing audio in 9TEMP_MPY_wvf_snd.mp4\n",
      "MoviePy - Done.\n",
      "Moviepy - Writing video behavior_data/armflapping/9.mp4\n",
      "\n"
     ]
    },
    {
     "name": "stderr",
     "output_type": "stream",
     "text": [
      "chunk:   0%|          | 0/45 [00:00<?, ?it/s, now=None]"
     ]
    },
    {
     "name": "stdout",
     "output_type": "stream",
     "text": [
      "Moviepy - Done !\n",
      "Moviepy - video ready behavior_data/armflapping/9.mp4\n",
      "Moviepy - Building video behavior_data/armflapping/9.mp4.\n",
      "MoviePy - Writing audio in 9TEMP_MPY_wvf_snd.mp4\n"
     ]
    },
    {
     "name": "stderr",
     "output_type": "stream",
     "text": [
      "                                                       \r"
     ]
    },
    {
     "name": "stdout",
     "output_type": "stream",
     "text": [
      "MoviePy - Done.\n",
      "Moviepy - Writing video behavior_data/armflapping/9.mp4\n",
      "\n",
      "Moviepy - Done !\n",
      "Moviepy - video ready behavior_data/armflapping/9.mp4\n"
     ]
    },
    {
     "name": "stderr",
     "output_type": "stream",
     "text": [
      "chunk:  42%|████▏     | 252/596 [00:00<00:00, 2515.50it/s, now=None]"
     ]
    },
    {
     "name": "stdout",
     "output_type": "stream",
     "text": [
      "Moviepy - Building video behavior_data/armflapping/10.mp4.\n",
      "MoviePy - Writing audio in 10TEMP_MPY_wvf_snd.mp4\n"
     ]
    },
    {
     "name": "stderr",
     "output_type": "stream",
     "text": [
      "t:   8%|▊         | 68/802 [00:00<00:01, 677.18it/s, now=None]      "
     ]
    },
    {
     "name": "stdout",
     "output_type": "stream",
     "text": [
      "MoviePy - Done.\n",
      "Moviepy - Writing video behavior_data/armflapping/10.mp4\n",
      "\n"
     ]
    },
    {
     "name": "stderr",
     "output_type": "stream",
     "text": [
      "chunk:   0%|          | 0/1235 [00:00<?, ?it/s, now=None]      "
     ]
    },
    {
     "name": "stdout",
     "output_type": "stream",
     "text": [
      "Moviepy - Done !\n",
      "Moviepy - video ready behavior_data/armflapping/10.mp4\n",
      "Moviepy - Building video behavior_data/armflapping/10.mp4.\n",
      "MoviePy - Writing audio in 10TEMP_MPY_wvf_snd.mp4\n"
     ]
    },
    {
     "name": "stderr",
     "output_type": "stream",
     "text": [
      "t:   4%|▍         | 71/1663 [00:00<00:02, 692.43it/s, now=None]       "
     ]
    },
    {
     "name": "stdout",
     "output_type": "stream",
     "text": [
      "MoviePy - Done.\n",
      "Moviepy - Writing video behavior_data/armflapping/10.mp4\n",
      "\n"
     ]
    },
    {
     "name": "stderr",
     "output_type": "stream",
     "text": [
      "chunk:   0%|          | 0/464 [00:00<?, ?it/s, now=None]         "
     ]
    },
    {
     "name": "stdout",
     "output_type": "stream",
     "text": [
      "Moviepy - Done !\n",
      "Moviepy - video ready behavior_data/armflapping/10.mp4\n",
      "Moviepy - Building video behavior_data/armflapping/10.mp4.\n",
      "MoviePy - Writing audio in 10TEMP_MPY_wvf_snd.mp4\n"
     ]
    },
    {
     "name": "stderr",
     "output_type": "stream",
     "text": [
      "t:  12%|█▏        | 72/624 [00:00<00:00, 704.25it/s, now=None]      "
     ]
    },
    {
     "name": "stdout",
     "output_type": "stream",
     "text": [
      "MoviePy - Done.\n",
      "Moviepy - Writing video behavior_data/armflapping/10.mp4\n",
      "\n"
     ]
    },
    {
     "name": "stderr",
     "output_type": "stream",
     "text": [
      "                                                               \r"
     ]
    },
    {
     "name": "stdout",
     "output_type": "stream",
     "text": [
      "Moviepy - Done !\n",
      "Moviepy - video ready behavior_data/armflapping/10.mp4\n"
     ]
    },
    {
     "name": "stderr",
     "output_type": "stream",
     "text": [
      "t:  33%|███▎      | 30/90 [00:00<00:00, 291.75it/s, now=None]"
     ]
    },
    {
     "name": "stdout",
     "output_type": "stream",
     "text": [
      "Moviepy - Building video behavior_data/armflapping/11.mp4.\n",
      "MoviePy - Writing audio in 11TEMP_MPY_wvf_snd.mp4\n",
      "MoviePy - Done.\n",
      "Moviepy - Writing video behavior_data/armflapping/11.mp4\n",
      "\n"
     ]
    },
    {
     "name": "stderr",
     "output_type": "stream",
     "text": [
      "                                                             \r"
     ]
    },
    {
     "name": "stdout",
     "output_type": "stream",
     "text": [
      "Moviepy - Done !\n",
      "Moviepy - video ready behavior_data/armflapping/11.mp4\n"
     ]
    },
    {
     "name": "stderr",
     "output_type": "stream",
     "text": [
      "t:   0%|          | 0/330 [00:00<?, ?it/s, now=None]                "
     ]
    },
    {
     "name": "stdout",
     "output_type": "stream",
     "text": [
      "Moviepy - Building video behavior_data/armflapping/11.mp4.\n",
      "MoviePy - Writing audio in 11TEMP_MPY_wvf_snd.mp4\n",
      "MoviePy - Done.\n",
      "Moviepy - Writing video behavior_data/armflapping/11.mp4\n",
      "\n"
     ]
    },
    {
     "name": "stderr",
     "output_type": "stream",
     "text": [
      "                                                               \r"
     ]
    },
    {
     "name": "stdout",
     "output_type": "stream",
     "text": [
      "Moviepy - Done !\n",
      "Moviepy - video ready behavior_data/armflapping/11.mp4\n",
      "annoying url: http://www.youtube.com/watch?v=T9rbit_oiJA\n",
      "this is headbanging, so skipping\n"
     ]
    },
    {
     "name": "stderr",
     "output_type": "stream",
     "text": [
      "t:  87%|████████▋ | 66/76 [00:00<00:00, 649.46it/s, now=None]"
     ]
    },
    {
     "name": "stdout",
     "output_type": "stream",
     "text": [
      "Moviepy - Building video behavior_data/armflapping/14.mp4.\n",
      "MoviePy - Writing audio in 14TEMP_MPY_wvf_snd.mp4\n",
      "MoviePy - Done.\n",
      "Moviepy - Writing video behavior_data/armflapping/14.mp4\n",
      "\n"
     ]
    },
    {
     "name": "stderr",
     "output_type": "stream",
     "text": [
      "                                                             \r"
     ]
    },
    {
     "name": "stdout",
     "output_type": "stream",
     "text": [
      "Moviepy - Done !\n",
      "Moviepy - video ready behavior_data/armflapping/14.mp4\n"
     ]
    },
    {
     "name": "stderr",
     "output_type": "stream",
     "text": [
      "t:   0%|          | 0/288 [00:00<?, ?it/s, now=None]                "
     ]
    },
    {
     "name": "stdout",
     "output_type": "stream",
     "text": [
      "Moviepy - Building video behavior_data/armflapping/15.mp4.\n",
      "MoviePy - Writing audio in 15TEMP_MPY_wvf_snd.mp4\n",
      "MoviePy - Done.\n",
      "Moviepy - Writing video behavior_data/armflapping/15.mp4\n",
      "\n"
     ]
    },
    {
     "name": "stderr",
     "output_type": "stream",
     "text": [
      "                                                               \r"
     ]
    },
    {
     "name": "stdout",
     "output_type": "stream",
     "text": [
      "Moviepy - Done !\n",
      "Moviepy - video ready behavior_data/armflapping/15.mp4\n"
     ]
    },
    {
     "name": "stderr",
     "output_type": "stream",
     "text": [
      "t:  31%|███▏      | 30/96 [00:00<00:00, 290.73it/s, now=None]"
     ]
    },
    {
     "name": "stdout",
     "output_type": "stream",
     "text": [
      "Moviepy - Building video behavior_data/armflapping/15.mp4.\n",
      "MoviePy - Writing audio in 15TEMP_MPY_wvf_snd.mp4\n",
      "MoviePy - Done.\n",
      "Moviepy - Writing video behavior_data/armflapping/15.mp4\n",
      "\n"
     ]
    },
    {
     "name": "stderr",
     "output_type": "stream",
     "text": [
      "                                                             \r"
     ]
    },
    {
     "name": "stdout",
     "output_type": "stream",
     "text": [
      "Moviepy - Done !\n",
      "Moviepy - video ready behavior_data/armflapping/15.mp4\n"
     ]
    },
    {
     "name": "stderr",
     "output_type": "stream",
     "text": [
      "t:   0%|          | 0/72 [00:00<?, ?it/s, now=None]    "
     ]
    },
    {
     "name": "stdout",
     "output_type": "stream",
     "text": [
      "Moviepy - Building video behavior_data/armflapping/15.mp4.\n",
      "MoviePy - Writing audio in 15TEMP_MPY_wvf_snd.mp4\n",
      "MoviePy - Done.\n",
      "Moviepy - Writing video behavior_data/armflapping/15.mp4\n",
      "\n"
     ]
    },
    {
     "name": "stderr",
     "output_type": "stream",
     "text": [
      "                                                             \r"
     ]
    },
    {
     "name": "stdout",
     "output_type": "stream",
     "text": [
      "Moviepy - Done !\n",
      "Moviepy - video ready behavior_data/armflapping/15.mp4\n"
     ]
    },
    {
     "name": "stderr",
     "output_type": "stream",
     "text": [
      "t:   0%|          | 0/420 [00:00<?, ?it/s, now=None]                "
     ]
    },
    {
     "name": "stdout",
     "output_type": "stream",
     "text": [
      "Moviepy - Building video behavior_data/armflapping/16.mp4.\n",
      "MoviePy - Writing audio in 16TEMP_MPY_wvf_snd.mp4\n",
      "MoviePy - Done.\n",
      "Moviepy - Writing video behavior_data/armflapping/16.mp4\n",
      "\n"
     ]
    },
    {
     "name": "stderr",
     "output_type": "stream",
     "text": [
      "                                                               \r"
     ]
    },
    {
     "name": "stdout",
     "output_type": "stream",
     "text": [
      "Moviepy - Done !\n",
      "Moviepy - video ready behavior_data/armflapping/16.mp4\n"
     ]
    },
    {
     "name": "stderr",
     "output_type": "stream",
     "text": [
      "t:  81%|████████▏ | 122/150 [00:00<00:00, 1218.57it/s, now=None]"
     ]
    },
    {
     "name": "stdout",
     "output_type": "stream",
     "text": [
      "Moviepy - Building video behavior_data/armflapping/17.mp4.\n",
      "MoviePy - Writing audio in 17TEMP_MPY_wvf_snd.mp4\n",
      "MoviePy - Done.\n",
      "Moviepy - Writing video behavior_data/armflapping/17.mp4\n",
      "\n"
     ]
    },
    {
     "name": "stderr",
     "output_type": "stream",
     "text": [
      "chunk:   0%|          | 0/89 [00:00<?, ?it/s, now=None]         "
     ]
    },
    {
     "name": "stdout",
     "output_type": "stream",
     "text": [
      "Moviepy - Done !\n",
      "Moviepy - video ready behavior_data/armflapping/17.mp4\n",
      "Moviepy - Building video behavior_data/armflapping/17.mp4.\n",
      "MoviePy - Writing audio in 17TEMP_MPY_wvf_snd.mp4\n"
     ]
    },
    {
     "name": "stderr",
     "output_type": "stream",
     "text": [
      "                                                       \r"
     ]
    },
    {
     "name": "stdout",
     "output_type": "stream",
     "text": [
      "MoviePy - Done.\n",
      "Moviepy - Writing video behavior_data/armflapping/17.mp4\n",
      "\n",
      "Moviepy - Done !\n",
      "Moviepy - video ready behavior_data/armflapping/17.mp4\n"
     ]
    },
    {
     "name": "stderr",
     "output_type": "stream",
     "text": [
      "                                                                "
     ]
    },
    {
     "name": "stdout",
     "output_type": "stream",
     "text": [
      "Moviepy - Building video behavior_data/armflapping/17.mp4.\n",
      "MoviePy - Writing audio in 17TEMP_MPY_wvf_snd.mp4\n",
      "MoviePy - Done.\n",
      "Moviepy - Writing video behavior_data/armflapping/17.mp4\n",
      "\n"
     ]
    },
    {
     "name": "stderr",
     "output_type": "stream",
     "text": [
      "\r"
     ]
    },
    {
     "name": "stdout",
     "output_type": "stream",
     "text": [
      "Moviepy - Done !\n",
      "Moviepy - video ready behavior_data/armflapping/17.mp4\n",
      "annoying url: http://www.youtube.com/watch?v=zuoD4tEtYyk\n"
     ]
    },
    {
     "name": "stderr",
     "output_type": "stream",
     "text": [
      "\r",
      "chunk:   0%|          | 0/574 [00:00<?, ?it/s, now=None]"
     ]
    },
    {
     "name": "stdout",
     "output_type": "stream",
     "text": [
      "this is headbanging, so skipping\n",
      "Moviepy - Building video behavior_data/armflapping/19.mp4.\n",
      "MoviePy - Writing audio in 19TEMP_MPY_wvf_snd.mp4\n"
     ]
    },
    {
     "name": "stderr",
     "output_type": "stream",
     "text": [
      "t:   8%|▊         | 64/780 [00:00<00:01, 631.55it/s, now=None]      "
     ]
    },
    {
     "name": "stdout",
     "output_type": "stream",
     "text": [
      "MoviePy - Done.\n",
      "Moviepy - Writing video behavior_data/armflapping/19.mp4\n",
      "\n"
     ]
    },
    {
     "name": "stderr",
     "output_type": "stream",
     "text": [
      "chunk:   0%|          | 0/243 [00:00<?, ?it/s, now=None]       "
     ]
    },
    {
     "name": "stdout",
     "output_type": "stream",
     "text": [
      "Moviepy - Done !\n",
      "Moviepy - video ready behavior_data/armflapping/19.mp4\n",
      "Moviepy - Building video behavior_data/armflapping/19.mp4.\n",
      "MoviePy - Writing audio in 19TEMP_MPY_wvf_snd.mp4\n"
     ]
    },
    {
     "name": "stderr",
     "output_type": "stream",
     "text": [
      "t:  20%|██        | 67/330 [00:00<00:00, 649.05it/s, now=None]      "
     ]
    },
    {
     "name": "stdout",
     "output_type": "stream",
     "text": [
      "MoviePy - Done.\n",
      "Moviepy - Writing video behavior_data/armflapping/19.mp4\n",
      "\n"
     ]
    },
    {
     "name": "stderr",
     "output_type": "stream",
     "text": [
      "chunk:   0%|          | 0/111 [00:00<?, ?it/s, now=None]       "
     ]
    },
    {
     "name": "stdout",
     "output_type": "stream",
     "text": [
      "Moviepy - Done !\n",
      "Moviepy - video ready behavior_data/armflapping/19.mp4\n",
      "Moviepy - Building video behavior_data/armflapping/19.mp4.\n",
      "MoviePy - Writing audio in 19TEMP_MPY_wvf_snd.mp4\n"
     ]
    },
    {
     "name": "stderr",
     "output_type": "stream",
     "text": [
      "t:  47%|████▋     | 71/150 [00:00<00:00, 708.41it/s, now=None]"
     ]
    },
    {
     "name": "stdout",
     "output_type": "stream",
     "text": [
      "MoviePy - Done.\n",
      "Moviepy - Writing video behavior_data/armflapping/19.mp4\n",
      "\n"
     ]
    },
    {
     "name": "stderr",
     "output_type": "stream",
     "text": [
      "                                                               \r"
     ]
    },
    {
     "name": "stdout",
     "output_type": "stream",
     "text": [
      "Moviepy - Done !\n",
      "Moviepy - video ready behavior_data/armflapping/19.mp4\n"
     ]
    },
    {
     "name": "stderr",
     "output_type": "stream",
     "text": [
      "                                                       "
     ]
    },
    {
     "name": "stdout",
     "output_type": "stream",
     "text": [
      "Moviepy - Building video behavior_data/armflapping/20.mp4.\n",
      "MoviePy - Writing audio in 20TEMP_MPY_wvf_snd.mp4\n",
      "MoviePy - Done.\n",
      "Moviepy - Writing video behavior_data/armflapping/20.mp4\n",
      "\n"
     ]
    },
    {
     "name": "stderr",
     "output_type": "stream",
     "text": [
      "\r"
     ]
    },
    {
     "name": "stdout",
     "output_type": "stream",
     "text": [
      "Moviepy - Done !\n",
      "Moviepy - video ready behavior_data/armflapping/20.mp4\n"
     ]
    },
    {
     "name": "stderr",
     "output_type": "stream",
     "text": [
      "t:  44%|████▍     | 64/145 [00:00<00:00, 635.05it/s, now=None]"
     ]
    },
    {
     "name": "stdout",
     "output_type": "stream",
     "text": [
      "Moviepy - Building video behavior_data/armflapping/21.mp4.\n",
      "MoviePy - Writing audio in 21TEMP_MPY_wvf_snd.mp4\n",
      "MoviePy - Done.\n",
      "Moviepy - Writing video behavior_data/armflapping/21.mp4\n",
      "\n"
     ]
    },
    {
     "name": "stderr",
     "output_type": "stream",
     "text": [
      "                                                               \r"
     ]
    },
    {
     "name": "stdout",
     "output_type": "stream",
     "text": [
      "Moviepy - Done !\n",
      "Moviepy - video ready behavior_data/armflapping/21.mp4\n",
      "this is headbanging, so skipping\n"
     ]
    },
    {
     "name": "stderr",
     "output_type": "stream",
     "text": [
      "t:  16%|█▌        | 29/180 [00:00<00:00, 284.97it/s, now=None]"
     ]
    },
    {
     "name": "stdout",
     "output_type": "stream",
     "text": [
      "Moviepy - Building video behavior_data/armflapping/22.mp4.\n",
      "MoviePy - Writing audio in 22TEMP_MPY_wvf_snd.mp4\n",
      "MoviePy - Done.\n",
      "Moviepy - Writing video behavior_data/armflapping/22.mp4\n",
      "\n"
     ]
    },
    {
     "name": "stderr",
     "output_type": "stream",
     "text": [
      "                                                               \r"
     ]
    },
    {
     "name": "stdout",
     "output_type": "stream",
     "text": [
      "Moviepy - Done !\n",
      "Moviepy - video ready behavior_data/armflapping/22.mp4\n"
     ]
    },
    {
     "name": "stderr",
     "output_type": "stream",
     "text": [
      "t:  20%|██        | 30/150 [00:00<00:00, 293.72it/s, now=None]"
     ]
    },
    {
     "name": "stdout",
     "output_type": "stream",
     "text": [
      "Moviepy - Building video behavior_data/armflapping/22.mp4.\n",
      "MoviePy - Writing audio in 22TEMP_MPY_wvf_snd.mp4\n",
      "MoviePy - Done.\n",
      "Moviepy - Writing video behavior_data/armflapping/22.mp4\n",
      "\n"
     ]
    },
    {
     "name": "stderr",
     "output_type": "stream",
     "text": [
      "                                                               \r"
     ]
    },
    {
     "name": "stdout",
     "output_type": "stream",
     "text": [
      "Moviepy - Done !\n",
      "Moviepy - video ready behavior_data/armflapping/22.mp4\n",
      "this is headbanging, so skipping\n",
      "this is headbanging, so skipping\n"
     ]
    },
    {
     "name": "stderr",
     "output_type": "stream",
     "text": [
      "                                                       "
     ]
    },
    {
     "name": "stdout",
     "output_type": "stream",
     "text": [
      "Moviepy - Building video behavior_data/spinning/25.mp4.\n",
      "MoviePy - Writing audio in 25TEMP_MPY_wvf_snd.mp4\n",
      "MoviePy - Done.\n",
      "Moviepy - Writing video behavior_data/spinning/25.mp4\n",
      "\n"
     ]
    },
    {
     "name": "stderr",
     "output_type": "stream",
     "text": [
      "\r"
     ]
    },
    {
     "name": "stdout",
     "output_type": "stream",
     "text": [
      "Moviepy - Done !\n",
      "Moviepy - video ready behavior_data/spinning/25.mp4\n"
     ]
    },
    {
     "name": "stderr",
     "output_type": "stream",
     "text": [
      "t:   0%|          | 0/210 [00:00<?, ?it/s, now=None]    "
     ]
    },
    {
     "name": "stdout",
     "output_type": "stream",
     "text": [
      "Moviepy - Building video behavior_data/spinning/26.mp4.\n",
      "MoviePy - Writing audio in 26TEMP_MPY_wvf_snd.mp4\n",
      "MoviePy - Done.\n",
      "Moviepy - Writing video behavior_data/spinning/26.mp4\n",
      "\n"
     ]
    },
    {
     "name": "stderr",
     "output_type": "stream",
     "text": [
      "                                                               \r"
     ]
    },
    {
     "name": "stdout",
     "output_type": "stream",
     "text": [
      "Moviepy - Done !\n",
      "Moviepy - video ready behavior_data/spinning/26.mp4\n"
     ]
    },
    {
     "name": "stderr",
     "output_type": "stream",
     "text": [
      "chunk:  26%|██▋       | 268/1015 [00:00<00:00, 2676.33it/s, now=None]"
     ]
    },
    {
     "name": "stdout",
     "output_type": "stream",
     "text": [
      "Moviepy - Building video behavior_data/spinning/27.mp4.\n",
      "MoviePy - Writing audio in 27TEMP_MPY_wvf_snd.mp4\n"
     ]
    },
    {
     "name": "stderr",
     "output_type": "stream",
     "text": [
      "t:   5%|▌         | 71/1380 [00:00<00:01, 704.57it/s, now=None]      "
     ]
    },
    {
     "name": "stdout",
     "output_type": "stream",
     "text": [
      "MoviePy - Done.\n",
      "Moviepy - Writing video behavior_data/spinning/27.mp4\n",
      "\n"
     ]
    },
    {
     "name": "stderr",
     "output_type": "stream",
     "text": [
      "                                                                 \r"
     ]
    },
    {
     "name": "stdout",
     "output_type": "stream",
     "text": [
      "Moviepy - Done !\n",
      "Moviepy - video ready behavior_data/spinning/27.mp4\n",
      "Moviepy - Building video behavior_data/spinning/27.mp4.\n",
      "MoviePy - Writing audio in 27TEMP_MPY_wvf_snd.mp4\n"
     ]
    },
    {
     "name": "stderr",
     "output_type": "stream",
     "text": [
      "t:   9%|▊         | 72/840 [00:00<00:01, 681.80it/s, now=None]      "
     ]
    },
    {
     "name": "stdout",
     "output_type": "stream",
     "text": [
      "MoviePy - Done.\n",
      "Moviepy - Writing video behavior_data/spinning/27.mp4\n",
      "\n"
     ]
    },
    {
     "name": "stderr",
     "output_type": "stream",
     "text": [
      "chunk:   0%|          | 0/508 [00:00<?, ?it/s, now=None]       "
     ]
    },
    {
     "name": "stdout",
     "output_type": "stream",
     "text": [
      "Moviepy - Done !\n",
      "Moviepy - video ready behavior_data/spinning/27.mp4\n",
      "Moviepy - Building video behavior_data/spinning/27.mp4.\n",
      "MoviePy - Writing audio in 27TEMP_MPY_wvf_snd.mp4\n"
     ]
    },
    {
     "name": "stderr",
     "output_type": "stream",
     "text": [
      "t:  10%|█         | 69/690 [00:00<00:00, 667.25it/s, now=None]      "
     ]
    },
    {
     "name": "stdout",
     "output_type": "stream",
     "text": [
      "MoviePy - Done.\n",
      "Moviepy - Writing video behavior_data/spinning/27.mp4\n",
      "\n"
     ]
    },
    {
     "name": "stderr",
     "output_type": "stream",
     "text": [
      "chunk:   0%|          | 0/155 [00:00<?, ?it/s, now=None]       "
     ]
    },
    {
     "name": "stdout",
     "output_type": "stream",
     "text": [
      "Moviepy - Done !\n",
      "Moviepy - video ready behavior_data/spinning/27.mp4\n",
      "Moviepy - Building video behavior_data/spinning/27.mp4.\n",
      "MoviePy - Writing audio in 27TEMP_MPY_wvf_snd.mp4\n"
     ]
    },
    {
     "name": "stderr",
     "output_type": "stream",
     "text": [
      "t:  33%|███▎      | 69/210 [00:00<00:00, 669.73it/s, now=None]"
     ]
    },
    {
     "name": "stdout",
     "output_type": "stream",
     "text": [
      "MoviePy - Done.\n",
      "Moviepy - Writing video behavior_data/spinning/27.mp4\n",
      "\n"
     ]
    },
    {
     "name": "stderr",
     "output_type": "stream",
     "text": [
      "chunk:   0%|          | 0/2911 [00:00<?, ?it/s, now=None]      "
     ]
    },
    {
     "name": "stdout",
     "output_type": "stream",
     "text": [
      "Moviepy - Done !\n",
      "Moviepy - video ready behavior_data/spinning/27.mp4\n",
      "Moviepy - Building video behavior_data/spinning/27.mp4.\n",
      "MoviePy - Writing audio in 27TEMP_MPY_wvf_snd.mp4\n"
     ]
    },
    {
     "name": "stderr",
     "output_type": "stream",
     "text": [
      "chunk:  93%|█████████▎| 2719/2911 [00:01<00:00, 2819.34it/s, now=None]"
     ]
    },
    {
     "name": "stdout",
     "output_type": "stream",
     "text": [
      "failed on 27\n",
      "annoying url: http://www.youtube.com/watch?v=-rC-ab0nzxY\n"
     ]
    },
    {
     "name": "stderr",
     "output_type": "stream",
     "text": [
      "chunk: 100%|█████████▉| 2910/2911 [00:03<00:00, 2819.34it/s, now=None]\n",
      "chunk:   0%|          | 0/3396 [00:00<?, ?it/s, now=None]\u001b[A\n",
      "chunk:   9%|▊         | 291/3396 [00:00<00:01, 2906.57it/s, now=None]\u001b[A"
     ]
    },
    {
     "name": "stdout",
     "output_type": "stream",
     "text": [
      "Moviepy - Building video behavior_data/spinning/29.mp4.\n",
      "MoviePy - Writing audio in 29TEMP_MPY_wvf_snd.mp4\n"
     ]
    },
    {
     "name": "stderr",
     "output_type": "stream",
     "text": [
      "\n",
      "chunk:  22%|██▏       | 751/3396 [00:00<00:00, 3901.40it/s, now=None]\u001b[A\n",
      "chunk:  36%|███▌      | 1230/3396 [00:00<00:00, 4304.52it/s, now=None]\u001b[A\n",
      "chunk:  50%|████▉     | 1693/3396 [00:00<00:00, 4432.81it/s, now=None]\u001b[A\n",
      "chunk:  63%|██████▎   | 2137/3396 [00:00<00:00, 4201.02it/s, now=None]\u001b[A\n",
      "chunk:  77%|███████▋  | 2629/3396 [00:00<00:00, 4408.97it/s, now=None]\u001b[A\n",
      "chunk:  92%|█████████▏| 3127/3396 [00:00<00:00, 4588.37it/s, now=None]\u001b[A\n",
      "chunk: 100%|█████████▉| 2910/2911 [00:04<00:00, 2819.34it/s, now=None]\u001b[A\n",
      "t:   0%|          | 0/2307 [00:00<?, ?it/s, now=None]\u001b[A\n",
      "t:   4%|▍         | 96/2307 [00:00<00:02, 956.34it/s, now=None]\u001b[A"
     ]
    },
    {
     "name": "stdout",
     "output_type": "stream",
     "text": [
      "MoviePy - Done.\n",
      "Moviepy - Writing video behavior_data/spinning/29.mp4\n",
      "\n"
     ]
    },
    {
     "name": "stderr",
     "output_type": "stream",
     "text": [
      "\n",
      "t:   8%|▊         | 192/2307 [00:00<00:02, 828.48it/s, now=None]\u001b[A\n",
      "t:  12%|█▏        | 276/2307 [00:00<00:02, 788.82it/s, now=None]\u001b[A\n",
      "t:  15%|█▌        | 356/2307 [00:00<00:02, 779.88it/s, now=None]\u001b[A\n",
      "t:  19%|█▉        | 435/2307 [00:00<00:02, 774.33it/s, now=None]\u001b[A\n",
      "t:  22%|██▏       | 513/2307 [00:00<00:02, 757.59it/s, now=None]\u001b[A\n",
      "t:  26%|██▌       | 592/2307 [00:00<00:02, 762.66it/s, now=None]\u001b[A\n",
      "t:  29%|██▉       | 669/2307 [00:00<00:02, 760.69it/s, now=None]\u001b[A\n",
      "t:  32%|███▏      | 746/2307 [00:00<00:02, 744.64it/s, now=None]\u001b[A\n",
      "t:  36%|███▌      | 824/2307 [00:01<00:01, 753.88it/s, now=None]\u001b[A\n",
      "t:  39%|███▉      | 902/2307 [00:01<00:01, 760.67it/s, now=None]\u001b[A\n",
      "t:  42%|████▏     | 979/2307 [00:01<00:01, 751.70it/s, now=None]\u001b[A\n",
      "t:  46%|████▌     | 1056/2307 [00:01<00:01, 755.99it/s, now=None]\u001b[A\n",
      "t:  49%|████▉     | 1134/2307 [00:01<00:01, 763.03it/s, now=None]\u001b[A\n",
      "t:  52%|█████▏    | 1211/2307 [00:01<00:01, 763.13it/s, now=None]\u001b[A\n",
      "t:  56%|█████▌    | 1294/2307 [00:01<00:01, 776.01it/s, now=None]\u001b[A\n",
      "t:  59%|█████▉    | 1372/2307 [00:01<00:01, 765.43it/s, now=None]\u001b[A\n",
      "t:  63%|██████▎   | 1449/2307 [00:01<00:01, 759.47it/s, now=None]\u001b[A\n",
      "t:  66%|██████▋   | 1529/2307 [00:01<00:01, 770.76it/s, now=None]\u001b[A\n",
      "t:  70%|██████▉   | 1607/2307 [00:02<00:00, 768.51it/s, now=None]\u001b[A\n",
      "t:  73%|███████▎  | 1684/2307 [00:02<00:00, 765.51it/s, now=None]\u001b[A\n",
      "t:  76%|███████▋  | 1763/2307 [00:02<00:00, 768.52it/s, now=None]\u001b[A\n",
      "t:  80%|███████▉  | 1840/2307 [00:02<00:00, 765.50it/s, now=None]\u001b[A\n",
      "t:  83%|████████▎ | 1917/2307 [00:02<00:00, 762.70it/s, now=None]\u001b[A\n",
      "t:  87%|████████▋ | 1997/2307 [00:02<00:00, 768.36it/s, now=None]\u001b[A\n",
      "t:  90%|█████████ | 2078/2307 [00:02<00:00, 779.34it/s, now=None]\u001b[A\n",
      "t:  93%|█████████▎| 2156/2307 [00:02<00:00, 777.49it/s, now=None]\u001b[A\n",
      "t:  97%|█████████▋| 2234/2307 [00:02<00:00, 770.74it/s, now=None]\u001b[A\n",
      "chunk: 100%|█████████▉| 2910/2911 [00:07<00:00, 2819.34it/s, now=None]"
     ]
    },
    {
     "name": "stdout",
     "output_type": "stream",
     "text": [
      "Moviepy - Done !\n",
      "Moviepy - video ready behavior_data/spinning/29.mp4\n"
     ]
    },
    {
     "name": "stderr",
     "output_type": "stream",
     "text": [
      "chunk: 100%|█████████▉| 2910/2911 [00:09<00:00, 2819.34it/s, now=None]\n",
      "chunk:   0%|          | 0/111 [00:00<?, ?it/s, now=None]\u001b[A\n",
      "chunk: 100%|█████████▉| 2910/2911 [00:10<00:00, 2819.34it/s, now=None]\n",
      "t:   0%|          | 0/125 [00:00<?, ?it/s, now=None]\u001b[A\n",
      "t:  56%|█████▌    | 70/125 [00:00<00:00, 687.91it/s, now=None]\u001b[A"
     ]
    },
    {
     "name": "stdout",
     "output_type": "stream",
     "text": [
      "Moviepy - Building video behavior_data/spinning/30.mp4.\n",
      "MoviePy - Writing audio in 30TEMP_MPY_wvf_snd.mp4\n",
      "MoviePy - Done.\n",
      "Moviepy - Writing video behavior_data/spinning/30.mp4\n",
      "\n"
     ]
    },
    {
     "name": "stderr",
     "output_type": "stream",
     "text": [
      "\n",
      "chunk: 100%|█████████▉| 2910/2911 [00:10<00:00, 2819.34it/s, now=None]\n",
      "chunk:   0%|          | 0/1434 [00:00<?, ?it/s, now=None]\u001b[A"
     ]
    },
    {
     "name": "stdout",
     "output_type": "stream",
     "text": [
      "Moviepy - Done !\n",
      "Moviepy - video ready behavior_data/spinning/30.mp4\n",
      "Moviepy - Building video behavior_data/spinning/30.mp4.\n",
      "MoviePy - Writing audio in 30TEMP_MPY_wvf_snd.mp4\n"
     ]
    },
    {
     "name": "stderr",
     "output_type": "stream",
     "text": [
      "\n",
      "chunk:  15%|█▌        | 220/1434 [00:00<00:00, 2197.65it/s, now=None]\u001b[A\n",
      "chunk:  35%|███▍      | 499/1434 [00:00<00:00, 2544.41it/s, now=None]\u001b[A\n",
      "chunk:  53%|█████▎    | 754/1434 [00:00<00:00, 2372.98it/s, now=None]\u001b[A\n",
      "chunk:  69%|██████▉   | 993/1434 [00:00<00:00, 2302.81it/s, now=None]\u001b[A\n",
      "chunk:  89%|████████▉ | 1276/1434 [00:00<00:00, 2474.67it/s, now=None]\u001b[A\n",
      "chunk: 100%|█████████▉| 2910/2911 [00:11<00:00, 2819.34it/s, now=None]\u001b[A\n",
      "t:   0%|          | 0/1625 [00:00<?, ?it/s, now=None]\u001b[A\n",
      "t:   4%|▍         | 70/1625 [00:00<00:02, 692.31it/s, now=None]\u001b[A"
     ]
    },
    {
     "name": "stdout",
     "output_type": "stream",
     "text": [
      "MoviePy - Done.\n",
      "Moviepy - Writing video behavior_data/spinning/30.mp4\n",
      "\n"
     ]
    },
    {
     "name": "stderr",
     "output_type": "stream",
     "text": [
      "\n",
      "t:   9%|▊         | 140/1625 [00:00<00:02, 590.84it/s, now=None]\u001b[A\n",
      "t:  12%|█▏        | 201/1625 [00:00<00:02, 570.09it/s, now=None]\u001b[A\n",
      "t:  16%|█▌        | 260/1625 [00:00<00:02, 574.22it/s, now=None]\u001b[A\n",
      "t:  20%|█▉        | 322/1625 [00:00<00:02, 587.13it/s, now=None]\u001b[A\n",
      "t:  23%|██▎       | 381/1625 [00:00<00:02, 585.34it/s, now=None]\u001b[A\n",
      "t:  27%|██▋       | 440/1625 [00:00<00:02, 572.24it/s, now=None]\u001b[A\n",
      "t:  31%|███       | 498/1625 [00:00<00:02, 563.11it/s, now=None]\u001b[A\n",
      "t:  34%|███▍      | 555/1625 [00:00<00:01, 554.61it/s, now=None]\u001b[A\n",
      "t:  38%|███▊      | 611/1625 [00:01<00:01, 554.69it/s, now=None]\u001b[A\n",
      "t:  41%|████      | 667/1625 [00:01<00:01, 542.31it/s, now=None]\u001b[A\n",
      "t:  44%|████▍     | 722/1625 [00:01<00:01, 542.13it/s, now=None]\u001b[A\n",
      "t:  48%|████▊     | 787/1625 [00:01<00:01, 573.30it/s, now=None]\u001b[A\n",
      "t:  52%|█████▏    | 845/1625 [00:01<00:01, 569.61it/s, now=None]\u001b[A\n",
      "chunk: 100%|█████████▉| 2910/2911 [00:12<00:00, 2819.34it/s, now=None]\n",
      "t:  60%|█████▉    | 968/1625 [00:01<00:01, 587.57it/s, now=None]\u001b[A\n",
      "t:  64%|██████▎   | 1032/1625 [00:01<00:00, 601.75it/s, now=None]\u001b[A\n",
      "t:  67%|██████▋   | 1093/1625 [00:01<00:00, 601.43it/s, now=None]\u001b[A\n",
      "t:  71%|███████   | 1154/1625 [00:01<00:00, 587.15it/s, now=None]\u001b[A\n",
      "t:  75%|███████▍  | 1213/1625 [00:02<00:00, 580.73it/s, now=None]\u001b[A\n",
      "t:  78%|███████▊  | 1272/1625 [00:02<00:00, 558.24it/s, now=None]\u001b[A\n",
      "t:  82%|████████▏ | 1329/1625 [00:02<00:00, 554.82it/s, now=None]\u001b[A\n",
      "t:  85%|████████▌ | 1385/1625 [00:02<00:00, 546.68it/s, now=None]\u001b[A\n",
      "t:  89%|████████▊ | 1440/1625 [00:02<00:00, 545.11it/s, now=None]\u001b[A\n",
      "t:  92%|█████████▏| 1495/1625 [00:02<00:00, 540.77it/s, now=None]\u001b[A\n",
      "t:  96%|█████████▌| 1556/1625 [00:02<00:00, 545.23it/s, now=None]\u001b[A\n",
      "t:  99%|█████████▉| 1611/1625 [00:02<00:00, 541.24it/s, now=None]\u001b[A\n",
      "chunk: 100%|█████████▉| 2910/2911 [00:14<00:00, 2819.34it/s, now=None]"
     ]
    },
    {
     "name": "stdout",
     "output_type": "stream",
     "text": [
      "Moviepy - Done !\n",
      "Moviepy - video ready behavior_data/spinning/30.mp4\n"
     ]
    },
    {
     "name": "stderr",
     "output_type": "stream",
     "text": [
      "chunk:  18%|█▊        | 223/1257 [00:00<00:00, 2227.28it/s, now=None] "
     ]
    },
    {
     "name": "stdout",
     "output_type": "stream",
     "text": [
      "Moviepy - Building video behavior_data/spinning/31.mp4.\n",
      "MoviePy - Writing audio in 31TEMP_MPY_wvf_snd.mp4\n"
     ]
    },
    {
     "name": "stderr",
     "output_type": "stream",
     "text": [
      "t:  16%|█▌        | 90/570 [00:00<00:00, 892.92it/s, now=None]        "
     ]
    },
    {
     "name": "stdout",
     "output_type": "stream",
     "text": [
      "MoviePy - Done.\n",
      "Moviepy - Writing video behavior_data/spinning/31.mp4\n",
      "\n"
     ]
    },
    {
     "name": "stderr",
     "output_type": "stream",
     "text": [
      "                                                               \r"
     ]
    },
    {
     "name": "stdout",
     "output_type": "stream",
     "text": [
      "Moviepy - Done !\n",
      "Moviepy - video ready behavior_data/spinning/31.mp4\n",
      "annoying url: http://www.youtube.com/watch?v=TH5mlAhdw00\n"
     ]
    },
    {
     "name": "stderr",
     "output_type": "stream",
     "text": [
      "chunk:  26%|██▌       | 258/993 [00:00<00:00, 2574.28it/s, now=None]"
     ]
    },
    {
     "name": "stdout",
     "output_type": "stream",
     "text": [
      "Moviepy - Building video behavior_data/spinning/33.mp4.\n",
      "MoviePy - Writing audio in 33TEMP_MPY_wvf_snd.mp4\n"
     ]
    },
    {
     "name": "stderr",
     "output_type": "stream",
     "text": [
      "t:   4%|▍         | 29/675 [00:00<00:02, 286.47it/s, now=None]      "
     ]
    },
    {
     "name": "stdout",
     "output_type": "stream",
     "text": [
      "MoviePy - Done.\n",
      "Moviepy - Writing video behavior_data/spinning/33.mp4\n",
      "\n"
     ]
    },
    {
     "name": "stderr",
     "output_type": "stream",
     "text": [
      "                                                               \r"
     ]
    },
    {
     "name": "stdout",
     "output_type": "stream",
     "text": [
      "Moviepy - Done !\n",
      "Moviepy - video ready behavior_data/spinning/33.mp4\n"
     ]
    },
    {
     "name": "stderr",
     "output_type": "stream",
     "text": [
      "t:  29%|██▉       | 69/240 [00:00<00:00, 684.62it/s, now=None]"
     ]
    },
    {
     "name": "stdout",
     "output_type": "stream",
     "text": [
      "Moviepy - Building video behavior_data/spinning/34.mp4.\n",
      "MoviePy - Writing audio in 34TEMP_MPY_wvf_snd.mp4\n",
      "MoviePy - Done.\n",
      "Moviepy - Writing video behavior_data/spinning/34.mp4\n",
      "\n"
     ]
    },
    {
     "name": "stderr",
     "output_type": "stream",
     "text": [
      "chunk:   0%|          | 0/419 [00:00<?, ?it/s, now=None]       "
     ]
    },
    {
     "name": "stdout",
     "output_type": "stream",
     "text": [
      "Moviepy - Done !\n",
      "Moviepy - video ready behavior_data/spinning/34.mp4\n",
      "Moviepy - Building video behavior_data/spinning/34.mp4.\n",
      "MoviePy - Writing audio in 34TEMP_MPY_wvf_snd.mp4\n"
     ]
    },
    {
     "name": "stderr",
     "output_type": "stream",
     "text": [
      "t:  11%|█▏        | 65/570 [00:00<00:00, 649.38it/s, now=None]      "
     ]
    },
    {
     "name": "stdout",
     "output_type": "stream",
     "text": [
      "MoviePy - Done.\n",
      "Moviepy - Writing video behavior_data/spinning/34.mp4\n",
      "\n"
     ]
    },
    {
     "name": "stderr",
     "output_type": "stream",
     "text": [
      "chunk:   0%|          | 0/133 [00:00<?, ?it/s, now=None]       "
     ]
    },
    {
     "name": "stdout",
     "output_type": "stream",
     "text": [
      "Moviepy - Done !\n",
      "Moviepy - video ready behavior_data/spinning/34.mp4\n",
      "Moviepy - Building video behavior_data/spinning/34.mp4.\n",
      "MoviePy - Writing audio in 34TEMP_MPY_wvf_snd.mp4\n"
     ]
    },
    {
     "name": "stderr",
     "output_type": "stream",
     "text": [
      "t:  39%|███▉      | 70/180 [00:00<00:00, 678.52it/s, now=None]"
     ]
    },
    {
     "name": "stdout",
     "output_type": "stream",
     "text": [
      "MoviePy - Done.\n",
      "Moviepy - Writing video behavior_data/spinning/34.mp4\n",
      "\n"
     ]
    },
    {
     "name": "stderr",
     "output_type": "stream",
     "text": [
      "                                                               \r"
     ]
    },
    {
     "name": "stdout",
     "output_type": "stream",
     "text": [
      "Moviepy - Done !\n",
      "Moviepy - video ready behavior_data/spinning/34.mp4\n"
     ]
    },
    {
     "name": "stderr",
     "output_type": "stream",
     "text": [
      "chunk:  17%|█▋        | 260/1522 [00:00<00:00, 2598.63it/s, now=None]"
     ]
    },
    {
     "name": "stdout",
     "output_type": "stream",
     "text": [
      "Moviepy - Building video behavior_data/spinning/35.mp4.\n",
      "MoviePy - Writing audio in 35TEMP_MPY_wvf_snd.mp4\n"
     ]
    },
    {
     "name": "stderr",
     "output_type": "stream",
     "text": [
      "t:   2%|▏         | 30/1656 [00:00<00:05, 293.21it/s, now=None]       "
     ]
    },
    {
     "name": "stdout",
     "output_type": "stream",
     "text": [
      "MoviePy - Done.\n",
      "Moviepy - Writing video behavior_data/spinning/35.mp4\n",
      "\n"
     ]
    },
    {
     "name": "stderr",
     "output_type": "stream",
     "text": [
      "                                                                 \r"
     ]
    },
    {
     "name": "stdout",
     "output_type": "stream",
     "text": [
      "Moviepy - Done !\n",
      "Moviepy - video ready behavior_data/spinning/35.mp4\n"
     ]
    },
    {
     "name": "stderr",
     "output_type": "stream",
     "text": [
      "chunk:  43%|████▎     | 239/552 [00:00<00:00, 2332.98it/s, now=None]"
     ]
    },
    {
     "name": "stdout",
     "output_type": "stream",
     "text": [
      "Moviepy - Building video behavior_data/spinning/36.mp4.\n",
      "MoviePy - Writing audio in 36TEMP_MPY_wvf_snd.mp4\n"
     ]
    },
    {
     "name": "stderr",
     "output_type": "stream",
     "text": [
      "t:   9%|▊         | 65/750 [00:00<00:01, 649.52it/s, now=None]      "
     ]
    },
    {
     "name": "stdout",
     "output_type": "stream",
     "text": [
      "MoviePy - Done.\n",
      "Moviepy - Writing video behavior_data/spinning/36.mp4\n",
      "\n"
     ]
    },
    {
     "name": "stderr",
     "output_type": "stream",
     "text": [
      "                                                               \r"
     ]
    },
    {
     "name": "stdout",
     "output_type": "stream",
     "text": [
      "Moviepy - Done !\n",
      "Moviepy - video ready behavior_data/spinning/36.mp4\n"
     ]
    },
    {
     "name": "stderr",
     "output_type": "stream",
     "text": [
      "t:   0%|          | 0/255 [00:00<?, ?it/s, now=None]                "
     ]
    },
    {
     "name": "stdout",
     "output_type": "stream",
     "text": [
      "Moviepy - Building video behavior_data/spinning/37.mp4.\n",
      "MoviePy - Writing audio in 37TEMP_MPY_wvf_snd.mp4\n",
      "MoviePy - Done.\n",
      "Moviepy - Writing video behavior_data/spinning/37.mp4\n",
      "\n"
     ]
    },
    {
     "name": "stderr",
     "output_type": "stream",
     "text": [
      "                                                               \r"
     ]
    },
    {
     "name": "stdout",
     "output_type": "stream",
     "text": [
      "Moviepy - Done !\n",
      "Moviepy - video ready behavior_data/spinning/37.mp4\n"
     ]
    },
    {
     "name": "stderr",
     "output_type": "stream",
     "text": [
      "t:   0%|          | 0/130 [00:00<?, ?it/s, now=None]                "
     ]
    },
    {
     "name": "stdout",
     "output_type": "stream",
     "text": [
      "Moviepy - Building video behavior_data/spinning/38.mp4.\n",
      "MoviePy - Writing audio in 38TEMP_MPY_wvf_snd.mp4\n",
      "MoviePy - Done.\n",
      "Moviepy - Writing video behavior_data/spinning/38.mp4\n",
      "\n"
     ]
    },
    {
     "name": "stderr",
     "output_type": "stream",
     "text": [
      "                                                              \r"
     ]
    },
    {
     "name": "stdout",
     "output_type": "stream",
     "text": [
      "Moviepy - Done !\n",
      "Moviepy - video ready behavior_data/spinning/38.mp4\n",
      "annoying url: http://www.youtube.com/watch?v=5BVFjqo0FUY\n"
     ]
    },
    {
     "name": "stderr",
     "output_type": "stream",
     "text": [
      "t:   0%|          | 0/240 [00:00<?, ?it/s, now=None]                "
     ]
    },
    {
     "name": "stdout",
     "output_type": "stream",
     "text": [
      "Moviepy - Building video behavior_data/spinning/40.mp4.\n",
      "MoviePy - Writing audio in 40TEMP_MPY_wvf_snd.mp4\n",
      "MoviePy - Done.\n",
      "Moviepy - Writing video behavior_data/spinning/40.mp4\n",
      "\n"
     ]
    },
    {
     "name": "stderr",
     "output_type": "stream",
     "text": [
      "                                                               \r"
     ]
    },
    {
     "name": "stdout",
     "output_type": "stream",
     "text": [
      "Moviepy - Done !\n",
      "Moviepy - video ready behavior_data/spinning/40.mp4\n",
      "annoying url: http://www.youtube.com/watch?v=cxqsde-6V-c\n"
     ]
    },
    {
     "name": "stderr",
     "output_type": "stream",
     "text": [
      "chunk:  10%|▉         | 233/2382 [00:00<00:00, 2327.42it/s, now=None]"
     ]
    },
    {
     "name": "stdout",
     "output_type": "stream",
     "text": [
      "Moviepy - Building video behavior_data/spinning/42.mp4.\n",
      "MoviePy - Writing audio in 42TEMP_MPY_wvf_snd.mp4\n"
     ]
    },
    {
     "name": "stderr",
     "output_type": "stream",
     "text": [
      "t:   4%|▍         | 129/3240 [00:00<00:02, 1286.30it/s, now=None]     "
     ]
    },
    {
     "name": "stdout",
     "output_type": "stream",
     "text": [
      "MoviePy - Done.\n",
      "Moviepy - Writing video behavior_data/spinning/42.mp4\n",
      "\n"
     ]
    },
    {
     "name": "stderr",
     "output_type": "stream",
     "text": [
      "                                                                  \r"
     ]
    },
    {
     "name": "stdout",
     "output_type": "stream",
     "text": [
      "Moviepy - Done !\n",
      "Moviepy - video ready behavior_data/spinning/42.mp4\n"
     ]
    },
    {
     "name": "stderr",
     "output_type": "stream",
     "text": [
      "                                                        "
     ]
    },
    {
     "name": "stdout",
     "output_type": "stream",
     "text": [
      "Moviepy - Building video behavior_data/spinning/43.mp4.\n",
      "MoviePy - Writing audio in 43TEMP_MPY_wvf_snd.mp4\n",
      "MoviePy - Done.\n",
      "Moviepy - Writing video behavior_data/spinning/43.mp4\n",
      "\n"
     ]
    },
    {
     "name": "stderr",
     "output_type": "stream",
     "text": [
      "chunk:   0%|          | 0/442 [00:00<?, ?it/s, now=None]"
     ]
    },
    {
     "name": "stdout",
     "output_type": "stream",
     "text": [
      "Moviepy - Done !\n",
      "Moviepy - video ready behavior_data/spinning/43.mp4\n",
      "Moviepy - Building video behavior_data/spinning/43.mp4.\n",
      "MoviePy - Writing audio in 43TEMP_MPY_wvf_snd.mp4\n"
     ]
    },
    {
     "name": "stderr",
     "output_type": "stream",
     "text": [
      "t:  37%|███▋      | 117/320 [00:00<00:00, 1166.37it/s, now=None]    "
     ]
    },
    {
     "name": "stdout",
     "output_type": "stream",
     "text": [
      "MoviePy - Done.\n",
      "Moviepy - Writing video behavior_data/spinning/43.mp4\n",
      "\n"
     ]
    },
    {
     "name": "stderr",
     "output_type": "stream",
     "text": [
      "                                                                \r"
     ]
    },
    {
     "name": "stdout",
     "output_type": "stream",
     "text": [
      "Moviepy - Done !\n",
      "Moviepy - video ready behavior_data/spinning/43.mp4\n"
     ]
    },
    {
     "name": "stderr",
     "output_type": "stream",
     "text": [
      "t:   0%|          | 0/300 [00:00<?, ?it/s, now=None]                "
     ]
    },
    {
     "name": "stdout",
     "output_type": "stream",
     "text": [
      "Moviepy - Building video behavior_data/spinning/44.mp4.\n",
      "MoviePy - Writing audio in 44TEMP_MPY_wvf_snd.mp4\n",
      "MoviePy - Done.\n",
      "Moviepy - Writing video behavior_data/spinning/44.mp4\n",
      "\n"
     ]
    },
    {
     "name": "stderr",
     "output_type": "stream",
     "text": [
      "                                                               \r"
     ]
    },
    {
     "name": "stdout",
     "output_type": "stream",
     "text": [
      "Moviepy - Done !\n",
      "Moviepy - video ready behavior_data/spinning/44.mp4\n",
      "annoying url: http://www.youtube.com/watch?v=wu5fgT-LkHs\n"
     ]
    },
    {
     "name": "stderr",
     "output_type": "stream",
     "text": [
      "t:   0%|          | 0/449 [00:00<?, ?it/s, now=None]                "
     ]
    },
    {
     "name": "stdout",
     "output_type": "stream",
     "text": [
      "Moviepy - Building video behavior_data/spinning/46.mp4.\n",
      "MoviePy - Writing audio in 46TEMP_MPY_wvf_snd.mp4\n",
      "MoviePy - Done.\n",
      "Moviepy - Writing video behavior_data/spinning/46.mp4\n",
      "\n"
     ]
    },
    {
     "name": "stderr",
     "output_type": "stream",
     "text": [
      "                                                                \r"
     ]
    },
    {
     "name": "stdout",
     "output_type": "stream",
     "text": [
      "Moviepy - Done !\n",
      "Moviepy - video ready behavior_data/spinning/46.mp4\n"
     ]
    },
    {
     "name": "stderr",
     "output_type": "stream",
     "text": [
      "t:   0%|          | 0/270 [00:00<?, ?it/s, now=None]    "
     ]
    },
    {
     "name": "stdout",
     "output_type": "stream",
     "text": [
      "Moviepy - Building video behavior_data/spinning/47.mp4.\n",
      "MoviePy - Writing audio in 47TEMP_MPY_wvf_snd.mp4\n",
      "MoviePy - Done.\n",
      "Moviepy - Writing video behavior_data/spinning/47.mp4\n",
      "\n"
     ]
    },
    {
     "name": "stderr",
     "output_type": "stream",
     "text": [
      "                                                               \r"
     ]
    },
    {
     "name": "stdout",
     "output_type": "stream",
     "text": [
      "Moviepy - Done !\n",
      "Moviepy - video ready behavior_data/spinning/47.mp4\n"
     ]
    },
    {
     "name": "stderr",
     "output_type": "stream",
     "text": [
      "t:   0%|          | 0/210 [00:00<?, ?it/s, now=None]    "
     ]
    },
    {
     "name": "stdout",
     "output_type": "stream",
     "text": [
      "Moviepy - Building video behavior_data/spinning/48.mp4.\n",
      "MoviePy - Writing audio in 48TEMP_MPY_wvf_snd.mp4\n",
      "MoviePy - Done.\n",
      "Moviepy - Writing video behavior_data/spinning/48.mp4\n",
      "\n"
     ]
    },
    {
     "name": "stderr",
     "output_type": "stream",
     "text": [
      "                                                               \r"
     ]
    },
    {
     "name": "stdout",
     "output_type": "stream",
     "text": [
      "Moviepy - Done !\n",
      "Moviepy - video ready behavior_data/spinning/48.mp4\n",
      "this is headbanging, so skipping\n",
      "this is headbanging, so skipping\n"
     ]
    },
    {
     "name": "stderr",
     "output_type": "stream",
     "text": [
      "t:  39%|███▉      | 69/175 [00:00<00:00, 685.58it/s, now=None]"
     ]
    },
    {
     "name": "stdout",
     "output_type": "stream",
     "text": [
      "Moviepy - Building video behavior_data/armflapping/51.mp4.\n",
      "MoviePy - Writing audio in 51TEMP_MPY_wvf_snd.mp4\n",
      "MoviePy - Done.\n",
      "Moviepy - Writing video behavior_data/armflapping/51.mp4\n",
      "\n"
     ]
    },
    {
     "name": "stderr",
     "output_type": "stream",
     "text": [
      "                                                               \r"
     ]
    },
    {
     "name": "stdout",
     "output_type": "stream",
     "text": [
      "Moviepy - Done !\n",
      "Moviepy - video ready behavior_data/armflapping/51.mp4\n"
     ]
    },
    {
     "name": "stderr",
     "output_type": "stream",
     "text": [
      "t:  56%|█████▌    | 67/120 [00:00<00:00, 657.07it/s, now=None]"
     ]
    },
    {
     "name": "stdout",
     "output_type": "stream",
     "text": [
      "Moviepy - Building video behavior_data/armflapping/52.mp4.\n",
      "MoviePy - Writing audio in 52TEMP_MPY_wvf_snd.mp4\n",
      "MoviePy - Done.\n",
      "Moviepy - Writing video behavior_data/armflapping/52.mp4\n",
      "\n"
     ]
    },
    {
     "name": "stderr",
     "output_type": "stream",
     "text": [
      "chunk:   0%|          | 0/221 [00:00<?, ?it/s, now=None]      "
     ]
    },
    {
     "name": "stdout",
     "output_type": "stream",
     "text": [
      "Moviepy - Done !\n",
      "Moviepy - video ready behavior_data/armflapping/52.mp4\n",
      "Moviepy - Building video behavior_data/armflapping/52.mp4.\n",
      "MoviePy - Writing audio in 52TEMP_MPY_wvf_snd.mp4\n"
     ]
    },
    {
     "name": "stderr",
     "output_type": "stream",
     "text": [
      "t:  22%|██▏       | 65/300 [00:00<00:00, 642.79it/s, now=None]      "
     ]
    },
    {
     "name": "stdout",
     "output_type": "stream",
     "text": [
      "MoviePy - Done.\n",
      "Moviepy - Writing video behavior_data/armflapping/52.mp4\n",
      "\n"
     ]
    },
    {
     "name": "stderr",
     "output_type": "stream",
     "text": [
      "                                                               \r"
     ]
    },
    {
     "name": "stdout",
     "output_type": "stream",
     "text": [
      "Moviepy - Done !\n",
      "Moviepy - video ready behavior_data/armflapping/52.mp4\n"
     ]
    },
    {
     "name": "stderr",
     "output_type": "stream",
     "text": [
      "\r",
      "chunk:   0%|          | 0/331 [00:00<?, ?it/s, now=None]"
     ]
    },
    {
     "name": "stdout",
     "output_type": "stream",
     "text": [
      "this is headbanging, so skipping\n",
      "Moviepy - Building video behavior_data/armflapping/53.mp4.\n",
      "MoviePy - Writing audio in 53TEMP_MPY_wvf_snd.mp4\n"
     ]
    },
    {
     "name": "stderr",
     "output_type": "stream",
     "text": [
      "t:  15%|█▍        | 67/450 [00:00<00:00, 661.78it/s, now=None]      "
     ]
    },
    {
     "name": "stdout",
     "output_type": "stream",
     "text": [
      "MoviePy - Done.\n",
      "Moviepy - Writing video behavior_data/armflapping/53.mp4\n",
      "\n"
     ]
    },
    {
     "name": "stderr",
     "output_type": "stream",
     "text": [
      "chunk:   0%|          | 0/309 [00:00<?, ?it/s, now=None]       "
     ]
    },
    {
     "name": "stdout",
     "output_type": "stream",
     "text": [
      "Moviepy - Done !\n",
      "Moviepy - video ready behavior_data/armflapping/53.mp4\n",
      "Moviepy - Building video behavior_data/armflapping/53.mp4.\n",
      "MoviePy - Writing audio in 53TEMP_MPY_wvf_snd.mp4\n"
     ]
    },
    {
     "name": "stderr",
     "output_type": "stream",
     "text": [
      "t:  17%|█▋        | 70/420 [00:00<00:00, 693.49it/s, now=None]      "
     ]
    },
    {
     "name": "stdout",
     "output_type": "stream",
     "text": [
      "MoviePy - Done.\n",
      "Moviepy - Writing video behavior_data/armflapping/53.mp4\n",
      "\n"
     ]
    },
    {
     "name": "stderr",
     "output_type": "stream",
     "text": [
      "                                                               \r"
     ]
    },
    {
     "name": "stdout",
     "output_type": "stream",
     "text": [
      "Moviepy - Done !\n",
      "Moviepy - video ready behavior_data/armflapping/53.mp4\n"
     ]
    },
    {
     "name": "stderr",
     "output_type": "stream",
     "text": [
      "t:  22%|██▏       | 26/120 [00:00<00:00, 254.35it/s, now=None]"
     ]
    },
    {
     "name": "stdout",
     "output_type": "stream",
     "text": [
      "Moviepy - Building video behavior_data/armflapping/54.mp4.\n",
      "MoviePy - Writing audio in 54TEMP_MPY_wvf_snd.mp4\n",
      "MoviePy - Done.\n",
      "Moviepy - Writing video behavior_data/armflapping/54.mp4\n",
      "\n"
     ]
    },
    {
     "name": "stderr",
     "output_type": "stream",
     "text": [
      "                                                               \r"
     ]
    },
    {
     "name": "stdout",
     "output_type": "stream",
     "text": [
      "Moviepy - Done !\n",
      "Moviepy - video ready behavior_data/armflapping/54.mp4\n",
      "this is headbanging, so skipping\n",
      "this is headbanging, so skipping\n",
      "this is headbanging, so skipping\n",
      "annoying url: http://www.youtube.com/watch?v=k9MJ4pDQQ74\n",
      "this is headbanging, so skipping\n",
      "this is headbanging, so skipping\n",
      "this is headbanging, so skipping\n"
     ]
    },
    {
     "name": "stderr",
     "output_type": "stream",
     "text": [
      "                                                       "
     ]
    },
    {
     "name": "stdout",
     "output_type": "stream",
     "text": [
      "Moviepy - Building video behavior_data/armflapping/62.mp4.\n",
      "MoviePy - Writing audio in 62TEMP_MPY_wvf_snd.mp4\n",
      "MoviePy - Done.\n",
      "Moviepy - Writing video behavior_data/armflapping/62.mp4\n",
      "\n"
     ]
    },
    {
     "name": "stderr",
     "output_type": "stream",
     "text": [
      "chunk:   0%|          | 0/309 [00:00<?, ?it/s, now=None]"
     ]
    },
    {
     "name": "stdout",
     "output_type": "stream",
     "text": [
      "Moviepy - Done !\n",
      "Moviepy - video ready behavior_data/armflapping/62.mp4\n",
      "Moviepy - Building video behavior_data/armflapping/62.mp4.\n",
      "MoviePy - Writing audio in 62TEMP_MPY_wvf_snd.mp4\n"
     ]
    },
    {
     "name": "stderr",
     "output_type": "stream",
     "text": [
      "t:  42%|████▏     | 86/207 [00:00<00:00, 858.82it/s, now=None]      "
     ]
    },
    {
     "name": "stdout",
     "output_type": "stream",
     "text": [
      "MoviePy - Done.\n",
      "Moviepy - Writing video behavior_data/armflapping/62.mp4\n",
      "\n"
     ]
    },
    {
     "name": "stderr",
     "output_type": "stream",
     "text": [
      "chunk:   0%|          | 0/640 [00:00<?, ?it/s, now=None]       "
     ]
    },
    {
     "name": "stdout",
     "output_type": "stream",
     "text": [
      "Moviepy - Done !\n",
      "Moviepy - video ready behavior_data/armflapping/62.mp4\n",
      "Moviepy - Building video behavior_data/armflapping/62.mp4.\n",
      "MoviePy - Writing audio in 62TEMP_MPY_wvf_snd.mp4\n"
     ]
    },
    {
     "name": "stderr",
     "output_type": "stream",
     "text": [
      "t:  20%|██        | 87/429 [00:00<00:00, 869.83it/s, now=None]      "
     ]
    },
    {
     "name": "stdout",
     "output_type": "stream",
     "text": [
      "MoviePy - Done.\n",
      "Moviepy - Writing video behavior_data/armflapping/62.mp4\n",
      "\n"
     ]
    },
    {
     "name": "stderr",
     "output_type": "stream",
     "text": [
      "chunk:   0%|          | 0/177 [00:00<?, ?it/s, now=None]       "
     ]
    },
    {
     "name": "stdout",
     "output_type": "stream",
     "text": [
      "Moviepy - Done !\n",
      "Moviepy - video ready behavior_data/armflapping/62.mp4\n",
      "Moviepy - Building video behavior_data/armflapping/62.mp4.\n",
      "MoviePy - Writing audio in 62TEMP_MPY_wvf_snd.mp4\n"
     ]
    },
    {
     "name": "stderr",
     "output_type": "stream",
     "text": [
      "                                                                    \r"
     ]
    },
    {
     "name": "stdout",
     "output_type": "stream",
     "text": [
      "MoviePy - Done.\n",
      "Moviepy - Writing video behavior_data/armflapping/62.mp4\n",
      "\n"
     ]
    },
    {
     "name": "stderr",
     "output_type": "stream",
     "text": [
      "\r",
      "chunk:   0%|          | 0/177 [00:00<?, ?it/s, now=None]"
     ]
    },
    {
     "name": "stdout",
     "output_type": "stream",
     "text": [
      "Moviepy - Done !\n",
      "Moviepy - video ready behavior_data/armflapping/62.mp4\n",
      "Moviepy - Building video behavior_data/armflapping/62.mp4.\n",
      "MoviePy - Writing audio in 62TEMP_MPY_wvf_snd.mp4\n"
     ]
    },
    {
     "name": "stderr",
     "output_type": "stream",
     "text": [
      "                                                                    \r"
     ]
    },
    {
     "name": "stdout",
     "output_type": "stream",
     "text": [
      "MoviePy - Done.\n",
      "Moviepy - Writing video behavior_data/armflapping/62.mp4\n",
      "\n",
      "Moviepy - Done !\n",
      "Moviepy - video ready behavior_data/armflapping/62.mp4\n",
      "annoying url: http://www.youtube.com/watch?v=xeKKMkVgNPU\n",
      "this is headbanging, so skipping\n",
      "this is headbanging, so skipping\n",
      "this is headbanging, so skipping\n",
      "this is headbanging, so skipping\n"
     ]
    },
    {
     "name": "stderr",
     "output_type": "stream",
     "text": [
      "t:   0%|          | 0/300 [00:00<?, ?it/s, now=None]    "
     ]
    },
    {
     "name": "stdout",
     "output_type": "stream",
     "text": [
      "Moviepy - Building video behavior_data/armflapping/68.mp4.\n",
      "MoviePy - Writing audio in 68TEMP_MPY_wvf_snd.mp4\n",
      "MoviePy - Done.\n",
      "Moviepy - Writing video behavior_data/armflapping/68.mp4\n",
      "\n"
     ]
    },
    {
     "name": "stderr",
     "output_type": "stream",
     "text": [
      "chunk:   0%|          | 0/309 [00:00<?, ?it/s, now=None]       "
     ]
    },
    {
     "name": "stdout",
     "output_type": "stream",
     "text": [
      "Moviepy - Done !\n",
      "Moviepy - video ready behavior_data/armflapping/68.mp4\n",
      "Moviepy - Building video behavior_data/armflapping/68.mp4.\n",
      "MoviePy - Writing audio in 68TEMP_MPY_wvf_snd.mp4\n"
     ]
    },
    {
     "name": "stderr",
     "output_type": "stream",
     "text": [
      "t:  18%|█▊        | 76/420 [00:00<00:00, 745.91it/s, now=None]      "
     ]
    },
    {
     "name": "stdout",
     "output_type": "stream",
     "text": [
      "MoviePy - Done.\n",
      "Moviepy - Writing video behavior_data/armflapping/68.mp4\n",
      "\n"
     ]
    },
    {
     "name": "stderr",
     "output_type": "stream",
     "text": [
      "chunk:   0%|          | 0/331 [00:00<?, ?it/s, now=None]       "
     ]
    },
    {
     "name": "stdout",
     "output_type": "stream",
     "text": [
      "Moviepy - Done !\n",
      "Moviepy - video ready behavior_data/armflapping/68.mp4\n",
      "Moviepy - Building video behavior_data/armflapping/68.mp4.\n",
      "MoviePy - Writing audio in 68TEMP_MPY_wvf_snd.mp4\n"
     ]
    },
    {
     "name": "stderr",
     "output_type": "stream",
     "text": [
      "t:  17%|█▋        | 77/450 [00:00<00:00, 761.00it/s, now=None]      "
     ]
    },
    {
     "name": "stdout",
     "output_type": "stream",
     "text": [
      "MoviePy - Done.\n",
      "Moviepy - Writing video behavior_data/armflapping/68.mp4\n",
      "\n"
     ]
    },
    {
     "name": "stderr",
     "output_type": "stream",
     "text": [
      "chunk:   0%|          | 0/331 [00:00<?, ?it/s, now=None]       "
     ]
    },
    {
     "name": "stdout",
     "output_type": "stream",
     "text": [
      "Moviepy - Done !\n",
      "Moviepy - video ready behavior_data/armflapping/68.mp4\n",
      "Moviepy - Building video behavior_data/armflapping/68.mp4.\n",
      "MoviePy - Writing audio in 68TEMP_MPY_wvf_snd.mp4\n"
     ]
    },
    {
     "name": "stderr",
     "output_type": "stream",
     "text": [
      "t:  17%|█▋        | 76/450 [00:00<00:00, 696.81it/s, now=None]      "
     ]
    },
    {
     "name": "stdout",
     "output_type": "stream",
     "text": [
      "MoviePy - Done.\n",
      "Moviepy - Writing video behavior_data/armflapping/68.mp4\n",
      "\n"
     ]
    },
    {
     "name": "stderr",
     "output_type": "stream",
     "text": [
      "chunk:   0%|          | 0/309 [00:00<?, ?it/s, now=None]       "
     ]
    },
    {
     "name": "stdout",
     "output_type": "stream",
     "text": [
      "Moviepy - Done !\n",
      "Moviepy - video ready behavior_data/armflapping/68.mp4\n",
      "Moviepy - Building video behavior_data/armflapping/68.mp4.\n",
      "MoviePy - Writing audio in 68TEMP_MPY_wvf_snd.mp4\n"
     ]
    },
    {
     "name": "stderr",
     "output_type": "stream",
     "text": [
      "t:  19%|█▉        | 79/420 [00:00<00:00, 786.77it/s, now=None]      "
     ]
    },
    {
     "name": "stdout",
     "output_type": "stream",
     "text": [
      "MoviePy - Done.\n",
      "Moviepy - Writing video behavior_data/armflapping/68.mp4\n",
      "\n"
     ]
    },
    {
     "name": "stderr",
     "output_type": "stream",
     "text": [
      "                                                               \r"
     ]
    },
    {
     "name": "stdout",
     "output_type": "stream",
     "text": [
      "Moviepy - Done !\n",
      "Moviepy - video ready behavior_data/armflapping/68.mp4\n"
     ]
    },
    {
     "name": "stderr",
     "output_type": "stream",
     "text": [
      "t:   0%|          | 0/270 [00:00<?, ?it/s, now=None]    "
     ]
    },
    {
     "name": "stdout",
     "output_type": "stream",
     "text": [
      "Moviepy - Building video behavior_data/armflapping/69.mp4.\n",
      "MoviePy - Writing audio in 69TEMP_MPY_wvf_snd.mp4\n",
      "MoviePy - Done.\n",
      "Moviepy - Writing video behavior_data/armflapping/69.mp4\n",
      "\n"
     ]
    },
    {
     "name": "stderr",
     "output_type": "stream",
     "text": [
      "                                                               \r"
     ]
    },
    {
     "name": "stdout",
     "output_type": "stream",
     "text": [
      "Moviepy - Done !\n",
      "Moviepy - video ready behavior_data/armflapping/69.mp4\n"
     ]
    },
    {
     "name": "stderr",
     "output_type": "stream",
     "text": [
      "                                                                "
     ]
    },
    {
     "name": "stdout",
     "output_type": "stream",
     "text": [
      "Moviepy - Building video behavior_data/armflapping/70.mp4.\n",
      "MoviePy - Writing audio in 70TEMP_MPY_wvf_snd.mp4\n",
      "MoviePy - Done.\n",
      "Moviepy - Writing video behavior_data/armflapping/70.mp4\n",
      "\n"
     ]
    },
    {
     "name": "stderr",
     "output_type": "stream",
     "text": [
      "\r"
     ]
    },
    {
     "name": "stdout",
     "output_type": "stream",
     "text": [
      "Moviepy - Done !\n",
      "Moviepy - video ready behavior_data/armflapping/70.mp4\n"
     ]
    },
    {
     "name": "stderr",
     "output_type": "stream",
     "text": [
      "                                                       "
     ]
    },
    {
     "name": "stdout",
     "output_type": "stream",
     "text": [
      "Moviepy - Building video behavior_data/armflapping/71.mp4.\n",
      "MoviePy - Writing audio in 71TEMP_MPY_wvf_snd.mp4\n",
      "MoviePy - Done.\n",
      "Moviepy - Writing video behavior_data/armflapping/71.mp4\n",
      "\n"
     ]
    },
    {
     "name": "stderr",
     "output_type": "stream",
     "text": [
      "chunk:   0%|          | 0/89 [00:00<?, ?it/s, now=None]"
     ]
    },
    {
     "name": "stdout",
     "output_type": "stream",
     "text": [
      "Moviepy - Done !\n",
      "Moviepy - video ready behavior_data/armflapping/71.mp4\n",
      "Moviepy - Building video behavior_data/armflapping/71.mp4.\n",
      "MoviePy - Writing audio in 71TEMP_MPY_wvf_snd.mp4\n"
     ]
    },
    {
     "name": "stderr",
     "output_type": "stream",
     "text": [
      "                                                       \r"
     ]
    },
    {
     "name": "stdout",
     "output_type": "stream",
     "text": [
      "MoviePy - Done.\n",
      "Moviepy - Writing video behavior_data/armflapping/71.mp4\n",
      "\n",
      "Moviepy - Done !\n",
      "Moviepy - video ready behavior_data/armflapping/71.mp4\n"
     ]
    },
    {
     "name": "stderr",
     "output_type": "stream",
     "text": [
      "t:   0%|          | 0/168 [00:00<?, ?it/s, now=None]    "
     ]
    },
    {
     "name": "stdout",
     "output_type": "stream",
     "text": [
      "Moviepy - Building video behavior_data/armflapping/71.mp4.\n",
      "MoviePy - Writing audio in 71TEMP_MPY_wvf_snd.mp4\n",
      "MoviePy - Done.\n",
      "Moviepy - Writing video behavior_data/armflapping/71.mp4\n",
      "\n"
     ]
    },
    {
     "name": "stderr",
     "output_type": "stream",
     "text": [
      "chunk:   0%|          | 0/397 [00:00<?, ?it/s, now=None]      "
     ]
    },
    {
     "name": "stdout",
     "output_type": "stream",
     "text": [
      "Moviepy - Done !\n",
      "Moviepy - video ready behavior_data/armflapping/71.mp4\n",
      "Moviepy - Building video behavior_data/armflapping/71.mp4.\n",
      "MoviePy - Writing audio in 71TEMP_MPY_wvf_snd.mp4\n"
     ]
    },
    {
     "name": "stderr",
     "output_type": "stream",
     "text": [
      "t:  22%|██▏       | 93/432 [00:00<00:00, 926.99it/s, now=None]      "
     ]
    },
    {
     "name": "stdout",
     "output_type": "stream",
     "text": [
      "MoviePy - Done.\n",
      "Moviepy - Writing video behavior_data/armflapping/71.mp4\n",
      "\n"
     ]
    },
    {
     "name": "stderr",
     "output_type": "stream",
     "text": [
      "chunk:   0%|          | 0/265 [00:00<?, ?it/s, now=None]       "
     ]
    },
    {
     "name": "stdout",
     "output_type": "stream",
     "text": [
      "Moviepy - Done !\n",
      "Moviepy - video ready behavior_data/armflapping/71.mp4\n",
      "Moviepy - Building video behavior_data/armflapping/71.mp4.\n",
      "MoviePy - Writing audio in 71TEMP_MPY_wvf_snd.mp4\n"
     ]
    },
    {
     "name": "stderr",
     "output_type": "stream",
     "text": [
      "t:  34%|███▍      | 99/288 [00:00<00:00, 975.34it/s, now=None]      "
     ]
    },
    {
     "name": "stdout",
     "output_type": "stream",
     "text": [
      "MoviePy - Done.\n",
      "Moviepy - Writing video behavior_data/armflapping/71.mp4\n",
      "\n"
     ]
    },
    {
     "name": "stderr",
     "output_type": "stream",
     "text": [
      "chunk:   0%|          | 0/111 [00:00<?, ?it/s, now=None]       "
     ]
    },
    {
     "name": "stdout",
     "output_type": "stream",
     "text": [
      "Moviepy - Done !\n",
      "Moviepy - video ready behavior_data/armflapping/71.mp4\n",
      "Moviepy - Building video behavior_data/armflapping/71.mp4.\n",
      "MoviePy - Writing audio in 71TEMP_MPY_wvf_snd.mp4\n"
     ]
    },
    {
     "name": "stderr",
     "output_type": "stream",
     "text": [
      "                                                               \r"
     ]
    },
    {
     "name": "stdout",
     "output_type": "stream",
     "text": [
      "MoviePy - Done.\n",
      "Moviepy - Writing video behavior_data/armflapping/71.mp4\n",
      "\n"
     ]
    },
    {
     "name": "stderr",
     "output_type": "stream",
     "text": [
      "\r",
      "chunk:   0%|          | 0/111 [00:00<?, ?it/s, now=None]"
     ]
    },
    {
     "name": "stdout",
     "output_type": "stream",
     "text": [
      "Moviepy - Done !\n",
      "Moviepy - video ready behavior_data/armflapping/71.mp4\n",
      "Moviepy - Building video behavior_data/armflapping/71.mp4.\n",
      "MoviePy - Writing audio in 71TEMP_MPY_wvf_snd.mp4\n"
     ]
    },
    {
     "name": "stderr",
     "output_type": "stream",
     "text": [
      "                                                              \r"
     ]
    },
    {
     "name": "stdout",
     "output_type": "stream",
     "text": [
      "MoviePy - Done.\n",
      "Moviepy - Writing video behavior_data/armflapping/71.mp4\n",
      "\n",
      "Moviepy - Done !\n",
      "Moviepy - video ready behavior_data/armflapping/71.mp4\n",
      "annoying url: http://www.youtube.com/watch?v=Pa-pdBF4FFA\n",
      "this is headbanging, so skipping\n"
     ]
    }
   ],
   "source": [
    "import cv2\n",
    "import numpy as np\n",
    "from moviepy.video.io.VideoFileClip import VideoFileClip\n",
    "from pytube import YouTube # used to download the videos\n",
    "FPS = 30 \n",
    "for i, (url, category_times) in enumerate(links_to_times.items()): \n",
    "    \n",
    "    # download the video \n",
    "    y = YouTube(url)\n",
    "    try: \n",
    "        y.streams.get_highest_resolution().download() \n",
    "    except Exception as e:\n",
    "        print(f\"annoying url: {url}\")\n",
    "        continue \n",
    "    for category, times in category_times.items(): \n",
    "        if category == \"headbanging\":\n",
    "            print(\"this is headbanging, so skipping\")\n",
    "            continue \n",
    "        folder_path = \"behavior_data/\" + category + \"/\"\n",
    "        \n",
    "        for start_time, end_time in times:\n",
    "            try:\n",
    "                input_file = y.streams.get_highest_resolution().default_filename\n",
    "                output_file = folder_path + f\"{i}.mp4\"\n",
    "                with VideoFileClip(input_file) as video:\n",
    "                    new = video.subclip(start_time, end_time)\n",
    "                    new.write_videofile(output_file, audio_codec='aac')\n",
    "            except Exception as e:\n",
    "                print(f\"failed on {i}\")\n",
    "    os.remove(y.streams.get_highest_resolution().default_filename)"
   ]
  },
  {
   "cell_type": "markdown",
   "metadata": {},
   "source": [
    "# Directory Structure  \n",
    "\n",
    "## We have one folder inside of this AnishMachineLearning folder called \"behavior_data\" that has the \"armflapping\" and \"spinning\" folders. There all of the sliced .mp4 files with the behavior of interest are located. \n",
    "\n",
    "### Note that not all of the 75 youtube videos from SSBD are there in the armflapping & spinning folder there because some have gone and some are for headbanging. "
   ]
  },
  {
   "cell_type": "code",
   "execution_count": null,
   "metadata": {},
   "outputs": [],
   "source": [
    "# for spinning it is just the hand positions that matter right?\n",
    "\n"
   ]
  }
 ],
 "metadata": {
  "kernelspec": {
   "display_name": "Python 3",
   "language": "python",
   "name": "python3"
  },
  "language_info": {
   "codemirror_mode": {
    "name": "ipython",
    "version": 3
   },
   "file_extension": ".py",
   "mimetype": "text/x-python",
   "name": "python",
   "nbconvert_exporter": "python",
   "pygments_lexer": "ipython3",
   "version": "3.8.3"
  }
 },
 "nbformat": 4,
 "nbformat_minor": 2
}
