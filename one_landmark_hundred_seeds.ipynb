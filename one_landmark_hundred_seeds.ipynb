{
 "cells": [
  {
   "cell_type": "markdown",
   "metadata": {},
   "source": [
    "# let's see the results if we run 100x with only 1 landmark!"
   ]
  },
  {
   "cell_type": "code",
   "execution_count": 15,
   "metadata": {},
   "outputs": [],
   "source": [
    "import cv2, os \n",
    "import numpy as np \n",
    "import warnings\n",
    "warnings.filterwarnings('ignore')"
   ]
  },
  {
   "cell_type": "code",
   "execution_count": 16,
   "metadata": {},
   "outputs": [],
   "source": [
    "import mediapipe as mp \n",
    "from PIL import Image as im \n",
    "import mediapipe as mp\n",
    "\n",
    "def hand_locations(frame, min_detection_confidence = 0.5, min_tracking_confidence = 0.5): \n",
    "    \"\"\"Only give the 0th landmark\"\"\"\n",
    "\n",
    "    hands = mp.solutions.hands.Hands(min_detection_confidence=min_detection_confidence, min_tracking_confidence=min_tracking_confidence)  \n",
    "    results = hands.process(frame.astype('uint8'))\n",
    "    X_locations = [0] * 2\n",
    "    Y_locations = [0] * 2\n",
    "    Z_locations = [0] * 2\n",
    "    if results.multi_hand_landmarks:\n",
    "        for hand, hand_landmark in enumerate(results.multi_hand_landmarks):\n",
    "            for i in range(0, 21):\n",
    "                landmark = hand_landmark.landmark[i]\n",
    "                X_locations[hand] = landmark.x\n",
    "                Y_locations[hand] = landmark.y\n",
    "                Z_locations[hand] = landmark.z\n",
    "                break # take only the first landmark\n",
    "            \n",
    "    hands.close()\n",
    "    return np.concatenate([X_locations, Y_locations, Z_locations]) "
   ]
  },
  {
   "cell_type": "code",
   "execution_count": 17,
   "metadata": {},
   "outputs": [],
   "source": [
    "#https://stackoverflow.com/questions/41908379/keras-plot-training-validation-and-test-set-accuracy\n",
    "import matplotlib.pyplot as plt \n",
    "def plot(history, show_pr = False, num = None): \n",
    "    \n",
    "    if num: \n",
    "        plt.plot(history.history['accuracy'], label = \"train_acc\")\n",
    "        plt.plot(history.history['val_accuracy'], label = \"val_acc\")\n",
    "        plt.title('model accuracy')\n",
    "        plt.ylabel('accuracy')\n",
    "        plt.xlabel('epoch')\n",
    "        plt.legend()\n",
    "        plt.show()\n",
    "\n",
    "        plt.plot(history.history['loss'], label = \"train_loss\")\n",
    "        plt.plot(history.history['val_loss'], label = \"val_loss\")\n",
    "        plt.title('model loss')\n",
    "        plt.ylabel('loss')\n",
    "        plt.xlabel('epoch')\n",
    "        plt.legend()\n",
    "        plt.show()\n",
    "\n",
    "        if show_pr: \n",
    "            plt.plot(history.history[f'precision_{num}'], label = \"train_precision\")\n",
    "            plt.plot(history.history[f'val_precision_{num}'], label = \"val_precision\")\n",
    "            plt.title('model precision')\n",
    "            plt.ylabel('precision')\n",
    "            plt.xlabel('epoch')\n",
    "            plt.legend()\n",
    "            plt.show()\n",
    "\n",
    "            plt.plot(history.history[f'recall_{num}'], label = \"train_recall\")\n",
    "            plt.plot(history.history[f'val_recall_{num}'], label = \"val_recall\")\n",
    "            plt.title('model recall')\n",
    "            plt.ylabel('recall')\n",
    "            plt.xlabel('epoch')\n",
    "            plt.legend()\n",
    "            plt.show()\n",
    "    else: \n",
    "        plt.plot(history.history['accuracy'], label = \"train_acc\")\n",
    "        plt.plot(history.history['val_accuracy'], label = \"val_acc\")\n",
    "        plt.title('model accuracy')\n",
    "        plt.ylabel('accuracy')\n",
    "        plt.xlabel('epoch')\n",
    "        plt.legend()\n",
    "        plt.show()\n",
    "\n",
    "        plt.plot(history.history['loss'], label = \"train_loss\")\n",
    "        plt.plot(history.history['val_loss'], label = \"val_loss\")\n",
    "        plt.title('model loss')\n",
    "        plt.ylabel('loss')\n",
    "        plt.xlabel('epoch')\n",
    "        plt.legend()\n",
    "        plt.show()\n",
    "\n",
    "        if show_pr: \n",
    "            plt.plot(history.history[f'precision'], label = \"train_precision\")\n",
    "            plt.plot(history.history[f'val_precision'], label = \"val_precision\")\n",
    "            plt.title('model precision')\n",
    "            plt.ylabel('precision')\n",
    "            plt.xlabel('epoch')\n",
    "            plt.legend()\n",
    "            plt.show()\n",
    "\n",
    "            plt.plot(history.history[f'recall'], label = \"train_recall\")\n",
    "            plt.plot(history.history[f'val_recall'], label = \"val_recall\")\n",
    "            plt.title('model recall')\n",
    "            plt.ylabel('recall')\n",
    "            plt.xlabel('epoch')\n",
    "            plt.legend()\n",
    "            plt.show()\n",
    "    # let's see whether it can detect me not doing anything \n",
    "\n",
    "# we can create a padding function in order to pad \n",
    "def pad(locations, maxlen = 90, padding = \"post\", truncating = \"post\"): \n",
    "    new_locations = np.array(locations).tolist() \n",
    "    empty_row = np.zeros((1, 126))\n",
    "    for i, video in tqdm(enumerate(new_locations)): \n",
    "        if len(video) < maxlen:  \n",
    "            for new_row in range(maxlen - len(video)): \n",
    "                if padding == \"post\": \n",
    "                    new_locations[i] = np.array(new_locations[i])\n",
    "                    new_locations[i] = np.concatenate([new_locations[i], empty_row])\n",
    "                if padding == \"pre\": \n",
    "                    new_locations[i] = np.array(new_locations[i])\n",
    "                    new_locations[i] = np.concatenate([empty_row, new_locations[i]])\n",
    "\n",
    "        if len(video) > maxlen: \n",
    "            if truncating == \"post\": \n",
    "                new_locations[i] = new_locations[i][:maxlen]\n",
    "            elif truncating == \"pre\": \n",
    "                new_locations[i] = new_locations[i][len(video) - maxlen : ]\n",
    "    return np.array(new_locations)\n",
    "    \n",
    "def predict_on_video(model, path): \n",
    "    LOCATIONS = []\n",
    "    cap = cv2.VideoCapture(path)\n",
    "    while cap.isOpened():\n",
    "        _, frame = cap.read()\n",
    "        if not _: break \n",
    "\n",
    "        LOCATIONS.append(hand_locations(frame))\n",
    "    LOCATIONS = pad(np.array([LOCATIONS]),maxlen=90)\n",
    "    return model.predict(LOCATIONS)\n"
   ]
  },
  {
   "cell_type": "code",
   "execution_count": 18,
   "metadata": {},
   "outputs": [],
   "source": [
    "import random, cv2\n",
    "import mediapipe as mp\n",
    "import tensorflow as tf \n",
    "from warnings import filterwarnings\n",
    "filterwarnings(\"ignore\") \n",
    "tf.config.run_functions_eagerly(True)\n",
    "\n",
    "def _shift(X):\n",
    "        \n",
    "        X = tf.Variable(X, dtype = tf.float32)\n",
    "        \n",
    "        X_locations = X[:, :2] \n",
    "        Y_locations = X[:, 2:4] \n",
    "        Z_locations = X[:, 4:6]\n",
    "        \n",
    "        mask = tf.not_equal(Y_locations, 0) \n",
    "        nonzero_Y_locations = tf.boolean_mask(Y_locations, mask) # contains all nonzero elements of Y_locations \n",
    "    \n",
    "        maximum = tf.math.reduce_max(nonzero_Y_locations)\n",
    "        minimum = tf.math.reduce_min(nonzero_Y_locations)\n",
    "\n",
    "        can_move_up = 1 - maximum \n",
    "        can_move_down = minimum \n",
    "        mask = tf.cast(mask, tf.float32)\n",
    "    \n",
    "        if tf.random.uniform((1,)) > 0.5: \n",
    "            move_up = tf.random.uniform((1,), 0, can_move_up)\n",
    "            X[:, 2:4].assign(X[:, 2:4] + mask * tf.ones_like(X[:, 2:4]) * move_up)\n",
    "        else: \n",
    "\n",
    "            move_down = tf.random.uniform((1,), 0, can_move_down)\n",
    "            X[:, 2:4].assign(X[:, 2:4] - mask * tf.ones_like(X[:, 2:4]) * move_down)\n",
    "\n",
    "        mask = tf.not_equal(X_locations, 0) \n",
    "        nonzero_X_locations = tf.boolean_mask(X_locations, mask) \n",
    "\n",
    "        maximum = tf.math.reduce_max(nonzero_X_locations)\n",
    "        minimum = tf.math.reduce_min(nonzero_X_locations)\n",
    "            \n",
    "        can_move_right = 1- maximum\n",
    "        can_move_left = minimum \n",
    "        mask = tf.cast(mask, tf.float32)\n",
    "\n",
    "        if tf.random.uniform((1,)) > 0.5: \n",
    "            #print(\"right\")\n",
    "            # move right\n",
    "            move_right = tf.random.uniform((1,), 0, can_move_right)\n",
    "            X[:, :2].assign(X[:, :2] + mask * tf.ones_like(X[:, :2]) * move_right)\n",
    "\n",
    "        else: \n",
    "            # move left \n",
    "            move_left = tf.random.uniform((1,), 0, can_move_left)\n",
    "            X[:, :2].assign(X[:, :2] - mask * tf.ones_like(X[:, :2]) * move_left)\n",
    "\n",
    "        mask = tf.not_equal(Z_locations, 0) \n",
    "        nonzero_Z_locations = tf.boolean_mask(Z_locations, mask)\n",
    "\n",
    "        maximum = tf.math.reduce_max(nonzero_Z_locations)\n",
    "        minimum = tf.math.reduce_min(nonzero_Z_locations)\n",
    "        mask = tf.cast(mask, tf.float32)\n",
    "\n",
    "        can_move_far = 1 - maximum \n",
    "        can_move_close = minimum \n",
    "\n",
    "        if tf.random.uniform((1,)) > 0.5: \n",
    "            # move right\n",
    "            move_far = tf.random.uniform((1,), 0, can_move_far)\n",
    "            X[:, 4:6].assign(X[:, 4:6] + mask * tf.ones_like(X[:, 4:6]) * move_far)\n",
    "        else: \n",
    "            # move left \n",
    "            move_close = tf.random.uniform((1,), 0, can_move_close)\n",
    "            X[:, 4:6].assign(X[:, 4:6] - mask * tf.ones_like(X[:, 4:6]) * move_close)\n",
    "\n",
    "        return X\n",
    "\n",
    "class Augmenter(tf.keras.layers.Layer): \n",
    "    def __init__(self, rotation_range = None, **kwargs): \n",
    "        super().__init__(kwargs)\n",
    "        self.trainable = False \n",
    "        self._trainable_weights = [] \n",
    "        self._non_trainable_weights = []\n",
    "        self.rotation_range = rotation_range \n",
    "    \n",
    "    def _rotate(self, X):  \n",
    "        \"\"\"\n",
    "        new_x = X * np.cos(theta * np.pi/180) + y * np.sin(theta * np.pi/180)\n",
    "        new_y = -X * np.sin(theta* np.pi/180) + y * np.cos(theta * np.pi/180)\n",
    "        \"\"\"\n",
    "        X = tf.Variable(X, dtype = tf.float32)\n",
    "\n",
    "        pi = 3.1415\n",
    "        rotate_by = tf.random.uniform((1,), -self.rotation_range, self.rotation_range)\n",
    "        X[:, :12].assign(X[:, :12] * tf.math.cos(rotate_by * pi/180) + X[:, 12:24] * tf.math.sin(rotate_by * pi/180))\n",
    "        X[:, 12:24].assign(X[:, 12:24] * tf.math.cos(rotate_by * pi/180) - X[:, :12] * tf.math.sin(rotate_by * pi/180))\n",
    "        return X \n",
    "    def get_config(self):\n",
    "\n",
    "        config = super().get_config().copy()\n",
    "        config.update({\n",
    "            'vocab_size': 0,\n",
    "            'num_layers': 1,\n",
    "            'units': 0,\n",
    "            'd_model': 1,\n",
    "            'num_heads': 1,\n",
    "            'dropout': 0,\n",
    "        })\n",
    "        return config\n",
    "    \n",
    "    def call(self, X, training = True):\n",
    "        if training: \n",
    "            X =  tf.map_fn(_shift, X)\n",
    "            if self.rotation_range: \n",
    "                X = tf.map_fn(self._rotate, X)\n",
    "            return X\n",
    "        else: \n",
    "            return X \n",
    "\n",
    "class TTAugmenter(tf.keras.layers.Layer): \n",
    "    \"\"\"apply augmentation during test-time too\"\"\"\n",
    "    def __init__(self, rotation_range = None, **kwargs): \n",
    "        super().__init__(**kwargs)\n",
    "        self.trainable = False \n",
    "        self._trainable_weights = [] \n",
    "        self._non_trainable_weights = []\n",
    "        self.rotation_range = rotation_range \n",
    "    \n",
    "    def _rotate(self, X):  \n",
    "        \"\"\"\n",
    "        new_x = X * np.cos(theta * np.pi/180) + y * np.sin(theta * np.pi/180)\n",
    "        new_y = -X * np.sin(theta* np.pi/180) + y * np.cos(theta * np.pi/180)\n",
    "        \"\"\"\n",
    "        X = tf.Variable(X, dtype = tf.float32)\n",
    "\n",
    "        pi = 3.1415\n",
    "        rotate_by = tf.random.uniform((1,), -self.rotation_range, self.rotation_range)\n",
    "        \n",
    "        X[:, :12].assign(X[:, :12] * tf.math.cos(rotate_by * pi/180)  - X[:, 12:24] * tf.math.sin(rotate_by * pi/180))\n",
    "        X[:, 12:24].assign(X[:, 12:24] * tf.math.cos(rotate_by * pi/180) + X[:, :12] * tf.math.sin(rotate_by * pi/180))\n",
    "        return X \n",
    "\n",
    "    def call(self, X):\n",
    "        X =  tf.map_fn(_shift, X)\n",
    "        if self.rotation_range: \n",
    "            X = tf.map_fn(self._rotate, X)\n",
    "        return X \n",
    "\n",
    "class myCallback(tf.keras.callbacks.Callback): \n",
    "    def on_epoch_end(self, epoch, logs={}): \n",
    "        if(logs.get('val_accuracy') > 0.9):   \n",
    "            print(\"\\nReached %2.2f%% accuracy, so stopping training!!\" %(0.9*100))   \n",
    "            self.model.stop_training = True  "
   ]
  },
  {
   "cell_type": "code",
   "execution_count": 19,
   "metadata": {},
   "outputs": [],
   "source": [
    "def pad(locations, maxlen = 90, padding = \"post\", truncating = \"post\"): \n",
    "    new_locations = locations.tolist() \n",
    "    empty_row = np.zeros((1, 6))\n",
    "    for i, video in tqdm(enumerate(new_locations)): \n",
    "        if len(video) < maxlen:  \n",
    "            for new_row in range(maxlen - len(video)): \n",
    "                if padding == \"post\": \n",
    "                    new_locations[i] = np.array(new_locations[i])\n",
    "                    new_locations[i] = np.concatenate([new_locations[i], empty_row])\n",
    "                if padding == \"pre\": \n",
    "                    new_locations[i] = np.array(new_locations[i])\n",
    "                    new_locations[i] = np.concatenate([empty_row, new_locations[i]])\n",
    "\n",
    "        if len(video) > maxlen: \n",
    "            if truncating == \"post\": \n",
    "                new_locations[i] = new_locations[i][:maxlen]\n",
    "            elif truncating == \"pre\": \n",
    "                new_locations[i] = new_locations[i][len(video) - maxlen : ]\n",
    "    return np.array(new_locations)"
   ]
  },
  {
   "cell_type": "code",
   "execution_count": 20,
   "metadata": {},
   "outputs": [],
   "source": [
    "from scipy import interpolate\n",
    "def adjust(frame_matrix): \n",
    "    assert len(frame_matrix.shape) == 2\n",
    "    rows, columns = frame_matrix.shape\n",
    "    for column in range(columns): \n",
    "        loc_dimension = frame_matrix[column]\n",
    "        x = np.arange(0, rows, 1)\n",
    "        idx = np.nonzero(loc_dimension)\n",
    "        if len(idx) == 1: \n",
    "            continue \n",
    "        interp_func = interpolate.interp1d(x[idx], loc_dimension[idx], kind='cubic', fill_value = \"extrapolate\")\n",
    "        frame_matrix[:, column] = interp_func(x) \n",
    "    return frame_matrix\n",
    "\n",
    "def interp_X(X): \n",
    "    temp_X = np.concatenate([X_i for X_i in X])\n",
    "    temp_X =  np.array([adjust(temp_X_i) for temp_X_i in temp_X])\n",
    "    print(temp_X.shape)\n",
    "    return temp_X.reshape(X.shape)"
   ]
  },
  {
   "cell_type": "code",
   "execution_count": 21,
   "metadata": {},
   "outputs": [],
   "source": [
    "def plot_roc_auroc(base_fpr, TPRs, FPRs, aurocs): \n",
    "    \n",
    "\n",
    "    for i, (tpr, fpr) in enumerate(zip(TPRs, FPRs)): \n",
    "        plt.plot(base_fpr, tpr, label = f\"fold {i + 1}\")\n",
    "\n",
    "    mean_tpr = np.mean(TPRs, axis=0)\n",
    "    plt.plot(base_fpr, mean_tpr, label = \"average of folds\")\n",
    "    \n",
    "    std_tpr = np.std(TPRs, axis=0)\n",
    "    tprs_upper = np.minimum(mean_tpr + std_tpr, 1)\n",
    "    tprs_lower = np.maximum(mean_tpr - std_tpr, 0)\n",
    "    plt.fill_between(base_fpr, tprs_lower, tprs_upper, color='grey', alpha=.3,\n",
    "                 label=r'$\\pm$ 1 std. dev.')\n",
    "\n",
    "    plt.xlim([0.0, 1.0])\n",
    "    plt.ylim([0.0, 1.05])\n",
    "    plt.plot([0, 1], [0, 1], color='navy', linestyle='--', label = \"chance\")\n",
    "    plt.xlabel('False Positive Rate')\n",
    "    plt.ylabel('True Positive Rate')\n",
    "    plt.title('ROC Curve across folds')\n",
    "    plt.legend(loc=\"lower right\")\n",
    "    plt.show()\n",
    "\n",
    "    # plot the auroc curves \n",
    "    mean_auroc = sum(aurocs) / len(aurocs)\n",
    "    descriptions = [f\"fold {i + 1}\" for i in range(len(aurocs))] + [\"average fold\"]\n",
    "    aurocs.append(mean_auroc)\n",
    "    plt.bar(descriptions, aurocs, color = \"green\")\n",
    "    plt.xlabel(\"Fold\")\n",
    "    plt.ylabel(\"Area Under Curve\")\n",
    "    plt.title(\"Area Under ROC Curve across folds\")\n",
    "    plt.show() \n",
    "\n",
    "    return mean_tpr, mean_auroc\n",
    "\n",
    "def plot_meta_roc_auroc(average_aurocs, average_tprs, base_fpr): \n",
    "    meta_avg_tpr = np.mean(average_tprs, axis = 0) \n",
    "    meta_avg_auroc = sum(average_aurocs) / len(average_aurocs)\n",
    "    \n",
    "    for i, average_tpr in enumerate(average_tprs): \n",
    "        plt.plot(base_fpr, average_tpr, label = f\"run {i + 1}\")\n",
    "    \n",
    "    plt.plot(base_fpr, meta_avg_tpr, label = \"average of runs\")\n",
    "    \n",
    "    std_tpr = np.std(average_tprs, axis=0)\n",
    "    tprs_upper = np.minimum(meta_avg_tpr + std_tpr, 1)\n",
    "    tprs_lower = np.maximum(meta_avg_tpr - std_tpr, 0)\n",
    "    plt.fill_between(base_fpr, tprs_lower, tprs_upper, color='grey', alpha=.3, label=r'$\\pm$ 1 std. dev.')\n",
    "    plt.xlim([0.0, 1.0])\n",
    "    plt.ylim([0.0, 1.05])\n",
    "    plt.plot([0, 1], [0, 1], color='navy', linestyle='--', label = \"chance\")\n",
    "    plt.xlabel('False Positive Rate')\n",
    "    plt.ylabel('True Positive Rate')\n",
    "    plt.title('Average ROC Curve across Runs (No Aug)')\n",
    "    plt.legend(loc=\"lower right\")\n",
    "    plt.show()\n",
    "\n",
    "    descriptions = [f\"{i + 1}\" for i in range(len(average_aurocs))] + [\"avg\"]\n",
    "    average_aurocs.append(meta_avg_auroc)\n",
    "    plt.bar(descriptions, average_aurocs, color = \"green\")\n",
    "    plt.xlabel(\"Run Number\")\n",
    "    plt.ylabel(\"Area Under Curve\")\n",
    "    plt.title(\"Area Under ROC Curve across Runs (No Aug)\")\n",
    "    plt.show()"
   ]
  },
  {
   "cell_type": "code",
   "execution_count": 22,
   "metadata": {},
   "outputs": [],
   "source": [
    "from glob import glob\n",
    "from tqdm import tqdm \n",
    "from scipy import interp\n",
    "import tensorflow_addons as tfa\n",
    "from sklearn.metrics import roc_curve, roc_auc_score\n",
    "AVERAGE_TPRS, AVERAGE_AUROCS = [], []\n",
    "META_RESULT_MATRIX = [] \n",
    "def cross_validate(make_model, epochs = 50, callbacks=[]):\n",
    "    \"\"\"adds the training & validation accuracy, precision, recall, and F1 for each of the folds to a meta matrix\"\"\"\n",
    "    model = make_model()\n",
    "\n",
    "    base_fpr = np.linspace(0, 1, 101)\n",
    "    FPRS, TPRS, AUROCS = [], [], []\n",
    "    for i in range(5): \n",
    "        # for each fold change up the dataset \n",
    "        model = make_model()\n",
    "\n",
    "        ARMFLAPPING_TRAINING_FRAMES = np.concatenate([fold for j, fold in enumerate(ARMFLAPPING_FRAMES_SPLIT) if j != i])\n",
    "        CONTROL_TRAINING_FRAMES = np.concatenate([fold for j, fold in enumerate(CONTROL_FRAMES_SPLIT) if j != i])\n",
    "\n",
    "        ARMFLAPPING_VALIDATION_FRAMES = ARMFLAPPING_FRAMES_SPLIT[i]\n",
    "        CONTROL_VALIDATION_FRAMES = CONTROL_FRAMES_SPLIT[i]\n",
    "\n",
    "        print(ARMFLAPPING_TRAINING_FRAMES.shape, CONTROL_TRAINING_FRAMES.shape)\n",
    "        print(ARMFLAPPING_VALIDATION_FRAMES.shape, CONTROL_VALIDATION_FRAMES.shape)\n",
    "        \n",
    "        X_test = np.concatenate([ARMFLAPPING_VALIDATION_FRAMES, CONTROL_VALIDATION_FRAMES])\n",
    "        X_train = np.concatenate([ARMFLAPPING_TRAINING_FRAMES, CONTROL_TRAINING_FRAMES])\n",
    "        \n",
    "        y_train = np.concatenate([np.ones(len(ARMFLAPPING_TRAINING_FRAMES)), np.zeros(len(CONTROL_TRAINING_FRAMES))])\n",
    "        y_test = np.concatenate([np.ones(len(ARMFLAPPING_VALIDATION_FRAMES)), np.zeros(len(CONTROL_VALIDATION_FRAMES))])\n",
    "\n",
    "        try:\n",
    "            os.remove(\"best.h5\") \n",
    "        except Exception as e: \n",
    "            pass \n",
    "        \n",
    "        # train \n",
    "        history = model.fit(X_train, y_train, validation_data = (X_test, y_test), epochs = epochs, callbacks = callbacks)\n",
    "        \n",
    "        try: \n",
    "            model.load_weights(\"best.h5\")\n",
    "        except Exception as e: \n",
    "            pass \n",
    "\n",
    "        # evaluate again \n",
    "        model.evaluate(X_test, y_test)\n",
    "        \n",
    "        # plot accuracy and loss \n",
    "        plot(history)\n",
    "\n",
    "        # get this information  \n",
    "        y_pred = model.predict(X_test).flatten()\n",
    "        fpr, tpr, _ = roc_curve(y_test, y_pred) \n",
    "        FPRS.append(fpr)\n",
    "        tpr = interp(base_fpr, fpr, tpr)\n",
    "        tpr[0] = 0.0 \n",
    "        TPRS.append(tpr)\n",
    "        AUROCS.append(roc_auc_score(y_test, y_pred))\n",
    "\n",
    "\n",
    "        # accuracy: 0.7625 - precision: 0.7442 - recall: 0.8000 - val_loss: 0.6086 - val_accuracy: 0.7500 - val_precision: 0.6923 - val_recall: 0\n",
    "\n",
    "        training_accuracy = history.history['accuracy'][-1]\n",
    "        validation_accuracy = history.history['val_accuracy'][-1]\n",
    "        training_precision = history.history['precision'][-1]\n",
    "        validation_precision = history.history['val_precision'][-1]\n",
    "        training_recall = history.history['recall'][-1]\n",
    "        validation_recall = history.history['val_recall'][-1]\n",
    "        training_f1 = 2 * training_precision * training_recall / (training_precision + training_recall)\n",
    "        validation_f1 = 2 * validation_precision * validation_recall / (validation_precision + validation_recall)\n",
    "\n",
    "        # add to meta matrix\n",
    "        META_RESULT_MATRIX.append([training_accuracy, training_precision, training_recall, training_f1, validation_accuracy, validation_precision, validation_recall, validation_f1])\n",
    "\n",
    "        # evaluate on our own custom videos\n",
    "        for file in glob(\"*.mov\"):\n",
    "            print(f\"prediction for video {file} is {predict_on_video(model, file)}\")\n",
    "\n",
    "    mean_tpr, mean_auroc = plot_roc_auroc(base_fpr, TPRS, FPRS, AUROCS) \n",
    "    AVERAGE_TPRS.append(mean_tpr) \n",
    "    AVERAGE_AUROCS.append(mean_auroc)"
   ]
  },
  {
   "cell_type": "code",
   "execution_count": 23,
   "metadata": {},
   "outputs": [],
   "source": [
    "# don't shuffle  \n",
    "\n",
    "import random \n",
    "def shuffle(X, y, seed = None):\n",
    "    if seed == None:  \n",
    "        seed = random.randrange(0, 100)\n",
    "        print(f\"using seed {seed}\")\n",
    "    np.random.seed(seed) \n",
    "    new_X = np.concatenate([X_i for X_i in X])\n",
    "    new_y = np.concatenate([y_i for y_i in y])\n",
    "    N = np.random.permutation(new_X.shape[0])\n",
    "    new_X = new_X[N]\n",
    "    new_y = new_y[N]\n",
    "    new_X = new_X.reshape(5, 20, 90, 6)\n",
    "    new_y = new_y.reshape(5, 20)\n",
    "    return new_X, new_y\n"
   ]
  },
  {
   "cell_type": "code",
   "execution_count": 24,
   "metadata": {},
   "outputs": [],
   "source": [
    "def f1(y_true, y_pred):\n",
    "    y_pred = tf.round(y_pred)\n",
    "    tp = tf.math.reduce_sum(tf.cast(y_true*y_pred, 'float'), axis=0)\n",
    "    tn = tf.math.reduce_sum(tf.cast((1-y_true)*(1-y_pred), 'float'), axis=0)\n",
    "    fp = tf.math.reduce_sum(tf.cast((1-y_true)*y_pred, 'float'), axis=0)\n",
    "    fn = tf.math.reduce_sum(tf.cast(y_true*(1-y_pred), 'float'), axis=0)\n",
    "\n",
    "    p = tp / (tp + fp + tf.keras.backend.epsilon())\n",
    "    r = tp / (tp + fn + tf.keras.backend.epsilon())\n",
    "\n",
    "    f1 = 2*p*r / (p+r+tf.epsilon())\n",
    "    f1 = tf.where(tf.math.is_nan(f1), tf.zeros_like(f1), f1)\n",
    "    return tf.mean(f1)\n",
    "\n",
    "def f1_loss(y_true, y_pred):\n",
    "    \n",
    "    tp = tf.math.reduce_sum(tf.cast(y_true*y_pred, 'float'), axis=0)\n",
    "    tn = tf.math.reduce_sum(tf.cast((1-y_true)*(1-y_pred), 'float'), axis=0)\n",
    "    fp = tf.math.reduce_sum(tf.cast((1-y_true)*y_pred, 'float'), axis=0)\n",
    "    fn = tf.math.reduce_sum(tf.cast(y_true*(1-y_pred), 'float'), axis=0)\n",
    "\n",
    "    p = tp / (tp + fp + tf.keras.backend.epsilon())\n",
    "    r = tp / (tp + fn + tf.keras.backend.epsilon())\n",
    "\n",
    "    f1 = 2*p*r / (p+r+tf.keras.backend.epsilon())\n",
    "    f1 = tf.where(tf.math.is_nan(f1), tf.zeros_like(f1), f1)\n",
    "    return 1 - tf.math.reduce_mean(f1)"
   ]
  },
  {
   "cell_type": "code",
   "execution_count": 25,
   "metadata": {},
   "outputs": [],
   "source": [
    "def make_model(): \n",
    "    model = tf.keras.models.Sequential([\n",
    "        #Augmenter(), \n",
    "        tf.keras.layers.LSTM(64, return_sequences=False, input_shape = (None, 6)), \n",
    "        tf.keras.layers.Dropout(0.3), \n",
    "        tf.keras.layers.Dense(1, activation = 'sigmoid') \n",
    "    ]) \n",
    "\n",
    "    model.compile(loss = tf.keras.losses.BinaryCrossentropy(), optimizer = tf.keras.optimizers.Adam(learning_rate=0.01), metrics = ['accuracy', tf.keras.metrics.Precision(name=\"precision\"), tf.keras.metrics.Recall(name=\"recall\")])\n",
    "\n",
    "    return model"
   ]
  },
  {
   "cell_type": "code",
   "execution_count": 26,
   "metadata": {},
   "outputs": [],
   "source": [
    "import pickle, numpy as np\n",
    "with open(\"one_point_folds_seeds\", 'rb') as f: \n",
    "    information = pickle.load(f)\n",
    "\n",
    "ARMFLAPPING_FRAMES, ARMFLAPPING_FILE_NAMES, CONTROL_FRAMES, CONTROL_FILE_NAMES = [np.concatenate(info) for info in information]\n",
    "\n",
    "assert ARMFLAPPING_FILE_NAMES.shape == CONTROL_FILE_NAMES.shape\n",
    "assert ARMFLAPPING_FRAMES.shape == CONTROL_FRAMES.shape"
   ]
  },
  {
   "cell_type": "code",
   "execution_count": 27,
   "metadata": {},
   "outputs": [],
   "source": [
    "WRITE_DATA = False\n",
    "if WRITE_DATA: \n",
    "    SEEDS = np.abs(np.array(np.random.randn(100) * 100, dtype = np.int32))\n",
    "    FILES_FOR_FOLD = []\n",
    "    for seed in SEEDS:\n",
    "        np.random.seed(seed) # set seed \n",
    "        \n",
    "        N = np.random.permutation(ARMFLAPPING_FRAMES.shape[0])\n",
    "        ARMFLAPPING_FILE_NAMES = ARMFLAPPING_FILE_NAMES[N]\n",
    "        CONTROL_FILE_NAMES = CONTROL_FILE_NAMES[N]\n",
    "\n",
    "        armflapping_file_name_folds =  np.array_split(ARMFLAPPING_FILE_NAMES, 5)\n",
    "        control_file_name_folds =  np.array_split(CONTROL_FILE_NAMES, 5)\n",
    "\n",
    "        for i in range(5):\n",
    "            # the ith fold is for validation, everything else is for whatever \n",
    "\n",
    "            armflapping_training_files = np.concatenate([fold for j, fold in enumerate(armflapping_file_name_folds) if j != i])\n",
    "            control_training_files = np.concatenate([fold for j, fold in enumerate(control_file_name_folds) if j != i])\n",
    "\n",
    "            armflapping_validation_files = armflapping_file_name_folds[i]\n",
    "            control_validation_files = control_file_name_folds[i]\n",
    "\n",
    "            FILES_FOR_FOLD.append({\"train\": np.concatenate([armflapping_training_files, control_training_files]).tolist(), \"test\": np.concatenate([armflapping_validation_files, control_validation_files]).tolist()})\n",
    "    # save this and the seeds used in a pickle file \n",
    "\n",
    "    with open(\"file_names_folds.pkl\", 'wb') as f: \n",
    "        pickle.dump((SEEDS.tolist(), FILES_FOR_FOLD), f)"
   ]
  },
  {
   "cell_type": "code",
   "execution_count": 28,
   "metadata": {},
   "outputs": [],
   "source": [
    "if not WRITE_DATA: \n",
    "    with open(\"file_names_folds.pkl\", 'rb') as f: \n",
    "        SEEDS, _ = pickle.load(f)"
   ]
  },
  {
   "cell_type": "markdown",
   "metadata": {},
   "source": [
    "# okay so this is the same thing but for the one landmark approach"
   ]
  },
  {
   "cell_type": "code",
   "execution_count": null,
   "metadata": {},
   "outputs": [],
   "source": [
    "for seed in SEEDS:\n",
    "    \"\"\" the only problem with this is that it's a basically 100 seed loop, which will take around 500 minutes of running\"\"\"\n",
    "    np.random.seed(seed) # set seed \n",
    "    \n",
    "    # first sort all of the folds \n",
    "    N = np.random.permutation(ARMFLAPPING_FRAMES.shape[0])\n",
    "    ARMFLAPPING_FRAMES = ARMFLAPPING_FRAMES[N]\n",
    "    CONTROL_FRAMES = CONTROL_FRAMES[N]\n",
    "\n",
    "    # split them into 5 folds \n",
    "    ARMFLAPPING_FRAMES_SPLIT = np.array_split(ARMFLAPPING_FRAMES, 5)\n",
    "    CONTROL_FRAMES_SPLIT = np.array_split(CONTROL_FRAMES, 5)\n",
    "\n",
    "    # then run them 5x \n",
    "    checkpoint = tf.keras.callbacks.ModelCheckpoint(\"best.h5\", save_best_only=True, monitor = \"val_accuracy\")\n",
    "    early_stopping = tf.keras.callbacks.EarlyStopping(monitor = \"val_accuracy\", patience=10)\n",
    "    cross_validate(make_model, epochs = 75, callbacks=[checkpoint, early_stopping]) "
   ]
  },
  {
   "cell_type": "code",
   "execution_count": 53,
   "metadata": {},
   "outputs": [],
   "source": [
    "with open(\"one_landmarks_hundred_seeds_results\", 'wb') as f: \n",
    "    pickle.dump((META_RESULT_MATRIX, AVERAGE_AUROCS, AVERAGE_TPRS), f)"
   ]
  },
  {
   "cell_type": "code",
   "execution_count": 54,
   "metadata": {},
   "outputs": [],
   "source": [
    "import pickle, numpy as np\n",
    "with open(\"one_landmarks_hundred_seeds_results\", 'rb') as f: \n",
    " (META_RESULT_MATRIX, AVERAGE_AUROCS, AVERAGE_TPRS) = pickle.load(f)"
   ]
  },
  {
   "cell_type": "code",
   "execution_count": 61,
   "metadata": {},
   "outputs": [
    {
     "data": {
      "text/plain": [
       "array([0.7974    , 0.82427261, 0.76515   , 0.79016187, 0.68      ,\n",
       "       0.70331545, 0.65340001, 0.6665203 ])"
      ]
     },
     "execution_count": 61,
     "metadata": {},
     "output_type": "execute_result"
    }
   ],
   "source": [
    "META_RESULT_MATRIX = np.array(META_RESULT_MATRIX)\n",
    "np.mean(META_RESULT_MATRIX, axis=0)"
   ]
  },
  {
   "cell_type": "code",
   "execution_count": 62,
   "metadata": {},
   "outputs": [
    {
     "name": "stdout",
     "output_type": "stream",
     "text": [
      "0.7974000008106231 0.04148180388661237\n",
      "0.8242726101875305 0.06254192219227882\n",
      "0.7651499993801117 0.06840487996789042\n",
      "0.79016187475284 0.04312999529741701\n",
      "0.6799999994635582 0.09208691549166285\n",
      "0.7033154502511024 0.11941966232126151\n",
      "0.6534000050276518 0.14672572596167438\n",
      "0.6665203006999109 0.1057620944349184\n"
     ]
    }
   ],
   "source": [
    "for i in range(8): \n",
    "    print(np.mean(META_RESULT_MATRIX[:, i], axis=0), np.std(META_RESULT_MATRIX[:, i], axis=0))"
   ]
  },
  {
   "cell_type": "code",
   "execution_count": 63,
   "metadata": {},
   "outputs": [
    {
     "name": "stdout",
     "output_type": "stream",
     "text": [
      "training accuracy : 0.79745 +/- 0.016492043536202525\n",
      "training precision : 0.8243 +/- 0.026738174956417633\n",
      "training recall : 0.7651500000000001 +/- 0.02985343363836061\n",
      "training f1 : 0.7901700000000002 +/- 0.017332659922816226\n",
      "validation accuracy : 0.6800000000000002 +/- 0.02660826939130012\n",
      "validation precision : 0.7033300000000001 +/- 0.036492480047264526\n",
      "validation recall : 0.6534 +/- 0.049884266056543315\n",
      "validation f1 : 0.66646 +/- 0.033536374282262534\n"
     ]
    }
   ],
   "source": [
    "METRICS = []\n",
    "for fold_results in np.array_split(META_RESULT_MATRIX, 100):\n",
    "    METRICS.append(np.mean(fold_results, axis = 0)) \n",
    "\n",
    "METRICS = np.around(np.array(METRICS), 3)\n",
    "\n",
    "print(f\"training accuracy : {np.mean(METRICS[:, 0])} +/- {np.std(METRICS[:, 0])}\")\n",
    "print(f\"training precision : {np.mean(METRICS[:, 1])} +/- {np.std(METRICS[:, 1])}\")\n",
    "print(f\"training recall : {np.mean(METRICS[:, 2])} +/- {np.std(METRICS[:, 2])}\")\n",
    "print(f\"training f1 : {np.mean(METRICS[:, 3])} +/- {np.std(METRICS[:, 3])}\")\n",
    "print(f\"validation accuracy : {np.mean(METRICS[:, 4])} +/- {np.std(METRICS[:, 4])}\")\n",
    "print(f\"validation precision : {np.mean(METRICS[:, 5])} +/- {np.std(METRICS[:, 5])}\")\n",
    "print(f\"validation recall : {np.mean(METRICS[:, 6])} +/- {np.std(METRICS[:, 6])}\")\n",
    "print(f\"validation f1 : {np.mean(METRICS[:, 7])} +/- {np.std(METRICS[:, 7])}\")"
   ]
  },
  {
   "cell_type": "code",
   "execution_count": 14,
   "metadata": {},
   "outputs": [
    {
     "data": {
      "text/plain": [
       "array([[0.80000001, 0.80000001, 0.80000001, 0.80000001, 0.60000002,\n",
       "        0.60000002, 0.60000002, 0.60000002],\n",
       "       [0.77499998, 0.76190478, 0.80000001, 0.78048782, 0.64999998,\n",
       "        0.66666669, 0.60000002, 0.63157897],\n",
       "       [0.75      , 0.72727275, 0.80000001, 0.76190478, 0.69999999,\n",
       "        0.69999999, 0.69999999, 0.69999999],\n",
       "       [0.85000002, 0.8888889 , 0.80000001, 0.84210527, 0.69999999,\n",
       "        0.69999999, 0.69999999, 0.69999999],\n",
       "       [0.72500002, 0.72500002, 0.72500002, 0.72500002, 0.85000002,\n",
       "        0.81818181, 0.89999998, 0.85714284]])"
      ]
     },
     "execution_count": 14,
     "metadata": {},
     "output_type": "execute_result"
    }
   ],
   "source": [
    "# create plots of evreything \n",
    "\n",
    "training_acc = np.mean(META_RESULT_MATRIX[:, 0], axis=0)\n",
    "\n",
    "labels = ['Accuracy', \"Precision\", \"Recall\", \"F1\"]\n",
    "\n",
    "x = np.arange(len(labels))  # the label locations\n",
    "width = 0.4  # the width of the bars\n",
    "\n",
    "fig, ax = plt.subplots()\n",
    "fig.set_size_inches(7, 6)\n",
    "rects1 = ax.bar(x - width/2, [training_acc, training_precision, training_recall, training_f1], width, label='Training', color = \"tab:blue\")\n",
    "rects2 = ax.bar(x + width/2, [validation_acc, validation_precision, validation_recall, validation_f1], width, label='Validation', color=\"tab:green\")\n",
    "\n",
    "# Add some text for labels, title and custom x-axis tick labels, etc.\n",
    "ax.set_ylabel('Metric')\n",
    "if FOLD_NUMBER != 5: \n",
    "    ax.set_title(f\"Training vs. Testing Metrics: Fold {FOLD_NUMBER + 1} (No Aug)\")\n",
    "else: \n",
    "    ax.set_title(\"Training vs. Testing Metrics All Folds (No Aug)\")\n",
    "ax.set_xticks(x)\n",
    "ax.set_xticklabels(labels)\n",
    "ax.legend(loc=\"upper right\")"
   ]
  },
  {
   "cell_type": "code",
   "execution_count": 18,
   "metadata": {},
   "outputs": [
    {
     "name": "stdout",
     "output_type": "stream",
     "text": [
      "0.7636873058008137\n"
     ]
    }
   ],
   "source": []
  },
  {
   "cell_type": "code",
   "execution_count": 39,
   "metadata": {},
   "outputs": [
    {
     "data": {
      "image/png": "[encoded data removed]",
      "text/plain": [
       "<Figure size 432x288 with 1 Axes>"
      ]
     },
     "metadata": {
      "needs_background": "light"
     },
     "output_type": "display_data"
    },
    {
     "data": {
      "image/png": "[encoded data removed]",
      "text/plain": [
       "<Figure size 432x288 with 1 Axes>"
      ]
     },
     "metadata": {
      "needs_background": "light"
     },
     "output_type": "display_data"
    }
   ],
   "source": [
    "# REEE RUN THIS STUFF \n",
    "plot_meta_roc_auroc(AVERAGE_AUROCS, AVERAGE_TPRS, np.linspace(0, 1, 101)) # save the images here "
   ]
  },
  {
   "cell_type": "code",
   "execution_count": 40,
   "metadata": {},
   "outputs": [
    {
     "data": {
      "text/plain": [
       "(0.76189, 0.026550118867552906)"
      ]
     },
     "execution_count": 40,
     "metadata": {},
     "output_type": "execute_result"
    }
   ],
   "source": [
    "np.mean(AVERAGE_AUROCS), np.std(AVERAGE_AUROCS)"
   ]
  },
  {
   "cell_type": "code",
   "execution_count": 41,
   "metadata": {},
   "outputs": [],
   "source": [
    "def interpret(metrics_string):\n",
    "     metrics = []\n",
    "     for i in range(len(metrics_string)):\n",
    "         try:\n",
    "             index = metrics_string.index(\":\")\n",
    "             metrics.append(metrics_string[index + 2 : index + 8])\n",
    "             metrics_string = metrics_string[index + 9:]\n",
    "         except Exception as e:\n",
    "             return [float(m) for m in metrics][1:]"
   ]
  },
  {
   "cell_type": "code",
   "execution_count": 42,
   "metadata": {},
   "outputs": [],
   "source": [
    "METRICS = [] # training acc, training pres, training recall, validation acc, validation pres, validation recall \n",
    "\n",
    "# for all of the 50 runs have a (50, 6 + 2) matrix, and then use that to store data and compute scores \n",
    "import numpy as np\n",
    "meta_results = []\n",
    "meta_results.append(\"3/3 [==============================] - 0s 143ms/step - loss: 0.5490 - accuracy: 0.7625 - precision_127: 0.7692 - recall_127: 0.7500 - val_loss: 0.6196 - val_accuracy: 0.7000 - val_precision_127: 0.6429 - val_recall_127: 0.9000\")\n",
    "meta_results.append(\"3/3 [==============================] - 0s 123ms/step - loss: 0.5468 - accuracy: 0.7500 - precision_128: 0.7381 - recall_128: 0.7750 - val_loss: 0.4929 - val_accuracy: 0.7500 - val_precision_128: 0.7778 - val_recall_128: 0.7000\")\n",
    "meta_results.append(\"3/3 [==============================] - 0s 148ms/step - loss: 0.5195 - accuracy: 0.7875 - precision_129: 0.8485 - recall_129: 0.7000 - val_loss: 0.6768 - val_accuracy: 0.6500 - val_precision_129: 0.7143 - val_recall_129: 0.5000\")\n",
    "meta_results.append(\"3/3 [==============================] - 0s 125ms/step - loss: 0.5528 - accuracy: 0.7375 - precision_130: 0.8800 - recall_130: 0.5500 - val_loss: 0.6188 - val_accuracy: 0.7000 - val_precision_130: 0.7500 - val_recall_130: 0.6000\")\n",
    "meta_results.append(\"3/3 [==============================] - 0s 136ms/step - loss: 0.5276 - accuracy: 0.7500 - precision_131: 0.7500 - recall_131: 0.7500 - val_loss: 0.5546 - val_accuracy: 0.7500 - val_precision_131: 0.7778 - val_recall_131: 0.7000\")\n",
    "meta_results.append(\"3/3 [==============================] - 0s 122ms/step - loss: 0.3641 - accuracy: 0.8250 - precision_133: 0.9333 - recall_133: 0.7000 - val_loss: 0.8364 - val_accuracy: 0.7000 - val_precision_133: 0.6429 - val_recall_133: 0.9000\")\n",
    "meta_results.append(\"3/3 [==============================] - 0s 123ms/step - loss: 0.5302 - accuracy: 0.7750 - precision_134: 0.7750 - recall_134: 0.7750 - val_loss: 0.5209 - val_accuracy: 0.8000 - val_precision_134: 0.8000 - val_recall_134: 0.8000\")\n",
    "meta_results.append(\"3/3 [==============================] - 0s 125ms/step - loss: 0.5198 - accuracy: 0.7375 - precision_135: 0.7209 - recall_135: 0.7750 - val_loss: 0.6696 - val_accuracy: 0.5500 - val_precision_135: 0.5714 - val_recall_135: 0.4000\")\n",
    "meta_results.append('3/3 [==============================] - 0s 142ms/step - loss: 0.5037 - accuracy: 0.7875 - precision_136: 0.8108 - recall_136: 0.7500 - val_loss: 0.5018 - val_accuracy: 0.7500 - val_precision_136: 0.7273 - val_recall_136: 0.8000')\n",
    "meta_results.append(\"3/3 [==============================] - 0s 128ms/step - loss: 0.6638 - accuracy: 0.6000 - precision_137: 0.6053 - recall_137: 0.5750 - val_loss: 0.6271 - val_accuracy: 0.6000 - val_precision_137: 0.6250 - val_recall_137: 0.5000\")\n",
    "meta_results.append(\"3/3 [==============================] - 0s 125ms/step - loss: 0.4704 - accuracy: 0.7875 - precision_139: 0.8485 - recall_139: 0.7000 - val_loss: 0.6656 - val_accuracy: 0.7000 - val_precision_139: 0.6667 - val_recall_139: 0.8000\")\n",
    "meta_results.append(\"3/3 [==============================] - 0s 123ms/step - loss: 0.6160 - accuracy: 0.6500 - precision_140: 0.6875 - recall_140: 0.5500 - val_loss: 0.5326 - val_accuracy: 0.8500 - val_precision_140: 0.8182 - val_recall_140: 0.9000\")\n",
    "meta_results.append(\"3/3 [==============================] - 0s 134ms/step - loss: 0.4795 - accuracy: 0.7625 - precision_141: 0.7838 - recall_141: 0.7250 - val_loss: 0.7107 - val_accuracy: 0.6500 - val_precision_141: 0.8000 - val_recall_141: 0.4000\")\n",
    "meta_results.append(\"3/3 [==============================] - 0s 121ms/step - loss: 0.5433 - accuracy: 0.7375 - precision_142: 0.9130 - recall_142: 0.5250 - val_loss: 0.5958 - val_accuracy: 0.7000 - val_precision_142: 0.7000 - val_recall_142: 0.7000\")\n",
    "meta_results.append(\"3/3 [==============================] - 0s 181ms/step - loss: 0.4387 - accuracy: 0.8375 - precision_143: 0.9091 - recall_143: 0.7500 - val_loss: 0.8756 - val_accuracy: 0.7000 - val_precision_143: 0.6429 - val_recall_143: 0.9000\")\n",
    "meta_results.append(\"3/3 [==============================] - 0s 123ms/step - loss: 0.5071 - accuracy: 0.7750 - precision_145: 0.8235 - recall_145: 0.7000 - val_loss: 0.6108 - val_accuracy: 0.7000 - val_precision_145: 0.6429 - val_recall_145: 0.9000\")\n",
    "meta_results.append(\"3/3 [==============================] - 0s 122ms/step - loss: 0.4103 - accuracy: 0.7875 - precision_146: 0.7674 - recall_146: 0.8250 - val_loss: 0.6352 - val_accuracy: 0.7500 - val_precision_146: 0.7273 - val_recall_146: 0.8000\")\n",
    "meta_results.append(\"3/3 [==============================] - 0s 125ms/step - loss: 0.5201 - accuracy: 0.7375 - precision_147: 0.8065 - recall_147: 0.6250 - val_loss: 0.7552 - val_accuracy: 0.5500 - val_precision_147: 0.6000 - val_recall_147: 0.3000\")\n",
    "meta_results.append(\"3/3 [==============================] - 0s 127ms/step - loss: 0.4809 - accuracy: 0.7750 - precision_148: 0.7750 - recall_148: 0.7750 - val_loss: 0.5301 - val_accuracy: 0.7500 - val_precision_148: 0.7273 - val_recall_148: 0.8000\")\n",
    "meta_results.append(\"3/3 [==============================] - 0s 135ms/step - loss: 0.6238 - accuracy: 0.7250 - precision_149: 0.6957 - recall_149: 0.8000 - val_loss: 0.5609 - val_accuracy: 0.7000 - val_precision_149: 0.7500 - val_recall_149: 0.6000\")\n",
    "meta_results.append(\"3/3 [==============================] - 0s 147ms/step - loss: 0.4444 - accuracy: 0.8125 - precision_151: 0.8571 - recall_151: 0.7500 - val_loss: 0.6537 - val_accuracy: 0.7000 - val_precision_151: 0.6667 - val_recall_151: 0.8000\")\n",
    "meta_results.append(\"3/3 [==============================] - 0s 122ms/step - loss: 0.4550 - accuracy: 0.8000 - precision_152: 0.7500 - recall_152: 0.9000 - val_loss: 0.6105 - val_accuracy: 0.7500 - val_precision_152: 0.7778 - val_recall_152: 0.7000\")\n",
    "meta_results.append(\"3/3 [==============================] - 0s 126ms/step - loss: 0.4810 - accuracy: 0.7625 - precision_153: 0.8000 - recall_153: 0.7000 - val_loss: 0.6956 - val_accuracy: 0.6500 - val_precision_153: 0.7143 - val_recall_153: 0.5000\")\n",
    "meta_results.append(\"3/3 [==============================] - 0s 135ms/step - loss: 0.4951 - accuracy: 0.7625 - precision_154: 0.7692 - recall_154: 0.7500 - val_loss: 0.5621 - val_accuracy: 0.7500 - val_precision_154: 0.7273 - val_recall_154: 0.8000\")\n",
    "meta_results.append(\"3/3 [==============================] - 0s 127ms/step - loss: 0.4192 - accuracy: 0.8250 - precision_155: 0.8421 - recall_155: 0.8000 - val_loss: 0.5144 - val_accuracy: 0.7500 - val_precision_155: 0.7778 - val_recall_155: 0.7000\")\n",
    "meta_results.append(\"3/3 [==============================] - 0s 127ms/step - loss: 0.5146 - accuracy: 0.7375 - precision_157: 0.7568 - recall_157: 0.7000 - val_loss: 0.6470 - val_accuracy: 0.7000 - val_precision_157: 0.6429 - val_recall_157: 0.9000\")\n",
    "meta_results.append(\"3/3 [==============================] - 0s 136ms/step - loss: 0.5297 - accuracy: 0.7750 - precision_158: 0.7895 - recall_158: 0.7500 - val_loss: 0.5801 - val_accuracy: 0.7500 - val_precision_158: 0.7778 - val_recall_158: 0.7000\")\n",
    "meta_results.append(\"3/3 [==============================] - 0s 125ms/step - loss: 0.4522 - accuracy: 0.7750 - precision_159: 0.8056 - recall_159: 0.7250 - val_loss: 0.6115 - val_accuracy: 0.6000 - val_precision_159: 0.7500 - val_recall_159: 0.3000\")\n",
    "meta_results.append(\"3/3 [==============================] - 0s 126ms/step - loss: 0.5559 - accuracy: 0.7250 - precision_160: 0.6957 - recall_160: 0.8000 - val_loss: 0.5596 - val_accuracy: 0.7000 - val_precision_160: 0.6667 - val_recall_160: 0.8000\")\n",
    "meta_results.append(\"3/3 [==============================] - 0s 175ms/step - loss: 0.5519 - accuracy: 0.7750 - precision_161: 0.8438 - recall_161: 0.6750 - val_loss: 0.5466 - val_accuracy: 0.6500 - val_precision_161: 0.7143 - val_recall_161: 0.5000\")\n",
    "meta_results.append(\"3/3 [==============================] - 0s 125ms/step - loss: 0.4980 - accuracy: 0.7750 - precision_163: 0.8235 - recall_163: 0.7000 - val_loss: 0.6757 - val_accuracy: 0.6500 - val_precision_163: 0.6154 - val_recall_163: 0.8000\")\n",
    "meta_results.append(\"3/3 [==============================] - 0s 127ms/step - loss: 0.4898 - accuracy: 0.7750 - precision_164: 0.7895 - recall_164: 0.7500 - val_loss: 0.6056 - val_accuracy: 0.7000 - val_precision_164: 0.7000 - val_recall_164: 0.7000\")\n",
    "meta_results.append(\"3/3 [==============================] - 0s 181ms/step - loss: 0.5320 - accuracy: 0.7375 - precision_165: 0.7209 - recall_165: 0.7750 - val_loss: 0.7340 - val_accuracy: 0.6500 - val_precision_165: 0.6364 - val_recall_165: 0.7000\")\n",
    "meta_results.append(\"3/3 [==============================] - 0s 125ms/step - loss: 0.4484 - accuracy: 0.7750 - precision_166: 0.7895 - recall_166: 0.7500 - val_loss: 0.5302 - val_accuracy: 0.7500 - val_precision_166: 0.7273 - val_recall_166: 0.8000\")\n",
    "meta_results.append(\"3/3 [==============================] - 0s 126ms/step - loss: 0.6792 - accuracy: 0.6750 - precision_167: 0.6522 - recall_167: 0.7500 - val_loss: 0.6917 - val_accuracy: 0.5500 - val_precision_167: 0.5556 - val_recall_167: 0.5000\")\n",
    "meta_results.append(\"3/3 [==============================] - 0s 128ms/step - loss: 0.4365 - accuracy: 0.8125 - precision_169: 0.8788 - recall_169: 0.7250 - val_loss: 0.7150 - val_accuracy: 0.6500 - val_precision_169: 0.6364 - val_recall_169: 0.7000\")\n",
    "meta_results.append(\"3/3 [==============================] - 0s 125ms/step - loss: 0.5207 - accuracy: 0.7750 - precision_170: 0.7750 - recall_170: 0.7750 - val_loss: 0.5656 - val_accuracy: 0.7500 - val_precision_170: 0.7778 - val_recall_170: 0.7000\")\n",
    "meta_results.append(\"3/3 [==============================] - 0s 131ms/step - loss: 0.4846 - accuracy: 0.7625 - precision_171: 0.7692 - recall_171: 0.7500 - val_loss: 0.7023 - val_accuracy: 0.6500 - val_precision_171: 0.6667 - val_recall_171: 0.6000\")\n",
    "meta_results.append(\"3/3 [==============================] - 0s 129ms/step - loss: 0.4192 - accuracy: 0.8250 - precision_172: 0.8824 - recall_172: 0.7500 - val_loss: 0.8445 - val_accuracy: 0.7000 - val_precision_172: 0.7500 - val_recall_172: 0.6000\")\n",
    "meta_results.append(\"3/3 [==============================] - 0s 125ms/step - loss: 0.6846 - accuracy: 0.5750 - precision_173: 0.5682 - recall_173: 0.6250 - val_loss: 0.6460 - val_accuracy: 0.6000 - val_precision_173: 0.6250 - val_recall_173: 0.5000\")\n",
    "meta_results.append(\"3/3 [==============================] - 0s 122ms/step - loss: 0.4731 - accuracy: 0.7625 - precision_175: 0.7838 - recall_175: 0.7250 - val_loss: 0.6003 - val_accuracy: 0.7500 - val_precision_175: 0.6923 - val_recall_175: 0.9000\")\n",
    "meta_results.append(\"3/3 [==============================] - 0s 122ms/step - loss: 0.6343 - accuracy: 0.6875 - precision_176: 0.6744 - recall_176: 0.7250 - val_loss: 0.6167 - val_accuracy: 0.7000 - val_precision_176: 1.0000 - val_recall_176: 0.4000\")\n",
    "meta_results.append(\"3/3 [==============================] - 0s 126ms/step - loss: 0.6491 - accuracy: 0.5875 - precision_177: 0.6061 - recall_177: 0.5000 - val_loss: 0.6270 - val_accuracy: 0.6000 - val_precision_177: 1.0000 - val_recall_177: 0.2000\")\n",
    "meta_results.append(\"3/3 [==============================] - 0s 123ms/step - loss: 0.4416 - accuracy: 0.8000 - precision_178: 0.8333 - recall_178: 0.7500 - val_loss: 0.6544 - val_accuracy: 0.6500 - val_precision_178: 0.7143 - val_recall_178: 0.5000\")\n",
    "meta_results.append(\"3/3 [==============================] - 0s 127ms/step - loss: 0.4658 - accuracy: 0.8125 - precision_179: 0.9032 - recall_179: 0.7000 - val_loss: 0.6116 - val_accuracy: 0.7500 - val_precision_179: 0.7778 - val_recall_179: 0.7000\")\n",
    "meta_results.append(\"3/3 [==============================] - 0s 123ms/step - loss: 0.4735 - accuracy: 0.8000 - precision_181: 0.8750 - recall_181: 0.7000 - val_loss: 0.6479 - val_accuracy: 0.6500 - val_precision_181: 0.6667 - val_recall_181: 0.6000\")\n",
    "meta_results.append(\"3/3 [==============================] - 0s 153ms/step - loss: 0.5056 - accuracy: 0.7750 - precision_182: 0.7895 - recall_182: 0.7500 - val_loss: 0.4801 - val_accuracy: 0.7500 - val_precision_182: 0.7778 - val_recall_182: 0.7000\")\n",
    "meta_results.append(\"3/3 [==============================] - 0s 123ms/step - loss: 0.4631 - accuracy: 0.8000 - precision_183: 0.8000 - recall_183: 0.8000 - val_loss: 0.7841 - val_accuracy: 0.5000 - val_precision_183: 0.5000 - val_recall_183: 0.3000\")\n",
    "meta_results.append(\"3/3 [==============================] - 0s 129ms/step - loss: 0.4344 - accuracy: 0.8500 - precision_184: 0.8684 - recall_184: 0.8250 - val_loss: 0.6026 - val_accuracy: 0.7000 - val_precision_184: 0.6667 - val_recall_184: 0.8000\")\n",
    "meta_results.append(\"3/3 [==============================] - 0s 135ms/step - loss: 0.5167 - accuracy: 0.7375 - precision_185: 0.7111 - recall_185: 0.8000 - val_loss: 0.5716 - val_accuracy: 0.7000 - val_precision_185: 0.7500 - val_recall_185: 0.6000\")\n",
    "\n",
    "METRICS = [interpret(result) for result in meta_results]"
   ]
  },
  {
   "cell_type": "code",
   "execution_count": 43,
   "metadata": {},
   "outputs": [
    {
     "data": {
      "text/plain": [
       "(50, 6)"
      ]
     },
     "execution_count": 43,
     "metadata": {},
     "output_type": "execute_result"
    }
   ],
   "source": [
    "METRICS = np.array(METRICS)\n",
    "\n",
    "METRICS = np.delete(METRICS, obj=3, axis=1)\n",
    "METRICS.shape"
   ]
  },
  {
   "cell_type": "code",
   "execution_count": 44,
   "metadata": {},
   "outputs": [
    {
     "name": "stdout",
     "output_type": "stream",
     "text": [
      "training accuracy : 0.759 ± 0.058\n",
      "training precision : 0.785 ± 0.081\n",
      "training recall : 0.725 ± 0.078\n",
      "validation accuracy : 0.688 ± 0.068\n",
      "validation precision : 0.711 ± 0.091\n",
      "validation recall : 0.658 ± 0.181\n"
     ]
    }
   ],
   "source": [
    "train_acc = METRICS[:, 0]\n",
    "train_pres = METRICS[:, 1]\n",
    "train_recall = METRICS[:, 2]\n",
    "val_acc = METRICS[:, 3]\n",
    "val_pres = METRICS[:, 4]\n",
    "val_recall = METRICS[:, 5]\n",
    "\n",
    "print(f\"training accuracy : {round(train_acc.mean(), 3)} ± {round(train_acc.std(), 3)}\")\n",
    "print(f\"training precision : {round(train_pres.mean(), 3)} ± {round(train_pres.std(), 3)}\")\n",
    "print(f\"training recall : {round(train_recall.mean(), 3)} ± {round(train_recall.std(), 3)}\")\n",
    "print(f\"validation accuracy : {round(val_acc.mean(), 3)} ± {round(val_acc.std(), 3)}\")\n",
    "print(f\"validation precision : {round(val_pres.mean(), 3)} ± {round(val_pres.std(), 3)}\")\n",
    "print(f\"validation recall : {round(val_recall.mean(), 3)} ± {round(val_recall.std(), 3)}\")\n"
   ]
  },
  {
   "cell_type": "code",
   "execution_count": 45,
   "metadata": {},
   "outputs": [
    {
     "name": "stdout",
     "output_type": "stream",
     "text": [
      "training F1 : 0.75 ± 0.06\n",
      "validation F1 : 0.665 ± 0.115\n"
     ]
    }
   ],
   "source": [
    "def hmean(pres, recall):\n",
    "    return 2 * pres * recall / (pres + recall)\n",
    "\n",
    "train_f1 = hmean(train_pres, train_recall)\n",
    "val_f1 = hmean(val_pres, val_recall)\n",
    "print(f\"training F1 : {round(train_f1.mean(), 3)} ± {round(train_f1.std(), 3)}\")\n",
    "print(f\"validation F1 : {round(val_f1.mean(), 3)} ± {round(val_f1.std(), 3)}\")"
   ]
  },
  {
   "cell_type": "code",
   "execution_count": 46,
   "metadata": {},
   "outputs": [],
   "source": [
    "METRICS_DICT = {i : [] for i in range(5)}\n",
    "\n",
    "for i, metric in enumerate(METRICS): \n",
    "    METRICS_DICT[i % 5].append(metric)\n",
    "\n",
    "for i, value in METRICS_DICT.items():\n",
    "    METRICS_DICT[i] = np.array(METRICS_DICT[i])"
   ]
  },
  {
   "cell_type": "code",
   "execution_count": 47,
   "metadata": {},
   "outputs": [
    {
     "data": {
      "image/png": "[encoded data removed]",
      "text/plain": [
       "<Figure size 504x432 with 1 Axes>"
      ]
     },
     "metadata": {
      "needs_background": "light"
     },
     "output_type": "display_data"
    },
    {
     "data": {
      "image/png": "[encoded data removed]",
      "text/plain": [
       "<Figure size 504x432 with 1 Axes>"
      ]
     },
     "metadata": {
      "needs_background": "light"
     },
     "output_type": "display_data"
    },
    {
     "data": {
      "image/png": "[encoded data removed]",
      "text/plain": [
       "<Figure size 504x432 with 1 Axes>"
      ]
     },
     "metadata": {
      "needs_background": "light"
     },
     "output_type": "display_data"
    },
    {
     "data": {
      "image/png": "[encoded data removed]",
      "text/plain": [
       "<Figure size 504x432 with 1 Axes>"
      ]
     },
     "metadata": {
      "needs_background": "light"
     },
     "output_type": "display_data"
    },
    {
     "data": {
      "image/png": "[encoded data removed]",
      "text/plain": [
       "<Figure size 504x432 with 1 Axes>"
      ]
     },
     "metadata": {
      "needs_background": "light"
     },
     "output_type": "display_data"
    },
    {
     "data": {
      "image/png": "[encoded data removed]",
      "text/plain": [
       "<Figure size 504x432 with 1 Axes>"
      ]
     },
     "metadata": {
      "needs_background": "light"
     },
     "output_type": "display_data"
    }
   ],
   "source": [
    "import matplotlib.pyplot as plt\n",
    "import numpy as np\n",
    "\n",
    "for FOLD_NUMBER in range(6): \n",
    "    \n",
    "    if FOLD_NUMBER == 5: \n",
    "        training_acc = round(METRICS[:, 0].mean(), 3)\n",
    "        training_precision = round(METRICS[:, 1].mean(), 3)\n",
    "        training_recall = round(METRICS[:, 2].mean(), 3)\n",
    "        validation_acc = round(METRICS[:, 3].mean(), 3)\n",
    "        validation_precision = round(METRICS[:, 4].mean(), 3)\n",
    "        validation_recall = round(METRICS[:, 5].mean(), 3)\n",
    "\n",
    "        train_f1 = hmean(training_precision, train_recall)\n",
    "        val_f1 = hmean(validation_precision, validation_recall)\n",
    "    \n",
    "    else : \n",
    "        metrics = METRICS_DICT[FOLD_NUMBER]\n",
    "        training_acc = round(metrics[:, 0].mean(), 3)\n",
    "        training_precision = round(metrics[:, 1].mean(), 3)\n",
    "        training_recall = round(metrics[:, 2].mean(), 3)\n",
    "        validation_acc = round(metrics[:, 3].mean(), 3)\n",
    "        validation_precision = round(metrics[:, 4].mean(), 3)\n",
    "        validation_recall = round(metrics[:, 5].mean(), 3)\n",
    "\n",
    "\n",
    "        training_f1 = hmean(metrics[:, 1], metrics[:, 2]).mean()\n",
    "        validation_f1 = hmean(metrics[:, 3], metrics[:, 4]).mean()\n",
    "\n",
    "    labels = ['Accuracy', \"Precision\", \"Recall\", \"F1\"]\n",
    "\n",
    "    x = np.arange(len(labels))  # the label locations\n",
    "    width = 0.4  # the width of the bars\n",
    "\n",
    "    fig, ax = plt.subplots()\n",
    "    fig.set_size_inches(7, 6)\n",
    "    rects1 = ax.bar(x - width/2, [training_acc, training_precision, training_recall, training_f1], width, label='Training', color = \"tab:blue\")\n",
    "    rects2 = ax.bar(x + width/2, [validation_acc, validation_precision, validation_recall, validation_f1], width, label='Validation', color=\"tab:green\")\n",
    "\n",
    "    # Add some text for labels, title and custom x-axis tick labels, etc.\n",
    "    ax.set_ylabel('Metric')\n",
    "    if FOLD_NUMBER != 5: \n",
    "        ax.set_title(f\"Training vs. Testing Metrics: Fold {FOLD_NUMBER + 1} (No Aug)\")\n",
    "    else: \n",
    "        ax.set_title(\"Training vs. Testing Metrics All Folds (No Aug)\")\n",
    "    ax.set_xticks(x)\n",
    "    ax.set_xticklabels(labels)\n",
    "    ax.legend(loc=\"upper right\")\n",
    "\n",
    "    #ax.bar_label(rects1, padding=3)\n",
    "    #ax.bar_label(rects2, padding=3)\n",
    "\n",
    "    if FOLD_NUMBER != 5 : \n",
    "        plt.savefig(f\"balanced_plots/train_vs_test_{FOLD_NUMBER + 1}_naug.png\")\n",
    "\n",
    "    else: \n",
    "        plt.savefig(\"balanced_plots/train_vs_test_all_naug.png\")\n",
    "    plt.show()"
   ]
  },
  {
   "cell_type": "code",
   "execution_count": null,
   "metadata": {},
   "outputs": [],
   "source": []
  }
 ],
 "metadata": {
  "interpreter": {
   "hash": "aee8b7b246df8f9039afb4144a1f6fd8d2ca17a180786b69acc140d282b71a49"
  },
  "kernelspec": {
   "display_name": "Python 3.8.3 64-bit",
   "name": "python3"
  },
  "language_info": {
   "codemirror_mode": {
    "name": "ipython",
    "version": 3
   },
   "file_extension": ".py",
   "mimetype": "text/x-python",
   "name": "python",
   "nbconvert_exporter": "python",
   "pygments_lexer": "ipython3",
   "version": "3.8.3"
  }
 },
 "nbformat": 4,
 "nbformat_minor": 2
}
