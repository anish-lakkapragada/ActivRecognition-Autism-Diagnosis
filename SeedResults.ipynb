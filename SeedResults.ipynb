{
 "cells": [
  {
   "cell_type": "code",
   "execution_count": 1,
   "metadata": {},
   "outputs": [],
   "source": [
    "import os"
   ]
  },
  {
   "cell_type": "code",
   "execution_count": 6,
   "metadata": {},
   "outputs": [],
   "source": [
    "import pickle\n",
    "import numpy as np, matplotlib.pyplot as plt\n",
    "\n",
    "with open(\"mean_landmark_hundred_seeds_results\", 'rb') as f: \n",
    " (META_RESULT_MATRIX, AVERAGE_AUROCS, AVERAGE_TPRS) = pickle.load(f)"
   ]
  },
  {
   "cell_type": "code",
   "execution_count": 7,
   "metadata": {},
   "outputs": [],
   "source": [
    "def all_info_for_approach(META_RESULT_MATRIX, AVERAGE_AUROCS, AVERAGE_TPRS, approach):\n",
    "    \n",
    "    # plot the ROC curve \n",
    "\n",
    "    average_tprs = np.mean(np.array(AVERAGE_TPRS), axis = 0)\n",
    "    meta_avg_tpr = np.mean(average_tprs, axis = 0) \n",
    "    base_fpr = np.linspace(0, 1, 101) \n",
    "    \n",
    "    plt.plot(base_fpr, average_tprs, label = \"average of runs\")\n",
    "\n",
    "    std_tpr = np.std(AVERAGE_TPRS, axis=0)\n",
    "    tprs_upper = np.minimum(np.mean(AVERAGE_TPRS,axis=0) + std_tpr, 1)\n",
    "    tprs_lower = np.maximum(np.mean(AVERAGE_TPRS,axis=0) - std_tpr, 0)\n",
    "    plt.fill_between(base_fpr, tprs_lower, tprs_upper, color='grey', alpha=.3, label=r'$\\pm$ 1 std. dev.')\n",
    "    plt.xlim([0.0, 1.0])\n",
    "    plt.ylim([0.0, 1.05])\n",
    "    plt.plot([0, 1], [0, 1], color='navy', linestyle='--', label = \"chance\")\n",
    "    plt.xlabel('False Positive Rate')\n",
    "    plt.ylabel('True Positive Rate')\n",
    "    plt.title(f'{approach} Average ROC Curve')\n",
    "    plt.legend(loc=\"lower right\")\n",
    "\n",
    "    plt.savefig(f\"seed_plots/{approach} ROC Curve\")\n",
    "\n",
    "    plt.show()\n",
    "\n",
    "\n",
    "    # receive evaluation for basically everything\n",
    "    METRICS = []\n",
    "    for fold_results in np.array_split(META_RESULT_MATRIX, 100):\n",
    "        \"\"\"cluster based on cross validtion run\"\"\"\n",
    "        METRICS.append(np.mean(fold_results, axis = 0)) \n",
    "\n",
    "    METRICS = np.around(np.array(METRICS), 3)\n",
    "    print(f\"training accuracy : {np.mean(METRICS[:, 0])} +/- {np.std(METRICS[:, 0])}\")\n",
    "    print(f\"training precision : {np.mean(METRICS[:, 1])} +/- {np.std(METRICS[:, 1])}\")\n",
    "    print(f\"training recall : {np.mean(METRICS[:, 2])} +/- {np.std(METRICS[:, 2])}\")\n",
    "    print(f\"training f1 : {np.mean(METRICS[:, 3])} +/- {np.std(METRICS[:, 3])}\")\n",
    "    print(f\"validation accuracy : {np.mean(METRICS[:, 4])} +/- {np.std(METRICS[:, 4])}\")\n",
    "    print(f\"validation precision : {np.mean(METRICS[:, 5])} +/- {np.std(METRICS[:, 5])}\")\n",
    "    print(f\"validation recall : {np.mean(METRICS[:, 6])} +/- {np.std(METRICS[:, 6])}\")\n",
    "    print(f\"validation f1 : {np.mean(METRICS[:, 7])} +/- {np.std(METRICS[:, 7])}\")\n",
    "    print(f\"average auroc : {np.mean(AVERAGE_AUROCS)} +/- {np.std(AVERAGE_AUROCS)}\")"
   ]
  },
  {
   "cell_type": "code",
   "execution_count": 8,
   "metadata": {},
   "outputs": [
    {
     "data": {
      "text/plain": [
       "(500, 8)"
      ]
     },
     "execution_count": 8,
     "metadata": {},
     "output_type": "execute_result"
    }
   ],
   "source": [
    "np.array(META_RESULT_MATRIX).shape"
   ]
  },
  {
   "cell_type": "code",
   "execution_count": 9,
   "metadata": {},
   "outputs": [
    {
     "data": {
      "image/png": "[encoded data removed]",
      "text/plain": [
       "<Figure size 432x288 with 1 Axes>"
      ]
     },
     "metadata": {
      "needs_background": "light"
     },
     "output_type": "display_data"
    },
    {
     "name": "stdout",
     "output_type": "stream",
     "text": [
      "training accuracy : 0.6915800000000002 +/- 0.04108897175642145\n",
      "training precision : 0.70384 +/- 0.052918563850505244\n",
      "training recall : 0.7055500000000002 +/- 0.07073858565167952\n",
      "training f1 : 0.68868 +/- 0.05120876487477509\n",
      "validation accuracy : 0.6553000000000001 +/- 0.045397246612542484\n",
      "validation precision : 0.6667099999999999 +/- 0.07396286838677905\n",
      "validation recall : 0.669 +/- 0.09630680142129111\n",
      "validation f1 : 0.6421899999999999 +/- 0.06772277238861385\n",
      "average auroc : 0.7265499999999999 +/- 0.04365967819395833\n"
     ]
    }
   ],
   "source": [
    "all_info_for_approach(META_RESULT_MATRIX, AVERAGE_AUROCS, AVERAGE_TPRS, approach = \"Mean Landmark\")"
   ]
  },
  {
   "cell_type": "markdown",
   "metadata": {},
   "source": [
    "# lets run p-value tests on all (validation) results for all metrics"
   ]
  },
  {
   "cell_type": "code",
   "execution_count": 12,
   "metadata": {},
   "outputs": [],
   "source": [
    "with open(\"mean_landmark_hundred_seeds_results\", 'rb') as f: \n",
    " (MEAN_META_RESULT_MATRIX, AVERAGE_AUROCS, AVERAGE_TPRS) = pickle.load(f)\n"
   ]
  },
  {
   "cell_type": "code",
   "execution_count": 13,
   "metadata": {},
   "outputs": [],
   "source": [
    "with open(\"one_landmark_hundred_seeds_results\", 'rb') as f: \n",
    " (ONE_META_RESULT_MATRIX, AVERAGE_AUROCS, AVERAGE_TPRS) = pickle.load(f)\n",
    "\n",
    "with open(\"all_landmarks_hundred_seeds_results\", 'rb') as f: \n",
    " (ALL_META_RESULT_MATRIX, AVERAGE_AUROCS, AVERAGE_TPRS) = pickle.load(f)\n",
    "\n",
    "with open(\"six_landmarks_hundred_seeds_results\", 'rb') as f: \n",
    " (SIX_META_RESULT_MATRIX, AVERAGE_AUROCS, AVERAGE_TPRS) = pickle.load(f)"
   ]
  },
  {
   "cell_type": "code",
   "execution_count": 28,
   "metadata": {},
   "outputs": [],
   "source": [
    "def boil(matrix): \n",
    "    matrix = np.array_split(matrix, 100)\n",
    "    return np.array([np.mean(fold_results, axis = 0) for fold_results in matrix])"
   ]
  },
  {
   "cell_type": "code",
   "execution_count": 30,
   "metadata": {},
   "outputs": [],
   "source": [
    "MEAN_META_RESULT_MATRIX, ONE_META_RESULT_MATRIX, ALL_META_RESULT_MATRIX, SIX_META_RESULT_MATRIX = [np.array(mat) for mat in [MEAN_META_RESULT_MATRIX, ONE_META_RESULT_MATRIX, ALL_META_RESULT_MATRIX, SIX_META_RESULT_MATRIX]]\n",
    "MEAN_META_RESULT_MATRIX, ONE_META_RESULT_MATRIX, ALL_META_RESULT_MATRIX, SIX_META_RESULT_MATRIX = list(map(boil, [MEAN_META_RESULT_MATRIX, ONE_META_RESULT_MATRIX, ALL_META_RESULT_MATRIX, SIX_META_RESULT_MATRIX]))"
   ]
  },
  {
   "cell_type": "code",
   "execution_count": 31,
   "metadata": {},
   "outputs": [
    {
     "data": {
      "text/plain": [
       "(100, 8)"
      ]
     },
     "execution_count": 31,
     "metadata": {},
     "output_type": "execute_result"
    }
   ],
   "source": [
    "MEAN_META_RESULT_MATRIX.shape"
   ]
  },
  {
   "cell_type": "code",
   "execution_count": 32,
   "metadata": {},
   "outputs": [],
   "source": [
    "approaches = ['mean', 'one', 'all', 'six']\n",
    "metrics = list(map(lambda x : \"validation \" + x, [\"accuracy\", \"precision\", \"recall\", \"F1\"]))\n",
    "approach_matrix = {approach : matrix for approach, matrix in zip(approaches, [MEAN_META_RESULT_MATRIX, ONE_META_RESULT_MATRIX, ALL_META_RESULT_MATRIX, SIX_META_RESULT_MATRIX])}"
   ]
  },
  {
   "cell_type": "code",
   "execution_count": 33,
   "metadata": {},
   "outputs": [
    {
     "data": {
      "text/plain": [
       "['validation accuracy',\n",
       " 'validation precision',\n",
       " 'validation recall',\n",
       " 'validation F1']"
      ]
     },
     "execution_count": 33,
     "metadata": {},
     "output_type": "execute_result"
    }
   ],
   "source": [
    "metrics"
   ]
  },
  {
   "cell_type": "code",
   "execution_count": 34,
   "metadata": {},
   "outputs": [
    {
     "name": "stdout",
     "output_type": "stream",
     "text": [
      "mean vs one\n",
      "for validation accuracy : 0.6677298768921249\n",
      "for validation precision : 0.8498462215261376\n",
      "for validation recall : 0.41682879441214116\n",
      "for validation F1 : 0.4992904697063305\n",
      "\n",
      "\n",
      "mean vs all\n",
      "for validation accuracy : 5.538265534222322e-06\n",
      "for validation precision : 1.650578472857774e-05\n",
      "for validation recall : 0.15397328926548498\n",
      "for validation F1 : 0.0015635287494645547\n",
      "\n",
      "\n",
      "mean vs six\n",
      "for validation accuracy : 1.3820978126569102e-12\n",
      "for validation precision : 4.414133943807913e-09\n",
      "for validation recall : 0.5911320307512684\n",
      "for validation F1 : 3.4204992548060963e-07\n",
      "\n",
      "\n",
      "one vs all\n",
      "for validation accuracy : 2.3364389601819195e-05\n",
      "for validation precision : 7.797161703050459e-06\n",
      "for validation recall : 0.009891807294584729\n",
      "for validation F1 : 0.014722388841188812\n",
      "\n",
      "\n",
      "one vs six\n",
      "for validation accuracy : 4.998551068561382e-12\n",
      "for validation precision : 1.970241660876049e-09\n",
      "for validation recall : 0.6565656358715914\n",
      "for validation F1 : 6.938870923445502e-06\n",
      "\n",
      "\n",
      "all vs six\n",
      "for validation accuracy : 6.90104230681058e-05\n",
      "for validation precision : 0.006843791169350617\n",
      "for validation recall : 0.004258697174221717\n",
      "for validation F1 : 0.0011347005570090155\n",
      "\n",
      "\n"
     ]
    }
   ],
   "source": [
    "from scipy.stats import ttest_ind\n",
    "for i in range(4): \n",
    "    for j in range(i + 1, 4): \n",
    "        print(f\"{approaches[i]} vs {approaches[j]}\")\n",
    "        for k in range(4):\n",
    "            print(f\"for {metrics[k]} : {ttest_ind(approach_matrix[approaches[i]][:, 4 + k], approach_matrix[approaches[j]][:, 4 + k]).pvalue}\")\n",
    "        print(\"\\n\")"
   ]
  },
  {
   "cell_type": "code",
   "execution_count": null,
   "metadata": {},
   "outputs": [],
   "source": []
  },
  {
   "cell_type": "code",
   "execution_count": null,
   "metadata": {},
   "outputs": [],
   "source": []
  }
 ],
 "metadata": {
  "interpreter": {
   "hash": "aee8b7b246df8f9039afb4144a1f6fd8d2ca17a180786b69acc140d282b71a49"
  },
  "kernelspec": {
   "display_name": "Python 3.8.3 64-bit",
   "language": "python",
   "name": "python3"
  },
  "language_info": {
   "codemirror_mode": {
    "name": "ipython",
    "version": 3
   },
   "file_extension": ".py",
   "mimetype": "text/x-python",
   "name": "python",
   "nbconvert_exporter": "python",
   "pygments_lexer": "ipython3",
   "version": "3.8.3"
  },
  "orig_nbformat": 4
 },
 "nbformat": 4,
 "nbformat_minor": 2
}
